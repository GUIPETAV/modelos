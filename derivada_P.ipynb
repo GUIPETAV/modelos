{
  "cells": [
    {
      "cell_type": "markdown",
      "metadata": {
        "id": "mbCRD_2u8NQk"
      },
      "source": [
        "# Sumário\n",
        "\n",
        "1. [Pré-Processamento](Pré)\n",
        "2. [Machine Learning](ml)\n",
        "3. [Gráficos](gf)\n",
        "\n"
      ]
    },
    {
      "cell_type": "markdown",
      "metadata": {
        "id": "9ozcfCfUE2Bs"
      },
      "source": [
        "# Pré-Processamento dados Reais\n"
      ]
    },
    {
      "cell_type": "code",
      "execution_count": 33,
      "metadata": {
        "id": "SWRk8G3fB8Sx"
      },
      "outputs": [],
      "source": [
        "import pandas as pd\n",
        "import os\n",
        "import numpy as np\n"
      ]
    },
    {
      "cell_type": "code",
      "execution_count": 34,
      "metadata": {
        "id": "GSh0FwRoG4Jc"
      },
      "outputs": [],
      "source": [
        "\n",
        "df1 = pd.read_csv('https://raw.githubusercontent.com/GUIPETAV/Base/main/df1.csv')# falha de subcarga\n",
        "df2 = pd.read_csv('https://raw.githubusercontent.com/GUIPETAV/Base/main/df2.csv')# sem falha de subcarga\n"
      ]
    },
    {
      "cell_type": "code",
      "execution_count": 35,
      "metadata": {
        "id": "UbTJIBbD3mS4"
      },
      "outputs": [],
      "source": [
        "df10 = pd.read_csv('https://raw.githubusercontent.com/GUIPETAV/Base/main/df10.csv') # falha de subcarga 10%\n",
        "df20 = pd.read_csv('https://raw.githubusercontent.com/GUIPETAV/Base/main/df20.csv') # falha de subcarga 20%\n",
        "df15 = pd.read_csv('https://raw.githubusercontent.com/GUIPETAV/Base/main/df15.csv') # falha de subcarga 15%\n",
        "dfbs = pd.read_csv('https://raw.githubusercontent.com/GUIPETAV/Base/main/dfbs.csv') #  sem de falha de subcarga"
      ]
    },
    {
      "cell_type": "code",
      "execution_count": 36,
      "metadata": {
        "colab": {
          "base_uri": "https://localhost:8080/",
          "height": 551
        },
        "id": "3XoDbCXb4j8F",
        "outputId": "b39c26ac-7292-4473-a7af-7f6c859d3191"
      },
      "outputs": [
        {
          "data": {
            "text/html": [
              "<div>\n",
              "<style scoped>\n",
              "    .dataframe tbody tr th:only-of-type {\n",
              "        vertical-align: middle;\n",
              "    }\n",
              "\n",
              "    .dataframe tbody tr th {\n",
              "        vertical-align: top;\n",
              "    }\n",
              "\n",
              "    .dataframe thead th {\n",
              "        text-align: right;\n",
              "    }\n",
              "</style>\n",
              "<table border=\"1\" class=\"dataframe\">\n",
              "  <thead>\n",
              "    <tr style=\"text-align: right;\">\n",
              "      <th></th>\n",
              "      <th>Colunas do df2 com nomes diferentes do dfbs</th>\n",
              "      <th>Colunas do dfbs com nomes diferentes do df2</th>\n",
              "    </tr>\n",
              "  </thead>\n",
              "  <tbody>\n",
              "    <tr>\n",
              "      <th>0</th>\n",
              "      <td>RTU_REFG_SUCT_TEMP_2</td>\n",
              "      <td>RTU_SEN_CAPA</td>\n",
              "    </tr>\n",
              "    <tr>\n",
              "      <th>1</th>\n",
              "      <td>RTU_REFG_DISC_PRES_1</td>\n",
              "      <td>RTU_REFG_DISC_PRES</td>\n",
              "    </tr>\n",
              "    <tr>\n",
              "      <th>2</th>\n",
              "      <td>time</td>\n",
              "      <td>RTU_REFG_SUCT_TEMP</td>\n",
              "    </tr>\n",
              "    <tr>\n",
              "      <th>3</th>\n",
              "      <td>RTU_REFG_SUCT_TEMP_1</td>\n",
              "      <td>RTU_TOT_CAPA</td>\n",
              "    </tr>\n",
              "    <tr>\n",
              "      <th>4</th>\n",
              "      <td>date</td>\n",
              "      <td>RTU_RA_FLOW</td>\n",
              "    </tr>\n",
              "    <tr>\n",
              "      <th>5</th>\n",
              "      <td>RTU_REFG_COND_TEMP_2</td>\n",
              "      <td>RTU_REFG_DISC_TEMP</td>\n",
              "    </tr>\n",
              "    <tr>\n",
              "      <th>6</th>\n",
              "      <td>RTU_REFG_COND_TEMP_1</td>\n",
              "      <td>RTU_STG_STA</td>\n",
              "    </tr>\n",
              "    <tr>\n",
              "      <th>7</th>\n",
              "      <td>RTU_REFG_SUCT_PRES_1</td>\n",
              "      <td>RTU_REFG_COND_PRES</td>\n",
              "    </tr>\n",
              "    <tr>\n",
              "      <th>8</th>\n",
              "      <td>RTU_REFG_SUCT_PRES_2</td>\n",
              "      <td>RTU_REFG_SUCT_PRES</td>\n",
              "    </tr>\n",
              "    <tr>\n",
              "      <th>9</th>\n",
              "      <td>RTU_REFG_DISC_TEMP_1</td>\n",
              "      <td>RTU_REFG_COND_TEMP</td>\n",
              "    </tr>\n",
              "    <tr>\n",
              "      <th>10</th>\n",
              "      <td>RTU_MA_TEMP</td>\n",
              "      <td>RTU_OA_FLOW</td>\n",
              "    </tr>\n",
              "    <tr>\n",
              "      <th>11</th>\n",
              "      <td>RTU_REFG_DISC_PRES_2</td>\n",
              "      <td>ZA_TEMP_SPT</td>\n",
              "    </tr>\n",
              "    <tr>\n",
              "      <th>12</th>\n",
              "      <td>month</td>\n",
              "      <td>None</td>\n",
              "    </tr>\n",
              "    <tr>\n",
              "      <th>13</th>\n",
              "      <td>RTU_MA_HUM</td>\n",
              "      <td>None</td>\n",
              "    </tr>\n",
              "    <tr>\n",
              "      <th>14</th>\n",
              "      <td>RTU_REFG_DISC_TEMP_2</td>\n",
              "      <td>None</td>\n",
              "    </tr>\n",
              "    <tr>\n",
              "      <th>15</th>\n",
              "      <td>RTU_LA_COND_TEMP</td>\n",
              "      <td>None</td>\n",
              "    </tr>\n",
              "  </tbody>\n",
              "</table>\n",
              "</div>"
            ],
            "text/plain": [
              "   Colunas do df2 com nomes diferentes do dfbs  \\\n",
              "0                         RTU_REFG_SUCT_TEMP_2   \n",
              "1                         RTU_REFG_DISC_PRES_1   \n",
              "2                                         time   \n",
              "3                         RTU_REFG_SUCT_TEMP_1   \n",
              "4                                         date   \n",
              "5                         RTU_REFG_COND_TEMP_2   \n",
              "6                         RTU_REFG_COND_TEMP_1   \n",
              "7                         RTU_REFG_SUCT_PRES_1   \n",
              "8                         RTU_REFG_SUCT_PRES_2   \n",
              "9                         RTU_REFG_DISC_TEMP_1   \n",
              "10                                 RTU_MA_TEMP   \n",
              "11                        RTU_REFG_DISC_PRES_2   \n",
              "12                                       month   \n",
              "13                                  RTU_MA_HUM   \n",
              "14                        RTU_REFG_DISC_TEMP_2   \n",
              "15                            RTU_LA_COND_TEMP   \n",
              "\n",
              "   Colunas do dfbs com nomes diferentes do df2  \n",
              "0                                 RTU_SEN_CAPA  \n",
              "1                           RTU_REFG_DISC_PRES  \n",
              "2                           RTU_REFG_SUCT_TEMP  \n",
              "3                                 RTU_TOT_CAPA  \n",
              "4                                  RTU_RA_FLOW  \n",
              "5                           RTU_REFG_DISC_TEMP  \n",
              "6                                  RTU_STG_STA  \n",
              "7                           RTU_REFG_COND_PRES  \n",
              "8                           RTU_REFG_SUCT_PRES  \n",
              "9                           RTU_REFG_COND_TEMP  \n",
              "10                                 RTU_OA_FLOW  \n",
              "11                                 ZA_TEMP_SPT  \n",
              "12                                        None  \n",
              "13                                        None  \n",
              "14                                        None  \n",
              "15                                        None  "
            ]
          },
          "execution_count": 36,
          "metadata": {},
          "output_type": "execute_result"
        }
      ],
      "source": [
        "import pandas as pd\n",
        "\n",
        "\n",
        "# Obter os nomes das colunas de ambos os DataFrames\n",
        "columns_df2 = set(df2.columns)\n",
        "columns_dfbs = set(dfbs.columns)\n",
        "\n",
        "# Encontrar as colunas com nomes diferentes\n",
        "different_columns_df2 = columns_df2.difference(columns_dfbs)\n",
        "different_columns_dfbs = columns_dfbs.difference(columns_df2)\n",
        "\n",
        "# Criar listas vazias para as colunas do DataFrame\n",
        "different_columns_df2_list = list(different_columns_df2)\n",
        "different_columns_dfbs_list = list(different_columns_dfbs)\n",
        "\n",
        "# Preencher com None para manter as listas com o mesmo tamanho\n",
        "max_length = max(len(different_columns_df2_list), len(different_columns_dfbs_list))\n",
        "different_columns_df2_list.extend([None] * (max_length - len(different_columns_df2_list)))\n",
        "different_columns_dfbs_list.extend([None] * (max_length - len(different_columns_dfbs_list)))\n",
        "\n",
        "# Criar um DataFrame para a tabela\n",
        "table_data = {\n",
        "    'Colunas do df2 com nomes diferentes do dfbs': different_columns_df2_list,\n",
        "    'Colunas do dfbs com nomes diferentes do df2': different_columns_dfbs_list\n",
        "}\n",
        "\n",
        "result_table = pd.DataFrame(table_data)\n",
        "\n",
        "\n",
        "result_table"
      ]
    },
    {
      "cell_type": "code",
      "execution_count": 37,
      "metadata": {
        "id": "THYdm66H50ii"
      },
      "outputs": [],
      "source": [
        "# Remover as features incongruentes\n",
        "\n",
        "columns_to_drop_real = ['Unnamed: 0','time','date','month'\n",
        "    'RTU_MA_HUM', 'RTU_MA_TEMP', 'RTU_LA_COND_TEMP',]"
      ]
    },
    {
      "cell_type": "code",
      "execution_count": 38,
      "metadata": {
        "id": "8SGMxIiqLU39"
      },
      "outputs": [],
      "source": [
        "df1_t = df1.assign(Target = 1) # falha de subcarga\n",
        "\n",
        "df2_t = df2.assign(Target = 0) # não falha de subcarga\n",
        "\n"
      ]
    },
    {
      "cell_type": "code",
      "execution_count": 39,
      "metadata": {
        "id": "GFfhB98XRqk8"
      },
      "outputs": [],
      "source": [
        "# Eliminando  os momentos de desligameno do sistema no  site 2 de forma continua\n",
        "# Seleciona as linhas que não contêm zero na FAN_WAAT e 'COMP_WATT'.\n",
        "\n",
        "df1_c = df1_t.loc[(df1_t['RTU_SA_FAN_WATT'] != 0) & (df1_t['RTU_COMP_WATT'] != 0)]\n",
        "df2_c = df2_t.loc[(df2_t['RTU_SA_FAN_WATT'] != 0) & (df2_t['RTU_COMP_WATT'] != 0)]"
      ]
    },
    {
      "cell_type": "code",
      "execution_count": 40,
      "metadata": {
        "id": "NFFu2OEAxpGc"
      },
      "outputs": [],
      "source": [
        "# Cria uma nova feature com a soma das pressões\n",
        "df1_c = df1_c.assign(\n",
        "    RTU_REFG_DISC_PRES=df1_c['RTU_REFG_DISC_PRES_1'] + df1_c['RTU_REFG_DISC_PRES_2'],\n",
        "    RTU_REFG_SUCT_PRES=df1_c['RTU_REFG_SUCT_PRES_1'] + df1_c['RTU_REFG_SUCT_PRES_2'])\n",
        "\n",
        "df2_c = df2_c.assign(\n",
        "    RTU_REFG_DISC_PRES=df2_c['RTU_REFG_DISC_PRES_1'] + df2_c['RTU_REFG_DISC_PRES_2'],\n",
        "    RTU_REFG_SUCT_PRES=df2_c['RTU_REFG_SUCT_PRES_1'] + df2_c['RTU_REFG_SUCT_PRES_2'])\n"
      ]
    },
    {
      "cell_type": "markdown",
      "metadata": {},
      "source": [
        "#### Padronizar a Pressão "
      ]
    },
    {
      "cell_type": "code",
      "execution_count": 41,
      "metadata": {},
      "outputs": [],
      "source": [
        "# Passo 1: Calcular a Derivada da Pressão (N-1) por Minuto\n",
        "\n",
        "# Certifique-se de que as colunas de data/hora estão no formato de data/hora do pandas\n",
        "df1_c['Datetime'] = pd.to_datetime(df1_c['Datetime'])\n",
        "\n",
        "df2_c['Datetime'] = pd.to_datetime(df2_c['Datetime'])\n",
        "\n",
        "# Ordene o DataFrame pela coluna 'DataHora' (caso não esteja ordenado)\n",
        "df1_c.sort_values(by='Datetime', inplace=True)\n",
        "\n",
        "df2_c.sort_values(by='Datetime', inplace=True)\n",
        "\n",
        "\n",
        "# Calcule a derivada por minuto para 'RTU_REFG_DISC_PRES'\n",
        "\n",
        "df1_c['Derivada_RTU_REFG_DISC_PRES'] = df1_c['RTU_REFG_DISC_PRES'].diff() / df1_c['Datetime'].diff().dt.total_seconds()\n",
        "df2_c['Derivada_RTU_REFG_DISC_PRES'] = df2_c['RTU_REFG_DISC_PRES'].diff() / df2_c['Datetime'].diff().dt.total_seconds()\n",
        "\n",
        "\n",
        "# Calcule a derivada por minuto para 'RTU_REFG_SUCT_PRES'\n",
        "df1_c['Derivada_RTU_REFG_SUCT_PRES'] = df1_c['RTU_REFG_SUCT_PRES'].diff() / df1_c['Datetime'].diff().dt.total_seconds()\n",
        "\n",
        "df2_c['Derivada_RTU_REFG_SUCT_PRES'] = df2_c['RTU_REFG_SUCT_PRES'].diff() / df2_c['Datetime'].diff().dt.total_seconds()\n",
        "\n"
      ]
    },
    {
      "cell_type": "code",
      "execution_count": 42,
      "metadata": {},
      "outputs": [],
      "source": [
        "# Passo 2 Calcular a Média móvel \n",
        "\n",
        "\n",
        "janela_media_movel = 1440   # Janela de um dia (1440 minutos)\n",
        "\n",
        "# Calcule a média móvel da derivada por minuto para 'RTU_REFG_DISC_PRES'\n",
        "df1_c['MediaMovel_Derivada_RTU_REFG_DISC_PRES'] = df1_c['Derivada_RTU_REFG_DISC_PRES'].rolling(window=janela_media_movel).mean()\n",
        "\n",
        "# Calcule a média móvel da derivada por minuto para 'RTU_REFG_SUCT_PRES'\n",
        "df1_c['MediaMovel_Derivada_RTU_REFG_SUCT_PRES'] = df1_c['Derivada_RTU_REFG_SUCT_PRES'].rolling(window=janela_media_movel).mean()\n",
        "\n",
        "# Calcule a média móvel da derivada por minuto para 'RTU_REFG_DISC_PRES'\n",
        "df2_c['MediaMovel_Derivada_RTU_REFG_DISC_PRES'] = df2_c['Derivada_RTU_REFG_DISC_PRES'].rolling(window=janela_media_movel).mean()\n",
        "\n",
        "# Calcule a média móvel da derivada por minuto para 'RTU_REFG_SUCT_PRES'\n",
        "df2_c['MediaMovel_Derivada_RTU_REFG_SUCT_PRES'] = df2_c['Derivada_RTU_REFG_SUCT_PRES'].rolling(window=janela_media_movel).mean()"
      ]
    },
    {
      "cell_type": "code",
      "execution_count": 43,
      "metadata": {},
      "outputs": [],
      "source": [
        "# Passo 3 Calcular o Desvio Padrão\n",
        "\n",
        "\n",
        "janela_um_dia = 1440 # Defina a janela de 1 dia (1440 minutos)\n",
        "\n",
        "\n",
        "# Calcule o desvio padrão da derivada por minuto dentro da janela de 1 dia para 'RTU_REFG_DISC_PRES'\n",
        "df1_c['DesvioPadrao_Derivada_RTU_REFG_DISC_PRES'] = df1_c['Derivada_RTU_REFG_DISC_PRES'].rolling(window=janela_um_dia).std()\n",
        "\n",
        "# Calcule o desvio padrão da derivada por minuto dentro da janela de 1 dia para 'RTU_REFG_SUCT_PRES'\n",
        "df1_c['DesvioPadrao_Derivada_RTU_REFG_SUCT_PRES'] = df1_c['Derivada_RTU_REFG_SUCT_PRES'].rolling(window=janela_um_dia).std()\n",
        "\n",
        "# Calcule o desvio padrão da derivada por minuto dentro da janela de 1 dia para 'RTU_REFG_DISC_PRES'\n",
        "df2_c['DesvioPadrao_Derivada_RTU_REFG_DISC_PRES'] = df2_c['Derivada_RTU_REFG_DISC_PRES'].rolling(window=janela_um_dia).std()\n",
        "\n",
        "# Calcule o desvio padrão da derivada por minuto dentro da janela de 1 dia para 'RTU_REFG_SUCT_PRES'\n",
        "df2_c['DesvioPadrao_Derivada_RTU_REFG_SUCT_PRES'] = df2_c['Derivada_RTU_REFG_SUCT_PRES'].rolling(window=janela_um_dia).std()\n",
        "\n"
      ]
    },
    {
      "cell_type": "code",
      "execution_count": 44,
      "metadata": {},
      "outputs": [],
      "source": [
        "# Passo 4 - Padronizar Manualmente\n",
        "\n",
        "# Calcule o Z-Score para cada minuto usando a média e o desvio padrão das colunas\n",
        "df1_c['Z_Score_Derivada_RTU_REFG_SUCT_PRES'] = (df1_c['Derivada_RTU_REFG_SUCT_PRES'] - df1_c['MediaMovel_Derivada_RTU_REFG_SUCT_PRES']) / df1_c['DesvioPadrao_Derivada_RTU_REFG_SUCT_PRES']\n",
        "\n",
        "df1_c['Z_Score_Derivada_RTU_REFG_DISC_PRES'] = (df1_c['Derivada_RTU_REFG_DISC_PRES'] - df1_c['MediaMovel_Derivada_RTU_REFG_DISC_PRES']) / df1_c['DesvioPadrao_Derivada_RTU_REFG_DISC_PRES']\n",
        "\n",
        "df2_c['Z_Score_Derivada_RTU_REFG_SUCT_PRES'] = (df2_c['Derivada_RTU_REFG_SUCT_PRES'] - df2_c['MediaMovel_Derivada_RTU_REFG_SUCT_PRES']) / df2_c['DesvioPadrao_Derivada_RTU_REFG_SUCT_PRES']\n",
        "\n",
        "df2_c['Z_Score_Derivada_RTU_REFG_DISC_PRES'] = (df2_c['Derivada_RTU_REFG_DISC_PRES'] - df2_c['MediaMovel_Derivada_RTU_REFG_DISC_PRES']) / df2_c['DesvioPadrao_Derivada_RTU_REFG_DISC_PRES']"
      ]
    },
    {
      "cell_type": "code",
      "execution_count": 45,
      "metadata": {},
      "outputs": [
        {
          "data": {
            "text/html": [
              "<div>\n",
              "<style scoped>\n",
              "    .dataframe tbody tr th:only-of-type {\n",
              "        vertical-align: middle;\n",
              "    }\n",
              "\n",
              "    .dataframe tbody tr th {\n",
              "        vertical-align: top;\n",
              "    }\n",
              "\n",
              "    .dataframe thead th {\n",
              "        text-align: right;\n",
              "    }\n",
              "</style>\n",
              "<table border=\"1\" class=\"dataframe\">\n",
              "  <thead>\n",
              "    <tr style=\"text-align: right;\">\n",
              "      <th></th>\n",
              "      <th>Unnamed: 0</th>\n",
              "      <th>Datetime</th>\n",
              "      <th>date</th>\n",
              "      <th>time</th>\n",
              "      <th>month</th>\n",
              "      <th>RTU_COMP_WATT</th>\n",
              "      <th>RTU_LA_COND_TEMP</th>\n",
              "      <th>RTU_MA_HUM</th>\n",
              "      <th>RTU_MA_TEMP</th>\n",
              "      <th>RTU_OA_HUM</th>\n",
              "      <th>...</th>\n",
              "      <th>RTU_REFG_DISC_PRES</th>\n",
              "      <th>RTU_REFG_SUCT_PRES</th>\n",
              "      <th>Derivada_RTU_REFG_DISC_PRES</th>\n",
              "      <th>Derivada_RTU_REFG_SUCT_PRES</th>\n",
              "      <th>MediaMovel_Derivada_RTU_REFG_DISC_PRES</th>\n",
              "      <th>MediaMovel_Derivada_RTU_REFG_SUCT_PRES</th>\n",
              "      <th>DesvioPadrao_Derivada_RTU_REFG_DISC_PRES</th>\n",
              "      <th>DesvioPadrao_Derivada_RTU_REFG_SUCT_PRES</th>\n",
              "      <th>Z_Score_Derivada_RTU_REFG_SUCT_PRES</th>\n",
              "      <th>Z_Score_Derivada_RTU_REFG_DISC_PRES</th>\n",
              "    </tr>\n",
              "  </thead>\n",
              "  <tbody>\n",
              "    <tr>\n",
              "      <th>258579</th>\n",
              "      <td>258579</td>\n",
              "      <td>2021-09-29 16:58:00</td>\n",
              "      <td>2021-09-29</td>\n",
              "      <td>16:58:00</td>\n",
              "      <td>9</td>\n",
              "      <td>255.000015</td>\n",
              "      <td>18.664831</td>\n",
              "      <td>56.994507</td>\n",
              "      <td>19.833544</td>\n",
              "      <td>63.551861</td>\n",
              "      <td>...</td>\n",
              "      <td>15.702408</td>\n",
              "      <td>15.802378</td>\n",
              "      <td>-0.007623</td>\n",
              "      <td>0.011428</td>\n",
              "      <td>-0.003095</td>\n",
              "      <td>0.001649</td>\n",
              "      <td>0.029066</td>\n",
              "      <td>0.027648</td>\n",
              "      <td>0.353729</td>\n",
              "      <td>-0.155764</td>\n",
              "    </tr>\n",
              "    <tr>\n",
              "      <th>258580</th>\n",
              "      <td>258580</td>\n",
              "      <td>2021-09-29 16:59:00</td>\n",
              "      <td>2021-09-29</td>\n",
              "      <td>16:59:00</td>\n",
              "      <td>9</td>\n",
              "      <td>1983.000122</td>\n",
              "      <td>20.207827</td>\n",
              "      <td>56.758289</td>\n",
              "      <td>19.832773</td>\n",
              "      <td>62.563267</td>\n",
              "      <td>...</td>\n",
              "      <td>17.758046</td>\n",
              "      <td>13.318046</td>\n",
              "      <td>0.034261</td>\n",
              "      <td>-0.041406</td>\n",
              "      <td>-0.003072</td>\n",
              "      <td>0.001620</td>\n",
              "      <td>0.029082</td>\n",
              "      <td>0.027671</td>\n",
              "      <td>-1.554894</td>\n",
              "      <td>1.283675</td>\n",
              "    </tr>\n",
              "    <tr>\n",
              "      <th>258581</th>\n",
              "      <td>258581</td>\n",
              "      <td>2021-09-29 17:00:00</td>\n",
              "      <td>2021-09-29</td>\n",
              "      <td>17:00:00</td>\n",
              "      <td>9</td>\n",
              "      <td>445.000031</td>\n",
              "      <td>22.923174</td>\n",
              "      <td>57.022457</td>\n",
              "      <td>19.856422</td>\n",
              "      <td>62.345287</td>\n",
              "      <td>...</td>\n",
              "      <td>15.447086</td>\n",
              "      <td>14.390031</td>\n",
              "      <td>-0.038516</td>\n",
              "      <td>0.017866</td>\n",
              "      <td>-0.003099</td>\n",
              "      <td>0.001632</td>\n",
              "      <td>0.029097</td>\n",
              "      <td>0.027674</td>\n",
              "      <td>0.586623</td>\n",
              "      <td>-1.217202</td>\n",
              "    </tr>\n",
              "    <tr>\n",
              "      <th>258582</th>\n",
              "      <td>258582</td>\n",
              "      <td>2021-09-29 17:01:00</td>\n",
              "      <td>2021-09-29</td>\n",
              "      <td>17:01:00</td>\n",
              "      <td>9</td>\n",
              "      <td>3532.000000</td>\n",
              "      <td>22.515036</td>\n",
              "      <td>57.199764</td>\n",
              "      <td>19.847624</td>\n",
              "      <td>63.332333</td>\n",
              "      <td>...</td>\n",
              "      <td>18.055580</td>\n",
              "      <td>13.126932</td>\n",
              "      <td>0.043475</td>\n",
              "      <td>-0.021052</td>\n",
              "      <td>-0.003069</td>\n",
              "      <td>0.001617</td>\n",
              "      <td>0.029123</td>\n",
              "      <td>0.027681</td>\n",
              "      <td>-0.818953</td>\n",
              "      <td>1.598178</td>\n",
              "    </tr>\n",
              "    <tr>\n",
              "      <th>258583</th>\n",
              "      <td>258583</td>\n",
              "      <td>2021-09-29 17:02:00</td>\n",
              "      <td>2021-09-29</td>\n",
              "      <td>17:02:00</td>\n",
              "      <td>9</td>\n",
              "      <td>2766.000000</td>\n",
              "      <td>23.849806</td>\n",
              "      <td>57.171261</td>\n",
              "      <td>19.763884</td>\n",
              "      <td>62.924618</td>\n",
              "      <td>...</td>\n",
              "      <td>17.939455</td>\n",
              "      <td>10.044896</td>\n",
              "      <td>-0.001935</td>\n",
              "      <td>-0.051367</td>\n",
              "      <td>-0.003070</td>\n",
              "      <td>0.001582</td>\n",
              "      <td>0.029123</td>\n",
              "      <td>0.027716</td>\n",
              "      <td>-1.910436</td>\n",
              "      <td>0.038970</td>\n",
              "    </tr>\n",
              "  </tbody>\n",
              "</table>\n",
              "<p>5 rows × 41 columns</p>\n",
              "</div>"
            ],
            "text/plain": [
              "        Unnamed: 0            Datetime        date      time  month  \\\n",
              "258579      258579 2021-09-29 16:58:00  2021-09-29  16:58:00      9   \n",
              "258580      258580 2021-09-29 16:59:00  2021-09-29  16:59:00      9   \n",
              "258581      258581 2021-09-29 17:00:00  2021-09-29  17:00:00      9   \n",
              "258582      258582 2021-09-29 17:01:00  2021-09-29  17:01:00      9   \n",
              "258583      258583 2021-09-29 17:02:00  2021-09-29  17:02:00      9   \n",
              "\n",
              "        RTU_COMP_WATT  RTU_LA_COND_TEMP  RTU_MA_HUM  RTU_MA_TEMP  RTU_OA_HUM  \\\n",
              "258579     255.000015         18.664831   56.994507    19.833544   63.551861   \n",
              "258580    1983.000122         20.207827   56.758289    19.832773   62.563267   \n",
              "258581     445.000031         22.923174   57.022457    19.856422   62.345287   \n",
              "258582    3532.000000         22.515036   57.199764    19.847624   63.332333   \n",
              "258583    2766.000000         23.849806   57.171261    19.763884   62.924618   \n",
              "\n",
              "        ...  RTU_REFG_DISC_PRES  RTU_REFG_SUCT_PRES  \\\n",
              "258579  ...           15.702408           15.802378   \n",
              "258580  ...           17.758046           13.318046   \n",
              "258581  ...           15.447086           14.390031   \n",
              "258582  ...           18.055580           13.126932   \n",
              "258583  ...           17.939455           10.044896   \n",
              "\n",
              "        Derivada_RTU_REFG_DISC_PRES  Derivada_RTU_REFG_SUCT_PRES  \\\n",
              "258579                    -0.007623                     0.011428   \n",
              "258580                     0.034261                    -0.041406   \n",
              "258581                    -0.038516                     0.017866   \n",
              "258582                     0.043475                    -0.021052   \n",
              "258583                    -0.001935                    -0.051367   \n",
              "\n",
              "        MediaMovel_Derivada_RTU_REFG_DISC_PRES  \\\n",
              "258579                               -0.003095   \n",
              "258580                               -0.003072   \n",
              "258581                               -0.003099   \n",
              "258582                               -0.003069   \n",
              "258583                               -0.003070   \n",
              "\n",
              "        MediaMovel_Derivada_RTU_REFG_SUCT_PRES  \\\n",
              "258579                                0.001649   \n",
              "258580                                0.001620   \n",
              "258581                                0.001632   \n",
              "258582                                0.001617   \n",
              "258583                                0.001582   \n",
              "\n",
              "        DesvioPadrao_Derivada_RTU_REFG_DISC_PRES  \\\n",
              "258579                                  0.029066   \n",
              "258580                                  0.029082   \n",
              "258581                                  0.029097   \n",
              "258582                                  0.029123   \n",
              "258583                                  0.029123   \n",
              "\n",
              "        DesvioPadrao_Derivada_RTU_REFG_SUCT_PRES  \\\n",
              "258579                                  0.027648   \n",
              "258580                                  0.027671   \n",
              "258581                                  0.027674   \n",
              "258582                                  0.027681   \n",
              "258583                                  0.027716   \n",
              "\n",
              "        Z_Score_Derivada_RTU_REFG_SUCT_PRES  \\\n",
              "258579                             0.353729   \n",
              "258580                            -1.554894   \n",
              "258581                             0.586623   \n",
              "258582                            -0.818953   \n",
              "258583                            -1.910436   \n",
              "\n",
              "        Z_Score_Derivada_RTU_REFG_DISC_PRES  \n",
              "258579                            -0.155764  \n",
              "258580                             1.283675  \n",
              "258581                            -1.217202  \n",
              "258582                             1.598178  \n",
              "258583                             0.038970  \n",
              "\n",
              "[5 rows x 41 columns]"
            ]
          },
          "execution_count": 45,
          "metadata": {},
          "output_type": "execute_result"
        }
      ],
      "source": [
        "df2_c.tail()"
      ]
    },
    {
      "cell_type": "code",
      "execution_count": 46,
      "metadata": {
        "id": "N4DwMtUmGi3j"
      },
      "outputs": [],
      "source": [
        "# Elimina as features\n",
        "columns_to_drop = ['Unnamed: 0',\n",
        "    'RTU_MA_HUM', 'RTU_MA_TEMP', 'RTU_LA_COND_TEMP',\n",
        "    'RTU_REFG_DISC_PRES_1', 'RTU_REFG_DISC_PRES_2',\n",
        "    'RTU_REFG_SUCT_PRES_1', 'RTU_REFG_SUCT_PRES_2',\n",
        "    'RTU_REFG_COND_TEMP_1', 'RTU_REFG_COND_TEMP_2',\n",
        "    'RTU_REFG_SUCT_TEMP_1', 'RTU_REFG_SUCT_TEMP_2',\n",
        "    'RTU_REFG_DISC_TEMP_1', 'RTU_REFG_DISC_TEMP_2',\n",
        "]\n",
        "\n",
        "df1_x = df1_c.drop(columns_to_drop, axis=1)\n",
        "df2_x = df2_c.drop(columns_to_drop, axis=1)"
      ]
    },
    {
      "cell_type": "code",
      "execution_count": 47,
      "metadata": {
        "id": "CrmXc9uFCxm5"
      },
      "outputs": [],
      "source": [
        "# Converter fahrenheit para celsius\n",
        "def fahrenheit_to_celsius(fahrenheit):\n",
        "    celsius = (fahrenheit - 32) * 5/9\n",
        "    return celsius\n",
        "\n",
        "# Colunas a serem convertidas\n",
        "columns_to_convert = ['RTU_RA_TEMP', 'RTU_OA_TEMP', 'ZA_TEMP', 'RTU_REFG_COND_TEMP',\n",
        "                      'RTU_REFG_SUCT_TEMP', 'RTU_REFG_DISC_TEMP','RTU_SA_TEMP']\n",
        "\n",
        "\n",
        "# Aplicando a conversão para Celsius\n",
        "df20[columns_to_convert] = df20[columns_to_convert].apply(fahrenheit_to_celsius)\n",
        "dfbs[columns_to_convert] = dfbs[columns_to_convert].apply(fahrenheit_to_celsius)"
      ]
    },
    {
      "cell_type": "code",
      "execution_count": 48,
      "metadata": {
        "id": "QtXQsCXFFV3_"
      },
      "outputs": [],
      "source": [
        "# Converter colunas de Pascal para Bar\n",
        "df20['RTU_REFG_SUCT_PRES'], df20['RTU_REFG_DISC_PRES'] = df20['RTU_REFG_SUCT_PRES'] /100000 , df20['RTU_REFG_DISC_PRES'] /100000\n",
        "dfbs['RTU_REFG_SUCT_PRES'], dfbs['RTU_REFG_DISC_PRES'] = dfbs['RTU_REFG_SUCT_PRES'] / 100000, dfbs['RTU_REFG_DISC_PRES'] /100000"
      ]
    },
    {
      "cell_type": "code",
      "execution_count": 49,
      "metadata": {
        "id": "mv83qY5YtxeY"
      },
      "outputs": [],
      "source": [
        "\n",
        "df20_t = df20.assign(Target = 1) # falha de subcarga\n",
        "\n",
        "dfbs_t = dfbs.assign(Target = 0) #  não falha"
      ]
    },
    {
      "cell_type": "code",
      "execution_count": 50,
      "metadata": {
        "id": "jzXToH-owerq"
      },
      "outputs": [],
      "source": [
        "# Eliminando  os momentos de desligameno do sistema no  site 2 de forma continua\n",
        "# Seleciona as linhas que não contêm zero na FAN_WAAT e 'COMP_WATT'.\n",
        "\n",
        "df20_c = df20_t.loc[(df20_t['RTU_COMP_WATT'] != 0) ]\n",
        "dfbs_c = dfbs_t.loc[(dfbs_t['RTU_COMP_WATT'] != 0) ]"
      ]
    },
    {
      "cell_type": "code",
      "execution_count": 51,
      "metadata": {
        "id": "KC3ZGGEM_hYg"
      },
      "outputs": [],
      "source": [
        "columns_to_drop = ['Unnamed: 0',\n",
        "    'RTU_RA_FLOW', 'RTU_OA_FLOW', 'RTU_STG_STA',\n",
        "    'RTU_REFG_COND_PRES', 'RTU_SEN_CAPA',\n",
        "    'RTU_TOT_CAPA', 'ZA_TEMP_SPT',\n",
        "]\n",
        "\n",
        "df20_c = df20_c.drop(columns_to_drop, axis=1)\n",
        "dfbs_c = dfbs_c.drop(columns_to_drop, axis=1)\n"
      ]
    },
    {
      "cell_type": "code",
      "execution_count": 52,
      "metadata": {
        "id": "15kgpxbiAuDB"
      },
      "outputs": [],
      "source": [
        "# Definir y real\n",
        "\n",
        "df1_y= df1_c['Target']\n",
        "df2_y= df2_c['Target']"
      ]
    },
    {
      "cell_type": "code",
      "execution_count": 53,
      "metadata": {
        "id": "tCtpfDxtE8_l"
      },
      "outputs": [],
      "source": [
        "# # Definir X real\n",
        "# df1_x= df1_x.drop(['Datetime','Target', 'RTU_REFG_COND_TEMP', 'RTU_REFG_SUCT_TEMP', 'RTU_REFG_DISC_TEMP'], axis=1)\n",
        "# df2_x= df2_x.drop(['Datetime','Target', 'RTU_REFG_COND_TEMP', 'RTU_REFG_SUCT_TEMP', 'RTU_REFG_DISC_TEMP'], axis=1)\n"
      ]
    },
    {
      "cell_type": "code",
      "execution_count": 54,
      "metadata": {
        "id": "19SfsiEQVHHa"
      },
      "outputs": [
        {
          "ename": "KeyError",
          "evalue": "\"['RTU_REFG_COND_TEMP', 'RTU_REFG_SUCT_TEMP', 'RTU_REFG_DISC_TEMP'] not found in axis\"",
          "output_type": "error",
          "traceback": [
            "\u001b[0;31m---------------------------------------------------------------------------\u001b[0m",
            "\u001b[0;31mKeyError\u001b[0m                                  Traceback (most recent call last)",
            "Cell \u001b[0;32mIn[54], line 2\u001b[0m\n\u001b[1;32m      1\u001b[0m \u001b[39m# Definir X real sem features temp modificadas\u001b[39;00m\n\u001b[0;32m----> 2\u001b[0m df1_x\u001b[39m=\u001b[39m df1_x\u001b[39m.\u001b[39;49mdrop([\u001b[39m'\u001b[39;49m\u001b[39mDatetime\u001b[39;49m\u001b[39m'\u001b[39;49m,\u001b[39m'\u001b[39;49m\u001b[39mTarget\u001b[39;49m\u001b[39m'\u001b[39;49m,\u001b[39m'\u001b[39;49m\u001b[39mRTU_RA_TEMP\u001b[39;49m\u001b[39m'\u001b[39;49m,\u001b[39m'\u001b[39;49m\u001b[39mRTU_OA_TEMP\u001b[39;49m\u001b[39m'\u001b[39;49m,\u001b[39m'\u001b[39;49m\u001b[39mZA_TEMP\u001b[39;49m\u001b[39m'\u001b[39;49m, \u001b[39m'\u001b[39;49m\u001b[39mRTU_REFG_COND_TEMP\u001b[39;49m\u001b[39m'\u001b[39;49m, \u001b[39m'\u001b[39;49m\u001b[39mRTU_REFG_SUCT_TEMP\u001b[39;49m\u001b[39m'\u001b[39;49m, \u001b[39m'\u001b[39;49m\u001b[39mRTU_REFG_DISC_TEMP\u001b[39;49m\u001b[39m'\u001b[39;49m,\u001b[39m'\u001b[39;49m\u001b[39mRTU_SA_TEMP\u001b[39;49m\u001b[39m'\u001b[39;49m], axis\u001b[39m=\u001b[39;49m\u001b[39m1\u001b[39;49m)\n\u001b[1;32m      3\u001b[0m df2_x\u001b[39m=\u001b[39m df2_x\u001b[39m.\u001b[39mdrop([\u001b[39m'\u001b[39m\u001b[39mDatetime\u001b[39m\u001b[39m'\u001b[39m,\u001b[39m'\u001b[39m\u001b[39mTarget\u001b[39m\u001b[39m'\u001b[39m,\u001b[39m'\u001b[39m\u001b[39mRTU_RA_TEMP\u001b[39m\u001b[39m'\u001b[39m,\u001b[39m'\u001b[39m\u001b[39mRTU_OA_TEMP\u001b[39m\u001b[39m'\u001b[39m,\u001b[39m'\u001b[39m\u001b[39mZA_TEMP\u001b[39m\u001b[39m'\u001b[39m, \u001b[39m'\u001b[39m\u001b[39mRTU_REFG_COND_TEMP\u001b[39m\u001b[39m'\u001b[39m, \u001b[39m'\u001b[39m\u001b[39mRTU_REFG_SUCT_TEMP\u001b[39m\u001b[39m'\u001b[39m, \u001b[39m'\u001b[39m\u001b[39mRTU_REFG_DISC_TEMP\u001b[39m\u001b[39m'\u001b[39m,\u001b[39m'\u001b[39m\u001b[39mRTU_SA_TEMP\u001b[39m\u001b[39m'\u001b[39m], axis\u001b[39m=\u001b[39m\u001b[39m1\u001b[39m)\n",
            "File \u001b[0;32m~/.local/lib/python3.8/site-packages/pandas/core/frame.py:5258\u001b[0m, in \u001b[0;36mDataFrame.drop\u001b[0;34m(self, labels, axis, index, columns, level, inplace, errors)\u001b[0m\n\u001b[1;32m   5110\u001b[0m \u001b[39mdef\u001b[39;00m \u001b[39mdrop\u001b[39m(\n\u001b[1;32m   5111\u001b[0m     \u001b[39mself\u001b[39m,\n\u001b[1;32m   5112\u001b[0m     labels: IndexLabel \u001b[39m=\u001b[39m \u001b[39mNone\u001b[39;00m,\n\u001b[0;32m   (...)\u001b[0m\n\u001b[1;32m   5119\u001b[0m     errors: IgnoreRaise \u001b[39m=\u001b[39m \u001b[39m\"\u001b[39m\u001b[39mraise\u001b[39m\u001b[39m\"\u001b[39m,\n\u001b[1;32m   5120\u001b[0m ) \u001b[39m-\u001b[39m\u001b[39m>\u001b[39m DataFrame \u001b[39m|\u001b[39m \u001b[39mNone\u001b[39;00m:\n\u001b[1;32m   5121\u001b[0m \u001b[39m    \u001b[39m\u001b[39m\"\"\"\u001b[39;00m\n\u001b[1;32m   5122\u001b[0m \u001b[39m    Drop specified labels from rows or columns.\u001b[39;00m\n\u001b[1;32m   5123\u001b[0m \n\u001b[0;32m   (...)\u001b[0m\n\u001b[1;32m   5256\u001b[0m \u001b[39m            weight  1.0     0.8\u001b[39;00m\n\u001b[1;32m   5257\u001b[0m \u001b[39m    \"\"\"\u001b[39;00m\n\u001b[0;32m-> 5258\u001b[0m     \u001b[39mreturn\u001b[39;00m \u001b[39msuper\u001b[39;49m()\u001b[39m.\u001b[39;49mdrop(\n\u001b[1;32m   5259\u001b[0m         labels\u001b[39m=\u001b[39;49mlabels,\n\u001b[1;32m   5260\u001b[0m         axis\u001b[39m=\u001b[39;49maxis,\n\u001b[1;32m   5261\u001b[0m         index\u001b[39m=\u001b[39;49mindex,\n\u001b[1;32m   5262\u001b[0m         columns\u001b[39m=\u001b[39;49mcolumns,\n\u001b[1;32m   5263\u001b[0m         level\u001b[39m=\u001b[39;49mlevel,\n\u001b[1;32m   5264\u001b[0m         inplace\u001b[39m=\u001b[39;49minplace,\n\u001b[1;32m   5265\u001b[0m         errors\u001b[39m=\u001b[39;49merrors,\n\u001b[1;32m   5266\u001b[0m     )\n",
            "File \u001b[0;32m~/.local/lib/python3.8/site-packages/pandas/core/generic.py:4549\u001b[0m, in \u001b[0;36mNDFrame.drop\u001b[0;34m(self, labels, axis, index, columns, level, inplace, errors)\u001b[0m\n\u001b[1;32m   4547\u001b[0m \u001b[39mfor\u001b[39;00m axis, labels \u001b[39min\u001b[39;00m axes\u001b[39m.\u001b[39mitems():\n\u001b[1;32m   4548\u001b[0m     \u001b[39mif\u001b[39;00m labels \u001b[39mis\u001b[39;00m \u001b[39mnot\u001b[39;00m \u001b[39mNone\u001b[39;00m:\n\u001b[0;32m-> 4549\u001b[0m         obj \u001b[39m=\u001b[39m obj\u001b[39m.\u001b[39;49m_drop_axis(labels, axis, level\u001b[39m=\u001b[39;49mlevel, errors\u001b[39m=\u001b[39;49merrors)\n\u001b[1;32m   4551\u001b[0m \u001b[39mif\u001b[39;00m inplace:\n\u001b[1;32m   4552\u001b[0m     \u001b[39mself\u001b[39m\u001b[39m.\u001b[39m_update_inplace(obj)\n",
            "File \u001b[0;32m~/.local/lib/python3.8/site-packages/pandas/core/generic.py:4591\u001b[0m, in \u001b[0;36mNDFrame._drop_axis\u001b[0;34m(self, labels, axis, level, errors, only_slice)\u001b[0m\n\u001b[1;32m   4589\u001b[0m         new_axis \u001b[39m=\u001b[39m axis\u001b[39m.\u001b[39mdrop(labels, level\u001b[39m=\u001b[39mlevel, errors\u001b[39m=\u001b[39merrors)\n\u001b[1;32m   4590\u001b[0m     \u001b[39melse\u001b[39;00m:\n\u001b[0;32m-> 4591\u001b[0m         new_axis \u001b[39m=\u001b[39m axis\u001b[39m.\u001b[39;49mdrop(labels, errors\u001b[39m=\u001b[39;49merrors)\n\u001b[1;32m   4592\u001b[0m     indexer \u001b[39m=\u001b[39m axis\u001b[39m.\u001b[39mget_indexer(new_axis)\n\u001b[1;32m   4594\u001b[0m \u001b[39m# Case for non-unique axis\u001b[39;00m\n\u001b[1;32m   4595\u001b[0m \u001b[39melse\u001b[39;00m:\n",
            "File \u001b[0;32m~/.local/lib/python3.8/site-packages/pandas/core/indexes/base.py:6699\u001b[0m, in \u001b[0;36mIndex.drop\u001b[0;34m(self, labels, errors)\u001b[0m\n\u001b[1;32m   6697\u001b[0m \u001b[39mif\u001b[39;00m mask\u001b[39m.\u001b[39many():\n\u001b[1;32m   6698\u001b[0m     \u001b[39mif\u001b[39;00m errors \u001b[39m!=\u001b[39m \u001b[39m\"\u001b[39m\u001b[39mignore\u001b[39m\u001b[39m\"\u001b[39m:\n\u001b[0;32m-> 6699\u001b[0m         \u001b[39mraise\u001b[39;00m \u001b[39mKeyError\u001b[39;00m(\u001b[39mf\u001b[39m\u001b[39m\"\u001b[39m\u001b[39m{\u001b[39;00m\u001b[39mlist\u001b[39m(labels[mask])\u001b[39m}\u001b[39;00m\u001b[39m not found in axis\u001b[39m\u001b[39m\"\u001b[39m)\n\u001b[1;32m   6700\u001b[0m     indexer \u001b[39m=\u001b[39m indexer[\u001b[39m~\u001b[39mmask]\n\u001b[1;32m   6701\u001b[0m \u001b[39mreturn\u001b[39;00m \u001b[39mself\u001b[39m\u001b[39m.\u001b[39mdelete(indexer)\n",
            "\u001b[0;31mKeyError\u001b[0m: \"['RTU_REFG_COND_TEMP', 'RTU_REFG_SUCT_TEMP', 'RTU_REFG_DISC_TEMP'] not found in axis\""
          ]
        }
      ],
      "source": [
        "# Definir X real sem features temp modificadas\n",
        "df1_x= df1_x.drop(['Datetime','Target','RTU_RA_TEMP','RTU_OA_TEMP','ZA_TEMP', 'RTU_REFG_COND_TEMP', 'RTU_REFG_SUCT_TEMP', 'RTU_REFG_DISC_TEMP','RTU_SA_TEMP'], axis=1)\n",
        "df2_x= df2_x.drop(['Datetime','Target','RTU_RA_TEMP','RTU_OA_TEMP','ZA_TEMP', 'RTU_REFG_COND_TEMP', 'RTU_REFG_SUCT_TEMP', 'RTU_REFG_DISC_TEMP','RTU_SA_TEMP'], axis=1)"
      ]
    },
    {
      "cell_type": "code",
      "execution_count": null,
      "metadata": {
        "id": "TN611DS7I75V"
      },
      "outputs": [],
      "source": [
        "# Definir X sim\n",
        "\n",
        "# df20_x= df20_c.drop(['Datetime','Target', 'RTU_REFG_COND_TEMP', 'RTU_REFG_SUCT_TEMP', 'RTU_REFG_DISC_TEMP'], axis=1)\n",
        "# dfbs_x= dfbs_c.drop(['Datetime','Target', 'RTU_REFG_COND_TEMP', 'RTU_REFG_SUCT_TEMP', 'RTU_REFG_DISC_TEMP'], axis=1)"
      ]
    },
    {
      "cell_type": "code",
      "execution_count": null,
      "metadata": {
        "id": "BWLlj4KqFN27"
      },
      "outputs": [],
      "source": [
        "# Definir X sim sem features temp modificadas\n",
        "\n",
        "df20_x= df20_c.drop(['Datetime','Target','RTU_RA_TEMP','RTU_OA_TEMP','ZA_TEMP', 'RTU_REFG_COND_TEMP', 'RTU_REFG_SUCT_TEMP', 'RTU_REFG_DISC_TEMP','RTU_SA_TEMP'], axis=1)\n",
        "dfbs_x= dfbs_c.drop(['Datetime','Target','RTU_RA_TEMP','RTU_OA_TEMP','ZA_TEMP', 'RTU_REFG_COND_TEMP', 'RTU_REFG_SUCT_TEMP', 'RTU_REFG_DISC_TEMP','RTU_SA_TEMP'], axis=1)"
      ]
    },
    {
      "cell_type": "code",
      "execution_count": null,
      "metadata": {
        "id": "GufWhQKXHbrh"
      },
      "outputs": [],
      "source": [
        "# Definir y sim\n",
        "\n",
        "df20_y = df20_c['Target']\n",
        "dfbs_y = dfbs_c['Target']\n"
      ]
    }
  ],
  "metadata": {
    "colab": {
      "collapsed_sections": [
        "NPR7AKXU3oGu"
      ],
      "provenance": []
    },
    "kernelspec": {
      "display_name": "Python 3",
      "name": "python3"
    },
    "language_info": {
      "codemirror_mode": {
        "name": "ipython",
        "version": 3
      },
      "file_extension": ".py",
      "mimetype": "text/x-python",
      "name": "python",
      "nbconvert_exporter": "python",
      "pygments_lexer": "ipython3",
      "version": "3.8.10"
    }
  },
  "nbformat": 4,
  "nbformat_minor": 0
}
