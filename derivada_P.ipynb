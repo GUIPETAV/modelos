{
  "cells": [
    {
      "cell_type": "markdown",
      "metadata": {
        "id": "mbCRD_2u8NQk"
      },
      "source": [
        "# Sumário\n",
        "\n",
        "1. Baixar os arquivos \".csv\"\n",
        "2. Inserir o rótulo (1 falha, o não falha)\n",
        "3. Eliminar os momentos que o aparelho está desligado\n",
        "4. \n"
      ]
    },
    {
      "cell_type": "markdown",
      "metadata": {
        "id": "9ozcfCfUE2Bs"
      },
      "source": [
        "# Pré-Processamento dados Reais\n"
      ]
    },
    {
      "cell_type": "code",
      "execution_count": 59,
      "metadata": {
        "id": "SWRk8G3fB8Sx"
      },
      "outputs": [],
      "source": [
        "import pandas as pd"
      ]
    },
    {
      "cell_type": "markdown",
      "metadata": {},
      "source": [
        "### Baixar os dados do  csv\n"
      ]
    },
    {
      "cell_type": "code",
      "execution_count": 60,
      "metadata": {
        "id": "GSh0FwRoG4Jc"
      },
      "outputs": [],
      "source": [
        "\n",
        "df1 = pd.read_csv('https://raw.githubusercontent.com/GUIPETAV/Base/main/df1.csv')# falha de subcarga\n",
        "df2 = pd.read_csv('https://raw.githubusercontent.com/GUIPETAV/Base/main/df2.csv')# sem falha de subcarga\n"
      ]
    },
    {
      "cell_type": "code",
      "execution_count": 61,
      "metadata": {
        "id": "UbTJIBbD3mS4"
      },
      "outputs": [],
      "source": [
        "df10 = pd.read_csv('https://raw.githubusercontent.com/GUIPETAV/Base/main/df10.csv') # falha de subcarga 10%\n",
        "df20 = pd.read_csv('https://raw.githubusercontent.com/GUIPETAV/Base/main/df20.csv') # falha de subcarga 20%\n",
        "df15 = pd.read_csv('https://raw.githubusercontent.com/GUIPETAV/Base/main/df15.csv') # falha de subcarga 15%\n",
        "dfbs = pd.read_csv('https://raw.githubusercontent.com/GUIPETAV/Base/main/dfbs.csv') #  sem de falha de subcarga"
      ]
    },
    {
      "cell_type": "markdown",
      "metadata": {},
      "source": [
        "### Inserir o target "
      ]
    },
    {
      "cell_type": "code",
      "execution_count": 64,
      "metadata": {
        "id": "8SGMxIiqLU39"
      },
      "outputs": [],
      "source": [
        "# Inserir o target \n",
        "\n",
        "df1_t = df1.assign(Target = 1) # falha de subcarga\n",
        "\n",
        "df2_t = df2.assign(Target = 0) # não falha de subcarga\n",
        "\n",
        "\n",
        "df20_t = df20.assign(Target = 1) # falha de subcarga\n",
        "\n",
        "dfbs_t = dfbs.assign(Target = 0) #  não falha"
      ]
    },
    {
      "cell_type": "markdown",
      "metadata": {},
      "source": [
        "### Eliminar os Momentos Desligados"
      ]
    },
    {
      "cell_type": "code",
      "execution_count": 65,
      "metadata": {
        "id": "GFfhB98XRqk8"
      },
      "outputs": [],
      "source": [
        "# Eliminando  os momentos de desligameno do sistema no  site 2 de forma continua\n",
        "# Seleciona as linhas que não contêm zero na FAN_WAAT e 'COMP_WATT'.\n",
        "\n",
        "df1_c = df1_t.loc[(df1_t['RTU_SA_FAN_WATT'] != 0) & (df1_t['RTU_COMP_WATT'] != 0)]\n",
        "df2_c = df2_t.loc[(df2_t['RTU_SA_FAN_WATT'] != 0) & (df2_t['RTU_COMP_WATT'] != 0)]\n",
        "\n",
        "# Eliminando  os momentos de desligameno do sistema no  site 2 de forma continua\n",
        "# Seleciona as linhas que não contêm zero na FAN_WAAT e 'COMP_WATT'.\n",
        "\n",
        "df20_c = df20_t.loc[(df20_t['RTU_COMP_WATT'] != 0) ]\n",
        "dfbs_c = dfbs_t.loc[(dfbs_t['RTU_COMP_WATT'] != 0) ]\n"
      ]
    },
    {
      "cell_type": "markdown",
      "metadata": {},
      "source": [
        "### Cria a Feature Pressão Total "
      ]
    },
    {
      "cell_type": "code",
      "execution_count": 66,
      "metadata": {
        "id": "NFFu2OEAxpGc"
      },
      "outputs": [],
      "source": [
        "# Cria uma nova feature com a soma das pressões\n",
        "df1_c = df1_c.assign(\n",
        "    RTU_REFG_DISC_PRES=df1_c['RTU_REFG_DISC_PRES_1'] + df1_c['RTU_REFG_DISC_PRES_2'],\n",
        "    RTU_REFG_SUCT_PRES=df1_c['RTU_REFG_SUCT_PRES_1'] + df1_c['RTU_REFG_SUCT_PRES_2'])\n",
        "\n",
        "df2_c = df2_c.assign(\n",
        "    RTU_REFG_DISC_PRES=df2_c['RTU_REFG_DISC_PRES_1'] + df2_c['RTU_REFG_DISC_PRES_2'],\n",
        "    RTU_REFG_SUCT_PRES=df2_c['RTU_REFG_SUCT_PRES_1'] + df2_c['RTU_REFG_SUCT_PRES_2'])\n"
      ]
    },
    {
      "cell_type": "markdown",
      "metadata": {},
      "source": [
        "### Cálculo da derivada da Pressão "
      ]
    },
    {
      "cell_type": "code",
      "execution_count": 67,
      "metadata": {},
      "outputs": [],
      "source": [
        "# Calcular a Derivada da Pressão (N-1) por Minuto\n",
        "\n",
        "# Certifique-se de que as colunas de data/hora estão no formato de data/hora do pandas\n",
        "df1_c['Datetime'] = pd.to_datetime(df1_c['Datetime'])\n",
        "\n",
        "df2_c['Datetime'] = pd.to_datetime(df2_c['Datetime'])\n",
        "\n",
        "# Ordene o DataFrame pela coluna 'DataHora' (caso não esteja ordenado)\n",
        "df1_c.sort_values(by='Datetime', inplace=True)\n",
        "\n",
        "df2_c.sort_values(by='Datetime', inplace=True)\n",
        "\n",
        "\n",
        "# Calcule a derivada por minuto para 'RTU_REFG_DISC_PRES'\n",
        "\n",
        "df1_c['Derivada_RTU_REFG_DISC_PRES'] = df1_c['RTU_REFG_DISC_PRES'].diff() / df1_c['Datetime'].diff().dt.total_seconds()\n",
        "\n",
        "df2_c['Derivada_RTU_REFG_DISC_PRES'] = df2_c['RTU_REFG_DISC_PRES'].diff() / df2_c['Datetime'].diff().dt.total_seconds()\n",
        "\n",
        "\n",
        "# Calcule a derivada por minuto para 'RTU_REFG_SUCT_PRES'\n",
        "\n",
        "df1_c['Derivada_RTU_REFG_SUCT_PRES'] = df1_c['RTU_REFG_SUCT_PRES'].diff() / df1_c['Datetime'].diff().dt.total_seconds()\n",
        "\n",
        "df2_c['Derivada_RTU_REFG_SUCT_PRES'] = df2_c['RTU_REFG_SUCT_PRES'].diff() / df2_c['Datetime'].diff().dt.total_seconds()\n",
        "\n"
      ]
    },
    {
      "cell_type": "markdown",
      "metadata": {},
      "source": [
        "#### Cálculo da média móvel (janela 1 dia)"
      ]
    },
    {
      "cell_type": "code",
      "execution_count": 68,
      "metadata": {},
      "outputs": [],
      "source": [
        "# Calcular a Média móvel \n",
        "\n",
        "\n",
        "janela_media_movel = 1440   # Janela de um dia (1440 minutos)\n",
        "\n",
        "# Calcule a média móvel da derivada por minuto para 'RTU_REFG_DISC_PRES'\n",
        "\n",
        "df1_c['MediaMovel_Derivada_RTU_REFG_DISC_PRES'] = df1_c['Derivada_RTU_REFG_DISC_PRES'].rolling(window=janela_media_movel).mean()\n",
        "\n",
        "df2_c['MediaMovel_Derivada_RTU_REFG_DISC_PRES'] = df2_c['Derivada_RTU_REFG_DISC_PRES'].rolling(window=janela_media_movel).mean()\n",
        "\n",
        "# Calcule a média móvel da derivada por minuto para 'RTU_REFG_SUCT_PRES'\n",
        "\n",
        "df1_c['MediaMovel_Derivada_RTU_REFG_SUCT_PRES'] = df1_c['Derivada_RTU_REFG_SUCT_PRES'].rolling(window=janela_media_movel).mean()\n",
        "\n",
        "df2_c['MediaMovel_Derivada_RTU_REFG_SUCT_PRES'] = df2_c['Derivada_RTU_REFG_SUCT_PRES'].rolling(window=janela_media_movel).mean()"
      ]
    },
    {
      "cell_type": "code",
      "execution_count": 69,
      "metadata": {},
      "outputs": [],
      "source": [
        "# Calcular o Desvio Padrão\n",
        "\n",
        "\n",
        "janela_um_dia = 1440 # Defina a janela de 1 dia (1440 minutos)\n",
        "\n",
        "\n",
        "# Calcule o desvio padrão da derivada por minuto dentro da janela de 1 dia para 'RTU_REFG_DISC_PRES'\n",
        "df1_c['DesvioPadrao_Derivada_RTU_REFG_DISC_PRES'] = df1_c['Derivada_RTU_REFG_DISC_PRES'].rolling(window=janela_um_dia).std()\n",
        "\n",
        "df2_c['DesvioPadrao_Derivada_RTU_REFG_DISC_PRES'] = df2_c['Derivada_RTU_REFG_DISC_PRES'].rolling(window=janela_um_dia).std()\n",
        "\n",
        "# Calcule o desvio padrão da derivada por minuto dentro da janela de 1 dia para 'RTU_REFG_SUCT_PRES'\n",
        "\n",
        "df1_c['DesvioPadrao_Derivada_RTU_REFG_SUCT_PRES'] = df1_c['Derivada_RTU_REFG_SUCT_PRES'].rolling(window=janela_um_dia).std()\n",
        "\n",
        "df2_c['DesvioPadrao_Derivada_RTU_REFG_SUCT_PRES'] = df2_c['Derivada_RTU_REFG_SUCT_PRES'].rolling(window=janela_um_dia).std()\n",
        "\n"
      ]
    },
    {
      "cell_type": "code",
      "execution_count": 70,
      "metadata": {},
      "outputs": [],
      "source": [
        "# Padronizar Manualmente\n",
        "\n",
        "# Calcule o Z-Score para cada minuto usando a média e o desvio padrão das colunas\n",
        "df1_c['Z_Score_Derivada_RTU_REFG_SUCT_PRES'] = (df1_c['Derivada_RTU_REFG_SUCT_PRES'] - df1_c['MediaMovel_Derivada_RTU_REFG_SUCT_PRES']) / df1_c['DesvioPadrao_Derivada_RTU_REFG_SUCT_PRES']\n",
        "\n",
        "df2_c['Z_Score_Derivada_RTU_REFG_SUCT_PRES'] = (df2_c['Derivada_RTU_REFG_SUCT_PRES'] - df2_c['MediaMovel_Derivada_RTU_REFG_SUCT_PRES']) / df2_c['DesvioPadrao_Derivada_RTU_REFG_SUCT_PRES']\n",
        "\n",
        "df1_c['Z_Score_Derivada_RTU_REFG_DISC_PRES'] = (df1_c['Derivada_RTU_REFG_DISC_PRES'] - df1_c['MediaMovel_Derivada_RTU_REFG_DISC_PRES']) / df1_c['DesvioPadrao_Derivada_RTU_REFG_DISC_PRES']\n",
        "\n",
        "df2_c['Z_Score_Derivada_RTU_REFG_DISC_PRES'] = (df2_c['Derivada_RTU_REFG_DISC_PRES'] - df2_c['MediaMovel_Derivada_RTU_REFG_DISC_PRES']) / df2_c['DesvioPadrao_Derivada_RTU_REFG_DISC_PRES']"
      ]
    },
    {
      "cell_type": "markdown",
      "metadata": {},
      "source": [
        "### Elimina as features incongruentes?"
      ]
    },
    {
      "cell_type": "code",
      "execution_count": 72,
      "metadata": {
        "id": "N4DwMtUmGi3j"
      },
      "outputs": [],
      "source": [
        "# Elimina as features real \n",
        "columns_to_drop = [\n",
        "    'RTU_MA_HUM', 'RTU_MA_TEMP', 'RTU_LA_COND_TEMP',\n",
        "    'RTU_REFG_DISC_PRES_1', 'RTU_REFG_DISC_PRES_2',\n",
        "    'RTU_REFG_SUCT_PRES_1', 'RTU_REFG_SUCT_PRES_2',\n",
        "    'RTU_REFG_COND_TEMP_1', 'RTU_REFG_COND_TEMP_2',\n",
        "    'RTU_REFG_SUCT_TEMP_1', 'RTU_REFG_SUCT_TEMP_2',\n",
        "    'RTU_REFG_DISC_TEMP_1', 'RTU_REFG_DISC_TEMP_2',\n",
        "    'RTU_REFG_DISC_PRES', 'RTU_REFG_SUCT_PRES',\n",
        "    'Derivada_RTU_REFG_DISC_PRES', 'Derivada_RTU_REFG_SUCT_PRES',\n",
        "    'MediaMovel_Derivada_RTU_REFG_DISC_PRES','MediaMovel_Derivada_RTU_REFG_SUCT_PRES',\n",
        "    'DesvioPadrao_Derivada_RTU_REFG_DISC_PRES','DesvioPadrao_Derivada_RTU_REFG_SUCT_PRES',\n",
        "]\n",
        "\n",
        "df1_f = df1_c.drop(columns_to_drop, axis=1)\n",
        "df2_f = df2_c.drop(columns_to_drop, axis=1)\n",
        "\n"
      ]
    },
    {
      "cell_type": "code",
      "execution_count": 73,
      "metadata": {
        "id": "CrmXc9uFCxm5"
      },
      "outputs": [],
      "source": [
        "# Converter fahrenheit para celsius\n",
        "def fahrenheit_to_celsius(fahrenheit):\n",
        "    celsius = (fahrenheit - 32) * 5/9\n",
        "    return celsius\n",
        "\n",
        "# Colunas a serem convertidas\n",
        "columns_to_convert = ['RTU_RA_TEMP', 'RTU_OA_TEMP', 'ZA_TEMP', 'RTU_REFG_COND_TEMP',\n",
        "                      'RTU_REFG_SUCT_TEMP', 'RTU_REFG_DISC_TEMP','RTU_SA_TEMP']\n",
        "\n",
        "\n",
        "# Aplicando a conversão para Celsius\n",
        "df20_c[columns_to_convert] = df20_c[columns_to_convert].apply(fahrenheit_to_celsius)\n",
        "dfbs_c[columns_to_convert] = dfbs_c[columns_to_convert].apply(fahrenheit_to_celsius)"
      ]
    },
    {
      "cell_type": "markdown",
      "metadata": {},
      "source": [
        "#### Padronizar a Pressão "
      ]
    },
    {
      "cell_type": "code",
      "execution_count": 74,
      "metadata": {},
      "outputs": [],
      "source": [
        "# Converter colunas de Pascal para Bar\n",
        "df20_c['RTU_REFG_SUCT_PRES'], df20_c['RTU_REFG_DISC_PRES'] = df20_c['RTU_REFG_SUCT_PRES'] /100000 , df20_c['RTU_REFG_DISC_PRES'] /100000\n",
        "dfbs_c['RTU_REFG_SUCT_PRES'], dfbs_c['RTU_REFG_DISC_PRES'] = dfbs_c['RTU_REFG_SUCT_PRES'] / 100000, dfbs_c['RTU_REFG_DISC_PRES'] /100000"
      ]
    },
    {
      "cell_type": "code",
      "execution_count": 75,
      "metadata": {},
      "outputs": [],
      "source": [
        "# Passo 1: Calcular a Derivada da Pressão (N-1) por Minuto\n",
        "\n",
        "df20_c = df20_c.copy()\n",
        "dfbs_c = dfbs_c.copy()\n",
        "\n",
        "# Certifique-se de que as colunas de data/hora estão no formato de data/hora do pandas\n",
        "df20_c['Datetime'] = pd.to_datetime(df20_c['Datetime'])\n",
        "\n",
        "dfbs_c['Datetime'] = pd.to_datetime(dfbs_c['Datetime'])\n",
        "\n",
        "# Ordene o DataFrame pela coluna 'DataHora' (caso não esteja ordenado)\n",
        "df20_c.sort_values(by='Datetime', inplace=True)\n",
        "\n",
        "dfbs_c.sort_values(by='Datetime', inplace=True)\n",
        "\n",
        "\n",
        "# Calcule a derivada por minuto para 'RTU_REFG_DISC_PRES'\n",
        "\n",
        "df20_c['Derivada_RTU_REFG_DISC_PRES'] = df20_c['RTU_REFG_DISC_PRES'].diff() / df20_c['Datetime'].diff().dt.total_seconds()\n",
        "\n",
        "dfbs_c['Derivada_RTU_REFG_DISC_PRES'] = dfbs_c['RTU_REFG_DISC_PRES'].diff() / dfbs_c['Datetime'].diff().dt.total_seconds()\n",
        "\n",
        "\n",
        "# Calcule a derivada por minuto para 'RTU_REFG_SUCT_PRES'\n",
        "df20_c['Derivada_RTU_REFG_SUCT_PRES'] = df20_c['RTU_REFG_SUCT_PRES'].diff() / df20_c['Datetime'].diff().dt.total_seconds()\n",
        "\n",
        "dfbs_c['Derivada_RTU_REFG_SUCT_PRES'] = dfbs_c['RTU_REFG_SUCT_PRES'].diff() / dfbs_c['Datetime'].diff().dt.total_seconds()\n",
        "\n"
      ]
    },
    {
      "cell_type": "code",
      "execution_count": 76,
      "metadata": {},
      "outputs": [
        {
          "data": {
            "text/html": [
              "<div>\n",
              "<style scoped>\n",
              "    .dataframe tbody tr th:only-of-type {\n",
              "        vertical-align: middle;\n",
              "    }\n",
              "\n",
              "    .dataframe tbody tr th {\n",
              "        vertical-align: top;\n",
              "    }\n",
              "\n",
              "    .dataframe thead th {\n",
              "        text-align: right;\n",
              "    }\n",
              "</style>\n",
              "<table border=\"1\" class=\"dataframe\">\n",
              "  <thead>\n",
              "    <tr style=\"text-align: right;\">\n",
              "      <th></th>\n",
              "      <th>Datetime</th>\n",
              "      <th>RTU_COMP_WATT</th>\n",
              "      <th>RTU_OA_FLOW</th>\n",
              "      <th>RTU_OA_HUM</th>\n",
              "      <th>RTU_OA_TEMP</th>\n",
              "      <th>RTU_RA_FLOW</th>\n",
              "      <th>RTU_RA_HUM</th>\n",
              "      <th>RTU_RA_TEMP</th>\n",
              "      <th>RTU_REFG_COND_PRES</th>\n",
              "      <th>RTU_REFG_COND_TEMP</th>\n",
              "      <th>...</th>\n",
              "      <th>RTU_SEN_CAPA</th>\n",
              "      <th>RTU_STG_STA</th>\n",
              "      <th>RTU_TOT_CAPA</th>\n",
              "      <th>RTU_TOT_WATT</th>\n",
              "      <th>ZA_HUM</th>\n",
              "      <th>ZA_TEMP</th>\n",
              "      <th>ZA_TEMP_SPT</th>\n",
              "      <th>Target</th>\n",
              "      <th>Derivada_RTU_REFG_DISC_PRES</th>\n",
              "      <th>Derivada_RTU_REFG_SUCT_PRES</th>\n",
              "    </tr>\n",
              "  </thead>\n",
              "  <tbody>\n",
              "    <tr>\n",
              "      <th>0</th>\n",
              "      <td>2018-07-20 01:00:00</td>\n",
              "      <td>1.991743e+06</td>\n",
              "      <td>181.93083</td>\n",
              "      <td>58.777990</td>\n",
              "      <td>55.040030</td>\n",
              "      <td>2941.1106</td>\n",
              "      <td>59.538235</td>\n",
              "      <td>73.803910</td>\n",
              "      <td>24259538.0</td>\n",
              "      <td>77.66258</td>\n",
              "      <td>...</td>\n",
              "      <td>13232641.0</td>\n",
              "      <td>1.0</td>\n",
              "      <td>16450256.00</td>\n",
              "      <td>2.086172e+03</td>\n",
              "      <td>59.538235</td>\n",
              "      <td>73.803910</td>\n",
              "      <td>73.399994</td>\n",
              "      <td>1</td>\n",
              "      <td>NaN</td>\n",
              "      <td>NaN</td>\n",
              "    </tr>\n",
              "    <tr>\n",
              "      <th>1</th>\n",
              "      <td>2018-07-20 01:01:00</td>\n",
              "      <td>1.982156e+03</td>\n",
              "      <td>181.93083</td>\n",
              "      <td>58.826126</td>\n",
              "      <td>55.033990</td>\n",
              "      <td>2941.1106</td>\n",
              "      <td>59.586994</td>\n",
              "      <td>73.555954</td>\n",
              "      <td>24340444.0</td>\n",
              "      <td>77.88830</td>\n",
              "      <td>...</td>\n",
              "      <td>12469841.0</td>\n",
              "      <td>1.0</td>\n",
              "      <td>16648174.00</td>\n",
              "      <td>2.076584e+03</td>\n",
              "      <td>59.586994</td>\n",
              "      <td>73.555954</td>\n",
              "      <td>73.399994</td>\n",
              "      <td>1</td>\n",
              "      <td>1441.400000</td>\n",
              "      <td>2961.116667</td>\n",
              "    </tr>\n",
              "    <tr>\n",
              "      <th>2</th>\n",
              "      <td>2018-07-20 01:02:00</td>\n",
              "      <td>1.982326e+03</td>\n",
              "      <td>181.93083</td>\n",
              "      <td>58.870080</td>\n",
              "      <td>55028.000000</td>\n",
              "      <td>2941.1106</td>\n",
              "      <td>59.631520</td>\n",
              "      <td>73.310135</td>\n",
              "      <td>24327568.0</td>\n",
              "      <td>77.85254</td>\n",
              "      <td>...</td>\n",
              "      <td>12451516.0</td>\n",
              "      <td>1.0</td>\n",
              "      <td>16624992.00</td>\n",
              "      <td>2.076755e+03</td>\n",
              "      <td>59.631520</td>\n",
              "      <td>73.310135</td>\n",
              "      <td>73.399994</td>\n",
              "      <td>1</td>\n",
              "      <td>-206.933333</td>\n",
              "      <td>-282.033333</td>\n",
              "    </tr>\n",
              "    <tr>\n",
              "      <th>3</th>\n",
              "      <td>2018-07-20 01:03:00</td>\n",
              "      <td>1.983721e+03</td>\n",
              "      <td>181.93083</td>\n",
              "      <td>58.909492</td>\n",
              "      <td>55.022015</td>\n",
              "      <td>2941.1106</td>\n",
              "      <td>59.671448</td>\n",
              "      <td>73.066124</td>\n",
              "      <td>24310910.0</td>\n",
              "      <td>77.80606</td>\n",
              "      <td>...</td>\n",
              "      <td>12432533.0</td>\n",
              "      <td>1.0</td>\n",
              "      <td>16590.77</td>\n",
              "      <td>2.078149e+03</td>\n",
              "      <td>59.671448</td>\n",
              "      <td>73.066124</td>\n",
              "      <td>73.399994</td>\n",
              "      <td>1</td>\n",
              "      <td>-289.666667</td>\n",
              "      <td>-529.950000</td>\n",
              "    </tr>\n",
              "    <tr>\n",
              "      <th>4</th>\n",
              "      <td>2018-07-20 01:04:00</td>\n",
              "      <td>1.985772e+03</td>\n",
              "      <td>181.93083</td>\n",
              "      <td>58.944946</td>\n",
              "      <td>55.016030</td>\n",
              "      <td>2941.1106</td>\n",
              "      <td>59.707363</td>\n",
              "      <td>72.824150</td>\n",
              "      <td>24292254.0</td>\n",
              "      <td>77.75399</td>\n",
              "      <td>...</td>\n",
              "      <td>12413394.0</td>\n",
              "      <td>1.0</td>\n",
              "      <td>16550658.00</td>\n",
              "      <td>2.080201e+06</td>\n",
              "      <td>59.707363</td>\n",
              "      <td>72.824150</td>\n",
              "      <td>73.399994</td>\n",
              "      <td>1</td>\n",
              "      <td>-333.800000</td>\n",
              "      <td>-663.716667</td>\n",
              "    </tr>\n",
              "  </tbody>\n",
              "</table>\n",
              "<p>5 rows × 28 columns</p>\n",
              "</div>"
            ],
            "text/plain": [
              "             Datetime  RTU_COMP_WATT  RTU_OA_FLOW  RTU_OA_HUM   RTU_OA_TEMP  \\\n",
              "0 2018-07-20 01:00:00   1.991743e+06    181.93083   58.777990     55.040030   \n",
              "1 2018-07-20 01:01:00   1.982156e+03    181.93083   58.826126     55.033990   \n",
              "2 2018-07-20 01:02:00   1.982326e+03    181.93083   58.870080  55028.000000   \n",
              "3 2018-07-20 01:03:00   1.983721e+03    181.93083   58.909492     55.022015   \n",
              "4 2018-07-20 01:04:00   1.985772e+03    181.93083   58.944946     55.016030   \n",
              "\n",
              "   RTU_RA_FLOW  RTU_RA_HUM  RTU_RA_TEMP  RTU_REFG_COND_PRES  \\\n",
              "0    2941.1106   59.538235    73.803910          24259538.0   \n",
              "1    2941.1106   59.586994    73.555954          24340444.0   \n",
              "2    2941.1106   59.631520    73.310135          24327568.0   \n",
              "3    2941.1106   59.671448    73.066124          24310910.0   \n",
              "4    2941.1106   59.707363    72.824150          24292254.0   \n",
              "\n",
              "   RTU_REFG_COND_TEMP  ...  RTU_SEN_CAPA  RTU_STG_STA  RTU_TOT_CAPA  \\\n",
              "0            77.66258  ...    13232641.0          1.0   16450256.00   \n",
              "1            77.88830  ...    12469841.0          1.0   16648174.00   \n",
              "2            77.85254  ...    12451516.0          1.0   16624992.00   \n",
              "3            77.80606  ...    12432533.0          1.0      16590.77   \n",
              "4            77.75399  ...    12413394.0          1.0   16550658.00   \n",
              "\n",
              "   RTU_TOT_WATT     ZA_HUM    ZA_TEMP  ZA_TEMP_SPT  Target  \\\n",
              "0  2.086172e+03  59.538235  73.803910    73.399994       1   \n",
              "1  2.076584e+03  59.586994  73.555954    73.399994       1   \n",
              "2  2.076755e+03  59.631520  73.310135    73.399994       1   \n",
              "3  2.078149e+03  59.671448  73.066124    73.399994       1   \n",
              "4  2.080201e+06  59.707363  72.824150    73.399994       1   \n",
              "\n",
              "   Derivada_RTU_REFG_DISC_PRES  Derivada_RTU_REFG_SUCT_PRES  \n",
              "0                          NaN                          NaN  \n",
              "1                  1441.400000                  2961.116667  \n",
              "2                  -206.933333                  -282.033333  \n",
              "3                  -289.666667                  -529.950000  \n",
              "4                  -333.800000                  -663.716667  \n",
              "\n",
              "[5 rows x 28 columns]"
            ]
          },
          "execution_count": 76,
          "metadata": {},
          "output_type": "execute_result"
        }
      ],
      "source": [
        "df20_c.head()"
      ]
    },
    {
      "cell_type": "code",
      "execution_count": 77,
      "metadata": {},
      "outputs": [],
      "source": [
        "# Passo 2 Calcular a Média móvel \n",
        "\n",
        "\n",
        "janela_media_movel = 1440   # Janela de um dia (1440 minutos)\n",
        "\n",
        "# Calcule a média móvel da derivada por minuto para 'RTU_REFG_DISC_PRES'\n",
        "df20_c['MediaMovel_Derivada_RTU_REFG_DISC_PRES'] = df20_c['Derivada_RTU_REFG_DISC_PRES'].rolling(window=janela_media_movel).mean()\n",
        "\n",
        "dfbs_c['MediaMovel_Derivada_RTU_REFG_DISC_PRES'] = dfbs_c['Derivada_RTU_REFG_DISC_PRES'].rolling(window=janela_media_movel).mean()\n",
        "\n",
        "# Calcule a média móvel da derivada por minuto para 'RTU_REFG_SUCT_PRES'\n",
        "df20_c['MediaMovel_Derivada_RTU_REFG_SUCT_PRES'] = df20_c['Derivada_RTU_REFG_SUCT_PRES'].rolling(window=janela_media_movel).mean()\n",
        "\n",
        "dfbs_c['MediaMovel_Derivada_RTU_REFG_SUCT_PRES'] = dfbs_c['Derivada_RTU_REFG_SUCT_PRES'].rolling(window=janela_media_movel).mean()"
      ]
    },
    {
      "cell_type": "code",
      "execution_count": 78,
      "metadata": {},
      "outputs": [
        {
          "name": "stdout",
          "output_type": "stream",
          "text": [
            "<class 'pandas.core.frame.DataFrame'>\n",
            "Index: 143084 entries, 0 to 143940\n",
            "Data columns (total 30 columns):\n",
            " #   Column                                  Non-Null Count   Dtype         \n",
            "---  ------                                  --------------   -----         \n",
            " 0   Datetime                                143084 non-null  datetime64[ns]\n",
            " 1   RTU_COMP_WATT                           143084 non-null  float64       \n",
            " 2   RTU_OA_FLOW                             143084 non-null  float64       \n",
            " 3   RTU_OA_HUM                              143084 non-null  float64       \n",
            " 4   RTU_OA_TEMP                             143084 non-null  float64       \n",
            " 5   RTU_RA_FLOW                             143084 non-null  float64       \n",
            " 6   RTU_RA_HUM                              143084 non-null  float64       \n",
            " 7   RTU_RA_TEMP                             143084 non-null  float64       \n",
            " 8   RTU_REFG_COND_PRES                      143084 non-null  float64       \n",
            " 9   RTU_REFG_COND_TEMP                      143084 non-null  float64       \n",
            " 10  RTU_REFG_DISC_PRES                      143084 non-null  float64       \n",
            " 11  RTU_REFG_DISC_TEMP                      143084 non-null  float64       \n",
            " 12  RTU_REFG_SUCT_PRES                      143084 non-null  float64       \n",
            " 13  RTU_REFG_SUCT_TEMP                      143084 non-null  float64       \n",
            " 14  RTU_SA_FAN_WATT                         143084 non-null  float64       \n",
            " 15  RTU_SA_FLOW                             143084 non-null  float64       \n",
            " 16  RTU_SA_HUM                              143084 non-null  float64       \n",
            " 17  RTU_SA_TEMP                             143084 non-null  float64       \n",
            " 18  RTU_SEN_CAPA                            143084 non-null  float64       \n",
            " 19  RTU_STG_STA                             143084 non-null  float64       \n",
            " 20  RTU_TOT_CAPA                            143084 non-null  float64       \n",
            " 21  RTU_TOT_WATT                            143084 non-null  float64       \n",
            " 22  ZA_HUM                                  143084 non-null  float64       \n",
            " 23  ZA_TEMP                                 143084 non-null  float64       \n",
            " 24  ZA_TEMP_SPT                             143084 non-null  float64       \n",
            " 25  Target                                  143084 non-null  int64         \n",
            " 26  Derivada_RTU_REFG_DISC_PRES             143083 non-null  float64       \n",
            " 27  Derivada_RTU_REFG_SUCT_PRES             143083 non-null  float64       \n",
            " 28  MediaMovel_Derivada_RTU_REFG_DISC_PRES  141644 non-null  float64       \n",
            " 29  MediaMovel_Derivada_RTU_REFG_SUCT_PRES  141644 non-null  float64       \n",
            "dtypes: datetime64[ns](1), float64(28), int64(1)\n",
            "memory usage: 33.8 MB\n"
          ]
        }
      ],
      "source": [
        "df20_c.info()"
      ]
    },
    {
      "cell_type": "code",
      "execution_count": 79,
      "metadata": {},
      "outputs": [],
      "source": [
        "# Passo 3 Calcular o Desvio Padrão\n",
        "\n",
        "\n",
        "janela_um_dia = 1440 # Defina a janela de 1 dia (1440 minutos)\n",
        "\n",
        "\n",
        "# Calcule o desvio padrão da derivada por minuto dentro da janela de 1 dia para 'RTU_REFG_DISC_PRES'\n",
        "df20_c['DesvioPadrao_Derivada_RTU_REFG_DISC_PRES'] = df20_c['Derivada_RTU_REFG_DISC_PRES'].rolling(window=janela_um_dia).std()\n",
        "\n",
        "\n",
        "dfbs_c['DesvioPadrao_Derivada_RTU_REFG_DISC_PRES'] = dfbs_c['Derivada_RTU_REFG_DISC_PRES'].rolling(window=janela_um_dia).std()\n",
        "\n",
        "# Calcule o desvio padrão da derivada por minuto dentro da janela de 1 dia para 'RTU_REFG_SUCT_PRES'\n",
        "\n",
        "df20_c['DesvioPadrao_Derivada_RTU_REFG_SUCT_PRES'] = df20_c['Derivada_RTU_REFG_SUCT_PRES'].rolling(window=janela_um_dia).std()\n",
        "\n",
        "dfbs_c['DesvioPadrao_Derivada_RTU_REFG_SUCT_PRES'] = dfbs_c['Derivada_RTU_REFG_SUCT_PRES'].rolling(window=janela_um_dia).std()\n"
      ]
    },
    {
      "cell_type": "code",
      "execution_count": 80,
      "metadata": {},
      "outputs": [],
      "source": [
        "# Passo 4 - Padronizar Manualmente\n",
        "\n",
        "# Calcule o Z-Score para cada minuto usando a média e o desvio padrão das colunas\n",
        "df20_c['Z_Score_Derivada_RTU_REFG_SUCT_PRES'] = (df20_c['Derivada_RTU_REFG_SUCT_PRES'] - df20_c['MediaMovel_Derivada_RTU_REFG_SUCT_PRES']) / df20_c['DesvioPadrao_Derivada_RTU_REFG_SUCT_PRES']\n",
        "\n",
        "dfbs_c['Z_Score_Derivada_RTU_REFG_SUCT_PRES'] = (dfbs_c['Derivada_RTU_REFG_SUCT_PRES'] - dfbs_c['MediaMovel_Derivada_RTU_REFG_SUCT_PRES']) / dfbs_c['DesvioPadrao_Derivada_RTU_REFG_SUCT_PRES']\n",
        "\n",
        "df20_c['Z_Score_Derivada_RTU_REFG_DISC_PRES'] = (df20_c['Derivada_RTU_REFG_DISC_PRES'] - df20_c['MediaMovel_Derivada_RTU_REFG_DISC_PRES']) / df20_c['DesvioPadrao_Derivada_RTU_REFG_DISC_PRES']\n",
        "\n",
        "dfbs_c['Z_Score_Derivada_RTU_REFG_DISC_PRES'] = (dfbs_c['Derivada_RTU_REFG_DISC_PRES'] - dfbs_c['MediaMovel_Derivada_RTU_REFG_DISC_PRES']) / dfbs_c['DesvioPadrao_Derivada_RTU_REFG_DISC_PRES']"
      ]
    },
    {
      "cell_type": "code",
      "execution_count": 81,
      "metadata": {},
      "outputs": [],
      "source": [
        "# Elimina as features sim  \n",
        "\n",
        "columns_to_drop2 = [\n",
        "    'RTU_TOT_CAPA','ZA_TEMP_SPT','RTU_OA_FLOW','RTU_SEN_CAPA','RTU_RA_FLOW','RTU_STG_STA','RTU_REFG_COND_TEMP',\n",
        "    'Derivada_RTU_REFG_DISC_PRES', 'Derivada_RTU_REFG_SUCT_PRES',\n",
        "    'MediaMovel_Derivada_RTU_REFG_DISC_PRES','MediaMovel_Derivada_RTU_REFG_SUCT_PRES',\n",
        "    'DesvioPadrao_Derivada_RTU_REFG_DISC_PRES','DesvioPadrao_Derivada_RTU_REFG_SUCT_PRES',\n",
        "]\n",
        "\n",
        "dfbs_f = dfbs_c.drop(columns_to_drop2, axis=1)\n",
        "df20_f = df20_c.drop(columns_to_drop2, axis=1)"
      ]
    },
    {
      "cell_type": "markdown",
      "metadata": {},
      "source": [
        "### Definir X e y "
      ]
    },
    {
      "cell_type": "markdown",
      "metadata": {},
      "source": [
        "Real "
      ]
    },
    {
      "cell_type": "code",
      "execution_count": 82,
      "metadata": {},
      "outputs": [],
      "source": [
        "# eliminar os valores iniciais Nulos  das primeiras 24 hrs\n",
        "\n",
        "\n",
        "# Para o DataFrame df1_x\n",
        "df1_f = df1_c.dropna()\n",
        "\n",
        "# Para o DataFrame df2_x\n",
        "df2_f = df2_c.dropna()\n"
      ]
    },
    {
      "cell_type": "code",
      "execution_count": 83,
      "metadata": {},
      "outputs": [],
      "source": [
        "# Definir y real\n",
        "\n",
        "df1_y= df1_f['Target']\n",
        "df2_y= df2_f['Target']"
      ]
    },
    {
      "cell_type": "code",
      "execution_count": 84,
      "metadata": {},
      "outputs": [],
      "source": [
        "# Definir X real\n",
        "df1_x= df1_f.drop(['Datetime','Target','RTU_REFG_SUCT_PRES_1', 'RTU_REFG_SUCT_PRES_2', 'RTU_REFG_DISC_TEMP_1', 'RTU_REFG_COND_TEMP_2', \n",
        "                   'RTU_REFG_SUCT_TEMP_2', 'RTU_REFG_DISC_PRES_2', 'RTU_REFG_COND_TEMP_1', 'RTU_LA_COND_TEMP', 'RTU_MA_HUM', \n",
        "                   'RTU_REFG_SUCT_TEMP_1', 'RTU_MA_TEMP', 'RTU_REFG_DISC_PRES_1', 'RTU_REFG_DISC_TEMP_2','Derivada_RTU_REFG_DISC_PRES','Derivada_RTU_REFG_SUCT_PRES',\n",
        "                     'MediaMovel_Derivada_RTU_REFG_DISC_PRES','MediaMovel_Derivada_RTU_REFG_SUCT_PRES',\n",
        "                     'DesvioPadrao_Derivada_RTU_REFG_DISC_PRES','DesvioPadrao_Derivada_RTU_REFG_SUCT_PRES'], axis=1)\n",
        "df2_x= df2_f.drop(['Datetime','Target','RTU_REFG_SUCT_PRES_1', 'RTU_REFG_SUCT_PRES_2', 'RTU_REFG_DISC_TEMP_1', \n",
        "                   'RTU_REFG_COND_TEMP_2', 'RTU_REFG_SUCT_TEMP_2', 'RTU_REFG_DISC_PRES_2', 'RTU_REFG_COND_TEMP_1', \n",
        "                   'RTU_LA_COND_TEMP', 'RTU_MA_HUM', 'RTU_REFG_SUCT_TEMP_1', 'RTU_MA_TEMP', 'RTU_REFG_DISC_PRES_1', 'RTU_REFG_DISC_TEMP_2','Derivada_RTU_REFG_DISC_PRES','Derivada_RTU_REFG_SUCT_PRES',\n",
        "                     'MediaMovel_Derivada_RTU_REFG_DISC_PRES','MediaMovel_Derivada_RTU_REFG_SUCT_PRES',\n",
        "                     'DesvioPadrao_Derivada_RTU_REFG_DISC_PRES','DesvioPadrao_Derivada_RTU_REFG_SUCT_PRES'], axis=1)\n"
      ]
    },
    {
      "cell_type": "markdown",
      "metadata": {},
      "source": [
        "SImulado "
      ]
    },
    {
      "cell_type": "code",
      "execution_count": 85,
      "metadata": {},
      "outputs": [],
      "source": [
        "# eliminar os valores iniciais zerados das primeiras 24 hrs\n",
        "\n",
        "# Para o DataFrame df1_x\n",
        "df20_f = df20_c.dropna()\n",
        "\n",
        "\n",
        "# Para o DataFrame df2_x\n",
        "dfbs_f= dfbs_c.dropna()\n"
      ]
    },
    {
      "cell_type": "code",
      "execution_count": 86,
      "metadata": {},
      "outputs": [],
      "source": [
        "# Definir y sim\n",
        "\n",
        "df20_y = df20_f['Target']\n",
        "dfbs_y = dfbs_f['Target']"
      ]
    },
    {
      "cell_type": "code",
      "execution_count": 87,
      "metadata": {},
      "outputs": [],
      "source": [
        "# Definir X sim\n",
        "\n",
        "df20_x= df20_f.drop(['Datetime','Target', 'RTU_REFG_COND_TEMP', 'RTU_REFG_SUCT_TEMP', 'RTU_REFG_DISC_TEMP',\n",
        "                     'RTU_RA_FLOW', 'RTU_OA_FLOW', 'RTU_STG_STA', 'RTU_SEN_CAPA', 'RTU_TOT_CAPA', \n",
        "                     'RTU_REFG_COND_PRES', 'ZA_TEMP_SPT','Derivada_RTU_REFG_DISC_PRES','Derivada_RTU_REFG_SUCT_PRES',\n",
        "                     'MediaMovel_Derivada_RTU_REFG_DISC_PRES','MediaMovel_Derivada_RTU_REFG_SUCT_PRES',\n",
        "                     'DesvioPadrao_Derivada_RTU_REFG_DISC_PRES','DesvioPadrao_Derivada_RTU_REFG_SUCT_PRES'], axis=1)\n",
        "\n",
        "dfbs_x= dfbs_f.drop(['Datetime','Target', 'RTU_REFG_COND_TEMP', 'RTU_REFG_SUCT_TEMP',\n",
        "                     'RTU_REFG_DISC_TEMP', 'RTU_RA_FLOW', 'RTU_OA_FLOW', 'RTU_STG_STA', \n",
        "                     'RTU_SEN_CAPA', 'RTU_TOT_CAPA', 'RTU_REFG_COND_PRES', 'ZA_TEMP_SPT','Derivada_RTU_REFG_DISC_PRES','Derivada_RTU_REFG_SUCT_PRES',\n",
        "                     'MediaMovel_Derivada_RTU_REFG_DISC_PRES','MediaMovel_Derivada_RTU_REFG_SUCT_PRES',\n",
        "                     'DesvioPadrao_Derivada_RTU_REFG_DISC_PRES','DesvioPadrao_Derivada_RTU_REFG_SUCT_PRES'], axis=1)"
      ]
    },
    {
      "cell_type": "code",
      "execution_count": 88,
      "metadata": {},
      "outputs": [
        {
          "name": "stdout",
          "output_type": "stream",
          "text": [
            "Colunas exclusivas em df1: set()\n",
            "Colunas exclusivas em dfbs: set()\n"
          ]
        }
      ],
      "source": [
        "\n",
        "\n",
        "# Obtenha os nomes das colunas de cada DataFrame\n",
        "nomes_df1= set(df2_x.columns)\n",
        "nomes_dfbs = set(df20_x.columns)\n",
        "\n",
        "# Encontre a diferença entre os nomes das colunas\n",
        "colunas_exclusivas_df1 = nomes_df1 - nomes_dfbs\n",
        "colunas_exclusivas_dfbs = nomes_dfbs - nomes_df1\n",
        "\n",
        "# Imprima as colunas exclusivas em cada DataFrame\n",
        "print(\"Colunas exclusivas em df1:\", colunas_exclusivas_df1)\n",
        "print(\"Colunas exclusivas em dfbs:\", colunas_exclusivas_dfbs)"
      ]
    },
    {
      "cell_type": "code",
      "execution_count": 89,
      "metadata": {},
      "outputs": [],
      "source": [
        "# Alinhar os Dataframes\n",
        "\n",
        "# Obtenha a lista de colunas do df2_x\n",
        "columns_to_keep = df2_x.columns.tolist()\n",
        "\n",
        "# Garanta que todos os DataFrames tenham as mesmas colunas na mesma ordem\n",
        "df1_x = df1_x[columns_to_keep]\n",
        "dfbs_x = dfbs_x[columns_to_keep]\n",
        "df20_x = df20_x[columns_to_keep]\n"
      ]
    },
    {
      "cell_type": "code",
      "execution_count": 90,
      "metadata": {},
      "outputs": [
        {
          "data": {
            "text/html": [
              "<div>\n",
              "<style scoped>\n",
              "    .dataframe tbody tr th:only-of-type {\n",
              "        vertical-align: middle;\n",
              "    }\n",
              "\n",
              "    .dataframe tbody tr th {\n",
              "        vertical-align: top;\n",
              "    }\n",
              "\n",
              "    .dataframe thead th {\n",
              "        text-align: right;\n",
              "    }\n",
              "</style>\n",
              "<table border=\"1\" class=\"dataframe\">\n",
              "  <thead>\n",
              "    <tr style=\"text-align: right;\">\n",
              "      <th></th>\n",
              "      <th>RTU_COMP_WATT</th>\n",
              "      <th>RTU_OA_HUM</th>\n",
              "      <th>RTU_OA_TEMP</th>\n",
              "      <th>RTU_RA_HUM</th>\n",
              "      <th>RTU_RA_TEMP</th>\n",
              "      <th>RTU_SA_FAN_WATT</th>\n",
              "      <th>RTU_SA_FLOW</th>\n",
              "      <th>RTU_SA_HUM</th>\n",
              "      <th>RTU_SA_TEMP</th>\n",
              "      <th>RTU_TOT_WATT</th>\n",
              "      <th>ZA_HUM</th>\n",
              "      <th>ZA_TEMP</th>\n",
              "      <th>RTU_REFG_DISC_PRES</th>\n",
              "      <th>RTU_REFG_SUCT_PRES</th>\n",
              "      <th>Z_Score_Derivada_RTU_REFG_SUCT_PRES</th>\n",
              "      <th>Z_Score_Derivada_RTU_REFG_DISC_PRES</th>\n",
              "    </tr>\n",
              "  </thead>\n",
              "  <tbody>\n",
              "    <tr>\n",
              "      <th>8020</th>\n",
              "      <td>4867.000488</td>\n",
              "      <td>61.200481</td>\n",
              "      <td>17.089087</td>\n",
              "      <td>74.737633</td>\n",
              "      <td>26.747133</td>\n",
              "      <td>1679.0</td>\n",
              "      <td>2697.217529</td>\n",
              "      <td>88.748802</td>\n",
              "      <td>15.716434</td>\n",
              "      <td>10636.000977</td>\n",
              "      <td>-14.803085</td>\n",
              "      <td>24.595741</td>\n",
              "      <td>34.361689</td>\n",
              "      <td>10.115897</td>\n",
              "      <td>0.000010</td>\n",
              "      <td>0.000284</td>\n",
              "    </tr>\n",
              "    <tr>\n",
              "      <th>8021</th>\n",
              "      <td>4848.000488</td>\n",
              "      <td>61.574734</td>\n",
              "      <td>17.105555</td>\n",
              "      <td>74.610580</td>\n",
              "      <td>26.805353</td>\n",
              "      <td>1679.0</td>\n",
              "      <td>2703.899658</td>\n",
              "      <td>88.873016</td>\n",
              "      <td>15.797943</td>\n",
              "      <td>10604.000977</td>\n",
              "      <td>-14.803085</td>\n",
              "      <td>24.606041</td>\n",
              "      <td>34.186405</td>\n",
              "      <td>10.103673</td>\n",
              "      <td>-0.000126</td>\n",
              "      <td>-0.000068</td>\n",
              "    </tr>\n",
              "    <tr>\n",
              "      <th>8022</th>\n",
              "      <td>4864.000000</td>\n",
              "      <td>61.070316</td>\n",
              "      <td>17.114769</td>\n",
              "      <td>74.525124</td>\n",
              "      <td>26.893845</td>\n",
              "      <td>1679.0</td>\n",
              "      <td>2703.134277</td>\n",
              "      <td>88.703865</td>\n",
              "      <td>15.797943</td>\n",
              "      <td>10633.000000</td>\n",
              "      <td>-14.803085</td>\n",
              "      <td>24.627657</td>\n",
              "      <td>34.345150</td>\n",
              "      <td>10.105578</td>\n",
              "      <td>-0.000083</td>\n",
              "      <td>0.000287</td>\n",
              "    </tr>\n",
              "    <tr>\n",
              "      <th>8023</th>\n",
              "      <td>4884.000488</td>\n",
              "      <td>60.565948</td>\n",
              "      <td>17.110941</td>\n",
              "      <td>74.531448</td>\n",
              "      <td>26.970688</td>\n",
              "      <td>1678.0</td>\n",
              "      <td>2688.689453</td>\n",
              "      <td>88.669090</td>\n",
              "      <td>15.797943</td>\n",
              "      <td>10665.000977</td>\n",
              "      <td>-14.803085</td>\n",
              "      <td>24.639109</td>\n",
              "      <td>34.536175</td>\n",
              "      <td>10.125072</td>\n",
              "      <td>-0.000027</td>\n",
              "      <td>0.000321</td>\n",
              "    </tr>\n",
              "    <tr>\n",
              "      <th>8024</th>\n",
              "      <td>4919.000000</td>\n",
              "      <td>61.987522</td>\n",
              "      <td>17.146467</td>\n",
              "      <td>74.556847</td>\n",
              "      <td>26.970688</td>\n",
              "      <td>1678.0</td>\n",
              "      <td>2667.598877</td>\n",
              "      <td>88.997284</td>\n",
              "      <td>15.818904</td>\n",
              "      <td>10724.000977</td>\n",
              "      <td>-14.803085</td>\n",
              "      <td>24.628229</td>\n",
              "      <td>34.753290</td>\n",
              "      <td>10.157181</td>\n",
              "      <td>0.000013</td>\n",
              "      <td>0.000349</td>\n",
              "    </tr>\n",
              "  </tbody>\n",
              "</table>\n",
              "</div>"
            ],
            "text/plain": [
              "      RTU_COMP_WATT  RTU_OA_HUM  RTU_OA_TEMP  RTU_RA_HUM  RTU_RA_TEMP  \\\n",
              "8020    4867.000488   61.200481    17.089087   74.737633    26.747133   \n",
              "8021    4848.000488   61.574734    17.105555   74.610580    26.805353   \n",
              "8022    4864.000000   61.070316    17.114769   74.525124    26.893845   \n",
              "8023    4884.000488   60.565948    17.110941   74.531448    26.970688   \n",
              "8024    4919.000000   61.987522    17.146467   74.556847    26.970688   \n",
              "\n",
              "      RTU_SA_FAN_WATT  RTU_SA_FLOW  RTU_SA_HUM  RTU_SA_TEMP  RTU_TOT_WATT  \\\n",
              "8020           1679.0  2697.217529   88.748802    15.716434  10636.000977   \n",
              "8021           1679.0  2703.899658   88.873016    15.797943  10604.000977   \n",
              "8022           1679.0  2703.134277   88.703865    15.797943  10633.000000   \n",
              "8023           1678.0  2688.689453   88.669090    15.797943  10665.000977   \n",
              "8024           1678.0  2667.598877   88.997284    15.818904  10724.000977   \n",
              "\n",
              "         ZA_HUM    ZA_TEMP  RTU_REFG_DISC_PRES  RTU_REFG_SUCT_PRES  \\\n",
              "8020 -14.803085  24.595741           34.361689           10.115897   \n",
              "8021 -14.803085  24.606041           34.186405           10.103673   \n",
              "8022 -14.803085  24.627657           34.345150           10.105578   \n",
              "8023 -14.803085  24.639109           34.536175           10.125072   \n",
              "8024 -14.803085  24.628229           34.753290           10.157181   \n",
              "\n",
              "      Z_Score_Derivada_RTU_REFG_SUCT_PRES  Z_Score_Derivada_RTU_REFG_DISC_PRES  \n",
              "8020                             0.000010                             0.000284  \n",
              "8021                            -0.000126                            -0.000068  \n",
              "8022                            -0.000083                             0.000287  \n",
              "8023                            -0.000027                             0.000321  \n",
              "8024                             0.000013                             0.000349  "
            ]
          },
          "execution_count": 90,
          "metadata": {},
          "output_type": "execute_result"
        }
      ],
      "source": [
        "df1_x.head()"
      ]
    },
    {
      "cell_type": "code",
      "execution_count": 91,
      "metadata": {},
      "outputs": [
        {
          "data": {
            "text/html": [
              "<div>\n",
              "<style scoped>\n",
              "    .dataframe tbody tr th:only-of-type {\n",
              "        vertical-align: middle;\n",
              "    }\n",
              "\n",
              "    .dataframe tbody tr th {\n",
              "        vertical-align: top;\n",
              "    }\n",
              "\n",
              "    .dataframe thead th {\n",
              "        text-align: right;\n",
              "    }\n",
              "</style>\n",
              "<table border=\"1\" class=\"dataframe\">\n",
              "  <thead>\n",
              "    <tr style=\"text-align: right;\">\n",
              "      <th></th>\n",
              "      <th>RTU_COMP_WATT</th>\n",
              "      <th>RTU_OA_HUM</th>\n",
              "      <th>RTU_OA_TEMP</th>\n",
              "      <th>RTU_RA_HUM</th>\n",
              "      <th>RTU_RA_TEMP</th>\n",
              "      <th>RTU_SA_FAN_WATT</th>\n",
              "      <th>RTU_SA_FLOW</th>\n",
              "      <th>RTU_SA_HUM</th>\n",
              "      <th>RTU_SA_TEMP</th>\n",
              "      <th>RTU_TOT_WATT</th>\n",
              "      <th>ZA_HUM</th>\n",
              "      <th>ZA_TEMP</th>\n",
              "      <th>RTU_REFG_DISC_PRES</th>\n",
              "      <th>RTU_REFG_SUCT_PRES</th>\n",
              "      <th>Z_Score_Derivada_RTU_REFG_SUCT_PRES</th>\n",
              "      <th>Z_Score_Derivada_RTU_REFG_DISC_PRES</th>\n",
              "    </tr>\n",
              "  </thead>\n",
              "  <tbody>\n",
              "    <tr>\n",
              "      <th>1473</th>\n",
              "      <td>2.081490e+03</td>\n",
              "      <td>53.366417</td>\n",
              "      <td>54.278023</td>\n",
              "      <td>54.056717</td>\n",
              "      <td>69.521385</td>\n",
              "      <td>94.42871</td>\n",
              "      <td>2941.1106</td>\n",
              "      <td>100.00000</td>\n",
              "      <td>48.346230</td>\n",
              "      <td>2.175919e+03</td>\n",
              "      <td>54.056717</td>\n",
              "      <td>69.521385</td>\n",
              "      <td>24307516.0</td>\n",
              "      <td>13396634.0</td>\n",
              "      <td>-0.068573</td>\n",
              "      <td>0.000204</td>\n",
              "    </tr>\n",
              "    <tr>\n",
              "      <th>1474</th>\n",
              "      <td>1.073486e+06</td>\n",
              "      <td>53.049385</td>\n",
              "      <td>54.294994</td>\n",
              "      <td>53.736620</td>\n",
              "      <td>69.583786</td>\n",
              "      <td>66.10010</td>\n",
              "      <td>2058.7773</td>\n",
              "      <td>100.00000</td>\n",
              "      <td>47.670350</td>\n",
              "      <td>1.139586e+06</td>\n",
              "      <td>53.736620</td>\n",
              "      <td>69.583786</td>\n",
              "      <td>21975798.0</td>\n",
              "      <td>14206470.0</td>\n",
              "      <td>1.067289</td>\n",
              "      <td>-2.579290</td>\n",
              "    </tr>\n",
              "    <tr>\n",
              "      <th>1475</th>\n",
              "      <td>1.089443e+03</td>\n",
              "      <td>52.704006</td>\n",
              "      <td>54.312023</td>\n",
              "      <td>53.386760</td>\n",
              "      <td>69.681400</td>\n",
              "      <td>66.10010</td>\n",
              "      <td>2058.7773</td>\n",
              "      <td>100.00000</td>\n",
              "      <td>47.864037</td>\n",
              "      <td>1.155543e+03</td>\n",
              "      <td>53.386760</td>\n",
              "      <td>69.681400</td>\n",
              "      <td>21900688.0</td>\n",
              "      <td>13968659.0</td>\n",
              "      <td>-0.319561</td>\n",
              "      <td>-0.060627</td>\n",
              "    </tr>\n",
              "    <tr>\n",
              "      <th>1476</th>\n",
              "      <td>1.093907e+03</td>\n",
              "      <td>52.370644</td>\n",
              "      <td>54.329163</td>\n",
              "      <td>53.049080</td>\n",
              "      <td>69.781710</td>\n",
              "      <td>66.10010</td>\n",
              "      <td>2058.7773</td>\n",
              "      <td>99.23971</td>\n",
              "      <td>48.028610</td>\n",
              "      <td>1.160007e+06</td>\n",
              "      <td>53.049080</td>\n",
              "      <td>69.781710</td>\n",
              "      <td>21882472.0</td>\n",
              "      <td>13905120.0</td>\n",
              "      <td>-0.088819</td>\n",
              "      <td>0.002868</td>\n",
              "    </tr>\n",
              "    <tr>\n",
              "      <th>1477</th>\n",
              "      <td>1.095146e+03</td>\n",
              "      <td>52.034534</td>\n",
              "      <td>54.346300</td>\n",
              "      <td>52.708614</td>\n",
              "      <td>69.884430</td>\n",
              "      <td>66.10010</td>\n",
              "      <td>2058.7773</td>\n",
              "      <td>98.67441</td>\n",
              "      <td>48.122658</td>\n",
              "      <td>1.161246e+03</td>\n",
              "      <td>52.708614</td>\n",
              "      <td>69.884430</td>\n",
              "      <td>21883398.0</td>\n",
              "      <td>13894214.0</td>\n",
              "      <td>-0.019174</td>\n",
              "      <td>0.024209</td>\n",
              "    </tr>\n",
              "  </tbody>\n",
              "</table>\n",
              "</div>"
            ],
            "text/plain": [
              "      RTU_COMP_WATT  RTU_OA_HUM  RTU_OA_TEMP  RTU_RA_HUM  RTU_RA_TEMP  \\\n",
              "1473   2.081490e+03   53.366417    54.278023   54.056717    69.521385   \n",
              "1474   1.073486e+06   53.049385    54.294994   53.736620    69.583786   \n",
              "1475   1.089443e+03   52.704006    54.312023   53.386760    69.681400   \n",
              "1476   1.093907e+03   52.370644    54.329163   53.049080    69.781710   \n",
              "1477   1.095146e+03   52.034534    54.346300   52.708614    69.884430   \n",
              "\n",
              "      RTU_SA_FAN_WATT  RTU_SA_FLOW  RTU_SA_HUM  RTU_SA_TEMP  RTU_TOT_WATT  \\\n",
              "1473         94.42871    2941.1106   100.00000    48.346230  2.175919e+03   \n",
              "1474         66.10010    2058.7773   100.00000    47.670350  1.139586e+06   \n",
              "1475         66.10010    2058.7773   100.00000    47.864037  1.155543e+03   \n",
              "1476         66.10010    2058.7773    99.23971    48.028610  1.160007e+06   \n",
              "1477         66.10010    2058.7773    98.67441    48.122658  1.161246e+03   \n",
              "\n",
              "         ZA_HUM    ZA_TEMP  RTU_REFG_DISC_PRES  RTU_REFG_SUCT_PRES  \\\n",
              "1473  54.056717  69.521385          24307516.0          13396634.0   \n",
              "1474  53.736620  69.583786          21975798.0          14206470.0   \n",
              "1475  53.386760  69.681400          21900688.0          13968659.0   \n",
              "1476  53.049080  69.781710          21882472.0          13905120.0   \n",
              "1477  52.708614  69.884430          21883398.0          13894214.0   \n",
              "\n",
              "      Z_Score_Derivada_RTU_REFG_SUCT_PRES  Z_Score_Derivada_RTU_REFG_DISC_PRES  \n",
              "1473                            -0.068573                             0.000204  \n",
              "1474                             1.067289                            -2.579290  \n",
              "1475                            -0.319561                            -0.060627  \n",
              "1476                            -0.088819                             0.002868  \n",
              "1477                            -0.019174                             0.024209  "
            ]
          },
          "execution_count": 91,
          "metadata": {},
          "output_type": "execute_result"
        }
      ],
      "source": [
        "dfbs_x.head()"
      ]
    },
    {
      "cell_type": "markdown",
      "metadata": {},
      "source": [
        "# cross validation real"
      ]
    },
    {
      "cell_type": "code",
      "execution_count": 92,
      "metadata": {},
      "outputs": [],
      "source": [
        "# separar X falha\n",
        "num_linhas = len(df1_x)\n",
        "tamanho_parte = num_linhas // 5\n",
        "\n",
        "# Separe o dataframe em cinco partes e criar uma lista\n",
        "X1 = [df1_x.iloc[(i*tamanho_parte):((i+1)*tamanho_parte)] for i in range(5)]"
      ]
    },
    {
      "cell_type": "code",
      "execution_count": 93,
      "metadata": {},
      "outputs": [],
      "source": [
        "# separar y falha\n",
        "num_linhas = len(df1_y)\n",
        "tamanho_parte = num_linhas // 5\n",
        "\n",
        "# Separe o dataframe em cinco partes e criar uma lista\n",
        "\n",
        "y1 = [df1_y.iloc[(i*tamanho_parte):((i+1)*tamanho_parte)] for i in range(5)]"
      ]
    },
    {
      "cell_type": "code",
      "execution_count": 94,
      "metadata": {},
      "outputs": [],
      "source": [
        "#separar X nfalha\n",
        "\n",
        "num_linhas = len(df2_x)\n",
        "tamanho_parte = num_linhas // 5\n",
        "\n",
        "# Separe o dataframe em cinco partes e criar uma lista\n",
        "X2 = [df2_x.iloc[(i*tamanho_parte):((i+1)*tamanho_parte)] for i in range(5)]"
      ]
    },
    {
      "cell_type": "code",
      "execution_count": 95,
      "metadata": {},
      "outputs": [],
      "source": [
        "# separar y nfalha\n",
        "\n",
        "num_linhas = len(df2_y)\n",
        "tamanho_parte = num_linhas // 5\n",
        "\n",
        "# Separe o dataframe em cinco partes e criar uma lista\n",
        "y2 = [df2_y.iloc[(i*tamanho_parte):((i+1)*tamanho_parte)] for i in range(5)]"
      ]
    },
    {
      "cell_type": "code",
      "execution_count": 96,
      "metadata": {},
      "outputs": [
        {
          "name": "stdout",
          "output_type": "stream",
          "text": [
            "Total de combinações possíveis: 25\n"
          ]
        }
      ],
      "source": [
        "# Combinações Possíveis\n",
        "total_combinacoes = len(X1) * len(X2)\n",
        "print(\"Total de combinações possíveis:\", total_combinacoes)"
      ]
    },
    {
      "cell_type": "code",
      "execution_count": 97,
      "metadata": {},
      "outputs": [],
      "source": [
        "combinacoes_X = []\n",
        "combinacoes_y = []\n",
        "\n",
        "for i1 in range(len(X1)):\n",
        "    for i2 in range(len(X2)):\n",
        "        X_teste = pd.concat([X1[i] for i in range(len(X1)) if i == i1] + [X2[j] for j in range(len(X2)) if j == i2])\n",
        "        X_treino = pd.concat([X1[i] for i in range(len(X1)) if i != i1] + [X2[j] for j in range(len(X2)) if j != i2])\n",
        "        combinacoes_X.append((X_teste, X_treino))\n",
        "\n",
        "for i1 in range(len(y1)):\n",
        "    for i2 in range(len(y2)):\n",
        "        y_teste = pd.concat([y1[i] for i in range(len(y1)) if i == i1] + [y2[j] for j in range(len(y2)) if j == i2])\n",
        "        y_treino = pd.concat([y1[i] for i in range(len(y1)) if i != i1] + [y2[j] for j in range(len(y2)) if j != i2])\n",
        "        combinacoes_y.append((y_teste, y_treino))"
      ]
    },
    {
      "cell_type": "markdown",
      "metadata": {},
      "source": [
        "# Cross simulado"
      ]
    },
    {
      "cell_type": "code",
      "execution_count": 98,
      "metadata": {},
      "outputs": [],
      "source": [
        "# separar y nfalha\n",
        "\n",
        "num_linhas = len(df20_y)\n",
        "tamanho_parte = num_linhas // 5\n",
        "\n",
        "num_linhas = len(dfbs_y)\n",
        "tamanho_parte = num_linhas // 5\n",
        "\n",
        "\n",
        "# Separe o dataframe em cinco partes e criar uma lista\n",
        "\n",
        "y20 = [df20_y.iloc[(i*tamanho_parte):((i+1)*tamanho_parte)] for i in range(5)]\n",
        "\n",
        "ybs = [dfbs_y.iloc[(i*tamanho_parte):((i+1)*tamanho_parte)] for i in range(5)]"
      ]
    },
    {
      "cell_type": "code",
      "execution_count": 99,
      "metadata": {},
      "outputs": [
        {
          "name": "stdout",
          "output_type": "stream",
          "text": [
            "Total de combinações possíveis: 25\n"
          ]
        }
      ],
      "source": [
        "total_combinacoes = len(y20) * len(ybs)\n",
        "print(\"Total de combinações possíveis:\", total_combinacoes)"
      ]
    },
    {
      "cell_type": "code",
      "execution_count": 100,
      "metadata": {},
      "outputs": [],
      "source": [
        "#separar X nfalha\n",
        "\n",
        "num_linhas = len(df20_x)\n",
        "tamanho_parte = num_linhas // 5\n",
        "\n",
        "num_linhas = len(dfbs_x)\n",
        "tamanho_parte = num_linhas // 5\n",
        "\n",
        "# Separe o dataframe em cinco partes e criar uma lista\n",
        "\n",
        "X20 = [df20_x.iloc[(i*tamanho_parte):((i+1)*tamanho_parte)] for i in range(5)]\n",
        "\n",
        "Xbs = [dfbs_x.iloc[(i*tamanho_parte):((i+1)*tamanho_parte)] for i in range(5)]\n"
      ]
    },
    {
      "cell_type": "code",
      "execution_count": 101,
      "metadata": {},
      "outputs": [
        {
          "name": "stdout",
          "output_type": "stream",
          "text": [
            "Total de combinações possíveis: 25\n"
          ]
        }
      ],
      "source": [
        "total_combinacoes = len(X20) * len(Xbs)\n",
        "print(\"Total de combinações possíveis:\", total_combinacoes)"
      ]
    },
    {
      "cell_type": "code",
      "execution_count": 102,
      "metadata": {},
      "outputs": [],
      "source": [
        "combinacoes_Xs = []\n",
        "combinacoes_ys = []\n",
        "\n",
        "for i1 in range(len(X20)):\n",
        "    for i2 in range(len(Xbs)):\n",
        "        Xs_teste = pd.concat([X20[i] for i in range(len(X20)) if i == i1] + [Xbs[j] for j in range(len(Xbs)) if j == i2])\n",
        "        Xs_treino = pd.concat([X20[i] for i in range(len(X20)) if i != i1] + [Xbs[j] for j in range(len(Xbs)) if j != i2])\n",
        "        combinacoes_Xs.append((Xs_teste, Xs_treino))\n",
        "\n",
        "for i1 in range(len(y20)):\n",
        "    for i2 in range(len(ybs)):\n",
        "        ys_teste = pd.concat([y20[i] for i in range(len(y20)) if i == i1] + [ybs[j] for j in range(len(ybs)) if j == i2])\n",
        "        ys_treino = pd.concat([y20[i] for i in range(len(y20)) if i != i1] + [ybs[j] for j in range(len(ybs)) if j != i2])\n",
        "        combinacoes_ys.append((ys_teste, ys_treino))"
      ]
    },
    {
      "cell_type": "markdown",
      "metadata": {},
      "source": [
        "# Combinação Simulado Real"
      ]
    },
    {
      "cell_type": "code",
      "execution_count": 103,
      "metadata": {},
      "outputs": [],
      "source": [
        "combinacoes_Xsr = []\n",
        "combinacoes_ysr = []\n",
        "\n",
        "for i1 in range(len(X20)):\n",
        "    for i2 in range(len(Xbs)):\n",
        "        Xsr_teste = pd.concat([X1[i] for i in range(len(X1)) if i == i1] + [X2[j] for j in range(len(X2)) if j == i2])\n",
        "        Xsr_treino = pd.concat([X20[i] for i in range(len(X20)) if i != i1] + [Xbs[j] for j in range(len(Xbs)) if j != i2])\n",
        "        combinacoes_Xsr.append((Xsr_teste, Xsr_treino))\n",
        "\n",
        "for i1 in range(len(y20)):\n",
        "    for i2 in range(len(ybs)):\n",
        "        ysr_teste = pd.concat([y1[i] for i in range(len(y1)) if i == i1] + [y2[j] for j in range(len(y2)) if j == i2])\n",
        "        ysr_treino = pd.concat([y20[i] for i in range(len(y20)) if i != i1] + [ybs[j] for j in range(len(ybs)) if j != i2])\n",
        "        combinacoes_ysr.append((ysr_teste, ysr_treino))"
      ]
    },
    {
      "cell_type": "markdown",
      "metadata": {},
      "source": [
        "# Modelos Preditivos(Classificadores)"
      ]
    },
    {
      "cell_type": "code",
      "execution_count": 104,
      "metadata": {},
      "outputs": [],
      "source": [
        "import pandas as pd\n",
        "import joblib\n",
        "from sklearn.svm import SVC\n",
        "from sklearn.metrics import balanced_accuracy_score\n",
        "from sklearn.linear_model import LogisticRegression\n",
        "from sklearn.neighbors import KNeighborsClassifier\n",
        "from sklearn.naive_bayes import GaussianNB\n",
        "from sklearn.linear_model import Perceptron\n",
        "from sklearn.svm import LinearSVC\n",
        "from sklearn.linear_model import SGDClassifier\n",
        "from sklearn.tree import DecisionTreeClassifier\n",
        "from sklearn.metrics import accuracy_score, balanced_accuracy_score, precision_score, recall_score, f1_score, confusion_matrix\n",
        "from sklearn.ensemble import (AdaBoostClassifier,\n",
        "                              GradientBoostingClassifier,\n",
        "                              ExtraTreesClassifier,\n",
        "                              RandomForestClassifier)\n",
        "from sklearn.preprocessing import StandardScaler"
      ]
    },
    {
      "cell_type": "code",
      "execution_count": 105,
      "metadata": {},
      "outputs": [
        {
          "name": "stderr",
          "output_type": "stream",
          "text": [
            "/home/guilherme/.local/lib/python3.8/site-packages/sklearn/metrics/_classification.py:1469: UndefinedMetricWarning:\n",
            "\n",
            "Precision is ill-defined and being set to 0.0 due to no predicted samples. Use `zero_division` parameter to control this behavior.\n",
            "\n",
            "/home/guilherme/.local/lib/python3.8/site-packages/sklearn/metrics/_classification.py:1469: UndefinedMetricWarning:\n",
            "\n",
            "Precision is ill-defined and being set to 0.0 due to no predicted samples. Use `zero_division` parameter to control this behavior.\n",
            "\n",
            "/home/guilherme/.local/lib/python3.8/site-packages/sklearn/metrics/_classification.py:1469: UndefinedMetricWarning:\n",
            "\n",
            "Precision is ill-defined and being set to 0.0 due to no predicted samples. Use `zero_division` parameter to control this behavior.\n",
            "\n"
          ]
        }
      ],
      "source": [
        "class ModeloAuxiliar(object):\n",
        "    def __init__(self, clf, seed=27, params=None):\n",
        "        if params:\n",
        "            params['random_state'] = seed\n",
        "            self.clf = clf(**params)\n",
        "        else:\n",
        "            self.clf = clf()\n",
        "\n",
        "    def predict(self, x):\n",
        "        return self.clf.predict(x)\n",
        "\n",
        "    def fit(self, x, y):\n",
        "        return self.clf.fit(x, y)\n",
        "\n",
        "    def feature_importances(self, x, y):\n",
        "        return self.clf.fit(x, y).feature_importances_\n",
        "\n",
        "modelos = [\n",
        "           {'nome': 'RForest',\n",
        "            'modelo': RandomForestClassifier}\n",
        "          ]\n",
        "\n",
        "resultados = []\n",
        "medias_acuracias = []\n",
        "scaler = StandardScaler()\n",
        "\n",
        "for i in range(len(combinacoes_Xsr)):\n",
        "    X_teste, X_treino = combinacoes_Xsr[i]\n",
        "    y_teste, y_treino = combinacoes_ysr[i]\n",
        "\n",
        "    X_treino_scaled = scaler.fit_transform(X_treino)\n",
        "    X_teste_scaled = scaler.transform(X_teste)\n",
        "\n",
        "    acuracias = []\n",
        "\n",
        "    for model in modelos:\n",
        "        x = ModeloAuxiliar(clf=model['modelo'])\n",
        "\n",
        "        # treinar o modelo\n",
        "        x.fit(X_treino_scaled, y_treino)\n",
        "\n",
        "        # gerar previsão\n",
        "        y_pred = x.predict(X_teste_scaled)\n",
        "\n",
        "        # calcular a acurácia\n",
        "        acuracia = accuracy_score(y_teste, y_pred)\n",
        "\n",
        "        acuracias.append(acuracia)\n",
        "\n",
        "       # Calcula a acurácia balanceada\n",
        "\n",
        "        acuracia_balanceada = balanced_accuracy_score(y_teste, y_pred)\n",
        "\n",
        "        # Calcular a f1 balanceada\n",
        "\n",
        "        f1_balanceada = f= f1_score(y_teste, y_pred, average='weighted')\n",
        "\n",
        "        # calcular as demaism métricas\n",
        "        precisao = precision_score(y_teste, y_pred)\n",
        "        recall = recall_score(y_teste, y_pred)\n",
        "        f1 = f1_score(y_teste, y_pred)\n",
        "        matriz_confusao = confusion_matrix(y_teste, y_pred)\n",
        "\n",
        "        resultados.append({'Nome': model['nome'],\n",
        "                           'Acurácia': acuracia,\n",
        "                           'Acurácia Balanceada': acuracia_balanceada,\n",
        "                           'Precisão': precisao,\n",
        "                           'Recall': recall,\n",
        "                           'F1-score': f1,\n",
        "                           'F1-score Balanceada': f1_balanceada,\n",
        "                           'Matriz de Confusão': matriz_confusao,\n",
        "                           'Predição': y_pred\n",
        "                           })\n",
        "        # Salvar o modelo treinado usando joblib\n",
        "        model_filename = f\"modelo_{model['nome']}_treinado)sim_realderiv.joblib\"\n",
        "        joblib.dump(x, model_filename)"
      ]
    },
    {
      "cell_type": "code",
      "execution_count": 106,
      "metadata": {},
      "outputs": [],
      "source": [
        "modelos_df = pd.DataFrame(resultados)\n",
        "modelos_df = modelos_df[['Nome', 'Acurácia','Acurácia Balanceada','Precisão', 'Recall', 'F1-score','F1-score Balanceada', 'Matriz de Confusão','Predição']]\n",
        "\n",
        "\n",
        "\n",
        "modelos_df.to_csv('modelos_sim_realderiv.csv', index=False)"
      ]
    },
    {
      "cell_type": "code",
      "execution_count": 116,
      "metadata": {},
      "outputs": [
        {
          "data": {
            "text/html": [
              "<div>\n",
              "<style scoped>\n",
              "    .dataframe tbody tr th:only-of-type {\n",
              "        vertical-align: middle;\n",
              "    }\n",
              "\n",
              "    .dataframe tbody tr th {\n",
              "        vertical-align: top;\n",
              "    }\n",
              "\n",
              "    .dataframe thead th {\n",
              "        text-align: right;\n",
              "    }\n",
              "</style>\n",
              "<table border=\"1\" class=\"dataframe\">\n",
              "  <thead>\n",
              "    <tr style=\"text-align: right;\">\n",
              "      <th></th>\n",
              "      <th>Nome</th>\n",
              "      <th>Acurácia</th>\n",
              "      <th>Acurácia Balanceada</th>\n",
              "      <th>Precisão</th>\n",
              "      <th>Recall</th>\n",
              "      <th>F1-score</th>\n",
              "      <th>F1-score Balanceada</th>\n",
              "      <th>Matriz de Confusão</th>\n",
              "      <th>Predição</th>\n",
              "    </tr>\n",
              "  </thead>\n",
              "  <tbody>\n",
              "    <tr>\n",
              "      <th>0</th>\n",
              "      <td>RForest</td>\n",
              "      <td>0.907945</td>\n",
              "      <td>0.499901</td>\n",
              "      <td>0.000000</td>\n",
              "      <td>0.000000</td>\n",
              "      <td>0.000000</td>\n",
              "      <td>0.864310</td>\n",
              "      <td>[[20249, 4], [2049, 0]]</td>\n",
              "      <td>[0, 0, 0, 0, 0, 0, 0, 0, 0, 0, 0, 0, 0, 0, 0, ...</td>\n",
              "    </tr>\n",
              "    <tr>\n",
              "      <th>1</th>\n",
              "      <td>RForest</td>\n",
              "      <td>0.895077</td>\n",
              "      <td>0.492816</td>\n",
              "      <td>0.000000</td>\n",
              "      <td>0.000000</td>\n",
              "      <td>0.000000</td>\n",
              "      <td>0.857845</td>\n",
              "      <td>[[19962, 291], [2049, 0]]</td>\n",
              "      <td>[0, 0, 0, 0, 0, 0, 0, 0, 0, 0, 0, 0, 0, 0, 0, ...</td>\n",
              "    </tr>\n",
              "    <tr>\n",
              "      <th>2</th>\n",
              "      <td>RForest</td>\n",
              "      <td>0.906421</td>\n",
              "      <td>0.499062</td>\n",
              "      <td>0.000000</td>\n",
              "      <td>0.000000</td>\n",
              "      <td>0.000000</td>\n",
              "      <td>0.863548</td>\n",
              "      <td>[[20215, 38], [2049, 0]]</td>\n",
              "      <td>[0, 0, 0, 0, 0, 0, 0, 0, 0, 0, 0, 0, 0, 0, 0, ...</td>\n",
              "    </tr>\n",
              "    <tr>\n",
              "      <th>3</th>\n",
              "      <td>RForest</td>\n",
              "      <td>0.904627</td>\n",
              "      <td>0.498074</td>\n",
              "      <td>0.000000</td>\n",
              "      <td>0.000000</td>\n",
              "      <td>0.000000</td>\n",
              "      <td>0.862651</td>\n",
              "      <td>[[20175, 78], [2049, 0]]</td>\n",
              "      <td>[0, 0, 0, 0, 0, 0, 0, 0, 0, 0, 0, 0, 0, 0, 0, ...</td>\n",
              "    </tr>\n",
              "    <tr>\n",
              "      <th>4</th>\n",
              "      <td>RForest</td>\n",
              "      <td>0.845395</td>\n",
              "      <td>0.479061</td>\n",
              "      <td>0.040709</td>\n",
              "      <td>0.030259</td>\n",
              "      <td>0.034714</td>\n",
              "      <td>0.835003</td>\n",
              "      <td>[[18792, 1461], [1987, 62]]</td>\n",
              "      <td>[0, 0, 0, 0, 0, 0, 0, 0, 0, 0, 0, 0, 0, 0, 0, ...</td>\n",
              "    </tr>\n",
              "    <tr>\n",
              "      <th>5</th>\n",
              "      <td>RForest</td>\n",
              "      <td>0.908125</td>\n",
              "      <td>0.500000</td>\n",
              "      <td>0.000000</td>\n",
              "      <td>0.000000</td>\n",
              "      <td>0.000000</td>\n",
              "      <td>0.864399</td>\n",
              "      <td>[[20253, 0], [2049, 0]]</td>\n",
              "      <td>[0, 0, 0, 0, 0, 0, 0, 0, 0, 0, 0, 0, 0, 0, 0, ...</td>\n",
              "    </tr>\n",
              "    <tr>\n",
              "      <th>6</th>\n",
              "      <td>RForest</td>\n",
              "      <td>0.903372</td>\n",
              "      <td>0.497383</td>\n",
              "      <td>0.000000</td>\n",
              "      <td>0.000000</td>\n",
              "      <td>0.000000</td>\n",
              "      <td>0.862022</td>\n",
              "      <td>[[20147, 106], [2049, 0]]</td>\n",
              "      <td>[0, 0, 0, 0, 0, 0, 0, 0, 0, 0, 0, 0, 0, 0, 0, ...</td>\n",
              "    </tr>\n",
              "    <tr>\n",
              "      <th>7</th>\n",
              "      <td>RForest</td>\n",
              "      <td>0.908125</td>\n",
              "      <td>0.500000</td>\n",
              "      <td>0.000000</td>\n",
              "      <td>0.000000</td>\n",
              "      <td>0.000000</td>\n",
              "      <td>0.864399</td>\n",
              "      <td>[[20253, 0], [2049, 0]]</td>\n",
              "      <td>[0, 0, 0, 0, 0, 0, 0, 0, 0, 0, 0, 0, 0, 0, 0, ...</td>\n",
              "    </tr>\n",
              "    <tr>\n",
              "      <th>8</th>\n",
              "      <td>RForest</td>\n",
              "      <td>0.902789</td>\n",
              "      <td>0.497062</td>\n",
              "      <td>0.000000</td>\n",
              "      <td>0.000000</td>\n",
              "      <td>0.000000</td>\n",
              "      <td>0.861730</td>\n",
              "      <td>[[20134, 119], [2049, 0]]</td>\n",
              "      <td>[0, 0, 0, 0, 0, 0, 0, 0, 0, 0, 0, 0, 0, 0, 0, ...</td>\n",
              "    </tr>\n",
              "    <tr>\n",
              "      <th>9</th>\n",
              "      <td>RForest</td>\n",
              "      <td>0.907049</td>\n",
              "      <td>0.499407</td>\n",
              "      <td>0.000000</td>\n",
              "      <td>0.000000</td>\n",
              "      <td>0.000000</td>\n",
              "      <td>0.863862</td>\n",
              "      <td>[[20229, 24], [2049, 0]]</td>\n",
              "      <td>[0, 0, 0, 0, 0, 0, 0, 0, 0, 0, 0, 0, 0, 0, 0, ...</td>\n",
              "    </tr>\n",
              "    <tr>\n",
              "      <th>10</th>\n",
              "      <td>RForest</td>\n",
              "      <td>0.909291</td>\n",
              "      <td>0.507222</td>\n",
              "      <td>0.882353</td>\n",
              "      <td>0.014641</td>\n",
              "      <td>0.028805</td>\n",
              "      <td>0.867566</td>\n",
              "      <td>[[20249, 4], [2019, 30]]</td>\n",
              "      <td>[0, 0, 0, 0, 0, 0, 0, 0, 0, 0, 0, 0, 0, 0, 0, ...</td>\n",
              "    </tr>\n",
              "    <tr>\n",
              "      <th>11</th>\n",
              "      <td>RForest</td>\n",
              "      <td>0.907004</td>\n",
              "      <td>0.500260</td>\n",
              "      <td>0.121212</td>\n",
              "      <td>0.001952</td>\n",
              "      <td>0.003842</td>\n",
              "      <td>0.864184</td>\n",
              "      <td>[[20224, 29], [2045, 4]]</td>\n",
              "      <td>[0, 0, 0, 0, 0, 0, 0, 0, 0, 0, 0, 0, 0, 0, 0, ...</td>\n",
              "    </tr>\n",
              "    <tr>\n",
              "      <th>12</th>\n",
              "      <td>RForest</td>\n",
              "      <td>0.909335</td>\n",
              "      <td>0.507466</td>\n",
              "      <td>0.885714</td>\n",
              "      <td>0.015129</td>\n",
              "      <td>0.029750</td>\n",
              "      <td>0.867673</td>\n",
              "      <td>[[20249, 4], [2018, 31]]</td>\n",
              "      <td>[0, 0, 0, 0, 0, 0, 0, 0, 0, 0, 0, 0, 0, 0, 0, ...</td>\n",
              "    </tr>\n",
              "    <tr>\n",
              "      <th>13</th>\n",
              "      <td>RForest</td>\n",
              "      <td>0.902699</td>\n",
              "      <td>0.504909</td>\n",
              "      <td>0.186528</td>\n",
              "      <td>0.017570</td>\n",
              "      <td>0.032114</td>\n",
              "      <td>0.864556</td>\n",
              "      <td>[[20096, 157], [2013, 36]]</td>\n",
              "      <td>[0, 0, 0, 0, 0, 0, 0, 0, 0, 0, 0, 0, 0, 0, 0, ...</td>\n",
              "    </tr>\n",
              "    <tr>\n",
              "      <th>14</th>\n",
              "      <td>RForest</td>\n",
              "      <td>0.808313</td>\n",
              "      <td>0.487377</td>\n",
              "      <td>0.073890</td>\n",
              "      <td>0.094192</td>\n",
              "      <td>0.082815</td>\n",
              "      <td>0.818539</td>\n",
              "      <td>[[17834, 2419], [1856, 193]]</td>\n",
              "      <td>[0, 0, 0, 0, 0, 0, 0, 0, 0, 0, 0, 0, 0, 0, 0, ...</td>\n",
              "    </tr>\n",
              "    <tr>\n",
              "      <th>15</th>\n",
              "      <td>RForest</td>\n",
              "      <td>0.908035</td>\n",
              "      <td>0.499951</td>\n",
              "      <td>0.000000</td>\n",
              "      <td>0.000000</td>\n",
              "      <td>0.000000</td>\n",
              "      <td>0.864354</td>\n",
              "      <td>[[20251, 2], [2049, 0]]</td>\n",
              "      <td>[0, 0, 0, 0, 0, 0, 0, 0, 0, 0, 0, 0, 0, 0, 0, ...</td>\n",
              "    </tr>\n",
              "    <tr>\n",
              "      <th>16</th>\n",
              "      <td>RForest</td>\n",
              "      <td>0.905255</td>\n",
              "      <td>0.498420</td>\n",
              "      <td>0.000000</td>\n",
              "      <td>0.000000</td>\n",
              "      <td>0.000000</td>\n",
              "      <td>0.862965</td>\n",
              "      <td>[[20189, 64], [2049, 0]]</td>\n",
              "      <td>[0, 0, 0, 0, 0, 0, 0, 0, 0, 0, 0, 0, 0, 0, 0, ...</td>\n",
              "    </tr>\n",
              "    <tr>\n",
              "      <th>17</th>\n",
              "      <td>RForest</td>\n",
              "      <td>0.904762</td>\n",
              "      <td>0.499026</td>\n",
              "      <td>0.048193</td>\n",
              "      <td>0.001952</td>\n",
              "      <td>0.003752</td>\n",
              "      <td>0.863055</td>\n",
              "      <td>[[20174, 79], [2045, 4]]</td>\n",
              "      <td>[0, 0, 0, 0, 0, 0, 0, 0, 0, 0, 0, 0, 0, 0, 0, ...</td>\n",
              "    </tr>\n",
              "    <tr>\n",
              "      <th>18</th>\n",
              "      <td>RForest</td>\n",
              "      <td>0.904448</td>\n",
              "      <td>0.497976</td>\n",
              "      <td>0.000000</td>\n",
              "      <td>0.000000</td>\n",
              "      <td>0.000000</td>\n",
              "      <td>0.862561</td>\n",
              "      <td>[[20171, 82], [2049, 0]]</td>\n",
              "      <td>[0, 0, 0, 0, 0, 0, 0, 0, 0, 0, 0, 0, 0, 0, 0, ...</td>\n",
              "    </tr>\n",
              "    <tr>\n",
              "      <th>19</th>\n",
              "      <td>RForest</td>\n",
              "      <td>0.907811</td>\n",
              "      <td>0.499827</td>\n",
              "      <td>0.000000</td>\n",
              "      <td>0.000000</td>\n",
              "      <td>0.000000</td>\n",
              "      <td>0.864243</td>\n",
              "      <td>[[20246, 7], [2049, 0]]</td>\n",
              "      <td>[0, 0, 0, 0, 0, 0, 0, 0, 0, 0, 0, 0, 0, 0, 0, ...</td>\n",
              "    </tr>\n",
              "    <tr>\n",
              "      <th>20</th>\n",
              "      <td>RForest</td>\n",
              "      <td>0.908125</td>\n",
              "      <td>0.500000</td>\n",
              "      <td>0.000000</td>\n",
              "      <td>0.000000</td>\n",
              "      <td>0.000000</td>\n",
              "      <td>0.864399</td>\n",
              "      <td>[[20253, 0], [2049, 0]]</td>\n",
              "      <td>[0, 0, 0, 0, 0, 0, 0, 0, 0, 0, 0, 0, 0, 0, 0, ...</td>\n",
              "    </tr>\n",
              "    <tr>\n",
              "      <th>21</th>\n",
              "      <td>RForest</td>\n",
              "      <td>0.906869</td>\n",
              "      <td>0.499309</td>\n",
              "      <td>0.000000</td>\n",
              "      <td>0.000000</td>\n",
              "      <td>0.000000</td>\n",
              "      <td>0.863772</td>\n",
              "      <td>[[20225, 28], [2049, 0]]</td>\n",
              "      <td>[0, 0, 0, 0, 0, 0, 0, 0, 0, 0, 0, 0, 0, 0, 0, ...</td>\n",
              "    </tr>\n",
              "    <tr>\n",
              "      <th>22</th>\n",
              "      <td>RForest</td>\n",
              "      <td>0.902744</td>\n",
              "      <td>0.497476</td>\n",
              "      <td>0.016129</td>\n",
              "      <td>0.000976</td>\n",
              "      <td>0.001841</td>\n",
              "      <td>0.861872</td>\n",
              "      <td>[[20131, 122], [2047, 2]]</td>\n",
              "      <td>[0, 0, 0, 0, 0, 0, 0, 0, 0, 0, 0, 0, 0, 0, 0, ...</td>\n",
              "    </tr>\n",
              "    <tr>\n",
              "      <th>23</th>\n",
              "      <td>RForest</td>\n",
              "      <td>0.904269</td>\n",
              "      <td>0.497877</td>\n",
              "      <td>0.000000</td>\n",
              "      <td>0.000000</td>\n",
              "      <td>0.000000</td>\n",
              "      <td>0.862472</td>\n",
              "      <td>[[20167, 86], [2049, 0]]</td>\n",
              "      <td>[0, 0, 0, 0, 0, 0, 0, 0, 0, 0, 0, 0, 0, 0, 0, ...</td>\n",
              "    </tr>\n",
              "    <tr>\n",
              "      <th>24</th>\n",
              "      <td>RForest</td>\n",
              "      <td>0.811273</td>\n",
              "      <td>0.485497</td>\n",
              "      <td>0.070406</td>\n",
              "      <td>0.086384</td>\n",
              "      <td>0.077581</td>\n",
              "      <td>0.819793</td>\n",
              "      <td>[[17916, 2337], [1872, 177]]</td>\n",
              "      <td>[0, 0, 0, 0, 0, 0, 0, 0, 0, 0, 0, 0, 0, 0, 0, ...</td>\n",
              "    </tr>\n",
              "  </tbody>\n",
              "</table>\n",
              "</div>"
            ],
            "text/plain": [
              "       Nome  Acurácia  Acurácia Balanceada  Precisão    Recall  F1-score  \\\n",
              "0   RForest  0.907945             0.499901  0.000000  0.000000  0.000000   \n",
              "1   RForest  0.895077             0.492816  0.000000  0.000000  0.000000   \n",
              "2   RForest  0.906421             0.499062  0.000000  0.000000  0.000000   \n",
              "3   RForest  0.904627             0.498074  0.000000  0.000000  0.000000   \n",
              "4   RForest  0.845395             0.479061  0.040709  0.030259  0.034714   \n",
              "5   RForest  0.908125             0.500000  0.000000  0.000000  0.000000   \n",
              "6   RForest  0.903372             0.497383  0.000000  0.000000  0.000000   \n",
              "7   RForest  0.908125             0.500000  0.000000  0.000000  0.000000   \n",
              "8   RForest  0.902789             0.497062  0.000000  0.000000  0.000000   \n",
              "9   RForest  0.907049             0.499407  0.000000  0.000000  0.000000   \n",
              "10  RForest  0.909291             0.507222  0.882353  0.014641  0.028805   \n",
              "11  RForest  0.907004             0.500260  0.121212  0.001952  0.003842   \n",
              "12  RForest  0.909335             0.507466  0.885714  0.015129  0.029750   \n",
              "13  RForest  0.902699             0.504909  0.186528  0.017570  0.032114   \n",
              "14  RForest  0.808313             0.487377  0.073890  0.094192  0.082815   \n",
              "15  RForest  0.908035             0.499951  0.000000  0.000000  0.000000   \n",
              "16  RForest  0.905255             0.498420  0.000000  0.000000  0.000000   \n",
              "17  RForest  0.904762             0.499026  0.048193  0.001952  0.003752   \n",
              "18  RForest  0.904448             0.497976  0.000000  0.000000  0.000000   \n",
              "19  RForest  0.907811             0.499827  0.000000  0.000000  0.000000   \n",
              "20  RForest  0.908125             0.500000  0.000000  0.000000  0.000000   \n",
              "21  RForest  0.906869             0.499309  0.000000  0.000000  0.000000   \n",
              "22  RForest  0.902744             0.497476  0.016129  0.000976  0.001841   \n",
              "23  RForest  0.904269             0.497877  0.000000  0.000000  0.000000   \n",
              "24  RForest  0.811273             0.485497  0.070406  0.086384  0.077581   \n",
              "\n",
              "    F1-score Balanceada            Matriz de Confusão  \\\n",
              "0              0.864310       [[20249, 4], [2049, 0]]   \n",
              "1              0.857845     [[19962, 291], [2049, 0]]   \n",
              "2              0.863548      [[20215, 38], [2049, 0]]   \n",
              "3              0.862651      [[20175, 78], [2049, 0]]   \n",
              "4              0.835003   [[18792, 1461], [1987, 62]]   \n",
              "5              0.864399       [[20253, 0], [2049, 0]]   \n",
              "6              0.862022     [[20147, 106], [2049, 0]]   \n",
              "7              0.864399       [[20253, 0], [2049, 0]]   \n",
              "8              0.861730     [[20134, 119], [2049, 0]]   \n",
              "9              0.863862      [[20229, 24], [2049, 0]]   \n",
              "10             0.867566      [[20249, 4], [2019, 30]]   \n",
              "11             0.864184      [[20224, 29], [2045, 4]]   \n",
              "12             0.867673      [[20249, 4], [2018, 31]]   \n",
              "13             0.864556    [[20096, 157], [2013, 36]]   \n",
              "14             0.818539  [[17834, 2419], [1856, 193]]   \n",
              "15             0.864354       [[20251, 2], [2049, 0]]   \n",
              "16             0.862965      [[20189, 64], [2049, 0]]   \n",
              "17             0.863055      [[20174, 79], [2045, 4]]   \n",
              "18             0.862561      [[20171, 82], [2049, 0]]   \n",
              "19             0.864243       [[20246, 7], [2049, 0]]   \n",
              "20             0.864399       [[20253, 0], [2049, 0]]   \n",
              "21             0.863772      [[20225, 28], [2049, 0]]   \n",
              "22             0.861872     [[20131, 122], [2047, 2]]   \n",
              "23             0.862472      [[20167, 86], [2049, 0]]   \n",
              "24             0.819793  [[17916, 2337], [1872, 177]]   \n",
              "\n",
              "                                             Predição  \n",
              "0   [0, 0, 0, 0, 0, 0, 0, 0, 0, 0, 0, 0, 0, 0, 0, ...  \n",
              "1   [0, 0, 0, 0, 0, 0, 0, 0, 0, 0, 0, 0, 0, 0, 0, ...  \n",
              "2   [0, 0, 0, 0, 0, 0, 0, 0, 0, 0, 0, 0, 0, 0, 0, ...  \n",
              "3   [0, 0, 0, 0, 0, 0, 0, 0, 0, 0, 0, 0, 0, 0, 0, ...  \n",
              "4   [0, 0, 0, 0, 0, 0, 0, 0, 0, 0, 0, 0, 0, 0, 0, ...  \n",
              "5   [0, 0, 0, 0, 0, 0, 0, 0, 0, 0, 0, 0, 0, 0, 0, ...  \n",
              "6   [0, 0, 0, 0, 0, 0, 0, 0, 0, 0, 0, 0, 0, 0, 0, ...  \n",
              "7   [0, 0, 0, 0, 0, 0, 0, 0, 0, 0, 0, 0, 0, 0, 0, ...  \n",
              "8   [0, 0, 0, 0, 0, 0, 0, 0, 0, 0, 0, 0, 0, 0, 0, ...  \n",
              "9   [0, 0, 0, 0, 0, 0, 0, 0, 0, 0, 0, 0, 0, 0, 0, ...  \n",
              "10  [0, 0, 0, 0, 0, 0, 0, 0, 0, 0, 0, 0, 0, 0, 0, ...  \n",
              "11  [0, 0, 0, 0, 0, 0, 0, 0, 0, 0, 0, 0, 0, 0, 0, ...  \n",
              "12  [0, 0, 0, 0, 0, 0, 0, 0, 0, 0, 0, 0, 0, 0, 0, ...  \n",
              "13  [0, 0, 0, 0, 0, 0, 0, 0, 0, 0, 0, 0, 0, 0, 0, ...  \n",
              "14  [0, 0, 0, 0, 0, 0, 0, 0, 0, 0, 0, 0, 0, 0, 0, ...  \n",
              "15  [0, 0, 0, 0, 0, 0, 0, 0, 0, 0, 0, 0, 0, 0, 0, ...  \n",
              "16  [0, 0, 0, 0, 0, 0, 0, 0, 0, 0, 0, 0, 0, 0, 0, ...  \n",
              "17  [0, 0, 0, 0, 0, 0, 0, 0, 0, 0, 0, 0, 0, 0, 0, ...  \n",
              "18  [0, 0, 0, 0, 0, 0, 0, 0, 0, 0, 0, 0, 0, 0, 0, ...  \n",
              "19  [0, 0, 0, 0, 0, 0, 0, 0, 0, 0, 0, 0, 0, 0, 0, ...  \n",
              "20  [0, 0, 0, 0, 0, 0, 0, 0, 0, 0, 0, 0, 0, 0, 0, ...  \n",
              "21  [0, 0, 0, 0, 0, 0, 0, 0, 0, 0, 0, 0, 0, 0, 0, ...  \n",
              "22  [0, 0, 0, 0, 0, 0, 0, 0, 0, 0, 0, 0, 0, 0, 0, ...  \n",
              "23  [0, 0, 0, 0, 0, 0, 0, 0, 0, 0, 0, 0, 0, 0, 0, ...  \n",
              "24  [0, 0, 0, 0, 0, 0, 0, 0, 0, 0, 0, 0, 0, 0, 0, ...  "
            ]
          },
          "execution_count": 116,
          "metadata": {},
          "output_type": "execute_result"
        }
      ],
      "source": [
        "modelos_df\n"
      ]
    },
    {
      "cell_type": "code",
      "execution_count": 108,
      "metadata": {},
      "outputs": [],
      "source": [
        "import pandas as pd\n",
        "import plotly.express as px\n"
      ]
    },
    {
      "cell_type": "code",
      "execution_count": 109,
      "metadata": {},
      "outputs": [],
      "source": [
        "dfp = pd.read_csv('https://raw.githubusercontent.com/GUIPETAV/modelos/main/modelos_sim_realderiv.csv')"
      ]
    },
    {
      "cell_type": "code",
      "execution_count": 115,
      "metadata": {},
      "outputs": [
        {
          "data": {
            "application/vnd.plotly.v1+json": {
              "config": {
                "plotlyServerURL": "https://plot.ly"
              },
              "data": [
                {
                  "alignmentgroup": "True",
                  "boxpoints": "all",
                  "hovertemplate": "Nome=%{x}<br>Acurácia Balanceada=%{y}<extra></extra>",
                  "legendgroup": "",
                  "marker": {
                    "color": "rgb(141,211,199)"
                  },
                  "name": "",
                  "notched": false,
                  "offsetgroup": "",
                  "orientation": "v",
                  "showlegend": false,
                  "type": "box",
                  "x": [
                    "RForest",
                    "RForest",
                    "RForest",
                    "RForest",
                    "RForest",
                    "RForest",
                    "RForest",
                    "RForest",
                    "RForest",
                    "RForest",
                    "RForest",
                    "RForest",
                    "RForest",
                    "RForest",
                    "RForest",
                    "RForest",
                    "RForest",
                    "RForest",
                    "RForest",
                    "RForest",
                    "RForest",
                    "RForest",
                    "RForest",
                    "RForest",
                    "RForest"
                  ],
                  "x0": " ",
                  "xaxis": "x",
                  "y": [
                    0.5,
                    0.5005878058374158,
                    0.5,
                    0.5006561578752066,
                    0.4480234260614934,
                    0.4997531229941243,
                    0.457331737416267,
                    0.4950569295483871,
                    0.4709140933805226,
                    0.2235368272176874,
                    0.4520547504521681,
                    0.5005563226936212,
                    0.5743463416189305,
                    0.6752120087915685,
                    0.4165496079282291,
                    0.5569939966596782,
                    0.4057242861694151,
                    0.4809485773631208,
                    0.4145210596929804,
                    0.3493660610553222,
                    0.505935964225317,
                    0.6324765869872034,
                    0.4685086872150748,
                    0.4767228599215531,
                    0.4981949423251216
                  ],
                  "y0": " ",
                  "yaxis": "y"
                }
              ],
              "layout": {
                "boxmode": "group",
                "legend": {
                  "tracegroupgap": 0
                },
                "template": {
                  "data": {
                    "bar": [
                      {
                        "error_x": {
                          "color": "#2a3f5f"
                        },
                        "error_y": {
                          "color": "#2a3f5f"
                        },
                        "marker": {
                          "line": {
                            "color": "#E5ECF6",
                            "width": 0.5
                          },
                          "pattern": {
                            "fillmode": "overlay",
                            "size": 10,
                            "solidity": 0.2
                          }
                        },
                        "type": "bar"
                      }
                    ],
                    "barpolar": [
                      {
                        "marker": {
                          "line": {
                            "color": "#E5ECF6",
                            "width": 0.5
                          },
                          "pattern": {
                            "fillmode": "overlay",
                            "size": 10,
                            "solidity": 0.2
                          }
                        },
                        "type": "barpolar"
                      }
                    ],
                    "carpet": [
                      {
                        "aaxis": {
                          "endlinecolor": "#2a3f5f",
                          "gridcolor": "white",
                          "linecolor": "white",
                          "minorgridcolor": "white",
                          "startlinecolor": "#2a3f5f"
                        },
                        "baxis": {
                          "endlinecolor": "#2a3f5f",
                          "gridcolor": "white",
                          "linecolor": "white",
                          "minorgridcolor": "white",
                          "startlinecolor": "#2a3f5f"
                        },
                        "type": "carpet"
                      }
                    ],
                    "choropleth": [
                      {
                        "colorbar": {
                          "outlinewidth": 0,
                          "ticks": ""
                        },
                        "type": "choropleth"
                      }
                    ],
                    "contour": [
                      {
                        "colorbar": {
                          "outlinewidth": 0,
                          "ticks": ""
                        },
                        "colorscale": [
                          [
                            0,
                            "#0d0887"
                          ],
                          [
                            0.1111111111111111,
                            "#46039f"
                          ],
                          [
                            0.2222222222222222,
                            "#7201a8"
                          ],
                          [
                            0.3333333333333333,
                            "#9c179e"
                          ],
                          [
                            0.4444444444444444,
                            "#bd3786"
                          ],
                          [
                            0.5555555555555556,
                            "#d8576b"
                          ],
                          [
                            0.6666666666666666,
                            "#ed7953"
                          ],
                          [
                            0.7777777777777778,
                            "#fb9f3a"
                          ],
                          [
                            0.8888888888888888,
                            "#fdca26"
                          ],
                          [
                            1,
                            "#f0f921"
                          ]
                        ],
                        "type": "contour"
                      }
                    ],
                    "contourcarpet": [
                      {
                        "colorbar": {
                          "outlinewidth": 0,
                          "ticks": ""
                        },
                        "type": "contourcarpet"
                      }
                    ],
                    "heatmap": [
                      {
                        "colorbar": {
                          "outlinewidth": 0,
                          "ticks": ""
                        },
                        "colorscale": [
                          [
                            0,
                            "#0d0887"
                          ],
                          [
                            0.1111111111111111,
                            "#46039f"
                          ],
                          [
                            0.2222222222222222,
                            "#7201a8"
                          ],
                          [
                            0.3333333333333333,
                            "#9c179e"
                          ],
                          [
                            0.4444444444444444,
                            "#bd3786"
                          ],
                          [
                            0.5555555555555556,
                            "#d8576b"
                          ],
                          [
                            0.6666666666666666,
                            "#ed7953"
                          ],
                          [
                            0.7777777777777778,
                            "#fb9f3a"
                          ],
                          [
                            0.8888888888888888,
                            "#fdca26"
                          ],
                          [
                            1,
                            "#f0f921"
                          ]
                        ],
                        "type": "heatmap"
                      }
                    ],
                    "heatmapgl": [
                      {
                        "colorbar": {
                          "outlinewidth": 0,
                          "ticks": ""
                        },
                        "colorscale": [
                          [
                            0,
                            "#0d0887"
                          ],
                          [
                            0.1111111111111111,
                            "#46039f"
                          ],
                          [
                            0.2222222222222222,
                            "#7201a8"
                          ],
                          [
                            0.3333333333333333,
                            "#9c179e"
                          ],
                          [
                            0.4444444444444444,
                            "#bd3786"
                          ],
                          [
                            0.5555555555555556,
                            "#d8576b"
                          ],
                          [
                            0.6666666666666666,
                            "#ed7953"
                          ],
                          [
                            0.7777777777777778,
                            "#fb9f3a"
                          ],
                          [
                            0.8888888888888888,
                            "#fdca26"
                          ],
                          [
                            1,
                            "#f0f921"
                          ]
                        ],
                        "type": "heatmapgl"
                      }
                    ],
                    "histogram": [
                      {
                        "marker": {
                          "pattern": {
                            "fillmode": "overlay",
                            "size": 10,
                            "solidity": 0.2
                          }
                        },
                        "type": "histogram"
                      }
                    ],
                    "histogram2d": [
                      {
                        "colorbar": {
                          "outlinewidth": 0,
                          "ticks": ""
                        },
                        "colorscale": [
                          [
                            0,
                            "#0d0887"
                          ],
                          [
                            0.1111111111111111,
                            "#46039f"
                          ],
                          [
                            0.2222222222222222,
                            "#7201a8"
                          ],
                          [
                            0.3333333333333333,
                            "#9c179e"
                          ],
                          [
                            0.4444444444444444,
                            "#bd3786"
                          ],
                          [
                            0.5555555555555556,
                            "#d8576b"
                          ],
                          [
                            0.6666666666666666,
                            "#ed7953"
                          ],
                          [
                            0.7777777777777778,
                            "#fb9f3a"
                          ],
                          [
                            0.8888888888888888,
                            "#fdca26"
                          ],
                          [
                            1,
                            "#f0f921"
                          ]
                        ],
                        "type": "histogram2d"
                      }
                    ],
                    "histogram2dcontour": [
                      {
                        "colorbar": {
                          "outlinewidth": 0,
                          "ticks": ""
                        },
                        "colorscale": [
                          [
                            0,
                            "#0d0887"
                          ],
                          [
                            0.1111111111111111,
                            "#46039f"
                          ],
                          [
                            0.2222222222222222,
                            "#7201a8"
                          ],
                          [
                            0.3333333333333333,
                            "#9c179e"
                          ],
                          [
                            0.4444444444444444,
                            "#bd3786"
                          ],
                          [
                            0.5555555555555556,
                            "#d8576b"
                          ],
                          [
                            0.6666666666666666,
                            "#ed7953"
                          ],
                          [
                            0.7777777777777778,
                            "#fb9f3a"
                          ],
                          [
                            0.8888888888888888,
                            "#fdca26"
                          ],
                          [
                            1,
                            "#f0f921"
                          ]
                        ],
                        "type": "histogram2dcontour"
                      }
                    ],
                    "mesh3d": [
                      {
                        "colorbar": {
                          "outlinewidth": 0,
                          "ticks": ""
                        },
                        "type": "mesh3d"
                      }
                    ],
                    "parcoords": [
                      {
                        "line": {
                          "colorbar": {
                            "outlinewidth": 0,
                            "ticks": ""
                          }
                        },
                        "type": "parcoords"
                      }
                    ],
                    "pie": [
                      {
                        "automargin": true,
                        "type": "pie"
                      }
                    ],
                    "scatter": [
                      {
                        "fillpattern": {
                          "fillmode": "overlay",
                          "size": 10,
                          "solidity": 0.2
                        },
                        "type": "scatter"
                      }
                    ],
                    "scatter3d": [
                      {
                        "line": {
                          "colorbar": {
                            "outlinewidth": 0,
                            "ticks": ""
                          }
                        },
                        "marker": {
                          "colorbar": {
                            "outlinewidth": 0,
                            "ticks": ""
                          }
                        },
                        "type": "scatter3d"
                      }
                    ],
                    "scattercarpet": [
                      {
                        "marker": {
                          "colorbar": {
                            "outlinewidth": 0,
                            "ticks": ""
                          }
                        },
                        "type": "scattercarpet"
                      }
                    ],
                    "scattergeo": [
                      {
                        "marker": {
                          "colorbar": {
                            "outlinewidth": 0,
                            "ticks": ""
                          }
                        },
                        "type": "scattergeo"
                      }
                    ],
                    "scattergl": [
                      {
                        "marker": {
                          "colorbar": {
                            "outlinewidth": 0,
                            "ticks": ""
                          }
                        },
                        "type": "scattergl"
                      }
                    ],
                    "scattermapbox": [
                      {
                        "marker": {
                          "colorbar": {
                            "outlinewidth": 0,
                            "ticks": ""
                          }
                        },
                        "type": "scattermapbox"
                      }
                    ],
                    "scatterpolar": [
                      {
                        "marker": {
                          "colorbar": {
                            "outlinewidth": 0,
                            "ticks": ""
                          }
                        },
                        "type": "scatterpolar"
                      }
                    ],
                    "scatterpolargl": [
                      {
                        "marker": {
                          "colorbar": {
                            "outlinewidth": 0,
                            "ticks": ""
                          }
                        },
                        "type": "scatterpolargl"
                      }
                    ],
                    "scatterternary": [
                      {
                        "marker": {
                          "colorbar": {
                            "outlinewidth": 0,
                            "ticks": ""
                          }
                        },
                        "type": "scatterternary"
                      }
                    ],
                    "surface": [
                      {
                        "colorbar": {
                          "outlinewidth": 0,
                          "ticks": ""
                        },
                        "colorscale": [
                          [
                            0,
                            "#0d0887"
                          ],
                          [
                            0.1111111111111111,
                            "#46039f"
                          ],
                          [
                            0.2222222222222222,
                            "#7201a8"
                          ],
                          [
                            0.3333333333333333,
                            "#9c179e"
                          ],
                          [
                            0.4444444444444444,
                            "#bd3786"
                          ],
                          [
                            0.5555555555555556,
                            "#d8576b"
                          ],
                          [
                            0.6666666666666666,
                            "#ed7953"
                          ],
                          [
                            0.7777777777777778,
                            "#fb9f3a"
                          ],
                          [
                            0.8888888888888888,
                            "#fdca26"
                          ],
                          [
                            1,
                            "#f0f921"
                          ]
                        ],
                        "type": "surface"
                      }
                    ],
                    "table": [
                      {
                        "cells": {
                          "fill": {
                            "color": "#EBF0F8"
                          },
                          "line": {
                            "color": "white"
                          }
                        },
                        "header": {
                          "fill": {
                            "color": "#C8D4E3"
                          },
                          "line": {
                            "color": "white"
                          }
                        },
                        "type": "table"
                      }
                    ]
                  },
                  "layout": {
                    "annotationdefaults": {
                      "arrowcolor": "#2a3f5f",
                      "arrowhead": 0,
                      "arrowwidth": 1
                    },
                    "autotypenumbers": "strict",
                    "coloraxis": {
                      "colorbar": {
                        "outlinewidth": 0,
                        "ticks": ""
                      }
                    },
                    "colorscale": {
                      "diverging": [
                        [
                          0,
                          "#8e0152"
                        ],
                        [
                          0.1,
                          "#c51b7d"
                        ],
                        [
                          0.2,
                          "#de77ae"
                        ],
                        [
                          0.3,
                          "#f1b6da"
                        ],
                        [
                          0.4,
                          "#fde0ef"
                        ],
                        [
                          0.5,
                          "#f7f7f7"
                        ],
                        [
                          0.6,
                          "#e6f5d0"
                        ],
                        [
                          0.7,
                          "#b8e186"
                        ],
                        [
                          0.8,
                          "#7fbc41"
                        ],
                        [
                          0.9,
                          "#4d9221"
                        ],
                        [
                          1,
                          "#276419"
                        ]
                      ],
                      "sequential": [
                        [
                          0,
                          "#0d0887"
                        ],
                        [
                          0.1111111111111111,
                          "#46039f"
                        ],
                        [
                          0.2222222222222222,
                          "#7201a8"
                        ],
                        [
                          0.3333333333333333,
                          "#9c179e"
                        ],
                        [
                          0.4444444444444444,
                          "#bd3786"
                        ],
                        [
                          0.5555555555555556,
                          "#d8576b"
                        ],
                        [
                          0.6666666666666666,
                          "#ed7953"
                        ],
                        [
                          0.7777777777777778,
                          "#fb9f3a"
                        ],
                        [
                          0.8888888888888888,
                          "#fdca26"
                        ],
                        [
                          1,
                          "#f0f921"
                        ]
                      ],
                      "sequentialminus": [
                        [
                          0,
                          "#0d0887"
                        ],
                        [
                          0.1111111111111111,
                          "#46039f"
                        ],
                        [
                          0.2222222222222222,
                          "#7201a8"
                        ],
                        [
                          0.3333333333333333,
                          "#9c179e"
                        ],
                        [
                          0.4444444444444444,
                          "#bd3786"
                        ],
                        [
                          0.5555555555555556,
                          "#d8576b"
                        ],
                        [
                          0.6666666666666666,
                          "#ed7953"
                        ],
                        [
                          0.7777777777777778,
                          "#fb9f3a"
                        ],
                        [
                          0.8888888888888888,
                          "#fdca26"
                        ],
                        [
                          1,
                          "#f0f921"
                        ]
                      ]
                    },
                    "colorway": [
                      "#636efa",
                      "#EF553B",
                      "#00cc96",
                      "#ab63fa",
                      "#FFA15A",
                      "#19d3f3",
                      "#FF6692",
                      "#B6E880",
                      "#FF97FF",
                      "#FECB52"
                    ],
                    "font": {
                      "color": "#2a3f5f"
                    },
                    "geo": {
                      "bgcolor": "white",
                      "lakecolor": "white",
                      "landcolor": "#E5ECF6",
                      "showlakes": true,
                      "showland": true,
                      "subunitcolor": "white"
                    },
                    "hoverlabel": {
                      "align": "left"
                    },
                    "hovermode": "closest",
                    "mapbox": {
                      "style": "light"
                    },
                    "paper_bgcolor": "white",
                    "plot_bgcolor": "#E5ECF6",
                    "polar": {
                      "angularaxis": {
                        "gridcolor": "white",
                        "linecolor": "white",
                        "ticks": ""
                      },
                      "bgcolor": "#E5ECF6",
                      "radialaxis": {
                        "gridcolor": "white",
                        "linecolor": "white",
                        "ticks": ""
                      }
                    },
                    "scene": {
                      "xaxis": {
                        "backgroundcolor": "#E5ECF6",
                        "gridcolor": "white",
                        "gridwidth": 2,
                        "linecolor": "white",
                        "showbackground": true,
                        "ticks": "",
                        "zerolinecolor": "white"
                      },
                      "yaxis": {
                        "backgroundcolor": "#E5ECF6",
                        "gridcolor": "white",
                        "gridwidth": 2,
                        "linecolor": "white",
                        "showbackground": true,
                        "ticks": "",
                        "zerolinecolor": "white"
                      },
                      "zaxis": {
                        "backgroundcolor": "#E5ECF6",
                        "gridcolor": "white",
                        "gridwidth": 2,
                        "linecolor": "white",
                        "showbackground": true,
                        "ticks": "",
                        "zerolinecolor": "white"
                      }
                    },
                    "shapedefaults": {
                      "line": {
                        "color": "#2a3f5f"
                      }
                    },
                    "ternary": {
                      "aaxis": {
                        "gridcolor": "white",
                        "linecolor": "white",
                        "ticks": ""
                      },
                      "baxis": {
                        "gridcolor": "white",
                        "linecolor": "white",
                        "ticks": ""
                      },
                      "bgcolor": "#E5ECF6",
                      "caxis": {
                        "gridcolor": "white",
                        "linecolor": "white",
                        "ticks": ""
                      }
                    },
                    "title": {
                      "x": 0.05
                    },
                    "xaxis": {
                      "automargin": true,
                      "gridcolor": "white",
                      "linecolor": "white",
                      "ticks": "",
                      "title": {
                        "standoff": 15
                      },
                      "zerolinecolor": "white",
                      "zerolinewidth": 2
                    },
                    "yaxis": {
                      "automargin": true,
                      "gridcolor": "white",
                      "linecolor": "white",
                      "ticks": "",
                      "title": {
                        "standoff": 15
                      },
                      "zerolinecolor": "white",
                      "zerolinewidth": 2
                    }
                  }
                },
                "title": {
                  "text": "Boxplot da F1-Score Balanceada do Classificador "
                },
                "xaxis": {
                  "anchor": "y",
                  "domain": [
                    0,
                    1
                  ],
                  "title": {
                    "text": "Nome"
                  }
                },
                "yaxis": {
                  "anchor": "x",
                  "domain": [
                    0,
                    1
                  ],
                  "range": [
                    0,
                    1
                  ],
                  "title": {
                    "text": "Acurácia Balanceada"
                  }
                }
              }
            }
          },
          "metadata": {},
          "output_type": "display_data"
        }
      ],
      "source": [
        "fig = px.box(dfp, x='Nome', y='Acurácia Balanceada', points='all', title='Boxplot da F1-Score Balanceada do Classificador ',color_discrete_sequence=px.colors.qualitative.Set3)\n",
        "fig.update_yaxes(range=[0, 1])\n",
        "fig.show()"
      ]
    },
    {
      "cell_type": "code",
      "execution_count": null,
      "metadata": {},
      "outputs": [],
      "source": []
    }
  ],
  "metadata": {
    "colab": {
      "collapsed_sections": [
        "NPR7AKXU3oGu"
      ],
      "provenance": []
    },
    "kernelspec": {
      "display_name": "Python 3",
      "name": "python3"
    },
    "language_info": {
      "codemirror_mode": {
        "name": "ipython",
        "version": 3
      },
      "file_extension": ".py",
      "mimetype": "text/x-python",
      "name": "python",
      "nbconvert_exporter": "python",
      "pygments_lexer": "ipython3",
      "version": "3.8.10"
    }
  },
  "nbformat": 4,
  "nbformat_minor": 0
}
