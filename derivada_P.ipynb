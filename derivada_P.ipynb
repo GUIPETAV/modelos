{
  "cells": [
    {
      "cell_type": "markdown",
      "metadata": {
        "id": "mbCRD_2u8NQk"
      },
      "source": [
        "# Sumário\n",
        "\n",
        "1. [Pré-Processamento](Pré)\n",
        "2. [Machine Learning](ml)\n",
        "3. [Gráficos](gf)\n",
        "\n"
      ]
    },
    {
      "cell_type": "markdown",
      "metadata": {
        "id": "9ozcfCfUE2Bs"
      },
      "source": [
        "# Pré-Processamento dados Reais\n"
      ]
    },
    {
      "cell_type": "code",
      "execution_count": 2,
      "metadata": {
        "id": "SWRk8G3fB8Sx"
      },
      "outputs": [],
      "source": [
        "import pandas as pd\n",
        "import os\n",
        "import numpy as np\n"
      ]
    },
    {
      "cell_type": "code",
      "execution_count": 3,
      "metadata": {
        "id": "GSh0FwRoG4Jc"
      },
      "outputs": [],
      "source": [
        "\n",
        "df1 = pd.read_csv('https://raw.githubusercontent.com/GUIPETAV/Base/main/df1.csv')# falha de subcarga\n",
        "df2 = pd.read_csv('https://raw.githubusercontent.com/GUIPETAV/Base/main/df2.csv')# sem falha de subcarga\n"
      ]
    },
    {
      "cell_type": "code",
      "execution_count": 4,
      "metadata": {
        "id": "UbTJIBbD3mS4"
      },
      "outputs": [],
      "source": [
        "df10 = pd.read_csv('https://raw.githubusercontent.com/GUIPETAV/Base/main/df10.csv') # falha de subcarga 10%\n",
        "df20 = pd.read_csv('https://raw.githubusercontent.com/GUIPETAV/Base/main/df20.csv') # falha de subcarga 20%\n",
        "df15 = pd.read_csv('https://raw.githubusercontent.com/GUIPETAV/Base/main/df15.csv') # falha de subcarga 15%\n",
        "dfbs = pd.read_csv('https://raw.githubusercontent.com/GUIPETAV/Base/main/dfbs.csv') #  sem de falha de subcarga"
      ]
    },
    {
      "cell_type": "code",
      "execution_count": 5,
      "metadata": {
        "colab": {
          "base_uri": "https://localhost:8080/",
          "height": 551
        },
        "id": "3XoDbCXb4j8F",
        "outputId": "b39c26ac-7292-4473-a7af-7f6c859d3191"
      },
      "outputs": [
        {
          "data": {
            "text/html": [
              "<div>\n",
              "<style scoped>\n",
              "    .dataframe tbody tr th:only-of-type {\n",
              "        vertical-align: middle;\n",
              "    }\n",
              "\n",
              "    .dataframe tbody tr th {\n",
              "        vertical-align: top;\n",
              "    }\n",
              "\n",
              "    .dataframe thead th {\n",
              "        text-align: right;\n",
              "    }\n",
              "</style>\n",
              "<table border=\"1\" class=\"dataframe\">\n",
              "  <thead>\n",
              "    <tr style=\"text-align: right;\">\n",
              "      <th></th>\n",
              "      <th>Colunas do df2 com nomes diferentes do dfbs</th>\n",
              "      <th>Colunas do dfbs com nomes diferentes do df2</th>\n",
              "    </tr>\n",
              "  </thead>\n",
              "  <tbody>\n",
              "    <tr>\n",
              "      <th>0</th>\n",
              "      <td>RTU_REFG_SUCT_TEMP_2</td>\n",
              "      <td>RTU_SEN_CAPA</td>\n",
              "    </tr>\n",
              "    <tr>\n",
              "      <th>1</th>\n",
              "      <td>RTU_REFG_DISC_PRES_1</td>\n",
              "      <td>RTU_REFG_DISC_PRES</td>\n",
              "    </tr>\n",
              "    <tr>\n",
              "      <th>2</th>\n",
              "      <td>time</td>\n",
              "      <td>RTU_REFG_SUCT_TEMP</td>\n",
              "    </tr>\n",
              "    <tr>\n",
              "      <th>3</th>\n",
              "      <td>RTU_REFG_SUCT_TEMP_1</td>\n",
              "      <td>RTU_TOT_CAPA</td>\n",
              "    </tr>\n",
              "    <tr>\n",
              "      <th>4</th>\n",
              "      <td>date</td>\n",
              "      <td>RTU_RA_FLOW</td>\n",
              "    </tr>\n",
              "    <tr>\n",
              "      <th>5</th>\n",
              "      <td>RTU_REFG_COND_TEMP_2</td>\n",
              "      <td>RTU_REFG_DISC_TEMP</td>\n",
              "    </tr>\n",
              "    <tr>\n",
              "      <th>6</th>\n",
              "      <td>RTU_REFG_COND_TEMP_1</td>\n",
              "      <td>RTU_STG_STA</td>\n",
              "    </tr>\n",
              "    <tr>\n",
              "      <th>7</th>\n",
              "      <td>RTU_REFG_SUCT_PRES_1</td>\n",
              "      <td>RTU_REFG_COND_PRES</td>\n",
              "    </tr>\n",
              "    <tr>\n",
              "      <th>8</th>\n",
              "      <td>RTU_REFG_SUCT_PRES_2</td>\n",
              "      <td>RTU_REFG_SUCT_PRES</td>\n",
              "    </tr>\n",
              "    <tr>\n",
              "      <th>9</th>\n",
              "      <td>RTU_REFG_DISC_TEMP_1</td>\n",
              "      <td>RTU_REFG_COND_TEMP</td>\n",
              "    </tr>\n",
              "    <tr>\n",
              "      <th>10</th>\n",
              "      <td>RTU_MA_TEMP</td>\n",
              "      <td>RTU_OA_FLOW</td>\n",
              "    </tr>\n",
              "    <tr>\n",
              "      <th>11</th>\n",
              "      <td>RTU_REFG_DISC_PRES_2</td>\n",
              "      <td>ZA_TEMP_SPT</td>\n",
              "    </tr>\n",
              "    <tr>\n",
              "      <th>12</th>\n",
              "      <td>month</td>\n",
              "      <td>None</td>\n",
              "    </tr>\n",
              "    <tr>\n",
              "      <th>13</th>\n",
              "      <td>RTU_MA_HUM</td>\n",
              "      <td>None</td>\n",
              "    </tr>\n",
              "    <tr>\n",
              "      <th>14</th>\n",
              "      <td>RTU_REFG_DISC_TEMP_2</td>\n",
              "      <td>None</td>\n",
              "    </tr>\n",
              "    <tr>\n",
              "      <th>15</th>\n",
              "      <td>RTU_LA_COND_TEMP</td>\n",
              "      <td>None</td>\n",
              "    </tr>\n",
              "  </tbody>\n",
              "</table>\n",
              "</div>"
            ],
            "text/plain": [
              "   Colunas do df2 com nomes diferentes do dfbs  \\\n",
              "0                         RTU_REFG_SUCT_TEMP_2   \n",
              "1                         RTU_REFG_DISC_PRES_1   \n",
              "2                                         time   \n",
              "3                         RTU_REFG_SUCT_TEMP_1   \n",
              "4                                         date   \n",
              "5                         RTU_REFG_COND_TEMP_2   \n",
              "6                         RTU_REFG_COND_TEMP_1   \n",
              "7                         RTU_REFG_SUCT_PRES_1   \n",
              "8                         RTU_REFG_SUCT_PRES_2   \n",
              "9                         RTU_REFG_DISC_TEMP_1   \n",
              "10                                 RTU_MA_TEMP   \n",
              "11                        RTU_REFG_DISC_PRES_2   \n",
              "12                                       month   \n",
              "13                                  RTU_MA_HUM   \n",
              "14                        RTU_REFG_DISC_TEMP_2   \n",
              "15                            RTU_LA_COND_TEMP   \n",
              "\n",
              "   Colunas do dfbs com nomes diferentes do df2  \n",
              "0                                 RTU_SEN_CAPA  \n",
              "1                           RTU_REFG_DISC_PRES  \n",
              "2                           RTU_REFG_SUCT_TEMP  \n",
              "3                                 RTU_TOT_CAPA  \n",
              "4                                  RTU_RA_FLOW  \n",
              "5                           RTU_REFG_DISC_TEMP  \n",
              "6                                  RTU_STG_STA  \n",
              "7                           RTU_REFG_COND_PRES  \n",
              "8                           RTU_REFG_SUCT_PRES  \n",
              "9                           RTU_REFG_COND_TEMP  \n",
              "10                                 RTU_OA_FLOW  \n",
              "11                                 ZA_TEMP_SPT  \n",
              "12                                        None  \n",
              "13                                        None  \n",
              "14                                        None  \n",
              "15                                        None  "
            ]
          },
          "execution_count": 5,
          "metadata": {},
          "output_type": "execute_result"
        }
      ],
      "source": [
        "import pandas as pd\n",
        "\n",
        "\n",
        "# Obter os nomes das colunas de ambos os DataFrames\n",
        "columns_df2 = set(df2.columns)\n",
        "columns_dfbs = set(dfbs.columns)\n",
        "\n",
        "# Encontrar as colunas com nomes diferentes\n",
        "different_columns_df2 = columns_df2.difference(columns_dfbs)\n",
        "different_columns_dfbs = columns_dfbs.difference(columns_df2)\n",
        "\n",
        "# Criar listas vazias para as colunas do DataFrame\n",
        "different_columns_df2_list = list(different_columns_df2)\n",
        "different_columns_dfbs_list = list(different_columns_dfbs)\n",
        "\n",
        "# Preencher com None para manter as listas com o mesmo tamanho\n",
        "max_length = max(len(different_columns_df2_list), len(different_columns_dfbs_list))\n",
        "different_columns_df2_list.extend([None] * (max_length - len(different_columns_df2_list)))\n",
        "different_columns_dfbs_list.extend([None] * (max_length - len(different_columns_dfbs_list)))\n",
        "\n",
        "# Criar um DataFrame para a tabela\n",
        "table_data = {\n",
        "    'Colunas do df2 com nomes diferentes do dfbs': different_columns_df2_list,\n",
        "    'Colunas do dfbs com nomes diferentes do df2': different_columns_dfbs_list\n",
        "}\n",
        "\n",
        "result_table = pd.DataFrame(table_data)\n",
        "\n",
        "\n",
        "result_table"
      ]
    },
    {
      "cell_type": "code",
      "execution_count": 6,
      "metadata": {
        "id": "THYdm66H50ii"
      },
      "outputs": [],
      "source": [
        "# Remover as features incongruentes\n",
        "\n",
        "columns_to_drop_real = ['Unnamed: 0','time','date','month'\n",
        "    'RTU_MA_HUM', 'RTU_MA_TEMP', 'RTU_LA_COND_TEMP',]"
      ]
    },
    {
      "cell_type": "code",
      "execution_count": 7,
      "metadata": {
        "id": "8SGMxIiqLU39"
      },
      "outputs": [],
      "source": [
        "df1_t = df1.assign(Target = 1) # falha de subcarga\n",
        "\n",
        "df2_t = df2.assign(Target = 0) # não falha de subcarga\n",
        "\n"
      ]
    },
    {
      "cell_type": "code",
      "execution_count": 8,
      "metadata": {
        "id": "GFfhB98XRqk8"
      },
      "outputs": [],
      "source": [
        "# Eliminando  os momentos de desligameno do sistema no  site 2 de forma continua\n",
        "# Seleciona as linhas que não contêm zero na FAN_WAAT e 'COMP_WATT'.\n",
        "\n",
        "df1_c = df1_t.loc[(df1_t['RTU_SA_FAN_WATT'] != 0) & (df1_t['RTU_COMP_WATT'] != 0)]\n",
        "df2_c = df2_t.loc[(df2_t['RTU_SA_FAN_WATT'] != 0) & (df2_t['RTU_COMP_WATT'] != 0)]"
      ]
    },
    {
      "cell_type": "code",
      "execution_count": 9,
      "metadata": {
        "id": "NFFu2OEAxpGc"
      },
      "outputs": [],
      "source": [
        "# Cria uma nova feature com a soma das pressões\n",
        "df1_c = df1_c.assign(\n",
        "    RTU_REFG_DISC_PRES=df1_c['RTU_REFG_DISC_PRES_1'] + df1_c['RTU_REFG_DISC_PRES_2'],\n",
        "    RTU_REFG_SUCT_PRES=df1_c['RTU_REFG_SUCT_PRES_1'] + df1_c['RTU_REFG_SUCT_PRES_2'])\n",
        "\n",
        "df2_c = df2_c.assign(\n",
        "    RTU_REFG_DISC_PRES=df2_c['RTU_REFG_DISC_PRES_1'] + df2_c['RTU_REFG_DISC_PRES_2'],\n",
        "    RTU_REFG_SUCT_PRES=df2_c['RTU_REFG_SUCT_PRES_1'] + df2_c['RTU_REFG_SUCT_PRES_2'])\n"
      ]
    },
    {
      "cell_type": "markdown",
      "metadata": {},
      "source": [
        "#### Padronizar a Pressão "
      ]
    },
    {
      "cell_type": "code",
      "execution_count": 14,
      "metadata": {},
      "outputs": [],
      "source": [
        "# Passo 1: Calcular a Derivada da Pressão (N-1) por Minuto\n",
        "\n",
        "# Certifique-se de que as colunas de data/hora estão no formato de data/hora do pandas\n",
        "df1_c['Datetime'] = pd.to_datetime(df1_c['Datetime'])\n",
        "\n",
        "df2_c['Datetime'] = pd.to_datetime(df1_c['Datetime'])\n",
        "\n",
        "# Ordene o DataFrame pela coluna 'DataHora' (caso não esteja ordenado)\n",
        "df1_c.sort_values(by='Datetime', inplace=True)\n",
        "\n",
        "df2_c.sort_values(by='Datetime', inplace=True)\n",
        "\n",
        "\n",
        "# Calcule a derivada por minuto para 'RTU_REFG_DISC_PRES'\n",
        "\n",
        "df1_c['Derivada_RTU_REFG_DISC_PRES'] = df1_c['RTU_REFG_DISC_PRES'].diff() / df1_c['Datetime'].diff().dt.total_seconds()\n",
        "df2_c['Derivada_RTU_REFG_DISC_PRES'] = df2_c['RTU_REFG_DISC_PRES'].diff() / df2_c['Datetime'].diff().dt.total_seconds()\n",
        "\n",
        "\n",
        "# Calcule a derivada por minuto para 'RTU_REFG_SUCT_PRES'\n",
        "df1_c['Derivada_RTU_REFG_SUCT_PRES'] = df1_c['RTU_REFG_SUCT_PRES'].diff() / df1_c['Datetime'].diff().dt.total_seconds()\n",
        "\n",
        "df2_c['Derivada_RTU_REFG_SUCT_PRES'] = df2_c['RTU_REFG_SUCT_PRES'].diff() / df2_c['Datetime'].diff().dt.total_seconds()\n",
        "\n"
      ]
    },
    {
      "cell_type": "code",
      "execution_count": 16,
      "metadata": {},
      "outputs": [],
      "source": [
        "# Passo 2 Calcular a Média móvel \n",
        "\n",
        "# Calcule a média móvel da derivada por minuto para 'RTU_REFG_DISC_PRES'\n",
        "\n",
        "janela_um_dia = 1440   # Janela de um dia (1440 minutos)\n",
        "\n",
        "df1_c['MediaMovel_Derivada_RTU_REFG_DISC_PRES'] = df1_c['Derivada_RTU_REFG_DISC_PRES'].rolling(window=janela_um_dia).mean()\n",
        "\n",
        "# Calcule a média móvel da derivada por minuto para 'RTU_REFG_SUCT_PRES'\n",
        "df1_c['MediaMovel_Derivada_RTU_REFG_SUCT_PRES'] = df1_c['Derivada_RTU_REFG_SUCT_PRES'].rolling(window=janela_media_movel).mean()"
      ]
    },
    {
      "cell_type": "code",
      "execution_count": null,
      "metadata": {},
      "outputs": [],
      "source": [
        "# Passo 3 Calcular o Desvio Padrão\n",
        "\n",
        "\n",
        "janela_um_dia = 1440 # Defina a janela de 1 dia (1440 minutos)\n",
        "\n",
        "\n",
        "# Calcule o desvio padrão da derivada por minuto dentro da janela de 1 dia para 'RTU_REFG_DISC_PRES'\n",
        "df1_c['DesvioPadrao_Derivada_RTU_REFG_DISC_PRES'] = df1_c['Derivada_RTU_REFG_DISC_PRES'].rolling(window=janela_um_dia).std()\n",
        "\n",
        "# Calcule o desvio padrão da derivada por minuto dentro da janela de 1 dia para 'RTU_REFG_SUCT_PRES'\n",
        "df1_c['DesvioPadrao_Derivada_RTU_REFG_SUCT_PRES'] = df1_c['Derivada_RTU_REFG_SUCT_PRES'].rolling(window=janela_um_dia).std()\n"
      ]
    },
    {
      "cell_type": "code",
      "execution_count": null,
      "metadata": {},
      "outputs": [],
      "source": [
        "# Passo 4 - Padronizar Manualmente\n",
        "\n",
        "# Certifique-se de que as colunas de data/hora estão no formato de data/hora do pandas\n",
        "df1_c['Datetime'] = pd.to_datetime(df1_c['Datetime'])\n",
        "\n",
        "# Calcule o Z-Score para cada minuto usando a média e o desvio padrão das colunas\n",
        "df1_c['Z_Score_Derivada_RTU_REFG_SUCT_PRES'] = (df1_c['Derivada_RTU_REFG_SUCT_PRES'] - df1_c['MediaMovel_Derivada_RTU_REFG_SUCT_PRES']) / df1_c['DesvioPadrao_Derivada_RTU_REFG_SUCT_PRES']\n",
        "\n",
        "df1_c['Z_Score_Derivada_RTU_REFG_DISC_PRES'] = (df1_c['Derivada_RTU_REFG_DISC_PRES'] - df1_c['MediaMovel_Derivada_RTU_REFG_DISC_PRES']) / df1_c['DesvioPadrao_Derivada_RTU_REFG_DISC_PRES']\n",
        "\n"
      ]
    },
    {
      "cell_type": "code",
      "execution_count": null,
      "metadata": {},
      "outputs": [
        {
          "data": {
            "text/html": [
              "<div>\n",
              "<style scoped>\n",
              "    .dataframe tbody tr th:only-of-type {\n",
              "        vertical-align: middle;\n",
              "    }\n",
              "\n",
              "    .dataframe tbody tr th {\n",
              "        vertical-align: top;\n",
              "    }\n",
              "\n",
              "    .dataframe thead th {\n",
              "        text-align: right;\n",
              "    }\n",
              "</style>\n",
              "<table border=\"1\" class=\"dataframe\">\n",
              "  <thead>\n",
              "    <tr style=\"text-align: right;\">\n",
              "      <th></th>\n",
              "      <th>Unnamed: 0</th>\n",
              "      <th>Datetime</th>\n",
              "      <th>RTU_COMP_WATT</th>\n",
              "      <th>RTU_LA_COND_TEMP</th>\n",
              "      <th>RTU_MA_HUM</th>\n",
              "      <th>RTU_MA_TEMP</th>\n",
              "      <th>RTU_OA_HUM</th>\n",
              "      <th>RTU_OA_TEMP</th>\n",
              "      <th>RTU_RA_HUM</th>\n",
              "      <th>RTU_RA_TEMP</th>\n",
              "      <th>...</th>\n",
              "      <th>RTU_REFG_DISC_PRES</th>\n",
              "      <th>RTU_REFG_SUCT_PRES</th>\n",
              "      <th>Derivada_RTU_REFG_DISC_PRES</th>\n",
              "      <th>Derivada_RTU_REFG_SUCT_PRES</th>\n",
              "      <th>MediaMovel_Derivada_RTU_REFG_DISC_PRES</th>\n",
              "      <th>MediaMovel_Derivada_RTU_REFG_SUCT_PRES</th>\n",
              "      <th>DesvioPadrao_Derivada_RTU_REFG_DISC_PRES</th>\n",
              "      <th>DesvioPadrao_Derivada_RTU_REFG_SUCT_PRES</th>\n",
              "      <th>Z_Score_Derivada_RTU_REFG_SUCT_PRES</th>\n",
              "      <th>Z_Score_Derivada_RTU_REFG_DISC_PRES</th>\n",
              "    </tr>\n",
              "  </thead>\n",
              "  <tbody>\n",
              "    <tr>\n",
              "      <th>41441</th>\n",
              "      <td>41441</td>\n",
              "      <td>2020-06-29 22:40:00</td>\n",
              "      <td>367.000031</td>\n",
              "      <td>25.635582</td>\n",
              "      <td>82.265457</td>\n",
              "      <td>20.686346</td>\n",
              "      <td>92.883644</td>\n",
              "      <td>12.763875</td>\n",
              "      <td>75.750832</td>\n",
              "      <td>23.729204</td>\n",
              "      <td>...</td>\n",
              "      <td>16.245808</td>\n",
              "      <td>15.658225</td>\n",
              "      <td>-0.042304</td>\n",
              "      <td>0.046764</td>\n",
              "      <td>0.000083</td>\n",
              "      <td>-0.000128</td>\n",
              "      <td>0.020163</td>\n",
              "      <td>0.011237</td>\n",
              "      <td>4.173039</td>\n",
              "      <td>-2.102181</td>\n",
              "    </tr>\n",
              "    <tr>\n",
              "      <th>41442</th>\n",
              "      <td>41442</td>\n",
              "      <td>2020-06-29 22:41:00</td>\n",
              "      <td>1239.000122</td>\n",
              "      <td>25.595110</td>\n",
              "      <td>82.305046</td>\n",
              "      <td>20.695372</td>\n",
              "      <td>92.923515</td>\n",
              "      <td>12.715758</td>\n",
              "      <td>75.831161</td>\n",
              "      <td>23.729204</td>\n",
              "      <td>...</td>\n",
              "      <td>17.591895</td>\n",
              "      <td>14.597172</td>\n",
              "      <td>0.022435</td>\n",
              "      <td>-0.017684</td>\n",
              "      <td>0.000097</td>\n",
              "      <td>-0.000141</td>\n",
              "      <td>0.020172</td>\n",
              "      <td>0.011246</td>\n",
              "      <td>-1.559930</td>\n",
              "      <td>1.107383</td>\n",
              "    </tr>\n",
              "    <tr>\n",
              "      <th>41455</th>\n",
              "      <td>41455</td>\n",
              "      <td>2020-06-29 22:54:00</td>\n",
              "      <td>1187.000122</td>\n",
              "      <td>23.231857</td>\n",
              "      <td>81.754951</td>\n",
              "      <td>20.939980</td>\n",
              "      <td>93.978607</td>\n",
              "      <td>12.881154</td>\n",
              "      <td>75.283546</td>\n",
              "      <td>23.952757</td>\n",
              "      <td>...</td>\n",
              "      <td>18.028032</td>\n",
              "      <td>14.904505</td>\n",
              "      <td>0.000559</td>\n",
              "      <td>0.000394</td>\n",
              "      <td>0.000097</td>\n",
              "      <td>-0.000141</td>\n",
              "      <td>0.020172</td>\n",
              "      <td>0.011246</td>\n",
              "      <td>0.047533</td>\n",
              "      <td>0.022895</td>\n",
              "    </tr>\n",
              "    <tr>\n",
              "      <th>41459</th>\n",
              "      <td>41459</td>\n",
              "      <td>2020-06-29 22:58:00</td>\n",
              "      <td>201.000015</td>\n",
              "      <td>22.209787</td>\n",
              "      <td>81.706779</td>\n",
              "      <td>20.944384</td>\n",
              "      <td>94.160515</td>\n",
              "      <td>12.902560</td>\n",
              "      <td>75.295967</td>\n",
              "      <td>24.010971</td>\n",
              "      <td>...</td>\n",
              "      <td>18.110584</td>\n",
              "      <td>15.096486</td>\n",
              "      <td>0.000344</td>\n",
              "      <td>0.000800</td>\n",
              "      <td>0.000099</td>\n",
              "      <td>-0.000140</td>\n",
              "      <td>0.020172</td>\n",
              "      <td>0.011246</td>\n",
              "      <td>0.083550</td>\n",
              "      <td>0.012167</td>\n",
              "    </tr>\n",
              "    <tr>\n",
              "      <th>41460</th>\n",
              "      <td>41460</td>\n",
              "      <td>2020-06-29 22:59:00</td>\n",
              "      <td>940.000061</td>\n",
              "      <td>24.340851</td>\n",
              "      <td>81.684425</td>\n",
              "      <td>20.950773</td>\n",
              "      <td>94.150856</td>\n",
              "      <td>12.874650</td>\n",
              "      <td>75.238152</td>\n",
              "      <td>23.994673</td>\n",
              "      <td>...</td>\n",
              "      <td>16.361328</td>\n",
              "      <td>16.031805</td>\n",
              "      <td>-0.029154</td>\n",
              "      <td>0.015589</td>\n",
              "      <td>0.000077</td>\n",
              "      <td>-0.000129</td>\n",
              "      <td>0.020187</td>\n",
              "      <td>0.011254</td>\n",
              "      <td>1.396628</td>\n",
              "      <td>-1.448064</td>\n",
              "    </tr>\n",
              "  </tbody>\n",
              "</table>\n",
              "<p>5 rows × 38 columns</p>\n",
              "</div>"
            ],
            "text/plain": [
              "       Unnamed: 0            Datetime  RTU_COMP_WATT  RTU_LA_COND_TEMP  \\\n",
              "41441       41441 2020-06-29 22:40:00     367.000031         25.635582   \n",
              "41442       41442 2020-06-29 22:41:00    1239.000122         25.595110   \n",
              "41455       41455 2020-06-29 22:54:00    1187.000122         23.231857   \n",
              "41459       41459 2020-06-29 22:58:00     201.000015         22.209787   \n",
              "41460       41460 2020-06-29 22:59:00     940.000061         24.340851   \n",
              "\n",
              "       RTU_MA_HUM  RTU_MA_TEMP  RTU_OA_HUM  RTU_OA_TEMP  RTU_RA_HUM  \\\n",
              "41441   82.265457    20.686346   92.883644    12.763875   75.750832   \n",
              "41442   82.305046    20.695372   92.923515    12.715758   75.831161   \n",
              "41455   81.754951    20.939980   93.978607    12.881154   75.283546   \n",
              "41459   81.706779    20.944384   94.160515    12.902560   75.295967   \n",
              "41460   81.684425    20.950773   94.150856    12.874650   75.238152   \n",
              "\n",
              "       RTU_RA_TEMP  ...  RTU_REFG_DISC_PRES  RTU_REFG_SUCT_PRES  \\\n",
              "41441    23.729204  ...           16.245808           15.658225   \n",
              "41442    23.729204  ...           17.591895           14.597172   \n",
              "41455    23.952757  ...           18.028032           14.904505   \n",
              "41459    24.010971  ...           18.110584           15.096486   \n",
              "41460    23.994673  ...           16.361328           16.031805   \n",
              "\n",
              "       Derivada_RTU_REFG_DISC_PRES  Derivada_RTU_REFG_SUCT_PRES  \\\n",
              "41441                    -0.042304                     0.046764   \n",
              "41442                     0.022435                    -0.017684   \n",
              "41455                     0.000559                     0.000394   \n",
              "41459                     0.000344                     0.000800   \n",
              "41460                    -0.029154                     0.015589   \n",
              "\n",
              "       MediaMovel_Derivada_RTU_REFG_DISC_PRES  \\\n",
              "41441                                0.000083   \n",
              "41442                                0.000097   \n",
              "41455                                0.000097   \n",
              "41459                                0.000099   \n",
              "41460                                0.000077   \n",
              "\n",
              "       MediaMovel_Derivada_RTU_REFG_SUCT_PRES  \\\n",
              "41441                               -0.000128   \n",
              "41442                               -0.000141   \n",
              "41455                               -0.000141   \n",
              "41459                               -0.000140   \n",
              "41460                               -0.000129   \n",
              "\n",
              "       DesvioPadrao_Derivada_RTU_REFG_DISC_PRES  \\\n",
              "41441                                  0.020163   \n",
              "41442                                  0.020172   \n",
              "41455                                  0.020172   \n",
              "41459                                  0.020172   \n",
              "41460                                  0.020187   \n",
              "\n",
              "       DesvioPadrao_Derivada_RTU_REFG_SUCT_PRES  \\\n",
              "41441                                  0.011237   \n",
              "41442                                  0.011246   \n",
              "41455                                  0.011246   \n",
              "41459                                  0.011246   \n",
              "41460                                  0.011254   \n",
              "\n",
              "       Z_Score_Derivada_RTU_REFG_SUCT_PRES  \\\n",
              "41441                             4.173039   \n",
              "41442                            -1.559930   \n",
              "41455                             0.047533   \n",
              "41459                             0.083550   \n",
              "41460                             1.396628   \n",
              "\n",
              "       Z_Score_Derivada_RTU_REFG_DISC_PRES  \n",
              "41441                            -2.102181  \n",
              "41442                             1.107383  \n",
              "41455                             0.022895  \n",
              "41459                             0.012167  \n",
              "41460                            -1.448064  \n",
              "\n",
              "[5 rows x 38 columns]"
            ]
          },
          "execution_count": 26,
          "metadata": {},
          "output_type": "execute_result"
        }
      ],
      "source": [
        "df1_c.tail()"
      ]
    },
    {
      "cell_type": "code",
      "execution_count": null,
      "metadata": {
        "id": "N4DwMtUmGi3j"
      },
      "outputs": [],
      "source": [
        "# Elimina as features\n",
        "columns_to_drop = ['Unnamed: 0',\n",
        "    'RTU_MA_HUM', 'RTU_MA_TEMP', 'RTU_LA_COND_TEMP',\n",
        "    'RTU_REFG_DISC_PRES_1', 'RTU_REFG_DISC_PRES_2',\n",
        "    'RTU_REFG_SUCT_PRES_1', 'RTU_REFG_SUCT_PRES_2',\n",
        "    'RTU_REFG_COND_TEMP_1', 'RTU_REFG_COND_TEMP_2',\n",
        "    'RTU_REFG_SUCT_TEMP_1', 'RTU_REFG_SUCT_TEMP_2',\n",
        "    'RTU_REFG_DISC_TEMP_1', 'RTU_REFG_DISC_TEMP_2',\n",
        "]\n",
        "\n",
        "df1_x = df1_c.drop(columns_to_drop, axis=1)\n",
        "df2_x = df2_c.drop(columns_to_drop, axis=1)"
      ]
    },
    {
      "cell_type": "code",
      "execution_count": null,
      "metadata": {
        "id": "CrmXc9uFCxm5"
      },
      "outputs": [],
      "source": [
        "# Converter fahrenheit para celsius\n",
        "def fahrenheit_to_celsius(fahrenheit):\n",
        "    celsius = (fahrenheit - 32) * 5/9\n",
        "    return celsius\n",
        "\n",
        "# Colunas a serem convertidas\n",
        "columns_to_convert = ['RTU_RA_TEMP', 'RTU_OA_TEMP', 'ZA_TEMP', 'RTU_REFG_COND_TEMP',\n",
        "                      'RTU_REFG_SUCT_TEMP', 'RTU_REFG_DISC_TEMP','RTU_SA_TEMP']\n",
        "\n",
        "\n",
        "# Aplicando a conversão para Celsius\n",
        "df20[columns_to_convert] = df20[columns_to_convert].apply(fahrenheit_to_celsius)\n",
        "dfbs[columns_to_convert] = dfbs[columns_to_convert].apply(fahrenheit_to_celsius)"
      ]
    },
    {
      "cell_type": "code",
      "execution_count": null,
      "metadata": {
        "id": "QtXQsCXFFV3_"
      },
      "outputs": [],
      "source": [
        "# Converter colunas de Pascal para Bar\n",
        "df20['RTU_REFG_SUCT_PRES'], df20['RTU_REFG_DISC_PRES'] = df20['RTU_REFG_SUCT_PRES'] /100000 , df20['RTU_REFG_DISC_PRES'] /100000\n",
        "dfbs['RTU_REFG_SUCT_PRES'], dfbs['RTU_REFG_DISC_PRES'] = dfbs['RTU_REFG_SUCT_PRES'] / 100000, dfbs['RTU_REFG_DISC_PRES'] /100000"
      ]
    },
    {
      "cell_type": "code",
      "execution_count": null,
      "metadata": {
        "id": "mv83qY5YtxeY"
      },
      "outputs": [],
      "source": [
        "\n",
        "df20_t = df20.assign(Target = 1) # falha de subcarga\n",
        "\n",
        "dfbs_t = dfbs.assign(Target = 0) #  não falha"
      ]
    },
    {
      "cell_type": "code",
      "execution_count": null,
      "metadata": {
        "id": "jzXToH-owerq"
      },
      "outputs": [],
      "source": [
        "# Eliminando  os momentos de desligameno do sistema no  site 2 de forma continua\n",
        "# Seleciona as linhas que não contêm zero na FAN_WAAT e 'COMP_WATT'.\n",
        "\n",
        "df20_c = df20_t.loc[(df20_t['RTU_COMP_WATT'] != 0) ]\n",
        "dfbs_c = dfbs_t.loc[(dfbs_t['RTU_COMP_WATT'] != 0) ]"
      ]
    },
    {
      "cell_type": "code",
      "execution_count": null,
      "metadata": {
        "id": "KC3ZGGEM_hYg"
      },
      "outputs": [],
      "source": [
        "columns_to_drop = ['Unnamed: 0',\n",
        "    'RTU_RA_FLOW', 'RTU_OA_FLOW', 'RTU_STG_STA',\n",
        "    'RTU_REFG_COND_PRES', 'RTU_SEN_CAPA',\n",
        "    'RTU_TOT_CAPA', 'ZA_TEMP_SPT',\n",
        "]\n",
        "\n",
        "df20_c = df20_c.drop(columns_to_drop, axis=1)\n",
        "dfbs_c = dfbs_c.drop(columns_to_drop, axis=1)\n"
      ]
    },
    {
      "cell_type": "code",
      "execution_count": null,
      "metadata": {
        "id": "15kgpxbiAuDB"
      },
      "outputs": [],
      "source": [
        "# Definir y real\n",
        "\n",
        "df1_y= df1_c['Target']\n",
        "df2_y= df2_c['Target']"
      ]
    },
    {
      "cell_type": "code",
      "execution_count": null,
      "metadata": {
        "id": "tCtpfDxtE8_l"
      },
      "outputs": [],
      "source": [
        "# # Definir X real\n",
        "# df1_x= df1_x.drop(['Datetime','Target', 'RTU_REFG_COND_TEMP', 'RTU_REFG_SUCT_TEMP', 'RTU_REFG_DISC_TEMP'], axis=1)\n",
        "# df2_x= df2_x.drop(['Datetime','Target', 'RTU_REFG_COND_TEMP', 'RTU_REFG_SUCT_TEMP', 'RTU_REFG_DISC_TEMP'], axis=1)\n"
      ]
    },
    {
      "cell_type": "code",
      "execution_count": null,
      "metadata": {
        "id": "19SfsiEQVHHa"
      },
      "outputs": [],
      "source": [
        "# Definir X real sem features temp modificadas\n",
        "df1_x= df1_x.drop(['Datetime','Target','RTU_RA_TEMP','RTU_OA_TEMP','ZA_TEMP', 'RTU_REFG_COND_TEMP', 'RTU_REFG_SUCT_TEMP', 'RTU_REFG_DISC_TEMP','RTU_SA_TEMP'], axis=1)\n",
        "df2_x= df2_x.drop(['Datetime','Target','RTU_RA_TEMP','RTU_OA_TEMP','ZA_TEMP', 'RTU_REFG_COND_TEMP', 'RTU_REFG_SUCT_TEMP', 'RTU_REFG_DISC_TEMP','RTU_SA_TEMP'], axis=1)"
      ]
    },
    {
      "cell_type": "code",
      "execution_count": null,
      "metadata": {
        "id": "TN611DS7I75V"
      },
      "outputs": [],
      "source": [
        "# Definir X sim\n",
        "\n",
        "# df20_x= df20_c.drop(['Datetime','Target', 'RTU_REFG_COND_TEMP', 'RTU_REFG_SUCT_TEMP', 'RTU_REFG_DISC_TEMP'], axis=1)\n",
        "# dfbs_x= dfbs_c.drop(['Datetime','Target', 'RTU_REFG_COND_TEMP', 'RTU_REFG_SUCT_TEMP', 'RTU_REFG_DISC_TEMP'], axis=1)"
      ]
    },
    {
      "cell_type": "code",
      "execution_count": null,
      "metadata": {
        "id": "BWLlj4KqFN27"
      },
      "outputs": [],
      "source": [
        "# Definir X sim sem features temp modificadas\n",
        "\n",
        "df20_x= df20_c.drop(['Datetime','Target','RTU_RA_TEMP','RTU_OA_TEMP','ZA_TEMP', 'RTU_REFG_COND_TEMP', 'RTU_REFG_SUCT_TEMP', 'RTU_REFG_DISC_TEMP','RTU_SA_TEMP'], axis=1)\n",
        "dfbs_x= dfbs_c.drop(['Datetime','Target','RTU_RA_TEMP','RTU_OA_TEMP','ZA_TEMP', 'RTU_REFG_COND_TEMP', 'RTU_REFG_SUCT_TEMP', 'RTU_REFG_DISC_TEMP','RTU_SA_TEMP'], axis=1)"
      ]
    },
    {
      "cell_type": "code",
      "execution_count": null,
      "metadata": {
        "id": "GufWhQKXHbrh"
      },
      "outputs": [],
      "source": [
        "# Definir y sim\n",
        "\n",
        "df20_y = df20_c['Target']\n",
        "dfbs_y = dfbs_c['Target']\n"
      ]
    }
  ],
  "metadata": {
    "colab": {
      "collapsed_sections": [
        "NPR7AKXU3oGu"
      ],
      "provenance": []
    },
    "kernelspec": {
      "display_name": "Python 3",
      "name": "python3"
    },
    "language_info": {
      "codemirror_mode": {
        "name": "ipython",
        "version": 3
      },
      "file_extension": ".py",
      "mimetype": "text/x-python",
      "name": "python",
      "nbconvert_exporter": "python",
      "pygments_lexer": "ipython3",
      "version": "3.8.10"
    }
  },
  "nbformat": 4,
  "nbformat_minor": 0
}
