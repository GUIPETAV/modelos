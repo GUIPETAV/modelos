{
  "cells": [
    {
      "cell_type": "markdown",
      "metadata": {
        "id": "mbCRD_2u8NQk"
      },
      "source": [
        "# Sumário\n",
        "\n",
        "1. [Pré-Processamento](Pré)\n",
        "2. [Machine Learning](ml)\n",
        "3. [Gráficos](gf)\n",
        "\n"
      ]
    },
    {
      "cell_type": "markdown",
      "metadata": {
        "id": "9ozcfCfUE2Bs"
      },
      "source": [
        "# Pré-Processamento dados Reais\n"
      ]
    },
    {
      "cell_type": "code",
      "execution_count": null,
      "metadata": {
        "id": "SWRk8G3fB8Sx"
      },
      "outputs": [],
      "source": [
        "import pandas as pd"
      ]
    },
    {
      "cell_type": "code",
      "execution_count": 37,
      "metadata": {
        "id": "GSh0FwRoG4Jc"
      },
      "outputs": [],
      "source": [
        "\n",
        "df1 = pd.read_csv('https://raw.githubusercontent.com/GUIPETAV/Base/main/df1.csv')# falha de subcarga\n",
        "df2 = pd.read_csv('https://raw.githubusercontent.com/GUIPETAV/Base/main/df2.csv')# sem falha de subcarga\n"
      ]
    },
    {
      "cell_type": "code",
      "execution_count": 38,
      "metadata": {
        "id": "UbTJIBbD3mS4"
      },
      "outputs": [],
      "source": [
        "df10 = pd.read_csv('https://raw.githubusercontent.com/GUIPETAV/Base/main/df10.csv') # falha de subcarga 10%\n",
        "df20 = pd.read_csv('https://raw.githubusercontent.com/GUIPETAV/Base/main/df20.csv') # falha de subcarga 20%\n",
        "df15 = pd.read_csv('https://raw.githubusercontent.com/GUIPETAV/Base/main/df15.csv') # falha de subcarga 15%\n",
        "dfbs = pd.read_csv('https://raw.githubusercontent.com/GUIPETAV/Base/main/dfbs.csv') #  sem de falha de subcarga"
      ]
    },
    {
      "cell_type": "code",
      "execution_count": 43,
      "metadata": {},
      "outputs": [
        {
          "data": {
            "text/html": [
              "<div>\n",
              "<style scoped>\n",
              "    .dataframe tbody tr th:only-of-type {\n",
              "        vertical-align: middle;\n",
              "    }\n",
              "\n",
              "    .dataframe tbody tr th {\n",
              "        vertical-align: top;\n",
              "    }\n",
              "\n",
              "    .dataframe thead th {\n",
              "        text-align: right;\n",
              "    }\n",
              "</style>\n",
              "<table border=\"1\" class=\"dataframe\">\n",
              "  <thead>\n",
              "    <tr style=\"text-align: right;\">\n",
              "      <th></th>\n",
              "      <th>Datetime</th>\n",
              "      <th>RTU_COMP_WATT</th>\n",
              "      <th>RTU_LA_COND_TEMP</th>\n",
              "      <th>RTU_MA_HUM</th>\n",
              "      <th>RTU_MA_TEMP</th>\n",
              "      <th>RTU_OA_HUM</th>\n",
              "      <th>RTU_OA_TEMP</th>\n",
              "      <th>RTU_RA_HUM</th>\n",
              "      <th>RTU_RA_TEMP</th>\n",
              "      <th>RTU_REFG_COND_TEMP_1</th>\n",
              "      <th>...</th>\n",
              "      <th>RTU_REFG_SUCT_PRES_2</th>\n",
              "      <th>RTU_REFG_SUCT_TEMP_1</th>\n",
              "      <th>RTU_REFG_SUCT_TEMP_2</th>\n",
              "      <th>RTU_SA_FAN_WATT</th>\n",
              "      <th>RTU_SA_FLOW</th>\n",
              "      <th>RTU_SA_HUM</th>\n",
              "      <th>RTU_SA_TEMP</th>\n",
              "      <th>RTU_TOT_WATT</th>\n",
              "      <th>ZA_HUM</th>\n",
              "      <th>ZA_TEMP</th>\n",
              "    </tr>\n",
              "  </thead>\n",
              "  <tbody>\n",
              "    <tr>\n",
              "      <th>0</th>\n",
              "      <td>2020-07-31 00:01:00</td>\n",
              "      <td>0.0</td>\n",
              "      <td>23.181379</td>\n",
              "      <td>89.684395</td>\n",
              "      <td>21.856787</td>\n",
              "      <td>84.246849</td>\n",
              "      <td>22.704943</td>\n",
              "      <td>77.007149</td>\n",
              "      <td>23.505655</td>\n",
              "      <td>21.563417</td>\n",
              "      <td>...</td>\n",
              "      <td>8.048789</td>\n",
              "      <td>24.554947</td>\n",
              "      <td>24.686487</td>\n",
              "      <td>0.0</td>\n",
              "      <td>34.265842</td>\n",
              "      <td>76.671829</td>\n",
              "      <td>24.629072</td>\n",
              "      <td>41.000004</td>\n",
              "      <td>-14.803085</td>\n",
              "      <td>24.061129</td>\n",
              "    </tr>\n",
              "    <tr>\n",
              "      <th>1</th>\n",
              "      <td>2020-07-31 00:02:00</td>\n",
              "      <td>0.0</td>\n",
              "      <td>23.183462</td>\n",
              "      <td>89.673676</td>\n",
              "      <td>21.871866</td>\n",
              "      <td>84.245567</td>\n",
              "      <td>22.719912</td>\n",
              "      <td>77.201302</td>\n",
              "      <td>23.505655</td>\n",
              "      <td>21.569664</td>\n",
              "      <td>...</td>\n",
              "      <td>8.057360</td>\n",
              "      <td>24.550898</td>\n",
              "      <td>24.680414</td>\n",
              "      <td>0.0</td>\n",
              "      <td>34.274014</td>\n",
              "      <td>76.932068</td>\n",
              "      <td>24.629072</td>\n",
              "      <td>39.000004</td>\n",
              "      <td>-14.803085</td>\n",
              "      <td>24.062613</td>\n",
              "    </tr>\n",
              "    <tr>\n",
              "      <th>2</th>\n",
              "      <td>2020-07-31 00:03:00</td>\n",
              "      <td>0.0</td>\n",
              "      <td>23.216780</td>\n",
              "      <td>89.674660</td>\n",
              "      <td>21.874947</td>\n",
              "      <td>84.147728</td>\n",
              "      <td>22.741026</td>\n",
              "      <td>77.393867</td>\n",
              "      <td>23.505655</td>\n",
              "      <td>21.607147</td>\n",
              "      <td>...</td>\n",
              "      <td>8.065142</td>\n",
              "      <td>24.550901</td>\n",
              "      <td>24.670296</td>\n",
              "      <td>0.0</td>\n",
              "      <td>34.299866</td>\n",
              "      <td>77.198402</td>\n",
              "      <td>24.629072</td>\n",
              "      <td>40.000004</td>\n",
              "      <td>-14.803085</td>\n",
              "      <td>24.059637</td>\n",
              "    </tr>\n",
              "    <tr>\n",
              "      <th>3</th>\n",
              "      <td>2020-07-31 00:04:00</td>\n",
              "      <td>0.0</td>\n",
              "      <td>23.198038</td>\n",
              "      <td>89.653770</td>\n",
              "      <td>21.900015</td>\n",
              "      <td>84.074303</td>\n",
              "      <td>22.748741</td>\n",
              "      <td>77.490273</td>\n",
              "      <td>23.505655</td>\n",
              "      <td>21.640463</td>\n",
              "      <td>...</td>\n",
              "      <td>8.070160</td>\n",
              "      <td>24.587326</td>\n",
              "      <td>24.684464</td>\n",
              "      <td>0.0</td>\n",
              "      <td>34.271954</td>\n",
              "      <td>77.419304</td>\n",
              "      <td>24.629072</td>\n",
              "      <td>40.000004</td>\n",
              "      <td>-14.803085</td>\n",
              "      <td>24.059715</td>\n",
              "    </tr>\n",
              "    <tr>\n",
              "      <th>4</th>\n",
              "      <td>2020-07-31 00:05:00</td>\n",
              "      <td>0.0</td>\n",
              "      <td>23.162638</td>\n",
              "      <td>89.622345</td>\n",
              "      <td>21.908255</td>\n",
              "      <td>83.811562</td>\n",
              "      <td>22.763552</td>\n",
              "      <td>77.476524</td>\n",
              "      <td>23.505655</td>\n",
              "      <td>21.661285</td>\n",
              "      <td>...</td>\n",
              "      <td>8.076455</td>\n",
              "      <td>24.583281</td>\n",
              "      <td>24.668274</td>\n",
              "      <td>0.0</td>\n",
              "      <td>34.296387</td>\n",
              "      <td>77.423363</td>\n",
              "      <td>24.629072</td>\n",
              "      <td>40.000004</td>\n",
              "      <td>-14.803085</td>\n",
              "      <td>24.062654</td>\n",
              "    </tr>\n",
              "  </tbody>\n",
              "</table>\n",
              "<p>5 rows × 26 columns</p>\n",
              "</div>"
            ],
            "text/plain": [
              "              Datetime  RTU_COMP_WATT  RTU_LA_COND_TEMP  RTU_MA_HUM  \\\n",
              "0  2020-07-31 00:01:00            0.0         23.181379   89.684395   \n",
              "1  2020-07-31 00:02:00            0.0         23.183462   89.673676   \n",
              "2  2020-07-31 00:03:00            0.0         23.216780   89.674660   \n",
              "3  2020-07-31 00:04:00            0.0         23.198038   89.653770   \n",
              "4  2020-07-31 00:05:00            0.0         23.162638   89.622345   \n",
              "\n",
              "   RTU_MA_TEMP  RTU_OA_HUM  RTU_OA_TEMP  RTU_RA_HUM  RTU_RA_TEMP  \\\n",
              "0    21.856787   84.246849    22.704943   77.007149    23.505655   \n",
              "1    21.871866   84.245567    22.719912   77.201302    23.505655   \n",
              "2    21.874947   84.147728    22.741026   77.393867    23.505655   \n",
              "3    21.900015   84.074303    22.748741   77.490273    23.505655   \n",
              "4    21.908255   83.811562    22.763552   77.476524    23.505655   \n",
              "\n",
              "   RTU_REFG_COND_TEMP_1  ...  RTU_REFG_SUCT_PRES_2  RTU_REFG_SUCT_TEMP_1  \\\n",
              "0             21.563417  ...              8.048789             24.554947   \n",
              "1             21.569664  ...              8.057360             24.550898   \n",
              "2             21.607147  ...              8.065142             24.550901   \n",
              "3             21.640463  ...              8.070160             24.587326   \n",
              "4             21.661285  ...              8.076455             24.583281   \n",
              "\n",
              "   RTU_REFG_SUCT_TEMP_2  RTU_SA_FAN_WATT  RTU_SA_FLOW  RTU_SA_HUM  \\\n",
              "0             24.686487              0.0    34.265842   76.671829   \n",
              "1             24.680414              0.0    34.274014   76.932068   \n",
              "2             24.670296              0.0    34.299866   77.198402   \n",
              "3             24.684464              0.0    34.271954   77.419304   \n",
              "4             24.668274              0.0    34.296387   77.423363   \n",
              "\n",
              "   RTU_SA_TEMP  RTU_TOT_WATT     ZA_HUM    ZA_TEMP  \n",
              "0    24.629072     41.000004 -14.803085  24.061129  \n",
              "1    24.629072     39.000004 -14.803085  24.062613  \n",
              "2    24.629072     40.000004 -14.803085  24.059637  \n",
              "3    24.629072     40.000004 -14.803085  24.059715  \n",
              "4    24.629072     40.000004 -14.803085  24.062654  \n",
              "\n",
              "[5 rows x 26 columns]"
            ]
          },
          "execution_count": 43,
          "metadata": {},
          "output_type": "execute_result"
        }
      ],
      "source": [
        "df2.head()"
      ]
    },
    {
      "cell_type": "code",
      "execution_count": 44,
      "metadata": {
        "colab": {
          "base_uri": "https://localhost:8080/",
          "height": 551
        },
        "id": "3XoDbCXb4j8F",
        "outputId": "b39c26ac-7292-4473-a7af-7f6c859d3191"
      },
      "outputs": [
        {
          "data": {
            "text/html": [
              "<div>\n",
              "<style scoped>\n",
              "    .dataframe tbody tr th:only-of-type {\n",
              "        vertical-align: middle;\n",
              "    }\n",
              "\n",
              "    .dataframe tbody tr th {\n",
              "        vertical-align: top;\n",
              "    }\n",
              "\n",
              "    .dataframe thead th {\n",
              "        text-align: right;\n",
              "    }\n",
              "</style>\n",
              "<table border=\"1\" class=\"dataframe\">\n",
              "  <thead>\n",
              "    <tr style=\"text-align: right;\">\n",
              "      <th></th>\n",
              "      <th>Colunas do df2 com nomes diferentes do dfbs</th>\n",
              "      <th>Colunas do dfbs com nomes diferentes do df2</th>\n",
              "    </tr>\n",
              "  </thead>\n",
              "  <tbody>\n",
              "    <tr>\n",
              "      <th>0</th>\n",
              "      <td>RTU_REFG_COND_TEMP_1</td>\n",
              "      <td>RTU_REFG_SUCT_TEMP</td>\n",
              "    </tr>\n",
              "    <tr>\n",
              "      <th>1</th>\n",
              "      <td>RTU_REFG_COND_TEMP_2</td>\n",
              "      <td>RTU_TOT_CAPA</td>\n",
              "    </tr>\n",
              "    <tr>\n",
              "      <th>2</th>\n",
              "      <td>RTU_REFG_DISC_PRES_2</td>\n",
              "      <td>ZA_TEMP_SPT</td>\n",
              "    </tr>\n",
              "    <tr>\n",
              "      <th>3</th>\n",
              "      <td>RTU_REFG_SUCT_PRES_1</td>\n",
              "      <td>RTU_OA_FLOW</td>\n",
              "    </tr>\n",
              "    <tr>\n",
              "      <th>4</th>\n",
              "      <td>RTU_MA_HUM</td>\n",
              "      <td>RTU_SEN_CAPA</td>\n",
              "    </tr>\n",
              "    <tr>\n",
              "      <th>5</th>\n",
              "      <td>RTU_LA_COND_TEMP</td>\n",
              "      <td>RTU_REFG_DISC_PRES</td>\n",
              "    </tr>\n",
              "    <tr>\n",
              "      <th>6</th>\n",
              "      <td>RTU_REFG_SUCT_PRES_2</td>\n",
              "      <td>RTU_REFG_COND_PRES</td>\n",
              "    </tr>\n",
              "    <tr>\n",
              "      <th>7</th>\n",
              "      <td>RTU_REFG_SUCT_TEMP_1</td>\n",
              "      <td>RTU_RA_FLOW</td>\n",
              "    </tr>\n",
              "    <tr>\n",
              "      <th>8</th>\n",
              "      <td>RTU_REFG_DISC_PRES_1</td>\n",
              "      <td>RTU_STG_STA</td>\n",
              "    </tr>\n",
              "    <tr>\n",
              "      <th>9</th>\n",
              "      <td>RTU_REFG_SUCT_TEMP_2</td>\n",
              "      <td>RTU_REFG_DISC_TEMP</td>\n",
              "    </tr>\n",
              "    <tr>\n",
              "      <th>10</th>\n",
              "      <td>RTU_MA_TEMP</td>\n",
              "      <td>RTU_REFG_COND_TEMP</td>\n",
              "    </tr>\n",
              "    <tr>\n",
              "      <th>11</th>\n",
              "      <td>RTU_REFG_DISC_TEMP_2</td>\n",
              "      <td>RTU_REFG_SUCT_PRES</td>\n",
              "    </tr>\n",
              "    <tr>\n",
              "      <th>12</th>\n",
              "      <td>RTU_REFG_DISC_TEMP_1</td>\n",
              "      <td>None</td>\n",
              "    </tr>\n",
              "  </tbody>\n",
              "</table>\n",
              "</div>"
            ],
            "text/plain": [
              "   Colunas do df2 com nomes diferentes do dfbs  \\\n",
              "0                         RTU_REFG_COND_TEMP_1   \n",
              "1                         RTU_REFG_COND_TEMP_2   \n",
              "2                         RTU_REFG_DISC_PRES_2   \n",
              "3                         RTU_REFG_SUCT_PRES_1   \n",
              "4                                   RTU_MA_HUM   \n",
              "5                             RTU_LA_COND_TEMP   \n",
              "6                         RTU_REFG_SUCT_PRES_2   \n",
              "7                         RTU_REFG_SUCT_TEMP_1   \n",
              "8                         RTU_REFG_DISC_PRES_1   \n",
              "9                         RTU_REFG_SUCT_TEMP_2   \n",
              "10                                 RTU_MA_TEMP   \n",
              "11                        RTU_REFG_DISC_TEMP_2   \n",
              "12                        RTU_REFG_DISC_TEMP_1   \n",
              "\n",
              "   Colunas do dfbs com nomes diferentes do df2  \n",
              "0                           RTU_REFG_SUCT_TEMP  \n",
              "1                                 RTU_TOT_CAPA  \n",
              "2                                  ZA_TEMP_SPT  \n",
              "3                                  RTU_OA_FLOW  \n",
              "4                                 RTU_SEN_CAPA  \n",
              "5                           RTU_REFG_DISC_PRES  \n",
              "6                           RTU_REFG_COND_PRES  \n",
              "7                                  RTU_RA_FLOW  \n",
              "8                                  RTU_STG_STA  \n",
              "9                           RTU_REFG_DISC_TEMP  \n",
              "10                          RTU_REFG_COND_TEMP  \n",
              "11                          RTU_REFG_SUCT_PRES  \n",
              "12                                        None  "
            ]
          },
          "execution_count": 44,
          "metadata": {},
          "output_type": "execute_result"
        }
      ],
      "source": [
        "\n",
        "# Obter os nomes das colunas de ambos os DataFrames\n",
        "columns_df2 = set(df2.columns)\n",
        "columns_dfbs = set(dfbs.columns)\n",
        "\n",
        "# Encontrar as colunas com nomes diferentes\n",
        "different_columns_df2 = columns_df2.difference(columns_dfbs)\n",
        "different_columns_dfbs = columns_dfbs.difference(columns_df2)\n",
        "\n",
        "# Criar listas vazias para as colunas do DataFrame\n",
        "different_columns_df2_list = list(different_columns_df2)\n",
        "different_columns_dfbs_list = list(different_columns_dfbs)\n",
        "\n",
        "# Preencher com None para manter as listas com o mesmo tamanho\n",
        "max_length = max(len(different_columns_df2_list), len(different_columns_dfbs_list))\n",
        "different_columns_df2_list.extend([None] * (max_length - len(different_columns_df2_list)))\n",
        "different_columns_dfbs_list.extend([None] * (max_length - len(different_columns_dfbs_list)))\n",
        "\n",
        "# Criar um DataFrame para a tabela\n",
        "table_data = {\n",
        "    'Colunas do df2 com nomes diferentes do dfbs': different_columns_df2_list,\n",
        "    'Colunas do dfbs com nomes diferentes do df2': different_columns_dfbs_list\n",
        "}\n",
        "\n",
        "result_table = pd.DataFrame(table_data)\n",
        "\n",
        "\n",
        "result_table"
      ]
    },
    {
      "cell_type": "code",
      "execution_count": null,
      "metadata": {
        "id": "THYdm66H50ii"
      },
      "outputs": [],
      "source": [
        "# Remover as features incongruentes\n",
        "\n",
        "columns_to_drop_real = ['RTU_MA_HUM', 'RTU_MA_TEMP', 'RTU_LA_COND_TEMP',]\n",
        "columns_to_drop_sim = ['RTU_TOT_CAPA','ZA_TEMP_SPT','RTU_OA_FLOW','RTU_SEN_CAPA','RTU_RA_FLOW','RTU_STG_STA','RTU_REFG_COND_TEMP']"
      ]
    },
    {
      "cell_type": "code",
      "execution_count": null,
      "metadata": {
        "id": "8SGMxIiqLU39"
      },
      "outputs": [],
      "source": [
        "df1_t = df1.assign(Target = 1) # falha de subcarga\n",
        "\n",
        "df2_t = df2.assign(Target = 0) # não falha de subcarga\n",
        "\n",
        "\n",
        "\n",
        "df20_t = df20.assign(Target = 1) # falha de subcarga\n",
        "\n",
        "dfbs_t = dfbs.assign(Target = 0) #  não falha"
      ]
    },
    {
      "cell_type": "code",
      "execution_count": null,
      "metadata": {
        "id": "GFfhB98XRqk8"
      },
      "outputs": [],
      "source": [
        "# Eliminando  os momentos de desligameno do sistema no  site 2 de forma continua\n",
        "# Seleciona as linhas que não contêm zero na FAN_WAAT e 'COMP_WATT'.\n",
        "\n",
        "df1_c = df1_t.loc[(df1_t['RTU_SA_FAN_WATT'] != 0) & (df1_t['RTU_COMP_WATT'] != 0)]\n",
        "df2_c = df2_t.loc[(df2_t['RTU_SA_FAN_WATT'] != 0) & (df2_t['RTU_COMP_WATT'] != 0)]\n",
        "\n",
        "# Eliminando  os momentos de desligameno do sistema no  site 2 de forma continua\n",
        "# Seleciona as linhas que não contêm zero na FAN_WAAT e 'COMP_WATT'.\n",
        "\n",
        "df20_c = df20_t.loc[(df20_t['RTU_COMP_WATT'] != 0) ]\n",
        "dfbs_c = dfbs_t.loc[(dfbs_t['RTU_COMP_WATT'] != 0) ]\n",
        "\n"
      ]
    },
    {
      "cell_type": "code",
      "execution_count": null,
      "metadata": {
        "id": "NFFu2OEAxpGc"
      },
      "outputs": [],
      "source": [
        "# Cria uma nova feature com a soma das pressões\n",
        "df1_c = df1_c.assign(\n",
        "    RTU_REFG_DISC_PRES=df1_c['RTU_REFG_DISC_PRES_1'] + df1_c['RTU_REFG_DISC_PRES_2'],\n",
        "    RTU_REFG_SUCT_PRES=df1_c['RTU_REFG_SUCT_PRES_1'] + df1_c['RTU_REFG_SUCT_PRES_2'])\n",
        "\n",
        "df2_c = df2_c.assign(\n",
        "    RTU_REFG_DISC_PRES=df2_c['RTU_REFG_DISC_PRES_1'] + df2_c['RTU_REFG_DISC_PRES_2'],\n",
        "    RTU_REFG_SUCT_PRES=df2_c['RTU_REFG_SUCT_PRES_1'] + df2_c['RTU_REFG_SUCT_PRES_2'])\n"
      ]
    },
    {
      "cell_type": "markdown",
      "metadata": {},
      "source": [
        "#### Padronizar a Pressão "
      ]
    },
    {
      "cell_type": "code",
      "execution_count": null,
      "metadata": {},
      "outputs": [],
      "source": [
        "# Passo 1: Calcular a Derivada da Pressão (N-1) por Minuto\n",
        "\n",
        "# Certifique-se de que as colunas de data/hora estão no formato de data/hora do pandas\n",
        "df1_c['Datetime'] = pd.to_datetime(df1_c['Datetime'])\n",
        "\n",
        "df2_c['Datetime'] = pd.to_datetime(df2_c['Datetime'])\n",
        "\n",
        "# Ordene o DataFrame pela coluna 'DataHora' (caso não esteja ordenado)\n",
        "df1_c.sort_values(by='Datetime', inplace=True)\n",
        "\n",
        "df2_c.sort_values(by='Datetime', inplace=True)\n",
        "\n",
        "\n",
        "# Calcule a derivada por minuto para 'RTU_REFG_DISC_PRES'\n",
        "\n",
        "df1_c['Derivada_RTU_REFG_DISC_PRES'] = df1_c['RTU_REFG_DISC_PRES'].diff() / df1_c['Datetime'].diff().dt.total_seconds()\n",
        "df2_c['Derivada_RTU_REFG_DISC_PRES'] = df2_c['RTU_REFG_DISC_PRES'].diff() / df2_c['Datetime'].diff().dt.total_seconds()\n",
        "\n",
        "\n",
        "# Calcule a derivada por minuto para 'RTU_REFG_SUCT_PRES'\n",
        "df1_c['Derivada_RTU_REFG_SUCT_PRES'] = df1_c['RTU_REFG_SUCT_PRES'].diff() / df1_c['Datetime'].diff().dt.total_seconds()\n",
        "\n",
        "df2_c['Derivada_RTU_REFG_SUCT_PRES'] = df2_c['RTU_REFG_SUCT_PRES'].diff() / df2_c['Datetime'].diff().dt.total_seconds()\n",
        "\n"
      ]
    },
    {
      "cell_type": "code",
      "execution_count": null,
      "metadata": {},
      "outputs": [],
      "source": [
        "# Passo 2 Calcular a Média móvel \n",
        "\n",
        "\n",
        "janela_media_movel = 1440   # Janela de um dia (1440 minutos)\n",
        "\n",
        "# Calcule a média móvel da derivada por minuto para 'RTU_REFG_DISC_PRES'\n",
        "df1_c['MediaMovel_Derivada_RTU_REFG_DISC_PRES'] = df1_c['Derivada_RTU_REFG_DISC_PRES'].rolling(window=janela_media_movel).mean()\n",
        "\n",
        "# Calcule a média móvel da derivada por minuto para 'RTU_REFG_SUCT_PRES'\n",
        "df1_c['MediaMovel_Derivada_RTU_REFG_SUCT_PRES'] = df1_c['Derivada_RTU_REFG_SUCT_PRES'].rolling(window=janela_media_movel).mean()\n",
        "\n",
        "# Calcule a média móvel da derivada por minuto para 'RTU_REFG_DISC_PRES'\n",
        "df2_c['MediaMovel_Derivada_RTU_REFG_DISC_PRES'] = df2_c['Derivada_RTU_REFG_DISC_PRES'].rolling(window=janela_media_movel).mean()\n",
        "\n",
        "# Calcule a média móvel da derivada por minuto para 'RTU_REFG_SUCT_PRES'\n",
        "df2_c['MediaMovel_Derivada_RTU_REFG_SUCT_PRES'] = df2_c['Derivada_RTU_REFG_SUCT_PRES'].rolling(window=janela_media_movel).mean()"
      ]
    },
    {
      "cell_type": "code",
      "execution_count": null,
      "metadata": {},
      "outputs": [],
      "source": [
        "# Passo 3 Calcular o Desvio Padrão\n",
        "\n",
        "\n",
        "janela_um_dia = 1440 # Defina a janela de 1 dia (1440 minutos)\n",
        "\n",
        "\n",
        "# Calcule o desvio padrão da derivada por minuto dentro da janela de 1 dia para 'RTU_REFG_DISC_PRES'\n",
        "df1_c['DesvioPadrao_Derivada_RTU_REFG_DISC_PRES'] = df1_c['Derivada_RTU_REFG_DISC_PRES'].rolling(window=janela_um_dia).std()\n",
        "\n",
        "# Calcule o desvio padrão da derivada por minuto dentro da janela de 1 dia para 'RTU_REFG_SUCT_PRES'\n",
        "df1_c['DesvioPadrao_Derivada_RTU_REFG_SUCT_PRES'] = df1_c['Derivada_RTU_REFG_SUCT_PRES'].rolling(window=janela_um_dia).std()\n",
        "\n",
        "# Calcule o desvio padrão da derivada por minuto dentro da janela de 1 dia para 'RTU_REFG_DISC_PRES'\n",
        "df2_c['DesvioPadrao_Derivada_RTU_REFG_DISC_PRES'] = df2_c['Derivada_RTU_REFG_DISC_PRES'].rolling(window=janela_um_dia).std()\n",
        "\n",
        "# Calcule o desvio padrão da derivada por minuto dentro da janela de 1 dia para 'RTU_REFG_SUCT_PRES'\n",
        "df2_c['DesvioPadrao_Derivada_RTU_REFG_SUCT_PRES'] = df2_c['Derivada_RTU_REFG_SUCT_PRES'].rolling(window=janela_um_dia).std()\n",
        "\n"
      ]
    },
    {
      "cell_type": "code",
      "execution_count": null,
      "metadata": {},
      "outputs": [],
      "source": [
        "# Passo 4 - Padronizar Manualmente\n",
        "\n",
        "# Calcule o Z-Score para cada minuto usando a média e o desvio padrão das colunas\n",
        "df1_c['Z_Score_Derivada_RTU_REFG_SUCT_PRES'] = (df1_c['Derivada_RTU_REFG_SUCT_PRES'] - df1_c['MediaMovel_Derivada_RTU_REFG_SUCT_PRES']) / df1_c['DesvioPadrao_Derivada_RTU_REFG_SUCT_PRES']\n",
        "\n",
        "df1_c['Z_Score_Derivada_RTU_REFG_DISC_PRES'] = (df1_c['Derivada_RTU_REFG_DISC_PRES'] - df1_c['MediaMovel_Derivada_RTU_REFG_DISC_PRES']) / df1_c['DesvioPadrao_Derivada_RTU_REFG_DISC_PRES']\n",
        "\n",
        "df2_c['Z_Score_Derivada_RTU_REFG_SUCT_PRES'] = (df2_c['Derivada_RTU_REFG_SUCT_PRES'] - df2_c['MediaMovel_Derivada_RTU_REFG_SUCT_PRES']) / df2_c['DesvioPadrao_Derivada_RTU_REFG_SUCT_PRES']\n",
        "\n",
        "df2_c['Z_Score_Derivada_RTU_REFG_DISC_PRES'] = (df2_c['Derivada_RTU_REFG_DISC_PRES'] - df2_c['MediaMovel_Derivada_RTU_REFG_DISC_PRES']) / df2_c['DesvioPadrao_Derivada_RTU_REFG_DISC_PRES']"
      ]
    },
    {
      "cell_type": "code",
      "execution_count": null,
      "metadata": {},
      "outputs": [],
      "source": [
        "df2_c.tail()"
      ]
    },
    {
      "cell_type": "code",
      "execution_count": null,
      "metadata": {
        "id": "N4DwMtUmGi3j"
      },
      "outputs": [],
      "source": [
        "# Elimina as features\n",
        "columns_to_drop = ['Unnamed: 0',\n",
        "    'RTU_MA_HUM', 'RTU_MA_TEMP', 'RTU_LA_COND_TEMP',\n",
        "    'RTU_REFG_DISC_PRES_1', 'RTU_REFG_DISC_PRES_2',\n",
        "    'RTU_REFG_SUCT_PRES_1', 'RTU_REFG_SUCT_PRES_2',\n",
        "    'RTU_REFG_COND_TEMP_1', 'RTU_REFG_COND_TEMP_2',\n",
        "    'RTU_REFG_SUCT_TEMP_1', 'RTU_REFG_SUCT_TEMP_2',\n",
        "    'RTU_REFG_DISC_TEMP_1', 'RTU_REFG_DISC_TEMP_2',\n",
        "    'RTU_REFG_DISC_PRES', 'RTU_REFG_SUCT_PRES',\n",
        "    'Derivada_RTU_REFG_DISC_PRES', 'Derivada_RTU_REFG_SUCT_PRES',\n",
        "    'MediaMovel_Derivada_RTU_REFG_DISC_PRES','MediaMovel_Derivada_RTU_REFG_SUCT_PRES',\n",
        "    'DesvioPadrao_Derivada_RTU_REFG_DISC_PRES','DesvioPadrao_Derivada_RTU_REFG_SUCT_PRES',\n",
        "]\n",
        "\n",
        "df1_x = df1_c.drop(columns_to_drop, axis=1)\n",
        "df2_x = df2_c.drop(columns_to_drop, axis=1)"
      ]
    },
    {
      "cell_type": "code",
      "execution_count": null,
      "metadata": {
        "id": "CrmXc9uFCxm5"
      },
      "outputs": [],
      "source": [
        "# Converter fahrenheit para celsius\n",
        "def fahrenheit_to_celsius(fahrenheit):\n",
        "    celsius = (fahrenheit - 32) * 5/9\n",
        "    return celsius\n",
        "\n",
        "# Colunas a serem convertidas\n",
        "columns_to_convert = ['RTU_RA_TEMP', 'RTU_OA_TEMP', 'ZA_TEMP', 'RTU_REFG_COND_TEMP',\n",
        "                      'RTU_REFG_SUCT_TEMP', 'RTU_REFG_DISC_TEMP','RTU_SA_TEMP']\n",
        "\n",
        "\n",
        "# Aplicando a conversão para Celsius\n",
        "df20[columns_to_convert] = df20[columns_to_convert].apply(fahrenheit_to_celsius)\n",
        "dfbs[columns_to_convert] = dfbs[columns_to_convert].apply(fahrenheit_to_celsius)"
      ]
    },
    {
      "cell_type": "code",
      "execution_count": null,
      "metadata": {
        "id": "QtXQsCXFFV3_"
      },
      "outputs": [],
      "source": [
        "# Converter colunas de Pascal para Bar\n",
        "df20['RTU_REFG_SUCT_PRES'], df20['RTU_REFG_DISC_PRES'] = df20['RTU_REFG_SUCT_PRES'] /100000 , df20['RTU_REFG_DISC_PRES'] /100000\n",
        "dfbs['RTU_REFG_SUCT_PRES'], dfbs['RTU_REFG_DISC_PRES'] = dfbs['RTU_REFG_SUCT_PRES'] / 100000, dfbs['RTU_REFG_DISC_PRES'] /100000"
      ]
    },
    {
      "cell_type": "code",
      "execution_count": null,
      "metadata": {
        "id": "mv83qY5YtxeY"
      },
      "outputs": [],
      "source": []
    },
    {
      "cell_type": "code",
      "execution_count": null,
      "metadata": {
        "id": "jzXToH-owerq"
      },
      "outputs": [],
      "source": []
    },
    {
      "cell_type": "markdown",
      "metadata": {},
      "source": [
        "#### Padronizar a Pressão "
      ]
    },
    {
      "cell_type": "code",
      "execution_count": null,
      "metadata": {},
      "outputs": [],
      "source": [
        "# Passo 1: Calcular a Derivada da Pressão (N-1) por Minuto\n",
        "\n",
        "# Certifique-se de que as colunas de data/hora estão no formato de data/hora do pandas\n",
        "df20_c['Datetime'] = pd.to_datetime(df20_c['Datetime'])\n",
        "\n",
        "dfbs_c['Datetime'] = pd.to_datetime(dfbs_c['Datetime'])\n",
        "\n",
        "# Ordene o DataFrame pela coluna 'DataHora' (caso não esteja ordenado)\n",
        "df20_c.sort_values(by='Datetime', inplace=True)\n",
        "\n",
        "dfbs_c.sort_values(by='Datetime', inplace=True)\n",
        "\n",
        "\n",
        "# Calcule a derivada por minuto para 'RTU_REFG_DISC_PRES'\n",
        "\n",
        "df20_c['Derivada_RTU_REFG_DISC_PRES'] = df20_c['RTU_REFG_DISC_PRES'].diff() / df20_c['Datetime'].diff().dt.total_seconds()\n",
        "\n",
        "dfbs_c['Derivada_RTU_REFG_DISC_PRES'] = dfbs_c['RTU_REFG_DISC_PRES'].diff() / dfbs_c['Datetime'].diff().dt.total_seconds()\n",
        "\n",
        "\n",
        "# Calcule a derivada por minuto para 'RTU_REFG_SUCT_PRES'\n",
        "df20_c['Derivada_RTU_REFG_SUCT_PRES'] = df20_c['RTU_REFG_SUCT_PRES'].diff() / df20_c['Datetime'].diff().dt.total_seconds()\n",
        "\n",
        "dfbs_c['Derivada_RTU_REFG_SUCT_PRES'] = dfbs_c['RTU_REFG_SUCT_PRES'].diff() / dfbs_c['Datetime'].diff().dt.total_seconds()\n",
        "\n"
      ]
    },
    {
      "cell_type": "code",
      "execution_count": null,
      "metadata": {},
      "outputs": [],
      "source": [
        "# Passo 2 Calcular a Média móvel \n",
        "\n",
        "\n",
        "janela_media_movel = 1440   # Janela de um dia (1440 minutos)\n",
        "\n",
        "# Calcule a média móvel da derivada por minuto para 'RTU_REFG_DISC_PRES'\n",
        "df20_c['MediaMovel_Derivada_RTU_REFG_DISC_PRES'] = df20_c['Derivada_RTU_REFG_DISC_PRES'].rolling(window=janela_media_movel).mean()\n",
        "\n",
        "# Calcule a média móvel da derivada por minuto para 'RTU_REFG_SUCT_PRES'\n",
        "dfbs_c['MediaMovel_Derivada_RTU_REFG_SUCT_PRES'] = dfbs_c['Derivada_RTU_REFG_SUCT_PRES'].rolling(window=janela_media_movel).mean()\n",
        "\n",
        "# Calcule a média móvel da derivada por minuto para 'RTU_REFG_DISC_PRES'\n",
        "df20_c['MediaMovel_Derivada_RTU_REFG_DISC_PRES'] = df20_c['Derivada_RTU_REFG_DISC_PRES'].rolling(window=janela_media_movel).mean()\n",
        "\n",
        "# Calcule a média móvel da derivada por minuto para 'RTU_REFG_SUCT_PRES'\n",
        "dfbs_c['MediaMovel_Derivada_RTU_REFG_SUCT_PRES'] = dfbs_c['Derivada_RTU_REFG_SUCT_PRES'].rolling(window=janela_media_movel).mean()"
      ]
    },
    {
      "cell_type": "code",
      "execution_count": null,
      "metadata": {},
      "outputs": [],
      "source": [
        "# Passo 3 Calcular o Desvio Padrão\n",
        "\n",
        "\n",
        "janela_um_dia = 1440 # Defina a janela de 1 dia (1440 minutos)\n",
        "\n",
        "\n",
        "# Calcule o desvio padrão da derivada por minuto dentro da janela de 1 dia para 'RTU_REFG_DISC_PRES'\n",
        "df20_c['DesvioPadrao_Derivada_RTU_REFG_DISC_PRES'] = df20_c['Derivada_RTU_REFG_DISC_PRES'].rolling(window=janela_um_dia).std()\n",
        "\n",
        "# Calcule o desvio padrão da derivada por minuto dentro da janela de 1 dia para 'RTU_REFG_SUCT_PRES'\n",
        "dfbs_c['DesvioPadrao_Derivada_RTU_REFG_SUCT_PRES'] = dfbs_c['Derivada_RTU_REFG_SUCT_PRES'].rolling(window=janela_um_dia).std()\n",
        "\n",
        "# Calcule o desvio padrão da derivada por minuto dentro da janela de 1 dia para 'RTU_REFG_DISC_PRES'\n",
        "df20_c['DesvioPadrao_Derivada_RTU_REFG_DISC_PRES'] = df20_c['Derivada_RTU_REFG_DISC_PRES'].rolling(window=janela_um_dia).std()\n",
        "\n",
        "# Calcule o desvio padrão da derivada por minuto dentro da janela de 1 dia para 'RTU_REFG_SUCT_PRES'\n",
        "dfbs_c['DesvioPadrao_Derivada_RTU_REFG_SUCT_PRES'] = dfbs_c['Derivada_RTU_REFG_SUCT_PRES'].rolling(window=janela_um_dia).std()\n"
      ]
    },
    {
      "cell_type": "code",
      "execution_count": null,
      "metadata": {},
      "outputs": [],
      "source": [
        "# Passo 4 - Padronizar Manualmente\n",
        "\n",
        "# Calcule o Z-Score para cada minuto usando a média e o desvio padrão das colunas\n",
        "df20_c['Z_Score_Derivada_RTU_REFG_SUCT_PRES'] = (df20_c['Derivada_RTU_REFG_SUCT_PRES'] - df20_c['MediaMovel_Derivada_RTU_REFG_SUCT_PRES']) / df20_c['DesvioPadrao_Derivada_RTU_REFG_SUCT_PRES']\n",
        "\n",
        "dfbs_c['Z_Score_Derivada_RTU_REFG_DISC_PRES'] = (dfbs_c['Derivada_RTU_REFG_DISC_PRES'] - dfbs_c['MediaMovel_Derivada_RTU_REFG_DISC_PRES']) / dfbs_c['DesvioPadrao_Derivada_RTU_REFG_DISC_PRES']\n",
        "\n",
        "df20_c['Z_Score_Derivada_RTU_REFG_SUCT_PRES'] = (df20_c['Derivada_RTU_REFG_SUCT_PRES'] - df20_c['MediaMovel_Derivada_RTU_REFG_SUCT_PRES']) / df20_c['DesvioPadrao_Derivada_RTU_REFG_SUCT_PRES']\n",
        "\n",
        "dfbs_c['Z_Score_Derivada_RTU_REFG_DISC_PRES'] = (dfbs_c['Derivada_RTU_REFG_DISC_PRES'] - dfbs_c['MediaMovel_Derivada_RTU_REFG_DISC_PRES']) / dfbs_c['DesvioPadrao_Derivada_RTU_REFG_DISC_PRES']"
      ]
    }
  ],
  "metadata": {
    "colab": {
      "collapsed_sections": [
        "NPR7AKXU3oGu"
      ],
      "provenance": []
    },
    "kernelspec": {
      "display_name": "Python 3",
      "name": "python3"
    },
    "language_info": {
      "codemirror_mode": {
        "name": "ipython",
        "version": 3
      },
      "file_extension": ".py",
      "mimetype": "text/x-python",
      "name": "python",
      "nbconvert_exporter": "python",
      "pygments_lexer": "ipython3",
      "version": "3.8.10"
    }
  },
  "nbformat": 4,
  "nbformat_minor": 0
}
