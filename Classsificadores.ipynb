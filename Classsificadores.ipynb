{
  "cells": [
    {
      "cell_type": "markdown",
      "metadata": {
        "id": "mbCRD_2u8NQk"
      },
      "source": [
        "# Sumário\n",
        "\n",
        "1. [Pré-Processamento](Pré)\n",
        "2. [Machine Learning](ml)\n",
        "3. [Gráficos](gf)\n",
        "\n"
      ]
    },
    {
      "cell_type": "markdown",
      "metadata": {
        "id": "9ozcfCfUE2Bs"
      },
      "source": [
        "# Pré-Processamento dados Reais\n"
      ]
    },
    {
      "cell_type": "code",
      "execution_count": 56,
      "metadata": {
        "id": "SWRk8G3fB8Sx"
      },
      "outputs": [],
      "source": [
        "import pandas as pd\n",
        "import os\n",
        "import numpy as np\n"
      ]
    },
    {
      "cell_type": "code",
      "execution_count": 57,
      "metadata": {
        "id": "GSh0FwRoG4Jc"
      },
      "outputs": [],
      "source": [
        "\n",
        "df1 = pd.read_csv('https://raw.githubusercontent.com/GUIPETAV/Base/main/df1.csv')# falha de subcarga\n",
        "df2 = pd.read_csv('https://raw.githubusercontent.com/GUIPETAV/Base/main/df2.csv')# sem falha de subcarga\n"
      ]
    },
    {
      "cell_type": "code",
      "execution_count": 58,
      "metadata": {
        "id": "UbTJIBbD3mS4"
      },
      "outputs": [],
      "source": [
        "df10 = pd.read_csv('https://raw.githubusercontent.com/GUIPETAV/Base/main/df10.csv') # falha de subcarga 10%\n",
        "df20 = pd.read_csv('https://raw.githubusercontent.com/GUIPETAV/Base/main/df20.csv') # falha de subcarga 20%\n",
        "df15 = pd.read_csv('https://raw.githubusercontent.com/GUIPETAV/Base/main/df15.csv') # falha de subcarga 15%\n",
        "dfbs = pd.read_csv('https://raw.githubusercontent.com/GUIPETAV/Base/main/dfbs.csv') #  sem de falha de subcarga"
      ]
    },
    {
      "cell_type": "code",
      "execution_count": 59,
      "metadata": {
        "colab": {
          "base_uri": "https://localhost:8080/",
          "height": 551
        },
        "id": "3XoDbCXb4j8F",
        "outputId": "b39c26ac-7292-4473-a7af-7f6c859d3191"
      },
      "outputs": [
        {
          "data": {
            "text/html": [
              "<div>\n",
              "<style scoped>\n",
              "    .dataframe tbody tr th:only-of-type {\n",
              "        vertical-align: middle;\n",
              "    }\n",
              "\n",
              "    .dataframe tbody tr th {\n",
              "        vertical-align: top;\n",
              "    }\n",
              "\n",
              "    .dataframe thead th {\n",
              "        text-align: right;\n",
              "    }\n",
              "</style>\n",
              "<table border=\"1\" class=\"dataframe\">\n",
              "  <thead>\n",
              "    <tr style=\"text-align: right;\">\n",
              "      <th></th>\n",
              "      <th>Colunas do df2 com nomes diferentes do dfbs</th>\n",
              "      <th>Colunas do dfbs com nomes diferentes do df2</th>\n",
              "    </tr>\n",
              "  </thead>\n",
              "  <tbody>\n",
              "    <tr>\n",
              "      <th>0</th>\n",
              "      <td>RTU_REFG_SUCT_TEMP_2</td>\n",
              "      <td>RTU_OA_FLOW</td>\n",
              "    </tr>\n",
              "    <tr>\n",
              "      <th>1</th>\n",
              "      <td>RTU_REFG_DISC_TEMP_2</td>\n",
              "      <td>RTU_STG_STA</td>\n",
              "    </tr>\n",
              "    <tr>\n",
              "      <th>2</th>\n",
              "      <td>RTU_REFG_DISC_PRES_2</td>\n",
              "      <td>RTU_REFG_SUCT_PRES</td>\n",
              "    </tr>\n",
              "    <tr>\n",
              "      <th>3</th>\n",
              "      <td>RTU_REFG_SUCT_TEMP_1</td>\n",
              "      <td>RTU_REFG_DISC_PRES</td>\n",
              "    </tr>\n",
              "    <tr>\n",
              "      <th>4</th>\n",
              "      <td>RTU_MA_HUM</td>\n",
              "      <td>RTU_SEN_CAPA</td>\n",
              "    </tr>\n",
              "    <tr>\n",
              "      <th>5</th>\n",
              "      <td>RTU_LA_COND_TEMP</td>\n",
              "      <td>ZA_TEMP_SPT</td>\n",
              "    </tr>\n",
              "    <tr>\n",
              "      <th>6</th>\n",
              "      <td>RTU_REFG_COND_TEMP_1</td>\n",
              "      <td>RTU_REFG_SUCT_TEMP</td>\n",
              "    </tr>\n",
              "    <tr>\n",
              "      <th>7</th>\n",
              "      <td>date</td>\n",
              "      <td>RTU_TOT_CAPA</td>\n",
              "    </tr>\n",
              "    <tr>\n",
              "      <th>8</th>\n",
              "      <td>time</td>\n",
              "      <td>RTU_RA_FLOW</td>\n",
              "    </tr>\n",
              "    <tr>\n",
              "      <th>9</th>\n",
              "      <td>RTU_MA_TEMP</td>\n",
              "      <td>RTU_REFG_COND_PRES</td>\n",
              "    </tr>\n",
              "    <tr>\n",
              "      <th>10</th>\n",
              "      <td>month</td>\n",
              "      <td>RTU_REFG_COND_TEMP</td>\n",
              "    </tr>\n",
              "    <tr>\n",
              "      <th>11</th>\n",
              "      <td>RTU_REFG_COND_TEMP_2</td>\n",
              "      <td>RTU_REFG_DISC_TEMP</td>\n",
              "    </tr>\n",
              "    <tr>\n",
              "      <th>12</th>\n",
              "      <td>RTU_REFG_SUCT_PRES_2</td>\n",
              "      <td>None</td>\n",
              "    </tr>\n",
              "    <tr>\n",
              "      <th>13</th>\n",
              "      <td>RTU_REFG_DISC_TEMP_1</td>\n",
              "      <td>None</td>\n",
              "    </tr>\n",
              "    <tr>\n",
              "      <th>14</th>\n",
              "      <td>RTU_REFG_SUCT_PRES_1</td>\n",
              "      <td>None</td>\n",
              "    </tr>\n",
              "    <tr>\n",
              "      <th>15</th>\n",
              "      <td>RTU_REFG_DISC_PRES_1</td>\n",
              "      <td>None</td>\n",
              "    </tr>\n",
              "  </tbody>\n",
              "</table>\n",
              "</div>"
            ],
            "text/plain": [
              "   Colunas do df2 com nomes diferentes do dfbs  \\\n",
              "0                         RTU_REFG_SUCT_TEMP_2   \n",
              "1                         RTU_REFG_DISC_TEMP_2   \n",
              "2                         RTU_REFG_DISC_PRES_2   \n",
              "3                         RTU_REFG_SUCT_TEMP_1   \n",
              "4                                   RTU_MA_HUM   \n",
              "5                             RTU_LA_COND_TEMP   \n",
              "6                         RTU_REFG_COND_TEMP_1   \n",
              "7                                         date   \n",
              "8                                         time   \n",
              "9                                  RTU_MA_TEMP   \n",
              "10                                       month   \n",
              "11                        RTU_REFG_COND_TEMP_2   \n",
              "12                        RTU_REFG_SUCT_PRES_2   \n",
              "13                        RTU_REFG_DISC_TEMP_1   \n",
              "14                        RTU_REFG_SUCT_PRES_1   \n",
              "15                        RTU_REFG_DISC_PRES_1   \n",
              "\n",
              "   Colunas do dfbs com nomes diferentes do df2  \n",
              "0                                  RTU_OA_FLOW  \n",
              "1                                  RTU_STG_STA  \n",
              "2                           RTU_REFG_SUCT_PRES  \n",
              "3                           RTU_REFG_DISC_PRES  \n",
              "4                                 RTU_SEN_CAPA  \n",
              "5                                  ZA_TEMP_SPT  \n",
              "6                           RTU_REFG_SUCT_TEMP  \n",
              "7                                 RTU_TOT_CAPA  \n",
              "8                                  RTU_RA_FLOW  \n",
              "9                           RTU_REFG_COND_PRES  \n",
              "10                          RTU_REFG_COND_TEMP  \n",
              "11                          RTU_REFG_DISC_TEMP  \n",
              "12                                        None  \n",
              "13                                        None  \n",
              "14                                        None  \n",
              "15                                        None  "
            ]
          },
          "execution_count": 59,
          "metadata": {},
          "output_type": "execute_result"
        }
      ],
      "source": [
        "import pandas as pd\n",
        "\n",
        "\n",
        "# Obter os nomes das colunas de ambos os DataFrames\n",
        "columns_df2 = set(df2.columns)\n",
        "columns_dfbs = set(dfbs.columns)\n",
        "\n",
        "# Encontrar as colunas com nomes diferentes\n",
        "different_columns_df2 = columns_df2.difference(columns_dfbs)\n",
        "different_columns_dfbs = columns_dfbs.difference(columns_df2)\n",
        "\n",
        "# Criar listas vazias para as colunas do DataFrame\n",
        "different_columns_df2_list = list(different_columns_df2)\n",
        "different_columns_dfbs_list = list(different_columns_dfbs)\n",
        "\n",
        "# Preencher com None para manter as listas com o mesmo tamanho\n",
        "max_length = max(len(different_columns_df2_list), len(different_columns_dfbs_list))\n",
        "different_columns_df2_list.extend([None] * (max_length - len(different_columns_df2_list)))\n",
        "different_columns_dfbs_list.extend([None] * (max_length - len(different_columns_dfbs_list)))\n",
        "\n",
        "# Criar um DataFrame para a tabela\n",
        "table_data = {\n",
        "    'Colunas do df2 com nomes diferentes do dfbs': different_columns_df2_list,\n",
        "    'Colunas do dfbs com nomes diferentes do df2': different_columns_dfbs_list\n",
        "}\n",
        "\n",
        "result_table = pd.DataFrame(table_data)\n",
        "\n",
        "\n",
        "result_table"
      ]
    },
    {
      "cell_type": "code",
      "execution_count": 60,
      "metadata": {
        "id": "THYdm66H50ii"
      },
      "outputs": [],
      "source": [
        "# Remover as features incongruentes\n",
        "\n",
        "columns_to_drop_real = ['Unnamed: 0','time','date','month'\n",
        "    'RTU_MA_HUM', 'RTU_MA_TEMP', 'RTU_LA_COND_TEMP',]"
      ]
    },
    {
      "cell_type": "code",
      "execution_count": 61,
      "metadata": {
        "id": "8SGMxIiqLU39"
      },
      "outputs": [],
      "source": [
        "df1_t = df1.assign(Target = 1) # falha de subcarga\n",
        "\n",
        "df2_t = df2.assign(Target = 0) # não falha de subcarga\n",
        "\n"
      ]
    },
    {
      "cell_type": "code",
      "execution_count": 62,
      "metadata": {
        "id": "GFfhB98XRqk8"
      },
      "outputs": [],
      "source": [
        "# Eliminando  os momentos de desligameno do sistema no  site 2 de forma continua\n",
        "# Seleciona as linhas que não contêm zero na FAN_WAAT e 'COMP_WATT'.\n",
        "\n",
        "df1_c = df1_t.loc[(df1_t['RTU_SA_FAN_WATT'] != 0) & (df1_t['RTU_COMP_WATT'] != 0)]\n",
        "df2_c = df2_t.loc[(df2_t['RTU_SA_FAN_WATT'] != 0) & (df2_t['RTU_COMP_WATT'] != 0)]"
      ]
    },
    {
      "cell_type": "code",
      "execution_count": 63,
      "metadata": {
        "id": "NFFu2OEAxpGc"
      },
      "outputs": [],
      "source": [
        "# Cria uma nova feature com a soma das pressões\n",
        "df1_c = df1_c.assign(\n",
        "    RTU_REFG_DISC_PRES=df1_c['RTU_REFG_DISC_PRES_1'] + df1_c['RTU_REFG_DISC_PRES_2'],\n",
        "    RTU_REFG_SUCT_PRES=df1_c['RTU_REFG_SUCT_PRES_1'] + df1_c['RTU_REFG_SUCT_PRES_2'],\n",
        "    RTU_REFG_COND_TEMP=df1_c['RTU_REFG_COND_TEMP_1'] + df1_c['RTU_REFG_COND_TEMP_2'],\n",
        "    RTU_REFG_SUCT_TEMP=df1_c['RTU_REFG_SUCT_TEMP_1'] + df1_c['RTU_REFG_SUCT_TEMP_2'],\n",
        "    RTU_REFG_DISC_TEMP=df1_c['RTU_REFG_DISC_TEMP_1'] + df1_c['RTU_REFG_DISC_TEMP_2'])\n",
        "\n",
        "df2_c = df2_c.assign(\n",
        "    RTU_REFG_DISC_PRES=df2_c['RTU_REFG_DISC_PRES_1'] + df2_c['RTU_REFG_DISC_PRES_2'],\n",
        "    RTU_REFG_SUCT_PRES=df2_c['RTU_REFG_SUCT_PRES_1'] + df2_c['RTU_REFG_SUCT_PRES_2'],\n",
        "    RTU_REFG_COND_TEMP=df2_c['RTU_REFG_COND_TEMP_1'] + df2_c['RTU_REFG_COND_TEMP_2'],\n",
        "    RTU_REFG_SUCT_TEMP=df2_c['RTU_REFG_SUCT_TEMP_1'] + df2_c['RTU_REFG_SUCT_TEMP_2'],\n",
        "    RTU_REFG_DISC_TEMP=df2_c['RTU_REFG_DISC_TEMP_1'] + df2_c['RTU_REFG_DISC_TEMP_2'])"
      ]
    },
    {
      "cell_type": "code",
      "execution_count": 64,
      "metadata": {
        "id": "N4DwMtUmGi3j"
      },
      "outputs": [],
      "source": [
        "# Elimina as features\n",
        "columns_to_drop = ['Unnamed: 0',\n",
        "    'RTU_MA_HUM', 'RTU_MA_TEMP', 'RTU_LA_COND_TEMP',\n",
        "    'RTU_REFG_DISC_PRES_1', 'RTU_REFG_DISC_PRES_2',\n",
        "    'RTU_REFG_SUCT_PRES_1', 'RTU_REFG_SUCT_PRES_2',\n",
        "    'RTU_REFG_COND_TEMP_1', 'RTU_REFG_COND_TEMP_2',\n",
        "    'RTU_REFG_SUCT_TEMP_1', 'RTU_REFG_SUCT_TEMP_2',\n",
        "    'RTU_REFG_DISC_TEMP_1', 'RTU_REFG_DISC_TEMP_2',\n",
        "]\n",
        "\n",
        "df1_x = df1_c.drop(columns_to_drop, axis=1)\n",
        "df2_x = df2_c.drop(columns_to_drop, axis=1)"
      ]
    },
    {
      "cell_type": "code",
      "execution_count": 65,
      "metadata": {
        "id": "CrmXc9uFCxm5"
      },
      "outputs": [],
      "source": [
        "# Converter fahrenheit para celsius\n",
        "def fahrenheit_to_celsius(fahrenheit):\n",
        "    celsius = (fahrenheit - 32) * 5/9\n",
        "    return celsius\n",
        "\n",
        "# Colunas a serem convertidas\n",
        "columns_to_convert = ['RTU_RA_TEMP', 'RTU_OA_TEMP', 'ZA_TEMP', 'RTU_REFG_COND_TEMP',\n",
        "                      'RTU_REFG_SUCT_TEMP', 'RTU_REFG_DISC_TEMP','RTU_SA_TEMP']\n",
        "\n",
        "\n",
        "# Aplicando a conversão para Celsius\n",
        "df20[columns_to_convert] = df20[columns_to_convert].apply(fahrenheit_to_celsius)\n",
        "dfbs[columns_to_convert] = dfbs[columns_to_convert].apply(fahrenheit_to_celsius)"
      ]
    },
    {
      "cell_type": "code",
      "execution_count": 66,
      "metadata": {
        "id": "QtXQsCXFFV3_"
      },
      "outputs": [],
      "source": [
        "# Converter colunas de Pascal para Bar\n",
        "df20['RTU_REFG_SUCT_PRES'], df20['RTU_REFG_DISC_PRES'] = df20['RTU_REFG_SUCT_PRES'] /100000 , df20['RTU_REFG_DISC_PRES'] /100000\n",
        "dfbs['RTU_REFG_SUCT_PRES'], dfbs['RTU_REFG_DISC_PRES'] = dfbs['RTU_REFG_SUCT_PRES'] / 100000, dfbs['RTU_REFG_DISC_PRES'] /100000"
      ]
    },
    {
      "cell_type": "code",
      "execution_count": 67,
      "metadata": {
        "id": "mv83qY5YtxeY"
      },
      "outputs": [],
      "source": [
        "\n",
        "df20_t = df20.assign(Target = 1) # falha de subcarga\n",
        "\n",
        "dfbs_t = dfbs.assign(Target = 0) #  não falha"
      ]
    },
    {
      "cell_type": "code",
      "execution_count": 68,
      "metadata": {
        "id": "jzXToH-owerq"
      },
      "outputs": [],
      "source": [
        "# Eliminando  os momentos de desligameno do sistema no  site 2 de forma continua\n",
        "# Seleciona as linhas que não contêm zero na FAN_WAAT e 'COMP_WATT'.\n",
        "\n",
        "df20_c = df20_t.loc[(df20_t['RTU_COMP_WATT'] != 0) ]\n",
        "dfbs_c = dfbs_t.loc[(dfbs_t['RTU_COMP_WATT'] != 0) ]"
      ]
    },
    {
      "cell_type": "code",
      "execution_count": 69,
      "metadata": {
        "id": "KC3ZGGEM_hYg"
      },
      "outputs": [],
      "source": [
        "columns_to_drop = ['Unnamed: 0',\n",
        "    'RTU_RA_FLOW', 'RTU_OA_FLOW', 'RTU_STG_STA',\n",
        "    'RTU_REFG_COND_PRES', 'RTU_SEN_CAPA',\n",
        "    'RTU_TOT_CAPA', 'ZA_TEMP_SPT',\n",
        "]\n",
        "\n",
        "df20_c = df20_c.drop(columns_to_drop, axis=1)\n",
        "dfbs_c = dfbs_c.drop(columns_to_drop, axis=1)\n"
      ]
    },
    {
      "cell_type": "code",
      "execution_count": 70,
      "metadata": {
        "id": "15kgpxbiAuDB"
      },
      "outputs": [],
      "source": [
        "# Definir y real\n",
        "\n",
        "df1_y= df1_c['Target']\n",
        "df2_y= df2_c['Target']"
      ]
    },
    {
      "cell_type": "code",
      "execution_count": 71,
      "metadata": {
        "id": "tCtpfDxtE8_l"
      },
      "outputs": [],
      "source": [
        "# Definir X real\n",
        "df1_x= df1_x.drop(['Datetime','Target', 'RTU_REFG_COND_TEMP', 'RTU_REFG_SUCT_TEMP', 'RTU_REFG_DISC_TEMP'], axis=1)\n",
        "df2_x= df2_x.drop(['Datetime','Target', 'RTU_REFG_COND_TEMP', 'RTU_REFG_SUCT_TEMP', 'RTU_REFG_DISC_TEMP'], axis=1)\n"
      ]
    },
    {
      "cell_type": "code",
      "execution_count": 72,
      "metadata": {
        "id": "19SfsiEQVHHa"
      },
      "outputs": [],
      "source": [
        "# # Definir X real sem features modificadas\n",
        "# df1_x= df1_x.drop(['Datetime','Target','RTU_RA_TEMP','RTU_OA_TEMP','ZA_TEMP', 'RTU_REFG_COND_TEMP', 'RTU_REFG_SUCT_TEMP', 'RTU_REFG_DISC_TEMP','RTU_SA_TEMP','RTU_REFG_SUCT_PRES','RTU_REFG_DISC_PRES'], axis=1)\n",
        "# df2_x= df2_x.drop(['Datetime','Target','RTU_RA_TEMP','RTU_OA_TEMP','ZA_TEMP', 'RTU_REFG_COND_TEMP', 'RTU_REFG_SUCT_TEMP', 'RTU_REFG_DISC_TEMP','RTU_SA_TEMP','RTU_REFG_SUCT_PRES','RTU_REFG_DISC_PRES'], axis=1)"
      ]
    },
    {
      "cell_type": "code",
      "execution_count": 73,
      "metadata": {
        "id": "TN611DS7I75V"
      },
      "outputs": [],
      "source": [
        "# Definir X sim\n",
        "\n",
        "df20_x= df20_c.drop(['Datetime','Target', 'RTU_REFG_COND_TEMP', 'RTU_REFG_SUCT_TEMP', 'RTU_REFG_DISC_TEMP'], axis=1)\n",
        "dfbs_x= dfbs_c.drop(['Datetime','Target', 'RTU_REFG_COND_TEMP', 'RTU_REFG_SUCT_TEMP', 'RTU_REFG_DISC_TEMP'], axis=1)"
      ]
    },
    {
      "cell_type": "code",
      "execution_count": 74,
      "metadata": {
        "id": "BWLlj4KqFN27"
      },
      "outputs": [],
      "source": [
        "# # Definir X sim sem features modificadas\n",
        "\n",
        "# df20_x= df20_c.drop(['Datetime','Target','RTU_RA_TEMP','RTU_OA_TEMP','ZA_TEMP', 'RTU_REFG_COND_TEMP', 'RTU_REFG_SUCT_TEMP', 'RTU_REFG_DISC_TEMP','RTU_SA_TEMP','RTU_REFG_SUCT_PRES','RTU_REFG_DISC_PRES'], axis=1)\n",
        "# dfbs_x= dfbs_c.drop(['Datetime','Target','RTU_RA_TEMP','RTU_OA_TEMP','ZA_TEMP', 'RTU_REFG_COND_TEMP', 'RTU_REFG_SUCT_TEMP', 'RTU_REFG_DISC_TEMP','RTU_SA_TEMP','RTU_REFG_SUCT_PRES','RTU_REFG_DISC_PRES'], axis=1)"
      ]
    },
    {
      "cell_type": "code",
      "execution_count": 75,
      "metadata": {
        "id": "GufWhQKXHbrh"
      },
      "outputs": [],
      "source": [
        "# Definir y sim\n",
        "\n",
        "df20_y = df20_c['Target']\n",
        "dfbs_y = dfbs_c['Target']\n"
      ]
    },
    {
      "cell_type": "markdown",
      "metadata": {
        "id": "5iUDuIoWz6yO"
      },
      "source": [
        "### Avaliar as temperaturas"
      ]
    },
    {
      "cell_type": "code",
      "execution_count": 76,
      "metadata": {
        "colab": {
          "base_uri": "https://localhost:8080/"
        },
        "id": "Zf84XydE12Tw",
        "outputId": "8451a82e-f9f8-4f00-9476-26b797c49d87"
      },
      "outputs": [
        {
          "name": "stdout",
          "output_type": "stream",
          "text": [
            "Colunas TEMP de df1_x: ['RTU_OA_TEMP', 'RTU_RA_TEMP', 'RTU_SA_TEMP', 'ZA_TEMP']\n",
            "Colunas TEMP de df2_x: ['RTU_OA_TEMP', 'RTU_RA_TEMP', 'RTU_SA_TEMP', 'ZA_TEMP']\n",
            "Colunas TEMP de df20_x: ['RTU_OA_TEMP', 'RTU_RA_TEMP', 'RTU_SA_TEMP', 'ZA_TEMP']\n",
            "Colunas TEMP de dfbs_x: ['RTU_OA_TEMP', 'RTU_RA_TEMP', 'RTU_SA_TEMP', 'ZA_TEMP']\n"
          ]
        }
      ],
      "source": [
        "\n",
        "# Lista de nomes dos DataFrames\n",
        "df_names = ['df1_x', 'df2_x', 'df20_x', 'dfbs_x']\n",
        "\n",
        "# Dicionário para armazenar as colunas de cada DataFrame que terminam com \"TEMP\"\n",
        "temp_columns_dict = {}\n",
        "\n",
        "# Loop pelos nomes dos DataFrames\n",
        "for df_name in df_names:\n",
        "    df = globals()[df_name]  # Obtém o DataFrame pelo nome\n",
        "    temp_columns = [col for col in df.columns if col.endswith('TEMP')]\n",
        "    temp_columns_dict[df_name] = temp_columns\n",
        "\n",
        "# Mostrar as colunas TEMP de cada DataFrame\n",
        "for df_name, temp_columns in temp_columns_dict.items():\n",
        "    print(f\"Colunas TEMP de {df_name}: {temp_columns}\")\n"
      ]
    },
    {
      "cell_type": "code",
      "execution_count": 77,
      "metadata": {
        "colab": {
          "base_uri": "https://localhost:8080/"
        },
        "id": "PJKMZER82Nqi",
        "outputId": "a14839bf-ffcc-4171-de9d-c153a29f20c1"
      },
      "outputs": [
        {
          "name": "stdout",
          "output_type": "stream",
          "text": [
            "Novo DataFrame df1_x:\n",
            "       RTU_OA_TEMP  RTU_RA_TEMP  RTU_SA_TEMP    ZA_TEMP\n",
            "2325     22.105539    24.958735    25.076216  23.161497\n",
            "2326     22.060923    24.954077    25.076216  23.130379\n",
            "2327     22.034742    24.863256    24.072466  23.124170\n",
            "2329     22.000299    24.846956    24.449747  23.120466\n",
            "2337     21.948624    24.825998    24.852644  23.120888\n",
            "...            ...          ...          ...        ...\n",
            "41441    12.763875    23.729204    19.063038  22.798174\n",
            "41442    12.715758    23.729204    19.780333  22.798555\n",
            "41455    12.881154    23.952757    22.046339  22.831186\n",
            "41459    12.902560    24.010971    22.821856  22.833170\n",
            "41460    12.874650    23.994673    21.811121  22.836561\n",
            "\n",
            "[11688 rows x 4 columns]\n",
            "Novo DataFrame df2_x:\n",
            "        RTU_OA_TEMP  RTU_RA_TEMP  RTU_SA_TEMP    ZA_TEMP\n",
            "251       21.671854    22.916506    21.999763  24.086710\n",
            "252       21.661423    23.205259    19.358809  24.098536\n",
            "253       21.636353    23.417166    18.094225  24.073631\n",
            "254       21.586029    23.577843    17.658724  24.040545\n",
            "255       21.562464    23.712906    17.171984  24.001974\n",
            "...             ...          ...          ...        ...\n",
            "258579     8.283129    23.729204    22.949944  22.702810\n",
            "258580     8.298266    23.729204    22.670479  22.708212\n",
            "258581     8.280314    23.729204    19.708139  22.704926\n",
            "258582     8.304955    23.729204    20.651339  22.710655\n",
            "258583     8.317967    23.668657    17.425833  22.707977\n",
            "\n",
            "[102705 rows x 4 columns]\n",
            "Novo DataFrame df20_x:\n",
            "        RTU_OA_TEMP  RTU_RA_TEMP  RTU_SA_TEMP    ZA_TEMP\n",
            "0         12.800017    23.224394    11.716432  23.224394\n",
            "1         12.796661    23.086641    12.249357  23.086641\n",
            "2         12.793333    22.950075    12.122468  22.950075\n",
            "3         12.790008    22.814513    11.999847  22.814513\n",
            "4         12.786683    22.680083    11.879883  22.680083\n",
            "...             ...          ...          ...        ...\n",
            "143936    15.000000    24.140767    11.828842  24.140767\n",
            "143937    15.000000    24.168039    11.843319  24.168039\n",
            "143938    15.000000    24.194617    11.857616  24.194617\n",
            "143939    15.000000    24.220581    11.871723  24.220581\n",
            "143940    15.000000    24.245722    11.885528  24.245722\n",
            "\n",
            "[143084 rows x 4 columns]\n",
            "Novo DataFrame dfbs_x:\n",
            "        RTU_OA_TEMP  RTU_RA_TEMP  RTU_SA_TEMP    ZA_TEMP\n",
            "0         12.800017    24.000000    11.262665  23.117248\n",
            "1         12.796661    22.974211    11.826753  22.974211\n",
            "2         12.793333    22.831209    11.680542  22.831209\n",
            "3         12.790008    22.688387    11.541900  22.688387\n",
            "4         12.786683    22.546175    11.406919  22.546175\n",
            "...             ...          ...          ...        ...\n",
            "143936    15.000000    21.979908    10.067626  21.979908\n",
            "143937    15.000000    22.119006    16.560472  22.119006\n",
            "143938    15.000000    22.639667    18.399641  22.639667\n",
            "143939    15.000000    23.162422    18.906667  23.162422\n",
            "143940    15.000000    23.682522    19.412078  23.682522\n",
            "\n",
            "[142476 rows x 4 columns]\n"
          ]
        }
      ],
      "source": [
        "\n",
        "# Lista de nomes dos DataFrames\n",
        "df_names = ['df1_x', 'df2_x', 'df20_x', 'dfbs_x']\n",
        "\n",
        "# Dicionário para armazenar os novos DataFrames\n",
        "new_df_dict = {}\n",
        "\n",
        "# Loop pelos nomes dos DataFrames\n",
        "for df_name in df_names:\n",
        "    df = globals()[df_name]  # Obtém o DataFrame pelo nome\n",
        "    temp_columns = [col for col in df.columns if col.endswith('TEMP')]\n",
        "    new_df = df[temp_columns].copy()  # Cria um novo DataFrame com as colunas TEMP\n",
        "    new_df_dict[df_name] = new_df\n",
        "\n",
        "# Mostrar os novos DataFrames\n",
        "for df_name, new_df in new_df_dict.items():\n",
        "    print(f\"Novo DataFrame {df_name}:\")\n",
        "    print(new_df)\n",
        "\n",
        "    new_df\n"
      ]
    },
    {
      "cell_type": "markdown",
      "metadata": {
        "id": "FpPsv_eJw0hH"
      },
      "source": [
        "# Ordenar dataset"
      ]
    },
    {
      "cell_type": "code",
      "execution_count": 78,
      "metadata": {
        "id": "0i6MaEg4dze0"
      },
      "outputs": [],
      "source": [
        "colunas_df1_x = set(df1_x.columns)\n",
        "colunas_df2_x = set(df2_x.columns)\n",
        "colunas_df20_x = set(df20_x.columns)"
      ]
    },
    {
      "cell_type": "code",
      "execution_count": 79,
      "metadata": {
        "colab": {
          "base_uri": "https://localhost:8080/"
        },
        "id": "QUxwS7P-d-sf",
        "outputId": "874e490e-abe3-49bc-d97b-7e09ca5f6142"
      },
      "outputs": [
        {
          "name": "stdout",
          "output_type": "stream",
          "text": [
            "Os nomes das colunas correspondem.\n"
          ]
        }
      ],
      "source": [
        "if colunas_df1_x == colunas_df20_x:\n",
        "    print(\"Os nomes das colunas correspondem.\")\n",
        "else:\n",
        "    print(\"Os nomes das colunas não correspondem.\")"
      ]
    },
    {
      "cell_type": "code",
      "execution_count": 80,
      "metadata": {
        "colab": {
          "base_uri": "https://localhost:8080/"
        },
        "id": "ZmoweTvw2sLu",
        "outputId": "cb9117ca-2ddf-4906-94df-6af6e0d92954"
      },
      "outputs": [
        {
          "name": "stdout",
          "output_type": "stream",
          "text": [
            "Os nomes das colunas não correspondem.\n"
          ]
        }
      ],
      "source": [
        "if colunas_df2_x == colunas_df20_x:\n",
        "    print(\"Os nomes das colunas correspondem.\")\n",
        "else:\n",
        "    print(\"Os nomes das colunas não correspondem.\")"
      ]
    },
    {
      "cell_type": "code",
      "execution_count": 81,
      "metadata": {
        "id": "zyJMlPHLgeD1"
      },
      "outputs": [],
      "source": [
        "sequencia_colunas = df20_x.columns\n",
        "df1_x = df1_x[sequencia_colunas]\n",
        "df2_x = df2_x[sequencia_colunas]"
      ]
    },
    {
      "cell_type": "code",
      "execution_count": 82,
      "metadata": {
        "colab": {
          "base_uri": "https://localhost:8080/"
        },
        "id": "0rmdgj4O3RYQ",
        "outputId": "4cb225f0-bbe2-4408-86d7-a31c4813b44b"
      },
      "outputs": [
        {
          "name": "stdout",
          "output_type": "stream",
          "text": [
            "<class 'pandas.core.frame.DataFrame'>\n",
            "Index: 142476 entries, 0 to 143940\n",
            "Data columns (total 14 columns):\n",
            " #   Column              Non-Null Count   Dtype  \n",
            "---  ------              --------------   -----  \n",
            " 0   RTU_COMP_WATT       142476 non-null  float64\n",
            " 1   RTU_OA_HUM          142476 non-null  float64\n",
            " 2   RTU_OA_TEMP         142476 non-null  float64\n",
            " 3   RTU_RA_HUM          142476 non-null  float64\n",
            " 4   RTU_RA_TEMP         142476 non-null  float64\n",
            " 5   RTU_REFG_DISC_PRES  142476 non-null  float64\n",
            " 6   RTU_REFG_SUCT_PRES  142476 non-null  float64\n",
            " 7   RTU_SA_FAN_WATT     142476 non-null  float64\n",
            " 8   RTU_SA_FLOW         142476 non-null  float64\n",
            " 9   RTU_SA_HUM          142476 non-null  float64\n",
            " 10  RTU_SA_TEMP         142476 non-null  float64\n",
            " 11  RTU_TOT_WATT        142476 non-null  float64\n",
            " 12  ZA_HUM              142476 non-null  float64\n",
            " 13  ZA_TEMP             142476 non-null  float64\n",
            "dtypes: float64(14)\n",
            "memory usage: 16.3 MB\n"
          ]
        }
      ],
      "source": [
        "dfbs_x.info()"
      ]
    },
    {
      "cell_type": "code",
      "execution_count": 83,
      "metadata": {
        "colab": {
          "base_uri": "https://localhost:8080/"
        },
        "id": "E78FvuK7zg_C",
        "outputId": "06c64b52-e380-4446-e750-1431a3b1d8f4"
      },
      "outputs": [
        {
          "name": "stdout",
          "output_type": "stream",
          "text": [
            "<class 'pandas.core.frame.DataFrame'>\n",
            "Index: 143084 entries, 0 to 143940\n",
            "Data columns (total 14 columns):\n",
            " #   Column              Non-Null Count   Dtype  \n",
            "---  ------              --------------   -----  \n",
            " 0   RTU_COMP_WATT       143084 non-null  float64\n",
            " 1   RTU_OA_HUM          143084 non-null  float64\n",
            " 2   RTU_OA_TEMP         143084 non-null  float64\n",
            " 3   RTU_RA_HUM          143084 non-null  float64\n",
            " 4   RTU_RA_TEMP         143084 non-null  float64\n",
            " 5   RTU_REFG_DISC_PRES  143084 non-null  float64\n",
            " 6   RTU_REFG_SUCT_PRES  143084 non-null  float64\n",
            " 7   RTU_SA_FAN_WATT     143084 non-null  float64\n",
            " 8   RTU_SA_FLOW         143084 non-null  float64\n",
            " 9   RTU_SA_HUM          143084 non-null  float64\n",
            " 10  RTU_SA_TEMP         143084 non-null  float64\n",
            " 11  RTU_TOT_WATT        143084 non-null  float64\n",
            " 12  ZA_HUM              143084 non-null  float64\n",
            " 13  ZA_TEMP             143084 non-null  float64\n",
            "dtypes: float64(14)\n",
            "memory usage: 16.4 MB\n"
          ]
        }
      ],
      "source": [
        "df20_x.info()"
      ]
    },
    {
      "cell_type": "code",
      "execution_count": 84,
      "metadata": {
        "colab": {
          "base_uri": "https://localhost:8080/"
        },
        "id": "eu8jpVnLzWB2",
        "outputId": "2fffe047-a79e-4c8a-c11b-90ad9d9c36d7"
      },
      "outputs": [
        {
          "name": "stdout",
          "output_type": "stream",
          "text": [
            "<class 'pandas.core.frame.DataFrame'>\n",
            "Index: 11688 entries, 2325 to 41460\n",
            "Data columns (total 14 columns):\n",
            " #   Column              Non-Null Count  Dtype  \n",
            "---  ------              --------------  -----  \n",
            " 0   RTU_COMP_WATT       11688 non-null  float64\n",
            " 1   RTU_OA_HUM          11688 non-null  float64\n",
            " 2   RTU_OA_TEMP         11688 non-null  float64\n",
            " 3   RTU_RA_HUM          11688 non-null  float64\n",
            " 4   RTU_RA_TEMP         11688 non-null  float64\n",
            " 5   RTU_REFG_DISC_PRES  11688 non-null  float64\n",
            " 6   RTU_REFG_SUCT_PRES  11688 non-null  float64\n",
            " 7   RTU_SA_FAN_WATT     11688 non-null  float64\n",
            " 8   RTU_SA_FLOW         11688 non-null  float64\n",
            " 9   RTU_SA_HUM          11688 non-null  float64\n",
            " 10  RTU_SA_TEMP         11688 non-null  float64\n",
            " 11  RTU_TOT_WATT        11688 non-null  float64\n",
            " 12  ZA_HUM              11688 non-null  float64\n",
            " 13  ZA_TEMP             11688 non-null  float64\n",
            "dtypes: float64(14)\n",
            "memory usage: 1.3 MB\n"
          ]
        }
      ],
      "source": [
        "df1_x.info()"
      ]
    },
    {
      "cell_type": "code",
      "execution_count": 85,
      "metadata": {
        "colab": {
          "base_uri": "https://localhost:8080/"
        },
        "id": "S1sfr360240I",
        "outputId": "868c5f3a-c9e4-4b2f-c42e-0b35a5727389"
      },
      "outputs": [
        {
          "name": "stdout",
          "output_type": "stream",
          "text": [
            "<class 'pandas.core.frame.DataFrame'>\n",
            "Index: 102705 entries, 251 to 258583\n",
            "Data columns (total 14 columns):\n",
            " #   Column              Non-Null Count   Dtype  \n",
            "---  ------              --------------   -----  \n",
            " 0   RTU_COMP_WATT       102705 non-null  float64\n",
            " 1   RTU_OA_HUM          102705 non-null  float64\n",
            " 2   RTU_OA_TEMP         102705 non-null  float64\n",
            " 3   RTU_RA_HUM          102705 non-null  float64\n",
            " 4   RTU_RA_TEMP         102705 non-null  float64\n",
            " 5   RTU_REFG_DISC_PRES  102705 non-null  float64\n",
            " 6   RTU_REFG_SUCT_PRES  102705 non-null  float64\n",
            " 7   RTU_SA_FAN_WATT     102705 non-null  float64\n",
            " 8   RTU_SA_FLOW         102705 non-null  float64\n",
            " 9   RTU_SA_HUM          102705 non-null  float64\n",
            " 10  RTU_SA_TEMP         102705 non-null  float64\n",
            " 11  RTU_TOT_WATT        102705 non-null  float64\n",
            " 12  ZA_HUM              102705 non-null  float64\n",
            " 13  ZA_TEMP             102705 non-null  float64\n",
            "dtypes: float64(14)\n",
            "memory usage: 11.8 MB\n"
          ]
        }
      ],
      "source": [
        "df2_x.info()"
      ]
    },
    {
      "cell_type": "markdown",
      "metadata": {
        "id": "JyJPdnRCtrXX"
      },
      "source": [
        "# cross validation real"
      ]
    },
    {
      "cell_type": "code",
      "execution_count": 86,
      "metadata": {
        "id": "3GT-YUtuzpdT"
      },
      "outputs": [],
      "source": [
        "# separar X falha\n",
        "num_linhas = len(df1_x)\n",
        "tamanho_parte = num_linhas // 5\n",
        "\n",
        "# Separe o dataframe em cinco partes e criar uma lista\n",
        "X1 = [df1_x.iloc[(i*tamanho_parte):((i+1)*tamanho_parte)] for i in range(5)]\n"
      ]
    },
    {
      "cell_type": "code",
      "execution_count": 87,
      "metadata": {
        "id": "a6Ka-ZzIJdz7"
      },
      "outputs": [],
      "source": [
        "# separar y falha\n",
        "num_linhas = len(df1_y)\n",
        "tamanho_parte = num_linhas // 5\n",
        "\n",
        "# Separe o dataframe em cinco partes e criar uma lista\n",
        "\n",
        "y1 = [df1_y.iloc[(i*tamanho_parte):((i+1)*tamanho_parte)] for i in range(5)]"
      ]
    },
    {
      "cell_type": "code",
      "execution_count": 88,
      "metadata": {
        "id": "v2RAu-7kJqk3"
      },
      "outputs": [],
      "source": [
        "#separar X nfalha\n",
        "\n",
        "num_linhas = len(df2_x)\n",
        "tamanho_parte = num_linhas // 5\n",
        "\n",
        "# Separe o dataframe em cinco partes e criar uma lista\n",
        "X2 = [df2_x.iloc[(i*tamanho_parte):((i+1)*tamanho_parte)] for i in range(5)]"
      ]
    },
    {
      "cell_type": "code",
      "execution_count": 89,
      "metadata": {
        "id": "jjvhxvHsKB4y"
      },
      "outputs": [],
      "source": [
        "# separar y nfalha\n",
        "\n",
        "num_linhas = len(df2_y)\n",
        "tamanho_parte = num_linhas // 5\n",
        "\n",
        "# Separe o dataframe em cinco partes e criar uma lista\n",
        "y2 = [df2_y.iloc[(i*tamanho_parte):((i+1)*tamanho_parte)] for i in range(5)]"
      ]
    },
    {
      "cell_type": "code",
      "execution_count": 90,
      "metadata": {
        "colab": {
          "base_uri": "https://localhost:8080/"
        },
        "id": "RNaaCkLDx197",
        "outputId": "ccf9a522-9e8a-49db-f6ae-6bb270b414f0"
      },
      "outputs": [
        {
          "name": "stdout",
          "output_type": "stream",
          "text": [
            "Total de combinações possíveis: 25\n"
          ]
        }
      ],
      "source": [
        "# Combinações Possíveis\n",
        "total_combinacoes = len(X1) * len(X2)\n",
        "print(\"Total de combinações possíveis:\", total_combinacoes)"
      ]
    },
    {
      "cell_type": "code",
      "execution_count": 91,
      "metadata": {
        "id": "hDMcFhJgiTdV"
      },
      "outputs": [],
      "source": [
        "combinacoes_X = []\n",
        "combinacoes_y = []\n",
        "\n",
        "for i1 in range(len(X1)):\n",
        "    for i2 in range(len(X2)):\n",
        "        X_teste = pd.concat([X1[i] for i in range(len(X1)) if i == i1] + [X2[j] for j in range(len(X2)) if j == i2])\n",
        "        X_treino = pd.concat([X1[i] for i in range(len(X1)) if i != i1] + [X2[j] for j in range(len(X2)) if j != i2])\n",
        "        combinacoes_X.append((X_teste, X_treino))\n",
        "\n",
        "for i1 in range(len(y1)):\n",
        "    for i2 in range(len(y2)):\n",
        "        y_teste = pd.concat([y1[i] for i in range(len(y1)) if i == i1] + [y2[j] for j in range(len(y2)) if j == i2])\n",
        "        y_treino = pd.concat([y1[i] for i in range(len(y1)) if i != i1] + [y2[j] for j in range(len(y2)) if j != i2])\n",
        "        combinacoes_y.append((y_teste, y_treino))"
      ]
    },
    {
      "cell_type": "markdown",
      "metadata": {
        "id": "BBIjB02UurlL"
      },
      "source": [
        "# Cross simulado"
      ]
    },
    {
      "cell_type": "code",
      "execution_count": 92,
      "metadata": {
        "id": "FGq0K8unKYqc"
      },
      "outputs": [],
      "source": [
        "# separar y nfalha\n",
        "\n",
        "num_linhas = len(df20_y)\n",
        "tamanho_parte = num_linhas // 5\n",
        "\n",
        "num_linhas = len(dfbs_y)\n",
        "tamanho_parte = num_linhas // 5\n",
        "\n",
        "\n",
        "# Separe o dataframe em cinco partes e criar uma lista\n",
        "\n",
        "y20 = [df20_y.iloc[(i*tamanho_parte):((i+1)*tamanho_parte)] for i in range(5)]\n",
        "\n",
        "ybs= [dfbs_y.iloc[(i*tamanho_parte):((i+1)*tamanho_parte)] for i in range(5)]"
      ]
    },
    {
      "cell_type": "code",
      "execution_count": 93,
      "metadata": {
        "colab": {
          "base_uri": "https://localhost:8080/"
        },
        "id": "3LMtCu-5QuPb",
        "outputId": "4d58510a-30a5-4977-809f-661641d0e4a4"
      },
      "outputs": [
        {
          "name": "stdout",
          "output_type": "stream",
          "text": [
            "Total de combinações possíveis: 25\n"
          ]
        }
      ],
      "source": [
        "total_combinacoes = len(y20) * len(ybs)\n",
        "print(\"Total de combinações possíveis:\", total_combinacoes)"
      ]
    },
    {
      "cell_type": "code",
      "execution_count": 94,
      "metadata": {
        "id": "VDGQdc4nKYqd"
      },
      "outputs": [],
      "source": [
        "#separar X nfalha\n",
        "\n",
        "num_linhas = len(df20_x)\n",
        "tamanho_parte = num_linhas // 5\n",
        "\n",
        "num_linhas = len(dfbs_x)\n",
        "tamanho_parte = num_linhas // 5\n",
        "\n",
        "# Separe o dataframe em cinco partes e criar uma lista\n",
        "\n",
        "X20 = [df20_x.iloc[(i*tamanho_parte):((i+1)*tamanho_parte)] for i in range(5)]\n",
        "\n",
        "Xbs= [dfbs_x.iloc[(i*tamanho_parte):((i+1)*tamanho_parte)] for i in range(5)]\n"
      ]
    },
    {
      "cell_type": "code",
      "execution_count": 95,
      "metadata": {
        "colab": {
          "base_uri": "https://localhost:8080/"
        },
        "id": "wevKMBvxKYqf",
        "outputId": "2584d8c9-3819-4dcc-c27a-aedbd280acdd"
      },
      "outputs": [
        {
          "name": "stdout",
          "output_type": "stream",
          "text": [
            "Total de combinações possíveis: 25\n"
          ]
        }
      ],
      "source": [
        "total_combinacoes = len(X20) * len(Xbs)\n",
        "print(\"Total de combinações possíveis:\", total_combinacoes)"
      ]
    },
    {
      "cell_type": "code",
      "execution_count": 96,
      "metadata": {
        "id": "KYGHeV0VNMzY"
      },
      "outputs": [],
      "source": [
        "combinacoes_Xs = []\n",
        "combinacoes_ys = []\n",
        "\n",
        "for i1 in range(len(X20)):\n",
        "    for i2 in range(len(Xbs)):\n",
        "        Xs_teste = pd.concat([X20[i] for i in range(len(X20)) if i == i1] + [Xbs[j] for j in range(len(Xbs)) if j == i2])\n",
        "        Xs_treino = pd.concat([X20[i] for i in range(len(X20)) if i != i1] + [Xbs[j] for j in range(len(Xbs)) if j != i2])\n",
        "        combinacoes_Xs.append((Xs_teste, Xs_treino))\n",
        "\n",
        "for i1 in range(len(y20)):\n",
        "    for i2 in range(len(ybs)):\n",
        "        ys_teste = pd.concat([y20[i] for i in range(len(y20)) if i == i1] + [ybs[j] for j in range(len(ybs)) if j == i2])\n",
        "        ys_treino = pd.concat([y20[i] for i in range(len(y20)) if i != i1] + [ybs[j] for j in range(len(ybs)) if j != i2])\n",
        "        combinacoes_ys.append((ys_teste, ys_treino))"
      ]
    },
    {
      "cell_type": "markdown",
      "metadata": {
        "id": "gCFzgGFjGvzG"
      },
      "source": [
        "# Combinação Simulado_Real"
      ]
    },
    {
      "cell_type": "code",
      "execution_count": 97,
      "metadata": {
        "id": "1naFpw7TrOeJ"
      },
      "outputs": [],
      "source": [
        "combinacoes_Xsr = []\n",
        "combinacoes_ysr = []\n",
        "\n",
        "for i1 in range(len(X20)):\n",
        "    for i2 in range(len(Xbs)):\n",
        "        Xsr_teste = pd.concat([X1[i] for i in range(len(X1)) if i == i1] + [X2[j] for j in range(len(X2)) if j == i2])\n",
        "        Xsr_treino = pd.concat([X20[i] for i in range(len(X20)) if i != i1] + [Xbs[j] for j in range(len(Xbs)) if j != i2])\n",
        "        combinacoes_Xsr.append((Xsr_teste, Xsr_treino))\n",
        "\n",
        "for i1 in range(len(y20)):\n",
        "    for i2 in range(len(ybs)):\n",
        "        ysr_teste = pd.concat([y1[i] for i in range(len(y1)) if i == i1] + [y2[j] for j in range(len(y2)) if j == i2])\n",
        "        ysr_treino = pd.concat([y20[i] for i in range(len(y20)) if i != i1] + [ybs[j] for j in range(len(ybs)) if j != i2])\n",
        "        combinacoes_ysr.append((ysr_teste, ysr_treino))"
      ]
    },
    {
      "cell_type": "markdown",
      "metadata": {
        "id": "EFtU_6bNr29z"
      },
      "source": [
        "#Modelos Preditivos(Classificadores)"
      ]
    },
    {
      "cell_type": "code",
      "execution_count": 98,
      "metadata": {
        "id": "HgI4a_4NYJH_"
      },
      "outputs": [],
      "source": [
        "import pandas as pd\n",
        "import joblib\n",
        "from sklearn.svm import SVC\n",
        "from sklearn.metrics import balanced_accuracy_score\n",
        "from sklearn.linear_model import LogisticRegression\n",
        "from sklearn.neighbors import KNeighborsClassifier\n",
        "from sklearn.naive_bayes import GaussianNB\n",
        "from sklearn.linear_model import Perceptron\n",
        "from sklearn.svm import LinearSVC\n",
        "from sklearn.linear_model import SGDClassifier\n",
        "from sklearn.tree import DecisionTreeClassifier\n",
        "from sklearn.metrics import accuracy_score, balanced_accuracy_score, precision_score, recall_score, f1_score, confusion_matrix\n",
        "from sklearn.ensemble import (AdaBoostClassifier,\n",
        "                              GradientBoostingClassifier,\n",
        "                              ExtraTreesClassifier,\n",
        "                              RandomForestClassifier)\n",
        "from sklearn.preprocessing import StandardScaler"
      ]
    },
    {
      "cell_type": "markdown",
      "metadata": {
        "id": "lbciO0NMX-2G"
      },
      "source": [
        "\n",
        "\n",
        "### Classificador real/real"
      ]
    },
    {
      "cell_type": "code",
      "execution_count": 99,
      "metadata": {
        "colab": {
          "base_uri": "https://localhost:8080/"
        },
        "id": "tM1R-ZhaYRW1",
        "outputId": "950303a4-8523-47fe-cdc1-efca8f2005da"
      },
      "outputs": [
        {
          "name": "stderr",
          "output_type": "stream",
          "text": [
            "/home/guilherme/.local/lib/python3.8/site-packages/sklearn/svm/_classes.py:32: FutureWarning: The default value of `dual` will change from `True` to `'auto'` in 1.5. Set the value of `dual` explicitly to suppress the warning.\n",
            "  warnings.warn(\n",
            "/home/guilherme/.local/lib/python3.8/site-packages/sklearn/svm/_base.py:1242: ConvergenceWarning: Liblinear failed to converge, increase the number of iterations.\n",
            "  warnings.warn(\n",
            "/home/guilherme/.local/lib/python3.8/site-packages/sklearn/svm/_classes.py:32: FutureWarning: The default value of `dual` will change from `True` to `'auto'` in 1.5. Set the value of `dual` explicitly to suppress the warning.\n",
            "  warnings.warn(\n",
            "/home/guilherme/.local/lib/python3.8/site-packages/sklearn/svm/_base.py:1242: ConvergenceWarning: Liblinear failed to converge, increase the number of iterations.\n",
            "  warnings.warn(\n",
            "/home/guilherme/.local/lib/python3.8/site-packages/sklearn/svm/_classes.py:32: FutureWarning: The default value of `dual` will change from `True` to `'auto'` in 1.5. Set the value of `dual` explicitly to suppress the warning.\n",
            "  warnings.warn(\n",
            "/home/guilherme/.local/lib/python3.8/site-packages/sklearn/svm/_base.py:1242: ConvergenceWarning: Liblinear failed to converge, increase the number of iterations.\n",
            "  warnings.warn(\n",
            "/home/guilherme/.local/lib/python3.8/site-packages/sklearn/svm/_classes.py:32: FutureWarning: The default value of `dual` will change from `True` to `'auto'` in 1.5. Set the value of `dual` explicitly to suppress the warning.\n",
            "  warnings.warn(\n",
            "/home/guilherme/.local/lib/python3.8/site-packages/sklearn/svm/_base.py:1242: ConvergenceWarning: Liblinear failed to converge, increase the number of iterations.\n",
            "  warnings.warn(\n",
            "/home/guilherme/.local/lib/python3.8/site-packages/sklearn/svm/_classes.py:32: FutureWarning: The default value of `dual` will change from `True` to `'auto'` in 1.5. Set the value of `dual` explicitly to suppress the warning.\n",
            "  warnings.warn(\n",
            "/home/guilherme/.local/lib/python3.8/site-packages/sklearn/svm/_base.py:1242: ConvergenceWarning: Liblinear failed to converge, increase the number of iterations.\n",
            "  warnings.warn(\n",
            "/home/guilherme/.local/lib/python3.8/site-packages/sklearn/svm/_classes.py:32: FutureWarning: The default value of `dual` will change from `True` to `'auto'` in 1.5. Set the value of `dual` explicitly to suppress the warning.\n",
            "  warnings.warn(\n",
            "/home/guilherme/.local/lib/python3.8/site-packages/sklearn/svm/_base.py:1242: ConvergenceWarning: Liblinear failed to converge, increase the number of iterations.\n",
            "  warnings.warn(\n",
            "/home/guilherme/.local/lib/python3.8/site-packages/sklearn/svm/_classes.py:32: FutureWarning: The default value of `dual` will change from `True` to `'auto'` in 1.5. Set the value of `dual` explicitly to suppress the warning.\n",
            "  warnings.warn(\n",
            "/home/guilherme/.local/lib/python3.8/site-packages/sklearn/svm/_base.py:1242: ConvergenceWarning: Liblinear failed to converge, increase the number of iterations.\n",
            "  warnings.warn(\n",
            "/home/guilherme/.local/lib/python3.8/site-packages/sklearn/svm/_classes.py:32: FutureWarning: The default value of `dual` will change from `True` to `'auto'` in 1.5. Set the value of `dual` explicitly to suppress the warning.\n",
            "  warnings.warn(\n",
            "/home/guilherme/.local/lib/python3.8/site-packages/sklearn/svm/_base.py:1242: ConvergenceWarning: Liblinear failed to converge, increase the number of iterations.\n",
            "  warnings.warn(\n",
            "/home/guilherme/.local/lib/python3.8/site-packages/sklearn/svm/_classes.py:32: FutureWarning: The default value of `dual` will change from `True` to `'auto'` in 1.5. Set the value of `dual` explicitly to suppress the warning.\n",
            "  warnings.warn(\n",
            "/home/guilherme/.local/lib/python3.8/site-packages/sklearn/svm/_base.py:1242: ConvergenceWarning: Liblinear failed to converge, increase the number of iterations.\n",
            "  warnings.warn(\n",
            "/home/guilherme/.local/lib/python3.8/site-packages/sklearn/svm/_classes.py:32: FutureWarning: The default value of `dual` will change from `True` to `'auto'` in 1.5. Set the value of `dual` explicitly to suppress the warning.\n",
            "  warnings.warn(\n",
            "/home/guilherme/.local/lib/python3.8/site-packages/sklearn/svm/_base.py:1242: ConvergenceWarning: Liblinear failed to converge, increase the number of iterations.\n",
            "  warnings.warn(\n",
            "/home/guilherme/.local/lib/python3.8/site-packages/sklearn/svm/_classes.py:32: FutureWarning: The default value of `dual` will change from `True` to `'auto'` in 1.5. Set the value of `dual` explicitly to suppress the warning.\n",
            "  warnings.warn(\n",
            "/home/guilherme/.local/lib/python3.8/site-packages/sklearn/svm/_base.py:1242: ConvergenceWarning: Liblinear failed to converge, increase the number of iterations.\n",
            "  warnings.warn(\n",
            "/home/guilherme/.local/lib/python3.8/site-packages/sklearn/svm/_classes.py:32: FutureWarning: The default value of `dual` will change from `True` to `'auto'` in 1.5. Set the value of `dual` explicitly to suppress the warning.\n",
            "  warnings.warn(\n",
            "/home/guilherme/.local/lib/python3.8/site-packages/sklearn/svm/_base.py:1242: ConvergenceWarning: Liblinear failed to converge, increase the number of iterations.\n",
            "  warnings.warn(\n",
            "/home/guilherme/.local/lib/python3.8/site-packages/sklearn/svm/_classes.py:32: FutureWarning: The default value of `dual` will change from `True` to `'auto'` in 1.5. Set the value of `dual` explicitly to suppress the warning.\n",
            "  warnings.warn(\n",
            "/home/guilherme/.local/lib/python3.8/site-packages/sklearn/svm/_base.py:1242: ConvergenceWarning: Liblinear failed to converge, increase the number of iterations.\n",
            "  warnings.warn(\n",
            "/home/guilherme/.local/lib/python3.8/site-packages/sklearn/svm/_classes.py:32: FutureWarning: The default value of `dual` will change from `True` to `'auto'` in 1.5. Set the value of `dual` explicitly to suppress the warning.\n",
            "  warnings.warn(\n",
            "/home/guilherme/.local/lib/python3.8/site-packages/sklearn/svm/_base.py:1242: ConvergenceWarning: Liblinear failed to converge, increase the number of iterations.\n",
            "  warnings.warn(\n",
            "/home/guilherme/.local/lib/python3.8/site-packages/sklearn/svm/_classes.py:32: FutureWarning: The default value of `dual` will change from `True` to `'auto'` in 1.5. Set the value of `dual` explicitly to suppress the warning.\n",
            "  warnings.warn(\n",
            "/home/guilherme/.local/lib/python3.8/site-packages/sklearn/svm/_base.py:1242: ConvergenceWarning: Liblinear failed to converge, increase the number of iterations.\n",
            "  warnings.warn(\n",
            "/home/guilherme/.local/lib/python3.8/site-packages/sklearn/svm/_classes.py:32: FutureWarning: The default value of `dual` will change from `True` to `'auto'` in 1.5. Set the value of `dual` explicitly to suppress the warning.\n",
            "  warnings.warn(\n",
            "/home/guilherme/.local/lib/python3.8/site-packages/sklearn/svm/_base.py:1242: ConvergenceWarning: Liblinear failed to converge, increase the number of iterations.\n",
            "  warnings.warn(\n",
            "/home/guilherme/.local/lib/python3.8/site-packages/sklearn/svm/_classes.py:32: FutureWarning: The default value of `dual` will change from `True` to `'auto'` in 1.5. Set the value of `dual` explicitly to suppress the warning.\n",
            "  warnings.warn(\n",
            "/home/guilherme/.local/lib/python3.8/site-packages/sklearn/svm/_base.py:1242: ConvergenceWarning: Liblinear failed to converge, increase the number of iterations.\n",
            "  warnings.warn(\n",
            "/home/guilherme/.local/lib/python3.8/site-packages/sklearn/svm/_classes.py:32: FutureWarning: The default value of `dual` will change from `True` to `'auto'` in 1.5. Set the value of `dual` explicitly to suppress the warning.\n",
            "  warnings.warn(\n",
            "/home/guilherme/.local/lib/python3.8/site-packages/sklearn/svm/_base.py:1242: ConvergenceWarning: Liblinear failed to converge, increase the number of iterations.\n",
            "  warnings.warn(\n",
            "/home/guilherme/.local/lib/python3.8/site-packages/sklearn/svm/_classes.py:32: FutureWarning: The default value of `dual` will change from `True` to `'auto'` in 1.5. Set the value of `dual` explicitly to suppress the warning.\n",
            "  warnings.warn(\n",
            "/home/guilherme/.local/lib/python3.8/site-packages/sklearn/svm/_base.py:1242: ConvergenceWarning: Liblinear failed to converge, increase the number of iterations.\n",
            "  warnings.warn(\n",
            "/home/guilherme/.local/lib/python3.8/site-packages/sklearn/svm/_classes.py:32: FutureWarning: The default value of `dual` will change from `True` to `'auto'` in 1.5. Set the value of `dual` explicitly to suppress the warning.\n",
            "  warnings.warn(\n",
            "/home/guilherme/.local/lib/python3.8/site-packages/sklearn/svm/_base.py:1242: ConvergenceWarning: Liblinear failed to converge, increase the number of iterations.\n",
            "  warnings.warn(\n",
            "/home/guilherme/.local/lib/python3.8/site-packages/sklearn/svm/_classes.py:32: FutureWarning: The default value of `dual` will change from `True` to `'auto'` in 1.5. Set the value of `dual` explicitly to suppress the warning.\n",
            "  warnings.warn(\n",
            "/home/guilherme/.local/lib/python3.8/site-packages/sklearn/svm/_base.py:1242: ConvergenceWarning: Liblinear failed to converge, increase the number of iterations.\n",
            "  warnings.warn(\n",
            "/home/guilherme/.local/lib/python3.8/site-packages/sklearn/svm/_classes.py:32: FutureWarning: The default value of `dual` will change from `True` to `'auto'` in 1.5. Set the value of `dual` explicitly to suppress the warning.\n",
            "  warnings.warn(\n",
            "/home/guilherme/.local/lib/python3.8/site-packages/sklearn/svm/_base.py:1242: ConvergenceWarning: Liblinear failed to converge, increase the number of iterations.\n",
            "  warnings.warn(\n",
            "/home/guilherme/.local/lib/python3.8/site-packages/sklearn/svm/_classes.py:32: FutureWarning: The default value of `dual` will change from `True` to `'auto'` in 1.5. Set the value of `dual` explicitly to suppress the warning.\n",
            "  warnings.warn(\n",
            "/home/guilherme/.local/lib/python3.8/site-packages/sklearn/svm/_base.py:1242: ConvergenceWarning: Liblinear failed to converge, increase the number of iterations.\n",
            "  warnings.warn(\n",
            "/home/guilherme/.local/lib/python3.8/site-packages/sklearn/svm/_classes.py:32: FutureWarning: The default value of `dual` will change from `True` to `'auto'` in 1.5. Set the value of `dual` explicitly to suppress the warning.\n",
            "  warnings.warn(\n",
            "/home/guilherme/.local/lib/python3.8/site-packages/sklearn/svm/_base.py:1242: ConvergenceWarning: Liblinear failed to converge, increase the number of iterations.\n",
            "  warnings.warn(\n",
            "/home/guilherme/.local/lib/python3.8/site-packages/sklearn/svm/_classes.py:32: FutureWarning: The default value of `dual` will change from `True` to `'auto'` in 1.5. Set the value of `dual` explicitly to suppress the warning.\n",
            "  warnings.warn(\n",
            "/home/guilherme/.local/lib/python3.8/site-packages/sklearn/svm/_base.py:1242: ConvergenceWarning: Liblinear failed to converge, increase the number of iterations.\n",
            "  warnings.warn(\n"
          ]
        }
      ],
      "source": [
        "class ModeloAuxiliar1(object):\n",
        "    def __init__(self, clf, seed=27, params=None):\n",
        "        if params:\n",
        "            params['random_state'] = seed\n",
        "            self.clf = clf(**params)\n",
        "        else:\n",
        "            self.clf = clf()\n",
        "\n",
        "    def predict(self, x):\n",
        "        return self.clf.predict(x)\n",
        "\n",
        "    def fit(self, x, y):\n",
        "        return self.clf.fit(x, y)\n",
        "\n",
        "    def feature_importances(self, x, y):\n",
        "        return self.clf.fit(x, y).feature_importances_\n",
        "\n",
        "modelos = [{'nome': 'logreg',\n",
        "           'modelo': LogisticRegression},\n",
        "           {'nome': 'KNN',\n",
        "            'modelo': KNeighborsClassifier},\n",
        "           {'nome': 'GaussianNB',\n",
        "            'modelo': GaussianNB},\n",
        "           {'nome': 'Perceptron',\n",
        "           'modelo': Perceptron},\n",
        "           {'nome': 'LinearSVC',\n",
        "            'modelo': LinearSVC},\n",
        "           {'nome': 'SGD',\n",
        "            'modelo': SGDClassifier},\n",
        "           {'nome': 'Dtree',\n",
        "            'modelo': DecisionTreeClassifier},\n",
        "           {'nome': 'RForest',\n",
        "            'modelo': RandomForestClassifier},\n",
        "           {'nome': 'ADA',\n",
        "            'modelo': AdaBoostClassifier},\n",
        "           {'nome': 'GBC',\n",
        "            'modelo': GradientBoostingClassifier},\n",
        "           {'nome': 'ETC',\n",
        "            'modelo': ExtraTreesClassifier},\n",
        "\n",
        "          ]\n",
        "\n",
        "resultados1 = []\n",
        "medias_acuracias1 = []\n",
        "scaler = StandardScaler()\n",
        "\n",
        "for i in range(len(combinacoes_X)):\n",
        "    X_teste, X_treino = combinacoes_X[i]\n",
        "    y_teste, y_treino = combinacoes_y[i]\n",
        "\n",
        "    X_treino_scaled = scaler.fit_transform(X_treino)\n",
        "    X_teste_scaled = scaler.transform(X_teste)\n",
        "\n",
        "    acuracias = []\n",
        "\n",
        "    for model in modelos:\n",
        "        x = ModeloAuxiliar1(clf=model['modelo'])\n",
        "\n",
        "        # treinar o modelo\n",
        "        x.fit(X_treino_scaled, y_treino)\n",
        "\n",
        "        # gerar previsão\n",
        "        y_pred = x.predict(X_teste_scaled)\n",
        "\n",
        "        # calcular a acurácia\n",
        "        acuracia = accuracy_score(y_teste, y_pred)\n",
        "\n",
        "        acuracias.append(acuracia)\n",
        "\n",
        "       # Calcular a acurácia balanceada\n",
        "\n",
        "        acuracia_balanceada = balanced_accuracy_score(y_teste, y_pred)\n",
        "\n",
        "       # Calcular a f1 balanceada\n",
        "\n",
        "        f1_balanceada = f= f1_score(y_teste, y_pred, average='weighted')\n",
        "\n",
        "\n",
        "        # calcular as demais métricas\n",
        "        precisao = precision_score(y_teste, y_pred)\n",
        "        recall = recall_score(y_teste, y_pred)\n",
        "        f1 = f1_score(y_teste, y_pred)\n",
        "        matriz_confusao = confusion_matrix(y_teste, y_pred)\n",
        "\n",
        "\n",
        "        resultados1.append({'Nome': model['nome'],\n",
        "                           'Acurácia': acuracia,\n",
        "                           'Acurácia Balanceada': acuracia_balanceada,\n",
        "                           'Precisão': precisao,\n",
        "                           'Recall': recall,\n",
        "                           'F1-score': f1,\n",
        "                           'F1-score Balanceada': f1_balanceada,\n",
        "                           'Matriz de Confusão': matriz_confusao,\n",
        "                           'Predição': y_pred\n",
        "                           })\n",
        "\n",
        "        # Salvar o modelo treinado usando joblib\n",
        "        model_filename = f\"modelo_{model['nome']}_treinado_real.joblib\"\n",
        "        joblib.dump(x, model_filename)\n",
        "\n"
      ]
    },
    {
      "cell_type": "code",
      "execution_count": 100,
      "metadata": {
        "colab": {
          "base_uri": "https://localhost:8080/",
          "height": 206
        },
        "id": "LZ_cmVYNYkcy",
        "outputId": "63f36221-150f-4e42-dac5-ecdefb216501"
      },
      "outputs": [
        {
          "data": {
            "text/html": [
              "<div>\n",
              "<style scoped>\n",
              "    .dataframe tbody tr th:only-of-type {\n",
              "        vertical-align: middle;\n",
              "    }\n",
              "\n",
              "    .dataframe tbody tr th {\n",
              "        vertical-align: top;\n",
              "    }\n",
              "\n",
              "    .dataframe thead th {\n",
              "        text-align: right;\n",
              "    }\n",
              "</style>\n",
              "<table border=\"1\" class=\"dataframe\">\n",
              "  <thead>\n",
              "    <tr style=\"text-align: right;\">\n",
              "      <th></th>\n",
              "      <th>Nome</th>\n",
              "      <th>Acurácia</th>\n",
              "      <th>Acurácia Balanceada</th>\n",
              "      <th>Precisão</th>\n",
              "      <th>Recall</th>\n",
              "      <th>F1-score</th>\n",
              "      <th>F1-score Balanceada</th>\n",
              "      <th>Matriz de Confusão</th>\n",
              "      <th>Predição</th>\n",
              "    </tr>\n",
              "  </thead>\n",
              "  <tbody>\n",
              "    <tr>\n",
              "      <th>0</th>\n",
              "      <td>logreg</td>\n",
              "      <td>0.842950</td>\n",
              "      <td>0.560439</td>\n",
              "      <td>0.216606</td>\n",
              "      <td>0.205392</td>\n",
              "      <td>0.210850</td>\n",
              "      <td>0.841093</td>\n",
              "      <td>[[18805, 1736], [1857, 480]]</td>\n",
              "      <td>[0, 0, 0, 0, 0, 0, 0, 0, 0, 0, 0, 0, 0, 0, 0, ...</td>\n",
              "    </tr>\n",
              "    <tr>\n",
              "      <th>1</th>\n",
              "      <td>KNN</td>\n",
              "      <td>0.813183</td>\n",
              "      <td>0.638666</td>\n",
              "      <td>0.251475</td>\n",
              "      <td>0.419341</td>\n",
              "      <td>0.314405</td>\n",
              "      <td>0.832871</td>\n",
              "      <td>[[17624, 2917], [1357, 980]]</td>\n",
              "      <td>[0, 0, 1, 0, 0, 0, 0, 0, 0, 0, 0, 0, 0, 0, 0, ...</td>\n",
              "    </tr>\n",
              "    <tr>\n",
              "      <th>2</th>\n",
              "      <td>GaussianNB</td>\n",
              "      <td>0.849200</td>\n",
              "      <td>0.690199</td>\n",
              "      <td>0.336564</td>\n",
              "      <td>0.490372</td>\n",
              "      <td>0.399164</td>\n",
              "      <td>0.861212</td>\n",
              "      <td>[[18282, 2259], [1191, 1146]]</td>\n",
              "      <td>[1, 1, 1, 1, 1, 1, 1, 1, 1, 1, 1, 1, 1, 1, 1, ...</td>\n",
              "    </tr>\n",
              "    <tr>\n",
              "      <th>3</th>\n",
              "      <td>Perceptron</td>\n",
              "      <td>0.883993</td>\n",
              "      <td>0.574194</td>\n",
              "      <td>0.365792</td>\n",
              "      <td>0.184852</td>\n",
              "      <td>0.245594</td>\n",
              "      <td>0.866521</td>\n",
              "      <td>[[19792, 749], [1905, 432]]</td>\n",
              "      <td>[0, 0, 0, 0, 0, 0, 0, 0, 0, 0, 0, 0, 0, 0, 0, ...</td>\n",
              "    </tr>\n",
              "    <tr>\n",
              "      <th>4</th>\n",
              "      <td>LinearSVC</td>\n",
              "      <td>0.857461</td>\n",
              "      <td>0.541785</td>\n",
              "      <td>0.211610</td>\n",
              "      <td>0.145058</td>\n",
              "      <td>0.172125</td>\n",
              "      <td>0.845415</td>\n",
              "      <td>[[19278, 1263], [1998, 339]]</td>\n",
              "      <td>[0, 0, 0, 0, 0, 0, 0, 0, 0, 0, 0, 0, 0, 0, 0, ...</td>\n",
              "    </tr>\n",
              "  </tbody>\n",
              "</table>\n",
              "</div>"
            ],
            "text/plain": [
              "         Nome  Acurácia  Acurácia Balanceada  Precisão    Recall  F1-score  \\\n",
              "0      logreg  0.842950             0.560439  0.216606  0.205392  0.210850   \n",
              "1         KNN  0.813183             0.638666  0.251475  0.419341  0.314405   \n",
              "2  GaussianNB  0.849200             0.690199  0.336564  0.490372  0.399164   \n",
              "3  Perceptron  0.883993             0.574194  0.365792  0.184852  0.245594   \n",
              "4   LinearSVC  0.857461             0.541785  0.211610  0.145058  0.172125   \n",
              "\n",
              "   F1-score Balanceada             Matriz de Confusão  \\\n",
              "0             0.841093   [[18805, 1736], [1857, 480]]   \n",
              "1             0.832871   [[17624, 2917], [1357, 980]]   \n",
              "2             0.861212  [[18282, 2259], [1191, 1146]]   \n",
              "3             0.866521    [[19792, 749], [1905, 432]]   \n",
              "4             0.845415   [[19278, 1263], [1998, 339]]   \n",
              "\n",
              "                                            Predição  \n",
              "0  [0, 0, 0, 0, 0, 0, 0, 0, 0, 0, 0, 0, 0, 0, 0, ...  \n",
              "1  [0, 0, 1, 0, 0, 0, 0, 0, 0, 0, 0, 0, 0, 0, 0, ...  \n",
              "2  [1, 1, 1, 1, 1, 1, 1, 1, 1, 1, 1, 1, 1, 1, 1, ...  \n",
              "3  [0, 0, 0, 0, 0, 0, 0, 0, 0, 0, 0, 0, 0, 0, 0, ...  \n",
              "4  [0, 0, 0, 0, 0, 0, 0, 0, 0, 0, 0, 0, 0, 0, 0, ...  "
            ]
          },
          "execution_count": 100,
          "metadata": {},
          "output_type": "execute_result"
        }
      ],
      "source": [
        "modelos_df1 = pd.DataFrame(resultados1)\n",
        "modelos_df1 = modelos_df1[['Nome', 'Acurácia','Acurácia Balanceada','Precisão', 'Recall', 'F1-score','F1-score Balanceada', 'Matriz de Confusão','Predição']]\n",
        "\n",
        "\n",
        "modelos_df1.head()"
      ]
    },
    {
      "cell_type": "markdown",
      "metadata": {
        "id": "hZuugIXz2pom"
      },
      "source": [
        "Etados\n"
      ]
    },
    {
      "cell_type": "code",
      "execution_count": 101,
      "metadata": {
        "id": "bS1Fz3HB2s_B"
      },
      "outputs": [],
      "source": [
        "carregar = joblib.load('modelo_ETC_treinado.joblib')"
      ]
    },
    {
      "cell_type": "code",
      "execution_count": 102,
      "metadata": {
        "colab": {
          "base_uri": "https://localhost:8080/",
          "height": 81
        },
        "id": "Nc7Sw3Fn5NGj",
        "outputId": "b52617a6-9afc-46fd-fbf2-c80214b94f37"
      },
      "outputs": [
        {
          "data": {
            "text/html": [
              "<div>\n",
              "<style scoped>\n",
              "    .dataframe tbody tr th:only-of-type {\n",
              "        vertical-align: middle;\n",
              "    }\n",
              "\n",
              "    .dataframe tbody tr th {\n",
              "        vertical-align: top;\n",
              "    }\n",
              "\n",
              "    .dataframe thead th {\n",
              "        text-align: right;\n",
              "    }\n",
              "</style>\n",
              "<table border=\"1\" class=\"dataframe\">\n",
              "  <thead>\n",
              "    <tr style=\"text-align: right;\">\n",
              "      <th></th>\n",
              "      <th>RTU_COMP_WATT</th>\n",
              "      <th>RTU_OA_HUM</th>\n",
              "      <th>RTU_OA_TEMP</th>\n",
              "      <th>RTU_RA_HUM</th>\n",
              "      <th>RTU_RA_TEMP</th>\n",
              "      <th>RTU_REFG_DISC_PRES</th>\n",
              "      <th>RTU_REFG_SUCT_PRES</th>\n",
              "      <th>RTU_SA_FAN_WATT</th>\n",
              "      <th>RTU_SA_FLOW</th>\n",
              "      <th>RTU_SA_HUM</th>\n",
              "      <th>RTU_SA_TEMP</th>\n",
              "      <th>RTU_TOT_WATT</th>\n",
              "      <th>ZA_HUM</th>\n",
              "      <th>ZA_TEMP</th>\n",
              "    </tr>\n",
              "  </thead>\n",
              "  <tbody>\n",
              "    <tr>\n",
              "      <th>36334</th>\n",
              "      <td>4102.0</td>\n",
              "      <td>63.789551</td>\n",
              "      <td>23.181742</td>\n",
              "      <td>63.469112</td>\n",
              "      <td>24.574503</td>\n",
              "      <td>21.445325</td>\n",
              "      <td>11.71485</td>\n",
              "      <td>1761.000122</td>\n",
              "      <td>2835.170166</td>\n",
              "      <td>87.306343</td>\n",
              "      <td>15.695473</td>\n",
              "      <td>6618.0</td>\n",
              "      <td>-14.803085</td>\n",
              "      <td>23.067354</td>\n",
              "    </tr>\n",
              "  </tbody>\n",
              "</table>\n",
              "</div>"
            ],
            "text/plain": [
              "       RTU_COMP_WATT  RTU_OA_HUM  RTU_OA_TEMP  RTU_RA_HUM  RTU_RA_TEMP  \\\n",
              "36334         4102.0   63.789551    23.181742   63.469112    24.574503   \n",
              "\n",
              "       RTU_REFG_DISC_PRES  RTU_REFG_SUCT_PRES  RTU_SA_FAN_WATT  RTU_SA_FLOW  \\\n",
              "36334           21.445325            11.71485      1761.000122  2835.170166   \n",
              "\n",
              "       RTU_SA_HUM  RTU_SA_TEMP  RTU_TOT_WATT     ZA_HUM    ZA_TEMP  \n",
              "36334   87.306343    15.695473        6618.0 -14.803085  23.067354  "
            ]
          },
          "execution_count": 102,
          "metadata": {},
          "output_type": "execute_result"
        }
      ],
      "source": [
        "X_teste.head(1)"
      ]
    },
    {
      "cell_type": "code",
      "execution_count": 103,
      "metadata": {
        "colab": {
          "base_uri": "https://localhost:8080/"
        },
        "id": "kP-XSDL540Pw",
        "outputId": "1e84c532-17ff-42d9-f03e-460fb2f9f5d7"
      },
      "outputs": [
        {
          "data": {
            "text/plain": [
              "array([0, 0, 0, 0, 0, 0, 0, 0, 0, 0, 0, 0, 0, 0, 0, 0, 0, 0, 0, 0, 0, 0,\n",
              "       0, 0, 0, 0, 0, 0, 0, 0, 0, 0, 0, 0, 0, 0, 0, 0, 0, 0, 0, 0, 0, 0,\n",
              "       0, 0, 0, 0, 0, 0, 0, 0, 0, 0, 0, 0, 0, 0, 0, 0])"
            ]
          },
          "execution_count": 103,
          "metadata": {},
          "output_type": "execute_result"
        }
      ],
      "source": [
        "carregar.predict( X_teste.head(60).values)"
      ]
    },
    {
      "cell_type": "code",
      "execution_count": 104,
      "metadata": {
        "colab": {
          "base_uri": "https://localhost:8080/"
        },
        "id": "jBPyMoNs6jal",
        "outputId": "7d993db2-f25f-49c7-c51f-50473ce7bc06"
      },
      "outputs": [
        {
          "data": {
            "text/plain": [
              "36334    1\n",
              "36335    1\n",
              "36336    1\n",
              "36337    1\n",
              "36338    1\n",
              "36339    1\n",
              "36340    1\n",
              "36341    1\n",
              "36342    1\n",
              "36343    1\n",
              "36344    1\n",
              "36345    1\n",
              "36346    1\n",
              "36347    1\n",
              "36348    1\n",
              "36349    1\n",
              "36350    1\n",
              "36351    1\n",
              "36352    1\n",
              "36353    1\n",
              "36354    1\n",
              "36355    1\n",
              "36356    1\n",
              "36357    1\n",
              "36358    1\n",
              "36359    1\n",
              "36360    1\n",
              "36361    1\n",
              "36362    1\n",
              "36363    1\n",
              "36364    1\n",
              "36365    1\n",
              "36366    1\n",
              "36367    1\n",
              "36368    1\n",
              "36369    1\n",
              "36370    1\n",
              "36371    1\n",
              "36372    1\n",
              "36373    1\n",
              "36374    1\n",
              "36375    1\n",
              "36376    1\n",
              "36377    1\n",
              "36378    1\n",
              "36379    1\n",
              "36380    1\n",
              "36381    1\n",
              "36382    1\n",
              "36383    1\n",
              "36384    1\n",
              "36385    1\n",
              "36386    1\n",
              "36387    1\n",
              "36388    1\n",
              "36389    1\n",
              "36390    1\n",
              "36391    1\n",
              "36392    1\n",
              "36393    1\n",
              "Name: Target, dtype: int64"
            ]
          },
          "execution_count": 104,
          "metadata": {},
          "output_type": "execute_result"
        }
      ],
      "source": [
        "y_teste.head(60)"
      ]
    },
    {
      "cell_type": "markdown",
      "metadata": {
        "id": "TVC4tjiL5ugD"
      },
      "source": []
    },
    {
      "cell_type": "markdown",
      "metadata": {
        "id": "tAfLiRoU9FSx"
      },
      "source": [
        "###Classificador sim/sim"
      ]
    },
    {
      "cell_type": "code",
      "execution_count": 105,
      "metadata": {
        "id": "FWbUtz6oZ8s8"
      },
      "outputs": [
        {
          "name": "stderr",
          "output_type": "stream",
          "text": [
            "/home/guilherme/.local/lib/python3.8/site-packages/sklearn/svm/_classes.py:32: FutureWarning: The default value of `dual` will change from `True` to `'auto'` in 1.5. Set the value of `dual` explicitly to suppress the warning.\n",
            "  warnings.warn(\n",
            "/home/guilherme/.local/lib/python3.8/site-packages/sklearn/svm/_base.py:1242: ConvergenceWarning: Liblinear failed to converge, increase the number of iterations.\n",
            "  warnings.warn(\n"
          ]
        },
        {
          "ename": "KeyboardInterrupt",
          "evalue": "",
          "output_type": "error",
          "traceback": [
            "\u001b[0;31m---------------------------------------------------------------------------\u001b[0m",
            "\u001b[0;31mKeyboardInterrupt\u001b[0m                         Traceback (most recent call last)",
            "Cell \u001b[0;32mIn[105], line 60\u001b[0m\n\u001b[1;32m     57\u001b[0m x \u001b[39m=\u001b[39m ModeloAuxiliar1(clf\u001b[39m=\u001b[39mmodel[\u001b[39m'\u001b[39m\u001b[39mmodelo\u001b[39m\u001b[39m'\u001b[39m])\n\u001b[1;32m     59\u001b[0m \u001b[39m# treinar o modelo\u001b[39;00m\n\u001b[0;32m---> 60\u001b[0m x\u001b[39m.\u001b[39;49mfit(X_treino_scaled, y_treino)\n\u001b[1;32m     62\u001b[0m \u001b[39m# gerar previsão\u001b[39;00m\n\u001b[1;32m     63\u001b[0m y_pred \u001b[39m=\u001b[39m x\u001b[39m.\u001b[39mpredict(X_teste_scaled)\n",
            "Cell \u001b[0;32mIn[99], line 13\u001b[0m, in \u001b[0;36mModeloAuxiliar1.fit\u001b[0;34m(self, x, y)\u001b[0m\n\u001b[1;32m     12\u001b[0m \u001b[39mdef\u001b[39;00m \u001b[39mfit\u001b[39m(\u001b[39mself\u001b[39m, x, y):\n\u001b[0;32m---> 13\u001b[0m     \u001b[39mreturn\u001b[39;00m \u001b[39mself\u001b[39;49m\u001b[39m.\u001b[39;49mclf\u001b[39m.\u001b[39;49mfit(x, y)\n",
            "File \u001b[0;32m~/.local/lib/python3.8/site-packages/sklearn/base.py:1151\u001b[0m, in \u001b[0;36m_fit_context.<locals>.decorator.<locals>.wrapper\u001b[0;34m(estimator, *args, **kwargs)\u001b[0m\n\u001b[1;32m   1144\u001b[0m     estimator\u001b[39m.\u001b[39m_validate_params()\n\u001b[1;32m   1146\u001b[0m \u001b[39mwith\u001b[39;00m config_context(\n\u001b[1;32m   1147\u001b[0m     skip_parameter_validation\u001b[39m=\u001b[39m(\n\u001b[1;32m   1148\u001b[0m         prefer_skip_nested_validation \u001b[39mor\u001b[39;00m global_skip_validation\n\u001b[1;32m   1149\u001b[0m     )\n\u001b[1;32m   1150\u001b[0m ):\n\u001b[0;32m-> 1151\u001b[0m     \u001b[39mreturn\u001b[39;00m fit_method(estimator, \u001b[39m*\u001b[39;49margs, \u001b[39m*\u001b[39;49m\u001b[39m*\u001b[39;49mkwargs)\n",
            "File \u001b[0;32m~/.local/lib/python3.8/site-packages/sklearn/ensemble/_forest.py:456\u001b[0m, in \u001b[0;36mBaseForest.fit\u001b[0;34m(self, X, y, sample_weight)\u001b[0m\n\u001b[1;32m    445\u001b[0m trees \u001b[39m=\u001b[39m [\n\u001b[1;32m    446\u001b[0m     \u001b[39mself\u001b[39m\u001b[39m.\u001b[39m_make_estimator(append\u001b[39m=\u001b[39m\u001b[39mFalse\u001b[39;00m, random_state\u001b[39m=\u001b[39mrandom_state)\n\u001b[1;32m    447\u001b[0m     \u001b[39mfor\u001b[39;00m i \u001b[39min\u001b[39;00m \u001b[39mrange\u001b[39m(n_more_estimators)\n\u001b[1;32m    448\u001b[0m ]\n\u001b[1;32m    450\u001b[0m \u001b[39m# Parallel loop: we prefer the threading backend as the Cython code\u001b[39;00m\n\u001b[1;32m    451\u001b[0m \u001b[39m# for fitting the trees is internally releasing the Python GIL\u001b[39;00m\n\u001b[1;32m    452\u001b[0m \u001b[39m# making threading more efficient than multiprocessing in\u001b[39;00m\n\u001b[1;32m    453\u001b[0m \u001b[39m# that case. However, for joblib 0.12+ we respect any\u001b[39;00m\n\u001b[1;32m    454\u001b[0m \u001b[39m# parallel_backend contexts set at a higher level,\u001b[39;00m\n\u001b[1;32m    455\u001b[0m \u001b[39m# since correctness does not rely on using threads.\u001b[39;00m\n\u001b[0;32m--> 456\u001b[0m trees \u001b[39m=\u001b[39m Parallel(\n\u001b[1;32m    457\u001b[0m     n_jobs\u001b[39m=\u001b[39;49m\u001b[39mself\u001b[39;49m\u001b[39m.\u001b[39;49mn_jobs,\n\u001b[1;32m    458\u001b[0m     verbose\u001b[39m=\u001b[39;49m\u001b[39mself\u001b[39;49m\u001b[39m.\u001b[39;49mverbose,\n\u001b[1;32m    459\u001b[0m     prefer\u001b[39m=\u001b[39;49m\u001b[39m\"\u001b[39;49m\u001b[39mthreads\u001b[39;49m\u001b[39m\"\u001b[39;49m,\n\u001b[1;32m    460\u001b[0m )(\n\u001b[1;32m    461\u001b[0m     delayed(_parallel_build_trees)(\n\u001b[1;32m    462\u001b[0m         t,\n\u001b[1;32m    463\u001b[0m         \u001b[39mself\u001b[39;49m\u001b[39m.\u001b[39;49mbootstrap,\n\u001b[1;32m    464\u001b[0m         X,\n\u001b[1;32m    465\u001b[0m         y,\n\u001b[1;32m    466\u001b[0m         sample_weight,\n\u001b[1;32m    467\u001b[0m         i,\n\u001b[1;32m    468\u001b[0m         \u001b[39mlen\u001b[39;49m(trees),\n\u001b[1;32m    469\u001b[0m         verbose\u001b[39m=\u001b[39;49m\u001b[39mself\u001b[39;49m\u001b[39m.\u001b[39;49mverbose,\n\u001b[1;32m    470\u001b[0m         class_weight\u001b[39m=\u001b[39;49m\u001b[39mself\u001b[39;49m\u001b[39m.\u001b[39;49mclass_weight,\n\u001b[1;32m    471\u001b[0m         n_samples_bootstrap\u001b[39m=\u001b[39;49mn_samples_bootstrap,\n\u001b[1;32m    472\u001b[0m     )\n\u001b[1;32m    473\u001b[0m     \u001b[39mfor\u001b[39;49;00m i, t \u001b[39min\u001b[39;49;00m \u001b[39menumerate\u001b[39;49m(trees)\n\u001b[1;32m    474\u001b[0m )\n\u001b[1;32m    476\u001b[0m \u001b[39m# Collect newly grown trees\u001b[39;00m\n\u001b[1;32m    477\u001b[0m \u001b[39mself\u001b[39m\u001b[39m.\u001b[39mestimators_\u001b[39m.\u001b[39mextend(trees)\n",
            "File \u001b[0;32m~/.local/lib/python3.8/site-packages/sklearn/utils/parallel.py:65\u001b[0m, in \u001b[0;36mParallel.__call__\u001b[0;34m(self, iterable)\u001b[0m\n\u001b[1;32m     60\u001b[0m config \u001b[39m=\u001b[39m get_config()\n\u001b[1;32m     61\u001b[0m iterable_with_config \u001b[39m=\u001b[39m (\n\u001b[1;32m     62\u001b[0m     (_with_config(delayed_func, config), args, kwargs)\n\u001b[1;32m     63\u001b[0m     \u001b[39mfor\u001b[39;00m delayed_func, args, kwargs \u001b[39min\u001b[39;00m iterable\n\u001b[1;32m     64\u001b[0m )\n\u001b[0;32m---> 65\u001b[0m \u001b[39mreturn\u001b[39;00m \u001b[39msuper\u001b[39;49m()\u001b[39m.\u001b[39;49m\u001b[39m__call__\u001b[39;49m(iterable_with_config)\n",
            "File \u001b[0;32m~/.local/lib/python3.8/site-packages/joblib/parallel.py:1863\u001b[0m, in \u001b[0;36mParallel.__call__\u001b[0;34m(self, iterable)\u001b[0m\n\u001b[1;32m   1861\u001b[0m     output \u001b[39m=\u001b[39m \u001b[39mself\u001b[39m\u001b[39m.\u001b[39m_get_sequential_output(iterable)\n\u001b[1;32m   1862\u001b[0m     \u001b[39mnext\u001b[39m(output)\n\u001b[0;32m-> 1863\u001b[0m     \u001b[39mreturn\u001b[39;00m output \u001b[39mif\u001b[39;00m \u001b[39mself\u001b[39m\u001b[39m.\u001b[39mreturn_generator \u001b[39melse\u001b[39;00m \u001b[39mlist\u001b[39;49m(output)\n\u001b[1;32m   1865\u001b[0m \u001b[39m# Let's create an ID that uniquely identifies the current call. If the\u001b[39;00m\n\u001b[1;32m   1866\u001b[0m \u001b[39m# call is interrupted early and that the same instance is immediately\u001b[39;00m\n\u001b[1;32m   1867\u001b[0m \u001b[39m# re-used, this id will be used to prevent workers that were\u001b[39;00m\n\u001b[1;32m   1868\u001b[0m \u001b[39m# concurrently finalizing a task from the previous call to run the\u001b[39;00m\n\u001b[1;32m   1869\u001b[0m \u001b[39m# callback.\u001b[39;00m\n\u001b[1;32m   1870\u001b[0m \u001b[39mwith\u001b[39;00m \u001b[39mself\u001b[39m\u001b[39m.\u001b[39m_lock:\n",
            "File \u001b[0;32m~/.local/lib/python3.8/site-packages/joblib/parallel.py:1792\u001b[0m, in \u001b[0;36mParallel._get_sequential_output\u001b[0;34m(self, iterable)\u001b[0m\n\u001b[1;32m   1790\u001b[0m \u001b[39mself\u001b[39m\u001b[39m.\u001b[39mn_dispatched_batches \u001b[39m+\u001b[39m\u001b[39m=\u001b[39m \u001b[39m1\u001b[39m\n\u001b[1;32m   1791\u001b[0m \u001b[39mself\u001b[39m\u001b[39m.\u001b[39mn_dispatched_tasks \u001b[39m+\u001b[39m\u001b[39m=\u001b[39m \u001b[39m1\u001b[39m\n\u001b[0;32m-> 1792\u001b[0m res \u001b[39m=\u001b[39m func(\u001b[39m*\u001b[39;49margs, \u001b[39m*\u001b[39;49m\u001b[39m*\u001b[39;49mkwargs)\n\u001b[1;32m   1793\u001b[0m \u001b[39mself\u001b[39m\u001b[39m.\u001b[39mn_completed_tasks \u001b[39m+\u001b[39m\u001b[39m=\u001b[39m \u001b[39m1\u001b[39m\n\u001b[1;32m   1794\u001b[0m \u001b[39mself\u001b[39m\u001b[39m.\u001b[39mprint_progress()\n",
            "File \u001b[0;32m~/.local/lib/python3.8/site-packages/sklearn/utils/parallel.py:127\u001b[0m, in \u001b[0;36m_FuncWrapper.__call__\u001b[0;34m(self, *args, **kwargs)\u001b[0m\n\u001b[1;32m    125\u001b[0m     config \u001b[39m=\u001b[39m {}\n\u001b[1;32m    126\u001b[0m \u001b[39mwith\u001b[39;00m config_context(\u001b[39m*\u001b[39m\u001b[39m*\u001b[39mconfig):\n\u001b[0;32m--> 127\u001b[0m     \u001b[39mreturn\u001b[39;00m \u001b[39mself\u001b[39;49m\u001b[39m.\u001b[39;49mfunction(\u001b[39m*\u001b[39;49margs, \u001b[39m*\u001b[39;49m\u001b[39m*\u001b[39;49mkwargs)\n",
            "File \u001b[0;32m~/.local/lib/python3.8/site-packages/sklearn/ensemble/_forest.py:188\u001b[0m, in \u001b[0;36m_parallel_build_trees\u001b[0;34m(tree, bootstrap, X, y, sample_weight, tree_idx, n_trees, verbose, class_weight, n_samples_bootstrap)\u001b[0m\n\u001b[1;32m    185\u001b[0m     \u001b[39melif\u001b[39;00m class_weight \u001b[39m==\u001b[39m \u001b[39m\"\u001b[39m\u001b[39mbalanced_subsample\u001b[39m\u001b[39m\"\u001b[39m:\n\u001b[1;32m    186\u001b[0m         curr_sample_weight \u001b[39m*\u001b[39m\u001b[39m=\u001b[39m compute_sample_weight(\u001b[39m\"\u001b[39m\u001b[39mbalanced\u001b[39m\u001b[39m\"\u001b[39m, y, indices\u001b[39m=\u001b[39mindices)\n\u001b[0;32m--> 188\u001b[0m     tree\u001b[39m.\u001b[39;49mfit(X, y, sample_weight\u001b[39m=\u001b[39;49mcurr_sample_weight, check_input\u001b[39m=\u001b[39;49m\u001b[39mFalse\u001b[39;49;00m)\n\u001b[1;32m    189\u001b[0m \u001b[39melse\u001b[39;00m:\n\u001b[1;32m    190\u001b[0m     tree\u001b[39m.\u001b[39mfit(X, y, sample_weight\u001b[39m=\u001b[39msample_weight, check_input\u001b[39m=\u001b[39m\u001b[39mFalse\u001b[39;00m)\n",
            "File \u001b[0;32m~/.local/lib/python3.8/site-packages/sklearn/base.py:1151\u001b[0m, in \u001b[0;36m_fit_context.<locals>.decorator.<locals>.wrapper\u001b[0;34m(estimator, *args, **kwargs)\u001b[0m\n\u001b[1;32m   1144\u001b[0m     estimator\u001b[39m.\u001b[39m_validate_params()\n\u001b[1;32m   1146\u001b[0m \u001b[39mwith\u001b[39;00m config_context(\n\u001b[1;32m   1147\u001b[0m     skip_parameter_validation\u001b[39m=\u001b[39m(\n\u001b[1;32m   1148\u001b[0m         prefer_skip_nested_validation \u001b[39mor\u001b[39;00m global_skip_validation\n\u001b[1;32m   1149\u001b[0m     )\n\u001b[1;32m   1150\u001b[0m ):\n\u001b[0;32m-> 1151\u001b[0m     \u001b[39mreturn\u001b[39;00m fit_method(estimator, \u001b[39m*\u001b[39;49margs, \u001b[39m*\u001b[39;49m\u001b[39m*\u001b[39;49mkwargs)\n",
            "File \u001b[0;32m~/.local/lib/python3.8/site-packages/sklearn/tree/_classes.py:959\u001b[0m, in \u001b[0;36mDecisionTreeClassifier.fit\u001b[0;34m(self, X, y, sample_weight, check_input)\u001b[0m\n\u001b[1;32m    928\u001b[0m \u001b[39m@_fit_context\u001b[39m(prefer_skip_nested_validation\u001b[39m=\u001b[39m\u001b[39mTrue\u001b[39;00m)\n\u001b[1;32m    929\u001b[0m \u001b[39mdef\u001b[39;00m \u001b[39mfit\u001b[39m(\u001b[39mself\u001b[39m, X, y, sample_weight\u001b[39m=\u001b[39m\u001b[39mNone\u001b[39;00m, check_input\u001b[39m=\u001b[39m\u001b[39mTrue\u001b[39;00m):\n\u001b[1;32m    930\u001b[0m \u001b[39m    \u001b[39m\u001b[39m\"\"\"Build a decision tree classifier from the training set (X, y).\u001b[39;00m\n\u001b[1;32m    931\u001b[0m \n\u001b[1;32m    932\u001b[0m \u001b[39m    Parameters\u001b[39;00m\n\u001b[0;32m   (...)\u001b[0m\n\u001b[1;32m    956\u001b[0m \u001b[39m        Fitted estimator.\u001b[39;00m\n\u001b[1;32m    957\u001b[0m \u001b[39m    \"\"\"\u001b[39;00m\n\u001b[0;32m--> 959\u001b[0m     \u001b[39msuper\u001b[39;49m()\u001b[39m.\u001b[39;49m_fit(\n\u001b[1;32m    960\u001b[0m         X,\n\u001b[1;32m    961\u001b[0m         y,\n\u001b[1;32m    962\u001b[0m         sample_weight\u001b[39m=\u001b[39;49msample_weight,\n\u001b[1;32m    963\u001b[0m         check_input\u001b[39m=\u001b[39;49mcheck_input,\n\u001b[1;32m    964\u001b[0m     )\n\u001b[1;32m    965\u001b[0m     \u001b[39mreturn\u001b[39;00m \u001b[39mself\u001b[39m\n",
            "File \u001b[0;32m~/.local/lib/python3.8/site-packages/sklearn/tree/_classes.py:443\u001b[0m, in \u001b[0;36mBaseDecisionTree._fit\u001b[0;34m(self, X, y, sample_weight, check_input, missing_values_in_feature_mask)\u001b[0m\n\u001b[1;32m    432\u001b[0m \u001b[39melse\u001b[39;00m:\n\u001b[1;32m    433\u001b[0m     builder \u001b[39m=\u001b[39m BestFirstTreeBuilder(\n\u001b[1;32m    434\u001b[0m         splitter,\n\u001b[1;32m    435\u001b[0m         min_samples_split,\n\u001b[0;32m   (...)\u001b[0m\n\u001b[1;32m    440\u001b[0m         \u001b[39mself\u001b[39m\u001b[39m.\u001b[39mmin_impurity_decrease,\n\u001b[1;32m    441\u001b[0m     )\n\u001b[0;32m--> 443\u001b[0m builder\u001b[39m.\u001b[39;49mbuild(\u001b[39mself\u001b[39;49m\u001b[39m.\u001b[39;49mtree_, X, y, sample_weight, missing_values_in_feature_mask)\n\u001b[1;32m    445\u001b[0m \u001b[39mif\u001b[39;00m \u001b[39mself\u001b[39m\u001b[39m.\u001b[39mn_outputs_ \u001b[39m==\u001b[39m \u001b[39m1\u001b[39m \u001b[39mand\u001b[39;00m is_classifier(\u001b[39mself\u001b[39m):\n\u001b[1;32m    446\u001b[0m     \u001b[39mself\u001b[39m\u001b[39m.\u001b[39mn_classes_ \u001b[39m=\u001b[39m \u001b[39mself\u001b[39m\u001b[39m.\u001b[39mn_classes_[\u001b[39m0\u001b[39m]\n",
            "\u001b[0;31mKeyboardInterrupt\u001b[0m: "
          ]
        }
      ],
      "source": [
        "class ModeloAuxiliar2(object):\n",
        "    def __init__(self, clf, seed=27, params=None):\n",
        "        if params:\n",
        "            params['random_state'] = seed\n",
        "            self.clf = clf(**params)\n",
        "        else:\n",
        "            self.clf = clf()\n",
        "\n",
        "    def predict(self, x):\n",
        "        return self.clf.predict(x)\n",
        "\n",
        "    def fit(self, x, y):\n",
        "        return self.clf.fit(x, y)\n",
        "\n",
        "    def feature_importances(self, x, y):\n",
        "        return self.clf.fit(x, y).feature_importances_\n",
        "\n",
        "modelos = [{'nome': 'logreg',\n",
        "           'modelo': LogisticRegression},\n",
        "           {'nome': 'KNN',\n",
        "            'modelo': KNeighborsClassifier},\n",
        "           {'nome': 'GaussianNB',\n",
        "            'modelo': GaussianNB},\n",
        "           {'nome': 'Perceptron',\n",
        "           'modelo': Perceptron},\n",
        "           {'nome': 'LinearSVC',\n",
        "            'modelo': LinearSVC},\n",
        "           {'nome': 'SGD',\n",
        "            'modelo': SGDClassifier},\n",
        "           {'nome': 'Dtree',\n",
        "            'modelo': DecisionTreeClassifier},\n",
        "           {'nome': 'RForest',\n",
        "            'modelo': RandomForestClassifier},\n",
        "           {'nome': 'ADA',\n",
        "            'modelo': AdaBoostClassifier},\n",
        "           {'nome': 'GBC',\n",
        "            'modelo': GradientBoostingClassifier},\n",
        "           {'nome': 'ETC',\n",
        "            'modelo': ExtraTreesClassifier},\n",
        "\n",
        "          ]\n",
        "\n",
        "resultados2 = []\n",
        "medias_acuracias2 = []\n",
        "scaler = StandardScaler()\n",
        "\n",
        "for i in range(len(combinacoes_Xs)):\n",
        "    X_teste, X_treino = combinacoes_Xs[i]\n",
        "    y_teste, y_treino = combinacoes_ys[i]\n",
        "\n",
        "    X_treino_scaled = scaler.fit_transform(X_treino)\n",
        "    X_teste_scaled = scaler.transform(X_teste)\n",
        "\n",
        "    acuracias = []\n",
        "\n",
        "    for model in modelos:\n",
        "        x = ModeloAuxiliar1(clf=model['modelo'])\n",
        "\n",
        "        # treinar o modelo\n",
        "        x.fit(X_treino_scaled, y_treino)\n",
        "\n",
        "        # gerar previsão\n",
        "        y_pred = x.predict(X_teste_scaled)\n",
        "\n",
        "        # calcular a acurácia\n",
        "        acuracia = accuracy_score(y_teste, y_pred)\n",
        "\n",
        "        acuracias.append(acuracia)\n",
        "\n",
        "       # Calcula a acurácia balanceada\n",
        "\n",
        "        acuracia_balanceada = balanced_accuracy_score(y_teste, y_pred)\n",
        "        # Calcular a f1 balanceada\n",
        "\n",
        "        f1_balanceada = f= f1_score(y_teste, y_pred, average='weighted')\n",
        "\n",
        "        # calcular as demaism métricas\n",
        "        precisao = precision_score(y_teste, y_pred)\n",
        "        recall = recall_score(y_teste, y_pred)\n",
        "        f1 = f1_score(y_teste, y_pred)\n",
        "        matriz_confusao = confusion_matrix(y_teste, y_pred)\n",
        "\n",
        "        resultados2.append({'Nome': model['nome'],\n",
        "                           'Acurácia': acuracia,\n",
        "                           'Acurácia Balanceada': acuracia_balanceada,\n",
        "                           'Precisão': precisao,\n",
        "                           'Recall': recall,\n",
        "                           'F1-score': f1,\n",
        "                           'F1-score Balanceada': f1_balanceada,\n",
        "                           'Matriz de Confusão': matriz_confusao,\n",
        "                           'Predição': y_pred\n",
        "                           })\n",
        "        # Salvar o modelo treinado usando joblib\n",
        "        model_filename = f\"modelo_{model['nome']}_treinado_sim.joblib\"\n",
        "        joblib.dump(x, model_filename)\n",
        "\n",
        "\n"
      ]
    },
    {
      "cell_type": "code",
      "execution_count": null,
      "metadata": {
        "colab": {
          "base_uri": "https://localhost:8080/",
          "height": 206
        },
        "id": "pgp4lU-uaHus",
        "outputId": "78c14597-e945-41c8-8c80-fef9ee2890d1"
      },
      "outputs": [
        {
          "data": {
            "text/html": [
              "<div>\n",
              "<style scoped>\n",
              "    .dataframe tbody tr th:only-of-type {\n",
              "        vertical-align: middle;\n",
              "    }\n",
              "\n",
              "    .dataframe tbody tr th {\n",
              "        vertical-align: top;\n",
              "    }\n",
              "\n",
              "    .dataframe thead th {\n",
              "        text-align: right;\n",
              "    }\n",
              "</style>\n",
              "<table border=\"1\" class=\"dataframe\">\n",
              "  <thead>\n",
              "    <tr style=\"text-align: right;\">\n",
              "      <th></th>\n",
              "      <th>Nome</th>\n",
              "      <th>Acurácia</th>\n",
              "      <th>Acurácia Balanceada</th>\n",
              "      <th>Precisão</th>\n",
              "      <th>Recall</th>\n",
              "      <th>F1-score</th>\n",
              "      <th>F1-score Balanceada</th>\n",
              "      <th>Matriz de Confusão</th>\n",
              "      <th>Predição</th>\n",
              "    </tr>\n",
              "  </thead>\n",
              "  <tbody>\n",
              "    <tr>\n",
              "      <th>0</th>\n",
              "      <td>ETC</td>\n",
              "      <td>0.935217</td>\n",
              "      <td>0.935217</td>\n",
              "      <td>0.997473</td>\n",
              "      <td>0.872644</td>\n",
              "      <td>0.930892</td>\n",
              "      <td>0.934962</td>\n",
              "      <td>[[28432, 63], [3629, 24866]]</td>\n",
              "      <td>[1, 1, 1, 1, 1, 1, 1, 1, 1, 1, 1, 1, 1, 1, 1, ...</td>\n",
              "    </tr>\n",
              "    <tr>\n",
              "      <th>1</th>\n",
              "      <td>ETC</td>\n",
              "      <td>0.934918</td>\n",
              "      <td>0.934918</td>\n",
              "      <td>0.999960</td>\n",
              "      <td>0.869872</td>\n",
              "      <td>0.930391</td>\n",
              "      <td>0.934642</td>\n",
              "      <td>[[28494, 1], [3708, 24787]]</td>\n",
              "      <td>[0, 0, 0, 0, 0, 0, 0, 0, 0, 0, 0, 0, 0, 0, 0, ...</td>\n",
              "    </tr>\n",
              "    <tr>\n",
              "      <th>2</th>\n",
              "      <td>ETC</td>\n",
              "      <td>0.934462</td>\n",
              "      <td>0.934462</td>\n",
              "      <td>0.996153</td>\n",
              "      <td>0.872293</td>\n",
              "      <td>0.930118</td>\n",
              "      <td>0.934208</td>\n",
              "      <td>[[28399, 96], [3639, 24856]]</td>\n",
              "      <td>[0, 0, 0, 0, 0, 0, 0, 0, 0, 0, 0, 0, 0, 0, 0, ...</td>\n",
              "    </tr>\n",
              "    <tr>\n",
              "      <th>3</th>\n",
              "      <td>ETC</td>\n",
              "      <td>0.936761</td>\n",
              "      <td>0.936761</td>\n",
              "      <td>0.999639</td>\n",
              "      <td>0.873838</td>\n",
              "      <td>0.932514</td>\n",
              "      <td>0.936509</td>\n",
              "      <td>[[28486, 9], [3595, 24900]]</td>\n",
              "      <td>[0, 0, 0, 0, 0, 0, 0, 0, 0, 0, 0, 0, 0, 0, 0, ...</td>\n",
              "    </tr>\n",
              "    <tr>\n",
              "      <th>4</th>\n",
              "      <td>ETC</td>\n",
              "      <td>0.965117</td>\n",
              "      <td>0.965117</td>\n",
              "      <td>0.974169</td>\n",
              "      <td>0.955571</td>\n",
              "      <td>0.964780</td>\n",
              "      <td>0.965114</td>\n",
              "      <td>[[27773, 722], [1266, 27229]]</td>\n",
              "      <td>[0, 0, 0, 0, 0, 0, 0, 0, 0, 0, 0, 0, 0, 0, 0, ...</td>\n",
              "    </tr>\n",
              "  </tbody>\n",
              "</table>\n",
              "</div>"
            ],
            "text/plain": [
              "  Nome  Acurácia  Acurácia Balanceada  Precisão    Recall  F1-score  \\\n",
              "0  ETC  0.935217             0.935217  0.997473  0.872644  0.930892   \n",
              "1  ETC  0.934918             0.934918  0.999960  0.869872  0.930391   \n",
              "2  ETC  0.934462             0.934462  0.996153  0.872293  0.930118   \n",
              "3  ETC  0.936761             0.936761  0.999639  0.873838  0.932514   \n",
              "4  ETC  0.965117             0.965117  0.974169  0.955571  0.964780   \n",
              "\n",
              "   F1-score Balanceada             Matriz de Confusão  \\\n",
              "0             0.934962   [[28432, 63], [3629, 24866]]   \n",
              "1             0.934642    [[28494, 1], [3708, 24787]]   \n",
              "2             0.934208   [[28399, 96], [3639, 24856]]   \n",
              "3             0.936509    [[28486, 9], [3595, 24900]]   \n",
              "4             0.965114  [[27773, 722], [1266, 27229]]   \n",
              "\n",
              "                                            Predição  \n",
              "0  [1, 1, 1, 1, 1, 1, 1, 1, 1, 1, 1, 1, 1, 1, 1, ...  \n",
              "1  [0, 0, 0, 0, 0, 0, 0, 0, 0, 0, 0, 0, 0, 0, 0, ...  \n",
              "2  [0, 0, 0, 0, 0, 0, 0, 0, 0, 0, 0, 0, 0, 0, 0, ...  \n",
              "3  [0, 0, 0, 0, 0, 0, 0, 0, 0, 0, 0, 0, 0, 0, 0, ...  \n",
              "4  [0, 0, 0, 0, 0, 0, 0, 0, 0, 0, 0, 0, 0, 0, 0, ...  "
            ]
          },
          "execution_count": 52,
          "metadata": {},
          "output_type": "execute_result"
        }
      ],
      "source": [
        "modelos_df2 = pd.DataFrame(resultados2)\n",
        "modelos_df2 = modelos_df2[['Nome', 'Acurácia','Acurácia Balanceada','Precisão', 'Recall', 'F1-score','F1-score Balanceada', 'Matriz de Confusão','Predição']]\n",
        "\n",
        "\n",
        "modelos_df2.head()"
      ]
    },
    {
      "cell_type": "markdown",
      "metadata": {
        "id": "pT9xj5aXXx79"
      },
      "source": [
        "###Classificador sim/real"
      ]
    },
    {
      "cell_type": "code",
      "execution_count": null,
      "metadata": {
        "id": "xJOrbdIUaXhy"
      },
      "outputs": [],
      "source": [
        "class ModeloAuxiliar(object):\n",
        "    def __init__(self, clf, seed=27, params=None):\n",
        "        if params:\n",
        "            params['random_state'] = seed\n",
        "            self.clf = clf(**params)\n",
        "        else:\n",
        "            self.clf = clf()\n",
        "\n",
        "    def predict(self, x):\n",
        "        return self.clf.predict(x)\n",
        "\n",
        "    def fit(self, x, y):\n",
        "        return self.clf.fit(x, y)\n",
        "\n",
        "    def feature_importances(self, x, y):\n",
        "        return self.clf.fit(x, y).feature_importances_\n",
        "\n",
        "modelos = [{'nome': 'logreg',\n",
        "           'modelo': LogisticRegression},\n",
        "           {'nome': 'KNN',\n",
        "            'modelo': KNeighborsClassifier},\n",
        "           {'nome': 'GaussianNB',\n",
        "            'modelo': GaussianNB},\n",
        "           {'nome': 'Perceptron',\n",
        "           'modelo': Perceptron},\n",
        "           {'nome': 'LinearSVC',\n",
        "            'modelo': LinearSVC},\n",
        "           {'nome': 'SGD',\n",
        "            'modelo': SGDClassifier},\n",
        "           {'nome': 'Dtree',\n",
        "            'modelo': DecisionTreeClassifier},\n",
        "           {'nome': 'RForest',\n",
        "            'modelo': RandomForestClassifier},\n",
        "           {'nome': 'ADA',\n",
        "            'modelo': AdaBoostClassifier},\n",
        "           {'nome': 'GBC',\n",
        "            'modelo': GradientBoostingClassifier},\n",
        "           {'nome': 'ETC',\n",
        "            'modelo': ExtraTreesClassifier},\n",
        "\n",
        "          ]\n",
        "\n",
        "resultados = []\n",
        "medias_acuracias = []\n",
        "scaler = StandardScaler()\n",
        "\n",
        "for i in range(len(combinacoes_Xsr)):\n",
        "    X_teste, X_treino = combinacoes_Xsr[i]\n",
        "    y_teste, y_treino = combinacoes_ysr[i]\n",
        "\n",
        "    X_treino_scaled = scaler.fit_transform(X_treino)\n",
        "    X_teste_scaled = scaler.transform(X_teste)\n",
        "\n",
        "    acuracias = []\n",
        "\n",
        "    for model in modelos:\n",
        "        x = ModeloAuxiliar(clf=model['modelo'])\n",
        "\n",
        "        # treinar o modelo\n",
        "        x.fit(X_treino_scaled, y_treino)\n",
        "\n",
        "        # gerar previsão\n",
        "        y_pred = x.predict(X_teste_scaled)\n",
        "\n",
        "        # calcular a acurácia\n",
        "        acuracia = accuracy_score(y_teste, y_pred)\n",
        "\n",
        "        acuracias.append(acuracia)\n",
        "\n",
        "       # Calcula a acurácia balanceada\n",
        "\n",
        "        acuracia_balanceada = balanced_accuracy_score(y_teste, y_pred)\n",
        "\n",
        "        # Calcular a f1 balanceada\n",
        "\n",
        "        f1_balanceada = f= f1_score(y_teste, y_pred, average='weighted')\n",
        "\n",
        "        # calcular as demaism métricas\n",
        "        precisao = precision_score(y_teste, y_pred)\n",
        "        recall = recall_score(y_teste, y_pred)\n",
        "        f1 = f1_score(y_teste, y_pred)\n",
        "        matriz_confusao = confusion_matrix(y_teste, y_pred)\n",
        "\n",
        "        resultados.append({'Nome': model['nome'],\n",
        "                           'Acurácia': acuracia,\n",
        "                           'Acurácia Balanceada': acuracia_balanceada,\n",
        "                           'Precisão': precisao,\n",
        "                           'Recall': recall,\n",
        "                           'F1-score': f1,\n",
        "                           'F1-score Balanceada': f1_balanceada,\n",
        "                           'Matriz de Confusão': matriz_confusao,\n",
        "                           'Predição': y_pred\n",
        "                           })\n",
        "        # Salvar o modelo treinado usando joblib\n",
        "        model_filename = f\"modelo_{model['nome']}_treinado)real_sim.joblib\"\n",
        "        joblib.dump(x, model_filename)\n"
      ]
    },
    {
      "cell_type": "code",
      "execution_count": null,
      "metadata": {
        "colab": {
          "base_uri": "https://localhost:8080/",
          "height": 206
        },
        "id": "C9aApDZAOGkn",
        "outputId": "05b8917a-2cf1-454e-f9bb-143400c4ac89"
      },
      "outputs": [],
      "source": [
        "modelos_df = pd.DataFrame(resultados)\n",
        "modelos_df = modelos_df[['Nome', 'Acurácia','Acurácia Balanceada','Precisão', 'Recall', 'F1-score','F1-score Balanceada', 'Matriz de Confusão','Predição']]\n",
        "\n",
        "\n",
        "\n",
        "modelos_df.head()"
      ]
    },
    {
      "cell_type": "code",
      "execution_count": null,
      "metadata": {
        "colab": {
          "base_uri": "https://localhost:8080/"
        },
        "id": "M9f4lusQb49C",
        "outputId": "bba50284-f5dd-46a1-b36f-1c3369d3d230"
      },
      "outputs": [],
      "source": [
        "import plotly.express as px\n",
        "import plotly.graph_objects as go\n",
        "\n",
        "# Criar uma figura\n",
        "fig = go.Figure()\n",
        "\n",
        "# Adicionar cada boxplot à figura com diferentes posições X\n",
        "fig.add_trace(go.Box(x=modelos_df1['Nome'], y=modelos_df1['Acurácia Balanceada'], name='ETC Real/Real sem modificações'))\n",
        "fig.add_trace(go.Box(x=modelos_df2['Nome'], y=modelos_df2['Acurácia Balanceada'], name='ETC Sim/Sim sem modificações', xaxis='x2'))\n",
        "fig.add_trace(go.Box(x=modelos_df['Nome'], y=modelos_df['Acurácia Balanceada'], name='ETC Sim/Real sem modificações', xaxis='x3'))\n",
        "\n",
        "# Atualizar layout\n",
        "fig.update_layout(\n",
        "    title='Boxplots da acurácia balanceada dos classificadores ETC',\n",
        "    xaxis=dict(domain=[0, 0.3]),\n",
        "    xaxis2=dict(domain=[0.35, 0.65]),\n",
        "    xaxis3=dict(domain=[0.7, 1]),\n",
        "    yaxis_title='Acurácia Balanceada'\n",
        ")\n",
        "\n",
        "# Mostrar o gráfico\n",
        "fig.show()\n"
      ]
    },
    {
      "cell_type": "code",
      "execution_count": null,
      "metadata": {},
      "outputs": [],
      "source": [
        "####"
      ]
    },
    {
      "cell_type": "code",
      "execution_count": null,
      "metadata": {
        "colab": {
          "base_uri": "https://localhost:8080/"
        },
        "id": "CXEiNhrFcTGW",
        "outputId": "76cb0759-d31a-43dc-c4a6-045ec08e04dc"
      },
      "outputs": [
        {
          "data": {
            "text/html": [
              "<html>\n",
              "<head><meta charset=\"utf-8\" /></head>\n",
              "<body>\n",
              "    <div>            <script src=\"https://cdnjs.cloudflare.com/ajax/libs/mathjax/2.7.5/MathJax.js?config=TeX-AMS-MML_SVG\"></script><script type=\"text/javascript\">if (window.MathJax && window.MathJax.Hub && window.MathJax.Hub.Config) {window.MathJax.Hub.Config({SVG: {font: \"STIX-Web\"}});}</script>                <script type=\"text/javascript\">window.PlotlyConfig = {MathJaxConfig: 'local'};</script>\n",
              "        <script src=\"https://cdn.plot.ly/plotly-2.18.2.min.js\"></script>                <div id=\"9206ee63-dec4-4a87-b422-ae43c0d14c7e\" class=\"plotly-graph-div\" style=\"height:525px; width:100%;\"></div>            <script type=\"text/javascript\">                                    window.PLOTLYENV=window.PLOTLYENV || {};                                    if (document.getElementById(\"9206ee63-dec4-4a87-b422-ae43c0d14c7e\")) {                    Plotly.newPlot(                        \"9206ee63-dec4-4a87-b422-ae43c0d14c7e\",                        [{\"name\":\"ETC Real/Real sem modifica\\u00e7\\u00f5es\",\"x\":[\"ETC\",\"ETC\",\"ETC\",\"ETC\",\"ETC\",\"ETC\",\"ETC\",\"ETC\",\"ETC\",\"ETC\",\"ETC\",\"ETC\",\"ETC\",\"ETC\",\"ETC\",\"ETC\",\"ETC\",\"ETC\",\"ETC\",\"ETC\",\"ETC\",\"ETC\",\"ETC\",\"ETC\",\"ETC\"],\"y\":[0.8446375064418143,0.8840067186812539,0.8988187420416314,0.8917844836235245,0.8989353162492075,0.8079954600923368,0.8927537773975582,0.9179203101822576,0.9166441685902008,0.9202985146412098,0.8375282082484934,0.8825220639171761,0.9121234552416951,0.9195159714052754,0.9188549212298449,0.8480181897898088,0.8840731786996792,0.9356130454099382,0.9344344712572672,0.9385820304468127,0.874361112862993,0.8597002234307538,0.9023372392548118,0.9013822494873712,0.9072586462887381],\"type\":\"box\"},{\"name\":\"ETC Sim/Sim sem modifica\\u00e7\\u00f5es\",\"x\":[\"ETC\",\"ETC\",\"ETC\",\"ETC\",\"ETC\",\"ETC\",\"ETC\",\"ETC\",\"ETC\",\"ETC\",\"ETC\",\"ETC\",\"ETC\",\"ETC\",\"ETC\",\"ETC\",\"ETC\",\"ETC\",\"ETC\",\"ETC\",\"ETC\",\"ETC\",\"ETC\",\"ETC\",\"ETC\"],\"xaxis\":\"x2\",\"y\":[0.8968745707476224,0.8968770619294338,0.8991746925856432,0.9048680824809131,0.9060340841847921,0.9820664352615961,0.9845398455430427,0.9843296374455965,0.9804877517937965,0.9020670053909414,0.9850146622580346,0.9882078110445158,0.986628790283108,0.9813826986674841,0.8935166825252453,0.985909762713201,0.9896294547323536,0.9875414815069701,0.9822599490034186,0.8942988952905553,0.9720925810180516,0.9738261990084802,0.9722663156489305,0.9671995228387922,0.8954121992038178],\"type\":\"box\"},{\"name\":\"ETC Sim/Real sem modifica\\u00e7\\u00f5es\",\"x\":[\"ETC\",\"ETC\",\"ETC\",\"ETC\",\"ETC\",\"ETC\",\"ETC\",\"ETC\",\"ETC\",\"ETC\",\"ETC\",\"ETC\",\"ETC\",\"ETC\",\"ETC\",\"ETC\",\"ETC\",\"ETC\",\"ETC\",\"ETC\",\"ETC\",\"ETC\",\"ETC\",\"ETC\",\"ETC\"],\"xaxis\":\"x3\",\"y\":[0.22229644943169483,0.766350556567496,0.8144014249443045,0.8519699289161586,0.8055216253596532,0.23255086235533876,0.6141753556030953,0.8344471643868903,0.24028867094027279,0.8094223599255985,0.8308878444329312,0.7446137210576377,0.21510232865098944,0.8188515221876889,0.7486579035435731,0.3932377315887632,0.7870038145383893,0.8166770570225604,0.8247199343700233,0.7650113408700254,0.48568411589100463,0.32019599055834164,0.21505365763923906,0.6954990381901788,0.7236845992137891],\"type\":\"box\"}],                        {\"template\":{\"data\":{\"histogram2dcontour\":[{\"type\":\"histogram2dcontour\",\"colorbar\":{\"outlinewidth\":0,\"ticks\":\"\"},\"colorscale\":[[0.0,\"#0d0887\"],[0.1111111111111111,\"#46039f\"],[0.2222222222222222,\"#7201a8\"],[0.3333333333333333,\"#9c179e\"],[0.4444444444444444,\"#bd3786\"],[0.5555555555555556,\"#d8576b\"],[0.6666666666666666,\"#ed7953\"],[0.7777777777777778,\"#fb9f3a\"],[0.8888888888888888,\"#fdca26\"],[1.0,\"#f0f921\"]]}],\"choropleth\":[{\"type\":\"choropleth\",\"colorbar\":{\"outlinewidth\":0,\"ticks\":\"\"}}],\"histogram2d\":[{\"type\":\"histogram2d\",\"colorbar\":{\"outlinewidth\":0,\"ticks\":\"\"},\"colorscale\":[[0.0,\"#0d0887\"],[0.1111111111111111,\"#46039f\"],[0.2222222222222222,\"#7201a8\"],[0.3333333333333333,\"#9c179e\"],[0.4444444444444444,\"#bd3786\"],[0.5555555555555556,\"#d8576b\"],[0.6666666666666666,\"#ed7953\"],[0.7777777777777778,\"#fb9f3a\"],[0.8888888888888888,\"#fdca26\"],[1.0,\"#f0f921\"]]}],\"heatmap\":[{\"type\":\"heatmap\",\"colorbar\":{\"outlinewidth\":0,\"ticks\":\"\"},\"colorscale\":[[0.0,\"#0d0887\"],[0.1111111111111111,\"#46039f\"],[0.2222222222222222,\"#7201a8\"],[0.3333333333333333,\"#9c179e\"],[0.4444444444444444,\"#bd3786\"],[0.5555555555555556,\"#d8576b\"],[0.6666666666666666,\"#ed7953\"],[0.7777777777777778,\"#fb9f3a\"],[0.8888888888888888,\"#fdca26\"],[1.0,\"#f0f921\"]]}],\"heatmapgl\":[{\"type\":\"heatmapgl\",\"colorbar\":{\"outlinewidth\":0,\"ticks\":\"\"},\"colorscale\":[[0.0,\"#0d0887\"],[0.1111111111111111,\"#46039f\"],[0.2222222222222222,\"#7201a8\"],[0.3333333333333333,\"#9c179e\"],[0.4444444444444444,\"#bd3786\"],[0.5555555555555556,\"#d8576b\"],[0.6666666666666666,\"#ed7953\"],[0.7777777777777778,\"#fb9f3a\"],[0.8888888888888888,\"#fdca26\"],[1.0,\"#f0f921\"]]}],\"contourcarpet\":[{\"type\":\"contourcarpet\",\"colorbar\":{\"outlinewidth\":0,\"ticks\":\"\"}}],\"contour\":[{\"type\":\"contour\",\"colorbar\":{\"outlinewidth\":0,\"ticks\":\"\"},\"colorscale\":[[0.0,\"#0d0887\"],[0.1111111111111111,\"#46039f\"],[0.2222222222222222,\"#7201a8\"],[0.3333333333333333,\"#9c179e\"],[0.4444444444444444,\"#bd3786\"],[0.5555555555555556,\"#d8576b\"],[0.6666666666666666,\"#ed7953\"],[0.7777777777777778,\"#fb9f3a\"],[0.8888888888888888,\"#fdca26\"],[1.0,\"#f0f921\"]]}],\"surface\":[{\"type\":\"surface\",\"colorbar\":{\"outlinewidth\":0,\"ticks\":\"\"},\"colorscale\":[[0.0,\"#0d0887\"],[0.1111111111111111,\"#46039f\"],[0.2222222222222222,\"#7201a8\"],[0.3333333333333333,\"#9c179e\"],[0.4444444444444444,\"#bd3786\"],[0.5555555555555556,\"#d8576b\"],[0.6666666666666666,\"#ed7953\"],[0.7777777777777778,\"#fb9f3a\"],[0.8888888888888888,\"#fdca26\"],[1.0,\"#f0f921\"]]}],\"mesh3d\":[{\"type\":\"mesh3d\",\"colorbar\":{\"outlinewidth\":0,\"ticks\":\"\"}}],\"scatter\":[{\"fillpattern\":{\"fillmode\":\"overlay\",\"size\":10,\"solidity\":0.2},\"type\":\"scatter\"}],\"parcoords\":[{\"type\":\"parcoords\",\"line\":{\"colorbar\":{\"outlinewidth\":0,\"ticks\":\"\"}}}],\"scatterpolargl\":[{\"type\":\"scatterpolargl\",\"marker\":{\"colorbar\":{\"outlinewidth\":0,\"ticks\":\"\"}}}],\"bar\":[{\"error_x\":{\"color\":\"#2a3f5f\"},\"error_y\":{\"color\":\"#2a3f5f\"},\"marker\":{\"line\":{\"color\":\"#E5ECF6\",\"width\":0.5},\"pattern\":{\"fillmode\":\"overlay\",\"size\":10,\"solidity\":0.2}},\"type\":\"bar\"}],\"scattergeo\":[{\"type\":\"scattergeo\",\"marker\":{\"colorbar\":{\"outlinewidth\":0,\"ticks\":\"\"}}}],\"scatterpolar\":[{\"type\":\"scatterpolar\",\"marker\":{\"colorbar\":{\"outlinewidth\":0,\"ticks\":\"\"}}}],\"histogram\":[{\"marker\":{\"pattern\":{\"fillmode\":\"overlay\",\"size\":10,\"solidity\":0.2}},\"type\":\"histogram\"}],\"scattergl\":[{\"type\":\"scattergl\",\"marker\":{\"colorbar\":{\"outlinewidth\":0,\"ticks\":\"\"}}}],\"scatter3d\":[{\"type\":\"scatter3d\",\"line\":{\"colorbar\":{\"outlinewidth\":0,\"ticks\":\"\"}},\"marker\":{\"colorbar\":{\"outlinewidth\":0,\"ticks\":\"\"}}}],\"scattermapbox\":[{\"type\":\"scattermapbox\",\"marker\":{\"colorbar\":{\"outlinewidth\":0,\"ticks\":\"\"}}}],\"scatterternary\":[{\"type\":\"scatterternary\",\"marker\":{\"colorbar\":{\"outlinewidth\":0,\"ticks\":\"\"}}}],\"scattercarpet\":[{\"type\":\"scattercarpet\",\"marker\":{\"colorbar\":{\"outlinewidth\":0,\"ticks\":\"\"}}}],\"carpet\":[{\"aaxis\":{\"endlinecolor\":\"#2a3f5f\",\"gridcolor\":\"white\",\"linecolor\":\"white\",\"minorgridcolor\":\"white\",\"startlinecolor\":\"#2a3f5f\"},\"baxis\":{\"endlinecolor\":\"#2a3f5f\",\"gridcolor\":\"white\",\"linecolor\":\"white\",\"minorgridcolor\":\"white\",\"startlinecolor\":\"#2a3f5f\"},\"type\":\"carpet\"}],\"table\":[{\"cells\":{\"fill\":{\"color\":\"#EBF0F8\"},\"line\":{\"color\":\"white\"}},\"header\":{\"fill\":{\"color\":\"#C8D4E3\"},\"line\":{\"color\":\"white\"}},\"type\":\"table\"}],\"barpolar\":[{\"marker\":{\"line\":{\"color\":\"#E5ECF6\",\"width\":0.5},\"pattern\":{\"fillmode\":\"overlay\",\"size\":10,\"solidity\":0.2}},\"type\":\"barpolar\"}],\"pie\":[{\"automargin\":true,\"type\":\"pie\"}]},\"layout\":{\"autotypenumbers\":\"strict\",\"colorway\":[\"#636efa\",\"#EF553B\",\"#00cc96\",\"#ab63fa\",\"#FFA15A\",\"#19d3f3\",\"#FF6692\",\"#B6E880\",\"#FF97FF\",\"#FECB52\"],\"font\":{\"color\":\"#2a3f5f\"},\"hovermode\":\"closest\",\"hoverlabel\":{\"align\":\"left\"},\"paper_bgcolor\":\"white\",\"plot_bgcolor\":\"#E5ECF6\",\"polar\":{\"bgcolor\":\"#E5ECF6\",\"angularaxis\":{\"gridcolor\":\"white\",\"linecolor\":\"white\",\"ticks\":\"\"},\"radialaxis\":{\"gridcolor\":\"white\",\"linecolor\":\"white\",\"ticks\":\"\"}},\"ternary\":{\"bgcolor\":\"#E5ECF6\",\"aaxis\":{\"gridcolor\":\"white\",\"linecolor\":\"white\",\"ticks\":\"\"},\"baxis\":{\"gridcolor\":\"white\",\"linecolor\":\"white\",\"ticks\":\"\"},\"caxis\":{\"gridcolor\":\"white\",\"linecolor\":\"white\",\"ticks\":\"\"}},\"coloraxis\":{\"colorbar\":{\"outlinewidth\":0,\"ticks\":\"\"}},\"colorscale\":{\"sequential\":[[0.0,\"#0d0887\"],[0.1111111111111111,\"#46039f\"],[0.2222222222222222,\"#7201a8\"],[0.3333333333333333,\"#9c179e\"],[0.4444444444444444,\"#bd3786\"],[0.5555555555555556,\"#d8576b\"],[0.6666666666666666,\"#ed7953\"],[0.7777777777777778,\"#fb9f3a\"],[0.8888888888888888,\"#fdca26\"],[1.0,\"#f0f921\"]],\"sequentialminus\":[[0.0,\"#0d0887\"],[0.1111111111111111,\"#46039f\"],[0.2222222222222222,\"#7201a8\"],[0.3333333333333333,\"#9c179e\"],[0.4444444444444444,\"#bd3786\"],[0.5555555555555556,\"#d8576b\"],[0.6666666666666666,\"#ed7953\"],[0.7777777777777778,\"#fb9f3a\"],[0.8888888888888888,\"#fdca26\"],[1.0,\"#f0f921\"]],\"diverging\":[[0,\"#8e0152\"],[0.1,\"#c51b7d\"],[0.2,\"#de77ae\"],[0.3,\"#f1b6da\"],[0.4,\"#fde0ef\"],[0.5,\"#f7f7f7\"],[0.6,\"#e6f5d0\"],[0.7,\"#b8e186\"],[0.8,\"#7fbc41\"],[0.9,\"#4d9221\"],[1,\"#276419\"]]},\"xaxis\":{\"gridcolor\":\"white\",\"linecolor\":\"white\",\"ticks\":\"\",\"title\":{\"standoff\":15},\"zerolinecolor\":\"white\",\"automargin\":true,\"zerolinewidth\":2},\"yaxis\":{\"gridcolor\":\"white\",\"linecolor\":\"white\",\"ticks\":\"\",\"title\":{\"standoff\":15},\"zerolinecolor\":\"white\",\"automargin\":true,\"zerolinewidth\":2},\"scene\":{\"xaxis\":{\"backgroundcolor\":\"#E5ECF6\",\"gridcolor\":\"white\",\"linecolor\":\"white\",\"showbackground\":true,\"ticks\":\"\",\"zerolinecolor\":\"white\",\"gridwidth\":2},\"yaxis\":{\"backgroundcolor\":\"#E5ECF6\",\"gridcolor\":\"white\",\"linecolor\":\"white\",\"showbackground\":true,\"ticks\":\"\",\"zerolinecolor\":\"white\",\"gridwidth\":2},\"zaxis\":{\"backgroundcolor\":\"#E5ECF6\",\"gridcolor\":\"white\",\"linecolor\":\"white\",\"showbackground\":true,\"ticks\":\"\",\"zerolinecolor\":\"white\",\"gridwidth\":2}},\"shapedefaults\":{\"line\":{\"color\":\"#2a3f5f\"}},\"annotationdefaults\":{\"arrowcolor\":\"#2a3f5f\",\"arrowhead\":0,\"arrowwidth\":1},\"geo\":{\"bgcolor\":\"white\",\"landcolor\":\"#E5ECF6\",\"subunitcolor\":\"white\",\"showland\":true,\"showlakes\":true,\"lakecolor\":\"white\"},\"title\":{\"x\":0.05},\"mapbox\":{\"style\":\"light\"}}},\"xaxis\":{\"domain\":[0,0.3]},\"xaxis2\":{\"domain\":[0.35,0.65]},\"xaxis3\":{\"domain\":[0.7,1]},\"title\":{\"text\":\"Boxplots da F1-score Balanceada dos Classificadores ETC\"},\"yaxis\":{\"title\":{\"text\":\"F1-score Balanceada\"}}},                        {\"responsive\": true}                    ).then(function(){\n",
              "                            \n",
              "var gd = document.getElementById('9206ee63-dec4-4a87-b422-ae43c0d14c7e');\n",
              "var x = new MutationObserver(function (mutations, observer) {{\n",
              "        var display = window.getComputedStyle(gd).display;\n",
              "        if (!display || display === 'none') {{\n",
              "            console.log([gd, 'removed!']);\n",
              "            Plotly.purge(gd);\n",
              "            observer.disconnect();\n",
              "        }}\n",
              "}});\n",
              "\n",
              "// Listen for the removal of the full notebook cells\n",
              "var notebookContainer = gd.closest('#notebook-container');\n",
              "if (notebookContainer) {{\n",
              "    x.observe(notebookContainer, {childList: true});\n",
              "}}\n",
              "\n",
              "// Listen for the clearing of the current output cell\n",
              "var outputEl = gd.closest('.output');\n",
              "if (outputEl) {{\n",
              "    x.observe(outputEl, {childList: true});\n",
              "}}\n",
              "\n",
              "                        })                };                            </script>        </div>\n",
              "</body>\n",
              "</html>"
            ]
          },
          "metadata": {},
          "output_type": "display_data"
        }
      ],
      "source": [
        "import plotly.express as px\n",
        "import plotly.graph_objects as go\n",
        "\n",
        "# Criar uma figura\n",
        "fig = go.Figure()\n",
        "\n",
        "# Adicionar cada boxplot à figura com diferentes posições X\n",
        "fig.add_trace(go.Box(x=modelos_df1['Nome'], y=modelos_df1['F1-score Balanceada'], name='ETC Real/Real sem modificações'))\n",
        "fig.add_trace(go.Box(x=modelos_df2['Nome'], y=modelos_df2['F1-score Balanceada'], name='ETC Sim/Sim sem modificações', xaxis='x2'))\n",
        "fig.add_trace(go.Box(x=modelos_df['Nome'], y=modelos_df['F1-score Balanceada'], name='ETC Sim/Real sem modificações', xaxis='x3'))\n",
        "\n",
        "# Atualizar layout\n",
        "fig.update_layout(\n",
        "    title='Boxplots da F1-score Balanceada dos Classificadores ETC',\n",
        "    xaxis=dict(domain=[0, 0.3]),\n",
        "    xaxis2=dict(domain=[0.35, 0.65]),\n",
        "    xaxis3=dict(domain=[0.7, 1]),\n",
        "    yaxis_title='F1-score Balanceada'\n",
        ")\n",
        "\n",
        "# Mostrar o gráfico\n",
        "fig.show()"
      ]
    },
    {
      "cell_type": "code",
      "execution_count": null,
      "metadata": {
        "id": "7acqCzfFatMp"
      },
      "outputs": [],
      "source": [
        "import plotly.express as px\n",
        "\n",
        "# Criar boxplot da acurácia por modelo\n",
        "# fig = px.box(modelos_df1, x='Nome', y='Acurácia Balanceada', points='all', title='Boxplot da Acurácia Balanceada do classificador ETC Real/Real sem as features modificadas')\n",
        "# fig.show()"
      ]
    },
    {
      "cell_type": "code",
      "execution_count": null,
      "metadata": {
        "id": "hA1TCtuLas_0"
      },
      "outputs": [],
      "source": [
        "# # Criar boxplot da acurácia por modelo\n",
        "# fig = px.box(modelos_df2, x='Nome', y='Acurácia Balanceada', points='all', title='Boxplot da Acurácia Balanceada do classificador ETC Sim/Sim sem as features modificadas')\n",
        "# fig.show()"
      ]
    },
    {
      "cell_type": "code",
      "execution_count": null,
      "metadata": {
        "id": "zOXeojntS1iL"
      },
      "outputs": [],
      "source": [
        "# # Criar boxplot da acurácia por modelo\n",
        "# fig = px.box(modelos_df, x='Nome', y='Acurácia Balanceada', points='all', title='Boxplot da Acurácia Balanceada do classificador ETC Sim/Real sem as features modificadas')\n",
        "# fig.show()"
      ]
    }
  ],
  "metadata": {
    "colab": {
      "collapsed_sections": [
        "NPR7AKXU3oGu"
      ],
      "provenance": []
    },
    "kernelspec": {
      "display_name": "Python 3",
      "name": "python3"
    },
    "language_info": {
      "codemirror_mode": {
        "name": "ipython",
        "version": 3
      },
      "file_extension": ".py",
      "mimetype": "text/x-python",
      "name": "python",
      "nbconvert_exporter": "python",
      "pygments_lexer": "ipython3",
      "version": "3.8.10"
    }
  },
  "nbformat": 4,
  "nbformat_minor": 0
}
