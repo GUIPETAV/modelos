{
 "cells": [
  {
   "cell_type": "code",
   "execution_count": 3,
   "metadata": {},
   "outputs": [],
   "source": [
    "import pandas as pd\n",
    "import os\n",
    "import numpy as np\n"
   ]
  },
  {
   "cell_type": "code",
   "execution_count": 4,
   "metadata": {},
   "outputs": [],
   "source": [
    "\n",
    "def read_csv_files(file_urls):\n",
    "    dfs = {}\n",
    "    for name, url in file_urls.items():\n",
    "        dfs[name] = pd.read_csv(url)\n",
    "    return dfs\n",
    "\n",
    "def get_all_unique_columns(dataframes):\n",
    "    all_columns = set()\n",
    "    for df in dataframes.values():\n",
    "        all_columns = all_columns.union(set(df.columns))\n",
    "    return all_columns\n",
    "\n",
    "def get_common_columns(dataframes):\n",
    "    common_columns = set(dataframes[next(iter(dataframes))].columns)\n",
    "    for df in dataframes.values():\n",
    "        common_columns = common_columns.intersection(set(df.columns))\n",
    "    return common_columns\n",
    "\n",
    "def compare_columns(dataframes, all_columns, common_columns):\n",
    "    comparison_results = {}\n",
    "    for name, df in dataframes.items():\n",
    "        unique_columns = set(df.columns)\n",
    "        missing_columns = all_columns - unique_columns\n",
    "        additional_columns = unique_columns - common_columns\n",
    "        comparison_results[name] = {\n",
    "            'missing': list(missing_columns),\n",
    "            'additional': list(additional_columns)\n",
    "        }\n",
    "    return comparison_results\n",
    "\n",
    "def save_to_csv(comparison_results, common_columns):\n",
    "    data = {'common_columns': list(common_columns)}\n",
    "    for name, result in comparison_results.items():\n",
    "        data[f\"{name}_missing\"] = result['missing']\n",
    "        data[f\"{name}_additional\"] = result['additional']\n",
    "    \n",
    "    max_len = max(len(v) for v in data.values())\n",
    "    \n",
    "    for key in data:\n",
    "        data[key] += [''] * (max_len - len(data[key]))\n",
    "        \n",
    "    df = pd.DataFrame(data)\n",
    "    df.to_csv('column_comparison.csv', index=False)\n",
    "\n",
    "file_urls = {\n",
    "    'df1': 'https://raw.githubusercontent.com/GUIPETAV/Base/main/df1.csv',\n",
    "    'df2': 'https://raw.githubusercontent.com/GUIPETAV/Base/main/df2.csv',\n",
    "    'df10': 'https://raw.githubusercontent.com/GUIPETAV/Base/main/df10.csv',\n",
    "    'df20': 'https://raw.githubusercontent.com/GUIPETAV/Base/main/df20.csv',\n",
    "    'df15': 'https://raw.githubusercontent.com/GUIPETAV/Base/main/df15.csv',\n",
    "    'dfbs': 'https://raw.githubusercontent.com/GUIPETAV/Base/main/dfbs.csv'\n",
    "}\n",
    "\n",
    "dataframes = read_csv_files(file_urls)\n",
    "all_unique_columns = get_all_unique_columns(dataframes)\n",
    "common_columns = get_common_columns(dataframes)\n",
    "comparison_results = compare_columns(dataframes, all_unique_columns, common_columns)\n",
    "save_to_csv(comparison_results, common_columns)"
   ]
  }
 ],
 "metadata": {
  "kernelspec": {
   "display_name": "Python 3",
   "language": "python",
   "name": "python3"
  },
  "language_info": {
   "codemirror_mode": {
    "name": "ipython",
    "version": 3
   },
   "file_extension": ".py",
   "mimetype": "text/x-python",
   "name": "python",
   "nbconvert_exporter": "python",
   "pygments_lexer": "ipython3",
   "version": "3.8.10"
  }
 },
 "nbformat": 4,
 "nbformat_minor": 2
}
