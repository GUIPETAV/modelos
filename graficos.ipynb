{
 "cells": [
  {
   "cell_type": "code",
   "execution_count": 1,
   "metadata": {},
   "outputs": [],
   "source": [
    "import pandas as pd\n",
    "import plotly.express as px\n"
   ]
  },
  {
   "cell_type": "code",
   "execution_count": 5,
   "metadata": {},
   "outputs": [],
   "source": [
    "# modelo Real/Real \n",
    "\n",
    "df1 = pd.read_csv('https://raw.githubusercontent.com/GUIPETAV/modelos/main/modelos_real_real.csv')\n",
    "df2 = pd.read_csv('https://raw.githubusercontent.com/GUIPETAV/modelos/main/modelos_sim_sim.csv')\n",
    "df3 = pd.read_csv('https://raw.githubusercontent.com/GUIPETAV/modelos/main/modelos_sim_real.csv')\n",
    "df4 = pd.read_csv('https://raw.githubusercontent.com/GUIPETAV/modelos/main/modelos_real_real_0.csv')\n",
    "df5 = pd.read_csv('https://raw.githubusercontent.com/GUIPETAV/modelos/main/modelos_sim_sim_0.csv')\n",
    "df6 = pd.read_csv('https://raw.githubusercontent.com/GUIPETAV/modelos/main/modelos_sim_real_0.csv')\n",
    "df7 = pd.read_csv('https://raw.githubusercontent.com/GUIPETAV/modelos/main/modelos_real_realt.csv')\n",
    "df8 = pd.read_csv('https://raw.githubusercontent.com/GUIPETAV/modelos/main/modelos_sim_simt.csv')\n",
    "df9 = pd.read_csv('https://raw.githubusercontent.com/GUIPETAV/modelos/main/modelos_sim_realt.csv')\n",
    "#df10 = pd.read_csv('https://raw.githubusercontent.com/GUIPETAV/modelos/main/modelos_real_realp.csv')\n",
    "#df11 = pd.read_csv('https://raw.githubusercontent.com/GUIPETAV/modelos/main/modelos_sim_simp.csv')\n",
    "#df12= pd.read_csv('https://raw.githubusercontent.com/GUIPETAV/modelos/main/modelos_sim_realp.csv')\n",
    "\n"
   ]
  },
  {
   "cell_type": "markdown",
   "metadata": {},
   "source": [
    "## Gráficos dados Reais"
   ]
  },
  {
   "cell_type": "code",
   "execution_count": 11,
   "metadata": {},
   "outputs": [
    {
     "data": {
      "application/vnd.plotly.v1+json": {
       "config": {
        "plotlyServerURL": "https://plot.ly"
       },
       "data": [
        {
         "alignmentgroup": "True",
         "boxpoints": "all",
         "hovertemplate": "Nome=%{x}<br>Acurácia Balanceada=%{y}<extra></extra>",
         "legendgroup": "",
         "marker": {
          "color": "rgb(141,211,199)"
         },
         "name": "",
         "notched": false,
         "offsetgroup": "",
         "orientation": "v",
         "showlegend": false,
         "type": "box",
         "x": [
          "logreg",
          "KNN",
          "GaussianNB",
          "Perceptron",
          "LinearSVC",
          "SGD",
          "Dtree",
          "RForest",
          "ADA",
          "GBC",
          "ETC",
          "logreg",
          "KNN",
          "GaussianNB",
          "Perceptron",
          "LinearSVC",
          "SGD",
          "Dtree",
          "RForest",
          "ADA",
          "GBC",
          "ETC",
          "logreg",
          "KNN",
          "GaussianNB",
          "Perceptron",
          "LinearSVC",
          "SGD",
          "Dtree",
          "RForest",
          "ADA",
          "GBC",
          "ETC",
          "logreg",
          "KNN",
          "GaussianNB",
          "Perceptron",
          "LinearSVC",
          "SGD",
          "Dtree",
          "RForest",
          "ADA",
          "GBC",
          "ETC",
          "logreg",
          "KNN",
          "GaussianNB",
          "Perceptron",
          "LinearSVC",
          "SGD",
          "Dtree",
          "RForest",
          "ADA",
          "GBC",
          "ETC",
          "logreg",
          "KNN",
          "GaussianNB",
          "Perceptron",
          "LinearSVC",
          "SGD",
          "Dtree",
          "RForest",
          "ADA",
          "GBC",
          "ETC",
          "logreg",
          "KNN",
          "GaussianNB",
          "Perceptron",
          "LinearSVC",
          "SGD",
          "Dtree",
          "RForest",
          "ADA",
          "GBC",
          "ETC",
          "logreg",
          "KNN",
          "GaussianNB",
          "Perceptron",
          "LinearSVC",
          "SGD",
          "Dtree",
          "RForest",
          "ADA",
          "GBC",
          "ETC",
          "logreg",
          "KNN",
          "GaussianNB",
          "Perceptron",
          "LinearSVC",
          "SGD",
          "Dtree",
          "RForest",
          "ADA",
          "GBC",
          "ETC",
          "logreg",
          "KNN",
          "GaussianNB",
          "Perceptron",
          "LinearSVC",
          "SGD",
          "Dtree",
          "RForest",
          "ADA",
          "GBC",
          "ETC",
          "logreg",
          "KNN",
          "GaussianNB",
          "Perceptron",
          "LinearSVC",
          "SGD",
          "Dtree",
          "RForest",
          "ADA",
          "GBC",
          "ETC",
          "logreg",
          "KNN",
          "GaussianNB",
          "Perceptron",
          "LinearSVC",
          "SGD",
          "Dtree",
          "RForest",
          "ADA",
          "GBC",
          "ETC",
          "logreg",
          "KNN",
          "GaussianNB",
          "Perceptron",
          "LinearSVC",
          "SGD",
          "Dtree",
          "RForest",
          "ADA",
          "GBC",
          "ETC",
          "logreg",
          "KNN",
          "GaussianNB",
          "Perceptron",
          "LinearSVC",
          "SGD",
          "Dtree",
          "RForest",
          "ADA",
          "GBC",
          "ETC",
          "logreg",
          "KNN",
          "GaussianNB",
          "Perceptron",
          "LinearSVC",
          "SGD",
          "Dtree",
          "RForest",
          "ADA",
          "GBC",
          "ETC",
          "logreg",
          "KNN",
          "GaussianNB",
          "Perceptron",
          "LinearSVC",
          "SGD",
          "Dtree",
          "RForest",
          "ADA",
          "GBC",
          "ETC",
          "logreg",
          "KNN",
          "GaussianNB",
          "Perceptron",
          "LinearSVC",
          "SGD",
          "Dtree",
          "RForest",
          "ADA",
          "GBC",
          "ETC",
          "logreg",
          "KNN",
          "GaussianNB",
          "Perceptron",
          "LinearSVC",
          "SGD",
          "Dtree",
          "RForest",
          "ADA",
          "GBC",
          "ETC",
          "logreg",
          "KNN",
          "GaussianNB",
          "Perceptron",
          "LinearSVC",
          "SGD",
          "Dtree",
          "RForest",
          "ADA",
          "GBC",
          "ETC",
          "logreg",
          "KNN",
          "GaussianNB",
          "Perceptron",
          "LinearSVC",
          "SGD",
          "Dtree",
          "RForest",
          "ADA",
          "GBC",
          "ETC",
          "logreg",
          "KNN",
          "GaussianNB",
          "Perceptron",
          "LinearSVC",
          "SGD",
          "Dtree",
          "RForest",
          "ADA",
          "GBC",
          "ETC",
          "logreg",
          "KNN",
          "GaussianNB",
          "Perceptron",
          "LinearSVC",
          "SGD",
          "Dtree",
          "RForest",
          "ADA",
          "GBC",
          "ETC",
          "logreg",
          "KNN",
          "GaussianNB",
          "Perceptron",
          "LinearSVC",
          "SGD",
          "Dtree",
          "RForest",
          "ADA",
          "GBC",
          "ETC",
          "logreg",
          "KNN",
          "GaussianNB",
          "Perceptron",
          "LinearSVC",
          "SGD",
          "Dtree",
          "RForest",
          "ADA",
          "GBC",
          "ETC",
          "logreg",
          "KNN",
          "GaussianNB",
          "Perceptron",
          "LinearSVC",
          "SGD",
          "Dtree",
          "RForest",
          "ADA",
          "GBC",
          "ETC"
         ],
         "x0": " ",
         "xaxis": "x",
         "y": [
          0.5120221687561974,
          0.6388199211333431,
          0.5916715990355618,
          0.5400610845062122,
          0.5068963485096559,
          0.5311162014866289,
          0.6155814173962729,
          0.6337145990432486,
          0.5657375877257039,
          0.6064930472815601,
          0.6625247579295837,
          0.6327396554772355,
          0.7387804621821825,
          0.6270475736588441,
          0.5367326963531217,
          0.607342439639335,
          0.6358822790875246,
          0.6975279223324853,
          0.6785645653494039,
          0.672728996435883,
          0.6473727769108766,
          0.7016326781610078,
          0.6281660043199865,
          0.722097525103836,
          0.6556066301287028,
          0.7003886962916273,
          0.6010687226317584,
          0.5911155865419353,
          0.6707803904386349,
          0.6830626295547544,
          0.6369750870531081,
          0.6645707301699553,
          0.6836852610568337,
          0.6150228426330907,
          0.7007461328946728,
          0.6384394241042946,
          0.6634189900045865,
          0.5761762738963664,
          0.5864535370850084,
          0.6624888861558014,
          0.6679016805926017,
          0.6522282777192726,
          0.6585558023875228,
          0.6766979519779439,
          0.6050389593085972,
          0.7080998465200536,
          0.6678594031449296,
          0.5864266332546716,
          0.5533656691751285,
          0.5846996635740073,
          0.6762841454446691,
          0.6713492142800407,
          0.6231516427991257,
          0.6622608441653279,
          0.673727000427899,
          0.6382818445266079,
          0.8058299319204979,
          0.6464465164664253,
          0.6379244079235624,
          0.6218769136950746,
          0.663971159093879,
          0.7857763292413888,
          0.91049864327827,
          0.8258515062301583,
          0.8380415036422662,
          0.8977026691161965,
          0.7849038764576111,
          0.887152524219853,
          0.7445045723700225,
          0.8322699914676424,
          0.7275782196838672,
          0.8262127862375378,
          0.88292349831787,
          0.9882122789081658,
          0.9518613607188704,
          0.974027554646804,
          0.953799717637895,
          0.8160802912788031,
          0.896757191650076,
          0.738941885164203,
          0.7138995436597921,
          0.7267313895956482,
          0.6606607068276796,
          0.9355909490390208,
          0.9828520109972608,
          0.9413560555397548,
          0.9613994091406404,
          0.9375203380145998,
          0.7684131095959557,
          0.8996256524178856,
          0.7131757025102554,
          0.6734349016985285,
          0.6793973029550655,
          0.6834956531096984,
          0.7907112604060171,
          0.9870605387427968,
          0.9559481806605018,
          0.9541264070062698,
          0.9170644590152172,
          0.7593503621768016,
          0.8875304589793456,
          0.7890957494510338,
          0.6540872042820649,
          0.648860174388066,
          0.6416345742404792,
          0.9484522610747697,
          0.9889668672923728,
          0.9611290897024948,
          0.969735753140702,
          0.934959349593496,
          0.6514775327393993,
          0.7727945905365137,
          0.3944498679150043,
          0.4976542422215901,
          0.6499427332754261,
          0.682746189264603,
          0.7974961501899923,
          0.867423048639563,
          0.8612928187271158,
          0.8232713007873854,
          0.901784364518716,
          0.7453680572103547,
          0.8248483776990307,
          0.4305240609922645,
          0.7204487046446261,
          0.7452719721020091,
          0.7636280712003465,
          0.8765562584715036,
          0.9303344530451292,
          0.9459450803143392,
          0.9249460001691098,
          0.9368234006954,
          0.7626006011084379,
          0.8418785023021992,
          0.3882427699158807,
          0.7090760712208446,
          0.7640726249682919,
          0.7840391104825011,
          0.9218149067718222,
          0.9436364754444896,
          0.9722429339011324,
          0.9313734533500392,
          0.9423245934318782,
          0.7734774353731562,
          0.8453260359896382,
          0.4136797009318974,
          0.8597938910369249,
          0.7653588842853445,
          0.7602689358125854,
          0.906817943061246,
          0.9443923449634748,
          0.974071113229254,
          0.9450675029914496,
          0.955011671137827,
          0.762009997975807,
          0.8466174198458026,
          0.3885348686452512,
          0.8165696847639765,
          0.7602791848908088,
          0.7612361925699307,
          0.9272943202170756,
          0.9432303557198825,
          0.9750601492778244,
          0.9390922903871332,
          0.9159178433889602,
          0.7424201660863126,
          0.8600142462187308,
          0.7368459486674916,
          0.7674830057471707,
          0.7602740603516971,
          0.7222538235467448,
          0.8238593416504603,
          0.8771724842996933,
          0.7537915183753161,
          0.7774105191414347,
          0.883596094076289,
          0.8116872801252437,
          0.9286382305991354,
          0.6889955647113988,
          0.7539209129878881,
          0.8106534043594454,
          0.8269289405784068,
          0.902651692763382,
          0.9399288713971288,
          0.8377519671824515,
          0.9126342949530976,
          0.8992848705669534,
          0.8222527986389224,
          0.9489262809426078,
          0.8269840293738582,
          0.8306557616474368,
          0.8046922842376864,
          0.8271544202993244,
          0.9277721834892474,
          0.9578788507708588,
          0.8906794882635243,
          0.9384581286720526,
          0.9527837777589878,
          0.8244858165568734,
          0.94285242096039,
          0.8153436387814871,
          0.8125815122002464,
          0.8076978264267357,
          0.8207923049920698,
          0.8997153318523415,
          0.950786488640178,
          0.9281309012270708,
          0.9275287678814388,
          0.9312389341983556,
          0.8311400305934984,
          0.9486956766825784,
          0.8263626790065568,
          0.8727487259114632,
          0.8018340725481001,
          0.8323558274977644,
          0.9305381534748218,
          0.9527850588937656,
          0.8899056828576479,
          0.9415187596565532,
          0.9353629070485472,
          0.4800527315074601,
          0.6025548389741697,
          0.4898188219197036,
          0.4815824064323215,
          0.4695358961153431,
          0.4783859751613589,
          0.5404415815352607,
          0.563762077898119,
          0.5690787872265738,
          0.5599045810817389,
          0.5851250003202837,
          0.4976632101650358,
          0.6349432072952939,
          0.4466599535204302,
          0.480356360449832,
          0.4979296861988475,
          0.5021279648661598,
          0.6056859323714574,
          0.6238511423878814,
          0.6446439598338625,
          0.6265978953517868,
          0.5889824971366637,
          0.47866526254295,
          0.6328062744856885,
          0.4701713389652018,
          0.4576290294891603,
          0.4754521765198742,
          0.4915124820961414,
          0.614624409717151,
          0.5771115022842632,
          0.6205330033130145,
          0.562743575749656,
          0.5845228669746514,
          0.497354456683552,
          0.6297712661967464,
          0.5009224170401174,
          0.476128615682627,
          0.498048831733196,
          0.5067323632580795,
          0.59864737790145,
          0.6112242780164959,
          0.6261059395970574,
          0.6027341978430815,
          0.5900368710589091,
          0.508975630254254,
          0.641726815944491,
          0.5133750470817031,
          0.5078354203018866,
          0.5041085992328564,
          0.5064133606983722,
          0.6347830654480513,
          0.5984167736414207,
          0.5994865211810013,
          0.5857937526743688,
          0.5798031664527171
         ],
         "y0": " ",
         "yaxis": "y"
        }
       ],
       "layout": {
        "boxmode": "group",
        "legend": {
         "tracegroupgap": 0
        },
        "template": {
         "data": {
          "bar": [
           {
            "error_x": {
             "color": "#2a3f5f"
            },
            "error_y": {
             "color": "#2a3f5f"
            },
            "marker": {
             "line": {
              "color": "#E5ECF6",
              "width": 0.5
             },
             "pattern": {
              "fillmode": "overlay",
              "size": 10,
              "solidity": 0.2
             }
            },
            "type": "bar"
           }
          ],
          "barpolar": [
           {
            "marker": {
             "line": {
              "color": "#E5ECF6",
              "width": 0.5
             },
             "pattern": {
              "fillmode": "overlay",
              "size": 10,
              "solidity": 0.2
             }
            },
            "type": "barpolar"
           }
          ],
          "carpet": [
           {
            "aaxis": {
             "endlinecolor": "#2a3f5f",
             "gridcolor": "white",
             "linecolor": "white",
             "minorgridcolor": "white",
             "startlinecolor": "#2a3f5f"
            },
            "baxis": {
             "endlinecolor": "#2a3f5f",
             "gridcolor": "white",
             "linecolor": "white",
             "minorgridcolor": "white",
             "startlinecolor": "#2a3f5f"
            },
            "type": "carpet"
           }
          ],
          "choropleth": [
           {
            "colorbar": {
             "outlinewidth": 0,
             "ticks": ""
            },
            "type": "choropleth"
           }
          ],
          "contour": [
           {
            "colorbar": {
             "outlinewidth": 0,
             "ticks": ""
            },
            "colorscale": [
             [
              0,
              "#0d0887"
             ],
             [
              0.1111111111111111,
              "#46039f"
             ],
             [
              0.2222222222222222,
              "#7201a8"
             ],
             [
              0.3333333333333333,
              "#9c179e"
             ],
             [
              0.4444444444444444,
              "#bd3786"
             ],
             [
              0.5555555555555556,
              "#d8576b"
             ],
             [
              0.6666666666666666,
              "#ed7953"
             ],
             [
              0.7777777777777778,
              "#fb9f3a"
             ],
             [
              0.8888888888888888,
              "#fdca26"
             ],
             [
              1,
              "#f0f921"
             ]
            ],
            "type": "contour"
           }
          ],
          "contourcarpet": [
           {
            "colorbar": {
             "outlinewidth": 0,
             "ticks": ""
            },
            "type": "contourcarpet"
           }
          ],
          "heatmap": [
           {
            "colorbar": {
             "outlinewidth": 0,
             "ticks": ""
            },
            "colorscale": [
             [
              0,
              "#0d0887"
             ],
             [
              0.1111111111111111,
              "#46039f"
             ],
             [
              0.2222222222222222,
              "#7201a8"
             ],
             [
              0.3333333333333333,
              "#9c179e"
             ],
             [
              0.4444444444444444,
              "#bd3786"
             ],
             [
              0.5555555555555556,
              "#d8576b"
             ],
             [
              0.6666666666666666,
              "#ed7953"
             ],
             [
              0.7777777777777778,
              "#fb9f3a"
             ],
             [
              0.8888888888888888,
              "#fdca26"
             ],
             [
              1,
              "#f0f921"
             ]
            ],
            "type": "heatmap"
           }
          ],
          "heatmapgl": [
           {
            "colorbar": {
             "outlinewidth": 0,
             "ticks": ""
            },
            "colorscale": [
             [
              0,
              "#0d0887"
             ],
             [
              0.1111111111111111,
              "#46039f"
             ],
             [
              0.2222222222222222,
              "#7201a8"
             ],
             [
              0.3333333333333333,
              "#9c179e"
             ],
             [
              0.4444444444444444,
              "#bd3786"
             ],
             [
              0.5555555555555556,
              "#d8576b"
             ],
             [
              0.6666666666666666,
              "#ed7953"
             ],
             [
              0.7777777777777778,
              "#fb9f3a"
             ],
             [
              0.8888888888888888,
              "#fdca26"
             ],
             [
              1,
              "#f0f921"
             ]
            ],
            "type": "heatmapgl"
           }
          ],
          "histogram": [
           {
            "marker": {
             "pattern": {
              "fillmode": "overlay",
              "size": 10,
              "solidity": 0.2
             }
            },
            "type": "histogram"
           }
          ],
          "histogram2d": [
           {
            "colorbar": {
             "outlinewidth": 0,
             "ticks": ""
            },
            "colorscale": [
             [
              0,
              "#0d0887"
             ],
             [
              0.1111111111111111,
              "#46039f"
             ],
             [
              0.2222222222222222,
              "#7201a8"
             ],
             [
              0.3333333333333333,
              "#9c179e"
             ],
             [
              0.4444444444444444,
              "#bd3786"
             ],
             [
              0.5555555555555556,
              "#d8576b"
             ],
             [
              0.6666666666666666,
              "#ed7953"
             ],
             [
              0.7777777777777778,
              "#fb9f3a"
             ],
             [
              0.8888888888888888,
              "#fdca26"
             ],
             [
              1,
              "#f0f921"
             ]
            ],
            "type": "histogram2d"
           }
          ],
          "histogram2dcontour": [
           {
            "colorbar": {
             "outlinewidth": 0,
             "ticks": ""
            },
            "colorscale": [
             [
              0,
              "#0d0887"
             ],
             [
              0.1111111111111111,
              "#46039f"
             ],
             [
              0.2222222222222222,
              "#7201a8"
             ],
             [
              0.3333333333333333,
              "#9c179e"
             ],
             [
              0.4444444444444444,
              "#bd3786"
             ],
             [
              0.5555555555555556,
              "#d8576b"
             ],
             [
              0.6666666666666666,
              "#ed7953"
             ],
             [
              0.7777777777777778,
              "#fb9f3a"
             ],
             [
              0.8888888888888888,
              "#fdca26"
             ],
             [
              1,
              "#f0f921"
             ]
            ],
            "type": "histogram2dcontour"
           }
          ],
          "mesh3d": [
           {
            "colorbar": {
             "outlinewidth": 0,
             "ticks": ""
            },
            "type": "mesh3d"
           }
          ],
          "parcoords": [
           {
            "line": {
             "colorbar": {
              "outlinewidth": 0,
              "ticks": ""
             }
            },
            "type": "parcoords"
           }
          ],
          "pie": [
           {
            "automargin": true,
            "type": "pie"
           }
          ],
          "scatter": [
           {
            "fillpattern": {
             "fillmode": "overlay",
             "size": 10,
             "solidity": 0.2
            },
            "type": "scatter"
           }
          ],
          "scatter3d": [
           {
            "line": {
             "colorbar": {
              "outlinewidth": 0,
              "ticks": ""
             }
            },
            "marker": {
             "colorbar": {
              "outlinewidth": 0,
              "ticks": ""
             }
            },
            "type": "scatter3d"
           }
          ],
          "scattercarpet": [
           {
            "marker": {
             "colorbar": {
              "outlinewidth": 0,
              "ticks": ""
             }
            },
            "type": "scattercarpet"
           }
          ],
          "scattergeo": [
           {
            "marker": {
             "colorbar": {
              "outlinewidth": 0,
              "ticks": ""
             }
            },
            "type": "scattergeo"
           }
          ],
          "scattergl": [
           {
            "marker": {
             "colorbar": {
              "outlinewidth": 0,
              "ticks": ""
             }
            },
            "type": "scattergl"
           }
          ],
          "scattermapbox": [
           {
            "marker": {
             "colorbar": {
              "outlinewidth": 0,
              "ticks": ""
             }
            },
            "type": "scattermapbox"
           }
          ],
          "scatterpolar": [
           {
            "marker": {
             "colorbar": {
              "outlinewidth": 0,
              "ticks": ""
             }
            },
            "type": "scatterpolar"
           }
          ],
          "scatterpolargl": [
           {
            "marker": {
             "colorbar": {
              "outlinewidth": 0,
              "ticks": ""
             }
            },
            "type": "scatterpolargl"
           }
          ],
          "scatterternary": [
           {
            "marker": {
             "colorbar": {
              "outlinewidth": 0,
              "ticks": ""
             }
            },
            "type": "scatterternary"
           }
          ],
          "surface": [
           {
            "colorbar": {
             "outlinewidth": 0,
             "ticks": ""
            },
            "colorscale": [
             [
              0,
              "#0d0887"
             ],
             [
              0.1111111111111111,
              "#46039f"
             ],
             [
              0.2222222222222222,
              "#7201a8"
             ],
             [
              0.3333333333333333,
              "#9c179e"
             ],
             [
              0.4444444444444444,
              "#bd3786"
             ],
             [
              0.5555555555555556,
              "#d8576b"
             ],
             [
              0.6666666666666666,
              "#ed7953"
             ],
             [
              0.7777777777777778,
              "#fb9f3a"
             ],
             [
              0.8888888888888888,
              "#fdca26"
             ],
             [
              1,
              "#f0f921"
             ]
            ],
            "type": "surface"
           }
          ],
          "table": [
           {
            "cells": {
             "fill": {
              "color": "#EBF0F8"
             },
             "line": {
              "color": "white"
             }
            },
            "header": {
             "fill": {
              "color": "#C8D4E3"
             },
             "line": {
              "color": "white"
             }
            },
            "type": "table"
           }
          ]
         },
         "layout": {
          "annotationdefaults": {
           "arrowcolor": "#2a3f5f",
           "arrowhead": 0,
           "arrowwidth": 1
          },
          "autotypenumbers": "strict",
          "coloraxis": {
           "colorbar": {
            "outlinewidth": 0,
            "ticks": ""
           }
          },
          "colorscale": {
           "diverging": [
            [
             0,
             "#8e0152"
            ],
            [
             0.1,
             "#c51b7d"
            ],
            [
             0.2,
             "#de77ae"
            ],
            [
             0.3,
             "#f1b6da"
            ],
            [
             0.4,
             "#fde0ef"
            ],
            [
             0.5,
             "#f7f7f7"
            ],
            [
             0.6,
             "#e6f5d0"
            ],
            [
             0.7,
             "#b8e186"
            ],
            [
             0.8,
             "#7fbc41"
            ],
            [
             0.9,
             "#4d9221"
            ],
            [
             1,
             "#276419"
            ]
           ],
           "sequential": [
            [
             0,
             "#0d0887"
            ],
            [
             0.1111111111111111,
             "#46039f"
            ],
            [
             0.2222222222222222,
             "#7201a8"
            ],
            [
             0.3333333333333333,
             "#9c179e"
            ],
            [
             0.4444444444444444,
             "#bd3786"
            ],
            [
             0.5555555555555556,
             "#d8576b"
            ],
            [
             0.6666666666666666,
             "#ed7953"
            ],
            [
             0.7777777777777778,
             "#fb9f3a"
            ],
            [
             0.8888888888888888,
             "#fdca26"
            ],
            [
             1,
             "#f0f921"
            ]
           ],
           "sequentialminus": [
            [
             0,
             "#0d0887"
            ],
            [
             0.1111111111111111,
             "#46039f"
            ],
            [
             0.2222222222222222,
             "#7201a8"
            ],
            [
             0.3333333333333333,
             "#9c179e"
            ],
            [
             0.4444444444444444,
             "#bd3786"
            ],
            [
             0.5555555555555556,
             "#d8576b"
            ],
            [
             0.6666666666666666,
             "#ed7953"
            ],
            [
             0.7777777777777778,
             "#fb9f3a"
            ],
            [
             0.8888888888888888,
             "#fdca26"
            ],
            [
             1,
             "#f0f921"
            ]
           ]
          },
          "colorway": [
           "#636efa",
           "#EF553B",
           "#00cc96",
           "#ab63fa",
           "#FFA15A",
           "#19d3f3",
           "#FF6692",
           "#B6E880",
           "#FF97FF",
           "#FECB52"
          ],
          "font": {
           "color": "#2a3f5f"
          },
          "geo": {
           "bgcolor": "white",
           "lakecolor": "white",
           "landcolor": "#E5ECF6",
           "showlakes": true,
           "showland": true,
           "subunitcolor": "white"
          },
          "hoverlabel": {
           "align": "left"
          },
          "hovermode": "closest",
          "mapbox": {
           "style": "light"
          },
          "paper_bgcolor": "white",
          "plot_bgcolor": "#E5ECF6",
          "polar": {
           "angularaxis": {
            "gridcolor": "white",
            "linecolor": "white",
            "ticks": ""
           },
           "bgcolor": "#E5ECF6",
           "radialaxis": {
            "gridcolor": "white",
            "linecolor": "white",
            "ticks": ""
           }
          },
          "scene": {
           "xaxis": {
            "backgroundcolor": "#E5ECF6",
            "gridcolor": "white",
            "gridwidth": 2,
            "linecolor": "white",
            "showbackground": true,
            "ticks": "",
            "zerolinecolor": "white"
           },
           "yaxis": {
            "backgroundcolor": "#E5ECF6",
            "gridcolor": "white",
            "gridwidth": 2,
            "linecolor": "white",
            "showbackground": true,
            "ticks": "",
            "zerolinecolor": "white"
           },
           "zaxis": {
            "backgroundcolor": "#E5ECF6",
            "gridcolor": "white",
            "gridwidth": 2,
            "linecolor": "white",
            "showbackground": true,
            "ticks": "",
            "zerolinecolor": "white"
           }
          },
          "shapedefaults": {
           "line": {
            "color": "#2a3f5f"
           }
          },
          "ternary": {
           "aaxis": {
            "gridcolor": "white",
            "linecolor": "white",
            "ticks": ""
           },
           "baxis": {
            "gridcolor": "white",
            "linecolor": "white",
            "ticks": ""
           },
           "bgcolor": "#E5ECF6",
           "caxis": {
            "gridcolor": "white",
            "linecolor": "white",
            "ticks": ""
           }
          },
          "title": {
           "x": 0.05
          },
          "xaxis": {
           "automargin": true,
           "gridcolor": "white",
           "linecolor": "white",
           "ticks": "",
           "title": {
            "standoff": 15
           },
           "zerolinecolor": "white",
           "zerolinewidth": 2
          },
          "yaxis": {
           "automargin": true,
           "gridcolor": "white",
           "linecolor": "white",
           "ticks": "",
           "title": {
            "standoff": 15
           },
           "zerolinecolor": "white",
           "zerolinewidth": 2
          }
         }
        },
        "title": {
         "text": "Boxplot da Acurácia Balanceada do classificador Real 0"
        },
        "xaxis": {
         "anchor": "y",
         "domain": [
          0,
          1
         ],
         "title": {
          "text": "Nome"
         }
        },
        "yaxis": {
         "anchor": "x",
         "domain": [
          0,
          1
         ],
         "range": [
          0,
          1
         ],
         "title": {
          "text": "Acurácia Balanceada"
         }
        }
       }
      }
     },
     "metadata": {},
     "output_type": "display_data"
    },
    {
     "data": {
      "application/vnd.plotly.v1+json": {
       "config": {
        "plotlyServerURL": "https://plot.ly"
       },
       "data": [
        {
         "alignmentgroup": "True",
         "boxpoints": "all",
         "hovertemplate": "Nome=%{x}<br>Acurácia Balanceada=%{y}<extra></extra>",
         "legendgroup": "",
         "marker": {
          "color": "rgb(228,26,28)"
         },
         "name": "",
         "notched": false,
         "offsetgroup": "",
         "orientation": "v",
         "showlegend": false,
         "type": "box",
         "x": [
          "logreg",
          "KNN",
          "GaussianNB",
          "Perceptron",
          "LinearSVC",
          "SGD",
          "Dtree",
          "RForest",
          "ADA",
          "GBC",
          "ETC",
          "logreg",
          "KNN",
          "GaussianNB",
          "Perceptron",
          "LinearSVC",
          "SGD",
          "Dtree",
          "RForest",
          "ADA",
          "GBC",
          "ETC",
          "logreg",
          "KNN",
          "GaussianNB",
          "Perceptron",
          "LinearSVC",
          "SGD",
          "Dtree",
          "RForest",
          "ADA",
          "GBC",
          "ETC",
          "logreg",
          "KNN",
          "GaussianNB",
          "Perceptron",
          "LinearSVC",
          "SGD",
          "Dtree",
          "RForest",
          "ADA",
          "GBC",
          "ETC",
          "logreg",
          "KNN",
          "GaussianNB",
          "Perceptron",
          "LinearSVC",
          "SGD",
          "Dtree",
          "RForest",
          "ADA",
          "GBC",
          "ETC",
          "logreg",
          "KNN",
          "GaussianNB",
          "Perceptron",
          "LinearSVC",
          "SGD",
          "Dtree",
          "RForest",
          "ADA",
          "GBC",
          "ETC",
          "logreg",
          "KNN",
          "GaussianNB",
          "Perceptron",
          "LinearSVC",
          "SGD",
          "Dtree",
          "RForest",
          "ADA",
          "GBC",
          "ETC",
          "logreg",
          "KNN",
          "GaussianNB",
          "Perceptron",
          "LinearSVC",
          "SGD",
          "Dtree",
          "RForest",
          "ADA",
          "GBC",
          "ETC",
          "logreg",
          "KNN",
          "GaussianNB",
          "Perceptron",
          "LinearSVC",
          "SGD",
          "Dtree",
          "RForest",
          "ADA",
          "GBC",
          "ETC",
          "logreg",
          "KNN",
          "GaussianNB",
          "Perceptron",
          "LinearSVC",
          "SGD",
          "Dtree",
          "RForest",
          "ADA",
          "GBC",
          "ETC",
          "logreg",
          "KNN",
          "GaussianNB",
          "Perceptron",
          "LinearSVC",
          "SGD",
          "Dtree",
          "RForest",
          "ADA",
          "GBC",
          "ETC",
          "logreg",
          "KNN",
          "GaussianNB",
          "Perceptron",
          "LinearSVC",
          "SGD",
          "Dtree",
          "RForest",
          "ADA",
          "GBC",
          "ETC",
          "logreg",
          "KNN",
          "GaussianNB",
          "Perceptron",
          "LinearSVC",
          "SGD",
          "Dtree",
          "RForest",
          "ADA",
          "GBC",
          "ETC",
          "logreg",
          "KNN",
          "GaussianNB",
          "Perceptron",
          "LinearSVC",
          "SGD",
          "Dtree",
          "RForest",
          "ADA",
          "GBC",
          "ETC",
          "logreg",
          "KNN",
          "GaussianNB",
          "Perceptron",
          "LinearSVC",
          "SGD",
          "Dtree",
          "RForest",
          "ADA",
          "GBC",
          "ETC",
          "logreg",
          "KNN",
          "GaussianNB",
          "Perceptron",
          "LinearSVC",
          "SGD",
          "Dtree",
          "RForest",
          "ADA",
          "GBC",
          "ETC",
          "logreg",
          "KNN",
          "GaussianNB",
          "Perceptron",
          "LinearSVC",
          "SGD",
          "Dtree",
          "RForest",
          "ADA",
          "GBC",
          "ETC",
          "logreg",
          "KNN",
          "GaussianNB",
          "Perceptron",
          "LinearSVC",
          "SGD",
          "Dtree",
          "RForest",
          "ADA",
          "GBC",
          "ETC",
          "logreg",
          "KNN",
          "GaussianNB",
          "Perceptron",
          "LinearSVC",
          "SGD",
          "Dtree",
          "RForest",
          "ADA",
          "GBC",
          "ETC",
          "logreg",
          "KNN",
          "GaussianNB",
          "Perceptron",
          "LinearSVC",
          "SGD",
          "Dtree",
          "RForest",
          "ADA",
          "GBC",
          "ETC",
          "logreg",
          "KNN",
          "GaussianNB",
          "Perceptron",
          "LinearSVC",
          "SGD",
          "Dtree",
          "RForest",
          "ADA",
          "GBC",
          "ETC",
          "logreg",
          "KNN",
          "GaussianNB",
          "Perceptron",
          "LinearSVC",
          "SGD",
          "Dtree",
          "RForest",
          "ADA",
          "GBC",
          "ETC",
          "logreg",
          "KNN",
          "GaussianNB",
          "Perceptron",
          "LinearSVC",
          "SGD",
          "Dtree",
          "RForest",
          "ADA",
          "GBC",
          "ETC",
          "logreg",
          "KNN",
          "GaussianNB",
          "Perceptron",
          "LinearSVC",
          "SGD",
          "Dtree",
          "RForest",
          "ADA",
          "GBC",
          "ETC",
          "logreg",
          "KNN",
          "GaussianNB",
          "Perceptron",
          "LinearSVC",
          "SGD",
          "Dtree",
          "RForest",
          "ADA",
          "GBC",
          "ETC"
         ],
         "x0": " ",
         "xaxis": "x",
         "y": [
          0.5769180509327942,
          0.5879537459099773,
          0.6551838556519823,
          0.5319450956879566,
          0.5337194673554048,
          0.531676057384589,
          0.5944426935602479,
          0.5736345024969317,
          0.5352683593019353,
          0.5264336538732548,
          0.6067223704068115,
          0.5682460496209122,
          0.6443582667783816,
          0.5679270470612049,
          0.49566335877667,
          0.5442004309737393,
          0.5155811611693173,
          0.6266299237212354,
          0.6577858403859803,
          0.5809741236397552,
          0.609508838548833,
          0.6935922762946508,
          0.5494274608677382,
          0.6391376425582724,
          0.6294958222194891,
          0.5418892638343339,
          0.5171825796417435,
          0.5340807473627841,
          0.6264902800304398,
          0.6373645520256022,
          0.5638581630064645,
          0.5942441176696671,
          0.6293215878896892,
          0.5339282923242091,
          0.6290820156862142,
          0.6241240240955829,
          0.5120734141473151,
          0.5090678719582657,
          0.4996592181490677,
          0.6217885153953966,
          0.6288642227739643,
          0.5719690272856085,
          0.5745415459197138,
          0.6157454026478494,
          0.539501228608252,
          0.6288795963912995,
          0.6557168077196057,
          0.5207236361679721,
          0.5081288001660351,
          0.503729383338586,
          0.6283773915583467,
          0.6240612484914638,
          0.553397697544577,
          0.5735012644800258,
          0.6129166570581558,
          0.7133204707401628,
          0.6048403834180163,
          0.8033855267641867,
          0.602725229899636,
          0.6461031723459372,
          0.7204435801055142,
          0.6508856484719905,
          0.6850266091693378,
          0.6649499460642259,
          0.6526164615569887,
          0.6327985876770208,
          0.7408559005224468,
          0.7443469927923357,
          0.7244215035910208,
          0.745143858624215,
          0.6871289513399388,
          0.6306578114630815,
          0.7631617381411759,
          0.7934016434396931,
          0.7333625432062704,
          0.7544141498773954,
          0.7693521813881864,
          0.7203987403882863,
          0.7290105283656051,
          0.792057733057633,
          0.8057774053946023,
          0.6042318443984944,
          0.6133343069957645,
          0.7406381076101969,
          0.7471437100125807,
          0.7094168530717768,
          0.7041949477168897,
          0.7009024313375816,
          0.7083714470929771,
          0.7088454669608152,
          0.7715403595889094,
          0.6183012665298415,
          0.6222087276025612,
          0.6282236553849938,
          0.7217900527571302,
          0.7570199780157272,
          0.7307925868417209,
          0.6742368920695194,
          0.7031777267032047,
          0.712751646898757,
          0.7094847532150077,
          0.7730072589096518,
          0.6195439672644442,
          0.5848495563430264,
          0.5495876027149809,
          0.7492024936007318,
          0.730919419184737,
          0.6408761424519382,
          0.7081677466632844,
          0.6807873341891314,
          0.5198499022494164,
          0.6491548353869924,
          0.3823277706461275,
          0.7681953166837057,
          0.4958299062978023,
          0.6525741841093167,
          0.7019439939120475,
          0.7837687910443555,
          0.6994470622298408,
          0.7715083312194609,
          0.7027229238570356,
          0.5802515636249965,
          0.7220642155996095,
          0.4253636501067185,
          0.7220360306344948,
          0.5039253969596109,
          0.6772360285846792,
          0.7624788933045334,
          0.7807030355207428,
          0.7197978881774321,
          0.7463942461674853,
          0.7328769931254308,
          0.5906185062480943,
          0.7523925191978047,
          0.3825468446931554,
          0.5051578486159901,
          0.5066529329018471,
          0.7063049766961584,
          0.8167669795197794,
          0.8252878069278644,
          0.7064189976913952,
          0.7721309627215402,
          0.7326041114177293,
          0.6186920126371135,
          0.7744856884433956,
          0.4117567176302081,
          0.665207454154592,
          0.5123744808201313,
          0.7237937475498297,
          0.8235454636298648,
          0.8256593360134673,
          0.7144055918970788,
          0.7573761334839948,
          0.7648156831394977,
          0.6056782455627897,
          0.7601228864479002,
          0.3823277706461275,
          0.6386636226904343,
          0.5090281567801496,
          0.5,
          0.8097912006538912,
          0.8148849925309842,
          0.7352611849471788,
          0.7638868604254905,
          0.7411210954214805,
          0.6296751810884009,
          0.7759807727292527,
          0.5597662185257214,
          0.7149026721909199,
          0.5924261874197689,
          0.5640605823013792,
          0.7524809174974826,
          0.7981636214092995,
          0.7711188662469669,
          0.7623200325920687,
          0.7894762464800822,
          0.6297763907358582,
          0.8616425685214937,
          0.4433584691976765,
          0.701264992479739,
          0.5452637728394303,
          0.7461508305596765,
          0.7940486165025533,
          0.8366963121254283,
          0.8269045990176258,
          0.8520033104522662,
          0.8179071894721468,
          0.6252155509263886,
          0.8877841236653778,
          0.5283041106490485,
          0.556911850240469,
          0.5197051340195091,
          0.4997322428314103,
          0.877633692819752,
          0.8817128259527158,
          0.8579503380914679,
          0.8768457949313183,
          0.8543413814220083,
          0.6326281967515547,
          0.8895021254025965,
          0.5380548274439567,
          0.7853907076732287,
          0.5240545865906184,
          0.5132648694908002,
          0.8552868588881288,
          0.874142600549863,
          0.8505991867356429,
          0.8754032371713569,
          0.8493974823139344,
          0.6108194394266665,
          0.8898928715098686,
          0.553876841951527,
          0.6820338783280678,
          0.5112368331373197,
          0.5,
          0.8771250823129095,
          0.8854639885825268,
          0.8444792059014192,
          0.8625906082571698,
          0.8504006108450621,
          0.5276571375861884,
          0.6470909272597296,
          0.4930985269512323,
          0.6330407221500516,
          0.5035884585130125,
          0.5245619159626831,
          0.6378757248020006,
          0.6717207433656436,
          0.6433999779644818,
          0.6672508641254077,
          0.6748198083934827,
          0.4800706673943512,
          0.6202780574922043,
          0.3782050789307137,
          0.4793288903579234,
          0.4813851116765186,
          0.4976439931433667,
          0.5910015655466986,
          0.659329607793399,
          0.6240253767176814,
          0.6453562707703976,
          0.6278316281429439,
          0.4966434268817948,
          0.6375746581291846,
          0.4613046051670728,
          0.4982986530148944,
          0.4961604390705111,
          0.499565695310278,
          0.6373286802518199,
          0.6673200454034165,
          0.551534927577451,
          0.5845215858398735,
          0.64053279833145,
          0.5039561441942815,
          0.6397397759039046,
          0.4699906989615121,
          0.5538179097517417,
          0.5019780720971407,
          0.5040240443375124,
          0.6713171859105922,
          0.6730749028259271,
          0.5658311105644935,
          0.639601413347887,
          0.6439675206711096,
          0.5014886786119673,
          0.6423725078725733,
          0.4938672078179968,
          0.7248558082807428,
          0.5002446967425866,
          0.5021523064269408,
          0.6460775496503783,
          0.6754091303913354,
          0.5599801680336375,
          0.6246351968719813,
          0.6471729198855177
         ],
         "y0": " ",
         "yaxis": "y"
        }
       ],
       "layout": {
        "boxmode": "group",
        "legend": {
         "tracegroupgap": 0
        },
        "template": {
         "data": {
          "bar": [
           {
            "error_x": {
             "color": "#2a3f5f"
            },
            "error_y": {
             "color": "#2a3f5f"
            },
            "marker": {
             "line": {
              "color": "#E5ECF6",
              "width": 0.5
             },
             "pattern": {
              "fillmode": "overlay",
              "size": 10,
              "solidity": 0.2
             }
            },
            "type": "bar"
           }
          ],
          "barpolar": [
           {
            "marker": {
             "line": {
              "color": "#E5ECF6",
              "width": 0.5
             },
             "pattern": {
              "fillmode": "overlay",
              "size": 10,
              "solidity": 0.2
             }
            },
            "type": "barpolar"
           }
          ],
          "carpet": [
           {
            "aaxis": {
             "endlinecolor": "#2a3f5f",
             "gridcolor": "white",
             "linecolor": "white",
             "minorgridcolor": "white",
             "startlinecolor": "#2a3f5f"
            },
            "baxis": {
             "endlinecolor": "#2a3f5f",
             "gridcolor": "white",
             "linecolor": "white",
             "minorgridcolor": "white",
             "startlinecolor": "#2a3f5f"
            },
            "type": "carpet"
           }
          ],
          "choropleth": [
           {
            "colorbar": {
             "outlinewidth": 0,
             "ticks": ""
            },
            "type": "choropleth"
           }
          ],
          "contour": [
           {
            "colorbar": {
             "outlinewidth": 0,
             "ticks": ""
            },
            "colorscale": [
             [
              0,
              "#0d0887"
             ],
             [
              0.1111111111111111,
              "#46039f"
             ],
             [
              0.2222222222222222,
              "#7201a8"
             ],
             [
              0.3333333333333333,
              "#9c179e"
             ],
             [
              0.4444444444444444,
              "#bd3786"
             ],
             [
              0.5555555555555556,
              "#d8576b"
             ],
             [
              0.6666666666666666,
              "#ed7953"
             ],
             [
              0.7777777777777778,
              "#fb9f3a"
             ],
             [
              0.8888888888888888,
              "#fdca26"
             ],
             [
              1,
              "#f0f921"
             ]
            ],
            "type": "contour"
           }
          ],
          "contourcarpet": [
           {
            "colorbar": {
             "outlinewidth": 0,
             "ticks": ""
            },
            "type": "contourcarpet"
           }
          ],
          "heatmap": [
           {
            "colorbar": {
             "outlinewidth": 0,
             "ticks": ""
            },
            "colorscale": [
             [
              0,
              "#0d0887"
             ],
             [
              0.1111111111111111,
              "#46039f"
             ],
             [
              0.2222222222222222,
              "#7201a8"
             ],
             [
              0.3333333333333333,
              "#9c179e"
             ],
             [
              0.4444444444444444,
              "#bd3786"
             ],
             [
              0.5555555555555556,
              "#d8576b"
             ],
             [
              0.6666666666666666,
              "#ed7953"
             ],
             [
              0.7777777777777778,
              "#fb9f3a"
             ],
             [
              0.8888888888888888,
              "#fdca26"
             ],
             [
              1,
              "#f0f921"
             ]
            ],
            "type": "heatmap"
           }
          ],
          "heatmapgl": [
           {
            "colorbar": {
             "outlinewidth": 0,
             "ticks": ""
            },
            "colorscale": [
             [
              0,
              "#0d0887"
             ],
             [
              0.1111111111111111,
              "#46039f"
             ],
             [
              0.2222222222222222,
              "#7201a8"
             ],
             [
              0.3333333333333333,
              "#9c179e"
             ],
             [
              0.4444444444444444,
              "#bd3786"
             ],
             [
              0.5555555555555556,
              "#d8576b"
             ],
             [
              0.6666666666666666,
              "#ed7953"
             ],
             [
              0.7777777777777778,
              "#fb9f3a"
             ],
             [
              0.8888888888888888,
              "#fdca26"
             ],
             [
              1,
              "#f0f921"
             ]
            ],
            "type": "heatmapgl"
           }
          ],
          "histogram": [
           {
            "marker": {
             "pattern": {
              "fillmode": "overlay",
              "size": 10,
              "solidity": 0.2
             }
            },
            "type": "histogram"
           }
          ],
          "histogram2d": [
           {
            "colorbar": {
             "outlinewidth": 0,
             "ticks": ""
            },
            "colorscale": [
             [
              0,
              "#0d0887"
             ],
             [
              0.1111111111111111,
              "#46039f"
             ],
             [
              0.2222222222222222,
              "#7201a8"
             ],
             [
              0.3333333333333333,
              "#9c179e"
             ],
             [
              0.4444444444444444,
              "#bd3786"
             ],
             [
              0.5555555555555556,
              "#d8576b"
             ],
             [
              0.6666666666666666,
              "#ed7953"
             ],
             [
              0.7777777777777778,
              "#fb9f3a"
             ],
             [
              0.8888888888888888,
              "#fdca26"
             ],
             [
              1,
              "#f0f921"
             ]
            ],
            "type": "histogram2d"
           }
          ],
          "histogram2dcontour": [
           {
            "colorbar": {
             "outlinewidth": 0,
             "ticks": ""
            },
            "colorscale": [
             [
              0,
              "#0d0887"
             ],
             [
              0.1111111111111111,
              "#46039f"
             ],
             [
              0.2222222222222222,
              "#7201a8"
             ],
             [
              0.3333333333333333,
              "#9c179e"
             ],
             [
              0.4444444444444444,
              "#bd3786"
             ],
             [
              0.5555555555555556,
              "#d8576b"
             ],
             [
              0.6666666666666666,
              "#ed7953"
             ],
             [
              0.7777777777777778,
              "#fb9f3a"
             ],
             [
              0.8888888888888888,
              "#fdca26"
             ],
             [
              1,
              "#f0f921"
             ]
            ],
            "type": "histogram2dcontour"
           }
          ],
          "mesh3d": [
           {
            "colorbar": {
             "outlinewidth": 0,
             "ticks": ""
            },
            "type": "mesh3d"
           }
          ],
          "parcoords": [
           {
            "line": {
             "colorbar": {
              "outlinewidth": 0,
              "ticks": ""
             }
            },
            "type": "parcoords"
           }
          ],
          "pie": [
           {
            "automargin": true,
            "type": "pie"
           }
          ],
          "scatter": [
           {
            "fillpattern": {
             "fillmode": "overlay",
             "size": 10,
             "solidity": 0.2
            },
            "type": "scatter"
           }
          ],
          "scatter3d": [
           {
            "line": {
             "colorbar": {
              "outlinewidth": 0,
              "ticks": ""
             }
            },
            "marker": {
             "colorbar": {
              "outlinewidth": 0,
              "ticks": ""
             }
            },
            "type": "scatter3d"
           }
          ],
          "scattercarpet": [
           {
            "marker": {
             "colorbar": {
              "outlinewidth": 0,
              "ticks": ""
             }
            },
            "type": "scattercarpet"
           }
          ],
          "scattergeo": [
           {
            "marker": {
             "colorbar": {
              "outlinewidth": 0,
              "ticks": ""
             }
            },
            "type": "scattergeo"
           }
          ],
          "scattergl": [
           {
            "marker": {
             "colorbar": {
              "outlinewidth": 0,
              "ticks": ""
             }
            },
            "type": "scattergl"
           }
          ],
          "scattermapbox": [
           {
            "marker": {
             "colorbar": {
              "outlinewidth": 0,
              "ticks": ""
             }
            },
            "type": "scattermapbox"
           }
          ],
          "scatterpolar": [
           {
            "marker": {
             "colorbar": {
              "outlinewidth": 0,
              "ticks": ""
             }
            },
            "type": "scatterpolar"
           }
          ],
          "scatterpolargl": [
           {
            "marker": {
             "colorbar": {
              "outlinewidth": 0,
              "ticks": ""
             }
            },
            "type": "scatterpolargl"
           }
          ],
          "scatterternary": [
           {
            "marker": {
             "colorbar": {
              "outlinewidth": 0,
              "ticks": ""
             }
            },
            "type": "scatterternary"
           }
          ],
          "surface": [
           {
            "colorbar": {
             "outlinewidth": 0,
             "ticks": ""
            },
            "colorscale": [
             [
              0,
              "#0d0887"
             ],
             [
              0.1111111111111111,
              "#46039f"
             ],
             [
              0.2222222222222222,
              "#7201a8"
             ],
             [
              0.3333333333333333,
              "#9c179e"
             ],
             [
              0.4444444444444444,
              "#bd3786"
             ],
             [
              0.5555555555555556,
              "#d8576b"
             ],
             [
              0.6666666666666666,
              "#ed7953"
             ],
             [
              0.7777777777777778,
              "#fb9f3a"
             ],
             [
              0.8888888888888888,
              "#fdca26"
             ],
             [
              1,
              "#f0f921"
             ]
            ],
            "type": "surface"
           }
          ],
          "table": [
           {
            "cells": {
             "fill": {
              "color": "#EBF0F8"
             },
             "line": {
              "color": "white"
             }
            },
            "header": {
             "fill": {
              "color": "#C8D4E3"
             },
             "line": {
              "color": "white"
             }
            },
            "type": "table"
           }
          ]
         },
         "layout": {
          "annotationdefaults": {
           "arrowcolor": "#2a3f5f",
           "arrowhead": 0,
           "arrowwidth": 1
          },
          "autotypenumbers": "strict",
          "coloraxis": {
           "colorbar": {
            "outlinewidth": 0,
            "ticks": ""
           }
          },
          "colorscale": {
           "diverging": [
            [
             0,
             "#8e0152"
            ],
            [
             0.1,
             "#c51b7d"
            ],
            [
             0.2,
             "#de77ae"
            ],
            [
             0.3,
             "#f1b6da"
            ],
            [
             0.4,
             "#fde0ef"
            ],
            [
             0.5,
             "#f7f7f7"
            ],
            [
             0.6,
             "#e6f5d0"
            ],
            [
             0.7,
             "#b8e186"
            ],
            [
             0.8,
             "#7fbc41"
            ],
            [
             0.9,
             "#4d9221"
            ],
            [
             1,
             "#276419"
            ]
           ],
           "sequential": [
            [
             0,
             "#0d0887"
            ],
            [
             0.1111111111111111,
             "#46039f"
            ],
            [
             0.2222222222222222,
             "#7201a8"
            ],
            [
             0.3333333333333333,
             "#9c179e"
            ],
            [
             0.4444444444444444,
             "#bd3786"
            ],
            [
             0.5555555555555556,
             "#d8576b"
            ],
            [
             0.6666666666666666,
             "#ed7953"
            ],
            [
             0.7777777777777778,
             "#fb9f3a"
            ],
            [
             0.8888888888888888,
             "#fdca26"
            ],
            [
             1,
             "#f0f921"
            ]
           ],
           "sequentialminus": [
            [
             0,
             "#0d0887"
            ],
            [
             0.1111111111111111,
             "#46039f"
            ],
            [
             0.2222222222222222,
             "#7201a8"
            ],
            [
             0.3333333333333333,
             "#9c179e"
            ],
            [
             0.4444444444444444,
             "#bd3786"
            ],
            [
             0.5555555555555556,
             "#d8576b"
            ],
            [
             0.6666666666666666,
             "#ed7953"
            ],
            [
             0.7777777777777778,
             "#fb9f3a"
            ],
            [
             0.8888888888888888,
             "#fdca26"
            ],
            [
             1,
             "#f0f921"
            ]
           ]
          },
          "colorway": [
           "#636efa",
           "#EF553B",
           "#00cc96",
           "#ab63fa",
           "#FFA15A",
           "#19d3f3",
           "#FF6692",
           "#B6E880",
           "#FF97FF",
           "#FECB52"
          ],
          "font": {
           "color": "#2a3f5f"
          },
          "geo": {
           "bgcolor": "white",
           "lakecolor": "white",
           "landcolor": "#E5ECF6",
           "showlakes": true,
           "showland": true,
           "subunitcolor": "white"
          },
          "hoverlabel": {
           "align": "left"
          },
          "hovermode": "closest",
          "mapbox": {
           "style": "light"
          },
          "paper_bgcolor": "white",
          "plot_bgcolor": "#E5ECF6",
          "polar": {
           "angularaxis": {
            "gridcolor": "white",
            "linecolor": "white",
            "ticks": ""
           },
           "bgcolor": "#E5ECF6",
           "radialaxis": {
            "gridcolor": "white",
            "linecolor": "white",
            "ticks": ""
           }
          },
          "scene": {
           "xaxis": {
            "backgroundcolor": "#E5ECF6",
            "gridcolor": "white",
            "gridwidth": 2,
            "linecolor": "white",
            "showbackground": true,
            "ticks": "",
            "zerolinecolor": "white"
           },
           "yaxis": {
            "backgroundcolor": "#E5ECF6",
            "gridcolor": "white",
            "gridwidth": 2,
            "linecolor": "white",
            "showbackground": true,
            "ticks": "",
            "zerolinecolor": "white"
           },
           "zaxis": {
            "backgroundcolor": "#E5ECF6",
            "gridcolor": "white",
            "gridwidth": 2,
            "linecolor": "white",
            "showbackground": true,
            "ticks": "",
            "zerolinecolor": "white"
           }
          },
          "shapedefaults": {
           "line": {
            "color": "#2a3f5f"
           }
          },
          "ternary": {
           "aaxis": {
            "gridcolor": "white",
            "linecolor": "white",
            "ticks": ""
           },
           "baxis": {
            "gridcolor": "white",
            "linecolor": "white",
            "ticks": ""
           },
           "bgcolor": "#E5ECF6",
           "caxis": {
            "gridcolor": "white",
            "linecolor": "white",
            "ticks": ""
           }
          },
          "title": {
           "x": 0.05
          },
          "xaxis": {
           "automargin": true,
           "gridcolor": "white",
           "linecolor": "white",
           "ticks": "",
           "title": {
            "standoff": 15
           },
           "zerolinecolor": "white",
           "zerolinewidth": 2
          },
          "yaxis": {
           "automargin": true,
           "gridcolor": "white",
           "linecolor": "white",
           "ticks": "",
           "title": {
            "standoff": 15
           },
           "zerolinecolor": "white",
           "zerolinewidth": 2
          }
         }
        },
        "title": {
         "text": "Boxplot da Acurácia Balanceada do classificador Real sem features de temperatura"
        },
        "xaxis": {
         "anchor": "y",
         "domain": [
          0,
          1
         ],
         "title": {
          "text": "Nome"
         }
        },
        "yaxis": {
         "anchor": "x",
         "domain": [
          0,
          1
         ],
         "range": [
          0,
          1
         ],
         "title": {
          "text": "Acurácia Balanceada"
         }
        }
       }
      }
     },
     "metadata": {},
     "output_type": "display_data"
    },
    {
     "data": {
      "application/vnd.plotly.v1+json": {
       "config": {
        "plotlyServerURL": "https://plot.ly"
       },
       "data": [
        {
         "alignmentgroup": "True",
         "boxpoints": "all",
         "hovertemplate": "Nome=%{x}<br>Acurácia Balanceada=%{y}<extra></extra>",
         "legendgroup": "",
         "marker": {
          "color": "#636efa"
         },
         "name": "",
         "notched": false,
         "offsetgroup": "",
         "orientation": "v",
         "showlegend": false,
         "type": "box",
         "x": [
          "logreg",
          "KNN",
          "GaussianNB",
          "Perceptron",
          "LinearSVC",
          "SGD",
          "Dtree",
          "RForest",
          "ADA",
          "GBC",
          "ETC",
          "logreg",
          "KNN",
          "GaussianNB",
          "Perceptron",
          "LinearSVC",
          "SGD",
          "Dtree",
          "RForest",
          "ADA",
          "GBC",
          "ETC",
          "logreg",
          "KNN",
          "GaussianNB",
          "Perceptron",
          "LinearSVC",
          "SGD",
          "Dtree",
          "RForest",
          "ADA",
          "GBC",
          "ETC",
          "logreg",
          "KNN",
          "GaussianNB",
          "Perceptron",
          "LinearSVC",
          "SGD",
          "Dtree",
          "RForest",
          "ADA",
          "GBC",
          "ETC",
          "logreg",
          "KNN",
          "GaussianNB",
          "Perceptron",
          "LinearSVC",
          "SGD",
          "Dtree",
          "RForest",
          "ADA",
          "GBC",
          "ETC",
          "logreg",
          "KNN",
          "GaussianNB",
          "Perceptron",
          "LinearSVC",
          "SGD",
          "Dtree",
          "RForest",
          "ADA",
          "GBC",
          "ETC",
          "logreg",
          "KNN",
          "GaussianNB",
          "Perceptron",
          "LinearSVC",
          "SGD",
          "Dtree",
          "RForest",
          "ADA",
          "GBC",
          "ETC",
          "logreg",
          "KNN",
          "GaussianNB",
          "Perceptron",
          "LinearSVC",
          "SGD",
          "Dtree",
          "RForest",
          "ADA",
          "GBC",
          "ETC",
          "logreg",
          "KNN",
          "GaussianNB",
          "Perceptron",
          "LinearSVC",
          "SGD",
          "Dtree",
          "RForest",
          "ADA",
          "GBC",
          "ETC",
          "logreg",
          "KNN",
          "GaussianNB",
          "Perceptron",
          "LinearSVC",
          "SGD",
          "Dtree",
          "RForest",
          "ADA",
          "GBC",
          "ETC",
          "logreg",
          "KNN",
          "GaussianNB",
          "Perceptron",
          "LinearSVC",
          "SGD",
          "Dtree",
          "RForest",
          "ADA",
          "GBC",
          "ETC",
          "logreg",
          "KNN",
          "GaussianNB",
          "Perceptron",
          "LinearSVC",
          "SGD",
          "Dtree",
          "RForest",
          "ADA",
          "GBC",
          "ETC",
          "logreg",
          "KNN",
          "GaussianNB",
          "Perceptron",
          "LinearSVC",
          "SGD",
          "Dtree",
          "RForest",
          "ADA",
          "GBC",
          "ETC",
          "logreg",
          "KNN",
          "GaussianNB",
          "Perceptron",
          "LinearSVC",
          "SGD",
          "Dtree",
          "RForest",
          "ADA",
          "GBC",
          "ETC",
          "logreg",
          "KNN",
          "GaussianNB",
          "Perceptron",
          "LinearSVC",
          "SGD",
          "Dtree",
          "RForest",
          "ADA",
          "GBC",
          "ETC",
          "logreg",
          "KNN",
          "GaussianNB",
          "Perceptron",
          "LinearSVC",
          "SGD",
          "Dtree",
          "RForest",
          "ADA",
          "GBC",
          "ETC",
          "logreg",
          "KNN",
          "GaussianNB",
          "Perceptron",
          "LinearSVC",
          "SGD",
          "Dtree",
          "RForest",
          "ADA",
          "GBC",
          "ETC",
          "logreg",
          "KNN",
          "GaussianNB",
          "Perceptron",
          "LinearSVC",
          "SGD",
          "Dtree",
          "RForest",
          "ADA",
          "GBC",
          "ETC",
          "logreg",
          "KNN",
          "GaussianNB",
          "Perceptron",
          "LinearSVC",
          "SGD",
          "Dtree",
          "RForest",
          "ADA",
          "GBC",
          "ETC",
          "logreg",
          "KNN",
          "GaussianNB",
          "Perceptron",
          "LinearSVC",
          "SGD",
          "Dtree",
          "RForest",
          "ADA",
          "GBC",
          "ETC",
          "logreg",
          "KNN",
          "GaussianNB",
          "Perceptron",
          "LinearSVC",
          "SGD",
          "Dtree",
          "RForest",
          "ADA",
          "GBC",
          "ETC",
          "logreg",
          "KNN",
          "GaussianNB",
          "Perceptron",
          "LinearSVC",
          "SGD",
          "Dtree",
          "RForest",
          "ADA",
          "GBC",
          "ETC",
          "logreg",
          "KNN",
          "GaussianNB",
          "Perceptron",
          "LinearSVC",
          "SGD",
          "Dtree",
          "RForest",
          "ADA",
          "GBC",
          "ETC",
          "logreg",
          "KNN",
          "GaussianNB",
          "Perceptron",
          "LinearSVC",
          "SGD",
          "Dtree",
          "RForest",
          "ADA",
          "GBC",
          "ETC",
          "logreg",
          "KNN",
          "GaussianNB",
          "Perceptron",
          "LinearSVC",
          "SGD",
          "Dtree",
          "RForest",
          "ADA",
          "GBC",
          "ETC"
         ],
         "x0": " ",
         "xaxis": "x",
         "y": [
          0.5604388142841403,
          0.6386661849599902,
          0.6901985502678852,
          0.5741943583948919,
          0.5411436433935723,
          0.5490354336256883,
          0.610162217285583,
          0.6394156488050856,
          0.5809920595266462,
          0.613801921189713,
          0.6738922668142534,
          0.6007650936893864,
          0.7232748879647637,
          0.6306283453631889,
          0.5126332700452753,
          0.5685906748761783,
          0.5753294438081475,
          0.6680374808790634,
          0.6806118187245535,
          0.6760163882760795,
          0.668327017338878,
          0.6934539137386331,
          0.6036822375787577,
          0.7194571063264997,
          0.6690047376364088,
          0.5487330858180942,
          0.5795290036102377,
          0.5980273086689266,
          0.6626848997768263,
          0.6849638335652187,
          0.6420663166606453,
          0.6706676505781761,
          0.6848036917179761,
          0.5870825742609774,
          0.7027037068353665,
          0.673360595881408,
          0.6283850783670144,
          0.5535014694615903,
          0.6034580389926181,
          0.666962608800371,
          0.6725598866451948,
          0.6332597961970795,
          0.668373138190884,
          0.6751055014489634,
          0.5806961173929419,
          0.7053671860387056,
          0.6806374414201123,
          0.6722588199723787,
          0.5287025435649881,
          0.5686534504802974,
          0.6753796642914428,
          0.6762457114013308,
          0.6523013024016153,
          0.6684166967733339,
          0.6814291827128798,
          0.693587151755539,
          0.797826682962701,
          0.7670538255965604,
          0.5417637126260957,
          0.6605415612933312,
          0.6910991880167777,
          0.7716543805841463,
          0.8930893027808311,
          0.7861670753486609,
          0.850098263037468,
          0.8878033406870469,
          0.779529516064149,
          0.8763089994593611,
          0.7405368979627395,
          0.6062611618867528,
          0.6998493385501141,
          0.6166537272054095,
          0.8167016416461045,
          0.9890398919747156,
          0.938642612080076,
          0.9735253498138512,
          0.9266268489977684,
          0.7915926811332405,
          0.8825634994452687,
          0.7640508456770669,
          0.7718567998790609,
          0.7025115366186754,
          0.6982094860343497,
          0.8652092477432811,
          0.9806253987531997,
          0.913429879650199,
          0.9722185923403514,
          0.916616061842938,
          0.7391929875806795,
          0.8868117423689207,
          0.7491627784226156,
          0.7472218592340352,
          0.6406250400354618,
          0.6427568483059555,
          0.8112990962875276,
          0.9771458366963122,
          0.9422515687495356,
          0.9522738861173672,
          0.910721560729632,
          0.7356980519064567,
          0.8742899310493262,
          0.8012998393456989,
          0.7678788763935543,
          0.6303093428034816,
          0.5565018871115279,
          0.945733693075979,
          0.9764412125684444,
          0.8969198957668745,
          0.9781284670709928,
          0.8801882755669662,
          0.7378670130855106,
          0.7830462310295968,
          0.3849079760889005,
          0.7703015022586406,
          0.7418782460752436,
          0.8023516509983883,
          0.8010743596247812,
          0.8598617911801557,
          0.7354815401289847,
          0.8125084875179038,
          0.8510834556817046,
          0.7460534643165531,
          0.8475026839773598,
          0.4253636501067185,
          0.7213314065066273,
          0.7436808027078065,
          0.7678724707196647,
          0.8452261074769587,
          0.9369220480733014,
          0.9475170326868728,
          0.9284857755605606,
          0.8959590446834187,
          0.7513804227232314,
          0.8608572329026158,
          0.3847619267242152,
          0.724830185585184,
          0.7527704539572972,
          0.7420396690572642,
          0.9057827861606698,
          0.9421388288890769,
          0.9450995313608984,
          0.9304305381534748,
          0.8875778609661293,
          0.7603765511339324,
          0.8652912403690693,
          0.4117567176302081,
          0.6937741974331184,
          0.7490871914707171,
          0.7825235280401969,
          0.9168838190115276,
          0.9436966887790528,
          0.9568296013877252,
          0.9362763561452192,
          0.8981497851536977,
          0.7445327573351372,
          0.8659215586798162,
          0.3823277706461275,
          0.7234747449901224,
          0.7421460032438332,
          0.744667276486821,
          0.9119873218902376,
          0.9419953417939474,
          0.9572779985600044,
          0.932766046853661,
          0.8744116388532306,
          0.8404269765987922,
          0.8351538258527873,
          0.7976793524632378,
          0.8081526292729048,
          0.8442601318543914,
          0.8567576016132049,
          0.7732878274260209,
          0.8724220365430884,
          0.7423599527517495,
          0.7379695038677458,
          0.8724809687428736,
          0.8403257669513349,
          0.904607985569298,
          0.5392667809438889,
          0.8078618116783123,
          0.8245447487566586,
          0.82078589931818,
          0.906188905885277,
          0.9385478081065084,
          0.7529895280043251,
          0.9088280435278352,
          0.8851642030444886,
          0.8373407229187325,
          0.9207387535583518,
          0.7820994724286985,
          0.8028038915750015,
          0.8162378708564899,
          0.8164364467470706,
          0.9340292457447108,
          0.963966803235634,
          0.8690308727858789,
          0.9210218843442768,
          0.9316271180360716,
          0.8482483044181215,
          0.9134567834805356,
          0.7429736163103831,
          0.8066255166175992,
          0.8124982384396804,
          0.8348399478321918,
          0.91045508469582,
          0.9467214479897714,
          0.9176230337783996,
          0.9256275638709744,
          0.8886719500664909,
          0.8490477325195565,
          0.9121346523897008,
          0.6929260862101215,
          0.9124626228928536,
          0.8091275728389178,
          0.849772854803871,
          0.9298963049510734,
          0.949220941941534,
          0.8509207515649061,
          0.9333643367949596,
          0.8990158322635857,
          0.4887272950888979,
          0.6130229912447249,
          0.5374129789202083,
          0.529681330535335,
          0.4855487997048265,
          0.499241568211459,
          0.5312648131208699,
          0.5679283281959828,
          0.5593152590838861,
          0.5584107779306599,
          0.5842025832801663,
          0.5010300323614645,
          0.6164500267757169,
          0.4523174446998173,
          0.4876293625842026,
          0.4991800737421178,
          0.5027429095595715,
          0.6139799989238468,
          0.6165512364231742,
          0.6053682109465279,
          0.5984577699543148,
          0.5873452068904553,
          0.4761324590869608,
          0.6103223591328255,
          0.4799182123557762,
          0.4559020598084959,
          0.47597744177883,
          0.4714588794170324,
          0.6215476620571437,
          0.5699781438406883,
          0.5992392621688587,
          0.5831123375841385,
          0.5777200413037853,
          0.4950689122397054,
          0.6100520396946799,
          0.5200126063662149,
          0.5414357421229428,
          0.4932676367419205,
          0.496270616661414,
          0.5954330107435962,
          0.5924210628806571,
          0.6027470091908609,
          0.5982412581768427,
          0.5821835148701313,
          0.5050258917338621,
          0.6214016126924584,
          0.5328303598195138,
          0.5065773459499486,
          0.5014425577599614,
          0.4996566558795118,
          0.628174972263432,
          0.5847240051347882,
          0.6083993758311361,
          0.6039551192864592,
          0.5761660248181429
         ],
         "y0": " ",
         "yaxis": "y"
        }
       ],
       "layout": {
        "boxmode": "group",
        "legend": {
         "tracegroupgap": 0
        },
        "template": {
         "data": {
          "bar": [
           {
            "error_x": {
             "color": "#2a3f5f"
            },
            "error_y": {
             "color": "#2a3f5f"
            },
            "marker": {
             "line": {
              "color": "#E5ECF6",
              "width": 0.5
             },
             "pattern": {
              "fillmode": "overlay",
              "size": 10,
              "solidity": 0.2
             }
            },
            "type": "bar"
           }
          ],
          "barpolar": [
           {
            "marker": {
             "line": {
              "color": "#E5ECF6",
              "width": 0.5
             },
             "pattern": {
              "fillmode": "overlay",
              "size": 10,
              "solidity": 0.2
             }
            },
            "type": "barpolar"
           }
          ],
          "carpet": [
           {
            "aaxis": {
             "endlinecolor": "#2a3f5f",
             "gridcolor": "white",
             "linecolor": "white",
             "minorgridcolor": "white",
             "startlinecolor": "#2a3f5f"
            },
            "baxis": {
             "endlinecolor": "#2a3f5f",
             "gridcolor": "white",
             "linecolor": "white",
             "minorgridcolor": "white",
             "startlinecolor": "#2a3f5f"
            },
            "type": "carpet"
           }
          ],
          "choropleth": [
           {
            "colorbar": {
             "outlinewidth": 0,
             "ticks": ""
            },
            "type": "choropleth"
           }
          ],
          "contour": [
           {
            "colorbar": {
             "outlinewidth": 0,
             "ticks": ""
            },
            "colorscale": [
             [
              0,
              "#0d0887"
             ],
             [
              0.1111111111111111,
              "#46039f"
             ],
             [
              0.2222222222222222,
              "#7201a8"
             ],
             [
              0.3333333333333333,
              "#9c179e"
             ],
             [
              0.4444444444444444,
              "#bd3786"
             ],
             [
              0.5555555555555556,
              "#d8576b"
             ],
             [
              0.6666666666666666,
              "#ed7953"
             ],
             [
              0.7777777777777778,
              "#fb9f3a"
             ],
             [
              0.8888888888888888,
              "#fdca26"
             ],
             [
              1,
              "#f0f921"
             ]
            ],
            "type": "contour"
           }
          ],
          "contourcarpet": [
           {
            "colorbar": {
             "outlinewidth": 0,
             "ticks": ""
            },
            "type": "contourcarpet"
           }
          ],
          "heatmap": [
           {
            "colorbar": {
             "outlinewidth": 0,
             "ticks": ""
            },
            "colorscale": [
             [
              0,
              "#0d0887"
             ],
             [
              0.1111111111111111,
              "#46039f"
             ],
             [
              0.2222222222222222,
              "#7201a8"
             ],
             [
              0.3333333333333333,
              "#9c179e"
             ],
             [
              0.4444444444444444,
              "#bd3786"
             ],
             [
              0.5555555555555556,
              "#d8576b"
             ],
             [
              0.6666666666666666,
              "#ed7953"
             ],
             [
              0.7777777777777778,
              "#fb9f3a"
             ],
             [
              0.8888888888888888,
              "#fdca26"
             ],
             [
              1,
              "#f0f921"
             ]
            ],
            "type": "heatmap"
           }
          ],
          "heatmapgl": [
           {
            "colorbar": {
             "outlinewidth": 0,
             "ticks": ""
            },
            "colorscale": [
             [
              0,
              "#0d0887"
             ],
             [
              0.1111111111111111,
              "#46039f"
             ],
             [
              0.2222222222222222,
              "#7201a8"
             ],
             [
              0.3333333333333333,
              "#9c179e"
             ],
             [
              0.4444444444444444,
              "#bd3786"
             ],
             [
              0.5555555555555556,
              "#d8576b"
             ],
             [
              0.6666666666666666,
              "#ed7953"
             ],
             [
              0.7777777777777778,
              "#fb9f3a"
             ],
             [
              0.8888888888888888,
              "#fdca26"
             ],
             [
              1,
              "#f0f921"
             ]
            ],
            "type": "heatmapgl"
           }
          ],
          "histogram": [
           {
            "marker": {
             "pattern": {
              "fillmode": "overlay",
              "size": 10,
              "solidity": 0.2
             }
            },
            "type": "histogram"
           }
          ],
          "histogram2d": [
           {
            "colorbar": {
             "outlinewidth": 0,
             "ticks": ""
            },
            "colorscale": [
             [
              0,
              "#0d0887"
             ],
             [
              0.1111111111111111,
              "#46039f"
             ],
             [
              0.2222222222222222,
              "#7201a8"
             ],
             [
              0.3333333333333333,
              "#9c179e"
             ],
             [
              0.4444444444444444,
              "#bd3786"
             ],
             [
              0.5555555555555556,
              "#d8576b"
             ],
             [
              0.6666666666666666,
              "#ed7953"
             ],
             [
              0.7777777777777778,
              "#fb9f3a"
             ],
             [
              0.8888888888888888,
              "#fdca26"
             ],
             [
              1,
              "#f0f921"
             ]
            ],
            "type": "histogram2d"
           }
          ],
          "histogram2dcontour": [
           {
            "colorbar": {
             "outlinewidth": 0,
             "ticks": ""
            },
            "colorscale": [
             [
              0,
              "#0d0887"
             ],
             [
              0.1111111111111111,
              "#46039f"
             ],
             [
              0.2222222222222222,
              "#7201a8"
             ],
             [
              0.3333333333333333,
              "#9c179e"
             ],
             [
              0.4444444444444444,
              "#bd3786"
             ],
             [
              0.5555555555555556,
              "#d8576b"
             ],
             [
              0.6666666666666666,
              "#ed7953"
             ],
             [
              0.7777777777777778,
              "#fb9f3a"
             ],
             [
              0.8888888888888888,
              "#fdca26"
             ],
             [
              1,
              "#f0f921"
             ]
            ],
            "type": "histogram2dcontour"
           }
          ],
          "mesh3d": [
           {
            "colorbar": {
             "outlinewidth": 0,
             "ticks": ""
            },
            "type": "mesh3d"
           }
          ],
          "parcoords": [
           {
            "line": {
             "colorbar": {
              "outlinewidth": 0,
              "ticks": ""
             }
            },
            "type": "parcoords"
           }
          ],
          "pie": [
           {
            "automargin": true,
            "type": "pie"
           }
          ],
          "scatter": [
           {
            "fillpattern": {
             "fillmode": "overlay",
             "size": 10,
             "solidity": 0.2
            },
            "type": "scatter"
           }
          ],
          "scatter3d": [
           {
            "line": {
             "colorbar": {
              "outlinewidth": 0,
              "ticks": ""
             }
            },
            "marker": {
             "colorbar": {
              "outlinewidth": 0,
              "ticks": ""
             }
            },
            "type": "scatter3d"
           }
          ],
          "scattercarpet": [
           {
            "marker": {
             "colorbar": {
              "outlinewidth": 0,
              "ticks": ""
             }
            },
            "type": "scattercarpet"
           }
          ],
          "scattergeo": [
           {
            "marker": {
             "colorbar": {
              "outlinewidth": 0,
              "ticks": ""
             }
            },
            "type": "scattergeo"
           }
          ],
          "scattergl": [
           {
            "marker": {
             "colorbar": {
              "outlinewidth": 0,
              "ticks": ""
             }
            },
            "type": "scattergl"
           }
          ],
          "scattermapbox": [
           {
            "marker": {
             "colorbar": {
              "outlinewidth": 0,
              "ticks": ""
             }
            },
            "type": "scattermapbox"
           }
          ],
          "scatterpolar": [
           {
            "marker": {
             "colorbar": {
              "outlinewidth": 0,
              "ticks": ""
             }
            },
            "type": "scatterpolar"
           }
          ],
          "scatterpolargl": [
           {
            "marker": {
             "colorbar": {
              "outlinewidth": 0,
              "ticks": ""
             }
            },
            "type": "scatterpolargl"
           }
          ],
          "scatterternary": [
           {
            "marker": {
             "colorbar": {
              "outlinewidth": 0,
              "ticks": ""
             }
            },
            "type": "scatterternary"
           }
          ],
          "surface": [
           {
            "colorbar": {
             "outlinewidth": 0,
             "ticks": ""
            },
            "colorscale": [
             [
              0,
              "#0d0887"
             ],
             [
              0.1111111111111111,
              "#46039f"
             ],
             [
              0.2222222222222222,
              "#7201a8"
             ],
             [
              0.3333333333333333,
              "#9c179e"
             ],
             [
              0.4444444444444444,
              "#bd3786"
             ],
             [
              0.5555555555555556,
              "#d8576b"
             ],
             [
              0.6666666666666666,
              "#ed7953"
             ],
             [
              0.7777777777777778,
              "#fb9f3a"
             ],
             [
              0.8888888888888888,
              "#fdca26"
             ],
             [
              1,
              "#f0f921"
             ]
            ],
            "type": "surface"
           }
          ],
          "table": [
           {
            "cells": {
             "fill": {
              "color": "#EBF0F8"
             },
             "line": {
              "color": "white"
             }
            },
            "header": {
             "fill": {
              "color": "#C8D4E3"
             },
             "line": {
              "color": "white"
             }
            },
            "type": "table"
           }
          ]
         },
         "layout": {
          "annotationdefaults": {
           "arrowcolor": "#2a3f5f",
           "arrowhead": 0,
           "arrowwidth": 1
          },
          "autotypenumbers": "strict",
          "coloraxis": {
           "colorbar": {
            "outlinewidth": 0,
            "ticks": ""
           }
          },
          "colorscale": {
           "diverging": [
            [
             0,
             "#8e0152"
            ],
            [
             0.1,
             "#c51b7d"
            ],
            [
             0.2,
             "#de77ae"
            ],
            [
             0.3,
             "#f1b6da"
            ],
            [
             0.4,
             "#fde0ef"
            ],
            [
             0.5,
             "#f7f7f7"
            ],
            [
             0.6,
             "#e6f5d0"
            ],
            [
             0.7,
             "#b8e186"
            ],
            [
             0.8,
             "#7fbc41"
            ],
            [
             0.9,
             "#4d9221"
            ],
            [
             1,
             "#276419"
            ]
           ],
           "sequential": [
            [
             0,
             "#0d0887"
            ],
            [
             0.1111111111111111,
             "#46039f"
            ],
            [
             0.2222222222222222,
             "#7201a8"
            ],
            [
             0.3333333333333333,
             "#9c179e"
            ],
            [
             0.4444444444444444,
             "#bd3786"
            ],
            [
             0.5555555555555556,
             "#d8576b"
            ],
            [
             0.6666666666666666,
             "#ed7953"
            ],
            [
             0.7777777777777778,
             "#fb9f3a"
            ],
            [
             0.8888888888888888,
             "#fdca26"
            ],
            [
             1,
             "#f0f921"
            ]
           ],
           "sequentialminus": [
            [
             0,
             "#0d0887"
            ],
            [
             0.1111111111111111,
             "#46039f"
            ],
            [
             0.2222222222222222,
             "#7201a8"
            ],
            [
             0.3333333333333333,
             "#9c179e"
            ],
            [
             0.4444444444444444,
             "#bd3786"
            ],
            [
             0.5555555555555556,
             "#d8576b"
            ],
            [
             0.6666666666666666,
             "#ed7953"
            ],
            [
             0.7777777777777778,
             "#fb9f3a"
            ],
            [
             0.8888888888888888,
             "#fdca26"
            ],
            [
             1,
             "#f0f921"
            ]
           ]
          },
          "colorway": [
           "#636efa",
           "#EF553B",
           "#00cc96",
           "#ab63fa",
           "#FFA15A",
           "#19d3f3",
           "#FF6692",
           "#B6E880",
           "#FF97FF",
           "#FECB52"
          ],
          "font": {
           "color": "#2a3f5f"
          },
          "geo": {
           "bgcolor": "white",
           "lakecolor": "white",
           "landcolor": "#E5ECF6",
           "showlakes": true,
           "showland": true,
           "subunitcolor": "white"
          },
          "hoverlabel": {
           "align": "left"
          },
          "hovermode": "closest",
          "mapbox": {
           "style": "light"
          },
          "paper_bgcolor": "white",
          "plot_bgcolor": "#E5ECF6",
          "polar": {
           "angularaxis": {
            "gridcolor": "white",
            "linecolor": "white",
            "ticks": ""
           },
           "bgcolor": "#E5ECF6",
           "radialaxis": {
            "gridcolor": "white",
            "linecolor": "white",
            "ticks": ""
           }
          },
          "scene": {
           "xaxis": {
            "backgroundcolor": "#E5ECF6",
            "gridcolor": "white",
            "gridwidth": 2,
            "linecolor": "white",
            "showbackground": true,
            "ticks": "",
            "zerolinecolor": "white"
           },
           "yaxis": {
            "backgroundcolor": "#E5ECF6",
            "gridcolor": "white",
            "gridwidth": 2,
            "linecolor": "white",
            "showbackground": true,
            "ticks": "",
            "zerolinecolor": "white"
           },
           "zaxis": {
            "backgroundcolor": "#E5ECF6",
            "gridcolor": "white",
            "gridwidth": 2,
            "linecolor": "white",
            "showbackground": true,
            "ticks": "",
            "zerolinecolor": "white"
           }
          },
          "shapedefaults": {
           "line": {
            "color": "#2a3f5f"
           }
          },
          "ternary": {
           "aaxis": {
            "gridcolor": "white",
            "linecolor": "white",
            "ticks": ""
           },
           "baxis": {
            "gridcolor": "white",
            "linecolor": "white",
            "ticks": ""
           },
           "bgcolor": "#E5ECF6",
           "caxis": {
            "gridcolor": "white",
            "linecolor": "white",
            "ticks": ""
           }
          },
          "title": {
           "x": 0.05
          },
          "xaxis": {
           "automargin": true,
           "gridcolor": "white",
           "linecolor": "white",
           "ticks": "",
           "title": {
            "standoff": 15
           },
           "zerolinecolor": "white",
           "zerolinewidth": 2
          },
          "yaxis": {
           "automargin": true,
           "gridcolor": "white",
           "linecolor": "white",
           "ticks": "",
           "title": {
            "standoff": 15
           },
           "zerolinecolor": "white",
           "zerolinewidth": 2
          }
         }
        },
        "title": {
         "text": "Boxplot da Acurácia Balanceada do classificador Real"
        },
        "xaxis": {
         "anchor": "y",
         "domain": [
          0,
          1
         ],
         "title": {
          "text": "Nome"
         }
        },
        "yaxis": {
         "anchor": "x",
         "domain": [
          0,
          1
         ],
         "range": [
          0,
          1
         ],
         "title": {
          "text": "Acurácia Balanceada"
         }
        }
       }
      }
     },
     "metadata": {},
     "output_type": "display_data"
    }
   ],
   "source": [
    "# Criar boxplot da acurácia balanceada por modelo real real \n",
    "\n",
    "fig = px.box(df4, x='Nome', y='Acurácia Balanceada', points='all', title='Boxplot da Acurácia Balanceada do classificador Real 0',color_discrete_sequence=px.colors.qualitative.Set3)\n",
    "\n",
    "fig.update_yaxes(range=[0, 1])\n",
    "fig.show()\n",
    "\n",
    "fig = px.box(df7, x='Nome', y='Acurácia Balanceada', points='all', title='Boxplot da Acurácia Balanceada do classificador Real sem features de temperatura',color_discrete_sequence=px.colors.qualitative.Set1)\n",
    "fig.update_yaxes(range=[0, 1])\n",
    "fig.show()\n",
    "\n",
    "fig = px.box(df1, x='Nome', y='Acurácia Balanceada', points='all', title='Boxplot da Acurácia Balanceada do classificador Real')\n",
    "fig.update_yaxes(range=[0, 1])\n",
    "fig.show()\n"
   ]
  },
  {
   "cell_type": "markdown",
   "metadata": {},
   "source": [
    "## Gráficos dados simulados "
   ]
  },
  {
   "cell_type": "code",
   "execution_count": 12,
   "metadata": {},
   "outputs": [
    {
     "data": {
      "application/vnd.plotly.v1+json": {
       "config": {
        "plotlyServerURL": "https://plot.ly"
       },
       "data": [
        {
         "alignmentgroup": "True",
         "boxpoints": "all",
         "hovertemplate": "Nome=%{x}<br>Acurácia Balanceada=%{y}<extra></extra>",
         "legendgroup": "",
         "marker": {
          "color": "rgb(141,211,199)"
         },
         "name": "",
         "notched": false,
         "offsetgroup": "",
         "orientation": "v",
         "showlegend": false,
         "type": "box",
         "x": [
          "logreg",
          "KNN",
          "GaussianNB",
          "Perceptron",
          "LinearSVC",
          "SGD",
          "Dtree",
          "RForest",
          "ADA",
          "GBC",
          "ETC",
          "logreg",
          "KNN",
          "GaussianNB",
          "Perceptron",
          "LinearSVC",
          "SGD",
          "Dtree",
          "RForest",
          "ADA",
          "GBC",
          "ETC",
          "logreg",
          "KNN",
          "GaussianNB",
          "Perceptron",
          "LinearSVC",
          "SGD",
          "Dtree",
          "RForest",
          "ADA",
          "GBC",
          "ETC",
          "logreg",
          "KNN",
          "GaussianNB",
          "Perceptron",
          "LinearSVC",
          "SGD",
          "Dtree",
          "RForest",
          "ADA",
          "GBC",
          "ETC",
          "logreg",
          "KNN",
          "GaussianNB",
          "Perceptron",
          "LinearSVC",
          "SGD",
          "Dtree",
          "RForest",
          "ADA",
          "GBC",
          "ETC",
          "logreg",
          "KNN",
          "GaussianNB",
          "Perceptron",
          "LinearSVC",
          "SGD",
          "Dtree",
          "RForest",
          "ADA",
          "GBC",
          "ETC",
          "logreg",
          "KNN",
          "GaussianNB",
          "Perceptron",
          "LinearSVC",
          "SGD",
          "Dtree",
          "RForest",
          "ADA",
          "GBC",
          "ETC",
          "logreg",
          "KNN",
          "GaussianNB",
          "Perceptron",
          "LinearSVC",
          "SGD",
          "Dtree",
          "RForest",
          "ADA",
          "GBC",
          "ETC",
          "logreg",
          "KNN",
          "GaussianNB",
          "Perceptron",
          "LinearSVC",
          "SGD",
          "Dtree",
          "RForest",
          "ADA",
          "GBC",
          "ETC",
          "logreg",
          "KNN",
          "GaussianNB",
          "Perceptron",
          "LinearSVC",
          "SGD",
          "Dtree",
          "RForest",
          "ADA",
          "GBC",
          "ETC",
          "logreg",
          "KNN",
          "GaussianNB",
          "Perceptron",
          "LinearSVC",
          "SGD",
          "Dtree",
          "RForest",
          "ADA",
          "GBC",
          "ETC",
          "logreg",
          "KNN",
          "GaussianNB",
          "Perceptron",
          "LinearSVC",
          "SGD",
          "Dtree",
          "RForest",
          "ADA",
          "GBC",
          "ETC",
          "logreg",
          "KNN",
          "GaussianNB",
          "Perceptron",
          "LinearSVC",
          "SGD",
          "Dtree",
          "RForest",
          "ADA",
          "GBC",
          "ETC",
          "logreg",
          "KNN",
          "GaussianNB",
          "Perceptron",
          "LinearSVC",
          "SGD",
          "Dtree",
          "RForest",
          "ADA",
          "GBC",
          "ETC",
          "logreg",
          "KNN",
          "GaussianNB",
          "Perceptron",
          "LinearSVC",
          "SGD",
          "Dtree",
          "RForest",
          "ADA",
          "GBC",
          "ETC",
          "logreg",
          "KNN",
          "GaussianNB",
          "Perceptron",
          "LinearSVC",
          "SGD",
          "Dtree",
          "RForest",
          "ADA",
          "GBC",
          "ETC",
          "logreg",
          "KNN",
          "GaussianNB",
          "Perceptron",
          "LinearSVC",
          "SGD",
          "Dtree",
          "RForest",
          "ADA",
          "GBC",
          "ETC",
          "logreg",
          "KNN",
          "GaussianNB",
          "Perceptron",
          "LinearSVC",
          "SGD",
          "Dtree",
          "RForest",
          "ADA",
          "GBC",
          "ETC",
          "logreg",
          "KNN",
          "GaussianNB",
          "Perceptron",
          "LinearSVC",
          "SGD",
          "Dtree",
          "RForest",
          "ADA",
          "GBC",
          "ETC",
          "logreg",
          "KNN",
          "GaussianNB",
          "Perceptron",
          "LinearSVC",
          "SGD",
          "Dtree",
          "RForest",
          "ADA",
          "GBC",
          "ETC",
          "logreg",
          "KNN",
          "GaussianNB",
          "Perceptron",
          "LinearSVC",
          "SGD",
          "Dtree",
          "RForest",
          "ADA",
          "GBC",
          "ETC",
          "logreg",
          "KNN",
          "GaussianNB",
          "Perceptron",
          "LinearSVC",
          "SGD",
          "Dtree",
          "RForest",
          "ADA",
          "GBC",
          "ETC",
          "logreg",
          "KNN",
          "GaussianNB",
          "Perceptron",
          "LinearSVC",
          "SGD",
          "Dtree",
          "RForest",
          "ADA",
          "GBC",
          "ETC",
          "logreg",
          "KNN",
          "GaussianNB",
          "Perceptron",
          "LinearSVC",
          "SGD",
          "Dtree",
          "RForest",
          "ADA",
          "GBC",
          "ETC",
          "logreg",
          "KNN",
          "GaussianNB",
          "Perceptron",
          "LinearSVC",
          "SGD",
          "Dtree",
          "RForest",
          "ADA",
          "GBC",
          "ETC"
         ],
         "x0": " ",
         "xaxis": "x",
         "y": [
          0.8456044920161432,
          0.9199684155114932,
          0.5476574837690823,
          0.8046323916476574,
          0.8424986839796456,
          0.8350412353044394,
          0.880786102825057,
          0.922126688892788,
          0.7831724864011229,
          0.8464642919810493,
          0.9339182312686436,
          0.845025443060186,
          0.9207580277241622,
          0.5409194595543078,
          0.762309177048605,
          0.8424635901035269,
          0.8370240393051412,
          0.8837339884190208,
          0.9190735216704684,
          0.7726969643797157,
          0.8472363572556589,
          0.9347253904193716,
          0.8437620635199158,
          0.9216880154413054,
          0.5281277417090717,
          0.8480084225302684,
          0.8390419371819617,
          0.8224074399017371,
          0.8813826987190736,
          0.9190559747324092,
          0.7632918055799263,
          0.8474293735743113,
          0.9343393577820672,
          0.8300403579575364,
          0.924723635725566,
          0.5195121951219512,
          0.756220389542025,
          0.8205474644674504,
          0.8308826109843832,
          0.8782593437445165,
          0.9247060887875066,
          0.7436918757676785,
          0.8425337778557642,
          0.9362344270924724,
          0.8084576241445868,
          0.9513423407615372,
          0.5067906650289524,
          0.7894367432882962,
          0.8080014037550447,
          0.8224776276539745,
          0.8526408141779259,
          0.9432356553781364,
          0.6963502368836638,
          0.8117915423758555,
          0.9659764871030004,
          0.9345499210387788,
          0.9905246534479732,
          0.5532023161958238,
          0.9043340937006492,
          0.924723635725566,
          0.932181084400772,
          0.99187576767854,
          0.9959992981224776,
          0.8527811896824005,
          0.9523074223547991,
          0.9963853307597824,
          0.9346902965432532,
          0.9924021758203194,
          0.5522372346025619,
          0.8980347429373574,
          0.9249166520442182,
          0.9291103702403932,
          0.9952447797859274,
          0.9972626776627478,
          0.861572205650114,
          0.9524828917353922,
          0.9977364449903492,
          0.9291805579926302,
          0.9911387962800492,
          0.5342691700298299,
          0.8195823828741884,
          0.9175820319354272,
          0.9184593788383928,
          0.9875065801017722,
          0.992156518687489,
          0.835760659764871,
          0.9447095981751183,
          0.994367432882962,
          0.8902088085629057,
          0.9913493595367608,
          0.5328303211089664,
          0.8330759782417968,
          0.8751886295841376,
          0.888173363748026,
          0.9881909106860852,
          0.9962800491314264,
          0.8203895420249167,
          0.9324793823477804,
          0.9973328654149852,
          0.8402877697841726,
          0.9364274434111248,
          0.5255834356904721,
          0.8449728022460081,
          0.8369363046148447,
          0.8276188805053518,
          0.887208282154764,
          0.9261975785225478,
          0.7585541323039129,
          0.8778557641691525,
          0.9313388313739251,
          0.9689068257589052,
          0.9942972451307248,
          0.587208282154764,
          0.9609580628180384,
          0.9578698017196,
          0.9625197403053168,
          0.9927531145815056,
          0.9969468327776804,
          0.8750833479557818,
          0.9807159150728196,
          0.9975960694858748,
          0.967362695209686,
          0.995964204246359,
          0.576574837690823,
          0.7483593612914546,
          0.9578873486576592,
          0.9625548341814354,
          0.9947885593963852,
          0.998017195999298,
          0.8963853307597824,
          0.9794525355325496,
          0.9988945429022636,
          0.95736094051588,
          0.9942972451307248,
          0.5666081768731357,
          0.9259168275135988,
          0.9456571328303212,
          0.9511493244428848,
          0.991472188103176,
          0.9933672574135812,
          0.8812774170907177,
          0.9653623442709248,
          0.9952447797859274,
          0.9079838568169856,
          0.9951219512195122,
          0.5542024916652044,
          0.8805755395683453,
          0.8937883839270047,
          0.9054921916125636,
          0.9881909106860852,
          0.9970696613440956,
          0.8467099491138796,
          0.93883137392525,
          0.9984032286366028,
          0.853097034567468,
          0.9372872433760308,
          0.541445867696087,
          0.7807510089489385,
          0.8500087734690296,
          0.8433584839445516,
          0.8787857518862958,
          0.9292858396209862,
          0.7909457799613967,
          0.8845411475697491,
          0.9311282681172136,
          0.9781891559922792,
          0.9954202491665204,
          0.5909808738375153,
          0.9513247938234778,
          0.9736971398490964,
          0.975329005088612,
          0.997385506229163,
          0.9987015265836112,
          0.9038603263730478,
          0.9836988945429024,
          0.9986488857694332,
          0.9758027724162134,
          0.9971223021582734,
          0.5919985962449552,
          0.8831198455869451,
          0.9720652746095806,
          0.9731531847692578,
          0.9984558694507808,
          0.9998596244955256,
          0.8962098613791893,
          0.9875416739778908,
          0.9998069836813476,
          0.964572732058256,
          0.99517459203369,
          0.5680294788559397,
          0.8898052289875417,
          0.9561502017897876,
          0.9620459729777152,
          0.9927706615195648,
          0.9946306369538516,
          0.8819091068608528,
          0.9700298297947008,
          0.996244955255308,
          0.9129671872258291,
          0.9956659062993508,
          0.5725565888752413,
          0.9038252324969294,
          0.902842603965608,
          0.9018950693104052,
          0.9920512370591332,
          0.9987015265836112,
          0.8415862432005615,
          0.9439024390243902,
          0.9991577469731532,
          0.8529742060010528,
          0.939059484120021,
          0.5646078259343744,
          0.7856816985436041,
          0.8570100017546938,
          0.8628004913142657,
          0.8897876820494823,
          0.92842603965608,
          0.8003333918231268,
          0.8768731356378312,
          0.931093174241095,
          0.9746973153184768,
          0.9842077557466222,
          0.5858747148622565,
          0.933830496578347,
          0.9696087032812776,
          0.967713633970872,
          0.995279873662046,
          0.997052114406036,
          0.8983505878224249,
          0.980610633444464,
          0.9968240042112652,
          0.9726618705035972,
          0.9860852781189682,
          0.5883839270047377,
          0.9587646955606246,
          0.9682400421126514,
          0.9684856992454816,
          0.9944727145113178,
          0.9981575715037724,
          0.8804702579399895,
          0.9771187927706616,
          0.9982102123179504,
          0.9610808913844534,
          0.9837866292331988,
          0.5651693279522724,
          0.9613967362695208,
          0.9524477978592736,
          0.9528338304965784,
          0.9885418494472714,
          0.9929285839620986,
          0.8802246008071591,
          0.9579926302860152,
          0.9946130900157922,
          0.9112124934198982,
          0.9841902088085628,
          0.5686260747499561,
          0.8798561151079136,
          0.8990173714686787,
          0.9260572030180734,
          0.9845411475697492,
          0.996595894016494,
          0.8394104228812072,
          0.9278996315143008,
          0.997666257238112,
          0.85634321810844,
          0.9472889980698368,
          0.5706615195648359,
          0.8696087032812774,
          0.8594490261449377,
          0.8350061414283207,
          0.881119494648184,
          0.930303562028426,
          0.8085979996490613,
          0.8870679066502896,
          0.9357255658887524
         ],
         "y0": " ",
         "yaxis": "y"
        }
       ],
       "layout": {
        "boxmode": "group",
        "legend": {
         "tracegroupgap": 0
        },
        "template": {
         "data": {
          "bar": [
           {
            "error_x": {
             "color": "#2a3f5f"
            },
            "error_y": {
             "color": "#2a3f5f"
            },
            "marker": {
             "line": {
              "color": "#E5ECF6",
              "width": 0.5
             },
             "pattern": {
              "fillmode": "overlay",
              "size": 10,
              "solidity": 0.2
             }
            },
            "type": "bar"
           }
          ],
          "barpolar": [
           {
            "marker": {
             "line": {
              "color": "#E5ECF6",
              "width": 0.5
             },
             "pattern": {
              "fillmode": "overlay",
              "size": 10,
              "solidity": 0.2
             }
            },
            "type": "barpolar"
           }
          ],
          "carpet": [
           {
            "aaxis": {
             "endlinecolor": "#2a3f5f",
             "gridcolor": "white",
             "linecolor": "white",
             "minorgridcolor": "white",
             "startlinecolor": "#2a3f5f"
            },
            "baxis": {
             "endlinecolor": "#2a3f5f",
             "gridcolor": "white",
             "linecolor": "white",
             "minorgridcolor": "white",
             "startlinecolor": "#2a3f5f"
            },
            "type": "carpet"
           }
          ],
          "choropleth": [
           {
            "colorbar": {
             "outlinewidth": 0,
             "ticks": ""
            },
            "type": "choropleth"
           }
          ],
          "contour": [
           {
            "colorbar": {
             "outlinewidth": 0,
             "ticks": ""
            },
            "colorscale": [
             [
              0,
              "#0d0887"
             ],
             [
              0.1111111111111111,
              "#46039f"
             ],
             [
              0.2222222222222222,
              "#7201a8"
             ],
             [
              0.3333333333333333,
              "#9c179e"
             ],
             [
              0.4444444444444444,
              "#bd3786"
             ],
             [
              0.5555555555555556,
              "#d8576b"
             ],
             [
              0.6666666666666666,
              "#ed7953"
             ],
             [
              0.7777777777777778,
              "#fb9f3a"
             ],
             [
              0.8888888888888888,
              "#fdca26"
             ],
             [
              1,
              "#f0f921"
             ]
            ],
            "type": "contour"
           }
          ],
          "contourcarpet": [
           {
            "colorbar": {
             "outlinewidth": 0,
             "ticks": ""
            },
            "type": "contourcarpet"
           }
          ],
          "heatmap": [
           {
            "colorbar": {
             "outlinewidth": 0,
             "ticks": ""
            },
            "colorscale": [
             [
              0,
              "#0d0887"
             ],
             [
              0.1111111111111111,
              "#46039f"
             ],
             [
              0.2222222222222222,
              "#7201a8"
             ],
             [
              0.3333333333333333,
              "#9c179e"
             ],
             [
              0.4444444444444444,
              "#bd3786"
             ],
             [
              0.5555555555555556,
              "#d8576b"
             ],
             [
              0.6666666666666666,
              "#ed7953"
             ],
             [
              0.7777777777777778,
              "#fb9f3a"
             ],
             [
              0.8888888888888888,
              "#fdca26"
             ],
             [
              1,
              "#f0f921"
             ]
            ],
            "type": "heatmap"
           }
          ],
          "heatmapgl": [
           {
            "colorbar": {
             "outlinewidth": 0,
             "ticks": ""
            },
            "colorscale": [
             [
              0,
              "#0d0887"
             ],
             [
              0.1111111111111111,
              "#46039f"
             ],
             [
              0.2222222222222222,
              "#7201a8"
             ],
             [
              0.3333333333333333,
              "#9c179e"
             ],
             [
              0.4444444444444444,
              "#bd3786"
             ],
             [
              0.5555555555555556,
              "#d8576b"
             ],
             [
              0.6666666666666666,
              "#ed7953"
             ],
             [
              0.7777777777777778,
              "#fb9f3a"
             ],
             [
              0.8888888888888888,
              "#fdca26"
             ],
             [
              1,
              "#f0f921"
             ]
            ],
            "type": "heatmapgl"
           }
          ],
          "histogram": [
           {
            "marker": {
             "pattern": {
              "fillmode": "overlay",
              "size": 10,
              "solidity": 0.2
             }
            },
            "type": "histogram"
           }
          ],
          "histogram2d": [
           {
            "colorbar": {
             "outlinewidth": 0,
             "ticks": ""
            },
            "colorscale": [
             [
              0,
              "#0d0887"
             ],
             [
              0.1111111111111111,
              "#46039f"
             ],
             [
              0.2222222222222222,
              "#7201a8"
             ],
             [
              0.3333333333333333,
              "#9c179e"
             ],
             [
              0.4444444444444444,
              "#bd3786"
             ],
             [
              0.5555555555555556,
              "#d8576b"
             ],
             [
              0.6666666666666666,
              "#ed7953"
             ],
             [
              0.7777777777777778,
              "#fb9f3a"
             ],
             [
              0.8888888888888888,
              "#fdca26"
             ],
             [
              1,
              "#f0f921"
             ]
            ],
            "type": "histogram2d"
           }
          ],
          "histogram2dcontour": [
           {
            "colorbar": {
             "outlinewidth": 0,
             "ticks": ""
            },
            "colorscale": [
             [
              0,
              "#0d0887"
             ],
             [
              0.1111111111111111,
              "#46039f"
             ],
             [
              0.2222222222222222,
              "#7201a8"
             ],
             [
              0.3333333333333333,
              "#9c179e"
             ],
             [
              0.4444444444444444,
              "#bd3786"
             ],
             [
              0.5555555555555556,
              "#d8576b"
             ],
             [
              0.6666666666666666,
              "#ed7953"
             ],
             [
              0.7777777777777778,
              "#fb9f3a"
             ],
             [
              0.8888888888888888,
              "#fdca26"
             ],
             [
              1,
              "#f0f921"
             ]
            ],
            "type": "histogram2dcontour"
           }
          ],
          "mesh3d": [
           {
            "colorbar": {
             "outlinewidth": 0,
             "ticks": ""
            },
            "type": "mesh3d"
           }
          ],
          "parcoords": [
           {
            "line": {
             "colorbar": {
              "outlinewidth": 0,
              "ticks": ""
             }
            },
            "type": "parcoords"
           }
          ],
          "pie": [
           {
            "automargin": true,
            "type": "pie"
           }
          ],
          "scatter": [
           {
            "fillpattern": {
             "fillmode": "overlay",
             "size": 10,
             "solidity": 0.2
            },
            "type": "scatter"
           }
          ],
          "scatter3d": [
           {
            "line": {
             "colorbar": {
              "outlinewidth": 0,
              "ticks": ""
             }
            },
            "marker": {
             "colorbar": {
              "outlinewidth": 0,
              "ticks": ""
             }
            },
            "type": "scatter3d"
           }
          ],
          "scattercarpet": [
           {
            "marker": {
             "colorbar": {
              "outlinewidth": 0,
              "ticks": ""
             }
            },
            "type": "scattercarpet"
           }
          ],
          "scattergeo": [
           {
            "marker": {
             "colorbar": {
              "outlinewidth": 0,
              "ticks": ""
             }
            },
            "type": "scattergeo"
           }
          ],
          "scattergl": [
           {
            "marker": {
             "colorbar": {
              "outlinewidth": 0,
              "ticks": ""
             }
            },
            "type": "scattergl"
           }
          ],
          "scattermapbox": [
           {
            "marker": {
             "colorbar": {
              "outlinewidth": 0,
              "ticks": ""
             }
            },
            "type": "scattermapbox"
           }
          ],
          "scatterpolar": [
           {
            "marker": {
             "colorbar": {
              "outlinewidth": 0,
              "ticks": ""
             }
            },
            "type": "scatterpolar"
           }
          ],
          "scatterpolargl": [
           {
            "marker": {
             "colorbar": {
              "outlinewidth": 0,
              "ticks": ""
             }
            },
            "type": "scatterpolargl"
           }
          ],
          "scatterternary": [
           {
            "marker": {
             "colorbar": {
              "outlinewidth": 0,
              "ticks": ""
             }
            },
            "type": "scatterternary"
           }
          ],
          "surface": [
           {
            "colorbar": {
             "outlinewidth": 0,
             "ticks": ""
            },
            "colorscale": [
             [
              0,
              "#0d0887"
             ],
             [
              0.1111111111111111,
              "#46039f"
             ],
             [
              0.2222222222222222,
              "#7201a8"
             ],
             [
              0.3333333333333333,
              "#9c179e"
             ],
             [
              0.4444444444444444,
              "#bd3786"
             ],
             [
              0.5555555555555556,
              "#d8576b"
             ],
             [
              0.6666666666666666,
              "#ed7953"
             ],
             [
              0.7777777777777778,
              "#fb9f3a"
             ],
             [
              0.8888888888888888,
              "#fdca26"
             ],
             [
              1,
              "#f0f921"
             ]
            ],
            "type": "surface"
           }
          ],
          "table": [
           {
            "cells": {
             "fill": {
              "color": "#EBF0F8"
             },
             "line": {
              "color": "white"
             }
            },
            "header": {
             "fill": {
              "color": "#C8D4E3"
             },
             "line": {
              "color": "white"
             }
            },
            "type": "table"
           }
          ]
         },
         "layout": {
          "annotationdefaults": {
           "arrowcolor": "#2a3f5f",
           "arrowhead": 0,
           "arrowwidth": 1
          },
          "autotypenumbers": "strict",
          "coloraxis": {
           "colorbar": {
            "outlinewidth": 0,
            "ticks": ""
           }
          },
          "colorscale": {
           "diverging": [
            [
             0,
             "#8e0152"
            ],
            [
             0.1,
             "#c51b7d"
            ],
            [
             0.2,
             "#de77ae"
            ],
            [
             0.3,
             "#f1b6da"
            ],
            [
             0.4,
             "#fde0ef"
            ],
            [
             0.5,
             "#f7f7f7"
            ],
            [
             0.6,
             "#e6f5d0"
            ],
            [
             0.7,
             "#b8e186"
            ],
            [
             0.8,
             "#7fbc41"
            ],
            [
             0.9,
             "#4d9221"
            ],
            [
             1,
             "#276419"
            ]
           ],
           "sequential": [
            [
             0,
             "#0d0887"
            ],
            [
             0.1111111111111111,
             "#46039f"
            ],
            [
             0.2222222222222222,
             "#7201a8"
            ],
            [
             0.3333333333333333,
             "#9c179e"
            ],
            [
             0.4444444444444444,
             "#bd3786"
            ],
            [
             0.5555555555555556,
             "#d8576b"
            ],
            [
             0.6666666666666666,
             "#ed7953"
            ],
            [
             0.7777777777777778,
             "#fb9f3a"
            ],
            [
             0.8888888888888888,
             "#fdca26"
            ],
            [
             1,
             "#f0f921"
            ]
           ],
           "sequentialminus": [
            [
             0,
             "#0d0887"
            ],
            [
             0.1111111111111111,
             "#46039f"
            ],
            [
             0.2222222222222222,
             "#7201a8"
            ],
            [
             0.3333333333333333,
             "#9c179e"
            ],
            [
             0.4444444444444444,
             "#bd3786"
            ],
            [
             0.5555555555555556,
             "#d8576b"
            ],
            [
             0.6666666666666666,
             "#ed7953"
            ],
            [
             0.7777777777777778,
             "#fb9f3a"
            ],
            [
             0.8888888888888888,
             "#fdca26"
            ],
            [
             1,
             "#f0f921"
            ]
           ]
          },
          "colorway": [
           "#636efa",
           "#EF553B",
           "#00cc96",
           "#ab63fa",
           "#FFA15A",
           "#19d3f3",
           "#FF6692",
           "#B6E880",
           "#FF97FF",
           "#FECB52"
          ],
          "font": {
           "color": "#2a3f5f"
          },
          "geo": {
           "bgcolor": "white",
           "lakecolor": "white",
           "landcolor": "#E5ECF6",
           "showlakes": true,
           "showland": true,
           "subunitcolor": "white"
          },
          "hoverlabel": {
           "align": "left"
          },
          "hovermode": "closest",
          "mapbox": {
           "style": "light"
          },
          "paper_bgcolor": "white",
          "plot_bgcolor": "#E5ECF6",
          "polar": {
           "angularaxis": {
            "gridcolor": "white",
            "linecolor": "white",
            "ticks": ""
           },
           "bgcolor": "#E5ECF6",
           "radialaxis": {
            "gridcolor": "white",
            "linecolor": "white",
            "ticks": ""
           }
          },
          "scene": {
           "xaxis": {
            "backgroundcolor": "#E5ECF6",
            "gridcolor": "white",
            "gridwidth": 2,
            "linecolor": "white",
            "showbackground": true,
            "ticks": "",
            "zerolinecolor": "white"
           },
           "yaxis": {
            "backgroundcolor": "#E5ECF6",
            "gridcolor": "white",
            "gridwidth": 2,
            "linecolor": "white",
            "showbackground": true,
            "ticks": "",
            "zerolinecolor": "white"
           },
           "zaxis": {
            "backgroundcolor": "#E5ECF6",
            "gridcolor": "white",
            "gridwidth": 2,
            "linecolor": "white",
            "showbackground": true,
            "ticks": "",
            "zerolinecolor": "white"
           }
          },
          "shapedefaults": {
           "line": {
            "color": "#2a3f5f"
           }
          },
          "ternary": {
           "aaxis": {
            "gridcolor": "white",
            "linecolor": "white",
            "ticks": ""
           },
           "baxis": {
            "gridcolor": "white",
            "linecolor": "white",
            "ticks": ""
           },
           "bgcolor": "#E5ECF6",
           "caxis": {
            "gridcolor": "white",
            "linecolor": "white",
            "ticks": ""
           }
          },
          "title": {
           "x": 0.05
          },
          "xaxis": {
           "automargin": true,
           "gridcolor": "white",
           "linecolor": "white",
           "ticks": "",
           "title": {
            "standoff": 15
           },
           "zerolinecolor": "white",
           "zerolinewidth": 2
          },
          "yaxis": {
           "automargin": true,
           "gridcolor": "white",
           "linecolor": "white",
           "ticks": "",
           "title": {
            "standoff": 15
           },
           "zerolinecolor": "white",
           "zerolinewidth": 2
          }
         }
        },
        "title": {
         "text": "Boxplot da Acurácia Balanceada do classificador Sim 0"
        },
        "xaxis": {
         "anchor": "y",
         "domain": [
          0,
          1
         ],
         "title": {
          "text": "Nome"
         }
        },
        "yaxis": {
         "anchor": "x",
         "domain": [
          0,
          1
         ],
         "range": [
          0,
          1
         ],
         "title": {
          "text": "Acurácia Balanceada"
         }
        }
       }
      }
     },
     "metadata": {},
     "output_type": "display_data"
    },
    {
     "data": {
      "application/vnd.plotly.v1+json": {
       "config": {
        "plotlyServerURL": "https://plot.ly"
       },
       "data": [
        {
         "alignmentgroup": "True",
         "boxpoints": "all",
         "hovertemplate": "Nome=%{x}<br>Acurácia Balanceada=%{y}<extra></extra>",
         "legendgroup": "",
         "marker": {
          "color": "rgb(228,26,28)"
         },
         "name": "",
         "notched": false,
         "offsetgroup": "",
         "orientation": "v",
         "showlegend": false,
         "type": "box",
         "x": [
          "logreg",
          "KNN",
          "GaussianNB",
          "Perceptron",
          "LinearSVC",
          "SGD",
          "Dtree",
          "RForest",
          "ADA",
          "GBC",
          "ETC",
          "logreg",
          "KNN",
          "GaussianNB",
          "Perceptron",
          "LinearSVC",
          "SGD",
          "Dtree",
          "RForest",
          "ADA",
          "GBC",
          "ETC",
          "logreg",
          "KNN",
          "GaussianNB",
          "Perceptron",
          "LinearSVC",
          "SGD",
          "Dtree",
          "RForest",
          "ADA",
          "GBC",
          "ETC",
          "logreg",
          "KNN",
          "GaussianNB",
          "Perceptron",
          "LinearSVC",
          "SGD",
          "Dtree",
          "RForest",
          "ADA",
          "GBC",
          "ETC",
          "logreg",
          "KNN",
          "GaussianNB",
          "Perceptron",
          "LinearSVC",
          "SGD",
          "Dtree",
          "RForest",
          "ADA",
          "GBC",
          "ETC",
          "logreg",
          "KNN",
          "GaussianNB",
          "Perceptron",
          "LinearSVC",
          "SGD",
          "Dtree",
          "RForest",
          "ADA",
          "GBC",
          "ETC",
          "logreg",
          "KNN",
          "GaussianNB",
          "Perceptron",
          "LinearSVC",
          "SGD",
          "Dtree",
          "RForest",
          "ADA",
          "GBC",
          "ETC",
          "logreg",
          "KNN",
          "GaussianNB",
          "Perceptron",
          "LinearSVC",
          "SGD",
          "Dtree",
          "RForest",
          "ADA",
          "GBC",
          "ETC",
          "logreg",
          "KNN",
          "GaussianNB",
          "Perceptron",
          "LinearSVC",
          "SGD",
          "Dtree",
          "RForest",
          "ADA",
          "GBC",
          "ETC",
          "logreg",
          "KNN",
          "GaussianNB",
          "Perceptron",
          "LinearSVC",
          "SGD",
          "Dtree",
          "RForest",
          "ADA",
          "GBC",
          "ETC",
          "logreg",
          "KNN",
          "GaussianNB",
          "Perceptron",
          "LinearSVC",
          "SGD",
          "Dtree",
          "RForest",
          "ADA",
          "GBC",
          "ETC",
          "logreg",
          "KNN",
          "GaussianNB",
          "Perceptron",
          "LinearSVC",
          "SGD",
          "Dtree",
          "RForest",
          "ADA",
          "GBC",
          "ETC",
          "logreg",
          "KNN",
          "GaussianNB",
          "Perceptron",
          "LinearSVC",
          "SGD",
          "Dtree",
          "RForest",
          "ADA",
          "GBC",
          "ETC",
          "logreg",
          "KNN",
          "GaussianNB",
          "Perceptron",
          "LinearSVC",
          "SGD",
          "Dtree",
          "RForest",
          "ADA",
          "GBC",
          "ETC",
          "logreg",
          "KNN",
          "GaussianNB",
          "Perceptron",
          "LinearSVC",
          "SGD",
          "Dtree",
          "RForest",
          "ADA",
          "GBC",
          "ETC",
          "logreg",
          "KNN",
          "GaussianNB",
          "Perceptron",
          "LinearSVC",
          "SGD",
          "Dtree",
          "RForest",
          "ADA",
          "GBC",
          "ETC",
          "logreg",
          "KNN",
          "GaussianNB",
          "Perceptron",
          "LinearSVC",
          "SGD",
          "Dtree",
          "RForest",
          "ADA",
          "GBC",
          "ETC",
          "logreg",
          "KNN",
          "GaussianNB",
          "Perceptron",
          "LinearSVC",
          "SGD",
          "Dtree",
          "RForest",
          "ADA",
          "GBC",
          "ETC",
          "logreg",
          "KNN",
          "GaussianNB",
          "Perceptron",
          "LinearSVC",
          "SGD",
          "Dtree",
          "RForest",
          "ADA",
          "GBC",
          "ETC",
          "logreg",
          "KNN",
          "GaussianNB",
          "Perceptron",
          "LinearSVC",
          "SGD",
          "Dtree",
          "RForest",
          "ADA",
          "GBC",
          "ETC",
          "logreg",
          "KNN",
          "GaussianNB",
          "Perceptron",
          "LinearSVC",
          "SGD",
          "Dtree",
          "RForest",
          "ADA",
          "GBC",
          "ETC",
          "logreg",
          "KNN",
          "GaussianNB",
          "Perceptron",
          "LinearSVC",
          "SGD",
          "Dtree",
          "RForest",
          "ADA",
          "GBC",
          "ETC",
          "logreg",
          "KNN",
          "GaussianNB",
          "Perceptron",
          "LinearSVC",
          "SGD",
          "Dtree",
          "RForest",
          "ADA",
          "GBC",
          "ETC",
          "logreg",
          "KNN",
          "GaussianNB",
          "Perceptron",
          "LinearSVC",
          "SGD",
          "Dtree",
          "RForest",
          "ADA",
          "GBC",
          "ETC",
          "logreg",
          "KNN",
          "GaussianNB",
          "Perceptron",
          "LinearSVC",
          "SGD",
          "Dtree",
          "RForest",
          "ADA",
          "GBC",
          "ETC"
         ],
         "x0": " ",
         "xaxis": "x",
         "y": [
          0.6843305843130374,
          0.9079312160028076,
          0.5483944551675732,
          0.6502368836638006,
          0.6754167397789086,
          0.7160554483242674,
          0.8698894542902265,
          0.9055448324267414,
          0.7515353570801895,
          0.7996139673626952,
          0.933146165994034,
          0.6583611159852606,
          0.9091945955430778,
          0.5431830145639587,
          0.5394104228812072,
          0.6502368836638006,
          0.7110370240393051,
          0.8660291279171785,
          0.9048955957185472,
          0.7611861730128093,
          0.8003684856992455,
          0.9350587822424988,
          0.6402877697841727,
          0.911370415862432,
          0.5297245130724688,
          0.6721354623618179,
          0.6330584313037375,
          0.6882084576241446,
          0.8669766625723812,
          0.9038427794349886,
          0.740533426917003,
          0.7977539919284085,
          0.9363221617827688,
          0.5959466573082997,
          0.916774872784699,
          0.523425162309177,
          0.5349359536760835,
          0.5918231268643621,
          0.6144586769608704,
          0.8674153360238639,
          0.911598526057203,
          0.7076329180557992,
          0.77918933146166,
          0.9365853658536584,
          0.5361115985260572,
          0.9267415336023864,
          0.5151605544832427,
          0.5204948236532725,
          0.5312510966836287,
          0.5789261273907703,
          0.8409545534304264,
          0.9167397789085804,
          0.676978417266187,
          0.7489208633093525,
          0.9559220915950166,
          0.7133005790489559,
          0.985839620986138,
          0.5575013160203545,
          0.5754518336550272,
          0.7018599754342867,
          0.7309703456746798,
          0.9870679066502897,
          0.9943849798210213,
          0.8185646604667485,
          0.8977188980522899,
          0.9958589226180032,
          0.6834707843481312,
          0.9870328127741708,
          0.5542726794174416,
          0.5689243726969644,
          0.673504123530444,
          0.7111773995437796,
          0.9888927882084576,
          0.9956483593612916,
          0.8286190559747324,
          0.8947008247060888,
          0.9966309878926128,
          0.658273381294964,
          0.9855939638533076,
          0.5387787331110722,
          0.5395332514476223,
          0.6505527285488681,
          0.70380768555887,
          0.98248815581681,
          0.990735216704685,
          0.814265660642218,
          0.8807685558869978,
          0.995455343042639,
          0.6157571503772592,
          0.9852079312160028,
          0.5349008597999649,
          0.5416915248289174,
          0.6112651342340762,
          0.6980171959992981,
          0.981926653798912,
          0.9936480084225304,
          0.7619582382874188,
          0.8626776627478505,
          0.9955957185471136,
          0.5597648710300053,
          0.918476925776452,
          0.5294262151254606,
          0.5470608878750658,
          0.5545709773644499,
          0.6098964730654501,
          0.8707317073170733,
          0.9176346727496052,
          0.7265660642217933,
          0.8245657132830321,
          0.9290226355500966,
          0.7118617301280926,
          0.9941744165643096,
          0.5886120371995087,
          0.5321986313388314,
          0.7025618529566591,
          0.7572732058255834,
          0.9906474820143883,
          0.9967362695209686,
          0.8679066502895245,
          0.926039656080014,
          0.997841726618705,
          0.6738550622916302,
          0.995227232847868,
          0.5824004211265135,
          0.5930514125285138,
          0.6658361115985261,
          0.7001930163186524,
          0.9942446043165468,
          0.9978592735567644,
          0.8656255483418144,
          0.924320056150202,
          0.9987190735216704,
          0.6610633444463941,
          0.992788208457624,
          0.5692577645200912,
          0.5594139322688191,
          0.6551851201965257,
          0.7309527987366204,
          0.9879101596771364,
          0.9931391472188102,
          0.8497631163361994,
          0.911879277066152,
          0.9975434286716968,
          0.6122653097034567,
          0.99010352693455,
          0.5615020178978768,
          0.5683102298648885,
          0.6083874363923496,
          0.6263555009650816,
          0.9834707843481312,
          0.995227232847868,
          0.8135111423056676,
          0.8807685558869978,
          0.9970170205299176,
          0.5314616599403404,
          0.9173012809264784,
          0.5520617652219688,
          0.5830145639585892,
          0.5276364274434111,
          0.5992454816634498,
          0.8735918582207405,
          0.917669766625724,
          0.7656080014037551,
          0.8358133005790489,
          0.9268468152307424,
          0.7383400596595894,
          0.9956483593612916,
          0.5982628531321283,
          0.5140024565713284,
          0.7296367783821723,
          0.7039480610633444,
          0.9906650289524478,
          0.9980347429373576,
          0.8970696613440954,
          0.9326723986664328,
          0.9983856816985436,
          0.7002632040708896,
          0.99670117564485,
          0.5959817511844183,
          0.5688366380066678,
          0.6938410247411826,
          0.6880329882435515,
          0.9944902614493772,
          0.9993507632918056,
          0.8692051237059133,
          0.9250570275486928,
          0.9993858571679242,
          0.6812774170907177,
          0.9941042288120724,
          0.578118968240042,
          0.5956659062993508,
          0.6762238989296367,
          0.6569749078785752,
          0.9891910861554658,
          0.9941042288120724,
          0.8639761361642393,
          0.9079487629408668,
          0.9978066327425864,
          0.633830496578347,
          0.9908229513949816,
          0.5757150377259168,
          0.6450605369363046,
          0.6301982804000702,
          0.65736094051588,
          0.9842077557466222,
          0.996420424635901,
          0.8090015792244254,
          0.8830847517108265,
          0.9975083347955782,
          0.5623969117389016,
          0.916722231970521,
          0.5702579399894718,
          0.6259694683277768,
          0.5578522547815405,
          0.6015792244253377,
          0.8715564134058607,
          0.916652044218284,
          0.7828741884541148,
          0.8367959291103703,
          0.9282330233374276,
          0.7601333567292508,
          0.9775399192840848,
          0.5973679592911038,
          0.5753991928408493,
          0.7477101245832602,
          0.7814353395332514,
          0.981242323214599,
          0.9881558168099668,
          0.8952447797859273,
          0.9305492191612564,
          0.9886997718898052,
          0.7154939463063695,
          0.9788383927004738,
          0.5971223021582734,
          0.5537462712756624,
          0.7067555711528338,
          0.7000701877522373,
          0.982260045622039,
          0.9899631514300756,
          0.8926478329531498,
          0.9215827338129496,
          0.9902088085629056,
          0.6887524127039832,
          0.9760835234251624,
          0.5777680294788559,
          0.490507106509914,
          0.6848394455167574,
          0.6886646780136867,
          0.9765397438147044,
          0.9840147394279698,
          0.8495350061414284,
          0.90557992630286,
          0.9876469556062468,
          0.6466222144235831,
          0.9728022460080716,
          0.5772942621512546,
          0.5462888226004562,
          0.6442533777855763,
          0.6851026495876469,
          0.9711879277066152,
          0.9864362168801544,
          0.8184418319003334,
          0.8725916827513599,
          0.9879277066151956,
          0.6015792244253377,
          0.919266537989121,
          0.5754693805930865,
          0.7207053869099842,
          0.5964028776978417,
          0.6041937181961747,
          0.8656957360940516,
          0.9204421828390944,
          0.794595543077733,
          0.8464116511668713,
          0.9301105457097736
         ],
         "y0": " ",
         "yaxis": "y"
        }
       ],
       "layout": {
        "boxmode": "group",
        "legend": {
         "tracegroupgap": 0
        },
        "template": {
         "data": {
          "bar": [
           {
            "error_x": {
             "color": "#2a3f5f"
            },
            "error_y": {
             "color": "#2a3f5f"
            },
            "marker": {
             "line": {
              "color": "#E5ECF6",
              "width": 0.5
             },
             "pattern": {
              "fillmode": "overlay",
              "size": 10,
              "solidity": 0.2
             }
            },
            "type": "bar"
           }
          ],
          "barpolar": [
           {
            "marker": {
             "line": {
              "color": "#E5ECF6",
              "width": 0.5
             },
             "pattern": {
              "fillmode": "overlay",
              "size": 10,
              "solidity": 0.2
             }
            },
            "type": "barpolar"
           }
          ],
          "carpet": [
           {
            "aaxis": {
             "endlinecolor": "#2a3f5f",
             "gridcolor": "white",
             "linecolor": "white",
             "minorgridcolor": "white",
             "startlinecolor": "#2a3f5f"
            },
            "baxis": {
             "endlinecolor": "#2a3f5f",
             "gridcolor": "white",
             "linecolor": "white",
             "minorgridcolor": "white",
             "startlinecolor": "#2a3f5f"
            },
            "type": "carpet"
           }
          ],
          "choropleth": [
           {
            "colorbar": {
             "outlinewidth": 0,
             "ticks": ""
            },
            "type": "choropleth"
           }
          ],
          "contour": [
           {
            "colorbar": {
             "outlinewidth": 0,
             "ticks": ""
            },
            "colorscale": [
             [
              0,
              "#0d0887"
             ],
             [
              0.1111111111111111,
              "#46039f"
             ],
             [
              0.2222222222222222,
              "#7201a8"
             ],
             [
              0.3333333333333333,
              "#9c179e"
             ],
             [
              0.4444444444444444,
              "#bd3786"
             ],
             [
              0.5555555555555556,
              "#d8576b"
             ],
             [
              0.6666666666666666,
              "#ed7953"
             ],
             [
              0.7777777777777778,
              "#fb9f3a"
             ],
             [
              0.8888888888888888,
              "#fdca26"
             ],
             [
              1,
              "#f0f921"
             ]
            ],
            "type": "contour"
           }
          ],
          "contourcarpet": [
           {
            "colorbar": {
             "outlinewidth": 0,
             "ticks": ""
            },
            "type": "contourcarpet"
           }
          ],
          "heatmap": [
           {
            "colorbar": {
             "outlinewidth": 0,
             "ticks": ""
            },
            "colorscale": [
             [
              0,
              "#0d0887"
             ],
             [
              0.1111111111111111,
              "#46039f"
             ],
             [
              0.2222222222222222,
              "#7201a8"
             ],
             [
              0.3333333333333333,
              "#9c179e"
             ],
             [
              0.4444444444444444,
              "#bd3786"
             ],
             [
              0.5555555555555556,
              "#d8576b"
             ],
             [
              0.6666666666666666,
              "#ed7953"
             ],
             [
              0.7777777777777778,
              "#fb9f3a"
             ],
             [
              0.8888888888888888,
              "#fdca26"
             ],
             [
              1,
              "#f0f921"
             ]
            ],
            "type": "heatmap"
           }
          ],
          "heatmapgl": [
           {
            "colorbar": {
             "outlinewidth": 0,
             "ticks": ""
            },
            "colorscale": [
             [
              0,
              "#0d0887"
             ],
             [
              0.1111111111111111,
              "#46039f"
             ],
             [
              0.2222222222222222,
              "#7201a8"
             ],
             [
              0.3333333333333333,
              "#9c179e"
             ],
             [
              0.4444444444444444,
              "#bd3786"
             ],
             [
              0.5555555555555556,
              "#d8576b"
             ],
             [
              0.6666666666666666,
              "#ed7953"
             ],
             [
              0.7777777777777778,
              "#fb9f3a"
             ],
             [
              0.8888888888888888,
              "#fdca26"
             ],
             [
              1,
              "#f0f921"
             ]
            ],
            "type": "heatmapgl"
           }
          ],
          "histogram": [
           {
            "marker": {
             "pattern": {
              "fillmode": "overlay",
              "size": 10,
              "solidity": 0.2
             }
            },
            "type": "histogram"
           }
          ],
          "histogram2d": [
           {
            "colorbar": {
             "outlinewidth": 0,
             "ticks": ""
            },
            "colorscale": [
             [
              0,
              "#0d0887"
             ],
             [
              0.1111111111111111,
              "#46039f"
             ],
             [
              0.2222222222222222,
              "#7201a8"
             ],
             [
              0.3333333333333333,
              "#9c179e"
             ],
             [
              0.4444444444444444,
              "#bd3786"
             ],
             [
              0.5555555555555556,
              "#d8576b"
             ],
             [
              0.6666666666666666,
              "#ed7953"
             ],
             [
              0.7777777777777778,
              "#fb9f3a"
             ],
             [
              0.8888888888888888,
              "#fdca26"
             ],
             [
              1,
              "#f0f921"
             ]
            ],
            "type": "histogram2d"
           }
          ],
          "histogram2dcontour": [
           {
            "colorbar": {
             "outlinewidth": 0,
             "ticks": ""
            },
            "colorscale": [
             [
              0,
              "#0d0887"
             ],
             [
              0.1111111111111111,
              "#46039f"
             ],
             [
              0.2222222222222222,
              "#7201a8"
             ],
             [
              0.3333333333333333,
              "#9c179e"
             ],
             [
              0.4444444444444444,
              "#bd3786"
             ],
             [
              0.5555555555555556,
              "#d8576b"
             ],
             [
              0.6666666666666666,
              "#ed7953"
             ],
             [
              0.7777777777777778,
              "#fb9f3a"
             ],
             [
              0.8888888888888888,
              "#fdca26"
             ],
             [
              1,
              "#f0f921"
             ]
            ],
            "type": "histogram2dcontour"
           }
          ],
          "mesh3d": [
           {
            "colorbar": {
             "outlinewidth": 0,
             "ticks": ""
            },
            "type": "mesh3d"
           }
          ],
          "parcoords": [
           {
            "line": {
             "colorbar": {
              "outlinewidth": 0,
              "ticks": ""
             }
            },
            "type": "parcoords"
           }
          ],
          "pie": [
           {
            "automargin": true,
            "type": "pie"
           }
          ],
          "scatter": [
           {
            "fillpattern": {
             "fillmode": "overlay",
             "size": 10,
             "solidity": 0.2
            },
            "type": "scatter"
           }
          ],
          "scatter3d": [
           {
            "line": {
             "colorbar": {
              "outlinewidth": 0,
              "ticks": ""
             }
            },
            "marker": {
             "colorbar": {
              "outlinewidth": 0,
              "ticks": ""
             }
            },
            "type": "scatter3d"
           }
          ],
          "scattercarpet": [
           {
            "marker": {
             "colorbar": {
              "outlinewidth": 0,
              "ticks": ""
             }
            },
            "type": "scattercarpet"
           }
          ],
          "scattergeo": [
           {
            "marker": {
             "colorbar": {
              "outlinewidth": 0,
              "ticks": ""
             }
            },
            "type": "scattergeo"
           }
          ],
          "scattergl": [
           {
            "marker": {
             "colorbar": {
              "outlinewidth": 0,
              "ticks": ""
             }
            },
            "type": "scattergl"
           }
          ],
          "scattermapbox": [
           {
            "marker": {
             "colorbar": {
              "outlinewidth": 0,
              "ticks": ""
             }
            },
            "type": "scattermapbox"
           }
          ],
          "scatterpolar": [
           {
            "marker": {
             "colorbar": {
              "outlinewidth": 0,
              "ticks": ""
             }
            },
            "type": "scatterpolar"
           }
          ],
          "scatterpolargl": [
           {
            "marker": {
             "colorbar": {
              "outlinewidth": 0,
              "ticks": ""
             }
            },
            "type": "scatterpolargl"
           }
          ],
          "scatterternary": [
           {
            "marker": {
             "colorbar": {
              "outlinewidth": 0,
              "ticks": ""
             }
            },
            "type": "scatterternary"
           }
          ],
          "surface": [
           {
            "colorbar": {
             "outlinewidth": 0,
             "ticks": ""
            },
            "colorscale": [
             [
              0,
              "#0d0887"
             ],
             [
              0.1111111111111111,
              "#46039f"
             ],
             [
              0.2222222222222222,
              "#7201a8"
             ],
             [
              0.3333333333333333,
              "#9c179e"
             ],
             [
              0.4444444444444444,
              "#bd3786"
             ],
             [
              0.5555555555555556,
              "#d8576b"
             ],
             [
              0.6666666666666666,
              "#ed7953"
             ],
             [
              0.7777777777777778,
              "#fb9f3a"
             ],
             [
              0.8888888888888888,
              "#fdca26"
             ],
             [
              1,
              "#f0f921"
             ]
            ],
            "type": "surface"
           }
          ],
          "table": [
           {
            "cells": {
             "fill": {
              "color": "#EBF0F8"
             },
             "line": {
              "color": "white"
             }
            },
            "header": {
             "fill": {
              "color": "#C8D4E3"
             },
             "line": {
              "color": "white"
             }
            },
            "type": "table"
           }
          ]
         },
         "layout": {
          "annotationdefaults": {
           "arrowcolor": "#2a3f5f",
           "arrowhead": 0,
           "arrowwidth": 1
          },
          "autotypenumbers": "strict",
          "coloraxis": {
           "colorbar": {
            "outlinewidth": 0,
            "ticks": ""
           }
          },
          "colorscale": {
           "diverging": [
            [
             0,
             "#8e0152"
            ],
            [
             0.1,
             "#c51b7d"
            ],
            [
             0.2,
             "#de77ae"
            ],
            [
             0.3,
             "#f1b6da"
            ],
            [
             0.4,
             "#fde0ef"
            ],
            [
             0.5,
             "#f7f7f7"
            ],
            [
             0.6,
             "#e6f5d0"
            ],
            [
             0.7,
             "#b8e186"
            ],
            [
             0.8,
             "#7fbc41"
            ],
            [
             0.9,
             "#4d9221"
            ],
            [
             1,
             "#276419"
            ]
           ],
           "sequential": [
            [
             0,
             "#0d0887"
            ],
            [
             0.1111111111111111,
             "#46039f"
            ],
            [
             0.2222222222222222,
             "#7201a8"
            ],
            [
             0.3333333333333333,
             "#9c179e"
            ],
            [
             0.4444444444444444,
             "#bd3786"
            ],
            [
             0.5555555555555556,
             "#d8576b"
            ],
            [
             0.6666666666666666,
             "#ed7953"
            ],
            [
             0.7777777777777778,
             "#fb9f3a"
            ],
            [
             0.8888888888888888,
             "#fdca26"
            ],
            [
             1,
             "#f0f921"
            ]
           ],
           "sequentialminus": [
            [
             0,
             "#0d0887"
            ],
            [
             0.1111111111111111,
             "#46039f"
            ],
            [
             0.2222222222222222,
             "#7201a8"
            ],
            [
             0.3333333333333333,
             "#9c179e"
            ],
            [
             0.4444444444444444,
             "#bd3786"
            ],
            [
             0.5555555555555556,
             "#d8576b"
            ],
            [
             0.6666666666666666,
             "#ed7953"
            ],
            [
             0.7777777777777778,
             "#fb9f3a"
            ],
            [
             0.8888888888888888,
             "#fdca26"
            ],
            [
             1,
             "#f0f921"
            ]
           ]
          },
          "colorway": [
           "#636efa",
           "#EF553B",
           "#00cc96",
           "#ab63fa",
           "#FFA15A",
           "#19d3f3",
           "#FF6692",
           "#B6E880",
           "#FF97FF",
           "#FECB52"
          ],
          "font": {
           "color": "#2a3f5f"
          },
          "geo": {
           "bgcolor": "white",
           "lakecolor": "white",
           "landcolor": "#E5ECF6",
           "showlakes": true,
           "showland": true,
           "subunitcolor": "white"
          },
          "hoverlabel": {
           "align": "left"
          },
          "hovermode": "closest",
          "mapbox": {
           "style": "light"
          },
          "paper_bgcolor": "white",
          "plot_bgcolor": "#E5ECF6",
          "polar": {
           "angularaxis": {
            "gridcolor": "white",
            "linecolor": "white",
            "ticks": ""
           },
           "bgcolor": "#E5ECF6",
           "radialaxis": {
            "gridcolor": "white",
            "linecolor": "white",
            "ticks": ""
           }
          },
          "scene": {
           "xaxis": {
            "backgroundcolor": "#E5ECF6",
            "gridcolor": "white",
            "gridwidth": 2,
            "linecolor": "white",
            "showbackground": true,
            "ticks": "",
            "zerolinecolor": "white"
           },
           "yaxis": {
            "backgroundcolor": "#E5ECF6",
            "gridcolor": "white",
            "gridwidth": 2,
            "linecolor": "white",
            "showbackground": true,
            "ticks": "",
            "zerolinecolor": "white"
           },
           "zaxis": {
            "backgroundcolor": "#E5ECF6",
            "gridcolor": "white",
            "gridwidth": 2,
            "linecolor": "white",
            "showbackground": true,
            "ticks": "",
            "zerolinecolor": "white"
           }
          },
          "shapedefaults": {
           "line": {
            "color": "#2a3f5f"
           }
          },
          "ternary": {
           "aaxis": {
            "gridcolor": "white",
            "linecolor": "white",
            "ticks": ""
           },
           "baxis": {
            "gridcolor": "white",
            "linecolor": "white",
            "ticks": ""
           },
           "bgcolor": "#E5ECF6",
           "caxis": {
            "gridcolor": "white",
            "linecolor": "white",
            "ticks": ""
           }
          },
          "title": {
           "x": 0.05
          },
          "xaxis": {
           "automargin": true,
           "gridcolor": "white",
           "linecolor": "white",
           "ticks": "",
           "title": {
            "standoff": 15
           },
           "zerolinecolor": "white",
           "zerolinewidth": 2
          },
          "yaxis": {
           "automargin": true,
           "gridcolor": "white",
           "linecolor": "white",
           "ticks": "",
           "title": {
            "standoff": 15
           },
           "zerolinecolor": "white",
           "zerolinewidth": 2
          }
         }
        },
        "title": {
         "text": "Boxplot da Acurácia Balanceada do classificador Sim sem features de temperatura"
        },
        "xaxis": {
         "anchor": "y",
         "domain": [
          0,
          1
         ],
         "title": {
          "text": "Nome"
         }
        },
        "yaxis": {
         "anchor": "x",
         "domain": [
          0,
          1
         ],
         "range": [
          0,
          1
         ],
         "title": {
          "text": "Acurácia Balanceada"
         }
        }
       }
      }
     },
     "metadata": {},
     "output_type": "display_data"
    },
    {
     "data": {
      "application/vnd.plotly.v1+json": {
       "config": {
        "plotlyServerURL": "https://plot.ly"
       },
       "data": [
        {
         "alignmentgroup": "True",
         "boxpoints": "all",
         "hovertemplate": "Nome=%{x}<br>Acurácia Balanceada=%{y}<extra></extra>",
         "legendgroup": "",
         "marker": {
          "color": "#636efa"
         },
         "name": "",
         "notched": false,
         "offsetgroup": "",
         "orientation": "v",
         "showlegend": false,
         "type": "box",
         "x": [
          "logreg",
          "KNN",
          "GaussianNB",
          "Perceptron",
          "LinearSVC",
          "SGD",
          "Dtree",
          "RForest",
          "ADA",
          "GBC",
          "ETC",
          "logreg",
          "KNN",
          "GaussianNB",
          "Perceptron",
          "LinearSVC",
          "SGD",
          "Dtree",
          "RForest",
          "ADA",
          "GBC",
          "ETC",
          "logreg",
          "KNN",
          "GaussianNB",
          "Perceptron",
          "LinearSVC",
          "SGD",
          "Dtree",
          "RForest",
          "ADA",
          "GBC",
          "ETC",
          "logreg",
          "KNN",
          "GaussianNB",
          "Perceptron",
          "LinearSVC",
          "SGD",
          "Dtree",
          "RForest",
          "ADA",
          "GBC",
          "ETC",
          "logreg",
          "KNN",
          "GaussianNB",
          "Perceptron",
          "LinearSVC",
          "SGD",
          "Dtree",
          "RForest",
          "ADA",
          "GBC",
          "ETC",
          "logreg",
          "KNN",
          "GaussianNB",
          "Perceptron",
          "LinearSVC",
          "SGD",
          "Dtree",
          "RForest",
          "ADA",
          "GBC",
          "ETC",
          "logreg",
          "KNN",
          "GaussianNB",
          "Perceptron",
          "LinearSVC",
          "SGD",
          "Dtree",
          "RForest",
          "ADA",
          "GBC",
          "ETC",
          "logreg",
          "KNN",
          "GaussianNB",
          "Perceptron",
          "LinearSVC",
          "SGD",
          "Dtree",
          "RForest",
          "ADA",
          "GBC",
          "ETC",
          "logreg",
          "KNN",
          "GaussianNB",
          "Perceptron",
          "LinearSVC",
          "SGD",
          "Dtree",
          "RForest",
          "ADA",
          "GBC",
          "ETC",
          "logreg",
          "KNN",
          "GaussianNB",
          "Perceptron",
          "LinearSVC",
          "SGD",
          "Dtree",
          "RForest",
          "ADA",
          "GBC",
          "ETC",
          "logreg",
          "KNN",
          "GaussianNB",
          "Perceptron",
          "LinearSVC",
          "SGD",
          "Dtree",
          "RForest",
          "ADA",
          "GBC",
          "ETC",
          "logreg",
          "KNN",
          "GaussianNB",
          "Perceptron",
          "LinearSVC",
          "SGD",
          "Dtree",
          "RForest",
          "ADA",
          "GBC",
          "ETC",
          "logreg",
          "KNN",
          "GaussianNB",
          "Perceptron",
          "LinearSVC",
          "SGD",
          "Dtree",
          "RForest",
          "ADA",
          "GBC",
          "ETC",
          "logreg",
          "KNN",
          "GaussianNB",
          "Perceptron",
          "LinearSVC",
          "SGD",
          "Dtree",
          "RForest",
          "ADA",
          "GBC",
          "ETC",
          "logreg",
          "KNN",
          "GaussianNB",
          "Perceptron",
          "LinearSVC",
          "SGD",
          "Dtree",
          "RForest",
          "ADA",
          "GBC",
          "ETC",
          "logreg",
          "KNN",
          "GaussianNB",
          "Perceptron",
          "LinearSVC",
          "SGD",
          "Dtree",
          "RForest",
          "ADA",
          "GBC",
          "ETC",
          "logreg",
          "KNN",
          "GaussianNB",
          "Perceptron",
          "LinearSVC",
          "SGD",
          "Dtree",
          "RForest",
          "ADA",
          "GBC",
          "ETC",
          "logreg",
          "KNN",
          "GaussianNB",
          "Perceptron",
          "LinearSVC",
          "SGD",
          "Dtree",
          "RForest",
          "ADA",
          "GBC",
          "ETC",
          "logreg",
          "KNN",
          "GaussianNB",
          "Perceptron",
          "LinearSVC",
          "SGD",
          "Dtree",
          "RForest",
          "ADA",
          "GBC",
          "ETC",
          "logreg",
          "KNN",
          "GaussianNB",
          "Perceptron",
          "LinearSVC",
          "SGD",
          "Dtree",
          "RForest",
          "ADA",
          "GBC",
          "ETC",
          "logreg",
          "KNN",
          "GaussianNB",
          "Perceptron",
          "LinearSVC",
          "SGD",
          "Dtree",
          "RForest",
          "ADA",
          "GBC",
          "ETC",
          "logreg",
          "KNN",
          "GaussianNB",
          "Perceptron",
          "LinearSVC",
          "SGD",
          "Dtree",
          "RForest",
          "ADA",
          "GBC",
          "ETC",
          "logreg",
          "KNN",
          "GaussianNB",
          "Perceptron",
          "LinearSVC",
          "SGD",
          "Dtree",
          "RForest",
          "ADA",
          "GBC",
          "ETC",
          "logreg",
          "KNN",
          "GaussianNB",
          "Perceptron",
          "LinearSVC",
          "SGD",
          "Dtree",
          "RForest",
          "ADA",
          "GBC",
          "ETC",
          "logreg",
          "KNN",
          "GaussianNB",
          "Perceptron",
          "LinearSVC",
          "SGD",
          "Dtree",
          "RForest",
          "ADA",
          "GBC",
          "ETC"
         ],
         "x0": " ",
         "xaxis": "x",
         "y": [
          0.8341287945253553,
          0.920126337954027,
          0.5430952798736621,
          0.8583084751710826,
          0.8336901210738725,
          0.8310756273030356,
          0.8846815230742235,
          0.92030180733462,
          0.7696613440954554,
          0.8494121775750132,
          0.9334795578171609,
          0.833146165994034,
          0.9209685909808738,
          0.5391998596244956,
          0.8206176522196877,
          0.8325495701000176,
          0.8352517985611512,
          0.8843305843130373,
          0.9197929461309,
          0.7891735392174066,
          0.858045271100193,
          0.9327776802947884,
          0.826548517283734,
          0.9218108440077206,
          0.5263379540270223,
          0.7792946130900158,
          0.8256185295665905,
          0.8292507457448675,
          0.8791893314616599,
          0.9187927706615197,
          0.7679417441656431,
          0.8531847692577645,
          0.9305492191612564,
          0.7926302860150903,
          0.9234076153711176,
          0.5204246359010353,
          0.7736971398490964,
          0.7890156167748728,
          0.7907527636427443,
          0.8815757150377259,
          0.923653272503948,
          0.7291981049306896,
          0.8478329531496753,
          0.9344972802246008,
          0.7681172135462362,
          0.950359712230216,
          0.5128443586594139,
          0.7285839620986139,
          0.7742410949289349,
          0.7836287067906651,
          0.8600456220389542,
          0.9460256185295666,
          0.7037024039305142,
          0.8082119670117565,
          0.9679768380417616,
          0.917669766625724,
          0.9914195472889982,
          0.5484120021056326,
          0.9269170029829794,
          0.9130724688541848,
          0.9157571503772592,
          0.9919635023688368,
          0.9959817511844185,
          0.8619757852254781,
          0.9574311282681172,
          0.996525706264257,
          0.9159852605720302,
          0.9933848043516408,
          0.5483593612914546,
          0.8617125811545885,
          0.9121775750131602,
          0.9066853834005966,
          0.9946130900157922,
          0.9970872082821548,
          0.8705386909984207,
          0.960887875065801,
          0.9975785225478152,
          0.9055097385506228,
          0.9918406738024216,
          0.5284611335321986,
          0.8464993858571679,
          0.9014388489208632,
          0.8929812247762765,
          0.9876820494823652,
          0.9917529391121248,
          0.8354799087559222,
          0.9509563081242324,
          0.993753290050886,
          0.8492718020705388,
          0.9921038778733112,
          0.5302158273381294,
          0.8199684155114932,
          0.8439550798385682,
          0.850026320407089,
          0.9887699596420424,
          0.9962098613791894,
          0.8177575013160203,
          0.93400596595894,
          0.9972977715388665,
          0.8190735216704685,
          0.9380768555886998,
          0.5256360765046499,
          0.8240217582031935,
          0.819442007369714,
          0.837690822951395,
          0.8874890331637129,
          0.9323565537813652,
          0.7817336374802597,
          0.8851377434637655,
          0.9332689945604492,
          0.955939638533076,
          0.9944376206351992,
          0.5812247762765397,
          0.9338129496402878,
          0.9506755571152834,
          0.9409194595543078,
          0.9944551675732584,
          0.9969643797157396,
          0.8925250043867345,
          0.9813125109668364,
          0.9975434286716968,
          0.952588173363748,
          0.996139673626952,
          0.5736971398490963,
          0.9398666432707492,
          0.9490963326899456,
          0.9395507983856816,
          0.9958764695560623,
          0.9983330408843656,
          0.892946130900158,
          0.98299701702053,
          0.9987541673977892,
          0.9387085453588347,
          0.9944376206351992,
          0.563326899456045,
          0.9039305141252852,
          0.935181610808914,
          0.9371644148096157,
          0.9913493595367608,
          0.9931742410949288,
          0.8859449026144938,
          0.9675030707141604,
          0.9949113879628004,
          0.8727846990700123,
          0.9951219512195122,
          0.5539919284084927,
          0.837690822951395,
          0.8683102298648886,
          0.8778206702930338,
          0.9894542902263554,
          0.9973153184769256,
          0.8595894016494122,
          0.9427618880505352,
          0.998350587822425,
          0.8402702228461134,
          0.9389366555536058,
          0.5472889980698368,
          0.7906299350763292,
          0.8422179329706966,
          0.8474820143884891,
          0.8779961396736269,
          0.9320231619582384,
          0.805053518161081,
          0.8799263028601509,
          0.9331110721179154,
          0.9759957887348658,
          0.9952623267239866,
          0.5852079312160028,
          0.9598350587822424,
          0.9733637480259696,
          0.9682926829268292,
          0.9961221266888928,
          0.9986664327074926,
          0.9233900684330584,
          0.9861028250570276,
          0.9985436041410772,
          0.971468678715564,
          0.9970170205299176,
          0.5875943147920688,
          0.9508685734339356,
          0.9690647482014388,
          0.966853834005966,
          0.9983154939463064,
          0.9998771714335848,
          0.9187401298473415,
          0.989138445341288,
          0.9998245306194068,
          0.9544832426741534,
          0.9951570450956309,
          0.5644499034918407,
          0.9291279171784524,
          0.9509212142481136,
          0.9487453939287596,
          0.99238462888226,
          0.994367432882962,
          0.8699596420424636,
          0.9690296543253204,
          0.9964555185120196,
          0.8815055272854887,
          0.995630812423232,
          0.5691349359536761,
          0.7734163888401474,
          0.8776802947885594,
          0.8777680294788559,
          0.9920161431830146,
          0.998806808211967,
          0.8494823653272503,
          0.9406387085453588,
          0.9994560449201616,
          0.850938761186173,
          0.9403579575364098,
          0.5636602912791718,
          0.8691173890156167,
          0.8538690998420775,
          0.849517459203369,
          0.8888050535181611,
          0.9332163537462712,
          0.7962625021933672,
          0.8757501316020355,
          0.933602386383576,
          0.96573082997017,
          0.984874539392876,
          0.5842253026846815,
          0.9571503772591684,
          0.9631689770135112,
          0.9590805404456922,
          0.9934198982277592,
          0.997771538866468,
          0.8870854535883488,
          0.982031935427268,
          0.9972275837866292,
          0.961344095455343,
          0.9868924372696964,
          0.586980171959993,
          0.8927531145815055,
          0.9588875241270398,
          0.956062467099491,
          0.9905948412002106,
          0.9990700122828566,
          0.8769257764520091,
          0.984313037374978,
          0.9983856816985436,
          0.9448499736795928,
          0.9844007720652744,
          0.5654676258992806,
          0.9232321459905246,
          0.9412528513774346,
          0.9392174065625548,
          0.9887173188278644,
          0.993068959466573,
          0.8807159150728198,
          0.9612563607650464,
          0.994876294086682,
          0.873679592911037,
          0.9850851026495876,
          0.5679768380417617,
          0.8404281452886471,
          0.8705562379364801,
          0.8842428496227408,
          0.9881909106860852,
          0.9978066327425864,
          0.8222495174592034,
          0.9324618354097208,
          0.9965081593261976,
          0.8465520266713459,
          0.9466748552377612,
          0.5695385155290402,
          0.8078961221266889,
          0.8493419898227759,
          0.8415511493244429,
          0.884821898578698,
          0.9344270924723636,
          0.8163888401473942,
          0.8828741884541148,
          0.9363046148447096
         ],
         "y0": " ",
         "yaxis": "y"
        }
       ],
       "layout": {
        "boxmode": "group",
        "legend": {
         "tracegroupgap": 0
        },
        "template": {
         "data": {
          "bar": [
           {
            "error_x": {
             "color": "#2a3f5f"
            },
            "error_y": {
             "color": "#2a3f5f"
            },
            "marker": {
             "line": {
              "color": "#E5ECF6",
              "width": 0.5
             },
             "pattern": {
              "fillmode": "overlay",
              "size": 10,
              "solidity": 0.2
             }
            },
            "type": "bar"
           }
          ],
          "barpolar": [
           {
            "marker": {
             "line": {
              "color": "#E5ECF6",
              "width": 0.5
             },
             "pattern": {
              "fillmode": "overlay",
              "size": 10,
              "solidity": 0.2
             }
            },
            "type": "barpolar"
           }
          ],
          "carpet": [
           {
            "aaxis": {
             "endlinecolor": "#2a3f5f",
             "gridcolor": "white",
             "linecolor": "white",
             "minorgridcolor": "white",
             "startlinecolor": "#2a3f5f"
            },
            "baxis": {
             "endlinecolor": "#2a3f5f",
             "gridcolor": "white",
             "linecolor": "white",
             "minorgridcolor": "white",
             "startlinecolor": "#2a3f5f"
            },
            "type": "carpet"
           }
          ],
          "choropleth": [
           {
            "colorbar": {
             "outlinewidth": 0,
             "ticks": ""
            },
            "type": "choropleth"
           }
          ],
          "contour": [
           {
            "colorbar": {
             "outlinewidth": 0,
             "ticks": ""
            },
            "colorscale": [
             [
              0,
              "#0d0887"
             ],
             [
              0.1111111111111111,
              "#46039f"
             ],
             [
              0.2222222222222222,
              "#7201a8"
             ],
             [
              0.3333333333333333,
              "#9c179e"
             ],
             [
              0.4444444444444444,
              "#bd3786"
             ],
             [
              0.5555555555555556,
              "#d8576b"
             ],
             [
              0.6666666666666666,
              "#ed7953"
             ],
             [
              0.7777777777777778,
              "#fb9f3a"
             ],
             [
              0.8888888888888888,
              "#fdca26"
             ],
             [
              1,
              "#f0f921"
             ]
            ],
            "type": "contour"
           }
          ],
          "contourcarpet": [
           {
            "colorbar": {
             "outlinewidth": 0,
             "ticks": ""
            },
            "type": "contourcarpet"
           }
          ],
          "heatmap": [
           {
            "colorbar": {
             "outlinewidth": 0,
             "ticks": ""
            },
            "colorscale": [
             [
              0,
              "#0d0887"
             ],
             [
              0.1111111111111111,
              "#46039f"
             ],
             [
              0.2222222222222222,
              "#7201a8"
             ],
             [
              0.3333333333333333,
              "#9c179e"
             ],
             [
              0.4444444444444444,
              "#bd3786"
             ],
             [
              0.5555555555555556,
              "#d8576b"
             ],
             [
              0.6666666666666666,
              "#ed7953"
             ],
             [
              0.7777777777777778,
              "#fb9f3a"
             ],
             [
              0.8888888888888888,
              "#fdca26"
             ],
             [
              1,
              "#f0f921"
             ]
            ],
            "type": "heatmap"
           }
          ],
          "heatmapgl": [
           {
            "colorbar": {
             "outlinewidth": 0,
             "ticks": ""
            },
            "colorscale": [
             [
              0,
              "#0d0887"
             ],
             [
              0.1111111111111111,
              "#46039f"
             ],
             [
              0.2222222222222222,
              "#7201a8"
             ],
             [
              0.3333333333333333,
              "#9c179e"
             ],
             [
              0.4444444444444444,
              "#bd3786"
             ],
             [
              0.5555555555555556,
              "#d8576b"
             ],
             [
              0.6666666666666666,
              "#ed7953"
             ],
             [
              0.7777777777777778,
              "#fb9f3a"
             ],
             [
              0.8888888888888888,
              "#fdca26"
             ],
             [
              1,
              "#f0f921"
             ]
            ],
            "type": "heatmapgl"
           }
          ],
          "histogram": [
           {
            "marker": {
             "pattern": {
              "fillmode": "overlay",
              "size": 10,
              "solidity": 0.2
             }
            },
            "type": "histogram"
           }
          ],
          "histogram2d": [
           {
            "colorbar": {
             "outlinewidth": 0,
             "ticks": ""
            },
            "colorscale": [
             [
              0,
              "#0d0887"
             ],
             [
              0.1111111111111111,
              "#46039f"
             ],
             [
              0.2222222222222222,
              "#7201a8"
             ],
             [
              0.3333333333333333,
              "#9c179e"
             ],
             [
              0.4444444444444444,
              "#bd3786"
             ],
             [
              0.5555555555555556,
              "#d8576b"
             ],
             [
              0.6666666666666666,
              "#ed7953"
             ],
             [
              0.7777777777777778,
              "#fb9f3a"
             ],
             [
              0.8888888888888888,
              "#fdca26"
             ],
             [
              1,
              "#f0f921"
             ]
            ],
            "type": "histogram2d"
           }
          ],
          "histogram2dcontour": [
           {
            "colorbar": {
             "outlinewidth": 0,
             "ticks": ""
            },
            "colorscale": [
             [
              0,
              "#0d0887"
             ],
             [
              0.1111111111111111,
              "#46039f"
             ],
             [
              0.2222222222222222,
              "#7201a8"
             ],
             [
              0.3333333333333333,
              "#9c179e"
             ],
             [
              0.4444444444444444,
              "#bd3786"
             ],
             [
              0.5555555555555556,
              "#d8576b"
             ],
             [
              0.6666666666666666,
              "#ed7953"
             ],
             [
              0.7777777777777778,
              "#fb9f3a"
             ],
             [
              0.8888888888888888,
              "#fdca26"
             ],
             [
              1,
              "#f0f921"
             ]
            ],
            "type": "histogram2dcontour"
           }
          ],
          "mesh3d": [
           {
            "colorbar": {
             "outlinewidth": 0,
             "ticks": ""
            },
            "type": "mesh3d"
           }
          ],
          "parcoords": [
           {
            "line": {
             "colorbar": {
              "outlinewidth": 0,
              "ticks": ""
             }
            },
            "type": "parcoords"
           }
          ],
          "pie": [
           {
            "automargin": true,
            "type": "pie"
           }
          ],
          "scatter": [
           {
            "fillpattern": {
             "fillmode": "overlay",
             "size": 10,
             "solidity": 0.2
            },
            "type": "scatter"
           }
          ],
          "scatter3d": [
           {
            "line": {
             "colorbar": {
              "outlinewidth": 0,
              "ticks": ""
             }
            },
            "marker": {
             "colorbar": {
              "outlinewidth": 0,
              "ticks": ""
             }
            },
            "type": "scatter3d"
           }
          ],
          "scattercarpet": [
           {
            "marker": {
             "colorbar": {
              "outlinewidth": 0,
              "ticks": ""
             }
            },
            "type": "scattercarpet"
           }
          ],
          "scattergeo": [
           {
            "marker": {
             "colorbar": {
              "outlinewidth": 0,
              "ticks": ""
             }
            },
            "type": "scattergeo"
           }
          ],
          "scattergl": [
           {
            "marker": {
             "colorbar": {
              "outlinewidth": 0,
              "ticks": ""
             }
            },
            "type": "scattergl"
           }
          ],
          "scattermapbox": [
           {
            "marker": {
             "colorbar": {
              "outlinewidth": 0,
              "ticks": ""
             }
            },
            "type": "scattermapbox"
           }
          ],
          "scatterpolar": [
           {
            "marker": {
             "colorbar": {
              "outlinewidth": 0,
              "ticks": ""
             }
            },
            "type": "scatterpolar"
           }
          ],
          "scatterpolargl": [
           {
            "marker": {
             "colorbar": {
              "outlinewidth": 0,
              "ticks": ""
             }
            },
            "type": "scatterpolargl"
           }
          ],
          "scatterternary": [
           {
            "marker": {
             "colorbar": {
              "outlinewidth": 0,
              "ticks": ""
             }
            },
            "type": "scatterternary"
           }
          ],
          "surface": [
           {
            "colorbar": {
             "outlinewidth": 0,
             "ticks": ""
            },
            "colorscale": [
             [
              0,
              "#0d0887"
             ],
             [
              0.1111111111111111,
              "#46039f"
             ],
             [
              0.2222222222222222,
              "#7201a8"
             ],
             [
              0.3333333333333333,
              "#9c179e"
             ],
             [
              0.4444444444444444,
              "#bd3786"
             ],
             [
              0.5555555555555556,
              "#d8576b"
             ],
             [
              0.6666666666666666,
              "#ed7953"
             ],
             [
              0.7777777777777778,
              "#fb9f3a"
             ],
             [
              0.8888888888888888,
              "#fdca26"
             ],
             [
              1,
              "#f0f921"
             ]
            ],
            "type": "surface"
           }
          ],
          "table": [
           {
            "cells": {
             "fill": {
              "color": "#EBF0F8"
             },
             "line": {
              "color": "white"
             }
            },
            "header": {
             "fill": {
              "color": "#C8D4E3"
             },
             "line": {
              "color": "white"
             }
            },
            "type": "table"
           }
          ]
         },
         "layout": {
          "annotationdefaults": {
           "arrowcolor": "#2a3f5f",
           "arrowhead": 0,
           "arrowwidth": 1
          },
          "autotypenumbers": "strict",
          "coloraxis": {
           "colorbar": {
            "outlinewidth": 0,
            "ticks": ""
           }
          },
          "colorscale": {
           "diverging": [
            [
             0,
             "#8e0152"
            ],
            [
             0.1,
             "#c51b7d"
            ],
            [
             0.2,
             "#de77ae"
            ],
            [
             0.3,
             "#f1b6da"
            ],
            [
             0.4,
             "#fde0ef"
            ],
            [
             0.5,
             "#f7f7f7"
            ],
            [
             0.6,
             "#e6f5d0"
            ],
            [
             0.7,
             "#b8e186"
            ],
            [
             0.8,
             "#7fbc41"
            ],
            [
             0.9,
             "#4d9221"
            ],
            [
             1,
             "#276419"
            ]
           ],
           "sequential": [
            [
             0,
             "#0d0887"
            ],
            [
             0.1111111111111111,
             "#46039f"
            ],
            [
             0.2222222222222222,
             "#7201a8"
            ],
            [
             0.3333333333333333,
             "#9c179e"
            ],
            [
             0.4444444444444444,
             "#bd3786"
            ],
            [
             0.5555555555555556,
             "#d8576b"
            ],
            [
             0.6666666666666666,
             "#ed7953"
            ],
            [
             0.7777777777777778,
             "#fb9f3a"
            ],
            [
             0.8888888888888888,
             "#fdca26"
            ],
            [
             1,
             "#f0f921"
            ]
           ],
           "sequentialminus": [
            [
             0,
             "#0d0887"
            ],
            [
             0.1111111111111111,
             "#46039f"
            ],
            [
             0.2222222222222222,
             "#7201a8"
            ],
            [
             0.3333333333333333,
             "#9c179e"
            ],
            [
             0.4444444444444444,
             "#bd3786"
            ],
            [
             0.5555555555555556,
             "#d8576b"
            ],
            [
             0.6666666666666666,
             "#ed7953"
            ],
            [
             0.7777777777777778,
             "#fb9f3a"
            ],
            [
             0.8888888888888888,
             "#fdca26"
            ],
            [
             1,
             "#f0f921"
            ]
           ]
          },
          "colorway": [
           "#636efa",
           "#EF553B",
           "#00cc96",
           "#ab63fa",
           "#FFA15A",
           "#19d3f3",
           "#FF6692",
           "#B6E880",
           "#FF97FF",
           "#FECB52"
          ],
          "font": {
           "color": "#2a3f5f"
          },
          "geo": {
           "bgcolor": "white",
           "lakecolor": "white",
           "landcolor": "#E5ECF6",
           "showlakes": true,
           "showland": true,
           "subunitcolor": "white"
          },
          "hoverlabel": {
           "align": "left"
          },
          "hovermode": "closest",
          "mapbox": {
           "style": "light"
          },
          "paper_bgcolor": "white",
          "plot_bgcolor": "#E5ECF6",
          "polar": {
           "angularaxis": {
            "gridcolor": "white",
            "linecolor": "white",
            "ticks": ""
           },
           "bgcolor": "#E5ECF6",
           "radialaxis": {
            "gridcolor": "white",
            "linecolor": "white",
            "ticks": ""
           }
          },
          "scene": {
           "xaxis": {
            "backgroundcolor": "#E5ECF6",
            "gridcolor": "white",
            "gridwidth": 2,
            "linecolor": "white",
            "showbackground": true,
            "ticks": "",
            "zerolinecolor": "white"
           },
           "yaxis": {
            "backgroundcolor": "#E5ECF6",
            "gridcolor": "white",
            "gridwidth": 2,
            "linecolor": "white",
            "showbackground": true,
            "ticks": "",
            "zerolinecolor": "white"
           },
           "zaxis": {
            "backgroundcolor": "#E5ECF6",
            "gridcolor": "white",
            "gridwidth": 2,
            "linecolor": "white",
            "showbackground": true,
            "ticks": "",
            "zerolinecolor": "white"
           }
          },
          "shapedefaults": {
           "line": {
            "color": "#2a3f5f"
           }
          },
          "ternary": {
           "aaxis": {
            "gridcolor": "white",
            "linecolor": "white",
            "ticks": ""
           },
           "baxis": {
            "gridcolor": "white",
            "linecolor": "white",
            "ticks": ""
           },
           "bgcolor": "#E5ECF6",
           "caxis": {
            "gridcolor": "white",
            "linecolor": "white",
            "ticks": ""
           }
          },
          "title": {
           "x": 0.05
          },
          "xaxis": {
           "automargin": true,
           "gridcolor": "white",
           "linecolor": "white",
           "ticks": "",
           "title": {
            "standoff": 15
           },
           "zerolinecolor": "white",
           "zerolinewidth": 2
          },
          "yaxis": {
           "automargin": true,
           "gridcolor": "white",
           "linecolor": "white",
           "ticks": "",
           "title": {
            "standoff": 15
           },
           "zerolinecolor": "white",
           "zerolinewidth": 2
          }
         }
        },
        "title": {
         "text": "Boxplot da Acurácia Balanceada do classificador Sim"
        },
        "xaxis": {
         "anchor": "y",
         "domain": [
          0,
          1
         ],
         "title": {
          "text": "Nome"
         }
        },
        "yaxis": {
         "anchor": "x",
         "domain": [
          0,
          1
         ],
         "range": [
          0,
          1
         ],
         "title": {
          "text": "Acurácia Balanceada"
         }
        }
       }
      }
     },
     "metadata": {},
     "output_type": "display_data"
    }
   ],
   "source": [
    "# Criar boxplot da acurácia por modelo sim sim  \n",
    "\n",
    "fig = px.box(df5, x='Nome', y='Acurácia Balanceada', points='all', title='Boxplot da Acurácia Balanceada do classificador Sim 0',color_discrete_sequence=px.colors.qualitative.Set3)\n",
    "fig.update_yaxes(range=[0, 1])\n",
    "fig.show()\n",
    "\n",
    "fig = px.box(df8, x='Nome', y='Acurácia Balanceada', points='all', title='Boxplot da Acurácia Balanceada do classificador Sim sem features de temperatura',color_discrete_sequence=px.colors.qualitative.Set1)\n",
    "fig.update_yaxes(range=[0, 1])\n",
    "fig.show()\n",
    "\n",
    "fig = px.box(df2, x='Nome', y='Acurácia Balanceada', points='all', title='Boxplot da Acurácia Balanceada do classificador Sim')\n",
    "fig.update_yaxes(range=[0, 1])\n",
    "fig.show()\n"
   ]
  },
  {
   "cell_type": "markdown",
   "metadata": {},
   "source": [
    "## Gráficos treinamentos simulados e testes reais"
   ]
  },
  {
   "cell_type": "code",
   "execution_count": 13,
   "metadata": {},
   "outputs": [
    {
     "data": {
      "application/vnd.plotly.v1+json": {
       "config": {
        "plotlyServerURL": "https://plot.ly"
       },
       "data": [
        {
         "alignmentgroup": "True",
         "boxpoints": "all",
         "hovertemplate": "Nome=%{x}<br>Acurácia Balanceada=%{y}<extra></extra>",
         "legendgroup": "",
         "marker": {
          "color": "rgb(141,211,199)"
         },
         "name": "",
         "notched": false,
         "offsetgroup": "",
         "orientation": "v",
         "showlegend": false,
         "type": "box",
         "x": [
          "logreg",
          "KNN",
          "GaussianNB",
          "Perceptron",
          "LinearSVC",
          "SGD",
          "Dtree",
          "RForest",
          "ADA",
          "GBC",
          "ETC",
          "logreg",
          "KNN",
          "GaussianNB",
          "Perceptron",
          "LinearSVC",
          "SGD",
          "Dtree",
          "RForest",
          "ADA",
          "GBC",
          "ETC",
          "logreg",
          "KNN",
          "GaussianNB",
          "Perceptron",
          "LinearSVC",
          "SGD",
          "Dtree",
          "RForest",
          "ADA",
          "GBC",
          "ETC",
          "logreg",
          "KNN",
          "GaussianNB",
          "Perceptron",
          "LinearSVC",
          "SGD",
          "Dtree",
          "RForest",
          "ADA",
          "GBC",
          "ETC",
          "logreg",
          "KNN",
          "GaussianNB",
          "Perceptron",
          "LinearSVC",
          "SGD",
          "Dtree",
          "RForest",
          "ADA",
          "GBC",
          "ETC",
          "logreg",
          "KNN",
          "GaussianNB",
          "Perceptron",
          "LinearSVC",
          "SGD",
          "Dtree",
          "RForest",
          "ADA",
          "GBC",
          "ETC",
          "logreg",
          "KNN",
          "GaussianNB",
          "Perceptron",
          "LinearSVC",
          "SGD",
          "Dtree",
          "RForest",
          "ADA",
          "GBC",
          "ETC",
          "logreg",
          "KNN",
          "GaussianNB",
          "Perceptron",
          "LinearSVC",
          "SGD",
          "Dtree",
          "RForest",
          "ADA",
          "GBC",
          "ETC",
          "logreg",
          "KNN",
          "GaussianNB",
          "Perceptron",
          "LinearSVC",
          "SGD",
          "Dtree",
          "RForest",
          "ADA",
          "GBC",
          "ETC",
          "logreg",
          "KNN",
          "GaussianNB",
          "Perceptron",
          "LinearSVC",
          "SGD",
          "Dtree",
          "RForest",
          "ADA",
          "GBC",
          "ETC",
          "logreg",
          "KNN",
          "GaussianNB",
          "Perceptron",
          "LinearSVC",
          "SGD",
          "Dtree",
          "RForest",
          "ADA",
          "GBC",
          "ETC",
          "logreg",
          "KNN",
          "GaussianNB",
          "Perceptron",
          "LinearSVC",
          "SGD",
          "Dtree",
          "RForest",
          "ADA",
          "GBC",
          "ETC",
          "logreg",
          "KNN",
          "GaussianNB",
          "Perceptron",
          "LinearSVC",
          "SGD",
          "Dtree",
          "RForest",
          "ADA",
          "GBC",
          "ETC",
          "logreg",
          "KNN",
          "GaussianNB",
          "Perceptron",
          "LinearSVC",
          "SGD",
          "Dtree",
          "RForest",
          "ADA",
          "GBC",
          "ETC",
          "logreg",
          "KNN",
          "GaussianNB",
          "Perceptron",
          "LinearSVC",
          "SGD",
          "Dtree",
          "RForest",
          "ADA",
          "GBC",
          "ETC",
          "logreg",
          "KNN",
          "GaussianNB",
          "Perceptron",
          "LinearSVC",
          "SGD",
          "Dtree",
          "RForest",
          "ADA",
          "GBC",
          "ETC",
          "logreg",
          "KNN",
          "GaussianNB",
          "Perceptron",
          "LinearSVC",
          "SGD",
          "Dtree",
          "RForest",
          "ADA",
          "GBC",
          "ETC",
          "logreg",
          "KNN",
          "GaussianNB",
          "Perceptron",
          "LinearSVC",
          "SGD",
          "Dtree",
          "RForest",
          "ADA",
          "GBC",
          "ETC",
          "logreg",
          "KNN",
          "GaussianNB",
          "Perceptron",
          "LinearSVC",
          "SGD",
          "Dtree",
          "RForest",
          "ADA",
          "GBC",
          "ETC",
          "logreg",
          "KNN",
          "GaussianNB",
          "Perceptron",
          "LinearSVC",
          "SGD",
          "Dtree",
          "RForest",
          "ADA",
          "GBC",
          "ETC",
          "logreg",
          "KNN",
          "GaussianNB",
          "Perceptron",
          "LinearSVC",
          "SGD",
          "Dtree",
          "RForest",
          "ADA",
          "GBC",
          "ETC",
          "logreg",
          "KNN",
          "GaussianNB",
          "Perceptron",
          "LinearSVC",
          "SGD",
          "Dtree",
          "RForest",
          "ADA",
          "GBC",
          "ETC",
          "logreg",
          "KNN",
          "GaussianNB",
          "Perceptron",
          "LinearSVC",
          "SGD",
          "Dtree",
          "RForest",
          "ADA",
          "GBC",
          "ETC",
          "logreg",
          "KNN",
          "GaussianNB",
          "Perceptron",
          "LinearSVC",
          "SGD",
          "Dtree",
          "RForest",
          "ADA",
          "GBC",
          "ETC",
          "logreg",
          "KNN",
          "GaussianNB",
          "Perceptron",
          "LinearSVC",
          "SGD",
          "Dtree",
          "RForest",
          "ADA",
          "GBC",
          "ETC"
         ],
         "x0": " ",
         "xaxis": "x",
         "y": [
          0.4997860504920838,
          0.4193000392027242,
          0.5,
          0.4997860504920838,
          0.5,
          0.5,
          0.4993466212632501,
          0.3976245198947419,
          0.3129658526336287,
          0.4452058655474673,
          0.3271403278167669,
          0.5,
          0.41249593239708,
          0.5,
          0.5,
          0.5,
          0.5,
          0.5067515802797486,
          0.4318833449916598,
          0.382903000161423,
          0.5014361520860717,
          0.3564655028838344,
          0.4997860504920838,
          0.3726142067597795,
          0.5,
          0.4997860504920838,
          0.5,
          0.5,
          0.5197602228149606,
          0.5646537477035659,
          0.333557531919473,
          0.5408541069337577,
          0.4206375439108945,
          0.5,
          0.3808314052254925,
          0.5,
          0.4997860504920838,
          0.5,
          0.5,
          0.408635873311144,
          0.5310982655997376,
          0.3013305865803694,
          0.5334901442301533,
          0.5320770525700845,
          0.4997860504920838,
          0.3401066929043069,
          0.5,
          0.4997860504920838,
          0.5,
          0.4997860504920838,
          0.5001857645428014,
          0.4943232917989438,
          0.3903310196039243,
          0.5356924149134338,
          0.2937462686949592,
          0.5,
          0.3094619490159603,
          0.5,
          0.5,
          0.5,
          0.5,
          0.2542335098737057,
          0.3608674819808393,
          0.1894503675575677,
          0.5468703158509681,
          0.2749059006505602,
          0.5,
          0.2872137624622385,
          0.5,
          0.5,
          0.5,
          0.5,
          0.7211123324595994,
          0.5465590000999285,
          0.2797754939415136,
          0.5047145759828225,
          0.3474270970254612,
          0.5,
          0.2406137660494159,
          0.5,
          0.5,
          0.5,
          0.5,
          0.5602428006631154,
          0.3731292229405117,
          0.2679903351192352,
          0.2408379646355555,
          0.3014522943842738,
          0.5,
          0.2511011353416402,
          0.5,
          0.5,
          0.5,
          0.5,
          0.5657811463081539,
          0.5127383230970665,
          0.4927334035395191,
          0.2368459486674917,
          0.2548971376886791,
          0.5,
          0.2157277229879138,
          0.5,
          0.5,
          0.5,
          0.5,
          0.1475213885451177,
          0.3089559007786737,
          0.1726354735970933,
          0.5125935548671591,
          0.2787044652671551,
          0.5,
          0.4518536739102027,
          0.5,
          0.5,
          0.5,
          0.5,
          0.5117095718703799,
          0.5338270826767517,
          0.4655169763169425,
          0.4535191491215258,
          0.4481460698628416,
          0.5,
          0.460562828130645,
          0.5,
          0.5,
          0.5,
          0.5,
          0.4759735983744961,
          0.5323768381081226,
          0.5688174357318738,
          0.4219020239367221,
          0.6441033209575714,
          0.5,
          0.4180329969073406,
          0.5,
          0.5,
          0.5,
          0.5,
          0.5033142956705331,
          0.5181575232077565,
          0.5578598899761453,
          0.562874251497006,
          0.5483179981500413,
          0.5,
          0.4216137686116855,
          0.5,
          0.5,
          0.5,
          0.5,
          0.5096443826083391,
          0.5936983542542643,
          0.5133955452381501,
          0.4081003589739648,
          0.5342511382882502,
          0.5,
          0.3880096033862954,
          0.5,
          0.5,
          0.5,
          0.5,
          0.1812882578873062,
          0.3371639263193766,
          0.4260336835955816,
          0.3248240361382498,
          0.5106257318482419,
          0.5,
          0.3566435806179682,
          0.5,
          0.5,
          0.5,
          0.5,
          0.5800773292951965,
          0.5102029573715214,
          0.3933660278928664,
          0.436519771753028,
          0.4464754701124068,
          0.5,
          0.3869526671944942,
          0.5,
          0.5,
          0.5,
          0.5,
          0.3665390656427837,
          0.3955644551718129,
          0.4465100607514111,
          0.6268694959247103,
          0.4408231034721315,
          0.5,
          0.339174026785966,
          0.5,
          0.5,
          0.5,
          0.5,
          0.3663558633695382,
          0.4495079161317928,
          0.432270247694598,
          0.4087204282064882,
          0.4476361782212212,
          0.5,
          0.3489311492547639,
          0.5,
          0.5,
          0.5,
          0.5,
          0.6091731812370125,
          0.4910897076194209,
          0.3750816723420937,
          0.536985079904376,
          0.3855626359604283,
          0.5,
          0.3139612943560889,
          0.5,
          0.5,
          0.5,
          0.5,
          0.1984285600813776,
          0.510775624617261,
          0.3400669777261907,
          0.3591635727261779,
          0.3700749976299007,
          0.5,
          0.467433553944742,
          0.5,
          0.5,
          0.5,
          0.5,
          0.4422297894583106,
          0.4763848426382152,
          0.4715357475037089,
          0.4960425746709405,
          0.440311930695733,
          0.5,
          0.4813389908245127,
          0.5,
          0.5,
          0.5,
          0.5,
          0.473223002006257,
          0.4397520747977729,
          0.4994721724714883,
          0.4401415397702669,
          0.5294007620189659,
          0.5,
          0.4321587889689171,
          0.5,
          0.5,
          0.5,
          0.5,
          0.4963769508479831,
          0.4401940662961625,
          0.525151237960536,
          0.4642934926040089,
          0.4851209006889942,
          0.5,
          0.4495143218056826,
          0.5,
          0.5,
          0.5,
          0.5,
          0.5022868255786245,
          0.3822137496508907,
          0.4619105819170388,
          0.4421913554149724,
          0.5165368877136612,
          0.5,
          0.4078274772662633,
          0.5,
          0.5,
          0.5,
          0.5,
          0.4991864794160075,
          0.360439582965007,
          0.4253495576241612,
          0.3947483723182646,
          0.4143932930032105
         ],
         "y0": " ",
         "yaxis": "y"
        }
       ],
       "layout": {
        "boxmode": "group",
        "legend": {
         "tracegroupgap": 0
        },
        "template": {
         "data": {
          "bar": [
           {
            "error_x": {
             "color": "#2a3f5f"
            },
            "error_y": {
             "color": "#2a3f5f"
            },
            "marker": {
             "line": {
              "color": "#E5ECF6",
              "width": 0.5
             },
             "pattern": {
              "fillmode": "overlay",
              "size": 10,
              "solidity": 0.2
             }
            },
            "type": "bar"
           }
          ],
          "barpolar": [
           {
            "marker": {
             "line": {
              "color": "#E5ECF6",
              "width": 0.5
             },
             "pattern": {
              "fillmode": "overlay",
              "size": 10,
              "solidity": 0.2
             }
            },
            "type": "barpolar"
           }
          ],
          "carpet": [
           {
            "aaxis": {
             "endlinecolor": "#2a3f5f",
             "gridcolor": "white",
             "linecolor": "white",
             "minorgridcolor": "white",
             "startlinecolor": "#2a3f5f"
            },
            "baxis": {
             "endlinecolor": "#2a3f5f",
             "gridcolor": "white",
             "linecolor": "white",
             "minorgridcolor": "white",
             "startlinecolor": "#2a3f5f"
            },
            "type": "carpet"
           }
          ],
          "choropleth": [
           {
            "colorbar": {
             "outlinewidth": 0,
             "ticks": ""
            },
            "type": "choropleth"
           }
          ],
          "contour": [
           {
            "colorbar": {
             "outlinewidth": 0,
             "ticks": ""
            },
            "colorscale": [
             [
              0,
              "#0d0887"
             ],
             [
              0.1111111111111111,
              "#46039f"
             ],
             [
              0.2222222222222222,
              "#7201a8"
             ],
             [
              0.3333333333333333,
              "#9c179e"
             ],
             [
              0.4444444444444444,
              "#bd3786"
             ],
             [
              0.5555555555555556,
              "#d8576b"
             ],
             [
              0.6666666666666666,
              "#ed7953"
             ],
             [
              0.7777777777777778,
              "#fb9f3a"
             ],
             [
              0.8888888888888888,
              "#fdca26"
             ],
             [
              1,
              "#f0f921"
             ]
            ],
            "type": "contour"
           }
          ],
          "contourcarpet": [
           {
            "colorbar": {
             "outlinewidth": 0,
             "ticks": ""
            },
            "type": "contourcarpet"
           }
          ],
          "heatmap": [
           {
            "colorbar": {
             "outlinewidth": 0,
             "ticks": ""
            },
            "colorscale": [
             [
              0,
              "#0d0887"
             ],
             [
              0.1111111111111111,
              "#46039f"
             ],
             [
              0.2222222222222222,
              "#7201a8"
             ],
             [
              0.3333333333333333,
              "#9c179e"
             ],
             [
              0.4444444444444444,
              "#bd3786"
             ],
             [
              0.5555555555555556,
              "#d8576b"
             ],
             [
              0.6666666666666666,
              "#ed7953"
             ],
             [
              0.7777777777777778,
              "#fb9f3a"
             ],
             [
              0.8888888888888888,
              "#fdca26"
             ],
             [
              1,
              "#f0f921"
             ]
            ],
            "type": "heatmap"
           }
          ],
          "heatmapgl": [
           {
            "colorbar": {
             "outlinewidth": 0,
             "ticks": ""
            },
            "colorscale": [
             [
              0,
              "#0d0887"
             ],
             [
              0.1111111111111111,
              "#46039f"
             ],
             [
              0.2222222222222222,
              "#7201a8"
             ],
             [
              0.3333333333333333,
              "#9c179e"
             ],
             [
              0.4444444444444444,
              "#bd3786"
             ],
             [
              0.5555555555555556,
              "#d8576b"
             ],
             [
              0.6666666666666666,
              "#ed7953"
             ],
             [
              0.7777777777777778,
              "#fb9f3a"
             ],
             [
              0.8888888888888888,
              "#fdca26"
             ],
             [
              1,
              "#f0f921"
             ]
            ],
            "type": "heatmapgl"
           }
          ],
          "histogram": [
           {
            "marker": {
             "pattern": {
              "fillmode": "overlay",
              "size": 10,
              "solidity": 0.2
             }
            },
            "type": "histogram"
           }
          ],
          "histogram2d": [
           {
            "colorbar": {
             "outlinewidth": 0,
             "ticks": ""
            },
            "colorscale": [
             [
              0,
              "#0d0887"
             ],
             [
              0.1111111111111111,
              "#46039f"
             ],
             [
              0.2222222222222222,
              "#7201a8"
             ],
             [
              0.3333333333333333,
              "#9c179e"
             ],
             [
              0.4444444444444444,
              "#bd3786"
             ],
             [
              0.5555555555555556,
              "#d8576b"
             ],
             [
              0.6666666666666666,
              "#ed7953"
             ],
             [
              0.7777777777777778,
              "#fb9f3a"
             ],
             [
              0.8888888888888888,
              "#fdca26"
             ],
             [
              1,
              "#f0f921"
             ]
            ],
            "type": "histogram2d"
           }
          ],
          "histogram2dcontour": [
           {
            "colorbar": {
             "outlinewidth": 0,
             "ticks": ""
            },
            "colorscale": [
             [
              0,
              "#0d0887"
             ],
             [
              0.1111111111111111,
              "#46039f"
             ],
             [
              0.2222222222222222,
              "#7201a8"
             ],
             [
              0.3333333333333333,
              "#9c179e"
             ],
             [
              0.4444444444444444,
              "#bd3786"
             ],
             [
              0.5555555555555556,
              "#d8576b"
             ],
             [
              0.6666666666666666,
              "#ed7953"
             ],
             [
              0.7777777777777778,
              "#fb9f3a"
             ],
             [
              0.8888888888888888,
              "#fdca26"
             ],
             [
              1,
              "#f0f921"
             ]
            ],
            "type": "histogram2dcontour"
           }
          ],
          "mesh3d": [
           {
            "colorbar": {
             "outlinewidth": 0,
             "ticks": ""
            },
            "type": "mesh3d"
           }
          ],
          "parcoords": [
           {
            "line": {
             "colorbar": {
              "outlinewidth": 0,
              "ticks": ""
             }
            },
            "type": "parcoords"
           }
          ],
          "pie": [
           {
            "automargin": true,
            "type": "pie"
           }
          ],
          "scatter": [
           {
            "fillpattern": {
             "fillmode": "overlay",
             "size": 10,
             "solidity": 0.2
            },
            "type": "scatter"
           }
          ],
          "scatter3d": [
           {
            "line": {
             "colorbar": {
              "outlinewidth": 0,
              "ticks": ""
             }
            },
            "marker": {
             "colorbar": {
              "outlinewidth": 0,
              "ticks": ""
             }
            },
            "type": "scatter3d"
           }
          ],
          "scattercarpet": [
           {
            "marker": {
             "colorbar": {
              "outlinewidth": 0,
              "ticks": ""
             }
            },
            "type": "scattercarpet"
           }
          ],
          "scattergeo": [
           {
            "marker": {
             "colorbar": {
              "outlinewidth": 0,
              "ticks": ""
             }
            },
            "type": "scattergeo"
           }
          ],
          "scattergl": [
           {
            "marker": {
             "colorbar": {
              "outlinewidth": 0,
              "ticks": ""
             }
            },
            "type": "scattergl"
           }
          ],
          "scattermapbox": [
           {
            "marker": {
             "colorbar": {
              "outlinewidth": 0,
              "ticks": ""
             }
            },
            "type": "scattermapbox"
           }
          ],
          "scatterpolar": [
           {
            "marker": {
             "colorbar": {
              "outlinewidth": 0,
              "ticks": ""
             }
            },
            "type": "scatterpolar"
           }
          ],
          "scatterpolargl": [
           {
            "marker": {
             "colorbar": {
              "outlinewidth": 0,
              "ticks": ""
             }
            },
            "type": "scatterpolargl"
           }
          ],
          "scatterternary": [
           {
            "marker": {
             "colorbar": {
              "outlinewidth": 0,
              "ticks": ""
             }
            },
            "type": "scatterternary"
           }
          ],
          "surface": [
           {
            "colorbar": {
             "outlinewidth": 0,
             "ticks": ""
            },
            "colorscale": [
             [
              0,
              "#0d0887"
             ],
             [
              0.1111111111111111,
              "#46039f"
             ],
             [
              0.2222222222222222,
              "#7201a8"
             ],
             [
              0.3333333333333333,
              "#9c179e"
             ],
             [
              0.4444444444444444,
              "#bd3786"
             ],
             [
              0.5555555555555556,
              "#d8576b"
             ],
             [
              0.6666666666666666,
              "#ed7953"
             ],
             [
              0.7777777777777778,
              "#fb9f3a"
             ],
             [
              0.8888888888888888,
              "#fdca26"
             ],
             [
              1,
              "#f0f921"
             ]
            ],
            "type": "surface"
           }
          ],
          "table": [
           {
            "cells": {
             "fill": {
              "color": "#EBF0F8"
             },
             "line": {
              "color": "white"
             }
            },
            "header": {
             "fill": {
              "color": "#C8D4E3"
             },
             "line": {
              "color": "white"
             }
            },
            "type": "table"
           }
          ]
         },
         "layout": {
          "annotationdefaults": {
           "arrowcolor": "#2a3f5f",
           "arrowhead": 0,
           "arrowwidth": 1
          },
          "autotypenumbers": "strict",
          "coloraxis": {
           "colorbar": {
            "outlinewidth": 0,
            "ticks": ""
           }
          },
          "colorscale": {
           "diverging": [
            [
             0,
             "#8e0152"
            ],
            [
             0.1,
             "#c51b7d"
            ],
            [
             0.2,
             "#de77ae"
            ],
            [
             0.3,
             "#f1b6da"
            ],
            [
             0.4,
             "#fde0ef"
            ],
            [
             0.5,
             "#f7f7f7"
            ],
            [
             0.6,
             "#e6f5d0"
            ],
            [
             0.7,
             "#b8e186"
            ],
            [
             0.8,
             "#7fbc41"
            ],
            [
             0.9,
             "#4d9221"
            ],
            [
             1,
             "#276419"
            ]
           ],
           "sequential": [
            [
             0,
             "#0d0887"
            ],
            [
             0.1111111111111111,
             "#46039f"
            ],
            [
             0.2222222222222222,
             "#7201a8"
            ],
            [
             0.3333333333333333,
             "#9c179e"
            ],
            [
             0.4444444444444444,
             "#bd3786"
            ],
            [
             0.5555555555555556,
             "#d8576b"
            ],
            [
             0.6666666666666666,
             "#ed7953"
            ],
            [
             0.7777777777777778,
             "#fb9f3a"
            ],
            [
             0.8888888888888888,
             "#fdca26"
            ],
            [
             1,
             "#f0f921"
            ]
           ],
           "sequentialminus": [
            [
             0,
             "#0d0887"
            ],
            [
             0.1111111111111111,
             "#46039f"
            ],
            [
             0.2222222222222222,
             "#7201a8"
            ],
            [
             0.3333333333333333,
             "#9c179e"
            ],
            [
             0.4444444444444444,
             "#bd3786"
            ],
            [
             0.5555555555555556,
             "#d8576b"
            ],
            [
             0.6666666666666666,
             "#ed7953"
            ],
            [
             0.7777777777777778,
             "#fb9f3a"
            ],
            [
             0.8888888888888888,
             "#fdca26"
            ],
            [
             1,
             "#f0f921"
            ]
           ]
          },
          "colorway": [
           "#636efa",
           "#EF553B",
           "#00cc96",
           "#ab63fa",
           "#FFA15A",
           "#19d3f3",
           "#FF6692",
           "#B6E880",
           "#FF97FF",
           "#FECB52"
          ],
          "font": {
           "color": "#2a3f5f"
          },
          "geo": {
           "bgcolor": "white",
           "lakecolor": "white",
           "landcolor": "#E5ECF6",
           "showlakes": true,
           "showland": true,
           "subunitcolor": "white"
          },
          "hoverlabel": {
           "align": "left"
          },
          "hovermode": "closest",
          "mapbox": {
           "style": "light"
          },
          "paper_bgcolor": "white",
          "plot_bgcolor": "#E5ECF6",
          "polar": {
           "angularaxis": {
            "gridcolor": "white",
            "linecolor": "white",
            "ticks": ""
           },
           "bgcolor": "#E5ECF6",
           "radialaxis": {
            "gridcolor": "white",
            "linecolor": "white",
            "ticks": ""
           }
          },
          "scene": {
           "xaxis": {
            "backgroundcolor": "#E5ECF6",
            "gridcolor": "white",
            "gridwidth": 2,
            "linecolor": "white",
            "showbackground": true,
            "ticks": "",
            "zerolinecolor": "white"
           },
           "yaxis": {
            "backgroundcolor": "#E5ECF6",
            "gridcolor": "white",
            "gridwidth": 2,
            "linecolor": "white",
            "showbackground": true,
            "ticks": "",
            "zerolinecolor": "white"
           },
           "zaxis": {
            "backgroundcolor": "#E5ECF6",
            "gridcolor": "white",
            "gridwidth": 2,
            "linecolor": "white",
            "showbackground": true,
            "ticks": "",
            "zerolinecolor": "white"
           }
          },
          "shapedefaults": {
           "line": {
            "color": "#2a3f5f"
           }
          },
          "ternary": {
           "aaxis": {
            "gridcolor": "white",
            "linecolor": "white",
            "ticks": ""
           },
           "baxis": {
            "gridcolor": "white",
            "linecolor": "white",
            "ticks": ""
           },
           "bgcolor": "#E5ECF6",
           "caxis": {
            "gridcolor": "white",
            "linecolor": "white",
            "ticks": ""
           }
          },
          "title": {
           "x": 0.05
          },
          "xaxis": {
           "automargin": true,
           "gridcolor": "white",
           "linecolor": "white",
           "ticks": "",
           "title": {
            "standoff": 15
           },
           "zerolinecolor": "white",
           "zerolinewidth": 2
          },
          "yaxis": {
           "automargin": true,
           "gridcolor": "white",
           "linecolor": "white",
           "ticks": "",
           "title": {
            "standoff": 15
           },
           "zerolinecolor": "white",
           "zerolinewidth": 2
          }
         }
        },
        "title": {
         "text": "Boxplot da Acurácia Balanceada do classificador Sim/real 0"
        },
        "xaxis": {
         "anchor": "y",
         "domain": [
          0,
          1
         ],
         "title": {
          "text": "Nome"
         }
        },
        "yaxis": {
         "anchor": "x",
         "domain": [
          0,
          1
         ],
         "range": [
          0,
          1
         ],
         "title": {
          "text": "Acurácia Balanceada"
         }
        }
       }
      }
     },
     "metadata": {},
     "output_type": "display_data"
    },
    {
     "data": {
      "application/vnd.plotly.v1+json": {
       "config": {
        "plotlyServerURL": "https://plot.ly"
       },
       "data": [
        {
         "alignmentgroup": "True",
         "boxpoints": "all",
         "hovertemplate": "Nome=%{x}<br>Acurácia Balanceada=%{y}<extra></extra>",
         "legendgroup": "",
         "marker": {
          "color": "rgb(228,26,28)"
         },
         "name": "",
         "notched": false,
         "offsetgroup": "",
         "orientation": "v",
         "showlegend": false,
         "type": "box",
         "x": [
          "logreg",
          "KNN",
          "GaussianNB",
          "Perceptron",
          "LinearSVC",
          "SGD",
          "Dtree",
          "RForest",
          "ADA",
          "GBC",
          "ETC",
          "logreg",
          "KNN",
          "GaussianNB",
          "Perceptron",
          "LinearSVC",
          "SGD",
          "Dtree",
          "RForest",
          "ADA",
          "GBC",
          "ETC",
          "logreg",
          "KNN",
          "GaussianNB",
          "Perceptron",
          "LinearSVC",
          "SGD",
          "Dtree",
          "RForest",
          "ADA",
          "GBC",
          "ETC",
          "logreg",
          "KNN",
          "GaussianNB",
          "Perceptron",
          "LinearSVC",
          "SGD",
          "Dtree",
          "RForest",
          "ADA",
          "GBC",
          "ETC",
          "logreg",
          "KNN",
          "GaussianNB",
          "Perceptron",
          "LinearSVC",
          "SGD",
          "Dtree",
          "RForest",
          "ADA",
          "GBC",
          "ETC",
          "logreg",
          "KNN",
          "GaussianNB",
          "Perceptron",
          "LinearSVC",
          "SGD",
          "Dtree",
          "RForest",
          "ADA",
          "GBC",
          "ETC",
          "logreg",
          "KNN",
          "GaussianNB",
          "Perceptron",
          "LinearSVC",
          "SGD",
          "Dtree",
          "RForest",
          "ADA",
          "GBC",
          "ETC",
          "logreg",
          "KNN",
          "GaussianNB",
          "Perceptron",
          "LinearSVC",
          "SGD",
          "Dtree",
          "RForest",
          "ADA",
          "GBC",
          "ETC",
          "logreg",
          "KNN",
          "GaussianNB",
          "Perceptron",
          "LinearSVC",
          "SGD",
          "Dtree",
          "RForest",
          "ADA",
          "GBC",
          "ETC",
          "logreg",
          "KNN",
          "GaussianNB",
          "Perceptron",
          "LinearSVC",
          "SGD",
          "Dtree",
          "RForest",
          "ADA",
          "GBC",
          "ETC",
          "logreg",
          "KNN",
          "GaussianNB",
          "Perceptron",
          "LinearSVC",
          "SGD",
          "Dtree",
          "RForest",
          "ADA",
          "GBC",
          "ETC",
          "logreg",
          "KNN",
          "GaussianNB",
          "Perceptron",
          "LinearSVC",
          "SGD",
          "Dtree",
          "RForest",
          "ADA",
          "GBC",
          "ETC",
          "logreg",
          "KNN",
          "GaussianNB",
          "Perceptron",
          "LinearSVC",
          "SGD",
          "Dtree",
          "RForest",
          "ADA",
          "GBC",
          "ETC",
          "logreg",
          "KNN",
          "GaussianNB",
          "Perceptron",
          "LinearSVC",
          "SGD",
          "Dtree",
          "RForest",
          "ADA",
          "GBC",
          "ETC",
          "logreg",
          "KNN",
          "GaussianNB",
          "Perceptron",
          "LinearSVC",
          "SGD",
          "Dtree",
          "RForest",
          "ADA",
          "GBC",
          "ETC",
          "logreg",
          "KNN",
          "GaussianNB",
          "Perceptron",
          "LinearSVC",
          "SGD",
          "Dtree",
          "RForest",
          "ADA",
          "GBC",
          "ETC",
          "logreg",
          "KNN",
          "GaussianNB",
          "Perceptron",
          "LinearSVC",
          "SGD",
          "Dtree",
          "RForest",
          "ADA",
          "GBC",
          "ETC",
          "logreg",
          "KNN",
          "GaussianNB",
          "Perceptron",
          "LinearSVC",
          "SGD",
          "Dtree",
          "RForest",
          "ADA",
          "GBC",
          "ETC",
          "logreg",
          "KNN",
          "GaussianNB",
          "Perceptron",
          "LinearSVC",
          "SGD",
          "Dtree",
          "RForest",
          "ADA",
          "GBC",
          "ETC",
          "logreg",
          "KNN",
          "GaussianNB",
          "Perceptron",
          "LinearSVC",
          "SGD",
          "Dtree",
          "RForest",
          "ADA",
          "GBC",
          "ETC",
          "logreg",
          "KNN",
          "GaussianNB",
          "Perceptron",
          "LinearSVC",
          "SGD",
          "Dtree",
          "RForest",
          "ADA",
          "GBC",
          "ETC",
          "logreg",
          "KNN",
          "GaussianNB",
          "Perceptron",
          "LinearSVC",
          "SGD",
          "Dtree",
          "RForest",
          "ADA",
          "GBC",
          "ETC",
          "logreg",
          "KNN",
          "GaussianNB",
          "Perceptron",
          "LinearSVC",
          "SGD",
          "Dtree",
          "RForest",
          "ADA",
          "GBC",
          "ETC",
          "logreg",
          "KNN",
          "GaussianNB",
          "Perceptron",
          "LinearSVC",
          "SGD",
          "Dtree",
          "RForest",
          "ADA",
          "GBC",
          "ETC",
          "logreg",
          "KNN",
          "GaussianNB",
          "Perceptron",
          "LinearSVC",
          "SGD",
          "Dtree",
          "RForest",
          "ADA",
          "GBC",
          "ETC"
         ],
         "x0": " ",
         "xaxis": "x",
         "y": [
          0.4999807829783309,
          0.3868283971210339,
          0.5,
          0.4999077582959882,
          0.4999320998567691,
          0.5000051245391117,
          0.5643872716697542,
          0.5909490390208031,
          0.3895866802979407,
          0.3331181026906392,
          0.5913859059800809,
          0.4998834167352073,
          0.4586667486592924,
          0.5,
          0.4998103920528647,
          0.5,
          0.4999077582959882,
          0.3846876209070947,
          0.4940350364739072,
          0.3842866257215992,
          0.3833168066946979,
          0.5088282997547908,
          0.4999077582959882,
          0.4361469615326471,
          0.5,
          0.4998103920528647,
          0.5,
          0.4999077582959882,
          0.5337912109029694,
          0.5030106667281611,
          0.3333512692202245,
          0.3338022286620597,
          0.503576928300011,
          0.4998590751744265,
          0.4222517737311,
          0.5,
          0.4997860504920838,
          0.5,
          0.4999077582959882,
          0.4946922586149908,
          0.5099608228984905,
          0.5136914873718545,
          0.4929806625516617,
          0.5061071694864443,
          0.4998347336136456,
          0.4422336328626444,
          0.5,
          0.4997860504920838,
          0.5,
          0.4998590751744265,
          0.5124359752894724,
          0.5755497989899534,
          0.2902987350075203,
          0.3006515851480608,
          0.5301976278508451,
          0.5000051245391117,
          0.3563694177754888,
          0.5,
          0.5001217078039044,
          0.49995644141755,
          0.5000051245391117,
          0.5324652364078005,
          0.5048093799563902,
          0.2034775122412428,
          0.4313375815762569,
          0.435498707335009,
          0.4999077582959882,
          0.4407616090027903,
          0.5,
          0.5,
          0.5,
          0.4999077582959882,
          0.543275451664066,
          0.505183471311549,
          0.4807291706702128,
          0.2831359104640526,
          0.4083617104686647,
          0.4999077582959882,
          0.4185185469881802,
          0.5,
          0.5,
          0.5,
          0.4999320998567691,
          0.2889266396603455,
          0.5462989297400065,
          0.5048542196736181,
          0.6641594859062363,
          0.5077636767543219,
          0.4999077582959882,
          0.4058314692822314,
          0.5,
          0.5000243415607809,
          0.5,
          0.4995042008409369,
          0.6134137373519969,
          0.5226145911002129,
          0.4996592181490677,
          0.273327542604137,
          0.5453073314218803,
          0.5000486831215618,
          0.3985085028915212,
          0.5,
          0.5,
          0.5,
          0.4998590751744265,
          0.5274085974392678,
          0.5343971876529354,
          0.1708124188080834,
          0.2483851296124054,
          0.5056433986968297,
          0.5002190740470279,
          0.4760581532698403,
          0.5,
          0.5001217078039044,
          0.5001703909254661,
          0.4997911750311956,
          0.5,
          0.505074574855424,
          0.4879188990440172,
          0.4618900837605918,
          0.5099364813377096,
          0.4996938087880721,
          0.5143768944780529,
          0.5,
          0.5,
          0.5,
          0.4996938087880721,
          0.5395255701690329,
          0.4897765444720315,
          0.5048913725821784,
          0.5195642091939356,
          0.4811211979122628,
          0.4999077582959882,
          0.4897317047548036,
          0.5,
          0.5,
          0.5,
          0.499718150348853,
          0.4530310367711304,
          0.4960566671534979,
          0.4727822916426454,
          0.5619979553088944,
          0.500347187524822,
          0.4996938087880721,
          0.4826495917023463,
          0.5,
          0.4996451256665103,
          0.5,
          0.499718150348853,
          0.5,
          0.497983493859521,
          0.4516704716369571,
          0.4820423338176023,
          0.5002293231252515,
          0.5000486831215618,
          0.4700624425090768,
          0.5,
          0.3105445079033204,
          0.5,
          0.5000730246823426,
          0.4105947283866157,
          0.4835758521467975,
          0.5078149221454396,
          0.4599209796068966,
          0.4821883831822875,
          0.5002190740470279,
          0.4828878827710433,
          0.5,
          0.5001217078039044,
          0.5001703909254661,
          0.5002190740470279,
          0.4754880482936566,
          0.5139349029796633,
          0.3613824981615716,
          0.3668350077764881,
          0.5087040296813305,
          0.5001217078039044,
          0.5223378659881777,
          0.5,
          0.5,
          0.5,
          0.5001217078039044,
          0.3957681556015056,
          0.4708772442278472,
          0.4256326884100861,
          0.4113992810271626,
          0.4928845774433161,
          0.5001217078039044,
          0.5009249793096734,
          0.5,
          0.5001217078039044,
          0.5,
          0.5001217078039044,
          0.3678611967336188,
          0.5120003894649725,
          0.3625201458443831,
          0.3644725952459651,
          0.5075292290899587,
          0.5001217078039044,
          0.4870426028559056,
          0.5,
          0.5000243415607809,
          0.5,
          0.5001460493646853,
          0.5087719298245614,
          0.5100697193546155,
          0.367420486370007,
          0.3888051880833967,
          0.5053103036545651,
          0.5000486831215618,
          0.4879739878394686,
          0.5,
          0.5000243415607809,
          0.5,
          0.5000730246823426,
          0.3462036133125277,
          0.5041342219284153,
          0.3305929860433177,
          0.3460191299045042,
          0.484910794585412,
          0.4998398581527574,
          0.4695320527110093,
          0.5,
          0.4997911750311956,
          0.4997911750311956,
          0.4997911750311956,
          0.460649945295545,
          0.4662228815795879,
          0.465852633628763,
          0.4675501372095347,
          0.5059226860784208,
          0.4998641997135382,
          0.5358986776126822,
          0.5,
          0.5000243415607809,
          0.5,
          0.4996938087880721,
          0.4815068194804229,
          0.4981513225154312,
          0.4894677909905477,
          0.4584002726254808,
          0.46747839366197,
          0.4997911750311956,
          0.5013093197430556,
          0.5,
          0.5,
          0.5,
          0.4997424919096339,
          0.4668160469817746,
          0.4994247704847045,
          0.5269947909059929,
          0.4642537774258927,
          0.4993684005544751,
          0.5955495940083888,
          0.5066580574409589,
          0.5,
          0.5,
          0.5,
          0.499718150348853,
          0.464009080683306,
          0.5281516556104735,
          0.4669851567724628,
          0.4453621639903761,
          0.4986893991221664,
          0.4996694672272912,
          0.5136978930457442,
          0.5,
          0.4998103920528647,
          0.5,
          0.4996451256665103,
          0.5104988995052258,
          0.4988751636649678,
          0.4343584973826416,
          0.4241721947632335,
          0.4722019375882381
         ],
         "y0": " ",
         "yaxis": "y"
        }
       ],
       "layout": {
        "boxmode": "group",
        "legend": {
         "tracegroupgap": 0
        },
        "template": {
         "data": {
          "bar": [
           {
            "error_x": {
             "color": "#2a3f5f"
            },
            "error_y": {
             "color": "#2a3f5f"
            },
            "marker": {
             "line": {
              "color": "#E5ECF6",
              "width": 0.5
             },
             "pattern": {
              "fillmode": "overlay",
              "size": 10,
              "solidity": 0.2
             }
            },
            "type": "bar"
           }
          ],
          "barpolar": [
           {
            "marker": {
             "line": {
              "color": "#E5ECF6",
              "width": 0.5
             },
             "pattern": {
              "fillmode": "overlay",
              "size": 10,
              "solidity": 0.2
             }
            },
            "type": "barpolar"
           }
          ],
          "carpet": [
           {
            "aaxis": {
             "endlinecolor": "#2a3f5f",
             "gridcolor": "white",
             "linecolor": "white",
             "minorgridcolor": "white",
             "startlinecolor": "#2a3f5f"
            },
            "baxis": {
             "endlinecolor": "#2a3f5f",
             "gridcolor": "white",
             "linecolor": "white",
             "minorgridcolor": "white",
             "startlinecolor": "#2a3f5f"
            },
            "type": "carpet"
           }
          ],
          "choropleth": [
           {
            "colorbar": {
             "outlinewidth": 0,
             "ticks": ""
            },
            "type": "choropleth"
           }
          ],
          "contour": [
           {
            "colorbar": {
             "outlinewidth": 0,
             "ticks": ""
            },
            "colorscale": [
             [
              0,
              "#0d0887"
             ],
             [
              0.1111111111111111,
              "#46039f"
             ],
             [
              0.2222222222222222,
              "#7201a8"
             ],
             [
              0.3333333333333333,
              "#9c179e"
             ],
             [
              0.4444444444444444,
              "#bd3786"
             ],
             [
              0.5555555555555556,
              "#d8576b"
             ],
             [
              0.6666666666666666,
              "#ed7953"
             ],
             [
              0.7777777777777778,
              "#fb9f3a"
             ],
             [
              0.8888888888888888,
              "#fdca26"
             ],
             [
              1,
              "#f0f921"
             ]
            ],
            "type": "contour"
           }
          ],
          "contourcarpet": [
           {
            "colorbar": {
             "outlinewidth": 0,
             "ticks": ""
            },
            "type": "contourcarpet"
           }
          ],
          "heatmap": [
           {
            "colorbar": {
             "outlinewidth": 0,
             "ticks": ""
            },
            "colorscale": [
             [
              0,
              "#0d0887"
             ],
             [
              0.1111111111111111,
              "#46039f"
             ],
             [
              0.2222222222222222,
              "#7201a8"
             ],
             [
              0.3333333333333333,
              "#9c179e"
             ],
             [
              0.4444444444444444,
              "#bd3786"
             ],
             [
              0.5555555555555556,
              "#d8576b"
             ],
             [
              0.6666666666666666,
              "#ed7953"
             ],
             [
              0.7777777777777778,
              "#fb9f3a"
             ],
             [
              0.8888888888888888,
              "#fdca26"
             ],
             [
              1,
              "#f0f921"
             ]
            ],
            "type": "heatmap"
           }
          ],
          "heatmapgl": [
           {
            "colorbar": {
             "outlinewidth": 0,
             "ticks": ""
            },
            "colorscale": [
             [
              0,
              "#0d0887"
             ],
             [
              0.1111111111111111,
              "#46039f"
             ],
             [
              0.2222222222222222,
              "#7201a8"
             ],
             [
              0.3333333333333333,
              "#9c179e"
             ],
             [
              0.4444444444444444,
              "#bd3786"
             ],
             [
              0.5555555555555556,
              "#d8576b"
             ],
             [
              0.6666666666666666,
              "#ed7953"
             ],
             [
              0.7777777777777778,
              "#fb9f3a"
             ],
             [
              0.8888888888888888,
              "#fdca26"
             ],
             [
              1,
              "#f0f921"
             ]
            ],
            "type": "heatmapgl"
           }
          ],
          "histogram": [
           {
            "marker": {
             "pattern": {
              "fillmode": "overlay",
              "size": 10,
              "solidity": 0.2
             }
            },
            "type": "histogram"
           }
          ],
          "histogram2d": [
           {
            "colorbar": {
             "outlinewidth": 0,
             "ticks": ""
            },
            "colorscale": [
             [
              0,
              "#0d0887"
             ],
             [
              0.1111111111111111,
              "#46039f"
             ],
             [
              0.2222222222222222,
              "#7201a8"
             ],
             [
              0.3333333333333333,
              "#9c179e"
             ],
             [
              0.4444444444444444,
              "#bd3786"
             ],
             [
              0.5555555555555556,
              "#d8576b"
             ],
             [
              0.6666666666666666,
              "#ed7953"
             ],
             [
              0.7777777777777778,
              "#fb9f3a"
             ],
             [
              0.8888888888888888,
              "#fdca26"
             ],
             [
              1,
              "#f0f921"
             ]
            ],
            "type": "histogram2d"
           }
          ],
          "histogram2dcontour": [
           {
            "colorbar": {
             "outlinewidth": 0,
             "ticks": ""
            },
            "colorscale": [
             [
              0,
              "#0d0887"
             ],
             [
              0.1111111111111111,
              "#46039f"
             ],
             [
              0.2222222222222222,
              "#7201a8"
             ],
             [
              0.3333333333333333,
              "#9c179e"
             ],
             [
              0.4444444444444444,
              "#bd3786"
             ],
             [
              0.5555555555555556,
              "#d8576b"
             ],
             [
              0.6666666666666666,
              "#ed7953"
             ],
             [
              0.7777777777777778,
              "#fb9f3a"
             ],
             [
              0.8888888888888888,
              "#fdca26"
             ],
             [
              1,
              "#f0f921"
             ]
            ],
            "type": "histogram2dcontour"
           }
          ],
          "mesh3d": [
           {
            "colorbar": {
             "outlinewidth": 0,
             "ticks": ""
            },
            "type": "mesh3d"
           }
          ],
          "parcoords": [
           {
            "line": {
             "colorbar": {
              "outlinewidth": 0,
              "ticks": ""
             }
            },
            "type": "parcoords"
           }
          ],
          "pie": [
           {
            "automargin": true,
            "type": "pie"
           }
          ],
          "scatter": [
           {
            "fillpattern": {
             "fillmode": "overlay",
             "size": 10,
             "solidity": 0.2
            },
            "type": "scatter"
           }
          ],
          "scatter3d": [
           {
            "line": {
             "colorbar": {
              "outlinewidth": 0,
              "ticks": ""
             }
            },
            "marker": {
             "colorbar": {
              "outlinewidth": 0,
              "ticks": ""
             }
            },
            "type": "scatter3d"
           }
          ],
          "scattercarpet": [
           {
            "marker": {
             "colorbar": {
              "outlinewidth": 0,
              "ticks": ""
             }
            },
            "type": "scattercarpet"
           }
          ],
          "scattergeo": [
           {
            "marker": {
             "colorbar": {
              "outlinewidth": 0,
              "ticks": ""
             }
            },
            "type": "scattergeo"
           }
          ],
          "scattergl": [
           {
            "marker": {
             "colorbar": {
              "outlinewidth": 0,
              "ticks": ""
             }
            },
            "type": "scattergl"
           }
          ],
          "scattermapbox": [
           {
            "marker": {
             "colorbar": {
              "outlinewidth": 0,
              "ticks": ""
             }
            },
            "type": "scattermapbox"
           }
          ],
          "scatterpolar": [
           {
            "marker": {
             "colorbar": {
              "outlinewidth": 0,
              "ticks": ""
             }
            },
            "type": "scatterpolar"
           }
          ],
          "scatterpolargl": [
           {
            "marker": {
             "colorbar": {
              "outlinewidth": 0,
              "ticks": ""
             }
            },
            "type": "scatterpolargl"
           }
          ],
          "scatterternary": [
           {
            "marker": {
             "colorbar": {
              "outlinewidth": 0,
              "ticks": ""
             }
            },
            "type": "scatterternary"
           }
          ],
          "surface": [
           {
            "colorbar": {
             "outlinewidth": 0,
             "ticks": ""
            },
            "colorscale": [
             [
              0,
              "#0d0887"
             ],
             [
              0.1111111111111111,
              "#46039f"
             ],
             [
              0.2222222222222222,
              "#7201a8"
             ],
             [
              0.3333333333333333,
              "#9c179e"
             ],
             [
              0.4444444444444444,
              "#bd3786"
             ],
             [
              0.5555555555555556,
              "#d8576b"
             ],
             [
              0.6666666666666666,
              "#ed7953"
             ],
             [
              0.7777777777777778,
              "#fb9f3a"
             ],
             [
              0.8888888888888888,
              "#fdca26"
             ],
             [
              1,
              "#f0f921"
             ]
            ],
            "type": "surface"
           }
          ],
          "table": [
           {
            "cells": {
             "fill": {
              "color": "#EBF0F8"
             },
             "line": {
              "color": "white"
             }
            },
            "header": {
             "fill": {
              "color": "#C8D4E3"
             },
             "line": {
              "color": "white"
             }
            },
            "type": "table"
           }
          ]
         },
         "layout": {
          "annotationdefaults": {
           "arrowcolor": "#2a3f5f",
           "arrowhead": 0,
           "arrowwidth": 1
          },
          "autotypenumbers": "strict",
          "coloraxis": {
           "colorbar": {
            "outlinewidth": 0,
            "ticks": ""
           }
          },
          "colorscale": {
           "diverging": [
            [
             0,
             "#8e0152"
            ],
            [
             0.1,
             "#c51b7d"
            ],
            [
             0.2,
             "#de77ae"
            ],
            [
             0.3,
             "#f1b6da"
            ],
            [
             0.4,
             "#fde0ef"
            ],
            [
             0.5,
             "#f7f7f7"
            ],
            [
             0.6,
             "#e6f5d0"
            ],
            [
             0.7,
             "#b8e186"
            ],
            [
             0.8,
             "#7fbc41"
            ],
            [
             0.9,
             "#4d9221"
            ],
            [
             1,
             "#276419"
            ]
           ],
           "sequential": [
            [
             0,
             "#0d0887"
            ],
            [
             0.1111111111111111,
             "#46039f"
            ],
            [
             0.2222222222222222,
             "#7201a8"
            ],
            [
             0.3333333333333333,
             "#9c179e"
            ],
            [
             0.4444444444444444,
             "#bd3786"
            ],
            [
             0.5555555555555556,
             "#d8576b"
            ],
            [
             0.6666666666666666,
             "#ed7953"
            ],
            [
             0.7777777777777778,
             "#fb9f3a"
            ],
            [
             0.8888888888888888,
             "#fdca26"
            ],
            [
             1,
             "#f0f921"
            ]
           ],
           "sequentialminus": [
            [
             0,
             "#0d0887"
            ],
            [
             0.1111111111111111,
             "#46039f"
            ],
            [
             0.2222222222222222,
             "#7201a8"
            ],
            [
             0.3333333333333333,
             "#9c179e"
            ],
            [
             0.4444444444444444,
             "#bd3786"
            ],
            [
             0.5555555555555556,
             "#d8576b"
            ],
            [
             0.6666666666666666,
             "#ed7953"
            ],
            [
             0.7777777777777778,
             "#fb9f3a"
            ],
            [
             0.8888888888888888,
             "#fdca26"
            ],
            [
             1,
             "#f0f921"
            ]
           ]
          },
          "colorway": [
           "#636efa",
           "#EF553B",
           "#00cc96",
           "#ab63fa",
           "#FFA15A",
           "#19d3f3",
           "#FF6692",
           "#B6E880",
           "#FF97FF",
           "#FECB52"
          ],
          "font": {
           "color": "#2a3f5f"
          },
          "geo": {
           "bgcolor": "white",
           "lakecolor": "white",
           "landcolor": "#E5ECF6",
           "showlakes": true,
           "showland": true,
           "subunitcolor": "white"
          },
          "hoverlabel": {
           "align": "left"
          },
          "hovermode": "closest",
          "mapbox": {
           "style": "light"
          },
          "paper_bgcolor": "white",
          "plot_bgcolor": "#E5ECF6",
          "polar": {
           "angularaxis": {
            "gridcolor": "white",
            "linecolor": "white",
            "ticks": ""
           },
           "bgcolor": "#E5ECF6",
           "radialaxis": {
            "gridcolor": "white",
            "linecolor": "white",
            "ticks": ""
           }
          },
          "scene": {
           "xaxis": {
            "backgroundcolor": "#E5ECF6",
            "gridcolor": "white",
            "gridwidth": 2,
            "linecolor": "white",
            "showbackground": true,
            "ticks": "",
            "zerolinecolor": "white"
           },
           "yaxis": {
            "backgroundcolor": "#E5ECF6",
            "gridcolor": "white",
            "gridwidth": 2,
            "linecolor": "white",
            "showbackground": true,
            "ticks": "",
            "zerolinecolor": "white"
           },
           "zaxis": {
            "backgroundcolor": "#E5ECF6",
            "gridcolor": "white",
            "gridwidth": 2,
            "linecolor": "white",
            "showbackground": true,
            "ticks": "",
            "zerolinecolor": "white"
           }
          },
          "shapedefaults": {
           "line": {
            "color": "#2a3f5f"
           }
          },
          "ternary": {
           "aaxis": {
            "gridcolor": "white",
            "linecolor": "white",
            "ticks": ""
           },
           "baxis": {
            "gridcolor": "white",
            "linecolor": "white",
            "ticks": ""
           },
           "bgcolor": "#E5ECF6",
           "caxis": {
            "gridcolor": "white",
            "linecolor": "white",
            "ticks": ""
           }
          },
          "title": {
           "x": 0.05
          },
          "xaxis": {
           "automargin": true,
           "gridcolor": "white",
           "linecolor": "white",
           "ticks": "",
           "title": {
            "standoff": 15
           },
           "zerolinecolor": "white",
           "zerolinewidth": 2
          },
          "yaxis": {
           "automargin": true,
           "gridcolor": "white",
           "linecolor": "white",
           "ticks": "",
           "title": {
            "standoff": 15
           },
           "zerolinecolor": "white",
           "zerolinewidth": 2
          }
         }
        },
        "title": {
         "text": "Boxplot da Acurácia Balanceada do classificador Sim/real sem features de temperatura"
        },
        "xaxis": {
         "anchor": "y",
         "domain": [
          0,
          1
         ],
         "title": {
          "text": "Nome"
         }
        },
        "yaxis": {
         "anchor": "x",
         "domain": [
          0,
          1
         ],
         "range": [
          0,
          1
         ],
         "title": {
          "text": "Acurácia Balanceada"
         }
        }
       }
      }
     },
     "metadata": {},
     "output_type": "display_data"
    },
    {
     "data": {
      "application/vnd.plotly.v1+json": {
       "config": {
        "plotlyServerURL": "https://plot.ly"
       },
       "data": [
        {
         "alignmentgroup": "True",
         "boxpoints": "all",
         "hovertemplate": "Nome=%{x}<br>Acurácia Balanceada=%{y}<extra></extra>",
         "legendgroup": "",
         "marker": {
          "color": "#636efa"
         },
         "name": "",
         "notched": false,
         "offsetgroup": "",
         "orientation": "v",
         "showlegend": false,
         "type": "box",
         "x": [
          "logreg",
          "KNN",
          "GaussianNB",
          "Perceptron",
          "LinearSVC",
          "SGD",
          "Dtree",
          "RForest",
          "ADA",
          "GBC",
          "ETC",
          "logreg",
          "KNN",
          "GaussianNB",
          "Perceptron",
          "LinearSVC",
          "SGD",
          "Dtree",
          "RForest",
          "ADA",
          "GBC",
          "ETC",
          "logreg",
          "KNN",
          "GaussianNB",
          "Perceptron",
          "LinearSVC",
          "SGD",
          "Dtree",
          "RForest",
          "ADA",
          "GBC",
          "ETC",
          "logreg",
          "KNN",
          "GaussianNB",
          "Perceptron",
          "LinearSVC",
          "SGD",
          "Dtree",
          "RForest",
          "ADA",
          "GBC",
          "ETC",
          "logreg",
          "KNN",
          "GaussianNB",
          "Perceptron",
          "LinearSVC",
          "SGD",
          "Dtree",
          "RForest",
          "ADA",
          "GBC",
          "ETC",
          "logreg",
          "KNN",
          "GaussianNB",
          "Perceptron",
          "LinearSVC",
          "SGD",
          "Dtree",
          "RForest",
          "ADA",
          "GBC",
          "ETC",
          "logreg",
          "KNN",
          "GaussianNB",
          "Perceptron",
          "LinearSVC",
          "SGD",
          "Dtree",
          "RForest",
          "ADA",
          "GBC",
          "ETC",
          "logreg",
          "KNN",
          "GaussianNB",
          "Perceptron",
          "LinearSVC",
          "SGD",
          "Dtree",
          "RForest",
          "ADA",
          "GBC",
          "ETC",
          "logreg",
          "KNN",
          "GaussianNB",
          "Perceptron",
          "LinearSVC",
          "SGD",
          "Dtree",
          "RForest",
          "ADA",
          "GBC",
          "ETC",
          "logreg",
          "KNN",
          "GaussianNB",
          "Perceptron",
          "LinearSVC",
          "SGD",
          "Dtree",
          "RForest",
          "ADA",
          "GBC",
          "ETC",
          "logreg",
          "KNN",
          "GaussianNB",
          "Perceptron",
          "LinearSVC",
          "SGD",
          "Dtree",
          "RForest",
          "ADA",
          "GBC",
          "ETC",
          "logreg",
          "KNN",
          "GaussianNB",
          "Perceptron",
          "LinearSVC",
          "SGD",
          "Dtree",
          "RForest",
          "ADA",
          "GBC",
          "ETC",
          "logreg",
          "KNN",
          "GaussianNB",
          "Perceptron",
          "LinearSVC",
          "SGD",
          "Dtree",
          "RForest",
          "ADA",
          "GBC",
          "ETC",
          "logreg",
          "KNN",
          "GaussianNB",
          "Perceptron",
          "LinearSVC",
          "SGD",
          "Dtree",
          "RForest",
          "ADA",
          "GBC",
          "ETC",
          "logreg",
          "KNN",
          "GaussianNB",
          "Perceptron",
          "LinearSVC",
          "SGD",
          "Dtree",
          "RForest",
          "ADA",
          "GBC",
          "ETC",
          "logreg",
          "KNN",
          "GaussianNB",
          "Perceptron",
          "LinearSVC",
          "SGD",
          "Dtree",
          "RForest",
          "ADA",
          "GBC",
          "ETC",
          "logreg",
          "KNN",
          "GaussianNB",
          "Perceptron",
          "LinearSVC",
          "SGD",
          "Dtree",
          "RForest",
          "ADA",
          "GBC",
          "ETC",
          "logreg",
          "KNN",
          "GaussianNB",
          "Perceptron",
          "LinearSVC",
          "SGD",
          "Dtree",
          "RForest",
          "ADA",
          "GBC",
          "ETC",
          "logreg",
          "KNN",
          "GaussianNB",
          "Perceptron",
          "LinearSVC",
          "SGD",
          "Dtree",
          "RForest",
          "ADA",
          "GBC",
          "ETC",
          "logreg",
          "KNN",
          "GaussianNB",
          "Perceptron",
          "LinearSVC",
          "SGD",
          "Dtree",
          "RForest",
          "ADA",
          "GBC",
          "ETC",
          "logreg",
          "KNN",
          "GaussianNB",
          "Perceptron",
          "LinearSVC",
          "SGD",
          "Dtree",
          "RForest",
          "ADA",
          "GBC",
          "ETC",
          "logreg",
          "KNN",
          "GaussianNB",
          "Perceptron",
          "LinearSVC",
          "SGD",
          "Dtree",
          "RForest",
          "ADA",
          "GBC",
          "ETC",
          "logreg",
          "KNN",
          "GaussianNB",
          "Perceptron",
          "LinearSVC",
          "SGD",
          "Dtree",
          "RForest",
          "ADA",
          "GBC",
          "ETC",
          "logreg",
          "KNN",
          "GaussianNB",
          "Perceptron",
          "LinearSVC",
          "SGD",
          "Dtree",
          "RForest",
          "ADA",
          "GBC",
          "ETC",
          "logreg",
          "KNN",
          "GaussianNB",
          "Perceptron",
          "LinearSVC",
          "SGD",
          "Dtree",
          "RForest",
          "ADA",
          "GBC",
          "ETC"
         ],
         "x0": " ",
         "xaxis": "x",
         "y": [
          0.5,
          0.4042095526533582,
          0.5,
          0.5,
          0.5,
          0.5,
          0.3909843983406742,
          0.6028699981295432,
          0.3247253887603484,
          0.3250981989807291,
          0.3044283704734305,
          0.5,
          0.5044814094532373,
          0.5,
          0.5,
          0.5,
          0.5,
          0.5658170180819363,
          0.5137222346065251,
          0.3792466415051796,
          0.3818063487915055,
          0.4578801319056367,
          0.5,
          0.4378713689437556,
          0.5,
          0.5,
          0.5,
          0.5,
          0.5302693713984099,
          0.5900740239674694,
          0.3238362812244574,
          0.3356457816075167,
          0.5195257751505974,
          0.5,
          0.3771712031649153,
          0.5,
          0.5,
          0.5,
          0.5,
          0.6295342562628273,
          0.5698410624194487,
          0.327962816344205,
          0.3010269576379974,
          0.4160895154492043,
          0.5,
          0.4818463201965773,
          0.5,
          0.5,
          0.5,
          0.5,
          0.5223340225838439,
          0.5258404884710681,
          0.2886973165350941,
          0.3100948295962631,
          0.4341650460311725,
          0.5,
          0.2114871668729293,
          0.5,
          0.5,
          0.5,
          0.5,
          0.3555366801698272,
          0.5298658139433585,
          0.2746214887298573,
          0.249957081984939,
          0.2777884539009272,
          0.5,
          0.3185362266481158,
          0.5,
          0.5,
          0.5,
          0.5,
          0.6870277416924815,
          0.516174326571504,
          0.2725345201765916,
          0.3050599699189554,
          0.3410790742007641,
          0.5,
          0.2573825391578845,
          0.5,
          0.5,
          0.5,
          0.5,
          0.5097673715470215,
          0.5431037796038218,
          0.2662262125300106,
          0.3078195342306401,
          0.3487517903858521,
          0.5,
          0.1880026852584945,
          0.5,
          0.5,
          0.5,
          0.5,
          0.5844088459794148,
          0.5420878397249147,
          0.2088262499391461,
          0.2607122084457529,
          0.2777103046794729,
          0.5,
          0.2943291850189223,
          0.5,
          0.5,
          0.5,
          0.5,
          0.3312335534322881,
          0.2818842417860044,
          0.1831984298412161,
          0.2491358745922788,
          0.2435027249736726,
          0.5,
          0.5085938520904276,
          0.5,
          0.5,
          0.5,
          0.5,
          0.5111240932768609,
          0.5226517440087732,
          0.4640705751526472,
          0.5343267252401487,
          0.5350441607157956,
          0.5,
          0.5854363160713233,
          0.5,
          0.5,
          0.5,
          0.5,
          0.5318041708623831,
          0.6355069065975879,
          0.5137786045367545,
          0.5653570906966555,
          0.4781054066449899,
          0.5,
          0.5260915908875445,
          0.5,
          0.5,
          0.5,
          0.5,
          0.5004599273852808,
          0.5084375536475189,
          0.5625091280852929,
          0.5582493549486394,
          0.7156956946184653,
          0.5,
          0.4703084203864415,
          0.5,
          0.5,
          0.5,
          0.5,
          0.7032943099679972,
          0.5120516348560901,
          0.5103938464534346,
          0.520987549932228,
          0.4830275264618388,
          0.5,
          0.5634610112253029,
          0.5,
          0.5,
          0.5,
          0.5,
          0.5853901952193175,
          0.3769444423092198,
          0.4206503552586739,
          0.4706363908895944,
          0.5065555666587236,
          0.5,
          0.39029642896492,
          0.5,
          0.5,
          0.5,
          0.5,
          0.5562008204387118,
          0.3891446887995511,
          0.3903412686821479,
          0.537247712533854,
          0.4065207197927636,
          0.5,
          0.4951073462830436,
          0.5,
          0.5,
          0.5,
          0.5,
          0.5061084506212222,
          0.6108220016962225,
          0.445558177611401,
          0.4708938989799605,
          0.4378790557524232,
          0.5,
          0.4280015066144988,
          0.5,
          0.5,
          0.5,
          0.5,
          0.5123155486203459,
          0.5665959480269244,
          0.4363506619623397,
          0.4619221121300403,
          0.439508659189964,
          0.5,
          0.3710294430394666,
          0.5,
          0.5,
          0.5,
          0.5,
          0.4436979699138308,
          0.6836519515526072,
          0.3792697019311825,
          0.406447695110421,
          0.3736378334473543,
          0.5,
          0.4690336912823903,
          0.5,
          0.5,
          0.5,
          0.5,
          0.3305289293044207,
          0.6251117790093753,
          0.353287007499763,
          0.405969831838249,
          0.372431004486534,
          0.5,
          0.4174257390225966,
          0.5,
          0.5,
          0.5,
          0.5,
          0.4723082717748072,
          0.4251740421595832,
          0.4875998964843099,
          0.4314990045582775,
          0.4271764558175049,
          0.5,
          0.5013836255601762,
          0.5,
          0.5,
          0.5,
          0.5,
          0.5384519792251184,
          0.4382147130642437,
          0.5129522726049826,
          0.5128843724617517,
          0.4202429543992887,
          0.5,
          0.4309839883775452,
          0.5,
          0.5,
          0.5,
          0.5,
          0.4276620058983445,
          0.4737636408825481,
          0.4666661542127555,
          0.4434712090581353,
          0.4605295186264185,
          0.5,
          0.3624496834315963,
          0.5,
          0.5,
          0.5,
          0.5,
          0.4666238767650834,
          0.3562169627369138,
          0.4552986453280858,
          0.4644254494861368,
          0.361502924830698,
          0.5,
          0.5007289656886483,
          0.5,
          0.5,
          0.5,
          0.5,
          0.486407160006047,
          0.4437005321833868,
          0.4224311326000118,
          0.4124574983537418,
          0.3987045165125461
         ],
         "y0": " ",
         "yaxis": "y"
        }
       ],
       "layout": {
        "boxmode": "group",
        "legend": {
         "tracegroupgap": 0
        },
        "template": {
         "data": {
          "bar": [
           {
            "error_x": {
             "color": "#2a3f5f"
            },
            "error_y": {
             "color": "#2a3f5f"
            },
            "marker": {
             "line": {
              "color": "#E5ECF6",
              "width": 0.5
             },
             "pattern": {
              "fillmode": "overlay",
              "size": 10,
              "solidity": 0.2
             }
            },
            "type": "bar"
           }
          ],
          "barpolar": [
           {
            "marker": {
             "line": {
              "color": "#E5ECF6",
              "width": 0.5
             },
             "pattern": {
              "fillmode": "overlay",
              "size": 10,
              "solidity": 0.2
             }
            },
            "type": "barpolar"
           }
          ],
          "carpet": [
           {
            "aaxis": {
             "endlinecolor": "#2a3f5f",
             "gridcolor": "white",
             "linecolor": "white",
             "minorgridcolor": "white",
             "startlinecolor": "#2a3f5f"
            },
            "baxis": {
             "endlinecolor": "#2a3f5f",
             "gridcolor": "white",
             "linecolor": "white",
             "minorgridcolor": "white",
             "startlinecolor": "#2a3f5f"
            },
            "type": "carpet"
           }
          ],
          "choropleth": [
           {
            "colorbar": {
             "outlinewidth": 0,
             "ticks": ""
            },
            "type": "choropleth"
           }
          ],
          "contour": [
           {
            "colorbar": {
             "outlinewidth": 0,
             "ticks": ""
            },
            "colorscale": [
             [
              0,
              "#0d0887"
             ],
             [
              0.1111111111111111,
              "#46039f"
             ],
             [
              0.2222222222222222,
              "#7201a8"
             ],
             [
              0.3333333333333333,
              "#9c179e"
             ],
             [
              0.4444444444444444,
              "#bd3786"
             ],
             [
              0.5555555555555556,
              "#d8576b"
             ],
             [
              0.6666666666666666,
              "#ed7953"
             ],
             [
              0.7777777777777778,
              "#fb9f3a"
             ],
             [
              0.8888888888888888,
              "#fdca26"
             ],
             [
              1,
              "#f0f921"
             ]
            ],
            "type": "contour"
           }
          ],
          "contourcarpet": [
           {
            "colorbar": {
             "outlinewidth": 0,
             "ticks": ""
            },
            "type": "contourcarpet"
           }
          ],
          "heatmap": [
           {
            "colorbar": {
             "outlinewidth": 0,
             "ticks": ""
            },
            "colorscale": [
             [
              0,
              "#0d0887"
             ],
             [
              0.1111111111111111,
              "#46039f"
             ],
             [
              0.2222222222222222,
              "#7201a8"
             ],
             [
              0.3333333333333333,
              "#9c179e"
             ],
             [
              0.4444444444444444,
              "#bd3786"
             ],
             [
              0.5555555555555556,
              "#d8576b"
             ],
             [
              0.6666666666666666,
              "#ed7953"
             ],
             [
              0.7777777777777778,
              "#fb9f3a"
             ],
             [
              0.8888888888888888,
              "#fdca26"
             ],
             [
              1,
              "#f0f921"
             ]
            ],
            "type": "heatmap"
           }
          ],
          "heatmapgl": [
           {
            "colorbar": {
             "outlinewidth": 0,
             "ticks": ""
            },
            "colorscale": [
             [
              0,
              "#0d0887"
             ],
             [
              0.1111111111111111,
              "#46039f"
             ],
             [
              0.2222222222222222,
              "#7201a8"
             ],
             [
              0.3333333333333333,
              "#9c179e"
             ],
             [
              0.4444444444444444,
              "#bd3786"
             ],
             [
              0.5555555555555556,
              "#d8576b"
             ],
             [
              0.6666666666666666,
              "#ed7953"
             ],
             [
              0.7777777777777778,
              "#fb9f3a"
             ],
             [
              0.8888888888888888,
              "#fdca26"
             ],
             [
              1,
              "#f0f921"
             ]
            ],
            "type": "heatmapgl"
           }
          ],
          "histogram": [
           {
            "marker": {
             "pattern": {
              "fillmode": "overlay",
              "size": 10,
              "solidity": 0.2
             }
            },
            "type": "histogram"
           }
          ],
          "histogram2d": [
           {
            "colorbar": {
             "outlinewidth": 0,
             "ticks": ""
            },
            "colorscale": [
             [
              0,
              "#0d0887"
             ],
             [
              0.1111111111111111,
              "#46039f"
             ],
             [
              0.2222222222222222,
              "#7201a8"
             ],
             [
              0.3333333333333333,
              "#9c179e"
             ],
             [
              0.4444444444444444,
              "#bd3786"
             ],
             [
              0.5555555555555556,
              "#d8576b"
             ],
             [
              0.6666666666666666,
              "#ed7953"
             ],
             [
              0.7777777777777778,
              "#fb9f3a"
             ],
             [
              0.8888888888888888,
              "#fdca26"
             ],
             [
              1,
              "#f0f921"
             ]
            ],
            "type": "histogram2d"
           }
          ],
          "histogram2dcontour": [
           {
            "colorbar": {
             "outlinewidth": 0,
             "ticks": ""
            },
            "colorscale": [
             [
              0,
              "#0d0887"
             ],
             [
              0.1111111111111111,
              "#46039f"
             ],
             [
              0.2222222222222222,
              "#7201a8"
             ],
             [
              0.3333333333333333,
              "#9c179e"
             ],
             [
              0.4444444444444444,
              "#bd3786"
             ],
             [
              0.5555555555555556,
              "#d8576b"
             ],
             [
              0.6666666666666666,
              "#ed7953"
             ],
             [
              0.7777777777777778,
              "#fb9f3a"
             ],
             [
              0.8888888888888888,
              "#fdca26"
             ],
             [
              1,
              "#f0f921"
             ]
            ],
            "type": "histogram2dcontour"
           }
          ],
          "mesh3d": [
           {
            "colorbar": {
             "outlinewidth": 0,
             "ticks": ""
            },
            "type": "mesh3d"
           }
          ],
          "parcoords": [
           {
            "line": {
             "colorbar": {
              "outlinewidth": 0,
              "ticks": ""
             }
            },
            "type": "parcoords"
           }
          ],
          "pie": [
           {
            "automargin": true,
            "type": "pie"
           }
          ],
          "scatter": [
           {
            "fillpattern": {
             "fillmode": "overlay",
             "size": 10,
             "solidity": 0.2
            },
            "type": "scatter"
           }
          ],
          "scatter3d": [
           {
            "line": {
             "colorbar": {
              "outlinewidth": 0,
              "ticks": ""
             }
            },
            "marker": {
             "colorbar": {
              "outlinewidth": 0,
              "ticks": ""
             }
            },
            "type": "scatter3d"
           }
          ],
          "scattercarpet": [
           {
            "marker": {
             "colorbar": {
              "outlinewidth": 0,
              "ticks": ""
             }
            },
            "type": "scattercarpet"
           }
          ],
          "scattergeo": [
           {
            "marker": {
             "colorbar": {
              "outlinewidth": 0,
              "ticks": ""
             }
            },
            "type": "scattergeo"
           }
          ],
          "scattergl": [
           {
            "marker": {
             "colorbar": {
              "outlinewidth": 0,
              "ticks": ""
             }
            },
            "type": "scattergl"
           }
          ],
          "scattermapbox": [
           {
            "marker": {
             "colorbar": {
              "outlinewidth": 0,
              "ticks": ""
             }
            },
            "type": "scattermapbox"
           }
          ],
          "scatterpolar": [
           {
            "marker": {
             "colorbar": {
              "outlinewidth": 0,
              "ticks": ""
             }
            },
            "type": "scatterpolar"
           }
          ],
          "scatterpolargl": [
           {
            "marker": {
             "colorbar": {
              "outlinewidth": 0,
              "ticks": ""
             }
            },
            "type": "scatterpolargl"
           }
          ],
          "scatterternary": [
           {
            "marker": {
             "colorbar": {
              "outlinewidth": 0,
              "ticks": ""
             }
            },
            "type": "scatterternary"
           }
          ],
          "surface": [
           {
            "colorbar": {
             "outlinewidth": 0,
             "ticks": ""
            },
            "colorscale": [
             [
              0,
              "#0d0887"
             ],
             [
              0.1111111111111111,
              "#46039f"
             ],
             [
              0.2222222222222222,
              "#7201a8"
             ],
             [
              0.3333333333333333,
              "#9c179e"
             ],
             [
              0.4444444444444444,
              "#bd3786"
             ],
             [
              0.5555555555555556,
              "#d8576b"
             ],
             [
              0.6666666666666666,
              "#ed7953"
             ],
             [
              0.7777777777777778,
              "#fb9f3a"
             ],
             [
              0.8888888888888888,
              "#fdca26"
             ],
             [
              1,
              "#f0f921"
             ]
            ],
            "type": "surface"
           }
          ],
          "table": [
           {
            "cells": {
             "fill": {
              "color": "#EBF0F8"
             },
             "line": {
              "color": "white"
             }
            },
            "header": {
             "fill": {
              "color": "#C8D4E3"
             },
             "line": {
              "color": "white"
             }
            },
            "type": "table"
           }
          ]
         },
         "layout": {
          "annotationdefaults": {
           "arrowcolor": "#2a3f5f",
           "arrowhead": 0,
           "arrowwidth": 1
          },
          "autotypenumbers": "strict",
          "coloraxis": {
           "colorbar": {
            "outlinewidth": 0,
            "ticks": ""
           }
          },
          "colorscale": {
           "diverging": [
            [
             0,
             "#8e0152"
            ],
            [
             0.1,
             "#c51b7d"
            ],
            [
             0.2,
             "#de77ae"
            ],
            [
             0.3,
             "#f1b6da"
            ],
            [
             0.4,
             "#fde0ef"
            ],
            [
             0.5,
             "#f7f7f7"
            ],
            [
             0.6,
             "#e6f5d0"
            ],
            [
             0.7,
             "#b8e186"
            ],
            [
             0.8,
             "#7fbc41"
            ],
            [
             0.9,
             "#4d9221"
            ],
            [
             1,
             "#276419"
            ]
           ],
           "sequential": [
            [
             0,
             "#0d0887"
            ],
            [
             0.1111111111111111,
             "#46039f"
            ],
            [
             0.2222222222222222,
             "#7201a8"
            ],
            [
             0.3333333333333333,
             "#9c179e"
            ],
            [
             0.4444444444444444,
             "#bd3786"
            ],
            [
             0.5555555555555556,
             "#d8576b"
            ],
            [
             0.6666666666666666,
             "#ed7953"
            ],
            [
             0.7777777777777778,
             "#fb9f3a"
            ],
            [
             0.8888888888888888,
             "#fdca26"
            ],
            [
             1,
             "#f0f921"
            ]
           ],
           "sequentialminus": [
            [
             0,
             "#0d0887"
            ],
            [
             0.1111111111111111,
             "#46039f"
            ],
            [
             0.2222222222222222,
             "#7201a8"
            ],
            [
             0.3333333333333333,
             "#9c179e"
            ],
            [
             0.4444444444444444,
             "#bd3786"
            ],
            [
             0.5555555555555556,
             "#d8576b"
            ],
            [
             0.6666666666666666,
             "#ed7953"
            ],
            [
             0.7777777777777778,
             "#fb9f3a"
            ],
            [
             0.8888888888888888,
             "#fdca26"
            ],
            [
             1,
             "#f0f921"
            ]
           ]
          },
          "colorway": [
           "#636efa",
           "#EF553B",
           "#00cc96",
           "#ab63fa",
           "#FFA15A",
           "#19d3f3",
           "#FF6692",
           "#B6E880",
           "#FF97FF",
           "#FECB52"
          ],
          "font": {
           "color": "#2a3f5f"
          },
          "geo": {
           "bgcolor": "white",
           "lakecolor": "white",
           "landcolor": "#E5ECF6",
           "showlakes": true,
           "showland": true,
           "subunitcolor": "white"
          },
          "hoverlabel": {
           "align": "left"
          },
          "hovermode": "closest",
          "mapbox": {
           "style": "light"
          },
          "paper_bgcolor": "white",
          "plot_bgcolor": "#E5ECF6",
          "polar": {
           "angularaxis": {
            "gridcolor": "white",
            "linecolor": "white",
            "ticks": ""
           },
           "bgcolor": "#E5ECF6",
           "radialaxis": {
            "gridcolor": "white",
            "linecolor": "white",
            "ticks": ""
           }
          },
          "scene": {
           "xaxis": {
            "backgroundcolor": "#E5ECF6",
            "gridcolor": "white",
            "gridwidth": 2,
            "linecolor": "white",
            "showbackground": true,
            "ticks": "",
            "zerolinecolor": "white"
           },
           "yaxis": {
            "backgroundcolor": "#E5ECF6",
            "gridcolor": "white",
            "gridwidth": 2,
            "linecolor": "white",
            "showbackground": true,
            "ticks": "",
            "zerolinecolor": "white"
           },
           "zaxis": {
            "backgroundcolor": "#E5ECF6",
            "gridcolor": "white",
            "gridwidth": 2,
            "linecolor": "white",
            "showbackground": true,
            "ticks": "",
            "zerolinecolor": "white"
           }
          },
          "shapedefaults": {
           "line": {
            "color": "#2a3f5f"
           }
          },
          "ternary": {
           "aaxis": {
            "gridcolor": "white",
            "linecolor": "white",
            "ticks": ""
           },
           "baxis": {
            "gridcolor": "white",
            "linecolor": "white",
            "ticks": ""
           },
           "bgcolor": "#E5ECF6",
           "caxis": {
            "gridcolor": "white",
            "linecolor": "white",
            "ticks": ""
           }
          },
          "title": {
           "x": 0.05
          },
          "xaxis": {
           "automargin": true,
           "gridcolor": "white",
           "linecolor": "white",
           "ticks": "",
           "title": {
            "standoff": 15
           },
           "zerolinecolor": "white",
           "zerolinewidth": 2
          },
          "yaxis": {
           "automargin": true,
           "gridcolor": "white",
           "linecolor": "white",
           "ticks": "",
           "title": {
            "standoff": 15
           },
           "zerolinecolor": "white",
           "zerolinewidth": 2
          }
         }
        },
        "title": {
         "text": "Boxplot da Acurácia Balanceada do classificador Sim/real"
        },
        "xaxis": {
         "anchor": "y",
         "domain": [
          0,
          1
         ],
         "title": {
          "text": "Nome"
         }
        },
        "yaxis": {
         "anchor": "x",
         "domain": [
          0,
          1
         ],
         "range": [
          0,
          1
         ],
         "title": {
          "text": "Acurácia Balanceada"
         }
        }
       }
      }
     },
     "metadata": {},
     "output_type": "display_data"
    }
   ],
   "source": [
    "# Criar boxplot da acurácia por modelo sim/real \n",
    "fig = px.box(df6, x='Nome', y='Acurácia Balanceada', points='all', title='Boxplot da Acurácia Balanceada do classificador Sim/real 0',color_discrete_sequence=px.colors.qualitative.Set3)\n",
    "fig.update_yaxes(range=[0, 1])\n",
    "fig.show()\n",
    "\n",
    "fig = px.box(df9, x='Nome', y='Acurácia Balanceada', points='all', title='Boxplot da Acurácia Balanceada do classificador Sim/real sem features de temperatura',color_discrete_sequence=px.colors.qualitative.Set1)\n",
    "fig.update_yaxes(range=[0, 1])\n",
    "fig.show()\n",
    "\n",
    "fig = px.box(df3, x='Nome', y='Acurácia Balanceada', points='all', title='Boxplot da Acurácia Balanceada do classificador Sim/real')\n",
    "fig.update_yaxes(range=[0, 1])\n",
    "fig.show()\n"
   ]
  },
  {
   "cell_type": "code",
   "execution_count": null,
   "metadata": {},
   "outputs": [],
   "source": []
  }
 ],
 "metadata": {
  "kernelspec": {
   "display_name": "Python 3",
   "language": "python",
   "name": "python3"
  },
  "language_info": {
   "codemirror_mode": {
    "name": "ipython",
    "version": 3
   },
   "file_extension": ".py",
   "mimetype": "text/x-python",
   "name": "python",
   "nbconvert_exporter": "python",
   "pygments_lexer": "ipython3",
   "version": "3.8.10"
  },
  "orig_nbformat": 4
 },
 "nbformat": 4,
 "nbformat_minor": 2
}
