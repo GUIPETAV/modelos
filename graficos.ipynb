{
 "cells": [
  {
   "cell_type": "code",
   "execution_count": 2,
   "metadata": {},
   "outputs": [],
   "source": [
    "import pandas as pd\n",
    "import plotly.express as px\n"
   ]
  },
  {
   "cell_type": "code",
   "execution_count": 25,
   "metadata": {},
   "outputs": [],
   "source": [
    "# modelo Real/Real \n",
    "\n",
    "df1 = pd.read_csv('https://raw.githubusercontent.com/GUIPETAV/modelos/main/modelos_real_real.csv')\n",
    "df2 = pd.read_csv('https://raw.githubusercontent.com/GUIPETAV/modelos/main/modelos_sim_sim.csv')\n",
    "df3 = pd.read_csv('https://raw.githubusercontent.com/GUIPETAV/modelos/main/modelos_sim_real.csv')\n",
    "df4 = pd.read_csv('https://raw.githubusercontent.com/GUIPETAV/modelos/main/modelos_real_real_0.csv')\n",
    "df5 = pd.read_csv('https://raw.githubusercontent.com/GUIPETAV/modelos/main/modelos_sim_sim_0.csv')\n",
    "df6 = pd.read_csv('https://raw.githubusercontent.com/GUIPETAV/modelos/main/modelos_sim_real_0.csv')\n",
    "df7 = pd.read_csv('https://raw.githubusercontent.com/GUIPETAV/modelos/main/modelos_real_realt.csv')\n",
    "df8 = pd.read_csv('https://raw.githubusercontent.com/GUIPETAV/modelos/main/modelos_sim_simt.csv')\n",
    "df9 = pd.read_csv('https://raw.githubusercontent.com/GUIPETAV/modelos/main/modelos_sim_realt.csv')\n",
    "df10 = pd.read_csv('https://raw.githubusercontent.com/GUIPETAV/modelos/main/modelos_real_realp.csv')\n",
    "df11 = pd.read_csv('https://raw.githubusercontent.com/GUIPETAV/modelos/main/modelos_sim_simp.csv')\n",
    "#df12= pd.read_csv('https://raw.githubusercontent.com/GUIPETAV/modelos/main/modelos_sim_realp.csv')\n",
    "\n"
   ]
  },
  {
   "cell_type": "markdown",
   "metadata": {},
   "source": [
    "## Gráficos dados Reais"
   ]
  },
  {
   "cell_type": "code",
   "execution_count": 34,
   "metadata": {},
   "outputs": [
    {
     "data": {
      "application/vnd.plotly.v1+json": {
       "config": {
        "plotlyServerURL": "https://plot.ly"
       },
       "data": [
        {
         "alignmentgroup": "True",
         "boxpoints": "all",
         "hovertemplate": "Nome=%{x}<br>F1-score Balanceada=%{y}<extra></extra>",
         "legendgroup": "",
         "marker": {
          "color": "rgb(141,211,199)"
         },
         "name": "",
         "notched": false,
         "offsetgroup": "",
         "orientation": "v",
         "showlegend": false,
         "type": "box",
         "x": [
          "logreg",
          "KNN",
          "GaussianNB",
          "Perceptron",
          "LinearSVC",
          "SGD",
          "Dtree",
          "RForest",
          "ADA",
          "GBC",
          "ETC",
          "logreg",
          "KNN",
          "GaussianNB",
          "Perceptron",
          "LinearSVC",
          "SGD",
          "Dtree",
          "RForest",
          "ADA",
          "GBC",
          "ETC",
          "logreg",
          "KNN",
          "GaussianNB",
          "Perceptron",
          "LinearSVC",
          "SGD",
          "Dtree",
          "RForest",
          "ADA",
          "GBC",
          "ETC",
          "logreg",
          "KNN",
          "GaussianNB",
          "Perceptron",
          "LinearSVC",
          "SGD",
          "Dtree",
          "RForest",
          "ADA",
          "GBC",
          "ETC",
          "logreg",
          "KNN",
          "GaussianNB",
          "Perceptron",
          "LinearSVC",
          "SGD",
          "Dtree",
          "RForest",
          "ADA",
          "GBC",
          "ETC",
          "logreg",
          "KNN",
          "GaussianNB",
          "Perceptron",
          "LinearSVC",
          "SGD",
          "Dtree",
          "RForest",
          "ADA",
          "GBC",
          "ETC",
          "logreg",
          "KNN",
          "GaussianNB",
          "Perceptron",
          "LinearSVC",
          "SGD",
          "Dtree",
          "RForest",
          "ADA",
          "GBC",
          "ETC",
          "logreg",
          "KNN",
          "GaussianNB",
          "Perceptron",
          "LinearSVC",
          "SGD",
          "Dtree",
          "RForest",
          "ADA",
          "GBC",
          "ETC",
          "logreg",
          "KNN",
          "GaussianNB",
          "Perceptron",
          "LinearSVC",
          "SGD",
          "Dtree",
          "RForest",
          "ADA",
          "GBC",
          "ETC",
          "logreg",
          "KNN",
          "GaussianNB",
          "Perceptron",
          "LinearSVC",
          "SGD",
          "Dtree",
          "RForest",
          "ADA",
          "GBC",
          "ETC",
          "logreg",
          "KNN",
          "GaussianNB",
          "Perceptron",
          "LinearSVC",
          "SGD",
          "Dtree",
          "RForest",
          "ADA",
          "GBC",
          "ETC",
          "logreg",
          "KNN",
          "GaussianNB",
          "Perceptron",
          "LinearSVC",
          "SGD",
          "Dtree",
          "RForest",
          "ADA",
          "GBC",
          "ETC",
          "logreg",
          "KNN",
          "GaussianNB",
          "Perceptron",
          "LinearSVC",
          "SGD",
          "Dtree",
          "RForest",
          "ADA",
          "GBC",
          "ETC",
          "logreg",
          "KNN",
          "GaussianNB",
          "Perceptron",
          "LinearSVC",
          "SGD",
          "Dtree",
          "RForest",
          "ADA",
          "GBC",
          "ETC",
          "logreg",
          "KNN",
          "GaussianNB",
          "Perceptron",
          "LinearSVC",
          "SGD",
          "Dtree",
          "RForest",
          "ADA",
          "GBC",
          "ETC",
          "logreg",
          "KNN",
          "GaussianNB",
          "Perceptron",
          "LinearSVC",
          "SGD",
          "Dtree",
          "RForest",
          "ADA",
          "GBC",
          "ETC",
          "logreg",
          "KNN",
          "GaussianNB",
          "Perceptron",
          "LinearSVC",
          "SGD",
          "Dtree",
          "RForest",
          "ADA",
          "GBC",
          "ETC",
          "logreg",
          "KNN",
          "GaussianNB",
          "Perceptron",
          "LinearSVC",
          "SGD",
          "Dtree",
          "RForest",
          "ADA",
          "GBC",
          "ETC",
          "logreg",
          "KNN",
          "GaussianNB",
          "Perceptron",
          "LinearSVC",
          "SGD",
          "Dtree",
          "RForest",
          "ADA",
          "GBC",
          "ETC",
          "logreg",
          "KNN",
          "GaussianNB",
          "Perceptron",
          "LinearSVC",
          "SGD",
          "Dtree",
          "RForest",
          "ADA",
          "GBC",
          "ETC",
          "logreg",
          "KNN",
          "GaussianNB",
          "Perceptron",
          "LinearSVC",
          "SGD",
          "Dtree",
          "RForest",
          "ADA",
          "GBC",
          "ETC",
          "logreg",
          "KNN",
          "GaussianNB",
          "Perceptron",
          "LinearSVC",
          "SGD",
          "Dtree",
          "RForest",
          "ADA",
          "GBC",
          "ETC",
          "logreg",
          "KNN",
          "GaussianNB",
          "Perceptron",
          "LinearSVC",
          "SGD",
          "Dtree",
          "RForest",
          "ADA",
          "GBC",
          "ETC",
          "logreg",
          "KNN",
          "GaussianNB",
          "Perceptron",
          "LinearSVC",
          "SGD",
          "Dtree",
          "RForest",
          "ADA",
          "GBC",
          "ETC",
          "logreg",
          "KNN",
          "GaussianNB",
          "Perceptron",
          "LinearSVC",
          "SGD",
          "Dtree",
          "RForest",
          "ADA",
          "GBC",
          "ETC"
         ],
         "x0": " ",
         "xaxis": "x",
         "y": [
          0.7559875002246615,
          0.81874180834764,
          0.7326043643495227,
          0.7797757681291252,
          0.7625292146905559,
          0.7952911529617475,
          0.8417009650311377,
          0.8591335778989249,
          0.7748403999508683,
          0.8352010501651428,
          0.8877778560502784,
          0.8857539592565872,
          0.9304030946926622,
          0.786015281346228,
          0.8332912688942866,
          0.8856479435110461,
          0.8879793828652881,
          0.9047580329484656,
          0.9192841947214636,
          0.9069801792835104,
          0.9007792009265642,
          0.9269213478616388,
          0.8946412895643999,
          0.9314457624438736,
          0.8192429312269491,
          0.8048322038355358,
          0.8906983245545147,
          0.8680477971182126,
          0.912489968579601,
          0.9209786875591612,
          0.9049922098693056,
          0.915225681600858,
          0.9214241926766706,
          0.8903935061980643,
          0.9146291845970204,
          0.8133612914881291,
          0.8618617736501373,
          0.8802778012310704,
          0.8864123460803177,
          0.9041701358894424,
          0.9164583679192672,
          0.9096983688134946,
          0.9132252030345628,
          0.9193113801993912,
          0.8942524509170386,
          0.9289331075230308,
          0.8987117804952609,
          0.8843444449484081,
          0.8740389727511985,
          0.8869123343119221,
          0.9186551103617664,
          0.9176010407335812,
          0.9007464693107392,
          0.914262104052972,
          0.9183944195936088,
          0.7344166069988913,
          0.8414873947990315,
          0.7363848672288147,
          0.6352041163503336,
          0.7563176364707681,
          0.7866801381429432,
          0.7898618171982549,
          0.86929108772497,
          0.8147753720278001,
          0.7972053219040607,
          0.902624496540144,
          0.9241380096227932,
          0.9478280415284588,
          0.807158240923581,
          0.941350560707794,
          0.923043269636988,
          0.936157672050428,
          0.927297460658076,
          0.9837796196463764,
          0.9602156799048291,
          0.9798264538581888,
          0.9817943869312032,
          0.9514834090787014,
          0.9685605580847592,
          0.8379649593503993,
          0.9239034091115492,
          0.932682810334312,
          0.9133513251348424,
          0.9734318113660662,
          0.9927203382895996,
          0.9846430751522176,
          0.9891449661940936,
          0.9848353432282556,
          0.9335905358235774,
          0.9628012255736752,
          0.8284824849547335,
          0.8895907949571856,
          0.915757684277481,
          0.9213960757918226,
          0.9492075381524632,
          0.9968389912836196,
          0.987498723522636,
          0.9892767831041728,
          0.9811533676807336,
          0.9434559606564656,
          0.9754851276448996,
          0.92558133328032,
          0.9069434227719662,
          0.9101704672544196,
          0.9077737944122398,
          0.9885612913184322,
          0.9975414376650372,
          0.9916845738285494,
          0.9935768750335602,
          0.9862987411393892,
          0.7256784773156869,
          0.8355731913053672,
          0.0565287302387808,
          0.634243303934956,
          0.7419423983864867,
          0.7288669604791957,
          0.7882589203532492,
          0.8719163526667704,
          0.8245264491639744,
          0.8160654262212831,
          0.9253667685065824,
          0.9105264686568272,
          0.9326654525991992,
          0.1702042420401824,
          0.8910836607808488,
          0.9166374938347388,
          0.9266568385863276,
          0.923616997508648,
          0.972126331638306,
          0.9550302350899756,
          0.9699720741865332,
          0.9764647514755336,
          0.9248044869746312,
          0.955144894020035,
          0.0354025570942641,
          0.8359970916177693,
          0.9343833778971316,
          0.9299458622593002,
          0.9697202229194066,
          0.9850205316949352,
          0.9916519939974788,
          0.9825950460129466,
          0.9860245123784216,
          0.9433155419169508,
          0.9619351409349324,
          0.1189668954871938,
          0.9392789944341452,
          0.943285093868938,
          0.9431860817260338,
          0.9772571888839618,
          0.9880336886753848,
          0.9918818795025444,
          0.9872234632651335,
          0.9898479666821914,
          0.9440081025073505,
          0.9657972572966752,
          0.0364078890831191,
          0.9554147441457526,
          0.9438144293301096,
          0.9429991929291762,
          0.9823458348318768,
          0.9879749881553196,
          0.9946538725476748,
          0.9869658586163904,
          0.9821148291022668,
          0.7605429635681998,
          0.8531901373572732,
          0.796244026526249,
          0.8003587411425317,
          0.7916394732689838,
          0.7353669339466784,
          0.8253843234231104,
          0.8691680545767537,
          0.7944077684923251,
          0.8099570537385774,
          0.904191813875362,
          0.9210873166162572,
          0.9555171843583552,
          0.7748234691000625,
          0.8749118142056596,
          0.9331442492968473,
          0.9432838199914676,
          0.9325560972374785,
          0.9750742174784828,
          0.9340411278658056,
          0.9674415231941156,
          0.9681208103398458,
          0.943963067602982,
          0.9792275357223268,
          0.8992719035584974,
          0.9054187620151694,
          0.9485829966404102,
          0.9453986112611606,
          0.9718954942614032,
          0.9882485201756828,
          0.9738061433288656,
          0.9841687916597016,
          0.9882280532602082,
          0.9458001886028594,
          0.971222472103577,
          0.8924572002061547,
          0.9259040593356986,
          0.9499591103237106,
          0.9472048316436888,
          0.9539657128462906,
          0.9893677771227336,
          0.982830889625728,
          0.9837609008787684,
          0.9846860512492012,
          0.9619180732928044,
          0.988996703247556,
          0.9406526834372384,
          0.9662098802675044,
          0.9548857829321872,
          0.962437457185478,
          0.9837730220406312,
          0.989910114704146,
          0.9727763812681516,
          0.9876055841518612,
          0.98634819350132,
          0.8054382237897985,
          0.8542129448122663,
          0.7462766792340423,
          0.7766183317869779,
          0.7998073873271125,
          0.8118553258883203,
          0.8119295593433957,
          0.8543876718298166,
          0.78863318840852,
          0.7998699230170919,
          0.8774428170321039,
          0.8389495534855882,
          0.8871574339351495,
          0.7498080893774738,
          0.8069331658645026,
          0.8409866590415781,
          0.8459209189228211,
          0.8704581367871516,
          0.8915956573674682,
          0.890137781705522,
          0.8963507783297476,
          0.8838582305426106,
          0.8268533749077985,
          0.8974864771850578,
          0.7785011474858645,
          0.8033192490780022,
          0.8261723729510223,
          0.8410512605782662,
          0.8947600273070242,
          0.8818722782259057,
          0.8974310362602886,
          0.8766937896442225,
          0.8854616505382781,
          0.8423551945979498,
          0.8913919442714398,
          0.804291632444188,
          0.8242812278917384,
          0.844382429349352,
          0.8520020799980186,
          0.8899555037184989,
          0.896735883584134,
          0.8998492739000333,
          0.8934454504683681,
          0.8875242890943107,
          0.8537396780922446,
          0.9076627927875652,
          0.8507325097154425,
          0.8501055886233709,
          0.8514906432831161,
          0.85259849985904,
          0.9051582078805592,
          0.8922196321855485,
          0.8926241848495965,
          0.8873636483267909,
          0.8850042014185612
         ],
         "y0": " ",
         "yaxis": "y"
        }
       ],
       "layout": {
        "boxmode": "group",
        "legend": {
         "tracegroupgap": 0
        },
        "template": {
         "data": {
          "bar": [
           {
            "error_x": {
             "color": "#2a3f5f"
            },
            "error_y": {
             "color": "#2a3f5f"
            },
            "marker": {
             "line": {
              "color": "#E5ECF6",
              "width": 0.5
             },
             "pattern": {
              "fillmode": "overlay",
              "size": 10,
              "solidity": 0.2
             }
            },
            "type": "bar"
           }
          ],
          "barpolar": [
           {
            "marker": {
             "line": {
              "color": "#E5ECF6",
              "width": 0.5
             },
             "pattern": {
              "fillmode": "overlay",
              "size": 10,
              "solidity": 0.2
             }
            },
            "type": "barpolar"
           }
          ],
          "carpet": [
           {
            "aaxis": {
             "endlinecolor": "#2a3f5f",
             "gridcolor": "white",
             "linecolor": "white",
             "minorgridcolor": "white",
             "startlinecolor": "#2a3f5f"
            },
            "baxis": {
             "endlinecolor": "#2a3f5f",
             "gridcolor": "white",
             "linecolor": "white",
             "minorgridcolor": "white",
             "startlinecolor": "#2a3f5f"
            },
            "type": "carpet"
           }
          ],
          "choropleth": [
           {
            "colorbar": {
             "outlinewidth": 0,
             "ticks": ""
            },
            "type": "choropleth"
           }
          ],
          "contour": [
           {
            "colorbar": {
             "outlinewidth": 0,
             "ticks": ""
            },
            "colorscale": [
             [
              0,
              "#0d0887"
             ],
             [
              0.1111111111111111,
              "#46039f"
             ],
             [
              0.2222222222222222,
              "#7201a8"
             ],
             [
              0.3333333333333333,
              "#9c179e"
             ],
             [
              0.4444444444444444,
              "#bd3786"
             ],
             [
              0.5555555555555556,
              "#d8576b"
             ],
             [
              0.6666666666666666,
              "#ed7953"
             ],
             [
              0.7777777777777778,
              "#fb9f3a"
             ],
             [
              0.8888888888888888,
              "#fdca26"
             ],
             [
              1,
              "#f0f921"
             ]
            ],
            "type": "contour"
           }
          ],
          "contourcarpet": [
           {
            "colorbar": {
             "outlinewidth": 0,
             "ticks": ""
            },
            "type": "contourcarpet"
           }
          ],
          "heatmap": [
           {
            "colorbar": {
             "outlinewidth": 0,
             "ticks": ""
            },
            "colorscale": [
             [
              0,
              "#0d0887"
             ],
             [
              0.1111111111111111,
              "#46039f"
             ],
             [
              0.2222222222222222,
              "#7201a8"
             ],
             [
              0.3333333333333333,
              "#9c179e"
             ],
             [
              0.4444444444444444,
              "#bd3786"
             ],
             [
              0.5555555555555556,
              "#d8576b"
             ],
             [
              0.6666666666666666,
              "#ed7953"
             ],
             [
              0.7777777777777778,
              "#fb9f3a"
             ],
             [
              0.8888888888888888,
              "#fdca26"
             ],
             [
              1,
              "#f0f921"
             ]
            ],
            "type": "heatmap"
           }
          ],
          "heatmapgl": [
           {
            "colorbar": {
             "outlinewidth": 0,
             "ticks": ""
            },
            "colorscale": [
             [
              0,
              "#0d0887"
             ],
             [
              0.1111111111111111,
              "#46039f"
             ],
             [
              0.2222222222222222,
              "#7201a8"
             ],
             [
              0.3333333333333333,
              "#9c179e"
             ],
             [
              0.4444444444444444,
              "#bd3786"
             ],
             [
              0.5555555555555556,
              "#d8576b"
             ],
             [
              0.6666666666666666,
              "#ed7953"
             ],
             [
              0.7777777777777778,
              "#fb9f3a"
             ],
             [
              0.8888888888888888,
              "#fdca26"
             ],
             [
              1,
              "#f0f921"
             ]
            ],
            "type": "heatmapgl"
           }
          ],
          "histogram": [
           {
            "marker": {
             "pattern": {
              "fillmode": "overlay",
              "size": 10,
              "solidity": 0.2
             }
            },
            "type": "histogram"
           }
          ],
          "histogram2d": [
           {
            "colorbar": {
             "outlinewidth": 0,
             "ticks": ""
            },
            "colorscale": [
             [
              0,
              "#0d0887"
             ],
             [
              0.1111111111111111,
              "#46039f"
             ],
             [
              0.2222222222222222,
              "#7201a8"
             ],
             [
              0.3333333333333333,
              "#9c179e"
             ],
             [
              0.4444444444444444,
              "#bd3786"
             ],
             [
              0.5555555555555556,
              "#d8576b"
             ],
             [
              0.6666666666666666,
              "#ed7953"
             ],
             [
              0.7777777777777778,
              "#fb9f3a"
             ],
             [
              0.8888888888888888,
              "#fdca26"
             ],
             [
              1,
              "#f0f921"
             ]
            ],
            "type": "histogram2d"
           }
          ],
          "histogram2dcontour": [
           {
            "colorbar": {
             "outlinewidth": 0,
             "ticks": ""
            },
            "colorscale": [
             [
              0,
              "#0d0887"
             ],
             [
              0.1111111111111111,
              "#46039f"
             ],
             [
              0.2222222222222222,
              "#7201a8"
             ],
             [
              0.3333333333333333,
              "#9c179e"
             ],
             [
              0.4444444444444444,
              "#bd3786"
             ],
             [
              0.5555555555555556,
              "#d8576b"
             ],
             [
              0.6666666666666666,
              "#ed7953"
             ],
             [
              0.7777777777777778,
              "#fb9f3a"
             ],
             [
              0.8888888888888888,
              "#fdca26"
             ],
             [
              1,
              "#f0f921"
             ]
            ],
            "type": "histogram2dcontour"
           }
          ],
          "mesh3d": [
           {
            "colorbar": {
             "outlinewidth": 0,
             "ticks": ""
            },
            "type": "mesh3d"
           }
          ],
          "parcoords": [
           {
            "line": {
             "colorbar": {
              "outlinewidth": 0,
              "ticks": ""
             }
            },
            "type": "parcoords"
           }
          ],
          "pie": [
           {
            "automargin": true,
            "type": "pie"
           }
          ],
          "scatter": [
           {
            "fillpattern": {
             "fillmode": "overlay",
             "size": 10,
             "solidity": 0.2
            },
            "type": "scatter"
           }
          ],
          "scatter3d": [
           {
            "line": {
             "colorbar": {
              "outlinewidth": 0,
              "ticks": ""
             }
            },
            "marker": {
             "colorbar": {
              "outlinewidth": 0,
              "ticks": ""
             }
            },
            "type": "scatter3d"
           }
          ],
          "scattercarpet": [
           {
            "marker": {
             "colorbar": {
              "outlinewidth": 0,
              "ticks": ""
             }
            },
            "type": "scattercarpet"
           }
          ],
          "scattergeo": [
           {
            "marker": {
             "colorbar": {
              "outlinewidth": 0,
              "ticks": ""
             }
            },
            "type": "scattergeo"
           }
          ],
          "scattergl": [
           {
            "marker": {
             "colorbar": {
              "outlinewidth": 0,
              "ticks": ""
             }
            },
            "type": "scattergl"
           }
          ],
          "scattermapbox": [
           {
            "marker": {
             "colorbar": {
              "outlinewidth": 0,
              "ticks": ""
             }
            },
            "type": "scattermapbox"
           }
          ],
          "scatterpolar": [
           {
            "marker": {
             "colorbar": {
              "outlinewidth": 0,
              "ticks": ""
             }
            },
            "type": "scatterpolar"
           }
          ],
          "scatterpolargl": [
           {
            "marker": {
             "colorbar": {
              "outlinewidth": 0,
              "ticks": ""
             }
            },
            "type": "scatterpolargl"
           }
          ],
          "scatterternary": [
           {
            "marker": {
             "colorbar": {
              "outlinewidth": 0,
              "ticks": ""
             }
            },
            "type": "scatterternary"
           }
          ],
          "surface": [
           {
            "colorbar": {
             "outlinewidth": 0,
             "ticks": ""
            },
            "colorscale": [
             [
              0,
              "#0d0887"
             ],
             [
              0.1111111111111111,
              "#46039f"
             ],
             [
              0.2222222222222222,
              "#7201a8"
             ],
             [
              0.3333333333333333,
              "#9c179e"
             ],
             [
              0.4444444444444444,
              "#bd3786"
             ],
             [
              0.5555555555555556,
              "#d8576b"
             ],
             [
              0.6666666666666666,
              "#ed7953"
             ],
             [
              0.7777777777777778,
              "#fb9f3a"
             ],
             [
              0.8888888888888888,
              "#fdca26"
             ],
             [
              1,
              "#f0f921"
             ]
            ],
            "type": "surface"
           }
          ],
          "table": [
           {
            "cells": {
             "fill": {
              "color": "#EBF0F8"
             },
             "line": {
              "color": "white"
             }
            },
            "header": {
             "fill": {
              "color": "#C8D4E3"
             },
             "line": {
              "color": "white"
             }
            },
            "type": "table"
           }
          ]
         },
         "layout": {
          "annotationdefaults": {
           "arrowcolor": "#2a3f5f",
           "arrowhead": 0,
           "arrowwidth": 1
          },
          "autotypenumbers": "strict",
          "coloraxis": {
           "colorbar": {
            "outlinewidth": 0,
            "ticks": ""
           }
          },
          "colorscale": {
           "diverging": [
            [
             0,
             "#8e0152"
            ],
            [
             0.1,
             "#c51b7d"
            ],
            [
             0.2,
             "#de77ae"
            ],
            [
             0.3,
             "#f1b6da"
            ],
            [
             0.4,
             "#fde0ef"
            ],
            [
             0.5,
             "#f7f7f7"
            ],
            [
             0.6,
             "#e6f5d0"
            ],
            [
             0.7,
             "#b8e186"
            ],
            [
             0.8,
             "#7fbc41"
            ],
            [
             0.9,
             "#4d9221"
            ],
            [
             1,
             "#276419"
            ]
           ],
           "sequential": [
            [
             0,
             "#0d0887"
            ],
            [
             0.1111111111111111,
             "#46039f"
            ],
            [
             0.2222222222222222,
             "#7201a8"
            ],
            [
             0.3333333333333333,
             "#9c179e"
            ],
            [
             0.4444444444444444,
             "#bd3786"
            ],
            [
             0.5555555555555556,
             "#d8576b"
            ],
            [
             0.6666666666666666,
             "#ed7953"
            ],
            [
             0.7777777777777778,
             "#fb9f3a"
            ],
            [
             0.8888888888888888,
             "#fdca26"
            ],
            [
             1,
             "#f0f921"
            ]
           ],
           "sequentialminus": [
            [
             0,
             "#0d0887"
            ],
            [
             0.1111111111111111,
             "#46039f"
            ],
            [
             0.2222222222222222,
             "#7201a8"
            ],
            [
             0.3333333333333333,
             "#9c179e"
            ],
            [
             0.4444444444444444,
             "#bd3786"
            ],
            [
             0.5555555555555556,
             "#d8576b"
            ],
            [
             0.6666666666666666,
             "#ed7953"
            ],
            [
             0.7777777777777778,
             "#fb9f3a"
            ],
            [
             0.8888888888888888,
             "#fdca26"
            ],
            [
             1,
             "#f0f921"
            ]
           ]
          },
          "colorway": [
           "#636efa",
           "#EF553B",
           "#00cc96",
           "#ab63fa",
           "#FFA15A",
           "#19d3f3",
           "#FF6692",
           "#B6E880",
           "#FF97FF",
           "#FECB52"
          ],
          "font": {
           "color": "#2a3f5f"
          },
          "geo": {
           "bgcolor": "white",
           "lakecolor": "white",
           "landcolor": "#E5ECF6",
           "showlakes": true,
           "showland": true,
           "subunitcolor": "white"
          },
          "hoverlabel": {
           "align": "left"
          },
          "hovermode": "closest",
          "mapbox": {
           "style": "light"
          },
          "paper_bgcolor": "white",
          "plot_bgcolor": "#E5ECF6",
          "polar": {
           "angularaxis": {
            "gridcolor": "white",
            "linecolor": "white",
            "ticks": ""
           },
           "bgcolor": "#E5ECF6",
           "radialaxis": {
            "gridcolor": "white",
            "linecolor": "white",
            "ticks": ""
           }
          },
          "scene": {
           "xaxis": {
            "backgroundcolor": "#E5ECF6",
            "gridcolor": "white",
            "gridwidth": 2,
            "linecolor": "white",
            "showbackground": true,
            "ticks": "",
            "zerolinecolor": "white"
           },
           "yaxis": {
            "backgroundcolor": "#E5ECF6",
            "gridcolor": "white",
            "gridwidth": 2,
            "linecolor": "white",
            "showbackground": true,
            "ticks": "",
            "zerolinecolor": "white"
           },
           "zaxis": {
            "backgroundcolor": "#E5ECF6",
            "gridcolor": "white",
            "gridwidth": 2,
            "linecolor": "white",
            "showbackground": true,
            "ticks": "",
            "zerolinecolor": "white"
           }
          },
          "shapedefaults": {
           "line": {
            "color": "#2a3f5f"
           }
          },
          "ternary": {
           "aaxis": {
            "gridcolor": "white",
            "linecolor": "white",
            "ticks": ""
           },
           "baxis": {
            "gridcolor": "white",
            "linecolor": "white",
            "ticks": ""
           },
           "bgcolor": "#E5ECF6",
           "caxis": {
            "gridcolor": "white",
            "linecolor": "white",
            "ticks": ""
           }
          },
          "title": {
           "x": 0.05
          },
          "xaxis": {
           "automargin": true,
           "gridcolor": "white",
           "linecolor": "white",
           "ticks": "",
           "title": {
            "standoff": 15
           },
           "zerolinecolor": "white",
           "zerolinewidth": 2
          },
          "yaxis": {
           "automargin": true,
           "gridcolor": "white",
           "linecolor": "white",
           "ticks": "",
           "title": {
            "standoff": 15
           },
           "zerolinecolor": "white",
           "zerolinewidth": 2
          }
         }
        },
        "title": {
         "text": "Boxplot da F1-Score Balanceada do Classificador Real 0"
        },
        "xaxis": {
         "anchor": "y",
         "domain": [
          0,
          1
         ],
         "title": {
          "text": "Nome"
         }
        },
        "yaxis": {
         "anchor": "x",
         "domain": [
          0,
          1
         ],
         "range": [
          0,
          1
         ],
         "title": {
          "text": "F1-score Balanceada"
         }
        }
       }
      }
     },
     "metadata": {},
     "output_type": "display_data"
    },
    {
     "data": {
      "application/vnd.plotly.v1+json": {
       "config": {
        "plotlyServerURL": "https://plot.ly"
       },
       "data": [
        {
         "alignmentgroup": "True",
         "boxpoints": "all",
         "hovertemplate": "Nome=%{x}<br>F1-score Balanceada=%{y}<extra></extra>",
         "legendgroup": "",
         "marker": {
          "color": "rgb(228,26,28)"
         },
         "name": "",
         "notched": false,
         "offsetgroup": "",
         "orientation": "v",
         "showlegend": false,
         "type": "box",
         "x": [
          "logreg",
          "KNN",
          "GaussianNB",
          "Perceptron",
          "LinearSVC",
          "SGD",
          "Dtree",
          "RForest",
          "ADA",
          "GBC",
          "ETC",
          "logreg",
          "KNN",
          "GaussianNB",
          "Perceptron",
          "LinearSVC",
          "SGD",
          "Dtree",
          "RForest",
          "ADA",
          "GBC",
          "ETC",
          "logreg",
          "KNN",
          "GaussianNB",
          "Perceptron",
          "LinearSVC",
          "SGD",
          "Dtree",
          "RForest",
          "ADA",
          "GBC",
          "ETC",
          "logreg",
          "KNN",
          "GaussianNB",
          "Perceptron",
          "LinearSVC",
          "SGD",
          "Dtree",
          "RForest",
          "ADA",
          "GBC",
          "ETC",
          "logreg",
          "KNN",
          "GaussianNB",
          "Perceptron",
          "LinearSVC",
          "SGD",
          "Dtree",
          "RForest",
          "ADA",
          "GBC",
          "ETC",
          "logreg",
          "KNN",
          "GaussianNB",
          "Perceptron",
          "LinearSVC",
          "SGD",
          "Dtree",
          "RForest",
          "ADA",
          "GBC",
          "ETC",
          "logreg",
          "KNN",
          "GaussianNB",
          "Perceptron",
          "LinearSVC",
          "SGD",
          "Dtree",
          "RForest",
          "ADA",
          "GBC",
          "ETC",
          "logreg",
          "KNN",
          "GaussianNB",
          "Perceptron",
          "LinearSVC",
          "SGD",
          "Dtree",
          "RForest",
          "ADA",
          "GBC",
          "ETC",
          "logreg",
          "KNN",
          "GaussianNB",
          "Perceptron",
          "LinearSVC",
          "SGD",
          "Dtree",
          "RForest",
          "ADA",
          "GBC",
          "ETC",
          "logreg",
          "KNN",
          "GaussianNB",
          "Perceptron",
          "LinearSVC",
          "SGD",
          "Dtree",
          "RForest",
          "ADA",
          "GBC",
          "ETC",
          "logreg",
          "KNN",
          "GaussianNB",
          "Perceptron",
          "LinearSVC",
          "SGD",
          "Dtree",
          "RForest",
          "ADA",
          "GBC",
          "ETC",
          "logreg",
          "KNN",
          "GaussianNB",
          "Perceptron",
          "LinearSVC",
          "SGD",
          "Dtree",
          "RForest",
          "ADA",
          "GBC",
          "ETC",
          "logreg",
          "KNN",
          "GaussianNB",
          "Perceptron",
          "LinearSVC",
          "SGD",
          "Dtree",
          "RForest",
          "ADA",
          "GBC",
          "ETC",
          "logreg",
          "KNN",
          "GaussianNB",
          "Perceptron",
          "LinearSVC",
          "SGD",
          "Dtree",
          "RForest",
          "ADA",
          "GBC",
          "ETC",
          "logreg",
          "KNN",
          "GaussianNB",
          "Perceptron",
          "LinearSVC",
          "SGD",
          "Dtree",
          "RForest",
          "ADA",
          "GBC",
          "ETC",
          "logreg",
          "KNN",
          "GaussianNB",
          "Perceptron",
          "LinearSVC",
          "SGD",
          "Dtree",
          "RForest",
          "ADA",
          "GBC",
          "ETC",
          "logreg",
          "KNN",
          "GaussianNB",
          "Perceptron",
          "LinearSVC",
          "SGD",
          "Dtree",
          "RForest",
          "ADA",
          "GBC",
          "ETC",
          "logreg",
          "KNN",
          "GaussianNB",
          "Perceptron",
          "LinearSVC",
          "SGD",
          "Dtree",
          "RForest",
          "ADA",
          "GBC",
          "ETC",
          "logreg",
          "KNN",
          "GaussianNB",
          "Perceptron",
          "LinearSVC",
          "SGD",
          "Dtree",
          "RForest",
          "ADA",
          "GBC",
          "ETC",
          "logreg",
          "KNN",
          "GaussianNB",
          "Perceptron",
          "LinearSVC",
          "SGD",
          "Dtree",
          "RForest",
          "ADA",
          "GBC",
          "ETC",
          "logreg",
          "KNN",
          "GaussianNB",
          "Perceptron",
          "LinearSVC",
          "SGD",
          "Dtree",
          "RForest",
          "ADA",
          "GBC",
          "ETC",
          "logreg",
          "KNN",
          "GaussianNB",
          "Perceptron",
          "LinearSVC",
          "SGD",
          "Dtree",
          "RForest",
          "ADA",
          "GBC",
          "ETC",
          "logreg",
          "KNN",
          "GaussianNB",
          "Perceptron",
          "LinearSVC",
          "SGD",
          "Dtree",
          "RForest",
          "ADA",
          "GBC",
          "ETC",
          "logreg",
          "KNN",
          "GaussianNB",
          "Perceptron",
          "LinearSVC",
          "SGD",
          "Dtree",
          "RForest",
          "ADA",
          "GBC",
          "ETC",
          "logreg",
          "KNN",
          "GaussianNB",
          "Perceptron",
          "LinearSVC",
          "SGD",
          "Dtree",
          "RForest",
          "ADA",
          "GBC",
          "ETC"
         ],
         "x0": " ",
         "xaxis": "x",
         "y": [
          0.8679456605623641,
          0.7915360325871966,
          0.8958936174818706,
          0.819406110194326,
          0.8617083148416579,
          0.8573477157292668,
          0.8073566892267666,
          0.8250645524756667,
          0.7997564891735757,
          0.7903972512675687,
          0.8517091622280142,
          0.8599016459203698,
          0.8740451404762482,
          0.7592122256571578,
          0.8206868087239774,
          0.8612856881652018,
          0.8533785126659402,
          0.8410837951936821,
          0.8882730961678732,
          0.8438055793389793,
          0.8763906067006766,
          0.9018458793983364,
          0.8695045544116539,
          0.9045278495979078,
          0.8596142063369944,
          0.8685213946545953,
          0.8572229018489504,
          0.862700399827838,
          0.8829367078681158,
          0.9055736872217268,
          0.8779052441012876,
          0.890100394322557,
          0.9024022794787392,
          0.8644218063567962,
          0.901094568023886,
          0.8632991446326099,
          0.8484760676288343,
          0.8537258100656943,
          0.8492181045491761,
          0.8776201209788604,
          0.9019700762595187,
          0.8813670406379053,
          0.882595182649389,
          0.8974914229455961,
          0.8671555998326977,
          0.9027127614835238,
          0.8987910116979905,
          0.857029871587177,
          0.8530296927594332,
          0.8513248687438814,
          0.8967882913862094,
          0.9013661537627478,
          0.8695150602739683,
          0.8823952856416263,
          0.8975625504775213,
          0.8849757527057938,
          0.7638011286246296,
          0.9384845807156856,
          0.8466089772035218,
          0.8999128239100042,
          0.9096653775804502,
          0.7746231252133399,
          0.8094510541627745,
          0.7881905167953734,
          0.7882850406785169,
          0.8286294766332262,
          0.9048007530249076,
          0.896014036205809,
          0.7885415660001242,
          0.7207400262636847,
          0.9084981264810926,
          0.8845195498716046,
          0.8834695229365452,
          0.9191246523902028,
          0.8751091543451662,
          0.9248250295790712,
          0.9138362434975952,
          0.9289624065033132,
          0.9317833123683862,
          0.9070518576620484,
          0.9497915093251428,
          0.8940031716758531,
          0.897246212899612,
          0.9311073201367728,
          0.937969050687425,
          0.9285110287013948,
          0.9274035902974354,
          0.925735041520997,
          0.9282323962032926,
          0.9256047300772846,
          0.899883939554674,
          0.8758803416152922,
          0.900787044319033,
          0.9029478703138548,
          0.9000252211662316,
          0.9413330554490358,
          0.9350146910853164,
          0.9178509623233928,
          0.926034444209332,
          0.9285221559438116,
          0.9283361330077198,
          0.9284314189336864,
          0.8953372529103103,
          0.8863015067448968,
          0.8724788766603812,
          0.9351864376972384,
          0.9355218164046412,
          0.8983870329335373,
          0.9287575760428778,
          0.9206378791286528,
          0.8282322224383764,
          0.7745195671514584,
          0.0148017847762163,
          0.8671250130056042,
          0.8381696228074513,
          0.8964874526011686,
          0.7720645684654828,
          0.8372637520370962,
          0.7833252625282846,
          0.8329093181556233,
          0.8366087478567176,
          0.8600237205233859,
          0.8789613159982038,
          0.1548307371912897,
          0.9279139111115048,
          0.8409719683836399,
          0.8849462882197897,
          0.8586101178765004,
          0.8989180577726946,
          0.8825508965499915,
          0.901352879500535,
          0.89852875476147,
          0.8823376273737852,
          0.936319493375082,
          0.0155731256938256,
          0.8516124490553513,
          0.8512987963175416,
          0.9277127467728522,
          0.941589370120554,
          0.9571791718865236,
          0.9247955969305937,
          0.9434745673972152,
          0.93303215605024,
          0.8984933835812721,
          0.9456214079778577,
          0.1129189779233054,
          0.8487965527681522,
          0.8553582738047529,
          0.9310476580298804,
          0.9548297443442544,
          0.9597256219429532,
          0.9297911039005524,
          0.9428453800323916,
          0.944805423831813,
          0.8922768369708639,
          0.94293836351576,
          0.0148017847762163,
          0.8306784185729839,
          0.8533763056432137,
          0.849523287337415,
          0.9535053022842988,
          0.958202338738406,
          0.936256694089195,
          0.9444487368935738,
          0.938630063327762,
          0.863265664815963,
          0.7952912867130629,
          0.8608748392964464,
          0.8295467979023183,
          0.8781697743017685,
          0.8767142160481239,
          0.7868785438859484,
          0.8371462909695734,
          0.8231799543063294,
          0.8050977869524777,
          0.8602880058691176,
          0.8707010212368981,
          0.9052145848451266,
          0.7208298542654462,
          0.8808019271862235,
          0.8574838937993192,
          0.925792898588278,
          0.8673421451102677,
          0.9080456730170696,
          0.8881545072251752,
          0.9211122856626472,
          0.913306523553279,
          0.8946314102747418,
          0.9703805986686806,
          0.8261422701169303,
          0.8699243440689367,
          0.8578732311094079,
          0.8492835174329889,
          0.9650634033822864,
          0.9714593744611046,
          0.9665471572345842,
          0.9707451281126142,
          0.9644472132743857,
          0.903661285600119,
          0.9727216249771788,
          0.8367630970158731,
          0.8907541779700984,
          0.8610346559785159,
          0.8560180734140443,
          0.9335307384970898,
          0.958595711477812,
          0.9659770190014628,
          0.9724605399176356,
          0.964842378920238,
          0.8954810155090305,
          0.9750471310896708,
          0.8582528184087291,
          0.907831620505048,
          0.8548868633994987,
          0.849523287337415,
          0.9673625546133588,
          0.9751240702903696,
          0.9607940435038164,
          0.9694963463938084,
          0.96692978251419,
          0.8543069059878526,
          0.8372533338269574,
          0.8377628763688661,
          0.8319801759969622,
          0.849424046667473,
          0.8570531907372292,
          0.8261836918328492,
          0.8737309808091733,
          0.8361492486595647,
          0.8502762184536546,
          0.8981725058953194,
          0.8222946478467302,
          0.8504496237613889,
          0.711130607162907,
          0.8148650201386847,
          0.8287052179297127,
          0.8390600043050415,
          0.8119308554916029,
          0.8692869950237772,
          0.8580778426713841,
          0.8795670163282557,
          0.8662844627388719,
          0.8437090951572939,
          0.901984861319134,
          0.8070198105190209,
          0.8471781513123096,
          0.8448257388019846,
          0.8487865276788535,
          0.8992372901104337,
          0.913178666483214,
          0.8684906665745975,
          0.8844519835831126,
          0.90463497868971,
          0.85077860424996,
          0.903951058121003,
          0.8162485636622804,
          0.8742503483225833,
          0.8501725464610842,
          0.8507445983086044,
          0.8867115023327772,
          0.9077435434650736,
          0.8778395013792588,
          0.9064533409871568,
          0.9075409575200823,
          0.8487695376927454,
          0.906887514045156,
          0.8382620800453605,
          0.9281999303575272,
          0.848489121678797,
          0.8499629585594038,
          0.9032613915809627,
          0.9186234481674928,
          0.8711639363331511,
          0.9017325062467136,
          0.9096298793613914
         ],
         "y0": " ",
         "yaxis": "y"
        }
       ],
       "layout": {
        "boxmode": "group",
        "legend": {
         "tracegroupgap": 0
        },
        "template": {
         "data": {
          "bar": [
           {
            "error_x": {
             "color": "#2a3f5f"
            },
            "error_y": {
             "color": "#2a3f5f"
            },
            "marker": {
             "line": {
              "color": "#E5ECF6",
              "width": 0.5
             },
             "pattern": {
              "fillmode": "overlay",
              "size": 10,
              "solidity": 0.2
             }
            },
            "type": "bar"
           }
          ],
          "barpolar": [
           {
            "marker": {
             "line": {
              "color": "#E5ECF6",
              "width": 0.5
             },
             "pattern": {
              "fillmode": "overlay",
              "size": 10,
              "solidity": 0.2
             }
            },
            "type": "barpolar"
           }
          ],
          "carpet": [
           {
            "aaxis": {
             "endlinecolor": "#2a3f5f",
             "gridcolor": "white",
             "linecolor": "white",
             "minorgridcolor": "white",
             "startlinecolor": "#2a3f5f"
            },
            "baxis": {
             "endlinecolor": "#2a3f5f",
             "gridcolor": "white",
             "linecolor": "white",
             "minorgridcolor": "white",
             "startlinecolor": "#2a3f5f"
            },
            "type": "carpet"
           }
          ],
          "choropleth": [
           {
            "colorbar": {
             "outlinewidth": 0,
             "ticks": ""
            },
            "type": "choropleth"
           }
          ],
          "contour": [
           {
            "colorbar": {
             "outlinewidth": 0,
             "ticks": ""
            },
            "colorscale": [
             [
              0,
              "#0d0887"
             ],
             [
              0.1111111111111111,
              "#46039f"
             ],
             [
              0.2222222222222222,
              "#7201a8"
             ],
             [
              0.3333333333333333,
              "#9c179e"
             ],
             [
              0.4444444444444444,
              "#bd3786"
             ],
             [
              0.5555555555555556,
              "#d8576b"
             ],
             [
              0.6666666666666666,
              "#ed7953"
             ],
             [
              0.7777777777777778,
              "#fb9f3a"
             ],
             [
              0.8888888888888888,
              "#fdca26"
             ],
             [
              1,
              "#f0f921"
             ]
            ],
            "type": "contour"
           }
          ],
          "contourcarpet": [
           {
            "colorbar": {
             "outlinewidth": 0,
             "ticks": ""
            },
            "type": "contourcarpet"
           }
          ],
          "heatmap": [
           {
            "colorbar": {
             "outlinewidth": 0,
             "ticks": ""
            },
            "colorscale": [
             [
              0,
              "#0d0887"
             ],
             [
              0.1111111111111111,
              "#46039f"
             ],
             [
              0.2222222222222222,
              "#7201a8"
             ],
             [
              0.3333333333333333,
              "#9c179e"
             ],
             [
              0.4444444444444444,
              "#bd3786"
             ],
             [
              0.5555555555555556,
              "#d8576b"
             ],
             [
              0.6666666666666666,
              "#ed7953"
             ],
             [
              0.7777777777777778,
              "#fb9f3a"
             ],
             [
              0.8888888888888888,
              "#fdca26"
             ],
             [
              1,
              "#f0f921"
             ]
            ],
            "type": "heatmap"
           }
          ],
          "heatmapgl": [
           {
            "colorbar": {
             "outlinewidth": 0,
             "ticks": ""
            },
            "colorscale": [
             [
              0,
              "#0d0887"
             ],
             [
              0.1111111111111111,
              "#46039f"
             ],
             [
              0.2222222222222222,
              "#7201a8"
             ],
             [
              0.3333333333333333,
              "#9c179e"
             ],
             [
              0.4444444444444444,
              "#bd3786"
             ],
             [
              0.5555555555555556,
              "#d8576b"
             ],
             [
              0.6666666666666666,
              "#ed7953"
             ],
             [
              0.7777777777777778,
              "#fb9f3a"
             ],
             [
              0.8888888888888888,
              "#fdca26"
             ],
             [
              1,
              "#f0f921"
             ]
            ],
            "type": "heatmapgl"
           }
          ],
          "histogram": [
           {
            "marker": {
             "pattern": {
              "fillmode": "overlay",
              "size": 10,
              "solidity": 0.2
             }
            },
            "type": "histogram"
           }
          ],
          "histogram2d": [
           {
            "colorbar": {
             "outlinewidth": 0,
             "ticks": ""
            },
            "colorscale": [
             [
              0,
              "#0d0887"
             ],
             [
              0.1111111111111111,
              "#46039f"
             ],
             [
              0.2222222222222222,
              "#7201a8"
             ],
             [
              0.3333333333333333,
              "#9c179e"
             ],
             [
              0.4444444444444444,
              "#bd3786"
             ],
             [
              0.5555555555555556,
              "#d8576b"
             ],
             [
              0.6666666666666666,
              "#ed7953"
             ],
             [
              0.7777777777777778,
              "#fb9f3a"
             ],
             [
              0.8888888888888888,
              "#fdca26"
             ],
             [
              1,
              "#f0f921"
             ]
            ],
            "type": "histogram2d"
           }
          ],
          "histogram2dcontour": [
           {
            "colorbar": {
             "outlinewidth": 0,
             "ticks": ""
            },
            "colorscale": [
             [
              0,
              "#0d0887"
             ],
             [
              0.1111111111111111,
              "#46039f"
             ],
             [
              0.2222222222222222,
              "#7201a8"
             ],
             [
              0.3333333333333333,
              "#9c179e"
             ],
             [
              0.4444444444444444,
              "#bd3786"
             ],
             [
              0.5555555555555556,
              "#d8576b"
             ],
             [
              0.6666666666666666,
              "#ed7953"
             ],
             [
              0.7777777777777778,
              "#fb9f3a"
             ],
             [
              0.8888888888888888,
              "#fdca26"
             ],
             [
              1,
              "#f0f921"
             ]
            ],
            "type": "histogram2dcontour"
           }
          ],
          "mesh3d": [
           {
            "colorbar": {
             "outlinewidth": 0,
             "ticks": ""
            },
            "type": "mesh3d"
           }
          ],
          "parcoords": [
           {
            "line": {
             "colorbar": {
              "outlinewidth": 0,
              "ticks": ""
             }
            },
            "type": "parcoords"
           }
          ],
          "pie": [
           {
            "automargin": true,
            "type": "pie"
           }
          ],
          "scatter": [
           {
            "fillpattern": {
             "fillmode": "overlay",
             "size": 10,
             "solidity": 0.2
            },
            "type": "scatter"
           }
          ],
          "scatter3d": [
           {
            "line": {
             "colorbar": {
              "outlinewidth": 0,
              "ticks": ""
             }
            },
            "marker": {
             "colorbar": {
              "outlinewidth": 0,
              "ticks": ""
             }
            },
            "type": "scatter3d"
           }
          ],
          "scattercarpet": [
           {
            "marker": {
             "colorbar": {
              "outlinewidth": 0,
              "ticks": ""
             }
            },
            "type": "scattercarpet"
           }
          ],
          "scattergeo": [
           {
            "marker": {
             "colorbar": {
              "outlinewidth": 0,
              "ticks": ""
             }
            },
            "type": "scattergeo"
           }
          ],
          "scattergl": [
           {
            "marker": {
             "colorbar": {
              "outlinewidth": 0,
              "ticks": ""
             }
            },
            "type": "scattergl"
           }
          ],
          "scattermapbox": [
           {
            "marker": {
             "colorbar": {
              "outlinewidth": 0,
              "ticks": ""
             }
            },
            "type": "scattermapbox"
           }
          ],
          "scatterpolar": [
           {
            "marker": {
             "colorbar": {
              "outlinewidth": 0,
              "ticks": ""
             }
            },
            "type": "scatterpolar"
           }
          ],
          "scatterpolargl": [
           {
            "marker": {
             "colorbar": {
              "outlinewidth": 0,
              "ticks": ""
             }
            },
            "type": "scatterpolargl"
           }
          ],
          "scatterternary": [
           {
            "marker": {
             "colorbar": {
              "outlinewidth": 0,
              "ticks": ""
             }
            },
            "type": "scatterternary"
           }
          ],
          "surface": [
           {
            "colorbar": {
             "outlinewidth": 0,
             "ticks": ""
            },
            "colorscale": [
             [
              0,
              "#0d0887"
             ],
             [
              0.1111111111111111,
              "#46039f"
             ],
             [
              0.2222222222222222,
              "#7201a8"
             ],
             [
              0.3333333333333333,
              "#9c179e"
             ],
             [
              0.4444444444444444,
              "#bd3786"
             ],
             [
              0.5555555555555556,
              "#d8576b"
             ],
             [
              0.6666666666666666,
              "#ed7953"
             ],
             [
              0.7777777777777778,
              "#fb9f3a"
             ],
             [
              0.8888888888888888,
              "#fdca26"
             ],
             [
              1,
              "#f0f921"
             ]
            ],
            "type": "surface"
           }
          ],
          "table": [
           {
            "cells": {
             "fill": {
              "color": "#EBF0F8"
             },
             "line": {
              "color": "white"
             }
            },
            "header": {
             "fill": {
              "color": "#C8D4E3"
             },
             "line": {
              "color": "white"
             }
            },
            "type": "table"
           }
          ]
         },
         "layout": {
          "annotationdefaults": {
           "arrowcolor": "#2a3f5f",
           "arrowhead": 0,
           "arrowwidth": 1
          },
          "autotypenumbers": "strict",
          "coloraxis": {
           "colorbar": {
            "outlinewidth": 0,
            "ticks": ""
           }
          },
          "colorscale": {
           "diverging": [
            [
             0,
             "#8e0152"
            ],
            [
             0.1,
             "#c51b7d"
            ],
            [
             0.2,
             "#de77ae"
            ],
            [
             0.3,
             "#f1b6da"
            ],
            [
             0.4,
             "#fde0ef"
            ],
            [
             0.5,
             "#f7f7f7"
            ],
            [
             0.6,
             "#e6f5d0"
            ],
            [
             0.7,
             "#b8e186"
            ],
            [
             0.8,
             "#7fbc41"
            ],
            [
             0.9,
             "#4d9221"
            ],
            [
             1,
             "#276419"
            ]
           ],
           "sequential": [
            [
             0,
             "#0d0887"
            ],
            [
             0.1111111111111111,
             "#46039f"
            ],
            [
             0.2222222222222222,
             "#7201a8"
            ],
            [
             0.3333333333333333,
             "#9c179e"
            ],
            [
             0.4444444444444444,
             "#bd3786"
            ],
            [
             0.5555555555555556,
             "#d8576b"
            ],
            [
             0.6666666666666666,
             "#ed7953"
            ],
            [
             0.7777777777777778,
             "#fb9f3a"
            ],
            [
             0.8888888888888888,
             "#fdca26"
            ],
            [
             1,
             "#f0f921"
            ]
           ],
           "sequentialminus": [
            [
             0,
             "#0d0887"
            ],
            [
             0.1111111111111111,
             "#46039f"
            ],
            [
             0.2222222222222222,
             "#7201a8"
            ],
            [
             0.3333333333333333,
             "#9c179e"
            ],
            [
             0.4444444444444444,
             "#bd3786"
            ],
            [
             0.5555555555555556,
             "#d8576b"
            ],
            [
             0.6666666666666666,
             "#ed7953"
            ],
            [
             0.7777777777777778,
             "#fb9f3a"
            ],
            [
             0.8888888888888888,
             "#fdca26"
            ],
            [
             1,
             "#f0f921"
            ]
           ]
          },
          "colorway": [
           "#636efa",
           "#EF553B",
           "#00cc96",
           "#ab63fa",
           "#FFA15A",
           "#19d3f3",
           "#FF6692",
           "#B6E880",
           "#FF97FF",
           "#FECB52"
          ],
          "font": {
           "color": "#2a3f5f"
          },
          "geo": {
           "bgcolor": "white",
           "lakecolor": "white",
           "landcolor": "#E5ECF6",
           "showlakes": true,
           "showland": true,
           "subunitcolor": "white"
          },
          "hoverlabel": {
           "align": "left"
          },
          "hovermode": "closest",
          "mapbox": {
           "style": "light"
          },
          "paper_bgcolor": "white",
          "plot_bgcolor": "#E5ECF6",
          "polar": {
           "angularaxis": {
            "gridcolor": "white",
            "linecolor": "white",
            "ticks": ""
           },
           "bgcolor": "#E5ECF6",
           "radialaxis": {
            "gridcolor": "white",
            "linecolor": "white",
            "ticks": ""
           }
          },
          "scene": {
           "xaxis": {
            "backgroundcolor": "#E5ECF6",
            "gridcolor": "white",
            "gridwidth": 2,
            "linecolor": "white",
            "showbackground": true,
            "ticks": "",
            "zerolinecolor": "white"
           },
           "yaxis": {
            "backgroundcolor": "#E5ECF6",
            "gridcolor": "white",
            "gridwidth": 2,
            "linecolor": "white",
            "showbackground": true,
            "ticks": "",
            "zerolinecolor": "white"
           },
           "zaxis": {
            "backgroundcolor": "#E5ECF6",
            "gridcolor": "white",
            "gridwidth": 2,
            "linecolor": "white",
            "showbackground": true,
            "ticks": "",
            "zerolinecolor": "white"
           }
          },
          "shapedefaults": {
           "line": {
            "color": "#2a3f5f"
           }
          },
          "ternary": {
           "aaxis": {
            "gridcolor": "white",
            "linecolor": "white",
            "ticks": ""
           },
           "baxis": {
            "gridcolor": "white",
            "linecolor": "white",
            "ticks": ""
           },
           "bgcolor": "#E5ECF6",
           "caxis": {
            "gridcolor": "white",
            "linecolor": "white",
            "ticks": ""
           }
          },
          "title": {
           "x": 0.05
          },
          "xaxis": {
           "automargin": true,
           "gridcolor": "white",
           "linecolor": "white",
           "ticks": "",
           "title": {
            "standoff": 15
           },
           "zerolinecolor": "white",
           "zerolinewidth": 2
          },
          "yaxis": {
           "automargin": true,
           "gridcolor": "white",
           "linecolor": "white",
           "ticks": "",
           "title": {
            "standoff": 15
           },
           "zerolinecolor": "white",
           "zerolinewidth": 2
          }
         }
        },
        "title": {
         "text": "Boxplot da F1-Score Balanceada do Classificador Real sem features de temperatura"
        },
        "xaxis": {
         "anchor": "y",
         "domain": [
          0,
          1
         ],
         "title": {
          "text": "Nome"
         }
        },
        "yaxis": {
         "anchor": "x",
         "domain": [
          0,
          1
         ],
         "range": [
          0,
          1
         ],
         "title": {
          "text": "F1-score Balanceada"
         }
        }
       }
      }
     },
     "metadata": {},
     "output_type": "display_data"
    },
    {
     "data": {
      "application/vnd.plotly.v1+json": {
       "config": {
        "plotlyServerURL": "https://plot.ly"
       },
       "data": [
        {
         "alignmentgroup": "True",
         "boxpoints": "all",
         "hovertemplate": "Nome=%{x}<br>F1-score Balanceada=%{y}<extra></extra>",
         "legendgroup": "",
         "marker": {
          "color": "#636efa"
         },
         "name": "",
         "notched": false,
         "offsetgroup": "",
         "orientation": "v",
         "showlegend": false,
         "type": "box",
         "x": [
          "logreg",
          "KNN",
          "GaussianNB",
          "Perceptron",
          "LinearSVC",
          "SGD",
          "Dtree",
          "RForest",
          "ADA",
          "GBC",
          "ETC",
          "logreg",
          "KNN",
          "GaussianNB",
          "Perceptron",
          "LinearSVC",
          "SGD",
          "Dtree",
          "RForest",
          "ADA",
          "GBC",
          "ETC",
          "logreg",
          "KNN",
          "GaussianNB",
          "Perceptron",
          "LinearSVC",
          "SGD",
          "Dtree",
          "RForest",
          "ADA",
          "GBC",
          "ETC",
          "logreg",
          "KNN",
          "GaussianNB",
          "Perceptron",
          "LinearSVC",
          "SGD",
          "Dtree",
          "RForest",
          "ADA",
          "GBC",
          "ETC",
          "logreg",
          "KNN",
          "GaussianNB",
          "Perceptron",
          "LinearSVC",
          "SGD",
          "Dtree",
          "RForest",
          "ADA",
          "GBC",
          "ETC",
          "logreg",
          "KNN",
          "GaussianNB",
          "Perceptron",
          "LinearSVC",
          "SGD",
          "Dtree",
          "RForest",
          "ADA",
          "GBC",
          "ETC",
          "logreg",
          "KNN",
          "GaussianNB",
          "Perceptron",
          "LinearSVC",
          "SGD",
          "Dtree",
          "RForest",
          "ADA",
          "GBC",
          "ETC",
          "logreg",
          "KNN",
          "GaussianNB",
          "Perceptron",
          "LinearSVC",
          "SGD",
          "Dtree",
          "RForest",
          "ADA",
          "GBC",
          "ETC",
          "logreg",
          "KNN",
          "GaussianNB",
          "Perceptron",
          "LinearSVC",
          "SGD",
          "Dtree",
          "RForest",
          "ADA",
          "GBC",
          "ETC",
          "logreg",
          "KNN",
          "GaussianNB",
          "Perceptron",
          "LinearSVC",
          "SGD",
          "Dtree",
          "RForest",
          "ADA",
          "GBC",
          "ETC",
          "logreg",
          "KNN",
          "GaussianNB",
          "Perceptron",
          "LinearSVC",
          "SGD",
          "Dtree",
          "RForest",
          "ADA",
          "GBC",
          "ETC",
          "logreg",
          "KNN",
          "GaussianNB",
          "Perceptron",
          "LinearSVC",
          "SGD",
          "Dtree",
          "RForest",
          "ADA",
          "GBC",
          "ETC",
          "logreg",
          "KNN",
          "GaussianNB",
          "Perceptron",
          "LinearSVC",
          "SGD",
          "Dtree",
          "RForest",
          "ADA",
          "GBC",
          "ETC",
          "logreg",
          "KNN",
          "GaussianNB",
          "Perceptron",
          "LinearSVC",
          "SGD",
          "Dtree",
          "RForest",
          "ADA",
          "GBC",
          "ETC",
          "logreg",
          "KNN",
          "GaussianNB",
          "Perceptron",
          "LinearSVC",
          "SGD",
          "Dtree",
          "RForest",
          "ADA",
          "GBC",
          "ETC",
          "logreg",
          "KNN",
          "GaussianNB",
          "Perceptron",
          "LinearSVC",
          "SGD",
          "Dtree",
          "RForest",
          "ADA",
          "GBC",
          "ETC",
          "logreg",
          "KNN",
          "GaussianNB",
          "Perceptron",
          "LinearSVC",
          "SGD",
          "Dtree",
          "RForest",
          "ADA",
          "GBC",
          "ETC",
          "logreg",
          "KNN",
          "GaussianNB",
          "Perceptron",
          "LinearSVC",
          "SGD",
          "Dtree",
          "RForest",
          "ADA",
          "GBC",
          "ETC",
          "logreg",
          "KNN",
          "GaussianNB",
          "Perceptron",
          "LinearSVC",
          "SGD",
          "Dtree",
          "RForest",
          "ADA",
          "GBC",
          "ETC",
          "logreg",
          "KNN",
          "GaussianNB",
          "Perceptron",
          "LinearSVC",
          "SGD",
          "Dtree",
          "RForest",
          "ADA",
          "GBC",
          "ETC",
          "logreg",
          "KNN",
          "GaussianNB",
          "Perceptron",
          "LinearSVC",
          "SGD",
          "Dtree",
          "RForest",
          "ADA",
          "GBC",
          "ETC",
          "logreg",
          "KNN",
          "GaussianNB",
          "Perceptron",
          "LinearSVC",
          "SGD",
          "Dtree",
          "RForest",
          "ADA",
          "GBC",
          "ETC",
          "logreg",
          "KNN",
          "GaussianNB",
          "Perceptron",
          "LinearSVC",
          "SGD",
          "Dtree",
          "RForest",
          "ADA",
          "GBC",
          "ETC",
          "logreg",
          "KNN",
          "GaussianNB",
          "Perceptron",
          "LinearSVC",
          "SGD",
          "Dtree",
          "RForest",
          "ADA",
          "GBC",
          "ETC",
          "logreg",
          "KNN",
          "GaussianNB",
          "Perceptron",
          "LinearSVC",
          "SGD",
          "Dtree",
          "RForest",
          "ADA",
          "GBC",
          "ETC"
         ],
         "x0": " ",
         "xaxis": "x",
         "y": [
          0.8410932847635382,
          0.8328705831785891,
          0.8612118633389831,
          0.8665211851643294,
          0.8452137424600052,
          0.8544007943691327,
          0.8384240584401483,
          0.862455151802584,
          0.7871104101387948,
          0.8374049905821702,
          0.8944741367124545,
          0.8807538539049569,
          0.927079434603883,
          0.7796609091353909,
          0.8437480549212076,
          0.8737339696422893,
          0.872112716269832,
          0.9063385761297988,
          0.920084398978306,
          0.9131918418524604,
          0.9090395332331576,
          0.9243618438477108,
          0.8854526948541858,
          0.9305809821237548,
          0.8194306239298508,
          0.8602887537630488,
          0.8797316590177238,
          0.8836261530786599,
          0.9056982194062462,
          0.9215420595582832,
          0.9069254853511112,
          0.9165285474836798,
          0.9218372403771296,
          0.8803617411223371,
          0.9181469160140324,
          0.8410211842301359,
          0.8494640020551242,
          0.8706596846560176,
          0.889005536268212,
          0.915518824477917,
          0.9178977642322504,
          0.9033826890814284,
          0.9163981872876564,
          0.9112901810644606,
          0.8840029852484781,
          0.9281782984418432,
          0.9065357090356132,
          0.9035503241591034,
          0.862867172541535,
          0.8804924991291714,
          0.9183064111047108,
          0.9191365696894293,
          0.9098094939820922,
          0.9161998402963232,
          0.9208402658447348,
          0.8658349911571057,
          0.8449833522958521,
          0.8771207941011339,
          0.8370074196375331,
          0.874891094597253,
          0.8798267356401709,
          0.7513499028144571,
          0.8453132426147791,
          0.7620176027350788,
          0.8068770343009715,
          0.9210715361554792,
          0.9318767839811776,
          0.9507567164236792,
          0.7972253583783794,
          0.8757697703571679,
          0.9172312842608032,
          0.8969541930163052,
          0.8940765814584685,
          0.985177752413701,
          0.971668240109673,
          0.9840583901490566,
          0.974375536857697,
          0.9395843712520466,
          0.9652564122982088,
          0.846614642497122,
          0.9250181702440542,
          0.9205472305857332,
          0.9155200223760336,
          0.9554224144585032,
          0.9927898808270502,
          0.9773853164642824,
          0.9916088696730808,
          0.9796967636242688,
          0.9243494673404232,
          0.9642970702348348,
          0.8579377143802452,
          0.883898857586688,
          0.8999299948551388,
          0.8979875928486244,
          0.9430201178328304,
          0.9946654607417104,
          0.9858949301271528,
          0.9889963389954304,
          0.9768964207225804,
          0.9355058255368526,
          0.9724641614599988,
          0.9329462025860068,
          0.934167492950435,
          0.9033779733708158,
          0.8753087811927119,
          0.9874047620683604,
          0.9950966724770764,
          0.977587463639833,
          0.9954099750084028,
          0.9740209664845788,
          0.8777922487646072,
          0.8435663778841243,
          0.023845436647149,
          0.8500614142544693,
          0.8921167207680403,
          0.9045462610670758,
          0.7931742141105419,
          0.8609441364636087,
          0.7693093600009427,
          0.8024371211717451,
          0.9101237911098846,
          0.9204724816365956,
          0.9432012023434037,
          0.1548307371912897,
          0.9078936817312934,
          0.9252639064696484,
          0.927137895969234,
          0.9059704522439956,
          0.9782325630776896,
          0.968164102585949,
          0.9765943448357728,
          0.9675221947465582,
          0.9194036999933334,
          0.960129473552481,
          0.0233359157092795,
          0.9164255337423972,
          0.9294740549888728,
          0.9171003271172968,
          0.96562427867954,
          0.9846985058848916,
          0.9846195519107648,
          0.9829173129713468,
          0.9739192619652648,
          0.9382709634633,
          0.966441068202558,
          0.1129189779233054,
          0.8155861457743893,
          0.9367543408141018,
          0.942165975833432,
          0.9801695795341108,
          0.987462866431396,
          0.9893937567451202,
          0.9856296627847668,
          0.9774502128134016,
          0.9374807651978284,
          0.9704681579820588,
          0.0148017847762163,
          0.9123125316457744,
          0.9376597619616618,
          0.9356384045639894,
          0.979121503871806,
          0.9877852133670516,
          0.9908674068585556,
          0.9854004674401812,
          0.97268031850805,
          0.9051074943492332,
          0.8546687278372459,
          0.9290442776331154,
          0.8774955690859477,
          0.922302764192414,
          0.9363133438350462,
          0.756343370361813,
          0.8637292081648625,
          0.7829921899682554,
          0.7825844713336105,
          0.9222155533173482,
          0.9416845934426826,
          0.9561650871938092,
          0.7442202344392118,
          0.8597954608650816,
          0.94648654616016,
          0.9454158621057182,
          0.9304533606559816,
          0.974636080256828,
          0.9194181114329104,
          0.9679162691094736,
          0.9649544279712562,
          0.9415821534674544,
          0.9735658915422946,
          0.8860188515835752,
          0.940445900375264,
          0.948105445296294,
          0.9472336150770152,
          0.9780853970324916,
          0.989686655331284,
          0.9677891268257778,
          0.9811957662476924,
          0.9837072440029296,
          0.9508300586621604,
          0.9685048019500498,
          0.8798602180280937,
          0.8722657830594782,
          0.9467465858736366,
          0.9504698727386076,
          0.9659810715464292,
          0.9884963038390304,
          0.980483674655108,
          0.98338215763024,
          0.96807529087484,
          0.9651997585438468,
          0.9810449307411258,
          0.9063707608760172,
          0.971537768047216,
          0.956456879273334,
          0.9661486993395764,
          0.983632966025974,
          0.98926284271023,
          0.9668687870194396,
          0.9857984088990522,
          0.9783272740274735,
          0.8312982001533678,
          0.8722728420524527,
          0.829695063040369,
          0.8406342135783023,
          0.8309411188207321,
          0.841023833917268,
          0.7778775843297491,
          0.8585838251621275,
          0.7949617557601407,
          0.7987051914357725,
          0.882028114008379,
          0.8436557010579204,
          0.8846467487931394,
          0.7451264660756782,
          0.8204970708214321,
          0.8441124650571038,
          0.8425790941573471,
          0.8758265165573759,
          0.8922800558966811,
          0.8809061523332892,
          0.8858771365722867,
          0.8843415993975435,
          0.826198051470922,
          0.8901192131831811,
          0.7826434531890997,
          0.7800827278024163,
          0.8264230003835993,
          0.8217385842031801,
          0.892017095352251,
          0.8790102964983919,
          0.8890530186711054,
          0.8845980608191879,
          0.8826632580479481,
          0.8413235857009678,
          0.8875677442600786,
          0.8162915683366737,
          0.8521035326511263,
          0.8417296812515158,
          0.8442114234105662,
          0.8885493896695482,
          0.8897166699822453,
          0.8919309462973486,
          0.8917600936482895,
          0.8841719588109822,
          0.8512917337777206,
          0.9005521381611025,
          0.8589253358095872,
          0.8455193594511856,
          0.8496819447716142,
          0.848325166687578,
          0.9028759315450782,
          0.8869449728800043,
          0.8958772332082982,
          0.8942775078108527,
          0.8835537549699489
         ],
         "y0": " ",
         "yaxis": "y"
        }
       ],
       "layout": {
        "boxmode": "group",
        "legend": {
         "tracegroupgap": 0
        },
        "template": {
         "data": {
          "bar": [
           {
            "error_x": {
             "color": "#2a3f5f"
            },
            "error_y": {
             "color": "#2a3f5f"
            },
            "marker": {
             "line": {
              "color": "#E5ECF6",
              "width": 0.5
             },
             "pattern": {
              "fillmode": "overlay",
              "size": 10,
              "solidity": 0.2
             }
            },
            "type": "bar"
           }
          ],
          "barpolar": [
           {
            "marker": {
             "line": {
              "color": "#E5ECF6",
              "width": 0.5
             },
             "pattern": {
              "fillmode": "overlay",
              "size": 10,
              "solidity": 0.2
             }
            },
            "type": "barpolar"
           }
          ],
          "carpet": [
           {
            "aaxis": {
             "endlinecolor": "#2a3f5f",
             "gridcolor": "white",
             "linecolor": "white",
             "minorgridcolor": "white",
             "startlinecolor": "#2a3f5f"
            },
            "baxis": {
             "endlinecolor": "#2a3f5f",
             "gridcolor": "white",
             "linecolor": "white",
             "minorgridcolor": "white",
             "startlinecolor": "#2a3f5f"
            },
            "type": "carpet"
           }
          ],
          "choropleth": [
           {
            "colorbar": {
             "outlinewidth": 0,
             "ticks": ""
            },
            "type": "choropleth"
           }
          ],
          "contour": [
           {
            "colorbar": {
             "outlinewidth": 0,
             "ticks": ""
            },
            "colorscale": [
             [
              0,
              "#0d0887"
             ],
             [
              0.1111111111111111,
              "#46039f"
             ],
             [
              0.2222222222222222,
              "#7201a8"
             ],
             [
              0.3333333333333333,
              "#9c179e"
             ],
             [
              0.4444444444444444,
              "#bd3786"
             ],
             [
              0.5555555555555556,
              "#d8576b"
             ],
             [
              0.6666666666666666,
              "#ed7953"
             ],
             [
              0.7777777777777778,
              "#fb9f3a"
             ],
             [
              0.8888888888888888,
              "#fdca26"
             ],
             [
              1,
              "#f0f921"
             ]
            ],
            "type": "contour"
           }
          ],
          "contourcarpet": [
           {
            "colorbar": {
             "outlinewidth": 0,
             "ticks": ""
            },
            "type": "contourcarpet"
           }
          ],
          "heatmap": [
           {
            "colorbar": {
             "outlinewidth": 0,
             "ticks": ""
            },
            "colorscale": [
             [
              0,
              "#0d0887"
             ],
             [
              0.1111111111111111,
              "#46039f"
             ],
             [
              0.2222222222222222,
              "#7201a8"
             ],
             [
              0.3333333333333333,
              "#9c179e"
             ],
             [
              0.4444444444444444,
              "#bd3786"
             ],
             [
              0.5555555555555556,
              "#d8576b"
             ],
             [
              0.6666666666666666,
              "#ed7953"
             ],
             [
              0.7777777777777778,
              "#fb9f3a"
             ],
             [
              0.8888888888888888,
              "#fdca26"
             ],
             [
              1,
              "#f0f921"
             ]
            ],
            "type": "heatmap"
           }
          ],
          "heatmapgl": [
           {
            "colorbar": {
             "outlinewidth": 0,
             "ticks": ""
            },
            "colorscale": [
             [
              0,
              "#0d0887"
             ],
             [
              0.1111111111111111,
              "#46039f"
             ],
             [
              0.2222222222222222,
              "#7201a8"
             ],
             [
              0.3333333333333333,
              "#9c179e"
             ],
             [
              0.4444444444444444,
              "#bd3786"
             ],
             [
              0.5555555555555556,
              "#d8576b"
             ],
             [
              0.6666666666666666,
              "#ed7953"
             ],
             [
              0.7777777777777778,
              "#fb9f3a"
             ],
             [
              0.8888888888888888,
              "#fdca26"
             ],
             [
              1,
              "#f0f921"
             ]
            ],
            "type": "heatmapgl"
           }
          ],
          "histogram": [
           {
            "marker": {
             "pattern": {
              "fillmode": "overlay",
              "size": 10,
              "solidity": 0.2
             }
            },
            "type": "histogram"
           }
          ],
          "histogram2d": [
           {
            "colorbar": {
             "outlinewidth": 0,
             "ticks": ""
            },
            "colorscale": [
             [
              0,
              "#0d0887"
             ],
             [
              0.1111111111111111,
              "#46039f"
             ],
             [
              0.2222222222222222,
              "#7201a8"
             ],
             [
              0.3333333333333333,
              "#9c179e"
             ],
             [
              0.4444444444444444,
              "#bd3786"
             ],
             [
              0.5555555555555556,
              "#d8576b"
             ],
             [
              0.6666666666666666,
              "#ed7953"
             ],
             [
              0.7777777777777778,
              "#fb9f3a"
             ],
             [
              0.8888888888888888,
              "#fdca26"
             ],
             [
              1,
              "#f0f921"
             ]
            ],
            "type": "histogram2d"
           }
          ],
          "histogram2dcontour": [
           {
            "colorbar": {
             "outlinewidth": 0,
             "ticks": ""
            },
            "colorscale": [
             [
              0,
              "#0d0887"
             ],
             [
              0.1111111111111111,
              "#46039f"
             ],
             [
              0.2222222222222222,
              "#7201a8"
             ],
             [
              0.3333333333333333,
              "#9c179e"
             ],
             [
              0.4444444444444444,
              "#bd3786"
             ],
             [
              0.5555555555555556,
              "#d8576b"
             ],
             [
              0.6666666666666666,
              "#ed7953"
             ],
             [
              0.7777777777777778,
              "#fb9f3a"
             ],
             [
              0.8888888888888888,
              "#fdca26"
             ],
             [
              1,
              "#f0f921"
             ]
            ],
            "type": "histogram2dcontour"
           }
          ],
          "mesh3d": [
           {
            "colorbar": {
             "outlinewidth": 0,
             "ticks": ""
            },
            "type": "mesh3d"
           }
          ],
          "parcoords": [
           {
            "line": {
             "colorbar": {
              "outlinewidth": 0,
              "ticks": ""
             }
            },
            "type": "parcoords"
           }
          ],
          "pie": [
           {
            "automargin": true,
            "type": "pie"
           }
          ],
          "scatter": [
           {
            "fillpattern": {
             "fillmode": "overlay",
             "size": 10,
             "solidity": 0.2
            },
            "type": "scatter"
           }
          ],
          "scatter3d": [
           {
            "line": {
             "colorbar": {
              "outlinewidth": 0,
              "ticks": ""
             }
            },
            "marker": {
             "colorbar": {
              "outlinewidth": 0,
              "ticks": ""
             }
            },
            "type": "scatter3d"
           }
          ],
          "scattercarpet": [
           {
            "marker": {
             "colorbar": {
              "outlinewidth": 0,
              "ticks": ""
             }
            },
            "type": "scattercarpet"
           }
          ],
          "scattergeo": [
           {
            "marker": {
             "colorbar": {
              "outlinewidth": 0,
              "ticks": ""
             }
            },
            "type": "scattergeo"
           }
          ],
          "scattergl": [
           {
            "marker": {
             "colorbar": {
              "outlinewidth": 0,
              "ticks": ""
             }
            },
            "type": "scattergl"
           }
          ],
          "scattermapbox": [
           {
            "marker": {
             "colorbar": {
              "outlinewidth": 0,
              "ticks": ""
             }
            },
            "type": "scattermapbox"
           }
          ],
          "scatterpolar": [
           {
            "marker": {
             "colorbar": {
              "outlinewidth": 0,
              "ticks": ""
             }
            },
            "type": "scatterpolar"
           }
          ],
          "scatterpolargl": [
           {
            "marker": {
             "colorbar": {
              "outlinewidth": 0,
              "ticks": ""
             }
            },
            "type": "scatterpolargl"
           }
          ],
          "scatterternary": [
           {
            "marker": {
             "colorbar": {
              "outlinewidth": 0,
              "ticks": ""
             }
            },
            "type": "scatterternary"
           }
          ],
          "surface": [
           {
            "colorbar": {
             "outlinewidth": 0,
             "ticks": ""
            },
            "colorscale": [
             [
              0,
              "#0d0887"
             ],
             [
              0.1111111111111111,
              "#46039f"
             ],
             [
              0.2222222222222222,
              "#7201a8"
             ],
             [
              0.3333333333333333,
              "#9c179e"
             ],
             [
              0.4444444444444444,
              "#bd3786"
             ],
             [
              0.5555555555555556,
              "#d8576b"
             ],
             [
              0.6666666666666666,
              "#ed7953"
             ],
             [
              0.7777777777777778,
              "#fb9f3a"
             ],
             [
              0.8888888888888888,
              "#fdca26"
             ],
             [
              1,
              "#f0f921"
             ]
            ],
            "type": "surface"
           }
          ],
          "table": [
           {
            "cells": {
             "fill": {
              "color": "#EBF0F8"
             },
             "line": {
              "color": "white"
             }
            },
            "header": {
             "fill": {
              "color": "#C8D4E3"
             },
             "line": {
              "color": "white"
             }
            },
            "type": "table"
           }
          ]
         },
         "layout": {
          "annotationdefaults": {
           "arrowcolor": "#2a3f5f",
           "arrowhead": 0,
           "arrowwidth": 1
          },
          "autotypenumbers": "strict",
          "coloraxis": {
           "colorbar": {
            "outlinewidth": 0,
            "ticks": ""
           }
          },
          "colorscale": {
           "diverging": [
            [
             0,
             "#8e0152"
            ],
            [
             0.1,
             "#c51b7d"
            ],
            [
             0.2,
             "#de77ae"
            ],
            [
             0.3,
             "#f1b6da"
            ],
            [
             0.4,
             "#fde0ef"
            ],
            [
             0.5,
             "#f7f7f7"
            ],
            [
             0.6,
             "#e6f5d0"
            ],
            [
             0.7,
             "#b8e186"
            ],
            [
             0.8,
             "#7fbc41"
            ],
            [
             0.9,
             "#4d9221"
            ],
            [
             1,
             "#276419"
            ]
           ],
           "sequential": [
            [
             0,
             "#0d0887"
            ],
            [
             0.1111111111111111,
             "#46039f"
            ],
            [
             0.2222222222222222,
             "#7201a8"
            ],
            [
             0.3333333333333333,
             "#9c179e"
            ],
            [
             0.4444444444444444,
             "#bd3786"
            ],
            [
             0.5555555555555556,
             "#d8576b"
            ],
            [
             0.6666666666666666,
             "#ed7953"
            ],
            [
             0.7777777777777778,
             "#fb9f3a"
            ],
            [
             0.8888888888888888,
             "#fdca26"
            ],
            [
             1,
             "#f0f921"
            ]
           ],
           "sequentialminus": [
            [
             0,
             "#0d0887"
            ],
            [
             0.1111111111111111,
             "#46039f"
            ],
            [
             0.2222222222222222,
             "#7201a8"
            ],
            [
             0.3333333333333333,
             "#9c179e"
            ],
            [
             0.4444444444444444,
             "#bd3786"
            ],
            [
             0.5555555555555556,
             "#d8576b"
            ],
            [
             0.6666666666666666,
             "#ed7953"
            ],
            [
             0.7777777777777778,
             "#fb9f3a"
            ],
            [
             0.8888888888888888,
             "#fdca26"
            ],
            [
             1,
             "#f0f921"
            ]
           ]
          },
          "colorway": [
           "#636efa",
           "#EF553B",
           "#00cc96",
           "#ab63fa",
           "#FFA15A",
           "#19d3f3",
           "#FF6692",
           "#B6E880",
           "#FF97FF",
           "#FECB52"
          ],
          "font": {
           "color": "#2a3f5f"
          },
          "geo": {
           "bgcolor": "white",
           "lakecolor": "white",
           "landcolor": "#E5ECF6",
           "showlakes": true,
           "showland": true,
           "subunitcolor": "white"
          },
          "hoverlabel": {
           "align": "left"
          },
          "hovermode": "closest",
          "mapbox": {
           "style": "light"
          },
          "paper_bgcolor": "white",
          "plot_bgcolor": "#E5ECF6",
          "polar": {
           "angularaxis": {
            "gridcolor": "white",
            "linecolor": "white",
            "ticks": ""
           },
           "bgcolor": "#E5ECF6",
           "radialaxis": {
            "gridcolor": "white",
            "linecolor": "white",
            "ticks": ""
           }
          },
          "scene": {
           "xaxis": {
            "backgroundcolor": "#E5ECF6",
            "gridcolor": "white",
            "gridwidth": 2,
            "linecolor": "white",
            "showbackground": true,
            "ticks": "",
            "zerolinecolor": "white"
           },
           "yaxis": {
            "backgroundcolor": "#E5ECF6",
            "gridcolor": "white",
            "gridwidth": 2,
            "linecolor": "white",
            "showbackground": true,
            "ticks": "",
            "zerolinecolor": "white"
           },
           "zaxis": {
            "backgroundcolor": "#E5ECF6",
            "gridcolor": "white",
            "gridwidth": 2,
            "linecolor": "white",
            "showbackground": true,
            "ticks": "",
            "zerolinecolor": "white"
           }
          },
          "shapedefaults": {
           "line": {
            "color": "#2a3f5f"
           }
          },
          "ternary": {
           "aaxis": {
            "gridcolor": "white",
            "linecolor": "white",
            "ticks": ""
           },
           "baxis": {
            "gridcolor": "white",
            "linecolor": "white",
            "ticks": ""
           },
           "bgcolor": "#E5ECF6",
           "caxis": {
            "gridcolor": "white",
            "linecolor": "white",
            "ticks": ""
           }
          },
          "title": {
           "x": 0.05
          },
          "xaxis": {
           "automargin": true,
           "gridcolor": "white",
           "linecolor": "white",
           "ticks": "",
           "title": {
            "standoff": 15
           },
           "zerolinecolor": "white",
           "zerolinewidth": 2
          },
          "yaxis": {
           "automargin": true,
           "gridcolor": "white",
           "linecolor": "white",
           "ticks": "",
           "title": {
            "standoff": 15
           },
           "zerolinecolor": "white",
           "zerolinewidth": 2
          }
         }
        },
        "title": {
         "text": "Boxplot da F1-Score Balanceada do Classificador Real"
        },
        "xaxis": {
         "anchor": "y",
         "domain": [
          0,
          1
         ],
         "title": {
          "text": "Nome"
         }
        },
        "yaxis": {
         "anchor": "x",
         "domain": [
          0,
          1
         ],
         "range": [
          0,
          1
         ],
         "title": {
          "text": "F1-score Balanceada"
         }
        }
       }
      }
     },
     "metadata": {},
     "output_type": "display_data"
    }
   ],
   "source": [
    "# Criar boxplot da acurácia por modelo real real \n",
    "\n",
    "# fig = px.box(df4, x='Nome', y='Acurácia Balanceada', points='all', title='Boxplot da Acurácia Balanceada do classificador Real 0',color_discrete_sequence=px.colors.qualitative.Set3)\n",
    "\n",
    "# fig.update_yaxes(range=[0, 1])\n",
    "# fig.show()\n",
    "\n",
    "# fig = px.box(df7, x='Nome', y='Acurácia Balanceada', points='all', title='Boxplot da Acurácia Balanceada do classificador Real sem features de temperatura',color_discrete_sequence=px.colors.qualitative.Set1)\n",
    "# fig.update_yaxes(range=[0, 1])\n",
    "# fig.show()\n",
    "\n",
    "# fig = px.box(df1, x='Nome', y='Acurácia Balanceada', points='all', title='Boxplot da Acurácia Balanceada do classificador Real')\n",
    "# fig.update_yaxes(range=[0, 1])\n",
    "# fig.show()\n",
    "\n",
    "fig = px.box(df4, x='Nome', y='F1-score Balanceada', points='all', title='Boxplot da F1-Score Balanceada do Classificador Real 0',color_discrete_sequence=px.colors.qualitative.Set3)\n",
    "fig.update_yaxes(range=[0, 1])\n",
    "fig.show()\n",
    "\n",
    "fig = px.box(df7, x='Nome', y='F1-score Balanceada', points='all', title='Boxplot da F1-Score Balanceada do Classificador Real sem features de temperatura',color_discrete_sequence=px.colors.qualitative.Set1)\n",
    "fig.update_yaxes(range=[0, 1])\n",
    "fig.show()\n",
    "\n",
    "fig = px.box(df10, x='Nome', y='F1-score Balanceada', points='all', title='Boxplot da F1-Score Balanceada do Classificador Real sem features de pressão',color_discrete_sequence=px.colors.qualitative.Set1_r)\n",
    "fig.update_yaxes(range=[0, 1])\n",
    "fig.show()\n",
    "\n",
    "fig = px.box(df1, x='Nome', y='F1-score Balanceada', points='all', title='Boxplot da F1-Score Balanceada do Classificador Real')\n",
    "fig.update_yaxes(range=[0, 1])\n",
    "fig.show()"
   ]
  },
  {
   "cell_type": "markdown",
   "metadata": {},
   "source": [
    "## Gráficos dados simulados "
   ]
  },
  {
   "cell_type": "code",
   "execution_count": 32,
   "metadata": {},
   "outputs": [
    {
     "data": {
      "application/vnd.plotly.v1+json": {
       "config": {
        "plotlyServerURL": "https://plot.ly"
       },
       "data": [
        {
         "alignmentgroup": "True",
         "boxpoints": "all",
         "hovertemplate": "Nome=%{x}<br>F1-score Balanceada=%{y}<extra></extra>",
         "legendgroup": "",
         "marker": {
          "color": "rgb(141,211,199)"
         },
         "name": "",
         "notched": false,
         "offsetgroup": "",
         "orientation": "v",
         "showlegend": false,
         "type": "box",
         "x": [
          "logreg",
          "KNN",
          "GaussianNB",
          "Perceptron",
          "LinearSVC",
          "SGD",
          "Dtree",
          "RForest",
          "ADA",
          "GBC",
          "ETC",
          "logreg",
          "KNN",
          "GaussianNB",
          "Perceptron",
          "LinearSVC",
          "SGD",
          "Dtree",
          "RForest",
          "ADA",
          "GBC",
          "ETC",
          "logreg",
          "KNN",
          "GaussianNB",
          "Perceptron",
          "LinearSVC",
          "SGD",
          "Dtree",
          "RForest",
          "ADA",
          "GBC",
          "ETC",
          "logreg",
          "KNN",
          "GaussianNB",
          "Perceptron",
          "LinearSVC",
          "SGD",
          "Dtree",
          "RForest",
          "ADA",
          "GBC",
          "ETC",
          "logreg",
          "KNN",
          "GaussianNB",
          "Perceptron",
          "LinearSVC",
          "SGD",
          "Dtree",
          "RForest",
          "ADA",
          "GBC",
          "ETC",
          "logreg",
          "KNN",
          "GaussianNB",
          "Perceptron",
          "LinearSVC",
          "SGD",
          "Dtree",
          "RForest",
          "ADA",
          "GBC",
          "ETC",
          "logreg",
          "KNN",
          "GaussianNB",
          "Perceptron",
          "LinearSVC",
          "SGD",
          "Dtree",
          "RForest",
          "ADA",
          "GBC",
          "ETC",
          "logreg",
          "KNN",
          "GaussianNB",
          "Perceptron",
          "LinearSVC",
          "SGD",
          "Dtree",
          "RForest",
          "ADA",
          "GBC",
          "ETC",
          "logreg",
          "KNN",
          "GaussianNB",
          "Perceptron",
          "LinearSVC",
          "SGD",
          "Dtree",
          "RForest",
          "ADA",
          "GBC",
          "ETC",
          "logreg",
          "KNN",
          "GaussianNB",
          "Perceptron",
          "LinearSVC",
          "SGD",
          "Dtree",
          "RForest",
          "ADA",
          "GBC",
          "ETC",
          "logreg",
          "KNN",
          "GaussianNB",
          "Perceptron",
          "LinearSVC",
          "SGD",
          "Dtree",
          "RForest",
          "ADA",
          "GBC",
          "ETC",
          "logreg",
          "KNN",
          "GaussianNB",
          "Perceptron",
          "LinearSVC",
          "SGD",
          "Dtree",
          "RForest",
          "ADA",
          "GBC",
          "ETC",
          "logreg",
          "KNN",
          "GaussianNB",
          "Perceptron",
          "LinearSVC",
          "SGD",
          "Dtree",
          "RForest",
          "ADA",
          "GBC",
          "ETC",
          "logreg",
          "KNN",
          "GaussianNB",
          "Perceptron",
          "LinearSVC",
          "SGD",
          "Dtree",
          "RForest",
          "ADA",
          "GBC",
          "ETC",
          "logreg",
          "KNN",
          "GaussianNB",
          "Perceptron",
          "LinearSVC",
          "SGD",
          "Dtree",
          "RForest",
          "ADA",
          "GBC",
          "ETC",
          "logreg",
          "KNN",
          "GaussianNB",
          "Perceptron",
          "LinearSVC",
          "SGD",
          "Dtree",
          "RForest",
          "ADA",
          "GBC",
          "ETC",
          "logreg",
          "KNN",
          "GaussianNB",
          "Perceptron",
          "LinearSVC",
          "SGD",
          "Dtree",
          "RForest",
          "ADA",
          "GBC",
          "ETC",
          "logreg",
          "KNN",
          "GaussianNB",
          "Perceptron",
          "LinearSVC",
          "SGD",
          "Dtree",
          "RForest",
          "ADA",
          "GBC",
          "ETC",
          "logreg",
          "KNN",
          "GaussianNB",
          "Perceptron",
          "LinearSVC",
          "SGD",
          "Dtree",
          "RForest",
          "ADA",
          "GBC",
          "ETC",
          "logreg",
          "KNN",
          "GaussianNB",
          "Perceptron",
          "LinearSVC",
          "SGD",
          "Dtree",
          "RForest",
          "ADA",
          "GBC",
          "ETC",
          "logreg",
          "KNN",
          "GaussianNB",
          "Perceptron",
          "LinearSVC",
          "SGD",
          "Dtree",
          "RForest",
          "ADA",
          "GBC",
          "ETC",
          "logreg",
          "KNN",
          "GaussianNB",
          "Perceptron",
          "LinearSVC",
          "SGD",
          "Dtree",
          "RForest",
          "ADA",
          "GBC",
          "ETC",
          "logreg",
          "KNN",
          "GaussianNB",
          "Perceptron",
          "LinearSVC",
          "SGD",
          "Dtree",
          "RForest",
          "ADA",
          "GBC",
          "ETC",
          "logreg",
          "KNN",
          "GaussianNB",
          "Perceptron",
          "LinearSVC",
          "SGD",
          "Dtree",
          "RForest",
          "ADA",
          "GBC",
          "ETC",
          "logreg",
          "KNN",
          "GaussianNB",
          "Perceptron",
          "LinearSVC",
          "SGD",
          "Dtree",
          "RForest",
          "ADA",
          "GBC",
          "ETC"
         ],
         "x0": " ",
         "xaxis": "x",
         "y": [
          0.8424444631448069,
          0.919488718126033,
          0.5464823363520966,
          0.7986792901028837,
          0.8391390971990828,
          0.8309602150651372,
          0.8791644857044072,
          0.9216762189108978,
          0.7776908653336357,
          0.842944163957665,
          0.9336475473631216,
          0.8419419321441036,
          0.9202648582797448,
          0.5399963237020562,
          0.7530555838618928,
          0.8392579999964287,
          0.8333428040106302,
          0.8821650700672147,
          0.9185409636927676,
          0.7672067709147855,
          0.8437406456724792,
          0.9344463814746912,
          0.8412833338961702,
          0.9212267471096792,
          0.5252929379547187,
          0.8472754870887785,
          0.8365771037492777,
          0.8184452869888983,
          0.8799415083284684,
          0.9186250898283636,
          0.760369005208449,
          0.8449174820256885,
          0.9340936105162893,
          0.829051701785859,
          0.9243293064916972,
          0.5170038008235631,
          0.7562182962166576,
          0.819741387321953,
          0.8301511206765263,
          0.8767250140331407,
          0.9242852101630142,
          0.7413515768286923,
          0.8409245474981758,
          0.9359775357453318,
          0.8083362738274048,
          0.9513309202828484,
          0.5045010383994589,
          0.7893114080164441,
          0.8077814090974531,
          0.822364373446303,
          0.8526194595965535,
          0.94323053959669,
          0.6955227467147166,
          0.8114321481529627,
          0.9659732832469528,
          0.9343665893266648,
          0.9905243471798152,
          0.5504972614568633,
          0.9043295673045246,
          0.9244317322494626,
          0.931979430558876,
          0.9918757504462844,
          0.9959992881449032,
          0.852146468465831,
          0.952220555052704,
          0.9963853256135464,
          0.9345347436685336,
          0.9924017920919525,
          0.5497093844143993,
          0.8980347376316703,
          0.9246626679870028,
          0.9289016248253794,
          0.995244717049506,
          0.9972626576745685,
          0.860896155444266,
          0.9523911292480416,
          0.9977364337493908,
          0.9290978880703328,
          0.99113856205026,
          0.5295096210938912,
          0.8190379200736687,
          0.917445575158344,
          0.918363310208682,
          0.9875065751164964,
          0.992156467912438,
          0.8355019693917437,
          0.9446877364747784,
          0.9943674259997572,
          0.8901845517943086,
          0.991349158105696,
          0.5283572914578838,
          0.8330431611223352,
          0.8751609239169877,
          0.8881406233230447,
          0.988190867487087,
          0.996280037215121,
          0.8203877898456076,
          0.9324782633679474,
          0.997332857528181,
          0.8394867168693747,
          0.9362451963612176,
          0.5212322564000629,
          0.8442347111143689,
          0.836473138682559,
          0.8269803933963009,
          0.8859200811828415,
          0.9258299977153406,
          0.7578348203362582,
          0.8775353656542724,
          0.9310388100769892,
          0.968898436248656,
          0.9942972305904944,
          0.5851512989766059,
          0.9609480839383352,
          0.9578382506898544,
          0.962504419283592,
          0.992753082984211,
          0.9969468315593684,
          0.8750657175767118,
          0.9807130960171758,
          0.9975960694673708,
          0.9673573686032972,
          0.9959641603273746,
          0.5748028831631422,
          0.7481952295315303,
          0.9578662266892302,
          0.962545200272058,
          0.994788464646014,
          0.9980171887459744,
          0.8963292917428358,
          0.9794471910594698,
          0.9988945416357649,
          0.9573609127362632,
          0.9942972385971998,
          0.5621399993625754,
          0.9258017893810429,
          0.9456558857900044,
          0.9511492897886716,
          0.9914720106041258,
          0.9933671549431474,
          0.8812773960355559,
          0.9653620913435768,
          0.995244744610456,
          0.9077315736186922,
          0.995121949273014,
          0.5501758290620559,
          0.8798802017877154,
          0.893496592386961,
          0.9052760997067392,
          0.9881907967739966,
          0.9970696603615592,
          0.8461656276418503,
          0.9387687886332682,
          0.9984032283293292,
          0.8512831216905216,
          0.9370785645131512,
          0.5377249097338639,
          0.7765491382441879,
          0.848545344926278,
          0.8411770664773235,
          0.8771601285345764,
          0.928957222523806,
          0.7892859876328139,
          0.8836164027930385,
          0.9308126768068524,
          0.9781883932986026,
          0.99542024813857,
          0.5859109153713499,
          0.9512830612882338,
          0.9736943490540616,
          0.9753275344004688,
          0.997385501939366,
          0.998701525046803,
          0.9038223129626504,
          0.9836981582732393,
          0.9986488842214905,
          0.9758024280255284,
          0.9971222880916102,
          0.5872102520933297,
          0.8823245884001677,
          0.9720640325752652,
          0.9731529569893984,
          0.9984558689011834,
          0.999859624494834,
          0.8961720888651789,
          0.9875408193517629,
          0.999806983676534,
          0.9645702291665672,
          0.9951745920322044,
          0.5599332983533302,
          0.888707483881661,
          0.9561448255052204,
          0.9620454125040758,
          0.9927704420502916,
          0.994630494054034,
          0.8818596532476047,
          0.9700268314258764,
          0.9962449108397542,
          0.9126075297636592,
          0.9956659058176156,
          0.5650640116792778,
          0.903457136243686,
          0.902367628924898,
          0.9014202994332308,
          0.9920509001843868,
          0.998701525046803,
          0.84073435971626,
          0.943815717738188,
          0.9991577466733728,
          0.8507914104083719,
          0.9388518379883724,
          0.5570235946797066,
          0.7790102417640811,
          0.8551657036542707,
          0.8612350972980641,
          0.8884689349181311,
          0.9280589419152562,
          0.7981037268337462,
          0.8755009696163225,
          0.9307657777421402,
          0.9746952569133428,
          0.9842055987259268,
          0.5793998034359253,
          0.9338079845968716,
          0.969602592989541,
          0.967706618209882,
          0.9952798727537312,
          0.9970521133568048,
          0.8983493484009812,
          0.9806082259367956,
          0.9968240027239192,
          0.9726606930782224,
          0.9860828095923936,
          0.5820934334669502,
          0.9587584735106108,
          0.9682369532580128,
          0.9684844694658252,
          0.9944726055771338,
          0.9981575654855368,
          0.880314485544857,
          0.977113891521969,
          0.998210206807266,
          0.9610795545629532,
          0.983784519831882,
          0.5556135893718583,
          0.9613964395512962,
          0.9524448591529576,
          0.9528303718611764,
          0.9885418491615108,
          0.9929285157502536,
          0.8801939196862375,
          0.9579907031041146,
          0.9946130657320784,
          0.910894971642214,
          0.9841883554900852,
          0.5594292032625645,
          0.8786113630020677,
          0.8985775322121806,
          0.9259346724358284,
          0.9845411474507564,
          0.996595892943232,
          0.8383350706473157,
          0.927823985103574,
          0.9976662547368444,
          0.8543776967950397,
          0.9471634524396224,
          0.5615986338362076,
          0.8683157822806707,
          0.8577951529923497,
          0.8322222812462962,
          0.8796482871803047,
          0.9299722440294316,
          0.8064454407891051,
          0.8861337196483238,
          0.9354661922108128
         ],
         "y0": " ",
         "yaxis": "y"
        }
       ],
       "layout": {
        "boxmode": "group",
        "legend": {
         "tracegroupgap": 0
        },
        "template": {
         "data": {
          "bar": [
           {
            "error_x": {
             "color": "#2a3f5f"
            },
            "error_y": {
             "color": "#2a3f5f"
            },
            "marker": {
             "line": {
              "color": "#E5ECF6",
              "width": 0.5
             },
             "pattern": {
              "fillmode": "overlay",
              "size": 10,
              "solidity": 0.2
             }
            },
            "type": "bar"
           }
          ],
          "barpolar": [
           {
            "marker": {
             "line": {
              "color": "#E5ECF6",
              "width": 0.5
             },
             "pattern": {
              "fillmode": "overlay",
              "size": 10,
              "solidity": 0.2
             }
            },
            "type": "barpolar"
           }
          ],
          "carpet": [
           {
            "aaxis": {
             "endlinecolor": "#2a3f5f",
             "gridcolor": "white",
             "linecolor": "white",
             "minorgridcolor": "white",
             "startlinecolor": "#2a3f5f"
            },
            "baxis": {
             "endlinecolor": "#2a3f5f",
             "gridcolor": "white",
             "linecolor": "white",
             "minorgridcolor": "white",
             "startlinecolor": "#2a3f5f"
            },
            "type": "carpet"
           }
          ],
          "choropleth": [
           {
            "colorbar": {
             "outlinewidth": 0,
             "ticks": ""
            },
            "type": "choropleth"
           }
          ],
          "contour": [
           {
            "colorbar": {
             "outlinewidth": 0,
             "ticks": ""
            },
            "colorscale": [
             [
              0,
              "#0d0887"
             ],
             [
              0.1111111111111111,
              "#46039f"
             ],
             [
              0.2222222222222222,
              "#7201a8"
             ],
             [
              0.3333333333333333,
              "#9c179e"
             ],
             [
              0.4444444444444444,
              "#bd3786"
             ],
             [
              0.5555555555555556,
              "#d8576b"
             ],
             [
              0.6666666666666666,
              "#ed7953"
             ],
             [
              0.7777777777777778,
              "#fb9f3a"
             ],
             [
              0.8888888888888888,
              "#fdca26"
             ],
             [
              1,
              "#f0f921"
             ]
            ],
            "type": "contour"
           }
          ],
          "contourcarpet": [
           {
            "colorbar": {
             "outlinewidth": 0,
             "ticks": ""
            },
            "type": "contourcarpet"
           }
          ],
          "heatmap": [
           {
            "colorbar": {
             "outlinewidth": 0,
             "ticks": ""
            },
            "colorscale": [
             [
              0,
              "#0d0887"
             ],
             [
              0.1111111111111111,
              "#46039f"
             ],
             [
              0.2222222222222222,
              "#7201a8"
             ],
             [
              0.3333333333333333,
              "#9c179e"
             ],
             [
              0.4444444444444444,
              "#bd3786"
             ],
             [
              0.5555555555555556,
              "#d8576b"
             ],
             [
              0.6666666666666666,
              "#ed7953"
             ],
             [
              0.7777777777777778,
              "#fb9f3a"
             ],
             [
              0.8888888888888888,
              "#fdca26"
             ],
             [
              1,
              "#f0f921"
             ]
            ],
            "type": "heatmap"
           }
          ],
          "heatmapgl": [
           {
            "colorbar": {
             "outlinewidth": 0,
             "ticks": ""
            },
            "colorscale": [
             [
              0,
              "#0d0887"
             ],
             [
              0.1111111111111111,
              "#46039f"
             ],
             [
              0.2222222222222222,
              "#7201a8"
             ],
             [
              0.3333333333333333,
              "#9c179e"
             ],
             [
              0.4444444444444444,
              "#bd3786"
             ],
             [
              0.5555555555555556,
              "#d8576b"
             ],
             [
              0.6666666666666666,
              "#ed7953"
             ],
             [
              0.7777777777777778,
              "#fb9f3a"
             ],
             [
              0.8888888888888888,
              "#fdca26"
             ],
             [
              1,
              "#f0f921"
             ]
            ],
            "type": "heatmapgl"
           }
          ],
          "histogram": [
           {
            "marker": {
             "pattern": {
              "fillmode": "overlay",
              "size": 10,
              "solidity": 0.2
             }
            },
            "type": "histogram"
           }
          ],
          "histogram2d": [
           {
            "colorbar": {
             "outlinewidth": 0,
             "ticks": ""
            },
            "colorscale": [
             [
              0,
              "#0d0887"
             ],
             [
              0.1111111111111111,
              "#46039f"
             ],
             [
              0.2222222222222222,
              "#7201a8"
             ],
             [
              0.3333333333333333,
              "#9c179e"
             ],
             [
              0.4444444444444444,
              "#bd3786"
             ],
             [
              0.5555555555555556,
              "#d8576b"
             ],
             [
              0.6666666666666666,
              "#ed7953"
             ],
             [
              0.7777777777777778,
              "#fb9f3a"
             ],
             [
              0.8888888888888888,
              "#fdca26"
             ],
             [
              1,
              "#f0f921"
             ]
            ],
            "type": "histogram2d"
           }
          ],
          "histogram2dcontour": [
           {
            "colorbar": {
             "outlinewidth": 0,
             "ticks": ""
            },
            "colorscale": [
             [
              0,
              "#0d0887"
             ],
             [
              0.1111111111111111,
              "#46039f"
             ],
             [
              0.2222222222222222,
              "#7201a8"
             ],
             [
              0.3333333333333333,
              "#9c179e"
             ],
             [
              0.4444444444444444,
              "#bd3786"
             ],
             [
              0.5555555555555556,
              "#d8576b"
             ],
             [
              0.6666666666666666,
              "#ed7953"
             ],
             [
              0.7777777777777778,
              "#fb9f3a"
             ],
             [
              0.8888888888888888,
              "#fdca26"
             ],
             [
              1,
              "#f0f921"
             ]
            ],
            "type": "histogram2dcontour"
           }
          ],
          "mesh3d": [
           {
            "colorbar": {
             "outlinewidth": 0,
             "ticks": ""
            },
            "type": "mesh3d"
           }
          ],
          "parcoords": [
           {
            "line": {
             "colorbar": {
              "outlinewidth": 0,
              "ticks": ""
             }
            },
            "type": "parcoords"
           }
          ],
          "pie": [
           {
            "automargin": true,
            "type": "pie"
           }
          ],
          "scatter": [
           {
            "fillpattern": {
             "fillmode": "overlay",
             "size": 10,
             "solidity": 0.2
            },
            "type": "scatter"
           }
          ],
          "scatter3d": [
           {
            "line": {
             "colorbar": {
              "outlinewidth": 0,
              "ticks": ""
             }
            },
            "marker": {
             "colorbar": {
              "outlinewidth": 0,
              "ticks": ""
             }
            },
            "type": "scatter3d"
           }
          ],
          "scattercarpet": [
           {
            "marker": {
             "colorbar": {
              "outlinewidth": 0,
              "ticks": ""
             }
            },
            "type": "scattercarpet"
           }
          ],
          "scattergeo": [
           {
            "marker": {
             "colorbar": {
              "outlinewidth": 0,
              "ticks": ""
             }
            },
            "type": "scattergeo"
           }
          ],
          "scattergl": [
           {
            "marker": {
             "colorbar": {
              "outlinewidth": 0,
              "ticks": ""
             }
            },
            "type": "scattergl"
           }
          ],
          "scattermapbox": [
           {
            "marker": {
             "colorbar": {
              "outlinewidth": 0,
              "ticks": ""
             }
            },
            "type": "scattermapbox"
           }
          ],
          "scatterpolar": [
           {
            "marker": {
             "colorbar": {
              "outlinewidth": 0,
              "ticks": ""
             }
            },
            "type": "scatterpolar"
           }
          ],
          "scatterpolargl": [
           {
            "marker": {
             "colorbar": {
              "outlinewidth": 0,
              "ticks": ""
             }
            },
            "type": "scatterpolargl"
           }
          ],
          "scatterternary": [
           {
            "marker": {
             "colorbar": {
              "outlinewidth": 0,
              "ticks": ""
             }
            },
            "type": "scatterternary"
           }
          ],
          "surface": [
           {
            "colorbar": {
             "outlinewidth": 0,
             "ticks": ""
            },
            "colorscale": [
             [
              0,
              "#0d0887"
             ],
             [
              0.1111111111111111,
              "#46039f"
             ],
             [
              0.2222222222222222,
              "#7201a8"
             ],
             [
              0.3333333333333333,
              "#9c179e"
             ],
             [
              0.4444444444444444,
              "#bd3786"
             ],
             [
              0.5555555555555556,
              "#d8576b"
             ],
             [
              0.6666666666666666,
              "#ed7953"
             ],
             [
              0.7777777777777778,
              "#fb9f3a"
             ],
             [
              0.8888888888888888,
              "#fdca26"
             ],
             [
              1,
              "#f0f921"
             ]
            ],
            "type": "surface"
           }
          ],
          "table": [
           {
            "cells": {
             "fill": {
              "color": "#EBF0F8"
             },
             "line": {
              "color": "white"
             }
            },
            "header": {
             "fill": {
              "color": "#C8D4E3"
             },
             "line": {
              "color": "white"
             }
            },
            "type": "table"
           }
          ]
         },
         "layout": {
          "annotationdefaults": {
           "arrowcolor": "#2a3f5f",
           "arrowhead": 0,
           "arrowwidth": 1
          },
          "autotypenumbers": "strict",
          "coloraxis": {
           "colorbar": {
            "outlinewidth": 0,
            "ticks": ""
           }
          },
          "colorscale": {
           "diverging": [
            [
             0,
             "#8e0152"
            ],
            [
             0.1,
             "#c51b7d"
            ],
            [
             0.2,
             "#de77ae"
            ],
            [
             0.3,
             "#f1b6da"
            ],
            [
             0.4,
             "#fde0ef"
            ],
            [
             0.5,
             "#f7f7f7"
            ],
            [
             0.6,
             "#e6f5d0"
            ],
            [
             0.7,
             "#b8e186"
            ],
            [
             0.8,
             "#7fbc41"
            ],
            [
             0.9,
             "#4d9221"
            ],
            [
             1,
             "#276419"
            ]
           ],
           "sequential": [
            [
             0,
             "#0d0887"
            ],
            [
             0.1111111111111111,
             "#46039f"
            ],
            [
             0.2222222222222222,
             "#7201a8"
            ],
            [
             0.3333333333333333,
             "#9c179e"
            ],
            [
             0.4444444444444444,
             "#bd3786"
            ],
            [
             0.5555555555555556,
             "#d8576b"
            ],
            [
             0.6666666666666666,
             "#ed7953"
            ],
            [
             0.7777777777777778,
             "#fb9f3a"
            ],
            [
             0.8888888888888888,
             "#fdca26"
            ],
            [
             1,
             "#f0f921"
            ]
           ],
           "sequentialminus": [
            [
             0,
             "#0d0887"
            ],
            [
             0.1111111111111111,
             "#46039f"
            ],
            [
             0.2222222222222222,
             "#7201a8"
            ],
            [
             0.3333333333333333,
             "#9c179e"
            ],
            [
             0.4444444444444444,
             "#bd3786"
            ],
            [
             0.5555555555555556,
             "#d8576b"
            ],
            [
             0.6666666666666666,
             "#ed7953"
            ],
            [
             0.7777777777777778,
             "#fb9f3a"
            ],
            [
             0.8888888888888888,
             "#fdca26"
            ],
            [
             1,
             "#f0f921"
            ]
           ]
          },
          "colorway": [
           "#636efa",
           "#EF553B",
           "#00cc96",
           "#ab63fa",
           "#FFA15A",
           "#19d3f3",
           "#FF6692",
           "#B6E880",
           "#FF97FF",
           "#FECB52"
          ],
          "font": {
           "color": "#2a3f5f"
          },
          "geo": {
           "bgcolor": "white",
           "lakecolor": "white",
           "landcolor": "#E5ECF6",
           "showlakes": true,
           "showland": true,
           "subunitcolor": "white"
          },
          "hoverlabel": {
           "align": "left"
          },
          "hovermode": "closest",
          "mapbox": {
           "style": "light"
          },
          "paper_bgcolor": "white",
          "plot_bgcolor": "#E5ECF6",
          "polar": {
           "angularaxis": {
            "gridcolor": "white",
            "linecolor": "white",
            "ticks": ""
           },
           "bgcolor": "#E5ECF6",
           "radialaxis": {
            "gridcolor": "white",
            "linecolor": "white",
            "ticks": ""
           }
          },
          "scene": {
           "xaxis": {
            "backgroundcolor": "#E5ECF6",
            "gridcolor": "white",
            "gridwidth": 2,
            "linecolor": "white",
            "showbackground": true,
            "ticks": "",
            "zerolinecolor": "white"
           },
           "yaxis": {
            "backgroundcolor": "#E5ECF6",
            "gridcolor": "white",
            "gridwidth": 2,
            "linecolor": "white",
            "showbackground": true,
            "ticks": "",
            "zerolinecolor": "white"
           },
           "zaxis": {
            "backgroundcolor": "#E5ECF6",
            "gridcolor": "white",
            "gridwidth": 2,
            "linecolor": "white",
            "showbackground": true,
            "ticks": "",
            "zerolinecolor": "white"
           }
          },
          "shapedefaults": {
           "line": {
            "color": "#2a3f5f"
           }
          },
          "ternary": {
           "aaxis": {
            "gridcolor": "white",
            "linecolor": "white",
            "ticks": ""
           },
           "baxis": {
            "gridcolor": "white",
            "linecolor": "white",
            "ticks": ""
           },
           "bgcolor": "#E5ECF6",
           "caxis": {
            "gridcolor": "white",
            "linecolor": "white",
            "ticks": ""
           }
          },
          "title": {
           "x": 0.05
          },
          "xaxis": {
           "automargin": true,
           "gridcolor": "white",
           "linecolor": "white",
           "ticks": "",
           "title": {
            "standoff": 15
           },
           "zerolinecolor": "white",
           "zerolinewidth": 2
          },
          "yaxis": {
           "automargin": true,
           "gridcolor": "white",
           "linecolor": "white",
           "ticks": "",
           "title": {
            "standoff": 15
           },
           "zerolinecolor": "white",
           "zerolinewidth": 2
          }
         }
        },
        "title": {
         "text": "Boxplot da F1-Score Balanceada do Classificador Sim 0"
        },
        "xaxis": {
         "anchor": "y",
         "domain": [
          0,
          1
         ],
         "title": {
          "text": "Nome"
         }
        },
        "yaxis": {
         "anchor": "x",
         "domain": [
          0,
          1
         ],
         "range": [
          0,
          1
         ],
         "title": {
          "text": "F1-score Balanceada"
         }
        }
       }
      }
     },
     "metadata": {},
     "output_type": "display_data"
    },
    {
     "data": {
      "application/vnd.plotly.v1+json": {
       "config": {
        "plotlyServerURL": "https://plot.ly"
       },
       "data": [
        {
         "alignmentgroup": "True",
         "boxpoints": "all",
         "hovertemplate": "Nome=%{x}<br>F1-score Balanceada=%{y}<extra></extra>",
         "legendgroup": "",
         "marker": {
          "color": "rgb(228,26,28)"
         },
         "name": "",
         "notched": false,
         "offsetgroup": "",
         "orientation": "v",
         "showlegend": false,
         "type": "box",
         "x": [
          "logreg",
          "KNN",
          "GaussianNB",
          "Perceptron",
          "LinearSVC",
          "SGD",
          "Dtree",
          "RForest",
          "ADA",
          "GBC",
          "ETC",
          "logreg",
          "KNN",
          "GaussianNB",
          "Perceptron",
          "LinearSVC",
          "SGD",
          "Dtree",
          "RForest",
          "ADA",
          "GBC",
          "ETC",
          "logreg",
          "KNN",
          "GaussianNB",
          "Perceptron",
          "LinearSVC",
          "SGD",
          "Dtree",
          "RForest",
          "ADA",
          "GBC",
          "ETC",
          "logreg",
          "KNN",
          "GaussianNB",
          "Perceptron",
          "LinearSVC",
          "SGD",
          "Dtree",
          "RForest",
          "ADA",
          "GBC",
          "ETC",
          "logreg",
          "KNN",
          "GaussianNB",
          "Perceptron",
          "LinearSVC",
          "SGD",
          "Dtree",
          "RForest",
          "ADA",
          "GBC",
          "ETC",
          "logreg",
          "KNN",
          "GaussianNB",
          "Perceptron",
          "LinearSVC",
          "SGD",
          "Dtree",
          "RForest",
          "ADA",
          "GBC",
          "ETC",
          "logreg",
          "KNN",
          "GaussianNB",
          "Perceptron",
          "LinearSVC",
          "SGD",
          "Dtree",
          "RForest",
          "ADA",
          "GBC",
          "ETC",
          "logreg",
          "KNN",
          "GaussianNB",
          "Perceptron",
          "LinearSVC",
          "SGD",
          "Dtree",
          "RForest",
          "ADA",
          "GBC",
          "ETC",
          "logreg",
          "KNN",
          "GaussianNB",
          "Perceptron",
          "LinearSVC",
          "SGD",
          "Dtree",
          "RForest",
          "ADA",
          "GBC",
          "ETC",
          "logreg",
          "KNN",
          "GaussianNB",
          "Perceptron",
          "LinearSVC",
          "SGD",
          "Dtree",
          "RForest",
          "ADA",
          "GBC",
          "ETC",
          "logreg",
          "KNN",
          "GaussianNB",
          "Perceptron",
          "LinearSVC",
          "SGD",
          "Dtree",
          "RForest",
          "ADA",
          "GBC",
          "ETC",
          "logreg",
          "KNN",
          "GaussianNB",
          "Perceptron",
          "LinearSVC",
          "SGD",
          "Dtree",
          "RForest",
          "ADA",
          "GBC",
          "ETC",
          "logreg",
          "KNN",
          "GaussianNB",
          "Perceptron",
          "LinearSVC",
          "SGD",
          "Dtree",
          "RForest",
          "ADA",
          "GBC",
          "ETC",
          "logreg",
          "KNN",
          "GaussianNB",
          "Perceptron",
          "LinearSVC",
          "SGD",
          "Dtree",
          "RForest",
          "ADA",
          "GBC",
          "ETC",
          "logreg",
          "KNN",
          "GaussianNB",
          "Perceptron",
          "LinearSVC",
          "SGD",
          "Dtree",
          "RForest",
          "ADA",
          "GBC",
          "ETC",
          "logreg",
          "KNN",
          "GaussianNB",
          "Perceptron",
          "LinearSVC",
          "SGD",
          "Dtree",
          "RForest",
          "ADA",
          "GBC",
          "ETC",
          "logreg",
          "KNN",
          "GaussianNB",
          "Perceptron",
          "LinearSVC",
          "SGD",
          "Dtree",
          "RForest",
          "ADA",
          "GBC",
          "ETC",
          "logreg",
          "KNN",
          "GaussianNB",
          "Perceptron",
          "LinearSVC",
          "SGD",
          "Dtree",
          "RForest",
          "ADA",
          "GBC",
          "ETC",
          "logreg",
          "KNN",
          "GaussianNB",
          "Perceptron",
          "LinearSVC",
          "SGD",
          "Dtree",
          "RForest",
          "ADA",
          "GBC",
          "ETC",
          "logreg",
          "KNN",
          "GaussianNB",
          "Perceptron",
          "LinearSVC",
          "SGD",
          "Dtree",
          "RForest",
          "ADA",
          "GBC",
          "ETC",
          "logreg",
          "KNN",
          "GaussianNB",
          "Perceptron",
          "LinearSVC",
          "SGD",
          "Dtree",
          "RForest",
          "ADA",
          "GBC",
          "ETC",
          "logreg",
          "KNN",
          "GaussianNB",
          "Perceptron",
          "LinearSVC",
          "SGD",
          "Dtree",
          "RForest",
          "ADA",
          "GBC",
          "ETC",
          "logreg",
          "KNN",
          "GaussianNB",
          "Perceptron",
          "LinearSVC",
          "SGD",
          "Dtree",
          "RForest",
          "ADA",
          "GBC",
          "ETC",
          "logreg",
          "KNN",
          "GaussianNB",
          "Perceptron",
          "LinearSVC",
          "SGD",
          "Dtree",
          "RForest",
          "ADA",
          "GBC",
          "ETC",
          "logreg",
          "KNN",
          "GaussianNB",
          "Perceptron",
          "LinearSVC",
          "SGD",
          "Dtree",
          "RForest",
          "ADA",
          "GBC",
          "ETC"
         ],
         "x0": " ",
         "xaxis": "x",
         "y": [
          0.6812484522635758,
          0.9071793984468536,
          0.5477037923652085,
          0.6426293107601027,
          0.67265568562504,
          0.7121191735811438,
          0.8679702805904806,
          0.9047311021717452,
          0.7443350159589468,
          0.7950964672273432,
          0.9328613323146924,
          0.6568738722966397,
          0.9084525114023676,
          0.542458379420673,
          0.5014222655513509,
          0.6490000430293958,
          0.7088973095346476,
          0.8636467865140153,
          0.9040307687336576,
          0.7559700927752221,
          0.7963852356485897,
          0.9347852322365904,
          0.6396041951048337,
          0.910712235275939,
          0.5278812050069017,
          0.672059563397189,
          0.6325037918218018,
          0.682214306398659,
          0.8650029151481551,
          0.9030714042013048,
          0.7352764691920372,
          0.7943764791063448,
          0.9360767718054964,
          0.595907779050799,
          0.9162819478861786,
          0.52150091853123,
          0.5349245662832611,
          0.5917590478714181,
          0.6060171626590891,
          0.8655050249233538,
          0.9109493176325958,
          0.7075741364848325,
          0.7775135612949645,
          0.9363472024945798,
          0.533692232046733,
          0.9267364440698026,
          0.5130010491940583,
          0.5152731556488988,
          0.5285972846508005,
          0.5764045815289549,
          0.8408707294565061,
          0.9167250859708492,
          0.6769060354303847,
          0.7483412619947838,
          0.955921802305813,
          0.7118038601196435,
          0.9858377157934302,
          0.5559688635641826,
          0.5754517864664475,
          0.7005530447675423,
          0.7280216352284902,
          0.9870676395465212,
          0.9943849286746465,
          0.8172965095176039,
          0.897410433029444,
          0.9958589077461496,
          0.682973549793093,
          0.987030861725254,
          0.5527048926653879,
          0.5329579662919225,
          0.673134281481687,
          0.7086152623249393,
          0.9888921410486216,
          0.9956482834655864,
          0.8280664223545026,
          0.894404101723636,
          0.9966309572047878,
          0.6582538351607796,
          0.9855928055457122,
          0.5356996255740771,
          0.508064471096509,
          0.6505442326851323,
          0.7013747470274846,
          0.9824881018985452,
          0.9907352095732276,
          0.8138184819262739,
          0.8806053572235211,
          0.995455332932838,
          0.6151060334228227,
          0.9852076303960198,
          0.5317539632635246,
          0.4717190899992715,
          0.6105594255262129,
          0.695320076785867,
          0.981926477485441,
          0.9936479977128432,
          0.7613622719060794,
          0.8626554965552741,
          0.9955957147379478,
          0.5559168471347751,
          0.9181016050717676,
          0.5260613385788392,
          0.536842429549646,
          0.5503355370156793,
          0.6093731216329118,
          0.8689128607434127,
          0.9171479617713124,
          0.7255748952998861,
          0.824262815684283,
          0.9286922821487796,
          0.7106400753644446,
          0.9941743694909004,
          0.5867151049409126,
          0.515290567091202,
          0.7014937574049291,
          0.7564128314118558,
          0.99064745920507,
          0.9967362683593196,
          0.86785395869178,
          0.9260118404137668,
          0.9978417266180404,
          0.6734362140295066,
          0.9952271680415394,
          0.5804547529439636,
          0.5427630345160074,
          0.6655068622476139,
          0.6993984518512043,
          0.9942445589515106,
          0.9978592664277092,
          0.8655677199381682,
          0.924311638696571,
          0.9987190723286372,
          0.6610576301829005,
          0.9927882017406816,
          0.5654970107333488,
          0.5381770025409516,
          0.6551825695205384,
          0.7285993117242429,
          0.9879099288800955,
          0.9931390764751634,
          0.8493964521253038,
          0.911875441095003,
          0.99754342856278,
          0.6114990445650725,
          0.9901034260022108,
          0.557623855176384,
          0.5584886255400182,
          0.6076141202085777,
          0.6209268177898951,
          0.9834701025826394,
          0.995227226052838,
          0.8119223362158992,
          0.8805670305092657,
          0.9970170185864876,
          0.5279520479254222,
          0.9167946541083676,
          0.547835052059052,
          0.5828227564041241,
          0.5238380956637467,
          0.5990274260273629,
          0.8717057527986521,
          0.9171472032625853,
          0.7634092416830683,
          0.834631871132898,
          0.92646641192654,
          0.7380377499444684,
          0.9956483520242684,
          0.5946545076978506,
          0.5078009651791604,
          0.7294197553475291,
          0.7037232075773083,
          0.9906648661439196,
          0.99803474165698,
          0.8970685412190386,
          0.9326587614575038,
          0.9983856810543787,
          0.7002576190982109,
          0.996701158479572,
          0.5923420137436,
          0.5583932078089997,
          0.6938410187082336,
          0.6879016705783746,
          0.994490260302596,
          0.9993507631860602,
          0.8692050655544291,
          0.9250536778714497,
          0.9993858571253784,
          0.6809626783239888,
          0.9941042275849435,
          0.5721937213240151,
          0.5492551805489595,
          0.6758567545638977,
          0.6530768013863322,
          0.9891905375516168,
          0.9941040925250598,
          0.8639250716803244,
          0.9079334075673844,
          0.9978066291437636,
          0.6317865842010418,
          0.9908227733779376,
          0.5697361898456424,
          0.6420528828114338,
          0.6280859022656926,
          0.6553034540432313,
          0.9842054135147456,
          0.9964204030339544,
          0.8077539813503016,
          0.8828414638038294,
          0.997508326813902,
          0.5565008996731803,
          0.9161827855032942,
          0.5639003645035301,
          0.6061707814428803,
          0.5515689073070873,
          0.6000377463573368,
          0.8695256134222916,
          0.916077850494176,
          0.7786333803296107,
          0.8356854821663354,
          0.9278672946797144,
          0.7599801157593084,
          0.977531456995124,
          0.592729448985221,
          0.5341944976851658,
          0.7476748320323269,
          0.781175983905276,
          0.981240037952945,
          0.9881548419895182,
          0.8952280568441565,
          0.9305353937403524,
          0.9886988237610028,
          0.7153977045256572,
          0.9788297423483202,
          0.592480961766786,
          0.5515855694834081,
          0.7065401710342063,
          0.6999768860593294,
          0.9822561631765192,
          0.9899622502188944,
          0.8926444057558288,
          0.921573240844518,
          0.9902079228844428,
          0.6878840591447453,
          0.9760759346838276,
          0.5706636394583974,
          0.4529740560128861,
          0.6838345090578063,
          0.6878558553045212,
          0.9765385706276932,
          0.984014293497126,
          0.8493199526520255,
          0.9055519407597824,
          0.9876460937776674,
          0.6435192839240403,
          0.9727972801252694,
          0.5701205995480567,
          0.5443295278785296,
          0.6409821063606758,
          0.6839591724050612,
          0.9711878936060896,
          0.9864355113919532,
          0.8171495685810162,
          0.8719644026795148,
          0.9879269336677646,
          0.5947502722419954,
          0.9188610043841692,
          0.5679425729143003,
          0.7200085982078774,
          0.5890816304323736,
          0.5982026617077921,
          0.8638722151427066,
          0.9199716287648472,
          0.7926431315006791,
          0.8444728523786722,
          0.929788281637008
         ],
         "y0": " ",
         "yaxis": "y"
        }
       ],
       "layout": {
        "boxmode": "group",
        "legend": {
         "tracegroupgap": 0
        },
        "template": {
         "data": {
          "bar": [
           {
            "error_x": {
             "color": "#2a3f5f"
            },
            "error_y": {
             "color": "#2a3f5f"
            },
            "marker": {
             "line": {
              "color": "#E5ECF6",
              "width": 0.5
             },
             "pattern": {
              "fillmode": "overlay",
              "size": 10,
              "solidity": 0.2
             }
            },
            "type": "bar"
           }
          ],
          "barpolar": [
           {
            "marker": {
             "line": {
              "color": "#E5ECF6",
              "width": 0.5
             },
             "pattern": {
              "fillmode": "overlay",
              "size": 10,
              "solidity": 0.2
             }
            },
            "type": "barpolar"
           }
          ],
          "carpet": [
           {
            "aaxis": {
             "endlinecolor": "#2a3f5f",
             "gridcolor": "white",
             "linecolor": "white",
             "minorgridcolor": "white",
             "startlinecolor": "#2a3f5f"
            },
            "baxis": {
             "endlinecolor": "#2a3f5f",
             "gridcolor": "white",
             "linecolor": "white",
             "minorgridcolor": "white",
             "startlinecolor": "#2a3f5f"
            },
            "type": "carpet"
           }
          ],
          "choropleth": [
           {
            "colorbar": {
             "outlinewidth": 0,
             "ticks": ""
            },
            "type": "choropleth"
           }
          ],
          "contour": [
           {
            "colorbar": {
             "outlinewidth": 0,
             "ticks": ""
            },
            "colorscale": [
             [
              0,
              "#0d0887"
             ],
             [
              0.1111111111111111,
              "#46039f"
             ],
             [
              0.2222222222222222,
              "#7201a8"
             ],
             [
              0.3333333333333333,
              "#9c179e"
             ],
             [
              0.4444444444444444,
              "#bd3786"
             ],
             [
              0.5555555555555556,
              "#d8576b"
             ],
             [
              0.6666666666666666,
              "#ed7953"
             ],
             [
              0.7777777777777778,
              "#fb9f3a"
             ],
             [
              0.8888888888888888,
              "#fdca26"
             ],
             [
              1,
              "#f0f921"
             ]
            ],
            "type": "contour"
           }
          ],
          "contourcarpet": [
           {
            "colorbar": {
             "outlinewidth": 0,
             "ticks": ""
            },
            "type": "contourcarpet"
           }
          ],
          "heatmap": [
           {
            "colorbar": {
             "outlinewidth": 0,
             "ticks": ""
            },
            "colorscale": [
             [
              0,
              "#0d0887"
             ],
             [
              0.1111111111111111,
              "#46039f"
             ],
             [
              0.2222222222222222,
              "#7201a8"
             ],
             [
              0.3333333333333333,
              "#9c179e"
             ],
             [
              0.4444444444444444,
              "#bd3786"
             ],
             [
              0.5555555555555556,
              "#d8576b"
             ],
             [
              0.6666666666666666,
              "#ed7953"
             ],
             [
              0.7777777777777778,
              "#fb9f3a"
             ],
             [
              0.8888888888888888,
              "#fdca26"
             ],
             [
              1,
              "#f0f921"
             ]
            ],
            "type": "heatmap"
           }
          ],
          "heatmapgl": [
           {
            "colorbar": {
             "outlinewidth": 0,
             "ticks": ""
            },
            "colorscale": [
             [
              0,
              "#0d0887"
             ],
             [
              0.1111111111111111,
              "#46039f"
             ],
             [
              0.2222222222222222,
              "#7201a8"
             ],
             [
              0.3333333333333333,
              "#9c179e"
             ],
             [
              0.4444444444444444,
              "#bd3786"
             ],
             [
              0.5555555555555556,
              "#d8576b"
             ],
             [
              0.6666666666666666,
              "#ed7953"
             ],
             [
              0.7777777777777778,
              "#fb9f3a"
             ],
             [
              0.8888888888888888,
              "#fdca26"
             ],
             [
              1,
              "#f0f921"
             ]
            ],
            "type": "heatmapgl"
           }
          ],
          "histogram": [
           {
            "marker": {
             "pattern": {
              "fillmode": "overlay",
              "size": 10,
              "solidity": 0.2
             }
            },
            "type": "histogram"
           }
          ],
          "histogram2d": [
           {
            "colorbar": {
             "outlinewidth": 0,
             "ticks": ""
            },
            "colorscale": [
             [
              0,
              "#0d0887"
             ],
             [
              0.1111111111111111,
              "#46039f"
             ],
             [
              0.2222222222222222,
              "#7201a8"
             ],
             [
              0.3333333333333333,
              "#9c179e"
             ],
             [
              0.4444444444444444,
              "#bd3786"
             ],
             [
              0.5555555555555556,
              "#d8576b"
             ],
             [
              0.6666666666666666,
              "#ed7953"
             ],
             [
              0.7777777777777778,
              "#fb9f3a"
             ],
             [
              0.8888888888888888,
              "#fdca26"
             ],
             [
              1,
              "#f0f921"
             ]
            ],
            "type": "histogram2d"
           }
          ],
          "histogram2dcontour": [
           {
            "colorbar": {
             "outlinewidth": 0,
             "ticks": ""
            },
            "colorscale": [
             [
              0,
              "#0d0887"
             ],
             [
              0.1111111111111111,
              "#46039f"
             ],
             [
              0.2222222222222222,
              "#7201a8"
             ],
             [
              0.3333333333333333,
              "#9c179e"
             ],
             [
              0.4444444444444444,
              "#bd3786"
             ],
             [
              0.5555555555555556,
              "#d8576b"
             ],
             [
              0.6666666666666666,
              "#ed7953"
             ],
             [
              0.7777777777777778,
              "#fb9f3a"
             ],
             [
              0.8888888888888888,
              "#fdca26"
             ],
             [
              1,
              "#f0f921"
             ]
            ],
            "type": "histogram2dcontour"
           }
          ],
          "mesh3d": [
           {
            "colorbar": {
             "outlinewidth": 0,
             "ticks": ""
            },
            "type": "mesh3d"
           }
          ],
          "parcoords": [
           {
            "line": {
             "colorbar": {
              "outlinewidth": 0,
              "ticks": ""
             }
            },
            "type": "parcoords"
           }
          ],
          "pie": [
           {
            "automargin": true,
            "type": "pie"
           }
          ],
          "scatter": [
           {
            "fillpattern": {
             "fillmode": "overlay",
             "size": 10,
             "solidity": 0.2
            },
            "type": "scatter"
           }
          ],
          "scatter3d": [
           {
            "line": {
             "colorbar": {
              "outlinewidth": 0,
              "ticks": ""
             }
            },
            "marker": {
             "colorbar": {
              "outlinewidth": 0,
              "ticks": ""
             }
            },
            "type": "scatter3d"
           }
          ],
          "scattercarpet": [
           {
            "marker": {
             "colorbar": {
              "outlinewidth": 0,
              "ticks": ""
             }
            },
            "type": "scattercarpet"
           }
          ],
          "scattergeo": [
           {
            "marker": {
             "colorbar": {
              "outlinewidth": 0,
              "ticks": ""
             }
            },
            "type": "scattergeo"
           }
          ],
          "scattergl": [
           {
            "marker": {
             "colorbar": {
              "outlinewidth": 0,
              "ticks": ""
             }
            },
            "type": "scattergl"
           }
          ],
          "scattermapbox": [
           {
            "marker": {
             "colorbar": {
              "outlinewidth": 0,
              "ticks": ""
             }
            },
            "type": "scattermapbox"
           }
          ],
          "scatterpolar": [
           {
            "marker": {
             "colorbar": {
              "outlinewidth": 0,
              "ticks": ""
             }
            },
            "type": "scatterpolar"
           }
          ],
          "scatterpolargl": [
           {
            "marker": {
             "colorbar": {
              "outlinewidth": 0,
              "ticks": ""
             }
            },
            "type": "scatterpolargl"
           }
          ],
          "scatterternary": [
           {
            "marker": {
             "colorbar": {
              "outlinewidth": 0,
              "ticks": ""
             }
            },
            "type": "scatterternary"
           }
          ],
          "surface": [
           {
            "colorbar": {
             "outlinewidth": 0,
             "ticks": ""
            },
            "colorscale": [
             [
              0,
              "#0d0887"
             ],
             [
              0.1111111111111111,
              "#46039f"
             ],
             [
              0.2222222222222222,
              "#7201a8"
             ],
             [
              0.3333333333333333,
              "#9c179e"
             ],
             [
              0.4444444444444444,
              "#bd3786"
             ],
             [
              0.5555555555555556,
              "#d8576b"
             ],
             [
              0.6666666666666666,
              "#ed7953"
             ],
             [
              0.7777777777777778,
              "#fb9f3a"
             ],
             [
              0.8888888888888888,
              "#fdca26"
             ],
             [
              1,
              "#f0f921"
             ]
            ],
            "type": "surface"
           }
          ],
          "table": [
           {
            "cells": {
             "fill": {
              "color": "#EBF0F8"
             },
             "line": {
              "color": "white"
             }
            },
            "header": {
             "fill": {
              "color": "#C8D4E3"
             },
             "line": {
              "color": "white"
             }
            },
            "type": "table"
           }
          ]
         },
         "layout": {
          "annotationdefaults": {
           "arrowcolor": "#2a3f5f",
           "arrowhead": 0,
           "arrowwidth": 1
          },
          "autotypenumbers": "strict",
          "coloraxis": {
           "colorbar": {
            "outlinewidth": 0,
            "ticks": ""
           }
          },
          "colorscale": {
           "diverging": [
            [
             0,
             "#8e0152"
            ],
            [
             0.1,
             "#c51b7d"
            ],
            [
             0.2,
             "#de77ae"
            ],
            [
             0.3,
             "#f1b6da"
            ],
            [
             0.4,
             "#fde0ef"
            ],
            [
             0.5,
             "#f7f7f7"
            ],
            [
             0.6,
             "#e6f5d0"
            ],
            [
             0.7,
             "#b8e186"
            ],
            [
             0.8,
             "#7fbc41"
            ],
            [
             0.9,
             "#4d9221"
            ],
            [
             1,
             "#276419"
            ]
           ],
           "sequential": [
            [
             0,
             "#0d0887"
            ],
            [
             0.1111111111111111,
             "#46039f"
            ],
            [
             0.2222222222222222,
             "#7201a8"
            ],
            [
             0.3333333333333333,
             "#9c179e"
            ],
            [
             0.4444444444444444,
             "#bd3786"
            ],
            [
             0.5555555555555556,
             "#d8576b"
            ],
            [
             0.6666666666666666,
             "#ed7953"
            ],
            [
             0.7777777777777778,
             "#fb9f3a"
            ],
            [
             0.8888888888888888,
             "#fdca26"
            ],
            [
             1,
             "#f0f921"
            ]
           ],
           "sequentialminus": [
            [
             0,
             "#0d0887"
            ],
            [
             0.1111111111111111,
             "#46039f"
            ],
            [
             0.2222222222222222,
             "#7201a8"
            ],
            [
             0.3333333333333333,
             "#9c179e"
            ],
            [
             0.4444444444444444,
             "#bd3786"
            ],
            [
             0.5555555555555556,
             "#d8576b"
            ],
            [
             0.6666666666666666,
             "#ed7953"
            ],
            [
             0.7777777777777778,
             "#fb9f3a"
            ],
            [
             0.8888888888888888,
             "#fdca26"
            ],
            [
             1,
             "#f0f921"
            ]
           ]
          },
          "colorway": [
           "#636efa",
           "#EF553B",
           "#00cc96",
           "#ab63fa",
           "#FFA15A",
           "#19d3f3",
           "#FF6692",
           "#B6E880",
           "#FF97FF",
           "#FECB52"
          ],
          "font": {
           "color": "#2a3f5f"
          },
          "geo": {
           "bgcolor": "white",
           "lakecolor": "white",
           "landcolor": "#E5ECF6",
           "showlakes": true,
           "showland": true,
           "subunitcolor": "white"
          },
          "hoverlabel": {
           "align": "left"
          },
          "hovermode": "closest",
          "mapbox": {
           "style": "light"
          },
          "paper_bgcolor": "white",
          "plot_bgcolor": "#E5ECF6",
          "polar": {
           "angularaxis": {
            "gridcolor": "white",
            "linecolor": "white",
            "ticks": ""
           },
           "bgcolor": "#E5ECF6",
           "radialaxis": {
            "gridcolor": "white",
            "linecolor": "white",
            "ticks": ""
           }
          },
          "scene": {
           "xaxis": {
            "backgroundcolor": "#E5ECF6",
            "gridcolor": "white",
            "gridwidth": 2,
            "linecolor": "white",
            "showbackground": true,
            "ticks": "",
            "zerolinecolor": "white"
           },
           "yaxis": {
            "backgroundcolor": "#E5ECF6",
            "gridcolor": "white",
            "gridwidth": 2,
            "linecolor": "white",
            "showbackground": true,
            "ticks": "",
            "zerolinecolor": "white"
           },
           "zaxis": {
            "backgroundcolor": "#E5ECF6",
            "gridcolor": "white",
            "gridwidth": 2,
            "linecolor": "white",
            "showbackground": true,
            "ticks": "",
            "zerolinecolor": "white"
           }
          },
          "shapedefaults": {
           "line": {
            "color": "#2a3f5f"
           }
          },
          "ternary": {
           "aaxis": {
            "gridcolor": "white",
            "linecolor": "white",
            "ticks": ""
           },
           "baxis": {
            "gridcolor": "white",
            "linecolor": "white",
            "ticks": ""
           },
           "bgcolor": "#E5ECF6",
           "caxis": {
            "gridcolor": "white",
            "linecolor": "white",
            "ticks": ""
           }
          },
          "title": {
           "x": 0.05
          },
          "xaxis": {
           "automargin": true,
           "gridcolor": "white",
           "linecolor": "white",
           "ticks": "",
           "title": {
            "standoff": 15
           },
           "zerolinecolor": "white",
           "zerolinewidth": 2
          },
          "yaxis": {
           "automargin": true,
           "gridcolor": "white",
           "linecolor": "white",
           "ticks": "",
           "title": {
            "standoff": 15
           },
           "zerolinecolor": "white",
           "zerolinewidth": 2
          }
         }
        },
        "title": {
         "text": "Boxplot da F1-score Balanceada do classificador Sim sem features de temperatura"
        },
        "xaxis": {
         "anchor": "y",
         "domain": [
          0,
          1
         ],
         "title": {
          "text": "Nome"
         }
        },
        "yaxis": {
         "anchor": "x",
         "domain": [
          0,
          1
         ],
         "range": [
          0,
          1
         ],
         "title": {
          "text": "F1-score Balanceada"
         }
        }
       }
      }
     },
     "metadata": {},
     "output_type": "display_data"
    },
    {
     "data": {
      "application/vnd.plotly.v1+json": {
       "config": {
        "plotlyServerURL": "https://plot.ly"
       },
       "data": [
        {
         "alignmentgroup": "True",
         "boxpoints": "all",
         "hovertemplate": "Nome=%{x}<br>F1-score Balanceada=%{y}<extra></extra>",
         "legendgroup": "",
         "marker": {
          "color": "#636efa"
         },
         "name": "",
         "notched": false,
         "offsetgroup": "",
         "orientation": "v",
         "showlegend": false,
         "type": "box",
         "x": [
          "logreg",
          "KNN",
          "GaussianNB",
          "Perceptron",
          "LinearSVC",
          "SGD",
          "Dtree",
          "RForest",
          "ADA",
          "GBC",
          "ETC",
          "logreg",
          "KNN",
          "GaussianNB",
          "Perceptron",
          "LinearSVC",
          "SGD",
          "Dtree",
          "RForest",
          "ADA",
          "GBC",
          "ETC",
          "logreg",
          "KNN",
          "GaussianNB",
          "Perceptron",
          "LinearSVC",
          "SGD",
          "Dtree",
          "RForest",
          "ADA",
          "GBC",
          "ETC",
          "logreg",
          "KNN",
          "GaussianNB",
          "Perceptron",
          "LinearSVC",
          "SGD",
          "Dtree",
          "RForest",
          "ADA",
          "GBC",
          "ETC",
          "logreg",
          "KNN",
          "GaussianNB",
          "Perceptron",
          "LinearSVC",
          "SGD",
          "Dtree",
          "RForest",
          "ADA",
          "GBC",
          "ETC",
          "logreg",
          "KNN",
          "GaussianNB",
          "Perceptron",
          "LinearSVC",
          "SGD",
          "Dtree",
          "RForest",
          "ADA",
          "GBC",
          "ETC",
          "logreg",
          "KNN",
          "GaussianNB",
          "Perceptron",
          "LinearSVC",
          "SGD",
          "Dtree",
          "RForest",
          "ADA",
          "GBC",
          "ETC",
          "logreg",
          "KNN",
          "GaussianNB",
          "Perceptron",
          "LinearSVC",
          "SGD",
          "Dtree",
          "RForest",
          "ADA",
          "GBC",
          "ETC",
          "logreg",
          "KNN",
          "GaussianNB",
          "Perceptron",
          "LinearSVC",
          "SGD",
          "Dtree",
          "RForest",
          "ADA",
          "GBC",
          "ETC",
          "logreg",
          "KNN",
          "GaussianNB",
          "Perceptron",
          "LinearSVC",
          "SGD",
          "Dtree",
          "RForest",
          "ADA",
          "GBC",
          "ETC",
          "logreg",
          "KNN",
          "GaussianNB",
          "Perceptron",
          "LinearSVC",
          "SGD",
          "Dtree",
          "RForest",
          "ADA",
          "GBC",
          "ETC",
          "logreg",
          "KNN",
          "GaussianNB",
          "Perceptron",
          "LinearSVC",
          "SGD",
          "Dtree",
          "RForest",
          "ADA",
          "GBC",
          "ETC",
          "logreg",
          "KNN",
          "GaussianNB",
          "Perceptron",
          "LinearSVC",
          "SGD",
          "Dtree",
          "RForest",
          "ADA",
          "GBC",
          "ETC",
          "logreg",
          "KNN",
          "GaussianNB",
          "Perceptron",
          "LinearSVC",
          "SGD",
          "Dtree",
          "RForest",
          "ADA",
          "GBC",
          "ETC",
          "logreg",
          "KNN",
          "GaussianNB",
          "Perceptron",
          "LinearSVC",
          "SGD",
          "Dtree",
          "RForest",
          "ADA",
          "GBC",
          "ETC",
          "logreg",
          "KNN",
          "GaussianNB",
          "Perceptron",
          "LinearSVC",
          "SGD",
          "Dtree",
          "RForest",
          "ADA",
          "GBC",
          "ETC",
          "logreg",
          "KNN",
          "GaussianNB",
          "Perceptron",
          "LinearSVC",
          "SGD",
          "Dtree",
          "RForest",
          "ADA",
          "GBC",
          "ETC",
          "logreg",
          "KNN",
          "GaussianNB",
          "Perceptron",
          "LinearSVC",
          "SGD",
          "Dtree",
          "RForest",
          "ADA",
          "GBC",
          "ETC",
          "logreg",
          "KNN",
          "GaussianNB",
          "Perceptron",
          "LinearSVC",
          "SGD",
          "Dtree",
          "RForest",
          "ADA",
          "GBC",
          "ETC",
          "logreg",
          "KNN",
          "GaussianNB",
          "Perceptron",
          "LinearSVC",
          "SGD",
          "Dtree",
          "RForest",
          "ADA",
          "GBC",
          "ETC",
          "logreg",
          "KNN",
          "GaussianNB",
          "Perceptron",
          "LinearSVC",
          "SGD",
          "Dtree",
          "RForest",
          "ADA",
          "GBC",
          "ETC",
          "logreg",
          "KNN",
          "GaussianNB",
          "Perceptron",
          "LinearSVC",
          "SGD",
          "Dtree",
          "RForest",
          "ADA",
          "GBC",
          "ETC",
          "logreg",
          "KNN",
          "GaussianNB",
          "Perceptron",
          "LinearSVC",
          "SGD",
          "Dtree",
          "RForest",
          "ADA",
          "GBC",
          "ETC",
          "logreg",
          "KNN",
          "GaussianNB",
          "Perceptron",
          "LinearSVC",
          "SGD",
          "Dtree",
          "RForest",
          "ADA",
          "GBC",
          "ETC",
          "logreg",
          "KNN",
          "GaussianNB",
          "Perceptron",
          "LinearSVC",
          "SGD",
          "Dtree",
          "RForest",
          "ADA",
          "GBC",
          "ETC"
         ],
         "x0": " ",
         "xaxis": "x",
         "y": [
          0.8302183582862742,
          0.919649992697962,
          0.5415233530727672,
          0.857841879473074,
          0.829742381157872,
          0.8273013709467212,
          0.8832355311429896,
          0.9198199478145894,
          0.7634939196092638,
          0.8461004656902887,
          0.933204213210058,
          0.8294901779291738,
          0.9204780561738938,
          0.5377904569873357,
          0.8196939747800834,
          0.8288480839143186,
          0.8319223705194396,
          0.8827955847812903,
          0.9192740767745016,
          0.7846014409550981,
          0.8551874162997023,
          0.9324728544326136,
          0.8236122180136286,
          0.9213517851146306,
          0.5230859833689194,
          0.7783399871207043,
          0.8227499623196288,
          0.8273439991052978,
          0.8776788224684907,
          0.9183627870372252,
          0.764338447974764,
          0.8509858007862129,
          0.9302504320416856,
          0.7917827324048309,
          0.922991949144516,
          0.5175316965574642,
          0.7725375946204226,
          0.7883246745810447,
          0.7893679251425916,
          0.8801697919812439,
          0.923216756827167,
          0.7268130307537465,
          0.8465594139941434,
          0.9342186558567812,
          0.7679523611031975,
          0.9503428237667858,
          0.5097288822358464,
          0.7264649633315339,
          0.7740131431332954,
          0.7833737848468378,
          0.8600432219870836,
          0.9460123332015252,
          0.7033259825574141,
          0.807983455352759,
          0.967970914920496,
          0.9172989746627284,
          0.9914193326970268,
          0.5458094401862607,
          0.9267077675508332,
          0.9126188844002736,
          0.9154641767544583,
          0.9919634713298716,
          0.9959817409391484,
          0.8613684785656676,
          0.957374456899898,
          0.9965257024132684,
          0.9156765970375096,
          0.9933845359555106,
          0.5458799771450141,
          0.8616609487778643,
          0.911804819596052,
          0.9063575519793186,
          0.9946129999703976,
          0.9970871841607049,
          0.8700685820798251,
          0.9608372506790204,
          0.9975785087578428,
          0.9053352129718426,
          0.9918405104423036,
          0.5239117085949399,
          0.8464986355207658,
          0.901237221101107,
          0.8928803339880771,
          0.9876819892701848,
          0.9917528804453584,
          0.8351812392224327,
          0.9509454726330658,
          0.9937532715791608,
          0.8491314881250014,
          0.9921037331281156,
          0.525961380851558,
          0.8188378882434838,
          0.8438330619985593,
          0.8499999942259546,
          0.9887699328657537,
          0.9962098477676624,
          0.8177532268615294,
          0.9339997964420326,
          0.9972977621904512,
          0.8183515021633944,
          0.93790582003097,
          0.5211271499222075,
          0.8232536266817776,
          0.8189502924200487,
          0.8374437105320238,
          0.8862100404481806,
          0.932079931343517,
          0.7810575095656245,
          0.884724059779378,
          0.9329903473242523,
          0.9559092160885988,
          0.994437607069432,
          0.5781696866978197,
          0.933659600305831,
          0.9506245899957516,
          0.9408121162274712,
          0.9944551577123014,
          0.99696437857079,
          0.8923708226273436,
          0.9813096018548456,
          0.9975434286686712,
          0.952568657680092,
          0.9961396316174886,
          0.5709804859342101,
          0.939843533728178,
          0.9490653750070386,
          0.9394944609617816,
          0.9958764297799244,
          0.9983330364452682,
          0.8929354582350679,
          0.9829944293764216,
          0.998754165571535,
          0.938708287028047,
          0.9944376133993322,
          0.5578828283163015,
          0.9038212351506838,
          0.9351803434182796,
          0.9371601952097054,
          0.9913491863399048,
          0.9931741346988956,
          0.8859297885033488,
          0.9675025134303008,
          0.9949113488499436,
          0.8721338308170079,
          0.9951219490507286,
          0.5492028524005934,
          0.8353856393100688,
          0.8676651331219315,
          0.8774252224613407,
          0.9894542018268104,
          0.9973153176825628,
          0.8592640831514472,
          0.9426929935923498,
          0.9983505873023908,
          0.8385639431486901,
          0.9387442492142988,
          0.5419934379897929,
          0.7893315781850019,
          0.840833009950536,
          0.8462085112725255,
          0.876380598002934,
          0.931729138981206,
          0.8031747117415655,
          0.8787535051421654,
          0.932822996445458,
          0.9759952891079094,
          0.9952623243900558,
          0.5801764078062361,
          0.959834977644908,
          0.9733622174029172,
          0.9682899507365184,
          0.9961221192372622,
          0.998666431025678,
          0.9233848130842204,
          0.9861024191343368,
          0.998543602684169,
          0.9714686331758544,
          0.9970170025282952,
          0.582656444584099,
          0.9508438537894204,
          0.9690646825848804,
          0.966849872466536,
          0.9983154936475632,
          0.9998771714326394,
          0.9187354386935156,
          0.9891380700233696,
          0.999824530617462,
          0.9544653406695384,
          0.9951570447139036,
          0.5568069147553547,
          0.9289723650093116,
          0.9509038102142732,
          0.948725907655648,
          0.9923843857629993,
          0.994367271550716,
          0.8699509840807285,
          0.9690252832592916,
          0.9964554799396942,
          0.880413887888355,
          0.9956308124111248,
          0.5617681516213232,
          0.7699385392639823,
          0.8765517436009183,
          0.8767065155294668,
          0.9920158471838562,
          0.9988068070598692,
          0.8480116822982444,
          0.9405185919306642,
          0.999456044831564,
          0.8485447879048886,
          0.9401644400976832,
          0.5553979255733589,
          0.8676833336016935,
          0.8517736616216508,
          0.8474440206579972,
          0.8874395501890244,
          0.9329187377158548,
          0.7929569117454818,
          0.8742390373591187,
          0.9333099255726828,
          0.965722786625461,
          0.9848726553984324,
          0.5785296768471866,
          0.9571425535909086,
          0.9631570124071968,
          0.9590729522845256,
          0.993419870493993,
          0.9977715387505116,
          0.8869953771959297,
          0.982031136530824,
          0.997227583445184,
          0.9613404816702468,
          0.9868903622047684,
          0.5813516792462216,
          0.8921946000033296,
          0.9588815489207072,
          0.9560529195638828,
          0.990594217704357,
          0.9990700115380892,
          0.876834197671662,
          0.9843117110778205,
          0.9983856776725047,
          0.944846077399961,
          0.9843988594934536,
          0.5571072700793259,
          0.9231209911745044,
          0.9412490237166984,
          0.9392143215564944,
          0.9887173169901808,
          0.99306885142947,
          0.8805676454792193,
          0.9612424418108796,
          0.9948762813083848,
          0.872769875533591,
          0.9850835255318828,
          0.5597962088527636,
          0.8376096888431583,
          0.8696107301229075,
          0.8836266459132267,
          0.9881908444203428,
          0.9978066327094954,
          0.8216929506322409,
          0.932319773308367,
          0.9965081397320182,
          0.8445453099910908,
          0.9465442469210592,
          0.5608370236108774,
          0.8019534712864719,
          0.8475738527642065,
          0.8395068177045842,
          0.8834378754717546,
          0.9341529817276578,
          0.8136813145475602,
          0.8816256051999681,
          0.936052553315322
         ],
         "y0": " ",
         "yaxis": "y"
        }
       ],
       "layout": {
        "boxmode": "group",
        "legend": {
         "tracegroupgap": 0
        },
        "template": {
         "data": {
          "bar": [
           {
            "error_x": {
             "color": "#2a3f5f"
            },
            "error_y": {
             "color": "#2a3f5f"
            },
            "marker": {
             "line": {
              "color": "#E5ECF6",
              "width": 0.5
             },
             "pattern": {
              "fillmode": "overlay",
              "size": 10,
              "solidity": 0.2
             }
            },
            "type": "bar"
           }
          ],
          "barpolar": [
           {
            "marker": {
             "line": {
              "color": "#E5ECF6",
              "width": 0.5
             },
             "pattern": {
              "fillmode": "overlay",
              "size": 10,
              "solidity": 0.2
             }
            },
            "type": "barpolar"
           }
          ],
          "carpet": [
           {
            "aaxis": {
             "endlinecolor": "#2a3f5f",
             "gridcolor": "white",
             "linecolor": "white",
             "minorgridcolor": "white",
             "startlinecolor": "#2a3f5f"
            },
            "baxis": {
             "endlinecolor": "#2a3f5f",
             "gridcolor": "white",
             "linecolor": "white",
             "minorgridcolor": "white",
             "startlinecolor": "#2a3f5f"
            },
            "type": "carpet"
           }
          ],
          "choropleth": [
           {
            "colorbar": {
             "outlinewidth": 0,
             "ticks": ""
            },
            "type": "choropleth"
           }
          ],
          "contour": [
           {
            "colorbar": {
             "outlinewidth": 0,
             "ticks": ""
            },
            "colorscale": [
             [
              0,
              "#0d0887"
             ],
             [
              0.1111111111111111,
              "#46039f"
             ],
             [
              0.2222222222222222,
              "#7201a8"
             ],
             [
              0.3333333333333333,
              "#9c179e"
             ],
             [
              0.4444444444444444,
              "#bd3786"
             ],
             [
              0.5555555555555556,
              "#d8576b"
             ],
             [
              0.6666666666666666,
              "#ed7953"
             ],
             [
              0.7777777777777778,
              "#fb9f3a"
             ],
             [
              0.8888888888888888,
              "#fdca26"
             ],
             [
              1,
              "#f0f921"
             ]
            ],
            "type": "contour"
           }
          ],
          "contourcarpet": [
           {
            "colorbar": {
             "outlinewidth": 0,
             "ticks": ""
            },
            "type": "contourcarpet"
           }
          ],
          "heatmap": [
           {
            "colorbar": {
             "outlinewidth": 0,
             "ticks": ""
            },
            "colorscale": [
             [
              0,
              "#0d0887"
             ],
             [
              0.1111111111111111,
              "#46039f"
             ],
             [
              0.2222222222222222,
              "#7201a8"
             ],
             [
              0.3333333333333333,
              "#9c179e"
             ],
             [
              0.4444444444444444,
              "#bd3786"
             ],
             [
              0.5555555555555556,
              "#d8576b"
             ],
             [
              0.6666666666666666,
              "#ed7953"
             ],
             [
              0.7777777777777778,
              "#fb9f3a"
             ],
             [
              0.8888888888888888,
              "#fdca26"
             ],
             [
              1,
              "#f0f921"
             ]
            ],
            "type": "heatmap"
           }
          ],
          "heatmapgl": [
           {
            "colorbar": {
             "outlinewidth": 0,
             "ticks": ""
            },
            "colorscale": [
             [
              0,
              "#0d0887"
             ],
             [
              0.1111111111111111,
              "#46039f"
             ],
             [
              0.2222222222222222,
              "#7201a8"
             ],
             [
              0.3333333333333333,
              "#9c179e"
             ],
             [
              0.4444444444444444,
              "#bd3786"
             ],
             [
              0.5555555555555556,
              "#d8576b"
             ],
             [
              0.6666666666666666,
              "#ed7953"
             ],
             [
              0.7777777777777778,
              "#fb9f3a"
             ],
             [
              0.8888888888888888,
              "#fdca26"
             ],
             [
              1,
              "#f0f921"
             ]
            ],
            "type": "heatmapgl"
           }
          ],
          "histogram": [
           {
            "marker": {
             "pattern": {
              "fillmode": "overlay",
              "size": 10,
              "solidity": 0.2
             }
            },
            "type": "histogram"
           }
          ],
          "histogram2d": [
           {
            "colorbar": {
             "outlinewidth": 0,
             "ticks": ""
            },
            "colorscale": [
             [
              0,
              "#0d0887"
             ],
             [
              0.1111111111111111,
              "#46039f"
             ],
             [
              0.2222222222222222,
              "#7201a8"
             ],
             [
              0.3333333333333333,
              "#9c179e"
             ],
             [
              0.4444444444444444,
              "#bd3786"
             ],
             [
              0.5555555555555556,
              "#d8576b"
             ],
             [
              0.6666666666666666,
              "#ed7953"
             ],
             [
              0.7777777777777778,
              "#fb9f3a"
             ],
             [
              0.8888888888888888,
              "#fdca26"
             ],
             [
              1,
              "#f0f921"
             ]
            ],
            "type": "histogram2d"
           }
          ],
          "histogram2dcontour": [
           {
            "colorbar": {
             "outlinewidth": 0,
             "ticks": ""
            },
            "colorscale": [
             [
              0,
              "#0d0887"
             ],
             [
              0.1111111111111111,
              "#46039f"
             ],
             [
              0.2222222222222222,
              "#7201a8"
             ],
             [
              0.3333333333333333,
              "#9c179e"
             ],
             [
              0.4444444444444444,
              "#bd3786"
             ],
             [
              0.5555555555555556,
              "#d8576b"
             ],
             [
              0.6666666666666666,
              "#ed7953"
             ],
             [
              0.7777777777777778,
              "#fb9f3a"
             ],
             [
              0.8888888888888888,
              "#fdca26"
             ],
             [
              1,
              "#f0f921"
             ]
            ],
            "type": "histogram2dcontour"
           }
          ],
          "mesh3d": [
           {
            "colorbar": {
             "outlinewidth": 0,
             "ticks": ""
            },
            "type": "mesh3d"
           }
          ],
          "parcoords": [
           {
            "line": {
             "colorbar": {
              "outlinewidth": 0,
              "ticks": ""
             }
            },
            "type": "parcoords"
           }
          ],
          "pie": [
           {
            "automargin": true,
            "type": "pie"
           }
          ],
          "scatter": [
           {
            "fillpattern": {
             "fillmode": "overlay",
             "size": 10,
             "solidity": 0.2
            },
            "type": "scatter"
           }
          ],
          "scatter3d": [
           {
            "line": {
             "colorbar": {
              "outlinewidth": 0,
              "ticks": ""
             }
            },
            "marker": {
             "colorbar": {
              "outlinewidth": 0,
              "ticks": ""
             }
            },
            "type": "scatter3d"
           }
          ],
          "scattercarpet": [
           {
            "marker": {
             "colorbar": {
              "outlinewidth": 0,
              "ticks": ""
             }
            },
            "type": "scattercarpet"
           }
          ],
          "scattergeo": [
           {
            "marker": {
             "colorbar": {
              "outlinewidth": 0,
              "ticks": ""
             }
            },
            "type": "scattergeo"
           }
          ],
          "scattergl": [
           {
            "marker": {
             "colorbar": {
              "outlinewidth": 0,
              "ticks": ""
             }
            },
            "type": "scattergl"
           }
          ],
          "scattermapbox": [
           {
            "marker": {
             "colorbar": {
              "outlinewidth": 0,
              "ticks": ""
             }
            },
            "type": "scattermapbox"
           }
          ],
          "scatterpolar": [
           {
            "marker": {
             "colorbar": {
              "outlinewidth": 0,
              "ticks": ""
             }
            },
            "type": "scatterpolar"
           }
          ],
          "scatterpolargl": [
           {
            "marker": {
             "colorbar": {
              "outlinewidth": 0,
              "ticks": ""
             }
            },
            "type": "scatterpolargl"
           }
          ],
          "scatterternary": [
           {
            "marker": {
             "colorbar": {
              "outlinewidth": 0,
              "ticks": ""
             }
            },
            "type": "scatterternary"
           }
          ],
          "surface": [
           {
            "colorbar": {
             "outlinewidth": 0,
             "ticks": ""
            },
            "colorscale": [
             [
              0,
              "#0d0887"
             ],
             [
              0.1111111111111111,
              "#46039f"
             ],
             [
              0.2222222222222222,
              "#7201a8"
             ],
             [
              0.3333333333333333,
              "#9c179e"
             ],
             [
              0.4444444444444444,
              "#bd3786"
             ],
             [
              0.5555555555555556,
              "#d8576b"
             ],
             [
              0.6666666666666666,
              "#ed7953"
             ],
             [
              0.7777777777777778,
              "#fb9f3a"
             ],
             [
              0.8888888888888888,
              "#fdca26"
             ],
             [
              1,
              "#f0f921"
             ]
            ],
            "type": "surface"
           }
          ],
          "table": [
           {
            "cells": {
             "fill": {
              "color": "#EBF0F8"
             },
             "line": {
              "color": "white"
             }
            },
            "header": {
             "fill": {
              "color": "#C8D4E3"
             },
             "line": {
              "color": "white"
             }
            },
            "type": "table"
           }
          ]
         },
         "layout": {
          "annotationdefaults": {
           "arrowcolor": "#2a3f5f",
           "arrowhead": 0,
           "arrowwidth": 1
          },
          "autotypenumbers": "strict",
          "coloraxis": {
           "colorbar": {
            "outlinewidth": 0,
            "ticks": ""
           }
          },
          "colorscale": {
           "diverging": [
            [
             0,
             "#8e0152"
            ],
            [
             0.1,
             "#c51b7d"
            ],
            [
             0.2,
             "#de77ae"
            ],
            [
             0.3,
             "#f1b6da"
            ],
            [
             0.4,
             "#fde0ef"
            ],
            [
             0.5,
             "#f7f7f7"
            ],
            [
             0.6,
             "#e6f5d0"
            ],
            [
             0.7,
             "#b8e186"
            ],
            [
             0.8,
             "#7fbc41"
            ],
            [
             0.9,
             "#4d9221"
            ],
            [
             1,
             "#276419"
            ]
           ],
           "sequential": [
            [
             0,
             "#0d0887"
            ],
            [
             0.1111111111111111,
             "#46039f"
            ],
            [
             0.2222222222222222,
             "#7201a8"
            ],
            [
             0.3333333333333333,
             "#9c179e"
            ],
            [
             0.4444444444444444,
             "#bd3786"
            ],
            [
             0.5555555555555556,
             "#d8576b"
            ],
            [
             0.6666666666666666,
             "#ed7953"
            ],
            [
             0.7777777777777778,
             "#fb9f3a"
            ],
            [
             0.8888888888888888,
             "#fdca26"
            ],
            [
             1,
             "#f0f921"
            ]
           ],
           "sequentialminus": [
            [
             0,
             "#0d0887"
            ],
            [
             0.1111111111111111,
             "#46039f"
            ],
            [
             0.2222222222222222,
             "#7201a8"
            ],
            [
             0.3333333333333333,
             "#9c179e"
            ],
            [
             0.4444444444444444,
             "#bd3786"
            ],
            [
             0.5555555555555556,
             "#d8576b"
            ],
            [
             0.6666666666666666,
             "#ed7953"
            ],
            [
             0.7777777777777778,
             "#fb9f3a"
            ],
            [
             0.8888888888888888,
             "#fdca26"
            ],
            [
             1,
             "#f0f921"
            ]
           ]
          },
          "colorway": [
           "#636efa",
           "#EF553B",
           "#00cc96",
           "#ab63fa",
           "#FFA15A",
           "#19d3f3",
           "#FF6692",
           "#B6E880",
           "#FF97FF",
           "#FECB52"
          ],
          "font": {
           "color": "#2a3f5f"
          },
          "geo": {
           "bgcolor": "white",
           "lakecolor": "white",
           "landcolor": "#E5ECF6",
           "showlakes": true,
           "showland": true,
           "subunitcolor": "white"
          },
          "hoverlabel": {
           "align": "left"
          },
          "hovermode": "closest",
          "mapbox": {
           "style": "light"
          },
          "paper_bgcolor": "white",
          "plot_bgcolor": "#E5ECF6",
          "polar": {
           "angularaxis": {
            "gridcolor": "white",
            "linecolor": "white",
            "ticks": ""
           },
           "bgcolor": "#E5ECF6",
           "radialaxis": {
            "gridcolor": "white",
            "linecolor": "white",
            "ticks": ""
           }
          },
          "scene": {
           "xaxis": {
            "backgroundcolor": "#E5ECF6",
            "gridcolor": "white",
            "gridwidth": 2,
            "linecolor": "white",
            "showbackground": true,
            "ticks": "",
            "zerolinecolor": "white"
           },
           "yaxis": {
            "backgroundcolor": "#E5ECF6",
            "gridcolor": "white",
            "gridwidth": 2,
            "linecolor": "white",
            "showbackground": true,
            "ticks": "",
            "zerolinecolor": "white"
           },
           "zaxis": {
            "backgroundcolor": "#E5ECF6",
            "gridcolor": "white",
            "gridwidth": 2,
            "linecolor": "white",
            "showbackground": true,
            "ticks": "",
            "zerolinecolor": "white"
           }
          },
          "shapedefaults": {
           "line": {
            "color": "#2a3f5f"
           }
          },
          "ternary": {
           "aaxis": {
            "gridcolor": "white",
            "linecolor": "white",
            "ticks": ""
           },
           "baxis": {
            "gridcolor": "white",
            "linecolor": "white",
            "ticks": ""
           },
           "bgcolor": "#E5ECF6",
           "caxis": {
            "gridcolor": "white",
            "linecolor": "white",
            "ticks": ""
           }
          },
          "title": {
           "x": 0.05
          },
          "xaxis": {
           "automargin": true,
           "gridcolor": "white",
           "linecolor": "white",
           "ticks": "",
           "title": {
            "standoff": 15
           },
           "zerolinecolor": "white",
           "zerolinewidth": 2
          },
          "yaxis": {
           "automargin": true,
           "gridcolor": "white",
           "linecolor": "white",
           "ticks": "",
           "title": {
            "standoff": 15
           },
           "zerolinecolor": "white",
           "zerolinewidth": 2
          }
         }
        },
        "title": {
         "text": "Boxplot da F1-Score Balanceada do Classificador Sim"
        },
        "xaxis": {
         "anchor": "y",
         "domain": [
          0,
          1
         ],
         "title": {
          "text": "Nome"
         }
        },
        "yaxis": {
         "anchor": "x",
         "domain": [
          0,
          1
         ],
         "range": [
          0,
          1
         ],
         "title": {
          "text": "F1-score Balanceada"
         }
        }
       }
      }
     },
     "metadata": {},
     "output_type": "display_data"
    }
   ],
   "source": [
    "# Criar boxplot da acurácia por modelo sim sim  \n",
    "\n",
    "# fig = px.box(df5, x='Nome', y='Acurácia Balanceada', points='all', title='Boxplot da Acurácia Balanceada do classificador Sim 0',color_discrete_sequence=px.colors.qualitative.Set3)\n",
    "# fig.update_yaxes(range=[0, 1])\n",
    "# fig.show()\n",
    "\n",
    "# fig = px.box(df8, x='Nome', y='Acurácia Balanceada', points='all', title='Boxplot da Acurácia Balanceada do classificador Sim sem features de temperatura',color_discrete_sequence=px.colors.qualitative.Set1)\n",
    "# fig.update_yaxes(range=[0, 1])\n",
    "# fig.show()\n",
    "\n",
    "# fig = px.box(df2, x='Nome', y='Acurácia Balanceada', points='all', title='Boxplot da Acurácia Balanceada do classificador Sim')\n",
    "# fig.update_yaxes(range=[0, 1])\n",
    "# fig.show()\n",
    "\n",
    "fig = px.box(df5, x='Nome', y='F1-score Balanceada', points='all', title='Boxplot da F1-Score Balanceada do Classificador Sim 0',color_discrete_sequence=px.colors.qualitative.Set3)\n",
    "fig.update_yaxes(range=[0, 1])\n",
    "fig.show()\n",
    "\n",
    "fig = px.box(df8, x='Nome', y='F1-score Balanceada', points='all', title='Boxplot da F1-score Balanceada do classificador Sim sem features de temperatura',color_discrete_sequence=px.colors.qualitative.Set1)\n",
    "fig.update_yaxes(range=[0, 1])\n",
    "fig.show()\n",
    "\n",
    "fig = px.box(df11, x='Nome', y='F1-score Balanceada', points='all', title='Boxplot da F1-Score Balanceada do Classificador Sim sem features de pressão',color_discrete_sequence=px.colors.qualitative.Set1_r)\n",
    "fig.update_yaxes(range=[0, 1])\n",
    "fig.show()\n",
    "\n",
    "fig = px.box(df2, x='Nome', y='F1-score Balanceada', points='all', title='Boxplot da F1-Score Balanceada do Classificador Sim')\n",
    "fig.update_yaxes(range=[0, 1])\n",
    "fig.show()"
   ]
  },
  {
   "cell_type": "markdown",
   "metadata": {},
   "source": [
    "## Gráficos treinamentos simulados e testes reais"
   ]
  },
  {
   "cell_type": "code",
   "execution_count": 30,
   "metadata": {},
   "outputs": [
    {
     "data": {
      "application/vnd.plotly.v1+json": {
       "config": {
        "plotlyServerURL": "https://plot.ly"
       },
       "data": [
        {
         "alignmentgroup": "True",
         "boxpoints": "all",
         "hovertemplate": "Nome=%{x}<br>F1-score Balanceada=%{y}<extra></extra>",
         "legendgroup": "",
         "marker": {
          "color": "rgb(141,211,199)"
         },
         "name": "",
         "notched": false,
         "offsetgroup": "",
         "orientation": "v",
         "showlegend": false,
         "type": "box",
         "x": [
          "logreg",
          "KNN",
          "GaussianNB",
          "Perceptron",
          "LinearSVC",
          "SGD",
          "Dtree",
          "RForest",
          "ADA",
          "GBC",
          "ETC",
          "logreg",
          "KNN",
          "GaussianNB",
          "Perceptron",
          "LinearSVC",
          "SGD",
          "Dtree",
          "RForest",
          "ADA",
          "GBC",
          "ETC",
          "logreg",
          "KNN",
          "GaussianNB",
          "Perceptron",
          "LinearSVC",
          "SGD",
          "Dtree",
          "RForest",
          "ADA",
          "GBC",
          "ETC",
          "logreg",
          "KNN",
          "GaussianNB",
          "Perceptron",
          "LinearSVC",
          "SGD",
          "Dtree",
          "RForest",
          "ADA",
          "GBC",
          "ETC",
          "logreg",
          "KNN",
          "GaussianNB",
          "Perceptron",
          "LinearSVC",
          "SGD",
          "Dtree",
          "RForest",
          "ADA",
          "GBC",
          "ETC",
          "logreg",
          "KNN",
          "GaussianNB",
          "Perceptron",
          "LinearSVC",
          "SGD",
          "Dtree",
          "RForest",
          "ADA",
          "GBC",
          "ETC",
          "logreg",
          "KNN",
          "GaussianNB",
          "Perceptron",
          "LinearSVC",
          "SGD",
          "Dtree",
          "RForest",
          "ADA",
          "GBC",
          "ETC",
          "logreg",
          "KNN",
          "GaussianNB",
          "Perceptron",
          "LinearSVC",
          "SGD",
          "Dtree",
          "RForest",
          "ADA",
          "GBC",
          "ETC",
          "logreg",
          "KNN",
          "GaussianNB",
          "Perceptron",
          "LinearSVC",
          "SGD",
          "Dtree",
          "RForest",
          "ADA",
          "GBC",
          "ETC",
          "logreg",
          "KNN",
          "GaussianNB",
          "Perceptron",
          "LinearSVC",
          "SGD",
          "Dtree",
          "RForest",
          "ADA",
          "GBC",
          "ETC",
          "logreg",
          "KNN",
          "GaussianNB",
          "Perceptron",
          "LinearSVC",
          "SGD",
          "Dtree",
          "RForest",
          "ADA",
          "GBC",
          "ETC",
          "logreg",
          "KNN",
          "GaussianNB",
          "Perceptron",
          "LinearSVC",
          "SGD",
          "Dtree",
          "RForest",
          "ADA",
          "GBC",
          "ETC",
          "logreg",
          "KNN",
          "GaussianNB",
          "Perceptron",
          "LinearSVC",
          "SGD",
          "Dtree",
          "RForest",
          "ADA",
          "GBC",
          "ETC",
          "logreg",
          "KNN",
          "GaussianNB",
          "Perceptron",
          "LinearSVC",
          "SGD",
          "Dtree",
          "RForest",
          "ADA",
          "GBC",
          "ETC",
          "logreg",
          "KNN",
          "GaussianNB",
          "Perceptron",
          "LinearSVC",
          "SGD",
          "Dtree",
          "RForest",
          "ADA",
          "GBC",
          "ETC",
          "logreg",
          "KNN",
          "GaussianNB",
          "Perceptron",
          "LinearSVC",
          "SGD",
          "Dtree",
          "RForest",
          "ADA",
          "GBC",
          "ETC",
          "logreg",
          "KNN",
          "GaussianNB",
          "Perceptron",
          "LinearSVC",
          "SGD",
          "Dtree",
          "RForest",
          "ADA",
          "GBC",
          "ETC",
          "logreg",
          "KNN",
          "GaussianNB",
          "Perceptron",
          "LinearSVC",
          "SGD",
          "Dtree",
          "RForest",
          "ADA",
          "GBC",
          "ETC",
          "logreg",
          "KNN",
          "GaussianNB",
          "Perceptron",
          "LinearSVC",
          "SGD",
          "Dtree",
          "RForest",
          "ADA",
          "GBC",
          "ETC",
          "logreg",
          "KNN",
          "GaussianNB",
          "Perceptron",
          "LinearSVC",
          "SGD",
          "Dtree",
          "RForest",
          "ADA",
          "GBC",
          "ETC",
          "logreg",
          "KNN",
          "GaussianNB",
          "Perceptron",
          "LinearSVC",
          "SGD",
          "Dtree",
          "RForest",
          "ADA",
          "GBC",
          "ETC",
          "logreg",
          "KNN",
          "GaussianNB",
          "Perceptron",
          "LinearSVC",
          "SGD",
          "Dtree",
          "RForest",
          "ADA",
          "GBC",
          "ETC",
          "logreg",
          "KNN",
          "GaussianNB",
          "Perceptron",
          "LinearSVC",
          "SGD",
          "Dtree",
          "RForest",
          "ADA",
          "GBC",
          "ETC",
          "logreg",
          "KNN",
          "GaussianNB",
          "Perceptron",
          "LinearSVC",
          "SGD",
          "Dtree",
          "RForest",
          "ADA",
          "GBC",
          "ETC",
          "logreg",
          "KNN",
          "GaussianNB",
          "Perceptron",
          "LinearSVC",
          "SGD",
          "Dtree",
          "RForest",
          "ADA",
          "GBC",
          "ETC"
         ],
         "x0": " ",
         "xaxis": "x",
         "y": [
          0.0189278699067167,
          0.5705682808346463,
          0.849523287337415,
          0.0189278699067167,
          0.0189352216102806,
          0.0189352216102806,
          0.8447280760520145,
          0.5447267691947575,
          0.1556222057148013,
          0.7414861707761979,
          0.1338771832477666,
          0.0189352216102806,
          0.6136245544739629,
          0.849523287337415,
          0.0189352216102806,
          0.0189352216102806,
          0.0189352216102806,
          0.821963226861022,
          0.2939960447833285,
          0.3352249206263207,
          0.8491110875175539,
          0.2141758745203825,
          0.0189278699067167,
          0.53790676645423,
          0.849523287337415,
          0.0189278699067167,
          0.0189352216102806,
          0.0189352216102806,
          0.8395129028548968,
          0.8416406207753797,
          0.2105997421727345,
          0.862491560401693,
          0.4024815935822087,
          0.0189352216102806,
          0.5570642736444753,
          0.849523287337415,
          0.0189278699067167,
          0.0189352216102806,
          0.0189352216102806,
          0.0763840313911047,
          0.8604326682699668,
          0.0840597167336277,
          0.8611569247316513,
          0.7220166309189421,
          0.0189278699067167,
          0.4919676444923643,
          0.849523287337415,
          0.0189278699067167,
          0.0189352216102806,
          0.0189278699067167,
          0.03630708838509,
          0.6224430724025032,
          0.6546108417138523,
          0.8618040301522087,
          0.0610642488659035,
          0.0189352216102806,
          0.5492328529642367,
          0.849523287337415,
          0.0189352216102806,
          0.0189352216102806,
          0.0189352216102806,
          0.260349766199992,
          0.1014841883602412,
          0.2245509078366101,
          0.8687869420743074,
          0.0902089968905609,
          0.0189352216102806,
          0.5881271556318349,
          0.849523287337415,
          0.0189352216102806,
          0.0189352216102806,
          0.0189352216102806,
          0.8576017950315077,
          0.7530390855490695,
          0.23132061917244,
          0.8394123781796633,
          0.193818158934861,
          0.0189352216102806,
          0.5148170128601597,
          0.849523287337415,
          0.0189352216102806,
          0.0189352216102806,
          0.0189352216102806,
          0.8576185450348955,
          0.5247321698846736,
          0.2022858105469195,
          0.220469940886794,
          0.2012216117376534,
          0.0189352216102806,
          0.5331830594582129,
          0.849523287337415,
          0.0189352216102806,
          0.0189352216102806,
          0.0189352216102806,
          0.8664205442210613,
          0.6991054720394296,
          0.8269723098397695,
          0.18882063907091,
          0.1263270435812062,
          0.0189352216102806,
          0.473350619691128,
          0.849523287337415,
          0.0189352216102806,
          0.0189352216102806,
          0.0189352216102806,
          0.1368482356913295,
          0.27499161367587,
          0.1139808767622581,
          0.8250862978699796,
          0.0143926705723606,
          0.0189352216102806,
          0.5495623958640912,
          0.849523287337415,
          0.0189352216102806,
          0.0189352216102806,
          0.0189352216102806,
          0.0640415944389763,
          0.1760573899328382,
          0.2128481044332117,
          0.7892537968377007,
          0.4848469960681671,
          0.0189352216102806,
          0.611370101575205,
          0.849523287337415,
          0.0189352216102806,
          0.0189352216102806,
          0.0189352216102806,
          0.340459664412197,
          0.7561019003986519,
          0.3200502284324395,
          0.6734348160015039,
          0.5157704840658967,
          0.0189352216102806,
          0.5292101629259538,
          0.849523287337415,
          0.0189352216102806,
          0.0189352216102806,
          0.0189352216102806,
          0.8334221030488728,
          0.5030397906424292,
          0.2071516030341887,
          0.2216796972138501,
          0.1787909305757824,
          0.0189352216102806,
          0.5451843110977019,
          0.849523287337415,
          0.0189352216102806,
          0.0189352216102806,
          0.0189352216102806,
          0.8225533240194661,
          0.7944598521032283,
          0.1762095829490043,
          0.6594906437356004,
          0.1904543304027072,
          0.0189352216102806,
          0.4881687896320961,
          0.849523287337415,
          0.0189352216102806,
          0.0189352216102806,
          0.0189352216102806,
          0.1869069727470201,
          0.5537896756687294,
          0.1028502976314788,
          0.5352078310680577,
          0.0653985988877638,
          0.0189352216102806,
          0.5390313749115481,
          0.849523287337415,
          0.0189352216102806,
          0.0189352216102806,
          0.0189352216102806,
          0.8642842526202826,
          0.7246816082949612,
          0.0578509474897222,
          0.29940458123262,
          0.2949635086471854,
          0.0189352216102806,
          0.5979075447794103,
          0.849523287337415,
          0.0189352216102806,
          0.0189352216102806,
          0.0189352216102806,
          0.5153463572531946,
          0.5465292815805904,
          0.2761663602919121,
          0.8625017631991696,
          0.1832637183967628,
          0.0189352216102806,
          0.5194231782790195,
          0.849523287337415,
          0.0189352216102806,
          0.0189352216102806,
          0.0189352216102806,
          0.1590287223003144,
          0.1120567307438491,
          0.2169845776003861,
          0.2023044355894403,
          0.1854860798270203,
          0.0189352216102806,
          0.5372593427302852,
          0.849523287337415,
          0.0189352216102806,
          0.0189352216102806,
          0.0189352216102806,
          0.8081111864505641,
          0.7834044078369544,
          0.2213392169480094,
          0.6493179420359035,
          0.0991518469633069,
          0.0189352216102806,
          0.4751246924521979,
          0.849523287337415,
          0.0189352216102806,
          0.0189352216102806,
          0.0189352216102806,
          0.2683252608137718,
          0.7861884180512122,
          0.0650434415009926,
          0.083306650839732,
          0.0303603003469676,
          0.0189352216102806,
          0.5523662310847858,
          0.849523287337415,
          0.0189352216102806,
          0.0189352216102806,
          0.0189352216102806,
          0.4861013804143118,
          0.7865734669538468,
          0.0623923709058083,
          0.4069191880640017,
          0.1339742852314488,
          0.0189352216102806,
          0.6130980600679353,
          0.849523287337415,
          0.0189352216102806,
          0.0189352216102806,
          0.0189352216102806,
          0.1153257492653511,
          0.7571835370848203,
          0.2493727192774781,
          0.7383955458610679,
          0.5980180673331349,
          0.0189352216102806,
          0.5315125068230063,
          0.849523287337415,
          0.0189352216102806,
          0.0189352216102806,
          0.0189352216102806,
          0.8418820772911181,
          0.7779966724599303,
          0.2077727262939799,
          0.3291798994096608,
          0.199263722280567,
          0.0189352216102806,
          0.5485842837817074,
          0.849523287337415,
          0.0189352216102806,
          0.0189352216102806,
          0.0189352216102806,
          0.0657623342828412,
          0.5148203448696804,
          0.2049824422193822,
          0.1762763676659589,
          0.4636390245632646,
          0.0189352216102806,
          0.488420354150666,
          0.849523287337415,
          0.0189352216102806,
          0.0189352216102806,
          0.0189352216102806,
          0.8486206927024318,
          0.3077973805163599,
          0.0938579041174545,
          0.0345049038169232,
          0.0225898642352821
         ],
         "y0": " ",
         "yaxis": "y"
        }
       ],
       "layout": {
        "boxmode": "group",
        "legend": {
         "tracegroupgap": 0
        },
        "template": {
         "data": {
          "bar": [
           {
            "error_x": {
             "color": "#2a3f5f"
            },
            "error_y": {
             "color": "#2a3f5f"
            },
            "marker": {
             "line": {
              "color": "#E5ECF6",
              "width": 0.5
             },
             "pattern": {
              "fillmode": "overlay",
              "size": 10,
              "solidity": 0.2
             }
            },
            "type": "bar"
           }
          ],
          "barpolar": [
           {
            "marker": {
             "line": {
              "color": "#E5ECF6",
              "width": 0.5
             },
             "pattern": {
              "fillmode": "overlay",
              "size": 10,
              "solidity": 0.2
             }
            },
            "type": "barpolar"
           }
          ],
          "carpet": [
           {
            "aaxis": {
             "endlinecolor": "#2a3f5f",
             "gridcolor": "white",
             "linecolor": "white",
             "minorgridcolor": "white",
             "startlinecolor": "#2a3f5f"
            },
            "baxis": {
             "endlinecolor": "#2a3f5f",
             "gridcolor": "white",
             "linecolor": "white",
             "minorgridcolor": "white",
             "startlinecolor": "#2a3f5f"
            },
            "type": "carpet"
           }
          ],
          "choropleth": [
           {
            "colorbar": {
             "outlinewidth": 0,
             "ticks": ""
            },
            "type": "choropleth"
           }
          ],
          "contour": [
           {
            "colorbar": {
             "outlinewidth": 0,
             "ticks": ""
            },
            "colorscale": [
             [
              0,
              "#0d0887"
             ],
             [
              0.1111111111111111,
              "#46039f"
             ],
             [
              0.2222222222222222,
              "#7201a8"
             ],
             [
              0.3333333333333333,
              "#9c179e"
             ],
             [
              0.4444444444444444,
              "#bd3786"
             ],
             [
              0.5555555555555556,
              "#d8576b"
             ],
             [
              0.6666666666666666,
              "#ed7953"
             ],
             [
              0.7777777777777778,
              "#fb9f3a"
             ],
             [
              0.8888888888888888,
              "#fdca26"
             ],
             [
              1,
              "#f0f921"
             ]
            ],
            "type": "contour"
           }
          ],
          "contourcarpet": [
           {
            "colorbar": {
             "outlinewidth": 0,
             "ticks": ""
            },
            "type": "contourcarpet"
           }
          ],
          "heatmap": [
           {
            "colorbar": {
             "outlinewidth": 0,
             "ticks": ""
            },
            "colorscale": [
             [
              0,
              "#0d0887"
             ],
             [
              0.1111111111111111,
              "#46039f"
             ],
             [
              0.2222222222222222,
              "#7201a8"
             ],
             [
              0.3333333333333333,
              "#9c179e"
             ],
             [
              0.4444444444444444,
              "#bd3786"
             ],
             [
              0.5555555555555556,
              "#d8576b"
             ],
             [
              0.6666666666666666,
              "#ed7953"
             ],
             [
              0.7777777777777778,
              "#fb9f3a"
             ],
             [
              0.8888888888888888,
              "#fdca26"
             ],
             [
              1,
              "#f0f921"
             ]
            ],
            "type": "heatmap"
           }
          ],
          "heatmapgl": [
           {
            "colorbar": {
             "outlinewidth": 0,
             "ticks": ""
            },
            "colorscale": [
             [
              0,
              "#0d0887"
             ],
             [
              0.1111111111111111,
              "#46039f"
             ],
             [
              0.2222222222222222,
              "#7201a8"
             ],
             [
              0.3333333333333333,
              "#9c179e"
             ],
             [
              0.4444444444444444,
              "#bd3786"
             ],
             [
              0.5555555555555556,
              "#d8576b"
             ],
             [
              0.6666666666666666,
              "#ed7953"
             ],
             [
              0.7777777777777778,
              "#fb9f3a"
             ],
             [
              0.8888888888888888,
              "#fdca26"
             ],
             [
              1,
              "#f0f921"
             ]
            ],
            "type": "heatmapgl"
           }
          ],
          "histogram": [
           {
            "marker": {
             "pattern": {
              "fillmode": "overlay",
              "size": 10,
              "solidity": 0.2
             }
            },
            "type": "histogram"
           }
          ],
          "histogram2d": [
           {
            "colorbar": {
             "outlinewidth": 0,
             "ticks": ""
            },
            "colorscale": [
             [
              0,
              "#0d0887"
             ],
             [
              0.1111111111111111,
              "#46039f"
             ],
             [
              0.2222222222222222,
              "#7201a8"
             ],
             [
              0.3333333333333333,
              "#9c179e"
             ],
             [
              0.4444444444444444,
              "#bd3786"
             ],
             [
              0.5555555555555556,
              "#d8576b"
             ],
             [
              0.6666666666666666,
              "#ed7953"
             ],
             [
              0.7777777777777778,
              "#fb9f3a"
             ],
             [
              0.8888888888888888,
              "#fdca26"
             ],
             [
              1,
              "#f0f921"
             ]
            ],
            "type": "histogram2d"
           }
          ],
          "histogram2dcontour": [
           {
            "colorbar": {
             "outlinewidth": 0,
             "ticks": ""
            },
            "colorscale": [
             [
              0,
              "#0d0887"
             ],
             [
              0.1111111111111111,
              "#46039f"
             ],
             [
              0.2222222222222222,
              "#7201a8"
             ],
             [
              0.3333333333333333,
              "#9c179e"
             ],
             [
              0.4444444444444444,
              "#bd3786"
             ],
             [
              0.5555555555555556,
              "#d8576b"
             ],
             [
              0.6666666666666666,
              "#ed7953"
             ],
             [
              0.7777777777777778,
              "#fb9f3a"
             ],
             [
              0.8888888888888888,
              "#fdca26"
             ],
             [
              1,
              "#f0f921"
             ]
            ],
            "type": "histogram2dcontour"
           }
          ],
          "mesh3d": [
           {
            "colorbar": {
             "outlinewidth": 0,
             "ticks": ""
            },
            "type": "mesh3d"
           }
          ],
          "parcoords": [
           {
            "line": {
             "colorbar": {
              "outlinewidth": 0,
              "ticks": ""
             }
            },
            "type": "parcoords"
           }
          ],
          "pie": [
           {
            "automargin": true,
            "type": "pie"
           }
          ],
          "scatter": [
           {
            "fillpattern": {
             "fillmode": "overlay",
             "size": 10,
             "solidity": 0.2
            },
            "type": "scatter"
           }
          ],
          "scatter3d": [
           {
            "line": {
             "colorbar": {
              "outlinewidth": 0,
              "ticks": ""
             }
            },
            "marker": {
             "colorbar": {
              "outlinewidth": 0,
              "ticks": ""
             }
            },
            "type": "scatter3d"
           }
          ],
          "scattercarpet": [
           {
            "marker": {
             "colorbar": {
              "outlinewidth": 0,
              "ticks": ""
             }
            },
            "type": "scattercarpet"
           }
          ],
          "scattergeo": [
           {
            "marker": {
             "colorbar": {
              "outlinewidth": 0,
              "ticks": ""
             }
            },
            "type": "scattergeo"
           }
          ],
          "scattergl": [
           {
            "marker": {
             "colorbar": {
              "outlinewidth": 0,
              "ticks": ""
             }
            },
            "type": "scattergl"
           }
          ],
          "scattermapbox": [
           {
            "marker": {
             "colorbar": {
              "outlinewidth": 0,
              "ticks": ""
             }
            },
            "type": "scattermapbox"
           }
          ],
          "scatterpolar": [
           {
            "marker": {
             "colorbar": {
              "outlinewidth": 0,
              "ticks": ""
             }
            },
            "type": "scatterpolar"
           }
          ],
          "scatterpolargl": [
           {
            "marker": {
             "colorbar": {
              "outlinewidth": 0,
              "ticks": ""
             }
            },
            "type": "scatterpolargl"
           }
          ],
          "scatterternary": [
           {
            "marker": {
             "colorbar": {
              "outlinewidth": 0,
              "ticks": ""
             }
            },
            "type": "scatterternary"
           }
          ],
          "surface": [
           {
            "colorbar": {
             "outlinewidth": 0,
             "ticks": ""
            },
            "colorscale": [
             [
              0,
              "#0d0887"
             ],
             [
              0.1111111111111111,
              "#46039f"
             ],
             [
              0.2222222222222222,
              "#7201a8"
             ],
             [
              0.3333333333333333,
              "#9c179e"
             ],
             [
              0.4444444444444444,
              "#bd3786"
             ],
             [
              0.5555555555555556,
              "#d8576b"
             ],
             [
              0.6666666666666666,
              "#ed7953"
             ],
             [
              0.7777777777777778,
              "#fb9f3a"
             ],
             [
              0.8888888888888888,
              "#fdca26"
             ],
             [
              1,
              "#f0f921"
             ]
            ],
            "type": "surface"
           }
          ],
          "table": [
           {
            "cells": {
             "fill": {
              "color": "#EBF0F8"
             },
             "line": {
              "color": "white"
             }
            },
            "header": {
             "fill": {
              "color": "#C8D4E3"
             },
             "line": {
              "color": "white"
             }
            },
            "type": "table"
           }
          ]
         },
         "layout": {
          "annotationdefaults": {
           "arrowcolor": "#2a3f5f",
           "arrowhead": 0,
           "arrowwidth": 1
          },
          "autotypenumbers": "strict",
          "coloraxis": {
           "colorbar": {
            "outlinewidth": 0,
            "ticks": ""
           }
          },
          "colorscale": {
           "diverging": [
            [
             0,
             "#8e0152"
            ],
            [
             0.1,
             "#c51b7d"
            ],
            [
             0.2,
             "#de77ae"
            ],
            [
             0.3,
             "#f1b6da"
            ],
            [
             0.4,
             "#fde0ef"
            ],
            [
             0.5,
             "#f7f7f7"
            ],
            [
             0.6,
             "#e6f5d0"
            ],
            [
             0.7,
             "#b8e186"
            ],
            [
             0.8,
             "#7fbc41"
            ],
            [
             0.9,
             "#4d9221"
            ],
            [
             1,
             "#276419"
            ]
           ],
           "sequential": [
            [
             0,
             "#0d0887"
            ],
            [
             0.1111111111111111,
             "#46039f"
            ],
            [
             0.2222222222222222,
             "#7201a8"
            ],
            [
             0.3333333333333333,
             "#9c179e"
            ],
            [
             0.4444444444444444,
             "#bd3786"
            ],
            [
             0.5555555555555556,
             "#d8576b"
            ],
            [
             0.6666666666666666,
             "#ed7953"
            ],
            [
             0.7777777777777778,
             "#fb9f3a"
            ],
            [
             0.8888888888888888,
             "#fdca26"
            ],
            [
             1,
             "#f0f921"
            ]
           ],
           "sequentialminus": [
            [
             0,
             "#0d0887"
            ],
            [
             0.1111111111111111,
             "#46039f"
            ],
            [
             0.2222222222222222,
             "#7201a8"
            ],
            [
             0.3333333333333333,
             "#9c179e"
            ],
            [
             0.4444444444444444,
             "#bd3786"
            ],
            [
             0.5555555555555556,
             "#d8576b"
            ],
            [
             0.6666666666666666,
             "#ed7953"
            ],
            [
             0.7777777777777778,
             "#fb9f3a"
            ],
            [
             0.8888888888888888,
             "#fdca26"
            ],
            [
             1,
             "#f0f921"
            ]
           ]
          },
          "colorway": [
           "#636efa",
           "#EF553B",
           "#00cc96",
           "#ab63fa",
           "#FFA15A",
           "#19d3f3",
           "#FF6692",
           "#B6E880",
           "#FF97FF",
           "#FECB52"
          ],
          "font": {
           "color": "#2a3f5f"
          },
          "geo": {
           "bgcolor": "white",
           "lakecolor": "white",
           "landcolor": "#E5ECF6",
           "showlakes": true,
           "showland": true,
           "subunitcolor": "white"
          },
          "hoverlabel": {
           "align": "left"
          },
          "hovermode": "closest",
          "mapbox": {
           "style": "light"
          },
          "paper_bgcolor": "white",
          "plot_bgcolor": "#E5ECF6",
          "polar": {
           "angularaxis": {
            "gridcolor": "white",
            "linecolor": "white",
            "ticks": ""
           },
           "bgcolor": "#E5ECF6",
           "radialaxis": {
            "gridcolor": "white",
            "linecolor": "white",
            "ticks": ""
           }
          },
          "scene": {
           "xaxis": {
            "backgroundcolor": "#E5ECF6",
            "gridcolor": "white",
            "gridwidth": 2,
            "linecolor": "white",
            "showbackground": true,
            "ticks": "",
            "zerolinecolor": "white"
           },
           "yaxis": {
            "backgroundcolor": "#E5ECF6",
            "gridcolor": "white",
            "gridwidth": 2,
            "linecolor": "white",
            "showbackground": true,
            "ticks": "",
            "zerolinecolor": "white"
           },
           "zaxis": {
            "backgroundcolor": "#E5ECF6",
            "gridcolor": "white",
            "gridwidth": 2,
            "linecolor": "white",
            "showbackground": true,
            "ticks": "",
            "zerolinecolor": "white"
           }
          },
          "shapedefaults": {
           "line": {
            "color": "#2a3f5f"
           }
          },
          "ternary": {
           "aaxis": {
            "gridcolor": "white",
            "linecolor": "white",
            "ticks": ""
           },
           "baxis": {
            "gridcolor": "white",
            "linecolor": "white",
            "ticks": ""
           },
           "bgcolor": "#E5ECF6",
           "caxis": {
            "gridcolor": "white",
            "linecolor": "white",
            "ticks": ""
           }
          },
          "title": {
           "x": 0.05
          },
          "xaxis": {
           "automargin": true,
           "gridcolor": "white",
           "linecolor": "white",
           "ticks": "",
           "title": {
            "standoff": 15
           },
           "zerolinecolor": "white",
           "zerolinewidth": 2
          },
          "yaxis": {
           "automargin": true,
           "gridcolor": "white",
           "linecolor": "white",
           "ticks": "",
           "title": {
            "standoff": 15
           },
           "zerolinecolor": "white",
           "zerolinewidth": 2
          }
         }
        },
        "title": {
         "text": "Boxplot da F1-Score Balanceada do Classificador Sim/real 0"
        },
        "xaxis": {
         "anchor": "y",
         "domain": [
          0,
          1
         ],
         "title": {
          "text": "Nome"
         }
        },
        "yaxis": {
         "anchor": "x",
         "domain": [
          0,
          1
         ],
         "range": [
          0,
          1
         ],
         "title": {
          "text": "F1-score Balanceada"
         }
        }
       }
      }
     },
     "metadata": {},
     "output_type": "display_data"
    },
    {
     "data": {
      "application/vnd.plotly.v1+json": {
       "config": {
        "plotlyServerURL": "https://plot.ly"
       },
       "data": [
        {
         "alignmentgroup": "True",
         "boxpoints": "all",
         "hovertemplate": "Nome=%{x}<br>F1-score Balanceada=%{y}<extra></extra>",
         "legendgroup": "",
         "marker": {
          "color": "rgb(228,26,28)"
         },
         "name": "",
         "notched": false,
         "offsetgroup": "",
         "orientation": "v",
         "showlegend": false,
         "type": "box",
         "x": [
          "logreg",
          "KNN",
          "GaussianNB",
          "Perceptron",
          "LinearSVC",
          "SGD",
          "Dtree",
          "RForest",
          "ADA",
          "GBC",
          "ETC",
          "logreg",
          "KNN",
          "GaussianNB",
          "Perceptron",
          "LinearSVC",
          "SGD",
          "Dtree",
          "RForest",
          "ADA",
          "GBC",
          "ETC",
          "logreg",
          "KNN",
          "GaussianNB",
          "Perceptron",
          "LinearSVC",
          "SGD",
          "Dtree",
          "RForest",
          "ADA",
          "GBC",
          "ETC",
          "logreg",
          "KNN",
          "GaussianNB",
          "Perceptron",
          "LinearSVC",
          "SGD",
          "Dtree",
          "RForest",
          "ADA",
          "GBC",
          "ETC",
          "logreg",
          "KNN",
          "GaussianNB",
          "Perceptron",
          "LinearSVC",
          "SGD",
          "Dtree",
          "RForest",
          "ADA",
          "GBC",
          "ETC",
          "logreg",
          "KNN",
          "GaussianNB",
          "Perceptron",
          "LinearSVC",
          "SGD",
          "Dtree",
          "RForest",
          "ADA",
          "GBC",
          "ETC",
          "logreg",
          "KNN",
          "GaussianNB",
          "Perceptron",
          "LinearSVC",
          "SGD",
          "Dtree",
          "RForest",
          "ADA",
          "GBC",
          "ETC",
          "logreg",
          "KNN",
          "GaussianNB",
          "Perceptron",
          "LinearSVC",
          "SGD",
          "Dtree",
          "RForest",
          "ADA",
          "GBC",
          "ETC",
          "logreg",
          "KNN",
          "GaussianNB",
          "Perceptron",
          "LinearSVC",
          "SGD",
          "Dtree",
          "RForest",
          "ADA",
          "GBC",
          "ETC",
          "logreg",
          "KNN",
          "GaussianNB",
          "Perceptron",
          "LinearSVC",
          "SGD",
          "Dtree",
          "RForest",
          "ADA",
          "GBC",
          "ETC",
          "logreg",
          "KNN",
          "GaussianNB",
          "Perceptron",
          "LinearSVC",
          "SGD",
          "Dtree",
          "RForest",
          "ADA",
          "GBC",
          "ETC",
          "logreg",
          "KNN",
          "GaussianNB",
          "Perceptron",
          "LinearSVC",
          "SGD",
          "Dtree",
          "RForest",
          "ADA",
          "GBC",
          "ETC",
          "logreg",
          "KNN",
          "GaussianNB",
          "Perceptron",
          "LinearSVC",
          "SGD",
          "Dtree",
          "RForest",
          "ADA",
          "GBC",
          "ETC",
          "logreg",
          "KNN",
          "GaussianNB",
          "Perceptron",
          "LinearSVC",
          "SGD",
          "Dtree",
          "RForest",
          "ADA",
          "GBC",
          "ETC",
          "logreg",
          "KNN",
          "GaussianNB",
          "Perceptron",
          "LinearSVC",
          "SGD",
          "Dtree",
          "RForest",
          "ADA",
          "GBC",
          "ETC",
          "logreg",
          "KNN",
          "GaussianNB",
          "Perceptron",
          "LinearSVC",
          "SGD",
          "Dtree",
          "RForest",
          "ADA",
          "GBC",
          "ETC",
          "logreg",
          "KNN",
          "GaussianNB",
          "Perceptron",
          "LinearSVC",
          "SGD",
          "Dtree",
          "RForest",
          "ADA",
          "GBC",
          "ETC",
          "logreg",
          "KNN",
          "GaussianNB",
          "Perceptron",
          "LinearSVC",
          "SGD",
          "Dtree",
          "RForest",
          "ADA",
          "GBC",
          "ETC",
          "logreg",
          "KNN",
          "GaussianNB",
          "Perceptron",
          "LinearSVC",
          "SGD",
          "Dtree",
          "RForest",
          "ADA",
          "GBC",
          "ETC",
          "logreg",
          "KNN",
          "GaussianNB",
          "Perceptron",
          "LinearSVC",
          "SGD",
          "Dtree",
          "RForest",
          "ADA",
          "GBC",
          "ETC",
          "logreg",
          "KNN",
          "GaussianNB",
          "Perceptron",
          "LinearSVC",
          "SGD",
          "Dtree",
          "RForest",
          "ADA",
          "GBC",
          "ETC",
          "logreg",
          "KNN",
          "GaussianNB",
          "Perceptron",
          "LinearSVC",
          "SGD",
          "Dtree",
          "RForest",
          "ADA",
          "GBC",
          "ETC",
          "logreg",
          "KNN",
          "GaussianNB",
          "Perceptron",
          "LinearSVC",
          "SGD",
          "Dtree",
          "RForest",
          "ADA",
          "GBC",
          "ETC",
          "logreg",
          "KNN",
          "GaussianNB",
          "Perceptron",
          "LinearSVC",
          "SGD",
          "Dtree",
          "RForest",
          "ADA",
          "GBC",
          "ETC",
          "logreg",
          "KNN",
          "GaussianNB",
          "Perceptron",
          "LinearSVC",
          "SGD",
          "Dtree",
          "RForest",
          "ADA",
          "GBC",
          "ETC"
         ],
         "x0": " ",
         "xaxis": "x",
         "y": [
          0.0196329328664432,
          0.698090880018811,
          0.849523287337415,
          0.0193685976014775,
          0.0194567177999592,
          0.0197210277369422,
          0.823745655735556,
          0.8518236659877351,
          0.4907048152230428,
          0.2684550347231996,
          0.8040452507092484,
          0.0192804689578379,
          0.792673521059751,
          0.849523287337415,
          0.0190160323434803,
          0.0189352216102806,
          0.0193685976014775,
          0.3791692047067196,
          0.8371725758133132,
          0.37518131124089,
          0.3962979940702614,
          0.8486743510622723,
          0.0193685976014775,
          0.7691712952552269,
          0.849523287337415,
          0.0190160323434803,
          0.0189352216102806,
          0.0193685976014775,
          0.832669526445083,
          0.8474618849808266,
          0.2273485389475586,
          0.2655014727958781,
          0.8486686852636697,
          0.0191923318677913,
          0.7530339776871168,
          0.849523287337415,
          0.0189278699067167,
          0.0189352216102806,
          0.0193685976014775,
          0.842308021496367,
          0.8512688008662765,
          0.8556692904009406,
          0.7037599684635251,
          0.8525037776275316,
          0.0191041863300886,
          0.743792721710658,
          0.849523287337415,
          0.0189278699067167,
          0.0189352216102806,
          0.0191923318677913,
          0.8420725471963924,
          0.8806284850762721,
          0.1467998948732008,
          0.1010392750963426,
          0.8594459535146322,
          0.0197210277369422,
          0.700075314501986,
          0.849523287337415,
          0.0193759718822748,
          0.0195448295545316,
          0.0197210277369422,
          0.8333197769958602,
          0.84334486030193,
          0.2334284338488167,
          0.662871240137139,
          0.6472875028795199,
          0.0193685976014775,
          0.7928816743539093,
          0.849523287337415,
          0.0189352216102806,
          0.0189352216102806,
          0.0193685976014775,
          0.8265309638409394,
          0.8502075623498413,
          0.8027618346631538,
          0.409916785478152,
          0.6533851878145079,
          0.0193685976014775,
          0.7701436589656447,
          0.849523287337415,
          0.0189352216102806,
          0.0189352216102806,
          0.0194567177999592,
          0.1209946572903482,
          0.8638687518212017,
          0.8330538795774018,
          0.8632569911622763,
          0.8379179857289619,
          0.0193685976014775,
          0.7564355464854885,
          0.849523287337415,
          0.0190233885641107,
          0.0189352216102806,
          0.019441958469417,
          0.8901757068905584,
          0.8549779467434726,
          0.8492181045491761,
          0.2198468766208318,
          0.8337205793999223,
          0.0191115470669754,
          0.7405355775645818,
          0.849523287337415,
          0.0189352216102806,
          0.0189352216102806,
          0.0191923318677913,
          0.8620078501307551,
          0.857278598648582,
          0.1377713112472788,
          0.086795477698021,
          0.8219468142872581,
          0.0197284200649562,
          0.7352745755087862,
          0.849523287337415,
          0.0193759718822748,
          0.0195522128605552,
          0.0197136348290892,
          0.849523287337415,
          0.8471479669616714,
          0.4002620882345472,
          0.2569110132969813,
          0.8323191931606072,
          0.0193612227393632,
          0.8215025315237847,
          0.849523287337415,
          0.0189352216102806,
          0.0189352216102806,
          0.0193612227393632,
          0.7950335791710236,
          0.8402813568807678,
          0.397852076756813,
          0.3956965386989066,
          0.8200225639137116,
          0.0193685976014775,
          0.7964301917767528,
          0.849523287337415,
          0.0189352216102806,
          0.0189352216102806,
          0.0194493384251967,
          0.2570153425273879,
          0.8459798041264252,
          0.2478092292068736,
          0.2191590069019242,
          0.8373395812081081,
          0.0193612227393632,
          0.7859106014405349,
          0.849523287337415,
          0.0191849660334011,
          0.0189352216102806,
          0.0194493384251967,
          0.849523287337415,
          0.8473554314815904,
          0.2588906682097959,
          0.2631726746850193,
          0.8440766296457557,
          0.0191115470669754,
          0.7621045003815287,
          0.849523287337415,
          0.2218119132887085,
          0.0189352216102806,
          0.0191996971201246,
          0.1257076619115354,
          0.8173880289161582,
          0.8306951815797136,
          0.7455763737693671,
          0.8129505997633203,
          0.0197284200649562,
          0.7173026234825933,
          0.849523287337415,
          0.0193759718822748,
          0.0195522128605552,
          0.0197284200649562,
          0.138387358159237,
          0.8404926580898073,
          0.2482931168248359,
          0.2623921489949893,
          0.8210132948910138,
          0.0193759718822748,
          0.8069456985219592,
          0.849523287337415,
          0.0189352216102806,
          0.0189352216102806,
          0.0193759718822748,
          0.1226597118456625,
          0.7719930111488484,
          0.3971249622133684,
          0.1556069190626895,
          0.8352677716244831,
          0.0193759718822748,
          0.7845114570257975,
          0.849523287337415,
          0.0193759718822748,
          0.0189352216102806,
          0.0193759718822748,
          0.2424972841719133,
          0.8458010388463291,
          0.2582043241599343,
          0.2433834087148847,
          0.8427227073354937,
          0.0193759718822748,
          0.7661028462052945,
          0.849523287337415,
          0.0190233885641107,
          0.0189352216102806,
          0.0194640965937742,
          0.8446860941453176,
          0.8521943950408476,
          0.2253103203056707,
          0.5387687835371995,
          0.8483250090233192,
          0.0191115470669754,
          0.7524983541516728,
          0.849523287337415,
          0.0190233885641107,
          0.0189352216102806,
          0.0191996971201246,
          0.0525593406580604,
          0.838246350290944,
          0.1466493676142538,
          0.1049916927815276,
          0.807080394980532,
          0.0198897902328239,
          0.737622044423909,
          0.849523287337415,
          0.0197136348290892,
          0.0197136348290892,
          0.0197136348290892,
          0.2351202886296568,
          0.2683495098573948,
          0.2564404911703619,
          0.2883318255208794,
          0.8202128387608734,
          0.0199778552787759,
          0.8346862077137306,
          0.849523287337415,
          0.0190233885641107,
          0.0189352216102806,
          0.0193612227393632,
          0.2923820802851138,
          0.8424167184861382,
          0.7954018948636419,
          0.559008168993659,
          0.7820467039448653,
          0.0197136348290892,
          0.7993696946907202,
          0.849523287337415,
          0.0189352216102806,
          0.0189352216102806,
          0.0195374456679301,
          0.2579029098127609,
          0.8469459408593643,
          0.834921063375353,
          0.2686053362692099,
          0.8457422257504472,
          0.5423440100246952,
          0.8007070553040538,
          0.849523287337415,
          0.0189352216102806,
          0.0189352216102806,
          0.0194493384251967,
          0.0495929674794095,
          0.8564821478933191,
          0.2342844376584112,
          0.3146181723718239,
          0.8479943880954175,
          0.0192730986091809,
          0.8123273311962311,
          0.849523287337415,
          0.0190160323434803,
          0.0189352216102806,
          0.0191849660334011,
          0.8314724755025767,
          0.8484281591360349,
          0.2221948857234753,
          0.1176358270949556,
          0.8045995413535495
         ],
         "y0": " ",
         "yaxis": "y"
        }
       ],
       "layout": {
        "boxmode": "group",
        "legend": {
         "tracegroupgap": 0
        },
        "template": {
         "data": {
          "bar": [
           {
            "error_x": {
             "color": "#2a3f5f"
            },
            "error_y": {
             "color": "#2a3f5f"
            },
            "marker": {
             "line": {
              "color": "#E5ECF6",
              "width": 0.5
             },
             "pattern": {
              "fillmode": "overlay",
              "size": 10,
              "solidity": 0.2
             }
            },
            "type": "bar"
           }
          ],
          "barpolar": [
           {
            "marker": {
             "line": {
              "color": "#E5ECF6",
              "width": 0.5
             },
             "pattern": {
              "fillmode": "overlay",
              "size": 10,
              "solidity": 0.2
             }
            },
            "type": "barpolar"
           }
          ],
          "carpet": [
           {
            "aaxis": {
             "endlinecolor": "#2a3f5f",
             "gridcolor": "white",
             "linecolor": "white",
             "minorgridcolor": "white",
             "startlinecolor": "#2a3f5f"
            },
            "baxis": {
             "endlinecolor": "#2a3f5f",
             "gridcolor": "white",
             "linecolor": "white",
             "minorgridcolor": "white",
             "startlinecolor": "#2a3f5f"
            },
            "type": "carpet"
           }
          ],
          "choropleth": [
           {
            "colorbar": {
             "outlinewidth": 0,
             "ticks": ""
            },
            "type": "choropleth"
           }
          ],
          "contour": [
           {
            "colorbar": {
             "outlinewidth": 0,
             "ticks": ""
            },
            "colorscale": [
             [
              0,
              "#0d0887"
             ],
             [
              0.1111111111111111,
              "#46039f"
             ],
             [
              0.2222222222222222,
              "#7201a8"
             ],
             [
              0.3333333333333333,
              "#9c179e"
             ],
             [
              0.4444444444444444,
              "#bd3786"
             ],
             [
              0.5555555555555556,
              "#d8576b"
             ],
             [
              0.6666666666666666,
              "#ed7953"
             ],
             [
              0.7777777777777778,
              "#fb9f3a"
             ],
             [
              0.8888888888888888,
              "#fdca26"
             ],
             [
              1,
              "#f0f921"
             ]
            ],
            "type": "contour"
           }
          ],
          "contourcarpet": [
           {
            "colorbar": {
             "outlinewidth": 0,
             "ticks": ""
            },
            "type": "contourcarpet"
           }
          ],
          "heatmap": [
           {
            "colorbar": {
             "outlinewidth": 0,
             "ticks": ""
            },
            "colorscale": [
             [
              0,
              "#0d0887"
             ],
             [
              0.1111111111111111,
              "#46039f"
             ],
             [
              0.2222222222222222,
              "#7201a8"
             ],
             [
              0.3333333333333333,
              "#9c179e"
             ],
             [
              0.4444444444444444,
              "#bd3786"
             ],
             [
              0.5555555555555556,
              "#d8576b"
             ],
             [
              0.6666666666666666,
              "#ed7953"
             ],
             [
              0.7777777777777778,
              "#fb9f3a"
             ],
             [
              0.8888888888888888,
              "#fdca26"
             ],
             [
              1,
              "#f0f921"
             ]
            ],
            "type": "heatmap"
           }
          ],
          "heatmapgl": [
           {
            "colorbar": {
             "outlinewidth": 0,
             "ticks": ""
            },
            "colorscale": [
             [
              0,
              "#0d0887"
             ],
             [
              0.1111111111111111,
              "#46039f"
             ],
             [
              0.2222222222222222,
              "#7201a8"
             ],
             [
              0.3333333333333333,
              "#9c179e"
             ],
             [
              0.4444444444444444,
              "#bd3786"
             ],
             [
              0.5555555555555556,
              "#d8576b"
             ],
             [
              0.6666666666666666,
              "#ed7953"
             ],
             [
              0.7777777777777778,
              "#fb9f3a"
             ],
             [
              0.8888888888888888,
              "#fdca26"
             ],
             [
              1,
              "#f0f921"
             ]
            ],
            "type": "heatmapgl"
           }
          ],
          "histogram": [
           {
            "marker": {
             "pattern": {
              "fillmode": "overlay",
              "size": 10,
              "solidity": 0.2
             }
            },
            "type": "histogram"
           }
          ],
          "histogram2d": [
           {
            "colorbar": {
             "outlinewidth": 0,
             "ticks": ""
            },
            "colorscale": [
             [
              0,
              "#0d0887"
             ],
             [
              0.1111111111111111,
              "#46039f"
             ],
             [
              0.2222222222222222,
              "#7201a8"
             ],
             [
              0.3333333333333333,
              "#9c179e"
             ],
             [
              0.4444444444444444,
              "#bd3786"
             ],
             [
              0.5555555555555556,
              "#d8576b"
             ],
             [
              0.6666666666666666,
              "#ed7953"
             ],
             [
              0.7777777777777778,
              "#fb9f3a"
             ],
             [
              0.8888888888888888,
              "#fdca26"
             ],
             [
              1,
              "#f0f921"
             ]
            ],
            "type": "histogram2d"
           }
          ],
          "histogram2dcontour": [
           {
            "colorbar": {
             "outlinewidth": 0,
             "ticks": ""
            },
            "colorscale": [
             [
              0,
              "#0d0887"
             ],
             [
              0.1111111111111111,
              "#46039f"
             ],
             [
              0.2222222222222222,
              "#7201a8"
             ],
             [
              0.3333333333333333,
              "#9c179e"
             ],
             [
              0.4444444444444444,
              "#bd3786"
             ],
             [
              0.5555555555555556,
              "#d8576b"
             ],
             [
              0.6666666666666666,
              "#ed7953"
             ],
             [
              0.7777777777777778,
              "#fb9f3a"
             ],
             [
              0.8888888888888888,
              "#fdca26"
             ],
             [
              1,
              "#f0f921"
             ]
            ],
            "type": "histogram2dcontour"
           }
          ],
          "mesh3d": [
           {
            "colorbar": {
             "outlinewidth": 0,
             "ticks": ""
            },
            "type": "mesh3d"
           }
          ],
          "parcoords": [
           {
            "line": {
             "colorbar": {
              "outlinewidth": 0,
              "ticks": ""
             }
            },
            "type": "parcoords"
           }
          ],
          "pie": [
           {
            "automargin": true,
            "type": "pie"
           }
          ],
          "scatter": [
           {
            "fillpattern": {
             "fillmode": "overlay",
             "size": 10,
             "solidity": 0.2
            },
            "type": "scatter"
           }
          ],
          "scatter3d": [
           {
            "line": {
             "colorbar": {
              "outlinewidth": 0,
              "ticks": ""
             }
            },
            "marker": {
             "colorbar": {
              "outlinewidth": 0,
              "ticks": ""
             }
            },
            "type": "scatter3d"
           }
          ],
          "scattercarpet": [
           {
            "marker": {
             "colorbar": {
              "outlinewidth": 0,
              "ticks": ""
             }
            },
            "type": "scattercarpet"
           }
          ],
          "scattergeo": [
           {
            "marker": {
             "colorbar": {
              "outlinewidth": 0,
              "ticks": ""
             }
            },
            "type": "scattergeo"
           }
          ],
          "scattergl": [
           {
            "marker": {
             "colorbar": {
              "outlinewidth": 0,
              "ticks": ""
             }
            },
            "type": "scattergl"
           }
          ],
          "scattermapbox": [
           {
            "marker": {
             "colorbar": {
              "outlinewidth": 0,
              "ticks": ""
             }
            },
            "type": "scattermapbox"
           }
          ],
          "scatterpolar": [
           {
            "marker": {
             "colorbar": {
              "outlinewidth": 0,
              "ticks": ""
             }
            },
            "type": "scatterpolar"
           }
          ],
          "scatterpolargl": [
           {
            "marker": {
             "colorbar": {
              "outlinewidth": 0,
              "ticks": ""
             }
            },
            "type": "scatterpolargl"
           }
          ],
          "scatterternary": [
           {
            "marker": {
             "colorbar": {
              "outlinewidth": 0,
              "ticks": ""
             }
            },
            "type": "scatterternary"
           }
          ],
          "surface": [
           {
            "colorbar": {
             "outlinewidth": 0,
             "ticks": ""
            },
            "colorscale": [
             [
              0,
              "#0d0887"
             ],
             [
              0.1111111111111111,
              "#46039f"
             ],
             [
              0.2222222222222222,
              "#7201a8"
             ],
             [
              0.3333333333333333,
              "#9c179e"
             ],
             [
              0.4444444444444444,
              "#bd3786"
             ],
             [
              0.5555555555555556,
              "#d8576b"
             ],
             [
              0.6666666666666666,
              "#ed7953"
             ],
             [
              0.7777777777777778,
              "#fb9f3a"
             ],
             [
              0.8888888888888888,
              "#fdca26"
             ],
             [
              1,
              "#f0f921"
             ]
            ],
            "type": "surface"
           }
          ],
          "table": [
           {
            "cells": {
             "fill": {
              "color": "#EBF0F8"
             },
             "line": {
              "color": "white"
             }
            },
            "header": {
             "fill": {
              "color": "#C8D4E3"
             },
             "line": {
              "color": "white"
             }
            },
            "type": "table"
           }
          ]
         },
         "layout": {
          "annotationdefaults": {
           "arrowcolor": "#2a3f5f",
           "arrowhead": 0,
           "arrowwidth": 1
          },
          "autotypenumbers": "strict",
          "coloraxis": {
           "colorbar": {
            "outlinewidth": 0,
            "ticks": ""
           }
          },
          "colorscale": {
           "diverging": [
            [
             0,
             "#8e0152"
            ],
            [
             0.1,
             "#c51b7d"
            ],
            [
             0.2,
             "#de77ae"
            ],
            [
             0.3,
             "#f1b6da"
            ],
            [
             0.4,
             "#fde0ef"
            ],
            [
             0.5,
             "#f7f7f7"
            ],
            [
             0.6,
             "#e6f5d0"
            ],
            [
             0.7,
             "#b8e186"
            ],
            [
             0.8,
             "#7fbc41"
            ],
            [
             0.9,
             "#4d9221"
            ],
            [
             1,
             "#276419"
            ]
           ],
           "sequential": [
            [
             0,
             "#0d0887"
            ],
            [
             0.1111111111111111,
             "#46039f"
            ],
            [
             0.2222222222222222,
             "#7201a8"
            ],
            [
             0.3333333333333333,
             "#9c179e"
            ],
            [
             0.4444444444444444,
             "#bd3786"
            ],
            [
             0.5555555555555556,
             "#d8576b"
            ],
            [
             0.6666666666666666,
             "#ed7953"
            ],
            [
             0.7777777777777778,
             "#fb9f3a"
            ],
            [
             0.8888888888888888,
             "#fdca26"
            ],
            [
             1,
             "#f0f921"
            ]
           ],
           "sequentialminus": [
            [
             0,
             "#0d0887"
            ],
            [
             0.1111111111111111,
             "#46039f"
            ],
            [
             0.2222222222222222,
             "#7201a8"
            ],
            [
             0.3333333333333333,
             "#9c179e"
            ],
            [
             0.4444444444444444,
             "#bd3786"
            ],
            [
             0.5555555555555556,
             "#d8576b"
            ],
            [
             0.6666666666666666,
             "#ed7953"
            ],
            [
             0.7777777777777778,
             "#fb9f3a"
            ],
            [
             0.8888888888888888,
             "#fdca26"
            ],
            [
             1,
             "#f0f921"
            ]
           ]
          },
          "colorway": [
           "#636efa",
           "#EF553B",
           "#00cc96",
           "#ab63fa",
           "#FFA15A",
           "#19d3f3",
           "#FF6692",
           "#B6E880",
           "#FF97FF",
           "#FECB52"
          ],
          "font": {
           "color": "#2a3f5f"
          },
          "geo": {
           "bgcolor": "white",
           "lakecolor": "white",
           "landcolor": "#E5ECF6",
           "showlakes": true,
           "showland": true,
           "subunitcolor": "white"
          },
          "hoverlabel": {
           "align": "left"
          },
          "hovermode": "closest",
          "mapbox": {
           "style": "light"
          },
          "paper_bgcolor": "white",
          "plot_bgcolor": "#E5ECF6",
          "polar": {
           "angularaxis": {
            "gridcolor": "white",
            "linecolor": "white",
            "ticks": ""
           },
           "bgcolor": "#E5ECF6",
           "radialaxis": {
            "gridcolor": "white",
            "linecolor": "white",
            "ticks": ""
           }
          },
          "scene": {
           "xaxis": {
            "backgroundcolor": "#E5ECF6",
            "gridcolor": "white",
            "gridwidth": 2,
            "linecolor": "white",
            "showbackground": true,
            "ticks": "",
            "zerolinecolor": "white"
           },
           "yaxis": {
            "backgroundcolor": "#E5ECF6",
            "gridcolor": "white",
            "gridwidth": 2,
            "linecolor": "white",
            "showbackground": true,
            "ticks": "",
            "zerolinecolor": "white"
           },
           "zaxis": {
            "backgroundcolor": "#E5ECF6",
            "gridcolor": "white",
            "gridwidth": 2,
            "linecolor": "white",
            "showbackground": true,
            "ticks": "",
            "zerolinecolor": "white"
           }
          },
          "shapedefaults": {
           "line": {
            "color": "#2a3f5f"
           }
          },
          "ternary": {
           "aaxis": {
            "gridcolor": "white",
            "linecolor": "white",
            "ticks": ""
           },
           "baxis": {
            "gridcolor": "white",
            "linecolor": "white",
            "ticks": ""
           },
           "bgcolor": "#E5ECF6",
           "caxis": {
            "gridcolor": "white",
            "linecolor": "white",
            "ticks": ""
           }
          },
          "title": {
           "x": 0.05
          },
          "xaxis": {
           "automargin": true,
           "gridcolor": "white",
           "linecolor": "white",
           "ticks": "",
           "title": {
            "standoff": 15
           },
           "zerolinecolor": "white",
           "zerolinewidth": 2
          },
          "yaxis": {
           "automargin": true,
           "gridcolor": "white",
           "linecolor": "white",
           "ticks": "",
           "title": {
            "standoff": 15
           },
           "zerolinecolor": "white",
           "zerolinewidth": 2
          }
         }
        },
        "title": {
         "text": "Boxplot da Acurácia Balanceada do classificador Sim/real sem features de temperatura"
        },
        "xaxis": {
         "anchor": "y",
         "domain": [
          0,
          1
         ],
         "title": {
          "text": "Nome"
         }
        },
        "yaxis": {
         "anchor": "x",
         "domain": [
          0,
          1
         ],
         "range": [
          0,
          1
         ],
         "title": {
          "text": "F1-score Balanceada"
         }
        }
       }
      }
     },
     "metadata": {},
     "output_type": "display_data"
    },
    {
     "data": {
      "application/vnd.plotly.v1+json": {
       "config": {
        "plotlyServerURL": "https://plot.ly"
       },
       "data": [
        {
         "alignmentgroup": "True",
         "boxpoints": "all",
         "hovertemplate": "Nome=%{x}<br>F1-score Balanceada=%{y}<extra></extra>",
         "legendgroup": "",
         "marker": {
          "color": "#636efa"
         },
         "name": "",
         "notched": false,
         "offsetgroup": "",
         "orientation": "v",
         "showlegend": false,
         "type": "box",
         "x": [
          "logreg",
          "KNN",
          "GaussianNB",
          "Perceptron",
          "LinearSVC",
          "SGD",
          "Dtree",
          "RForest",
          "ADA",
          "GBC",
          "ETC",
          "logreg",
          "KNN",
          "GaussianNB",
          "Perceptron",
          "LinearSVC",
          "SGD",
          "Dtree",
          "RForest",
          "ADA",
          "GBC",
          "ETC",
          "logreg",
          "KNN",
          "GaussianNB",
          "Perceptron",
          "LinearSVC",
          "SGD",
          "Dtree",
          "RForest",
          "ADA",
          "GBC",
          "ETC",
          "logreg",
          "KNN",
          "GaussianNB",
          "Perceptron",
          "LinearSVC",
          "SGD",
          "Dtree",
          "RForest",
          "ADA",
          "GBC",
          "ETC",
          "logreg",
          "KNN",
          "GaussianNB",
          "Perceptron",
          "LinearSVC",
          "SGD",
          "Dtree",
          "RForest",
          "ADA",
          "GBC",
          "ETC",
          "logreg",
          "KNN",
          "GaussianNB",
          "Perceptron",
          "LinearSVC",
          "SGD",
          "Dtree",
          "RForest",
          "ADA",
          "GBC",
          "ETC",
          "logreg",
          "KNN",
          "GaussianNB",
          "Perceptron",
          "LinearSVC",
          "SGD",
          "Dtree",
          "RForest",
          "ADA",
          "GBC",
          "ETC",
          "logreg",
          "KNN",
          "GaussianNB",
          "Perceptron",
          "LinearSVC",
          "SGD",
          "Dtree",
          "RForest",
          "ADA",
          "GBC",
          "ETC",
          "logreg",
          "KNN",
          "GaussianNB",
          "Perceptron",
          "LinearSVC",
          "SGD",
          "Dtree",
          "RForest",
          "ADA",
          "GBC",
          "ETC",
          "logreg",
          "KNN",
          "GaussianNB",
          "Perceptron",
          "LinearSVC",
          "SGD",
          "Dtree",
          "RForest",
          "ADA",
          "GBC",
          "ETC",
          "logreg",
          "KNN",
          "GaussianNB",
          "Perceptron",
          "LinearSVC",
          "SGD",
          "Dtree",
          "RForest",
          "ADA",
          "GBC",
          "ETC",
          "logreg",
          "KNN",
          "GaussianNB",
          "Perceptron",
          "LinearSVC",
          "SGD",
          "Dtree",
          "RForest",
          "ADA",
          "GBC",
          "ETC",
          "logreg",
          "KNN",
          "GaussianNB",
          "Perceptron",
          "LinearSVC",
          "SGD",
          "Dtree",
          "RForest",
          "ADA",
          "GBC",
          "ETC",
          "logreg",
          "KNN",
          "GaussianNB",
          "Perceptron",
          "LinearSVC",
          "SGD",
          "Dtree",
          "RForest",
          "ADA",
          "GBC",
          "ETC",
          "logreg",
          "KNN",
          "GaussianNB",
          "Perceptron",
          "LinearSVC",
          "SGD",
          "Dtree",
          "RForest",
          "ADA",
          "GBC",
          "ETC",
          "logreg",
          "KNN",
          "GaussianNB",
          "Perceptron",
          "LinearSVC",
          "SGD",
          "Dtree",
          "RForest",
          "ADA",
          "GBC",
          "ETC",
          "logreg",
          "KNN",
          "GaussianNB",
          "Perceptron",
          "LinearSVC",
          "SGD",
          "Dtree",
          "RForest",
          "ADA",
          "GBC",
          "ETC",
          "logreg",
          "KNN",
          "GaussianNB",
          "Perceptron",
          "LinearSVC",
          "SGD",
          "Dtree",
          "RForest",
          "ADA",
          "GBC",
          "ETC",
          "logreg",
          "KNN",
          "GaussianNB",
          "Perceptron",
          "LinearSVC",
          "SGD",
          "Dtree",
          "RForest",
          "ADA",
          "GBC",
          "ETC",
          "logreg",
          "KNN",
          "GaussianNB",
          "Perceptron",
          "LinearSVC",
          "SGD",
          "Dtree",
          "RForest",
          "ADA",
          "GBC",
          "ETC",
          "logreg",
          "KNN",
          "GaussianNB",
          "Perceptron",
          "LinearSVC",
          "SGD",
          "Dtree",
          "RForest",
          "ADA",
          "GBC",
          "ETC",
          "logreg",
          "KNN",
          "GaussianNB",
          "Perceptron",
          "LinearSVC",
          "SGD",
          "Dtree",
          "RForest",
          "ADA",
          "GBC",
          "ETC",
          "logreg",
          "KNN",
          "GaussianNB",
          "Perceptron",
          "LinearSVC",
          "SGD",
          "Dtree",
          "RForest",
          "ADA",
          "GBC",
          "ETC",
          "logreg",
          "KNN",
          "GaussianNB",
          "Perceptron",
          "LinearSVC",
          "SGD",
          "Dtree",
          "RForest",
          "ADA",
          "GBC",
          "ETC",
          "logreg",
          "KNN",
          "GaussianNB",
          "Perceptron",
          "LinearSVC",
          "SGD",
          "Dtree",
          "RForest",
          "ADA",
          "GBC",
          "ETC"
         ],
         "x0": " ",
         "xaxis": "x",
         "y": [
          0.0189352216102806,
          0.4661495224296064,
          0.849523287337415,
          0.0189352216102806,
          0.0189352216102806,
          0.0189352216102806,
          0.0868350606166975,
          0.8691721177406936,
          0.2373771493225761,
          0.1574988668584717,
          0.3635932864447517,
          0.0189352216102806,
          0.6623048895908468,
          0.849523287337415,
          0.0189352216102806,
          0.0189352216102806,
          0.0189352216102806,
          0.7411789020686299,
          0.8158011595910762,
          0.298129791342674,
          0.283074747327095,
          0.5464225290231896,
          0.0189352216102806,
          0.5567541867670956,
          0.849523287337415,
          0.0189352216102806,
          0.0189352216102806,
          0.0189352216102806,
          0.8373514097547212,
          0.775128403752658,
          0.2388400133672953,
          0.215701613928145,
          0.689953859831491,
          0.0189352216102806,
          0.4435317442987335,
          0.849523287337415,
          0.0189352216102806,
          0.0189352216102806,
          0.0189352216102806,
          0.8881350633562122,
          0.7066605160720387,
          0.1818423816189984,
          0.065547370613953,
          0.3909644151555729,
          0.0189352216102806,
          0.6262854668586564,
          0.849523287337415,
          0.0189352216102806,
          0.0189352216102806,
          0.0189352216102806,
          0.858197358446291,
          0.8162114768194515,
          0.106899919468644,
          0.0642044378757727,
          0.6558175317930972,
          0.0189352216102806,
          0.458741902493467,
          0.849523287337415,
          0.0189352216102806,
          0.0189352216102806,
          0.0189352216102806,
          0.0449205697142872,
          0.6019267911331536,
          0.0584976783950029,
          0.2253519308212919,
          0.1707877045021389,
          0.0189352216102806,
          0.6371435176621633,
          0.849523287337415,
          0.0189352216102806,
          0.0189352216102806,
          0.0189352216102806,
          0.8341740544698975,
          0.5771494692672886,
          0.3154477724372804,
          0.2821116384885858,
          0.2907473006480897,
          0.0189352216102806,
          0.5447251839564166,
          0.849523287337415,
          0.0189352216102806,
          0.0189352216102806,
          0.0189352216102806,
          0.8537758625530736,
          0.7273153907316251,
          0.2042439292972672,
          0.1958863337529372,
          0.1415555975279197,
          0.0189352216102806,
          0.4298193706989855,
          0.849523287337415,
          0.0189352216102806,
          0.0189352216102806,
          0.0189352216102806,
          0.8151274437224012,
          0.83592308639041,
          0.2033237555648563,
          0.1136404170936704,
          0.1699791008076055,
          0.0189352216102806,
          0.6015230777530962,
          0.849523287337415,
          0.0189352216102806,
          0.0189352216102806,
          0.0189352216102806,
          0.0152927307732563,
          0.0407953824875279,
          0.0948590859878621,
          0.0138303901627054,
          0.072804300638572,
          0.0189352216102806,
          0.5171084909301207,
          0.849523287337415,
          0.0189352216102806,
          0.0189352216102806,
          0.0189352216102806,
          0.0583662918406763,
          0.1092797478873238,
          0.2187198382873442,
          0.136084888754662,
          0.2797675776321915,
          0.0189352216102806,
          0.6955519493629406,
          0.849523287337415,
          0.0189352216102806,
          0.0189352216102806,
          0.0189352216102806,
          0.785659380383899,
          0.4285633518958111,
          0.3877566668471505,
          0.2287803638032266,
          0.7934045868484432,
          0.0189352216102806,
          0.5942083424210098,
          0.849523287337415,
          0.0189352216102806,
          0.0189352216102806,
          0.0189352216102806,
          0.8471967360208745,
          0.8310389074916922,
          0.2206303383882872,
          0.2082891015622292,
          0.5707427030650546,
          0.0189352216102806,
          0.4791238911304644,
          0.849523287337415,
          0.0189352216102806,
          0.0189352216102806,
          0.0189352216102806,
          0.5592445673035467,
          0.8360058359048027,
          0.0558296690760192,
          0.1058926845490183,
          0.8149405311392782,
          0.0189352216102806,
          0.6639826081106686,
          0.849523287337415,
          0.0189352216102806,
          0.0189352216102806,
          0.0189352216102806,
          0.849501947420195,
          0.1551211224363213,
          0.1386192447996801,
          0.0898129919864076,
          0.0644709890381918,
          0.0189352216102806,
          0.4693331997876436,
          0.849523287337415,
          0.0189352216102806,
          0.0189352216102806,
          0.0189352216102806,
          0.8655739618215533,
          0.4773284890687503,
          0.1808282019204462,
          0.5197764573813491,
          0.0894395782279541,
          0.0189352216102806,
          0.6616333126148431,
          0.849523287337415,
          0.0189352216102806,
          0.0189352216102806,
          0.0189352216102806,
          0.1436540125870054,
          0.6826447575696203,
          0.2261650030530796,
          0.3337109474776558,
          0.2442107225115387,
          0.0189352216102806,
          0.5566092834720521,
          0.849523287337415,
          0.0189352216102806,
          0.0189352216102806,
          0.0189352216102806,
          0.8550828453089734,
          0.8545570891458603,
          0.2080398821179028,
          0.2091544606501907,
          0.1909338513456363,
          0.0189352216102806,
          0.4495649382295105,
          0.849523287337415,
          0.0189352216102806,
          0.0189352216102806,
          0.0189352216102806,
          0.1136287694098836,
          0.8367027511126179,
          0.2354075421536103,
          0.0761168757186774,
          0.3824997469905669,
          0.0189352216102806,
          0.6243156975645823,
          0.849523287337415,
          0.0189352216102806,
          0.0189352216102806,
          0.0189352216102806,
          0.4857725705098351,
          0.798191130492742,
          0.0627623234737078,
          0.0175225745697381,
          0.0377224274581796,
          0.0189352216102806,
          0.5099499412619429,
          0.849523287337415,
          0.0189352216102806,
          0.0189352216102806,
          0.0189352216102806,
          0.8236923361248665,
          0.1428439464659339,
          0.3133913688340289,
          0.7389934939593461,
          0.1031439929634513,
          0.0189352216102806,
          0.6963397168966198,
          0.849523287337415,
          0.0189352216102806,
          0.0189352216102806,
          0.0189352216102806,
          0.1536686698230077,
          0.7805362764795029,
          0.3337858027723149,
          0.3708836502792428,
          0.6476188315710739,
          0.0189352216102806,
          0.5950831440483236,
          0.849523287337415,
          0.0189352216102806,
          0.0189352216102806,
          0.0189352216102806,
          0.1013265864819924,
          0.743664450002896,
          0.2491945724561347,
          0.2238438937582294,
          0.2046067381577864,
          0.0189352216102806,
          0.4739626417419137,
          0.849523287337415,
          0.0189352216102806,
          0.0189352216102806,
          0.0189352216102806,
          0.0600372132664748,
          0.5280712872703512,
          0.1841054696639208,
          0.2509654575243649,
          0.3234623711358393,
          0.0189352216102806,
          0.6931697762856079,
          0.849523287337415,
          0.0189352216102806,
          0.0189352216102806,
          0.0189352216102806,
          0.0406994861609008,
          0.7690343101969263,
          0.0781012179275997,
          0.0209905343932634,
          0.1336544587839006
         ],
         "y0": " ",
         "yaxis": "y"
        }
       ],
       "layout": {
        "boxmode": "group",
        "legend": {
         "tracegroupgap": 0
        },
        "template": {
         "data": {
          "bar": [
           {
            "error_x": {
             "color": "#2a3f5f"
            },
            "error_y": {
             "color": "#2a3f5f"
            },
            "marker": {
             "line": {
              "color": "#E5ECF6",
              "width": 0.5
             },
             "pattern": {
              "fillmode": "overlay",
              "size": 10,
              "solidity": 0.2
             }
            },
            "type": "bar"
           }
          ],
          "barpolar": [
           {
            "marker": {
             "line": {
              "color": "#E5ECF6",
              "width": 0.5
             },
             "pattern": {
              "fillmode": "overlay",
              "size": 10,
              "solidity": 0.2
             }
            },
            "type": "barpolar"
           }
          ],
          "carpet": [
           {
            "aaxis": {
             "endlinecolor": "#2a3f5f",
             "gridcolor": "white",
             "linecolor": "white",
             "minorgridcolor": "white",
             "startlinecolor": "#2a3f5f"
            },
            "baxis": {
             "endlinecolor": "#2a3f5f",
             "gridcolor": "white",
             "linecolor": "white",
             "minorgridcolor": "white",
             "startlinecolor": "#2a3f5f"
            },
            "type": "carpet"
           }
          ],
          "choropleth": [
           {
            "colorbar": {
             "outlinewidth": 0,
             "ticks": ""
            },
            "type": "choropleth"
           }
          ],
          "contour": [
           {
            "colorbar": {
             "outlinewidth": 0,
             "ticks": ""
            },
            "colorscale": [
             [
              0,
              "#0d0887"
             ],
             [
              0.1111111111111111,
              "#46039f"
             ],
             [
              0.2222222222222222,
              "#7201a8"
             ],
             [
              0.3333333333333333,
              "#9c179e"
             ],
             [
              0.4444444444444444,
              "#bd3786"
             ],
             [
              0.5555555555555556,
              "#d8576b"
             ],
             [
              0.6666666666666666,
              "#ed7953"
             ],
             [
              0.7777777777777778,
              "#fb9f3a"
             ],
             [
              0.8888888888888888,
              "#fdca26"
             ],
             [
              1,
              "#f0f921"
             ]
            ],
            "type": "contour"
           }
          ],
          "contourcarpet": [
           {
            "colorbar": {
             "outlinewidth": 0,
             "ticks": ""
            },
            "type": "contourcarpet"
           }
          ],
          "heatmap": [
           {
            "colorbar": {
             "outlinewidth": 0,
             "ticks": ""
            },
            "colorscale": [
             [
              0,
              "#0d0887"
             ],
             [
              0.1111111111111111,
              "#46039f"
             ],
             [
              0.2222222222222222,
              "#7201a8"
             ],
             [
              0.3333333333333333,
              "#9c179e"
             ],
             [
              0.4444444444444444,
              "#bd3786"
             ],
             [
              0.5555555555555556,
              "#d8576b"
             ],
             [
              0.6666666666666666,
              "#ed7953"
             ],
             [
              0.7777777777777778,
              "#fb9f3a"
             ],
             [
              0.8888888888888888,
              "#fdca26"
             ],
             [
              1,
              "#f0f921"
             ]
            ],
            "type": "heatmap"
           }
          ],
          "heatmapgl": [
           {
            "colorbar": {
             "outlinewidth": 0,
             "ticks": ""
            },
            "colorscale": [
             [
              0,
              "#0d0887"
             ],
             [
              0.1111111111111111,
              "#46039f"
             ],
             [
              0.2222222222222222,
              "#7201a8"
             ],
             [
              0.3333333333333333,
              "#9c179e"
             ],
             [
              0.4444444444444444,
              "#bd3786"
             ],
             [
              0.5555555555555556,
              "#d8576b"
             ],
             [
              0.6666666666666666,
              "#ed7953"
             ],
             [
              0.7777777777777778,
              "#fb9f3a"
             ],
             [
              0.8888888888888888,
              "#fdca26"
             ],
             [
              1,
              "#f0f921"
             ]
            ],
            "type": "heatmapgl"
           }
          ],
          "histogram": [
           {
            "marker": {
             "pattern": {
              "fillmode": "overlay",
              "size": 10,
              "solidity": 0.2
             }
            },
            "type": "histogram"
           }
          ],
          "histogram2d": [
           {
            "colorbar": {
             "outlinewidth": 0,
             "ticks": ""
            },
            "colorscale": [
             [
              0,
              "#0d0887"
             ],
             [
              0.1111111111111111,
              "#46039f"
             ],
             [
              0.2222222222222222,
              "#7201a8"
             ],
             [
              0.3333333333333333,
              "#9c179e"
             ],
             [
              0.4444444444444444,
              "#bd3786"
             ],
             [
              0.5555555555555556,
              "#d8576b"
             ],
             [
              0.6666666666666666,
              "#ed7953"
             ],
             [
              0.7777777777777778,
              "#fb9f3a"
             ],
             [
              0.8888888888888888,
              "#fdca26"
             ],
             [
              1,
              "#f0f921"
             ]
            ],
            "type": "histogram2d"
           }
          ],
          "histogram2dcontour": [
           {
            "colorbar": {
             "outlinewidth": 0,
             "ticks": ""
            },
            "colorscale": [
             [
              0,
              "#0d0887"
             ],
             [
              0.1111111111111111,
              "#46039f"
             ],
             [
              0.2222222222222222,
              "#7201a8"
             ],
             [
              0.3333333333333333,
              "#9c179e"
             ],
             [
              0.4444444444444444,
              "#bd3786"
             ],
             [
              0.5555555555555556,
              "#d8576b"
             ],
             [
              0.6666666666666666,
              "#ed7953"
             ],
             [
              0.7777777777777778,
              "#fb9f3a"
             ],
             [
              0.8888888888888888,
              "#fdca26"
             ],
             [
              1,
              "#f0f921"
             ]
            ],
            "type": "histogram2dcontour"
           }
          ],
          "mesh3d": [
           {
            "colorbar": {
             "outlinewidth": 0,
             "ticks": ""
            },
            "type": "mesh3d"
           }
          ],
          "parcoords": [
           {
            "line": {
             "colorbar": {
              "outlinewidth": 0,
              "ticks": ""
             }
            },
            "type": "parcoords"
           }
          ],
          "pie": [
           {
            "automargin": true,
            "type": "pie"
           }
          ],
          "scatter": [
           {
            "fillpattern": {
             "fillmode": "overlay",
             "size": 10,
             "solidity": 0.2
            },
            "type": "scatter"
           }
          ],
          "scatter3d": [
           {
            "line": {
             "colorbar": {
              "outlinewidth": 0,
              "ticks": ""
             }
            },
            "marker": {
             "colorbar": {
              "outlinewidth": 0,
              "ticks": ""
             }
            },
            "type": "scatter3d"
           }
          ],
          "scattercarpet": [
           {
            "marker": {
             "colorbar": {
              "outlinewidth": 0,
              "ticks": ""
             }
            },
            "type": "scattercarpet"
           }
          ],
          "scattergeo": [
           {
            "marker": {
             "colorbar": {
              "outlinewidth": 0,
              "ticks": ""
             }
            },
            "type": "scattergeo"
           }
          ],
          "scattergl": [
           {
            "marker": {
             "colorbar": {
              "outlinewidth": 0,
              "ticks": ""
             }
            },
            "type": "scattergl"
           }
          ],
          "scattermapbox": [
           {
            "marker": {
             "colorbar": {
              "outlinewidth": 0,
              "ticks": ""
             }
            },
            "type": "scattermapbox"
           }
          ],
          "scatterpolar": [
           {
            "marker": {
             "colorbar": {
              "outlinewidth": 0,
              "ticks": ""
             }
            },
            "type": "scatterpolar"
           }
          ],
          "scatterpolargl": [
           {
            "marker": {
             "colorbar": {
              "outlinewidth": 0,
              "ticks": ""
             }
            },
            "type": "scatterpolargl"
           }
          ],
          "scatterternary": [
           {
            "marker": {
             "colorbar": {
              "outlinewidth": 0,
              "ticks": ""
             }
            },
            "type": "scatterternary"
           }
          ],
          "surface": [
           {
            "colorbar": {
             "outlinewidth": 0,
             "ticks": ""
            },
            "colorscale": [
             [
              0,
              "#0d0887"
             ],
             [
              0.1111111111111111,
              "#46039f"
             ],
             [
              0.2222222222222222,
              "#7201a8"
             ],
             [
              0.3333333333333333,
              "#9c179e"
             ],
             [
              0.4444444444444444,
              "#bd3786"
             ],
             [
              0.5555555555555556,
              "#d8576b"
             ],
             [
              0.6666666666666666,
              "#ed7953"
             ],
             [
              0.7777777777777778,
              "#fb9f3a"
             ],
             [
              0.8888888888888888,
              "#fdca26"
             ],
             [
              1,
              "#f0f921"
             ]
            ],
            "type": "surface"
           }
          ],
          "table": [
           {
            "cells": {
             "fill": {
              "color": "#EBF0F8"
             },
             "line": {
              "color": "white"
             }
            },
            "header": {
             "fill": {
              "color": "#C8D4E3"
             },
             "line": {
              "color": "white"
             }
            },
            "type": "table"
           }
          ]
         },
         "layout": {
          "annotationdefaults": {
           "arrowcolor": "#2a3f5f",
           "arrowhead": 0,
           "arrowwidth": 1
          },
          "autotypenumbers": "strict",
          "coloraxis": {
           "colorbar": {
            "outlinewidth": 0,
            "ticks": ""
           }
          },
          "colorscale": {
           "diverging": [
            [
             0,
             "#8e0152"
            ],
            [
             0.1,
             "#c51b7d"
            ],
            [
             0.2,
             "#de77ae"
            ],
            [
             0.3,
             "#f1b6da"
            ],
            [
             0.4,
             "#fde0ef"
            ],
            [
             0.5,
             "#f7f7f7"
            ],
            [
             0.6,
             "#e6f5d0"
            ],
            [
             0.7,
             "#b8e186"
            ],
            [
             0.8,
             "#7fbc41"
            ],
            [
             0.9,
             "#4d9221"
            ],
            [
             1,
             "#276419"
            ]
           ],
           "sequential": [
            [
             0,
             "#0d0887"
            ],
            [
             0.1111111111111111,
             "#46039f"
            ],
            [
             0.2222222222222222,
             "#7201a8"
            ],
            [
             0.3333333333333333,
             "#9c179e"
            ],
            [
             0.4444444444444444,
             "#bd3786"
            ],
            [
             0.5555555555555556,
             "#d8576b"
            ],
            [
             0.6666666666666666,
             "#ed7953"
            ],
            [
             0.7777777777777778,
             "#fb9f3a"
            ],
            [
             0.8888888888888888,
             "#fdca26"
            ],
            [
             1,
             "#f0f921"
            ]
           ],
           "sequentialminus": [
            [
             0,
             "#0d0887"
            ],
            [
             0.1111111111111111,
             "#46039f"
            ],
            [
             0.2222222222222222,
             "#7201a8"
            ],
            [
             0.3333333333333333,
             "#9c179e"
            ],
            [
             0.4444444444444444,
             "#bd3786"
            ],
            [
             0.5555555555555556,
             "#d8576b"
            ],
            [
             0.6666666666666666,
             "#ed7953"
            ],
            [
             0.7777777777777778,
             "#fb9f3a"
            ],
            [
             0.8888888888888888,
             "#fdca26"
            ],
            [
             1,
             "#f0f921"
            ]
           ]
          },
          "colorway": [
           "#636efa",
           "#EF553B",
           "#00cc96",
           "#ab63fa",
           "#FFA15A",
           "#19d3f3",
           "#FF6692",
           "#B6E880",
           "#FF97FF",
           "#FECB52"
          ],
          "font": {
           "color": "#2a3f5f"
          },
          "geo": {
           "bgcolor": "white",
           "lakecolor": "white",
           "landcolor": "#E5ECF6",
           "showlakes": true,
           "showland": true,
           "subunitcolor": "white"
          },
          "hoverlabel": {
           "align": "left"
          },
          "hovermode": "closest",
          "mapbox": {
           "style": "light"
          },
          "paper_bgcolor": "white",
          "plot_bgcolor": "#E5ECF6",
          "polar": {
           "angularaxis": {
            "gridcolor": "white",
            "linecolor": "white",
            "ticks": ""
           },
           "bgcolor": "#E5ECF6",
           "radialaxis": {
            "gridcolor": "white",
            "linecolor": "white",
            "ticks": ""
           }
          },
          "scene": {
           "xaxis": {
            "backgroundcolor": "#E5ECF6",
            "gridcolor": "white",
            "gridwidth": 2,
            "linecolor": "white",
            "showbackground": true,
            "ticks": "",
            "zerolinecolor": "white"
           },
           "yaxis": {
            "backgroundcolor": "#E5ECF6",
            "gridcolor": "white",
            "gridwidth": 2,
            "linecolor": "white",
            "showbackground": true,
            "ticks": "",
            "zerolinecolor": "white"
           },
           "zaxis": {
            "backgroundcolor": "#E5ECF6",
            "gridcolor": "white",
            "gridwidth": 2,
            "linecolor": "white",
            "showbackground": true,
            "ticks": "",
            "zerolinecolor": "white"
           }
          },
          "shapedefaults": {
           "line": {
            "color": "#2a3f5f"
           }
          },
          "ternary": {
           "aaxis": {
            "gridcolor": "white",
            "linecolor": "white",
            "ticks": ""
           },
           "baxis": {
            "gridcolor": "white",
            "linecolor": "white",
            "ticks": ""
           },
           "bgcolor": "#E5ECF6",
           "caxis": {
            "gridcolor": "white",
            "linecolor": "white",
            "ticks": ""
           }
          },
          "title": {
           "x": 0.05
          },
          "xaxis": {
           "automargin": true,
           "gridcolor": "white",
           "linecolor": "white",
           "ticks": "",
           "title": {
            "standoff": 15
           },
           "zerolinecolor": "white",
           "zerolinewidth": 2
          },
          "yaxis": {
           "automargin": true,
           "gridcolor": "white",
           "linecolor": "white",
           "ticks": "",
           "title": {
            "standoff": 15
           },
           "zerolinecolor": "white",
           "zerolinewidth": 2
          }
         }
        },
        "title": {
         "text": "Boxplot da F1-Score Balanceada do Classificador Sim/real"
        },
        "xaxis": {
         "anchor": "y",
         "domain": [
          0,
          1
         ],
         "title": {
          "text": "Nome"
         }
        },
        "yaxis": {
         "anchor": "x",
         "domain": [
          0,
          1
         ],
         "range": [
          0,
          1
         ],
         "title": {
          "text": "F1-score Balanceada"
         }
        }
       }
      }
     },
     "metadata": {},
     "output_type": "display_data"
    }
   ],
   "source": [
    "# Criar boxplot da acurácia por modelo sim/real \n",
    "# fig = px.box(df6, x='Nome', y='Acurácia Balanceada', points='all', title='Boxplot da Acurácia Balanceada do classificador Sim/real 0',color_discrete_sequence=px.colors.qualitative.Set3)\n",
    "# fig.update_yaxes(range=[0, 1])\n",
    "# fig.show()\n",
    "\n",
    "# fig = px.box(df9, x='Nome', y='Acurácia Balanceada', points='all', title='Boxplot da Acurácia Balanceada do classificador Sim/real sem features de temperatura',color_discrete_sequence=px.colors.qualitative.Set1)\n",
    "# fig.update_yaxes(range=[0, 1])\n",
    "# fig.show()\n",
    "\n",
    "# fig = px.box(df3, x='Nome', y='Acurácia Balanceada', points='all', title='Boxplot da Acurácia Balanceada do classificador Sim/real')\n",
    "# fig.update_yaxes(range=[0, 1])\n",
    "# fig.show()\n",
    "\n",
    "fig = px.box(df6, x='Nome', y='F1-score Balanceada', points='all', title='Boxplot da F1-Score Balanceada do Classificador Sim/real 0',color_discrete_sequence=px.colors.qualitative.Set3)\n",
    "fig.update_yaxes(range=[0, 1])\n",
    "fig.show()\n",
    "\n",
    "fig = px.box(df9, x='Nome', y='F1-score Balanceada', points='all', title='Boxplot da Acurácia Balanceada do classificador Sim/real sem features de temperatura',color_discrete_sequence=px.colors.qualitative.Set1)\n",
    "fig.update_yaxes(range=[0, 1])\n",
    "fig.show()\n",
    "\n",
    "# fig = px.box(df12, x='Nome', y='F1-score Balanceada', points='all', title='Boxplot da F1-Score Balanceada do Classificador Sim/real sem features de pressão',color_discrete_sequence=px.colors.qualitative.Set1_r)\n",
    "# fig.update_yaxes(range=[0, 1])\n",
    "# fig.show()\n",
    "\n",
    "fig = px.box(df3, x='Nome', y='F1-score Balanceada', points='all', title='Boxplot da F1-Score Balanceada do Classificador Sim/real')\n",
    "fig.update_yaxes(range=[0, 1])\n",
    "fig.show()"
   ]
  },
  {
   "cell_type": "code",
   "execution_count": null,
   "metadata": {},
   "outputs": [],
   "source": []
  }
 ],
 "metadata": {
  "kernelspec": {
   "display_name": "Python 3",
   "language": "python",
   "name": "python3"
  },
  "language_info": {
   "codemirror_mode": {
    "name": "ipython",
    "version": 3
   },
   "file_extension": ".py",
   "mimetype": "text/x-python",
   "name": "python",
   "nbconvert_exporter": "python",
   "pygments_lexer": "ipython3",
   "version": "3.8.10"
  },
  "orig_nbformat": 4
 },
 "nbformat": 4,
 "nbformat_minor": 2
}
