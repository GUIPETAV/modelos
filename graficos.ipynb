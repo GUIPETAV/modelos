{
 "cells": [
  {
   "cell_type": "code",
   "execution_count": 2,
   "metadata": {},
   "outputs": [],
   "source": [
    "import pandas as pd\n",
    "import plotly.express as px\n"
   ]
  },
  {
   "cell_type": "code",
   "execution_count": 3,
   "metadata": {},
   "outputs": [],
   "source": [
    "# modelo Real/Real \n",
    "\n",
    "df1 = pd.read_csv('https://raw.githubusercontent.com/GUIPETAV/modelos/main/modelos_real_real.csv')\n",
    "df2 = pd.read_csv('https://raw.githubusercontent.com/GUIPETAV/modelos/main/modelos_sim_sim.csv')\n",
    "df3 = pd.read_csv('https://raw.githubusercontent.com/GUIPETAV/modelos/main/modelos_sim_real.csv')\n",
    "df4 = pd.read_csv('https://raw.githubusercontent.com/GUIPETAV/modelos/main/modelos_real_real_0.csv')\n",
    "\n"
   ]
  },
  {
   "cell_type": "code",
   "execution_count": 4,
   "metadata": {},
   "outputs": [
    {
     "data": {
      "text/html": [
       "<div>\n",
       "<style scoped>\n",
       "    .dataframe tbody tr th:only-of-type {\n",
       "        vertical-align: middle;\n",
       "    }\n",
       "\n",
       "    .dataframe tbody tr th {\n",
       "        vertical-align: top;\n",
       "    }\n",
       "\n",
       "    .dataframe thead th {\n",
       "        text-align: right;\n",
       "    }\n",
       "</style>\n",
       "<table border=\"1\" class=\"dataframe\">\n",
       "  <thead>\n",
       "    <tr style=\"text-align: right;\">\n",
       "      <th></th>\n",
       "      <th>Nome</th>\n",
       "      <th>Acurácia</th>\n",
       "      <th>Acurácia Balanceada</th>\n",
       "      <th>Precisão</th>\n",
       "      <th>Recall</th>\n",
       "      <th>F1-score</th>\n",
       "      <th>F1-score Balanceada</th>\n",
       "      <th>Matriz de Confusão</th>\n",
       "      <th>Predição</th>\n",
       "    </tr>\n",
       "  </thead>\n",
       "  <tbody>\n",
       "    <tr>\n",
       "      <th>0</th>\n",
       "      <td>logreg</td>\n",
       "      <td>0.842950</td>\n",
       "      <td>0.560439</td>\n",
       "      <td>0.216606</td>\n",
       "      <td>0.205392</td>\n",
       "      <td>0.210850</td>\n",
       "      <td>0.841093</td>\n",
       "      <td>[[18805  1736]\\n [ 1857   480]]</td>\n",
       "      <td>[0 0 0 ... 0 0 0]</td>\n",
       "    </tr>\n",
       "    <tr>\n",
       "      <th>1</th>\n",
       "      <td>KNN</td>\n",
       "      <td>0.813183</td>\n",
       "      <td>0.638666</td>\n",
       "      <td>0.251475</td>\n",
       "      <td>0.419341</td>\n",
       "      <td>0.314405</td>\n",
       "      <td>0.832871</td>\n",
       "      <td>[[17624  2917]\\n [ 1357   980]]</td>\n",
       "      <td>[0 0 1 ... 0 0 0]</td>\n",
       "    </tr>\n",
       "    <tr>\n",
       "      <th>2</th>\n",
       "      <td>GaussianNB</td>\n",
       "      <td>0.849200</td>\n",
       "      <td>0.690199</td>\n",
       "      <td>0.336564</td>\n",
       "      <td>0.490372</td>\n",
       "      <td>0.399164</td>\n",
       "      <td>0.861212</td>\n",
       "      <td>[[18282  2259]\\n [ 1191  1146]]</td>\n",
       "      <td>[1 1 1 ... 0 0 0]</td>\n",
       "    </tr>\n",
       "    <tr>\n",
       "      <th>3</th>\n",
       "      <td>Perceptron</td>\n",
       "      <td>0.883993</td>\n",
       "      <td>0.574194</td>\n",
       "      <td>0.365792</td>\n",
       "      <td>0.184852</td>\n",
       "      <td>0.245594</td>\n",
       "      <td>0.866521</td>\n",
       "      <td>[[19792   749]\\n [ 1905   432]]</td>\n",
       "      <td>[0 0 0 ... 0 0 0]</td>\n",
       "    </tr>\n",
       "    <tr>\n",
       "      <th>4</th>\n",
       "      <td>LinearSVC</td>\n",
       "      <td>0.857330</td>\n",
       "      <td>0.541144</td>\n",
       "      <td>0.210131</td>\n",
       "      <td>0.143774</td>\n",
       "      <td>0.170732</td>\n",
       "      <td>0.845214</td>\n",
       "      <td>[[19278  1263]\\n [ 2001   336]]</td>\n",
       "      <td>[0 0 0 ... 0 0 0]</td>\n",
       "    </tr>\n",
       "  </tbody>\n",
       "</table>\n",
       "</div>"
      ],
      "text/plain": [
       "         Nome  Acurácia  Acurácia Balanceada  Precisão    Recall  F1-score  \\\n",
       "0      logreg  0.842950             0.560439  0.216606  0.205392  0.210850   \n",
       "1         KNN  0.813183             0.638666  0.251475  0.419341  0.314405   \n",
       "2  GaussianNB  0.849200             0.690199  0.336564  0.490372  0.399164   \n",
       "3  Perceptron  0.883993             0.574194  0.365792  0.184852  0.245594   \n",
       "4   LinearSVC  0.857330             0.541144  0.210131  0.143774  0.170732   \n",
       "\n",
       "   F1-score Balanceada               Matriz de Confusão           Predição  \n",
       "0             0.841093  [[18805  1736]\\n [ 1857   480]]  [0 0 0 ... 0 0 0]  \n",
       "1             0.832871  [[17624  2917]\\n [ 1357   980]]  [0 0 1 ... 0 0 0]  \n",
       "2             0.861212  [[18282  2259]\\n [ 1191  1146]]  [1 1 1 ... 0 0 0]  \n",
       "3             0.866521  [[19792   749]\\n [ 1905   432]]  [0 0 0 ... 0 0 0]  \n",
       "4             0.845214  [[19278  1263]\\n [ 2001   336]]  [0 0 0 ... 0 0 0]  "
      ]
     },
     "execution_count": 4,
     "metadata": {},
     "output_type": "execute_result"
    }
   ],
   "source": [
    "df1.head()"
   ]
  },
  {
   "cell_type": "code",
   "execution_count": 5,
   "metadata": {},
   "outputs": [
    {
     "data": {
      "application/vnd.plotly.v1+json": {
       "config": {
        "plotlyServerURL": "https://plot.ly"
       },
       "data": [
        {
         "alignmentgroup": "True",
         "boxpoints": "all",
         "hovertemplate": "Nome=%{x}<br>Acurácia Balanceada=%{y}<extra></extra>",
         "legendgroup": "",
         "marker": {
          "color": "#636efa"
         },
         "name": "",
         "notched": false,
         "offsetgroup": "",
         "orientation": "v",
         "showlegend": false,
         "type": "box",
         "x": [
          "logreg",
          "KNN",
          "GaussianNB",
          "Perceptron",
          "LinearSVC",
          "SGD",
          "Dtree",
          "RForest",
          "ADA",
          "GBC",
          "ETC",
          "logreg",
          "KNN",
          "GaussianNB",
          "Perceptron",
          "LinearSVC",
          "SGD",
          "Dtree",
          "RForest",
          "ADA",
          "GBC",
          "ETC",
          "logreg",
          "KNN",
          "GaussianNB",
          "Perceptron",
          "LinearSVC",
          "SGD",
          "Dtree",
          "RForest",
          "ADA",
          "GBC",
          "ETC",
          "logreg",
          "KNN",
          "GaussianNB",
          "Perceptron",
          "LinearSVC",
          "SGD",
          "Dtree",
          "RForest",
          "ADA",
          "GBC",
          "ETC",
          "logreg",
          "KNN",
          "GaussianNB",
          "Perceptron",
          "LinearSVC",
          "SGD",
          "Dtree",
          "RForest",
          "ADA",
          "GBC",
          "ETC",
          "logreg",
          "KNN",
          "GaussianNB",
          "Perceptron",
          "LinearSVC",
          "SGD",
          "Dtree",
          "RForest",
          "ADA",
          "GBC",
          "ETC",
          "logreg",
          "KNN",
          "GaussianNB",
          "Perceptron",
          "LinearSVC",
          "SGD",
          "Dtree",
          "RForest",
          "ADA",
          "GBC",
          "ETC",
          "logreg",
          "KNN",
          "GaussianNB",
          "Perceptron",
          "LinearSVC",
          "SGD",
          "Dtree",
          "RForest",
          "ADA",
          "GBC",
          "ETC",
          "logreg",
          "KNN",
          "GaussianNB",
          "Perceptron",
          "LinearSVC",
          "SGD",
          "Dtree",
          "RForest",
          "ADA",
          "GBC",
          "ETC",
          "logreg",
          "KNN",
          "GaussianNB",
          "Perceptron",
          "LinearSVC",
          "SGD",
          "Dtree",
          "RForest",
          "ADA",
          "GBC",
          "ETC",
          "logreg",
          "KNN",
          "GaussianNB",
          "Perceptron",
          "LinearSVC",
          "SGD",
          "Dtree",
          "RForest",
          "ADA",
          "GBC",
          "ETC",
          "logreg",
          "KNN",
          "GaussianNB",
          "Perceptron",
          "LinearSVC",
          "SGD",
          "Dtree",
          "RForest",
          "ADA",
          "GBC",
          "ETC",
          "logreg",
          "KNN",
          "GaussianNB",
          "Perceptron",
          "LinearSVC",
          "SGD",
          "Dtree",
          "RForest",
          "ADA",
          "GBC",
          "ETC",
          "logreg",
          "KNN",
          "GaussianNB",
          "Perceptron",
          "LinearSVC",
          "SGD",
          "Dtree",
          "RForest",
          "ADA",
          "GBC",
          "ETC",
          "logreg",
          "KNN",
          "GaussianNB",
          "Perceptron",
          "LinearSVC",
          "SGD",
          "Dtree",
          "RForest",
          "ADA",
          "GBC",
          "ETC",
          "logreg",
          "KNN",
          "GaussianNB",
          "Perceptron",
          "LinearSVC",
          "SGD",
          "Dtree",
          "RForest",
          "ADA",
          "GBC",
          "ETC",
          "logreg",
          "KNN",
          "GaussianNB",
          "Perceptron",
          "LinearSVC",
          "SGD",
          "Dtree",
          "RForest",
          "ADA",
          "GBC",
          "ETC",
          "logreg",
          "KNN",
          "GaussianNB",
          "Perceptron",
          "LinearSVC",
          "SGD",
          "Dtree",
          "RForest",
          "ADA",
          "GBC",
          "ETC",
          "logreg",
          "KNN",
          "GaussianNB",
          "Perceptron",
          "LinearSVC",
          "SGD",
          "Dtree",
          "RForest",
          "ADA",
          "GBC",
          "ETC",
          "logreg",
          "KNN",
          "GaussianNB",
          "Perceptron",
          "LinearSVC",
          "SGD",
          "Dtree",
          "RForest",
          "ADA",
          "GBC",
          "ETC",
          "logreg",
          "KNN",
          "GaussianNB",
          "Perceptron",
          "LinearSVC",
          "SGD",
          "Dtree",
          "RForest",
          "ADA",
          "GBC",
          "ETC",
          "logreg",
          "KNN",
          "GaussianNB",
          "Perceptron",
          "LinearSVC",
          "SGD",
          "Dtree",
          "RForest",
          "ADA",
          "GBC",
          "ETC",
          "logreg",
          "KNN",
          "GaussianNB",
          "Perceptron",
          "LinearSVC",
          "SGD",
          "Dtree",
          "RForest",
          "ADA",
          "GBC",
          "ETC",
          "logreg",
          "KNN",
          "GaussianNB",
          "Perceptron",
          "LinearSVC",
          "SGD",
          "Dtree",
          "RForest",
          "ADA",
          "GBC",
          "ETC",
          "logreg",
          "KNN",
          "GaussianNB",
          "Perceptron",
          "LinearSVC",
          "SGD",
          "Dtree",
          "RForest",
          "ADA",
          "GBC",
          "ETC"
         ],
         "x0": " ",
         "xaxis": "x",
         "y": [
          0.5604388142841403,
          0.6386661849599902,
          0.6901985502678852,
          0.5741943583948919,
          0.5411436433935723,
          0.5490354336256883,
          0.610162217285583,
          0.6394156488050856,
          0.5809920595266462,
          0.613801921189713,
          0.6738922668142534,
          0.6007650936893864,
          0.7232748879647637,
          0.6306283453631889,
          0.5126332700452753,
          0.5685906748761783,
          0.5753294438081475,
          0.6680374808790634,
          0.6806118187245535,
          0.6760163882760795,
          0.668327017338878,
          0.6934539137386331,
          0.6036822375787577,
          0.7194571063264997,
          0.6690047376364088,
          0.5487330858180942,
          0.5795290036102377,
          0.5980273086689266,
          0.6626848997768263,
          0.6849638335652187,
          0.6420663166606453,
          0.6706676505781761,
          0.6848036917179761,
          0.5870825742609774,
          0.7027037068353665,
          0.673360595881408,
          0.6283850783670144,
          0.5535014694615903,
          0.6034580389926181,
          0.666962608800371,
          0.6725598866451948,
          0.6332597961970795,
          0.668373138190884,
          0.6751055014489634,
          0.5806961173929419,
          0.7053671860387056,
          0.6806374414201123,
          0.6722588199723787,
          0.5287025435649881,
          0.5686534504802974,
          0.6753796642914428,
          0.6762457114013308,
          0.6523013024016153,
          0.6684166967733339,
          0.6814291827128798,
          0.693587151755539,
          0.797826682962701,
          0.7670538255965604,
          0.5417637126260957,
          0.6605415612933312,
          0.6910991880167777,
          0.7716543805841463,
          0.8930893027808311,
          0.7861670753486609,
          0.850098263037468,
          0.8878033406870469,
          0.779529516064149,
          0.8763089994593611,
          0.7405368979627395,
          0.6062611618867528,
          0.6998493385501141,
          0.6166537272054095,
          0.8167016416461045,
          0.9890398919747156,
          0.938642612080076,
          0.9735253498138512,
          0.9266268489977684,
          0.7915926811332405,
          0.8825634994452687,
          0.7640508456770669,
          0.7718567998790609,
          0.7025115366186754,
          0.6982094860343497,
          0.8652092477432811,
          0.9806253987531997,
          0.913429879650199,
          0.9722185923403514,
          0.916616061842938,
          0.7391929875806795,
          0.8868117423689207,
          0.7491627784226156,
          0.7472218592340352,
          0.6406250400354618,
          0.6427568483059555,
          0.8112990962875276,
          0.9771458366963122,
          0.9422515687495356,
          0.9522738861173672,
          0.910721560729632,
          0.7356980519064567,
          0.8742899310493262,
          0.8012998393456989,
          0.7678788763935543,
          0.6303093428034816,
          0.5565018871115279,
          0.945733693075979,
          0.9764412125684444,
          0.8969198957668745,
          0.9781284670709928,
          0.8801882755669662,
          0.7378670130855106,
          0.7830462310295968,
          0.3849079760889005,
          0.7703015022586406,
          0.7418782460752436,
          0.8023516509983883,
          0.8010743596247812,
          0.8598617911801557,
          0.7354815401289847,
          0.8125084875179038,
          0.8510834556817046,
          0.7460534643165531,
          0.8475026839773598,
          0.4253636501067185,
          0.7213314065066273,
          0.7436808027078065,
          0.7678724707196647,
          0.8452261074769587,
          0.9369220480733014,
          0.9475170326868728,
          0.9284857755605606,
          0.8959590446834187,
          0.7513804227232314,
          0.8608572329026158,
          0.3847619267242152,
          0.724830185585184,
          0.7527704539572972,
          0.7420396690572642,
          0.9057827861606698,
          0.9421388288890769,
          0.9450995313608984,
          0.9304305381534748,
          0.8875778609661293,
          0.7603765511339324,
          0.8652912403690693,
          0.4117567176302081,
          0.6937741974331184,
          0.7490871914707171,
          0.7825235280401969,
          0.9168838190115276,
          0.9436966887790528,
          0.9568296013877252,
          0.9362763561452192,
          0.8981497851536977,
          0.7445327573351372,
          0.8659215586798162,
          0.3823277706461275,
          0.7234747449901224,
          0.7421460032438332,
          0.744667276486821,
          0.9119873218902376,
          0.9419953417939474,
          0.9572779985600044,
          0.932766046853661,
          0.8744116388532306,
          0.8404269765987922,
          0.8351538258527873,
          0.7976793524632378,
          0.8081526292729048,
          0.8442601318543914,
          0.8567576016132049,
          0.7732878274260209,
          0.8724220365430884,
          0.7423599527517495,
          0.7379695038677458,
          0.8724809687428736,
          0.8403257669513349,
          0.904607985569298,
          0.5392667809438889,
          0.8078618116783123,
          0.8245447487566586,
          0.82078589931818,
          0.906188905885277,
          0.9385478081065084,
          0.7529895280043251,
          0.9088280435278352,
          0.8851642030444886,
          0.8373407229187325,
          0.9207387535583518,
          0.7820994724286985,
          0.8028038915750015,
          0.8162378708564899,
          0.8164364467470706,
          0.9340292457447108,
          0.963966803235634,
          0.8690308727858789,
          0.9210218843442768,
          0.9316271180360716,
          0.8482483044181215,
          0.9134567834805356,
          0.7429736163103831,
          0.8066255166175992,
          0.8124982384396804,
          0.8348399478321918,
          0.91045508469582,
          0.9467214479897714,
          0.9176230337783996,
          0.9256275638709744,
          0.8886719500664909,
          0.8490477325195565,
          0.9121346523897008,
          0.6929260862101215,
          0.9124626228928536,
          0.8091275728389178,
          0.849772854803871,
          0.9298963049510734,
          0.949220941941534,
          0.8509207515649061,
          0.9333643367949596,
          0.8990158322635857,
          0.4887272950888979,
          0.6130229912447249,
          0.5374129789202083,
          0.529681330535335,
          0.4855487997048265,
          0.499241568211459,
          0.5312648131208699,
          0.5679283281959828,
          0.5593152590838861,
          0.5584107779306599,
          0.5842025832801663,
          0.5010300323614645,
          0.6164500267757169,
          0.4523174446998173,
          0.4876293625842026,
          0.4991800737421178,
          0.5027429095595715,
          0.6139799989238468,
          0.6165512364231742,
          0.6053682109465279,
          0.5984577699543148,
          0.5873452068904553,
          0.4761324590869608,
          0.6103223591328255,
          0.4799182123557762,
          0.4559020598084959,
          0.47597744177883,
          0.4714588794170324,
          0.6215476620571437,
          0.5699781438406883,
          0.5992392621688587,
          0.5831123375841385,
          0.5777200413037853,
          0.4950689122397054,
          0.6100520396946799,
          0.5200126063662149,
          0.5414357421229428,
          0.4932676367419205,
          0.496270616661414,
          0.5954330107435962,
          0.5924210628806571,
          0.6027470091908609,
          0.5982412581768427,
          0.5821835148701313,
          0.5050258917338621,
          0.6214016126924584,
          0.5328303598195138,
          0.5065773459499486,
          0.5014425577599614,
          0.4996566558795118,
          0.628174972263432,
          0.5847240051347882,
          0.6083993758311361,
          0.6039551192864592,
          0.5761660248181429
         ],
         "y0": " ",
         "yaxis": "y"
        }
       ],
       "layout": {
        "boxmode": "group",
        "legend": {
         "tracegroupgap": 0
        },
        "template": {
         "data": {
          "bar": [
           {
            "error_x": {
             "color": "#2a3f5f"
            },
            "error_y": {
             "color": "#2a3f5f"
            },
            "marker": {
             "line": {
              "color": "#E5ECF6",
              "width": 0.5
             },
             "pattern": {
              "fillmode": "overlay",
              "size": 10,
              "solidity": 0.2
             }
            },
            "type": "bar"
           }
          ],
          "barpolar": [
           {
            "marker": {
             "line": {
              "color": "#E5ECF6",
              "width": 0.5
             },
             "pattern": {
              "fillmode": "overlay",
              "size": 10,
              "solidity": 0.2
             }
            },
            "type": "barpolar"
           }
          ],
          "carpet": [
           {
            "aaxis": {
             "endlinecolor": "#2a3f5f",
             "gridcolor": "white",
             "linecolor": "white",
             "minorgridcolor": "white",
             "startlinecolor": "#2a3f5f"
            },
            "baxis": {
             "endlinecolor": "#2a3f5f",
             "gridcolor": "white",
             "linecolor": "white",
             "minorgridcolor": "white",
             "startlinecolor": "#2a3f5f"
            },
            "type": "carpet"
           }
          ],
          "choropleth": [
           {
            "colorbar": {
             "outlinewidth": 0,
             "ticks": ""
            },
            "type": "choropleth"
           }
          ],
          "contour": [
           {
            "colorbar": {
             "outlinewidth": 0,
             "ticks": ""
            },
            "colorscale": [
             [
              0,
              "#0d0887"
             ],
             [
              0.1111111111111111,
              "#46039f"
             ],
             [
              0.2222222222222222,
              "#7201a8"
             ],
             [
              0.3333333333333333,
              "#9c179e"
             ],
             [
              0.4444444444444444,
              "#bd3786"
             ],
             [
              0.5555555555555556,
              "#d8576b"
             ],
             [
              0.6666666666666666,
              "#ed7953"
             ],
             [
              0.7777777777777778,
              "#fb9f3a"
             ],
             [
              0.8888888888888888,
              "#fdca26"
             ],
             [
              1,
              "#f0f921"
             ]
            ],
            "type": "contour"
           }
          ],
          "contourcarpet": [
           {
            "colorbar": {
             "outlinewidth": 0,
             "ticks": ""
            },
            "type": "contourcarpet"
           }
          ],
          "heatmap": [
           {
            "colorbar": {
             "outlinewidth": 0,
             "ticks": ""
            },
            "colorscale": [
             [
              0,
              "#0d0887"
             ],
             [
              0.1111111111111111,
              "#46039f"
             ],
             [
              0.2222222222222222,
              "#7201a8"
             ],
             [
              0.3333333333333333,
              "#9c179e"
             ],
             [
              0.4444444444444444,
              "#bd3786"
             ],
             [
              0.5555555555555556,
              "#d8576b"
             ],
             [
              0.6666666666666666,
              "#ed7953"
             ],
             [
              0.7777777777777778,
              "#fb9f3a"
             ],
             [
              0.8888888888888888,
              "#fdca26"
             ],
             [
              1,
              "#f0f921"
             ]
            ],
            "type": "heatmap"
           }
          ],
          "heatmapgl": [
           {
            "colorbar": {
             "outlinewidth": 0,
             "ticks": ""
            },
            "colorscale": [
             [
              0,
              "#0d0887"
             ],
             [
              0.1111111111111111,
              "#46039f"
             ],
             [
              0.2222222222222222,
              "#7201a8"
             ],
             [
              0.3333333333333333,
              "#9c179e"
             ],
             [
              0.4444444444444444,
              "#bd3786"
             ],
             [
              0.5555555555555556,
              "#d8576b"
             ],
             [
              0.6666666666666666,
              "#ed7953"
             ],
             [
              0.7777777777777778,
              "#fb9f3a"
             ],
             [
              0.8888888888888888,
              "#fdca26"
             ],
             [
              1,
              "#f0f921"
             ]
            ],
            "type": "heatmapgl"
           }
          ],
          "histogram": [
           {
            "marker": {
             "pattern": {
              "fillmode": "overlay",
              "size": 10,
              "solidity": 0.2
             }
            },
            "type": "histogram"
           }
          ],
          "histogram2d": [
           {
            "colorbar": {
             "outlinewidth": 0,
             "ticks": ""
            },
            "colorscale": [
             [
              0,
              "#0d0887"
             ],
             [
              0.1111111111111111,
              "#46039f"
             ],
             [
              0.2222222222222222,
              "#7201a8"
             ],
             [
              0.3333333333333333,
              "#9c179e"
             ],
             [
              0.4444444444444444,
              "#bd3786"
             ],
             [
              0.5555555555555556,
              "#d8576b"
             ],
             [
              0.6666666666666666,
              "#ed7953"
             ],
             [
              0.7777777777777778,
              "#fb9f3a"
             ],
             [
              0.8888888888888888,
              "#fdca26"
             ],
             [
              1,
              "#f0f921"
             ]
            ],
            "type": "histogram2d"
           }
          ],
          "histogram2dcontour": [
           {
            "colorbar": {
             "outlinewidth": 0,
             "ticks": ""
            },
            "colorscale": [
             [
              0,
              "#0d0887"
             ],
             [
              0.1111111111111111,
              "#46039f"
             ],
             [
              0.2222222222222222,
              "#7201a8"
             ],
             [
              0.3333333333333333,
              "#9c179e"
             ],
             [
              0.4444444444444444,
              "#bd3786"
             ],
             [
              0.5555555555555556,
              "#d8576b"
             ],
             [
              0.6666666666666666,
              "#ed7953"
             ],
             [
              0.7777777777777778,
              "#fb9f3a"
             ],
             [
              0.8888888888888888,
              "#fdca26"
             ],
             [
              1,
              "#f0f921"
             ]
            ],
            "type": "histogram2dcontour"
           }
          ],
          "mesh3d": [
           {
            "colorbar": {
             "outlinewidth": 0,
             "ticks": ""
            },
            "type": "mesh3d"
           }
          ],
          "parcoords": [
           {
            "line": {
             "colorbar": {
              "outlinewidth": 0,
              "ticks": ""
             }
            },
            "type": "parcoords"
           }
          ],
          "pie": [
           {
            "automargin": true,
            "type": "pie"
           }
          ],
          "scatter": [
           {
            "fillpattern": {
             "fillmode": "overlay",
             "size": 10,
             "solidity": 0.2
            },
            "type": "scatter"
           }
          ],
          "scatter3d": [
           {
            "line": {
             "colorbar": {
              "outlinewidth": 0,
              "ticks": ""
             }
            },
            "marker": {
             "colorbar": {
              "outlinewidth": 0,
              "ticks": ""
             }
            },
            "type": "scatter3d"
           }
          ],
          "scattercarpet": [
           {
            "marker": {
             "colorbar": {
              "outlinewidth": 0,
              "ticks": ""
             }
            },
            "type": "scattercarpet"
           }
          ],
          "scattergeo": [
           {
            "marker": {
             "colorbar": {
              "outlinewidth": 0,
              "ticks": ""
             }
            },
            "type": "scattergeo"
           }
          ],
          "scattergl": [
           {
            "marker": {
             "colorbar": {
              "outlinewidth": 0,
              "ticks": ""
             }
            },
            "type": "scattergl"
           }
          ],
          "scattermapbox": [
           {
            "marker": {
             "colorbar": {
              "outlinewidth": 0,
              "ticks": ""
             }
            },
            "type": "scattermapbox"
           }
          ],
          "scatterpolar": [
           {
            "marker": {
             "colorbar": {
              "outlinewidth": 0,
              "ticks": ""
             }
            },
            "type": "scatterpolar"
           }
          ],
          "scatterpolargl": [
           {
            "marker": {
             "colorbar": {
              "outlinewidth": 0,
              "ticks": ""
             }
            },
            "type": "scatterpolargl"
           }
          ],
          "scatterternary": [
           {
            "marker": {
             "colorbar": {
              "outlinewidth": 0,
              "ticks": ""
             }
            },
            "type": "scatterternary"
           }
          ],
          "surface": [
           {
            "colorbar": {
             "outlinewidth": 0,
             "ticks": ""
            },
            "colorscale": [
             [
              0,
              "#0d0887"
             ],
             [
              0.1111111111111111,
              "#46039f"
             ],
             [
              0.2222222222222222,
              "#7201a8"
             ],
             [
              0.3333333333333333,
              "#9c179e"
             ],
             [
              0.4444444444444444,
              "#bd3786"
             ],
             [
              0.5555555555555556,
              "#d8576b"
             ],
             [
              0.6666666666666666,
              "#ed7953"
             ],
             [
              0.7777777777777778,
              "#fb9f3a"
             ],
             [
              0.8888888888888888,
              "#fdca26"
             ],
             [
              1,
              "#f0f921"
             ]
            ],
            "type": "surface"
           }
          ],
          "table": [
           {
            "cells": {
             "fill": {
              "color": "#EBF0F8"
             },
             "line": {
              "color": "white"
             }
            },
            "header": {
             "fill": {
              "color": "#C8D4E3"
             },
             "line": {
              "color": "white"
             }
            },
            "type": "table"
           }
          ]
         },
         "layout": {
          "annotationdefaults": {
           "arrowcolor": "#2a3f5f",
           "arrowhead": 0,
           "arrowwidth": 1
          },
          "autotypenumbers": "strict",
          "coloraxis": {
           "colorbar": {
            "outlinewidth": 0,
            "ticks": ""
           }
          },
          "colorscale": {
           "diverging": [
            [
             0,
             "#8e0152"
            ],
            [
             0.1,
             "#c51b7d"
            ],
            [
             0.2,
             "#de77ae"
            ],
            [
             0.3,
             "#f1b6da"
            ],
            [
             0.4,
             "#fde0ef"
            ],
            [
             0.5,
             "#f7f7f7"
            ],
            [
             0.6,
             "#e6f5d0"
            ],
            [
             0.7,
             "#b8e186"
            ],
            [
             0.8,
             "#7fbc41"
            ],
            [
             0.9,
             "#4d9221"
            ],
            [
             1,
             "#276419"
            ]
           ],
           "sequential": [
            [
             0,
             "#0d0887"
            ],
            [
             0.1111111111111111,
             "#46039f"
            ],
            [
             0.2222222222222222,
             "#7201a8"
            ],
            [
             0.3333333333333333,
             "#9c179e"
            ],
            [
             0.4444444444444444,
             "#bd3786"
            ],
            [
             0.5555555555555556,
             "#d8576b"
            ],
            [
             0.6666666666666666,
             "#ed7953"
            ],
            [
             0.7777777777777778,
             "#fb9f3a"
            ],
            [
             0.8888888888888888,
             "#fdca26"
            ],
            [
             1,
             "#f0f921"
            ]
           ],
           "sequentialminus": [
            [
             0,
             "#0d0887"
            ],
            [
             0.1111111111111111,
             "#46039f"
            ],
            [
             0.2222222222222222,
             "#7201a8"
            ],
            [
             0.3333333333333333,
             "#9c179e"
            ],
            [
             0.4444444444444444,
             "#bd3786"
            ],
            [
             0.5555555555555556,
             "#d8576b"
            ],
            [
             0.6666666666666666,
             "#ed7953"
            ],
            [
             0.7777777777777778,
             "#fb9f3a"
            ],
            [
             0.8888888888888888,
             "#fdca26"
            ],
            [
             1,
             "#f0f921"
            ]
           ]
          },
          "colorway": [
           "#636efa",
           "#EF553B",
           "#00cc96",
           "#ab63fa",
           "#FFA15A",
           "#19d3f3",
           "#FF6692",
           "#B6E880",
           "#FF97FF",
           "#FECB52"
          ],
          "font": {
           "color": "#2a3f5f"
          },
          "geo": {
           "bgcolor": "white",
           "lakecolor": "white",
           "landcolor": "#E5ECF6",
           "showlakes": true,
           "showland": true,
           "subunitcolor": "white"
          },
          "hoverlabel": {
           "align": "left"
          },
          "hovermode": "closest",
          "mapbox": {
           "style": "light"
          },
          "paper_bgcolor": "white",
          "plot_bgcolor": "#E5ECF6",
          "polar": {
           "angularaxis": {
            "gridcolor": "white",
            "linecolor": "white",
            "ticks": ""
           },
           "bgcolor": "#E5ECF6",
           "radialaxis": {
            "gridcolor": "white",
            "linecolor": "white",
            "ticks": ""
           }
          },
          "scene": {
           "xaxis": {
            "backgroundcolor": "#E5ECF6",
            "gridcolor": "white",
            "gridwidth": 2,
            "linecolor": "white",
            "showbackground": true,
            "ticks": "",
            "zerolinecolor": "white"
           },
           "yaxis": {
            "backgroundcolor": "#E5ECF6",
            "gridcolor": "white",
            "gridwidth": 2,
            "linecolor": "white",
            "showbackground": true,
            "ticks": "",
            "zerolinecolor": "white"
           },
           "zaxis": {
            "backgroundcolor": "#E5ECF6",
            "gridcolor": "white",
            "gridwidth": 2,
            "linecolor": "white",
            "showbackground": true,
            "ticks": "",
            "zerolinecolor": "white"
           }
          },
          "shapedefaults": {
           "line": {
            "color": "#2a3f5f"
           }
          },
          "ternary": {
           "aaxis": {
            "gridcolor": "white",
            "linecolor": "white",
            "ticks": ""
           },
           "baxis": {
            "gridcolor": "white",
            "linecolor": "white",
            "ticks": ""
           },
           "bgcolor": "#E5ECF6",
           "caxis": {
            "gridcolor": "white",
            "linecolor": "white",
            "ticks": ""
           }
          },
          "title": {
           "x": 0.05
          },
          "xaxis": {
           "automargin": true,
           "gridcolor": "white",
           "linecolor": "white",
           "ticks": "",
           "title": {
            "standoff": 15
           },
           "zerolinecolor": "white",
           "zerolinewidth": 2
          },
          "yaxis": {
           "automargin": true,
           "gridcolor": "white",
           "linecolor": "white",
           "ticks": "",
           "title": {
            "standoff": 15
           },
           "zerolinecolor": "white",
           "zerolinewidth": 2
          }
         }
        },
        "title": {
         "text": "Boxplot da Acurácia Balanceada do classificador Real"
        },
        "xaxis": {
         "anchor": "y",
         "domain": [
          0,
          1
         ],
         "title": {
          "text": "Nome"
         }
        },
        "yaxis": {
         "anchor": "x",
         "domain": [
          0,
          1
         ],
         "range": [
          0,
          1
         ],
         "title": {
          "text": "Acurácia Balanceada"
         }
        }
       }
      }
     },
     "metadata": {},
     "output_type": "display_data"
    },
    {
     "data": {
      "application/vnd.plotly.v1+json": {
       "config": {
        "plotlyServerURL": "https://plot.ly"
       },
       "data": [
        {
         "alignmentgroup": "True",
         "boxpoints": "all",
         "hovertemplate": "Nome=%{x}<br>F1-score Balanceada=%{y}<extra></extra>",
         "legendgroup": "",
         "marker": {
          "color": "#636efa"
         },
         "name": "",
         "notched": false,
         "offsetgroup": "",
         "orientation": "v",
         "showlegend": false,
         "type": "box",
         "x": [
          "logreg",
          "KNN",
          "GaussianNB",
          "Perceptron",
          "LinearSVC",
          "SGD",
          "Dtree",
          "RForest",
          "ADA",
          "GBC",
          "ETC",
          "logreg",
          "KNN",
          "GaussianNB",
          "Perceptron",
          "LinearSVC",
          "SGD",
          "Dtree",
          "RForest",
          "ADA",
          "GBC",
          "ETC",
          "logreg",
          "KNN",
          "GaussianNB",
          "Perceptron",
          "LinearSVC",
          "SGD",
          "Dtree",
          "RForest",
          "ADA",
          "GBC",
          "ETC",
          "logreg",
          "KNN",
          "GaussianNB",
          "Perceptron",
          "LinearSVC",
          "SGD",
          "Dtree",
          "RForest",
          "ADA",
          "GBC",
          "ETC",
          "logreg",
          "KNN",
          "GaussianNB",
          "Perceptron",
          "LinearSVC",
          "SGD",
          "Dtree",
          "RForest",
          "ADA",
          "GBC",
          "ETC",
          "logreg",
          "KNN",
          "GaussianNB",
          "Perceptron",
          "LinearSVC",
          "SGD",
          "Dtree",
          "RForest",
          "ADA",
          "GBC",
          "ETC",
          "logreg",
          "KNN",
          "GaussianNB",
          "Perceptron",
          "LinearSVC",
          "SGD",
          "Dtree",
          "RForest",
          "ADA",
          "GBC",
          "ETC",
          "logreg",
          "KNN",
          "GaussianNB",
          "Perceptron",
          "LinearSVC",
          "SGD",
          "Dtree",
          "RForest",
          "ADA",
          "GBC",
          "ETC",
          "logreg",
          "KNN",
          "GaussianNB",
          "Perceptron",
          "LinearSVC",
          "SGD",
          "Dtree",
          "RForest",
          "ADA",
          "GBC",
          "ETC",
          "logreg",
          "KNN",
          "GaussianNB",
          "Perceptron",
          "LinearSVC",
          "SGD",
          "Dtree",
          "RForest",
          "ADA",
          "GBC",
          "ETC",
          "logreg",
          "KNN",
          "GaussianNB",
          "Perceptron",
          "LinearSVC",
          "SGD",
          "Dtree",
          "RForest",
          "ADA",
          "GBC",
          "ETC",
          "logreg",
          "KNN",
          "GaussianNB",
          "Perceptron",
          "LinearSVC",
          "SGD",
          "Dtree",
          "RForest",
          "ADA",
          "GBC",
          "ETC",
          "logreg",
          "KNN",
          "GaussianNB",
          "Perceptron",
          "LinearSVC",
          "SGD",
          "Dtree",
          "RForest",
          "ADA",
          "GBC",
          "ETC",
          "logreg",
          "KNN",
          "GaussianNB",
          "Perceptron",
          "LinearSVC",
          "SGD",
          "Dtree",
          "RForest",
          "ADA",
          "GBC",
          "ETC",
          "logreg",
          "KNN",
          "GaussianNB",
          "Perceptron",
          "LinearSVC",
          "SGD",
          "Dtree",
          "RForest",
          "ADA",
          "GBC",
          "ETC",
          "logreg",
          "KNN",
          "GaussianNB",
          "Perceptron",
          "LinearSVC",
          "SGD",
          "Dtree",
          "RForest",
          "ADA",
          "GBC",
          "ETC",
          "logreg",
          "KNN",
          "GaussianNB",
          "Perceptron",
          "LinearSVC",
          "SGD",
          "Dtree",
          "RForest",
          "ADA",
          "GBC",
          "ETC",
          "logreg",
          "KNN",
          "GaussianNB",
          "Perceptron",
          "LinearSVC",
          "SGD",
          "Dtree",
          "RForest",
          "ADA",
          "GBC",
          "ETC",
          "logreg",
          "KNN",
          "GaussianNB",
          "Perceptron",
          "LinearSVC",
          "SGD",
          "Dtree",
          "RForest",
          "ADA",
          "GBC",
          "ETC",
          "logreg",
          "KNN",
          "GaussianNB",
          "Perceptron",
          "LinearSVC",
          "SGD",
          "Dtree",
          "RForest",
          "ADA",
          "GBC",
          "ETC",
          "logreg",
          "KNN",
          "GaussianNB",
          "Perceptron",
          "LinearSVC",
          "SGD",
          "Dtree",
          "RForest",
          "ADA",
          "GBC",
          "ETC",
          "logreg",
          "KNN",
          "GaussianNB",
          "Perceptron",
          "LinearSVC",
          "SGD",
          "Dtree",
          "RForest",
          "ADA",
          "GBC",
          "ETC",
          "logreg",
          "KNN",
          "GaussianNB",
          "Perceptron",
          "LinearSVC",
          "SGD",
          "Dtree",
          "RForest",
          "ADA",
          "GBC",
          "ETC",
          "logreg",
          "KNN",
          "GaussianNB",
          "Perceptron",
          "LinearSVC",
          "SGD",
          "Dtree",
          "RForest",
          "ADA",
          "GBC",
          "ETC",
          "logreg",
          "KNN",
          "GaussianNB",
          "Perceptron",
          "LinearSVC",
          "SGD",
          "Dtree",
          "RForest",
          "ADA",
          "GBC",
          "ETC"
         ],
         "x0": " ",
         "xaxis": "x",
         "y": [
          0.8410932847635382,
          0.8328705831785891,
          0.8612118633389831,
          0.8665211851643294,
          0.8452137424600052,
          0.8544007943691327,
          0.8384240584401483,
          0.862455151802584,
          0.7871104101387948,
          0.8374049905821702,
          0.8944741367124545,
          0.8807538539049569,
          0.927079434603883,
          0.7796609091353909,
          0.8437480549212076,
          0.8737339696422893,
          0.872112716269832,
          0.9063385761297988,
          0.920084398978306,
          0.9131918418524604,
          0.9090395332331576,
          0.9243618438477108,
          0.8854526948541858,
          0.9305809821237548,
          0.8194306239298508,
          0.8602887537630488,
          0.8797316590177238,
          0.8836261530786599,
          0.9056982194062462,
          0.9215420595582832,
          0.9069254853511112,
          0.9165285474836798,
          0.9218372403771296,
          0.8803617411223371,
          0.9181469160140324,
          0.8410211842301359,
          0.8494640020551242,
          0.8706596846560176,
          0.889005536268212,
          0.915518824477917,
          0.9178977642322504,
          0.9033826890814284,
          0.9163981872876564,
          0.9112901810644606,
          0.8840029852484781,
          0.9281782984418432,
          0.9065357090356132,
          0.9035503241591034,
          0.862867172541535,
          0.8804924991291714,
          0.9183064111047108,
          0.9191365696894293,
          0.9098094939820922,
          0.9161998402963232,
          0.9208402658447348,
          0.8658349911571057,
          0.8449833522958521,
          0.8771207941011339,
          0.8370074196375331,
          0.874891094597253,
          0.8798267356401709,
          0.7513499028144571,
          0.8453132426147791,
          0.7620176027350788,
          0.8068770343009715,
          0.9210715361554792,
          0.9318767839811776,
          0.9507567164236792,
          0.7972253583783794,
          0.8757697703571679,
          0.9172312842608032,
          0.8969541930163052,
          0.8940765814584685,
          0.985177752413701,
          0.971668240109673,
          0.9840583901490566,
          0.974375536857697,
          0.9395843712520466,
          0.9652564122982088,
          0.846614642497122,
          0.9250181702440542,
          0.9205472305857332,
          0.9155200223760336,
          0.9554224144585032,
          0.9927898808270502,
          0.9773853164642824,
          0.9916088696730808,
          0.9796967636242688,
          0.9243494673404232,
          0.9642970702348348,
          0.8579377143802452,
          0.883898857586688,
          0.8999299948551388,
          0.8979875928486244,
          0.9430201178328304,
          0.9946654607417104,
          0.9858949301271528,
          0.9889963389954304,
          0.9768964207225804,
          0.9355058255368526,
          0.9724641614599988,
          0.9329462025860068,
          0.934167492950435,
          0.9033779733708158,
          0.8753087811927119,
          0.9874047620683604,
          0.9950966724770764,
          0.977587463639833,
          0.9954099750084028,
          0.9740209664845788,
          0.8777922487646072,
          0.8435663778841243,
          0.023845436647149,
          0.8500614142544693,
          0.8921167207680403,
          0.9045462610670758,
          0.7931742141105419,
          0.8609441364636087,
          0.7693093600009427,
          0.8024371211717451,
          0.9101237911098846,
          0.9204724816365956,
          0.9432012023434037,
          0.1548307371912897,
          0.9078936817312934,
          0.9252639064696484,
          0.927137895969234,
          0.9059704522439956,
          0.9782325630776896,
          0.968164102585949,
          0.9765943448357728,
          0.9675221947465582,
          0.9194036999933334,
          0.960129473552481,
          0.0233359157092795,
          0.9164255337423972,
          0.9294740549888728,
          0.9171003271172968,
          0.96562427867954,
          0.9846985058848916,
          0.9846195519107648,
          0.9829173129713468,
          0.9739192619652648,
          0.9382709634633,
          0.966441068202558,
          0.1129189779233054,
          0.8155861457743893,
          0.9367543408141018,
          0.942165975833432,
          0.9801695795341108,
          0.987462866431396,
          0.9893937567451202,
          0.9856296627847668,
          0.9774502128134016,
          0.9374807651978284,
          0.9704681579820588,
          0.0148017847762163,
          0.9123125316457744,
          0.9376597619616618,
          0.9356384045639894,
          0.979121503871806,
          0.9877852133670516,
          0.9908674068585556,
          0.9854004674401812,
          0.97268031850805,
          0.9051074943492332,
          0.8546687278372459,
          0.9290442776331154,
          0.8774955690859477,
          0.922302764192414,
          0.9363133438350462,
          0.756343370361813,
          0.8637292081648625,
          0.7829921899682554,
          0.7825844713336105,
          0.9222155533173482,
          0.9416845934426826,
          0.9561650871938092,
          0.7442202344392118,
          0.8597954608650816,
          0.94648654616016,
          0.9454158621057182,
          0.9304533606559816,
          0.974636080256828,
          0.9194181114329104,
          0.9679162691094736,
          0.9649544279712562,
          0.9415821534674544,
          0.9735658915422946,
          0.8860188515835752,
          0.940445900375264,
          0.948105445296294,
          0.9472336150770152,
          0.9780853970324916,
          0.989686655331284,
          0.9677891268257778,
          0.9811957662476924,
          0.9837072440029296,
          0.9508300586621604,
          0.9685048019500498,
          0.8798602180280937,
          0.8722657830594782,
          0.9467465858736366,
          0.9504698727386076,
          0.9659810715464292,
          0.9884963038390304,
          0.980483674655108,
          0.98338215763024,
          0.96807529087484,
          0.9651997585438468,
          0.9810449307411258,
          0.9063707608760172,
          0.971537768047216,
          0.956456879273334,
          0.9661486993395764,
          0.983632966025974,
          0.98926284271023,
          0.9668687870194396,
          0.9857984088990522,
          0.9783272740274735,
          0.8312982001533678,
          0.8722728420524527,
          0.829695063040369,
          0.8406342135783023,
          0.8309411188207321,
          0.841023833917268,
          0.7778775843297491,
          0.8585838251621275,
          0.7949617557601407,
          0.7987051914357725,
          0.882028114008379,
          0.8436557010579204,
          0.8846467487931394,
          0.7451264660756782,
          0.8204970708214321,
          0.8441124650571038,
          0.8425790941573471,
          0.8758265165573759,
          0.8922800558966811,
          0.8809061523332892,
          0.8858771365722867,
          0.8843415993975435,
          0.826198051470922,
          0.8901192131831811,
          0.7826434531890997,
          0.7800827278024163,
          0.8264230003835993,
          0.8217385842031801,
          0.892017095352251,
          0.8790102964983919,
          0.8890530186711054,
          0.8845980608191879,
          0.8826632580479481,
          0.8413235857009678,
          0.8875677442600786,
          0.8162915683366737,
          0.8521035326511263,
          0.8417296812515158,
          0.8442114234105662,
          0.8885493896695482,
          0.8897166699822453,
          0.8919309462973486,
          0.8917600936482895,
          0.8841719588109822,
          0.8512917337777206,
          0.9005521381611025,
          0.8589253358095872,
          0.8455193594511856,
          0.8496819447716142,
          0.848325166687578,
          0.9028759315450782,
          0.8869449728800043,
          0.8958772332082982,
          0.8942775078108527,
          0.8835537549699489
         ],
         "y0": " ",
         "yaxis": "y"
        }
       ],
       "layout": {
        "boxmode": "group",
        "legend": {
         "tracegroupgap": 0
        },
        "template": {
         "data": {
          "bar": [
           {
            "error_x": {
             "color": "#2a3f5f"
            },
            "error_y": {
             "color": "#2a3f5f"
            },
            "marker": {
             "line": {
              "color": "#E5ECF6",
              "width": 0.5
             },
             "pattern": {
              "fillmode": "overlay",
              "size": 10,
              "solidity": 0.2
             }
            },
            "type": "bar"
           }
          ],
          "barpolar": [
           {
            "marker": {
             "line": {
              "color": "#E5ECF6",
              "width": 0.5
             },
             "pattern": {
              "fillmode": "overlay",
              "size": 10,
              "solidity": 0.2
             }
            },
            "type": "barpolar"
           }
          ],
          "carpet": [
           {
            "aaxis": {
             "endlinecolor": "#2a3f5f",
             "gridcolor": "white",
             "linecolor": "white",
             "minorgridcolor": "white",
             "startlinecolor": "#2a3f5f"
            },
            "baxis": {
             "endlinecolor": "#2a3f5f",
             "gridcolor": "white",
             "linecolor": "white",
             "minorgridcolor": "white",
             "startlinecolor": "#2a3f5f"
            },
            "type": "carpet"
           }
          ],
          "choropleth": [
           {
            "colorbar": {
             "outlinewidth": 0,
             "ticks": ""
            },
            "type": "choropleth"
           }
          ],
          "contour": [
           {
            "colorbar": {
             "outlinewidth": 0,
             "ticks": ""
            },
            "colorscale": [
             [
              0,
              "#0d0887"
             ],
             [
              0.1111111111111111,
              "#46039f"
             ],
             [
              0.2222222222222222,
              "#7201a8"
             ],
             [
              0.3333333333333333,
              "#9c179e"
             ],
             [
              0.4444444444444444,
              "#bd3786"
             ],
             [
              0.5555555555555556,
              "#d8576b"
             ],
             [
              0.6666666666666666,
              "#ed7953"
             ],
             [
              0.7777777777777778,
              "#fb9f3a"
             ],
             [
              0.8888888888888888,
              "#fdca26"
             ],
             [
              1,
              "#f0f921"
             ]
            ],
            "type": "contour"
           }
          ],
          "contourcarpet": [
           {
            "colorbar": {
             "outlinewidth": 0,
             "ticks": ""
            },
            "type": "contourcarpet"
           }
          ],
          "heatmap": [
           {
            "colorbar": {
             "outlinewidth": 0,
             "ticks": ""
            },
            "colorscale": [
             [
              0,
              "#0d0887"
             ],
             [
              0.1111111111111111,
              "#46039f"
             ],
             [
              0.2222222222222222,
              "#7201a8"
             ],
             [
              0.3333333333333333,
              "#9c179e"
             ],
             [
              0.4444444444444444,
              "#bd3786"
             ],
             [
              0.5555555555555556,
              "#d8576b"
             ],
             [
              0.6666666666666666,
              "#ed7953"
             ],
             [
              0.7777777777777778,
              "#fb9f3a"
             ],
             [
              0.8888888888888888,
              "#fdca26"
             ],
             [
              1,
              "#f0f921"
             ]
            ],
            "type": "heatmap"
           }
          ],
          "heatmapgl": [
           {
            "colorbar": {
             "outlinewidth": 0,
             "ticks": ""
            },
            "colorscale": [
             [
              0,
              "#0d0887"
             ],
             [
              0.1111111111111111,
              "#46039f"
             ],
             [
              0.2222222222222222,
              "#7201a8"
             ],
             [
              0.3333333333333333,
              "#9c179e"
             ],
             [
              0.4444444444444444,
              "#bd3786"
             ],
             [
              0.5555555555555556,
              "#d8576b"
             ],
             [
              0.6666666666666666,
              "#ed7953"
             ],
             [
              0.7777777777777778,
              "#fb9f3a"
             ],
             [
              0.8888888888888888,
              "#fdca26"
             ],
             [
              1,
              "#f0f921"
             ]
            ],
            "type": "heatmapgl"
           }
          ],
          "histogram": [
           {
            "marker": {
             "pattern": {
              "fillmode": "overlay",
              "size": 10,
              "solidity": 0.2
             }
            },
            "type": "histogram"
           }
          ],
          "histogram2d": [
           {
            "colorbar": {
             "outlinewidth": 0,
             "ticks": ""
            },
            "colorscale": [
             [
              0,
              "#0d0887"
             ],
             [
              0.1111111111111111,
              "#46039f"
             ],
             [
              0.2222222222222222,
              "#7201a8"
             ],
             [
              0.3333333333333333,
              "#9c179e"
             ],
             [
              0.4444444444444444,
              "#bd3786"
             ],
             [
              0.5555555555555556,
              "#d8576b"
             ],
             [
              0.6666666666666666,
              "#ed7953"
             ],
             [
              0.7777777777777778,
              "#fb9f3a"
             ],
             [
              0.8888888888888888,
              "#fdca26"
             ],
             [
              1,
              "#f0f921"
             ]
            ],
            "type": "histogram2d"
           }
          ],
          "histogram2dcontour": [
           {
            "colorbar": {
             "outlinewidth": 0,
             "ticks": ""
            },
            "colorscale": [
             [
              0,
              "#0d0887"
             ],
             [
              0.1111111111111111,
              "#46039f"
             ],
             [
              0.2222222222222222,
              "#7201a8"
             ],
             [
              0.3333333333333333,
              "#9c179e"
             ],
             [
              0.4444444444444444,
              "#bd3786"
             ],
             [
              0.5555555555555556,
              "#d8576b"
             ],
             [
              0.6666666666666666,
              "#ed7953"
             ],
             [
              0.7777777777777778,
              "#fb9f3a"
             ],
             [
              0.8888888888888888,
              "#fdca26"
             ],
             [
              1,
              "#f0f921"
             ]
            ],
            "type": "histogram2dcontour"
           }
          ],
          "mesh3d": [
           {
            "colorbar": {
             "outlinewidth": 0,
             "ticks": ""
            },
            "type": "mesh3d"
           }
          ],
          "parcoords": [
           {
            "line": {
             "colorbar": {
              "outlinewidth": 0,
              "ticks": ""
             }
            },
            "type": "parcoords"
           }
          ],
          "pie": [
           {
            "automargin": true,
            "type": "pie"
           }
          ],
          "scatter": [
           {
            "fillpattern": {
             "fillmode": "overlay",
             "size": 10,
             "solidity": 0.2
            },
            "type": "scatter"
           }
          ],
          "scatter3d": [
           {
            "line": {
             "colorbar": {
              "outlinewidth": 0,
              "ticks": ""
             }
            },
            "marker": {
             "colorbar": {
              "outlinewidth": 0,
              "ticks": ""
             }
            },
            "type": "scatter3d"
           }
          ],
          "scattercarpet": [
           {
            "marker": {
             "colorbar": {
              "outlinewidth": 0,
              "ticks": ""
             }
            },
            "type": "scattercarpet"
           }
          ],
          "scattergeo": [
           {
            "marker": {
             "colorbar": {
              "outlinewidth": 0,
              "ticks": ""
             }
            },
            "type": "scattergeo"
           }
          ],
          "scattergl": [
           {
            "marker": {
             "colorbar": {
              "outlinewidth": 0,
              "ticks": ""
             }
            },
            "type": "scattergl"
           }
          ],
          "scattermapbox": [
           {
            "marker": {
             "colorbar": {
              "outlinewidth": 0,
              "ticks": ""
             }
            },
            "type": "scattermapbox"
           }
          ],
          "scatterpolar": [
           {
            "marker": {
             "colorbar": {
              "outlinewidth": 0,
              "ticks": ""
             }
            },
            "type": "scatterpolar"
           }
          ],
          "scatterpolargl": [
           {
            "marker": {
             "colorbar": {
              "outlinewidth": 0,
              "ticks": ""
             }
            },
            "type": "scatterpolargl"
           }
          ],
          "scatterternary": [
           {
            "marker": {
             "colorbar": {
              "outlinewidth": 0,
              "ticks": ""
             }
            },
            "type": "scatterternary"
           }
          ],
          "surface": [
           {
            "colorbar": {
             "outlinewidth": 0,
             "ticks": ""
            },
            "colorscale": [
             [
              0,
              "#0d0887"
             ],
             [
              0.1111111111111111,
              "#46039f"
             ],
             [
              0.2222222222222222,
              "#7201a8"
             ],
             [
              0.3333333333333333,
              "#9c179e"
             ],
             [
              0.4444444444444444,
              "#bd3786"
             ],
             [
              0.5555555555555556,
              "#d8576b"
             ],
             [
              0.6666666666666666,
              "#ed7953"
             ],
             [
              0.7777777777777778,
              "#fb9f3a"
             ],
             [
              0.8888888888888888,
              "#fdca26"
             ],
             [
              1,
              "#f0f921"
             ]
            ],
            "type": "surface"
           }
          ],
          "table": [
           {
            "cells": {
             "fill": {
              "color": "#EBF0F8"
             },
             "line": {
              "color": "white"
             }
            },
            "header": {
             "fill": {
              "color": "#C8D4E3"
             },
             "line": {
              "color": "white"
             }
            },
            "type": "table"
           }
          ]
         },
         "layout": {
          "annotationdefaults": {
           "arrowcolor": "#2a3f5f",
           "arrowhead": 0,
           "arrowwidth": 1
          },
          "autotypenumbers": "strict",
          "coloraxis": {
           "colorbar": {
            "outlinewidth": 0,
            "ticks": ""
           }
          },
          "colorscale": {
           "diverging": [
            [
             0,
             "#8e0152"
            ],
            [
             0.1,
             "#c51b7d"
            ],
            [
             0.2,
             "#de77ae"
            ],
            [
             0.3,
             "#f1b6da"
            ],
            [
             0.4,
             "#fde0ef"
            ],
            [
             0.5,
             "#f7f7f7"
            ],
            [
             0.6,
             "#e6f5d0"
            ],
            [
             0.7,
             "#b8e186"
            ],
            [
             0.8,
             "#7fbc41"
            ],
            [
             0.9,
             "#4d9221"
            ],
            [
             1,
             "#276419"
            ]
           ],
           "sequential": [
            [
             0,
             "#0d0887"
            ],
            [
             0.1111111111111111,
             "#46039f"
            ],
            [
             0.2222222222222222,
             "#7201a8"
            ],
            [
             0.3333333333333333,
             "#9c179e"
            ],
            [
             0.4444444444444444,
             "#bd3786"
            ],
            [
             0.5555555555555556,
             "#d8576b"
            ],
            [
             0.6666666666666666,
             "#ed7953"
            ],
            [
             0.7777777777777778,
             "#fb9f3a"
            ],
            [
             0.8888888888888888,
             "#fdca26"
            ],
            [
             1,
             "#f0f921"
            ]
           ],
           "sequentialminus": [
            [
             0,
             "#0d0887"
            ],
            [
             0.1111111111111111,
             "#46039f"
            ],
            [
             0.2222222222222222,
             "#7201a8"
            ],
            [
             0.3333333333333333,
             "#9c179e"
            ],
            [
             0.4444444444444444,
             "#bd3786"
            ],
            [
             0.5555555555555556,
             "#d8576b"
            ],
            [
             0.6666666666666666,
             "#ed7953"
            ],
            [
             0.7777777777777778,
             "#fb9f3a"
            ],
            [
             0.8888888888888888,
             "#fdca26"
            ],
            [
             1,
             "#f0f921"
            ]
           ]
          },
          "colorway": [
           "#636efa",
           "#EF553B",
           "#00cc96",
           "#ab63fa",
           "#FFA15A",
           "#19d3f3",
           "#FF6692",
           "#B6E880",
           "#FF97FF",
           "#FECB52"
          ],
          "font": {
           "color": "#2a3f5f"
          },
          "geo": {
           "bgcolor": "white",
           "lakecolor": "white",
           "landcolor": "#E5ECF6",
           "showlakes": true,
           "showland": true,
           "subunitcolor": "white"
          },
          "hoverlabel": {
           "align": "left"
          },
          "hovermode": "closest",
          "mapbox": {
           "style": "light"
          },
          "paper_bgcolor": "white",
          "plot_bgcolor": "#E5ECF6",
          "polar": {
           "angularaxis": {
            "gridcolor": "white",
            "linecolor": "white",
            "ticks": ""
           },
           "bgcolor": "#E5ECF6",
           "radialaxis": {
            "gridcolor": "white",
            "linecolor": "white",
            "ticks": ""
           }
          },
          "scene": {
           "xaxis": {
            "backgroundcolor": "#E5ECF6",
            "gridcolor": "white",
            "gridwidth": 2,
            "linecolor": "white",
            "showbackground": true,
            "ticks": "",
            "zerolinecolor": "white"
           },
           "yaxis": {
            "backgroundcolor": "#E5ECF6",
            "gridcolor": "white",
            "gridwidth": 2,
            "linecolor": "white",
            "showbackground": true,
            "ticks": "",
            "zerolinecolor": "white"
           },
           "zaxis": {
            "backgroundcolor": "#E5ECF6",
            "gridcolor": "white",
            "gridwidth": 2,
            "linecolor": "white",
            "showbackground": true,
            "ticks": "",
            "zerolinecolor": "white"
           }
          },
          "shapedefaults": {
           "line": {
            "color": "#2a3f5f"
           }
          },
          "ternary": {
           "aaxis": {
            "gridcolor": "white",
            "linecolor": "white",
            "ticks": ""
           },
           "baxis": {
            "gridcolor": "white",
            "linecolor": "white",
            "ticks": ""
           },
           "bgcolor": "#E5ECF6",
           "caxis": {
            "gridcolor": "white",
            "linecolor": "white",
            "ticks": ""
           }
          },
          "title": {
           "x": 0.05
          },
          "xaxis": {
           "automargin": true,
           "gridcolor": "white",
           "linecolor": "white",
           "ticks": "",
           "title": {
            "standoff": 15
           },
           "zerolinecolor": "white",
           "zerolinewidth": 2
          },
          "yaxis": {
           "automargin": true,
           "gridcolor": "white",
           "linecolor": "white",
           "ticks": "",
           "title": {
            "standoff": 15
           },
           "zerolinecolor": "white",
           "zerolinewidth": 2
          }
         }
        },
        "title": {
         "text": "Boxplot da F1-Score Balanceada do Classificador Real"
        },
        "xaxis": {
         "anchor": "y",
         "domain": [
          0,
          1
         ],
         "title": {
          "text": "Nome"
         }
        },
        "yaxis": {
         "anchor": "x",
         "domain": [
          0,
          1
         ],
         "range": [
          0,
          1
         ],
         "title": {
          "text": "F1-score Balanceada"
         }
        }
       }
      }
     },
     "metadata": {},
     "output_type": "display_data"
    }
   ],
   "source": [
    "# Criar boxplot da acurácia por modelo real real \n",
    "fig = px.box(df1, x='Nome', y='Acurácia Balanceada', points='all', title='Boxplot da Acurácia Balanceada do classificador Real')\n",
    "\n",
    "fig.update_yaxes(range=[0, 1])\n",
    "fig.show()\n",
    "\n",
    "fig = px.box(df1, x='Nome', y='F1-score Balanceada', points='all', title='Boxplot da F1-Score Balanceada do Classificador Real')\n",
    "fig.update_yaxes(range=[0, 1])\n",
    "fig.show()"
   ]
  },
  {
   "cell_type": "code",
   "execution_count": 6,
   "metadata": {},
   "outputs": [
    {
     "data": {
      "application/vnd.plotly.v1+json": {
       "config": {
        "plotlyServerURL": "https://plot.ly"
       },
       "data": [
        {
         "alignmentgroup": "True",
         "boxpoints": "all",
         "hovertemplate": "Nome=%{x}<br>Acurácia Balanceada=%{y}<extra></extra>",
         "legendgroup": "",
         "marker": {
          "color": "#636efa"
         },
         "name": "",
         "notched": false,
         "offsetgroup": "",
         "orientation": "v",
         "showlegend": false,
         "type": "box",
         "x": [
          "logreg",
          "KNN",
          "GaussianNB",
          "Perceptron",
          "LinearSVC",
          "SGD",
          "Dtree",
          "RForest",
          "ADA",
          "GBC",
          "ETC",
          "logreg",
          "KNN",
          "GaussianNB",
          "Perceptron",
          "LinearSVC",
          "SGD",
          "Dtree",
          "RForest",
          "ADA",
          "GBC",
          "ETC",
          "logreg",
          "KNN",
          "GaussianNB",
          "Perceptron",
          "LinearSVC",
          "SGD",
          "Dtree",
          "RForest",
          "ADA",
          "GBC",
          "ETC",
          "logreg",
          "KNN",
          "GaussianNB",
          "Perceptron",
          "LinearSVC",
          "SGD",
          "Dtree",
          "RForest",
          "ADA",
          "GBC",
          "ETC",
          "logreg",
          "KNN",
          "GaussianNB",
          "Perceptron",
          "LinearSVC",
          "SGD",
          "Dtree",
          "RForest",
          "ADA",
          "GBC",
          "ETC",
          "logreg",
          "KNN",
          "GaussianNB",
          "Perceptron",
          "LinearSVC",
          "SGD",
          "Dtree",
          "RForest",
          "ADA",
          "GBC",
          "ETC",
          "logreg",
          "KNN",
          "GaussianNB",
          "Perceptron",
          "LinearSVC",
          "SGD",
          "Dtree",
          "RForest",
          "ADA",
          "GBC",
          "ETC",
          "logreg",
          "KNN",
          "GaussianNB",
          "Perceptron",
          "LinearSVC",
          "SGD",
          "Dtree",
          "RForest",
          "ADA",
          "GBC",
          "ETC",
          "logreg",
          "KNN",
          "GaussianNB",
          "Perceptron",
          "LinearSVC",
          "SGD",
          "Dtree",
          "RForest",
          "ADA",
          "GBC",
          "ETC",
          "logreg",
          "KNN",
          "GaussianNB",
          "Perceptron",
          "LinearSVC",
          "SGD",
          "Dtree",
          "RForest",
          "ADA",
          "GBC",
          "ETC",
          "logreg",
          "KNN",
          "GaussianNB",
          "Perceptron",
          "LinearSVC",
          "SGD",
          "Dtree",
          "RForest",
          "ADA",
          "GBC",
          "ETC",
          "logreg",
          "KNN",
          "GaussianNB",
          "Perceptron",
          "LinearSVC",
          "SGD",
          "Dtree",
          "RForest",
          "ADA",
          "GBC",
          "ETC",
          "logreg",
          "KNN",
          "GaussianNB",
          "Perceptron",
          "LinearSVC",
          "SGD",
          "Dtree",
          "RForest",
          "ADA",
          "GBC",
          "ETC",
          "logreg",
          "KNN",
          "GaussianNB",
          "Perceptron",
          "LinearSVC",
          "SGD",
          "Dtree",
          "RForest",
          "ADA",
          "GBC",
          "ETC",
          "logreg",
          "KNN",
          "GaussianNB",
          "Perceptron",
          "LinearSVC",
          "SGD",
          "Dtree",
          "RForest",
          "ADA",
          "GBC",
          "ETC",
          "logreg",
          "KNN",
          "GaussianNB",
          "Perceptron",
          "LinearSVC",
          "SGD",
          "Dtree",
          "RForest",
          "ADA",
          "GBC",
          "ETC",
          "logreg",
          "KNN",
          "GaussianNB",
          "Perceptron",
          "LinearSVC",
          "SGD",
          "Dtree",
          "RForest",
          "ADA",
          "GBC",
          "ETC",
          "logreg",
          "KNN",
          "GaussianNB",
          "Perceptron",
          "LinearSVC",
          "SGD",
          "Dtree",
          "RForest",
          "ADA",
          "GBC",
          "ETC",
          "logreg",
          "KNN",
          "GaussianNB",
          "Perceptron",
          "LinearSVC",
          "SGD",
          "Dtree",
          "RForest",
          "ADA",
          "GBC",
          "ETC",
          "logreg",
          "KNN",
          "GaussianNB",
          "Perceptron",
          "LinearSVC",
          "SGD",
          "Dtree",
          "RForest",
          "ADA",
          "GBC",
          "ETC",
          "logreg",
          "KNN",
          "GaussianNB",
          "Perceptron",
          "LinearSVC",
          "SGD",
          "Dtree",
          "RForest",
          "ADA",
          "GBC",
          "ETC",
          "logreg",
          "KNN",
          "GaussianNB",
          "Perceptron",
          "LinearSVC",
          "SGD",
          "Dtree",
          "RForest",
          "ADA",
          "GBC",
          "ETC",
          "logreg",
          "KNN",
          "GaussianNB",
          "Perceptron",
          "LinearSVC",
          "SGD",
          "Dtree",
          "RForest",
          "ADA",
          "GBC",
          "ETC",
          "logreg",
          "KNN",
          "GaussianNB",
          "Perceptron",
          "LinearSVC",
          "SGD",
          "Dtree",
          "RForest",
          "ADA",
          "GBC",
          "ETC",
          "logreg",
          "KNN",
          "GaussianNB",
          "Perceptron",
          "LinearSVC",
          "SGD",
          "Dtree",
          "RForest",
          "ADA",
          "GBC",
          "ETC"
         ],
         "x0": " ",
         "xaxis": "x",
         "y": [
          0.8341287945253553,
          0.920126337954027,
          0.5430952798736621,
          0.8583084751710826,
          0.8336901210738725,
          0.8310756273030356,
          0.8846815230742235,
          0.92030180733462,
          0.7696613440954554,
          0.8494121775750132,
          0.9334795578171609,
          0.833146165994034,
          0.9209685909808738,
          0.5391998596244956,
          0.8206176522196877,
          0.8325495701000176,
          0.8352517985611512,
          0.8843305843130373,
          0.9197929461309,
          0.7891735392174066,
          0.858045271100193,
          0.9327776802947884,
          0.826548517283734,
          0.9218108440077206,
          0.5263379540270223,
          0.7792946130900158,
          0.8256185295665905,
          0.8292507457448675,
          0.8791893314616599,
          0.9187927706615197,
          0.7679417441656431,
          0.8531847692577645,
          0.9305492191612564,
          0.7926302860150903,
          0.9234076153711176,
          0.5204246359010353,
          0.7736971398490964,
          0.7890156167748728,
          0.7907527636427443,
          0.8815757150377259,
          0.923653272503948,
          0.7291981049306896,
          0.8478329531496753,
          0.9344972802246008,
          0.7681172135462362,
          0.950359712230216,
          0.5128443586594139,
          0.7285839620986139,
          0.7742410949289349,
          0.7836287067906651,
          0.8600456220389542,
          0.9460256185295666,
          0.7037024039305142,
          0.8082119670117565,
          0.9679768380417616,
          0.917669766625724,
          0.9914195472889982,
          0.5484120021056326,
          0.9269170029829794,
          0.9130724688541848,
          0.9157571503772592,
          0.9919635023688368,
          0.9959817511844185,
          0.8619757852254781,
          0.9574311282681172,
          0.996525706264257,
          0.9159852605720302,
          0.9933848043516408,
          0.5483593612914546,
          0.8617125811545885,
          0.9121775750131602,
          0.9066853834005966,
          0.9946130900157922,
          0.9970872082821548,
          0.8705386909984207,
          0.960887875065801,
          0.9975785225478152,
          0.9055097385506228,
          0.9918406738024216,
          0.5284611335321986,
          0.8464993858571679,
          0.9014388489208632,
          0.8929812247762765,
          0.9876820494823652,
          0.9917529391121248,
          0.8354799087559222,
          0.9509563081242324,
          0.993753290050886,
          0.8492718020705388,
          0.9921038778733112,
          0.5302158273381294,
          0.8199684155114932,
          0.8439550798385682,
          0.850026320407089,
          0.9887699596420424,
          0.9962098613791894,
          0.8177575013160203,
          0.93400596595894,
          0.9972977715388665,
          0.8190735216704685,
          0.9380768555886998,
          0.5256360765046499,
          0.8240217582031935,
          0.819442007369714,
          0.837690822951395,
          0.8874890331637129,
          0.9323565537813652,
          0.7817336374802597,
          0.8851377434637655,
          0.9332689945604492,
          0.955939638533076,
          0.9944376206351992,
          0.5812247762765397,
          0.9338129496402878,
          0.9506755571152834,
          0.9409194595543078,
          0.9944551675732584,
          0.9969643797157396,
          0.8925250043867345,
          0.9813125109668364,
          0.9975434286716968,
          0.952588173363748,
          0.996139673626952,
          0.5736971398490963,
          0.9398666432707492,
          0.9490963326899456,
          0.9395507983856816,
          0.9958764695560623,
          0.9983330408843656,
          0.892946130900158,
          0.98299701702053,
          0.9987541673977892,
          0.9387085453588347,
          0.9944376206351992,
          0.563326899456045,
          0.9039305141252852,
          0.935181610808914,
          0.9371644148096157,
          0.9913493595367608,
          0.9931742410949288,
          0.8859449026144938,
          0.9675030707141604,
          0.9949113879628004,
          0.8727846990700123,
          0.9951219512195122,
          0.5539919284084927,
          0.837690822951395,
          0.8683102298648886,
          0.8778206702930338,
          0.9894542902263554,
          0.9973153184769256,
          0.8595894016494122,
          0.9427618880505352,
          0.998350587822425,
          0.8402702228461134,
          0.9389366555536058,
          0.5472889980698368,
          0.7906299350763292,
          0.8422179329706966,
          0.8474820143884891,
          0.8779961396736269,
          0.9320231619582384,
          0.805053518161081,
          0.8799263028601509,
          0.9331110721179154,
          0.9759957887348658,
          0.9952623267239866,
          0.5852079312160028,
          0.9598350587822424,
          0.9733637480259696,
          0.9682926829268292,
          0.9961221266888928,
          0.9986664327074926,
          0.9233900684330584,
          0.9861028250570276,
          0.9985436041410772,
          0.971468678715564,
          0.9970170205299176,
          0.5875943147920688,
          0.9508685734339356,
          0.9690647482014388,
          0.966853834005966,
          0.9983154939463064,
          0.9998771714335848,
          0.9187401298473415,
          0.989138445341288,
          0.9998245306194068,
          0.9544832426741534,
          0.9951570450956309,
          0.5644499034918407,
          0.9291279171784524,
          0.9509212142481136,
          0.9487453939287596,
          0.99238462888226,
          0.994367432882962,
          0.8699596420424636,
          0.9690296543253204,
          0.9964555185120196,
          0.8815055272854887,
          0.995630812423232,
          0.5691349359536761,
          0.7734163888401474,
          0.8776802947885594,
          0.8777680294788559,
          0.9920161431830146,
          0.998806808211967,
          0.8494823653272503,
          0.9406387085453588,
          0.9994560449201616,
          0.850938761186173,
          0.9403579575364098,
          0.5636602912791718,
          0.8691173890156167,
          0.8538690998420775,
          0.849517459203369,
          0.8888050535181611,
          0.9332163537462712,
          0.7962625021933672,
          0.8757501316020355,
          0.933602386383576,
          0.96573082997017,
          0.984874539392876,
          0.5842253026846815,
          0.9571503772591684,
          0.9631689770135112,
          0.9590805404456922,
          0.9934198982277592,
          0.997771538866468,
          0.8870854535883488,
          0.982031935427268,
          0.9972275837866292,
          0.961344095455343,
          0.9868924372696964,
          0.586980171959993,
          0.8927531145815055,
          0.9588875241270398,
          0.956062467099491,
          0.9905948412002106,
          0.9990700122828566,
          0.8769257764520091,
          0.984313037374978,
          0.9983856816985436,
          0.9448499736795928,
          0.9844007720652744,
          0.5654676258992806,
          0.9232321459905246,
          0.9412528513774346,
          0.9392174065625548,
          0.9887173188278644,
          0.993068959466573,
          0.8807159150728198,
          0.9612563607650464,
          0.994876294086682,
          0.873679592911037,
          0.9850851026495876,
          0.5679768380417617,
          0.8404281452886471,
          0.8705562379364801,
          0.8842428496227408,
          0.9881909106860852,
          0.9978066327425864,
          0.8222495174592034,
          0.9324618354097208,
          0.9965081593261976,
          0.8465520266713459,
          0.9466748552377612,
          0.5695385155290402,
          0.8078961221266889,
          0.8493419898227759,
          0.8415511493244429,
          0.884821898578698,
          0.9344270924723636,
          0.8163888401473942,
          0.8828741884541148,
          0.9363046148447096
         ],
         "y0": " ",
         "yaxis": "y"
        }
       ],
       "layout": {
        "boxmode": "group",
        "legend": {
         "tracegroupgap": 0
        },
        "template": {
         "data": {
          "bar": [
           {
            "error_x": {
             "color": "#2a3f5f"
            },
            "error_y": {
             "color": "#2a3f5f"
            },
            "marker": {
             "line": {
              "color": "#E5ECF6",
              "width": 0.5
             },
             "pattern": {
              "fillmode": "overlay",
              "size": 10,
              "solidity": 0.2
             }
            },
            "type": "bar"
           }
          ],
          "barpolar": [
           {
            "marker": {
             "line": {
              "color": "#E5ECF6",
              "width": 0.5
             },
             "pattern": {
              "fillmode": "overlay",
              "size": 10,
              "solidity": 0.2
             }
            },
            "type": "barpolar"
           }
          ],
          "carpet": [
           {
            "aaxis": {
             "endlinecolor": "#2a3f5f",
             "gridcolor": "white",
             "linecolor": "white",
             "minorgridcolor": "white",
             "startlinecolor": "#2a3f5f"
            },
            "baxis": {
             "endlinecolor": "#2a3f5f",
             "gridcolor": "white",
             "linecolor": "white",
             "minorgridcolor": "white",
             "startlinecolor": "#2a3f5f"
            },
            "type": "carpet"
           }
          ],
          "choropleth": [
           {
            "colorbar": {
             "outlinewidth": 0,
             "ticks": ""
            },
            "type": "choropleth"
           }
          ],
          "contour": [
           {
            "colorbar": {
             "outlinewidth": 0,
             "ticks": ""
            },
            "colorscale": [
             [
              0,
              "#0d0887"
             ],
             [
              0.1111111111111111,
              "#46039f"
             ],
             [
              0.2222222222222222,
              "#7201a8"
             ],
             [
              0.3333333333333333,
              "#9c179e"
             ],
             [
              0.4444444444444444,
              "#bd3786"
             ],
             [
              0.5555555555555556,
              "#d8576b"
             ],
             [
              0.6666666666666666,
              "#ed7953"
             ],
             [
              0.7777777777777778,
              "#fb9f3a"
             ],
             [
              0.8888888888888888,
              "#fdca26"
             ],
             [
              1,
              "#f0f921"
             ]
            ],
            "type": "contour"
           }
          ],
          "contourcarpet": [
           {
            "colorbar": {
             "outlinewidth": 0,
             "ticks": ""
            },
            "type": "contourcarpet"
           }
          ],
          "heatmap": [
           {
            "colorbar": {
             "outlinewidth": 0,
             "ticks": ""
            },
            "colorscale": [
             [
              0,
              "#0d0887"
             ],
             [
              0.1111111111111111,
              "#46039f"
             ],
             [
              0.2222222222222222,
              "#7201a8"
             ],
             [
              0.3333333333333333,
              "#9c179e"
             ],
             [
              0.4444444444444444,
              "#bd3786"
             ],
             [
              0.5555555555555556,
              "#d8576b"
             ],
             [
              0.6666666666666666,
              "#ed7953"
             ],
             [
              0.7777777777777778,
              "#fb9f3a"
             ],
             [
              0.8888888888888888,
              "#fdca26"
             ],
             [
              1,
              "#f0f921"
             ]
            ],
            "type": "heatmap"
           }
          ],
          "heatmapgl": [
           {
            "colorbar": {
             "outlinewidth": 0,
             "ticks": ""
            },
            "colorscale": [
             [
              0,
              "#0d0887"
             ],
             [
              0.1111111111111111,
              "#46039f"
             ],
             [
              0.2222222222222222,
              "#7201a8"
             ],
             [
              0.3333333333333333,
              "#9c179e"
             ],
             [
              0.4444444444444444,
              "#bd3786"
             ],
             [
              0.5555555555555556,
              "#d8576b"
             ],
             [
              0.6666666666666666,
              "#ed7953"
             ],
             [
              0.7777777777777778,
              "#fb9f3a"
             ],
             [
              0.8888888888888888,
              "#fdca26"
             ],
             [
              1,
              "#f0f921"
             ]
            ],
            "type": "heatmapgl"
           }
          ],
          "histogram": [
           {
            "marker": {
             "pattern": {
              "fillmode": "overlay",
              "size": 10,
              "solidity": 0.2
             }
            },
            "type": "histogram"
           }
          ],
          "histogram2d": [
           {
            "colorbar": {
             "outlinewidth": 0,
             "ticks": ""
            },
            "colorscale": [
             [
              0,
              "#0d0887"
             ],
             [
              0.1111111111111111,
              "#46039f"
             ],
             [
              0.2222222222222222,
              "#7201a8"
             ],
             [
              0.3333333333333333,
              "#9c179e"
             ],
             [
              0.4444444444444444,
              "#bd3786"
             ],
             [
              0.5555555555555556,
              "#d8576b"
             ],
             [
              0.6666666666666666,
              "#ed7953"
             ],
             [
              0.7777777777777778,
              "#fb9f3a"
             ],
             [
              0.8888888888888888,
              "#fdca26"
             ],
             [
              1,
              "#f0f921"
             ]
            ],
            "type": "histogram2d"
           }
          ],
          "histogram2dcontour": [
           {
            "colorbar": {
             "outlinewidth": 0,
             "ticks": ""
            },
            "colorscale": [
             [
              0,
              "#0d0887"
             ],
             [
              0.1111111111111111,
              "#46039f"
             ],
             [
              0.2222222222222222,
              "#7201a8"
             ],
             [
              0.3333333333333333,
              "#9c179e"
             ],
             [
              0.4444444444444444,
              "#bd3786"
             ],
             [
              0.5555555555555556,
              "#d8576b"
             ],
             [
              0.6666666666666666,
              "#ed7953"
             ],
             [
              0.7777777777777778,
              "#fb9f3a"
             ],
             [
              0.8888888888888888,
              "#fdca26"
             ],
             [
              1,
              "#f0f921"
             ]
            ],
            "type": "histogram2dcontour"
           }
          ],
          "mesh3d": [
           {
            "colorbar": {
             "outlinewidth": 0,
             "ticks": ""
            },
            "type": "mesh3d"
           }
          ],
          "parcoords": [
           {
            "line": {
             "colorbar": {
              "outlinewidth": 0,
              "ticks": ""
             }
            },
            "type": "parcoords"
           }
          ],
          "pie": [
           {
            "automargin": true,
            "type": "pie"
           }
          ],
          "scatter": [
           {
            "fillpattern": {
             "fillmode": "overlay",
             "size": 10,
             "solidity": 0.2
            },
            "type": "scatter"
           }
          ],
          "scatter3d": [
           {
            "line": {
             "colorbar": {
              "outlinewidth": 0,
              "ticks": ""
             }
            },
            "marker": {
             "colorbar": {
              "outlinewidth": 0,
              "ticks": ""
             }
            },
            "type": "scatter3d"
           }
          ],
          "scattercarpet": [
           {
            "marker": {
             "colorbar": {
              "outlinewidth": 0,
              "ticks": ""
             }
            },
            "type": "scattercarpet"
           }
          ],
          "scattergeo": [
           {
            "marker": {
             "colorbar": {
              "outlinewidth": 0,
              "ticks": ""
             }
            },
            "type": "scattergeo"
           }
          ],
          "scattergl": [
           {
            "marker": {
             "colorbar": {
              "outlinewidth": 0,
              "ticks": ""
             }
            },
            "type": "scattergl"
           }
          ],
          "scattermapbox": [
           {
            "marker": {
             "colorbar": {
              "outlinewidth": 0,
              "ticks": ""
             }
            },
            "type": "scattermapbox"
           }
          ],
          "scatterpolar": [
           {
            "marker": {
             "colorbar": {
              "outlinewidth": 0,
              "ticks": ""
             }
            },
            "type": "scatterpolar"
           }
          ],
          "scatterpolargl": [
           {
            "marker": {
             "colorbar": {
              "outlinewidth": 0,
              "ticks": ""
             }
            },
            "type": "scatterpolargl"
           }
          ],
          "scatterternary": [
           {
            "marker": {
             "colorbar": {
              "outlinewidth": 0,
              "ticks": ""
             }
            },
            "type": "scatterternary"
           }
          ],
          "surface": [
           {
            "colorbar": {
             "outlinewidth": 0,
             "ticks": ""
            },
            "colorscale": [
             [
              0,
              "#0d0887"
             ],
             [
              0.1111111111111111,
              "#46039f"
             ],
             [
              0.2222222222222222,
              "#7201a8"
             ],
             [
              0.3333333333333333,
              "#9c179e"
             ],
             [
              0.4444444444444444,
              "#bd3786"
             ],
             [
              0.5555555555555556,
              "#d8576b"
             ],
             [
              0.6666666666666666,
              "#ed7953"
             ],
             [
              0.7777777777777778,
              "#fb9f3a"
             ],
             [
              0.8888888888888888,
              "#fdca26"
             ],
             [
              1,
              "#f0f921"
             ]
            ],
            "type": "surface"
           }
          ],
          "table": [
           {
            "cells": {
             "fill": {
              "color": "#EBF0F8"
             },
             "line": {
              "color": "white"
             }
            },
            "header": {
             "fill": {
              "color": "#C8D4E3"
             },
             "line": {
              "color": "white"
             }
            },
            "type": "table"
           }
          ]
         },
         "layout": {
          "annotationdefaults": {
           "arrowcolor": "#2a3f5f",
           "arrowhead": 0,
           "arrowwidth": 1
          },
          "autotypenumbers": "strict",
          "coloraxis": {
           "colorbar": {
            "outlinewidth": 0,
            "ticks": ""
           }
          },
          "colorscale": {
           "diverging": [
            [
             0,
             "#8e0152"
            ],
            [
             0.1,
             "#c51b7d"
            ],
            [
             0.2,
             "#de77ae"
            ],
            [
             0.3,
             "#f1b6da"
            ],
            [
             0.4,
             "#fde0ef"
            ],
            [
             0.5,
             "#f7f7f7"
            ],
            [
             0.6,
             "#e6f5d0"
            ],
            [
             0.7,
             "#b8e186"
            ],
            [
             0.8,
             "#7fbc41"
            ],
            [
             0.9,
             "#4d9221"
            ],
            [
             1,
             "#276419"
            ]
           ],
           "sequential": [
            [
             0,
             "#0d0887"
            ],
            [
             0.1111111111111111,
             "#46039f"
            ],
            [
             0.2222222222222222,
             "#7201a8"
            ],
            [
             0.3333333333333333,
             "#9c179e"
            ],
            [
             0.4444444444444444,
             "#bd3786"
            ],
            [
             0.5555555555555556,
             "#d8576b"
            ],
            [
             0.6666666666666666,
             "#ed7953"
            ],
            [
             0.7777777777777778,
             "#fb9f3a"
            ],
            [
             0.8888888888888888,
             "#fdca26"
            ],
            [
             1,
             "#f0f921"
            ]
           ],
           "sequentialminus": [
            [
             0,
             "#0d0887"
            ],
            [
             0.1111111111111111,
             "#46039f"
            ],
            [
             0.2222222222222222,
             "#7201a8"
            ],
            [
             0.3333333333333333,
             "#9c179e"
            ],
            [
             0.4444444444444444,
             "#bd3786"
            ],
            [
             0.5555555555555556,
             "#d8576b"
            ],
            [
             0.6666666666666666,
             "#ed7953"
            ],
            [
             0.7777777777777778,
             "#fb9f3a"
            ],
            [
             0.8888888888888888,
             "#fdca26"
            ],
            [
             1,
             "#f0f921"
            ]
           ]
          },
          "colorway": [
           "#636efa",
           "#EF553B",
           "#00cc96",
           "#ab63fa",
           "#FFA15A",
           "#19d3f3",
           "#FF6692",
           "#B6E880",
           "#FF97FF",
           "#FECB52"
          ],
          "font": {
           "color": "#2a3f5f"
          },
          "geo": {
           "bgcolor": "white",
           "lakecolor": "white",
           "landcolor": "#E5ECF6",
           "showlakes": true,
           "showland": true,
           "subunitcolor": "white"
          },
          "hoverlabel": {
           "align": "left"
          },
          "hovermode": "closest",
          "mapbox": {
           "style": "light"
          },
          "paper_bgcolor": "white",
          "plot_bgcolor": "#E5ECF6",
          "polar": {
           "angularaxis": {
            "gridcolor": "white",
            "linecolor": "white",
            "ticks": ""
           },
           "bgcolor": "#E5ECF6",
           "radialaxis": {
            "gridcolor": "white",
            "linecolor": "white",
            "ticks": ""
           }
          },
          "scene": {
           "xaxis": {
            "backgroundcolor": "#E5ECF6",
            "gridcolor": "white",
            "gridwidth": 2,
            "linecolor": "white",
            "showbackground": true,
            "ticks": "",
            "zerolinecolor": "white"
           },
           "yaxis": {
            "backgroundcolor": "#E5ECF6",
            "gridcolor": "white",
            "gridwidth": 2,
            "linecolor": "white",
            "showbackground": true,
            "ticks": "",
            "zerolinecolor": "white"
           },
           "zaxis": {
            "backgroundcolor": "#E5ECF6",
            "gridcolor": "white",
            "gridwidth": 2,
            "linecolor": "white",
            "showbackground": true,
            "ticks": "",
            "zerolinecolor": "white"
           }
          },
          "shapedefaults": {
           "line": {
            "color": "#2a3f5f"
           }
          },
          "ternary": {
           "aaxis": {
            "gridcolor": "white",
            "linecolor": "white",
            "ticks": ""
           },
           "baxis": {
            "gridcolor": "white",
            "linecolor": "white",
            "ticks": ""
           },
           "bgcolor": "#E5ECF6",
           "caxis": {
            "gridcolor": "white",
            "linecolor": "white",
            "ticks": ""
           }
          },
          "title": {
           "x": 0.05
          },
          "xaxis": {
           "automargin": true,
           "gridcolor": "white",
           "linecolor": "white",
           "ticks": "",
           "title": {
            "standoff": 15
           },
           "zerolinecolor": "white",
           "zerolinewidth": 2
          },
          "yaxis": {
           "automargin": true,
           "gridcolor": "white",
           "linecolor": "white",
           "ticks": "",
           "title": {
            "standoff": 15
           },
           "zerolinecolor": "white",
           "zerolinewidth": 2
          }
         }
        },
        "title": {
         "text": "Boxplot da Acurácia Balanceada do classificador Sim"
        },
        "xaxis": {
         "anchor": "y",
         "domain": [
          0,
          1
         ],
         "title": {
          "text": "Nome"
         }
        },
        "yaxis": {
         "anchor": "x",
         "domain": [
          0,
          1
         ],
         "range": [
          0,
          1
         ],
         "title": {
          "text": "Acurácia Balanceada"
         }
        }
       }
      }
     },
     "metadata": {},
     "output_type": "display_data"
    },
    {
     "data": {
      "application/vnd.plotly.v1+json": {
       "config": {
        "plotlyServerURL": "https://plot.ly"
       },
       "data": [
        {
         "alignmentgroup": "True",
         "boxpoints": "all",
         "hovertemplate": "Nome=%{x}<br>F1-score Balanceada=%{y}<extra></extra>",
         "legendgroup": "",
         "marker": {
          "color": "#636efa"
         },
         "name": "",
         "notched": false,
         "offsetgroup": "",
         "orientation": "v",
         "showlegend": false,
         "type": "box",
         "x": [
          "logreg",
          "KNN",
          "GaussianNB",
          "Perceptron",
          "LinearSVC",
          "SGD",
          "Dtree",
          "RForest",
          "ADA",
          "GBC",
          "ETC",
          "logreg",
          "KNN",
          "GaussianNB",
          "Perceptron",
          "LinearSVC",
          "SGD",
          "Dtree",
          "RForest",
          "ADA",
          "GBC",
          "ETC",
          "logreg",
          "KNN",
          "GaussianNB",
          "Perceptron",
          "LinearSVC",
          "SGD",
          "Dtree",
          "RForest",
          "ADA",
          "GBC",
          "ETC",
          "logreg",
          "KNN",
          "GaussianNB",
          "Perceptron",
          "LinearSVC",
          "SGD",
          "Dtree",
          "RForest",
          "ADA",
          "GBC",
          "ETC",
          "logreg",
          "KNN",
          "GaussianNB",
          "Perceptron",
          "LinearSVC",
          "SGD",
          "Dtree",
          "RForest",
          "ADA",
          "GBC",
          "ETC",
          "logreg",
          "KNN",
          "GaussianNB",
          "Perceptron",
          "LinearSVC",
          "SGD",
          "Dtree",
          "RForest",
          "ADA",
          "GBC",
          "ETC",
          "logreg",
          "KNN",
          "GaussianNB",
          "Perceptron",
          "LinearSVC",
          "SGD",
          "Dtree",
          "RForest",
          "ADA",
          "GBC",
          "ETC",
          "logreg",
          "KNN",
          "GaussianNB",
          "Perceptron",
          "LinearSVC",
          "SGD",
          "Dtree",
          "RForest",
          "ADA",
          "GBC",
          "ETC",
          "logreg",
          "KNN",
          "GaussianNB",
          "Perceptron",
          "LinearSVC",
          "SGD",
          "Dtree",
          "RForest",
          "ADA",
          "GBC",
          "ETC",
          "logreg",
          "KNN",
          "GaussianNB",
          "Perceptron",
          "LinearSVC",
          "SGD",
          "Dtree",
          "RForest",
          "ADA",
          "GBC",
          "ETC",
          "logreg",
          "KNN",
          "GaussianNB",
          "Perceptron",
          "LinearSVC",
          "SGD",
          "Dtree",
          "RForest",
          "ADA",
          "GBC",
          "ETC",
          "logreg",
          "KNN",
          "GaussianNB",
          "Perceptron",
          "LinearSVC",
          "SGD",
          "Dtree",
          "RForest",
          "ADA",
          "GBC",
          "ETC",
          "logreg",
          "KNN",
          "GaussianNB",
          "Perceptron",
          "LinearSVC",
          "SGD",
          "Dtree",
          "RForest",
          "ADA",
          "GBC",
          "ETC",
          "logreg",
          "KNN",
          "GaussianNB",
          "Perceptron",
          "LinearSVC",
          "SGD",
          "Dtree",
          "RForest",
          "ADA",
          "GBC",
          "ETC",
          "logreg",
          "KNN",
          "GaussianNB",
          "Perceptron",
          "LinearSVC",
          "SGD",
          "Dtree",
          "RForest",
          "ADA",
          "GBC",
          "ETC",
          "logreg",
          "KNN",
          "GaussianNB",
          "Perceptron",
          "LinearSVC",
          "SGD",
          "Dtree",
          "RForest",
          "ADA",
          "GBC",
          "ETC",
          "logreg",
          "KNN",
          "GaussianNB",
          "Perceptron",
          "LinearSVC",
          "SGD",
          "Dtree",
          "RForest",
          "ADA",
          "GBC",
          "ETC",
          "logreg",
          "KNN",
          "GaussianNB",
          "Perceptron",
          "LinearSVC",
          "SGD",
          "Dtree",
          "RForest",
          "ADA",
          "GBC",
          "ETC",
          "logreg",
          "KNN",
          "GaussianNB",
          "Perceptron",
          "LinearSVC",
          "SGD",
          "Dtree",
          "RForest",
          "ADA",
          "GBC",
          "ETC",
          "logreg",
          "KNN",
          "GaussianNB",
          "Perceptron",
          "LinearSVC",
          "SGD",
          "Dtree",
          "RForest",
          "ADA",
          "GBC",
          "ETC",
          "logreg",
          "KNN",
          "GaussianNB",
          "Perceptron",
          "LinearSVC",
          "SGD",
          "Dtree",
          "RForest",
          "ADA",
          "GBC",
          "ETC",
          "logreg",
          "KNN",
          "GaussianNB",
          "Perceptron",
          "LinearSVC",
          "SGD",
          "Dtree",
          "RForest",
          "ADA",
          "GBC",
          "ETC",
          "logreg",
          "KNN",
          "GaussianNB",
          "Perceptron",
          "LinearSVC",
          "SGD",
          "Dtree",
          "RForest",
          "ADA",
          "GBC",
          "ETC",
          "logreg",
          "KNN",
          "GaussianNB",
          "Perceptron",
          "LinearSVC",
          "SGD",
          "Dtree",
          "RForest",
          "ADA",
          "GBC",
          "ETC",
          "logreg",
          "KNN",
          "GaussianNB",
          "Perceptron",
          "LinearSVC",
          "SGD",
          "Dtree",
          "RForest",
          "ADA",
          "GBC",
          "ETC"
         ],
         "x0": " ",
         "xaxis": "x",
         "y": [
          0.8302183582862742,
          0.919649992697962,
          0.5415233530727672,
          0.857841879473074,
          0.829742381157872,
          0.8273013709467212,
          0.8832355311429896,
          0.9198199478145894,
          0.7634939196092638,
          0.8461004656902887,
          0.933204213210058,
          0.8294901779291738,
          0.9204780561738938,
          0.5377904569873357,
          0.8196939747800834,
          0.8288480839143186,
          0.8319223705194396,
          0.8827955847812903,
          0.9192740767745016,
          0.7846014409550981,
          0.8551874162997023,
          0.9324728544326136,
          0.8236122180136286,
          0.9213517851146306,
          0.5230859833689194,
          0.7783399871207043,
          0.8227499623196288,
          0.8273439991052978,
          0.8776788224684907,
          0.9183627870372252,
          0.764338447974764,
          0.8509858007862129,
          0.9302504320416856,
          0.7917827324048309,
          0.922991949144516,
          0.5175316965574642,
          0.7725375946204226,
          0.7883246745810447,
          0.7893679251425916,
          0.8801697919812439,
          0.923216756827167,
          0.7268130307537465,
          0.8465594139941434,
          0.9342186558567812,
          0.7679523611031975,
          0.9503428237667858,
          0.5097288822358464,
          0.7264649633315339,
          0.7740131431332954,
          0.7833737848468378,
          0.8600432219870836,
          0.9460123332015252,
          0.7033259825574141,
          0.807983455352759,
          0.967970914920496,
          0.9172989746627284,
          0.9914193326970268,
          0.5458094401862607,
          0.9267077675508332,
          0.9126188844002736,
          0.9154641767544583,
          0.9919634713298716,
          0.9959817409391484,
          0.8613684785656676,
          0.957374456899898,
          0.9965257024132684,
          0.9156765970375096,
          0.9933845359555106,
          0.5458799771450141,
          0.8616609487778643,
          0.911804819596052,
          0.9063575519793186,
          0.9946129999703976,
          0.9970871841607049,
          0.8700685820798251,
          0.9608372506790204,
          0.9975785087578428,
          0.9053352129718426,
          0.9918405104423036,
          0.5239117085949399,
          0.8464986355207658,
          0.901237221101107,
          0.8928803339880771,
          0.9876819892701848,
          0.9917528804453584,
          0.8351812392224327,
          0.9509454726330658,
          0.9937532715791608,
          0.8491314881250014,
          0.9921037331281156,
          0.525961380851558,
          0.8188378882434838,
          0.8438330619985593,
          0.8499999942259546,
          0.9887699328657537,
          0.9962098477676624,
          0.8177532268615294,
          0.9339997964420326,
          0.9972977621904512,
          0.8183515021633944,
          0.93790582003097,
          0.5211271499222075,
          0.8232536266817776,
          0.8189502924200487,
          0.8374437105320238,
          0.8862100404481806,
          0.932079931343517,
          0.7810575095656245,
          0.884724059779378,
          0.9329903473242523,
          0.9559092160885988,
          0.994437607069432,
          0.5781696866978197,
          0.933659600305831,
          0.9506245899957516,
          0.9408121162274712,
          0.9944551577123014,
          0.99696437857079,
          0.8923708226273436,
          0.9813096018548456,
          0.9975434286686712,
          0.952568657680092,
          0.9961396316174886,
          0.5709804859342101,
          0.939843533728178,
          0.9490653750070386,
          0.9394944609617816,
          0.9958764297799244,
          0.9983330364452682,
          0.8929354582350679,
          0.9829944293764216,
          0.998754165571535,
          0.938708287028047,
          0.9944376133993322,
          0.5578828283163015,
          0.9038212351506838,
          0.9351803434182796,
          0.9371601952097054,
          0.9913491863399048,
          0.9931741346988956,
          0.8859297885033488,
          0.9675025134303008,
          0.9949113488499436,
          0.8721338308170079,
          0.9951219490507286,
          0.5492028524005934,
          0.8353856393100688,
          0.8676651331219315,
          0.8774252224613407,
          0.9894542018268104,
          0.9973153176825628,
          0.8592640831514472,
          0.9426929935923498,
          0.9983505873023908,
          0.8385639431486901,
          0.9387442492142988,
          0.5419934379897929,
          0.7893315781850019,
          0.840833009950536,
          0.8462085112725255,
          0.876380598002934,
          0.931729138981206,
          0.8031747117415655,
          0.8787535051421654,
          0.932822996445458,
          0.9759952891079094,
          0.9952623243900558,
          0.5801764078062361,
          0.959834977644908,
          0.9733622174029172,
          0.9682899507365184,
          0.9961221192372622,
          0.998666431025678,
          0.9233848130842204,
          0.9861024191343368,
          0.998543602684169,
          0.9714686331758544,
          0.9970170025282952,
          0.582656444584099,
          0.9508438537894204,
          0.9690646825848804,
          0.966849872466536,
          0.9983154936475632,
          0.9998771714326394,
          0.9187354386935156,
          0.9891380700233696,
          0.999824530617462,
          0.9544653406695384,
          0.9951570447139036,
          0.5568069147553547,
          0.9289723650093116,
          0.9509038102142732,
          0.948725907655648,
          0.9923843857629993,
          0.994367271550716,
          0.8699509840807285,
          0.9690252832592916,
          0.9964554799396942,
          0.880413887888355,
          0.9956308124111248,
          0.5617681516213232,
          0.7699385392639823,
          0.8765517436009183,
          0.8767065155294668,
          0.9920158471838562,
          0.9988068070598692,
          0.8480116822982444,
          0.9405185919306642,
          0.999456044831564,
          0.8485447879048886,
          0.9401644400976832,
          0.5553979255733589,
          0.8676833336016935,
          0.8517736616216508,
          0.8474440206579972,
          0.8874395501890244,
          0.9329187377158548,
          0.7929569117454818,
          0.8742390373591187,
          0.9333099255726828,
          0.965722786625461,
          0.9848726553984324,
          0.5785296768471866,
          0.9571425535909086,
          0.9631570124071968,
          0.9590729522845256,
          0.993419870493993,
          0.9977715387505116,
          0.8869953771959297,
          0.982031136530824,
          0.997227583445184,
          0.9613404816702468,
          0.9868903622047684,
          0.5813516792462216,
          0.8921946000033296,
          0.9588815489207072,
          0.9560529195638828,
          0.990594217704357,
          0.9990700115380892,
          0.876834197671662,
          0.9843117110778205,
          0.9983856776725047,
          0.944846077399961,
          0.9843988594934536,
          0.5571072700793259,
          0.9231209911745044,
          0.9412490237166984,
          0.9392143215564944,
          0.9887173169901808,
          0.99306885142947,
          0.8805676454792193,
          0.9612424418108796,
          0.9948762813083848,
          0.872769875533591,
          0.9850835255318828,
          0.5597962088527636,
          0.8376096888431583,
          0.8696107301229075,
          0.8836266459132267,
          0.9881908444203428,
          0.9978066327094954,
          0.8216929506322409,
          0.932319773308367,
          0.9965081397320182,
          0.8445453099910908,
          0.9465442469210592,
          0.5608370236108774,
          0.8019534712864719,
          0.8475738527642065,
          0.8395068177045842,
          0.8834378754717546,
          0.9341529817276578,
          0.8136813145475602,
          0.8816256051999681,
          0.936052553315322
         ],
         "y0": " ",
         "yaxis": "y"
        }
       ],
       "layout": {
        "boxmode": "group",
        "legend": {
         "tracegroupgap": 0
        },
        "template": {
         "data": {
          "bar": [
           {
            "error_x": {
             "color": "#2a3f5f"
            },
            "error_y": {
             "color": "#2a3f5f"
            },
            "marker": {
             "line": {
              "color": "#E5ECF6",
              "width": 0.5
             },
             "pattern": {
              "fillmode": "overlay",
              "size": 10,
              "solidity": 0.2
             }
            },
            "type": "bar"
           }
          ],
          "barpolar": [
           {
            "marker": {
             "line": {
              "color": "#E5ECF6",
              "width": 0.5
             },
             "pattern": {
              "fillmode": "overlay",
              "size": 10,
              "solidity": 0.2
             }
            },
            "type": "barpolar"
           }
          ],
          "carpet": [
           {
            "aaxis": {
             "endlinecolor": "#2a3f5f",
             "gridcolor": "white",
             "linecolor": "white",
             "minorgridcolor": "white",
             "startlinecolor": "#2a3f5f"
            },
            "baxis": {
             "endlinecolor": "#2a3f5f",
             "gridcolor": "white",
             "linecolor": "white",
             "minorgridcolor": "white",
             "startlinecolor": "#2a3f5f"
            },
            "type": "carpet"
           }
          ],
          "choropleth": [
           {
            "colorbar": {
             "outlinewidth": 0,
             "ticks": ""
            },
            "type": "choropleth"
           }
          ],
          "contour": [
           {
            "colorbar": {
             "outlinewidth": 0,
             "ticks": ""
            },
            "colorscale": [
             [
              0,
              "#0d0887"
             ],
             [
              0.1111111111111111,
              "#46039f"
             ],
             [
              0.2222222222222222,
              "#7201a8"
             ],
             [
              0.3333333333333333,
              "#9c179e"
             ],
             [
              0.4444444444444444,
              "#bd3786"
             ],
             [
              0.5555555555555556,
              "#d8576b"
             ],
             [
              0.6666666666666666,
              "#ed7953"
             ],
             [
              0.7777777777777778,
              "#fb9f3a"
             ],
             [
              0.8888888888888888,
              "#fdca26"
             ],
             [
              1,
              "#f0f921"
             ]
            ],
            "type": "contour"
           }
          ],
          "contourcarpet": [
           {
            "colorbar": {
             "outlinewidth": 0,
             "ticks": ""
            },
            "type": "contourcarpet"
           }
          ],
          "heatmap": [
           {
            "colorbar": {
             "outlinewidth": 0,
             "ticks": ""
            },
            "colorscale": [
             [
              0,
              "#0d0887"
             ],
             [
              0.1111111111111111,
              "#46039f"
             ],
             [
              0.2222222222222222,
              "#7201a8"
             ],
             [
              0.3333333333333333,
              "#9c179e"
             ],
             [
              0.4444444444444444,
              "#bd3786"
             ],
             [
              0.5555555555555556,
              "#d8576b"
             ],
             [
              0.6666666666666666,
              "#ed7953"
             ],
             [
              0.7777777777777778,
              "#fb9f3a"
             ],
             [
              0.8888888888888888,
              "#fdca26"
             ],
             [
              1,
              "#f0f921"
             ]
            ],
            "type": "heatmap"
           }
          ],
          "heatmapgl": [
           {
            "colorbar": {
             "outlinewidth": 0,
             "ticks": ""
            },
            "colorscale": [
             [
              0,
              "#0d0887"
             ],
             [
              0.1111111111111111,
              "#46039f"
             ],
             [
              0.2222222222222222,
              "#7201a8"
             ],
             [
              0.3333333333333333,
              "#9c179e"
             ],
             [
              0.4444444444444444,
              "#bd3786"
             ],
             [
              0.5555555555555556,
              "#d8576b"
             ],
             [
              0.6666666666666666,
              "#ed7953"
             ],
             [
              0.7777777777777778,
              "#fb9f3a"
             ],
             [
              0.8888888888888888,
              "#fdca26"
             ],
             [
              1,
              "#f0f921"
             ]
            ],
            "type": "heatmapgl"
           }
          ],
          "histogram": [
           {
            "marker": {
             "pattern": {
              "fillmode": "overlay",
              "size": 10,
              "solidity": 0.2
             }
            },
            "type": "histogram"
           }
          ],
          "histogram2d": [
           {
            "colorbar": {
             "outlinewidth": 0,
             "ticks": ""
            },
            "colorscale": [
             [
              0,
              "#0d0887"
             ],
             [
              0.1111111111111111,
              "#46039f"
             ],
             [
              0.2222222222222222,
              "#7201a8"
             ],
             [
              0.3333333333333333,
              "#9c179e"
             ],
             [
              0.4444444444444444,
              "#bd3786"
             ],
             [
              0.5555555555555556,
              "#d8576b"
             ],
             [
              0.6666666666666666,
              "#ed7953"
             ],
             [
              0.7777777777777778,
              "#fb9f3a"
             ],
             [
              0.8888888888888888,
              "#fdca26"
             ],
             [
              1,
              "#f0f921"
             ]
            ],
            "type": "histogram2d"
           }
          ],
          "histogram2dcontour": [
           {
            "colorbar": {
             "outlinewidth": 0,
             "ticks": ""
            },
            "colorscale": [
             [
              0,
              "#0d0887"
             ],
             [
              0.1111111111111111,
              "#46039f"
             ],
             [
              0.2222222222222222,
              "#7201a8"
             ],
             [
              0.3333333333333333,
              "#9c179e"
             ],
             [
              0.4444444444444444,
              "#bd3786"
             ],
             [
              0.5555555555555556,
              "#d8576b"
             ],
             [
              0.6666666666666666,
              "#ed7953"
             ],
             [
              0.7777777777777778,
              "#fb9f3a"
             ],
             [
              0.8888888888888888,
              "#fdca26"
             ],
             [
              1,
              "#f0f921"
             ]
            ],
            "type": "histogram2dcontour"
           }
          ],
          "mesh3d": [
           {
            "colorbar": {
             "outlinewidth": 0,
             "ticks": ""
            },
            "type": "mesh3d"
           }
          ],
          "parcoords": [
           {
            "line": {
             "colorbar": {
              "outlinewidth": 0,
              "ticks": ""
             }
            },
            "type": "parcoords"
           }
          ],
          "pie": [
           {
            "automargin": true,
            "type": "pie"
           }
          ],
          "scatter": [
           {
            "fillpattern": {
             "fillmode": "overlay",
             "size": 10,
             "solidity": 0.2
            },
            "type": "scatter"
           }
          ],
          "scatter3d": [
           {
            "line": {
             "colorbar": {
              "outlinewidth": 0,
              "ticks": ""
             }
            },
            "marker": {
             "colorbar": {
              "outlinewidth": 0,
              "ticks": ""
             }
            },
            "type": "scatter3d"
           }
          ],
          "scattercarpet": [
           {
            "marker": {
             "colorbar": {
              "outlinewidth": 0,
              "ticks": ""
             }
            },
            "type": "scattercarpet"
           }
          ],
          "scattergeo": [
           {
            "marker": {
             "colorbar": {
              "outlinewidth": 0,
              "ticks": ""
             }
            },
            "type": "scattergeo"
           }
          ],
          "scattergl": [
           {
            "marker": {
             "colorbar": {
              "outlinewidth": 0,
              "ticks": ""
             }
            },
            "type": "scattergl"
           }
          ],
          "scattermapbox": [
           {
            "marker": {
             "colorbar": {
              "outlinewidth": 0,
              "ticks": ""
             }
            },
            "type": "scattermapbox"
           }
          ],
          "scatterpolar": [
           {
            "marker": {
             "colorbar": {
              "outlinewidth": 0,
              "ticks": ""
             }
            },
            "type": "scatterpolar"
           }
          ],
          "scatterpolargl": [
           {
            "marker": {
             "colorbar": {
              "outlinewidth": 0,
              "ticks": ""
             }
            },
            "type": "scatterpolargl"
           }
          ],
          "scatterternary": [
           {
            "marker": {
             "colorbar": {
              "outlinewidth": 0,
              "ticks": ""
             }
            },
            "type": "scatterternary"
           }
          ],
          "surface": [
           {
            "colorbar": {
             "outlinewidth": 0,
             "ticks": ""
            },
            "colorscale": [
             [
              0,
              "#0d0887"
             ],
             [
              0.1111111111111111,
              "#46039f"
             ],
             [
              0.2222222222222222,
              "#7201a8"
             ],
             [
              0.3333333333333333,
              "#9c179e"
             ],
             [
              0.4444444444444444,
              "#bd3786"
             ],
             [
              0.5555555555555556,
              "#d8576b"
             ],
             [
              0.6666666666666666,
              "#ed7953"
             ],
             [
              0.7777777777777778,
              "#fb9f3a"
             ],
             [
              0.8888888888888888,
              "#fdca26"
             ],
             [
              1,
              "#f0f921"
             ]
            ],
            "type": "surface"
           }
          ],
          "table": [
           {
            "cells": {
             "fill": {
              "color": "#EBF0F8"
             },
             "line": {
              "color": "white"
             }
            },
            "header": {
             "fill": {
              "color": "#C8D4E3"
             },
             "line": {
              "color": "white"
             }
            },
            "type": "table"
           }
          ]
         },
         "layout": {
          "annotationdefaults": {
           "arrowcolor": "#2a3f5f",
           "arrowhead": 0,
           "arrowwidth": 1
          },
          "autotypenumbers": "strict",
          "coloraxis": {
           "colorbar": {
            "outlinewidth": 0,
            "ticks": ""
           }
          },
          "colorscale": {
           "diverging": [
            [
             0,
             "#8e0152"
            ],
            [
             0.1,
             "#c51b7d"
            ],
            [
             0.2,
             "#de77ae"
            ],
            [
             0.3,
             "#f1b6da"
            ],
            [
             0.4,
             "#fde0ef"
            ],
            [
             0.5,
             "#f7f7f7"
            ],
            [
             0.6,
             "#e6f5d0"
            ],
            [
             0.7,
             "#b8e186"
            ],
            [
             0.8,
             "#7fbc41"
            ],
            [
             0.9,
             "#4d9221"
            ],
            [
             1,
             "#276419"
            ]
           ],
           "sequential": [
            [
             0,
             "#0d0887"
            ],
            [
             0.1111111111111111,
             "#46039f"
            ],
            [
             0.2222222222222222,
             "#7201a8"
            ],
            [
             0.3333333333333333,
             "#9c179e"
            ],
            [
             0.4444444444444444,
             "#bd3786"
            ],
            [
             0.5555555555555556,
             "#d8576b"
            ],
            [
             0.6666666666666666,
             "#ed7953"
            ],
            [
             0.7777777777777778,
             "#fb9f3a"
            ],
            [
             0.8888888888888888,
             "#fdca26"
            ],
            [
             1,
             "#f0f921"
            ]
           ],
           "sequentialminus": [
            [
             0,
             "#0d0887"
            ],
            [
             0.1111111111111111,
             "#46039f"
            ],
            [
             0.2222222222222222,
             "#7201a8"
            ],
            [
             0.3333333333333333,
             "#9c179e"
            ],
            [
             0.4444444444444444,
             "#bd3786"
            ],
            [
             0.5555555555555556,
             "#d8576b"
            ],
            [
             0.6666666666666666,
             "#ed7953"
            ],
            [
             0.7777777777777778,
             "#fb9f3a"
            ],
            [
             0.8888888888888888,
             "#fdca26"
            ],
            [
             1,
             "#f0f921"
            ]
           ]
          },
          "colorway": [
           "#636efa",
           "#EF553B",
           "#00cc96",
           "#ab63fa",
           "#FFA15A",
           "#19d3f3",
           "#FF6692",
           "#B6E880",
           "#FF97FF",
           "#FECB52"
          ],
          "font": {
           "color": "#2a3f5f"
          },
          "geo": {
           "bgcolor": "white",
           "lakecolor": "white",
           "landcolor": "#E5ECF6",
           "showlakes": true,
           "showland": true,
           "subunitcolor": "white"
          },
          "hoverlabel": {
           "align": "left"
          },
          "hovermode": "closest",
          "mapbox": {
           "style": "light"
          },
          "paper_bgcolor": "white",
          "plot_bgcolor": "#E5ECF6",
          "polar": {
           "angularaxis": {
            "gridcolor": "white",
            "linecolor": "white",
            "ticks": ""
           },
           "bgcolor": "#E5ECF6",
           "radialaxis": {
            "gridcolor": "white",
            "linecolor": "white",
            "ticks": ""
           }
          },
          "scene": {
           "xaxis": {
            "backgroundcolor": "#E5ECF6",
            "gridcolor": "white",
            "gridwidth": 2,
            "linecolor": "white",
            "showbackground": true,
            "ticks": "",
            "zerolinecolor": "white"
           },
           "yaxis": {
            "backgroundcolor": "#E5ECF6",
            "gridcolor": "white",
            "gridwidth": 2,
            "linecolor": "white",
            "showbackground": true,
            "ticks": "",
            "zerolinecolor": "white"
           },
           "zaxis": {
            "backgroundcolor": "#E5ECF6",
            "gridcolor": "white",
            "gridwidth": 2,
            "linecolor": "white",
            "showbackground": true,
            "ticks": "",
            "zerolinecolor": "white"
           }
          },
          "shapedefaults": {
           "line": {
            "color": "#2a3f5f"
           }
          },
          "ternary": {
           "aaxis": {
            "gridcolor": "white",
            "linecolor": "white",
            "ticks": ""
           },
           "baxis": {
            "gridcolor": "white",
            "linecolor": "white",
            "ticks": ""
           },
           "bgcolor": "#E5ECF6",
           "caxis": {
            "gridcolor": "white",
            "linecolor": "white",
            "ticks": ""
           }
          },
          "title": {
           "x": 0.05
          },
          "xaxis": {
           "automargin": true,
           "gridcolor": "white",
           "linecolor": "white",
           "ticks": "",
           "title": {
            "standoff": 15
           },
           "zerolinecolor": "white",
           "zerolinewidth": 2
          },
          "yaxis": {
           "automargin": true,
           "gridcolor": "white",
           "linecolor": "white",
           "ticks": "",
           "title": {
            "standoff": 15
           },
           "zerolinecolor": "white",
           "zerolinewidth": 2
          }
         }
        },
        "title": {
         "text": "Boxplot da F1-Score Balanceada do Classificador Sim"
        },
        "xaxis": {
         "anchor": "y",
         "domain": [
          0,
          1
         ],
         "title": {
          "text": "Nome"
         }
        },
        "yaxis": {
         "anchor": "x",
         "domain": [
          0,
          1
         ],
         "range": [
          0,
          1
         ],
         "title": {
          "text": "F1-score Balanceada"
         }
        }
       }
      }
     },
     "metadata": {},
     "output_type": "display_data"
    }
   ],
   "source": [
    "# Criar boxplot da acurácia por modelo sim sim  \n",
    "fig = px.box(df2, x='Nome', y='Acurácia Balanceada', points='all', title='Boxplot da Acurácia Balanceada do classificador Sim')\n",
    "\n",
    "fig.update_yaxes(range=[0, 1])\n",
    "fig.show()\n",
    "\n",
    "fig = px.box(df2, x='Nome', y='F1-score Balanceada', points='all', title='Boxplot da F1-Score Balanceada do Classificador Sim')\n",
    "fig.update_yaxes(range=[0, 1])\n",
    "fig.show()"
   ]
  },
  {
   "cell_type": "code",
   "execution_count": 8,
   "metadata": {},
   "outputs": [
    {
     "data": {
      "application/vnd.plotly.v1+json": {
       "config": {
        "plotlyServerURL": "https://plot.ly"
       },
       "data": [
        {
         "alignmentgroup": "True",
         "boxpoints": "all",
         "hovertemplate": "Nome=%{x}<br>Acurácia Balanceada=%{y}<extra></extra>",
         "legendgroup": "",
         "marker": {
          "color": "#636efa"
         },
         "name": "",
         "notched": false,
         "offsetgroup": "",
         "orientation": "v",
         "showlegend": false,
         "type": "box",
         "x": [
          "logreg",
          "KNN",
          "GaussianNB",
          "Perceptron",
          "LinearSVC",
          "SGD",
          "Dtree",
          "RForest",
          "ADA",
          "GBC",
          "ETC",
          "logreg",
          "KNN",
          "GaussianNB",
          "Perceptron",
          "LinearSVC",
          "SGD",
          "Dtree",
          "RForest",
          "ADA",
          "GBC",
          "ETC",
          "logreg",
          "KNN",
          "GaussianNB",
          "Perceptron",
          "LinearSVC",
          "SGD",
          "Dtree",
          "RForest",
          "ADA",
          "GBC",
          "ETC",
          "logreg",
          "KNN",
          "GaussianNB",
          "Perceptron",
          "LinearSVC",
          "SGD",
          "Dtree",
          "RForest",
          "ADA",
          "GBC",
          "ETC",
          "logreg",
          "KNN",
          "GaussianNB",
          "Perceptron",
          "LinearSVC",
          "SGD",
          "Dtree",
          "RForest",
          "ADA",
          "GBC",
          "ETC",
          "logreg",
          "KNN",
          "GaussianNB",
          "Perceptron",
          "LinearSVC",
          "SGD",
          "Dtree",
          "RForest",
          "ADA",
          "GBC",
          "ETC",
          "logreg",
          "KNN",
          "GaussianNB",
          "Perceptron",
          "LinearSVC",
          "SGD",
          "Dtree",
          "RForest",
          "ADA",
          "GBC",
          "ETC",
          "logreg",
          "KNN",
          "GaussianNB",
          "Perceptron",
          "LinearSVC",
          "SGD",
          "Dtree",
          "RForest",
          "ADA",
          "GBC",
          "ETC",
          "logreg",
          "KNN",
          "GaussianNB",
          "Perceptron",
          "LinearSVC",
          "SGD",
          "Dtree",
          "RForest",
          "ADA",
          "GBC",
          "ETC",
          "logreg",
          "KNN",
          "GaussianNB",
          "Perceptron",
          "LinearSVC",
          "SGD",
          "Dtree",
          "RForest",
          "ADA",
          "GBC",
          "ETC",
          "logreg",
          "KNN",
          "GaussianNB",
          "Perceptron",
          "LinearSVC",
          "SGD",
          "Dtree",
          "RForest",
          "ADA",
          "GBC",
          "ETC",
          "logreg",
          "KNN",
          "GaussianNB",
          "Perceptron",
          "LinearSVC",
          "SGD",
          "Dtree",
          "RForest",
          "ADA",
          "GBC",
          "ETC",
          "logreg",
          "KNN",
          "GaussianNB",
          "Perceptron",
          "LinearSVC",
          "SGD",
          "Dtree",
          "RForest",
          "ADA",
          "GBC",
          "ETC",
          "logreg",
          "KNN",
          "GaussianNB",
          "Perceptron",
          "LinearSVC",
          "SGD",
          "Dtree",
          "RForest",
          "ADA",
          "GBC",
          "ETC",
          "logreg",
          "KNN",
          "GaussianNB",
          "Perceptron",
          "LinearSVC",
          "SGD",
          "Dtree",
          "RForest",
          "ADA",
          "GBC",
          "ETC",
          "logreg",
          "KNN",
          "GaussianNB",
          "Perceptron",
          "LinearSVC",
          "SGD",
          "Dtree",
          "RForest",
          "ADA",
          "GBC",
          "ETC",
          "logreg",
          "KNN",
          "GaussianNB",
          "Perceptron",
          "LinearSVC",
          "SGD",
          "Dtree",
          "RForest",
          "ADA",
          "GBC",
          "ETC",
          "logreg",
          "KNN",
          "GaussianNB",
          "Perceptron",
          "LinearSVC",
          "SGD",
          "Dtree",
          "RForest",
          "ADA",
          "GBC",
          "ETC",
          "logreg",
          "KNN",
          "GaussianNB",
          "Perceptron",
          "LinearSVC",
          "SGD",
          "Dtree",
          "RForest",
          "ADA",
          "GBC",
          "ETC",
          "logreg",
          "KNN",
          "GaussianNB",
          "Perceptron",
          "LinearSVC",
          "SGD",
          "Dtree",
          "RForest",
          "ADA",
          "GBC",
          "ETC",
          "logreg",
          "KNN",
          "GaussianNB",
          "Perceptron",
          "LinearSVC",
          "SGD",
          "Dtree",
          "RForest",
          "ADA",
          "GBC",
          "ETC",
          "logreg",
          "KNN",
          "GaussianNB",
          "Perceptron",
          "LinearSVC",
          "SGD",
          "Dtree",
          "RForest",
          "ADA",
          "GBC",
          "ETC",
          "logreg",
          "KNN",
          "GaussianNB",
          "Perceptron",
          "LinearSVC",
          "SGD",
          "Dtree",
          "RForest",
          "ADA",
          "GBC",
          "ETC",
          "logreg",
          "KNN",
          "GaussianNB",
          "Perceptron",
          "LinearSVC",
          "SGD",
          "Dtree",
          "RForest",
          "ADA",
          "GBC",
          "ETC",
          "logreg",
          "KNN",
          "GaussianNB",
          "Perceptron",
          "LinearSVC",
          "SGD",
          "Dtree",
          "RForest",
          "ADA",
          "GBC",
          "ETC"
         ],
         "x0": " ",
         "xaxis": "x",
         "y": [
          0.5,
          0.4042095526533582,
          0.5,
          0.5,
          0.5,
          0.5,
          0.3909843983406742,
          0.6028699981295432,
          0.3247253887603484,
          0.3250981989807291,
          0.3044283704734305,
          0.5,
          0.5044814094532373,
          0.5,
          0.5,
          0.5,
          0.5,
          0.5658170180819363,
          0.5137222346065251,
          0.3792466415051796,
          0.3818063487915055,
          0.4578801319056367,
          0.5,
          0.4378713689437556,
          0.5,
          0.5,
          0.5,
          0.5,
          0.5302693713984099,
          0.5900740239674694,
          0.3238362812244574,
          0.3356457816075167,
          0.5195257751505974,
          0.5,
          0.3771712031649153,
          0.5,
          0.5,
          0.5,
          0.5,
          0.6295342562628273,
          0.5698410624194487,
          0.327962816344205,
          0.3010269576379974,
          0.4160895154492043,
          0.5,
          0.4818463201965773,
          0.5,
          0.5,
          0.5,
          0.5,
          0.5223340225838439,
          0.5258404884710681,
          0.2886973165350941,
          0.3100948295962631,
          0.4341650460311725,
          0.5,
          0.2114871668729293,
          0.5,
          0.5,
          0.5,
          0.5,
          0.3555366801698272,
          0.5298658139433585,
          0.2746214887298573,
          0.249957081984939,
          0.2777884539009272,
          0.5,
          0.3185362266481158,
          0.5,
          0.5,
          0.5,
          0.5,
          0.6870277416924815,
          0.516174326571504,
          0.2725345201765916,
          0.3050599699189554,
          0.3410790742007641,
          0.5,
          0.2573825391578845,
          0.5,
          0.5,
          0.5,
          0.5,
          0.5097673715470215,
          0.5431037796038218,
          0.2662262125300106,
          0.3078195342306401,
          0.3487517903858521,
          0.5,
          0.1880026852584945,
          0.5,
          0.5,
          0.5,
          0.5,
          0.5844088459794148,
          0.5420878397249147,
          0.2088262499391461,
          0.2607122084457529,
          0.2777103046794729,
          0.5,
          0.2943291850189223,
          0.5,
          0.5,
          0.5,
          0.5,
          0.3312335534322881,
          0.2818842417860044,
          0.1831984298412161,
          0.2491358745922788,
          0.2435027249736726,
          0.5,
          0.5085938520904276,
          0.5,
          0.5,
          0.5,
          0.5,
          0.5111240932768609,
          0.5226517440087732,
          0.4640705751526472,
          0.5343267252401487,
          0.5350441607157956,
          0.5,
          0.5854363160713233,
          0.5,
          0.5,
          0.5,
          0.5,
          0.5318041708623831,
          0.6355069065975879,
          0.5137786045367545,
          0.5653570906966555,
          0.4781054066449899,
          0.5,
          0.5260915908875445,
          0.5,
          0.5,
          0.5,
          0.5,
          0.5004599273852808,
          0.5084375536475189,
          0.5625091280852929,
          0.5582493549486394,
          0.7156956946184653,
          0.5,
          0.4703084203864415,
          0.5,
          0.5,
          0.5,
          0.5,
          0.7032943099679972,
          0.5120516348560901,
          0.5103938464534346,
          0.520987549932228,
          0.4830275264618388,
          0.5,
          0.5634610112253029,
          0.5,
          0.5,
          0.5,
          0.5,
          0.5853901952193175,
          0.3769444423092198,
          0.4206503552586739,
          0.4706363908895944,
          0.5065555666587236,
          0.5,
          0.39029642896492,
          0.5,
          0.5,
          0.5,
          0.5,
          0.5562008204387118,
          0.3891446887995511,
          0.3903412686821479,
          0.537247712533854,
          0.4065207197927636,
          0.5,
          0.4951073462830436,
          0.5,
          0.5,
          0.5,
          0.5,
          0.5061084506212222,
          0.6108220016962225,
          0.445558177611401,
          0.4708938989799605,
          0.4378790557524232,
          0.5,
          0.4280015066144988,
          0.5,
          0.5,
          0.5,
          0.5,
          0.5123155486203459,
          0.5665959480269244,
          0.4363506619623397,
          0.4619221121300403,
          0.439508659189964,
          0.5,
          0.3710294430394666,
          0.5,
          0.5,
          0.5,
          0.5,
          0.4436979699138308,
          0.6836519515526072,
          0.3792697019311825,
          0.406447695110421,
          0.3736378334473543,
          0.5,
          0.4690336912823903,
          0.5,
          0.5,
          0.5,
          0.5,
          0.3305289293044207,
          0.6251117790093753,
          0.353287007499763,
          0.405969831838249,
          0.372431004486534,
          0.5,
          0.4174257390225966,
          0.5,
          0.5,
          0.5,
          0.5,
          0.4723082717748072,
          0.4251740421595832,
          0.4875998964843099,
          0.4314990045582775,
          0.4271764558175049,
          0.5,
          0.5013836255601762,
          0.5,
          0.5,
          0.5,
          0.5,
          0.5384519792251184,
          0.4382147130642437,
          0.5129522726049826,
          0.5128843724617517,
          0.4202429543992887,
          0.5,
          0.4309839883775452,
          0.5,
          0.5,
          0.5,
          0.5,
          0.4276620058983445,
          0.4737636408825481,
          0.4666661542127555,
          0.4434712090581353,
          0.4605295186264185,
          0.5,
          0.3624496834315963,
          0.5,
          0.5,
          0.5,
          0.5,
          0.4666238767650834,
          0.3562169627369138,
          0.4552986453280858,
          0.4644254494861368,
          0.361502924830698,
          0.5,
          0.5007289656886483,
          0.5,
          0.5,
          0.5,
          0.5,
          0.486407160006047,
          0.4437005321833868,
          0.4224311326000118,
          0.4124574983537418,
          0.3987045165125461
         ],
         "y0": " ",
         "yaxis": "y"
        }
       ],
       "layout": {
        "boxmode": "group",
        "legend": {
         "tracegroupgap": 0
        },
        "template": {
         "data": {
          "bar": [
           {
            "error_x": {
             "color": "#2a3f5f"
            },
            "error_y": {
             "color": "#2a3f5f"
            },
            "marker": {
             "line": {
              "color": "#E5ECF6",
              "width": 0.5
             },
             "pattern": {
              "fillmode": "overlay",
              "size": 10,
              "solidity": 0.2
             }
            },
            "type": "bar"
           }
          ],
          "barpolar": [
           {
            "marker": {
             "line": {
              "color": "#E5ECF6",
              "width": 0.5
             },
             "pattern": {
              "fillmode": "overlay",
              "size": 10,
              "solidity": 0.2
             }
            },
            "type": "barpolar"
           }
          ],
          "carpet": [
           {
            "aaxis": {
             "endlinecolor": "#2a3f5f",
             "gridcolor": "white",
             "linecolor": "white",
             "minorgridcolor": "white",
             "startlinecolor": "#2a3f5f"
            },
            "baxis": {
             "endlinecolor": "#2a3f5f",
             "gridcolor": "white",
             "linecolor": "white",
             "minorgridcolor": "white",
             "startlinecolor": "#2a3f5f"
            },
            "type": "carpet"
           }
          ],
          "choropleth": [
           {
            "colorbar": {
             "outlinewidth": 0,
             "ticks": ""
            },
            "type": "choropleth"
           }
          ],
          "contour": [
           {
            "colorbar": {
             "outlinewidth": 0,
             "ticks": ""
            },
            "colorscale": [
             [
              0,
              "#0d0887"
             ],
             [
              0.1111111111111111,
              "#46039f"
             ],
             [
              0.2222222222222222,
              "#7201a8"
             ],
             [
              0.3333333333333333,
              "#9c179e"
             ],
             [
              0.4444444444444444,
              "#bd3786"
             ],
             [
              0.5555555555555556,
              "#d8576b"
             ],
             [
              0.6666666666666666,
              "#ed7953"
             ],
             [
              0.7777777777777778,
              "#fb9f3a"
             ],
             [
              0.8888888888888888,
              "#fdca26"
             ],
             [
              1,
              "#f0f921"
             ]
            ],
            "type": "contour"
           }
          ],
          "contourcarpet": [
           {
            "colorbar": {
             "outlinewidth": 0,
             "ticks": ""
            },
            "type": "contourcarpet"
           }
          ],
          "heatmap": [
           {
            "colorbar": {
             "outlinewidth": 0,
             "ticks": ""
            },
            "colorscale": [
             [
              0,
              "#0d0887"
             ],
             [
              0.1111111111111111,
              "#46039f"
             ],
             [
              0.2222222222222222,
              "#7201a8"
             ],
             [
              0.3333333333333333,
              "#9c179e"
             ],
             [
              0.4444444444444444,
              "#bd3786"
             ],
             [
              0.5555555555555556,
              "#d8576b"
             ],
             [
              0.6666666666666666,
              "#ed7953"
             ],
             [
              0.7777777777777778,
              "#fb9f3a"
             ],
             [
              0.8888888888888888,
              "#fdca26"
             ],
             [
              1,
              "#f0f921"
             ]
            ],
            "type": "heatmap"
           }
          ],
          "heatmapgl": [
           {
            "colorbar": {
             "outlinewidth": 0,
             "ticks": ""
            },
            "colorscale": [
             [
              0,
              "#0d0887"
             ],
             [
              0.1111111111111111,
              "#46039f"
             ],
             [
              0.2222222222222222,
              "#7201a8"
             ],
             [
              0.3333333333333333,
              "#9c179e"
             ],
             [
              0.4444444444444444,
              "#bd3786"
             ],
             [
              0.5555555555555556,
              "#d8576b"
             ],
             [
              0.6666666666666666,
              "#ed7953"
             ],
             [
              0.7777777777777778,
              "#fb9f3a"
             ],
             [
              0.8888888888888888,
              "#fdca26"
             ],
             [
              1,
              "#f0f921"
             ]
            ],
            "type": "heatmapgl"
           }
          ],
          "histogram": [
           {
            "marker": {
             "pattern": {
              "fillmode": "overlay",
              "size": 10,
              "solidity": 0.2
             }
            },
            "type": "histogram"
           }
          ],
          "histogram2d": [
           {
            "colorbar": {
             "outlinewidth": 0,
             "ticks": ""
            },
            "colorscale": [
             [
              0,
              "#0d0887"
             ],
             [
              0.1111111111111111,
              "#46039f"
             ],
             [
              0.2222222222222222,
              "#7201a8"
             ],
             [
              0.3333333333333333,
              "#9c179e"
             ],
             [
              0.4444444444444444,
              "#bd3786"
             ],
             [
              0.5555555555555556,
              "#d8576b"
             ],
             [
              0.6666666666666666,
              "#ed7953"
             ],
             [
              0.7777777777777778,
              "#fb9f3a"
             ],
             [
              0.8888888888888888,
              "#fdca26"
             ],
             [
              1,
              "#f0f921"
             ]
            ],
            "type": "histogram2d"
           }
          ],
          "histogram2dcontour": [
           {
            "colorbar": {
             "outlinewidth": 0,
             "ticks": ""
            },
            "colorscale": [
             [
              0,
              "#0d0887"
             ],
             [
              0.1111111111111111,
              "#46039f"
             ],
             [
              0.2222222222222222,
              "#7201a8"
             ],
             [
              0.3333333333333333,
              "#9c179e"
             ],
             [
              0.4444444444444444,
              "#bd3786"
             ],
             [
              0.5555555555555556,
              "#d8576b"
             ],
             [
              0.6666666666666666,
              "#ed7953"
             ],
             [
              0.7777777777777778,
              "#fb9f3a"
             ],
             [
              0.8888888888888888,
              "#fdca26"
             ],
             [
              1,
              "#f0f921"
             ]
            ],
            "type": "histogram2dcontour"
           }
          ],
          "mesh3d": [
           {
            "colorbar": {
             "outlinewidth": 0,
             "ticks": ""
            },
            "type": "mesh3d"
           }
          ],
          "parcoords": [
           {
            "line": {
             "colorbar": {
              "outlinewidth": 0,
              "ticks": ""
             }
            },
            "type": "parcoords"
           }
          ],
          "pie": [
           {
            "automargin": true,
            "type": "pie"
           }
          ],
          "scatter": [
           {
            "fillpattern": {
             "fillmode": "overlay",
             "size": 10,
             "solidity": 0.2
            },
            "type": "scatter"
           }
          ],
          "scatter3d": [
           {
            "line": {
             "colorbar": {
              "outlinewidth": 0,
              "ticks": ""
             }
            },
            "marker": {
             "colorbar": {
              "outlinewidth": 0,
              "ticks": ""
             }
            },
            "type": "scatter3d"
           }
          ],
          "scattercarpet": [
           {
            "marker": {
             "colorbar": {
              "outlinewidth": 0,
              "ticks": ""
             }
            },
            "type": "scattercarpet"
           }
          ],
          "scattergeo": [
           {
            "marker": {
             "colorbar": {
              "outlinewidth": 0,
              "ticks": ""
             }
            },
            "type": "scattergeo"
           }
          ],
          "scattergl": [
           {
            "marker": {
             "colorbar": {
              "outlinewidth": 0,
              "ticks": ""
             }
            },
            "type": "scattergl"
           }
          ],
          "scattermapbox": [
           {
            "marker": {
             "colorbar": {
              "outlinewidth": 0,
              "ticks": ""
             }
            },
            "type": "scattermapbox"
           }
          ],
          "scatterpolar": [
           {
            "marker": {
             "colorbar": {
              "outlinewidth": 0,
              "ticks": ""
             }
            },
            "type": "scatterpolar"
           }
          ],
          "scatterpolargl": [
           {
            "marker": {
             "colorbar": {
              "outlinewidth": 0,
              "ticks": ""
             }
            },
            "type": "scatterpolargl"
           }
          ],
          "scatterternary": [
           {
            "marker": {
             "colorbar": {
              "outlinewidth": 0,
              "ticks": ""
             }
            },
            "type": "scatterternary"
           }
          ],
          "surface": [
           {
            "colorbar": {
             "outlinewidth": 0,
             "ticks": ""
            },
            "colorscale": [
             [
              0,
              "#0d0887"
             ],
             [
              0.1111111111111111,
              "#46039f"
             ],
             [
              0.2222222222222222,
              "#7201a8"
             ],
             [
              0.3333333333333333,
              "#9c179e"
             ],
             [
              0.4444444444444444,
              "#bd3786"
             ],
             [
              0.5555555555555556,
              "#d8576b"
             ],
             [
              0.6666666666666666,
              "#ed7953"
             ],
             [
              0.7777777777777778,
              "#fb9f3a"
             ],
             [
              0.8888888888888888,
              "#fdca26"
             ],
             [
              1,
              "#f0f921"
             ]
            ],
            "type": "surface"
           }
          ],
          "table": [
           {
            "cells": {
             "fill": {
              "color": "#EBF0F8"
             },
             "line": {
              "color": "white"
             }
            },
            "header": {
             "fill": {
              "color": "#C8D4E3"
             },
             "line": {
              "color": "white"
             }
            },
            "type": "table"
           }
          ]
         },
         "layout": {
          "annotationdefaults": {
           "arrowcolor": "#2a3f5f",
           "arrowhead": 0,
           "arrowwidth": 1
          },
          "autotypenumbers": "strict",
          "coloraxis": {
           "colorbar": {
            "outlinewidth": 0,
            "ticks": ""
           }
          },
          "colorscale": {
           "diverging": [
            [
             0,
             "#8e0152"
            ],
            [
             0.1,
             "#c51b7d"
            ],
            [
             0.2,
             "#de77ae"
            ],
            [
             0.3,
             "#f1b6da"
            ],
            [
             0.4,
             "#fde0ef"
            ],
            [
             0.5,
             "#f7f7f7"
            ],
            [
             0.6,
             "#e6f5d0"
            ],
            [
             0.7,
             "#b8e186"
            ],
            [
             0.8,
             "#7fbc41"
            ],
            [
             0.9,
             "#4d9221"
            ],
            [
             1,
             "#276419"
            ]
           ],
           "sequential": [
            [
             0,
             "#0d0887"
            ],
            [
             0.1111111111111111,
             "#46039f"
            ],
            [
             0.2222222222222222,
             "#7201a8"
            ],
            [
             0.3333333333333333,
             "#9c179e"
            ],
            [
             0.4444444444444444,
             "#bd3786"
            ],
            [
             0.5555555555555556,
             "#d8576b"
            ],
            [
             0.6666666666666666,
             "#ed7953"
            ],
            [
             0.7777777777777778,
             "#fb9f3a"
            ],
            [
             0.8888888888888888,
             "#fdca26"
            ],
            [
             1,
             "#f0f921"
            ]
           ],
           "sequentialminus": [
            [
             0,
             "#0d0887"
            ],
            [
             0.1111111111111111,
             "#46039f"
            ],
            [
             0.2222222222222222,
             "#7201a8"
            ],
            [
             0.3333333333333333,
             "#9c179e"
            ],
            [
             0.4444444444444444,
             "#bd3786"
            ],
            [
             0.5555555555555556,
             "#d8576b"
            ],
            [
             0.6666666666666666,
             "#ed7953"
            ],
            [
             0.7777777777777778,
             "#fb9f3a"
            ],
            [
             0.8888888888888888,
             "#fdca26"
            ],
            [
             1,
             "#f0f921"
            ]
           ]
          },
          "colorway": [
           "#636efa",
           "#EF553B",
           "#00cc96",
           "#ab63fa",
           "#FFA15A",
           "#19d3f3",
           "#FF6692",
           "#B6E880",
           "#FF97FF",
           "#FECB52"
          ],
          "font": {
           "color": "#2a3f5f"
          },
          "geo": {
           "bgcolor": "white",
           "lakecolor": "white",
           "landcolor": "#E5ECF6",
           "showlakes": true,
           "showland": true,
           "subunitcolor": "white"
          },
          "hoverlabel": {
           "align": "left"
          },
          "hovermode": "closest",
          "mapbox": {
           "style": "light"
          },
          "paper_bgcolor": "white",
          "plot_bgcolor": "#E5ECF6",
          "polar": {
           "angularaxis": {
            "gridcolor": "white",
            "linecolor": "white",
            "ticks": ""
           },
           "bgcolor": "#E5ECF6",
           "radialaxis": {
            "gridcolor": "white",
            "linecolor": "white",
            "ticks": ""
           }
          },
          "scene": {
           "xaxis": {
            "backgroundcolor": "#E5ECF6",
            "gridcolor": "white",
            "gridwidth": 2,
            "linecolor": "white",
            "showbackground": true,
            "ticks": "",
            "zerolinecolor": "white"
           },
           "yaxis": {
            "backgroundcolor": "#E5ECF6",
            "gridcolor": "white",
            "gridwidth": 2,
            "linecolor": "white",
            "showbackground": true,
            "ticks": "",
            "zerolinecolor": "white"
           },
           "zaxis": {
            "backgroundcolor": "#E5ECF6",
            "gridcolor": "white",
            "gridwidth": 2,
            "linecolor": "white",
            "showbackground": true,
            "ticks": "",
            "zerolinecolor": "white"
           }
          },
          "shapedefaults": {
           "line": {
            "color": "#2a3f5f"
           }
          },
          "ternary": {
           "aaxis": {
            "gridcolor": "white",
            "linecolor": "white",
            "ticks": ""
           },
           "baxis": {
            "gridcolor": "white",
            "linecolor": "white",
            "ticks": ""
           },
           "bgcolor": "#E5ECF6",
           "caxis": {
            "gridcolor": "white",
            "linecolor": "white",
            "ticks": ""
           }
          },
          "title": {
           "x": 0.05
          },
          "xaxis": {
           "automargin": true,
           "gridcolor": "white",
           "linecolor": "white",
           "ticks": "",
           "title": {
            "standoff": 15
           },
           "zerolinecolor": "white",
           "zerolinewidth": 2
          },
          "yaxis": {
           "automargin": true,
           "gridcolor": "white",
           "linecolor": "white",
           "ticks": "",
           "title": {
            "standoff": 15
           },
           "zerolinecolor": "white",
           "zerolinewidth": 2
          }
         }
        },
        "title": {
         "text": "Boxplot da Acurácia Balanceada do classificador Sim/real"
        },
        "xaxis": {
         "anchor": "y",
         "domain": [
          0,
          1
         ],
         "title": {
          "text": "Nome"
         }
        },
        "yaxis": {
         "anchor": "x",
         "domain": [
          0,
          1
         ],
         "range": [
          0,
          1
         ],
         "title": {
          "text": "Acurácia Balanceada"
         }
        }
       }
      }
     },
     "metadata": {},
     "output_type": "display_data"
    },
    {
     "data": {
      "application/vnd.plotly.v1+json": {
       "config": {
        "plotlyServerURL": "https://plot.ly"
       },
       "data": [
        {
         "alignmentgroup": "True",
         "boxpoints": "all",
         "hovertemplate": "Nome=%{x}<br>F1-score Balanceada=%{y}<extra></extra>",
         "legendgroup": "",
         "marker": {
          "color": "#636efa"
         },
         "name": "",
         "notched": false,
         "offsetgroup": "",
         "orientation": "v",
         "showlegend": false,
         "type": "box",
         "x": [
          "logreg",
          "KNN",
          "GaussianNB",
          "Perceptron",
          "LinearSVC",
          "SGD",
          "Dtree",
          "RForest",
          "ADA",
          "GBC",
          "ETC",
          "logreg",
          "KNN",
          "GaussianNB",
          "Perceptron",
          "LinearSVC",
          "SGD",
          "Dtree",
          "RForest",
          "ADA",
          "GBC",
          "ETC",
          "logreg",
          "KNN",
          "GaussianNB",
          "Perceptron",
          "LinearSVC",
          "SGD",
          "Dtree",
          "RForest",
          "ADA",
          "GBC",
          "ETC",
          "logreg",
          "KNN",
          "GaussianNB",
          "Perceptron",
          "LinearSVC",
          "SGD",
          "Dtree",
          "RForest",
          "ADA",
          "GBC",
          "ETC",
          "logreg",
          "KNN",
          "GaussianNB",
          "Perceptron",
          "LinearSVC",
          "SGD",
          "Dtree",
          "RForest",
          "ADA",
          "GBC",
          "ETC",
          "logreg",
          "KNN",
          "GaussianNB",
          "Perceptron",
          "LinearSVC",
          "SGD",
          "Dtree",
          "RForest",
          "ADA",
          "GBC",
          "ETC",
          "logreg",
          "KNN",
          "GaussianNB",
          "Perceptron",
          "LinearSVC",
          "SGD",
          "Dtree",
          "RForest",
          "ADA",
          "GBC",
          "ETC",
          "logreg",
          "KNN",
          "GaussianNB",
          "Perceptron",
          "LinearSVC",
          "SGD",
          "Dtree",
          "RForest",
          "ADA",
          "GBC",
          "ETC",
          "logreg",
          "KNN",
          "GaussianNB",
          "Perceptron",
          "LinearSVC",
          "SGD",
          "Dtree",
          "RForest",
          "ADA",
          "GBC",
          "ETC",
          "logreg",
          "KNN",
          "GaussianNB",
          "Perceptron",
          "LinearSVC",
          "SGD",
          "Dtree",
          "RForest",
          "ADA",
          "GBC",
          "ETC",
          "logreg",
          "KNN",
          "GaussianNB",
          "Perceptron",
          "LinearSVC",
          "SGD",
          "Dtree",
          "RForest",
          "ADA",
          "GBC",
          "ETC",
          "logreg",
          "KNN",
          "GaussianNB",
          "Perceptron",
          "LinearSVC",
          "SGD",
          "Dtree",
          "RForest",
          "ADA",
          "GBC",
          "ETC",
          "logreg",
          "KNN",
          "GaussianNB",
          "Perceptron",
          "LinearSVC",
          "SGD",
          "Dtree",
          "RForest",
          "ADA",
          "GBC",
          "ETC",
          "logreg",
          "KNN",
          "GaussianNB",
          "Perceptron",
          "LinearSVC",
          "SGD",
          "Dtree",
          "RForest",
          "ADA",
          "GBC",
          "ETC",
          "logreg",
          "KNN",
          "GaussianNB",
          "Perceptron",
          "LinearSVC",
          "SGD",
          "Dtree",
          "RForest",
          "ADA",
          "GBC",
          "ETC",
          "logreg",
          "KNN",
          "GaussianNB",
          "Perceptron",
          "LinearSVC",
          "SGD",
          "Dtree",
          "RForest",
          "ADA",
          "GBC",
          "ETC",
          "logreg",
          "KNN",
          "GaussianNB",
          "Perceptron",
          "LinearSVC",
          "SGD",
          "Dtree",
          "RForest",
          "ADA",
          "GBC",
          "ETC",
          "logreg",
          "KNN",
          "GaussianNB",
          "Perceptron",
          "LinearSVC",
          "SGD",
          "Dtree",
          "RForest",
          "ADA",
          "GBC",
          "ETC",
          "logreg",
          "KNN",
          "GaussianNB",
          "Perceptron",
          "LinearSVC",
          "SGD",
          "Dtree",
          "RForest",
          "ADA",
          "GBC",
          "ETC",
          "logreg",
          "KNN",
          "GaussianNB",
          "Perceptron",
          "LinearSVC",
          "SGD",
          "Dtree",
          "RForest",
          "ADA",
          "GBC",
          "ETC",
          "logreg",
          "KNN",
          "GaussianNB",
          "Perceptron",
          "LinearSVC",
          "SGD",
          "Dtree",
          "RForest",
          "ADA",
          "GBC",
          "ETC",
          "logreg",
          "KNN",
          "GaussianNB",
          "Perceptron",
          "LinearSVC",
          "SGD",
          "Dtree",
          "RForest",
          "ADA",
          "GBC",
          "ETC",
          "logreg",
          "KNN",
          "GaussianNB",
          "Perceptron",
          "LinearSVC",
          "SGD",
          "Dtree",
          "RForest",
          "ADA",
          "GBC",
          "ETC",
          "logreg",
          "KNN",
          "GaussianNB",
          "Perceptron",
          "LinearSVC",
          "SGD",
          "Dtree",
          "RForest",
          "ADA",
          "GBC",
          "ETC",
          "logreg",
          "KNN",
          "GaussianNB",
          "Perceptron",
          "LinearSVC",
          "SGD",
          "Dtree",
          "RForest",
          "ADA",
          "GBC",
          "ETC"
         ],
         "x0": " ",
         "xaxis": "x",
         "y": [
          0.0189352216102806,
          0.4661495224296064,
          0.849523287337415,
          0.0189352216102806,
          0.0189352216102806,
          0.0189352216102806,
          0.0868350606166975,
          0.8691721177406936,
          0.2373771493225761,
          0.1574988668584717,
          0.3635932864447517,
          0.0189352216102806,
          0.6623048895908468,
          0.849523287337415,
          0.0189352216102806,
          0.0189352216102806,
          0.0189352216102806,
          0.7411789020686299,
          0.8158011595910762,
          0.298129791342674,
          0.283074747327095,
          0.5464225290231896,
          0.0189352216102806,
          0.5567541867670956,
          0.849523287337415,
          0.0189352216102806,
          0.0189352216102806,
          0.0189352216102806,
          0.8373514097547212,
          0.775128403752658,
          0.2388400133672953,
          0.215701613928145,
          0.689953859831491,
          0.0189352216102806,
          0.4435317442987335,
          0.849523287337415,
          0.0189352216102806,
          0.0189352216102806,
          0.0189352216102806,
          0.8881350633562122,
          0.7066605160720387,
          0.1818423816189984,
          0.065547370613953,
          0.3909644151555729,
          0.0189352216102806,
          0.6262854668586564,
          0.849523287337415,
          0.0189352216102806,
          0.0189352216102806,
          0.0189352216102806,
          0.858197358446291,
          0.8162114768194515,
          0.106899919468644,
          0.0642044378757727,
          0.6558175317930972,
          0.0189352216102806,
          0.458741902493467,
          0.849523287337415,
          0.0189352216102806,
          0.0189352216102806,
          0.0189352216102806,
          0.0449205697142872,
          0.6019267911331536,
          0.0584976783950029,
          0.2253519308212919,
          0.1707877045021389,
          0.0189352216102806,
          0.6371435176621633,
          0.849523287337415,
          0.0189352216102806,
          0.0189352216102806,
          0.0189352216102806,
          0.8341740544698975,
          0.5771494692672886,
          0.3154477724372804,
          0.2821116384885858,
          0.2907473006480897,
          0.0189352216102806,
          0.5447251839564166,
          0.849523287337415,
          0.0189352216102806,
          0.0189352216102806,
          0.0189352216102806,
          0.8537758625530736,
          0.7273153907316251,
          0.2042439292972672,
          0.1958863337529372,
          0.1415555975279197,
          0.0189352216102806,
          0.4298193706989855,
          0.849523287337415,
          0.0189352216102806,
          0.0189352216102806,
          0.0189352216102806,
          0.8151274437224012,
          0.83592308639041,
          0.2033237555648563,
          0.1136404170936704,
          0.1699791008076055,
          0.0189352216102806,
          0.6015230777530962,
          0.849523287337415,
          0.0189352216102806,
          0.0189352216102806,
          0.0189352216102806,
          0.0152927307732563,
          0.0407953824875279,
          0.0948590859878621,
          0.0138303901627054,
          0.072804300638572,
          0.0189352216102806,
          0.5171084909301207,
          0.849523287337415,
          0.0189352216102806,
          0.0189352216102806,
          0.0189352216102806,
          0.0583662918406763,
          0.1092797478873238,
          0.2187198382873442,
          0.136084888754662,
          0.2797675776321915,
          0.0189352216102806,
          0.6955519493629406,
          0.849523287337415,
          0.0189352216102806,
          0.0189352216102806,
          0.0189352216102806,
          0.785659380383899,
          0.4285633518958111,
          0.3877566668471505,
          0.2287803638032266,
          0.7934045868484432,
          0.0189352216102806,
          0.5942083424210098,
          0.849523287337415,
          0.0189352216102806,
          0.0189352216102806,
          0.0189352216102806,
          0.8471967360208745,
          0.8310389074916922,
          0.2206303383882872,
          0.2082891015622292,
          0.5707427030650546,
          0.0189352216102806,
          0.4791238911304644,
          0.849523287337415,
          0.0189352216102806,
          0.0189352216102806,
          0.0189352216102806,
          0.5592445673035467,
          0.8360058359048027,
          0.0558296690760192,
          0.1058926845490183,
          0.8149405311392782,
          0.0189352216102806,
          0.6639826081106686,
          0.849523287337415,
          0.0189352216102806,
          0.0189352216102806,
          0.0189352216102806,
          0.849501947420195,
          0.1551211224363213,
          0.1386192447996801,
          0.0898129919864076,
          0.0644709890381918,
          0.0189352216102806,
          0.4693331997876436,
          0.849523287337415,
          0.0189352216102806,
          0.0189352216102806,
          0.0189352216102806,
          0.8655739618215533,
          0.4773284890687503,
          0.1808282019204462,
          0.5197764573813491,
          0.0894395782279541,
          0.0189352216102806,
          0.6616333126148431,
          0.849523287337415,
          0.0189352216102806,
          0.0189352216102806,
          0.0189352216102806,
          0.1436540125870054,
          0.6826447575696203,
          0.2261650030530796,
          0.3337109474776558,
          0.2442107225115387,
          0.0189352216102806,
          0.5566092834720521,
          0.849523287337415,
          0.0189352216102806,
          0.0189352216102806,
          0.0189352216102806,
          0.8550828453089734,
          0.8545570891458603,
          0.2080398821179028,
          0.2091544606501907,
          0.1909338513456363,
          0.0189352216102806,
          0.4495649382295105,
          0.849523287337415,
          0.0189352216102806,
          0.0189352216102806,
          0.0189352216102806,
          0.1136287694098836,
          0.8367027511126179,
          0.2354075421536103,
          0.0761168757186774,
          0.3824997469905669,
          0.0189352216102806,
          0.6243156975645823,
          0.849523287337415,
          0.0189352216102806,
          0.0189352216102806,
          0.0189352216102806,
          0.4857725705098351,
          0.798191130492742,
          0.0627623234737078,
          0.0175225745697381,
          0.0377224274581796,
          0.0189352216102806,
          0.5099499412619429,
          0.849523287337415,
          0.0189352216102806,
          0.0189352216102806,
          0.0189352216102806,
          0.8236923361248665,
          0.1428439464659339,
          0.3133913688340289,
          0.7389934939593461,
          0.1031439929634513,
          0.0189352216102806,
          0.6963397168966198,
          0.849523287337415,
          0.0189352216102806,
          0.0189352216102806,
          0.0189352216102806,
          0.1536686698230077,
          0.7805362764795029,
          0.3337858027723149,
          0.3708836502792428,
          0.6476188315710739,
          0.0189352216102806,
          0.5950831440483236,
          0.849523287337415,
          0.0189352216102806,
          0.0189352216102806,
          0.0189352216102806,
          0.1013265864819924,
          0.743664450002896,
          0.2491945724561347,
          0.2238438937582294,
          0.2046067381577864,
          0.0189352216102806,
          0.4739626417419137,
          0.849523287337415,
          0.0189352216102806,
          0.0189352216102806,
          0.0189352216102806,
          0.0600372132664748,
          0.5280712872703512,
          0.1841054696639208,
          0.2509654575243649,
          0.3234623711358393,
          0.0189352216102806,
          0.6931697762856079,
          0.849523287337415,
          0.0189352216102806,
          0.0189352216102806,
          0.0189352216102806,
          0.0406994861609008,
          0.7690343101969263,
          0.0781012179275997,
          0.0209905343932634,
          0.1336544587839006
         ],
         "y0": " ",
         "yaxis": "y"
        }
       ],
       "layout": {
        "boxmode": "group",
        "legend": {
         "tracegroupgap": 0
        },
        "template": {
         "data": {
          "bar": [
           {
            "error_x": {
             "color": "#2a3f5f"
            },
            "error_y": {
             "color": "#2a3f5f"
            },
            "marker": {
             "line": {
              "color": "#E5ECF6",
              "width": 0.5
             },
             "pattern": {
              "fillmode": "overlay",
              "size": 10,
              "solidity": 0.2
             }
            },
            "type": "bar"
           }
          ],
          "barpolar": [
           {
            "marker": {
             "line": {
              "color": "#E5ECF6",
              "width": 0.5
             },
             "pattern": {
              "fillmode": "overlay",
              "size": 10,
              "solidity": 0.2
             }
            },
            "type": "barpolar"
           }
          ],
          "carpet": [
           {
            "aaxis": {
             "endlinecolor": "#2a3f5f",
             "gridcolor": "white",
             "linecolor": "white",
             "minorgridcolor": "white",
             "startlinecolor": "#2a3f5f"
            },
            "baxis": {
             "endlinecolor": "#2a3f5f",
             "gridcolor": "white",
             "linecolor": "white",
             "minorgridcolor": "white",
             "startlinecolor": "#2a3f5f"
            },
            "type": "carpet"
           }
          ],
          "choropleth": [
           {
            "colorbar": {
             "outlinewidth": 0,
             "ticks": ""
            },
            "type": "choropleth"
           }
          ],
          "contour": [
           {
            "colorbar": {
             "outlinewidth": 0,
             "ticks": ""
            },
            "colorscale": [
             [
              0,
              "#0d0887"
             ],
             [
              0.1111111111111111,
              "#46039f"
             ],
             [
              0.2222222222222222,
              "#7201a8"
             ],
             [
              0.3333333333333333,
              "#9c179e"
             ],
             [
              0.4444444444444444,
              "#bd3786"
             ],
             [
              0.5555555555555556,
              "#d8576b"
             ],
             [
              0.6666666666666666,
              "#ed7953"
             ],
             [
              0.7777777777777778,
              "#fb9f3a"
             ],
             [
              0.8888888888888888,
              "#fdca26"
             ],
             [
              1,
              "#f0f921"
             ]
            ],
            "type": "contour"
           }
          ],
          "contourcarpet": [
           {
            "colorbar": {
             "outlinewidth": 0,
             "ticks": ""
            },
            "type": "contourcarpet"
           }
          ],
          "heatmap": [
           {
            "colorbar": {
             "outlinewidth": 0,
             "ticks": ""
            },
            "colorscale": [
             [
              0,
              "#0d0887"
             ],
             [
              0.1111111111111111,
              "#46039f"
             ],
             [
              0.2222222222222222,
              "#7201a8"
             ],
             [
              0.3333333333333333,
              "#9c179e"
             ],
             [
              0.4444444444444444,
              "#bd3786"
             ],
             [
              0.5555555555555556,
              "#d8576b"
             ],
             [
              0.6666666666666666,
              "#ed7953"
             ],
             [
              0.7777777777777778,
              "#fb9f3a"
             ],
             [
              0.8888888888888888,
              "#fdca26"
             ],
             [
              1,
              "#f0f921"
             ]
            ],
            "type": "heatmap"
           }
          ],
          "heatmapgl": [
           {
            "colorbar": {
             "outlinewidth": 0,
             "ticks": ""
            },
            "colorscale": [
             [
              0,
              "#0d0887"
             ],
             [
              0.1111111111111111,
              "#46039f"
             ],
             [
              0.2222222222222222,
              "#7201a8"
             ],
             [
              0.3333333333333333,
              "#9c179e"
             ],
             [
              0.4444444444444444,
              "#bd3786"
             ],
             [
              0.5555555555555556,
              "#d8576b"
             ],
             [
              0.6666666666666666,
              "#ed7953"
             ],
             [
              0.7777777777777778,
              "#fb9f3a"
             ],
             [
              0.8888888888888888,
              "#fdca26"
             ],
             [
              1,
              "#f0f921"
             ]
            ],
            "type": "heatmapgl"
           }
          ],
          "histogram": [
           {
            "marker": {
             "pattern": {
              "fillmode": "overlay",
              "size": 10,
              "solidity": 0.2
             }
            },
            "type": "histogram"
           }
          ],
          "histogram2d": [
           {
            "colorbar": {
             "outlinewidth": 0,
             "ticks": ""
            },
            "colorscale": [
             [
              0,
              "#0d0887"
             ],
             [
              0.1111111111111111,
              "#46039f"
             ],
             [
              0.2222222222222222,
              "#7201a8"
             ],
             [
              0.3333333333333333,
              "#9c179e"
             ],
             [
              0.4444444444444444,
              "#bd3786"
             ],
             [
              0.5555555555555556,
              "#d8576b"
             ],
             [
              0.6666666666666666,
              "#ed7953"
             ],
             [
              0.7777777777777778,
              "#fb9f3a"
             ],
             [
              0.8888888888888888,
              "#fdca26"
             ],
             [
              1,
              "#f0f921"
             ]
            ],
            "type": "histogram2d"
           }
          ],
          "histogram2dcontour": [
           {
            "colorbar": {
             "outlinewidth": 0,
             "ticks": ""
            },
            "colorscale": [
             [
              0,
              "#0d0887"
             ],
             [
              0.1111111111111111,
              "#46039f"
             ],
             [
              0.2222222222222222,
              "#7201a8"
             ],
             [
              0.3333333333333333,
              "#9c179e"
             ],
             [
              0.4444444444444444,
              "#bd3786"
             ],
             [
              0.5555555555555556,
              "#d8576b"
             ],
             [
              0.6666666666666666,
              "#ed7953"
             ],
             [
              0.7777777777777778,
              "#fb9f3a"
             ],
             [
              0.8888888888888888,
              "#fdca26"
             ],
             [
              1,
              "#f0f921"
             ]
            ],
            "type": "histogram2dcontour"
           }
          ],
          "mesh3d": [
           {
            "colorbar": {
             "outlinewidth": 0,
             "ticks": ""
            },
            "type": "mesh3d"
           }
          ],
          "parcoords": [
           {
            "line": {
             "colorbar": {
              "outlinewidth": 0,
              "ticks": ""
             }
            },
            "type": "parcoords"
           }
          ],
          "pie": [
           {
            "automargin": true,
            "type": "pie"
           }
          ],
          "scatter": [
           {
            "fillpattern": {
             "fillmode": "overlay",
             "size": 10,
             "solidity": 0.2
            },
            "type": "scatter"
           }
          ],
          "scatter3d": [
           {
            "line": {
             "colorbar": {
              "outlinewidth": 0,
              "ticks": ""
             }
            },
            "marker": {
             "colorbar": {
              "outlinewidth": 0,
              "ticks": ""
             }
            },
            "type": "scatter3d"
           }
          ],
          "scattercarpet": [
           {
            "marker": {
             "colorbar": {
              "outlinewidth": 0,
              "ticks": ""
             }
            },
            "type": "scattercarpet"
           }
          ],
          "scattergeo": [
           {
            "marker": {
             "colorbar": {
              "outlinewidth": 0,
              "ticks": ""
             }
            },
            "type": "scattergeo"
           }
          ],
          "scattergl": [
           {
            "marker": {
             "colorbar": {
              "outlinewidth": 0,
              "ticks": ""
             }
            },
            "type": "scattergl"
           }
          ],
          "scattermapbox": [
           {
            "marker": {
             "colorbar": {
              "outlinewidth": 0,
              "ticks": ""
             }
            },
            "type": "scattermapbox"
           }
          ],
          "scatterpolar": [
           {
            "marker": {
             "colorbar": {
              "outlinewidth": 0,
              "ticks": ""
             }
            },
            "type": "scatterpolar"
           }
          ],
          "scatterpolargl": [
           {
            "marker": {
             "colorbar": {
              "outlinewidth": 0,
              "ticks": ""
             }
            },
            "type": "scatterpolargl"
           }
          ],
          "scatterternary": [
           {
            "marker": {
             "colorbar": {
              "outlinewidth": 0,
              "ticks": ""
             }
            },
            "type": "scatterternary"
           }
          ],
          "surface": [
           {
            "colorbar": {
             "outlinewidth": 0,
             "ticks": ""
            },
            "colorscale": [
             [
              0,
              "#0d0887"
             ],
             [
              0.1111111111111111,
              "#46039f"
             ],
             [
              0.2222222222222222,
              "#7201a8"
             ],
             [
              0.3333333333333333,
              "#9c179e"
             ],
             [
              0.4444444444444444,
              "#bd3786"
             ],
             [
              0.5555555555555556,
              "#d8576b"
             ],
             [
              0.6666666666666666,
              "#ed7953"
             ],
             [
              0.7777777777777778,
              "#fb9f3a"
             ],
             [
              0.8888888888888888,
              "#fdca26"
             ],
             [
              1,
              "#f0f921"
             ]
            ],
            "type": "surface"
           }
          ],
          "table": [
           {
            "cells": {
             "fill": {
              "color": "#EBF0F8"
             },
             "line": {
              "color": "white"
             }
            },
            "header": {
             "fill": {
              "color": "#C8D4E3"
             },
             "line": {
              "color": "white"
             }
            },
            "type": "table"
           }
          ]
         },
         "layout": {
          "annotationdefaults": {
           "arrowcolor": "#2a3f5f",
           "arrowhead": 0,
           "arrowwidth": 1
          },
          "autotypenumbers": "strict",
          "coloraxis": {
           "colorbar": {
            "outlinewidth": 0,
            "ticks": ""
           }
          },
          "colorscale": {
           "diverging": [
            [
             0,
             "#8e0152"
            ],
            [
             0.1,
             "#c51b7d"
            ],
            [
             0.2,
             "#de77ae"
            ],
            [
             0.3,
             "#f1b6da"
            ],
            [
             0.4,
             "#fde0ef"
            ],
            [
             0.5,
             "#f7f7f7"
            ],
            [
             0.6,
             "#e6f5d0"
            ],
            [
             0.7,
             "#b8e186"
            ],
            [
             0.8,
             "#7fbc41"
            ],
            [
             0.9,
             "#4d9221"
            ],
            [
             1,
             "#276419"
            ]
           ],
           "sequential": [
            [
             0,
             "#0d0887"
            ],
            [
             0.1111111111111111,
             "#46039f"
            ],
            [
             0.2222222222222222,
             "#7201a8"
            ],
            [
             0.3333333333333333,
             "#9c179e"
            ],
            [
             0.4444444444444444,
             "#bd3786"
            ],
            [
             0.5555555555555556,
             "#d8576b"
            ],
            [
             0.6666666666666666,
             "#ed7953"
            ],
            [
             0.7777777777777778,
             "#fb9f3a"
            ],
            [
             0.8888888888888888,
             "#fdca26"
            ],
            [
             1,
             "#f0f921"
            ]
           ],
           "sequentialminus": [
            [
             0,
             "#0d0887"
            ],
            [
             0.1111111111111111,
             "#46039f"
            ],
            [
             0.2222222222222222,
             "#7201a8"
            ],
            [
             0.3333333333333333,
             "#9c179e"
            ],
            [
             0.4444444444444444,
             "#bd3786"
            ],
            [
             0.5555555555555556,
             "#d8576b"
            ],
            [
             0.6666666666666666,
             "#ed7953"
            ],
            [
             0.7777777777777778,
             "#fb9f3a"
            ],
            [
             0.8888888888888888,
             "#fdca26"
            ],
            [
             1,
             "#f0f921"
            ]
           ]
          },
          "colorway": [
           "#636efa",
           "#EF553B",
           "#00cc96",
           "#ab63fa",
           "#FFA15A",
           "#19d3f3",
           "#FF6692",
           "#B6E880",
           "#FF97FF",
           "#FECB52"
          ],
          "font": {
           "color": "#2a3f5f"
          },
          "geo": {
           "bgcolor": "white",
           "lakecolor": "white",
           "landcolor": "#E5ECF6",
           "showlakes": true,
           "showland": true,
           "subunitcolor": "white"
          },
          "hoverlabel": {
           "align": "left"
          },
          "hovermode": "closest",
          "mapbox": {
           "style": "light"
          },
          "paper_bgcolor": "white",
          "plot_bgcolor": "#E5ECF6",
          "polar": {
           "angularaxis": {
            "gridcolor": "white",
            "linecolor": "white",
            "ticks": ""
           },
           "bgcolor": "#E5ECF6",
           "radialaxis": {
            "gridcolor": "white",
            "linecolor": "white",
            "ticks": ""
           }
          },
          "scene": {
           "xaxis": {
            "backgroundcolor": "#E5ECF6",
            "gridcolor": "white",
            "gridwidth": 2,
            "linecolor": "white",
            "showbackground": true,
            "ticks": "",
            "zerolinecolor": "white"
           },
           "yaxis": {
            "backgroundcolor": "#E5ECF6",
            "gridcolor": "white",
            "gridwidth": 2,
            "linecolor": "white",
            "showbackground": true,
            "ticks": "",
            "zerolinecolor": "white"
           },
           "zaxis": {
            "backgroundcolor": "#E5ECF6",
            "gridcolor": "white",
            "gridwidth": 2,
            "linecolor": "white",
            "showbackground": true,
            "ticks": "",
            "zerolinecolor": "white"
           }
          },
          "shapedefaults": {
           "line": {
            "color": "#2a3f5f"
           }
          },
          "ternary": {
           "aaxis": {
            "gridcolor": "white",
            "linecolor": "white",
            "ticks": ""
           },
           "baxis": {
            "gridcolor": "white",
            "linecolor": "white",
            "ticks": ""
           },
           "bgcolor": "#E5ECF6",
           "caxis": {
            "gridcolor": "white",
            "linecolor": "white",
            "ticks": ""
           }
          },
          "title": {
           "x": 0.05
          },
          "xaxis": {
           "automargin": true,
           "gridcolor": "white",
           "linecolor": "white",
           "ticks": "",
           "title": {
            "standoff": 15
           },
           "zerolinecolor": "white",
           "zerolinewidth": 2
          },
          "yaxis": {
           "automargin": true,
           "gridcolor": "white",
           "linecolor": "white",
           "ticks": "",
           "title": {
            "standoff": 15
           },
           "zerolinecolor": "white",
           "zerolinewidth": 2
          }
         }
        },
        "title": {
         "text": "Boxplot da F1-Score Balanceada do Classificador Sim/real"
        },
        "xaxis": {
         "anchor": "y",
         "domain": [
          0,
          1
         ],
         "title": {
          "text": "Nome"
         }
        },
        "yaxis": {
         "anchor": "x",
         "domain": [
          0,
          1
         ],
         "range": [
          0,
          1
         ],
         "title": {
          "text": "F1-score Balanceada"
         }
        }
       }
      }
     },
     "metadata": {},
     "output_type": "display_data"
    }
   ],
   "source": [
    "# Criar boxplot da acurácia por modelo sim/real \n",
    "fig = px.box(df3, x='Nome', y='Acurácia Balanceada', points='all', title='Boxplot da Acurácia Balanceada do classificador Sim/real')\n",
    "\n",
    "fig.update_yaxes(range=[0, 1])\n",
    "fig.show()\n",
    "\n",
    "fig = px.box(df3, x='Nome', y='F1-score Balanceada', points='all', title='Boxplot da F1-Score Balanceada do Classificador Sim/real')\n",
    "fig.update_yaxes(range=[0, 1])\n",
    "fig.show()"
   ]
  }
 ],
 "metadata": {
  "kernelspec": {
   "display_name": "Python 3",
   "language": "python",
   "name": "python3"
  },
  "language_info": {
   "codemirror_mode": {
    "name": "ipython",
    "version": 3
   },
   "file_extension": ".py",
   "mimetype": "text/x-python",
   "name": "python",
   "nbconvert_exporter": "python",
   "pygments_lexer": "ipython3",
   "version": "3.8.10"
  },
  "orig_nbformat": 4
 },
 "nbformat": 4,
 "nbformat_minor": 2
}
