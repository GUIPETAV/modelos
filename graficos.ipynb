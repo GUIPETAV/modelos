{
 "cells": [
  {
   "cell_type": "code",
   "execution_count": 2,
   "metadata": {},
   "outputs": [],
   "source": [
    "import pandas as pd\n",
    "import plotly.express as px\n"
   ]
  },
  {
   "cell_type": "code",
   "execution_count": 25,
   "metadata": {},
   "outputs": [],
   "source": [
    "# modelo Real/Real \n",
    "\n",
    "df1 = pd.read_csv('https://raw.githubusercontent.com/GUIPETAV/modelos/main/modelos_real_real.csv')\n",
    "df2 = pd.read_csv('https://raw.githubusercontent.com/GUIPETAV/modelos/main/modelos_sim_sim.csv')\n",
    "df3 = pd.read_csv('https://raw.githubusercontent.com/GUIPETAV/modelos/main/modelos_sim_real.csv')\n",
    "df4 = pd.read_csv('https://raw.githubusercontent.com/GUIPETAV/modelos/main/modelos_real_real_0.csv')\n",
    "df5 = pd.read_csv('https://raw.githubusercontent.com/GUIPETAV/modelos/main/modelos_sim_sim_0.csv')\n",
    "df6 = pd.read_csv('https://raw.githubusercontent.com/GUIPETAV/modelos/main/modelos_sim_real_0.csv')\n",
    "df7 = pd.read_csv('https://raw.githubusercontent.com/GUIPETAV/modelos/main/modelos_real_realt.csv')\n",
    "df8 = pd.read_csv('https://raw.githubusercontent.com/GUIPETAV/modelos/main/modelos_sim_simt.csv')\n",
    "df9 = pd.read_csv('https://raw.githubusercontent.com/GUIPETAV/modelos/main/modelos_sim_realt.csv')\n",
    "\n"
   ]
  },
  {
   "cell_type": "markdown",
   "metadata": {},
   "source": [
    "## Gráficos dados Reais"
   ]
  },
  {
   "cell_type": "code",
   "execution_count": 20,
   "metadata": {},
   "outputs": [
    {
     "data": {
      "application/vnd.plotly.v1+json": {
       "config": {
        "plotlyServerURL": "https://plot.ly"
       },
       "data": [
        {
         "alignmentgroup": "True",
         "boxpoints": "all",
         "hovertemplate": "Nome=%{x}<br>Acurácia Balanceada=%{y}<extra></extra>",
         "legendgroup": "",
         "marker": {
          "color": "rgb(141,211,199)"
         },
         "name": "",
         "notched": false,
         "offsetgroup": "",
         "orientation": "v",
         "showlegend": false,
         "type": "box",
         "x": [
          "logreg",
          "KNN",
          "GaussianNB",
          "Perceptron",
          "LinearSVC",
          "SGD",
          "Dtree",
          "RForest",
          "ADA",
          "GBC",
          "ETC",
          "logreg",
          "KNN",
          "GaussianNB",
          "Perceptron",
          "LinearSVC",
          "SGD",
          "Dtree",
          "RForest",
          "ADA",
          "GBC",
          "ETC",
          "logreg",
          "KNN",
          "GaussianNB",
          "Perceptron",
          "LinearSVC",
          "SGD",
          "Dtree",
          "RForest",
          "ADA",
          "GBC",
          "ETC",
          "logreg",
          "KNN",
          "GaussianNB",
          "Perceptron",
          "LinearSVC",
          "SGD",
          "Dtree",
          "RForest",
          "ADA",
          "GBC",
          "ETC",
          "logreg",
          "KNN",
          "GaussianNB",
          "Perceptron",
          "LinearSVC",
          "SGD",
          "Dtree",
          "RForest",
          "ADA",
          "GBC",
          "ETC",
          "logreg",
          "KNN",
          "GaussianNB",
          "Perceptron",
          "LinearSVC",
          "SGD",
          "Dtree",
          "RForest",
          "ADA",
          "GBC",
          "ETC",
          "logreg",
          "KNN",
          "GaussianNB",
          "Perceptron",
          "LinearSVC",
          "SGD",
          "Dtree",
          "RForest",
          "ADA",
          "GBC",
          "ETC",
          "logreg",
          "KNN",
          "GaussianNB",
          "Perceptron",
          "LinearSVC",
          "SGD",
          "Dtree",
          "RForest",
          "ADA",
          "GBC",
          "ETC",
          "logreg",
          "KNN",
          "GaussianNB",
          "Perceptron",
          "LinearSVC",
          "SGD",
          "Dtree",
          "RForest",
          "ADA",
          "GBC",
          "ETC",
          "logreg",
          "KNN",
          "GaussianNB",
          "Perceptron",
          "LinearSVC",
          "SGD",
          "Dtree",
          "RForest",
          "ADA",
          "GBC",
          "ETC",
          "logreg",
          "KNN",
          "GaussianNB",
          "Perceptron",
          "LinearSVC",
          "SGD",
          "Dtree",
          "RForest",
          "ADA",
          "GBC",
          "ETC",
          "logreg",
          "KNN",
          "GaussianNB",
          "Perceptron",
          "LinearSVC",
          "SGD",
          "Dtree",
          "RForest",
          "ADA",
          "GBC",
          "ETC",
          "logreg",
          "KNN",
          "GaussianNB",
          "Perceptron",
          "LinearSVC",
          "SGD",
          "Dtree",
          "RForest",
          "ADA",
          "GBC",
          "ETC",
          "logreg",
          "KNN",
          "GaussianNB",
          "Perceptron",
          "LinearSVC",
          "SGD",
          "Dtree",
          "RForest",
          "ADA",
          "GBC",
          "ETC",
          "logreg",
          "KNN",
          "GaussianNB",
          "Perceptron",
          "LinearSVC",
          "SGD",
          "Dtree",
          "RForest",
          "ADA",
          "GBC",
          "ETC",
          "logreg",
          "KNN",
          "GaussianNB",
          "Perceptron",
          "LinearSVC",
          "SGD",
          "Dtree",
          "RForest",
          "ADA",
          "GBC",
          "ETC",
          "logreg",
          "KNN",
          "GaussianNB",
          "Perceptron",
          "LinearSVC",
          "SGD",
          "Dtree",
          "RForest",
          "ADA",
          "GBC",
          "ETC",
          "logreg",
          "KNN",
          "GaussianNB",
          "Perceptron",
          "LinearSVC",
          "SGD",
          "Dtree",
          "RForest",
          "ADA",
          "GBC",
          "ETC",
          "logreg",
          "KNN",
          "GaussianNB",
          "Perceptron",
          "LinearSVC",
          "SGD",
          "Dtree",
          "RForest",
          "ADA",
          "GBC",
          "ETC",
          "logreg",
          "KNN",
          "GaussianNB",
          "Perceptron",
          "LinearSVC",
          "SGD",
          "Dtree",
          "RForest",
          "ADA",
          "GBC",
          "ETC",
          "logreg",
          "KNN",
          "GaussianNB",
          "Perceptron",
          "LinearSVC",
          "SGD",
          "Dtree",
          "RForest",
          "ADA",
          "GBC",
          "ETC",
          "logreg",
          "KNN",
          "GaussianNB",
          "Perceptron",
          "LinearSVC",
          "SGD",
          "Dtree",
          "RForest",
          "ADA",
          "GBC",
          "ETC",
          "logreg",
          "KNN",
          "GaussianNB",
          "Perceptron",
          "LinearSVC",
          "SGD",
          "Dtree",
          "RForest",
          "ADA",
          "GBC",
          "ETC",
          "logreg",
          "KNN",
          "GaussianNB",
          "Perceptron",
          "LinearSVC",
          "SGD",
          "Dtree",
          "RForest",
          "ADA",
          "GBC",
          "ETC",
          "logreg",
          "KNN",
          "GaussianNB",
          "Perceptron",
          "LinearSVC",
          "SGD",
          "Dtree",
          "RForest",
          "ADA",
          "GBC",
          "ETC"
         ],
         "x0": " ",
         "xaxis": "x",
         "y": [
          0.5120221687561974,
          0.6388199211333431,
          0.5916715990355618,
          0.5400610845062122,
          0.5068963485096559,
          0.5311162014866289,
          0.6155814173962729,
          0.6337145990432486,
          0.5657375877257039,
          0.6064930472815601,
          0.6625247579295837,
          0.6327396554772355,
          0.7387804621821825,
          0.6270475736588441,
          0.5367326963531217,
          0.607342439639335,
          0.6358822790875246,
          0.6975279223324853,
          0.6785645653494039,
          0.672728996435883,
          0.6473727769108766,
          0.7016326781610078,
          0.6281660043199865,
          0.722097525103836,
          0.6556066301287028,
          0.7003886962916273,
          0.6010687226317584,
          0.5911155865419353,
          0.6707803904386349,
          0.6830626295547544,
          0.6369750870531081,
          0.6645707301699553,
          0.6836852610568337,
          0.6150228426330907,
          0.7007461328946728,
          0.6384394241042946,
          0.6634189900045865,
          0.5761762738963664,
          0.5864535370850084,
          0.6624888861558014,
          0.6679016805926017,
          0.6522282777192726,
          0.6585558023875228,
          0.6766979519779439,
          0.6050389593085972,
          0.7080998465200536,
          0.6678594031449296,
          0.5864266332546716,
          0.5533656691751285,
          0.5846996635740073,
          0.6762841454446691,
          0.6713492142800407,
          0.6231516427991257,
          0.6622608441653279,
          0.673727000427899,
          0.6382818445266079,
          0.8058299319204979,
          0.6464465164664253,
          0.6379244079235624,
          0.6218769136950746,
          0.663971159093879,
          0.7857763292413888,
          0.91049864327827,
          0.8258515062301583,
          0.8380415036422662,
          0.8977026691161965,
          0.7849038764576111,
          0.887152524219853,
          0.7445045723700225,
          0.8322699914676424,
          0.7275782196838672,
          0.8262127862375378,
          0.88292349831787,
          0.9882122789081658,
          0.9518613607188704,
          0.974027554646804,
          0.953799717637895,
          0.8160802912788031,
          0.896757191650076,
          0.738941885164203,
          0.7138995436597921,
          0.7267313895956482,
          0.6606607068276796,
          0.9355909490390208,
          0.9828520109972608,
          0.9413560555397548,
          0.9613994091406404,
          0.9375203380145998,
          0.7684131095959557,
          0.8996256524178856,
          0.7131757025102554,
          0.6734349016985285,
          0.6793973029550655,
          0.6834956531096984,
          0.7907112604060171,
          0.9870605387427968,
          0.9559481806605018,
          0.9541264070062698,
          0.9170644590152172,
          0.7593503621768016,
          0.8875304589793456,
          0.7890957494510338,
          0.6540872042820649,
          0.648860174388066,
          0.6416345742404792,
          0.9484522610747697,
          0.9889668672923728,
          0.9611290897024948,
          0.969735753140702,
          0.934959349593496,
          0.6514775327393993,
          0.7727945905365137,
          0.3944498679150043,
          0.4976542422215901,
          0.6499427332754261,
          0.682746189264603,
          0.7974961501899923,
          0.867423048639563,
          0.8612928187271158,
          0.8232713007873854,
          0.901784364518716,
          0.7453680572103547,
          0.8248483776990307,
          0.4305240609922645,
          0.7204487046446261,
          0.7452719721020091,
          0.7636280712003465,
          0.8765562584715036,
          0.9303344530451292,
          0.9459450803143392,
          0.9249460001691098,
          0.9368234006954,
          0.7626006011084379,
          0.8418785023021992,
          0.3882427699158807,
          0.7090760712208446,
          0.7640726249682919,
          0.7840391104825011,
          0.9218149067718222,
          0.9436364754444896,
          0.9722429339011324,
          0.9313734533500392,
          0.9423245934318782,
          0.7734774353731562,
          0.8453260359896382,
          0.4136797009318974,
          0.8597938910369249,
          0.7653588842853445,
          0.7602689358125854,
          0.906817943061246,
          0.9443923449634748,
          0.974071113229254,
          0.9450675029914496,
          0.955011671137827,
          0.762009997975807,
          0.8466174198458026,
          0.3885348686452512,
          0.8165696847639765,
          0.7602791848908088,
          0.7612361925699307,
          0.9272943202170756,
          0.9432303557198825,
          0.9750601492778244,
          0.9390922903871332,
          0.9159178433889602,
          0.7424201660863126,
          0.8600142462187308,
          0.7368459486674916,
          0.7674830057471707,
          0.7602740603516971,
          0.7222538235467448,
          0.8238593416504603,
          0.8771724842996933,
          0.7537915183753161,
          0.7774105191414347,
          0.883596094076289,
          0.8116872801252437,
          0.9286382305991354,
          0.6889955647113988,
          0.7539209129878881,
          0.8106534043594454,
          0.8269289405784068,
          0.902651692763382,
          0.9399288713971288,
          0.8377519671824515,
          0.9126342949530976,
          0.8992848705669534,
          0.8222527986389224,
          0.9489262809426078,
          0.8269840293738582,
          0.8306557616474368,
          0.8046922842376864,
          0.8271544202993244,
          0.9277721834892474,
          0.9578788507708588,
          0.8906794882635243,
          0.9384581286720526,
          0.9527837777589878,
          0.8244858165568734,
          0.94285242096039,
          0.8153436387814871,
          0.8125815122002464,
          0.8076978264267357,
          0.8207923049920698,
          0.8997153318523415,
          0.950786488640178,
          0.9281309012270708,
          0.9275287678814388,
          0.9312389341983556,
          0.8311400305934984,
          0.9486956766825784,
          0.8263626790065568,
          0.8727487259114632,
          0.8018340725481001,
          0.8323558274977644,
          0.9305381534748218,
          0.9527850588937656,
          0.8899056828576479,
          0.9415187596565532,
          0.9353629070485472,
          0.4800527315074601,
          0.6025548389741697,
          0.4898188219197036,
          0.4815824064323215,
          0.4695358961153431,
          0.4783859751613589,
          0.5404415815352607,
          0.563762077898119,
          0.5690787872265738,
          0.5599045810817389,
          0.5851250003202837,
          0.4976632101650358,
          0.6349432072952939,
          0.4466599535204302,
          0.480356360449832,
          0.4979296861988475,
          0.5021279648661598,
          0.6056859323714574,
          0.6238511423878814,
          0.6446439598338625,
          0.6265978953517868,
          0.5889824971366637,
          0.47866526254295,
          0.6328062744856885,
          0.4701713389652018,
          0.4576290294891603,
          0.4754521765198742,
          0.4915124820961414,
          0.614624409717151,
          0.5771115022842632,
          0.6205330033130145,
          0.562743575749656,
          0.5845228669746514,
          0.497354456683552,
          0.6297712661967464,
          0.5009224170401174,
          0.476128615682627,
          0.498048831733196,
          0.5067323632580795,
          0.59864737790145,
          0.6112242780164959,
          0.6261059395970574,
          0.6027341978430815,
          0.5900368710589091,
          0.508975630254254,
          0.641726815944491,
          0.5133750470817031,
          0.5078354203018866,
          0.5041085992328564,
          0.5064133606983722,
          0.6347830654480513,
          0.5984167736414207,
          0.5994865211810013,
          0.5857937526743688,
          0.5798031664527171
         ],
         "y0": " ",
         "yaxis": "y"
        }
       ],
       "layout": {
        "boxmode": "group",
        "legend": {
         "tracegroupgap": 0
        },
        "template": {
         "data": {
          "bar": [
           {
            "error_x": {
             "color": "#2a3f5f"
            },
            "error_y": {
             "color": "#2a3f5f"
            },
            "marker": {
             "line": {
              "color": "#E5ECF6",
              "width": 0.5
             },
             "pattern": {
              "fillmode": "overlay",
              "size": 10,
              "solidity": 0.2
             }
            },
            "type": "bar"
           }
          ],
          "barpolar": [
           {
            "marker": {
             "line": {
              "color": "#E5ECF6",
              "width": 0.5
             },
             "pattern": {
              "fillmode": "overlay",
              "size": 10,
              "solidity": 0.2
             }
            },
            "type": "barpolar"
           }
          ],
          "carpet": [
           {
            "aaxis": {
             "endlinecolor": "#2a3f5f",
             "gridcolor": "white",
             "linecolor": "white",
             "minorgridcolor": "white",
             "startlinecolor": "#2a3f5f"
            },
            "baxis": {
             "endlinecolor": "#2a3f5f",
             "gridcolor": "white",
             "linecolor": "white",
             "minorgridcolor": "white",
             "startlinecolor": "#2a3f5f"
            },
            "type": "carpet"
           }
          ],
          "choropleth": [
           {
            "colorbar": {
             "outlinewidth": 0,
             "ticks": ""
            },
            "type": "choropleth"
           }
          ],
          "contour": [
           {
            "colorbar": {
             "outlinewidth": 0,
             "ticks": ""
            },
            "colorscale": [
             [
              0,
              "#0d0887"
             ],
             [
              0.1111111111111111,
              "#46039f"
             ],
             [
              0.2222222222222222,
              "#7201a8"
             ],
             [
              0.3333333333333333,
              "#9c179e"
             ],
             [
              0.4444444444444444,
              "#bd3786"
             ],
             [
              0.5555555555555556,
              "#d8576b"
             ],
             [
              0.6666666666666666,
              "#ed7953"
             ],
             [
              0.7777777777777778,
              "#fb9f3a"
             ],
             [
              0.8888888888888888,
              "#fdca26"
             ],
             [
              1,
              "#f0f921"
             ]
            ],
            "type": "contour"
           }
          ],
          "contourcarpet": [
           {
            "colorbar": {
             "outlinewidth": 0,
             "ticks": ""
            },
            "type": "contourcarpet"
           }
          ],
          "heatmap": [
           {
            "colorbar": {
             "outlinewidth": 0,
             "ticks": ""
            },
            "colorscale": [
             [
              0,
              "#0d0887"
             ],
             [
              0.1111111111111111,
              "#46039f"
             ],
             [
              0.2222222222222222,
              "#7201a8"
             ],
             [
              0.3333333333333333,
              "#9c179e"
             ],
             [
              0.4444444444444444,
              "#bd3786"
             ],
             [
              0.5555555555555556,
              "#d8576b"
             ],
             [
              0.6666666666666666,
              "#ed7953"
             ],
             [
              0.7777777777777778,
              "#fb9f3a"
             ],
             [
              0.8888888888888888,
              "#fdca26"
             ],
             [
              1,
              "#f0f921"
             ]
            ],
            "type": "heatmap"
           }
          ],
          "heatmapgl": [
           {
            "colorbar": {
             "outlinewidth": 0,
             "ticks": ""
            },
            "colorscale": [
             [
              0,
              "#0d0887"
             ],
             [
              0.1111111111111111,
              "#46039f"
             ],
             [
              0.2222222222222222,
              "#7201a8"
             ],
             [
              0.3333333333333333,
              "#9c179e"
             ],
             [
              0.4444444444444444,
              "#bd3786"
             ],
             [
              0.5555555555555556,
              "#d8576b"
             ],
             [
              0.6666666666666666,
              "#ed7953"
             ],
             [
              0.7777777777777778,
              "#fb9f3a"
             ],
             [
              0.8888888888888888,
              "#fdca26"
             ],
             [
              1,
              "#f0f921"
             ]
            ],
            "type": "heatmapgl"
           }
          ],
          "histogram": [
           {
            "marker": {
             "pattern": {
              "fillmode": "overlay",
              "size": 10,
              "solidity": 0.2
             }
            },
            "type": "histogram"
           }
          ],
          "histogram2d": [
           {
            "colorbar": {
             "outlinewidth": 0,
             "ticks": ""
            },
            "colorscale": [
             [
              0,
              "#0d0887"
             ],
             [
              0.1111111111111111,
              "#46039f"
             ],
             [
              0.2222222222222222,
              "#7201a8"
             ],
             [
              0.3333333333333333,
              "#9c179e"
             ],
             [
              0.4444444444444444,
              "#bd3786"
             ],
             [
              0.5555555555555556,
              "#d8576b"
             ],
             [
              0.6666666666666666,
              "#ed7953"
             ],
             [
              0.7777777777777778,
              "#fb9f3a"
             ],
             [
              0.8888888888888888,
              "#fdca26"
             ],
             [
              1,
              "#f0f921"
             ]
            ],
            "type": "histogram2d"
           }
          ],
          "histogram2dcontour": [
           {
            "colorbar": {
             "outlinewidth": 0,
             "ticks": ""
            },
            "colorscale": [
             [
              0,
              "#0d0887"
             ],
             [
              0.1111111111111111,
              "#46039f"
             ],
             [
              0.2222222222222222,
              "#7201a8"
             ],
             [
              0.3333333333333333,
              "#9c179e"
             ],
             [
              0.4444444444444444,
              "#bd3786"
             ],
             [
              0.5555555555555556,
              "#d8576b"
             ],
             [
              0.6666666666666666,
              "#ed7953"
             ],
             [
              0.7777777777777778,
              "#fb9f3a"
             ],
             [
              0.8888888888888888,
              "#fdca26"
             ],
             [
              1,
              "#f0f921"
             ]
            ],
            "type": "histogram2dcontour"
           }
          ],
          "mesh3d": [
           {
            "colorbar": {
             "outlinewidth": 0,
             "ticks": ""
            },
            "type": "mesh3d"
           }
          ],
          "parcoords": [
           {
            "line": {
             "colorbar": {
              "outlinewidth": 0,
              "ticks": ""
             }
            },
            "type": "parcoords"
           }
          ],
          "pie": [
           {
            "automargin": true,
            "type": "pie"
           }
          ],
          "scatter": [
           {
            "fillpattern": {
             "fillmode": "overlay",
             "size": 10,
             "solidity": 0.2
            },
            "type": "scatter"
           }
          ],
          "scatter3d": [
           {
            "line": {
             "colorbar": {
              "outlinewidth": 0,
              "ticks": ""
             }
            },
            "marker": {
             "colorbar": {
              "outlinewidth": 0,
              "ticks": ""
             }
            },
            "type": "scatter3d"
           }
          ],
          "scattercarpet": [
           {
            "marker": {
             "colorbar": {
              "outlinewidth": 0,
              "ticks": ""
             }
            },
            "type": "scattercarpet"
           }
          ],
          "scattergeo": [
           {
            "marker": {
             "colorbar": {
              "outlinewidth": 0,
              "ticks": ""
             }
            },
            "type": "scattergeo"
           }
          ],
          "scattergl": [
           {
            "marker": {
             "colorbar": {
              "outlinewidth": 0,
              "ticks": ""
             }
            },
            "type": "scattergl"
           }
          ],
          "scattermapbox": [
           {
            "marker": {
             "colorbar": {
              "outlinewidth": 0,
              "ticks": ""
             }
            },
            "type": "scattermapbox"
           }
          ],
          "scatterpolar": [
           {
            "marker": {
             "colorbar": {
              "outlinewidth": 0,
              "ticks": ""
             }
            },
            "type": "scatterpolar"
           }
          ],
          "scatterpolargl": [
           {
            "marker": {
             "colorbar": {
              "outlinewidth": 0,
              "ticks": ""
             }
            },
            "type": "scatterpolargl"
           }
          ],
          "scatterternary": [
           {
            "marker": {
             "colorbar": {
              "outlinewidth": 0,
              "ticks": ""
             }
            },
            "type": "scatterternary"
           }
          ],
          "surface": [
           {
            "colorbar": {
             "outlinewidth": 0,
             "ticks": ""
            },
            "colorscale": [
             [
              0,
              "#0d0887"
             ],
             [
              0.1111111111111111,
              "#46039f"
             ],
             [
              0.2222222222222222,
              "#7201a8"
             ],
             [
              0.3333333333333333,
              "#9c179e"
             ],
             [
              0.4444444444444444,
              "#bd3786"
             ],
             [
              0.5555555555555556,
              "#d8576b"
             ],
             [
              0.6666666666666666,
              "#ed7953"
             ],
             [
              0.7777777777777778,
              "#fb9f3a"
             ],
             [
              0.8888888888888888,
              "#fdca26"
             ],
             [
              1,
              "#f0f921"
             ]
            ],
            "type": "surface"
           }
          ],
          "table": [
           {
            "cells": {
             "fill": {
              "color": "#EBF0F8"
             },
             "line": {
              "color": "white"
             }
            },
            "header": {
             "fill": {
              "color": "#C8D4E3"
             },
             "line": {
              "color": "white"
             }
            },
            "type": "table"
           }
          ]
         },
         "layout": {
          "annotationdefaults": {
           "arrowcolor": "#2a3f5f",
           "arrowhead": 0,
           "arrowwidth": 1
          },
          "autotypenumbers": "strict",
          "coloraxis": {
           "colorbar": {
            "outlinewidth": 0,
            "ticks": ""
           }
          },
          "colorscale": {
           "diverging": [
            [
             0,
             "#8e0152"
            ],
            [
             0.1,
             "#c51b7d"
            ],
            [
             0.2,
             "#de77ae"
            ],
            [
             0.3,
             "#f1b6da"
            ],
            [
             0.4,
             "#fde0ef"
            ],
            [
             0.5,
             "#f7f7f7"
            ],
            [
             0.6,
             "#e6f5d0"
            ],
            [
             0.7,
             "#b8e186"
            ],
            [
             0.8,
             "#7fbc41"
            ],
            [
             0.9,
             "#4d9221"
            ],
            [
             1,
             "#276419"
            ]
           ],
           "sequential": [
            [
             0,
             "#0d0887"
            ],
            [
             0.1111111111111111,
             "#46039f"
            ],
            [
             0.2222222222222222,
             "#7201a8"
            ],
            [
             0.3333333333333333,
             "#9c179e"
            ],
            [
             0.4444444444444444,
             "#bd3786"
            ],
            [
             0.5555555555555556,
             "#d8576b"
            ],
            [
             0.6666666666666666,
             "#ed7953"
            ],
            [
             0.7777777777777778,
             "#fb9f3a"
            ],
            [
             0.8888888888888888,
             "#fdca26"
            ],
            [
             1,
             "#f0f921"
            ]
           ],
           "sequentialminus": [
            [
             0,
             "#0d0887"
            ],
            [
             0.1111111111111111,
             "#46039f"
            ],
            [
             0.2222222222222222,
             "#7201a8"
            ],
            [
             0.3333333333333333,
             "#9c179e"
            ],
            [
             0.4444444444444444,
             "#bd3786"
            ],
            [
             0.5555555555555556,
             "#d8576b"
            ],
            [
             0.6666666666666666,
             "#ed7953"
            ],
            [
             0.7777777777777778,
             "#fb9f3a"
            ],
            [
             0.8888888888888888,
             "#fdca26"
            ],
            [
             1,
             "#f0f921"
            ]
           ]
          },
          "colorway": [
           "#636efa",
           "#EF553B",
           "#00cc96",
           "#ab63fa",
           "#FFA15A",
           "#19d3f3",
           "#FF6692",
           "#B6E880",
           "#FF97FF",
           "#FECB52"
          ],
          "font": {
           "color": "#2a3f5f"
          },
          "geo": {
           "bgcolor": "white",
           "lakecolor": "white",
           "landcolor": "#E5ECF6",
           "showlakes": true,
           "showland": true,
           "subunitcolor": "white"
          },
          "hoverlabel": {
           "align": "left"
          },
          "hovermode": "closest",
          "mapbox": {
           "style": "light"
          },
          "paper_bgcolor": "white",
          "plot_bgcolor": "#E5ECF6",
          "polar": {
           "angularaxis": {
            "gridcolor": "white",
            "linecolor": "white",
            "ticks": ""
           },
           "bgcolor": "#E5ECF6",
           "radialaxis": {
            "gridcolor": "white",
            "linecolor": "white",
            "ticks": ""
           }
          },
          "scene": {
           "xaxis": {
            "backgroundcolor": "#E5ECF6",
            "gridcolor": "white",
            "gridwidth": 2,
            "linecolor": "white",
            "showbackground": true,
            "ticks": "",
            "zerolinecolor": "white"
           },
           "yaxis": {
            "backgroundcolor": "#E5ECF6",
            "gridcolor": "white",
            "gridwidth": 2,
            "linecolor": "white",
            "showbackground": true,
            "ticks": "",
            "zerolinecolor": "white"
           },
           "zaxis": {
            "backgroundcolor": "#E5ECF6",
            "gridcolor": "white",
            "gridwidth": 2,
            "linecolor": "white",
            "showbackground": true,
            "ticks": "",
            "zerolinecolor": "white"
           }
          },
          "shapedefaults": {
           "line": {
            "color": "#2a3f5f"
           }
          },
          "ternary": {
           "aaxis": {
            "gridcolor": "white",
            "linecolor": "white",
            "ticks": ""
           },
           "baxis": {
            "gridcolor": "white",
            "linecolor": "white",
            "ticks": ""
           },
           "bgcolor": "#E5ECF6",
           "caxis": {
            "gridcolor": "white",
            "linecolor": "white",
            "ticks": ""
           }
          },
          "title": {
           "x": 0.05
          },
          "xaxis": {
           "automargin": true,
           "gridcolor": "white",
           "linecolor": "white",
           "ticks": "",
           "title": {
            "standoff": 15
           },
           "zerolinecolor": "white",
           "zerolinewidth": 2
          },
          "yaxis": {
           "automargin": true,
           "gridcolor": "white",
           "linecolor": "white",
           "ticks": "",
           "title": {
            "standoff": 15
           },
           "zerolinecolor": "white",
           "zerolinewidth": 2
          }
         }
        },
        "title": {
         "text": "Boxplot da Acurácia Balanceada do classificador Real 0"
        },
        "xaxis": {
         "anchor": "y",
         "domain": [
          0,
          1
         ],
         "title": {
          "text": "Nome"
         }
        },
        "yaxis": {
         "anchor": "x",
         "domain": [
          0,
          1
         ],
         "range": [
          0,
          1
         ],
         "title": {
          "text": "Acurácia Balanceada"
         }
        }
       }
      }
     },
     "metadata": {},
     "output_type": "display_data"
    },
    {
     "data": {
      "application/vnd.plotly.v1+json": {
       "config": {
        "plotlyServerURL": "https://plot.ly"
       },
       "data": [
        {
         "alignmentgroup": "True",
         "boxpoints": "all",
         "hovertemplate": "Nome=%{x}<br>Acurácia Balanceada=%{y}<extra></extra>",
         "legendgroup": "",
         "marker": {
          "color": "rgb(153,153,153)"
         },
         "name": "",
         "notched": false,
         "offsetgroup": "",
         "orientation": "v",
         "showlegend": false,
         "type": "box",
         "x": [
          "logreg",
          "KNN",
          "GaussianNB",
          "Perceptron",
          "LinearSVC",
          "SGD",
          "Dtree",
          "RForest",
          "ADA",
          "GBC",
          "ETC",
          "logreg",
          "KNN",
          "GaussianNB",
          "Perceptron",
          "LinearSVC",
          "SGD",
          "Dtree",
          "RForest",
          "ADA",
          "GBC",
          "ETC",
          "logreg",
          "KNN",
          "GaussianNB",
          "Perceptron",
          "LinearSVC",
          "SGD",
          "Dtree",
          "RForest",
          "ADA",
          "GBC",
          "ETC",
          "logreg",
          "KNN",
          "GaussianNB",
          "Perceptron",
          "LinearSVC",
          "SGD",
          "Dtree",
          "RForest",
          "ADA",
          "GBC",
          "ETC",
          "logreg",
          "KNN",
          "GaussianNB",
          "Perceptron",
          "LinearSVC",
          "SGD",
          "Dtree",
          "RForest",
          "ADA",
          "GBC",
          "ETC",
          "logreg",
          "KNN",
          "GaussianNB",
          "Perceptron",
          "LinearSVC",
          "SGD",
          "Dtree",
          "RForest",
          "ADA",
          "GBC",
          "ETC",
          "logreg",
          "KNN",
          "GaussianNB",
          "Perceptron",
          "LinearSVC",
          "SGD",
          "Dtree",
          "RForest",
          "ADA",
          "GBC",
          "ETC",
          "logreg",
          "KNN",
          "GaussianNB",
          "Perceptron",
          "LinearSVC",
          "SGD",
          "Dtree",
          "RForest",
          "ADA",
          "GBC",
          "ETC",
          "logreg",
          "KNN",
          "GaussianNB",
          "Perceptron",
          "LinearSVC",
          "SGD",
          "Dtree",
          "RForest",
          "ADA",
          "GBC",
          "ETC",
          "logreg",
          "KNN",
          "GaussianNB",
          "Perceptron",
          "LinearSVC",
          "SGD",
          "Dtree",
          "RForest",
          "ADA",
          "GBC",
          "ETC",
          "logreg",
          "KNN",
          "GaussianNB",
          "Perceptron",
          "LinearSVC",
          "SGD",
          "Dtree",
          "RForest",
          "ADA",
          "GBC",
          "ETC",
          "logreg",
          "KNN",
          "GaussianNB",
          "Perceptron",
          "LinearSVC",
          "SGD",
          "Dtree",
          "RForest",
          "ADA",
          "GBC",
          "ETC",
          "logreg",
          "KNN",
          "GaussianNB",
          "Perceptron",
          "LinearSVC",
          "SGD",
          "Dtree",
          "RForest",
          "ADA",
          "GBC",
          "ETC",
          "logreg",
          "KNN",
          "GaussianNB",
          "Perceptron",
          "LinearSVC",
          "SGD",
          "Dtree",
          "RForest",
          "ADA",
          "GBC",
          "ETC",
          "logreg",
          "KNN",
          "GaussianNB",
          "Perceptron",
          "LinearSVC",
          "SGD",
          "Dtree",
          "RForest",
          "ADA",
          "GBC",
          "ETC",
          "logreg",
          "KNN",
          "GaussianNB",
          "Perceptron",
          "LinearSVC",
          "SGD",
          "Dtree",
          "RForest",
          "ADA",
          "GBC",
          "ETC",
          "logreg",
          "KNN",
          "GaussianNB",
          "Perceptron",
          "LinearSVC",
          "SGD",
          "Dtree",
          "RForest",
          "ADA",
          "GBC",
          "ETC",
          "logreg",
          "KNN",
          "GaussianNB",
          "Perceptron",
          "LinearSVC",
          "SGD",
          "Dtree",
          "RForest",
          "ADA",
          "GBC",
          "ETC",
          "logreg",
          "KNN",
          "GaussianNB",
          "Perceptron",
          "LinearSVC",
          "SGD",
          "Dtree",
          "RForest",
          "ADA",
          "GBC",
          "ETC",
          "logreg",
          "KNN",
          "GaussianNB",
          "Perceptron",
          "LinearSVC",
          "SGD",
          "Dtree",
          "RForest",
          "ADA",
          "GBC",
          "ETC",
          "logreg",
          "KNN",
          "GaussianNB",
          "Perceptron",
          "LinearSVC",
          "SGD",
          "Dtree",
          "RForest",
          "ADA",
          "GBC",
          "ETC",
          "logreg",
          "KNN",
          "GaussianNB",
          "Perceptron",
          "LinearSVC",
          "SGD",
          "Dtree",
          "RForest",
          "ADA",
          "GBC",
          "ETC",
          "logreg",
          "KNN",
          "GaussianNB",
          "Perceptron",
          "LinearSVC",
          "SGD",
          "Dtree",
          "RForest",
          "ADA",
          "GBC",
          "ETC",
          "logreg",
          "KNN",
          "GaussianNB",
          "Perceptron",
          "LinearSVC",
          "SGD",
          "Dtree",
          "RForest",
          "ADA",
          "GBC",
          "ETC",
          "logreg",
          "KNN",
          "GaussianNB",
          "Perceptron",
          "LinearSVC",
          "SGD",
          "Dtree",
          "RForest",
          "ADA",
          "GBC",
          "ETC"
         ],
         "x0": " ",
         "xaxis": "x",
         "y": [
          0.5769180509327942,
          0.5879537459099773,
          0.6551838556519823,
          0.5319450956879566,
          0.5337194673554048,
          0.531676057384589,
          0.5944426935602479,
          0.5736345024969317,
          0.5352683593019353,
          0.5264336538732548,
          0.6067223704068115,
          0.5682460496209122,
          0.6443582667783816,
          0.5679270470612049,
          0.49566335877667,
          0.5442004309737393,
          0.5155811611693173,
          0.6266299237212354,
          0.6577858403859803,
          0.5809741236397552,
          0.609508838548833,
          0.6935922762946508,
          0.5494274608677382,
          0.6391376425582724,
          0.6294958222194891,
          0.5418892638343339,
          0.5171825796417435,
          0.5340807473627841,
          0.6264902800304398,
          0.6373645520256022,
          0.5638581630064645,
          0.5942441176696671,
          0.6293215878896892,
          0.5339282923242091,
          0.6290820156862142,
          0.6241240240955829,
          0.5120734141473151,
          0.5090678719582657,
          0.4996592181490677,
          0.6217885153953966,
          0.6288642227739643,
          0.5719690272856085,
          0.5745415459197138,
          0.6157454026478494,
          0.539501228608252,
          0.6288795963912995,
          0.6557168077196057,
          0.5207236361679721,
          0.5081288001660351,
          0.503729383338586,
          0.6283773915583467,
          0.6240612484914638,
          0.553397697544577,
          0.5735012644800258,
          0.6129166570581558,
          0.7133204707401628,
          0.6048403834180163,
          0.8033855267641867,
          0.602725229899636,
          0.6461031723459372,
          0.7204435801055142,
          0.6508856484719905,
          0.6850266091693378,
          0.6649499460642259,
          0.6526164615569887,
          0.6327985876770208,
          0.7408559005224468,
          0.7443469927923357,
          0.7244215035910208,
          0.745143858624215,
          0.6871289513399388,
          0.6306578114630815,
          0.7631617381411759,
          0.7934016434396931,
          0.7333625432062704,
          0.7544141498773954,
          0.7693521813881864,
          0.7203987403882863,
          0.7290105283656051,
          0.792057733057633,
          0.8057774053946023,
          0.6042318443984944,
          0.6133343069957645,
          0.7406381076101969,
          0.7471437100125807,
          0.7094168530717768,
          0.7041949477168897,
          0.7009024313375816,
          0.7083714470929771,
          0.7088454669608152,
          0.7715403595889094,
          0.6183012665298415,
          0.6222087276025612,
          0.6282236553849938,
          0.7217900527571302,
          0.7570199780157272,
          0.7307925868417209,
          0.6742368920695194,
          0.7031777267032047,
          0.712751646898757,
          0.7094847532150077,
          0.7730072589096518,
          0.6195439672644442,
          0.5848495563430264,
          0.5495876027149809,
          0.7492024936007318,
          0.730919419184737,
          0.6408761424519382,
          0.7081677466632844,
          0.6807873341891314,
          0.5198499022494164,
          0.6491548353869924,
          0.3823277706461275,
          0.7681953166837057,
          0.4958299062978023,
          0.6525741841093167,
          0.7019439939120475,
          0.7837687910443555,
          0.6994470622298408,
          0.7715083312194609,
          0.7027229238570356,
          0.5802515636249965,
          0.7220642155996095,
          0.4253636501067185,
          0.7220360306344948,
          0.5039253969596109,
          0.6772360285846792,
          0.7624788933045334,
          0.7807030355207428,
          0.7197978881774321,
          0.7463942461674853,
          0.7328769931254308,
          0.5906185062480943,
          0.7523925191978047,
          0.3825468446931554,
          0.5051578486159901,
          0.5066529329018471,
          0.7063049766961584,
          0.8167669795197794,
          0.8252878069278644,
          0.7064189976913952,
          0.7721309627215402,
          0.7326041114177293,
          0.6186920126371135,
          0.7744856884433956,
          0.4117567176302081,
          0.665207454154592,
          0.5123744808201313,
          0.7237937475498297,
          0.8235454636298648,
          0.8256593360134673,
          0.7144055918970788,
          0.7573761334839948,
          0.7648156831394977,
          0.6056782455627897,
          0.7601228864479002,
          0.3823277706461275,
          0.6386636226904343,
          0.5090281567801496,
          0.5,
          0.8097912006538912,
          0.8148849925309842,
          0.7352611849471788,
          0.7638868604254905,
          0.7411210954214805,
          0.6296751810884009,
          0.7759807727292527,
          0.5597662185257214,
          0.7149026721909199,
          0.5924261874197689,
          0.5640605823013792,
          0.7524809174974826,
          0.7981636214092995,
          0.7711188662469669,
          0.7623200325920687,
          0.7894762464800822,
          0.6297763907358582,
          0.8616425685214937,
          0.4433584691976765,
          0.701264992479739,
          0.5452637728394303,
          0.7461508305596765,
          0.7940486165025533,
          0.8366963121254283,
          0.8269045990176258,
          0.8520033104522662,
          0.8179071894721468,
          0.6252155509263886,
          0.8877841236653778,
          0.5283041106490485,
          0.556911850240469,
          0.5197051340195091,
          0.4997322428314103,
          0.877633692819752,
          0.8817128259527158,
          0.8579503380914679,
          0.8768457949313183,
          0.8543413814220083,
          0.6326281967515547,
          0.8895021254025965,
          0.5380548274439567,
          0.7853907076732287,
          0.5240545865906184,
          0.5132648694908002,
          0.8552868588881288,
          0.874142600549863,
          0.8505991867356429,
          0.8754032371713569,
          0.8493974823139344,
          0.6108194394266665,
          0.8898928715098686,
          0.553876841951527,
          0.6820338783280678,
          0.5112368331373197,
          0.5,
          0.8771250823129095,
          0.8854639885825268,
          0.8444792059014192,
          0.8625906082571698,
          0.8504006108450621,
          0.5276571375861884,
          0.6470909272597296,
          0.4930985269512323,
          0.6330407221500516,
          0.5035884585130125,
          0.5245619159626831,
          0.6378757248020006,
          0.6717207433656436,
          0.6433999779644818,
          0.6672508641254077,
          0.6748198083934827,
          0.4800706673943512,
          0.6202780574922043,
          0.3782050789307137,
          0.4793288903579234,
          0.4813851116765186,
          0.4976439931433667,
          0.5910015655466986,
          0.659329607793399,
          0.6240253767176814,
          0.6453562707703976,
          0.6278316281429439,
          0.4966434268817948,
          0.6375746581291846,
          0.4613046051670728,
          0.4982986530148944,
          0.4961604390705111,
          0.499565695310278,
          0.6373286802518199,
          0.6673200454034165,
          0.551534927577451,
          0.5845215858398735,
          0.64053279833145,
          0.5039561441942815,
          0.6397397759039046,
          0.4699906989615121,
          0.5538179097517417,
          0.5019780720971407,
          0.5040240443375124,
          0.6713171859105922,
          0.6730749028259271,
          0.5658311105644935,
          0.639601413347887,
          0.6439675206711096,
          0.5014886786119673,
          0.6423725078725733,
          0.4938672078179968,
          0.7248558082807428,
          0.5002446967425866,
          0.5021523064269408,
          0.6460775496503783,
          0.6754091303913354,
          0.5599801680336375,
          0.6246351968719813,
          0.6471729198855177
         ],
         "y0": " ",
         "yaxis": "y"
        }
       ],
       "layout": {
        "boxmode": "group",
        "legend": {
         "tracegroupgap": 0
        },
        "template": {
         "data": {
          "bar": [
           {
            "error_x": {
             "color": "#2a3f5f"
            },
            "error_y": {
             "color": "#2a3f5f"
            },
            "marker": {
             "line": {
              "color": "#E5ECF6",
              "width": 0.5
             },
             "pattern": {
              "fillmode": "overlay",
              "size": 10,
              "solidity": 0.2
             }
            },
            "type": "bar"
           }
          ],
          "barpolar": [
           {
            "marker": {
             "line": {
              "color": "#E5ECF6",
              "width": 0.5
             },
             "pattern": {
              "fillmode": "overlay",
              "size": 10,
              "solidity": 0.2
             }
            },
            "type": "barpolar"
           }
          ],
          "carpet": [
           {
            "aaxis": {
             "endlinecolor": "#2a3f5f",
             "gridcolor": "white",
             "linecolor": "white",
             "minorgridcolor": "white",
             "startlinecolor": "#2a3f5f"
            },
            "baxis": {
             "endlinecolor": "#2a3f5f",
             "gridcolor": "white",
             "linecolor": "white",
             "minorgridcolor": "white",
             "startlinecolor": "#2a3f5f"
            },
            "type": "carpet"
           }
          ],
          "choropleth": [
           {
            "colorbar": {
             "outlinewidth": 0,
             "ticks": ""
            },
            "type": "choropleth"
           }
          ],
          "contour": [
           {
            "colorbar": {
             "outlinewidth": 0,
             "ticks": ""
            },
            "colorscale": [
             [
              0,
              "#0d0887"
             ],
             [
              0.1111111111111111,
              "#46039f"
             ],
             [
              0.2222222222222222,
              "#7201a8"
             ],
             [
              0.3333333333333333,
              "#9c179e"
             ],
             [
              0.4444444444444444,
              "#bd3786"
             ],
             [
              0.5555555555555556,
              "#d8576b"
             ],
             [
              0.6666666666666666,
              "#ed7953"
             ],
             [
              0.7777777777777778,
              "#fb9f3a"
             ],
             [
              0.8888888888888888,
              "#fdca26"
             ],
             [
              1,
              "#f0f921"
             ]
            ],
            "type": "contour"
           }
          ],
          "contourcarpet": [
           {
            "colorbar": {
             "outlinewidth": 0,
             "ticks": ""
            },
            "type": "contourcarpet"
           }
          ],
          "heatmap": [
           {
            "colorbar": {
             "outlinewidth": 0,
             "ticks": ""
            },
            "colorscale": [
             [
              0,
              "#0d0887"
             ],
             [
              0.1111111111111111,
              "#46039f"
             ],
             [
              0.2222222222222222,
              "#7201a8"
             ],
             [
              0.3333333333333333,
              "#9c179e"
             ],
             [
              0.4444444444444444,
              "#bd3786"
             ],
             [
              0.5555555555555556,
              "#d8576b"
             ],
             [
              0.6666666666666666,
              "#ed7953"
             ],
             [
              0.7777777777777778,
              "#fb9f3a"
             ],
             [
              0.8888888888888888,
              "#fdca26"
             ],
             [
              1,
              "#f0f921"
             ]
            ],
            "type": "heatmap"
           }
          ],
          "heatmapgl": [
           {
            "colorbar": {
             "outlinewidth": 0,
             "ticks": ""
            },
            "colorscale": [
             [
              0,
              "#0d0887"
             ],
             [
              0.1111111111111111,
              "#46039f"
             ],
             [
              0.2222222222222222,
              "#7201a8"
             ],
             [
              0.3333333333333333,
              "#9c179e"
             ],
             [
              0.4444444444444444,
              "#bd3786"
             ],
             [
              0.5555555555555556,
              "#d8576b"
             ],
             [
              0.6666666666666666,
              "#ed7953"
             ],
             [
              0.7777777777777778,
              "#fb9f3a"
             ],
             [
              0.8888888888888888,
              "#fdca26"
             ],
             [
              1,
              "#f0f921"
             ]
            ],
            "type": "heatmapgl"
           }
          ],
          "histogram": [
           {
            "marker": {
             "pattern": {
              "fillmode": "overlay",
              "size": 10,
              "solidity": 0.2
             }
            },
            "type": "histogram"
           }
          ],
          "histogram2d": [
           {
            "colorbar": {
             "outlinewidth": 0,
             "ticks": ""
            },
            "colorscale": [
             [
              0,
              "#0d0887"
             ],
             [
              0.1111111111111111,
              "#46039f"
             ],
             [
              0.2222222222222222,
              "#7201a8"
             ],
             [
              0.3333333333333333,
              "#9c179e"
             ],
             [
              0.4444444444444444,
              "#bd3786"
             ],
             [
              0.5555555555555556,
              "#d8576b"
             ],
             [
              0.6666666666666666,
              "#ed7953"
             ],
             [
              0.7777777777777778,
              "#fb9f3a"
             ],
             [
              0.8888888888888888,
              "#fdca26"
             ],
             [
              1,
              "#f0f921"
             ]
            ],
            "type": "histogram2d"
           }
          ],
          "histogram2dcontour": [
           {
            "colorbar": {
             "outlinewidth": 0,
             "ticks": ""
            },
            "colorscale": [
             [
              0,
              "#0d0887"
             ],
             [
              0.1111111111111111,
              "#46039f"
             ],
             [
              0.2222222222222222,
              "#7201a8"
             ],
             [
              0.3333333333333333,
              "#9c179e"
             ],
             [
              0.4444444444444444,
              "#bd3786"
             ],
             [
              0.5555555555555556,
              "#d8576b"
             ],
             [
              0.6666666666666666,
              "#ed7953"
             ],
             [
              0.7777777777777778,
              "#fb9f3a"
             ],
             [
              0.8888888888888888,
              "#fdca26"
             ],
             [
              1,
              "#f0f921"
             ]
            ],
            "type": "histogram2dcontour"
           }
          ],
          "mesh3d": [
           {
            "colorbar": {
             "outlinewidth": 0,
             "ticks": ""
            },
            "type": "mesh3d"
           }
          ],
          "parcoords": [
           {
            "line": {
             "colorbar": {
              "outlinewidth": 0,
              "ticks": ""
             }
            },
            "type": "parcoords"
           }
          ],
          "pie": [
           {
            "automargin": true,
            "type": "pie"
           }
          ],
          "scatter": [
           {
            "fillpattern": {
             "fillmode": "overlay",
             "size": 10,
             "solidity": 0.2
            },
            "type": "scatter"
           }
          ],
          "scatter3d": [
           {
            "line": {
             "colorbar": {
              "outlinewidth": 0,
              "ticks": ""
             }
            },
            "marker": {
             "colorbar": {
              "outlinewidth": 0,
              "ticks": ""
             }
            },
            "type": "scatter3d"
           }
          ],
          "scattercarpet": [
           {
            "marker": {
             "colorbar": {
              "outlinewidth": 0,
              "ticks": ""
             }
            },
            "type": "scattercarpet"
           }
          ],
          "scattergeo": [
           {
            "marker": {
             "colorbar": {
              "outlinewidth": 0,
              "ticks": ""
             }
            },
            "type": "scattergeo"
           }
          ],
          "scattergl": [
           {
            "marker": {
             "colorbar": {
              "outlinewidth": 0,
              "ticks": ""
             }
            },
            "type": "scattergl"
           }
          ],
          "scattermapbox": [
           {
            "marker": {
             "colorbar": {
              "outlinewidth": 0,
              "ticks": ""
             }
            },
            "type": "scattermapbox"
           }
          ],
          "scatterpolar": [
           {
            "marker": {
             "colorbar": {
              "outlinewidth": 0,
              "ticks": ""
             }
            },
            "type": "scatterpolar"
           }
          ],
          "scatterpolargl": [
           {
            "marker": {
             "colorbar": {
              "outlinewidth": 0,
              "ticks": ""
             }
            },
            "type": "scatterpolargl"
           }
          ],
          "scatterternary": [
           {
            "marker": {
             "colorbar": {
              "outlinewidth": 0,
              "ticks": ""
             }
            },
            "type": "scatterternary"
           }
          ],
          "surface": [
           {
            "colorbar": {
             "outlinewidth": 0,
             "ticks": ""
            },
            "colorscale": [
             [
              0,
              "#0d0887"
             ],
             [
              0.1111111111111111,
              "#46039f"
             ],
             [
              0.2222222222222222,
              "#7201a8"
             ],
             [
              0.3333333333333333,
              "#9c179e"
             ],
             [
              0.4444444444444444,
              "#bd3786"
             ],
             [
              0.5555555555555556,
              "#d8576b"
             ],
             [
              0.6666666666666666,
              "#ed7953"
             ],
             [
              0.7777777777777778,
              "#fb9f3a"
             ],
             [
              0.8888888888888888,
              "#fdca26"
             ],
             [
              1,
              "#f0f921"
             ]
            ],
            "type": "surface"
           }
          ],
          "table": [
           {
            "cells": {
             "fill": {
              "color": "#EBF0F8"
             },
             "line": {
              "color": "white"
             }
            },
            "header": {
             "fill": {
              "color": "#C8D4E3"
             },
             "line": {
              "color": "white"
             }
            },
            "type": "table"
           }
          ]
         },
         "layout": {
          "annotationdefaults": {
           "arrowcolor": "#2a3f5f",
           "arrowhead": 0,
           "arrowwidth": 1
          },
          "autotypenumbers": "strict",
          "coloraxis": {
           "colorbar": {
            "outlinewidth": 0,
            "ticks": ""
           }
          },
          "colorscale": {
           "diverging": [
            [
             0,
             "#8e0152"
            ],
            [
             0.1,
             "#c51b7d"
            ],
            [
             0.2,
             "#de77ae"
            ],
            [
             0.3,
             "#f1b6da"
            ],
            [
             0.4,
             "#fde0ef"
            ],
            [
             0.5,
             "#f7f7f7"
            ],
            [
             0.6,
             "#e6f5d0"
            ],
            [
             0.7,
             "#b8e186"
            ],
            [
             0.8,
             "#7fbc41"
            ],
            [
             0.9,
             "#4d9221"
            ],
            [
             1,
             "#276419"
            ]
           ],
           "sequential": [
            [
             0,
             "#0d0887"
            ],
            [
             0.1111111111111111,
             "#46039f"
            ],
            [
             0.2222222222222222,
             "#7201a8"
            ],
            [
             0.3333333333333333,
             "#9c179e"
            ],
            [
             0.4444444444444444,
             "#bd3786"
            ],
            [
             0.5555555555555556,
             "#d8576b"
            ],
            [
             0.6666666666666666,
             "#ed7953"
            ],
            [
             0.7777777777777778,
             "#fb9f3a"
            ],
            [
             0.8888888888888888,
             "#fdca26"
            ],
            [
             1,
             "#f0f921"
            ]
           ],
           "sequentialminus": [
            [
             0,
             "#0d0887"
            ],
            [
             0.1111111111111111,
             "#46039f"
            ],
            [
             0.2222222222222222,
             "#7201a8"
            ],
            [
             0.3333333333333333,
             "#9c179e"
            ],
            [
             0.4444444444444444,
             "#bd3786"
            ],
            [
             0.5555555555555556,
             "#d8576b"
            ],
            [
             0.6666666666666666,
             "#ed7953"
            ],
            [
             0.7777777777777778,
             "#fb9f3a"
            ],
            [
             0.8888888888888888,
             "#fdca26"
            ],
            [
             1,
             "#f0f921"
            ]
           ]
          },
          "colorway": [
           "#636efa",
           "#EF553B",
           "#00cc96",
           "#ab63fa",
           "#FFA15A",
           "#19d3f3",
           "#FF6692",
           "#B6E880",
           "#FF97FF",
           "#FECB52"
          ],
          "font": {
           "color": "#2a3f5f"
          },
          "geo": {
           "bgcolor": "white",
           "lakecolor": "white",
           "landcolor": "#E5ECF6",
           "showlakes": true,
           "showland": true,
           "subunitcolor": "white"
          },
          "hoverlabel": {
           "align": "left"
          },
          "hovermode": "closest",
          "mapbox": {
           "style": "light"
          },
          "paper_bgcolor": "white",
          "plot_bgcolor": "#E5ECF6",
          "polar": {
           "angularaxis": {
            "gridcolor": "white",
            "linecolor": "white",
            "ticks": ""
           },
           "bgcolor": "#E5ECF6",
           "radialaxis": {
            "gridcolor": "white",
            "linecolor": "white",
            "ticks": ""
           }
          },
          "scene": {
           "xaxis": {
            "backgroundcolor": "#E5ECF6",
            "gridcolor": "white",
            "gridwidth": 2,
            "linecolor": "white",
            "showbackground": true,
            "ticks": "",
            "zerolinecolor": "white"
           },
           "yaxis": {
            "backgroundcolor": "#E5ECF6",
            "gridcolor": "white",
            "gridwidth": 2,
            "linecolor": "white",
            "showbackground": true,
            "ticks": "",
            "zerolinecolor": "white"
           },
           "zaxis": {
            "backgroundcolor": "#E5ECF6",
            "gridcolor": "white",
            "gridwidth": 2,
            "linecolor": "white",
            "showbackground": true,
            "ticks": "",
            "zerolinecolor": "white"
           }
          },
          "shapedefaults": {
           "line": {
            "color": "#2a3f5f"
           }
          },
          "ternary": {
           "aaxis": {
            "gridcolor": "white",
            "linecolor": "white",
            "ticks": ""
           },
           "baxis": {
            "gridcolor": "white",
            "linecolor": "white",
            "ticks": ""
           },
           "bgcolor": "#E5ECF6",
           "caxis": {
            "gridcolor": "white",
            "linecolor": "white",
            "ticks": ""
           }
          },
          "title": {
           "x": 0.05
          },
          "xaxis": {
           "automargin": true,
           "gridcolor": "white",
           "linecolor": "white",
           "ticks": "",
           "title": {
            "standoff": 15
           },
           "zerolinecolor": "white",
           "zerolinewidth": 2
          },
          "yaxis": {
           "automargin": true,
           "gridcolor": "white",
           "linecolor": "white",
           "ticks": "",
           "title": {
            "standoff": 15
           },
           "zerolinecolor": "white",
           "zerolinewidth": 2
          }
         }
        },
        "title": {
         "text": "Boxplot da Acurácia Balanceada do classificador Real sem features de temperatura"
        },
        "xaxis": {
         "anchor": "y",
         "domain": [
          0,
          1
         ],
         "title": {
          "text": "Nome"
         }
        },
        "yaxis": {
         "anchor": "x",
         "domain": [
          0,
          1
         ],
         "range": [
          0,
          1
         ],
         "title": {
          "text": "Acurácia Balanceada"
         }
        }
       }
      }
     },
     "metadata": {},
     "output_type": "display_data"
    },
    {
     "data": {
      "application/vnd.plotly.v1+json": {
       "config": {
        "plotlyServerURL": "https://plot.ly"
       },
       "data": [
        {
         "alignmentgroup": "True",
         "boxpoints": "all",
         "hovertemplate": "Nome=%{x}<br>Acurácia Balanceada=%{y}<extra></extra>",
         "legendgroup": "",
         "marker": {
          "color": "#636efa"
         },
         "name": "",
         "notched": false,
         "offsetgroup": "",
         "orientation": "v",
         "showlegend": false,
         "type": "box",
         "x": [
          "logreg",
          "KNN",
          "GaussianNB",
          "Perceptron",
          "LinearSVC",
          "SGD",
          "Dtree",
          "RForest",
          "ADA",
          "GBC",
          "ETC",
          "logreg",
          "KNN",
          "GaussianNB",
          "Perceptron",
          "LinearSVC",
          "SGD",
          "Dtree",
          "RForest",
          "ADA",
          "GBC",
          "ETC",
          "logreg",
          "KNN",
          "GaussianNB",
          "Perceptron",
          "LinearSVC",
          "SGD",
          "Dtree",
          "RForest",
          "ADA",
          "GBC",
          "ETC",
          "logreg",
          "KNN",
          "GaussianNB",
          "Perceptron",
          "LinearSVC",
          "SGD",
          "Dtree",
          "RForest",
          "ADA",
          "GBC",
          "ETC",
          "logreg",
          "KNN",
          "GaussianNB",
          "Perceptron",
          "LinearSVC",
          "SGD",
          "Dtree",
          "RForest",
          "ADA",
          "GBC",
          "ETC",
          "logreg",
          "KNN",
          "GaussianNB",
          "Perceptron",
          "LinearSVC",
          "SGD",
          "Dtree",
          "RForest",
          "ADA",
          "GBC",
          "ETC",
          "logreg",
          "KNN",
          "GaussianNB",
          "Perceptron",
          "LinearSVC",
          "SGD",
          "Dtree",
          "RForest",
          "ADA",
          "GBC",
          "ETC",
          "logreg",
          "KNN",
          "GaussianNB",
          "Perceptron",
          "LinearSVC",
          "SGD",
          "Dtree",
          "RForest",
          "ADA",
          "GBC",
          "ETC",
          "logreg",
          "KNN",
          "GaussianNB",
          "Perceptron",
          "LinearSVC",
          "SGD",
          "Dtree",
          "RForest",
          "ADA",
          "GBC",
          "ETC",
          "logreg",
          "KNN",
          "GaussianNB",
          "Perceptron",
          "LinearSVC",
          "SGD",
          "Dtree",
          "RForest",
          "ADA",
          "GBC",
          "ETC",
          "logreg",
          "KNN",
          "GaussianNB",
          "Perceptron",
          "LinearSVC",
          "SGD",
          "Dtree",
          "RForest",
          "ADA",
          "GBC",
          "ETC",
          "logreg",
          "KNN",
          "GaussianNB",
          "Perceptron",
          "LinearSVC",
          "SGD",
          "Dtree",
          "RForest",
          "ADA",
          "GBC",
          "ETC",
          "logreg",
          "KNN",
          "GaussianNB",
          "Perceptron",
          "LinearSVC",
          "SGD",
          "Dtree",
          "RForest",
          "ADA",
          "GBC",
          "ETC",
          "logreg",
          "KNN",
          "GaussianNB",
          "Perceptron",
          "LinearSVC",
          "SGD",
          "Dtree",
          "RForest",
          "ADA",
          "GBC",
          "ETC",
          "logreg",
          "KNN",
          "GaussianNB",
          "Perceptron",
          "LinearSVC",
          "SGD",
          "Dtree",
          "RForest",
          "ADA",
          "GBC",
          "ETC",
          "logreg",
          "KNN",
          "GaussianNB",
          "Perceptron",
          "LinearSVC",
          "SGD",
          "Dtree",
          "RForest",
          "ADA",
          "GBC",
          "ETC",
          "logreg",
          "KNN",
          "GaussianNB",
          "Perceptron",
          "LinearSVC",
          "SGD",
          "Dtree",
          "RForest",
          "ADA",
          "GBC",
          "ETC",
          "logreg",
          "KNN",
          "GaussianNB",
          "Perceptron",
          "LinearSVC",
          "SGD",
          "Dtree",
          "RForest",
          "ADA",
          "GBC",
          "ETC",
          "logreg",
          "KNN",
          "GaussianNB",
          "Perceptron",
          "LinearSVC",
          "SGD",
          "Dtree",
          "RForest",
          "ADA",
          "GBC",
          "ETC",
          "logreg",
          "KNN",
          "GaussianNB",
          "Perceptron",
          "LinearSVC",
          "SGD",
          "Dtree",
          "RForest",
          "ADA",
          "GBC",
          "ETC",
          "logreg",
          "KNN",
          "GaussianNB",
          "Perceptron",
          "LinearSVC",
          "SGD",
          "Dtree",
          "RForest",
          "ADA",
          "GBC",
          "ETC",
          "logreg",
          "KNN",
          "GaussianNB",
          "Perceptron",
          "LinearSVC",
          "SGD",
          "Dtree",
          "RForest",
          "ADA",
          "GBC",
          "ETC",
          "logreg",
          "KNN",
          "GaussianNB",
          "Perceptron",
          "LinearSVC",
          "SGD",
          "Dtree",
          "RForest",
          "ADA",
          "GBC",
          "ETC",
          "logreg",
          "KNN",
          "GaussianNB",
          "Perceptron",
          "LinearSVC",
          "SGD",
          "Dtree",
          "RForest",
          "ADA",
          "GBC",
          "ETC",
          "logreg",
          "KNN",
          "GaussianNB",
          "Perceptron",
          "LinearSVC",
          "SGD",
          "Dtree",
          "RForest",
          "ADA",
          "GBC",
          "ETC"
         ],
         "x0": " ",
         "xaxis": "x",
         "y": [
          0.5604388142841403,
          0.6386661849599902,
          0.6901985502678852,
          0.5741943583948919,
          0.5411436433935723,
          0.5490354336256883,
          0.610162217285583,
          0.6394156488050856,
          0.5809920595266462,
          0.613801921189713,
          0.6738922668142534,
          0.6007650936893864,
          0.7232748879647637,
          0.6306283453631889,
          0.5126332700452753,
          0.5685906748761783,
          0.5753294438081475,
          0.6680374808790634,
          0.6806118187245535,
          0.6760163882760795,
          0.668327017338878,
          0.6934539137386331,
          0.6036822375787577,
          0.7194571063264997,
          0.6690047376364088,
          0.5487330858180942,
          0.5795290036102377,
          0.5980273086689266,
          0.6626848997768263,
          0.6849638335652187,
          0.6420663166606453,
          0.6706676505781761,
          0.6848036917179761,
          0.5870825742609774,
          0.7027037068353665,
          0.673360595881408,
          0.6283850783670144,
          0.5535014694615903,
          0.6034580389926181,
          0.666962608800371,
          0.6725598866451948,
          0.6332597961970795,
          0.668373138190884,
          0.6751055014489634,
          0.5806961173929419,
          0.7053671860387056,
          0.6806374414201123,
          0.6722588199723787,
          0.5287025435649881,
          0.5686534504802974,
          0.6753796642914428,
          0.6762457114013308,
          0.6523013024016153,
          0.6684166967733339,
          0.6814291827128798,
          0.693587151755539,
          0.797826682962701,
          0.7670538255965604,
          0.5417637126260957,
          0.6605415612933312,
          0.6910991880167777,
          0.7716543805841463,
          0.8930893027808311,
          0.7861670753486609,
          0.850098263037468,
          0.8878033406870469,
          0.779529516064149,
          0.8763089994593611,
          0.7405368979627395,
          0.6062611618867528,
          0.6998493385501141,
          0.6166537272054095,
          0.8167016416461045,
          0.9890398919747156,
          0.938642612080076,
          0.9735253498138512,
          0.9266268489977684,
          0.7915926811332405,
          0.8825634994452687,
          0.7640508456770669,
          0.7718567998790609,
          0.7025115366186754,
          0.6982094860343497,
          0.8652092477432811,
          0.9806253987531997,
          0.913429879650199,
          0.9722185923403514,
          0.916616061842938,
          0.7391929875806795,
          0.8868117423689207,
          0.7491627784226156,
          0.7472218592340352,
          0.6406250400354618,
          0.6427568483059555,
          0.8112990962875276,
          0.9771458366963122,
          0.9422515687495356,
          0.9522738861173672,
          0.910721560729632,
          0.7356980519064567,
          0.8742899310493262,
          0.8012998393456989,
          0.7678788763935543,
          0.6303093428034816,
          0.5565018871115279,
          0.945733693075979,
          0.9764412125684444,
          0.8969198957668745,
          0.9781284670709928,
          0.8801882755669662,
          0.7378670130855106,
          0.7830462310295968,
          0.3849079760889005,
          0.7703015022586406,
          0.7418782460752436,
          0.8023516509983883,
          0.8010743596247812,
          0.8598617911801557,
          0.7354815401289847,
          0.8125084875179038,
          0.8510834556817046,
          0.7460534643165531,
          0.8475026839773598,
          0.4253636501067185,
          0.7213314065066273,
          0.7436808027078065,
          0.7678724707196647,
          0.8452261074769587,
          0.9369220480733014,
          0.9475170326868728,
          0.9284857755605606,
          0.8959590446834187,
          0.7513804227232314,
          0.8608572329026158,
          0.3847619267242152,
          0.724830185585184,
          0.7527704539572972,
          0.7420396690572642,
          0.9057827861606698,
          0.9421388288890769,
          0.9450995313608984,
          0.9304305381534748,
          0.8875778609661293,
          0.7603765511339324,
          0.8652912403690693,
          0.4117567176302081,
          0.6937741974331184,
          0.7490871914707171,
          0.7825235280401969,
          0.9168838190115276,
          0.9436966887790528,
          0.9568296013877252,
          0.9362763561452192,
          0.8981497851536977,
          0.7445327573351372,
          0.8659215586798162,
          0.3823277706461275,
          0.7234747449901224,
          0.7421460032438332,
          0.744667276486821,
          0.9119873218902376,
          0.9419953417939474,
          0.9572779985600044,
          0.932766046853661,
          0.8744116388532306,
          0.8404269765987922,
          0.8351538258527873,
          0.7976793524632378,
          0.8081526292729048,
          0.8442601318543914,
          0.8567576016132049,
          0.7732878274260209,
          0.8724220365430884,
          0.7423599527517495,
          0.7379695038677458,
          0.8724809687428736,
          0.8403257669513349,
          0.904607985569298,
          0.5392667809438889,
          0.8078618116783123,
          0.8245447487566586,
          0.82078589931818,
          0.906188905885277,
          0.9385478081065084,
          0.7529895280043251,
          0.9088280435278352,
          0.8851642030444886,
          0.8373407229187325,
          0.9207387535583518,
          0.7820994724286985,
          0.8028038915750015,
          0.8162378708564899,
          0.8164364467470706,
          0.9340292457447108,
          0.963966803235634,
          0.8690308727858789,
          0.9210218843442768,
          0.9316271180360716,
          0.8482483044181215,
          0.9134567834805356,
          0.7429736163103831,
          0.8066255166175992,
          0.8124982384396804,
          0.8348399478321918,
          0.91045508469582,
          0.9467214479897714,
          0.9176230337783996,
          0.9256275638709744,
          0.8886719500664909,
          0.8490477325195565,
          0.9121346523897008,
          0.6929260862101215,
          0.9124626228928536,
          0.8091275728389178,
          0.849772854803871,
          0.9298963049510734,
          0.949220941941534,
          0.8509207515649061,
          0.9333643367949596,
          0.8990158322635857,
          0.4887272950888979,
          0.6130229912447249,
          0.5374129789202083,
          0.529681330535335,
          0.4855487997048265,
          0.499241568211459,
          0.5312648131208699,
          0.5679283281959828,
          0.5593152590838861,
          0.5584107779306599,
          0.5842025832801663,
          0.5010300323614645,
          0.6164500267757169,
          0.4523174446998173,
          0.4876293625842026,
          0.4991800737421178,
          0.5027429095595715,
          0.6139799989238468,
          0.6165512364231742,
          0.6053682109465279,
          0.5984577699543148,
          0.5873452068904553,
          0.4761324590869608,
          0.6103223591328255,
          0.4799182123557762,
          0.4559020598084959,
          0.47597744177883,
          0.4714588794170324,
          0.6215476620571437,
          0.5699781438406883,
          0.5992392621688587,
          0.5831123375841385,
          0.5777200413037853,
          0.4950689122397054,
          0.6100520396946799,
          0.5200126063662149,
          0.5414357421229428,
          0.4932676367419205,
          0.496270616661414,
          0.5954330107435962,
          0.5924210628806571,
          0.6027470091908609,
          0.5982412581768427,
          0.5821835148701313,
          0.5050258917338621,
          0.6214016126924584,
          0.5328303598195138,
          0.5065773459499486,
          0.5014425577599614,
          0.4996566558795118,
          0.628174972263432,
          0.5847240051347882,
          0.6083993758311361,
          0.6039551192864592,
          0.5761660248181429
         ],
         "y0": " ",
         "yaxis": "y"
        }
       ],
       "layout": {
        "boxmode": "group",
        "legend": {
         "tracegroupgap": 0
        },
        "template": {
         "data": {
          "bar": [
           {
            "error_x": {
             "color": "#2a3f5f"
            },
            "error_y": {
             "color": "#2a3f5f"
            },
            "marker": {
             "line": {
              "color": "#E5ECF6",
              "width": 0.5
             },
             "pattern": {
              "fillmode": "overlay",
              "size": 10,
              "solidity": 0.2
             }
            },
            "type": "bar"
           }
          ],
          "barpolar": [
           {
            "marker": {
             "line": {
              "color": "#E5ECF6",
              "width": 0.5
             },
             "pattern": {
              "fillmode": "overlay",
              "size": 10,
              "solidity": 0.2
             }
            },
            "type": "barpolar"
           }
          ],
          "carpet": [
           {
            "aaxis": {
             "endlinecolor": "#2a3f5f",
             "gridcolor": "white",
             "linecolor": "white",
             "minorgridcolor": "white",
             "startlinecolor": "#2a3f5f"
            },
            "baxis": {
             "endlinecolor": "#2a3f5f",
             "gridcolor": "white",
             "linecolor": "white",
             "minorgridcolor": "white",
             "startlinecolor": "#2a3f5f"
            },
            "type": "carpet"
           }
          ],
          "choropleth": [
           {
            "colorbar": {
             "outlinewidth": 0,
             "ticks": ""
            },
            "type": "choropleth"
           }
          ],
          "contour": [
           {
            "colorbar": {
             "outlinewidth": 0,
             "ticks": ""
            },
            "colorscale": [
             [
              0,
              "#0d0887"
             ],
             [
              0.1111111111111111,
              "#46039f"
             ],
             [
              0.2222222222222222,
              "#7201a8"
             ],
             [
              0.3333333333333333,
              "#9c179e"
             ],
             [
              0.4444444444444444,
              "#bd3786"
             ],
             [
              0.5555555555555556,
              "#d8576b"
             ],
             [
              0.6666666666666666,
              "#ed7953"
             ],
             [
              0.7777777777777778,
              "#fb9f3a"
             ],
             [
              0.8888888888888888,
              "#fdca26"
             ],
             [
              1,
              "#f0f921"
             ]
            ],
            "type": "contour"
           }
          ],
          "contourcarpet": [
           {
            "colorbar": {
             "outlinewidth": 0,
             "ticks": ""
            },
            "type": "contourcarpet"
           }
          ],
          "heatmap": [
           {
            "colorbar": {
             "outlinewidth": 0,
             "ticks": ""
            },
            "colorscale": [
             [
              0,
              "#0d0887"
             ],
             [
              0.1111111111111111,
              "#46039f"
             ],
             [
              0.2222222222222222,
              "#7201a8"
             ],
             [
              0.3333333333333333,
              "#9c179e"
             ],
             [
              0.4444444444444444,
              "#bd3786"
             ],
             [
              0.5555555555555556,
              "#d8576b"
             ],
             [
              0.6666666666666666,
              "#ed7953"
             ],
             [
              0.7777777777777778,
              "#fb9f3a"
             ],
             [
              0.8888888888888888,
              "#fdca26"
             ],
             [
              1,
              "#f0f921"
             ]
            ],
            "type": "heatmap"
           }
          ],
          "heatmapgl": [
           {
            "colorbar": {
             "outlinewidth": 0,
             "ticks": ""
            },
            "colorscale": [
             [
              0,
              "#0d0887"
             ],
             [
              0.1111111111111111,
              "#46039f"
             ],
             [
              0.2222222222222222,
              "#7201a8"
             ],
             [
              0.3333333333333333,
              "#9c179e"
             ],
             [
              0.4444444444444444,
              "#bd3786"
             ],
             [
              0.5555555555555556,
              "#d8576b"
             ],
             [
              0.6666666666666666,
              "#ed7953"
             ],
             [
              0.7777777777777778,
              "#fb9f3a"
             ],
             [
              0.8888888888888888,
              "#fdca26"
             ],
             [
              1,
              "#f0f921"
             ]
            ],
            "type": "heatmapgl"
           }
          ],
          "histogram": [
           {
            "marker": {
             "pattern": {
              "fillmode": "overlay",
              "size": 10,
              "solidity": 0.2
             }
            },
            "type": "histogram"
           }
          ],
          "histogram2d": [
           {
            "colorbar": {
             "outlinewidth": 0,
             "ticks": ""
            },
            "colorscale": [
             [
              0,
              "#0d0887"
             ],
             [
              0.1111111111111111,
              "#46039f"
             ],
             [
              0.2222222222222222,
              "#7201a8"
             ],
             [
              0.3333333333333333,
              "#9c179e"
             ],
             [
              0.4444444444444444,
              "#bd3786"
             ],
             [
              0.5555555555555556,
              "#d8576b"
             ],
             [
              0.6666666666666666,
              "#ed7953"
             ],
             [
              0.7777777777777778,
              "#fb9f3a"
             ],
             [
              0.8888888888888888,
              "#fdca26"
             ],
             [
              1,
              "#f0f921"
             ]
            ],
            "type": "histogram2d"
           }
          ],
          "histogram2dcontour": [
           {
            "colorbar": {
             "outlinewidth": 0,
             "ticks": ""
            },
            "colorscale": [
             [
              0,
              "#0d0887"
             ],
             [
              0.1111111111111111,
              "#46039f"
             ],
             [
              0.2222222222222222,
              "#7201a8"
             ],
             [
              0.3333333333333333,
              "#9c179e"
             ],
             [
              0.4444444444444444,
              "#bd3786"
             ],
             [
              0.5555555555555556,
              "#d8576b"
             ],
             [
              0.6666666666666666,
              "#ed7953"
             ],
             [
              0.7777777777777778,
              "#fb9f3a"
             ],
             [
              0.8888888888888888,
              "#fdca26"
             ],
             [
              1,
              "#f0f921"
             ]
            ],
            "type": "histogram2dcontour"
           }
          ],
          "mesh3d": [
           {
            "colorbar": {
             "outlinewidth": 0,
             "ticks": ""
            },
            "type": "mesh3d"
           }
          ],
          "parcoords": [
           {
            "line": {
             "colorbar": {
              "outlinewidth": 0,
              "ticks": ""
             }
            },
            "type": "parcoords"
           }
          ],
          "pie": [
           {
            "automargin": true,
            "type": "pie"
           }
          ],
          "scatter": [
           {
            "fillpattern": {
             "fillmode": "overlay",
             "size": 10,
             "solidity": 0.2
            },
            "type": "scatter"
           }
          ],
          "scatter3d": [
           {
            "line": {
             "colorbar": {
              "outlinewidth": 0,
              "ticks": ""
             }
            },
            "marker": {
             "colorbar": {
              "outlinewidth": 0,
              "ticks": ""
             }
            },
            "type": "scatter3d"
           }
          ],
          "scattercarpet": [
           {
            "marker": {
             "colorbar": {
              "outlinewidth": 0,
              "ticks": ""
             }
            },
            "type": "scattercarpet"
           }
          ],
          "scattergeo": [
           {
            "marker": {
             "colorbar": {
              "outlinewidth": 0,
              "ticks": ""
             }
            },
            "type": "scattergeo"
           }
          ],
          "scattergl": [
           {
            "marker": {
             "colorbar": {
              "outlinewidth": 0,
              "ticks": ""
             }
            },
            "type": "scattergl"
           }
          ],
          "scattermapbox": [
           {
            "marker": {
             "colorbar": {
              "outlinewidth": 0,
              "ticks": ""
             }
            },
            "type": "scattermapbox"
           }
          ],
          "scatterpolar": [
           {
            "marker": {
             "colorbar": {
              "outlinewidth": 0,
              "ticks": ""
             }
            },
            "type": "scatterpolar"
           }
          ],
          "scatterpolargl": [
           {
            "marker": {
             "colorbar": {
              "outlinewidth": 0,
              "ticks": ""
             }
            },
            "type": "scatterpolargl"
           }
          ],
          "scatterternary": [
           {
            "marker": {
             "colorbar": {
              "outlinewidth": 0,
              "ticks": ""
             }
            },
            "type": "scatterternary"
           }
          ],
          "surface": [
           {
            "colorbar": {
             "outlinewidth": 0,
             "ticks": ""
            },
            "colorscale": [
             [
              0,
              "#0d0887"
             ],
             [
              0.1111111111111111,
              "#46039f"
             ],
             [
              0.2222222222222222,
              "#7201a8"
             ],
             [
              0.3333333333333333,
              "#9c179e"
             ],
             [
              0.4444444444444444,
              "#bd3786"
             ],
             [
              0.5555555555555556,
              "#d8576b"
             ],
             [
              0.6666666666666666,
              "#ed7953"
             ],
             [
              0.7777777777777778,
              "#fb9f3a"
             ],
             [
              0.8888888888888888,
              "#fdca26"
             ],
             [
              1,
              "#f0f921"
             ]
            ],
            "type": "surface"
           }
          ],
          "table": [
           {
            "cells": {
             "fill": {
              "color": "#EBF0F8"
             },
             "line": {
              "color": "white"
             }
            },
            "header": {
             "fill": {
              "color": "#C8D4E3"
             },
             "line": {
              "color": "white"
             }
            },
            "type": "table"
           }
          ]
         },
         "layout": {
          "annotationdefaults": {
           "arrowcolor": "#2a3f5f",
           "arrowhead": 0,
           "arrowwidth": 1
          },
          "autotypenumbers": "strict",
          "coloraxis": {
           "colorbar": {
            "outlinewidth": 0,
            "ticks": ""
           }
          },
          "colorscale": {
           "diverging": [
            [
             0,
             "#8e0152"
            ],
            [
             0.1,
             "#c51b7d"
            ],
            [
             0.2,
             "#de77ae"
            ],
            [
             0.3,
             "#f1b6da"
            ],
            [
             0.4,
             "#fde0ef"
            ],
            [
             0.5,
             "#f7f7f7"
            ],
            [
             0.6,
             "#e6f5d0"
            ],
            [
             0.7,
             "#b8e186"
            ],
            [
             0.8,
             "#7fbc41"
            ],
            [
             0.9,
             "#4d9221"
            ],
            [
             1,
             "#276419"
            ]
           ],
           "sequential": [
            [
             0,
             "#0d0887"
            ],
            [
             0.1111111111111111,
             "#46039f"
            ],
            [
             0.2222222222222222,
             "#7201a8"
            ],
            [
             0.3333333333333333,
             "#9c179e"
            ],
            [
             0.4444444444444444,
             "#bd3786"
            ],
            [
             0.5555555555555556,
             "#d8576b"
            ],
            [
             0.6666666666666666,
             "#ed7953"
            ],
            [
             0.7777777777777778,
             "#fb9f3a"
            ],
            [
             0.8888888888888888,
             "#fdca26"
            ],
            [
             1,
             "#f0f921"
            ]
           ],
           "sequentialminus": [
            [
             0,
             "#0d0887"
            ],
            [
             0.1111111111111111,
             "#46039f"
            ],
            [
             0.2222222222222222,
             "#7201a8"
            ],
            [
             0.3333333333333333,
             "#9c179e"
            ],
            [
             0.4444444444444444,
             "#bd3786"
            ],
            [
             0.5555555555555556,
             "#d8576b"
            ],
            [
             0.6666666666666666,
             "#ed7953"
            ],
            [
             0.7777777777777778,
             "#fb9f3a"
            ],
            [
             0.8888888888888888,
             "#fdca26"
            ],
            [
             1,
             "#f0f921"
            ]
           ]
          },
          "colorway": [
           "#636efa",
           "#EF553B",
           "#00cc96",
           "#ab63fa",
           "#FFA15A",
           "#19d3f3",
           "#FF6692",
           "#B6E880",
           "#FF97FF",
           "#FECB52"
          ],
          "font": {
           "color": "#2a3f5f"
          },
          "geo": {
           "bgcolor": "white",
           "lakecolor": "white",
           "landcolor": "#E5ECF6",
           "showlakes": true,
           "showland": true,
           "subunitcolor": "white"
          },
          "hoverlabel": {
           "align": "left"
          },
          "hovermode": "closest",
          "mapbox": {
           "style": "light"
          },
          "paper_bgcolor": "white",
          "plot_bgcolor": "#E5ECF6",
          "polar": {
           "angularaxis": {
            "gridcolor": "white",
            "linecolor": "white",
            "ticks": ""
           },
           "bgcolor": "#E5ECF6",
           "radialaxis": {
            "gridcolor": "white",
            "linecolor": "white",
            "ticks": ""
           }
          },
          "scene": {
           "xaxis": {
            "backgroundcolor": "#E5ECF6",
            "gridcolor": "white",
            "gridwidth": 2,
            "linecolor": "white",
            "showbackground": true,
            "ticks": "",
            "zerolinecolor": "white"
           },
           "yaxis": {
            "backgroundcolor": "#E5ECF6",
            "gridcolor": "white",
            "gridwidth": 2,
            "linecolor": "white",
            "showbackground": true,
            "ticks": "",
            "zerolinecolor": "white"
           },
           "zaxis": {
            "backgroundcolor": "#E5ECF6",
            "gridcolor": "white",
            "gridwidth": 2,
            "linecolor": "white",
            "showbackground": true,
            "ticks": "",
            "zerolinecolor": "white"
           }
          },
          "shapedefaults": {
           "line": {
            "color": "#2a3f5f"
           }
          },
          "ternary": {
           "aaxis": {
            "gridcolor": "white",
            "linecolor": "white",
            "ticks": ""
           },
           "baxis": {
            "gridcolor": "white",
            "linecolor": "white",
            "ticks": ""
           },
           "bgcolor": "#E5ECF6",
           "caxis": {
            "gridcolor": "white",
            "linecolor": "white",
            "ticks": ""
           }
          },
          "title": {
           "x": 0.05
          },
          "xaxis": {
           "automargin": true,
           "gridcolor": "white",
           "linecolor": "white",
           "ticks": "",
           "title": {
            "standoff": 15
           },
           "zerolinecolor": "white",
           "zerolinewidth": 2
          },
          "yaxis": {
           "automargin": true,
           "gridcolor": "white",
           "linecolor": "white",
           "ticks": "",
           "title": {
            "standoff": 15
           },
           "zerolinecolor": "white",
           "zerolinewidth": 2
          }
         }
        },
        "title": {
         "text": "Boxplot da Acurácia Balanceada do classificador Real"
        },
        "xaxis": {
         "anchor": "y",
         "domain": [
          0,
          1
         ],
         "title": {
          "text": "Nome"
         }
        },
        "yaxis": {
         "anchor": "x",
         "domain": [
          0,
          1
         ],
         "range": [
          0,
          1
         ],
         "title": {
          "text": "Acurácia Balanceada"
         }
        }
       }
      }
     },
     "metadata": {},
     "output_type": "display_data"
    },
    {
     "data": {
      "application/vnd.plotly.v1+json": {
       "config": {
        "plotlyServerURL": "https://plot.ly"
       },
       "data": [
        {
         "alignmentgroup": "True",
         "boxpoints": "all",
         "hovertemplate": "Nome=%{x}<br>F1-score Balanceada=%{y}<extra></extra>",
         "legendgroup": "",
         "marker": {
          "color": "rgb(141,211,199)"
         },
         "name": "",
         "notched": false,
         "offsetgroup": "",
         "orientation": "v",
         "showlegend": false,
         "type": "box",
         "x": [
          "logreg",
          "KNN",
          "GaussianNB",
          "Perceptron",
          "LinearSVC",
          "SGD",
          "Dtree",
          "RForest",
          "ADA",
          "GBC",
          "ETC",
          "logreg",
          "KNN",
          "GaussianNB",
          "Perceptron",
          "LinearSVC",
          "SGD",
          "Dtree",
          "RForest",
          "ADA",
          "GBC",
          "ETC",
          "logreg",
          "KNN",
          "GaussianNB",
          "Perceptron",
          "LinearSVC",
          "SGD",
          "Dtree",
          "RForest",
          "ADA",
          "GBC",
          "ETC",
          "logreg",
          "KNN",
          "GaussianNB",
          "Perceptron",
          "LinearSVC",
          "SGD",
          "Dtree",
          "RForest",
          "ADA",
          "GBC",
          "ETC",
          "logreg",
          "KNN",
          "GaussianNB",
          "Perceptron",
          "LinearSVC",
          "SGD",
          "Dtree",
          "RForest",
          "ADA",
          "GBC",
          "ETC",
          "logreg",
          "KNN",
          "GaussianNB",
          "Perceptron",
          "LinearSVC",
          "SGD",
          "Dtree",
          "RForest",
          "ADA",
          "GBC",
          "ETC",
          "logreg",
          "KNN",
          "GaussianNB",
          "Perceptron",
          "LinearSVC",
          "SGD",
          "Dtree",
          "RForest",
          "ADA",
          "GBC",
          "ETC",
          "logreg",
          "KNN",
          "GaussianNB",
          "Perceptron",
          "LinearSVC",
          "SGD",
          "Dtree",
          "RForest",
          "ADA",
          "GBC",
          "ETC",
          "logreg",
          "KNN",
          "GaussianNB",
          "Perceptron",
          "LinearSVC",
          "SGD",
          "Dtree",
          "RForest",
          "ADA",
          "GBC",
          "ETC",
          "logreg",
          "KNN",
          "GaussianNB",
          "Perceptron",
          "LinearSVC",
          "SGD",
          "Dtree",
          "RForest",
          "ADA",
          "GBC",
          "ETC",
          "logreg",
          "KNN",
          "GaussianNB",
          "Perceptron",
          "LinearSVC",
          "SGD",
          "Dtree",
          "RForest",
          "ADA",
          "GBC",
          "ETC",
          "logreg",
          "KNN",
          "GaussianNB",
          "Perceptron",
          "LinearSVC",
          "SGD",
          "Dtree",
          "RForest",
          "ADA",
          "GBC",
          "ETC",
          "logreg",
          "KNN",
          "GaussianNB",
          "Perceptron",
          "LinearSVC",
          "SGD",
          "Dtree",
          "RForest",
          "ADA",
          "GBC",
          "ETC",
          "logreg",
          "KNN",
          "GaussianNB",
          "Perceptron",
          "LinearSVC",
          "SGD",
          "Dtree",
          "RForest",
          "ADA",
          "GBC",
          "ETC",
          "logreg",
          "KNN",
          "GaussianNB",
          "Perceptron",
          "LinearSVC",
          "SGD",
          "Dtree",
          "RForest",
          "ADA",
          "GBC",
          "ETC",
          "logreg",
          "KNN",
          "GaussianNB",
          "Perceptron",
          "LinearSVC",
          "SGD",
          "Dtree",
          "RForest",
          "ADA",
          "GBC",
          "ETC",
          "logreg",
          "KNN",
          "GaussianNB",
          "Perceptron",
          "LinearSVC",
          "SGD",
          "Dtree",
          "RForest",
          "ADA",
          "GBC",
          "ETC",
          "logreg",
          "KNN",
          "GaussianNB",
          "Perceptron",
          "LinearSVC",
          "SGD",
          "Dtree",
          "RForest",
          "ADA",
          "GBC",
          "ETC",
          "logreg",
          "KNN",
          "GaussianNB",
          "Perceptron",
          "LinearSVC",
          "SGD",
          "Dtree",
          "RForest",
          "ADA",
          "GBC",
          "ETC",
          "logreg",
          "KNN",
          "GaussianNB",
          "Perceptron",
          "LinearSVC",
          "SGD",
          "Dtree",
          "RForest",
          "ADA",
          "GBC",
          "ETC",
          "logreg",
          "KNN",
          "GaussianNB",
          "Perceptron",
          "LinearSVC",
          "SGD",
          "Dtree",
          "RForest",
          "ADA",
          "GBC",
          "ETC",
          "logreg",
          "KNN",
          "GaussianNB",
          "Perceptron",
          "LinearSVC",
          "SGD",
          "Dtree",
          "RForest",
          "ADA",
          "GBC",
          "ETC",
          "logreg",
          "KNN",
          "GaussianNB",
          "Perceptron",
          "LinearSVC",
          "SGD",
          "Dtree",
          "RForest",
          "ADA",
          "GBC",
          "ETC",
          "logreg",
          "KNN",
          "GaussianNB",
          "Perceptron",
          "LinearSVC",
          "SGD",
          "Dtree",
          "RForest",
          "ADA",
          "GBC",
          "ETC",
          "logreg",
          "KNN",
          "GaussianNB",
          "Perceptron",
          "LinearSVC",
          "SGD",
          "Dtree",
          "RForest",
          "ADA",
          "GBC",
          "ETC"
         ],
         "x0": " ",
         "xaxis": "x",
         "y": [
          0.7559875002246615,
          0.81874180834764,
          0.7326043643495227,
          0.7797757681291252,
          0.7625292146905559,
          0.7952911529617475,
          0.8417009650311377,
          0.8591335778989249,
          0.7748403999508683,
          0.8352010501651428,
          0.8877778560502784,
          0.8857539592565872,
          0.9304030946926622,
          0.786015281346228,
          0.8332912688942866,
          0.8856479435110461,
          0.8879793828652881,
          0.9047580329484656,
          0.9192841947214636,
          0.9069801792835104,
          0.9007792009265642,
          0.9269213478616388,
          0.8946412895643999,
          0.9314457624438736,
          0.8192429312269491,
          0.8048322038355358,
          0.8906983245545147,
          0.8680477971182126,
          0.912489968579601,
          0.9209786875591612,
          0.9049922098693056,
          0.915225681600858,
          0.9214241926766706,
          0.8903935061980643,
          0.9146291845970204,
          0.8133612914881291,
          0.8618617736501373,
          0.8802778012310704,
          0.8864123460803177,
          0.9041701358894424,
          0.9164583679192672,
          0.9096983688134946,
          0.9132252030345628,
          0.9193113801993912,
          0.8942524509170386,
          0.9289331075230308,
          0.8987117804952609,
          0.8843444449484081,
          0.8740389727511985,
          0.8869123343119221,
          0.9186551103617664,
          0.9176010407335812,
          0.9007464693107392,
          0.914262104052972,
          0.9183944195936088,
          0.7344166069988913,
          0.8414873947990315,
          0.7363848672288147,
          0.6352041163503336,
          0.7563176364707681,
          0.7866801381429432,
          0.7898618171982549,
          0.86929108772497,
          0.8147753720278001,
          0.7972053219040607,
          0.902624496540144,
          0.9241380096227932,
          0.9478280415284588,
          0.807158240923581,
          0.941350560707794,
          0.923043269636988,
          0.936157672050428,
          0.927297460658076,
          0.9837796196463764,
          0.9602156799048291,
          0.9798264538581888,
          0.9817943869312032,
          0.9514834090787014,
          0.9685605580847592,
          0.8379649593503993,
          0.9239034091115492,
          0.932682810334312,
          0.9133513251348424,
          0.9734318113660662,
          0.9927203382895996,
          0.9846430751522176,
          0.9891449661940936,
          0.9848353432282556,
          0.9335905358235774,
          0.9628012255736752,
          0.8284824849547335,
          0.8895907949571856,
          0.915757684277481,
          0.9213960757918226,
          0.9492075381524632,
          0.9968389912836196,
          0.987498723522636,
          0.9892767831041728,
          0.9811533676807336,
          0.9434559606564656,
          0.9754851276448996,
          0.92558133328032,
          0.9069434227719662,
          0.9101704672544196,
          0.9077737944122398,
          0.9885612913184322,
          0.9975414376650372,
          0.9916845738285494,
          0.9935768750335602,
          0.9862987411393892,
          0.7256784773156869,
          0.8355731913053672,
          0.0565287302387808,
          0.634243303934956,
          0.7419423983864867,
          0.7288669604791957,
          0.7882589203532492,
          0.8719163526667704,
          0.8245264491639744,
          0.8160654262212831,
          0.9253667685065824,
          0.9105264686568272,
          0.9326654525991992,
          0.1702042420401824,
          0.8910836607808488,
          0.9166374938347388,
          0.9266568385863276,
          0.923616997508648,
          0.972126331638306,
          0.9550302350899756,
          0.9699720741865332,
          0.9764647514755336,
          0.9248044869746312,
          0.955144894020035,
          0.0354025570942641,
          0.8359970916177693,
          0.9343833778971316,
          0.9299458622593002,
          0.9697202229194066,
          0.9850205316949352,
          0.9916519939974788,
          0.9825950460129466,
          0.9860245123784216,
          0.9433155419169508,
          0.9619351409349324,
          0.1189668954871938,
          0.9392789944341452,
          0.943285093868938,
          0.9431860817260338,
          0.9772571888839618,
          0.9880336886753848,
          0.9918818795025444,
          0.9872234632651335,
          0.9898479666821914,
          0.9440081025073505,
          0.9657972572966752,
          0.0364078890831191,
          0.9554147441457526,
          0.9438144293301096,
          0.9429991929291762,
          0.9823458348318768,
          0.9879749881553196,
          0.9946538725476748,
          0.9869658586163904,
          0.9821148291022668,
          0.7605429635681998,
          0.8531901373572732,
          0.796244026526249,
          0.8003587411425317,
          0.7916394732689838,
          0.7353669339466784,
          0.8253843234231104,
          0.8691680545767537,
          0.7944077684923251,
          0.8099570537385774,
          0.904191813875362,
          0.9210873166162572,
          0.9555171843583552,
          0.7748234691000625,
          0.8749118142056596,
          0.9331442492968473,
          0.9432838199914676,
          0.9325560972374785,
          0.9750742174784828,
          0.9340411278658056,
          0.9674415231941156,
          0.9681208103398458,
          0.943963067602982,
          0.9792275357223268,
          0.8992719035584974,
          0.9054187620151694,
          0.9485829966404102,
          0.9453986112611606,
          0.9718954942614032,
          0.9882485201756828,
          0.9738061433288656,
          0.9841687916597016,
          0.9882280532602082,
          0.9458001886028594,
          0.971222472103577,
          0.8924572002061547,
          0.9259040593356986,
          0.9499591103237106,
          0.9472048316436888,
          0.9539657128462906,
          0.9893677771227336,
          0.982830889625728,
          0.9837609008787684,
          0.9846860512492012,
          0.9619180732928044,
          0.988996703247556,
          0.9406526834372384,
          0.9662098802675044,
          0.9548857829321872,
          0.962437457185478,
          0.9837730220406312,
          0.989910114704146,
          0.9727763812681516,
          0.9876055841518612,
          0.98634819350132,
          0.8054382237897985,
          0.8542129448122663,
          0.7462766792340423,
          0.7766183317869779,
          0.7998073873271125,
          0.8118553258883203,
          0.8119295593433957,
          0.8543876718298166,
          0.78863318840852,
          0.7998699230170919,
          0.8774428170321039,
          0.8389495534855882,
          0.8871574339351495,
          0.7498080893774738,
          0.8069331658645026,
          0.8409866590415781,
          0.8459209189228211,
          0.8704581367871516,
          0.8915956573674682,
          0.890137781705522,
          0.8963507783297476,
          0.8838582305426106,
          0.8268533749077985,
          0.8974864771850578,
          0.7785011474858645,
          0.8033192490780022,
          0.8261723729510223,
          0.8410512605782662,
          0.8947600273070242,
          0.8818722782259057,
          0.8974310362602886,
          0.8766937896442225,
          0.8854616505382781,
          0.8423551945979498,
          0.8913919442714398,
          0.804291632444188,
          0.8242812278917384,
          0.844382429349352,
          0.8520020799980186,
          0.8899555037184989,
          0.896735883584134,
          0.8998492739000333,
          0.8934454504683681,
          0.8875242890943107,
          0.8537396780922446,
          0.9076627927875652,
          0.8507325097154425,
          0.8501055886233709,
          0.8514906432831161,
          0.85259849985904,
          0.9051582078805592,
          0.8922196321855485,
          0.8926241848495965,
          0.8873636483267909,
          0.8850042014185612
         ],
         "y0": " ",
         "yaxis": "y"
        }
       ],
       "layout": {
        "boxmode": "group",
        "legend": {
         "tracegroupgap": 0
        },
        "template": {
         "data": {
          "bar": [
           {
            "error_x": {
             "color": "#2a3f5f"
            },
            "error_y": {
             "color": "#2a3f5f"
            },
            "marker": {
             "line": {
              "color": "#E5ECF6",
              "width": 0.5
             },
             "pattern": {
              "fillmode": "overlay",
              "size": 10,
              "solidity": 0.2
             }
            },
            "type": "bar"
           }
          ],
          "barpolar": [
           {
            "marker": {
             "line": {
              "color": "#E5ECF6",
              "width": 0.5
             },
             "pattern": {
              "fillmode": "overlay",
              "size": 10,
              "solidity": 0.2
             }
            },
            "type": "barpolar"
           }
          ],
          "carpet": [
           {
            "aaxis": {
             "endlinecolor": "#2a3f5f",
             "gridcolor": "white",
             "linecolor": "white",
             "minorgridcolor": "white",
             "startlinecolor": "#2a3f5f"
            },
            "baxis": {
             "endlinecolor": "#2a3f5f",
             "gridcolor": "white",
             "linecolor": "white",
             "minorgridcolor": "white",
             "startlinecolor": "#2a3f5f"
            },
            "type": "carpet"
           }
          ],
          "choropleth": [
           {
            "colorbar": {
             "outlinewidth": 0,
             "ticks": ""
            },
            "type": "choropleth"
           }
          ],
          "contour": [
           {
            "colorbar": {
             "outlinewidth": 0,
             "ticks": ""
            },
            "colorscale": [
             [
              0,
              "#0d0887"
             ],
             [
              0.1111111111111111,
              "#46039f"
             ],
             [
              0.2222222222222222,
              "#7201a8"
             ],
             [
              0.3333333333333333,
              "#9c179e"
             ],
             [
              0.4444444444444444,
              "#bd3786"
             ],
             [
              0.5555555555555556,
              "#d8576b"
             ],
             [
              0.6666666666666666,
              "#ed7953"
             ],
             [
              0.7777777777777778,
              "#fb9f3a"
             ],
             [
              0.8888888888888888,
              "#fdca26"
             ],
             [
              1,
              "#f0f921"
             ]
            ],
            "type": "contour"
           }
          ],
          "contourcarpet": [
           {
            "colorbar": {
             "outlinewidth": 0,
             "ticks": ""
            },
            "type": "contourcarpet"
           }
          ],
          "heatmap": [
           {
            "colorbar": {
             "outlinewidth": 0,
             "ticks": ""
            },
            "colorscale": [
             [
              0,
              "#0d0887"
             ],
             [
              0.1111111111111111,
              "#46039f"
             ],
             [
              0.2222222222222222,
              "#7201a8"
             ],
             [
              0.3333333333333333,
              "#9c179e"
             ],
             [
              0.4444444444444444,
              "#bd3786"
             ],
             [
              0.5555555555555556,
              "#d8576b"
             ],
             [
              0.6666666666666666,
              "#ed7953"
             ],
             [
              0.7777777777777778,
              "#fb9f3a"
             ],
             [
              0.8888888888888888,
              "#fdca26"
             ],
             [
              1,
              "#f0f921"
             ]
            ],
            "type": "heatmap"
           }
          ],
          "heatmapgl": [
           {
            "colorbar": {
             "outlinewidth": 0,
             "ticks": ""
            },
            "colorscale": [
             [
              0,
              "#0d0887"
             ],
             [
              0.1111111111111111,
              "#46039f"
             ],
             [
              0.2222222222222222,
              "#7201a8"
             ],
             [
              0.3333333333333333,
              "#9c179e"
             ],
             [
              0.4444444444444444,
              "#bd3786"
             ],
             [
              0.5555555555555556,
              "#d8576b"
             ],
             [
              0.6666666666666666,
              "#ed7953"
             ],
             [
              0.7777777777777778,
              "#fb9f3a"
             ],
             [
              0.8888888888888888,
              "#fdca26"
             ],
             [
              1,
              "#f0f921"
             ]
            ],
            "type": "heatmapgl"
           }
          ],
          "histogram": [
           {
            "marker": {
             "pattern": {
              "fillmode": "overlay",
              "size": 10,
              "solidity": 0.2
             }
            },
            "type": "histogram"
           }
          ],
          "histogram2d": [
           {
            "colorbar": {
             "outlinewidth": 0,
             "ticks": ""
            },
            "colorscale": [
             [
              0,
              "#0d0887"
             ],
             [
              0.1111111111111111,
              "#46039f"
             ],
             [
              0.2222222222222222,
              "#7201a8"
             ],
             [
              0.3333333333333333,
              "#9c179e"
             ],
             [
              0.4444444444444444,
              "#bd3786"
             ],
             [
              0.5555555555555556,
              "#d8576b"
             ],
             [
              0.6666666666666666,
              "#ed7953"
             ],
             [
              0.7777777777777778,
              "#fb9f3a"
             ],
             [
              0.8888888888888888,
              "#fdca26"
             ],
             [
              1,
              "#f0f921"
             ]
            ],
            "type": "histogram2d"
           }
          ],
          "histogram2dcontour": [
           {
            "colorbar": {
             "outlinewidth": 0,
             "ticks": ""
            },
            "colorscale": [
             [
              0,
              "#0d0887"
             ],
             [
              0.1111111111111111,
              "#46039f"
             ],
             [
              0.2222222222222222,
              "#7201a8"
             ],
             [
              0.3333333333333333,
              "#9c179e"
             ],
             [
              0.4444444444444444,
              "#bd3786"
             ],
             [
              0.5555555555555556,
              "#d8576b"
             ],
             [
              0.6666666666666666,
              "#ed7953"
             ],
             [
              0.7777777777777778,
              "#fb9f3a"
             ],
             [
              0.8888888888888888,
              "#fdca26"
             ],
             [
              1,
              "#f0f921"
             ]
            ],
            "type": "histogram2dcontour"
           }
          ],
          "mesh3d": [
           {
            "colorbar": {
             "outlinewidth": 0,
             "ticks": ""
            },
            "type": "mesh3d"
           }
          ],
          "parcoords": [
           {
            "line": {
             "colorbar": {
              "outlinewidth": 0,
              "ticks": ""
             }
            },
            "type": "parcoords"
           }
          ],
          "pie": [
           {
            "automargin": true,
            "type": "pie"
           }
          ],
          "scatter": [
           {
            "fillpattern": {
             "fillmode": "overlay",
             "size": 10,
             "solidity": 0.2
            },
            "type": "scatter"
           }
          ],
          "scatter3d": [
           {
            "line": {
             "colorbar": {
              "outlinewidth": 0,
              "ticks": ""
             }
            },
            "marker": {
             "colorbar": {
              "outlinewidth": 0,
              "ticks": ""
             }
            },
            "type": "scatter3d"
           }
          ],
          "scattercarpet": [
           {
            "marker": {
             "colorbar": {
              "outlinewidth": 0,
              "ticks": ""
             }
            },
            "type": "scattercarpet"
           }
          ],
          "scattergeo": [
           {
            "marker": {
             "colorbar": {
              "outlinewidth": 0,
              "ticks": ""
             }
            },
            "type": "scattergeo"
           }
          ],
          "scattergl": [
           {
            "marker": {
             "colorbar": {
              "outlinewidth": 0,
              "ticks": ""
             }
            },
            "type": "scattergl"
           }
          ],
          "scattermapbox": [
           {
            "marker": {
             "colorbar": {
              "outlinewidth": 0,
              "ticks": ""
             }
            },
            "type": "scattermapbox"
           }
          ],
          "scatterpolar": [
           {
            "marker": {
             "colorbar": {
              "outlinewidth": 0,
              "ticks": ""
             }
            },
            "type": "scatterpolar"
           }
          ],
          "scatterpolargl": [
           {
            "marker": {
             "colorbar": {
              "outlinewidth": 0,
              "ticks": ""
             }
            },
            "type": "scatterpolargl"
           }
          ],
          "scatterternary": [
           {
            "marker": {
             "colorbar": {
              "outlinewidth": 0,
              "ticks": ""
             }
            },
            "type": "scatterternary"
           }
          ],
          "surface": [
           {
            "colorbar": {
             "outlinewidth": 0,
             "ticks": ""
            },
            "colorscale": [
             [
              0,
              "#0d0887"
             ],
             [
              0.1111111111111111,
              "#46039f"
             ],
             [
              0.2222222222222222,
              "#7201a8"
             ],
             [
              0.3333333333333333,
              "#9c179e"
             ],
             [
              0.4444444444444444,
              "#bd3786"
             ],
             [
              0.5555555555555556,
              "#d8576b"
             ],
             [
              0.6666666666666666,
              "#ed7953"
             ],
             [
              0.7777777777777778,
              "#fb9f3a"
             ],
             [
              0.8888888888888888,
              "#fdca26"
             ],
             [
              1,
              "#f0f921"
             ]
            ],
            "type": "surface"
           }
          ],
          "table": [
           {
            "cells": {
             "fill": {
              "color": "#EBF0F8"
             },
             "line": {
              "color": "white"
             }
            },
            "header": {
             "fill": {
              "color": "#C8D4E3"
             },
             "line": {
              "color": "white"
             }
            },
            "type": "table"
           }
          ]
         },
         "layout": {
          "annotationdefaults": {
           "arrowcolor": "#2a3f5f",
           "arrowhead": 0,
           "arrowwidth": 1
          },
          "autotypenumbers": "strict",
          "coloraxis": {
           "colorbar": {
            "outlinewidth": 0,
            "ticks": ""
           }
          },
          "colorscale": {
           "diverging": [
            [
             0,
             "#8e0152"
            ],
            [
             0.1,
             "#c51b7d"
            ],
            [
             0.2,
             "#de77ae"
            ],
            [
             0.3,
             "#f1b6da"
            ],
            [
             0.4,
             "#fde0ef"
            ],
            [
             0.5,
             "#f7f7f7"
            ],
            [
             0.6,
             "#e6f5d0"
            ],
            [
             0.7,
             "#b8e186"
            ],
            [
             0.8,
             "#7fbc41"
            ],
            [
             0.9,
             "#4d9221"
            ],
            [
             1,
             "#276419"
            ]
           ],
           "sequential": [
            [
             0,
             "#0d0887"
            ],
            [
             0.1111111111111111,
             "#46039f"
            ],
            [
             0.2222222222222222,
             "#7201a8"
            ],
            [
             0.3333333333333333,
             "#9c179e"
            ],
            [
             0.4444444444444444,
             "#bd3786"
            ],
            [
             0.5555555555555556,
             "#d8576b"
            ],
            [
             0.6666666666666666,
             "#ed7953"
            ],
            [
             0.7777777777777778,
             "#fb9f3a"
            ],
            [
             0.8888888888888888,
             "#fdca26"
            ],
            [
             1,
             "#f0f921"
            ]
           ],
           "sequentialminus": [
            [
             0,
             "#0d0887"
            ],
            [
             0.1111111111111111,
             "#46039f"
            ],
            [
             0.2222222222222222,
             "#7201a8"
            ],
            [
             0.3333333333333333,
             "#9c179e"
            ],
            [
             0.4444444444444444,
             "#bd3786"
            ],
            [
             0.5555555555555556,
             "#d8576b"
            ],
            [
             0.6666666666666666,
             "#ed7953"
            ],
            [
             0.7777777777777778,
             "#fb9f3a"
            ],
            [
             0.8888888888888888,
             "#fdca26"
            ],
            [
             1,
             "#f0f921"
            ]
           ]
          },
          "colorway": [
           "#636efa",
           "#EF553B",
           "#00cc96",
           "#ab63fa",
           "#FFA15A",
           "#19d3f3",
           "#FF6692",
           "#B6E880",
           "#FF97FF",
           "#FECB52"
          ],
          "font": {
           "color": "#2a3f5f"
          },
          "geo": {
           "bgcolor": "white",
           "lakecolor": "white",
           "landcolor": "#E5ECF6",
           "showlakes": true,
           "showland": true,
           "subunitcolor": "white"
          },
          "hoverlabel": {
           "align": "left"
          },
          "hovermode": "closest",
          "mapbox": {
           "style": "light"
          },
          "paper_bgcolor": "white",
          "plot_bgcolor": "#E5ECF6",
          "polar": {
           "angularaxis": {
            "gridcolor": "white",
            "linecolor": "white",
            "ticks": ""
           },
           "bgcolor": "#E5ECF6",
           "radialaxis": {
            "gridcolor": "white",
            "linecolor": "white",
            "ticks": ""
           }
          },
          "scene": {
           "xaxis": {
            "backgroundcolor": "#E5ECF6",
            "gridcolor": "white",
            "gridwidth": 2,
            "linecolor": "white",
            "showbackground": true,
            "ticks": "",
            "zerolinecolor": "white"
           },
           "yaxis": {
            "backgroundcolor": "#E5ECF6",
            "gridcolor": "white",
            "gridwidth": 2,
            "linecolor": "white",
            "showbackground": true,
            "ticks": "",
            "zerolinecolor": "white"
           },
           "zaxis": {
            "backgroundcolor": "#E5ECF6",
            "gridcolor": "white",
            "gridwidth": 2,
            "linecolor": "white",
            "showbackground": true,
            "ticks": "",
            "zerolinecolor": "white"
           }
          },
          "shapedefaults": {
           "line": {
            "color": "#2a3f5f"
           }
          },
          "ternary": {
           "aaxis": {
            "gridcolor": "white",
            "linecolor": "white",
            "ticks": ""
           },
           "baxis": {
            "gridcolor": "white",
            "linecolor": "white",
            "ticks": ""
           },
           "bgcolor": "#E5ECF6",
           "caxis": {
            "gridcolor": "white",
            "linecolor": "white",
            "ticks": ""
           }
          },
          "title": {
           "x": 0.05
          },
          "xaxis": {
           "automargin": true,
           "gridcolor": "white",
           "linecolor": "white",
           "ticks": "",
           "title": {
            "standoff": 15
           },
           "zerolinecolor": "white",
           "zerolinewidth": 2
          },
          "yaxis": {
           "automargin": true,
           "gridcolor": "white",
           "linecolor": "white",
           "ticks": "",
           "title": {
            "standoff": 15
           },
           "zerolinecolor": "white",
           "zerolinewidth": 2
          }
         }
        },
        "title": {
         "text": "Boxplot da F1-Score Balanceada do Classificador Real 0"
        },
        "xaxis": {
         "anchor": "y",
         "domain": [
          0,
          1
         ],
         "title": {
          "text": "Nome"
         }
        },
        "yaxis": {
         "anchor": "x",
         "domain": [
          0,
          1
         ],
         "range": [
          0,
          1
         ],
         "title": {
          "text": "F1-score Balanceada"
         }
        }
       }
      }
     },
     "metadata": {},
     "output_type": "display_data"
    },
    {
     "data": {
      "application/vnd.plotly.v1+json": {
       "config": {
        "plotlyServerURL": "https://plot.ly"
       },
       "data": [
        {
         "alignmentgroup": "True",
         "boxpoints": "all",
         "hovertemplate": "Nome=%{x}<br>F1-score Balanceada=%{y}<extra></extra>",
         "legendgroup": "",
         "marker": {
          "color": "rgb(153,153,153)"
         },
         "name": "",
         "notched": false,
         "offsetgroup": "",
         "orientation": "v",
         "showlegend": false,
         "type": "box",
         "x": [
          "logreg",
          "KNN",
          "GaussianNB",
          "Perceptron",
          "LinearSVC",
          "SGD",
          "Dtree",
          "RForest",
          "ADA",
          "GBC",
          "ETC",
          "logreg",
          "KNN",
          "GaussianNB",
          "Perceptron",
          "LinearSVC",
          "SGD",
          "Dtree",
          "RForest",
          "ADA",
          "GBC",
          "ETC",
          "logreg",
          "KNN",
          "GaussianNB",
          "Perceptron",
          "LinearSVC",
          "SGD",
          "Dtree",
          "RForest",
          "ADA",
          "GBC",
          "ETC",
          "logreg",
          "KNN",
          "GaussianNB",
          "Perceptron",
          "LinearSVC",
          "SGD",
          "Dtree",
          "RForest",
          "ADA",
          "GBC",
          "ETC",
          "logreg",
          "KNN",
          "GaussianNB",
          "Perceptron",
          "LinearSVC",
          "SGD",
          "Dtree",
          "RForest",
          "ADA",
          "GBC",
          "ETC",
          "logreg",
          "KNN",
          "GaussianNB",
          "Perceptron",
          "LinearSVC",
          "SGD",
          "Dtree",
          "RForest",
          "ADA",
          "GBC",
          "ETC",
          "logreg",
          "KNN",
          "GaussianNB",
          "Perceptron",
          "LinearSVC",
          "SGD",
          "Dtree",
          "RForest",
          "ADA",
          "GBC",
          "ETC",
          "logreg",
          "KNN",
          "GaussianNB",
          "Perceptron",
          "LinearSVC",
          "SGD",
          "Dtree",
          "RForest",
          "ADA",
          "GBC",
          "ETC",
          "logreg",
          "KNN",
          "GaussianNB",
          "Perceptron",
          "LinearSVC",
          "SGD",
          "Dtree",
          "RForest",
          "ADA",
          "GBC",
          "ETC",
          "logreg",
          "KNN",
          "GaussianNB",
          "Perceptron",
          "LinearSVC",
          "SGD",
          "Dtree",
          "RForest",
          "ADA",
          "GBC",
          "ETC",
          "logreg",
          "KNN",
          "GaussianNB",
          "Perceptron",
          "LinearSVC",
          "SGD",
          "Dtree",
          "RForest",
          "ADA",
          "GBC",
          "ETC",
          "logreg",
          "KNN",
          "GaussianNB",
          "Perceptron",
          "LinearSVC",
          "SGD",
          "Dtree",
          "RForest",
          "ADA",
          "GBC",
          "ETC",
          "logreg",
          "KNN",
          "GaussianNB",
          "Perceptron",
          "LinearSVC",
          "SGD",
          "Dtree",
          "RForest",
          "ADA",
          "GBC",
          "ETC",
          "logreg",
          "KNN",
          "GaussianNB",
          "Perceptron",
          "LinearSVC",
          "SGD",
          "Dtree",
          "RForest",
          "ADA",
          "GBC",
          "ETC",
          "logreg",
          "KNN",
          "GaussianNB",
          "Perceptron",
          "LinearSVC",
          "SGD",
          "Dtree",
          "RForest",
          "ADA",
          "GBC",
          "ETC",
          "logreg",
          "KNN",
          "GaussianNB",
          "Perceptron",
          "LinearSVC",
          "SGD",
          "Dtree",
          "RForest",
          "ADA",
          "GBC",
          "ETC",
          "logreg",
          "KNN",
          "GaussianNB",
          "Perceptron",
          "LinearSVC",
          "SGD",
          "Dtree",
          "RForest",
          "ADA",
          "GBC",
          "ETC",
          "logreg",
          "KNN",
          "GaussianNB",
          "Perceptron",
          "LinearSVC",
          "SGD",
          "Dtree",
          "RForest",
          "ADA",
          "GBC",
          "ETC",
          "logreg",
          "KNN",
          "GaussianNB",
          "Perceptron",
          "LinearSVC",
          "SGD",
          "Dtree",
          "RForest",
          "ADA",
          "GBC",
          "ETC",
          "logreg",
          "KNN",
          "GaussianNB",
          "Perceptron",
          "LinearSVC",
          "SGD",
          "Dtree",
          "RForest",
          "ADA",
          "GBC",
          "ETC",
          "logreg",
          "KNN",
          "GaussianNB",
          "Perceptron",
          "LinearSVC",
          "SGD",
          "Dtree",
          "RForest",
          "ADA",
          "GBC",
          "ETC",
          "logreg",
          "KNN",
          "GaussianNB",
          "Perceptron",
          "LinearSVC",
          "SGD",
          "Dtree",
          "RForest",
          "ADA",
          "GBC",
          "ETC",
          "logreg",
          "KNN",
          "GaussianNB",
          "Perceptron",
          "LinearSVC",
          "SGD",
          "Dtree",
          "RForest",
          "ADA",
          "GBC",
          "ETC",
          "logreg",
          "KNN",
          "GaussianNB",
          "Perceptron",
          "LinearSVC",
          "SGD",
          "Dtree",
          "RForest",
          "ADA",
          "GBC",
          "ETC",
          "logreg",
          "KNN",
          "GaussianNB",
          "Perceptron",
          "LinearSVC",
          "SGD",
          "Dtree",
          "RForest",
          "ADA",
          "GBC",
          "ETC"
         ],
         "x0": " ",
         "xaxis": "x",
         "y": [
          0.8679456605623641,
          0.7915360325871966,
          0.8958936174818706,
          0.819406110194326,
          0.8617083148416579,
          0.8573477157292668,
          0.8073566892267666,
          0.8250645524756667,
          0.7997564891735757,
          0.7903972512675687,
          0.8517091622280142,
          0.8599016459203698,
          0.8740451404762482,
          0.7592122256571578,
          0.8206868087239774,
          0.8612856881652018,
          0.8533785126659402,
          0.8410837951936821,
          0.8882730961678732,
          0.8438055793389793,
          0.8763906067006766,
          0.9018458793983364,
          0.8695045544116539,
          0.9045278495979078,
          0.8596142063369944,
          0.8685213946545953,
          0.8572229018489504,
          0.862700399827838,
          0.8829367078681158,
          0.9055736872217268,
          0.8779052441012876,
          0.890100394322557,
          0.9024022794787392,
          0.8644218063567962,
          0.901094568023886,
          0.8632991446326099,
          0.8484760676288343,
          0.8537258100656943,
          0.8492181045491761,
          0.8776201209788604,
          0.9019700762595187,
          0.8813670406379053,
          0.882595182649389,
          0.8974914229455961,
          0.8671555998326977,
          0.9027127614835238,
          0.8987910116979905,
          0.857029871587177,
          0.8530296927594332,
          0.8513248687438814,
          0.8967882913862094,
          0.9013661537627478,
          0.8695150602739683,
          0.8823952856416263,
          0.8975625504775213,
          0.8849757527057938,
          0.7638011286246296,
          0.9384845807156856,
          0.8466089772035218,
          0.8999128239100042,
          0.9096653775804502,
          0.7746231252133399,
          0.8094510541627745,
          0.7881905167953734,
          0.7882850406785169,
          0.8286294766332262,
          0.9048007530249076,
          0.896014036205809,
          0.7885415660001242,
          0.7207400262636847,
          0.9084981264810926,
          0.8845195498716046,
          0.8834695229365452,
          0.9191246523902028,
          0.8751091543451662,
          0.9248250295790712,
          0.9138362434975952,
          0.9289624065033132,
          0.9317833123683862,
          0.9070518576620484,
          0.9497915093251428,
          0.8940031716758531,
          0.897246212899612,
          0.9311073201367728,
          0.937969050687425,
          0.9285110287013948,
          0.9274035902974354,
          0.925735041520997,
          0.9282323962032926,
          0.9256047300772846,
          0.899883939554674,
          0.8758803416152922,
          0.900787044319033,
          0.9029478703138548,
          0.9000252211662316,
          0.9413330554490358,
          0.9350146910853164,
          0.9178509623233928,
          0.926034444209332,
          0.9285221559438116,
          0.9283361330077198,
          0.9284314189336864,
          0.8953372529103103,
          0.8863015067448968,
          0.8724788766603812,
          0.9351864376972384,
          0.9355218164046412,
          0.8983870329335373,
          0.9287575760428778,
          0.9206378791286528,
          0.8282322224383764,
          0.7745195671514584,
          0.0148017847762163,
          0.8671250130056042,
          0.8381696228074513,
          0.8964874526011686,
          0.7720645684654828,
          0.8372637520370962,
          0.7833252625282846,
          0.8329093181556233,
          0.8366087478567176,
          0.8600237205233859,
          0.8789613159982038,
          0.1548307371912897,
          0.9279139111115048,
          0.8409719683836399,
          0.8849462882197897,
          0.8586101178765004,
          0.8989180577726946,
          0.8825508965499915,
          0.901352879500535,
          0.89852875476147,
          0.8823376273737852,
          0.936319493375082,
          0.0155731256938256,
          0.8516124490553513,
          0.8512987963175416,
          0.9277127467728522,
          0.941589370120554,
          0.9571791718865236,
          0.9247955969305937,
          0.9434745673972152,
          0.93303215605024,
          0.8984933835812721,
          0.9456214079778577,
          0.1129189779233054,
          0.8487965527681522,
          0.8553582738047529,
          0.9310476580298804,
          0.9548297443442544,
          0.9597256219429532,
          0.9297911039005524,
          0.9428453800323916,
          0.944805423831813,
          0.8922768369708639,
          0.94293836351576,
          0.0148017847762163,
          0.8306784185729839,
          0.8533763056432137,
          0.849523287337415,
          0.9535053022842988,
          0.958202338738406,
          0.936256694089195,
          0.9444487368935738,
          0.938630063327762,
          0.863265664815963,
          0.7952912867130629,
          0.8608748392964464,
          0.8295467979023183,
          0.8781697743017685,
          0.8767142160481239,
          0.7868785438859484,
          0.8371462909695734,
          0.8231799543063294,
          0.8050977869524777,
          0.8602880058691176,
          0.8707010212368981,
          0.9052145848451266,
          0.7208298542654462,
          0.8808019271862235,
          0.8574838937993192,
          0.925792898588278,
          0.8673421451102677,
          0.9080456730170696,
          0.8881545072251752,
          0.9211122856626472,
          0.913306523553279,
          0.8946314102747418,
          0.9703805986686806,
          0.8261422701169303,
          0.8699243440689367,
          0.8578732311094079,
          0.8492835174329889,
          0.9650634033822864,
          0.9714593744611046,
          0.9665471572345842,
          0.9707451281126142,
          0.9644472132743857,
          0.903661285600119,
          0.9727216249771788,
          0.8367630970158731,
          0.8907541779700984,
          0.8610346559785159,
          0.8560180734140443,
          0.9335307384970898,
          0.958595711477812,
          0.9659770190014628,
          0.9724605399176356,
          0.964842378920238,
          0.8954810155090305,
          0.9750471310896708,
          0.8582528184087291,
          0.907831620505048,
          0.8548868633994987,
          0.849523287337415,
          0.9673625546133588,
          0.9751240702903696,
          0.9607940435038164,
          0.9694963463938084,
          0.96692978251419,
          0.8543069059878526,
          0.8372533338269574,
          0.8377628763688661,
          0.8319801759969622,
          0.849424046667473,
          0.8570531907372292,
          0.8261836918328492,
          0.8737309808091733,
          0.8361492486595647,
          0.8502762184536546,
          0.8981725058953194,
          0.8222946478467302,
          0.8504496237613889,
          0.711130607162907,
          0.8148650201386847,
          0.8287052179297127,
          0.8390600043050415,
          0.8119308554916029,
          0.8692869950237772,
          0.8580778426713841,
          0.8795670163282557,
          0.8662844627388719,
          0.8437090951572939,
          0.901984861319134,
          0.8070198105190209,
          0.8471781513123096,
          0.8448257388019846,
          0.8487865276788535,
          0.8992372901104337,
          0.913178666483214,
          0.8684906665745975,
          0.8844519835831126,
          0.90463497868971,
          0.85077860424996,
          0.903951058121003,
          0.8162485636622804,
          0.8742503483225833,
          0.8501725464610842,
          0.8507445983086044,
          0.8867115023327772,
          0.9077435434650736,
          0.8778395013792588,
          0.9064533409871568,
          0.9075409575200823,
          0.8487695376927454,
          0.906887514045156,
          0.8382620800453605,
          0.9281999303575272,
          0.848489121678797,
          0.8499629585594038,
          0.9032613915809627,
          0.9186234481674928,
          0.8711639363331511,
          0.9017325062467136,
          0.9096298793613914
         ],
         "y0": " ",
         "yaxis": "y"
        }
       ],
       "layout": {
        "boxmode": "group",
        "legend": {
         "tracegroupgap": 0
        },
        "template": {
         "data": {
          "bar": [
           {
            "error_x": {
             "color": "#2a3f5f"
            },
            "error_y": {
             "color": "#2a3f5f"
            },
            "marker": {
             "line": {
              "color": "#E5ECF6",
              "width": 0.5
             },
             "pattern": {
              "fillmode": "overlay",
              "size": 10,
              "solidity": 0.2
             }
            },
            "type": "bar"
           }
          ],
          "barpolar": [
           {
            "marker": {
             "line": {
              "color": "#E5ECF6",
              "width": 0.5
             },
             "pattern": {
              "fillmode": "overlay",
              "size": 10,
              "solidity": 0.2
             }
            },
            "type": "barpolar"
           }
          ],
          "carpet": [
           {
            "aaxis": {
             "endlinecolor": "#2a3f5f",
             "gridcolor": "white",
             "linecolor": "white",
             "minorgridcolor": "white",
             "startlinecolor": "#2a3f5f"
            },
            "baxis": {
             "endlinecolor": "#2a3f5f",
             "gridcolor": "white",
             "linecolor": "white",
             "minorgridcolor": "white",
             "startlinecolor": "#2a3f5f"
            },
            "type": "carpet"
           }
          ],
          "choropleth": [
           {
            "colorbar": {
             "outlinewidth": 0,
             "ticks": ""
            },
            "type": "choropleth"
           }
          ],
          "contour": [
           {
            "colorbar": {
             "outlinewidth": 0,
             "ticks": ""
            },
            "colorscale": [
             [
              0,
              "#0d0887"
             ],
             [
              0.1111111111111111,
              "#46039f"
             ],
             [
              0.2222222222222222,
              "#7201a8"
             ],
             [
              0.3333333333333333,
              "#9c179e"
             ],
             [
              0.4444444444444444,
              "#bd3786"
             ],
             [
              0.5555555555555556,
              "#d8576b"
             ],
             [
              0.6666666666666666,
              "#ed7953"
             ],
             [
              0.7777777777777778,
              "#fb9f3a"
             ],
             [
              0.8888888888888888,
              "#fdca26"
             ],
             [
              1,
              "#f0f921"
             ]
            ],
            "type": "contour"
           }
          ],
          "contourcarpet": [
           {
            "colorbar": {
             "outlinewidth": 0,
             "ticks": ""
            },
            "type": "contourcarpet"
           }
          ],
          "heatmap": [
           {
            "colorbar": {
             "outlinewidth": 0,
             "ticks": ""
            },
            "colorscale": [
             [
              0,
              "#0d0887"
             ],
             [
              0.1111111111111111,
              "#46039f"
             ],
             [
              0.2222222222222222,
              "#7201a8"
             ],
             [
              0.3333333333333333,
              "#9c179e"
             ],
             [
              0.4444444444444444,
              "#bd3786"
             ],
             [
              0.5555555555555556,
              "#d8576b"
             ],
             [
              0.6666666666666666,
              "#ed7953"
             ],
             [
              0.7777777777777778,
              "#fb9f3a"
             ],
             [
              0.8888888888888888,
              "#fdca26"
             ],
             [
              1,
              "#f0f921"
             ]
            ],
            "type": "heatmap"
           }
          ],
          "heatmapgl": [
           {
            "colorbar": {
             "outlinewidth": 0,
             "ticks": ""
            },
            "colorscale": [
             [
              0,
              "#0d0887"
             ],
             [
              0.1111111111111111,
              "#46039f"
             ],
             [
              0.2222222222222222,
              "#7201a8"
             ],
             [
              0.3333333333333333,
              "#9c179e"
             ],
             [
              0.4444444444444444,
              "#bd3786"
             ],
             [
              0.5555555555555556,
              "#d8576b"
             ],
             [
              0.6666666666666666,
              "#ed7953"
             ],
             [
              0.7777777777777778,
              "#fb9f3a"
             ],
             [
              0.8888888888888888,
              "#fdca26"
             ],
             [
              1,
              "#f0f921"
             ]
            ],
            "type": "heatmapgl"
           }
          ],
          "histogram": [
           {
            "marker": {
             "pattern": {
              "fillmode": "overlay",
              "size": 10,
              "solidity": 0.2
             }
            },
            "type": "histogram"
           }
          ],
          "histogram2d": [
           {
            "colorbar": {
             "outlinewidth": 0,
             "ticks": ""
            },
            "colorscale": [
             [
              0,
              "#0d0887"
             ],
             [
              0.1111111111111111,
              "#46039f"
             ],
             [
              0.2222222222222222,
              "#7201a8"
             ],
             [
              0.3333333333333333,
              "#9c179e"
             ],
             [
              0.4444444444444444,
              "#bd3786"
             ],
             [
              0.5555555555555556,
              "#d8576b"
             ],
             [
              0.6666666666666666,
              "#ed7953"
             ],
             [
              0.7777777777777778,
              "#fb9f3a"
             ],
             [
              0.8888888888888888,
              "#fdca26"
             ],
             [
              1,
              "#f0f921"
             ]
            ],
            "type": "histogram2d"
           }
          ],
          "histogram2dcontour": [
           {
            "colorbar": {
             "outlinewidth": 0,
             "ticks": ""
            },
            "colorscale": [
             [
              0,
              "#0d0887"
             ],
             [
              0.1111111111111111,
              "#46039f"
             ],
             [
              0.2222222222222222,
              "#7201a8"
             ],
             [
              0.3333333333333333,
              "#9c179e"
             ],
             [
              0.4444444444444444,
              "#bd3786"
             ],
             [
              0.5555555555555556,
              "#d8576b"
             ],
             [
              0.6666666666666666,
              "#ed7953"
             ],
             [
              0.7777777777777778,
              "#fb9f3a"
             ],
             [
              0.8888888888888888,
              "#fdca26"
             ],
             [
              1,
              "#f0f921"
             ]
            ],
            "type": "histogram2dcontour"
           }
          ],
          "mesh3d": [
           {
            "colorbar": {
             "outlinewidth": 0,
             "ticks": ""
            },
            "type": "mesh3d"
           }
          ],
          "parcoords": [
           {
            "line": {
             "colorbar": {
              "outlinewidth": 0,
              "ticks": ""
             }
            },
            "type": "parcoords"
           }
          ],
          "pie": [
           {
            "automargin": true,
            "type": "pie"
           }
          ],
          "scatter": [
           {
            "fillpattern": {
             "fillmode": "overlay",
             "size": 10,
             "solidity": 0.2
            },
            "type": "scatter"
           }
          ],
          "scatter3d": [
           {
            "line": {
             "colorbar": {
              "outlinewidth": 0,
              "ticks": ""
             }
            },
            "marker": {
             "colorbar": {
              "outlinewidth": 0,
              "ticks": ""
             }
            },
            "type": "scatter3d"
           }
          ],
          "scattercarpet": [
           {
            "marker": {
             "colorbar": {
              "outlinewidth": 0,
              "ticks": ""
             }
            },
            "type": "scattercarpet"
           }
          ],
          "scattergeo": [
           {
            "marker": {
             "colorbar": {
              "outlinewidth": 0,
              "ticks": ""
             }
            },
            "type": "scattergeo"
           }
          ],
          "scattergl": [
           {
            "marker": {
             "colorbar": {
              "outlinewidth": 0,
              "ticks": ""
             }
            },
            "type": "scattergl"
           }
          ],
          "scattermapbox": [
           {
            "marker": {
             "colorbar": {
              "outlinewidth": 0,
              "ticks": ""
             }
            },
            "type": "scattermapbox"
           }
          ],
          "scatterpolar": [
           {
            "marker": {
             "colorbar": {
              "outlinewidth": 0,
              "ticks": ""
             }
            },
            "type": "scatterpolar"
           }
          ],
          "scatterpolargl": [
           {
            "marker": {
             "colorbar": {
              "outlinewidth": 0,
              "ticks": ""
             }
            },
            "type": "scatterpolargl"
           }
          ],
          "scatterternary": [
           {
            "marker": {
             "colorbar": {
              "outlinewidth": 0,
              "ticks": ""
             }
            },
            "type": "scatterternary"
           }
          ],
          "surface": [
           {
            "colorbar": {
             "outlinewidth": 0,
             "ticks": ""
            },
            "colorscale": [
             [
              0,
              "#0d0887"
             ],
             [
              0.1111111111111111,
              "#46039f"
             ],
             [
              0.2222222222222222,
              "#7201a8"
             ],
             [
              0.3333333333333333,
              "#9c179e"
             ],
             [
              0.4444444444444444,
              "#bd3786"
             ],
             [
              0.5555555555555556,
              "#d8576b"
             ],
             [
              0.6666666666666666,
              "#ed7953"
             ],
             [
              0.7777777777777778,
              "#fb9f3a"
             ],
             [
              0.8888888888888888,
              "#fdca26"
             ],
             [
              1,
              "#f0f921"
             ]
            ],
            "type": "surface"
           }
          ],
          "table": [
           {
            "cells": {
             "fill": {
              "color": "#EBF0F8"
             },
             "line": {
              "color": "white"
             }
            },
            "header": {
             "fill": {
              "color": "#C8D4E3"
             },
             "line": {
              "color": "white"
             }
            },
            "type": "table"
           }
          ]
         },
         "layout": {
          "annotationdefaults": {
           "arrowcolor": "#2a3f5f",
           "arrowhead": 0,
           "arrowwidth": 1
          },
          "autotypenumbers": "strict",
          "coloraxis": {
           "colorbar": {
            "outlinewidth": 0,
            "ticks": ""
           }
          },
          "colorscale": {
           "diverging": [
            [
             0,
             "#8e0152"
            ],
            [
             0.1,
             "#c51b7d"
            ],
            [
             0.2,
             "#de77ae"
            ],
            [
             0.3,
             "#f1b6da"
            ],
            [
             0.4,
             "#fde0ef"
            ],
            [
             0.5,
             "#f7f7f7"
            ],
            [
             0.6,
             "#e6f5d0"
            ],
            [
             0.7,
             "#b8e186"
            ],
            [
             0.8,
             "#7fbc41"
            ],
            [
             0.9,
             "#4d9221"
            ],
            [
             1,
             "#276419"
            ]
           ],
           "sequential": [
            [
             0,
             "#0d0887"
            ],
            [
             0.1111111111111111,
             "#46039f"
            ],
            [
             0.2222222222222222,
             "#7201a8"
            ],
            [
             0.3333333333333333,
             "#9c179e"
            ],
            [
             0.4444444444444444,
             "#bd3786"
            ],
            [
             0.5555555555555556,
             "#d8576b"
            ],
            [
             0.6666666666666666,
             "#ed7953"
            ],
            [
             0.7777777777777778,
             "#fb9f3a"
            ],
            [
             0.8888888888888888,
             "#fdca26"
            ],
            [
             1,
             "#f0f921"
            ]
           ],
           "sequentialminus": [
            [
             0,
             "#0d0887"
            ],
            [
             0.1111111111111111,
             "#46039f"
            ],
            [
             0.2222222222222222,
             "#7201a8"
            ],
            [
             0.3333333333333333,
             "#9c179e"
            ],
            [
             0.4444444444444444,
             "#bd3786"
            ],
            [
             0.5555555555555556,
             "#d8576b"
            ],
            [
             0.6666666666666666,
             "#ed7953"
            ],
            [
             0.7777777777777778,
             "#fb9f3a"
            ],
            [
             0.8888888888888888,
             "#fdca26"
            ],
            [
             1,
             "#f0f921"
            ]
           ]
          },
          "colorway": [
           "#636efa",
           "#EF553B",
           "#00cc96",
           "#ab63fa",
           "#FFA15A",
           "#19d3f3",
           "#FF6692",
           "#B6E880",
           "#FF97FF",
           "#FECB52"
          ],
          "font": {
           "color": "#2a3f5f"
          },
          "geo": {
           "bgcolor": "white",
           "lakecolor": "white",
           "landcolor": "#E5ECF6",
           "showlakes": true,
           "showland": true,
           "subunitcolor": "white"
          },
          "hoverlabel": {
           "align": "left"
          },
          "hovermode": "closest",
          "mapbox": {
           "style": "light"
          },
          "paper_bgcolor": "white",
          "plot_bgcolor": "#E5ECF6",
          "polar": {
           "angularaxis": {
            "gridcolor": "white",
            "linecolor": "white",
            "ticks": ""
           },
           "bgcolor": "#E5ECF6",
           "radialaxis": {
            "gridcolor": "white",
            "linecolor": "white",
            "ticks": ""
           }
          },
          "scene": {
           "xaxis": {
            "backgroundcolor": "#E5ECF6",
            "gridcolor": "white",
            "gridwidth": 2,
            "linecolor": "white",
            "showbackground": true,
            "ticks": "",
            "zerolinecolor": "white"
           },
           "yaxis": {
            "backgroundcolor": "#E5ECF6",
            "gridcolor": "white",
            "gridwidth": 2,
            "linecolor": "white",
            "showbackground": true,
            "ticks": "",
            "zerolinecolor": "white"
           },
           "zaxis": {
            "backgroundcolor": "#E5ECF6",
            "gridcolor": "white",
            "gridwidth": 2,
            "linecolor": "white",
            "showbackground": true,
            "ticks": "",
            "zerolinecolor": "white"
           }
          },
          "shapedefaults": {
           "line": {
            "color": "#2a3f5f"
           }
          },
          "ternary": {
           "aaxis": {
            "gridcolor": "white",
            "linecolor": "white",
            "ticks": ""
           },
           "baxis": {
            "gridcolor": "white",
            "linecolor": "white",
            "ticks": ""
           },
           "bgcolor": "#E5ECF6",
           "caxis": {
            "gridcolor": "white",
            "linecolor": "white",
            "ticks": ""
           }
          },
          "title": {
           "x": 0.05
          },
          "xaxis": {
           "automargin": true,
           "gridcolor": "white",
           "linecolor": "white",
           "ticks": "",
           "title": {
            "standoff": 15
           },
           "zerolinecolor": "white",
           "zerolinewidth": 2
          },
          "yaxis": {
           "automargin": true,
           "gridcolor": "white",
           "linecolor": "white",
           "ticks": "",
           "title": {
            "standoff": 15
           },
           "zerolinecolor": "white",
           "zerolinewidth": 2
          }
         }
        },
        "title": {
         "text": "Boxplot da F1-Score Balanceada do Classificador Real sem features de temperatura"
        },
        "xaxis": {
         "anchor": "y",
         "domain": [
          0,
          1
         ],
         "title": {
          "text": "Nome"
         }
        },
        "yaxis": {
         "anchor": "x",
         "domain": [
          0,
          1
         ],
         "range": [
          0,
          1
         ],
         "title": {
          "text": "F1-score Balanceada"
         }
        }
       }
      }
     },
     "metadata": {},
     "output_type": "display_data"
    },
    {
     "data": {
      "application/vnd.plotly.v1+json": {
       "config": {
        "plotlyServerURL": "https://plot.ly"
       },
       "data": [
        {
         "alignmentgroup": "True",
         "boxpoints": "all",
         "hovertemplate": "Nome=%{x}<br>F1-score Balanceada=%{y}<extra></extra>",
         "legendgroup": "",
         "marker": {
          "color": "#636efa"
         },
         "name": "",
         "notched": false,
         "offsetgroup": "",
         "orientation": "v",
         "showlegend": false,
         "type": "box",
         "x": [
          "logreg",
          "KNN",
          "GaussianNB",
          "Perceptron",
          "LinearSVC",
          "SGD",
          "Dtree",
          "RForest",
          "ADA",
          "GBC",
          "ETC",
          "logreg",
          "KNN",
          "GaussianNB",
          "Perceptron",
          "LinearSVC",
          "SGD",
          "Dtree",
          "RForest",
          "ADA",
          "GBC",
          "ETC",
          "logreg",
          "KNN",
          "GaussianNB",
          "Perceptron",
          "LinearSVC",
          "SGD",
          "Dtree",
          "RForest",
          "ADA",
          "GBC",
          "ETC",
          "logreg",
          "KNN",
          "GaussianNB",
          "Perceptron",
          "LinearSVC",
          "SGD",
          "Dtree",
          "RForest",
          "ADA",
          "GBC",
          "ETC",
          "logreg",
          "KNN",
          "GaussianNB",
          "Perceptron",
          "LinearSVC",
          "SGD",
          "Dtree",
          "RForest",
          "ADA",
          "GBC",
          "ETC",
          "logreg",
          "KNN",
          "GaussianNB",
          "Perceptron",
          "LinearSVC",
          "SGD",
          "Dtree",
          "RForest",
          "ADA",
          "GBC",
          "ETC",
          "logreg",
          "KNN",
          "GaussianNB",
          "Perceptron",
          "LinearSVC",
          "SGD",
          "Dtree",
          "RForest",
          "ADA",
          "GBC",
          "ETC",
          "logreg",
          "KNN",
          "GaussianNB",
          "Perceptron",
          "LinearSVC",
          "SGD",
          "Dtree",
          "RForest",
          "ADA",
          "GBC",
          "ETC",
          "logreg",
          "KNN",
          "GaussianNB",
          "Perceptron",
          "LinearSVC",
          "SGD",
          "Dtree",
          "RForest",
          "ADA",
          "GBC",
          "ETC",
          "logreg",
          "KNN",
          "GaussianNB",
          "Perceptron",
          "LinearSVC",
          "SGD",
          "Dtree",
          "RForest",
          "ADA",
          "GBC",
          "ETC",
          "logreg",
          "KNN",
          "GaussianNB",
          "Perceptron",
          "LinearSVC",
          "SGD",
          "Dtree",
          "RForest",
          "ADA",
          "GBC",
          "ETC",
          "logreg",
          "KNN",
          "GaussianNB",
          "Perceptron",
          "LinearSVC",
          "SGD",
          "Dtree",
          "RForest",
          "ADA",
          "GBC",
          "ETC",
          "logreg",
          "KNN",
          "GaussianNB",
          "Perceptron",
          "LinearSVC",
          "SGD",
          "Dtree",
          "RForest",
          "ADA",
          "GBC",
          "ETC",
          "logreg",
          "KNN",
          "GaussianNB",
          "Perceptron",
          "LinearSVC",
          "SGD",
          "Dtree",
          "RForest",
          "ADA",
          "GBC",
          "ETC",
          "logreg",
          "KNN",
          "GaussianNB",
          "Perceptron",
          "LinearSVC",
          "SGD",
          "Dtree",
          "RForest",
          "ADA",
          "GBC",
          "ETC",
          "logreg",
          "KNN",
          "GaussianNB",
          "Perceptron",
          "LinearSVC",
          "SGD",
          "Dtree",
          "RForest",
          "ADA",
          "GBC",
          "ETC",
          "logreg",
          "KNN",
          "GaussianNB",
          "Perceptron",
          "LinearSVC",
          "SGD",
          "Dtree",
          "RForest",
          "ADA",
          "GBC",
          "ETC",
          "logreg",
          "KNN",
          "GaussianNB",
          "Perceptron",
          "LinearSVC",
          "SGD",
          "Dtree",
          "RForest",
          "ADA",
          "GBC",
          "ETC",
          "logreg",
          "KNN",
          "GaussianNB",
          "Perceptron",
          "LinearSVC",
          "SGD",
          "Dtree",
          "RForest",
          "ADA",
          "GBC",
          "ETC",
          "logreg",
          "KNN",
          "GaussianNB",
          "Perceptron",
          "LinearSVC",
          "SGD",
          "Dtree",
          "RForest",
          "ADA",
          "GBC",
          "ETC",
          "logreg",
          "KNN",
          "GaussianNB",
          "Perceptron",
          "LinearSVC",
          "SGD",
          "Dtree",
          "RForest",
          "ADA",
          "GBC",
          "ETC",
          "logreg",
          "KNN",
          "GaussianNB",
          "Perceptron",
          "LinearSVC",
          "SGD",
          "Dtree",
          "RForest",
          "ADA",
          "GBC",
          "ETC",
          "logreg",
          "KNN",
          "GaussianNB",
          "Perceptron",
          "LinearSVC",
          "SGD",
          "Dtree",
          "RForest",
          "ADA",
          "GBC",
          "ETC",
          "logreg",
          "KNN",
          "GaussianNB",
          "Perceptron",
          "LinearSVC",
          "SGD",
          "Dtree",
          "RForest",
          "ADA",
          "GBC",
          "ETC",
          "logreg",
          "KNN",
          "GaussianNB",
          "Perceptron",
          "LinearSVC",
          "SGD",
          "Dtree",
          "RForest",
          "ADA",
          "GBC",
          "ETC"
         ],
         "x0": " ",
         "xaxis": "x",
         "y": [
          0.8410932847635382,
          0.8328705831785891,
          0.8612118633389831,
          0.8665211851643294,
          0.8452137424600052,
          0.8544007943691327,
          0.8384240584401483,
          0.862455151802584,
          0.7871104101387948,
          0.8374049905821702,
          0.8944741367124545,
          0.8807538539049569,
          0.927079434603883,
          0.7796609091353909,
          0.8437480549212076,
          0.8737339696422893,
          0.872112716269832,
          0.9063385761297988,
          0.920084398978306,
          0.9131918418524604,
          0.9090395332331576,
          0.9243618438477108,
          0.8854526948541858,
          0.9305809821237548,
          0.8194306239298508,
          0.8602887537630488,
          0.8797316590177238,
          0.8836261530786599,
          0.9056982194062462,
          0.9215420595582832,
          0.9069254853511112,
          0.9165285474836798,
          0.9218372403771296,
          0.8803617411223371,
          0.9181469160140324,
          0.8410211842301359,
          0.8494640020551242,
          0.8706596846560176,
          0.889005536268212,
          0.915518824477917,
          0.9178977642322504,
          0.9033826890814284,
          0.9163981872876564,
          0.9112901810644606,
          0.8840029852484781,
          0.9281782984418432,
          0.9065357090356132,
          0.9035503241591034,
          0.862867172541535,
          0.8804924991291714,
          0.9183064111047108,
          0.9191365696894293,
          0.9098094939820922,
          0.9161998402963232,
          0.9208402658447348,
          0.8658349911571057,
          0.8449833522958521,
          0.8771207941011339,
          0.8370074196375331,
          0.874891094597253,
          0.8798267356401709,
          0.7513499028144571,
          0.8453132426147791,
          0.7620176027350788,
          0.8068770343009715,
          0.9210715361554792,
          0.9318767839811776,
          0.9507567164236792,
          0.7972253583783794,
          0.8757697703571679,
          0.9172312842608032,
          0.8969541930163052,
          0.8940765814584685,
          0.985177752413701,
          0.971668240109673,
          0.9840583901490566,
          0.974375536857697,
          0.9395843712520466,
          0.9652564122982088,
          0.846614642497122,
          0.9250181702440542,
          0.9205472305857332,
          0.9155200223760336,
          0.9554224144585032,
          0.9927898808270502,
          0.9773853164642824,
          0.9916088696730808,
          0.9796967636242688,
          0.9243494673404232,
          0.9642970702348348,
          0.8579377143802452,
          0.883898857586688,
          0.8999299948551388,
          0.8979875928486244,
          0.9430201178328304,
          0.9946654607417104,
          0.9858949301271528,
          0.9889963389954304,
          0.9768964207225804,
          0.9355058255368526,
          0.9724641614599988,
          0.9329462025860068,
          0.934167492950435,
          0.9033779733708158,
          0.8753087811927119,
          0.9874047620683604,
          0.9950966724770764,
          0.977587463639833,
          0.9954099750084028,
          0.9740209664845788,
          0.8777922487646072,
          0.8435663778841243,
          0.023845436647149,
          0.8500614142544693,
          0.8921167207680403,
          0.9045462610670758,
          0.7931742141105419,
          0.8609441364636087,
          0.7693093600009427,
          0.8024371211717451,
          0.9101237911098846,
          0.9204724816365956,
          0.9432012023434037,
          0.1548307371912897,
          0.9078936817312934,
          0.9252639064696484,
          0.927137895969234,
          0.9059704522439956,
          0.9782325630776896,
          0.968164102585949,
          0.9765943448357728,
          0.9675221947465582,
          0.9194036999933334,
          0.960129473552481,
          0.0233359157092795,
          0.9164255337423972,
          0.9294740549888728,
          0.9171003271172968,
          0.96562427867954,
          0.9846985058848916,
          0.9846195519107648,
          0.9829173129713468,
          0.9739192619652648,
          0.9382709634633,
          0.966441068202558,
          0.1129189779233054,
          0.8155861457743893,
          0.9367543408141018,
          0.942165975833432,
          0.9801695795341108,
          0.987462866431396,
          0.9893937567451202,
          0.9856296627847668,
          0.9774502128134016,
          0.9374807651978284,
          0.9704681579820588,
          0.0148017847762163,
          0.9123125316457744,
          0.9376597619616618,
          0.9356384045639894,
          0.979121503871806,
          0.9877852133670516,
          0.9908674068585556,
          0.9854004674401812,
          0.97268031850805,
          0.9051074943492332,
          0.8546687278372459,
          0.9290442776331154,
          0.8774955690859477,
          0.922302764192414,
          0.9363133438350462,
          0.756343370361813,
          0.8637292081648625,
          0.7829921899682554,
          0.7825844713336105,
          0.9222155533173482,
          0.9416845934426826,
          0.9561650871938092,
          0.7442202344392118,
          0.8597954608650816,
          0.94648654616016,
          0.9454158621057182,
          0.9304533606559816,
          0.974636080256828,
          0.9194181114329104,
          0.9679162691094736,
          0.9649544279712562,
          0.9415821534674544,
          0.9735658915422946,
          0.8860188515835752,
          0.940445900375264,
          0.948105445296294,
          0.9472336150770152,
          0.9780853970324916,
          0.989686655331284,
          0.9677891268257778,
          0.9811957662476924,
          0.9837072440029296,
          0.9508300586621604,
          0.9685048019500498,
          0.8798602180280937,
          0.8722657830594782,
          0.9467465858736366,
          0.9504698727386076,
          0.9659810715464292,
          0.9884963038390304,
          0.980483674655108,
          0.98338215763024,
          0.96807529087484,
          0.9651997585438468,
          0.9810449307411258,
          0.9063707608760172,
          0.971537768047216,
          0.956456879273334,
          0.9661486993395764,
          0.983632966025974,
          0.98926284271023,
          0.9668687870194396,
          0.9857984088990522,
          0.9783272740274735,
          0.8312982001533678,
          0.8722728420524527,
          0.829695063040369,
          0.8406342135783023,
          0.8309411188207321,
          0.841023833917268,
          0.7778775843297491,
          0.8585838251621275,
          0.7949617557601407,
          0.7987051914357725,
          0.882028114008379,
          0.8436557010579204,
          0.8846467487931394,
          0.7451264660756782,
          0.8204970708214321,
          0.8441124650571038,
          0.8425790941573471,
          0.8758265165573759,
          0.8922800558966811,
          0.8809061523332892,
          0.8858771365722867,
          0.8843415993975435,
          0.826198051470922,
          0.8901192131831811,
          0.7826434531890997,
          0.7800827278024163,
          0.8264230003835993,
          0.8217385842031801,
          0.892017095352251,
          0.8790102964983919,
          0.8890530186711054,
          0.8845980608191879,
          0.8826632580479481,
          0.8413235857009678,
          0.8875677442600786,
          0.8162915683366737,
          0.8521035326511263,
          0.8417296812515158,
          0.8442114234105662,
          0.8885493896695482,
          0.8897166699822453,
          0.8919309462973486,
          0.8917600936482895,
          0.8841719588109822,
          0.8512917337777206,
          0.9005521381611025,
          0.8589253358095872,
          0.8455193594511856,
          0.8496819447716142,
          0.848325166687578,
          0.9028759315450782,
          0.8869449728800043,
          0.8958772332082982,
          0.8942775078108527,
          0.8835537549699489
         ],
         "y0": " ",
         "yaxis": "y"
        }
       ],
       "layout": {
        "boxmode": "group",
        "legend": {
         "tracegroupgap": 0
        },
        "template": {
         "data": {
          "bar": [
           {
            "error_x": {
             "color": "#2a3f5f"
            },
            "error_y": {
             "color": "#2a3f5f"
            },
            "marker": {
             "line": {
              "color": "#E5ECF6",
              "width": 0.5
             },
             "pattern": {
              "fillmode": "overlay",
              "size": 10,
              "solidity": 0.2
             }
            },
            "type": "bar"
           }
          ],
          "barpolar": [
           {
            "marker": {
             "line": {
              "color": "#E5ECF6",
              "width": 0.5
             },
             "pattern": {
              "fillmode": "overlay",
              "size": 10,
              "solidity": 0.2
             }
            },
            "type": "barpolar"
           }
          ],
          "carpet": [
           {
            "aaxis": {
             "endlinecolor": "#2a3f5f",
             "gridcolor": "white",
             "linecolor": "white",
             "minorgridcolor": "white",
             "startlinecolor": "#2a3f5f"
            },
            "baxis": {
             "endlinecolor": "#2a3f5f",
             "gridcolor": "white",
             "linecolor": "white",
             "minorgridcolor": "white",
             "startlinecolor": "#2a3f5f"
            },
            "type": "carpet"
           }
          ],
          "choropleth": [
           {
            "colorbar": {
             "outlinewidth": 0,
             "ticks": ""
            },
            "type": "choropleth"
           }
          ],
          "contour": [
           {
            "colorbar": {
             "outlinewidth": 0,
             "ticks": ""
            },
            "colorscale": [
             [
              0,
              "#0d0887"
             ],
             [
              0.1111111111111111,
              "#46039f"
             ],
             [
              0.2222222222222222,
              "#7201a8"
             ],
             [
              0.3333333333333333,
              "#9c179e"
             ],
             [
              0.4444444444444444,
              "#bd3786"
             ],
             [
              0.5555555555555556,
              "#d8576b"
             ],
             [
              0.6666666666666666,
              "#ed7953"
             ],
             [
              0.7777777777777778,
              "#fb9f3a"
             ],
             [
              0.8888888888888888,
              "#fdca26"
             ],
             [
              1,
              "#f0f921"
             ]
            ],
            "type": "contour"
           }
          ],
          "contourcarpet": [
           {
            "colorbar": {
             "outlinewidth": 0,
             "ticks": ""
            },
            "type": "contourcarpet"
           }
          ],
          "heatmap": [
           {
            "colorbar": {
             "outlinewidth": 0,
             "ticks": ""
            },
            "colorscale": [
             [
              0,
              "#0d0887"
             ],
             [
              0.1111111111111111,
              "#46039f"
             ],
             [
              0.2222222222222222,
              "#7201a8"
             ],
             [
              0.3333333333333333,
              "#9c179e"
             ],
             [
              0.4444444444444444,
              "#bd3786"
             ],
             [
              0.5555555555555556,
              "#d8576b"
             ],
             [
              0.6666666666666666,
              "#ed7953"
             ],
             [
              0.7777777777777778,
              "#fb9f3a"
             ],
             [
              0.8888888888888888,
              "#fdca26"
             ],
             [
              1,
              "#f0f921"
             ]
            ],
            "type": "heatmap"
           }
          ],
          "heatmapgl": [
           {
            "colorbar": {
             "outlinewidth": 0,
             "ticks": ""
            },
            "colorscale": [
             [
              0,
              "#0d0887"
             ],
             [
              0.1111111111111111,
              "#46039f"
             ],
             [
              0.2222222222222222,
              "#7201a8"
             ],
             [
              0.3333333333333333,
              "#9c179e"
             ],
             [
              0.4444444444444444,
              "#bd3786"
             ],
             [
              0.5555555555555556,
              "#d8576b"
             ],
             [
              0.6666666666666666,
              "#ed7953"
             ],
             [
              0.7777777777777778,
              "#fb9f3a"
             ],
             [
              0.8888888888888888,
              "#fdca26"
             ],
             [
              1,
              "#f0f921"
             ]
            ],
            "type": "heatmapgl"
           }
          ],
          "histogram": [
           {
            "marker": {
             "pattern": {
              "fillmode": "overlay",
              "size": 10,
              "solidity": 0.2
             }
            },
            "type": "histogram"
           }
          ],
          "histogram2d": [
           {
            "colorbar": {
             "outlinewidth": 0,
             "ticks": ""
            },
            "colorscale": [
             [
              0,
              "#0d0887"
             ],
             [
              0.1111111111111111,
              "#46039f"
             ],
             [
              0.2222222222222222,
              "#7201a8"
             ],
             [
              0.3333333333333333,
              "#9c179e"
             ],
             [
              0.4444444444444444,
              "#bd3786"
             ],
             [
              0.5555555555555556,
              "#d8576b"
             ],
             [
              0.6666666666666666,
              "#ed7953"
             ],
             [
              0.7777777777777778,
              "#fb9f3a"
             ],
             [
              0.8888888888888888,
              "#fdca26"
             ],
             [
              1,
              "#f0f921"
             ]
            ],
            "type": "histogram2d"
           }
          ],
          "histogram2dcontour": [
           {
            "colorbar": {
             "outlinewidth": 0,
             "ticks": ""
            },
            "colorscale": [
             [
              0,
              "#0d0887"
             ],
             [
              0.1111111111111111,
              "#46039f"
             ],
             [
              0.2222222222222222,
              "#7201a8"
             ],
             [
              0.3333333333333333,
              "#9c179e"
             ],
             [
              0.4444444444444444,
              "#bd3786"
             ],
             [
              0.5555555555555556,
              "#d8576b"
             ],
             [
              0.6666666666666666,
              "#ed7953"
             ],
             [
              0.7777777777777778,
              "#fb9f3a"
             ],
             [
              0.8888888888888888,
              "#fdca26"
             ],
             [
              1,
              "#f0f921"
             ]
            ],
            "type": "histogram2dcontour"
           }
          ],
          "mesh3d": [
           {
            "colorbar": {
             "outlinewidth": 0,
             "ticks": ""
            },
            "type": "mesh3d"
           }
          ],
          "parcoords": [
           {
            "line": {
             "colorbar": {
              "outlinewidth": 0,
              "ticks": ""
             }
            },
            "type": "parcoords"
           }
          ],
          "pie": [
           {
            "automargin": true,
            "type": "pie"
           }
          ],
          "scatter": [
           {
            "fillpattern": {
             "fillmode": "overlay",
             "size": 10,
             "solidity": 0.2
            },
            "type": "scatter"
           }
          ],
          "scatter3d": [
           {
            "line": {
             "colorbar": {
              "outlinewidth": 0,
              "ticks": ""
             }
            },
            "marker": {
             "colorbar": {
              "outlinewidth": 0,
              "ticks": ""
             }
            },
            "type": "scatter3d"
           }
          ],
          "scattercarpet": [
           {
            "marker": {
             "colorbar": {
              "outlinewidth": 0,
              "ticks": ""
             }
            },
            "type": "scattercarpet"
           }
          ],
          "scattergeo": [
           {
            "marker": {
             "colorbar": {
              "outlinewidth": 0,
              "ticks": ""
             }
            },
            "type": "scattergeo"
           }
          ],
          "scattergl": [
           {
            "marker": {
             "colorbar": {
              "outlinewidth": 0,
              "ticks": ""
             }
            },
            "type": "scattergl"
           }
          ],
          "scattermapbox": [
           {
            "marker": {
             "colorbar": {
              "outlinewidth": 0,
              "ticks": ""
             }
            },
            "type": "scattermapbox"
           }
          ],
          "scatterpolar": [
           {
            "marker": {
             "colorbar": {
              "outlinewidth": 0,
              "ticks": ""
             }
            },
            "type": "scatterpolar"
           }
          ],
          "scatterpolargl": [
           {
            "marker": {
             "colorbar": {
              "outlinewidth": 0,
              "ticks": ""
             }
            },
            "type": "scatterpolargl"
           }
          ],
          "scatterternary": [
           {
            "marker": {
             "colorbar": {
              "outlinewidth": 0,
              "ticks": ""
             }
            },
            "type": "scatterternary"
           }
          ],
          "surface": [
           {
            "colorbar": {
             "outlinewidth": 0,
             "ticks": ""
            },
            "colorscale": [
             [
              0,
              "#0d0887"
             ],
             [
              0.1111111111111111,
              "#46039f"
             ],
             [
              0.2222222222222222,
              "#7201a8"
             ],
             [
              0.3333333333333333,
              "#9c179e"
             ],
             [
              0.4444444444444444,
              "#bd3786"
             ],
             [
              0.5555555555555556,
              "#d8576b"
             ],
             [
              0.6666666666666666,
              "#ed7953"
             ],
             [
              0.7777777777777778,
              "#fb9f3a"
             ],
             [
              0.8888888888888888,
              "#fdca26"
             ],
             [
              1,
              "#f0f921"
             ]
            ],
            "type": "surface"
           }
          ],
          "table": [
           {
            "cells": {
             "fill": {
              "color": "#EBF0F8"
             },
             "line": {
              "color": "white"
             }
            },
            "header": {
             "fill": {
              "color": "#C8D4E3"
             },
             "line": {
              "color": "white"
             }
            },
            "type": "table"
           }
          ]
         },
         "layout": {
          "annotationdefaults": {
           "arrowcolor": "#2a3f5f",
           "arrowhead": 0,
           "arrowwidth": 1
          },
          "autotypenumbers": "strict",
          "coloraxis": {
           "colorbar": {
            "outlinewidth": 0,
            "ticks": ""
           }
          },
          "colorscale": {
           "diverging": [
            [
             0,
             "#8e0152"
            ],
            [
             0.1,
             "#c51b7d"
            ],
            [
             0.2,
             "#de77ae"
            ],
            [
             0.3,
             "#f1b6da"
            ],
            [
             0.4,
             "#fde0ef"
            ],
            [
             0.5,
             "#f7f7f7"
            ],
            [
             0.6,
             "#e6f5d0"
            ],
            [
             0.7,
             "#b8e186"
            ],
            [
             0.8,
             "#7fbc41"
            ],
            [
             0.9,
             "#4d9221"
            ],
            [
             1,
             "#276419"
            ]
           ],
           "sequential": [
            [
             0,
             "#0d0887"
            ],
            [
             0.1111111111111111,
             "#46039f"
            ],
            [
             0.2222222222222222,
             "#7201a8"
            ],
            [
             0.3333333333333333,
             "#9c179e"
            ],
            [
             0.4444444444444444,
             "#bd3786"
            ],
            [
             0.5555555555555556,
             "#d8576b"
            ],
            [
             0.6666666666666666,
             "#ed7953"
            ],
            [
             0.7777777777777778,
             "#fb9f3a"
            ],
            [
             0.8888888888888888,
             "#fdca26"
            ],
            [
             1,
             "#f0f921"
            ]
           ],
           "sequentialminus": [
            [
             0,
             "#0d0887"
            ],
            [
             0.1111111111111111,
             "#46039f"
            ],
            [
             0.2222222222222222,
             "#7201a8"
            ],
            [
             0.3333333333333333,
             "#9c179e"
            ],
            [
             0.4444444444444444,
             "#bd3786"
            ],
            [
             0.5555555555555556,
             "#d8576b"
            ],
            [
             0.6666666666666666,
             "#ed7953"
            ],
            [
             0.7777777777777778,
             "#fb9f3a"
            ],
            [
             0.8888888888888888,
             "#fdca26"
            ],
            [
             1,
             "#f0f921"
            ]
           ]
          },
          "colorway": [
           "#636efa",
           "#EF553B",
           "#00cc96",
           "#ab63fa",
           "#FFA15A",
           "#19d3f3",
           "#FF6692",
           "#B6E880",
           "#FF97FF",
           "#FECB52"
          ],
          "font": {
           "color": "#2a3f5f"
          },
          "geo": {
           "bgcolor": "white",
           "lakecolor": "white",
           "landcolor": "#E5ECF6",
           "showlakes": true,
           "showland": true,
           "subunitcolor": "white"
          },
          "hoverlabel": {
           "align": "left"
          },
          "hovermode": "closest",
          "mapbox": {
           "style": "light"
          },
          "paper_bgcolor": "white",
          "plot_bgcolor": "#E5ECF6",
          "polar": {
           "angularaxis": {
            "gridcolor": "white",
            "linecolor": "white",
            "ticks": ""
           },
           "bgcolor": "#E5ECF6",
           "radialaxis": {
            "gridcolor": "white",
            "linecolor": "white",
            "ticks": ""
           }
          },
          "scene": {
           "xaxis": {
            "backgroundcolor": "#E5ECF6",
            "gridcolor": "white",
            "gridwidth": 2,
            "linecolor": "white",
            "showbackground": true,
            "ticks": "",
            "zerolinecolor": "white"
           },
           "yaxis": {
            "backgroundcolor": "#E5ECF6",
            "gridcolor": "white",
            "gridwidth": 2,
            "linecolor": "white",
            "showbackground": true,
            "ticks": "",
            "zerolinecolor": "white"
           },
           "zaxis": {
            "backgroundcolor": "#E5ECF6",
            "gridcolor": "white",
            "gridwidth": 2,
            "linecolor": "white",
            "showbackground": true,
            "ticks": "",
            "zerolinecolor": "white"
           }
          },
          "shapedefaults": {
           "line": {
            "color": "#2a3f5f"
           }
          },
          "ternary": {
           "aaxis": {
            "gridcolor": "white",
            "linecolor": "white",
            "ticks": ""
           },
           "baxis": {
            "gridcolor": "white",
            "linecolor": "white",
            "ticks": ""
           },
           "bgcolor": "#E5ECF6",
           "caxis": {
            "gridcolor": "white",
            "linecolor": "white",
            "ticks": ""
           }
          },
          "title": {
           "x": 0.05
          },
          "xaxis": {
           "automargin": true,
           "gridcolor": "white",
           "linecolor": "white",
           "ticks": "",
           "title": {
            "standoff": 15
           },
           "zerolinecolor": "white",
           "zerolinewidth": 2
          },
          "yaxis": {
           "automargin": true,
           "gridcolor": "white",
           "linecolor": "white",
           "ticks": "",
           "title": {
            "standoff": 15
           },
           "zerolinecolor": "white",
           "zerolinewidth": 2
          }
         }
        },
        "title": {
         "text": "Boxplot da F1-Score Balanceada do Classificador Real"
        },
        "xaxis": {
         "anchor": "y",
         "domain": [
          0,
          1
         ],
         "title": {
          "text": "Nome"
         }
        },
        "yaxis": {
         "anchor": "x",
         "domain": [
          0,
          1
         ],
         "range": [
          0,
          1
         ],
         "title": {
          "text": "F1-score Balanceada"
         }
        }
       }
      }
     },
     "metadata": {},
     "output_type": "display_data"
    }
   ],
   "source": [
    "# Criar boxplot da acurácia por modelo real real \n",
    "\n",
    "fig = px.box(df4, x='Nome', y='Acurácia Balanceada', points='all', title='Boxplot da Acurácia Balanceada do classificador Real 0',color_discrete_sequence=px.colors.qualitative.Set3)\n",
    "\n",
    "fig.update_yaxes(range=[0, 1])\n",
    "fig.show()\n",
    "\n",
    "fig = px.box(df7, x='Nome', y='Acurácia Balanceada', points='all', title='Boxplot da Acurácia Balanceada do classificador Real sem features de temperatura',color_discrete_sequence=px.colors.qualitative.Set1_r)\n",
    "fig.update_yaxes(range=[0, 1])\n",
    "fig.show()\n",
    "\n",
    "fig = px.box(df1, x='Nome', y='Acurácia Balanceada', points='all', title='Boxplot da Acurácia Balanceada do classificador Real')\n",
    "\n",
    "fig.update_yaxes(range=[0, 1])\n",
    "fig.show()\n",
    "\n",
    "fig = px.box(df4, x='Nome', y='F1-score Balanceada', points='all', title='Boxplot da F1-Score Balanceada do Classificador Real 0',color_discrete_sequence=px.colors.qualitative.Set3)\n",
    "fig.update_yaxes(range=[0, 1])\n",
    "fig.show()\n",
    "\n",
    "fig = px.box(df7, x='Nome', y='F1-score Balanceada', points='all', title='Boxplot da F1-Score Balanceada do Classificador Real sem features de temperatura',color_discrete_sequence=px.colors.qualitative.Set1_r)\n",
    "fig.update_yaxes(range=[0, 1])\n",
    "fig.show()\n",
    "\n",
    "fig = px.box(df1, x='Nome', y='F1-score Balanceada', points='all', title='Boxplot da F1-Score Balanceada do Classificador Real')\n",
    "fig.update_yaxes(range=[0, 1])\n",
    "fig.show()"
   ]
  },
  {
   "cell_type": "markdown",
   "metadata": {},
   "source": [
    "## Gráficos dados simulados "
   ]
  },
  {
   "cell_type": "code",
   "execution_count": 21,
   "metadata": {},
   "outputs": [
    {
     "data": {
      "application/vnd.plotly.v1+json": {
       "config": {
        "plotlyServerURL": "https://plot.ly"
       },
       "data": [
        {
         "alignmentgroup": "True",
         "boxpoints": "all",
         "hovertemplate": "Nome=%{x}<br>Acurácia Balanceada=%{y}<extra></extra>",
         "legendgroup": "",
         "marker": {
          "color": "rgb(141,211,199)"
         },
         "name": "",
         "notched": false,
         "offsetgroup": "",
         "orientation": "v",
         "showlegend": false,
         "type": "box",
         "x": [
          "logreg",
          "KNN",
          "GaussianNB",
          "Perceptron",
          "LinearSVC",
          "SGD",
          "Dtree",
          "RForest",
          "ADA",
          "GBC",
          "ETC",
          "logreg",
          "KNN",
          "GaussianNB",
          "Perceptron",
          "LinearSVC",
          "SGD",
          "Dtree",
          "RForest",
          "ADA",
          "GBC",
          "ETC",
          "logreg",
          "KNN",
          "GaussianNB",
          "Perceptron",
          "LinearSVC",
          "SGD",
          "Dtree",
          "RForest",
          "ADA",
          "GBC",
          "ETC",
          "logreg",
          "KNN",
          "GaussianNB",
          "Perceptron",
          "LinearSVC",
          "SGD",
          "Dtree",
          "RForest",
          "ADA",
          "GBC",
          "ETC",
          "logreg",
          "KNN",
          "GaussianNB",
          "Perceptron",
          "LinearSVC",
          "SGD",
          "Dtree",
          "RForest",
          "ADA",
          "GBC",
          "ETC",
          "logreg",
          "KNN",
          "GaussianNB",
          "Perceptron",
          "LinearSVC",
          "SGD",
          "Dtree",
          "RForest",
          "ADA",
          "GBC",
          "ETC",
          "logreg",
          "KNN",
          "GaussianNB",
          "Perceptron",
          "LinearSVC",
          "SGD",
          "Dtree",
          "RForest",
          "ADA",
          "GBC",
          "ETC",
          "logreg",
          "KNN",
          "GaussianNB",
          "Perceptron",
          "LinearSVC",
          "SGD",
          "Dtree",
          "RForest",
          "ADA",
          "GBC",
          "ETC",
          "logreg",
          "KNN",
          "GaussianNB",
          "Perceptron",
          "LinearSVC",
          "SGD",
          "Dtree",
          "RForest",
          "ADA",
          "GBC",
          "ETC",
          "logreg",
          "KNN",
          "GaussianNB",
          "Perceptron",
          "LinearSVC",
          "SGD",
          "Dtree",
          "RForest",
          "ADA",
          "GBC",
          "ETC",
          "logreg",
          "KNN",
          "GaussianNB",
          "Perceptron",
          "LinearSVC",
          "SGD",
          "Dtree",
          "RForest",
          "ADA",
          "GBC",
          "ETC",
          "logreg",
          "KNN",
          "GaussianNB",
          "Perceptron",
          "LinearSVC",
          "SGD",
          "Dtree",
          "RForest",
          "ADA",
          "GBC",
          "ETC",
          "logreg",
          "KNN",
          "GaussianNB",
          "Perceptron",
          "LinearSVC",
          "SGD",
          "Dtree",
          "RForest",
          "ADA",
          "GBC",
          "ETC",
          "logreg",
          "KNN",
          "GaussianNB",
          "Perceptron",
          "LinearSVC",
          "SGD",
          "Dtree",
          "RForest",
          "ADA",
          "GBC",
          "ETC",
          "logreg",
          "KNN",
          "GaussianNB",
          "Perceptron",
          "LinearSVC",
          "SGD",
          "Dtree",
          "RForest",
          "ADA",
          "GBC",
          "ETC",
          "logreg",
          "KNN",
          "GaussianNB",
          "Perceptron",
          "LinearSVC",
          "SGD",
          "Dtree",
          "RForest",
          "ADA",
          "GBC",
          "ETC",
          "logreg",
          "KNN",
          "GaussianNB",
          "Perceptron",
          "LinearSVC",
          "SGD",
          "Dtree",
          "RForest",
          "ADA",
          "GBC",
          "ETC",
          "logreg",
          "KNN",
          "GaussianNB",
          "Perceptron",
          "LinearSVC",
          "SGD",
          "Dtree",
          "RForest",
          "ADA",
          "GBC",
          "ETC",
          "logreg",
          "KNN",
          "GaussianNB",
          "Perceptron",
          "LinearSVC",
          "SGD",
          "Dtree",
          "RForest",
          "ADA",
          "GBC",
          "ETC",
          "logreg",
          "KNN",
          "GaussianNB",
          "Perceptron",
          "LinearSVC",
          "SGD",
          "Dtree",
          "RForest",
          "ADA",
          "GBC",
          "ETC",
          "logreg",
          "KNN",
          "GaussianNB",
          "Perceptron",
          "LinearSVC",
          "SGD",
          "Dtree",
          "RForest",
          "ADA",
          "GBC",
          "ETC",
          "logreg",
          "KNN",
          "GaussianNB",
          "Perceptron",
          "LinearSVC",
          "SGD",
          "Dtree",
          "RForest",
          "ADA",
          "GBC",
          "ETC",
          "logreg",
          "KNN",
          "GaussianNB",
          "Perceptron",
          "LinearSVC",
          "SGD",
          "Dtree",
          "RForest",
          "ADA",
          "GBC",
          "ETC",
          "logreg",
          "KNN",
          "GaussianNB",
          "Perceptron",
          "LinearSVC",
          "SGD",
          "Dtree",
          "RForest",
          "ADA",
          "GBC",
          "ETC",
          "logreg",
          "KNN",
          "GaussianNB",
          "Perceptron",
          "LinearSVC",
          "SGD",
          "Dtree",
          "RForest",
          "ADA",
          "GBC",
          "ETC"
         ],
         "x0": " ",
         "xaxis": "x",
         "y": [
          0.8456044920161432,
          0.9199684155114932,
          0.5476574837690823,
          0.8046323916476574,
          0.8424986839796456,
          0.8350412353044394,
          0.880786102825057,
          0.922126688892788,
          0.7831724864011229,
          0.8464642919810493,
          0.9339182312686436,
          0.845025443060186,
          0.9207580277241622,
          0.5409194595543078,
          0.762309177048605,
          0.8424635901035269,
          0.8370240393051412,
          0.8837339884190208,
          0.9190735216704684,
          0.7726969643797157,
          0.8472363572556589,
          0.9347253904193716,
          0.8437620635199158,
          0.9216880154413054,
          0.5281277417090717,
          0.8480084225302684,
          0.8390419371819617,
          0.8224074399017371,
          0.8813826987190736,
          0.9190559747324092,
          0.7632918055799263,
          0.8474293735743113,
          0.9343393577820672,
          0.8300403579575364,
          0.924723635725566,
          0.5195121951219512,
          0.756220389542025,
          0.8205474644674504,
          0.8308826109843832,
          0.8782593437445165,
          0.9247060887875066,
          0.7436918757676785,
          0.8425337778557642,
          0.9362344270924724,
          0.8084576241445868,
          0.9513423407615372,
          0.5067906650289524,
          0.7894367432882962,
          0.8080014037550447,
          0.8224776276539745,
          0.8526408141779259,
          0.9432356553781364,
          0.6963502368836638,
          0.8117915423758555,
          0.9659764871030004,
          0.9345499210387788,
          0.9905246534479732,
          0.5532023161958238,
          0.9043340937006492,
          0.924723635725566,
          0.932181084400772,
          0.99187576767854,
          0.9959992981224776,
          0.8527811896824005,
          0.9523074223547991,
          0.9963853307597824,
          0.9346902965432532,
          0.9924021758203194,
          0.5522372346025619,
          0.8980347429373574,
          0.9249166520442182,
          0.9291103702403932,
          0.9952447797859274,
          0.9972626776627478,
          0.861572205650114,
          0.9524828917353922,
          0.9977364449903492,
          0.9291805579926302,
          0.9911387962800492,
          0.5342691700298299,
          0.8195823828741884,
          0.9175820319354272,
          0.9184593788383928,
          0.9875065801017722,
          0.992156518687489,
          0.835760659764871,
          0.9447095981751183,
          0.994367432882962,
          0.8902088085629057,
          0.9913493595367608,
          0.5328303211089664,
          0.8330759782417968,
          0.8751886295841376,
          0.888173363748026,
          0.9881909106860852,
          0.9962800491314264,
          0.8203895420249167,
          0.9324793823477804,
          0.9973328654149852,
          0.8402877697841726,
          0.9364274434111248,
          0.5255834356904721,
          0.8449728022460081,
          0.8369363046148447,
          0.8276188805053518,
          0.887208282154764,
          0.9261975785225478,
          0.7585541323039129,
          0.8778557641691525,
          0.9313388313739251,
          0.9689068257589052,
          0.9942972451307248,
          0.587208282154764,
          0.9609580628180384,
          0.9578698017196,
          0.9625197403053168,
          0.9927531145815056,
          0.9969468327776804,
          0.8750833479557818,
          0.9807159150728196,
          0.9975960694858748,
          0.967362695209686,
          0.995964204246359,
          0.576574837690823,
          0.7483593612914546,
          0.9578873486576592,
          0.9625548341814354,
          0.9947885593963852,
          0.998017195999298,
          0.8963853307597824,
          0.9794525355325496,
          0.9988945429022636,
          0.95736094051588,
          0.9942972451307248,
          0.5666081768731357,
          0.9259168275135988,
          0.9456571328303212,
          0.9511493244428848,
          0.991472188103176,
          0.9933672574135812,
          0.8812774170907177,
          0.9653623442709248,
          0.9952447797859274,
          0.9079838568169856,
          0.9951219512195122,
          0.5542024916652044,
          0.8805755395683453,
          0.8937883839270047,
          0.9054921916125636,
          0.9881909106860852,
          0.9970696613440956,
          0.8467099491138796,
          0.93883137392525,
          0.9984032286366028,
          0.853097034567468,
          0.9372872433760308,
          0.541445867696087,
          0.7807510089489385,
          0.8500087734690296,
          0.8433584839445516,
          0.8787857518862958,
          0.9292858396209862,
          0.7909457799613967,
          0.8845411475697491,
          0.9311282681172136,
          0.9781891559922792,
          0.9954202491665204,
          0.5909808738375153,
          0.9513247938234778,
          0.9736971398490964,
          0.975329005088612,
          0.997385506229163,
          0.9987015265836112,
          0.9038603263730478,
          0.9836988945429024,
          0.9986488857694332,
          0.9758027724162134,
          0.9971223021582734,
          0.5919985962449552,
          0.8831198455869451,
          0.9720652746095806,
          0.9731531847692578,
          0.9984558694507808,
          0.9998596244955256,
          0.8962098613791893,
          0.9875416739778908,
          0.9998069836813476,
          0.964572732058256,
          0.99517459203369,
          0.5680294788559397,
          0.8898052289875417,
          0.9561502017897876,
          0.9620459729777152,
          0.9927706615195648,
          0.9946306369538516,
          0.8819091068608528,
          0.9700298297947008,
          0.996244955255308,
          0.9129671872258291,
          0.9956659062993508,
          0.5725565888752413,
          0.9038252324969294,
          0.902842603965608,
          0.9018950693104052,
          0.9920512370591332,
          0.9987015265836112,
          0.8415862432005615,
          0.9439024390243902,
          0.9991577469731532,
          0.8529742060010528,
          0.939059484120021,
          0.5646078259343744,
          0.7856816985436041,
          0.8570100017546938,
          0.8628004913142657,
          0.8897876820494823,
          0.92842603965608,
          0.8003333918231268,
          0.8768731356378312,
          0.931093174241095,
          0.9746973153184768,
          0.9842077557466222,
          0.5858747148622565,
          0.933830496578347,
          0.9696087032812776,
          0.967713633970872,
          0.995279873662046,
          0.997052114406036,
          0.8983505878224249,
          0.980610633444464,
          0.9968240042112652,
          0.9726618705035972,
          0.9860852781189682,
          0.5883839270047377,
          0.9587646955606246,
          0.9682400421126514,
          0.9684856992454816,
          0.9944727145113178,
          0.9981575715037724,
          0.8804702579399895,
          0.9771187927706616,
          0.9982102123179504,
          0.9610808913844534,
          0.9837866292331988,
          0.5651693279522724,
          0.9613967362695208,
          0.9524477978592736,
          0.9528338304965784,
          0.9885418494472714,
          0.9929285839620986,
          0.8802246008071591,
          0.9579926302860152,
          0.9946130900157922,
          0.9112124934198982,
          0.9841902088085628,
          0.5686260747499561,
          0.8798561151079136,
          0.8990173714686787,
          0.9260572030180734,
          0.9845411475697492,
          0.996595894016494,
          0.8394104228812072,
          0.9278996315143008,
          0.997666257238112,
          0.85634321810844,
          0.9472889980698368,
          0.5706615195648359,
          0.8696087032812774,
          0.8594490261449377,
          0.8350061414283207,
          0.881119494648184,
          0.930303562028426,
          0.8085979996490613,
          0.8870679066502896,
          0.9357255658887524
         ],
         "y0": " ",
         "yaxis": "y"
        }
       ],
       "layout": {
        "boxmode": "group",
        "legend": {
         "tracegroupgap": 0
        },
        "template": {
         "data": {
          "bar": [
           {
            "error_x": {
             "color": "#2a3f5f"
            },
            "error_y": {
             "color": "#2a3f5f"
            },
            "marker": {
             "line": {
              "color": "#E5ECF6",
              "width": 0.5
             },
             "pattern": {
              "fillmode": "overlay",
              "size": 10,
              "solidity": 0.2
             }
            },
            "type": "bar"
           }
          ],
          "barpolar": [
           {
            "marker": {
             "line": {
              "color": "#E5ECF6",
              "width": 0.5
             },
             "pattern": {
              "fillmode": "overlay",
              "size": 10,
              "solidity": 0.2
             }
            },
            "type": "barpolar"
           }
          ],
          "carpet": [
           {
            "aaxis": {
             "endlinecolor": "#2a3f5f",
             "gridcolor": "white",
             "linecolor": "white",
             "minorgridcolor": "white",
             "startlinecolor": "#2a3f5f"
            },
            "baxis": {
             "endlinecolor": "#2a3f5f",
             "gridcolor": "white",
             "linecolor": "white",
             "minorgridcolor": "white",
             "startlinecolor": "#2a3f5f"
            },
            "type": "carpet"
           }
          ],
          "choropleth": [
           {
            "colorbar": {
             "outlinewidth": 0,
             "ticks": ""
            },
            "type": "choropleth"
           }
          ],
          "contour": [
           {
            "colorbar": {
             "outlinewidth": 0,
             "ticks": ""
            },
            "colorscale": [
             [
              0,
              "#0d0887"
             ],
             [
              0.1111111111111111,
              "#46039f"
             ],
             [
              0.2222222222222222,
              "#7201a8"
             ],
             [
              0.3333333333333333,
              "#9c179e"
             ],
             [
              0.4444444444444444,
              "#bd3786"
             ],
             [
              0.5555555555555556,
              "#d8576b"
             ],
             [
              0.6666666666666666,
              "#ed7953"
             ],
             [
              0.7777777777777778,
              "#fb9f3a"
             ],
             [
              0.8888888888888888,
              "#fdca26"
             ],
             [
              1,
              "#f0f921"
             ]
            ],
            "type": "contour"
           }
          ],
          "contourcarpet": [
           {
            "colorbar": {
             "outlinewidth": 0,
             "ticks": ""
            },
            "type": "contourcarpet"
           }
          ],
          "heatmap": [
           {
            "colorbar": {
             "outlinewidth": 0,
             "ticks": ""
            },
            "colorscale": [
             [
              0,
              "#0d0887"
             ],
             [
              0.1111111111111111,
              "#46039f"
             ],
             [
              0.2222222222222222,
              "#7201a8"
             ],
             [
              0.3333333333333333,
              "#9c179e"
             ],
             [
              0.4444444444444444,
              "#bd3786"
             ],
             [
              0.5555555555555556,
              "#d8576b"
             ],
             [
              0.6666666666666666,
              "#ed7953"
             ],
             [
              0.7777777777777778,
              "#fb9f3a"
             ],
             [
              0.8888888888888888,
              "#fdca26"
             ],
             [
              1,
              "#f0f921"
             ]
            ],
            "type": "heatmap"
           }
          ],
          "heatmapgl": [
           {
            "colorbar": {
             "outlinewidth": 0,
             "ticks": ""
            },
            "colorscale": [
             [
              0,
              "#0d0887"
             ],
             [
              0.1111111111111111,
              "#46039f"
             ],
             [
              0.2222222222222222,
              "#7201a8"
             ],
             [
              0.3333333333333333,
              "#9c179e"
             ],
             [
              0.4444444444444444,
              "#bd3786"
             ],
             [
              0.5555555555555556,
              "#d8576b"
             ],
             [
              0.6666666666666666,
              "#ed7953"
             ],
             [
              0.7777777777777778,
              "#fb9f3a"
             ],
             [
              0.8888888888888888,
              "#fdca26"
             ],
             [
              1,
              "#f0f921"
             ]
            ],
            "type": "heatmapgl"
           }
          ],
          "histogram": [
           {
            "marker": {
             "pattern": {
              "fillmode": "overlay",
              "size": 10,
              "solidity": 0.2
             }
            },
            "type": "histogram"
           }
          ],
          "histogram2d": [
           {
            "colorbar": {
             "outlinewidth": 0,
             "ticks": ""
            },
            "colorscale": [
             [
              0,
              "#0d0887"
             ],
             [
              0.1111111111111111,
              "#46039f"
             ],
             [
              0.2222222222222222,
              "#7201a8"
             ],
             [
              0.3333333333333333,
              "#9c179e"
             ],
             [
              0.4444444444444444,
              "#bd3786"
             ],
             [
              0.5555555555555556,
              "#d8576b"
             ],
             [
              0.6666666666666666,
              "#ed7953"
             ],
             [
              0.7777777777777778,
              "#fb9f3a"
             ],
             [
              0.8888888888888888,
              "#fdca26"
             ],
             [
              1,
              "#f0f921"
             ]
            ],
            "type": "histogram2d"
           }
          ],
          "histogram2dcontour": [
           {
            "colorbar": {
             "outlinewidth": 0,
             "ticks": ""
            },
            "colorscale": [
             [
              0,
              "#0d0887"
             ],
             [
              0.1111111111111111,
              "#46039f"
             ],
             [
              0.2222222222222222,
              "#7201a8"
             ],
             [
              0.3333333333333333,
              "#9c179e"
             ],
             [
              0.4444444444444444,
              "#bd3786"
             ],
             [
              0.5555555555555556,
              "#d8576b"
             ],
             [
              0.6666666666666666,
              "#ed7953"
             ],
             [
              0.7777777777777778,
              "#fb9f3a"
             ],
             [
              0.8888888888888888,
              "#fdca26"
             ],
             [
              1,
              "#f0f921"
             ]
            ],
            "type": "histogram2dcontour"
           }
          ],
          "mesh3d": [
           {
            "colorbar": {
             "outlinewidth": 0,
             "ticks": ""
            },
            "type": "mesh3d"
           }
          ],
          "parcoords": [
           {
            "line": {
             "colorbar": {
              "outlinewidth": 0,
              "ticks": ""
             }
            },
            "type": "parcoords"
           }
          ],
          "pie": [
           {
            "automargin": true,
            "type": "pie"
           }
          ],
          "scatter": [
           {
            "fillpattern": {
             "fillmode": "overlay",
             "size": 10,
             "solidity": 0.2
            },
            "type": "scatter"
           }
          ],
          "scatter3d": [
           {
            "line": {
             "colorbar": {
              "outlinewidth": 0,
              "ticks": ""
             }
            },
            "marker": {
             "colorbar": {
              "outlinewidth": 0,
              "ticks": ""
             }
            },
            "type": "scatter3d"
           }
          ],
          "scattercarpet": [
           {
            "marker": {
             "colorbar": {
              "outlinewidth": 0,
              "ticks": ""
             }
            },
            "type": "scattercarpet"
           }
          ],
          "scattergeo": [
           {
            "marker": {
             "colorbar": {
              "outlinewidth": 0,
              "ticks": ""
             }
            },
            "type": "scattergeo"
           }
          ],
          "scattergl": [
           {
            "marker": {
             "colorbar": {
              "outlinewidth": 0,
              "ticks": ""
             }
            },
            "type": "scattergl"
           }
          ],
          "scattermapbox": [
           {
            "marker": {
             "colorbar": {
              "outlinewidth": 0,
              "ticks": ""
             }
            },
            "type": "scattermapbox"
           }
          ],
          "scatterpolar": [
           {
            "marker": {
             "colorbar": {
              "outlinewidth": 0,
              "ticks": ""
             }
            },
            "type": "scatterpolar"
           }
          ],
          "scatterpolargl": [
           {
            "marker": {
             "colorbar": {
              "outlinewidth": 0,
              "ticks": ""
             }
            },
            "type": "scatterpolargl"
           }
          ],
          "scatterternary": [
           {
            "marker": {
             "colorbar": {
              "outlinewidth": 0,
              "ticks": ""
             }
            },
            "type": "scatterternary"
           }
          ],
          "surface": [
           {
            "colorbar": {
             "outlinewidth": 0,
             "ticks": ""
            },
            "colorscale": [
             [
              0,
              "#0d0887"
             ],
             [
              0.1111111111111111,
              "#46039f"
             ],
             [
              0.2222222222222222,
              "#7201a8"
             ],
             [
              0.3333333333333333,
              "#9c179e"
             ],
             [
              0.4444444444444444,
              "#bd3786"
             ],
             [
              0.5555555555555556,
              "#d8576b"
             ],
             [
              0.6666666666666666,
              "#ed7953"
             ],
             [
              0.7777777777777778,
              "#fb9f3a"
             ],
             [
              0.8888888888888888,
              "#fdca26"
             ],
             [
              1,
              "#f0f921"
             ]
            ],
            "type": "surface"
           }
          ],
          "table": [
           {
            "cells": {
             "fill": {
              "color": "#EBF0F8"
             },
             "line": {
              "color": "white"
             }
            },
            "header": {
             "fill": {
              "color": "#C8D4E3"
             },
             "line": {
              "color": "white"
             }
            },
            "type": "table"
           }
          ]
         },
         "layout": {
          "annotationdefaults": {
           "arrowcolor": "#2a3f5f",
           "arrowhead": 0,
           "arrowwidth": 1
          },
          "autotypenumbers": "strict",
          "coloraxis": {
           "colorbar": {
            "outlinewidth": 0,
            "ticks": ""
           }
          },
          "colorscale": {
           "diverging": [
            [
             0,
             "#8e0152"
            ],
            [
             0.1,
             "#c51b7d"
            ],
            [
             0.2,
             "#de77ae"
            ],
            [
             0.3,
             "#f1b6da"
            ],
            [
             0.4,
             "#fde0ef"
            ],
            [
             0.5,
             "#f7f7f7"
            ],
            [
             0.6,
             "#e6f5d0"
            ],
            [
             0.7,
             "#b8e186"
            ],
            [
             0.8,
             "#7fbc41"
            ],
            [
             0.9,
             "#4d9221"
            ],
            [
             1,
             "#276419"
            ]
           ],
           "sequential": [
            [
             0,
             "#0d0887"
            ],
            [
             0.1111111111111111,
             "#46039f"
            ],
            [
             0.2222222222222222,
             "#7201a8"
            ],
            [
             0.3333333333333333,
             "#9c179e"
            ],
            [
             0.4444444444444444,
             "#bd3786"
            ],
            [
             0.5555555555555556,
             "#d8576b"
            ],
            [
             0.6666666666666666,
             "#ed7953"
            ],
            [
             0.7777777777777778,
             "#fb9f3a"
            ],
            [
             0.8888888888888888,
             "#fdca26"
            ],
            [
             1,
             "#f0f921"
            ]
           ],
           "sequentialminus": [
            [
             0,
             "#0d0887"
            ],
            [
             0.1111111111111111,
             "#46039f"
            ],
            [
             0.2222222222222222,
             "#7201a8"
            ],
            [
             0.3333333333333333,
             "#9c179e"
            ],
            [
             0.4444444444444444,
             "#bd3786"
            ],
            [
             0.5555555555555556,
             "#d8576b"
            ],
            [
             0.6666666666666666,
             "#ed7953"
            ],
            [
             0.7777777777777778,
             "#fb9f3a"
            ],
            [
             0.8888888888888888,
             "#fdca26"
            ],
            [
             1,
             "#f0f921"
            ]
           ]
          },
          "colorway": [
           "#636efa",
           "#EF553B",
           "#00cc96",
           "#ab63fa",
           "#FFA15A",
           "#19d3f3",
           "#FF6692",
           "#B6E880",
           "#FF97FF",
           "#FECB52"
          ],
          "font": {
           "color": "#2a3f5f"
          },
          "geo": {
           "bgcolor": "white",
           "lakecolor": "white",
           "landcolor": "#E5ECF6",
           "showlakes": true,
           "showland": true,
           "subunitcolor": "white"
          },
          "hoverlabel": {
           "align": "left"
          },
          "hovermode": "closest",
          "mapbox": {
           "style": "light"
          },
          "paper_bgcolor": "white",
          "plot_bgcolor": "#E5ECF6",
          "polar": {
           "angularaxis": {
            "gridcolor": "white",
            "linecolor": "white",
            "ticks": ""
           },
           "bgcolor": "#E5ECF6",
           "radialaxis": {
            "gridcolor": "white",
            "linecolor": "white",
            "ticks": ""
           }
          },
          "scene": {
           "xaxis": {
            "backgroundcolor": "#E5ECF6",
            "gridcolor": "white",
            "gridwidth": 2,
            "linecolor": "white",
            "showbackground": true,
            "ticks": "",
            "zerolinecolor": "white"
           },
           "yaxis": {
            "backgroundcolor": "#E5ECF6",
            "gridcolor": "white",
            "gridwidth": 2,
            "linecolor": "white",
            "showbackground": true,
            "ticks": "",
            "zerolinecolor": "white"
           },
           "zaxis": {
            "backgroundcolor": "#E5ECF6",
            "gridcolor": "white",
            "gridwidth": 2,
            "linecolor": "white",
            "showbackground": true,
            "ticks": "",
            "zerolinecolor": "white"
           }
          },
          "shapedefaults": {
           "line": {
            "color": "#2a3f5f"
           }
          },
          "ternary": {
           "aaxis": {
            "gridcolor": "white",
            "linecolor": "white",
            "ticks": ""
           },
           "baxis": {
            "gridcolor": "white",
            "linecolor": "white",
            "ticks": ""
           },
           "bgcolor": "#E5ECF6",
           "caxis": {
            "gridcolor": "white",
            "linecolor": "white",
            "ticks": ""
           }
          },
          "title": {
           "x": 0.05
          },
          "xaxis": {
           "automargin": true,
           "gridcolor": "white",
           "linecolor": "white",
           "ticks": "",
           "title": {
            "standoff": 15
           },
           "zerolinecolor": "white",
           "zerolinewidth": 2
          },
          "yaxis": {
           "automargin": true,
           "gridcolor": "white",
           "linecolor": "white",
           "ticks": "",
           "title": {
            "standoff": 15
           },
           "zerolinecolor": "white",
           "zerolinewidth": 2
          }
         }
        },
        "title": {
         "text": "Boxplot da Acurácia Balanceada do classificador Sim 0"
        },
        "xaxis": {
         "anchor": "y",
         "domain": [
          0,
          1
         ],
         "title": {
          "text": "Nome"
         }
        },
        "yaxis": {
         "anchor": "x",
         "domain": [
          0,
          1
         ],
         "range": [
          0,
          1
         ],
         "title": {
          "text": "Acurácia Balanceada"
         }
        }
       }
      }
     },
     "metadata": {},
     "output_type": "display_data"
    },
    {
     "data": {
      "application/vnd.plotly.v1+json": {
       "config": {
        "plotlyServerURL": "https://plot.ly"
       },
       "data": [
        {
         "alignmentgroup": "True",
         "boxpoints": "all",
         "hovertemplate": "Nome=%{x}<br>Acurácia Balanceada=%{y}<extra></extra>",
         "legendgroup": "",
         "marker": {
          "color": "rgb(153,153,153)"
         },
         "name": "",
         "notched": false,
         "offsetgroup": "",
         "orientation": "v",
         "showlegend": false,
         "type": "box",
         "x": [
          "logreg",
          "KNN",
          "GaussianNB",
          "Perceptron",
          "LinearSVC",
          "SGD",
          "Dtree",
          "RForest",
          "ADA",
          "GBC",
          "ETC",
          "logreg",
          "KNN",
          "GaussianNB",
          "Perceptron",
          "LinearSVC",
          "SGD",
          "Dtree",
          "RForest",
          "ADA",
          "GBC",
          "ETC",
          "logreg",
          "KNN",
          "GaussianNB",
          "Perceptron",
          "LinearSVC",
          "SGD",
          "Dtree",
          "RForest",
          "ADA",
          "GBC",
          "ETC",
          "logreg",
          "KNN",
          "GaussianNB",
          "Perceptron",
          "LinearSVC",
          "SGD",
          "Dtree",
          "RForest",
          "ADA",
          "GBC",
          "ETC",
          "logreg",
          "KNN",
          "GaussianNB",
          "Perceptron",
          "LinearSVC",
          "SGD",
          "Dtree",
          "RForest",
          "ADA",
          "GBC",
          "ETC",
          "logreg",
          "KNN",
          "GaussianNB",
          "Perceptron",
          "LinearSVC",
          "SGD",
          "Dtree",
          "RForest",
          "ADA",
          "GBC",
          "ETC",
          "logreg",
          "KNN",
          "GaussianNB",
          "Perceptron",
          "LinearSVC",
          "SGD",
          "Dtree",
          "RForest",
          "ADA",
          "GBC",
          "ETC",
          "logreg",
          "KNN",
          "GaussianNB",
          "Perceptron",
          "LinearSVC",
          "SGD",
          "Dtree",
          "RForest",
          "ADA",
          "GBC",
          "ETC",
          "logreg",
          "KNN",
          "GaussianNB",
          "Perceptron",
          "LinearSVC",
          "SGD",
          "Dtree",
          "RForest",
          "ADA",
          "GBC",
          "ETC",
          "logreg",
          "KNN",
          "GaussianNB",
          "Perceptron",
          "LinearSVC",
          "SGD",
          "Dtree",
          "RForest",
          "ADA",
          "GBC",
          "ETC",
          "logreg",
          "KNN",
          "GaussianNB",
          "Perceptron",
          "LinearSVC",
          "SGD",
          "Dtree",
          "RForest",
          "ADA",
          "GBC",
          "ETC",
          "logreg",
          "KNN",
          "GaussianNB",
          "Perceptron",
          "LinearSVC",
          "SGD",
          "Dtree",
          "RForest",
          "ADA",
          "GBC",
          "ETC",
          "logreg",
          "KNN",
          "GaussianNB",
          "Perceptron",
          "LinearSVC",
          "SGD",
          "Dtree",
          "RForest",
          "ADA",
          "GBC",
          "ETC",
          "logreg",
          "KNN",
          "GaussianNB",
          "Perceptron",
          "LinearSVC",
          "SGD",
          "Dtree",
          "RForest",
          "ADA",
          "GBC",
          "ETC",
          "logreg",
          "KNN",
          "GaussianNB",
          "Perceptron",
          "LinearSVC",
          "SGD",
          "Dtree",
          "RForest",
          "ADA",
          "GBC",
          "ETC",
          "logreg",
          "KNN",
          "GaussianNB",
          "Perceptron",
          "LinearSVC",
          "SGD",
          "Dtree",
          "RForest",
          "ADA",
          "GBC",
          "ETC",
          "logreg",
          "KNN",
          "GaussianNB",
          "Perceptron",
          "LinearSVC",
          "SGD",
          "Dtree",
          "RForest",
          "ADA",
          "GBC",
          "ETC",
          "logreg",
          "KNN",
          "GaussianNB",
          "Perceptron",
          "LinearSVC",
          "SGD",
          "Dtree",
          "RForest",
          "ADA",
          "GBC",
          "ETC",
          "logreg",
          "KNN",
          "GaussianNB",
          "Perceptron",
          "LinearSVC",
          "SGD",
          "Dtree",
          "RForest",
          "ADA",
          "GBC",
          "ETC",
          "logreg",
          "KNN",
          "GaussianNB",
          "Perceptron",
          "LinearSVC",
          "SGD",
          "Dtree",
          "RForest",
          "ADA",
          "GBC",
          "ETC",
          "logreg",
          "KNN",
          "GaussianNB",
          "Perceptron",
          "LinearSVC",
          "SGD",
          "Dtree",
          "RForest",
          "ADA",
          "GBC",
          "ETC",
          "logreg",
          "KNN",
          "GaussianNB",
          "Perceptron",
          "LinearSVC",
          "SGD",
          "Dtree",
          "RForest",
          "ADA",
          "GBC",
          "ETC",
          "logreg",
          "KNN",
          "GaussianNB",
          "Perceptron",
          "LinearSVC",
          "SGD",
          "Dtree",
          "RForest",
          "ADA",
          "GBC",
          "ETC",
          "logreg",
          "KNN",
          "GaussianNB",
          "Perceptron",
          "LinearSVC",
          "SGD",
          "Dtree",
          "RForest",
          "ADA",
          "GBC",
          "ETC",
          "logreg",
          "KNN",
          "GaussianNB",
          "Perceptron",
          "LinearSVC",
          "SGD",
          "Dtree",
          "RForest",
          "ADA",
          "GBC",
          "ETC"
         ],
         "x0": " ",
         "xaxis": "x",
         "y": [
          0.6843305843130374,
          0.9079312160028076,
          0.5483944551675732,
          0.6502368836638006,
          0.6754167397789086,
          0.7160554483242674,
          0.8698894542902265,
          0.9055448324267414,
          0.7515353570801895,
          0.7996139673626952,
          0.933146165994034,
          0.6583611159852606,
          0.9091945955430778,
          0.5431830145639587,
          0.5394104228812072,
          0.6502368836638006,
          0.7110370240393051,
          0.8660291279171785,
          0.9048955957185472,
          0.7611861730128093,
          0.8003684856992455,
          0.9350587822424988,
          0.6402877697841727,
          0.911370415862432,
          0.5297245130724688,
          0.6721354623618179,
          0.6330584313037375,
          0.6882084576241446,
          0.8669766625723812,
          0.9038427794349886,
          0.740533426917003,
          0.7977539919284085,
          0.9363221617827688,
          0.5959466573082997,
          0.916774872784699,
          0.523425162309177,
          0.5349359536760835,
          0.5918231268643621,
          0.6144586769608704,
          0.8674153360238639,
          0.911598526057203,
          0.7076329180557992,
          0.77918933146166,
          0.9365853658536584,
          0.5361115985260572,
          0.9267415336023864,
          0.5151605544832427,
          0.5204948236532725,
          0.5312510966836287,
          0.5789261273907703,
          0.8409545534304264,
          0.9167397789085804,
          0.676978417266187,
          0.7489208633093525,
          0.9559220915950166,
          0.7133005790489559,
          0.985839620986138,
          0.5575013160203545,
          0.5754518336550272,
          0.7018599754342867,
          0.7309703456746798,
          0.9870679066502897,
          0.9943849798210213,
          0.8185646604667485,
          0.8977188980522899,
          0.9958589226180032,
          0.6834707843481312,
          0.9870328127741708,
          0.5542726794174416,
          0.5689243726969644,
          0.673504123530444,
          0.7111773995437796,
          0.9888927882084576,
          0.9956483593612916,
          0.8286190559747324,
          0.8947008247060888,
          0.9966309878926128,
          0.658273381294964,
          0.9855939638533076,
          0.5387787331110722,
          0.5395332514476223,
          0.6505527285488681,
          0.70380768555887,
          0.98248815581681,
          0.990735216704685,
          0.814265660642218,
          0.8807685558869978,
          0.995455343042639,
          0.6157571503772592,
          0.9852079312160028,
          0.5349008597999649,
          0.5416915248289174,
          0.6112651342340762,
          0.6980171959992981,
          0.981926653798912,
          0.9936480084225304,
          0.7619582382874188,
          0.8626776627478505,
          0.9955957185471136,
          0.5597648710300053,
          0.918476925776452,
          0.5294262151254606,
          0.5470608878750658,
          0.5545709773644499,
          0.6098964730654501,
          0.8707317073170733,
          0.9176346727496052,
          0.7265660642217933,
          0.8245657132830321,
          0.9290226355500966,
          0.7118617301280926,
          0.9941744165643096,
          0.5886120371995087,
          0.5321986313388314,
          0.7025618529566591,
          0.7572732058255834,
          0.9906474820143883,
          0.9967362695209686,
          0.8679066502895245,
          0.926039656080014,
          0.997841726618705,
          0.6738550622916302,
          0.995227232847868,
          0.5824004211265135,
          0.5930514125285138,
          0.6658361115985261,
          0.7001930163186524,
          0.9942446043165468,
          0.9978592735567644,
          0.8656255483418144,
          0.924320056150202,
          0.9987190735216704,
          0.6610633444463941,
          0.992788208457624,
          0.5692577645200912,
          0.5594139322688191,
          0.6551851201965257,
          0.7309527987366204,
          0.9879101596771364,
          0.9931391472188102,
          0.8497631163361994,
          0.911879277066152,
          0.9975434286716968,
          0.6122653097034567,
          0.99010352693455,
          0.5615020178978768,
          0.5683102298648885,
          0.6083874363923496,
          0.6263555009650816,
          0.9834707843481312,
          0.995227232847868,
          0.8135111423056676,
          0.8807685558869978,
          0.9970170205299176,
          0.5314616599403404,
          0.9173012809264784,
          0.5520617652219688,
          0.5830145639585892,
          0.5276364274434111,
          0.5992454816634498,
          0.8735918582207405,
          0.917669766625724,
          0.7656080014037551,
          0.8358133005790489,
          0.9268468152307424,
          0.7383400596595894,
          0.9956483593612916,
          0.5982628531321283,
          0.5140024565713284,
          0.7296367783821723,
          0.7039480610633444,
          0.9906650289524478,
          0.9980347429373576,
          0.8970696613440954,
          0.9326723986664328,
          0.9983856816985436,
          0.7002632040708896,
          0.99670117564485,
          0.5959817511844183,
          0.5688366380066678,
          0.6938410247411826,
          0.6880329882435515,
          0.9944902614493772,
          0.9993507632918056,
          0.8692051237059133,
          0.9250570275486928,
          0.9993858571679242,
          0.6812774170907177,
          0.9941042288120724,
          0.578118968240042,
          0.5956659062993508,
          0.6762238989296367,
          0.6569749078785752,
          0.9891910861554658,
          0.9941042288120724,
          0.8639761361642393,
          0.9079487629408668,
          0.9978066327425864,
          0.633830496578347,
          0.9908229513949816,
          0.5757150377259168,
          0.6450605369363046,
          0.6301982804000702,
          0.65736094051588,
          0.9842077557466222,
          0.996420424635901,
          0.8090015792244254,
          0.8830847517108265,
          0.9975083347955782,
          0.5623969117389016,
          0.916722231970521,
          0.5702579399894718,
          0.6259694683277768,
          0.5578522547815405,
          0.6015792244253377,
          0.8715564134058607,
          0.916652044218284,
          0.7828741884541148,
          0.8367959291103703,
          0.9282330233374276,
          0.7601333567292508,
          0.9775399192840848,
          0.5973679592911038,
          0.5753991928408493,
          0.7477101245832602,
          0.7814353395332514,
          0.981242323214599,
          0.9881558168099668,
          0.8952447797859273,
          0.9305492191612564,
          0.9886997718898052,
          0.7154939463063695,
          0.9788383927004738,
          0.5971223021582734,
          0.5537462712756624,
          0.7067555711528338,
          0.7000701877522373,
          0.982260045622039,
          0.9899631514300756,
          0.8926478329531498,
          0.9215827338129496,
          0.9902088085629056,
          0.6887524127039832,
          0.9760835234251624,
          0.5777680294788559,
          0.490507106509914,
          0.6848394455167574,
          0.6886646780136867,
          0.9765397438147044,
          0.9840147394279698,
          0.8495350061414284,
          0.90557992630286,
          0.9876469556062468,
          0.6466222144235831,
          0.9728022460080716,
          0.5772942621512546,
          0.5462888226004562,
          0.6442533777855763,
          0.6851026495876469,
          0.9711879277066152,
          0.9864362168801544,
          0.8184418319003334,
          0.8725916827513599,
          0.9879277066151956,
          0.6015792244253377,
          0.919266537989121,
          0.5754693805930865,
          0.7207053869099842,
          0.5964028776978417,
          0.6041937181961747,
          0.8656957360940516,
          0.9204421828390944,
          0.794595543077733,
          0.8464116511668713,
          0.9301105457097736
         ],
         "y0": " ",
         "yaxis": "y"
        }
       ],
       "layout": {
        "boxmode": "group",
        "legend": {
         "tracegroupgap": 0
        },
        "template": {
         "data": {
          "bar": [
           {
            "error_x": {
             "color": "#2a3f5f"
            },
            "error_y": {
             "color": "#2a3f5f"
            },
            "marker": {
             "line": {
              "color": "#E5ECF6",
              "width": 0.5
             },
             "pattern": {
              "fillmode": "overlay",
              "size": 10,
              "solidity": 0.2
             }
            },
            "type": "bar"
           }
          ],
          "barpolar": [
           {
            "marker": {
             "line": {
              "color": "#E5ECF6",
              "width": 0.5
             },
             "pattern": {
              "fillmode": "overlay",
              "size": 10,
              "solidity": 0.2
             }
            },
            "type": "barpolar"
           }
          ],
          "carpet": [
           {
            "aaxis": {
             "endlinecolor": "#2a3f5f",
             "gridcolor": "white",
             "linecolor": "white",
             "minorgridcolor": "white",
             "startlinecolor": "#2a3f5f"
            },
            "baxis": {
             "endlinecolor": "#2a3f5f",
             "gridcolor": "white",
             "linecolor": "white",
             "minorgridcolor": "white",
             "startlinecolor": "#2a3f5f"
            },
            "type": "carpet"
           }
          ],
          "choropleth": [
           {
            "colorbar": {
             "outlinewidth": 0,
             "ticks": ""
            },
            "type": "choropleth"
           }
          ],
          "contour": [
           {
            "colorbar": {
             "outlinewidth": 0,
             "ticks": ""
            },
            "colorscale": [
             [
              0,
              "#0d0887"
             ],
             [
              0.1111111111111111,
              "#46039f"
             ],
             [
              0.2222222222222222,
              "#7201a8"
             ],
             [
              0.3333333333333333,
              "#9c179e"
             ],
             [
              0.4444444444444444,
              "#bd3786"
             ],
             [
              0.5555555555555556,
              "#d8576b"
             ],
             [
              0.6666666666666666,
              "#ed7953"
             ],
             [
              0.7777777777777778,
              "#fb9f3a"
             ],
             [
              0.8888888888888888,
              "#fdca26"
             ],
             [
              1,
              "#f0f921"
             ]
            ],
            "type": "contour"
           }
          ],
          "contourcarpet": [
           {
            "colorbar": {
             "outlinewidth": 0,
             "ticks": ""
            },
            "type": "contourcarpet"
           }
          ],
          "heatmap": [
           {
            "colorbar": {
             "outlinewidth": 0,
             "ticks": ""
            },
            "colorscale": [
             [
              0,
              "#0d0887"
             ],
             [
              0.1111111111111111,
              "#46039f"
             ],
             [
              0.2222222222222222,
              "#7201a8"
             ],
             [
              0.3333333333333333,
              "#9c179e"
             ],
             [
              0.4444444444444444,
              "#bd3786"
             ],
             [
              0.5555555555555556,
              "#d8576b"
             ],
             [
              0.6666666666666666,
              "#ed7953"
             ],
             [
              0.7777777777777778,
              "#fb9f3a"
             ],
             [
              0.8888888888888888,
              "#fdca26"
             ],
             [
              1,
              "#f0f921"
             ]
            ],
            "type": "heatmap"
           }
          ],
          "heatmapgl": [
           {
            "colorbar": {
             "outlinewidth": 0,
             "ticks": ""
            },
            "colorscale": [
             [
              0,
              "#0d0887"
             ],
             [
              0.1111111111111111,
              "#46039f"
             ],
             [
              0.2222222222222222,
              "#7201a8"
             ],
             [
              0.3333333333333333,
              "#9c179e"
             ],
             [
              0.4444444444444444,
              "#bd3786"
             ],
             [
              0.5555555555555556,
              "#d8576b"
             ],
             [
              0.6666666666666666,
              "#ed7953"
             ],
             [
              0.7777777777777778,
              "#fb9f3a"
             ],
             [
              0.8888888888888888,
              "#fdca26"
             ],
             [
              1,
              "#f0f921"
             ]
            ],
            "type": "heatmapgl"
           }
          ],
          "histogram": [
           {
            "marker": {
             "pattern": {
              "fillmode": "overlay",
              "size": 10,
              "solidity": 0.2
             }
            },
            "type": "histogram"
           }
          ],
          "histogram2d": [
           {
            "colorbar": {
             "outlinewidth": 0,
             "ticks": ""
            },
            "colorscale": [
             [
              0,
              "#0d0887"
             ],
             [
              0.1111111111111111,
              "#46039f"
             ],
             [
              0.2222222222222222,
              "#7201a8"
             ],
             [
              0.3333333333333333,
              "#9c179e"
             ],
             [
              0.4444444444444444,
              "#bd3786"
             ],
             [
              0.5555555555555556,
              "#d8576b"
             ],
             [
              0.6666666666666666,
              "#ed7953"
             ],
             [
              0.7777777777777778,
              "#fb9f3a"
             ],
             [
              0.8888888888888888,
              "#fdca26"
             ],
             [
              1,
              "#f0f921"
             ]
            ],
            "type": "histogram2d"
           }
          ],
          "histogram2dcontour": [
           {
            "colorbar": {
             "outlinewidth": 0,
             "ticks": ""
            },
            "colorscale": [
             [
              0,
              "#0d0887"
             ],
             [
              0.1111111111111111,
              "#46039f"
             ],
             [
              0.2222222222222222,
              "#7201a8"
             ],
             [
              0.3333333333333333,
              "#9c179e"
             ],
             [
              0.4444444444444444,
              "#bd3786"
             ],
             [
              0.5555555555555556,
              "#d8576b"
             ],
             [
              0.6666666666666666,
              "#ed7953"
             ],
             [
              0.7777777777777778,
              "#fb9f3a"
             ],
             [
              0.8888888888888888,
              "#fdca26"
             ],
             [
              1,
              "#f0f921"
             ]
            ],
            "type": "histogram2dcontour"
           }
          ],
          "mesh3d": [
           {
            "colorbar": {
             "outlinewidth": 0,
             "ticks": ""
            },
            "type": "mesh3d"
           }
          ],
          "parcoords": [
           {
            "line": {
             "colorbar": {
              "outlinewidth": 0,
              "ticks": ""
             }
            },
            "type": "parcoords"
           }
          ],
          "pie": [
           {
            "automargin": true,
            "type": "pie"
           }
          ],
          "scatter": [
           {
            "fillpattern": {
             "fillmode": "overlay",
             "size": 10,
             "solidity": 0.2
            },
            "type": "scatter"
           }
          ],
          "scatter3d": [
           {
            "line": {
             "colorbar": {
              "outlinewidth": 0,
              "ticks": ""
             }
            },
            "marker": {
             "colorbar": {
              "outlinewidth": 0,
              "ticks": ""
             }
            },
            "type": "scatter3d"
           }
          ],
          "scattercarpet": [
           {
            "marker": {
             "colorbar": {
              "outlinewidth": 0,
              "ticks": ""
             }
            },
            "type": "scattercarpet"
           }
          ],
          "scattergeo": [
           {
            "marker": {
             "colorbar": {
              "outlinewidth": 0,
              "ticks": ""
             }
            },
            "type": "scattergeo"
           }
          ],
          "scattergl": [
           {
            "marker": {
             "colorbar": {
              "outlinewidth": 0,
              "ticks": ""
             }
            },
            "type": "scattergl"
           }
          ],
          "scattermapbox": [
           {
            "marker": {
             "colorbar": {
              "outlinewidth": 0,
              "ticks": ""
             }
            },
            "type": "scattermapbox"
           }
          ],
          "scatterpolar": [
           {
            "marker": {
             "colorbar": {
              "outlinewidth": 0,
              "ticks": ""
             }
            },
            "type": "scatterpolar"
           }
          ],
          "scatterpolargl": [
           {
            "marker": {
             "colorbar": {
              "outlinewidth": 0,
              "ticks": ""
             }
            },
            "type": "scatterpolargl"
           }
          ],
          "scatterternary": [
           {
            "marker": {
             "colorbar": {
              "outlinewidth": 0,
              "ticks": ""
             }
            },
            "type": "scatterternary"
           }
          ],
          "surface": [
           {
            "colorbar": {
             "outlinewidth": 0,
             "ticks": ""
            },
            "colorscale": [
             [
              0,
              "#0d0887"
             ],
             [
              0.1111111111111111,
              "#46039f"
             ],
             [
              0.2222222222222222,
              "#7201a8"
             ],
             [
              0.3333333333333333,
              "#9c179e"
             ],
             [
              0.4444444444444444,
              "#bd3786"
             ],
             [
              0.5555555555555556,
              "#d8576b"
             ],
             [
              0.6666666666666666,
              "#ed7953"
             ],
             [
              0.7777777777777778,
              "#fb9f3a"
             ],
             [
              0.8888888888888888,
              "#fdca26"
             ],
             [
              1,
              "#f0f921"
             ]
            ],
            "type": "surface"
           }
          ],
          "table": [
           {
            "cells": {
             "fill": {
              "color": "#EBF0F8"
             },
             "line": {
              "color": "white"
             }
            },
            "header": {
             "fill": {
              "color": "#C8D4E3"
             },
             "line": {
              "color": "white"
             }
            },
            "type": "table"
           }
          ]
         },
         "layout": {
          "annotationdefaults": {
           "arrowcolor": "#2a3f5f",
           "arrowhead": 0,
           "arrowwidth": 1
          },
          "autotypenumbers": "strict",
          "coloraxis": {
           "colorbar": {
            "outlinewidth": 0,
            "ticks": ""
           }
          },
          "colorscale": {
           "diverging": [
            [
             0,
             "#8e0152"
            ],
            [
             0.1,
             "#c51b7d"
            ],
            [
             0.2,
             "#de77ae"
            ],
            [
             0.3,
             "#f1b6da"
            ],
            [
             0.4,
             "#fde0ef"
            ],
            [
             0.5,
             "#f7f7f7"
            ],
            [
             0.6,
             "#e6f5d0"
            ],
            [
             0.7,
             "#b8e186"
            ],
            [
             0.8,
             "#7fbc41"
            ],
            [
             0.9,
             "#4d9221"
            ],
            [
             1,
             "#276419"
            ]
           ],
           "sequential": [
            [
             0,
             "#0d0887"
            ],
            [
             0.1111111111111111,
             "#46039f"
            ],
            [
             0.2222222222222222,
             "#7201a8"
            ],
            [
             0.3333333333333333,
             "#9c179e"
            ],
            [
             0.4444444444444444,
             "#bd3786"
            ],
            [
             0.5555555555555556,
             "#d8576b"
            ],
            [
             0.6666666666666666,
             "#ed7953"
            ],
            [
             0.7777777777777778,
             "#fb9f3a"
            ],
            [
             0.8888888888888888,
             "#fdca26"
            ],
            [
             1,
             "#f0f921"
            ]
           ],
           "sequentialminus": [
            [
             0,
             "#0d0887"
            ],
            [
             0.1111111111111111,
             "#46039f"
            ],
            [
             0.2222222222222222,
             "#7201a8"
            ],
            [
             0.3333333333333333,
             "#9c179e"
            ],
            [
             0.4444444444444444,
             "#bd3786"
            ],
            [
             0.5555555555555556,
             "#d8576b"
            ],
            [
             0.6666666666666666,
             "#ed7953"
            ],
            [
             0.7777777777777778,
             "#fb9f3a"
            ],
            [
             0.8888888888888888,
             "#fdca26"
            ],
            [
             1,
             "#f0f921"
            ]
           ]
          },
          "colorway": [
           "#636efa",
           "#EF553B",
           "#00cc96",
           "#ab63fa",
           "#FFA15A",
           "#19d3f3",
           "#FF6692",
           "#B6E880",
           "#FF97FF",
           "#FECB52"
          ],
          "font": {
           "color": "#2a3f5f"
          },
          "geo": {
           "bgcolor": "white",
           "lakecolor": "white",
           "landcolor": "#E5ECF6",
           "showlakes": true,
           "showland": true,
           "subunitcolor": "white"
          },
          "hoverlabel": {
           "align": "left"
          },
          "hovermode": "closest",
          "mapbox": {
           "style": "light"
          },
          "paper_bgcolor": "white",
          "plot_bgcolor": "#E5ECF6",
          "polar": {
           "angularaxis": {
            "gridcolor": "white",
            "linecolor": "white",
            "ticks": ""
           },
           "bgcolor": "#E5ECF6",
           "radialaxis": {
            "gridcolor": "white",
            "linecolor": "white",
            "ticks": ""
           }
          },
          "scene": {
           "xaxis": {
            "backgroundcolor": "#E5ECF6",
            "gridcolor": "white",
            "gridwidth": 2,
            "linecolor": "white",
            "showbackground": true,
            "ticks": "",
            "zerolinecolor": "white"
           },
           "yaxis": {
            "backgroundcolor": "#E5ECF6",
            "gridcolor": "white",
            "gridwidth": 2,
            "linecolor": "white",
            "showbackground": true,
            "ticks": "",
            "zerolinecolor": "white"
           },
           "zaxis": {
            "backgroundcolor": "#E5ECF6",
            "gridcolor": "white",
            "gridwidth": 2,
            "linecolor": "white",
            "showbackground": true,
            "ticks": "",
            "zerolinecolor": "white"
           }
          },
          "shapedefaults": {
           "line": {
            "color": "#2a3f5f"
           }
          },
          "ternary": {
           "aaxis": {
            "gridcolor": "white",
            "linecolor": "white",
            "ticks": ""
           },
           "baxis": {
            "gridcolor": "white",
            "linecolor": "white",
            "ticks": ""
           },
           "bgcolor": "#E5ECF6",
           "caxis": {
            "gridcolor": "white",
            "linecolor": "white",
            "ticks": ""
           }
          },
          "title": {
           "x": 0.05
          },
          "xaxis": {
           "automargin": true,
           "gridcolor": "white",
           "linecolor": "white",
           "ticks": "",
           "title": {
            "standoff": 15
           },
           "zerolinecolor": "white",
           "zerolinewidth": 2
          },
          "yaxis": {
           "automargin": true,
           "gridcolor": "white",
           "linecolor": "white",
           "ticks": "",
           "title": {
            "standoff": 15
           },
           "zerolinecolor": "white",
           "zerolinewidth": 2
          }
         }
        },
        "title": {
         "text": "Boxplot da Acurácia Balanceada do classificador Real sem features de temperatura"
        },
        "xaxis": {
         "anchor": "y",
         "domain": [
          0,
          1
         ],
         "title": {
          "text": "Nome"
         }
        },
        "yaxis": {
         "anchor": "x",
         "domain": [
          0,
          1
         ],
         "range": [
          0,
          1
         ],
         "title": {
          "text": "Acurácia Balanceada"
         }
        }
       }
      }
     },
     "metadata": {},
     "output_type": "display_data"
    },
    {
     "data": {
      "application/vnd.plotly.v1+json": {
       "config": {
        "plotlyServerURL": "https://plot.ly"
       },
       "data": [
        {
         "alignmentgroup": "True",
         "boxpoints": "all",
         "hovertemplate": "Nome=%{x}<br>Acurácia Balanceada=%{y}<extra></extra>",
         "legendgroup": "",
         "marker": {
          "color": "#636efa"
         },
         "name": "",
         "notched": false,
         "offsetgroup": "",
         "orientation": "v",
         "showlegend": false,
         "type": "box",
         "x": [
          "logreg",
          "KNN",
          "GaussianNB",
          "Perceptron",
          "LinearSVC",
          "SGD",
          "Dtree",
          "RForest",
          "ADA",
          "GBC",
          "ETC",
          "logreg",
          "KNN",
          "GaussianNB",
          "Perceptron",
          "LinearSVC",
          "SGD",
          "Dtree",
          "RForest",
          "ADA",
          "GBC",
          "ETC",
          "logreg",
          "KNN",
          "GaussianNB",
          "Perceptron",
          "LinearSVC",
          "SGD",
          "Dtree",
          "RForest",
          "ADA",
          "GBC",
          "ETC",
          "logreg",
          "KNN",
          "GaussianNB",
          "Perceptron",
          "LinearSVC",
          "SGD",
          "Dtree",
          "RForest",
          "ADA",
          "GBC",
          "ETC",
          "logreg",
          "KNN",
          "GaussianNB",
          "Perceptron",
          "LinearSVC",
          "SGD",
          "Dtree",
          "RForest",
          "ADA",
          "GBC",
          "ETC",
          "logreg",
          "KNN",
          "GaussianNB",
          "Perceptron",
          "LinearSVC",
          "SGD",
          "Dtree",
          "RForest",
          "ADA",
          "GBC",
          "ETC",
          "logreg",
          "KNN",
          "GaussianNB",
          "Perceptron",
          "LinearSVC",
          "SGD",
          "Dtree",
          "RForest",
          "ADA",
          "GBC",
          "ETC",
          "logreg",
          "KNN",
          "GaussianNB",
          "Perceptron",
          "LinearSVC",
          "SGD",
          "Dtree",
          "RForest",
          "ADA",
          "GBC",
          "ETC",
          "logreg",
          "KNN",
          "GaussianNB",
          "Perceptron",
          "LinearSVC",
          "SGD",
          "Dtree",
          "RForest",
          "ADA",
          "GBC",
          "ETC",
          "logreg",
          "KNN",
          "GaussianNB",
          "Perceptron",
          "LinearSVC",
          "SGD",
          "Dtree",
          "RForest",
          "ADA",
          "GBC",
          "ETC",
          "logreg",
          "KNN",
          "GaussianNB",
          "Perceptron",
          "LinearSVC",
          "SGD",
          "Dtree",
          "RForest",
          "ADA",
          "GBC",
          "ETC",
          "logreg",
          "KNN",
          "GaussianNB",
          "Perceptron",
          "LinearSVC",
          "SGD",
          "Dtree",
          "RForest",
          "ADA",
          "GBC",
          "ETC",
          "logreg",
          "KNN",
          "GaussianNB",
          "Perceptron",
          "LinearSVC",
          "SGD",
          "Dtree",
          "RForest",
          "ADA",
          "GBC",
          "ETC",
          "logreg",
          "KNN",
          "GaussianNB",
          "Perceptron",
          "LinearSVC",
          "SGD",
          "Dtree",
          "RForest",
          "ADA",
          "GBC",
          "ETC",
          "logreg",
          "KNN",
          "GaussianNB",
          "Perceptron",
          "LinearSVC",
          "SGD",
          "Dtree",
          "RForest",
          "ADA",
          "GBC",
          "ETC",
          "logreg",
          "KNN",
          "GaussianNB",
          "Perceptron",
          "LinearSVC",
          "SGD",
          "Dtree",
          "RForest",
          "ADA",
          "GBC",
          "ETC",
          "logreg",
          "KNN",
          "GaussianNB",
          "Perceptron",
          "LinearSVC",
          "SGD",
          "Dtree",
          "RForest",
          "ADA",
          "GBC",
          "ETC",
          "logreg",
          "KNN",
          "GaussianNB",
          "Perceptron",
          "LinearSVC",
          "SGD",
          "Dtree",
          "RForest",
          "ADA",
          "GBC",
          "ETC",
          "logreg",
          "KNN",
          "GaussianNB",
          "Perceptron",
          "LinearSVC",
          "SGD",
          "Dtree",
          "RForest",
          "ADA",
          "GBC",
          "ETC",
          "logreg",
          "KNN",
          "GaussianNB",
          "Perceptron",
          "LinearSVC",
          "SGD",
          "Dtree",
          "RForest",
          "ADA",
          "GBC",
          "ETC",
          "logreg",
          "KNN",
          "GaussianNB",
          "Perceptron",
          "LinearSVC",
          "SGD",
          "Dtree",
          "RForest",
          "ADA",
          "GBC",
          "ETC",
          "logreg",
          "KNN",
          "GaussianNB",
          "Perceptron",
          "LinearSVC",
          "SGD",
          "Dtree",
          "RForest",
          "ADA",
          "GBC",
          "ETC",
          "logreg",
          "KNN",
          "GaussianNB",
          "Perceptron",
          "LinearSVC",
          "SGD",
          "Dtree",
          "RForest",
          "ADA",
          "GBC",
          "ETC",
          "logreg",
          "KNN",
          "GaussianNB",
          "Perceptron",
          "LinearSVC",
          "SGD",
          "Dtree",
          "RForest",
          "ADA",
          "GBC",
          "ETC",
          "logreg",
          "KNN",
          "GaussianNB",
          "Perceptron",
          "LinearSVC",
          "SGD",
          "Dtree",
          "RForest",
          "ADA",
          "GBC",
          "ETC"
         ],
         "x0": " ",
         "xaxis": "x",
         "y": [
          0.8341287945253553,
          0.920126337954027,
          0.5430952798736621,
          0.8583084751710826,
          0.8336901210738725,
          0.8310756273030356,
          0.8846815230742235,
          0.92030180733462,
          0.7696613440954554,
          0.8494121775750132,
          0.9334795578171609,
          0.833146165994034,
          0.9209685909808738,
          0.5391998596244956,
          0.8206176522196877,
          0.8325495701000176,
          0.8352517985611512,
          0.8843305843130373,
          0.9197929461309,
          0.7891735392174066,
          0.858045271100193,
          0.9327776802947884,
          0.826548517283734,
          0.9218108440077206,
          0.5263379540270223,
          0.7792946130900158,
          0.8256185295665905,
          0.8292507457448675,
          0.8791893314616599,
          0.9187927706615197,
          0.7679417441656431,
          0.8531847692577645,
          0.9305492191612564,
          0.7926302860150903,
          0.9234076153711176,
          0.5204246359010353,
          0.7736971398490964,
          0.7890156167748728,
          0.7907527636427443,
          0.8815757150377259,
          0.923653272503948,
          0.7291981049306896,
          0.8478329531496753,
          0.9344972802246008,
          0.7681172135462362,
          0.950359712230216,
          0.5128443586594139,
          0.7285839620986139,
          0.7742410949289349,
          0.7836287067906651,
          0.8600456220389542,
          0.9460256185295666,
          0.7037024039305142,
          0.8082119670117565,
          0.9679768380417616,
          0.917669766625724,
          0.9914195472889982,
          0.5484120021056326,
          0.9269170029829794,
          0.9130724688541848,
          0.9157571503772592,
          0.9919635023688368,
          0.9959817511844185,
          0.8619757852254781,
          0.9574311282681172,
          0.996525706264257,
          0.9159852605720302,
          0.9933848043516408,
          0.5483593612914546,
          0.8617125811545885,
          0.9121775750131602,
          0.9066853834005966,
          0.9946130900157922,
          0.9970872082821548,
          0.8705386909984207,
          0.960887875065801,
          0.9975785225478152,
          0.9055097385506228,
          0.9918406738024216,
          0.5284611335321986,
          0.8464993858571679,
          0.9014388489208632,
          0.8929812247762765,
          0.9876820494823652,
          0.9917529391121248,
          0.8354799087559222,
          0.9509563081242324,
          0.993753290050886,
          0.8492718020705388,
          0.9921038778733112,
          0.5302158273381294,
          0.8199684155114932,
          0.8439550798385682,
          0.850026320407089,
          0.9887699596420424,
          0.9962098613791894,
          0.8177575013160203,
          0.93400596595894,
          0.9972977715388665,
          0.8190735216704685,
          0.9380768555886998,
          0.5256360765046499,
          0.8240217582031935,
          0.819442007369714,
          0.837690822951395,
          0.8874890331637129,
          0.9323565537813652,
          0.7817336374802597,
          0.8851377434637655,
          0.9332689945604492,
          0.955939638533076,
          0.9944376206351992,
          0.5812247762765397,
          0.9338129496402878,
          0.9506755571152834,
          0.9409194595543078,
          0.9944551675732584,
          0.9969643797157396,
          0.8925250043867345,
          0.9813125109668364,
          0.9975434286716968,
          0.952588173363748,
          0.996139673626952,
          0.5736971398490963,
          0.9398666432707492,
          0.9490963326899456,
          0.9395507983856816,
          0.9958764695560623,
          0.9983330408843656,
          0.892946130900158,
          0.98299701702053,
          0.9987541673977892,
          0.9387085453588347,
          0.9944376206351992,
          0.563326899456045,
          0.9039305141252852,
          0.935181610808914,
          0.9371644148096157,
          0.9913493595367608,
          0.9931742410949288,
          0.8859449026144938,
          0.9675030707141604,
          0.9949113879628004,
          0.8727846990700123,
          0.9951219512195122,
          0.5539919284084927,
          0.837690822951395,
          0.8683102298648886,
          0.8778206702930338,
          0.9894542902263554,
          0.9973153184769256,
          0.8595894016494122,
          0.9427618880505352,
          0.998350587822425,
          0.8402702228461134,
          0.9389366555536058,
          0.5472889980698368,
          0.7906299350763292,
          0.8422179329706966,
          0.8474820143884891,
          0.8779961396736269,
          0.9320231619582384,
          0.805053518161081,
          0.8799263028601509,
          0.9331110721179154,
          0.9759957887348658,
          0.9952623267239866,
          0.5852079312160028,
          0.9598350587822424,
          0.9733637480259696,
          0.9682926829268292,
          0.9961221266888928,
          0.9986664327074926,
          0.9233900684330584,
          0.9861028250570276,
          0.9985436041410772,
          0.971468678715564,
          0.9970170205299176,
          0.5875943147920688,
          0.9508685734339356,
          0.9690647482014388,
          0.966853834005966,
          0.9983154939463064,
          0.9998771714335848,
          0.9187401298473415,
          0.989138445341288,
          0.9998245306194068,
          0.9544832426741534,
          0.9951570450956309,
          0.5644499034918407,
          0.9291279171784524,
          0.9509212142481136,
          0.9487453939287596,
          0.99238462888226,
          0.994367432882962,
          0.8699596420424636,
          0.9690296543253204,
          0.9964555185120196,
          0.8815055272854887,
          0.995630812423232,
          0.5691349359536761,
          0.7734163888401474,
          0.8776802947885594,
          0.8777680294788559,
          0.9920161431830146,
          0.998806808211967,
          0.8494823653272503,
          0.9406387085453588,
          0.9994560449201616,
          0.850938761186173,
          0.9403579575364098,
          0.5636602912791718,
          0.8691173890156167,
          0.8538690998420775,
          0.849517459203369,
          0.8888050535181611,
          0.9332163537462712,
          0.7962625021933672,
          0.8757501316020355,
          0.933602386383576,
          0.96573082997017,
          0.984874539392876,
          0.5842253026846815,
          0.9571503772591684,
          0.9631689770135112,
          0.9590805404456922,
          0.9934198982277592,
          0.997771538866468,
          0.8870854535883488,
          0.982031935427268,
          0.9972275837866292,
          0.961344095455343,
          0.9868924372696964,
          0.586980171959993,
          0.8927531145815055,
          0.9588875241270398,
          0.956062467099491,
          0.9905948412002106,
          0.9990700122828566,
          0.8769257764520091,
          0.984313037374978,
          0.9983856816985436,
          0.9448499736795928,
          0.9844007720652744,
          0.5654676258992806,
          0.9232321459905246,
          0.9412528513774346,
          0.9392174065625548,
          0.9887173188278644,
          0.993068959466573,
          0.8807159150728198,
          0.9612563607650464,
          0.994876294086682,
          0.873679592911037,
          0.9850851026495876,
          0.5679768380417617,
          0.8404281452886471,
          0.8705562379364801,
          0.8842428496227408,
          0.9881909106860852,
          0.9978066327425864,
          0.8222495174592034,
          0.9324618354097208,
          0.9965081593261976,
          0.8465520266713459,
          0.9466748552377612,
          0.5695385155290402,
          0.8078961221266889,
          0.8493419898227759,
          0.8415511493244429,
          0.884821898578698,
          0.9344270924723636,
          0.8163888401473942,
          0.8828741884541148,
          0.9363046148447096
         ],
         "y0": " ",
         "yaxis": "y"
        }
       ],
       "layout": {
        "boxmode": "group",
        "legend": {
         "tracegroupgap": 0
        },
        "template": {
         "data": {
          "bar": [
           {
            "error_x": {
             "color": "#2a3f5f"
            },
            "error_y": {
             "color": "#2a3f5f"
            },
            "marker": {
             "line": {
              "color": "#E5ECF6",
              "width": 0.5
             },
             "pattern": {
              "fillmode": "overlay",
              "size": 10,
              "solidity": 0.2
             }
            },
            "type": "bar"
           }
          ],
          "barpolar": [
           {
            "marker": {
             "line": {
              "color": "#E5ECF6",
              "width": 0.5
             },
             "pattern": {
              "fillmode": "overlay",
              "size": 10,
              "solidity": 0.2
             }
            },
            "type": "barpolar"
           }
          ],
          "carpet": [
           {
            "aaxis": {
             "endlinecolor": "#2a3f5f",
             "gridcolor": "white",
             "linecolor": "white",
             "minorgridcolor": "white",
             "startlinecolor": "#2a3f5f"
            },
            "baxis": {
             "endlinecolor": "#2a3f5f",
             "gridcolor": "white",
             "linecolor": "white",
             "minorgridcolor": "white",
             "startlinecolor": "#2a3f5f"
            },
            "type": "carpet"
           }
          ],
          "choropleth": [
           {
            "colorbar": {
             "outlinewidth": 0,
             "ticks": ""
            },
            "type": "choropleth"
           }
          ],
          "contour": [
           {
            "colorbar": {
             "outlinewidth": 0,
             "ticks": ""
            },
            "colorscale": [
             [
              0,
              "#0d0887"
             ],
             [
              0.1111111111111111,
              "#46039f"
             ],
             [
              0.2222222222222222,
              "#7201a8"
             ],
             [
              0.3333333333333333,
              "#9c179e"
             ],
             [
              0.4444444444444444,
              "#bd3786"
             ],
             [
              0.5555555555555556,
              "#d8576b"
             ],
             [
              0.6666666666666666,
              "#ed7953"
             ],
             [
              0.7777777777777778,
              "#fb9f3a"
             ],
             [
              0.8888888888888888,
              "#fdca26"
             ],
             [
              1,
              "#f0f921"
             ]
            ],
            "type": "contour"
           }
          ],
          "contourcarpet": [
           {
            "colorbar": {
             "outlinewidth": 0,
             "ticks": ""
            },
            "type": "contourcarpet"
           }
          ],
          "heatmap": [
           {
            "colorbar": {
             "outlinewidth": 0,
             "ticks": ""
            },
            "colorscale": [
             [
              0,
              "#0d0887"
             ],
             [
              0.1111111111111111,
              "#46039f"
             ],
             [
              0.2222222222222222,
              "#7201a8"
             ],
             [
              0.3333333333333333,
              "#9c179e"
             ],
             [
              0.4444444444444444,
              "#bd3786"
             ],
             [
              0.5555555555555556,
              "#d8576b"
             ],
             [
              0.6666666666666666,
              "#ed7953"
             ],
             [
              0.7777777777777778,
              "#fb9f3a"
             ],
             [
              0.8888888888888888,
              "#fdca26"
             ],
             [
              1,
              "#f0f921"
             ]
            ],
            "type": "heatmap"
           }
          ],
          "heatmapgl": [
           {
            "colorbar": {
             "outlinewidth": 0,
             "ticks": ""
            },
            "colorscale": [
             [
              0,
              "#0d0887"
             ],
             [
              0.1111111111111111,
              "#46039f"
             ],
             [
              0.2222222222222222,
              "#7201a8"
             ],
             [
              0.3333333333333333,
              "#9c179e"
             ],
             [
              0.4444444444444444,
              "#bd3786"
             ],
             [
              0.5555555555555556,
              "#d8576b"
             ],
             [
              0.6666666666666666,
              "#ed7953"
             ],
             [
              0.7777777777777778,
              "#fb9f3a"
             ],
             [
              0.8888888888888888,
              "#fdca26"
             ],
             [
              1,
              "#f0f921"
             ]
            ],
            "type": "heatmapgl"
           }
          ],
          "histogram": [
           {
            "marker": {
             "pattern": {
              "fillmode": "overlay",
              "size": 10,
              "solidity": 0.2
             }
            },
            "type": "histogram"
           }
          ],
          "histogram2d": [
           {
            "colorbar": {
             "outlinewidth": 0,
             "ticks": ""
            },
            "colorscale": [
             [
              0,
              "#0d0887"
             ],
             [
              0.1111111111111111,
              "#46039f"
             ],
             [
              0.2222222222222222,
              "#7201a8"
             ],
             [
              0.3333333333333333,
              "#9c179e"
             ],
             [
              0.4444444444444444,
              "#bd3786"
             ],
             [
              0.5555555555555556,
              "#d8576b"
             ],
             [
              0.6666666666666666,
              "#ed7953"
             ],
             [
              0.7777777777777778,
              "#fb9f3a"
             ],
             [
              0.8888888888888888,
              "#fdca26"
             ],
             [
              1,
              "#f0f921"
             ]
            ],
            "type": "histogram2d"
           }
          ],
          "histogram2dcontour": [
           {
            "colorbar": {
             "outlinewidth": 0,
             "ticks": ""
            },
            "colorscale": [
             [
              0,
              "#0d0887"
             ],
             [
              0.1111111111111111,
              "#46039f"
             ],
             [
              0.2222222222222222,
              "#7201a8"
             ],
             [
              0.3333333333333333,
              "#9c179e"
             ],
             [
              0.4444444444444444,
              "#bd3786"
             ],
             [
              0.5555555555555556,
              "#d8576b"
             ],
             [
              0.6666666666666666,
              "#ed7953"
             ],
             [
              0.7777777777777778,
              "#fb9f3a"
             ],
             [
              0.8888888888888888,
              "#fdca26"
             ],
             [
              1,
              "#f0f921"
             ]
            ],
            "type": "histogram2dcontour"
           }
          ],
          "mesh3d": [
           {
            "colorbar": {
             "outlinewidth": 0,
             "ticks": ""
            },
            "type": "mesh3d"
           }
          ],
          "parcoords": [
           {
            "line": {
             "colorbar": {
              "outlinewidth": 0,
              "ticks": ""
             }
            },
            "type": "parcoords"
           }
          ],
          "pie": [
           {
            "automargin": true,
            "type": "pie"
           }
          ],
          "scatter": [
           {
            "fillpattern": {
             "fillmode": "overlay",
             "size": 10,
             "solidity": 0.2
            },
            "type": "scatter"
           }
          ],
          "scatter3d": [
           {
            "line": {
             "colorbar": {
              "outlinewidth": 0,
              "ticks": ""
             }
            },
            "marker": {
             "colorbar": {
              "outlinewidth": 0,
              "ticks": ""
             }
            },
            "type": "scatter3d"
           }
          ],
          "scattercarpet": [
           {
            "marker": {
             "colorbar": {
              "outlinewidth": 0,
              "ticks": ""
             }
            },
            "type": "scattercarpet"
           }
          ],
          "scattergeo": [
           {
            "marker": {
             "colorbar": {
              "outlinewidth": 0,
              "ticks": ""
             }
            },
            "type": "scattergeo"
           }
          ],
          "scattergl": [
           {
            "marker": {
             "colorbar": {
              "outlinewidth": 0,
              "ticks": ""
             }
            },
            "type": "scattergl"
           }
          ],
          "scattermapbox": [
           {
            "marker": {
             "colorbar": {
              "outlinewidth": 0,
              "ticks": ""
             }
            },
            "type": "scattermapbox"
           }
          ],
          "scatterpolar": [
           {
            "marker": {
             "colorbar": {
              "outlinewidth": 0,
              "ticks": ""
             }
            },
            "type": "scatterpolar"
           }
          ],
          "scatterpolargl": [
           {
            "marker": {
             "colorbar": {
              "outlinewidth": 0,
              "ticks": ""
             }
            },
            "type": "scatterpolargl"
           }
          ],
          "scatterternary": [
           {
            "marker": {
             "colorbar": {
              "outlinewidth": 0,
              "ticks": ""
             }
            },
            "type": "scatterternary"
           }
          ],
          "surface": [
           {
            "colorbar": {
             "outlinewidth": 0,
             "ticks": ""
            },
            "colorscale": [
             [
              0,
              "#0d0887"
             ],
             [
              0.1111111111111111,
              "#46039f"
             ],
             [
              0.2222222222222222,
              "#7201a8"
             ],
             [
              0.3333333333333333,
              "#9c179e"
             ],
             [
              0.4444444444444444,
              "#bd3786"
             ],
             [
              0.5555555555555556,
              "#d8576b"
             ],
             [
              0.6666666666666666,
              "#ed7953"
             ],
             [
              0.7777777777777778,
              "#fb9f3a"
             ],
             [
              0.8888888888888888,
              "#fdca26"
             ],
             [
              1,
              "#f0f921"
             ]
            ],
            "type": "surface"
           }
          ],
          "table": [
           {
            "cells": {
             "fill": {
              "color": "#EBF0F8"
             },
             "line": {
              "color": "white"
             }
            },
            "header": {
             "fill": {
              "color": "#C8D4E3"
             },
             "line": {
              "color": "white"
             }
            },
            "type": "table"
           }
          ]
         },
         "layout": {
          "annotationdefaults": {
           "arrowcolor": "#2a3f5f",
           "arrowhead": 0,
           "arrowwidth": 1
          },
          "autotypenumbers": "strict",
          "coloraxis": {
           "colorbar": {
            "outlinewidth": 0,
            "ticks": ""
           }
          },
          "colorscale": {
           "diverging": [
            [
             0,
             "#8e0152"
            ],
            [
             0.1,
             "#c51b7d"
            ],
            [
             0.2,
             "#de77ae"
            ],
            [
             0.3,
             "#f1b6da"
            ],
            [
             0.4,
             "#fde0ef"
            ],
            [
             0.5,
             "#f7f7f7"
            ],
            [
             0.6,
             "#e6f5d0"
            ],
            [
             0.7,
             "#b8e186"
            ],
            [
             0.8,
             "#7fbc41"
            ],
            [
             0.9,
             "#4d9221"
            ],
            [
             1,
             "#276419"
            ]
           ],
           "sequential": [
            [
             0,
             "#0d0887"
            ],
            [
             0.1111111111111111,
             "#46039f"
            ],
            [
             0.2222222222222222,
             "#7201a8"
            ],
            [
             0.3333333333333333,
             "#9c179e"
            ],
            [
             0.4444444444444444,
             "#bd3786"
            ],
            [
             0.5555555555555556,
             "#d8576b"
            ],
            [
             0.6666666666666666,
             "#ed7953"
            ],
            [
             0.7777777777777778,
             "#fb9f3a"
            ],
            [
             0.8888888888888888,
             "#fdca26"
            ],
            [
             1,
             "#f0f921"
            ]
           ],
           "sequentialminus": [
            [
             0,
             "#0d0887"
            ],
            [
             0.1111111111111111,
             "#46039f"
            ],
            [
             0.2222222222222222,
             "#7201a8"
            ],
            [
             0.3333333333333333,
             "#9c179e"
            ],
            [
             0.4444444444444444,
             "#bd3786"
            ],
            [
             0.5555555555555556,
             "#d8576b"
            ],
            [
             0.6666666666666666,
             "#ed7953"
            ],
            [
             0.7777777777777778,
             "#fb9f3a"
            ],
            [
             0.8888888888888888,
             "#fdca26"
            ],
            [
             1,
             "#f0f921"
            ]
           ]
          },
          "colorway": [
           "#636efa",
           "#EF553B",
           "#00cc96",
           "#ab63fa",
           "#FFA15A",
           "#19d3f3",
           "#FF6692",
           "#B6E880",
           "#FF97FF",
           "#FECB52"
          ],
          "font": {
           "color": "#2a3f5f"
          },
          "geo": {
           "bgcolor": "white",
           "lakecolor": "white",
           "landcolor": "#E5ECF6",
           "showlakes": true,
           "showland": true,
           "subunitcolor": "white"
          },
          "hoverlabel": {
           "align": "left"
          },
          "hovermode": "closest",
          "mapbox": {
           "style": "light"
          },
          "paper_bgcolor": "white",
          "plot_bgcolor": "#E5ECF6",
          "polar": {
           "angularaxis": {
            "gridcolor": "white",
            "linecolor": "white",
            "ticks": ""
           },
           "bgcolor": "#E5ECF6",
           "radialaxis": {
            "gridcolor": "white",
            "linecolor": "white",
            "ticks": ""
           }
          },
          "scene": {
           "xaxis": {
            "backgroundcolor": "#E5ECF6",
            "gridcolor": "white",
            "gridwidth": 2,
            "linecolor": "white",
            "showbackground": true,
            "ticks": "",
            "zerolinecolor": "white"
           },
           "yaxis": {
            "backgroundcolor": "#E5ECF6",
            "gridcolor": "white",
            "gridwidth": 2,
            "linecolor": "white",
            "showbackground": true,
            "ticks": "",
            "zerolinecolor": "white"
           },
           "zaxis": {
            "backgroundcolor": "#E5ECF6",
            "gridcolor": "white",
            "gridwidth": 2,
            "linecolor": "white",
            "showbackground": true,
            "ticks": "",
            "zerolinecolor": "white"
           }
          },
          "shapedefaults": {
           "line": {
            "color": "#2a3f5f"
           }
          },
          "ternary": {
           "aaxis": {
            "gridcolor": "white",
            "linecolor": "white",
            "ticks": ""
           },
           "baxis": {
            "gridcolor": "white",
            "linecolor": "white",
            "ticks": ""
           },
           "bgcolor": "#E5ECF6",
           "caxis": {
            "gridcolor": "white",
            "linecolor": "white",
            "ticks": ""
           }
          },
          "title": {
           "x": 0.05
          },
          "xaxis": {
           "automargin": true,
           "gridcolor": "white",
           "linecolor": "white",
           "ticks": "",
           "title": {
            "standoff": 15
           },
           "zerolinecolor": "white",
           "zerolinewidth": 2
          },
          "yaxis": {
           "automargin": true,
           "gridcolor": "white",
           "linecolor": "white",
           "ticks": "",
           "title": {
            "standoff": 15
           },
           "zerolinecolor": "white",
           "zerolinewidth": 2
          }
         }
        },
        "title": {
         "text": "Boxplot da Acurácia Balanceada do classificador Sim"
        },
        "xaxis": {
         "anchor": "y",
         "domain": [
          0,
          1
         ],
         "title": {
          "text": "Nome"
         }
        },
        "yaxis": {
         "anchor": "x",
         "domain": [
          0,
          1
         ],
         "range": [
          0,
          1
         ],
         "title": {
          "text": "Acurácia Balanceada"
         }
        }
       }
      }
     },
     "metadata": {},
     "output_type": "display_data"
    },
    {
     "data": {
      "application/vnd.plotly.v1+json": {
       "config": {
        "plotlyServerURL": "https://plot.ly"
       },
       "data": [
        {
         "alignmentgroup": "True",
         "boxpoints": "all",
         "hovertemplate": "Nome=%{x}<br>F1-score Balanceada=%{y}<extra></extra>",
         "legendgroup": "",
         "marker": {
          "color": "rgb(141,211,199)"
         },
         "name": "",
         "notched": false,
         "offsetgroup": "",
         "orientation": "v",
         "showlegend": false,
         "type": "box",
         "x": [
          "logreg",
          "KNN",
          "GaussianNB",
          "Perceptron",
          "LinearSVC",
          "SGD",
          "Dtree",
          "RForest",
          "ADA",
          "GBC",
          "ETC",
          "logreg",
          "KNN",
          "GaussianNB",
          "Perceptron",
          "LinearSVC",
          "SGD",
          "Dtree",
          "RForest",
          "ADA",
          "GBC",
          "ETC",
          "logreg",
          "KNN",
          "GaussianNB",
          "Perceptron",
          "LinearSVC",
          "SGD",
          "Dtree",
          "RForest",
          "ADA",
          "GBC",
          "ETC",
          "logreg",
          "KNN",
          "GaussianNB",
          "Perceptron",
          "LinearSVC",
          "SGD",
          "Dtree",
          "RForest",
          "ADA",
          "GBC",
          "ETC",
          "logreg",
          "KNN",
          "GaussianNB",
          "Perceptron",
          "LinearSVC",
          "SGD",
          "Dtree",
          "RForest",
          "ADA",
          "GBC",
          "ETC",
          "logreg",
          "KNN",
          "GaussianNB",
          "Perceptron",
          "LinearSVC",
          "SGD",
          "Dtree",
          "RForest",
          "ADA",
          "GBC",
          "ETC",
          "logreg",
          "KNN",
          "GaussianNB",
          "Perceptron",
          "LinearSVC",
          "SGD",
          "Dtree",
          "RForest",
          "ADA",
          "GBC",
          "ETC",
          "logreg",
          "KNN",
          "GaussianNB",
          "Perceptron",
          "LinearSVC",
          "SGD",
          "Dtree",
          "RForest",
          "ADA",
          "GBC",
          "ETC",
          "logreg",
          "KNN",
          "GaussianNB",
          "Perceptron",
          "LinearSVC",
          "SGD",
          "Dtree",
          "RForest",
          "ADA",
          "GBC",
          "ETC",
          "logreg",
          "KNN",
          "GaussianNB",
          "Perceptron",
          "LinearSVC",
          "SGD",
          "Dtree",
          "RForest",
          "ADA",
          "GBC",
          "ETC",
          "logreg",
          "KNN",
          "GaussianNB",
          "Perceptron",
          "LinearSVC",
          "SGD",
          "Dtree",
          "RForest",
          "ADA",
          "GBC",
          "ETC",
          "logreg",
          "KNN",
          "GaussianNB",
          "Perceptron",
          "LinearSVC",
          "SGD",
          "Dtree",
          "RForest",
          "ADA",
          "GBC",
          "ETC",
          "logreg",
          "KNN",
          "GaussianNB",
          "Perceptron",
          "LinearSVC",
          "SGD",
          "Dtree",
          "RForest",
          "ADA",
          "GBC",
          "ETC",
          "logreg",
          "KNN",
          "GaussianNB",
          "Perceptron",
          "LinearSVC",
          "SGD",
          "Dtree",
          "RForest",
          "ADA",
          "GBC",
          "ETC",
          "logreg",
          "KNN",
          "GaussianNB",
          "Perceptron",
          "LinearSVC",
          "SGD",
          "Dtree",
          "RForest",
          "ADA",
          "GBC",
          "ETC",
          "logreg",
          "KNN",
          "GaussianNB",
          "Perceptron",
          "LinearSVC",
          "SGD",
          "Dtree",
          "RForest",
          "ADA",
          "GBC",
          "ETC",
          "logreg",
          "KNN",
          "GaussianNB",
          "Perceptron",
          "LinearSVC",
          "SGD",
          "Dtree",
          "RForest",
          "ADA",
          "GBC",
          "ETC",
          "logreg",
          "KNN",
          "GaussianNB",
          "Perceptron",
          "LinearSVC",
          "SGD",
          "Dtree",
          "RForest",
          "ADA",
          "GBC",
          "ETC",
          "logreg",
          "KNN",
          "GaussianNB",
          "Perceptron",
          "LinearSVC",
          "SGD",
          "Dtree",
          "RForest",
          "ADA",
          "GBC",
          "ETC",
          "logreg",
          "KNN",
          "GaussianNB",
          "Perceptron",
          "LinearSVC",
          "SGD",
          "Dtree",
          "RForest",
          "ADA",
          "GBC",
          "ETC",
          "logreg",
          "KNN",
          "GaussianNB",
          "Perceptron",
          "LinearSVC",
          "SGD",
          "Dtree",
          "RForest",
          "ADA",
          "GBC",
          "ETC",
          "logreg",
          "KNN",
          "GaussianNB",
          "Perceptron",
          "LinearSVC",
          "SGD",
          "Dtree",
          "RForest",
          "ADA",
          "GBC",
          "ETC",
          "logreg",
          "KNN",
          "GaussianNB",
          "Perceptron",
          "LinearSVC",
          "SGD",
          "Dtree",
          "RForest",
          "ADA",
          "GBC",
          "ETC",
          "logreg",
          "KNN",
          "GaussianNB",
          "Perceptron",
          "LinearSVC",
          "SGD",
          "Dtree",
          "RForest",
          "ADA",
          "GBC",
          "ETC",
          "logreg",
          "KNN",
          "GaussianNB",
          "Perceptron",
          "LinearSVC",
          "SGD",
          "Dtree",
          "RForest",
          "ADA",
          "GBC",
          "ETC"
         ],
         "x0": " ",
         "xaxis": "x",
         "y": [
          0.8424444631448069,
          0.919488718126033,
          0.5464823363520966,
          0.7986792901028837,
          0.8391390971990828,
          0.8309602150651372,
          0.8791644857044072,
          0.9216762189108978,
          0.7776908653336357,
          0.842944163957665,
          0.9336475473631216,
          0.8419419321441036,
          0.9202648582797448,
          0.5399963237020562,
          0.7530555838618928,
          0.8392579999964287,
          0.8333428040106302,
          0.8821650700672147,
          0.9185409636927676,
          0.7672067709147855,
          0.8437406456724792,
          0.9344463814746912,
          0.8412833338961702,
          0.9212267471096792,
          0.5252929379547187,
          0.8472754870887785,
          0.8365771037492777,
          0.8184452869888983,
          0.8799415083284684,
          0.9186250898283636,
          0.760369005208449,
          0.8449174820256885,
          0.9340936105162893,
          0.829051701785859,
          0.9243293064916972,
          0.5170038008235631,
          0.7562182962166576,
          0.819741387321953,
          0.8301511206765263,
          0.8767250140331407,
          0.9242852101630142,
          0.7413515768286923,
          0.8409245474981758,
          0.9359775357453318,
          0.8083362738274048,
          0.9513309202828484,
          0.5045010383994589,
          0.7893114080164441,
          0.8077814090974531,
          0.822364373446303,
          0.8526194595965535,
          0.94323053959669,
          0.6955227467147166,
          0.8114321481529627,
          0.9659732832469528,
          0.9343665893266648,
          0.9905243471798152,
          0.5504972614568633,
          0.9043295673045246,
          0.9244317322494626,
          0.931979430558876,
          0.9918757504462844,
          0.9959992881449032,
          0.852146468465831,
          0.952220555052704,
          0.9963853256135464,
          0.9345347436685336,
          0.9924017920919525,
          0.5497093844143993,
          0.8980347376316703,
          0.9246626679870028,
          0.9289016248253794,
          0.995244717049506,
          0.9972626576745685,
          0.860896155444266,
          0.9523911292480416,
          0.9977364337493908,
          0.9290978880703328,
          0.99113856205026,
          0.5295096210938912,
          0.8190379200736687,
          0.917445575158344,
          0.918363310208682,
          0.9875065751164964,
          0.992156467912438,
          0.8355019693917437,
          0.9446877364747784,
          0.9943674259997572,
          0.8901845517943086,
          0.991349158105696,
          0.5283572914578838,
          0.8330431611223352,
          0.8751609239169877,
          0.8881406233230447,
          0.988190867487087,
          0.996280037215121,
          0.8203877898456076,
          0.9324782633679474,
          0.997332857528181,
          0.8394867168693747,
          0.9362451963612176,
          0.5212322564000629,
          0.8442347111143689,
          0.836473138682559,
          0.8269803933963009,
          0.8859200811828415,
          0.9258299977153406,
          0.7578348203362582,
          0.8775353656542724,
          0.9310388100769892,
          0.968898436248656,
          0.9942972305904944,
          0.5851512989766059,
          0.9609480839383352,
          0.9578382506898544,
          0.962504419283592,
          0.992753082984211,
          0.9969468315593684,
          0.8750657175767118,
          0.9807130960171758,
          0.9975960694673708,
          0.9673573686032972,
          0.9959641603273746,
          0.5748028831631422,
          0.7481952295315303,
          0.9578662266892302,
          0.962545200272058,
          0.994788464646014,
          0.9980171887459744,
          0.8963292917428358,
          0.9794471910594698,
          0.9988945416357649,
          0.9573609127362632,
          0.9942972385971998,
          0.5621399993625754,
          0.9258017893810429,
          0.9456558857900044,
          0.9511492897886716,
          0.9914720106041258,
          0.9933671549431474,
          0.8812773960355559,
          0.9653620913435768,
          0.995244744610456,
          0.9077315736186922,
          0.995121949273014,
          0.5501758290620559,
          0.8798802017877154,
          0.893496592386961,
          0.9052760997067392,
          0.9881907967739966,
          0.9970696603615592,
          0.8461656276418503,
          0.9387687886332682,
          0.9984032283293292,
          0.8512831216905216,
          0.9370785645131512,
          0.5377249097338639,
          0.7765491382441879,
          0.848545344926278,
          0.8411770664773235,
          0.8771601285345764,
          0.928957222523806,
          0.7892859876328139,
          0.8836164027930385,
          0.9308126768068524,
          0.9781883932986026,
          0.99542024813857,
          0.5859109153713499,
          0.9512830612882338,
          0.9736943490540616,
          0.9753275344004688,
          0.997385501939366,
          0.998701525046803,
          0.9038223129626504,
          0.9836981582732393,
          0.9986488842214905,
          0.9758024280255284,
          0.9971222880916102,
          0.5872102520933297,
          0.8823245884001677,
          0.9720640325752652,
          0.9731529569893984,
          0.9984558689011834,
          0.999859624494834,
          0.8961720888651789,
          0.9875408193517629,
          0.999806983676534,
          0.9645702291665672,
          0.9951745920322044,
          0.5599332983533302,
          0.888707483881661,
          0.9561448255052204,
          0.9620454125040758,
          0.9927704420502916,
          0.994630494054034,
          0.8818596532476047,
          0.9700268314258764,
          0.9962449108397542,
          0.9126075297636592,
          0.9956659058176156,
          0.5650640116792778,
          0.903457136243686,
          0.902367628924898,
          0.9014202994332308,
          0.9920509001843868,
          0.998701525046803,
          0.84073435971626,
          0.943815717738188,
          0.9991577466733728,
          0.8507914104083719,
          0.9388518379883724,
          0.5570235946797066,
          0.7790102417640811,
          0.8551657036542707,
          0.8612350972980641,
          0.8884689349181311,
          0.9280589419152562,
          0.7981037268337462,
          0.8755009696163225,
          0.9307657777421402,
          0.9746952569133428,
          0.9842055987259268,
          0.5793998034359253,
          0.9338079845968716,
          0.969602592989541,
          0.967706618209882,
          0.9952798727537312,
          0.9970521133568048,
          0.8983493484009812,
          0.9806082259367956,
          0.9968240027239192,
          0.9726606930782224,
          0.9860828095923936,
          0.5820934334669502,
          0.9587584735106108,
          0.9682369532580128,
          0.9684844694658252,
          0.9944726055771338,
          0.9981575654855368,
          0.880314485544857,
          0.977113891521969,
          0.998210206807266,
          0.9610795545629532,
          0.983784519831882,
          0.5556135893718583,
          0.9613964395512962,
          0.9524448591529576,
          0.9528303718611764,
          0.9885418491615108,
          0.9929285157502536,
          0.8801939196862375,
          0.9579907031041146,
          0.9946130657320784,
          0.910894971642214,
          0.9841883554900852,
          0.5594292032625645,
          0.8786113630020677,
          0.8985775322121806,
          0.9259346724358284,
          0.9845411474507564,
          0.996595892943232,
          0.8383350706473157,
          0.927823985103574,
          0.9976662547368444,
          0.8543776967950397,
          0.9471634524396224,
          0.5615986338362076,
          0.8683157822806707,
          0.8577951529923497,
          0.8322222812462962,
          0.8796482871803047,
          0.9299722440294316,
          0.8064454407891051,
          0.8861337196483238,
          0.9354661922108128
         ],
         "y0": " ",
         "yaxis": "y"
        }
       ],
       "layout": {
        "boxmode": "group",
        "legend": {
         "tracegroupgap": 0
        },
        "template": {
         "data": {
          "bar": [
           {
            "error_x": {
             "color": "#2a3f5f"
            },
            "error_y": {
             "color": "#2a3f5f"
            },
            "marker": {
             "line": {
              "color": "#E5ECF6",
              "width": 0.5
             },
             "pattern": {
              "fillmode": "overlay",
              "size": 10,
              "solidity": 0.2
             }
            },
            "type": "bar"
           }
          ],
          "barpolar": [
           {
            "marker": {
             "line": {
              "color": "#E5ECF6",
              "width": 0.5
             },
             "pattern": {
              "fillmode": "overlay",
              "size": 10,
              "solidity": 0.2
             }
            },
            "type": "barpolar"
           }
          ],
          "carpet": [
           {
            "aaxis": {
             "endlinecolor": "#2a3f5f",
             "gridcolor": "white",
             "linecolor": "white",
             "minorgridcolor": "white",
             "startlinecolor": "#2a3f5f"
            },
            "baxis": {
             "endlinecolor": "#2a3f5f",
             "gridcolor": "white",
             "linecolor": "white",
             "minorgridcolor": "white",
             "startlinecolor": "#2a3f5f"
            },
            "type": "carpet"
           }
          ],
          "choropleth": [
           {
            "colorbar": {
             "outlinewidth": 0,
             "ticks": ""
            },
            "type": "choropleth"
           }
          ],
          "contour": [
           {
            "colorbar": {
             "outlinewidth": 0,
             "ticks": ""
            },
            "colorscale": [
             [
              0,
              "#0d0887"
             ],
             [
              0.1111111111111111,
              "#46039f"
             ],
             [
              0.2222222222222222,
              "#7201a8"
             ],
             [
              0.3333333333333333,
              "#9c179e"
             ],
             [
              0.4444444444444444,
              "#bd3786"
             ],
             [
              0.5555555555555556,
              "#d8576b"
             ],
             [
              0.6666666666666666,
              "#ed7953"
             ],
             [
              0.7777777777777778,
              "#fb9f3a"
             ],
             [
              0.8888888888888888,
              "#fdca26"
             ],
             [
              1,
              "#f0f921"
             ]
            ],
            "type": "contour"
           }
          ],
          "contourcarpet": [
           {
            "colorbar": {
             "outlinewidth": 0,
             "ticks": ""
            },
            "type": "contourcarpet"
           }
          ],
          "heatmap": [
           {
            "colorbar": {
             "outlinewidth": 0,
             "ticks": ""
            },
            "colorscale": [
             [
              0,
              "#0d0887"
             ],
             [
              0.1111111111111111,
              "#46039f"
             ],
             [
              0.2222222222222222,
              "#7201a8"
             ],
             [
              0.3333333333333333,
              "#9c179e"
             ],
             [
              0.4444444444444444,
              "#bd3786"
             ],
             [
              0.5555555555555556,
              "#d8576b"
             ],
             [
              0.6666666666666666,
              "#ed7953"
             ],
             [
              0.7777777777777778,
              "#fb9f3a"
             ],
             [
              0.8888888888888888,
              "#fdca26"
             ],
             [
              1,
              "#f0f921"
             ]
            ],
            "type": "heatmap"
           }
          ],
          "heatmapgl": [
           {
            "colorbar": {
             "outlinewidth": 0,
             "ticks": ""
            },
            "colorscale": [
             [
              0,
              "#0d0887"
             ],
             [
              0.1111111111111111,
              "#46039f"
             ],
             [
              0.2222222222222222,
              "#7201a8"
             ],
             [
              0.3333333333333333,
              "#9c179e"
             ],
             [
              0.4444444444444444,
              "#bd3786"
             ],
             [
              0.5555555555555556,
              "#d8576b"
             ],
             [
              0.6666666666666666,
              "#ed7953"
             ],
             [
              0.7777777777777778,
              "#fb9f3a"
             ],
             [
              0.8888888888888888,
              "#fdca26"
             ],
             [
              1,
              "#f0f921"
             ]
            ],
            "type": "heatmapgl"
           }
          ],
          "histogram": [
           {
            "marker": {
             "pattern": {
              "fillmode": "overlay",
              "size": 10,
              "solidity": 0.2
             }
            },
            "type": "histogram"
           }
          ],
          "histogram2d": [
           {
            "colorbar": {
             "outlinewidth": 0,
             "ticks": ""
            },
            "colorscale": [
             [
              0,
              "#0d0887"
             ],
             [
              0.1111111111111111,
              "#46039f"
             ],
             [
              0.2222222222222222,
              "#7201a8"
             ],
             [
              0.3333333333333333,
              "#9c179e"
             ],
             [
              0.4444444444444444,
              "#bd3786"
             ],
             [
              0.5555555555555556,
              "#d8576b"
             ],
             [
              0.6666666666666666,
              "#ed7953"
             ],
             [
              0.7777777777777778,
              "#fb9f3a"
             ],
             [
              0.8888888888888888,
              "#fdca26"
             ],
             [
              1,
              "#f0f921"
             ]
            ],
            "type": "histogram2d"
           }
          ],
          "histogram2dcontour": [
           {
            "colorbar": {
             "outlinewidth": 0,
             "ticks": ""
            },
            "colorscale": [
             [
              0,
              "#0d0887"
             ],
             [
              0.1111111111111111,
              "#46039f"
             ],
             [
              0.2222222222222222,
              "#7201a8"
             ],
             [
              0.3333333333333333,
              "#9c179e"
             ],
             [
              0.4444444444444444,
              "#bd3786"
             ],
             [
              0.5555555555555556,
              "#d8576b"
             ],
             [
              0.6666666666666666,
              "#ed7953"
             ],
             [
              0.7777777777777778,
              "#fb9f3a"
             ],
             [
              0.8888888888888888,
              "#fdca26"
             ],
             [
              1,
              "#f0f921"
             ]
            ],
            "type": "histogram2dcontour"
           }
          ],
          "mesh3d": [
           {
            "colorbar": {
             "outlinewidth": 0,
             "ticks": ""
            },
            "type": "mesh3d"
           }
          ],
          "parcoords": [
           {
            "line": {
             "colorbar": {
              "outlinewidth": 0,
              "ticks": ""
             }
            },
            "type": "parcoords"
           }
          ],
          "pie": [
           {
            "automargin": true,
            "type": "pie"
           }
          ],
          "scatter": [
           {
            "fillpattern": {
             "fillmode": "overlay",
             "size": 10,
             "solidity": 0.2
            },
            "type": "scatter"
           }
          ],
          "scatter3d": [
           {
            "line": {
             "colorbar": {
              "outlinewidth": 0,
              "ticks": ""
             }
            },
            "marker": {
             "colorbar": {
              "outlinewidth": 0,
              "ticks": ""
             }
            },
            "type": "scatter3d"
           }
          ],
          "scattercarpet": [
           {
            "marker": {
             "colorbar": {
              "outlinewidth": 0,
              "ticks": ""
             }
            },
            "type": "scattercarpet"
           }
          ],
          "scattergeo": [
           {
            "marker": {
             "colorbar": {
              "outlinewidth": 0,
              "ticks": ""
             }
            },
            "type": "scattergeo"
           }
          ],
          "scattergl": [
           {
            "marker": {
             "colorbar": {
              "outlinewidth": 0,
              "ticks": ""
             }
            },
            "type": "scattergl"
           }
          ],
          "scattermapbox": [
           {
            "marker": {
             "colorbar": {
              "outlinewidth": 0,
              "ticks": ""
             }
            },
            "type": "scattermapbox"
           }
          ],
          "scatterpolar": [
           {
            "marker": {
             "colorbar": {
              "outlinewidth": 0,
              "ticks": ""
             }
            },
            "type": "scatterpolar"
           }
          ],
          "scatterpolargl": [
           {
            "marker": {
             "colorbar": {
              "outlinewidth": 0,
              "ticks": ""
             }
            },
            "type": "scatterpolargl"
           }
          ],
          "scatterternary": [
           {
            "marker": {
             "colorbar": {
              "outlinewidth": 0,
              "ticks": ""
             }
            },
            "type": "scatterternary"
           }
          ],
          "surface": [
           {
            "colorbar": {
             "outlinewidth": 0,
             "ticks": ""
            },
            "colorscale": [
             [
              0,
              "#0d0887"
             ],
             [
              0.1111111111111111,
              "#46039f"
             ],
             [
              0.2222222222222222,
              "#7201a8"
             ],
             [
              0.3333333333333333,
              "#9c179e"
             ],
             [
              0.4444444444444444,
              "#bd3786"
             ],
             [
              0.5555555555555556,
              "#d8576b"
             ],
             [
              0.6666666666666666,
              "#ed7953"
             ],
             [
              0.7777777777777778,
              "#fb9f3a"
             ],
             [
              0.8888888888888888,
              "#fdca26"
             ],
             [
              1,
              "#f0f921"
             ]
            ],
            "type": "surface"
           }
          ],
          "table": [
           {
            "cells": {
             "fill": {
              "color": "#EBF0F8"
             },
             "line": {
              "color": "white"
             }
            },
            "header": {
             "fill": {
              "color": "#C8D4E3"
             },
             "line": {
              "color": "white"
             }
            },
            "type": "table"
           }
          ]
         },
         "layout": {
          "annotationdefaults": {
           "arrowcolor": "#2a3f5f",
           "arrowhead": 0,
           "arrowwidth": 1
          },
          "autotypenumbers": "strict",
          "coloraxis": {
           "colorbar": {
            "outlinewidth": 0,
            "ticks": ""
           }
          },
          "colorscale": {
           "diverging": [
            [
             0,
             "#8e0152"
            ],
            [
             0.1,
             "#c51b7d"
            ],
            [
             0.2,
             "#de77ae"
            ],
            [
             0.3,
             "#f1b6da"
            ],
            [
             0.4,
             "#fde0ef"
            ],
            [
             0.5,
             "#f7f7f7"
            ],
            [
             0.6,
             "#e6f5d0"
            ],
            [
             0.7,
             "#b8e186"
            ],
            [
             0.8,
             "#7fbc41"
            ],
            [
             0.9,
             "#4d9221"
            ],
            [
             1,
             "#276419"
            ]
           ],
           "sequential": [
            [
             0,
             "#0d0887"
            ],
            [
             0.1111111111111111,
             "#46039f"
            ],
            [
             0.2222222222222222,
             "#7201a8"
            ],
            [
             0.3333333333333333,
             "#9c179e"
            ],
            [
             0.4444444444444444,
             "#bd3786"
            ],
            [
             0.5555555555555556,
             "#d8576b"
            ],
            [
             0.6666666666666666,
             "#ed7953"
            ],
            [
             0.7777777777777778,
             "#fb9f3a"
            ],
            [
             0.8888888888888888,
             "#fdca26"
            ],
            [
             1,
             "#f0f921"
            ]
           ],
           "sequentialminus": [
            [
             0,
             "#0d0887"
            ],
            [
             0.1111111111111111,
             "#46039f"
            ],
            [
             0.2222222222222222,
             "#7201a8"
            ],
            [
             0.3333333333333333,
             "#9c179e"
            ],
            [
             0.4444444444444444,
             "#bd3786"
            ],
            [
             0.5555555555555556,
             "#d8576b"
            ],
            [
             0.6666666666666666,
             "#ed7953"
            ],
            [
             0.7777777777777778,
             "#fb9f3a"
            ],
            [
             0.8888888888888888,
             "#fdca26"
            ],
            [
             1,
             "#f0f921"
            ]
           ]
          },
          "colorway": [
           "#636efa",
           "#EF553B",
           "#00cc96",
           "#ab63fa",
           "#FFA15A",
           "#19d3f3",
           "#FF6692",
           "#B6E880",
           "#FF97FF",
           "#FECB52"
          ],
          "font": {
           "color": "#2a3f5f"
          },
          "geo": {
           "bgcolor": "white",
           "lakecolor": "white",
           "landcolor": "#E5ECF6",
           "showlakes": true,
           "showland": true,
           "subunitcolor": "white"
          },
          "hoverlabel": {
           "align": "left"
          },
          "hovermode": "closest",
          "mapbox": {
           "style": "light"
          },
          "paper_bgcolor": "white",
          "plot_bgcolor": "#E5ECF6",
          "polar": {
           "angularaxis": {
            "gridcolor": "white",
            "linecolor": "white",
            "ticks": ""
           },
           "bgcolor": "#E5ECF6",
           "radialaxis": {
            "gridcolor": "white",
            "linecolor": "white",
            "ticks": ""
           }
          },
          "scene": {
           "xaxis": {
            "backgroundcolor": "#E5ECF6",
            "gridcolor": "white",
            "gridwidth": 2,
            "linecolor": "white",
            "showbackground": true,
            "ticks": "",
            "zerolinecolor": "white"
           },
           "yaxis": {
            "backgroundcolor": "#E5ECF6",
            "gridcolor": "white",
            "gridwidth": 2,
            "linecolor": "white",
            "showbackground": true,
            "ticks": "",
            "zerolinecolor": "white"
           },
           "zaxis": {
            "backgroundcolor": "#E5ECF6",
            "gridcolor": "white",
            "gridwidth": 2,
            "linecolor": "white",
            "showbackground": true,
            "ticks": "",
            "zerolinecolor": "white"
           }
          },
          "shapedefaults": {
           "line": {
            "color": "#2a3f5f"
           }
          },
          "ternary": {
           "aaxis": {
            "gridcolor": "white",
            "linecolor": "white",
            "ticks": ""
           },
           "baxis": {
            "gridcolor": "white",
            "linecolor": "white",
            "ticks": ""
           },
           "bgcolor": "#E5ECF6",
           "caxis": {
            "gridcolor": "white",
            "linecolor": "white",
            "ticks": ""
           }
          },
          "title": {
           "x": 0.05
          },
          "xaxis": {
           "automargin": true,
           "gridcolor": "white",
           "linecolor": "white",
           "ticks": "",
           "title": {
            "standoff": 15
           },
           "zerolinecolor": "white",
           "zerolinewidth": 2
          },
          "yaxis": {
           "automargin": true,
           "gridcolor": "white",
           "linecolor": "white",
           "ticks": "",
           "title": {
            "standoff": 15
           },
           "zerolinecolor": "white",
           "zerolinewidth": 2
          }
         }
        },
        "title": {
         "text": "Boxplot da F1-Score Balanceada do Classificador Sim 0"
        },
        "xaxis": {
         "anchor": "y",
         "domain": [
          0,
          1
         ],
         "title": {
          "text": "Nome"
         }
        },
        "yaxis": {
         "anchor": "x",
         "domain": [
          0,
          1
         ],
         "range": [
          0,
          1
         ],
         "title": {
          "text": "F1-score Balanceada"
         }
        }
       }
      }
     },
     "metadata": {},
     "output_type": "display_data"
    },
    {
     "data": {
      "application/vnd.plotly.v1+json": {
       "config": {
        "plotlyServerURL": "https://plot.ly"
       },
       "data": [
        {
         "alignmentgroup": "True",
         "boxpoints": "all",
         "hovertemplate": "Nome=%{x}<br>F1-score Balanceada=%{y}<extra></extra>",
         "legendgroup": "",
         "marker": {
          "color": "rgb(153,153,153)"
         },
         "name": "",
         "notched": false,
         "offsetgroup": "",
         "orientation": "v",
         "showlegend": false,
         "type": "box",
         "x": [
          "logreg",
          "KNN",
          "GaussianNB",
          "Perceptron",
          "LinearSVC",
          "SGD",
          "Dtree",
          "RForest",
          "ADA",
          "GBC",
          "ETC",
          "logreg",
          "KNN",
          "GaussianNB",
          "Perceptron",
          "LinearSVC",
          "SGD",
          "Dtree",
          "RForest",
          "ADA",
          "GBC",
          "ETC",
          "logreg",
          "KNN",
          "GaussianNB",
          "Perceptron",
          "LinearSVC",
          "SGD",
          "Dtree",
          "RForest",
          "ADA",
          "GBC",
          "ETC",
          "logreg",
          "KNN",
          "GaussianNB",
          "Perceptron",
          "LinearSVC",
          "SGD",
          "Dtree",
          "RForest",
          "ADA",
          "GBC",
          "ETC",
          "logreg",
          "KNN",
          "GaussianNB",
          "Perceptron",
          "LinearSVC",
          "SGD",
          "Dtree",
          "RForest",
          "ADA",
          "GBC",
          "ETC",
          "logreg",
          "KNN",
          "GaussianNB",
          "Perceptron",
          "LinearSVC",
          "SGD",
          "Dtree",
          "RForest",
          "ADA",
          "GBC",
          "ETC",
          "logreg",
          "KNN",
          "GaussianNB",
          "Perceptron",
          "LinearSVC",
          "SGD",
          "Dtree",
          "RForest",
          "ADA",
          "GBC",
          "ETC",
          "logreg",
          "KNN",
          "GaussianNB",
          "Perceptron",
          "LinearSVC",
          "SGD",
          "Dtree",
          "RForest",
          "ADA",
          "GBC",
          "ETC",
          "logreg",
          "KNN",
          "GaussianNB",
          "Perceptron",
          "LinearSVC",
          "SGD",
          "Dtree",
          "RForest",
          "ADA",
          "GBC",
          "ETC",
          "logreg",
          "KNN",
          "GaussianNB",
          "Perceptron",
          "LinearSVC",
          "SGD",
          "Dtree",
          "RForest",
          "ADA",
          "GBC",
          "ETC",
          "logreg",
          "KNN",
          "GaussianNB",
          "Perceptron",
          "LinearSVC",
          "SGD",
          "Dtree",
          "RForest",
          "ADA",
          "GBC",
          "ETC",
          "logreg",
          "KNN",
          "GaussianNB",
          "Perceptron",
          "LinearSVC",
          "SGD",
          "Dtree",
          "RForest",
          "ADA",
          "GBC",
          "ETC",
          "logreg",
          "KNN",
          "GaussianNB",
          "Perceptron",
          "LinearSVC",
          "SGD",
          "Dtree",
          "RForest",
          "ADA",
          "GBC",
          "ETC",
          "logreg",
          "KNN",
          "GaussianNB",
          "Perceptron",
          "LinearSVC",
          "SGD",
          "Dtree",
          "RForest",
          "ADA",
          "GBC",
          "ETC",
          "logreg",
          "KNN",
          "GaussianNB",
          "Perceptron",
          "LinearSVC",
          "SGD",
          "Dtree",
          "RForest",
          "ADA",
          "GBC",
          "ETC",
          "logreg",
          "KNN",
          "GaussianNB",
          "Perceptron",
          "LinearSVC",
          "SGD",
          "Dtree",
          "RForest",
          "ADA",
          "GBC",
          "ETC",
          "logreg",
          "KNN",
          "GaussianNB",
          "Perceptron",
          "LinearSVC",
          "SGD",
          "Dtree",
          "RForest",
          "ADA",
          "GBC",
          "ETC",
          "logreg",
          "KNN",
          "GaussianNB",
          "Perceptron",
          "LinearSVC",
          "SGD",
          "Dtree",
          "RForest",
          "ADA",
          "GBC",
          "ETC",
          "logreg",
          "KNN",
          "GaussianNB",
          "Perceptron",
          "LinearSVC",
          "SGD",
          "Dtree",
          "RForest",
          "ADA",
          "GBC",
          "ETC",
          "logreg",
          "KNN",
          "GaussianNB",
          "Perceptron",
          "LinearSVC",
          "SGD",
          "Dtree",
          "RForest",
          "ADA",
          "GBC",
          "ETC",
          "logreg",
          "KNN",
          "GaussianNB",
          "Perceptron",
          "LinearSVC",
          "SGD",
          "Dtree",
          "RForest",
          "ADA",
          "GBC",
          "ETC",
          "logreg",
          "KNN",
          "GaussianNB",
          "Perceptron",
          "LinearSVC",
          "SGD",
          "Dtree",
          "RForest",
          "ADA",
          "GBC",
          "ETC",
          "logreg",
          "KNN",
          "GaussianNB",
          "Perceptron",
          "LinearSVC",
          "SGD",
          "Dtree",
          "RForest",
          "ADA",
          "GBC",
          "ETC",
          "logreg",
          "KNN",
          "GaussianNB",
          "Perceptron",
          "LinearSVC",
          "SGD",
          "Dtree",
          "RForest",
          "ADA",
          "GBC",
          "ETC",
          "logreg",
          "KNN",
          "GaussianNB",
          "Perceptron",
          "LinearSVC",
          "SGD",
          "Dtree",
          "RForest",
          "ADA",
          "GBC",
          "ETC"
         ],
         "x0": " ",
         "xaxis": "x",
         "y": [
          0.6812484522635758,
          0.9071793984468536,
          0.5477037923652085,
          0.6426293107601027,
          0.67265568562504,
          0.7121191735811438,
          0.8679702805904806,
          0.9047311021717452,
          0.7443350159589468,
          0.7950964672273432,
          0.9328613323146924,
          0.6568738722966397,
          0.9084525114023676,
          0.542458379420673,
          0.5014222655513509,
          0.6490000430293958,
          0.7088973095346476,
          0.8636467865140153,
          0.9040307687336576,
          0.7559700927752221,
          0.7963852356485897,
          0.9347852322365904,
          0.6396041951048337,
          0.910712235275939,
          0.5278812050069017,
          0.672059563397189,
          0.6325037918218018,
          0.682214306398659,
          0.8650029151481551,
          0.9030714042013048,
          0.7352764691920372,
          0.7943764791063448,
          0.9360767718054964,
          0.595907779050799,
          0.9162819478861786,
          0.52150091853123,
          0.5349245662832611,
          0.5917590478714181,
          0.6060171626590891,
          0.8655050249233538,
          0.9109493176325958,
          0.7075741364848325,
          0.7775135612949645,
          0.9363472024945798,
          0.533692232046733,
          0.9267364440698026,
          0.5130010491940583,
          0.5152731556488988,
          0.5285972846508005,
          0.5764045815289549,
          0.8408707294565061,
          0.9167250859708492,
          0.6769060354303847,
          0.7483412619947838,
          0.955921802305813,
          0.7118038601196435,
          0.9858377157934302,
          0.5559688635641826,
          0.5754517864664475,
          0.7005530447675423,
          0.7280216352284902,
          0.9870676395465212,
          0.9943849286746465,
          0.8172965095176039,
          0.897410433029444,
          0.9958589077461496,
          0.682973549793093,
          0.987030861725254,
          0.5527048926653879,
          0.5329579662919225,
          0.673134281481687,
          0.7086152623249393,
          0.9888921410486216,
          0.9956482834655864,
          0.8280664223545026,
          0.894404101723636,
          0.9966309572047878,
          0.6582538351607796,
          0.9855928055457122,
          0.5356996255740771,
          0.508064471096509,
          0.6505442326851323,
          0.7013747470274846,
          0.9824881018985452,
          0.9907352095732276,
          0.8138184819262739,
          0.8806053572235211,
          0.995455332932838,
          0.6151060334228227,
          0.9852076303960198,
          0.5317539632635246,
          0.4717190899992715,
          0.6105594255262129,
          0.695320076785867,
          0.981926477485441,
          0.9936479977128432,
          0.7613622719060794,
          0.8626554965552741,
          0.9955957147379478,
          0.5559168471347751,
          0.9181016050717676,
          0.5260613385788392,
          0.536842429549646,
          0.5503355370156793,
          0.6093731216329118,
          0.8689128607434127,
          0.9171479617713124,
          0.7255748952998861,
          0.824262815684283,
          0.9286922821487796,
          0.7106400753644446,
          0.9941743694909004,
          0.5867151049409126,
          0.515290567091202,
          0.7014937574049291,
          0.7564128314118558,
          0.99064745920507,
          0.9967362683593196,
          0.86785395869178,
          0.9260118404137668,
          0.9978417266180404,
          0.6734362140295066,
          0.9952271680415394,
          0.5804547529439636,
          0.5427630345160074,
          0.6655068622476139,
          0.6993984518512043,
          0.9942445589515106,
          0.9978592664277092,
          0.8655677199381682,
          0.924311638696571,
          0.9987190723286372,
          0.6610576301829005,
          0.9927882017406816,
          0.5654970107333488,
          0.5381770025409516,
          0.6551825695205384,
          0.7285993117242429,
          0.9879099288800955,
          0.9931390764751634,
          0.8493964521253038,
          0.911875441095003,
          0.99754342856278,
          0.6114990445650725,
          0.9901034260022108,
          0.557623855176384,
          0.5584886255400182,
          0.6076141202085777,
          0.6209268177898951,
          0.9834701025826394,
          0.995227226052838,
          0.8119223362158992,
          0.8805670305092657,
          0.9970170185864876,
          0.5279520479254222,
          0.9167946541083676,
          0.547835052059052,
          0.5828227564041241,
          0.5238380956637467,
          0.5990274260273629,
          0.8717057527986521,
          0.9171472032625853,
          0.7634092416830683,
          0.834631871132898,
          0.92646641192654,
          0.7380377499444684,
          0.9956483520242684,
          0.5946545076978506,
          0.5078009651791604,
          0.7294197553475291,
          0.7037232075773083,
          0.9906648661439196,
          0.99803474165698,
          0.8970685412190386,
          0.9326587614575038,
          0.9983856810543787,
          0.7002576190982109,
          0.996701158479572,
          0.5923420137436,
          0.5583932078089997,
          0.6938410187082336,
          0.6879016705783746,
          0.994490260302596,
          0.9993507631860602,
          0.8692050655544291,
          0.9250536778714497,
          0.9993858571253784,
          0.6809626783239888,
          0.9941042275849435,
          0.5721937213240151,
          0.5492551805489595,
          0.6758567545638977,
          0.6530768013863322,
          0.9891905375516168,
          0.9941040925250598,
          0.8639250716803244,
          0.9079334075673844,
          0.9978066291437636,
          0.6317865842010418,
          0.9908227733779376,
          0.5697361898456424,
          0.6420528828114338,
          0.6280859022656926,
          0.6553034540432313,
          0.9842054135147456,
          0.9964204030339544,
          0.8077539813503016,
          0.8828414638038294,
          0.997508326813902,
          0.5565008996731803,
          0.9161827855032942,
          0.5639003645035301,
          0.6061707814428803,
          0.5515689073070873,
          0.6000377463573368,
          0.8695256134222916,
          0.916077850494176,
          0.7786333803296107,
          0.8356854821663354,
          0.9278672946797144,
          0.7599801157593084,
          0.977531456995124,
          0.592729448985221,
          0.5341944976851658,
          0.7476748320323269,
          0.781175983905276,
          0.981240037952945,
          0.9881548419895182,
          0.8952280568441565,
          0.9305353937403524,
          0.9886988237610028,
          0.7153977045256572,
          0.9788297423483202,
          0.592480961766786,
          0.5515855694834081,
          0.7065401710342063,
          0.6999768860593294,
          0.9822561631765192,
          0.9899622502188944,
          0.8926444057558288,
          0.921573240844518,
          0.9902079228844428,
          0.6878840591447453,
          0.9760759346838276,
          0.5706636394583974,
          0.4529740560128861,
          0.6838345090578063,
          0.6878558553045212,
          0.9765385706276932,
          0.984014293497126,
          0.8493199526520255,
          0.9055519407597824,
          0.9876460937776674,
          0.6435192839240403,
          0.9727972801252694,
          0.5701205995480567,
          0.5443295278785296,
          0.6409821063606758,
          0.6839591724050612,
          0.9711878936060896,
          0.9864355113919532,
          0.8171495685810162,
          0.8719644026795148,
          0.9879269336677646,
          0.5947502722419954,
          0.9188610043841692,
          0.5679425729143003,
          0.7200085982078774,
          0.5890816304323736,
          0.5982026617077921,
          0.8638722151427066,
          0.9199716287648472,
          0.7926431315006791,
          0.8444728523786722,
          0.929788281637008
         ],
         "y0": " ",
         "yaxis": "y"
        }
       ],
       "layout": {
        "boxmode": "group",
        "legend": {
         "tracegroupgap": 0
        },
        "template": {
         "data": {
          "bar": [
           {
            "error_x": {
             "color": "#2a3f5f"
            },
            "error_y": {
             "color": "#2a3f5f"
            },
            "marker": {
             "line": {
              "color": "#E5ECF6",
              "width": 0.5
             },
             "pattern": {
              "fillmode": "overlay",
              "size": 10,
              "solidity": 0.2
             }
            },
            "type": "bar"
           }
          ],
          "barpolar": [
           {
            "marker": {
             "line": {
              "color": "#E5ECF6",
              "width": 0.5
             },
             "pattern": {
              "fillmode": "overlay",
              "size": 10,
              "solidity": 0.2
             }
            },
            "type": "barpolar"
           }
          ],
          "carpet": [
           {
            "aaxis": {
             "endlinecolor": "#2a3f5f",
             "gridcolor": "white",
             "linecolor": "white",
             "minorgridcolor": "white",
             "startlinecolor": "#2a3f5f"
            },
            "baxis": {
             "endlinecolor": "#2a3f5f",
             "gridcolor": "white",
             "linecolor": "white",
             "minorgridcolor": "white",
             "startlinecolor": "#2a3f5f"
            },
            "type": "carpet"
           }
          ],
          "choropleth": [
           {
            "colorbar": {
             "outlinewidth": 0,
             "ticks": ""
            },
            "type": "choropleth"
           }
          ],
          "contour": [
           {
            "colorbar": {
             "outlinewidth": 0,
             "ticks": ""
            },
            "colorscale": [
             [
              0,
              "#0d0887"
             ],
             [
              0.1111111111111111,
              "#46039f"
             ],
             [
              0.2222222222222222,
              "#7201a8"
             ],
             [
              0.3333333333333333,
              "#9c179e"
             ],
             [
              0.4444444444444444,
              "#bd3786"
             ],
             [
              0.5555555555555556,
              "#d8576b"
             ],
             [
              0.6666666666666666,
              "#ed7953"
             ],
             [
              0.7777777777777778,
              "#fb9f3a"
             ],
             [
              0.8888888888888888,
              "#fdca26"
             ],
             [
              1,
              "#f0f921"
             ]
            ],
            "type": "contour"
           }
          ],
          "contourcarpet": [
           {
            "colorbar": {
             "outlinewidth": 0,
             "ticks": ""
            },
            "type": "contourcarpet"
           }
          ],
          "heatmap": [
           {
            "colorbar": {
             "outlinewidth": 0,
             "ticks": ""
            },
            "colorscale": [
             [
              0,
              "#0d0887"
             ],
             [
              0.1111111111111111,
              "#46039f"
             ],
             [
              0.2222222222222222,
              "#7201a8"
             ],
             [
              0.3333333333333333,
              "#9c179e"
             ],
             [
              0.4444444444444444,
              "#bd3786"
             ],
             [
              0.5555555555555556,
              "#d8576b"
             ],
             [
              0.6666666666666666,
              "#ed7953"
             ],
             [
              0.7777777777777778,
              "#fb9f3a"
             ],
             [
              0.8888888888888888,
              "#fdca26"
             ],
             [
              1,
              "#f0f921"
             ]
            ],
            "type": "heatmap"
           }
          ],
          "heatmapgl": [
           {
            "colorbar": {
             "outlinewidth": 0,
             "ticks": ""
            },
            "colorscale": [
             [
              0,
              "#0d0887"
             ],
             [
              0.1111111111111111,
              "#46039f"
             ],
             [
              0.2222222222222222,
              "#7201a8"
             ],
             [
              0.3333333333333333,
              "#9c179e"
             ],
             [
              0.4444444444444444,
              "#bd3786"
             ],
             [
              0.5555555555555556,
              "#d8576b"
             ],
             [
              0.6666666666666666,
              "#ed7953"
             ],
             [
              0.7777777777777778,
              "#fb9f3a"
             ],
             [
              0.8888888888888888,
              "#fdca26"
             ],
             [
              1,
              "#f0f921"
             ]
            ],
            "type": "heatmapgl"
           }
          ],
          "histogram": [
           {
            "marker": {
             "pattern": {
              "fillmode": "overlay",
              "size": 10,
              "solidity": 0.2
             }
            },
            "type": "histogram"
           }
          ],
          "histogram2d": [
           {
            "colorbar": {
             "outlinewidth": 0,
             "ticks": ""
            },
            "colorscale": [
             [
              0,
              "#0d0887"
             ],
             [
              0.1111111111111111,
              "#46039f"
             ],
             [
              0.2222222222222222,
              "#7201a8"
             ],
             [
              0.3333333333333333,
              "#9c179e"
             ],
             [
              0.4444444444444444,
              "#bd3786"
             ],
             [
              0.5555555555555556,
              "#d8576b"
             ],
             [
              0.6666666666666666,
              "#ed7953"
             ],
             [
              0.7777777777777778,
              "#fb9f3a"
             ],
             [
              0.8888888888888888,
              "#fdca26"
             ],
             [
              1,
              "#f0f921"
             ]
            ],
            "type": "histogram2d"
           }
          ],
          "histogram2dcontour": [
           {
            "colorbar": {
             "outlinewidth": 0,
             "ticks": ""
            },
            "colorscale": [
             [
              0,
              "#0d0887"
             ],
             [
              0.1111111111111111,
              "#46039f"
             ],
             [
              0.2222222222222222,
              "#7201a8"
             ],
             [
              0.3333333333333333,
              "#9c179e"
             ],
             [
              0.4444444444444444,
              "#bd3786"
             ],
             [
              0.5555555555555556,
              "#d8576b"
             ],
             [
              0.6666666666666666,
              "#ed7953"
             ],
             [
              0.7777777777777778,
              "#fb9f3a"
             ],
             [
              0.8888888888888888,
              "#fdca26"
             ],
             [
              1,
              "#f0f921"
             ]
            ],
            "type": "histogram2dcontour"
           }
          ],
          "mesh3d": [
           {
            "colorbar": {
             "outlinewidth": 0,
             "ticks": ""
            },
            "type": "mesh3d"
           }
          ],
          "parcoords": [
           {
            "line": {
             "colorbar": {
              "outlinewidth": 0,
              "ticks": ""
             }
            },
            "type": "parcoords"
           }
          ],
          "pie": [
           {
            "automargin": true,
            "type": "pie"
           }
          ],
          "scatter": [
           {
            "fillpattern": {
             "fillmode": "overlay",
             "size": 10,
             "solidity": 0.2
            },
            "type": "scatter"
           }
          ],
          "scatter3d": [
           {
            "line": {
             "colorbar": {
              "outlinewidth": 0,
              "ticks": ""
             }
            },
            "marker": {
             "colorbar": {
              "outlinewidth": 0,
              "ticks": ""
             }
            },
            "type": "scatter3d"
           }
          ],
          "scattercarpet": [
           {
            "marker": {
             "colorbar": {
              "outlinewidth": 0,
              "ticks": ""
             }
            },
            "type": "scattercarpet"
           }
          ],
          "scattergeo": [
           {
            "marker": {
             "colorbar": {
              "outlinewidth": 0,
              "ticks": ""
             }
            },
            "type": "scattergeo"
           }
          ],
          "scattergl": [
           {
            "marker": {
             "colorbar": {
              "outlinewidth": 0,
              "ticks": ""
             }
            },
            "type": "scattergl"
           }
          ],
          "scattermapbox": [
           {
            "marker": {
             "colorbar": {
              "outlinewidth": 0,
              "ticks": ""
             }
            },
            "type": "scattermapbox"
           }
          ],
          "scatterpolar": [
           {
            "marker": {
             "colorbar": {
              "outlinewidth": 0,
              "ticks": ""
             }
            },
            "type": "scatterpolar"
           }
          ],
          "scatterpolargl": [
           {
            "marker": {
             "colorbar": {
              "outlinewidth": 0,
              "ticks": ""
             }
            },
            "type": "scatterpolargl"
           }
          ],
          "scatterternary": [
           {
            "marker": {
             "colorbar": {
              "outlinewidth": 0,
              "ticks": ""
             }
            },
            "type": "scatterternary"
           }
          ],
          "surface": [
           {
            "colorbar": {
             "outlinewidth": 0,
             "ticks": ""
            },
            "colorscale": [
             [
              0,
              "#0d0887"
             ],
             [
              0.1111111111111111,
              "#46039f"
             ],
             [
              0.2222222222222222,
              "#7201a8"
             ],
             [
              0.3333333333333333,
              "#9c179e"
             ],
             [
              0.4444444444444444,
              "#bd3786"
             ],
             [
              0.5555555555555556,
              "#d8576b"
             ],
             [
              0.6666666666666666,
              "#ed7953"
             ],
             [
              0.7777777777777778,
              "#fb9f3a"
             ],
             [
              0.8888888888888888,
              "#fdca26"
             ],
             [
              1,
              "#f0f921"
             ]
            ],
            "type": "surface"
           }
          ],
          "table": [
           {
            "cells": {
             "fill": {
              "color": "#EBF0F8"
             },
             "line": {
              "color": "white"
             }
            },
            "header": {
             "fill": {
              "color": "#C8D4E3"
             },
             "line": {
              "color": "white"
             }
            },
            "type": "table"
           }
          ]
         },
         "layout": {
          "annotationdefaults": {
           "arrowcolor": "#2a3f5f",
           "arrowhead": 0,
           "arrowwidth": 1
          },
          "autotypenumbers": "strict",
          "coloraxis": {
           "colorbar": {
            "outlinewidth": 0,
            "ticks": ""
           }
          },
          "colorscale": {
           "diverging": [
            [
             0,
             "#8e0152"
            ],
            [
             0.1,
             "#c51b7d"
            ],
            [
             0.2,
             "#de77ae"
            ],
            [
             0.3,
             "#f1b6da"
            ],
            [
             0.4,
             "#fde0ef"
            ],
            [
             0.5,
             "#f7f7f7"
            ],
            [
             0.6,
             "#e6f5d0"
            ],
            [
             0.7,
             "#b8e186"
            ],
            [
             0.8,
             "#7fbc41"
            ],
            [
             0.9,
             "#4d9221"
            ],
            [
             1,
             "#276419"
            ]
           ],
           "sequential": [
            [
             0,
             "#0d0887"
            ],
            [
             0.1111111111111111,
             "#46039f"
            ],
            [
             0.2222222222222222,
             "#7201a8"
            ],
            [
             0.3333333333333333,
             "#9c179e"
            ],
            [
             0.4444444444444444,
             "#bd3786"
            ],
            [
             0.5555555555555556,
             "#d8576b"
            ],
            [
             0.6666666666666666,
             "#ed7953"
            ],
            [
             0.7777777777777778,
             "#fb9f3a"
            ],
            [
             0.8888888888888888,
             "#fdca26"
            ],
            [
             1,
             "#f0f921"
            ]
           ],
           "sequentialminus": [
            [
             0,
             "#0d0887"
            ],
            [
             0.1111111111111111,
             "#46039f"
            ],
            [
             0.2222222222222222,
             "#7201a8"
            ],
            [
             0.3333333333333333,
             "#9c179e"
            ],
            [
             0.4444444444444444,
             "#bd3786"
            ],
            [
             0.5555555555555556,
             "#d8576b"
            ],
            [
             0.6666666666666666,
             "#ed7953"
            ],
            [
             0.7777777777777778,
             "#fb9f3a"
            ],
            [
             0.8888888888888888,
             "#fdca26"
            ],
            [
             1,
             "#f0f921"
            ]
           ]
          },
          "colorway": [
           "#636efa",
           "#EF553B",
           "#00cc96",
           "#ab63fa",
           "#FFA15A",
           "#19d3f3",
           "#FF6692",
           "#B6E880",
           "#FF97FF",
           "#FECB52"
          ],
          "font": {
           "color": "#2a3f5f"
          },
          "geo": {
           "bgcolor": "white",
           "lakecolor": "white",
           "landcolor": "#E5ECF6",
           "showlakes": true,
           "showland": true,
           "subunitcolor": "white"
          },
          "hoverlabel": {
           "align": "left"
          },
          "hovermode": "closest",
          "mapbox": {
           "style": "light"
          },
          "paper_bgcolor": "white",
          "plot_bgcolor": "#E5ECF6",
          "polar": {
           "angularaxis": {
            "gridcolor": "white",
            "linecolor": "white",
            "ticks": ""
           },
           "bgcolor": "#E5ECF6",
           "radialaxis": {
            "gridcolor": "white",
            "linecolor": "white",
            "ticks": ""
           }
          },
          "scene": {
           "xaxis": {
            "backgroundcolor": "#E5ECF6",
            "gridcolor": "white",
            "gridwidth": 2,
            "linecolor": "white",
            "showbackground": true,
            "ticks": "",
            "zerolinecolor": "white"
           },
           "yaxis": {
            "backgroundcolor": "#E5ECF6",
            "gridcolor": "white",
            "gridwidth": 2,
            "linecolor": "white",
            "showbackground": true,
            "ticks": "",
            "zerolinecolor": "white"
           },
           "zaxis": {
            "backgroundcolor": "#E5ECF6",
            "gridcolor": "white",
            "gridwidth": 2,
            "linecolor": "white",
            "showbackground": true,
            "ticks": "",
            "zerolinecolor": "white"
           }
          },
          "shapedefaults": {
           "line": {
            "color": "#2a3f5f"
           }
          },
          "ternary": {
           "aaxis": {
            "gridcolor": "white",
            "linecolor": "white",
            "ticks": ""
           },
           "baxis": {
            "gridcolor": "white",
            "linecolor": "white",
            "ticks": ""
           },
           "bgcolor": "#E5ECF6",
           "caxis": {
            "gridcolor": "white",
            "linecolor": "white",
            "ticks": ""
           }
          },
          "title": {
           "x": 0.05
          },
          "xaxis": {
           "automargin": true,
           "gridcolor": "white",
           "linecolor": "white",
           "ticks": "",
           "title": {
            "standoff": 15
           },
           "zerolinecolor": "white",
           "zerolinewidth": 2
          },
          "yaxis": {
           "automargin": true,
           "gridcolor": "white",
           "linecolor": "white",
           "ticks": "",
           "title": {
            "standoff": 15
           },
           "zerolinecolor": "white",
           "zerolinewidth": 2
          }
         }
        },
        "title": {
         "text": "Boxplot da F1-score Balanceada do classificador Real sem features de temperatura"
        },
        "xaxis": {
         "anchor": "y",
         "domain": [
          0,
          1
         ],
         "title": {
          "text": "Nome"
         }
        },
        "yaxis": {
         "anchor": "x",
         "domain": [
          0,
          1
         ],
         "range": [
          0,
          1
         ],
         "title": {
          "text": "F1-score Balanceada"
         }
        }
       }
      }
     },
     "metadata": {},
     "output_type": "display_data"
    },
    {
     "data": {
      "application/vnd.plotly.v1+json": {
       "config": {
        "plotlyServerURL": "https://plot.ly"
       },
       "data": [
        {
         "alignmentgroup": "True",
         "boxpoints": "all",
         "hovertemplate": "Nome=%{x}<br>F1-score Balanceada=%{y}<extra></extra>",
         "legendgroup": "",
         "marker": {
          "color": "#636efa"
         },
         "name": "",
         "notched": false,
         "offsetgroup": "",
         "orientation": "v",
         "showlegend": false,
         "type": "box",
         "x": [
          "logreg",
          "KNN",
          "GaussianNB",
          "Perceptron",
          "LinearSVC",
          "SGD",
          "Dtree",
          "RForest",
          "ADA",
          "GBC",
          "ETC",
          "logreg",
          "KNN",
          "GaussianNB",
          "Perceptron",
          "LinearSVC",
          "SGD",
          "Dtree",
          "RForest",
          "ADA",
          "GBC",
          "ETC",
          "logreg",
          "KNN",
          "GaussianNB",
          "Perceptron",
          "LinearSVC",
          "SGD",
          "Dtree",
          "RForest",
          "ADA",
          "GBC",
          "ETC",
          "logreg",
          "KNN",
          "GaussianNB",
          "Perceptron",
          "LinearSVC",
          "SGD",
          "Dtree",
          "RForest",
          "ADA",
          "GBC",
          "ETC",
          "logreg",
          "KNN",
          "GaussianNB",
          "Perceptron",
          "LinearSVC",
          "SGD",
          "Dtree",
          "RForest",
          "ADA",
          "GBC",
          "ETC",
          "logreg",
          "KNN",
          "GaussianNB",
          "Perceptron",
          "LinearSVC",
          "SGD",
          "Dtree",
          "RForest",
          "ADA",
          "GBC",
          "ETC",
          "logreg",
          "KNN",
          "GaussianNB",
          "Perceptron",
          "LinearSVC",
          "SGD",
          "Dtree",
          "RForest",
          "ADA",
          "GBC",
          "ETC",
          "logreg",
          "KNN",
          "GaussianNB",
          "Perceptron",
          "LinearSVC",
          "SGD",
          "Dtree",
          "RForest",
          "ADA",
          "GBC",
          "ETC",
          "logreg",
          "KNN",
          "GaussianNB",
          "Perceptron",
          "LinearSVC",
          "SGD",
          "Dtree",
          "RForest",
          "ADA",
          "GBC",
          "ETC",
          "logreg",
          "KNN",
          "GaussianNB",
          "Perceptron",
          "LinearSVC",
          "SGD",
          "Dtree",
          "RForest",
          "ADA",
          "GBC",
          "ETC",
          "logreg",
          "KNN",
          "GaussianNB",
          "Perceptron",
          "LinearSVC",
          "SGD",
          "Dtree",
          "RForest",
          "ADA",
          "GBC",
          "ETC",
          "logreg",
          "KNN",
          "GaussianNB",
          "Perceptron",
          "LinearSVC",
          "SGD",
          "Dtree",
          "RForest",
          "ADA",
          "GBC",
          "ETC",
          "logreg",
          "KNN",
          "GaussianNB",
          "Perceptron",
          "LinearSVC",
          "SGD",
          "Dtree",
          "RForest",
          "ADA",
          "GBC",
          "ETC",
          "logreg",
          "KNN",
          "GaussianNB",
          "Perceptron",
          "LinearSVC",
          "SGD",
          "Dtree",
          "RForest",
          "ADA",
          "GBC",
          "ETC",
          "logreg",
          "KNN",
          "GaussianNB",
          "Perceptron",
          "LinearSVC",
          "SGD",
          "Dtree",
          "RForest",
          "ADA",
          "GBC",
          "ETC",
          "logreg",
          "KNN",
          "GaussianNB",
          "Perceptron",
          "LinearSVC",
          "SGD",
          "Dtree",
          "RForest",
          "ADA",
          "GBC",
          "ETC",
          "logreg",
          "KNN",
          "GaussianNB",
          "Perceptron",
          "LinearSVC",
          "SGD",
          "Dtree",
          "RForest",
          "ADA",
          "GBC",
          "ETC",
          "logreg",
          "KNN",
          "GaussianNB",
          "Perceptron",
          "LinearSVC",
          "SGD",
          "Dtree",
          "RForest",
          "ADA",
          "GBC",
          "ETC",
          "logreg",
          "KNN",
          "GaussianNB",
          "Perceptron",
          "LinearSVC",
          "SGD",
          "Dtree",
          "RForest",
          "ADA",
          "GBC",
          "ETC",
          "logreg",
          "KNN",
          "GaussianNB",
          "Perceptron",
          "LinearSVC",
          "SGD",
          "Dtree",
          "RForest",
          "ADA",
          "GBC",
          "ETC",
          "logreg",
          "KNN",
          "GaussianNB",
          "Perceptron",
          "LinearSVC",
          "SGD",
          "Dtree",
          "RForest",
          "ADA",
          "GBC",
          "ETC",
          "logreg",
          "KNN",
          "GaussianNB",
          "Perceptron",
          "LinearSVC",
          "SGD",
          "Dtree",
          "RForest",
          "ADA",
          "GBC",
          "ETC",
          "logreg",
          "KNN",
          "GaussianNB",
          "Perceptron",
          "LinearSVC",
          "SGD",
          "Dtree",
          "RForest",
          "ADA",
          "GBC",
          "ETC",
          "logreg",
          "KNN",
          "GaussianNB",
          "Perceptron",
          "LinearSVC",
          "SGD",
          "Dtree",
          "RForest",
          "ADA",
          "GBC",
          "ETC",
          "logreg",
          "KNN",
          "GaussianNB",
          "Perceptron",
          "LinearSVC",
          "SGD",
          "Dtree",
          "RForest",
          "ADA",
          "GBC",
          "ETC"
         ],
         "x0": " ",
         "xaxis": "x",
         "y": [
          0.8302183582862742,
          0.919649992697962,
          0.5415233530727672,
          0.857841879473074,
          0.829742381157872,
          0.8273013709467212,
          0.8832355311429896,
          0.9198199478145894,
          0.7634939196092638,
          0.8461004656902887,
          0.933204213210058,
          0.8294901779291738,
          0.9204780561738938,
          0.5377904569873357,
          0.8196939747800834,
          0.8288480839143186,
          0.8319223705194396,
          0.8827955847812903,
          0.9192740767745016,
          0.7846014409550981,
          0.8551874162997023,
          0.9324728544326136,
          0.8236122180136286,
          0.9213517851146306,
          0.5230859833689194,
          0.7783399871207043,
          0.8227499623196288,
          0.8273439991052978,
          0.8776788224684907,
          0.9183627870372252,
          0.764338447974764,
          0.8509858007862129,
          0.9302504320416856,
          0.7917827324048309,
          0.922991949144516,
          0.5175316965574642,
          0.7725375946204226,
          0.7883246745810447,
          0.7893679251425916,
          0.8801697919812439,
          0.923216756827167,
          0.7268130307537465,
          0.8465594139941434,
          0.9342186558567812,
          0.7679523611031975,
          0.9503428237667858,
          0.5097288822358464,
          0.7264649633315339,
          0.7740131431332954,
          0.7833737848468378,
          0.8600432219870836,
          0.9460123332015252,
          0.7033259825574141,
          0.807983455352759,
          0.967970914920496,
          0.9172989746627284,
          0.9914193326970268,
          0.5458094401862607,
          0.9267077675508332,
          0.9126188844002736,
          0.9154641767544583,
          0.9919634713298716,
          0.9959817409391484,
          0.8613684785656676,
          0.957374456899898,
          0.9965257024132684,
          0.9156765970375096,
          0.9933845359555106,
          0.5458799771450141,
          0.8616609487778643,
          0.911804819596052,
          0.9063575519793186,
          0.9946129999703976,
          0.9970871841607049,
          0.8700685820798251,
          0.9608372506790204,
          0.9975785087578428,
          0.9053352129718426,
          0.9918405104423036,
          0.5239117085949399,
          0.8464986355207658,
          0.901237221101107,
          0.8928803339880771,
          0.9876819892701848,
          0.9917528804453584,
          0.8351812392224327,
          0.9509454726330658,
          0.9937532715791608,
          0.8491314881250014,
          0.9921037331281156,
          0.525961380851558,
          0.8188378882434838,
          0.8438330619985593,
          0.8499999942259546,
          0.9887699328657537,
          0.9962098477676624,
          0.8177532268615294,
          0.9339997964420326,
          0.9972977621904512,
          0.8183515021633944,
          0.93790582003097,
          0.5211271499222075,
          0.8232536266817776,
          0.8189502924200487,
          0.8374437105320238,
          0.8862100404481806,
          0.932079931343517,
          0.7810575095656245,
          0.884724059779378,
          0.9329903473242523,
          0.9559092160885988,
          0.994437607069432,
          0.5781696866978197,
          0.933659600305831,
          0.9506245899957516,
          0.9408121162274712,
          0.9944551577123014,
          0.99696437857079,
          0.8923708226273436,
          0.9813096018548456,
          0.9975434286686712,
          0.952568657680092,
          0.9961396316174886,
          0.5709804859342101,
          0.939843533728178,
          0.9490653750070386,
          0.9394944609617816,
          0.9958764297799244,
          0.9983330364452682,
          0.8929354582350679,
          0.9829944293764216,
          0.998754165571535,
          0.938708287028047,
          0.9944376133993322,
          0.5578828283163015,
          0.9038212351506838,
          0.9351803434182796,
          0.9371601952097054,
          0.9913491863399048,
          0.9931741346988956,
          0.8859297885033488,
          0.9675025134303008,
          0.9949113488499436,
          0.8721338308170079,
          0.9951219490507286,
          0.5492028524005934,
          0.8353856393100688,
          0.8676651331219315,
          0.8774252224613407,
          0.9894542018268104,
          0.9973153176825628,
          0.8592640831514472,
          0.9426929935923498,
          0.9983505873023908,
          0.8385639431486901,
          0.9387442492142988,
          0.5419934379897929,
          0.7893315781850019,
          0.840833009950536,
          0.8462085112725255,
          0.876380598002934,
          0.931729138981206,
          0.8031747117415655,
          0.8787535051421654,
          0.932822996445458,
          0.9759952891079094,
          0.9952623243900558,
          0.5801764078062361,
          0.959834977644908,
          0.9733622174029172,
          0.9682899507365184,
          0.9961221192372622,
          0.998666431025678,
          0.9233848130842204,
          0.9861024191343368,
          0.998543602684169,
          0.9714686331758544,
          0.9970170025282952,
          0.582656444584099,
          0.9508438537894204,
          0.9690646825848804,
          0.966849872466536,
          0.9983154936475632,
          0.9998771714326394,
          0.9187354386935156,
          0.9891380700233696,
          0.999824530617462,
          0.9544653406695384,
          0.9951570447139036,
          0.5568069147553547,
          0.9289723650093116,
          0.9509038102142732,
          0.948725907655648,
          0.9923843857629993,
          0.994367271550716,
          0.8699509840807285,
          0.9690252832592916,
          0.9964554799396942,
          0.880413887888355,
          0.9956308124111248,
          0.5617681516213232,
          0.7699385392639823,
          0.8765517436009183,
          0.8767065155294668,
          0.9920158471838562,
          0.9988068070598692,
          0.8480116822982444,
          0.9405185919306642,
          0.999456044831564,
          0.8485447879048886,
          0.9401644400976832,
          0.5553979255733589,
          0.8676833336016935,
          0.8517736616216508,
          0.8474440206579972,
          0.8874395501890244,
          0.9329187377158548,
          0.7929569117454818,
          0.8742390373591187,
          0.9333099255726828,
          0.965722786625461,
          0.9848726553984324,
          0.5785296768471866,
          0.9571425535909086,
          0.9631570124071968,
          0.9590729522845256,
          0.993419870493993,
          0.9977715387505116,
          0.8869953771959297,
          0.982031136530824,
          0.997227583445184,
          0.9613404816702468,
          0.9868903622047684,
          0.5813516792462216,
          0.8921946000033296,
          0.9588815489207072,
          0.9560529195638828,
          0.990594217704357,
          0.9990700115380892,
          0.876834197671662,
          0.9843117110778205,
          0.9983856776725047,
          0.944846077399961,
          0.9843988594934536,
          0.5571072700793259,
          0.9231209911745044,
          0.9412490237166984,
          0.9392143215564944,
          0.9887173169901808,
          0.99306885142947,
          0.8805676454792193,
          0.9612424418108796,
          0.9948762813083848,
          0.872769875533591,
          0.9850835255318828,
          0.5597962088527636,
          0.8376096888431583,
          0.8696107301229075,
          0.8836266459132267,
          0.9881908444203428,
          0.9978066327094954,
          0.8216929506322409,
          0.932319773308367,
          0.9965081397320182,
          0.8445453099910908,
          0.9465442469210592,
          0.5608370236108774,
          0.8019534712864719,
          0.8475738527642065,
          0.8395068177045842,
          0.8834378754717546,
          0.9341529817276578,
          0.8136813145475602,
          0.8816256051999681,
          0.936052553315322
         ],
         "y0": " ",
         "yaxis": "y"
        }
       ],
       "layout": {
        "boxmode": "group",
        "legend": {
         "tracegroupgap": 0
        },
        "template": {
         "data": {
          "bar": [
           {
            "error_x": {
             "color": "#2a3f5f"
            },
            "error_y": {
             "color": "#2a3f5f"
            },
            "marker": {
             "line": {
              "color": "#E5ECF6",
              "width": 0.5
             },
             "pattern": {
              "fillmode": "overlay",
              "size": 10,
              "solidity": 0.2
             }
            },
            "type": "bar"
           }
          ],
          "barpolar": [
           {
            "marker": {
             "line": {
              "color": "#E5ECF6",
              "width": 0.5
             },
             "pattern": {
              "fillmode": "overlay",
              "size": 10,
              "solidity": 0.2
             }
            },
            "type": "barpolar"
           }
          ],
          "carpet": [
           {
            "aaxis": {
             "endlinecolor": "#2a3f5f",
             "gridcolor": "white",
             "linecolor": "white",
             "minorgridcolor": "white",
             "startlinecolor": "#2a3f5f"
            },
            "baxis": {
             "endlinecolor": "#2a3f5f",
             "gridcolor": "white",
             "linecolor": "white",
             "minorgridcolor": "white",
             "startlinecolor": "#2a3f5f"
            },
            "type": "carpet"
           }
          ],
          "choropleth": [
           {
            "colorbar": {
             "outlinewidth": 0,
             "ticks": ""
            },
            "type": "choropleth"
           }
          ],
          "contour": [
           {
            "colorbar": {
             "outlinewidth": 0,
             "ticks": ""
            },
            "colorscale": [
             [
              0,
              "#0d0887"
             ],
             [
              0.1111111111111111,
              "#46039f"
             ],
             [
              0.2222222222222222,
              "#7201a8"
             ],
             [
              0.3333333333333333,
              "#9c179e"
             ],
             [
              0.4444444444444444,
              "#bd3786"
             ],
             [
              0.5555555555555556,
              "#d8576b"
             ],
             [
              0.6666666666666666,
              "#ed7953"
             ],
             [
              0.7777777777777778,
              "#fb9f3a"
             ],
             [
              0.8888888888888888,
              "#fdca26"
             ],
             [
              1,
              "#f0f921"
             ]
            ],
            "type": "contour"
           }
          ],
          "contourcarpet": [
           {
            "colorbar": {
             "outlinewidth": 0,
             "ticks": ""
            },
            "type": "contourcarpet"
           }
          ],
          "heatmap": [
           {
            "colorbar": {
             "outlinewidth": 0,
             "ticks": ""
            },
            "colorscale": [
             [
              0,
              "#0d0887"
             ],
             [
              0.1111111111111111,
              "#46039f"
             ],
             [
              0.2222222222222222,
              "#7201a8"
             ],
             [
              0.3333333333333333,
              "#9c179e"
             ],
             [
              0.4444444444444444,
              "#bd3786"
             ],
             [
              0.5555555555555556,
              "#d8576b"
             ],
             [
              0.6666666666666666,
              "#ed7953"
             ],
             [
              0.7777777777777778,
              "#fb9f3a"
             ],
             [
              0.8888888888888888,
              "#fdca26"
             ],
             [
              1,
              "#f0f921"
             ]
            ],
            "type": "heatmap"
           }
          ],
          "heatmapgl": [
           {
            "colorbar": {
             "outlinewidth": 0,
             "ticks": ""
            },
            "colorscale": [
             [
              0,
              "#0d0887"
             ],
             [
              0.1111111111111111,
              "#46039f"
             ],
             [
              0.2222222222222222,
              "#7201a8"
             ],
             [
              0.3333333333333333,
              "#9c179e"
             ],
             [
              0.4444444444444444,
              "#bd3786"
             ],
             [
              0.5555555555555556,
              "#d8576b"
             ],
             [
              0.6666666666666666,
              "#ed7953"
             ],
             [
              0.7777777777777778,
              "#fb9f3a"
             ],
             [
              0.8888888888888888,
              "#fdca26"
             ],
             [
              1,
              "#f0f921"
             ]
            ],
            "type": "heatmapgl"
           }
          ],
          "histogram": [
           {
            "marker": {
             "pattern": {
              "fillmode": "overlay",
              "size": 10,
              "solidity": 0.2
             }
            },
            "type": "histogram"
           }
          ],
          "histogram2d": [
           {
            "colorbar": {
             "outlinewidth": 0,
             "ticks": ""
            },
            "colorscale": [
             [
              0,
              "#0d0887"
             ],
             [
              0.1111111111111111,
              "#46039f"
             ],
             [
              0.2222222222222222,
              "#7201a8"
             ],
             [
              0.3333333333333333,
              "#9c179e"
             ],
             [
              0.4444444444444444,
              "#bd3786"
             ],
             [
              0.5555555555555556,
              "#d8576b"
             ],
             [
              0.6666666666666666,
              "#ed7953"
             ],
             [
              0.7777777777777778,
              "#fb9f3a"
             ],
             [
              0.8888888888888888,
              "#fdca26"
             ],
             [
              1,
              "#f0f921"
             ]
            ],
            "type": "histogram2d"
           }
          ],
          "histogram2dcontour": [
           {
            "colorbar": {
             "outlinewidth": 0,
             "ticks": ""
            },
            "colorscale": [
             [
              0,
              "#0d0887"
             ],
             [
              0.1111111111111111,
              "#46039f"
             ],
             [
              0.2222222222222222,
              "#7201a8"
             ],
             [
              0.3333333333333333,
              "#9c179e"
             ],
             [
              0.4444444444444444,
              "#bd3786"
             ],
             [
              0.5555555555555556,
              "#d8576b"
             ],
             [
              0.6666666666666666,
              "#ed7953"
             ],
             [
              0.7777777777777778,
              "#fb9f3a"
             ],
             [
              0.8888888888888888,
              "#fdca26"
             ],
             [
              1,
              "#f0f921"
             ]
            ],
            "type": "histogram2dcontour"
           }
          ],
          "mesh3d": [
           {
            "colorbar": {
             "outlinewidth": 0,
             "ticks": ""
            },
            "type": "mesh3d"
           }
          ],
          "parcoords": [
           {
            "line": {
             "colorbar": {
              "outlinewidth": 0,
              "ticks": ""
             }
            },
            "type": "parcoords"
           }
          ],
          "pie": [
           {
            "automargin": true,
            "type": "pie"
           }
          ],
          "scatter": [
           {
            "fillpattern": {
             "fillmode": "overlay",
             "size": 10,
             "solidity": 0.2
            },
            "type": "scatter"
           }
          ],
          "scatter3d": [
           {
            "line": {
             "colorbar": {
              "outlinewidth": 0,
              "ticks": ""
             }
            },
            "marker": {
             "colorbar": {
              "outlinewidth": 0,
              "ticks": ""
             }
            },
            "type": "scatter3d"
           }
          ],
          "scattercarpet": [
           {
            "marker": {
             "colorbar": {
              "outlinewidth": 0,
              "ticks": ""
             }
            },
            "type": "scattercarpet"
           }
          ],
          "scattergeo": [
           {
            "marker": {
             "colorbar": {
              "outlinewidth": 0,
              "ticks": ""
             }
            },
            "type": "scattergeo"
           }
          ],
          "scattergl": [
           {
            "marker": {
             "colorbar": {
              "outlinewidth": 0,
              "ticks": ""
             }
            },
            "type": "scattergl"
           }
          ],
          "scattermapbox": [
           {
            "marker": {
             "colorbar": {
              "outlinewidth": 0,
              "ticks": ""
             }
            },
            "type": "scattermapbox"
           }
          ],
          "scatterpolar": [
           {
            "marker": {
             "colorbar": {
              "outlinewidth": 0,
              "ticks": ""
             }
            },
            "type": "scatterpolar"
           }
          ],
          "scatterpolargl": [
           {
            "marker": {
             "colorbar": {
              "outlinewidth": 0,
              "ticks": ""
             }
            },
            "type": "scatterpolargl"
           }
          ],
          "scatterternary": [
           {
            "marker": {
             "colorbar": {
              "outlinewidth": 0,
              "ticks": ""
             }
            },
            "type": "scatterternary"
           }
          ],
          "surface": [
           {
            "colorbar": {
             "outlinewidth": 0,
             "ticks": ""
            },
            "colorscale": [
             [
              0,
              "#0d0887"
             ],
             [
              0.1111111111111111,
              "#46039f"
             ],
             [
              0.2222222222222222,
              "#7201a8"
             ],
             [
              0.3333333333333333,
              "#9c179e"
             ],
             [
              0.4444444444444444,
              "#bd3786"
             ],
             [
              0.5555555555555556,
              "#d8576b"
             ],
             [
              0.6666666666666666,
              "#ed7953"
             ],
             [
              0.7777777777777778,
              "#fb9f3a"
             ],
             [
              0.8888888888888888,
              "#fdca26"
             ],
             [
              1,
              "#f0f921"
             ]
            ],
            "type": "surface"
           }
          ],
          "table": [
           {
            "cells": {
             "fill": {
              "color": "#EBF0F8"
             },
             "line": {
              "color": "white"
             }
            },
            "header": {
             "fill": {
              "color": "#C8D4E3"
             },
             "line": {
              "color": "white"
             }
            },
            "type": "table"
           }
          ]
         },
         "layout": {
          "annotationdefaults": {
           "arrowcolor": "#2a3f5f",
           "arrowhead": 0,
           "arrowwidth": 1
          },
          "autotypenumbers": "strict",
          "coloraxis": {
           "colorbar": {
            "outlinewidth": 0,
            "ticks": ""
           }
          },
          "colorscale": {
           "diverging": [
            [
             0,
             "#8e0152"
            ],
            [
             0.1,
             "#c51b7d"
            ],
            [
             0.2,
             "#de77ae"
            ],
            [
             0.3,
             "#f1b6da"
            ],
            [
             0.4,
             "#fde0ef"
            ],
            [
             0.5,
             "#f7f7f7"
            ],
            [
             0.6,
             "#e6f5d0"
            ],
            [
             0.7,
             "#b8e186"
            ],
            [
             0.8,
             "#7fbc41"
            ],
            [
             0.9,
             "#4d9221"
            ],
            [
             1,
             "#276419"
            ]
           ],
           "sequential": [
            [
             0,
             "#0d0887"
            ],
            [
             0.1111111111111111,
             "#46039f"
            ],
            [
             0.2222222222222222,
             "#7201a8"
            ],
            [
             0.3333333333333333,
             "#9c179e"
            ],
            [
             0.4444444444444444,
             "#bd3786"
            ],
            [
             0.5555555555555556,
             "#d8576b"
            ],
            [
             0.6666666666666666,
             "#ed7953"
            ],
            [
             0.7777777777777778,
             "#fb9f3a"
            ],
            [
             0.8888888888888888,
             "#fdca26"
            ],
            [
             1,
             "#f0f921"
            ]
           ],
           "sequentialminus": [
            [
             0,
             "#0d0887"
            ],
            [
             0.1111111111111111,
             "#46039f"
            ],
            [
             0.2222222222222222,
             "#7201a8"
            ],
            [
             0.3333333333333333,
             "#9c179e"
            ],
            [
             0.4444444444444444,
             "#bd3786"
            ],
            [
             0.5555555555555556,
             "#d8576b"
            ],
            [
             0.6666666666666666,
             "#ed7953"
            ],
            [
             0.7777777777777778,
             "#fb9f3a"
            ],
            [
             0.8888888888888888,
             "#fdca26"
            ],
            [
             1,
             "#f0f921"
            ]
           ]
          },
          "colorway": [
           "#636efa",
           "#EF553B",
           "#00cc96",
           "#ab63fa",
           "#FFA15A",
           "#19d3f3",
           "#FF6692",
           "#B6E880",
           "#FF97FF",
           "#FECB52"
          ],
          "font": {
           "color": "#2a3f5f"
          },
          "geo": {
           "bgcolor": "white",
           "lakecolor": "white",
           "landcolor": "#E5ECF6",
           "showlakes": true,
           "showland": true,
           "subunitcolor": "white"
          },
          "hoverlabel": {
           "align": "left"
          },
          "hovermode": "closest",
          "mapbox": {
           "style": "light"
          },
          "paper_bgcolor": "white",
          "plot_bgcolor": "#E5ECF6",
          "polar": {
           "angularaxis": {
            "gridcolor": "white",
            "linecolor": "white",
            "ticks": ""
           },
           "bgcolor": "#E5ECF6",
           "radialaxis": {
            "gridcolor": "white",
            "linecolor": "white",
            "ticks": ""
           }
          },
          "scene": {
           "xaxis": {
            "backgroundcolor": "#E5ECF6",
            "gridcolor": "white",
            "gridwidth": 2,
            "linecolor": "white",
            "showbackground": true,
            "ticks": "",
            "zerolinecolor": "white"
           },
           "yaxis": {
            "backgroundcolor": "#E5ECF6",
            "gridcolor": "white",
            "gridwidth": 2,
            "linecolor": "white",
            "showbackground": true,
            "ticks": "",
            "zerolinecolor": "white"
           },
           "zaxis": {
            "backgroundcolor": "#E5ECF6",
            "gridcolor": "white",
            "gridwidth": 2,
            "linecolor": "white",
            "showbackground": true,
            "ticks": "",
            "zerolinecolor": "white"
           }
          },
          "shapedefaults": {
           "line": {
            "color": "#2a3f5f"
           }
          },
          "ternary": {
           "aaxis": {
            "gridcolor": "white",
            "linecolor": "white",
            "ticks": ""
           },
           "baxis": {
            "gridcolor": "white",
            "linecolor": "white",
            "ticks": ""
           },
           "bgcolor": "#E5ECF6",
           "caxis": {
            "gridcolor": "white",
            "linecolor": "white",
            "ticks": ""
           }
          },
          "title": {
           "x": 0.05
          },
          "xaxis": {
           "automargin": true,
           "gridcolor": "white",
           "linecolor": "white",
           "ticks": "",
           "title": {
            "standoff": 15
           },
           "zerolinecolor": "white",
           "zerolinewidth": 2
          },
          "yaxis": {
           "automargin": true,
           "gridcolor": "white",
           "linecolor": "white",
           "ticks": "",
           "title": {
            "standoff": 15
           },
           "zerolinecolor": "white",
           "zerolinewidth": 2
          }
         }
        },
        "title": {
         "text": "Boxplot da F1-Score Balanceada do Classificador Sim"
        },
        "xaxis": {
         "anchor": "y",
         "domain": [
          0,
          1
         ],
         "title": {
          "text": "Nome"
         }
        },
        "yaxis": {
         "anchor": "x",
         "domain": [
          0,
          1
         ],
         "range": [
          0,
          1
         ],
         "title": {
          "text": "F1-score Balanceada"
         }
        }
       }
      }
     },
     "metadata": {},
     "output_type": "display_data"
    }
   ],
   "source": [
    "# Criar boxplot da acurácia por modelo sim sim  \n",
    "\n",
    "fig = px.box(df5, x='Nome', y='Acurácia Balanceada', points='all', title='Boxplot da Acurácia Balanceada do classificador Sim 0',color_discrete_sequence=px.colors.qualitative.Set3)\n",
    "fig.update_yaxes(range=[0, 1])\n",
    "fig.show()\n",
    "\n",
    "fig = px.box(df8, x='Nome', y='Acurácia Balanceada', points='all', title='Boxplot da Acurácia Balanceada do classificador Sim sem features de temperatura',color_discrete_sequence=px.colors.qualitative.Set1_r)\n",
    "fig.update_yaxes(range=[0, 1])\n",
    "fig.show()\n",
    "\n",
    "\n",
    "fig = px.box(df2, x='Nome', y='Acurácia Balanceada', points='all', title='Boxplot da Acurácia Balanceada do classificador Sim')\n",
    "\n",
    "fig.update_yaxes(range=[0, 1])\n",
    "fig.show()\n",
    "\n",
    "fig = px.box(df5, x='Nome', y='F1-score Balanceada', points='all', title='Boxplot da F1-Score Balanceada do Classificador Sim 0',color_discrete_sequence=px.colors.qualitative.Set3)\n",
    "fig.update_yaxes(range=[0, 1])\n",
    "fig.show()\n",
    "\n",
    "fig = px.box(df8, x='Nome', y='F1-score Balanceada', points='all', title='Boxplot da F1-score Balanceada do classificador Sim sem features de temperatura',color_discrete_sequence=px.colors.qualitative.Set1_r)\n",
    "fig.update_yaxes(range=[0, 1])\n",
    "fig.show()\n",
    "\n",
    "\n",
    "fig = px.box(df2, x='Nome', y='F1-score Balanceada', points='all', title='Boxplot da F1-Score Balanceada do Classificador Sim')\n",
    "fig.update_yaxes(range=[0, 1])\n",
    "fig.show()"
   ]
  },
  {
   "cell_type": "markdown",
   "metadata": {},
   "source": [
    "## Gráficos treinamentos simulados e testes reais"
   ]
  },
  {
   "cell_type": "code",
   "execution_count": 29,
   "metadata": {},
   "outputs": [
    {
     "data": {
      "application/vnd.plotly.v1+json": {
       "config": {
        "plotlyServerURL": "https://plot.ly"
       },
       "data": [
        {
         "alignmentgroup": "True",
         "boxpoints": "all",
         "hovertemplate": "Nome=%{x}<br>Acurácia Balanceada=%{y}<extra></extra>",
         "legendgroup": "",
         "marker": {
          "color": "rgb(141,211,199)"
         },
         "name": "",
         "notched": false,
         "offsetgroup": "",
         "orientation": "v",
         "showlegend": false,
         "type": "box",
         "x": [
          "logreg",
          "KNN",
          "GaussianNB",
          "Perceptron",
          "LinearSVC",
          "SGD",
          "Dtree",
          "RForest",
          "ADA",
          "GBC",
          "ETC",
          "logreg",
          "KNN",
          "GaussianNB",
          "Perceptron",
          "LinearSVC",
          "SGD",
          "Dtree",
          "RForest",
          "ADA",
          "GBC",
          "ETC",
          "logreg",
          "KNN",
          "GaussianNB",
          "Perceptron",
          "LinearSVC",
          "SGD",
          "Dtree",
          "RForest",
          "ADA",
          "GBC",
          "ETC",
          "logreg",
          "KNN",
          "GaussianNB",
          "Perceptron",
          "LinearSVC",
          "SGD",
          "Dtree",
          "RForest",
          "ADA",
          "GBC",
          "ETC",
          "logreg",
          "KNN",
          "GaussianNB",
          "Perceptron",
          "LinearSVC",
          "SGD",
          "Dtree",
          "RForest",
          "ADA",
          "GBC",
          "ETC",
          "logreg",
          "KNN",
          "GaussianNB",
          "Perceptron",
          "LinearSVC",
          "SGD",
          "Dtree",
          "RForest",
          "ADA",
          "GBC",
          "ETC",
          "logreg",
          "KNN",
          "GaussianNB",
          "Perceptron",
          "LinearSVC",
          "SGD",
          "Dtree",
          "RForest",
          "ADA",
          "GBC",
          "ETC",
          "logreg",
          "KNN",
          "GaussianNB",
          "Perceptron",
          "LinearSVC",
          "SGD",
          "Dtree",
          "RForest",
          "ADA",
          "GBC",
          "ETC",
          "logreg",
          "KNN",
          "GaussianNB",
          "Perceptron",
          "LinearSVC",
          "SGD",
          "Dtree",
          "RForest",
          "ADA",
          "GBC",
          "ETC",
          "logreg",
          "KNN",
          "GaussianNB",
          "Perceptron",
          "LinearSVC",
          "SGD",
          "Dtree",
          "RForest",
          "ADA",
          "GBC",
          "ETC",
          "logreg",
          "KNN",
          "GaussianNB",
          "Perceptron",
          "LinearSVC",
          "SGD",
          "Dtree",
          "RForest",
          "ADA",
          "GBC",
          "ETC",
          "logreg",
          "KNN",
          "GaussianNB",
          "Perceptron",
          "LinearSVC",
          "SGD",
          "Dtree",
          "RForest",
          "ADA",
          "GBC",
          "ETC",
          "logreg",
          "KNN",
          "GaussianNB",
          "Perceptron",
          "LinearSVC",
          "SGD",
          "Dtree",
          "RForest",
          "ADA",
          "GBC",
          "ETC",
          "logreg",
          "KNN",
          "GaussianNB",
          "Perceptron",
          "LinearSVC",
          "SGD",
          "Dtree",
          "RForest",
          "ADA",
          "GBC",
          "ETC",
          "logreg",
          "KNN",
          "GaussianNB",
          "Perceptron",
          "LinearSVC",
          "SGD",
          "Dtree",
          "RForest",
          "ADA",
          "GBC",
          "ETC",
          "logreg",
          "KNN",
          "GaussianNB",
          "Perceptron",
          "LinearSVC",
          "SGD",
          "Dtree",
          "RForest",
          "ADA",
          "GBC",
          "ETC",
          "logreg",
          "KNN",
          "GaussianNB",
          "Perceptron",
          "LinearSVC",
          "SGD",
          "Dtree",
          "RForest",
          "ADA",
          "GBC",
          "ETC",
          "logreg",
          "KNN",
          "GaussianNB",
          "Perceptron",
          "LinearSVC",
          "SGD",
          "Dtree",
          "RForest",
          "ADA",
          "GBC",
          "ETC",
          "logreg",
          "KNN",
          "GaussianNB",
          "Perceptron",
          "LinearSVC",
          "SGD",
          "Dtree",
          "RForest",
          "ADA",
          "GBC",
          "ETC",
          "logreg",
          "KNN",
          "GaussianNB",
          "Perceptron",
          "LinearSVC",
          "SGD",
          "Dtree",
          "RForest",
          "ADA",
          "GBC",
          "ETC",
          "logreg",
          "KNN",
          "GaussianNB",
          "Perceptron",
          "LinearSVC",
          "SGD",
          "Dtree",
          "RForest",
          "ADA",
          "GBC",
          "ETC",
          "logreg",
          "KNN",
          "GaussianNB",
          "Perceptron",
          "LinearSVC",
          "SGD",
          "Dtree",
          "RForest",
          "ADA",
          "GBC",
          "ETC",
          "logreg",
          "KNN",
          "GaussianNB",
          "Perceptron",
          "LinearSVC",
          "SGD",
          "Dtree",
          "RForest",
          "ADA",
          "GBC",
          "ETC",
          "logreg",
          "KNN",
          "GaussianNB",
          "Perceptron",
          "LinearSVC",
          "SGD",
          "Dtree",
          "RForest",
          "ADA",
          "GBC",
          "ETC",
          "logreg",
          "KNN",
          "GaussianNB",
          "Perceptron",
          "LinearSVC",
          "SGD",
          "Dtree",
          "RForest",
          "ADA",
          "GBC",
          "ETC"
         ],
         "x0": " ",
         "xaxis": "x",
         "y": [
          0.4997860504920838,
          0.4193000392027242,
          0.5,
          0.4997860504920838,
          0.5,
          0.5,
          0.4993466212632501,
          0.3976245198947419,
          0.3129658526336287,
          0.4452058655474673,
          0.3271403278167669,
          0.5,
          0.41249593239708,
          0.5,
          0.5,
          0.5,
          0.5,
          0.5067515802797486,
          0.4318833449916598,
          0.382903000161423,
          0.5014361520860717,
          0.3564655028838344,
          0.4997860504920838,
          0.3726142067597795,
          0.5,
          0.4997860504920838,
          0.5,
          0.5,
          0.5197602228149606,
          0.5646537477035659,
          0.333557531919473,
          0.5408541069337577,
          0.4206375439108945,
          0.5,
          0.3808314052254925,
          0.5,
          0.4997860504920838,
          0.5,
          0.5,
          0.408635873311144,
          0.5310982655997376,
          0.3013305865803694,
          0.5334901442301533,
          0.5320770525700845,
          0.4997860504920838,
          0.3401066929043069,
          0.5,
          0.4997860504920838,
          0.5,
          0.4997860504920838,
          0.5001857645428014,
          0.4943232917989438,
          0.3903310196039243,
          0.5356924149134338,
          0.2937462686949592,
          0.5,
          0.3094619490159603,
          0.5,
          0.5,
          0.5,
          0.5,
          0.2542335098737057,
          0.3608674819808393,
          0.1894503675575677,
          0.5468703158509681,
          0.2749059006505602,
          0.5,
          0.2872137624622385,
          0.5,
          0.5,
          0.5,
          0.5,
          0.7211123324595994,
          0.5465590000999285,
          0.2797754939415136,
          0.5047145759828225,
          0.3474270970254612,
          0.5,
          0.2406137660494159,
          0.5,
          0.5,
          0.5,
          0.5,
          0.5602428006631154,
          0.3731292229405117,
          0.2679903351192352,
          0.2408379646355555,
          0.3014522943842738,
          0.5,
          0.2511011353416402,
          0.5,
          0.5,
          0.5,
          0.5,
          0.5657811463081539,
          0.5127383230970665,
          0.4927334035395191,
          0.2368459486674917,
          0.2548971376886791,
          0.5,
          0.2157277229879138,
          0.5,
          0.5,
          0.5,
          0.5,
          0.1475213885451177,
          0.3089559007786737,
          0.1726354735970933,
          0.5125935548671591,
          0.2787044652671551,
          0.5,
          0.4518536739102027,
          0.5,
          0.5,
          0.5,
          0.5,
          0.5117095718703799,
          0.5338270826767517,
          0.4655169763169425,
          0.4535191491215258,
          0.4481460698628416,
          0.5,
          0.460562828130645,
          0.5,
          0.5,
          0.5,
          0.5,
          0.4759735983744961,
          0.5323768381081226,
          0.5688174357318738,
          0.4219020239367221,
          0.6441033209575714,
          0.5,
          0.4180329969073406,
          0.5,
          0.5,
          0.5,
          0.5,
          0.5033142956705331,
          0.5181575232077565,
          0.5578598899761453,
          0.562874251497006,
          0.5483179981500413,
          0.5,
          0.4216137686116855,
          0.5,
          0.5,
          0.5,
          0.5,
          0.5096443826083391,
          0.5936983542542643,
          0.5133955452381501,
          0.4081003589739648,
          0.5342511382882502,
          0.5,
          0.3880096033862954,
          0.5,
          0.5,
          0.5,
          0.5,
          0.1812882578873062,
          0.3371639263193766,
          0.4260336835955816,
          0.3248240361382498,
          0.5106257318482419,
          0.5,
          0.3566435806179682,
          0.5,
          0.5,
          0.5,
          0.5,
          0.5800773292951965,
          0.5102029573715214,
          0.3933660278928664,
          0.436519771753028,
          0.4464754701124068,
          0.5,
          0.3869526671944942,
          0.5,
          0.5,
          0.5,
          0.5,
          0.3665390656427837,
          0.3955644551718129,
          0.4465100607514111,
          0.6268694959247103,
          0.4408231034721315,
          0.5,
          0.339174026785966,
          0.5,
          0.5,
          0.5,
          0.5,
          0.3663558633695382,
          0.4495079161317928,
          0.432270247694598,
          0.4087204282064882,
          0.4476361782212212,
          0.5,
          0.3489311492547639,
          0.5,
          0.5,
          0.5,
          0.5,
          0.6091731812370125,
          0.4910897076194209,
          0.3750816723420937,
          0.536985079904376,
          0.3855626359604283,
          0.5,
          0.3139612943560889,
          0.5,
          0.5,
          0.5,
          0.5,
          0.1984285600813776,
          0.510775624617261,
          0.3400669777261907,
          0.3591635727261779,
          0.3700749976299007,
          0.5,
          0.467433553944742,
          0.5,
          0.5,
          0.5,
          0.5,
          0.4422297894583106,
          0.4763848426382152,
          0.4715357475037089,
          0.4960425746709405,
          0.440311930695733,
          0.5,
          0.4813389908245127,
          0.5,
          0.5,
          0.5,
          0.5,
          0.473223002006257,
          0.4397520747977729,
          0.4994721724714883,
          0.4401415397702669,
          0.5294007620189659,
          0.5,
          0.4321587889689171,
          0.5,
          0.5,
          0.5,
          0.5,
          0.4963769508479831,
          0.4401940662961625,
          0.525151237960536,
          0.4642934926040089,
          0.4851209006889942,
          0.5,
          0.4495143218056826,
          0.5,
          0.5,
          0.5,
          0.5,
          0.5022868255786245,
          0.3822137496508907,
          0.4619105819170388,
          0.4421913554149724,
          0.5165368877136612,
          0.5,
          0.4078274772662633,
          0.5,
          0.5,
          0.5,
          0.5,
          0.4991864794160075,
          0.360439582965007,
          0.4253495576241612,
          0.3947483723182646,
          0.4143932930032105
         ],
         "y0": " ",
         "yaxis": "y"
        }
       ],
       "layout": {
        "boxmode": "group",
        "legend": {
         "tracegroupgap": 0
        },
        "template": {
         "data": {
          "bar": [
           {
            "error_x": {
             "color": "#2a3f5f"
            },
            "error_y": {
             "color": "#2a3f5f"
            },
            "marker": {
             "line": {
              "color": "#E5ECF6",
              "width": 0.5
             },
             "pattern": {
              "fillmode": "overlay",
              "size": 10,
              "solidity": 0.2
             }
            },
            "type": "bar"
           }
          ],
          "barpolar": [
           {
            "marker": {
             "line": {
              "color": "#E5ECF6",
              "width": 0.5
             },
             "pattern": {
              "fillmode": "overlay",
              "size": 10,
              "solidity": 0.2
             }
            },
            "type": "barpolar"
           }
          ],
          "carpet": [
           {
            "aaxis": {
             "endlinecolor": "#2a3f5f",
             "gridcolor": "white",
             "linecolor": "white",
             "minorgridcolor": "white",
             "startlinecolor": "#2a3f5f"
            },
            "baxis": {
             "endlinecolor": "#2a3f5f",
             "gridcolor": "white",
             "linecolor": "white",
             "minorgridcolor": "white",
             "startlinecolor": "#2a3f5f"
            },
            "type": "carpet"
           }
          ],
          "choropleth": [
           {
            "colorbar": {
             "outlinewidth": 0,
             "ticks": ""
            },
            "type": "choropleth"
           }
          ],
          "contour": [
           {
            "colorbar": {
             "outlinewidth": 0,
             "ticks": ""
            },
            "colorscale": [
             [
              0,
              "#0d0887"
             ],
             [
              0.1111111111111111,
              "#46039f"
             ],
             [
              0.2222222222222222,
              "#7201a8"
             ],
             [
              0.3333333333333333,
              "#9c179e"
             ],
             [
              0.4444444444444444,
              "#bd3786"
             ],
             [
              0.5555555555555556,
              "#d8576b"
             ],
             [
              0.6666666666666666,
              "#ed7953"
             ],
             [
              0.7777777777777778,
              "#fb9f3a"
             ],
             [
              0.8888888888888888,
              "#fdca26"
             ],
             [
              1,
              "#f0f921"
             ]
            ],
            "type": "contour"
           }
          ],
          "contourcarpet": [
           {
            "colorbar": {
             "outlinewidth": 0,
             "ticks": ""
            },
            "type": "contourcarpet"
           }
          ],
          "heatmap": [
           {
            "colorbar": {
             "outlinewidth": 0,
             "ticks": ""
            },
            "colorscale": [
             [
              0,
              "#0d0887"
             ],
             [
              0.1111111111111111,
              "#46039f"
             ],
             [
              0.2222222222222222,
              "#7201a8"
             ],
             [
              0.3333333333333333,
              "#9c179e"
             ],
             [
              0.4444444444444444,
              "#bd3786"
             ],
             [
              0.5555555555555556,
              "#d8576b"
             ],
             [
              0.6666666666666666,
              "#ed7953"
             ],
             [
              0.7777777777777778,
              "#fb9f3a"
             ],
             [
              0.8888888888888888,
              "#fdca26"
             ],
             [
              1,
              "#f0f921"
             ]
            ],
            "type": "heatmap"
           }
          ],
          "heatmapgl": [
           {
            "colorbar": {
             "outlinewidth": 0,
             "ticks": ""
            },
            "colorscale": [
             [
              0,
              "#0d0887"
             ],
             [
              0.1111111111111111,
              "#46039f"
             ],
             [
              0.2222222222222222,
              "#7201a8"
             ],
             [
              0.3333333333333333,
              "#9c179e"
             ],
             [
              0.4444444444444444,
              "#bd3786"
             ],
             [
              0.5555555555555556,
              "#d8576b"
             ],
             [
              0.6666666666666666,
              "#ed7953"
             ],
             [
              0.7777777777777778,
              "#fb9f3a"
             ],
             [
              0.8888888888888888,
              "#fdca26"
             ],
             [
              1,
              "#f0f921"
             ]
            ],
            "type": "heatmapgl"
           }
          ],
          "histogram": [
           {
            "marker": {
             "pattern": {
              "fillmode": "overlay",
              "size": 10,
              "solidity": 0.2
             }
            },
            "type": "histogram"
           }
          ],
          "histogram2d": [
           {
            "colorbar": {
             "outlinewidth": 0,
             "ticks": ""
            },
            "colorscale": [
             [
              0,
              "#0d0887"
             ],
             [
              0.1111111111111111,
              "#46039f"
             ],
             [
              0.2222222222222222,
              "#7201a8"
             ],
             [
              0.3333333333333333,
              "#9c179e"
             ],
             [
              0.4444444444444444,
              "#bd3786"
             ],
             [
              0.5555555555555556,
              "#d8576b"
             ],
             [
              0.6666666666666666,
              "#ed7953"
             ],
             [
              0.7777777777777778,
              "#fb9f3a"
             ],
             [
              0.8888888888888888,
              "#fdca26"
             ],
             [
              1,
              "#f0f921"
             ]
            ],
            "type": "histogram2d"
           }
          ],
          "histogram2dcontour": [
           {
            "colorbar": {
             "outlinewidth": 0,
             "ticks": ""
            },
            "colorscale": [
             [
              0,
              "#0d0887"
             ],
             [
              0.1111111111111111,
              "#46039f"
             ],
             [
              0.2222222222222222,
              "#7201a8"
             ],
             [
              0.3333333333333333,
              "#9c179e"
             ],
             [
              0.4444444444444444,
              "#bd3786"
             ],
             [
              0.5555555555555556,
              "#d8576b"
             ],
             [
              0.6666666666666666,
              "#ed7953"
             ],
             [
              0.7777777777777778,
              "#fb9f3a"
             ],
             [
              0.8888888888888888,
              "#fdca26"
             ],
             [
              1,
              "#f0f921"
             ]
            ],
            "type": "histogram2dcontour"
           }
          ],
          "mesh3d": [
           {
            "colorbar": {
             "outlinewidth": 0,
             "ticks": ""
            },
            "type": "mesh3d"
           }
          ],
          "parcoords": [
           {
            "line": {
             "colorbar": {
              "outlinewidth": 0,
              "ticks": ""
             }
            },
            "type": "parcoords"
           }
          ],
          "pie": [
           {
            "automargin": true,
            "type": "pie"
           }
          ],
          "scatter": [
           {
            "fillpattern": {
             "fillmode": "overlay",
             "size": 10,
             "solidity": 0.2
            },
            "type": "scatter"
           }
          ],
          "scatter3d": [
           {
            "line": {
             "colorbar": {
              "outlinewidth": 0,
              "ticks": ""
             }
            },
            "marker": {
             "colorbar": {
              "outlinewidth": 0,
              "ticks": ""
             }
            },
            "type": "scatter3d"
           }
          ],
          "scattercarpet": [
           {
            "marker": {
             "colorbar": {
              "outlinewidth": 0,
              "ticks": ""
             }
            },
            "type": "scattercarpet"
           }
          ],
          "scattergeo": [
           {
            "marker": {
             "colorbar": {
              "outlinewidth": 0,
              "ticks": ""
             }
            },
            "type": "scattergeo"
           }
          ],
          "scattergl": [
           {
            "marker": {
             "colorbar": {
              "outlinewidth": 0,
              "ticks": ""
             }
            },
            "type": "scattergl"
           }
          ],
          "scattermapbox": [
           {
            "marker": {
             "colorbar": {
              "outlinewidth": 0,
              "ticks": ""
             }
            },
            "type": "scattermapbox"
           }
          ],
          "scatterpolar": [
           {
            "marker": {
             "colorbar": {
              "outlinewidth": 0,
              "ticks": ""
             }
            },
            "type": "scatterpolar"
           }
          ],
          "scatterpolargl": [
           {
            "marker": {
             "colorbar": {
              "outlinewidth": 0,
              "ticks": ""
             }
            },
            "type": "scatterpolargl"
           }
          ],
          "scatterternary": [
           {
            "marker": {
             "colorbar": {
              "outlinewidth": 0,
              "ticks": ""
             }
            },
            "type": "scatterternary"
           }
          ],
          "surface": [
           {
            "colorbar": {
             "outlinewidth": 0,
             "ticks": ""
            },
            "colorscale": [
             [
              0,
              "#0d0887"
             ],
             [
              0.1111111111111111,
              "#46039f"
             ],
             [
              0.2222222222222222,
              "#7201a8"
             ],
             [
              0.3333333333333333,
              "#9c179e"
             ],
             [
              0.4444444444444444,
              "#bd3786"
             ],
             [
              0.5555555555555556,
              "#d8576b"
             ],
             [
              0.6666666666666666,
              "#ed7953"
             ],
             [
              0.7777777777777778,
              "#fb9f3a"
             ],
             [
              0.8888888888888888,
              "#fdca26"
             ],
             [
              1,
              "#f0f921"
             ]
            ],
            "type": "surface"
           }
          ],
          "table": [
           {
            "cells": {
             "fill": {
              "color": "#EBF0F8"
             },
             "line": {
              "color": "white"
             }
            },
            "header": {
             "fill": {
              "color": "#C8D4E3"
             },
             "line": {
              "color": "white"
             }
            },
            "type": "table"
           }
          ]
         },
         "layout": {
          "annotationdefaults": {
           "arrowcolor": "#2a3f5f",
           "arrowhead": 0,
           "arrowwidth": 1
          },
          "autotypenumbers": "strict",
          "coloraxis": {
           "colorbar": {
            "outlinewidth": 0,
            "ticks": ""
           }
          },
          "colorscale": {
           "diverging": [
            [
             0,
             "#8e0152"
            ],
            [
             0.1,
             "#c51b7d"
            ],
            [
             0.2,
             "#de77ae"
            ],
            [
             0.3,
             "#f1b6da"
            ],
            [
             0.4,
             "#fde0ef"
            ],
            [
             0.5,
             "#f7f7f7"
            ],
            [
             0.6,
             "#e6f5d0"
            ],
            [
             0.7,
             "#b8e186"
            ],
            [
             0.8,
             "#7fbc41"
            ],
            [
             0.9,
             "#4d9221"
            ],
            [
             1,
             "#276419"
            ]
           ],
           "sequential": [
            [
             0,
             "#0d0887"
            ],
            [
             0.1111111111111111,
             "#46039f"
            ],
            [
             0.2222222222222222,
             "#7201a8"
            ],
            [
             0.3333333333333333,
             "#9c179e"
            ],
            [
             0.4444444444444444,
             "#bd3786"
            ],
            [
             0.5555555555555556,
             "#d8576b"
            ],
            [
             0.6666666666666666,
             "#ed7953"
            ],
            [
             0.7777777777777778,
             "#fb9f3a"
            ],
            [
             0.8888888888888888,
             "#fdca26"
            ],
            [
             1,
             "#f0f921"
            ]
           ],
           "sequentialminus": [
            [
             0,
             "#0d0887"
            ],
            [
             0.1111111111111111,
             "#46039f"
            ],
            [
             0.2222222222222222,
             "#7201a8"
            ],
            [
             0.3333333333333333,
             "#9c179e"
            ],
            [
             0.4444444444444444,
             "#bd3786"
            ],
            [
             0.5555555555555556,
             "#d8576b"
            ],
            [
             0.6666666666666666,
             "#ed7953"
            ],
            [
             0.7777777777777778,
             "#fb9f3a"
            ],
            [
             0.8888888888888888,
             "#fdca26"
            ],
            [
             1,
             "#f0f921"
            ]
           ]
          },
          "colorway": [
           "#636efa",
           "#EF553B",
           "#00cc96",
           "#ab63fa",
           "#FFA15A",
           "#19d3f3",
           "#FF6692",
           "#B6E880",
           "#FF97FF",
           "#FECB52"
          ],
          "font": {
           "color": "#2a3f5f"
          },
          "geo": {
           "bgcolor": "white",
           "lakecolor": "white",
           "landcolor": "#E5ECF6",
           "showlakes": true,
           "showland": true,
           "subunitcolor": "white"
          },
          "hoverlabel": {
           "align": "left"
          },
          "hovermode": "closest",
          "mapbox": {
           "style": "light"
          },
          "paper_bgcolor": "white",
          "plot_bgcolor": "#E5ECF6",
          "polar": {
           "angularaxis": {
            "gridcolor": "white",
            "linecolor": "white",
            "ticks": ""
           },
           "bgcolor": "#E5ECF6",
           "radialaxis": {
            "gridcolor": "white",
            "linecolor": "white",
            "ticks": ""
           }
          },
          "scene": {
           "xaxis": {
            "backgroundcolor": "#E5ECF6",
            "gridcolor": "white",
            "gridwidth": 2,
            "linecolor": "white",
            "showbackground": true,
            "ticks": "",
            "zerolinecolor": "white"
           },
           "yaxis": {
            "backgroundcolor": "#E5ECF6",
            "gridcolor": "white",
            "gridwidth": 2,
            "linecolor": "white",
            "showbackground": true,
            "ticks": "",
            "zerolinecolor": "white"
           },
           "zaxis": {
            "backgroundcolor": "#E5ECF6",
            "gridcolor": "white",
            "gridwidth": 2,
            "linecolor": "white",
            "showbackground": true,
            "ticks": "",
            "zerolinecolor": "white"
           }
          },
          "shapedefaults": {
           "line": {
            "color": "#2a3f5f"
           }
          },
          "ternary": {
           "aaxis": {
            "gridcolor": "white",
            "linecolor": "white",
            "ticks": ""
           },
           "baxis": {
            "gridcolor": "white",
            "linecolor": "white",
            "ticks": ""
           },
           "bgcolor": "#E5ECF6",
           "caxis": {
            "gridcolor": "white",
            "linecolor": "white",
            "ticks": ""
           }
          },
          "title": {
           "x": 0.05
          },
          "xaxis": {
           "automargin": true,
           "gridcolor": "white",
           "linecolor": "white",
           "ticks": "",
           "title": {
            "standoff": 15
           },
           "zerolinecolor": "white",
           "zerolinewidth": 2
          },
          "yaxis": {
           "automargin": true,
           "gridcolor": "white",
           "linecolor": "white",
           "ticks": "",
           "title": {
            "standoff": 15
           },
           "zerolinecolor": "white",
           "zerolinewidth": 2
          }
         }
        },
        "title": {
         "text": "Boxplot da Acurácia Balanceada do classificador Sim/real 0"
        },
        "xaxis": {
         "anchor": "y",
         "domain": [
          0,
          1
         ],
         "title": {
          "text": "Nome"
         }
        },
        "yaxis": {
         "anchor": "x",
         "domain": [
          0,
          1
         ],
         "range": [
          0,
          1
         ],
         "title": {
          "text": "Acurácia Balanceada"
         }
        }
       }
      }
     },
     "metadata": {},
     "output_type": "display_data"
    },
    {
     "data": {
      "application/vnd.plotly.v1+json": {
       "config": {
        "plotlyServerURL": "https://plot.ly"
       },
       "data": [
        {
         "alignmentgroup": "True",
         "boxpoints": "all",
         "hovertemplate": "Nome=%{x}<br>Acurácia Balanceada=%{y}<extra></extra>",
         "legendgroup": "",
         "marker": {
          "color": "rgb(228,26,28)"
         },
         "name": "",
         "notched": false,
         "offsetgroup": "",
         "orientation": "v",
         "showlegend": false,
         "type": "box",
         "x": [
          "logreg",
          "KNN",
          "GaussianNB",
          "Perceptron",
          "LinearSVC",
          "SGD",
          "Dtree",
          "RForest",
          "ADA",
          "GBC",
          "ETC",
          "logreg",
          "KNN",
          "GaussianNB",
          "Perceptron",
          "LinearSVC",
          "SGD",
          "Dtree",
          "RForest",
          "ADA",
          "GBC",
          "ETC",
          "logreg",
          "KNN",
          "GaussianNB",
          "Perceptron",
          "LinearSVC",
          "SGD",
          "Dtree",
          "RForest",
          "ADA",
          "GBC",
          "ETC",
          "logreg",
          "KNN",
          "GaussianNB",
          "Perceptron",
          "LinearSVC",
          "SGD",
          "Dtree",
          "RForest",
          "ADA",
          "GBC",
          "ETC",
          "logreg",
          "KNN",
          "GaussianNB",
          "Perceptron",
          "LinearSVC",
          "SGD",
          "Dtree",
          "RForest",
          "ADA",
          "GBC",
          "ETC",
          "logreg",
          "KNN",
          "GaussianNB",
          "Perceptron",
          "LinearSVC",
          "SGD",
          "Dtree",
          "RForest",
          "ADA",
          "GBC",
          "ETC",
          "logreg",
          "KNN",
          "GaussianNB",
          "Perceptron",
          "LinearSVC",
          "SGD",
          "Dtree",
          "RForest",
          "ADA",
          "GBC",
          "ETC",
          "logreg",
          "KNN",
          "GaussianNB",
          "Perceptron",
          "LinearSVC",
          "SGD",
          "Dtree",
          "RForest",
          "ADA",
          "GBC",
          "ETC",
          "logreg",
          "KNN",
          "GaussianNB",
          "Perceptron",
          "LinearSVC",
          "SGD",
          "Dtree",
          "RForest",
          "ADA",
          "GBC",
          "ETC",
          "logreg",
          "KNN",
          "GaussianNB",
          "Perceptron",
          "LinearSVC",
          "SGD",
          "Dtree",
          "RForest",
          "ADA",
          "GBC",
          "ETC",
          "logreg",
          "KNN",
          "GaussianNB",
          "Perceptron",
          "LinearSVC",
          "SGD",
          "Dtree",
          "RForest",
          "ADA",
          "GBC",
          "ETC",
          "logreg",
          "KNN",
          "GaussianNB",
          "Perceptron",
          "LinearSVC",
          "SGD",
          "Dtree",
          "RForest",
          "ADA",
          "GBC",
          "ETC",
          "logreg",
          "KNN",
          "GaussianNB",
          "Perceptron",
          "LinearSVC",
          "SGD",
          "Dtree",
          "RForest",
          "ADA",
          "GBC",
          "ETC",
          "logreg",
          "KNN",
          "GaussianNB",
          "Perceptron",
          "LinearSVC",
          "SGD",
          "Dtree",
          "RForest",
          "ADA",
          "GBC",
          "ETC",
          "logreg",
          "KNN",
          "GaussianNB",
          "Perceptron",
          "LinearSVC",
          "SGD",
          "Dtree",
          "RForest",
          "ADA",
          "GBC",
          "ETC",
          "logreg",
          "KNN",
          "GaussianNB",
          "Perceptron",
          "LinearSVC",
          "SGD",
          "Dtree",
          "RForest",
          "ADA",
          "GBC",
          "ETC",
          "logreg",
          "KNN",
          "GaussianNB",
          "Perceptron",
          "LinearSVC",
          "SGD",
          "Dtree",
          "RForest",
          "ADA",
          "GBC",
          "ETC",
          "logreg",
          "KNN",
          "GaussianNB",
          "Perceptron",
          "LinearSVC",
          "SGD",
          "Dtree",
          "RForest",
          "ADA",
          "GBC",
          "ETC",
          "logreg",
          "KNN",
          "GaussianNB",
          "Perceptron",
          "LinearSVC",
          "SGD",
          "Dtree",
          "RForest",
          "ADA",
          "GBC",
          "ETC",
          "logreg",
          "KNN",
          "GaussianNB",
          "Perceptron",
          "LinearSVC",
          "SGD",
          "Dtree",
          "RForest",
          "ADA",
          "GBC",
          "ETC",
          "logreg",
          "KNN",
          "GaussianNB",
          "Perceptron",
          "LinearSVC",
          "SGD",
          "Dtree",
          "RForest",
          "ADA",
          "GBC",
          "ETC",
          "logreg",
          "KNN",
          "GaussianNB",
          "Perceptron",
          "LinearSVC",
          "SGD",
          "Dtree",
          "RForest",
          "ADA",
          "GBC",
          "ETC",
          "logreg",
          "KNN",
          "GaussianNB",
          "Perceptron",
          "LinearSVC",
          "SGD",
          "Dtree",
          "RForest",
          "ADA",
          "GBC",
          "ETC",
          "logreg",
          "KNN",
          "GaussianNB",
          "Perceptron",
          "LinearSVC",
          "SGD",
          "Dtree",
          "RForest",
          "ADA",
          "GBC",
          "ETC",
          "logreg",
          "KNN",
          "GaussianNB",
          "Perceptron",
          "LinearSVC",
          "SGD",
          "Dtree",
          "RForest",
          "ADA",
          "GBC",
          "ETC"
         ],
         "x0": " ",
         "xaxis": "x",
         "y": [
          0.4999807829783309,
          0.3868283971210339,
          0.5,
          0.4999077582959882,
          0.4999320998567691,
          0.5000051245391117,
          0.5643872716697542,
          0.5909490390208031,
          0.3895866802979407,
          0.3331181026906392,
          0.5913859059800809,
          0.4998834167352073,
          0.4586667486592924,
          0.5,
          0.4998103920528647,
          0.5,
          0.4999077582959882,
          0.3846876209070947,
          0.4940350364739072,
          0.3842866257215992,
          0.3833168066946979,
          0.5088282997547908,
          0.4999077582959882,
          0.4361469615326471,
          0.5,
          0.4998103920528647,
          0.5,
          0.4999077582959882,
          0.5337912109029694,
          0.5030106667281611,
          0.3333512692202245,
          0.3338022286620597,
          0.503576928300011,
          0.4998590751744265,
          0.4222517737311,
          0.5,
          0.4997860504920838,
          0.5,
          0.4999077582959882,
          0.4946922586149908,
          0.5099608228984905,
          0.5136914873718545,
          0.4929806625516617,
          0.5061071694864443,
          0.4998347336136456,
          0.4422336328626444,
          0.5,
          0.4997860504920838,
          0.5,
          0.4998590751744265,
          0.5124359752894724,
          0.5755497989899534,
          0.2902987350075203,
          0.3006515851480608,
          0.5301976278508451,
          0.5000051245391117,
          0.3563694177754888,
          0.5,
          0.5001217078039044,
          0.49995644141755,
          0.5000051245391117,
          0.5324652364078005,
          0.5048093799563902,
          0.2034775122412428,
          0.4313375815762569,
          0.435498707335009,
          0.4999077582959882,
          0.4407616090027903,
          0.5,
          0.5,
          0.5,
          0.4999077582959882,
          0.543275451664066,
          0.505183471311549,
          0.4807291706702128,
          0.2831359104640526,
          0.4083617104686647,
          0.4999077582959882,
          0.4185185469881802,
          0.5,
          0.5,
          0.5,
          0.4999320998567691,
          0.2889266396603455,
          0.5462989297400065,
          0.5048542196736181,
          0.6641594859062363,
          0.5077636767543219,
          0.4999077582959882,
          0.4058314692822314,
          0.5,
          0.5000243415607809,
          0.5,
          0.4995042008409369,
          0.6134137373519969,
          0.5226145911002129,
          0.4996592181490677,
          0.273327542604137,
          0.5453073314218803,
          0.5000486831215618,
          0.3985085028915212,
          0.5,
          0.5,
          0.5,
          0.4998590751744265,
          0.5274085974392678,
          0.5343971876529354,
          0.1708124188080834,
          0.2483851296124054,
          0.5056433986968297,
          0.5002190740470279,
          0.4760581532698403,
          0.5,
          0.5001217078039044,
          0.5001703909254661,
          0.4997911750311956,
          0.5,
          0.505074574855424,
          0.4879188990440172,
          0.4618900837605918,
          0.5099364813377096,
          0.4996938087880721,
          0.5143768944780529,
          0.5,
          0.5,
          0.5,
          0.4996938087880721,
          0.5395255701690329,
          0.4897765444720315,
          0.5048913725821784,
          0.5195642091939356,
          0.4811211979122628,
          0.4999077582959882,
          0.4897317047548036,
          0.5,
          0.5,
          0.5,
          0.499718150348853,
          0.4530310367711304,
          0.4960566671534979,
          0.4727822916426454,
          0.5619979553088944,
          0.500347187524822,
          0.4996938087880721,
          0.4826495917023463,
          0.5,
          0.4996451256665103,
          0.5,
          0.499718150348853,
          0.5,
          0.497983493859521,
          0.4516704716369571,
          0.4820423338176023,
          0.5002293231252515,
          0.5000486831215618,
          0.4700624425090768,
          0.5,
          0.3105445079033204,
          0.5,
          0.5000730246823426,
          0.4105947283866157,
          0.4835758521467975,
          0.5078149221454396,
          0.4599209796068966,
          0.4821883831822875,
          0.5002190740470279,
          0.4828878827710433,
          0.5,
          0.5001217078039044,
          0.5001703909254661,
          0.5002190740470279,
          0.4754880482936566,
          0.5139349029796633,
          0.3613824981615716,
          0.3668350077764881,
          0.5087040296813305,
          0.5001217078039044,
          0.5223378659881777,
          0.5,
          0.5,
          0.5,
          0.5001217078039044,
          0.3957681556015056,
          0.4708772442278472,
          0.4256326884100861,
          0.4113992810271626,
          0.4928845774433161,
          0.5001217078039044,
          0.5009249793096734,
          0.5,
          0.5001217078039044,
          0.5,
          0.5001217078039044,
          0.3678611967336188,
          0.5120003894649725,
          0.3625201458443831,
          0.3644725952459651,
          0.5075292290899587,
          0.5001217078039044,
          0.4870426028559056,
          0.5,
          0.5000243415607809,
          0.5,
          0.5001460493646853,
          0.5087719298245614,
          0.5100697193546155,
          0.367420486370007,
          0.3888051880833967,
          0.5053103036545651,
          0.5000486831215618,
          0.4879739878394686,
          0.5,
          0.5000243415607809,
          0.5,
          0.5000730246823426,
          0.3462036133125277,
          0.5041342219284153,
          0.3305929860433177,
          0.3460191299045042,
          0.484910794585412,
          0.4998398581527574,
          0.4695320527110093,
          0.5,
          0.4997911750311956,
          0.4997911750311956,
          0.4997911750311956,
          0.460649945295545,
          0.4662228815795879,
          0.465852633628763,
          0.4675501372095347,
          0.5059226860784208,
          0.4998641997135382,
          0.5358986776126822,
          0.5,
          0.5000243415607809,
          0.5,
          0.4996938087880721,
          0.4815068194804229,
          0.4981513225154312,
          0.4894677909905477,
          0.4584002726254808,
          0.46747839366197,
          0.4997911750311956,
          0.5013093197430556,
          0.5,
          0.5,
          0.5,
          0.4997424919096339,
          0.4668160469817746,
          0.4994247704847045,
          0.5269947909059929,
          0.4642537774258927,
          0.4993684005544751,
          0.5955495940083888,
          0.5066580574409589,
          0.5,
          0.5,
          0.5,
          0.499718150348853,
          0.464009080683306,
          0.5281516556104735,
          0.4669851567724628,
          0.4453621639903761,
          0.4986893991221664,
          0.4996694672272912,
          0.5136978930457442,
          0.5,
          0.4998103920528647,
          0.5,
          0.4996451256665103,
          0.5104988995052258,
          0.4988751636649678,
          0.4343584973826416,
          0.4241721947632335,
          0.4722019375882381
         ],
         "y0": " ",
         "yaxis": "y"
        }
       ],
       "layout": {
        "boxmode": "group",
        "legend": {
         "tracegroupgap": 0
        },
        "template": {
         "data": {
          "bar": [
           {
            "error_x": {
             "color": "#2a3f5f"
            },
            "error_y": {
             "color": "#2a3f5f"
            },
            "marker": {
             "line": {
              "color": "#E5ECF6",
              "width": 0.5
             },
             "pattern": {
              "fillmode": "overlay",
              "size": 10,
              "solidity": 0.2
             }
            },
            "type": "bar"
           }
          ],
          "barpolar": [
           {
            "marker": {
             "line": {
              "color": "#E5ECF6",
              "width": 0.5
             },
             "pattern": {
              "fillmode": "overlay",
              "size": 10,
              "solidity": 0.2
             }
            },
            "type": "barpolar"
           }
          ],
          "carpet": [
           {
            "aaxis": {
             "endlinecolor": "#2a3f5f",
             "gridcolor": "white",
             "linecolor": "white",
             "minorgridcolor": "white",
             "startlinecolor": "#2a3f5f"
            },
            "baxis": {
             "endlinecolor": "#2a3f5f",
             "gridcolor": "white",
             "linecolor": "white",
             "minorgridcolor": "white",
             "startlinecolor": "#2a3f5f"
            },
            "type": "carpet"
           }
          ],
          "choropleth": [
           {
            "colorbar": {
             "outlinewidth": 0,
             "ticks": ""
            },
            "type": "choropleth"
           }
          ],
          "contour": [
           {
            "colorbar": {
             "outlinewidth": 0,
             "ticks": ""
            },
            "colorscale": [
             [
              0,
              "#0d0887"
             ],
             [
              0.1111111111111111,
              "#46039f"
             ],
             [
              0.2222222222222222,
              "#7201a8"
             ],
             [
              0.3333333333333333,
              "#9c179e"
             ],
             [
              0.4444444444444444,
              "#bd3786"
             ],
             [
              0.5555555555555556,
              "#d8576b"
             ],
             [
              0.6666666666666666,
              "#ed7953"
             ],
             [
              0.7777777777777778,
              "#fb9f3a"
             ],
             [
              0.8888888888888888,
              "#fdca26"
             ],
             [
              1,
              "#f0f921"
             ]
            ],
            "type": "contour"
           }
          ],
          "contourcarpet": [
           {
            "colorbar": {
             "outlinewidth": 0,
             "ticks": ""
            },
            "type": "contourcarpet"
           }
          ],
          "heatmap": [
           {
            "colorbar": {
             "outlinewidth": 0,
             "ticks": ""
            },
            "colorscale": [
             [
              0,
              "#0d0887"
             ],
             [
              0.1111111111111111,
              "#46039f"
             ],
             [
              0.2222222222222222,
              "#7201a8"
             ],
             [
              0.3333333333333333,
              "#9c179e"
             ],
             [
              0.4444444444444444,
              "#bd3786"
             ],
             [
              0.5555555555555556,
              "#d8576b"
             ],
             [
              0.6666666666666666,
              "#ed7953"
             ],
             [
              0.7777777777777778,
              "#fb9f3a"
             ],
             [
              0.8888888888888888,
              "#fdca26"
             ],
             [
              1,
              "#f0f921"
             ]
            ],
            "type": "heatmap"
           }
          ],
          "heatmapgl": [
           {
            "colorbar": {
             "outlinewidth": 0,
             "ticks": ""
            },
            "colorscale": [
             [
              0,
              "#0d0887"
             ],
             [
              0.1111111111111111,
              "#46039f"
             ],
             [
              0.2222222222222222,
              "#7201a8"
             ],
             [
              0.3333333333333333,
              "#9c179e"
             ],
             [
              0.4444444444444444,
              "#bd3786"
             ],
             [
              0.5555555555555556,
              "#d8576b"
             ],
             [
              0.6666666666666666,
              "#ed7953"
             ],
             [
              0.7777777777777778,
              "#fb9f3a"
             ],
             [
              0.8888888888888888,
              "#fdca26"
             ],
             [
              1,
              "#f0f921"
             ]
            ],
            "type": "heatmapgl"
           }
          ],
          "histogram": [
           {
            "marker": {
             "pattern": {
              "fillmode": "overlay",
              "size": 10,
              "solidity": 0.2
             }
            },
            "type": "histogram"
           }
          ],
          "histogram2d": [
           {
            "colorbar": {
             "outlinewidth": 0,
             "ticks": ""
            },
            "colorscale": [
             [
              0,
              "#0d0887"
             ],
             [
              0.1111111111111111,
              "#46039f"
             ],
             [
              0.2222222222222222,
              "#7201a8"
             ],
             [
              0.3333333333333333,
              "#9c179e"
             ],
             [
              0.4444444444444444,
              "#bd3786"
             ],
             [
              0.5555555555555556,
              "#d8576b"
             ],
             [
              0.6666666666666666,
              "#ed7953"
             ],
             [
              0.7777777777777778,
              "#fb9f3a"
             ],
             [
              0.8888888888888888,
              "#fdca26"
             ],
             [
              1,
              "#f0f921"
             ]
            ],
            "type": "histogram2d"
           }
          ],
          "histogram2dcontour": [
           {
            "colorbar": {
             "outlinewidth": 0,
             "ticks": ""
            },
            "colorscale": [
             [
              0,
              "#0d0887"
             ],
             [
              0.1111111111111111,
              "#46039f"
             ],
             [
              0.2222222222222222,
              "#7201a8"
             ],
             [
              0.3333333333333333,
              "#9c179e"
             ],
             [
              0.4444444444444444,
              "#bd3786"
             ],
             [
              0.5555555555555556,
              "#d8576b"
             ],
             [
              0.6666666666666666,
              "#ed7953"
             ],
             [
              0.7777777777777778,
              "#fb9f3a"
             ],
             [
              0.8888888888888888,
              "#fdca26"
             ],
             [
              1,
              "#f0f921"
             ]
            ],
            "type": "histogram2dcontour"
           }
          ],
          "mesh3d": [
           {
            "colorbar": {
             "outlinewidth": 0,
             "ticks": ""
            },
            "type": "mesh3d"
           }
          ],
          "parcoords": [
           {
            "line": {
             "colorbar": {
              "outlinewidth": 0,
              "ticks": ""
             }
            },
            "type": "parcoords"
           }
          ],
          "pie": [
           {
            "automargin": true,
            "type": "pie"
           }
          ],
          "scatter": [
           {
            "fillpattern": {
             "fillmode": "overlay",
             "size": 10,
             "solidity": 0.2
            },
            "type": "scatter"
           }
          ],
          "scatter3d": [
           {
            "line": {
             "colorbar": {
              "outlinewidth": 0,
              "ticks": ""
             }
            },
            "marker": {
             "colorbar": {
              "outlinewidth": 0,
              "ticks": ""
             }
            },
            "type": "scatter3d"
           }
          ],
          "scattercarpet": [
           {
            "marker": {
             "colorbar": {
              "outlinewidth": 0,
              "ticks": ""
             }
            },
            "type": "scattercarpet"
           }
          ],
          "scattergeo": [
           {
            "marker": {
             "colorbar": {
              "outlinewidth": 0,
              "ticks": ""
             }
            },
            "type": "scattergeo"
           }
          ],
          "scattergl": [
           {
            "marker": {
             "colorbar": {
              "outlinewidth": 0,
              "ticks": ""
             }
            },
            "type": "scattergl"
           }
          ],
          "scattermapbox": [
           {
            "marker": {
             "colorbar": {
              "outlinewidth": 0,
              "ticks": ""
             }
            },
            "type": "scattermapbox"
           }
          ],
          "scatterpolar": [
           {
            "marker": {
             "colorbar": {
              "outlinewidth": 0,
              "ticks": ""
             }
            },
            "type": "scatterpolar"
           }
          ],
          "scatterpolargl": [
           {
            "marker": {
             "colorbar": {
              "outlinewidth": 0,
              "ticks": ""
             }
            },
            "type": "scatterpolargl"
           }
          ],
          "scatterternary": [
           {
            "marker": {
             "colorbar": {
              "outlinewidth": 0,
              "ticks": ""
             }
            },
            "type": "scatterternary"
           }
          ],
          "surface": [
           {
            "colorbar": {
             "outlinewidth": 0,
             "ticks": ""
            },
            "colorscale": [
             [
              0,
              "#0d0887"
             ],
             [
              0.1111111111111111,
              "#46039f"
             ],
             [
              0.2222222222222222,
              "#7201a8"
             ],
             [
              0.3333333333333333,
              "#9c179e"
             ],
             [
              0.4444444444444444,
              "#bd3786"
             ],
             [
              0.5555555555555556,
              "#d8576b"
             ],
             [
              0.6666666666666666,
              "#ed7953"
             ],
             [
              0.7777777777777778,
              "#fb9f3a"
             ],
             [
              0.8888888888888888,
              "#fdca26"
             ],
             [
              1,
              "#f0f921"
             ]
            ],
            "type": "surface"
           }
          ],
          "table": [
           {
            "cells": {
             "fill": {
              "color": "#EBF0F8"
             },
             "line": {
              "color": "white"
             }
            },
            "header": {
             "fill": {
              "color": "#C8D4E3"
             },
             "line": {
              "color": "white"
             }
            },
            "type": "table"
           }
          ]
         },
         "layout": {
          "annotationdefaults": {
           "arrowcolor": "#2a3f5f",
           "arrowhead": 0,
           "arrowwidth": 1
          },
          "autotypenumbers": "strict",
          "coloraxis": {
           "colorbar": {
            "outlinewidth": 0,
            "ticks": ""
           }
          },
          "colorscale": {
           "diverging": [
            [
             0,
             "#8e0152"
            ],
            [
             0.1,
             "#c51b7d"
            ],
            [
             0.2,
             "#de77ae"
            ],
            [
             0.3,
             "#f1b6da"
            ],
            [
             0.4,
             "#fde0ef"
            ],
            [
             0.5,
             "#f7f7f7"
            ],
            [
             0.6,
             "#e6f5d0"
            ],
            [
             0.7,
             "#b8e186"
            ],
            [
             0.8,
             "#7fbc41"
            ],
            [
             0.9,
             "#4d9221"
            ],
            [
             1,
             "#276419"
            ]
           ],
           "sequential": [
            [
             0,
             "#0d0887"
            ],
            [
             0.1111111111111111,
             "#46039f"
            ],
            [
             0.2222222222222222,
             "#7201a8"
            ],
            [
             0.3333333333333333,
             "#9c179e"
            ],
            [
             0.4444444444444444,
             "#bd3786"
            ],
            [
             0.5555555555555556,
             "#d8576b"
            ],
            [
             0.6666666666666666,
             "#ed7953"
            ],
            [
             0.7777777777777778,
             "#fb9f3a"
            ],
            [
             0.8888888888888888,
             "#fdca26"
            ],
            [
             1,
             "#f0f921"
            ]
           ],
           "sequentialminus": [
            [
             0,
             "#0d0887"
            ],
            [
             0.1111111111111111,
             "#46039f"
            ],
            [
             0.2222222222222222,
             "#7201a8"
            ],
            [
             0.3333333333333333,
             "#9c179e"
            ],
            [
             0.4444444444444444,
             "#bd3786"
            ],
            [
             0.5555555555555556,
             "#d8576b"
            ],
            [
             0.6666666666666666,
             "#ed7953"
            ],
            [
             0.7777777777777778,
             "#fb9f3a"
            ],
            [
             0.8888888888888888,
             "#fdca26"
            ],
            [
             1,
             "#f0f921"
            ]
           ]
          },
          "colorway": [
           "#636efa",
           "#EF553B",
           "#00cc96",
           "#ab63fa",
           "#FFA15A",
           "#19d3f3",
           "#FF6692",
           "#B6E880",
           "#FF97FF",
           "#FECB52"
          ],
          "font": {
           "color": "#2a3f5f"
          },
          "geo": {
           "bgcolor": "white",
           "lakecolor": "white",
           "landcolor": "#E5ECF6",
           "showlakes": true,
           "showland": true,
           "subunitcolor": "white"
          },
          "hoverlabel": {
           "align": "left"
          },
          "hovermode": "closest",
          "mapbox": {
           "style": "light"
          },
          "paper_bgcolor": "white",
          "plot_bgcolor": "#E5ECF6",
          "polar": {
           "angularaxis": {
            "gridcolor": "white",
            "linecolor": "white",
            "ticks": ""
           },
           "bgcolor": "#E5ECF6",
           "radialaxis": {
            "gridcolor": "white",
            "linecolor": "white",
            "ticks": ""
           }
          },
          "scene": {
           "xaxis": {
            "backgroundcolor": "#E5ECF6",
            "gridcolor": "white",
            "gridwidth": 2,
            "linecolor": "white",
            "showbackground": true,
            "ticks": "",
            "zerolinecolor": "white"
           },
           "yaxis": {
            "backgroundcolor": "#E5ECF6",
            "gridcolor": "white",
            "gridwidth": 2,
            "linecolor": "white",
            "showbackground": true,
            "ticks": "",
            "zerolinecolor": "white"
           },
           "zaxis": {
            "backgroundcolor": "#E5ECF6",
            "gridcolor": "white",
            "gridwidth": 2,
            "linecolor": "white",
            "showbackground": true,
            "ticks": "",
            "zerolinecolor": "white"
           }
          },
          "shapedefaults": {
           "line": {
            "color": "#2a3f5f"
           }
          },
          "ternary": {
           "aaxis": {
            "gridcolor": "white",
            "linecolor": "white",
            "ticks": ""
           },
           "baxis": {
            "gridcolor": "white",
            "linecolor": "white",
            "ticks": ""
           },
           "bgcolor": "#E5ECF6",
           "caxis": {
            "gridcolor": "white",
            "linecolor": "white",
            "ticks": ""
           }
          },
          "title": {
           "x": 0.05
          },
          "xaxis": {
           "automargin": true,
           "gridcolor": "white",
           "linecolor": "white",
           "ticks": "",
           "title": {
            "standoff": 15
           },
           "zerolinecolor": "white",
           "zerolinewidth": 2
          },
          "yaxis": {
           "automargin": true,
           "gridcolor": "white",
           "linecolor": "white",
           "ticks": "",
           "title": {
            "standoff": 15
           },
           "zerolinecolor": "white",
           "zerolinewidth": 2
          }
         }
        },
        "title": {
         "text": "Boxplot da Acurácia Balanceada do classificador Sim/real sem features de temperatura"
        },
        "xaxis": {
         "anchor": "y",
         "domain": [
          0,
          1
         ],
         "title": {
          "text": "Nome"
         }
        },
        "yaxis": {
         "anchor": "x",
         "domain": [
          0,
          1
         ],
         "range": [
          0,
          1
         ],
         "title": {
          "text": "Acurácia Balanceada"
         }
        }
       }
      }
     },
     "metadata": {},
     "output_type": "display_data"
    },
    {
     "data": {
      "application/vnd.plotly.v1+json": {
       "config": {
        "plotlyServerURL": "https://plot.ly"
       },
       "data": [
        {
         "alignmentgroup": "True",
         "boxpoints": "all",
         "hovertemplate": "Nome=%{x}<br>Acurácia Balanceada=%{y}<extra></extra>",
         "legendgroup": "",
         "marker": {
          "color": "#636efa"
         },
         "name": "",
         "notched": false,
         "offsetgroup": "",
         "orientation": "v",
         "showlegend": false,
         "type": "box",
         "x": [
          "logreg",
          "KNN",
          "GaussianNB",
          "Perceptron",
          "LinearSVC",
          "SGD",
          "Dtree",
          "RForest",
          "ADA",
          "GBC",
          "ETC",
          "logreg",
          "KNN",
          "GaussianNB",
          "Perceptron",
          "LinearSVC",
          "SGD",
          "Dtree",
          "RForest",
          "ADA",
          "GBC",
          "ETC",
          "logreg",
          "KNN",
          "GaussianNB",
          "Perceptron",
          "LinearSVC",
          "SGD",
          "Dtree",
          "RForest",
          "ADA",
          "GBC",
          "ETC",
          "logreg",
          "KNN",
          "GaussianNB",
          "Perceptron",
          "LinearSVC",
          "SGD",
          "Dtree",
          "RForest",
          "ADA",
          "GBC",
          "ETC",
          "logreg",
          "KNN",
          "GaussianNB",
          "Perceptron",
          "LinearSVC",
          "SGD",
          "Dtree",
          "RForest",
          "ADA",
          "GBC",
          "ETC",
          "logreg",
          "KNN",
          "GaussianNB",
          "Perceptron",
          "LinearSVC",
          "SGD",
          "Dtree",
          "RForest",
          "ADA",
          "GBC",
          "ETC",
          "logreg",
          "KNN",
          "GaussianNB",
          "Perceptron",
          "LinearSVC",
          "SGD",
          "Dtree",
          "RForest",
          "ADA",
          "GBC",
          "ETC",
          "logreg",
          "KNN",
          "GaussianNB",
          "Perceptron",
          "LinearSVC",
          "SGD",
          "Dtree",
          "RForest",
          "ADA",
          "GBC",
          "ETC",
          "logreg",
          "KNN",
          "GaussianNB",
          "Perceptron",
          "LinearSVC",
          "SGD",
          "Dtree",
          "RForest",
          "ADA",
          "GBC",
          "ETC",
          "logreg",
          "KNN",
          "GaussianNB",
          "Perceptron",
          "LinearSVC",
          "SGD",
          "Dtree",
          "RForest",
          "ADA",
          "GBC",
          "ETC",
          "logreg",
          "KNN",
          "GaussianNB",
          "Perceptron",
          "LinearSVC",
          "SGD",
          "Dtree",
          "RForest",
          "ADA",
          "GBC",
          "ETC",
          "logreg",
          "KNN",
          "GaussianNB",
          "Perceptron",
          "LinearSVC",
          "SGD",
          "Dtree",
          "RForest",
          "ADA",
          "GBC",
          "ETC",
          "logreg",
          "KNN",
          "GaussianNB",
          "Perceptron",
          "LinearSVC",
          "SGD",
          "Dtree",
          "RForest",
          "ADA",
          "GBC",
          "ETC",
          "logreg",
          "KNN",
          "GaussianNB",
          "Perceptron",
          "LinearSVC",
          "SGD",
          "Dtree",
          "RForest",
          "ADA",
          "GBC",
          "ETC",
          "logreg",
          "KNN",
          "GaussianNB",
          "Perceptron",
          "LinearSVC",
          "SGD",
          "Dtree",
          "RForest",
          "ADA",
          "GBC",
          "ETC",
          "logreg",
          "KNN",
          "GaussianNB",
          "Perceptron",
          "LinearSVC",
          "SGD",
          "Dtree",
          "RForest",
          "ADA",
          "GBC",
          "ETC",
          "logreg",
          "KNN",
          "GaussianNB",
          "Perceptron",
          "LinearSVC",
          "SGD",
          "Dtree",
          "RForest",
          "ADA",
          "GBC",
          "ETC",
          "logreg",
          "KNN",
          "GaussianNB",
          "Perceptron",
          "LinearSVC",
          "SGD",
          "Dtree",
          "RForest",
          "ADA",
          "GBC",
          "ETC",
          "logreg",
          "KNN",
          "GaussianNB",
          "Perceptron",
          "LinearSVC",
          "SGD",
          "Dtree",
          "RForest",
          "ADA",
          "GBC",
          "ETC",
          "logreg",
          "KNN",
          "GaussianNB",
          "Perceptron",
          "LinearSVC",
          "SGD",
          "Dtree",
          "RForest",
          "ADA",
          "GBC",
          "ETC",
          "logreg",
          "KNN",
          "GaussianNB",
          "Perceptron",
          "LinearSVC",
          "SGD",
          "Dtree",
          "RForest",
          "ADA",
          "GBC",
          "ETC",
          "logreg",
          "KNN",
          "GaussianNB",
          "Perceptron",
          "LinearSVC",
          "SGD",
          "Dtree",
          "RForest",
          "ADA",
          "GBC",
          "ETC",
          "logreg",
          "KNN",
          "GaussianNB",
          "Perceptron",
          "LinearSVC",
          "SGD",
          "Dtree",
          "RForest",
          "ADA",
          "GBC",
          "ETC",
          "logreg",
          "KNN",
          "GaussianNB",
          "Perceptron",
          "LinearSVC",
          "SGD",
          "Dtree",
          "RForest",
          "ADA",
          "GBC",
          "ETC",
          "logreg",
          "KNN",
          "GaussianNB",
          "Perceptron",
          "LinearSVC",
          "SGD",
          "Dtree",
          "RForest",
          "ADA",
          "GBC",
          "ETC"
         ],
         "x0": " ",
         "xaxis": "x",
         "y": [
          0.5,
          0.4042095526533582,
          0.5,
          0.5,
          0.5,
          0.5,
          0.3909843983406742,
          0.6028699981295432,
          0.3247253887603484,
          0.3250981989807291,
          0.3044283704734305,
          0.5,
          0.5044814094532373,
          0.5,
          0.5,
          0.5,
          0.5,
          0.5658170180819363,
          0.5137222346065251,
          0.3792466415051796,
          0.3818063487915055,
          0.4578801319056367,
          0.5,
          0.4378713689437556,
          0.5,
          0.5,
          0.5,
          0.5,
          0.5302693713984099,
          0.5900740239674694,
          0.3238362812244574,
          0.3356457816075167,
          0.5195257751505974,
          0.5,
          0.3771712031649153,
          0.5,
          0.5,
          0.5,
          0.5,
          0.6295342562628273,
          0.5698410624194487,
          0.327962816344205,
          0.3010269576379974,
          0.4160895154492043,
          0.5,
          0.4818463201965773,
          0.5,
          0.5,
          0.5,
          0.5,
          0.5223340225838439,
          0.5258404884710681,
          0.2886973165350941,
          0.3100948295962631,
          0.4341650460311725,
          0.5,
          0.2114871668729293,
          0.5,
          0.5,
          0.5,
          0.5,
          0.3555366801698272,
          0.5298658139433585,
          0.2746214887298573,
          0.249957081984939,
          0.2777884539009272,
          0.5,
          0.3185362266481158,
          0.5,
          0.5,
          0.5,
          0.5,
          0.6870277416924815,
          0.516174326571504,
          0.2725345201765916,
          0.3050599699189554,
          0.3410790742007641,
          0.5,
          0.2573825391578845,
          0.5,
          0.5,
          0.5,
          0.5,
          0.5097673715470215,
          0.5431037796038218,
          0.2662262125300106,
          0.3078195342306401,
          0.3487517903858521,
          0.5,
          0.1880026852584945,
          0.5,
          0.5,
          0.5,
          0.5,
          0.5844088459794148,
          0.5420878397249147,
          0.2088262499391461,
          0.2607122084457529,
          0.2777103046794729,
          0.5,
          0.2943291850189223,
          0.5,
          0.5,
          0.5,
          0.5,
          0.3312335534322881,
          0.2818842417860044,
          0.1831984298412161,
          0.2491358745922788,
          0.2435027249736726,
          0.5,
          0.5085938520904276,
          0.5,
          0.5,
          0.5,
          0.5,
          0.5111240932768609,
          0.5226517440087732,
          0.4640705751526472,
          0.5343267252401487,
          0.5350441607157956,
          0.5,
          0.5854363160713233,
          0.5,
          0.5,
          0.5,
          0.5,
          0.5318041708623831,
          0.6355069065975879,
          0.5137786045367545,
          0.5653570906966555,
          0.4781054066449899,
          0.5,
          0.5260915908875445,
          0.5,
          0.5,
          0.5,
          0.5,
          0.5004599273852808,
          0.5084375536475189,
          0.5625091280852929,
          0.5582493549486394,
          0.7156956946184653,
          0.5,
          0.4703084203864415,
          0.5,
          0.5,
          0.5,
          0.5,
          0.7032943099679972,
          0.5120516348560901,
          0.5103938464534346,
          0.520987549932228,
          0.4830275264618388,
          0.5,
          0.5634610112253029,
          0.5,
          0.5,
          0.5,
          0.5,
          0.5853901952193175,
          0.3769444423092198,
          0.4206503552586739,
          0.4706363908895944,
          0.5065555666587236,
          0.5,
          0.39029642896492,
          0.5,
          0.5,
          0.5,
          0.5,
          0.5562008204387118,
          0.3891446887995511,
          0.3903412686821479,
          0.537247712533854,
          0.4065207197927636,
          0.5,
          0.4951073462830436,
          0.5,
          0.5,
          0.5,
          0.5,
          0.5061084506212222,
          0.6108220016962225,
          0.445558177611401,
          0.4708938989799605,
          0.4378790557524232,
          0.5,
          0.4280015066144988,
          0.5,
          0.5,
          0.5,
          0.5,
          0.5123155486203459,
          0.5665959480269244,
          0.4363506619623397,
          0.4619221121300403,
          0.439508659189964,
          0.5,
          0.3710294430394666,
          0.5,
          0.5,
          0.5,
          0.5,
          0.4436979699138308,
          0.6836519515526072,
          0.3792697019311825,
          0.406447695110421,
          0.3736378334473543,
          0.5,
          0.4690336912823903,
          0.5,
          0.5,
          0.5,
          0.5,
          0.3305289293044207,
          0.6251117790093753,
          0.353287007499763,
          0.405969831838249,
          0.372431004486534,
          0.5,
          0.4174257390225966,
          0.5,
          0.5,
          0.5,
          0.5,
          0.4723082717748072,
          0.4251740421595832,
          0.4875998964843099,
          0.4314990045582775,
          0.4271764558175049,
          0.5,
          0.5013836255601762,
          0.5,
          0.5,
          0.5,
          0.5,
          0.5384519792251184,
          0.4382147130642437,
          0.5129522726049826,
          0.5128843724617517,
          0.4202429543992887,
          0.5,
          0.4309839883775452,
          0.5,
          0.5,
          0.5,
          0.5,
          0.4276620058983445,
          0.4737636408825481,
          0.4666661542127555,
          0.4434712090581353,
          0.4605295186264185,
          0.5,
          0.3624496834315963,
          0.5,
          0.5,
          0.5,
          0.5,
          0.4666238767650834,
          0.3562169627369138,
          0.4552986453280858,
          0.4644254494861368,
          0.361502924830698,
          0.5,
          0.5007289656886483,
          0.5,
          0.5,
          0.5,
          0.5,
          0.486407160006047,
          0.4437005321833868,
          0.4224311326000118,
          0.4124574983537418,
          0.3987045165125461
         ],
         "y0": " ",
         "yaxis": "y"
        }
       ],
       "layout": {
        "boxmode": "group",
        "legend": {
         "tracegroupgap": 0
        },
        "template": {
         "data": {
          "bar": [
           {
            "error_x": {
             "color": "#2a3f5f"
            },
            "error_y": {
             "color": "#2a3f5f"
            },
            "marker": {
             "line": {
              "color": "#E5ECF6",
              "width": 0.5
             },
             "pattern": {
              "fillmode": "overlay",
              "size": 10,
              "solidity": 0.2
             }
            },
            "type": "bar"
           }
          ],
          "barpolar": [
           {
            "marker": {
             "line": {
              "color": "#E5ECF6",
              "width": 0.5
             },
             "pattern": {
              "fillmode": "overlay",
              "size": 10,
              "solidity": 0.2
             }
            },
            "type": "barpolar"
           }
          ],
          "carpet": [
           {
            "aaxis": {
             "endlinecolor": "#2a3f5f",
             "gridcolor": "white",
             "linecolor": "white",
             "minorgridcolor": "white",
             "startlinecolor": "#2a3f5f"
            },
            "baxis": {
             "endlinecolor": "#2a3f5f",
             "gridcolor": "white",
             "linecolor": "white",
             "minorgridcolor": "white",
             "startlinecolor": "#2a3f5f"
            },
            "type": "carpet"
           }
          ],
          "choropleth": [
           {
            "colorbar": {
             "outlinewidth": 0,
             "ticks": ""
            },
            "type": "choropleth"
           }
          ],
          "contour": [
           {
            "colorbar": {
             "outlinewidth": 0,
             "ticks": ""
            },
            "colorscale": [
             [
              0,
              "#0d0887"
             ],
             [
              0.1111111111111111,
              "#46039f"
             ],
             [
              0.2222222222222222,
              "#7201a8"
             ],
             [
              0.3333333333333333,
              "#9c179e"
             ],
             [
              0.4444444444444444,
              "#bd3786"
             ],
             [
              0.5555555555555556,
              "#d8576b"
             ],
             [
              0.6666666666666666,
              "#ed7953"
             ],
             [
              0.7777777777777778,
              "#fb9f3a"
             ],
             [
              0.8888888888888888,
              "#fdca26"
             ],
             [
              1,
              "#f0f921"
             ]
            ],
            "type": "contour"
           }
          ],
          "contourcarpet": [
           {
            "colorbar": {
             "outlinewidth": 0,
             "ticks": ""
            },
            "type": "contourcarpet"
           }
          ],
          "heatmap": [
           {
            "colorbar": {
             "outlinewidth": 0,
             "ticks": ""
            },
            "colorscale": [
             [
              0,
              "#0d0887"
             ],
             [
              0.1111111111111111,
              "#46039f"
             ],
             [
              0.2222222222222222,
              "#7201a8"
             ],
             [
              0.3333333333333333,
              "#9c179e"
             ],
             [
              0.4444444444444444,
              "#bd3786"
             ],
             [
              0.5555555555555556,
              "#d8576b"
             ],
             [
              0.6666666666666666,
              "#ed7953"
             ],
             [
              0.7777777777777778,
              "#fb9f3a"
             ],
             [
              0.8888888888888888,
              "#fdca26"
             ],
             [
              1,
              "#f0f921"
             ]
            ],
            "type": "heatmap"
           }
          ],
          "heatmapgl": [
           {
            "colorbar": {
             "outlinewidth": 0,
             "ticks": ""
            },
            "colorscale": [
             [
              0,
              "#0d0887"
             ],
             [
              0.1111111111111111,
              "#46039f"
             ],
             [
              0.2222222222222222,
              "#7201a8"
             ],
             [
              0.3333333333333333,
              "#9c179e"
             ],
             [
              0.4444444444444444,
              "#bd3786"
             ],
             [
              0.5555555555555556,
              "#d8576b"
             ],
             [
              0.6666666666666666,
              "#ed7953"
             ],
             [
              0.7777777777777778,
              "#fb9f3a"
             ],
             [
              0.8888888888888888,
              "#fdca26"
             ],
             [
              1,
              "#f0f921"
             ]
            ],
            "type": "heatmapgl"
           }
          ],
          "histogram": [
           {
            "marker": {
             "pattern": {
              "fillmode": "overlay",
              "size": 10,
              "solidity": 0.2
             }
            },
            "type": "histogram"
           }
          ],
          "histogram2d": [
           {
            "colorbar": {
             "outlinewidth": 0,
             "ticks": ""
            },
            "colorscale": [
             [
              0,
              "#0d0887"
             ],
             [
              0.1111111111111111,
              "#46039f"
             ],
             [
              0.2222222222222222,
              "#7201a8"
             ],
             [
              0.3333333333333333,
              "#9c179e"
             ],
             [
              0.4444444444444444,
              "#bd3786"
             ],
             [
              0.5555555555555556,
              "#d8576b"
             ],
             [
              0.6666666666666666,
              "#ed7953"
             ],
             [
              0.7777777777777778,
              "#fb9f3a"
             ],
             [
              0.8888888888888888,
              "#fdca26"
             ],
             [
              1,
              "#f0f921"
             ]
            ],
            "type": "histogram2d"
           }
          ],
          "histogram2dcontour": [
           {
            "colorbar": {
             "outlinewidth": 0,
             "ticks": ""
            },
            "colorscale": [
             [
              0,
              "#0d0887"
             ],
             [
              0.1111111111111111,
              "#46039f"
             ],
             [
              0.2222222222222222,
              "#7201a8"
             ],
             [
              0.3333333333333333,
              "#9c179e"
             ],
             [
              0.4444444444444444,
              "#bd3786"
             ],
             [
              0.5555555555555556,
              "#d8576b"
             ],
             [
              0.6666666666666666,
              "#ed7953"
             ],
             [
              0.7777777777777778,
              "#fb9f3a"
             ],
             [
              0.8888888888888888,
              "#fdca26"
             ],
             [
              1,
              "#f0f921"
             ]
            ],
            "type": "histogram2dcontour"
           }
          ],
          "mesh3d": [
           {
            "colorbar": {
             "outlinewidth": 0,
             "ticks": ""
            },
            "type": "mesh3d"
           }
          ],
          "parcoords": [
           {
            "line": {
             "colorbar": {
              "outlinewidth": 0,
              "ticks": ""
             }
            },
            "type": "parcoords"
           }
          ],
          "pie": [
           {
            "automargin": true,
            "type": "pie"
           }
          ],
          "scatter": [
           {
            "fillpattern": {
             "fillmode": "overlay",
             "size": 10,
             "solidity": 0.2
            },
            "type": "scatter"
           }
          ],
          "scatter3d": [
           {
            "line": {
             "colorbar": {
              "outlinewidth": 0,
              "ticks": ""
             }
            },
            "marker": {
             "colorbar": {
              "outlinewidth": 0,
              "ticks": ""
             }
            },
            "type": "scatter3d"
           }
          ],
          "scattercarpet": [
           {
            "marker": {
             "colorbar": {
              "outlinewidth": 0,
              "ticks": ""
             }
            },
            "type": "scattercarpet"
           }
          ],
          "scattergeo": [
           {
            "marker": {
             "colorbar": {
              "outlinewidth": 0,
              "ticks": ""
             }
            },
            "type": "scattergeo"
           }
          ],
          "scattergl": [
           {
            "marker": {
             "colorbar": {
              "outlinewidth": 0,
              "ticks": ""
             }
            },
            "type": "scattergl"
           }
          ],
          "scattermapbox": [
           {
            "marker": {
             "colorbar": {
              "outlinewidth": 0,
              "ticks": ""
             }
            },
            "type": "scattermapbox"
           }
          ],
          "scatterpolar": [
           {
            "marker": {
             "colorbar": {
              "outlinewidth": 0,
              "ticks": ""
             }
            },
            "type": "scatterpolar"
           }
          ],
          "scatterpolargl": [
           {
            "marker": {
             "colorbar": {
              "outlinewidth": 0,
              "ticks": ""
             }
            },
            "type": "scatterpolargl"
           }
          ],
          "scatterternary": [
           {
            "marker": {
             "colorbar": {
              "outlinewidth": 0,
              "ticks": ""
             }
            },
            "type": "scatterternary"
           }
          ],
          "surface": [
           {
            "colorbar": {
             "outlinewidth": 0,
             "ticks": ""
            },
            "colorscale": [
             [
              0,
              "#0d0887"
             ],
             [
              0.1111111111111111,
              "#46039f"
             ],
             [
              0.2222222222222222,
              "#7201a8"
             ],
             [
              0.3333333333333333,
              "#9c179e"
             ],
             [
              0.4444444444444444,
              "#bd3786"
             ],
             [
              0.5555555555555556,
              "#d8576b"
             ],
             [
              0.6666666666666666,
              "#ed7953"
             ],
             [
              0.7777777777777778,
              "#fb9f3a"
             ],
             [
              0.8888888888888888,
              "#fdca26"
             ],
             [
              1,
              "#f0f921"
             ]
            ],
            "type": "surface"
           }
          ],
          "table": [
           {
            "cells": {
             "fill": {
              "color": "#EBF0F8"
             },
             "line": {
              "color": "white"
             }
            },
            "header": {
             "fill": {
              "color": "#C8D4E3"
             },
             "line": {
              "color": "white"
             }
            },
            "type": "table"
           }
          ]
         },
         "layout": {
          "annotationdefaults": {
           "arrowcolor": "#2a3f5f",
           "arrowhead": 0,
           "arrowwidth": 1
          },
          "autotypenumbers": "strict",
          "coloraxis": {
           "colorbar": {
            "outlinewidth": 0,
            "ticks": ""
           }
          },
          "colorscale": {
           "diverging": [
            [
             0,
             "#8e0152"
            ],
            [
             0.1,
             "#c51b7d"
            ],
            [
             0.2,
             "#de77ae"
            ],
            [
             0.3,
             "#f1b6da"
            ],
            [
             0.4,
             "#fde0ef"
            ],
            [
             0.5,
             "#f7f7f7"
            ],
            [
             0.6,
             "#e6f5d0"
            ],
            [
             0.7,
             "#b8e186"
            ],
            [
             0.8,
             "#7fbc41"
            ],
            [
             0.9,
             "#4d9221"
            ],
            [
             1,
             "#276419"
            ]
           ],
           "sequential": [
            [
             0,
             "#0d0887"
            ],
            [
             0.1111111111111111,
             "#46039f"
            ],
            [
             0.2222222222222222,
             "#7201a8"
            ],
            [
             0.3333333333333333,
             "#9c179e"
            ],
            [
             0.4444444444444444,
             "#bd3786"
            ],
            [
             0.5555555555555556,
             "#d8576b"
            ],
            [
             0.6666666666666666,
             "#ed7953"
            ],
            [
             0.7777777777777778,
             "#fb9f3a"
            ],
            [
             0.8888888888888888,
             "#fdca26"
            ],
            [
             1,
             "#f0f921"
            ]
           ],
           "sequentialminus": [
            [
             0,
             "#0d0887"
            ],
            [
             0.1111111111111111,
             "#46039f"
            ],
            [
             0.2222222222222222,
             "#7201a8"
            ],
            [
             0.3333333333333333,
             "#9c179e"
            ],
            [
             0.4444444444444444,
             "#bd3786"
            ],
            [
             0.5555555555555556,
             "#d8576b"
            ],
            [
             0.6666666666666666,
             "#ed7953"
            ],
            [
             0.7777777777777778,
             "#fb9f3a"
            ],
            [
             0.8888888888888888,
             "#fdca26"
            ],
            [
             1,
             "#f0f921"
            ]
           ]
          },
          "colorway": [
           "#636efa",
           "#EF553B",
           "#00cc96",
           "#ab63fa",
           "#FFA15A",
           "#19d3f3",
           "#FF6692",
           "#B6E880",
           "#FF97FF",
           "#FECB52"
          ],
          "font": {
           "color": "#2a3f5f"
          },
          "geo": {
           "bgcolor": "white",
           "lakecolor": "white",
           "landcolor": "#E5ECF6",
           "showlakes": true,
           "showland": true,
           "subunitcolor": "white"
          },
          "hoverlabel": {
           "align": "left"
          },
          "hovermode": "closest",
          "mapbox": {
           "style": "light"
          },
          "paper_bgcolor": "white",
          "plot_bgcolor": "#E5ECF6",
          "polar": {
           "angularaxis": {
            "gridcolor": "white",
            "linecolor": "white",
            "ticks": ""
           },
           "bgcolor": "#E5ECF6",
           "radialaxis": {
            "gridcolor": "white",
            "linecolor": "white",
            "ticks": ""
           }
          },
          "scene": {
           "xaxis": {
            "backgroundcolor": "#E5ECF6",
            "gridcolor": "white",
            "gridwidth": 2,
            "linecolor": "white",
            "showbackground": true,
            "ticks": "",
            "zerolinecolor": "white"
           },
           "yaxis": {
            "backgroundcolor": "#E5ECF6",
            "gridcolor": "white",
            "gridwidth": 2,
            "linecolor": "white",
            "showbackground": true,
            "ticks": "",
            "zerolinecolor": "white"
           },
           "zaxis": {
            "backgroundcolor": "#E5ECF6",
            "gridcolor": "white",
            "gridwidth": 2,
            "linecolor": "white",
            "showbackground": true,
            "ticks": "",
            "zerolinecolor": "white"
           }
          },
          "shapedefaults": {
           "line": {
            "color": "#2a3f5f"
           }
          },
          "ternary": {
           "aaxis": {
            "gridcolor": "white",
            "linecolor": "white",
            "ticks": ""
           },
           "baxis": {
            "gridcolor": "white",
            "linecolor": "white",
            "ticks": ""
           },
           "bgcolor": "#E5ECF6",
           "caxis": {
            "gridcolor": "white",
            "linecolor": "white",
            "ticks": ""
           }
          },
          "title": {
           "x": 0.05
          },
          "xaxis": {
           "automargin": true,
           "gridcolor": "white",
           "linecolor": "white",
           "ticks": "",
           "title": {
            "standoff": 15
           },
           "zerolinecolor": "white",
           "zerolinewidth": 2
          },
          "yaxis": {
           "automargin": true,
           "gridcolor": "white",
           "linecolor": "white",
           "ticks": "",
           "title": {
            "standoff": 15
           },
           "zerolinecolor": "white",
           "zerolinewidth": 2
          }
         }
        },
        "title": {
         "text": "Boxplot da Acurácia Balanceada do classificador Sim/real"
        },
        "xaxis": {
         "anchor": "y",
         "domain": [
          0,
          1
         ],
         "title": {
          "text": "Nome"
         }
        },
        "yaxis": {
         "anchor": "x",
         "domain": [
          0,
          1
         ],
         "range": [
          0,
          1
         ],
         "title": {
          "text": "Acurácia Balanceada"
         }
        }
       }
      }
     },
     "metadata": {},
     "output_type": "display_data"
    },
    {
     "data": {
      "application/vnd.plotly.v1+json": {
       "config": {
        "plotlyServerURL": "https://plot.ly"
       },
       "data": [
        {
         "alignmentgroup": "True",
         "boxpoints": "all",
         "hovertemplate": "Nome=%{x}<br>F1-score Balanceada=%{y}<extra></extra>",
         "legendgroup": "",
         "marker": {
          "color": "rgb(141,211,199)"
         },
         "name": "",
         "notched": false,
         "offsetgroup": "",
         "orientation": "v",
         "showlegend": false,
         "type": "box",
         "x": [
          "logreg",
          "KNN",
          "GaussianNB",
          "Perceptron",
          "LinearSVC",
          "SGD",
          "Dtree",
          "RForest",
          "ADA",
          "GBC",
          "ETC",
          "logreg",
          "KNN",
          "GaussianNB",
          "Perceptron",
          "LinearSVC",
          "SGD",
          "Dtree",
          "RForest",
          "ADA",
          "GBC",
          "ETC",
          "logreg",
          "KNN",
          "GaussianNB",
          "Perceptron",
          "LinearSVC",
          "SGD",
          "Dtree",
          "RForest",
          "ADA",
          "GBC",
          "ETC",
          "logreg",
          "KNN",
          "GaussianNB",
          "Perceptron",
          "LinearSVC",
          "SGD",
          "Dtree",
          "RForest",
          "ADA",
          "GBC",
          "ETC",
          "logreg",
          "KNN",
          "GaussianNB",
          "Perceptron",
          "LinearSVC",
          "SGD",
          "Dtree",
          "RForest",
          "ADA",
          "GBC",
          "ETC",
          "logreg",
          "KNN",
          "GaussianNB",
          "Perceptron",
          "LinearSVC",
          "SGD",
          "Dtree",
          "RForest",
          "ADA",
          "GBC",
          "ETC",
          "logreg",
          "KNN",
          "GaussianNB",
          "Perceptron",
          "LinearSVC",
          "SGD",
          "Dtree",
          "RForest",
          "ADA",
          "GBC",
          "ETC",
          "logreg",
          "KNN",
          "GaussianNB",
          "Perceptron",
          "LinearSVC",
          "SGD",
          "Dtree",
          "RForest",
          "ADA",
          "GBC",
          "ETC",
          "logreg",
          "KNN",
          "GaussianNB",
          "Perceptron",
          "LinearSVC",
          "SGD",
          "Dtree",
          "RForest",
          "ADA",
          "GBC",
          "ETC",
          "logreg",
          "KNN",
          "GaussianNB",
          "Perceptron",
          "LinearSVC",
          "SGD",
          "Dtree",
          "RForest",
          "ADA",
          "GBC",
          "ETC",
          "logreg",
          "KNN",
          "GaussianNB",
          "Perceptron",
          "LinearSVC",
          "SGD",
          "Dtree",
          "RForest",
          "ADA",
          "GBC",
          "ETC",
          "logreg",
          "KNN",
          "GaussianNB",
          "Perceptron",
          "LinearSVC",
          "SGD",
          "Dtree",
          "RForest",
          "ADA",
          "GBC",
          "ETC",
          "logreg",
          "KNN",
          "GaussianNB",
          "Perceptron",
          "LinearSVC",
          "SGD",
          "Dtree",
          "RForest",
          "ADA",
          "GBC",
          "ETC",
          "logreg",
          "KNN",
          "GaussianNB",
          "Perceptron",
          "LinearSVC",
          "SGD",
          "Dtree",
          "RForest",
          "ADA",
          "GBC",
          "ETC",
          "logreg",
          "KNN",
          "GaussianNB",
          "Perceptron",
          "LinearSVC",
          "SGD",
          "Dtree",
          "RForest",
          "ADA",
          "GBC",
          "ETC",
          "logreg",
          "KNN",
          "GaussianNB",
          "Perceptron",
          "LinearSVC",
          "SGD",
          "Dtree",
          "RForest",
          "ADA",
          "GBC",
          "ETC",
          "logreg",
          "KNN",
          "GaussianNB",
          "Perceptron",
          "LinearSVC",
          "SGD",
          "Dtree",
          "RForest",
          "ADA",
          "GBC",
          "ETC",
          "logreg",
          "KNN",
          "GaussianNB",
          "Perceptron",
          "LinearSVC",
          "SGD",
          "Dtree",
          "RForest",
          "ADA",
          "GBC",
          "ETC",
          "logreg",
          "KNN",
          "GaussianNB",
          "Perceptron",
          "LinearSVC",
          "SGD",
          "Dtree",
          "RForest",
          "ADA",
          "GBC",
          "ETC",
          "logreg",
          "KNN",
          "GaussianNB",
          "Perceptron",
          "LinearSVC",
          "SGD",
          "Dtree",
          "RForest",
          "ADA",
          "GBC",
          "ETC",
          "logreg",
          "KNN",
          "GaussianNB",
          "Perceptron",
          "LinearSVC",
          "SGD",
          "Dtree",
          "RForest",
          "ADA",
          "GBC",
          "ETC",
          "logreg",
          "KNN",
          "GaussianNB",
          "Perceptron",
          "LinearSVC",
          "SGD",
          "Dtree",
          "RForest",
          "ADA",
          "GBC",
          "ETC",
          "logreg",
          "KNN",
          "GaussianNB",
          "Perceptron",
          "LinearSVC",
          "SGD",
          "Dtree",
          "RForest",
          "ADA",
          "GBC",
          "ETC",
          "logreg",
          "KNN",
          "GaussianNB",
          "Perceptron",
          "LinearSVC",
          "SGD",
          "Dtree",
          "RForest",
          "ADA",
          "GBC",
          "ETC",
          "logreg",
          "KNN",
          "GaussianNB",
          "Perceptron",
          "LinearSVC",
          "SGD",
          "Dtree",
          "RForest",
          "ADA",
          "GBC",
          "ETC"
         ],
         "x0": " ",
         "xaxis": "x",
         "y": [
          0.0189278699067167,
          0.5705682808346463,
          0.849523287337415,
          0.0189278699067167,
          0.0189352216102806,
          0.0189352216102806,
          0.8447280760520145,
          0.5447267691947575,
          0.1556222057148013,
          0.7414861707761979,
          0.1338771832477666,
          0.0189352216102806,
          0.6136245544739629,
          0.849523287337415,
          0.0189352216102806,
          0.0189352216102806,
          0.0189352216102806,
          0.821963226861022,
          0.2939960447833285,
          0.3352249206263207,
          0.8491110875175539,
          0.2141758745203825,
          0.0189278699067167,
          0.53790676645423,
          0.849523287337415,
          0.0189278699067167,
          0.0189352216102806,
          0.0189352216102806,
          0.8395129028548968,
          0.8416406207753797,
          0.2105997421727345,
          0.862491560401693,
          0.4024815935822087,
          0.0189352216102806,
          0.5570642736444753,
          0.849523287337415,
          0.0189278699067167,
          0.0189352216102806,
          0.0189352216102806,
          0.0763840313911047,
          0.8604326682699668,
          0.0840597167336277,
          0.8611569247316513,
          0.7220166309189421,
          0.0189278699067167,
          0.4919676444923643,
          0.849523287337415,
          0.0189278699067167,
          0.0189352216102806,
          0.0189278699067167,
          0.03630708838509,
          0.6224430724025032,
          0.6546108417138523,
          0.8618040301522087,
          0.0610642488659035,
          0.0189352216102806,
          0.5492328529642367,
          0.849523287337415,
          0.0189352216102806,
          0.0189352216102806,
          0.0189352216102806,
          0.260349766199992,
          0.1014841883602412,
          0.2245509078366101,
          0.8687869420743074,
          0.0902089968905609,
          0.0189352216102806,
          0.5881271556318349,
          0.849523287337415,
          0.0189352216102806,
          0.0189352216102806,
          0.0189352216102806,
          0.8576017950315077,
          0.7530390855490695,
          0.23132061917244,
          0.8394123781796633,
          0.193818158934861,
          0.0189352216102806,
          0.5148170128601597,
          0.849523287337415,
          0.0189352216102806,
          0.0189352216102806,
          0.0189352216102806,
          0.8576185450348955,
          0.5247321698846736,
          0.2022858105469195,
          0.220469940886794,
          0.2012216117376534,
          0.0189352216102806,
          0.5331830594582129,
          0.849523287337415,
          0.0189352216102806,
          0.0189352216102806,
          0.0189352216102806,
          0.8664205442210613,
          0.6991054720394296,
          0.8269723098397695,
          0.18882063907091,
          0.1263270435812062,
          0.0189352216102806,
          0.473350619691128,
          0.849523287337415,
          0.0189352216102806,
          0.0189352216102806,
          0.0189352216102806,
          0.1368482356913295,
          0.27499161367587,
          0.1139808767622581,
          0.8250862978699796,
          0.0143926705723606,
          0.0189352216102806,
          0.5495623958640912,
          0.849523287337415,
          0.0189352216102806,
          0.0189352216102806,
          0.0189352216102806,
          0.0640415944389763,
          0.1760573899328382,
          0.2128481044332117,
          0.7892537968377007,
          0.4848469960681671,
          0.0189352216102806,
          0.611370101575205,
          0.849523287337415,
          0.0189352216102806,
          0.0189352216102806,
          0.0189352216102806,
          0.340459664412197,
          0.7561019003986519,
          0.3200502284324395,
          0.6734348160015039,
          0.5157704840658967,
          0.0189352216102806,
          0.5292101629259538,
          0.849523287337415,
          0.0189352216102806,
          0.0189352216102806,
          0.0189352216102806,
          0.8334221030488728,
          0.5030397906424292,
          0.2071516030341887,
          0.2216796972138501,
          0.1787909305757824,
          0.0189352216102806,
          0.5451843110977019,
          0.849523287337415,
          0.0189352216102806,
          0.0189352216102806,
          0.0189352216102806,
          0.8225533240194661,
          0.7944598521032283,
          0.1762095829490043,
          0.6594906437356004,
          0.1904543304027072,
          0.0189352216102806,
          0.4881687896320961,
          0.849523287337415,
          0.0189352216102806,
          0.0189352216102806,
          0.0189352216102806,
          0.1869069727470201,
          0.5537896756687294,
          0.1028502976314788,
          0.5352078310680577,
          0.0653985988877638,
          0.0189352216102806,
          0.5390313749115481,
          0.849523287337415,
          0.0189352216102806,
          0.0189352216102806,
          0.0189352216102806,
          0.8642842526202826,
          0.7246816082949612,
          0.0578509474897222,
          0.29940458123262,
          0.2949635086471854,
          0.0189352216102806,
          0.5979075447794103,
          0.849523287337415,
          0.0189352216102806,
          0.0189352216102806,
          0.0189352216102806,
          0.5153463572531946,
          0.5465292815805904,
          0.2761663602919121,
          0.8625017631991696,
          0.1832637183967628,
          0.0189352216102806,
          0.5194231782790195,
          0.849523287337415,
          0.0189352216102806,
          0.0189352216102806,
          0.0189352216102806,
          0.1590287223003144,
          0.1120567307438491,
          0.2169845776003861,
          0.2023044355894403,
          0.1854860798270203,
          0.0189352216102806,
          0.5372593427302852,
          0.849523287337415,
          0.0189352216102806,
          0.0189352216102806,
          0.0189352216102806,
          0.8081111864505641,
          0.7834044078369544,
          0.2213392169480094,
          0.6493179420359035,
          0.0991518469633069,
          0.0189352216102806,
          0.4751246924521979,
          0.849523287337415,
          0.0189352216102806,
          0.0189352216102806,
          0.0189352216102806,
          0.2683252608137718,
          0.7861884180512122,
          0.0650434415009926,
          0.083306650839732,
          0.0303603003469676,
          0.0189352216102806,
          0.5523662310847858,
          0.849523287337415,
          0.0189352216102806,
          0.0189352216102806,
          0.0189352216102806,
          0.4861013804143118,
          0.7865734669538468,
          0.0623923709058083,
          0.4069191880640017,
          0.1339742852314488,
          0.0189352216102806,
          0.6130980600679353,
          0.849523287337415,
          0.0189352216102806,
          0.0189352216102806,
          0.0189352216102806,
          0.1153257492653511,
          0.7571835370848203,
          0.2493727192774781,
          0.7383955458610679,
          0.5980180673331349,
          0.0189352216102806,
          0.5315125068230063,
          0.849523287337415,
          0.0189352216102806,
          0.0189352216102806,
          0.0189352216102806,
          0.8418820772911181,
          0.7779966724599303,
          0.2077727262939799,
          0.3291798994096608,
          0.199263722280567,
          0.0189352216102806,
          0.5485842837817074,
          0.849523287337415,
          0.0189352216102806,
          0.0189352216102806,
          0.0189352216102806,
          0.0657623342828412,
          0.5148203448696804,
          0.2049824422193822,
          0.1762763676659589,
          0.4636390245632646,
          0.0189352216102806,
          0.488420354150666,
          0.849523287337415,
          0.0189352216102806,
          0.0189352216102806,
          0.0189352216102806,
          0.8486206927024318,
          0.3077973805163599,
          0.0938579041174545,
          0.0345049038169232,
          0.0225898642352821
         ],
         "y0": " ",
         "yaxis": "y"
        }
       ],
       "layout": {
        "boxmode": "group",
        "legend": {
         "tracegroupgap": 0
        },
        "template": {
         "data": {
          "bar": [
           {
            "error_x": {
             "color": "#2a3f5f"
            },
            "error_y": {
             "color": "#2a3f5f"
            },
            "marker": {
             "line": {
              "color": "#E5ECF6",
              "width": 0.5
             },
             "pattern": {
              "fillmode": "overlay",
              "size": 10,
              "solidity": 0.2
             }
            },
            "type": "bar"
           }
          ],
          "barpolar": [
           {
            "marker": {
             "line": {
              "color": "#E5ECF6",
              "width": 0.5
             },
             "pattern": {
              "fillmode": "overlay",
              "size": 10,
              "solidity": 0.2
             }
            },
            "type": "barpolar"
           }
          ],
          "carpet": [
           {
            "aaxis": {
             "endlinecolor": "#2a3f5f",
             "gridcolor": "white",
             "linecolor": "white",
             "minorgridcolor": "white",
             "startlinecolor": "#2a3f5f"
            },
            "baxis": {
             "endlinecolor": "#2a3f5f",
             "gridcolor": "white",
             "linecolor": "white",
             "minorgridcolor": "white",
             "startlinecolor": "#2a3f5f"
            },
            "type": "carpet"
           }
          ],
          "choropleth": [
           {
            "colorbar": {
             "outlinewidth": 0,
             "ticks": ""
            },
            "type": "choropleth"
           }
          ],
          "contour": [
           {
            "colorbar": {
             "outlinewidth": 0,
             "ticks": ""
            },
            "colorscale": [
             [
              0,
              "#0d0887"
             ],
             [
              0.1111111111111111,
              "#46039f"
             ],
             [
              0.2222222222222222,
              "#7201a8"
             ],
             [
              0.3333333333333333,
              "#9c179e"
             ],
             [
              0.4444444444444444,
              "#bd3786"
             ],
             [
              0.5555555555555556,
              "#d8576b"
             ],
             [
              0.6666666666666666,
              "#ed7953"
             ],
             [
              0.7777777777777778,
              "#fb9f3a"
             ],
             [
              0.8888888888888888,
              "#fdca26"
             ],
             [
              1,
              "#f0f921"
             ]
            ],
            "type": "contour"
           }
          ],
          "contourcarpet": [
           {
            "colorbar": {
             "outlinewidth": 0,
             "ticks": ""
            },
            "type": "contourcarpet"
           }
          ],
          "heatmap": [
           {
            "colorbar": {
             "outlinewidth": 0,
             "ticks": ""
            },
            "colorscale": [
             [
              0,
              "#0d0887"
             ],
             [
              0.1111111111111111,
              "#46039f"
             ],
             [
              0.2222222222222222,
              "#7201a8"
             ],
             [
              0.3333333333333333,
              "#9c179e"
             ],
             [
              0.4444444444444444,
              "#bd3786"
             ],
             [
              0.5555555555555556,
              "#d8576b"
             ],
             [
              0.6666666666666666,
              "#ed7953"
             ],
             [
              0.7777777777777778,
              "#fb9f3a"
             ],
             [
              0.8888888888888888,
              "#fdca26"
             ],
             [
              1,
              "#f0f921"
             ]
            ],
            "type": "heatmap"
           }
          ],
          "heatmapgl": [
           {
            "colorbar": {
             "outlinewidth": 0,
             "ticks": ""
            },
            "colorscale": [
             [
              0,
              "#0d0887"
             ],
             [
              0.1111111111111111,
              "#46039f"
             ],
             [
              0.2222222222222222,
              "#7201a8"
             ],
             [
              0.3333333333333333,
              "#9c179e"
             ],
             [
              0.4444444444444444,
              "#bd3786"
             ],
             [
              0.5555555555555556,
              "#d8576b"
             ],
             [
              0.6666666666666666,
              "#ed7953"
             ],
             [
              0.7777777777777778,
              "#fb9f3a"
             ],
             [
              0.8888888888888888,
              "#fdca26"
             ],
             [
              1,
              "#f0f921"
             ]
            ],
            "type": "heatmapgl"
           }
          ],
          "histogram": [
           {
            "marker": {
             "pattern": {
              "fillmode": "overlay",
              "size": 10,
              "solidity": 0.2
             }
            },
            "type": "histogram"
           }
          ],
          "histogram2d": [
           {
            "colorbar": {
             "outlinewidth": 0,
             "ticks": ""
            },
            "colorscale": [
             [
              0,
              "#0d0887"
             ],
             [
              0.1111111111111111,
              "#46039f"
             ],
             [
              0.2222222222222222,
              "#7201a8"
             ],
             [
              0.3333333333333333,
              "#9c179e"
             ],
             [
              0.4444444444444444,
              "#bd3786"
             ],
             [
              0.5555555555555556,
              "#d8576b"
             ],
             [
              0.6666666666666666,
              "#ed7953"
             ],
             [
              0.7777777777777778,
              "#fb9f3a"
             ],
             [
              0.8888888888888888,
              "#fdca26"
             ],
             [
              1,
              "#f0f921"
             ]
            ],
            "type": "histogram2d"
           }
          ],
          "histogram2dcontour": [
           {
            "colorbar": {
             "outlinewidth": 0,
             "ticks": ""
            },
            "colorscale": [
             [
              0,
              "#0d0887"
             ],
             [
              0.1111111111111111,
              "#46039f"
             ],
             [
              0.2222222222222222,
              "#7201a8"
             ],
             [
              0.3333333333333333,
              "#9c179e"
             ],
             [
              0.4444444444444444,
              "#bd3786"
             ],
             [
              0.5555555555555556,
              "#d8576b"
             ],
             [
              0.6666666666666666,
              "#ed7953"
             ],
             [
              0.7777777777777778,
              "#fb9f3a"
             ],
             [
              0.8888888888888888,
              "#fdca26"
             ],
             [
              1,
              "#f0f921"
             ]
            ],
            "type": "histogram2dcontour"
           }
          ],
          "mesh3d": [
           {
            "colorbar": {
             "outlinewidth": 0,
             "ticks": ""
            },
            "type": "mesh3d"
           }
          ],
          "parcoords": [
           {
            "line": {
             "colorbar": {
              "outlinewidth": 0,
              "ticks": ""
             }
            },
            "type": "parcoords"
           }
          ],
          "pie": [
           {
            "automargin": true,
            "type": "pie"
           }
          ],
          "scatter": [
           {
            "fillpattern": {
             "fillmode": "overlay",
             "size": 10,
             "solidity": 0.2
            },
            "type": "scatter"
           }
          ],
          "scatter3d": [
           {
            "line": {
             "colorbar": {
              "outlinewidth": 0,
              "ticks": ""
             }
            },
            "marker": {
             "colorbar": {
              "outlinewidth": 0,
              "ticks": ""
             }
            },
            "type": "scatter3d"
           }
          ],
          "scattercarpet": [
           {
            "marker": {
             "colorbar": {
              "outlinewidth": 0,
              "ticks": ""
             }
            },
            "type": "scattercarpet"
           }
          ],
          "scattergeo": [
           {
            "marker": {
             "colorbar": {
              "outlinewidth": 0,
              "ticks": ""
             }
            },
            "type": "scattergeo"
           }
          ],
          "scattergl": [
           {
            "marker": {
             "colorbar": {
              "outlinewidth": 0,
              "ticks": ""
             }
            },
            "type": "scattergl"
           }
          ],
          "scattermapbox": [
           {
            "marker": {
             "colorbar": {
              "outlinewidth": 0,
              "ticks": ""
             }
            },
            "type": "scattermapbox"
           }
          ],
          "scatterpolar": [
           {
            "marker": {
             "colorbar": {
              "outlinewidth": 0,
              "ticks": ""
             }
            },
            "type": "scatterpolar"
           }
          ],
          "scatterpolargl": [
           {
            "marker": {
             "colorbar": {
              "outlinewidth": 0,
              "ticks": ""
             }
            },
            "type": "scatterpolargl"
           }
          ],
          "scatterternary": [
           {
            "marker": {
             "colorbar": {
              "outlinewidth": 0,
              "ticks": ""
             }
            },
            "type": "scatterternary"
           }
          ],
          "surface": [
           {
            "colorbar": {
             "outlinewidth": 0,
             "ticks": ""
            },
            "colorscale": [
             [
              0,
              "#0d0887"
             ],
             [
              0.1111111111111111,
              "#46039f"
             ],
             [
              0.2222222222222222,
              "#7201a8"
             ],
             [
              0.3333333333333333,
              "#9c179e"
             ],
             [
              0.4444444444444444,
              "#bd3786"
             ],
             [
              0.5555555555555556,
              "#d8576b"
             ],
             [
              0.6666666666666666,
              "#ed7953"
             ],
             [
              0.7777777777777778,
              "#fb9f3a"
             ],
             [
              0.8888888888888888,
              "#fdca26"
             ],
             [
              1,
              "#f0f921"
             ]
            ],
            "type": "surface"
           }
          ],
          "table": [
           {
            "cells": {
             "fill": {
              "color": "#EBF0F8"
             },
             "line": {
              "color": "white"
             }
            },
            "header": {
             "fill": {
              "color": "#C8D4E3"
             },
             "line": {
              "color": "white"
             }
            },
            "type": "table"
           }
          ]
         },
         "layout": {
          "annotationdefaults": {
           "arrowcolor": "#2a3f5f",
           "arrowhead": 0,
           "arrowwidth": 1
          },
          "autotypenumbers": "strict",
          "coloraxis": {
           "colorbar": {
            "outlinewidth": 0,
            "ticks": ""
           }
          },
          "colorscale": {
           "diverging": [
            [
             0,
             "#8e0152"
            ],
            [
             0.1,
             "#c51b7d"
            ],
            [
             0.2,
             "#de77ae"
            ],
            [
             0.3,
             "#f1b6da"
            ],
            [
             0.4,
             "#fde0ef"
            ],
            [
             0.5,
             "#f7f7f7"
            ],
            [
             0.6,
             "#e6f5d0"
            ],
            [
             0.7,
             "#b8e186"
            ],
            [
             0.8,
             "#7fbc41"
            ],
            [
             0.9,
             "#4d9221"
            ],
            [
             1,
             "#276419"
            ]
           ],
           "sequential": [
            [
             0,
             "#0d0887"
            ],
            [
             0.1111111111111111,
             "#46039f"
            ],
            [
             0.2222222222222222,
             "#7201a8"
            ],
            [
             0.3333333333333333,
             "#9c179e"
            ],
            [
             0.4444444444444444,
             "#bd3786"
            ],
            [
             0.5555555555555556,
             "#d8576b"
            ],
            [
             0.6666666666666666,
             "#ed7953"
            ],
            [
             0.7777777777777778,
             "#fb9f3a"
            ],
            [
             0.8888888888888888,
             "#fdca26"
            ],
            [
             1,
             "#f0f921"
            ]
           ],
           "sequentialminus": [
            [
             0,
             "#0d0887"
            ],
            [
             0.1111111111111111,
             "#46039f"
            ],
            [
             0.2222222222222222,
             "#7201a8"
            ],
            [
             0.3333333333333333,
             "#9c179e"
            ],
            [
             0.4444444444444444,
             "#bd3786"
            ],
            [
             0.5555555555555556,
             "#d8576b"
            ],
            [
             0.6666666666666666,
             "#ed7953"
            ],
            [
             0.7777777777777778,
             "#fb9f3a"
            ],
            [
             0.8888888888888888,
             "#fdca26"
            ],
            [
             1,
             "#f0f921"
            ]
           ]
          },
          "colorway": [
           "#636efa",
           "#EF553B",
           "#00cc96",
           "#ab63fa",
           "#FFA15A",
           "#19d3f3",
           "#FF6692",
           "#B6E880",
           "#FF97FF",
           "#FECB52"
          ],
          "font": {
           "color": "#2a3f5f"
          },
          "geo": {
           "bgcolor": "white",
           "lakecolor": "white",
           "landcolor": "#E5ECF6",
           "showlakes": true,
           "showland": true,
           "subunitcolor": "white"
          },
          "hoverlabel": {
           "align": "left"
          },
          "hovermode": "closest",
          "mapbox": {
           "style": "light"
          },
          "paper_bgcolor": "white",
          "plot_bgcolor": "#E5ECF6",
          "polar": {
           "angularaxis": {
            "gridcolor": "white",
            "linecolor": "white",
            "ticks": ""
           },
           "bgcolor": "#E5ECF6",
           "radialaxis": {
            "gridcolor": "white",
            "linecolor": "white",
            "ticks": ""
           }
          },
          "scene": {
           "xaxis": {
            "backgroundcolor": "#E5ECF6",
            "gridcolor": "white",
            "gridwidth": 2,
            "linecolor": "white",
            "showbackground": true,
            "ticks": "",
            "zerolinecolor": "white"
           },
           "yaxis": {
            "backgroundcolor": "#E5ECF6",
            "gridcolor": "white",
            "gridwidth": 2,
            "linecolor": "white",
            "showbackground": true,
            "ticks": "",
            "zerolinecolor": "white"
           },
           "zaxis": {
            "backgroundcolor": "#E5ECF6",
            "gridcolor": "white",
            "gridwidth": 2,
            "linecolor": "white",
            "showbackground": true,
            "ticks": "",
            "zerolinecolor": "white"
           }
          },
          "shapedefaults": {
           "line": {
            "color": "#2a3f5f"
           }
          },
          "ternary": {
           "aaxis": {
            "gridcolor": "white",
            "linecolor": "white",
            "ticks": ""
           },
           "baxis": {
            "gridcolor": "white",
            "linecolor": "white",
            "ticks": ""
           },
           "bgcolor": "#E5ECF6",
           "caxis": {
            "gridcolor": "white",
            "linecolor": "white",
            "ticks": ""
           }
          },
          "title": {
           "x": 0.05
          },
          "xaxis": {
           "automargin": true,
           "gridcolor": "white",
           "linecolor": "white",
           "ticks": "",
           "title": {
            "standoff": 15
           },
           "zerolinecolor": "white",
           "zerolinewidth": 2
          },
          "yaxis": {
           "automargin": true,
           "gridcolor": "white",
           "linecolor": "white",
           "ticks": "",
           "title": {
            "standoff": 15
           },
           "zerolinecolor": "white",
           "zerolinewidth": 2
          }
         }
        },
        "title": {
         "text": "Boxplot da F1-Score Balanceada do Classificador Sim/real 0"
        },
        "xaxis": {
         "anchor": "y",
         "domain": [
          0,
          1
         ],
         "title": {
          "text": "Nome"
         }
        },
        "yaxis": {
         "anchor": "x",
         "domain": [
          0,
          1
         ],
         "range": [
          0,
          1
         ],
         "title": {
          "text": "F1-score Balanceada"
         }
        }
       }
      }
     },
     "metadata": {},
     "output_type": "display_data"
    },
    {
     "data": {
      "application/vnd.plotly.v1+json": {
       "config": {
        "plotlyServerURL": "https://plot.ly"
       },
       "data": [
        {
         "alignmentgroup": "True",
         "boxpoints": "all",
         "hovertemplate": "Nome=%{x}<br>F1-score Balanceada=%{y}<extra></extra>",
         "legendgroup": "",
         "marker": {
          "color": "rgb(228,26,28)"
         },
         "name": "",
         "notched": false,
         "offsetgroup": "",
         "orientation": "v",
         "showlegend": false,
         "type": "box",
         "x": [
          "logreg",
          "KNN",
          "GaussianNB",
          "Perceptron",
          "LinearSVC",
          "SGD",
          "Dtree",
          "RForest",
          "ADA",
          "GBC",
          "ETC",
          "logreg",
          "KNN",
          "GaussianNB",
          "Perceptron",
          "LinearSVC",
          "SGD",
          "Dtree",
          "RForest",
          "ADA",
          "GBC",
          "ETC",
          "logreg",
          "KNN",
          "GaussianNB",
          "Perceptron",
          "LinearSVC",
          "SGD",
          "Dtree",
          "RForest",
          "ADA",
          "GBC",
          "ETC",
          "logreg",
          "KNN",
          "GaussianNB",
          "Perceptron",
          "LinearSVC",
          "SGD",
          "Dtree",
          "RForest",
          "ADA",
          "GBC",
          "ETC",
          "logreg",
          "KNN",
          "GaussianNB",
          "Perceptron",
          "LinearSVC",
          "SGD",
          "Dtree",
          "RForest",
          "ADA",
          "GBC",
          "ETC",
          "logreg",
          "KNN",
          "GaussianNB",
          "Perceptron",
          "LinearSVC",
          "SGD",
          "Dtree",
          "RForest",
          "ADA",
          "GBC",
          "ETC",
          "logreg",
          "KNN",
          "GaussianNB",
          "Perceptron",
          "LinearSVC",
          "SGD",
          "Dtree",
          "RForest",
          "ADA",
          "GBC",
          "ETC",
          "logreg",
          "KNN",
          "GaussianNB",
          "Perceptron",
          "LinearSVC",
          "SGD",
          "Dtree",
          "RForest",
          "ADA",
          "GBC",
          "ETC",
          "logreg",
          "KNN",
          "GaussianNB",
          "Perceptron",
          "LinearSVC",
          "SGD",
          "Dtree",
          "RForest",
          "ADA",
          "GBC",
          "ETC",
          "logreg",
          "KNN",
          "GaussianNB",
          "Perceptron",
          "LinearSVC",
          "SGD",
          "Dtree",
          "RForest",
          "ADA",
          "GBC",
          "ETC",
          "logreg",
          "KNN",
          "GaussianNB",
          "Perceptron",
          "LinearSVC",
          "SGD",
          "Dtree",
          "RForest",
          "ADA",
          "GBC",
          "ETC",
          "logreg",
          "KNN",
          "GaussianNB",
          "Perceptron",
          "LinearSVC",
          "SGD",
          "Dtree",
          "RForest",
          "ADA",
          "GBC",
          "ETC",
          "logreg",
          "KNN",
          "GaussianNB",
          "Perceptron",
          "LinearSVC",
          "SGD",
          "Dtree",
          "RForest",
          "ADA",
          "GBC",
          "ETC",
          "logreg",
          "KNN",
          "GaussianNB",
          "Perceptron",
          "LinearSVC",
          "SGD",
          "Dtree",
          "RForest",
          "ADA",
          "GBC",
          "ETC",
          "logreg",
          "KNN",
          "GaussianNB",
          "Perceptron",
          "LinearSVC",
          "SGD",
          "Dtree",
          "RForest",
          "ADA",
          "GBC",
          "ETC",
          "logreg",
          "KNN",
          "GaussianNB",
          "Perceptron",
          "LinearSVC",
          "SGD",
          "Dtree",
          "RForest",
          "ADA",
          "GBC",
          "ETC",
          "logreg",
          "KNN",
          "GaussianNB",
          "Perceptron",
          "LinearSVC",
          "SGD",
          "Dtree",
          "RForest",
          "ADA",
          "GBC",
          "ETC",
          "logreg",
          "KNN",
          "GaussianNB",
          "Perceptron",
          "LinearSVC",
          "SGD",
          "Dtree",
          "RForest",
          "ADA",
          "GBC",
          "ETC",
          "logreg",
          "KNN",
          "GaussianNB",
          "Perceptron",
          "LinearSVC",
          "SGD",
          "Dtree",
          "RForest",
          "ADA",
          "GBC",
          "ETC",
          "logreg",
          "KNN",
          "GaussianNB",
          "Perceptron",
          "LinearSVC",
          "SGD",
          "Dtree",
          "RForest",
          "ADA",
          "GBC",
          "ETC",
          "logreg",
          "KNN",
          "GaussianNB",
          "Perceptron",
          "LinearSVC",
          "SGD",
          "Dtree",
          "RForest",
          "ADA",
          "GBC",
          "ETC",
          "logreg",
          "KNN",
          "GaussianNB",
          "Perceptron",
          "LinearSVC",
          "SGD",
          "Dtree",
          "RForest",
          "ADA",
          "GBC",
          "ETC",
          "logreg",
          "KNN",
          "GaussianNB",
          "Perceptron",
          "LinearSVC",
          "SGD",
          "Dtree",
          "RForest",
          "ADA",
          "GBC",
          "ETC",
          "logreg",
          "KNN",
          "GaussianNB",
          "Perceptron",
          "LinearSVC",
          "SGD",
          "Dtree",
          "RForest",
          "ADA",
          "GBC",
          "ETC",
          "logreg",
          "KNN",
          "GaussianNB",
          "Perceptron",
          "LinearSVC",
          "SGD",
          "Dtree",
          "RForest",
          "ADA",
          "GBC",
          "ETC"
         ],
         "x0": " ",
         "xaxis": "x",
         "y": [
          0.0196329328664432,
          0.698090880018811,
          0.849523287337415,
          0.0193685976014775,
          0.0194567177999592,
          0.0197210277369422,
          0.823745655735556,
          0.8518236659877351,
          0.4907048152230428,
          0.2684550347231996,
          0.8040452507092484,
          0.0192804689578379,
          0.792673521059751,
          0.849523287337415,
          0.0190160323434803,
          0.0189352216102806,
          0.0193685976014775,
          0.3791692047067196,
          0.8371725758133132,
          0.37518131124089,
          0.3962979940702614,
          0.8486743510622723,
          0.0193685976014775,
          0.7691712952552269,
          0.849523287337415,
          0.0190160323434803,
          0.0189352216102806,
          0.0193685976014775,
          0.832669526445083,
          0.8474618849808266,
          0.2273485389475586,
          0.2655014727958781,
          0.8486686852636697,
          0.0191923318677913,
          0.7530339776871168,
          0.849523287337415,
          0.0189278699067167,
          0.0189352216102806,
          0.0193685976014775,
          0.842308021496367,
          0.8512688008662765,
          0.8556692904009406,
          0.7037599684635251,
          0.8525037776275316,
          0.0191041863300886,
          0.743792721710658,
          0.849523287337415,
          0.0189278699067167,
          0.0189352216102806,
          0.0191923318677913,
          0.8420725471963924,
          0.8806284850762721,
          0.1467998948732008,
          0.1010392750963426,
          0.8594459535146322,
          0.0197210277369422,
          0.700075314501986,
          0.849523287337415,
          0.0193759718822748,
          0.0195448295545316,
          0.0197210277369422,
          0.8333197769958602,
          0.84334486030193,
          0.2334284338488167,
          0.662871240137139,
          0.6472875028795199,
          0.0193685976014775,
          0.7928816743539093,
          0.849523287337415,
          0.0189352216102806,
          0.0189352216102806,
          0.0193685976014775,
          0.8265309638409394,
          0.8502075623498413,
          0.8027618346631538,
          0.409916785478152,
          0.6533851878145079,
          0.0193685976014775,
          0.7701436589656447,
          0.849523287337415,
          0.0189352216102806,
          0.0189352216102806,
          0.0194567177999592,
          0.1209946572903482,
          0.8638687518212017,
          0.8330538795774018,
          0.8632569911622763,
          0.8379179857289619,
          0.0193685976014775,
          0.7564355464854885,
          0.849523287337415,
          0.0190233885641107,
          0.0189352216102806,
          0.019441958469417,
          0.8901757068905584,
          0.8549779467434726,
          0.8492181045491761,
          0.2198468766208318,
          0.8337205793999223,
          0.0191115470669754,
          0.7405355775645818,
          0.849523287337415,
          0.0189352216102806,
          0.0189352216102806,
          0.0191923318677913,
          0.8620078501307551,
          0.857278598648582,
          0.1377713112472788,
          0.086795477698021,
          0.8219468142872581,
          0.0197284200649562,
          0.7352745755087862,
          0.849523287337415,
          0.0193759718822748,
          0.0195522128605552,
          0.0197136348290892,
          0.849523287337415,
          0.8471479669616714,
          0.4002620882345472,
          0.2569110132969813,
          0.8323191931606072,
          0.0193612227393632,
          0.8215025315237847,
          0.849523287337415,
          0.0189352216102806,
          0.0189352216102806,
          0.0193612227393632,
          0.7950335791710236,
          0.8402813568807678,
          0.397852076756813,
          0.3956965386989066,
          0.8200225639137116,
          0.0193685976014775,
          0.7964301917767528,
          0.849523287337415,
          0.0189352216102806,
          0.0189352216102806,
          0.0194493384251967,
          0.2570153425273879,
          0.8459798041264252,
          0.2478092292068736,
          0.2191590069019242,
          0.8373395812081081,
          0.0193612227393632,
          0.7859106014405349,
          0.849523287337415,
          0.0191849660334011,
          0.0189352216102806,
          0.0194493384251967,
          0.849523287337415,
          0.8473554314815904,
          0.2588906682097959,
          0.2631726746850193,
          0.8440766296457557,
          0.0191115470669754,
          0.7621045003815287,
          0.849523287337415,
          0.2218119132887085,
          0.0189352216102806,
          0.0191996971201246,
          0.1257076619115354,
          0.8173880289161582,
          0.8306951815797136,
          0.7455763737693671,
          0.8129505997633203,
          0.0197284200649562,
          0.7173026234825933,
          0.849523287337415,
          0.0193759718822748,
          0.0195522128605552,
          0.0197284200649562,
          0.138387358159237,
          0.8404926580898073,
          0.2482931168248359,
          0.2623921489949893,
          0.8210132948910138,
          0.0193759718822748,
          0.8069456985219592,
          0.849523287337415,
          0.0189352216102806,
          0.0189352216102806,
          0.0193759718822748,
          0.1226597118456625,
          0.7719930111488484,
          0.3971249622133684,
          0.1556069190626895,
          0.8352677716244831,
          0.0193759718822748,
          0.7845114570257975,
          0.849523287337415,
          0.0193759718822748,
          0.0189352216102806,
          0.0193759718822748,
          0.2424972841719133,
          0.8458010388463291,
          0.2582043241599343,
          0.2433834087148847,
          0.8427227073354937,
          0.0193759718822748,
          0.7661028462052945,
          0.849523287337415,
          0.0190233885641107,
          0.0189352216102806,
          0.0194640965937742,
          0.8446860941453176,
          0.8521943950408476,
          0.2253103203056707,
          0.5387687835371995,
          0.8483250090233192,
          0.0191115470669754,
          0.7524983541516728,
          0.849523287337415,
          0.0190233885641107,
          0.0189352216102806,
          0.0191996971201246,
          0.0525593406580604,
          0.838246350290944,
          0.1466493676142538,
          0.1049916927815276,
          0.807080394980532,
          0.0198897902328239,
          0.737622044423909,
          0.849523287337415,
          0.0197136348290892,
          0.0197136348290892,
          0.0197136348290892,
          0.2351202886296568,
          0.2683495098573948,
          0.2564404911703619,
          0.2883318255208794,
          0.8202128387608734,
          0.0199778552787759,
          0.8346862077137306,
          0.849523287337415,
          0.0190233885641107,
          0.0189352216102806,
          0.0193612227393632,
          0.2923820802851138,
          0.8424167184861382,
          0.7954018948636419,
          0.559008168993659,
          0.7820467039448653,
          0.0197136348290892,
          0.7993696946907202,
          0.849523287337415,
          0.0189352216102806,
          0.0189352216102806,
          0.0195374456679301,
          0.2579029098127609,
          0.8469459408593643,
          0.834921063375353,
          0.2686053362692099,
          0.8457422257504472,
          0.5423440100246952,
          0.8007070553040538,
          0.849523287337415,
          0.0189352216102806,
          0.0189352216102806,
          0.0194493384251967,
          0.0495929674794095,
          0.8564821478933191,
          0.2342844376584112,
          0.3146181723718239,
          0.8479943880954175,
          0.0192730986091809,
          0.8123273311962311,
          0.849523287337415,
          0.0190160323434803,
          0.0189352216102806,
          0.0191849660334011,
          0.8314724755025767,
          0.8484281591360349,
          0.2221948857234753,
          0.1176358270949556,
          0.8045995413535495
         ],
         "y0": " ",
         "yaxis": "y"
        }
       ],
       "layout": {
        "boxmode": "group",
        "legend": {
         "tracegroupgap": 0
        },
        "template": {
         "data": {
          "bar": [
           {
            "error_x": {
             "color": "#2a3f5f"
            },
            "error_y": {
             "color": "#2a3f5f"
            },
            "marker": {
             "line": {
              "color": "#E5ECF6",
              "width": 0.5
             },
             "pattern": {
              "fillmode": "overlay",
              "size": 10,
              "solidity": 0.2
             }
            },
            "type": "bar"
           }
          ],
          "barpolar": [
           {
            "marker": {
             "line": {
              "color": "#E5ECF6",
              "width": 0.5
             },
             "pattern": {
              "fillmode": "overlay",
              "size": 10,
              "solidity": 0.2
             }
            },
            "type": "barpolar"
           }
          ],
          "carpet": [
           {
            "aaxis": {
             "endlinecolor": "#2a3f5f",
             "gridcolor": "white",
             "linecolor": "white",
             "minorgridcolor": "white",
             "startlinecolor": "#2a3f5f"
            },
            "baxis": {
             "endlinecolor": "#2a3f5f",
             "gridcolor": "white",
             "linecolor": "white",
             "minorgridcolor": "white",
             "startlinecolor": "#2a3f5f"
            },
            "type": "carpet"
           }
          ],
          "choropleth": [
           {
            "colorbar": {
             "outlinewidth": 0,
             "ticks": ""
            },
            "type": "choropleth"
           }
          ],
          "contour": [
           {
            "colorbar": {
             "outlinewidth": 0,
             "ticks": ""
            },
            "colorscale": [
             [
              0,
              "#0d0887"
             ],
             [
              0.1111111111111111,
              "#46039f"
             ],
             [
              0.2222222222222222,
              "#7201a8"
             ],
             [
              0.3333333333333333,
              "#9c179e"
             ],
             [
              0.4444444444444444,
              "#bd3786"
             ],
             [
              0.5555555555555556,
              "#d8576b"
             ],
             [
              0.6666666666666666,
              "#ed7953"
             ],
             [
              0.7777777777777778,
              "#fb9f3a"
             ],
             [
              0.8888888888888888,
              "#fdca26"
             ],
             [
              1,
              "#f0f921"
             ]
            ],
            "type": "contour"
           }
          ],
          "contourcarpet": [
           {
            "colorbar": {
             "outlinewidth": 0,
             "ticks": ""
            },
            "type": "contourcarpet"
           }
          ],
          "heatmap": [
           {
            "colorbar": {
             "outlinewidth": 0,
             "ticks": ""
            },
            "colorscale": [
             [
              0,
              "#0d0887"
             ],
             [
              0.1111111111111111,
              "#46039f"
             ],
             [
              0.2222222222222222,
              "#7201a8"
             ],
             [
              0.3333333333333333,
              "#9c179e"
             ],
             [
              0.4444444444444444,
              "#bd3786"
             ],
             [
              0.5555555555555556,
              "#d8576b"
             ],
             [
              0.6666666666666666,
              "#ed7953"
             ],
             [
              0.7777777777777778,
              "#fb9f3a"
             ],
             [
              0.8888888888888888,
              "#fdca26"
             ],
             [
              1,
              "#f0f921"
             ]
            ],
            "type": "heatmap"
           }
          ],
          "heatmapgl": [
           {
            "colorbar": {
             "outlinewidth": 0,
             "ticks": ""
            },
            "colorscale": [
             [
              0,
              "#0d0887"
             ],
             [
              0.1111111111111111,
              "#46039f"
             ],
             [
              0.2222222222222222,
              "#7201a8"
             ],
             [
              0.3333333333333333,
              "#9c179e"
             ],
             [
              0.4444444444444444,
              "#bd3786"
             ],
             [
              0.5555555555555556,
              "#d8576b"
             ],
             [
              0.6666666666666666,
              "#ed7953"
             ],
             [
              0.7777777777777778,
              "#fb9f3a"
             ],
             [
              0.8888888888888888,
              "#fdca26"
             ],
             [
              1,
              "#f0f921"
             ]
            ],
            "type": "heatmapgl"
           }
          ],
          "histogram": [
           {
            "marker": {
             "pattern": {
              "fillmode": "overlay",
              "size": 10,
              "solidity": 0.2
             }
            },
            "type": "histogram"
           }
          ],
          "histogram2d": [
           {
            "colorbar": {
             "outlinewidth": 0,
             "ticks": ""
            },
            "colorscale": [
             [
              0,
              "#0d0887"
             ],
             [
              0.1111111111111111,
              "#46039f"
             ],
             [
              0.2222222222222222,
              "#7201a8"
             ],
             [
              0.3333333333333333,
              "#9c179e"
             ],
             [
              0.4444444444444444,
              "#bd3786"
             ],
             [
              0.5555555555555556,
              "#d8576b"
             ],
             [
              0.6666666666666666,
              "#ed7953"
             ],
             [
              0.7777777777777778,
              "#fb9f3a"
             ],
             [
              0.8888888888888888,
              "#fdca26"
             ],
             [
              1,
              "#f0f921"
             ]
            ],
            "type": "histogram2d"
           }
          ],
          "histogram2dcontour": [
           {
            "colorbar": {
             "outlinewidth": 0,
             "ticks": ""
            },
            "colorscale": [
             [
              0,
              "#0d0887"
             ],
             [
              0.1111111111111111,
              "#46039f"
             ],
             [
              0.2222222222222222,
              "#7201a8"
             ],
             [
              0.3333333333333333,
              "#9c179e"
             ],
             [
              0.4444444444444444,
              "#bd3786"
             ],
             [
              0.5555555555555556,
              "#d8576b"
             ],
             [
              0.6666666666666666,
              "#ed7953"
             ],
             [
              0.7777777777777778,
              "#fb9f3a"
             ],
             [
              0.8888888888888888,
              "#fdca26"
             ],
             [
              1,
              "#f0f921"
             ]
            ],
            "type": "histogram2dcontour"
           }
          ],
          "mesh3d": [
           {
            "colorbar": {
             "outlinewidth": 0,
             "ticks": ""
            },
            "type": "mesh3d"
           }
          ],
          "parcoords": [
           {
            "line": {
             "colorbar": {
              "outlinewidth": 0,
              "ticks": ""
             }
            },
            "type": "parcoords"
           }
          ],
          "pie": [
           {
            "automargin": true,
            "type": "pie"
           }
          ],
          "scatter": [
           {
            "fillpattern": {
             "fillmode": "overlay",
             "size": 10,
             "solidity": 0.2
            },
            "type": "scatter"
           }
          ],
          "scatter3d": [
           {
            "line": {
             "colorbar": {
              "outlinewidth": 0,
              "ticks": ""
             }
            },
            "marker": {
             "colorbar": {
              "outlinewidth": 0,
              "ticks": ""
             }
            },
            "type": "scatter3d"
           }
          ],
          "scattercarpet": [
           {
            "marker": {
             "colorbar": {
              "outlinewidth": 0,
              "ticks": ""
             }
            },
            "type": "scattercarpet"
           }
          ],
          "scattergeo": [
           {
            "marker": {
             "colorbar": {
              "outlinewidth": 0,
              "ticks": ""
             }
            },
            "type": "scattergeo"
           }
          ],
          "scattergl": [
           {
            "marker": {
             "colorbar": {
              "outlinewidth": 0,
              "ticks": ""
             }
            },
            "type": "scattergl"
           }
          ],
          "scattermapbox": [
           {
            "marker": {
             "colorbar": {
              "outlinewidth": 0,
              "ticks": ""
             }
            },
            "type": "scattermapbox"
           }
          ],
          "scatterpolar": [
           {
            "marker": {
             "colorbar": {
              "outlinewidth": 0,
              "ticks": ""
             }
            },
            "type": "scatterpolar"
           }
          ],
          "scatterpolargl": [
           {
            "marker": {
             "colorbar": {
              "outlinewidth": 0,
              "ticks": ""
             }
            },
            "type": "scatterpolargl"
           }
          ],
          "scatterternary": [
           {
            "marker": {
             "colorbar": {
              "outlinewidth": 0,
              "ticks": ""
             }
            },
            "type": "scatterternary"
           }
          ],
          "surface": [
           {
            "colorbar": {
             "outlinewidth": 0,
             "ticks": ""
            },
            "colorscale": [
             [
              0,
              "#0d0887"
             ],
             [
              0.1111111111111111,
              "#46039f"
             ],
             [
              0.2222222222222222,
              "#7201a8"
             ],
             [
              0.3333333333333333,
              "#9c179e"
             ],
             [
              0.4444444444444444,
              "#bd3786"
             ],
             [
              0.5555555555555556,
              "#d8576b"
             ],
             [
              0.6666666666666666,
              "#ed7953"
             ],
             [
              0.7777777777777778,
              "#fb9f3a"
             ],
             [
              0.8888888888888888,
              "#fdca26"
             ],
             [
              1,
              "#f0f921"
             ]
            ],
            "type": "surface"
           }
          ],
          "table": [
           {
            "cells": {
             "fill": {
              "color": "#EBF0F8"
             },
             "line": {
              "color": "white"
             }
            },
            "header": {
             "fill": {
              "color": "#C8D4E3"
             },
             "line": {
              "color": "white"
             }
            },
            "type": "table"
           }
          ]
         },
         "layout": {
          "annotationdefaults": {
           "arrowcolor": "#2a3f5f",
           "arrowhead": 0,
           "arrowwidth": 1
          },
          "autotypenumbers": "strict",
          "coloraxis": {
           "colorbar": {
            "outlinewidth": 0,
            "ticks": ""
           }
          },
          "colorscale": {
           "diverging": [
            [
             0,
             "#8e0152"
            ],
            [
             0.1,
             "#c51b7d"
            ],
            [
             0.2,
             "#de77ae"
            ],
            [
             0.3,
             "#f1b6da"
            ],
            [
             0.4,
             "#fde0ef"
            ],
            [
             0.5,
             "#f7f7f7"
            ],
            [
             0.6,
             "#e6f5d0"
            ],
            [
             0.7,
             "#b8e186"
            ],
            [
             0.8,
             "#7fbc41"
            ],
            [
             0.9,
             "#4d9221"
            ],
            [
             1,
             "#276419"
            ]
           ],
           "sequential": [
            [
             0,
             "#0d0887"
            ],
            [
             0.1111111111111111,
             "#46039f"
            ],
            [
             0.2222222222222222,
             "#7201a8"
            ],
            [
             0.3333333333333333,
             "#9c179e"
            ],
            [
             0.4444444444444444,
             "#bd3786"
            ],
            [
             0.5555555555555556,
             "#d8576b"
            ],
            [
             0.6666666666666666,
             "#ed7953"
            ],
            [
             0.7777777777777778,
             "#fb9f3a"
            ],
            [
             0.8888888888888888,
             "#fdca26"
            ],
            [
             1,
             "#f0f921"
            ]
           ],
           "sequentialminus": [
            [
             0,
             "#0d0887"
            ],
            [
             0.1111111111111111,
             "#46039f"
            ],
            [
             0.2222222222222222,
             "#7201a8"
            ],
            [
             0.3333333333333333,
             "#9c179e"
            ],
            [
             0.4444444444444444,
             "#bd3786"
            ],
            [
             0.5555555555555556,
             "#d8576b"
            ],
            [
             0.6666666666666666,
             "#ed7953"
            ],
            [
             0.7777777777777778,
             "#fb9f3a"
            ],
            [
             0.8888888888888888,
             "#fdca26"
            ],
            [
             1,
             "#f0f921"
            ]
           ]
          },
          "colorway": [
           "#636efa",
           "#EF553B",
           "#00cc96",
           "#ab63fa",
           "#FFA15A",
           "#19d3f3",
           "#FF6692",
           "#B6E880",
           "#FF97FF",
           "#FECB52"
          ],
          "font": {
           "color": "#2a3f5f"
          },
          "geo": {
           "bgcolor": "white",
           "lakecolor": "white",
           "landcolor": "#E5ECF6",
           "showlakes": true,
           "showland": true,
           "subunitcolor": "white"
          },
          "hoverlabel": {
           "align": "left"
          },
          "hovermode": "closest",
          "mapbox": {
           "style": "light"
          },
          "paper_bgcolor": "white",
          "plot_bgcolor": "#E5ECF6",
          "polar": {
           "angularaxis": {
            "gridcolor": "white",
            "linecolor": "white",
            "ticks": ""
           },
           "bgcolor": "#E5ECF6",
           "radialaxis": {
            "gridcolor": "white",
            "linecolor": "white",
            "ticks": ""
           }
          },
          "scene": {
           "xaxis": {
            "backgroundcolor": "#E5ECF6",
            "gridcolor": "white",
            "gridwidth": 2,
            "linecolor": "white",
            "showbackground": true,
            "ticks": "",
            "zerolinecolor": "white"
           },
           "yaxis": {
            "backgroundcolor": "#E5ECF6",
            "gridcolor": "white",
            "gridwidth": 2,
            "linecolor": "white",
            "showbackground": true,
            "ticks": "",
            "zerolinecolor": "white"
           },
           "zaxis": {
            "backgroundcolor": "#E5ECF6",
            "gridcolor": "white",
            "gridwidth": 2,
            "linecolor": "white",
            "showbackground": true,
            "ticks": "",
            "zerolinecolor": "white"
           }
          },
          "shapedefaults": {
           "line": {
            "color": "#2a3f5f"
           }
          },
          "ternary": {
           "aaxis": {
            "gridcolor": "white",
            "linecolor": "white",
            "ticks": ""
           },
           "baxis": {
            "gridcolor": "white",
            "linecolor": "white",
            "ticks": ""
           },
           "bgcolor": "#E5ECF6",
           "caxis": {
            "gridcolor": "white",
            "linecolor": "white",
            "ticks": ""
           }
          },
          "title": {
           "x": 0.05
          },
          "xaxis": {
           "automargin": true,
           "gridcolor": "white",
           "linecolor": "white",
           "ticks": "",
           "title": {
            "standoff": 15
           },
           "zerolinecolor": "white",
           "zerolinewidth": 2
          },
          "yaxis": {
           "automargin": true,
           "gridcolor": "white",
           "linecolor": "white",
           "ticks": "",
           "title": {
            "standoff": 15
           },
           "zerolinecolor": "white",
           "zerolinewidth": 2
          }
         }
        },
        "title": {
         "text": "Boxplot da Acurácia Balanceada do classificador Sim/real sem features de temperatura"
        },
        "xaxis": {
         "anchor": "y",
         "domain": [
          0,
          1
         ],
         "title": {
          "text": "Nome"
         }
        },
        "yaxis": {
         "anchor": "x",
         "domain": [
          0,
          1
         ],
         "range": [
          0,
          1
         ],
         "title": {
          "text": "F1-score Balanceada"
         }
        }
       }
      }
     },
     "metadata": {},
     "output_type": "display_data"
    },
    {
     "data": {
      "application/vnd.plotly.v1+json": {
       "config": {
        "plotlyServerURL": "https://plot.ly"
       },
       "data": [
        {
         "alignmentgroup": "True",
         "boxpoints": "all",
         "hovertemplate": "Nome=%{x}<br>F1-score Balanceada=%{y}<extra></extra>",
         "legendgroup": "",
         "marker": {
          "color": "#636efa"
         },
         "name": "",
         "notched": false,
         "offsetgroup": "",
         "orientation": "v",
         "showlegend": false,
         "type": "box",
         "x": [
          "logreg",
          "KNN",
          "GaussianNB",
          "Perceptron",
          "LinearSVC",
          "SGD",
          "Dtree",
          "RForest",
          "ADA",
          "GBC",
          "ETC",
          "logreg",
          "KNN",
          "GaussianNB",
          "Perceptron",
          "LinearSVC",
          "SGD",
          "Dtree",
          "RForest",
          "ADA",
          "GBC",
          "ETC",
          "logreg",
          "KNN",
          "GaussianNB",
          "Perceptron",
          "LinearSVC",
          "SGD",
          "Dtree",
          "RForest",
          "ADA",
          "GBC",
          "ETC",
          "logreg",
          "KNN",
          "GaussianNB",
          "Perceptron",
          "LinearSVC",
          "SGD",
          "Dtree",
          "RForest",
          "ADA",
          "GBC",
          "ETC",
          "logreg",
          "KNN",
          "GaussianNB",
          "Perceptron",
          "LinearSVC",
          "SGD",
          "Dtree",
          "RForest",
          "ADA",
          "GBC",
          "ETC",
          "logreg",
          "KNN",
          "GaussianNB",
          "Perceptron",
          "LinearSVC",
          "SGD",
          "Dtree",
          "RForest",
          "ADA",
          "GBC",
          "ETC",
          "logreg",
          "KNN",
          "GaussianNB",
          "Perceptron",
          "LinearSVC",
          "SGD",
          "Dtree",
          "RForest",
          "ADA",
          "GBC",
          "ETC",
          "logreg",
          "KNN",
          "GaussianNB",
          "Perceptron",
          "LinearSVC",
          "SGD",
          "Dtree",
          "RForest",
          "ADA",
          "GBC",
          "ETC",
          "logreg",
          "KNN",
          "GaussianNB",
          "Perceptron",
          "LinearSVC",
          "SGD",
          "Dtree",
          "RForest",
          "ADA",
          "GBC",
          "ETC",
          "logreg",
          "KNN",
          "GaussianNB",
          "Perceptron",
          "LinearSVC",
          "SGD",
          "Dtree",
          "RForest",
          "ADA",
          "GBC",
          "ETC",
          "logreg",
          "KNN",
          "GaussianNB",
          "Perceptron",
          "LinearSVC",
          "SGD",
          "Dtree",
          "RForest",
          "ADA",
          "GBC",
          "ETC",
          "logreg",
          "KNN",
          "GaussianNB",
          "Perceptron",
          "LinearSVC",
          "SGD",
          "Dtree",
          "RForest",
          "ADA",
          "GBC",
          "ETC",
          "logreg",
          "KNN",
          "GaussianNB",
          "Perceptron",
          "LinearSVC",
          "SGD",
          "Dtree",
          "RForest",
          "ADA",
          "GBC",
          "ETC",
          "logreg",
          "KNN",
          "GaussianNB",
          "Perceptron",
          "LinearSVC",
          "SGD",
          "Dtree",
          "RForest",
          "ADA",
          "GBC",
          "ETC",
          "logreg",
          "KNN",
          "GaussianNB",
          "Perceptron",
          "LinearSVC",
          "SGD",
          "Dtree",
          "RForest",
          "ADA",
          "GBC",
          "ETC",
          "logreg",
          "KNN",
          "GaussianNB",
          "Perceptron",
          "LinearSVC",
          "SGD",
          "Dtree",
          "RForest",
          "ADA",
          "GBC",
          "ETC",
          "logreg",
          "KNN",
          "GaussianNB",
          "Perceptron",
          "LinearSVC",
          "SGD",
          "Dtree",
          "RForest",
          "ADA",
          "GBC",
          "ETC",
          "logreg",
          "KNN",
          "GaussianNB",
          "Perceptron",
          "LinearSVC",
          "SGD",
          "Dtree",
          "RForest",
          "ADA",
          "GBC",
          "ETC",
          "logreg",
          "KNN",
          "GaussianNB",
          "Perceptron",
          "LinearSVC",
          "SGD",
          "Dtree",
          "RForest",
          "ADA",
          "GBC",
          "ETC",
          "logreg",
          "KNN",
          "GaussianNB",
          "Perceptron",
          "LinearSVC",
          "SGD",
          "Dtree",
          "RForest",
          "ADA",
          "GBC",
          "ETC",
          "logreg",
          "KNN",
          "GaussianNB",
          "Perceptron",
          "LinearSVC",
          "SGD",
          "Dtree",
          "RForest",
          "ADA",
          "GBC",
          "ETC",
          "logreg",
          "KNN",
          "GaussianNB",
          "Perceptron",
          "LinearSVC",
          "SGD",
          "Dtree",
          "RForest",
          "ADA",
          "GBC",
          "ETC",
          "logreg",
          "KNN",
          "GaussianNB",
          "Perceptron",
          "LinearSVC",
          "SGD",
          "Dtree",
          "RForest",
          "ADA",
          "GBC",
          "ETC",
          "logreg",
          "KNN",
          "GaussianNB",
          "Perceptron",
          "LinearSVC",
          "SGD",
          "Dtree",
          "RForest",
          "ADA",
          "GBC",
          "ETC",
          "logreg",
          "KNN",
          "GaussianNB",
          "Perceptron",
          "LinearSVC",
          "SGD",
          "Dtree",
          "RForest",
          "ADA",
          "GBC",
          "ETC"
         ],
         "x0": " ",
         "xaxis": "x",
         "y": [
          0.0189352216102806,
          0.4661495224296064,
          0.849523287337415,
          0.0189352216102806,
          0.0189352216102806,
          0.0189352216102806,
          0.0868350606166975,
          0.8691721177406936,
          0.2373771493225761,
          0.1574988668584717,
          0.3635932864447517,
          0.0189352216102806,
          0.6623048895908468,
          0.849523287337415,
          0.0189352216102806,
          0.0189352216102806,
          0.0189352216102806,
          0.7411789020686299,
          0.8158011595910762,
          0.298129791342674,
          0.283074747327095,
          0.5464225290231896,
          0.0189352216102806,
          0.5567541867670956,
          0.849523287337415,
          0.0189352216102806,
          0.0189352216102806,
          0.0189352216102806,
          0.8373514097547212,
          0.775128403752658,
          0.2388400133672953,
          0.215701613928145,
          0.689953859831491,
          0.0189352216102806,
          0.4435317442987335,
          0.849523287337415,
          0.0189352216102806,
          0.0189352216102806,
          0.0189352216102806,
          0.8881350633562122,
          0.7066605160720387,
          0.1818423816189984,
          0.065547370613953,
          0.3909644151555729,
          0.0189352216102806,
          0.6262854668586564,
          0.849523287337415,
          0.0189352216102806,
          0.0189352216102806,
          0.0189352216102806,
          0.858197358446291,
          0.8162114768194515,
          0.106899919468644,
          0.0642044378757727,
          0.6558175317930972,
          0.0189352216102806,
          0.458741902493467,
          0.849523287337415,
          0.0189352216102806,
          0.0189352216102806,
          0.0189352216102806,
          0.0449205697142872,
          0.6019267911331536,
          0.0584976783950029,
          0.2253519308212919,
          0.1707877045021389,
          0.0189352216102806,
          0.6371435176621633,
          0.849523287337415,
          0.0189352216102806,
          0.0189352216102806,
          0.0189352216102806,
          0.8341740544698975,
          0.5771494692672886,
          0.3154477724372804,
          0.2821116384885858,
          0.2907473006480897,
          0.0189352216102806,
          0.5447251839564166,
          0.849523287337415,
          0.0189352216102806,
          0.0189352216102806,
          0.0189352216102806,
          0.8537758625530736,
          0.7273153907316251,
          0.2042439292972672,
          0.1958863337529372,
          0.1415555975279197,
          0.0189352216102806,
          0.4298193706989855,
          0.849523287337415,
          0.0189352216102806,
          0.0189352216102806,
          0.0189352216102806,
          0.8151274437224012,
          0.83592308639041,
          0.2033237555648563,
          0.1136404170936704,
          0.1699791008076055,
          0.0189352216102806,
          0.6015230777530962,
          0.849523287337415,
          0.0189352216102806,
          0.0189352216102806,
          0.0189352216102806,
          0.0152927307732563,
          0.0407953824875279,
          0.0948590859878621,
          0.0138303901627054,
          0.072804300638572,
          0.0189352216102806,
          0.5171084909301207,
          0.849523287337415,
          0.0189352216102806,
          0.0189352216102806,
          0.0189352216102806,
          0.0583662918406763,
          0.1092797478873238,
          0.2187198382873442,
          0.136084888754662,
          0.2797675776321915,
          0.0189352216102806,
          0.6955519493629406,
          0.849523287337415,
          0.0189352216102806,
          0.0189352216102806,
          0.0189352216102806,
          0.785659380383899,
          0.4285633518958111,
          0.3877566668471505,
          0.2287803638032266,
          0.7934045868484432,
          0.0189352216102806,
          0.5942083424210098,
          0.849523287337415,
          0.0189352216102806,
          0.0189352216102806,
          0.0189352216102806,
          0.8471967360208745,
          0.8310389074916922,
          0.2206303383882872,
          0.2082891015622292,
          0.5707427030650546,
          0.0189352216102806,
          0.4791238911304644,
          0.849523287337415,
          0.0189352216102806,
          0.0189352216102806,
          0.0189352216102806,
          0.5592445673035467,
          0.8360058359048027,
          0.0558296690760192,
          0.1058926845490183,
          0.8149405311392782,
          0.0189352216102806,
          0.6639826081106686,
          0.849523287337415,
          0.0189352216102806,
          0.0189352216102806,
          0.0189352216102806,
          0.849501947420195,
          0.1551211224363213,
          0.1386192447996801,
          0.0898129919864076,
          0.0644709890381918,
          0.0189352216102806,
          0.4693331997876436,
          0.849523287337415,
          0.0189352216102806,
          0.0189352216102806,
          0.0189352216102806,
          0.8655739618215533,
          0.4773284890687503,
          0.1808282019204462,
          0.5197764573813491,
          0.0894395782279541,
          0.0189352216102806,
          0.6616333126148431,
          0.849523287337415,
          0.0189352216102806,
          0.0189352216102806,
          0.0189352216102806,
          0.1436540125870054,
          0.6826447575696203,
          0.2261650030530796,
          0.3337109474776558,
          0.2442107225115387,
          0.0189352216102806,
          0.5566092834720521,
          0.849523287337415,
          0.0189352216102806,
          0.0189352216102806,
          0.0189352216102806,
          0.8550828453089734,
          0.8545570891458603,
          0.2080398821179028,
          0.2091544606501907,
          0.1909338513456363,
          0.0189352216102806,
          0.4495649382295105,
          0.849523287337415,
          0.0189352216102806,
          0.0189352216102806,
          0.0189352216102806,
          0.1136287694098836,
          0.8367027511126179,
          0.2354075421536103,
          0.0761168757186774,
          0.3824997469905669,
          0.0189352216102806,
          0.6243156975645823,
          0.849523287337415,
          0.0189352216102806,
          0.0189352216102806,
          0.0189352216102806,
          0.4857725705098351,
          0.798191130492742,
          0.0627623234737078,
          0.0175225745697381,
          0.0377224274581796,
          0.0189352216102806,
          0.5099499412619429,
          0.849523287337415,
          0.0189352216102806,
          0.0189352216102806,
          0.0189352216102806,
          0.8236923361248665,
          0.1428439464659339,
          0.3133913688340289,
          0.7389934939593461,
          0.1031439929634513,
          0.0189352216102806,
          0.6963397168966198,
          0.849523287337415,
          0.0189352216102806,
          0.0189352216102806,
          0.0189352216102806,
          0.1536686698230077,
          0.7805362764795029,
          0.3337858027723149,
          0.3708836502792428,
          0.6476188315710739,
          0.0189352216102806,
          0.5950831440483236,
          0.849523287337415,
          0.0189352216102806,
          0.0189352216102806,
          0.0189352216102806,
          0.1013265864819924,
          0.743664450002896,
          0.2491945724561347,
          0.2238438937582294,
          0.2046067381577864,
          0.0189352216102806,
          0.4739626417419137,
          0.849523287337415,
          0.0189352216102806,
          0.0189352216102806,
          0.0189352216102806,
          0.0600372132664748,
          0.5280712872703512,
          0.1841054696639208,
          0.2509654575243649,
          0.3234623711358393,
          0.0189352216102806,
          0.6931697762856079,
          0.849523287337415,
          0.0189352216102806,
          0.0189352216102806,
          0.0189352216102806,
          0.0406994861609008,
          0.7690343101969263,
          0.0781012179275997,
          0.0209905343932634,
          0.1336544587839006
         ],
         "y0": " ",
         "yaxis": "y"
        }
       ],
       "layout": {
        "boxmode": "group",
        "legend": {
         "tracegroupgap": 0
        },
        "template": {
         "data": {
          "bar": [
           {
            "error_x": {
             "color": "#2a3f5f"
            },
            "error_y": {
             "color": "#2a3f5f"
            },
            "marker": {
             "line": {
              "color": "#E5ECF6",
              "width": 0.5
             },
             "pattern": {
              "fillmode": "overlay",
              "size": 10,
              "solidity": 0.2
             }
            },
            "type": "bar"
           }
          ],
          "barpolar": [
           {
            "marker": {
             "line": {
              "color": "#E5ECF6",
              "width": 0.5
             },
             "pattern": {
              "fillmode": "overlay",
              "size": 10,
              "solidity": 0.2
             }
            },
            "type": "barpolar"
           }
          ],
          "carpet": [
           {
            "aaxis": {
             "endlinecolor": "#2a3f5f",
             "gridcolor": "white",
             "linecolor": "white",
             "minorgridcolor": "white",
             "startlinecolor": "#2a3f5f"
            },
            "baxis": {
             "endlinecolor": "#2a3f5f",
             "gridcolor": "white",
             "linecolor": "white",
             "minorgridcolor": "white",
             "startlinecolor": "#2a3f5f"
            },
            "type": "carpet"
           }
          ],
          "choropleth": [
           {
            "colorbar": {
             "outlinewidth": 0,
             "ticks": ""
            },
            "type": "choropleth"
           }
          ],
          "contour": [
           {
            "colorbar": {
             "outlinewidth": 0,
             "ticks": ""
            },
            "colorscale": [
             [
              0,
              "#0d0887"
             ],
             [
              0.1111111111111111,
              "#46039f"
             ],
             [
              0.2222222222222222,
              "#7201a8"
             ],
             [
              0.3333333333333333,
              "#9c179e"
             ],
             [
              0.4444444444444444,
              "#bd3786"
             ],
             [
              0.5555555555555556,
              "#d8576b"
             ],
             [
              0.6666666666666666,
              "#ed7953"
             ],
             [
              0.7777777777777778,
              "#fb9f3a"
             ],
             [
              0.8888888888888888,
              "#fdca26"
             ],
             [
              1,
              "#f0f921"
             ]
            ],
            "type": "contour"
           }
          ],
          "contourcarpet": [
           {
            "colorbar": {
             "outlinewidth": 0,
             "ticks": ""
            },
            "type": "contourcarpet"
           }
          ],
          "heatmap": [
           {
            "colorbar": {
             "outlinewidth": 0,
             "ticks": ""
            },
            "colorscale": [
             [
              0,
              "#0d0887"
             ],
             [
              0.1111111111111111,
              "#46039f"
             ],
             [
              0.2222222222222222,
              "#7201a8"
             ],
             [
              0.3333333333333333,
              "#9c179e"
             ],
             [
              0.4444444444444444,
              "#bd3786"
             ],
             [
              0.5555555555555556,
              "#d8576b"
             ],
             [
              0.6666666666666666,
              "#ed7953"
             ],
             [
              0.7777777777777778,
              "#fb9f3a"
             ],
             [
              0.8888888888888888,
              "#fdca26"
             ],
             [
              1,
              "#f0f921"
             ]
            ],
            "type": "heatmap"
           }
          ],
          "heatmapgl": [
           {
            "colorbar": {
             "outlinewidth": 0,
             "ticks": ""
            },
            "colorscale": [
             [
              0,
              "#0d0887"
             ],
             [
              0.1111111111111111,
              "#46039f"
             ],
             [
              0.2222222222222222,
              "#7201a8"
             ],
             [
              0.3333333333333333,
              "#9c179e"
             ],
             [
              0.4444444444444444,
              "#bd3786"
             ],
             [
              0.5555555555555556,
              "#d8576b"
             ],
             [
              0.6666666666666666,
              "#ed7953"
             ],
             [
              0.7777777777777778,
              "#fb9f3a"
             ],
             [
              0.8888888888888888,
              "#fdca26"
             ],
             [
              1,
              "#f0f921"
             ]
            ],
            "type": "heatmapgl"
           }
          ],
          "histogram": [
           {
            "marker": {
             "pattern": {
              "fillmode": "overlay",
              "size": 10,
              "solidity": 0.2
             }
            },
            "type": "histogram"
           }
          ],
          "histogram2d": [
           {
            "colorbar": {
             "outlinewidth": 0,
             "ticks": ""
            },
            "colorscale": [
             [
              0,
              "#0d0887"
             ],
             [
              0.1111111111111111,
              "#46039f"
             ],
             [
              0.2222222222222222,
              "#7201a8"
             ],
             [
              0.3333333333333333,
              "#9c179e"
             ],
             [
              0.4444444444444444,
              "#bd3786"
             ],
             [
              0.5555555555555556,
              "#d8576b"
             ],
             [
              0.6666666666666666,
              "#ed7953"
             ],
             [
              0.7777777777777778,
              "#fb9f3a"
             ],
             [
              0.8888888888888888,
              "#fdca26"
             ],
             [
              1,
              "#f0f921"
             ]
            ],
            "type": "histogram2d"
           }
          ],
          "histogram2dcontour": [
           {
            "colorbar": {
             "outlinewidth": 0,
             "ticks": ""
            },
            "colorscale": [
             [
              0,
              "#0d0887"
             ],
             [
              0.1111111111111111,
              "#46039f"
             ],
             [
              0.2222222222222222,
              "#7201a8"
             ],
             [
              0.3333333333333333,
              "#9c179e"
             ],
             [
              0.4444444444444444,
              "#bd3786"
             ],
             [
              0.5555555555555556,
              "#d8576b"
             ],
             [
              0.6666666666666666,
              "#ed7953"
             ],
             [
              0.7777777777777778,
              "#fb9f3a"
             ],
             [
              0.8888888888888888,
              "#fdca26"
             ],
             [
              1,
              "#f0f921"
             ]
            ],
            "type": "histogram2dcontour"
           }
          ],
          "mesh3d": [
           {
            "colorbar": {
             "outlinewidth": 0,
             "ticks": ""
            },
            "type": "mesh3d"
           }
          ],
          "parcoords": [
           {
            "line": {
             "colorbar": {
              "outlinewidth": 0,
              "ticks": ""
             }
            },
            "type": "parcoords"
           }
          ],
          "pie": [
           {
            "automargin": true,
            "type": "pie"
           }
          ],
          "scatter": [
           {
            "fillpattern": {
             "fillmode": "overlay",
             "size": 10,
             "solidity": 0.2
            },
            "type": "scatter"
           }
          ],
          "scatter3d": [
           {
            "line": {
             "colorbar": {
              "outlinewidth": 0,
              "ticks": ""
             }
            },
            "marker": {
             "colorbar": {
              "outlinewidth": 0,
              "ticks": ""
             }
            },
            "type": "scatter3d"
           }
          ],
          "scattercarpet": [
           {
            "marker": {
             "colorbar": {
              "outlinewidth": 0,
              "ticks": ""
             }
            },
            "type": "scattercarpet"
           }
          ],
          "scattergeo": [
           {
            "marker": {
             "colorbar": {
              "outlinewidth": 0,
              "ticks": ""
             }
            },
            "type": "scattergeo"
           }
          ],
          "scattergl": [
           {
            "marker": {
             "colorbar": {
              "outlinewidth": 0,
              "ticks": ""
             }
            },
            "type": "scattergl"
           }
          ],
          "scattermapbox": [
           {
            "marker": {
             "colorbar": {
              "outlinewidth": 0,
              "ticks": ""
             }
            },
            "type": "scattermapbox"
           }
          ],
          "scatterpolar": [
           {
            "marker": {
             "colorbar": {
              "outlinewidth": 0,
              "ticks": ""
             }
            },
            "type": "scatterpolar"
           }
          ],
          "scatterpolargl": [
           {
            "marker": {
             "colorbar": {
              "outlinewidth": 0,
              "ticks": ""
             }
            },
            "type": "scatterpolargl"
           }
          ],
          "scatterternary": [
           {
            "marker": {
             "colorbar": {
              "outlinewidth": 0,
              "ticks": ""
             }
            },
            "type": "scatterternary"
           }
          ],
          "surface": [
           {
            "colorbar": {
             "outlinewidth": 0,
             "ticks": ""
            },
            "colorscale": [
             [
              0,
              "#0d0887"
             ],
             [
              0.1111111111111111,
              "#46039f"
             ],
             [
              0.2222222222222222,
              "#7201a8"
             ],
             [
              0.3333333333333333,
              "#9c179e"
             ],
             [
              0.4444444444444444,
              "#bd3786"
             ],
             [
              0.5555555555555556,
              "#d8576b"
             ],
             [
              0.6666666666666666,
              "#ed7953"
             ],
             [
              0.7777777777777778,
              "#fb9f3a"
             ],
             [
              0.8888888888888888,
              "#fdca26"
             ],
             [
              1,
              "#f0f921"
             ]
            ],
            "type": "surface"
           }
          ],
          "table": [
           {
            "cells": {
             "fill": {
              "color": "#EBF0F8"
             },
             "line": {
              "color": "white"
             }
            },
            "header": {
             "fill": {
              "color": "#C8D4E3"
             },
             "line": {
              "color": "white"
             }
            },
            "type": "table"
           }
          ]
         },
         "layout": {
          "annotationdefaults": {
           "arrowcolor": "#2a3f5f",
           "arrowhead": 0,
           "arrowwidth": 1
          },
          "autotypenumbers": "strict",
          "coloraxis": {
           "colorbar": {
            "outlinewidth": 0,
            "ticks": ""
           }
          },
          "colorscale": {
           "diverging": [
            [
             0,
             "#8e0152"
            ],
            [
             0.1,
             "#c51b7d"
            ],
            [
             0.2,
             "#de77ae"
            ],
            [
             0.3,
             "#f1b6da"
            ],
            [
             0.4,
             "#fde0ef"
            ],
            [
             0.5,
             "#f7f7f7"
            ],
            [
             0.6,
             "#e6f5d0"
            ],
            [
             0.7,
             "#b8e186"
            ],
            [
             0.8,
             "#7fbc41"
            ],
            [
             0.9,
             "#4d9221"
            ],
            [
             1,
             "#276419"
            ]
           ],
           "sequential": [
            [
             0,
             "#0d0887"
            ],
            [
             0.1111111111111111,
             "#46039f"
            ],
            [
             0.2222222222222222,
             "#7201a8"
            ],
            [
             0.3333333333333333,
             "#9c179e"
            ],
            [
             0.4444444444444444,
             "#bd3786"
            ],
            [
             0.5555555555555556,
             "#d8576b"
            ],
            [
             0.6666666666666666,
             "#ed7953"
            ],
            [
             0.7777777777777778,
             "#fb9f3a"
            ],
            [
             0.8888888888888888,
             "#fdca26"
            ],
            [
             1,
             "#f0f921"
            ]
           ],
           "sequentialminus": [
            [
             0,
             "#0d0887"
            ],
            [
             0.1111111111111111,
             "#46039f"
            ],
            [
             0.2222222222222222,
             "#7201a8"
            ],
            [
             0.3333333333333333,
             "#9c179e"
            ],
            [
             0.4444444444444444,
             "#bd3786"
            ],
            [
             0.5555555555555556,
             "#d8576b"
            ],
            [
             0.6666666666666666,
             "#ed7953"
            ],
            [
             0.7777777777777778,
             "#fb9f3a"
            ],
            [
             0.8888888888888888,
             "#fdca26"
            ],
            [
             1,
             "#f0f921"
            ]
           ]
          },
          "colorway": [
           "#636efa",
           "#EF553B",
           "#00cc96",
           "#ab63fa",
           "#FFA15A",
           "#19d3f3",
           "#FF6692",
           "#B6E880",
           "#FF97FF",
           "#FECB52"
          ],
          "font": {
           "color": "#2a3f5f"
          },
          "geo": {
           "bgcolor": "white",
           "lakecolor": "white",
           "landcolor": "#E5ECF6",
           "showlakes": true,
           "showland": true,
           "subunitcolor": "white"
          },
          "hoverlabel": {
           "align": "left"
          },
          "hovermode": "closest",
          "mapbox": {
           "style": "light"
          },
          "paper_bgcolor": "white",
          "plot_bgcolor": "#E5ECF6",
          "polar": {
           "angularaxis": {
            "gridcolor": "white",
            "linecolor": "white",
            "ticks": ""
           },
           "bgcolor": "#E5ECF6",
           "radialaxis": {
            "gridcolor": "white",
            "linecolor": "white",
            "ticks": ""
           }
          },
          "scene": {
           "xaxis": {
            "backgroundcolor": "#E5ECF6",
            "gridcolor": "white",
            "gridwidth": 2,
            "linecolor": "white",
            "showbackground": true,
            "ticks": "",
            "zerolinecolor": "white"
           },
           "yaxis": {
            "backgroundcolor": "#E5ECF6",
            "gridcolor": "white",
            "gridwidth": 2,
            "linecolor": "white",
            "showbackground": true,
            "ticks": "",
            "zerolinecolor": "white"
           },
           "zaxis": {
            "backgroundcolor": "#E5ECF6",
            "gridcolor": "white",
            "gridwidth": 2,
            "linecolor": "white",
            "showbackground": true,
            "ticks": "",
            "zerolinecolor": "white"
           }
          },
          "shapedefaults": {
           "line": {
            "color": "#2a3f5f"
           }
          },
          "ternary": {
           "aaxis": {
            "gridcolor": "white",
            "linecolor": "white",
            "ticks": ""
           },
           "baxis": {
            "gridcolor": "white",
            "linecolor": "white",
            "ticks": ""
           },
           "bgcolor": "#E5ECF6",
           "caxis": {
            "gridcolor": "white",
            "linecolor": "white",
            "ticks": ""
           }
          },
          "title": {
           "x": 0.05
          },
          "xaxis": {
           "automargin": true,
           "gridcolor": "white",
           "linecolor": "white",
           "ticks": "",
           "title": {
            "standoff": 15
           },
           "zerolinecolor": "white",
           "zerolinewidth": 2
          },
          "yaxis": {
           "automargin": true,
           "gridcolor": "white",
           "linecolor": "white",
           "ticks": "",
           "title": {
            "standoff": 15
           },
           "zerolinecolor": "white",
           "zerolinewidth": 2
          }
         }
        },
        "title": {
         "text": "Boxplot da F1-Score Balanceada do Classificador Sim/real"
        },
        "xaxis": {
         "anchor": "y",
         "domain": [
          0,
          1
         ],
         "title": {
          "text": "Nome"
         }
        },
        "yaxis": {
         "anchor": "x",
         "domain": [
          0,
          1
         ],
         "range": [
          0,
          1
         ],
         "title": {
          "text": "F1-score Balanceada"
         }
        }
       }
      }
     },
     "metadata": {},
     "output_type": "display_data"
    }
   ],
   "source": [
    "# Criar boxplot da acurácia por modelo sim/real \n",
    "fig = px.box(df6, x='Nome', y='Acurácia Balanceada', points='all', title='Boxplot da Acurácia Balanceada do classificador Sim/real 0',color_discrete_sequence=px.colors.qualitative.Set3)\n",
    "fig.update_yaxes(range=[0, 1])\n",
    "fig.show()\n",
    "\n",
    "fig = px.box(df9, x='Nome', y='Acurácia Balanceada', points='all', title='Boxplot da Acurácia Balanceada do classificador Sim/real sem features de temperatura',color_discrete_sequence=px.colors.qualitative.Set1)\n",
    "fig.update_yaxes(range=[0, 1])\n",
    "fig.show()\n",
    "\n",
    "fig = px.box(df3, x='Nome', y='Acurácia Balanceada', points='all', title='Boxplot da Acurácia Balanceada do classificador Sim/real')\n",
    "fig.update_yaxes(range=[0, 1])\n",
    "fig.show()\n",
    "\n",
    "fig = px.box(df6, x='Nome', y='F1-score Balanceada', points='all', title='Boxplot da F1-Score Balanceada do Classificador Sim/real 0',color_discrete_sequence=px.colors.qualitative.Set3)\n",
    "fig.update_yaxes(range=[0, 1])\n",
    "fig.show()\n",
    "\n",
    "fig = px.box(df9, x='Nome', y='F1-score Balanceada', points='all', title='Boxplot da Acurácia Balanceada do classificador Sim/real sem features de temperatura',color_discrete_sequence=px.colors.qualitative.Set1)\n",
    "fig.update_yaxes(range=[0, 1])\n",
    "fig.show()\n",
    "\n",
    "fig = px.box(df3, x='Nome', y='F1-score Balanceada', points='all', title='Boxplot da F1-Score Balanceada do Classificador Sim/real')\n",
    "fig.update_yaxes(range=[0, 1])\n",
    "fig.show()"
   ]
  },
  {
   "cell_type": "code",
   "execution_count": null,
   "metadata": {},
   "outputs": [],
   "source": []
  }
 ],
 "metadata": {
  "kernelspec": {
   "display_name": "Python 3",
   "language": "python",
   "name": "python3"
  },
  "language_info": {
   "codemirror_mode": {
    "name": "ipython",
    "version": 3
   },
   "file_extension": ".py",
   "mimetype": "text/x-python",
   "name": "python",
   "nbconvert_exporter": "python",
   "pygments_lexer": "ipython3",
   "version": "3.8.10"
  },
  "orig_nbformat": 4
 },
 "nbformat": 4,
 "nbformat_minor": 2
}
