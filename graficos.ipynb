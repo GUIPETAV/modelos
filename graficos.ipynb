{
 "cells": [
  {
   "cell_type": "code",
   "execution_count": 5,
   "metadata": {},
   "outputs": [],
   "source": [
    "import pandas as pd\n",
    "import plotly.express as px\n"
   ]
  },
  {
   "cell_type": "code",
   "execution_count": 4,
   "metadata": {},
   "outputs": [],
   "source": [
    "# modelo Real/Real \n",
    "\n",
    "df1 = pd.read_csv('https://raw.githubusercontent.com/GUIPETAV/modelos/main/modelos_real_real.csv')\n",
    "df2 = pd.read_csv('https://raw.githubusercontent.com/GUIPETAV/modelos/main/modelos_sim_real.csv')\n",
    "df3 = pd.read_csv('https://raw.githubusercontent.com/GUIPETAV/modelos/main/modelos_sim_sim.csv')"
   ]
  },
  {
   "cell_type": "code",
   "execution_count": 8,
   "metadata": {},
   "outputs": [
    {
     "data": {
      "text/html": [
       "<div>\n",
       "<style scoped>\n",
       "    .dataframe tbody tr th:only-of-type {\n",
       "        vertical-align: middle;\n",
       "    }\n",
       "\n",
       "    .dataframe tbody tr th {\n",
       "        vertical-align: top;\n",
       "    }\n",
       "\n",
       "    .dataframe thead th {\n",
       "        text-align: right;\n",
       "    }\n",
       "</style>\n",
       "<table border=\"1\" class=\"dataframe\">\n",
       "  <thead>\n",
       "    <tr style=\"text-align: right;\">\n",
       "      <th></th>\n",
       "      <th>Nome</th>\n",
       "      <th>Acurácia</th>\n",
       "      <th>Acurácia Balanceada</th>\n",
       "      <th>Precisão</th>\n",
       "      <th>Recall</th>\n",
       "      <th>F1-score</th>\n",
       "      <th>F1-score Balanceada</th>\n",
       "      <th>Matriz de Confusão</th>\n",
       "      <th>Predição</th>\n",
       "    </tr>\n",
       "  </thead>\n",
       "  <tbody>\n",
       "    <tr>\n",
       "      <th>0</th>\n",
       "      <td>logreg</td>\n",
       "      <td>0.842950</td>\n",
       "      <td>0.560439</td>\n",
       "      <td>0.216606</td>\n",
       "      <td>0.205392</td>\n",
       "      <td>0.210850</td>\n",
       "      <td>0.841093</td>\n",
       "      <td>[[18805  1736]\\n [ 1857   480]]</td>\n",
       "      <td>[0 0 0 ... 0 0 0]</td>\n",
       "    </tr>\n",
       "    <tr>\n",
       "      <th>1</th>\n",
       "      <td>KNN</td>\n",
       "      <td>0.813183</td>\n",
       "      <td>0.638666</td>\n",
       "      <td>0.251475</td>\n",
       "      <td>0.419341</td>\n",
       "      <td>0.314405</td>\n",
       "      <td>0.832871</td>\n",
       "      <td>[[17624  2917]\\n [ 1357   980]]</td>\n",
       "      <td>[0 0 1 ... 0 0 0]</td>\n",
       "    </tr>\n",
       "    <tr>\n",
       "      <th>2</th>\n",
       "      <td>GaussianNB</td>\n",
       "      <td>0.849200</td>\n",
       "      <td>0.690199</td>\n",
       "      <td>0.336564</td>\n",
       "      <td>0.490372</td>\n",
       "      <td>0.399164</td>\n",
       "      <td>0.861212</td>\n",
       "      <td>[[18282  2259]\\n [ 1191  1146]]</td>\n",
       "      <td>[1 1 1 ... 0 0 0]</td>\n",
       "    </tr>\n",
       "    <tr>\n",
       "      <th>3</th>\n",
       "      <td>Perceptron</td>\n",
       "      <td>0.883993</td>\n",
       "      <td>0.574194</td>\n",
       "      <td>0.365792</td>\n",
       "      <td>0.184852</td>\n",
       "      <td>0.245594</td>\n",
       "      <td>0.866521</td>\n",
       "      <td>[[19792   749]\\n [ 1905   432]]</td>\n",
       "      <td>[0 0 0 ... 0 0 0]</td>\n",
       "    </tr>\n",
       "    <tr>\n",
       "      <th>4</th>\n",
       "      <td>LinearSVC</td>\n",
       "      <td>0.857330</td>\n",
       "      <td>0.541144</td>\n",
       "      <td>0.210131</td>\n",
       "      <td>0.143774</td>\n",
       "      <td>0.170732</td>\n",
       "      <td>0.845214</td>\n",
       "      <td>[[19278  1263]\\n [ 2001   336]]</td>\n",
       "      <td>[0 0 0 ... 0 0 0]</td>\n",
       "    </tr>\n",
       "  </tbody>\n",
       "</table>\n",
       "</div>"
      ],
      "text/plain": [
       "         Nome  Acurácia  Acurácia Balanceada  Precisão    Recall  F1-score  \\\n",
       "0      logreg  0.842950             0.560439  0.216606  0.205392  0.210850   \n",
       "1         KNN  0.813183             0.638666  0.251475  0.419341  0.314405   \n",
       "2  GaussianNB  0.849200             0.690199  0.336564  0.490372  0.399164   \n",
       "3  Perceptron  0.883993             0.574194  0.365792  0.184852  0.245594   \n",
       "4   LinearSVC  0.857330             0.541144  0.210131  0.143774  0.170732   \n",
       "\n",
       "   F1-score Balanceada               Matriz de Confusão           Predição  \n",
       "0             0.841093  [[18805  1736]\\n [ 1857   480]]  [0 0 0 ... 0 0 0]  \n",
       "1             0.832871  [[17624  2917]\\n [ 1357   980]]  [0 0 1 ... 0 0 0]  \n",
       "2             0.861212  [[18282  2259]\\n [ 1191  1146]]  [1 1 1 ... 0 0 0]  \n",
       "3             0.866521  [[19792   749]\\n [ 1905   432]]  [0 0 0 ... 0 0 0]  \n",
       "4             0.845214  [[19278  1263]\\n [ 2001   336]]  [0 0 0 ... 0 0 0]  "
      ]
     },
     "execution_count": 8,
     "metadata": {},
     "output_type": "execute_result"
    }
   ],
   "source": [
    "df1.head()"
   ]
  },
  {
   "cell_type": "code",
   "execution_count": 13,
   "metadata": {},
   "outputs": [
    {
     "data": {
      "application/vnd.plotly.v1+json": {
       "config": {
        "plotlyServerURL": "https://plot.ly"
       },
       "data": [
        {
         "alignmentgroup": "True",
         "boxpoints": "all",
         "hovertemplate": "Nome=%{x}<br>Acurácia Balanceada=%{y}<extra></extra>",
         "legendgroup": "",
         "marker": {
          "color": "#636efa"
         },
         "name": "",
         "notched": false,
         "offsetgroup": "",
         "orientation": "v",
         "showlegend": false,
         "type": "box",
         "x": [
          "logreg",
          "KNN",
          "GaussianNB",
          "Perceptron",
          "LinearSVC",
          "SGD",
          "Dtree",
          "RForest",
          "ADA",
          "GBC",
          "ETC",
          "logreg",
          "KNN",
          "GaussianNB",
          "Perceptron",
          "LinearSVC",
          "SGD",
          "Dtree",
          "RForest",
          "ADA",
          "GBC",
          "ETC",
          "logreg",
          "KNN",
          "GaussianNB",
          "Perceptron",
          "LinearSVC",
          "SGD",
          "Dtree",
          "RForest",
          "ADA",
          "GBC",
          "ETC",
          "logreg",
          "KNN",
          "GaussianNB",
          "Perceptron",
          "LinearSVC",
          "SGD",
          "Dtree",
          "RForest",
          "ADA",
          "GBC",
          "ETC",
          "logreg",
          "KNN",
          "GaussianNB",
          "Perceptron",
          "LinearSVC",
          "SGD",
          "Dtree",
          "RForest",
          "ADA",
          "GBC",
          "ETC",
          "logreg",
          "KNN",
          "GaussianNB",
          "Perceptron",
          "LinearSVC",
          "SGD",
          "Dtree",
          "RForest",
          "ADA",
          "GBC",
          "ETC",
          "logreg",
          "KNN",
          "GaussianNB",
          "Perceptron",
          "LinearSVC",
          "SGD",
          "Dtree",
          "RForest",
          "ADA",
          "GBC",
          "ETC",
          "logreg",
          "KNN",
          "GaussianNB",
          "Perceptron",
          "LinearSVC",
          "SGD",
          "Dtree",
          "RForest",
          "ADA",
          "GBC",
          "ETC",
          "logreg",
          "KNN",
          "GaussianNB",
          "Perceptron",
          "LinearSVC",
          "SGD",
          "Dtree",
          "RForest",
          "ADA",
          "GBC",
          "ETC",
          "logreg",
          "KNN",
          "GaussianNB",
          "Perceptron",
          "LinearSVC",
          "SGD",
          "Dtree",
          "RForest",
          "ADA",
          "GBC",
          "ETC",
          "logreg",
          "KNN",
          "GaussianNB",
          "Perceptron",
          "LinearSVC",
          "SGD",
          "Dtree",
          "RForest",
          "ADA",
          "GBC",
          "ETC",
          "logreg",
          "KNN",
          "GaussianNB",
          "Perceptron",
          "LinearSVC",
          "SGD",
          "Dtree",
          "RForest",
          "ADA",
          "GBC",
          "ETC",
          "logreg",
          "KNN",
          "GaussianNB",
          "Perceptron",
          "LinearSVC",
          "SGD",
          "Dtree",
          "RForest",
          "ADA",
          "GBC",
          "ETC",
          "logreg",
          "KNN",
          "GaussianNB",
          "Perceptron",
          "LinearSVC",
          "SGD",
          "Dtree",
          "RForest",
          "ADA",
          "GBC",
          "ETC",
          "logreg",
          "KNN",
          "GaussianNB",
          "Perceptron",
          "LinearSVC",
          "SGD",
          "Dtree",
          "RForest",
          "ADA",
          "GBC",
          "ETC",
          "logreg",
          "KNN",
          "GaussianNB",
          "Perceptron",
          "LinearSVC",
          "SGD",
          "Dtree",
          "RForest",
          "ADA",
          "GBC",
          "ETC",
          "logreg",
          "KNN",
          "GaussianNB",
          "Perceptron",
          "LinearSVC",
          "SGD",
          "Dtree",
          "RForest",
          "ADA",
          "GBC",
          "ETC",
          "logreg",
          "KNN",
          "GaussianNB",
          "Perceptron",
          "LinearSVC",
          "SGD",
          "Dtree",
          "RForest",
          "ADA",
          "GBC",
          "ETC",
          "logreg",
          "KNN",
          "GaussianNB",
          "Perceptron",
          "LinearSVC",
          "SGD",
          "Dtree",
          "RForest",
          "ADA",
          "GBC",
          "ETC",
          "logreg",
          "KNN",
          "GaussianNB",
          "Perceptron",
          "LinearSVC",
          "SGD",
          "Dtree",
          "RForest",
          "ADA",
          "GBC",
          "ETC",
          "logreg",
          "KNN",
          "GaussianNB",
          "Perceptron",
          "LinearSVC",
          "SGD",
          "Dtree",
          "RForest",
          "ADA",
          "GBC",
          "ETC",
          "logreg",
          "KNN",
          "GaussianNB",
          "Perceptron",
          "LinearSVC",
          "SGD",
          "Dtree",
          "RForest",
          "ADA",
          "GBC",
          "ETC",
          "logreg",
          "KNN",
          "GaussianNB",
          "Perceptron",
          "LinearSVC",
          "SGD",
          "Dtree",
          "RForest",
          "ADA",
          "GBC",
          "ETC",
          "logreg",
          "KNN",
          "GaussianNB",
          "Perceptron",
          "LinearSVC",
          "SGD",
          "Dtree",
          "RForest",
          "ADA",
          "GBC",
          "ETC",
          "logreg",
          "KNN",
          "GaussianNB",
          "Perceptron",
          "LinearSVC",
          "SGD",
          "Dtree",
          "RForest",
          "ADA",
          "GBC",
          "ETC"
         ],
         "x0": " ",
         "xaxis": "x",
         "y": [
          0.5604388142841403,
          0.6386661849599902,
          0.6901985502678852,
          0.5741943583948919,
          0.5411436433935723,
          0.5490354336256883,
          0.610162217285583,
          0.6394156488050856,
          0.5809920595266462,
          0.613801921189713,
          0.6738922668142534,
          0.6007650936893864,
          0.7232748879647637,
          0.6306283453631889,
          0.5126332700452753,
          0.5685906748761783,
          0.5753294438081475,
          0.6680374808790634,
          0.6806118187245535,
          0.6760163882760795,
          0.668327017338878,
          0.6934539137386331,
          0.6036822375787577,
          0.7194571063264997,
          0.6690047376364088,
          0.5487330858180942,
          0.5795290036102377,
          0.5980273086689266,
          0.6626848997768263,
          0.6849638335652187,
          0.6420663166606453,
          0.6706676505781761,
          0.6848036917179761,
          0.5870825742609774,
          0.7027037068353665,
          0.673360595881408,
          0.6283850783670144,
          0.5535014694615903,
          0.6034580389926181,
          0.666962608800371,
          0.6725598866451948,
          0.6332597961970795,
          0.668373138190884,
          0.6751055014489634,
          0.5806961173929419,
          0.7053671860387056,
          0.6806374414201123,
          0.6722588199723787,
          0.5287025435649881,
          0.5686534504802974,
          0.6753796642914428,
          0.6762457114013308,
          0.6523013024016153,
          0.6684166967733339,
          0.6814291827128798,
          0.693587151755539,
          0.797826682962701,
          0.7670538255965604,
          0.5417637126260957,
          0.6605415612933312,
          0.6910991880167777,
          0.7716543805841463,
          0.8930893027808311,
          0.7861670753486609,
          0.850098263037468,
          0.8878033406870469,
          0.779529516064149,
          0.8763089994593611,
          0.7405368979627395,
          0.6062611618867528,
          0.6998493385501141,
          0.6166537272054095,
          0.8167016416461045,
          0.9890398919747156,
          0.938642612080076,
          0.9735253498138512,
          0.9266268489977684,
          0.7915926811332405,
          0.8825634994452687,
          0.7640508456770669,
          0.7718567998790609,
          0.7025115366186754,
          0.6982094860343497,
          0.8652092477432811,
          0.9806253987531997,
          0.913429879650199,
          0.9722185923403514,
          0.916616061842938,
          0.7391929875806795,
          0.8868117423689207,
          0.7491627784226156,
          0.7472218592340352,
          0.6406250400354618,
          0.6427568483059555,
          0.8112990962875276,
          0.9771458366963122,
          0.9422515687495356,
          0.9522738861173672,
          0.910721560729632,
          0.7356980519064567,
          0.8742899310493262,
          0.8012998393456989,
          0.7678788763935543,
          0.6303093428034816,
          0.5565018871115279,
          0.945733693075979,
          0.9764412125684444,
          0.8969198957668745,
          0.9781284670709928,
          0.8801882755669662,
          0.7378670130855106,
          0.7830462310295968,
          0.3849079760889005,
          0.7703015022586406,
          0.7418782460752436,
          0.8023516509983883,
          0.8010743596247812,
          0.8598617911801557,
          0.7354815401289847,
          0.8125084875179038,
          0.8510834556817046,
          0.7460534643165531,
          0.8475026839773598,
          0.4253636501067185,
          0.7213314065066273,
          0.7436808027078065,
          0.7678724707196647,
          0.8452261074769587,
          0.9369220480733014,
          0.9475170326868728,
          0.9284857755605606,
          0.8959590446834187,
          0.7513804227232314,
          0.8608572329026158,
          0.3847619267242152,
          0.724830185585184,
          0.7527704539572972,
          0.7420396690572642,
          0.9057827861606698,
          0.9421388288890769,
          0.9450995313608984,
          0.9304305381534748,
          0.8875778609661293,
          0.7603765511339324,
          0.8652912403690693,
          0.4117567176302081,
          0.6937741974331184,
          0.7490871914707171,
          0.7825235280401969,
          0.9168838190115276,
          0.9436966887790528,
          0.9568296013877252,
          0.9362763561452192,
          0.8981497851536977,
          0.7445327573351372,
          0.8659215586798162,
          0.3823277706461275,
          0.7234747449901224,
          0.7421460032438332,
          0.744667276486821,
          0.9119873218902376,
          0.9419953417939474,
          0.9572779985600044,
          0.932766046853661,
          0.8744116388532306,
          0.8404269765987922,
          0.8351538258527873,
          0.7976793524632378,
          0.8081526292729048,
          0.8442601318543914,
          0.8567576016132049,
          0.7732878274260209,
          0.8724220365430884,
          0.7423599527517495,
          0.7379695038677458,
          0.8724809687428736,
          0.8403257669513349,
          0.904607985569298,
          0.5392667809438889,
          0.8078618116783123,
          0.8245447487566586,
          0.82078589931818,
          0.906188905885277,
          0.9385478081065084,
          0.7529895280043251,
          0.9088280435278352,
          0.8851642030444886,
          0.8373407229187325,
          0.9207387535583518,
          0.7820994724286985,
          0.8028038915750015,
          0.8162378708564899,
          0.8164364467470706,
          0.9340292457447108,
          0.963966803235634,
          0.8690308727858789,
          0.9210218843442768,
          0.9316271180360716,
          0.8482483044181215,
          0.9134567834805356,
          0.7429736163103831,
          0.8066255166175992,
          0.8124982384396804,
          0.8348399478321918,
          0.91045508469582,
          0.9467214479897714,
          0.9176230337783996,
          0.9256275638709744,
          0.8886719500664909,
          0.8490477325195565,
          0.9121346523897008,
          0.6929260862101215,
          0.9124626228928536,
          0.8091275728389178,
          0.849772854803871,
          0.9298963049510734,
          0.949220941941534,
          0.8509207515649061,
          0.9333643367949596,
          0.8990158322635857,
          0.4887272950888979,
          0.6130229912447249,
          0.5374129789202083,
          0.529681330535335,
          0.4855487997048265,
          0.499241568211459,
          0.5312648131208699,
          0.5679283281959828,
          0.5593152590838861,
          0.5584107779306599,
          0.5842025832801663,
          0.5010300323614645,
          0.6164500267757169,
          0.4523174446998173,
          0.4876293625842026,
          0.4991800737421178,
          0.5027429095595715,
          0.6139799989238468,
          0.6165512364231742,
          0.6053682109465279,
          0.5984577699543148,
          0.5873452068904553,
          0.4761324590869608,
          0.6103223591328255,
          0.4799182123557762,
          0.4559020598084959,
          0.47597744177883,
          0.4714588794170324,
          0.6215476620571437,
          0.5699781438406883,
          0.5992392621688587,
          0.5831123375841385,
          0.5777200413037853,
          0.4950689122397054,
          0.6100520396946799,
          0.5200126063662149,
          0.5414357421229428,
          0.4932676367419205,
          0.496270616661414,
          0.5954330107435962,
          0.5924210628806571,
          0.6027470091908609,
          0.5982412581768427,
          0.5821835148701313,
          0.5050258917338621,
          0.6214016126924584,
          0.5328303598195138,
          0.5065773459499486,
          0.5014425577599614,
          0.4996566558795118,
          0.628174972263432,
          0.5847240051347882,
          0.6083993758311361,
          0.6039551192864592,
          0.5761660248181429
         ],
         "y0": " ",
         "yaxis": "y"
        }
       ],
       "layout": {
        "boxmode": "group",
        "legend": {
         "tracegroupgap": 0
        },
        "template": {
         "data": {
          "bar": [
           {
            "error_x": {
             "color": "#2a3f5f"
            },
            "error_y": {
             "color": "#2a3f5f"
            },
            "marker": {
             "line": {
              "color": "#E5ECF6",
              "width": 0.5
             },
             "pattern": {
              "fillmode": "overlay",
              "size": 10,
              "solidity": 0.2
             }
            },
            "type": "bar"
           }
          ],
          "barpolar": [
           {
            "marker": {
             "line": {
              "color": "#E5ECF6",
              "width": 0.5
             },
             "pattern": {
              "fillmode": "overlay",
              "size": 10,
              "solidity": 0.2
             }
            },
            "type": "barpolar"
           }
          ],
          "carpet": [
           {
            "aaxis": {
             "endlinecolor": "#2a3f5f",
             "gridcolor": "white",
             "linecolor": "white",
             "minorgridcolor": "white",
             "startlinecolor": "#2a3f5f"
            },
            "baxis": {
             "endlinecolor": "#2a3f5f",
             "gridcolor": "white",
             "linecolor": "white",
             "minorgridcolor": "white",
             "startlinecolor": "#2a3f5f"
            },
            "type": "carpet"
           }
          ],
          "choropleth": [
           {
            "colorbar": {
             "outlinewidth": 0,
             "ticks": ""
            },
            "type": "choropleth"
           }
          ],
          "contour": [
           {
            "colorbar": {
             "outlinewidth": 0,
             "ticks": ""
            },
            "colorscale": [
             [
              0,
              "#0d0887"
             ],
             [
              0.1111111111111111,
              "#46039f"
             ],
             [
              0.2222222222222222,
              "#7201a8"
             ],
             [
              0.3333333333333333,
              "#9c179e"
             ],
             [
              0.4444444444444444,
              "#bd3786"
             ],
             [
              0.5555555555555556,
              "#d8576b"
             ],
             [
              0.6666666666666666,
              "#ed7953"
             ],
             [
              0.7777777777777778,
              "#fb9f3a"
             ],
             [
              0.8888888888888888,
              "#fdca26"
             ],
             [
              1,
              "#f0f921"
             ]
            ],
            "type": "contour"
           }
          ],
          "contourcarpet": [
           {
            "colorbar": {
             "outlinewidth": 0,
             "ticks": ""
            },
            "type": "contourcarpet"
           }
          ],
          "heatmap": [
           {
            "colorbar": {
             "outlinewidth": 0,
             "ticks": ""
            },
            "colorscale": [
             [
              0,
              "#0d0887"
             ],
             [
              0.1111111111111111,
              "#46039f"
             ],
             [
              0.2222222222222222,
              "#7201a8"
             ],
             [
              0.3333333333333333,
              "#9c179e"
             ],
             [
              0.4444444444444444,
              "#bd3786"
             ],
             [
              0.5555555555555556,
              "#d8576b"
             ],
             [
              0.6666666666666666,
              "#ed7953"
             ],
             [
              0.7777777777777778,
              "#fb9f3a"
             ],
             [
              0.8888888888888888,
              "#fdca26"
             ],
             [
              1,
              "#f0f921"
             ]
            ],
            "type": "heatmap"
           }
          ],
          "heatmapgl": [
           {
            "colorbar": {
             "outlinewidth": 0,
             "ticks": ""
            },
            "colorscale": [
             [
              0,
              "#0d0887"
             ],
             [
              0.1111111111111111,
              "#46039f"
             ],
             [
              0.2222222222222222,
              "#7201a8"
             ],
             [
              0.3333333333333333,
              "#9c179e"
             ],
             [
              0.4444444444444444,
              "#bd3786"
             ],
             [
              0.5555555555555556,
              "#d8576b"
             ],
             [
              0.6666666666666666,
              "#ed7953"
             ],
             [
              0.7777777777777778,
              "#fb9f3a"
             ],
             [
              0.8888888888888888,
              "#fdca26"
             ],
             [
              1,
              "#f0f921"
             ]
            ],
            "type": "heatmapgl"
           }
          ],
          "histogram": [
           {
            "marker": {
             "pattern": {
              "fillmode": "overlay",
              "size": 10,
              "solidity": 0.2
             }
            },
            "type": "histogram"
           }
          ],
          "histogram2d": [
           {
            "colorbar": {
             "outlinewidth": 0,
             "ticks": ""
            },
            "colorscale": [
             [
              0,
              "#0d0887"
             ],
             [
              0.1111111111111111,
              "#46039f"
             ],
             [
              0.2222222222222222,
              "#7201a8"
             ],
             [
              0.3333333333333333,
              "#9c179e"
             ],
             [
              0.4444444444444444,
              "#bd3786"
             ],
             [
              0.5555555555555556,
              "#d8576b"
             ],
             [
              0.6666666666666666,
              "#ed7953"
             ],
             [
              0.7777777777777778,
              "#fb9f3a"
             ],
             [
              0.8888888888888888,
              "#fdca26"
             ],
             [
              1,
              "#f0f921"
             ]
            ],
            "type": "histogram2d"
           }
          ],
          "histogram2dcontour": [
           {
            "colorbar": {
             "outlinewidth": 0,
             "ticks": ""
            },
            "colorscale": [
             [
              0,
              "#0d0887"
             ],
             [
              0.1111111111111111,
              "#46039f"
             ],
             [
              0.2222222222222222,
              "#7201a8"
             ],
             [
              0.3333333333333333,
              "#9c179e"
             ],
             [
              0.4444444444444444,
              "#bd3786"
             ],
             [
              0.5555555555555556,
              "#d8576b"
             ],
             [
              0.6666666666666666,
              "#ed7953"
             ],
             [
              0.7777777777777778,
              "#fb9f3a"
             ],
             [
              0.8888888888888888,
              "#fdca26"
             ],
             [
              1,
              "#f0f921"
             ]
            ],
            "type": "histogram2dcontour"
           }
          ],
          "mesh3d": [
           {
            "colorbar": {
             "outlinewidth": 0,
             "ticks": ""
            },
            "type": "mesh3d"
           }
          ],
          "parcoords": [
           {
            "line": {
             "colorbar": {
              "outlinewidth": 0,
              "ticks": ""
             }
            },
            "type": "parcoords"
           }
          ],
          "pie": [
           {
            "automargin": true,
            "type": "pie"
           }
          ],
          "scatter": [
           {
            "fillpattern": {
             "fillmode": "overlay",
             "size": 10,
             "solidity": 0.2
            },
            "type": "scatter"
           }
          ],
          "scatter3d": [
           {
            "line": {
             "colorbar": {
              "outlinewidth": 0,
              "ticks": ""
             }
            },
            "marker": {
             "colorbar": {
              "outlinewidth": 0,
              "ticks": ""
             }
            },
            "type": "scatter3d"
           }
          ],
          "scattercarpet": [
           {
            "marker": {
             "colorbar": {
              "outlinewidth": 0,
              "ticks": ""
             }
            },
            "type": "scattercarpet"
           }
          ],
          "scattergeo": [
           {
            "marker": {
             "colorbar": {
              "outlinewidth": 0,
              "ticks": ""
             }
            },
            "type": "scattergeo"
           }
          ],
          "scattergl": [
           {
            "marker": {
             "colorbar": {
              "outlinewidth": 0,
              "ticks": ""
             }
            },
            "type": "scattergl"
           }
          ],
          "scattermapbox": [
           {
            "marker": {
             "colorbar": {
              "outlinewidth": 0,
              "ticks": ""
             }
            },
            "type": "scattermapbox"
           }
          ],
          "scatterpolar": [
           {
            "marker": {
             "colorbar": {
              "outlinewidth": 0,
              "ticks": ""
             }
            },
            "type": "scatterpolar"
           }
          ],
          "scatterpolargl": [
           {
            "marker": {
             "colorbar": {
              "outlinewidth": 0,
              "ticks": ""
             }
            },
            "type": "scatterpolargl"
           }
          ],
          "scatterternary": [
           {
            "marker": {
             "colorbar": {
              "outlinewidth": 0,
              "ticks": ""
             }
            },
            "type": "scatterternary"
           }
          ],
          "surface": [
           {
            "colorbar": {
             "outlinewidth": 0,
             "ticks": ""
            },
            "colorscale": [
             [
              0,
              "#0d0887"
             ],
             [
              0.1111111111111111,
              "#46039f"
             ],
             [
              0.2222222222222222,
              "#7201a8"
             ],
             [
              0.3333333333333333,
              "#9c179e"
             ],
             [
              0.4444444444444444,
              "#bd3786"
             ],
             [
              0.5555555555555556,
              "#d8576b"
             ],
             [
              0.6666666666666666,
              "#ed7953"
             ],
             [
              0.7777777777777778,
              "#fb9f3a"
             ],
             [
              0.8888888888888888,
              "#fdca26"
             ],
             [
              1,
              "#f0f921"
             ]
            ],
            "type": "surface"
           }
          ],
          "table": [
           {
            "cells": {
             "fill": {
              "color": "#EBF0F8"
             },
             "line": {
              "color": "white"
             }
            },
            "header": {
             "fill": {
              "color": "#C8D4E3"
             },
             "line": {
              "color": "white"
             }
            },
            "type": "table"
           }
          ]
         },
         "layout": {
          "annotationdefaults": {
           "arrowcolor": "#2a3f5f",
           "arrowhead": 0,
           "arrowwidth": 1
          },
          "autotypenumbers": "strict",
          "coloraxis": {
           "colorbar": {
            "outlinewidth": 0,
            "ticks": ""
           }
          },
          "colorscale": {
           "diverging": [
            [
             0,
             "#8e0152"
            ],
            [
             0.1,
             "#c51b7d"
            ],
            [
             0.2,
             "#de77ae"
            ],
            [
             0.3,
             "#f1b6da"
            ],
            [
             0.4,
             "#fde0ef"
            ],
            [
             0.5,
             "#f7f7f7"
            ],
            [
             0.6,
             "#e6f5d0"
            ],
            [
             0.7,
             "#b8e186"
            ],
            [
             0.8,
             "#7fbc41"
            ],
            [
             0.9,
             "#4d9221"
            ],
            [
             1,
             "#276419"
            ]
           ],
           "sequential": [
            [
             0,
             "#0d0887"
            ],
            [
             0.1111111111111111,
             "#46039f"
            ],
            [
             0.2222222222222222,
             "#7201a8"
            ],
            [
             0.3333333333333333,
             "#9c179e"
            ],
            [
             0.4444444444444444,
             "#bd3786"
            ],
            [
             0.5555555555555556,
             "#d8576b"
            ],
            [
             0.6666666666666666,
             "#ed7953"
            ],
            [
             0.7777777777777778,
             "#fb9f3a"
            ],
            [
             0.8888888888888888,
             "#fdca26"
            ],
            [
             1,
             "#f0f921"
            ]
           ],
           "sequentialminus": [
            [
             0,
             "#0d0887"
            ],
            [
             0.1111111111111111,
             "#46039f"
            ],
            [
             0.2222222222222222,
             "#7201a8"
            ],
            [
             0.3333333333333333,
             "#9c179e"
            ],
            [
             0.4444444444444444,
             "#bd3786"
            ],
            [
             0.5555555555555556,
             "#d8576b"
            ],
            [
             0.6666666666666666,
             "#ed7953"
            ],
            [
             0.7777777777777778,
             "#fb9f3a"
            ],
            [
             0.8888888888888888,
             "#fdca26"
            ],
            [
             1,
             "#f0f921"
            ]
           ]
          },
          "colorway": [
           "#636efa",
           "#EF553B",
           "#00cc96",
           "#ab63fa",
           "#FFA15A",
           "#19d3f3",
           "#FF6692",
           "#B6E880",
           "#FF97FF",
           "#FECB52"
          ],
          "font": {
           "color": "#2a3f5f"
          },
          "geo": {
           "bgcolor": "white",
           "lakecolor": "white",
           "landcolor": "#E5ECF6",
           "showlakes": true,
           "showland": true,
           "subunitcolor": "white"
          },
          "hoverlabel": {
           "align": "left"
          },
          "hovermode": "closest",
          "mapbox": {
           "style": "light"
          },
          "paper_bgcolor": "white",
          "plot_bgcolor": "#E5ECF6",
          "polar": {
           "angularaxis": {
            "gridcolor": "white",
            "linecolor": "white",
            "ticks": ""
           },
           "bgcolor": "#E5ECF6",
           "radialaxis": {
            "gridcolor": "white",
            "linecolor": "white",
            "ticks": ""
           }
          },
          "scene": {
           "xaxis": {
            "backgroundcolor": "#E5ECF6",
            "gridcolor": "white",
            "gridwidth": 2,
            "linecolor": "white",
            "showbackground": true,
            "ticks": "",
            "zerolinecolor": "white"
           },
           "yaxis": {
            "backgroundcolor": "#E5ECF6",
            "gridcolor": "white",
            "gridwidth": 2,
            "linecolor": "white",
            "showbackground": true,
            "ticks": "",
            "zerolinecolor": "white"
           },
           "zaxis": {
            "backgroundcolor": "#E5ECF6",
            "gridcolor": "white",
            "gridwidth": 2,
            "linecolor": "white",
            "showbackground": true,
            "ticks": "",
            "zerolinecolor": "white"
           }
          },
          "shapedefaults": {
           "line": {
            "color": "#2a3f5f"
           }
          },
          "ternary": {
           "aaxis": {
            "gridcolor": "white",
            "linecolor": "white",
            "ticks": ""
           },
           "baxis": {
            "gridcolor": "white",
            "linecolor": "white",
            "ticks": ""
           },
           "bgcolor": "#E5ECF6",
           "caxis": {
            "gridcolor": "white",
            "linecolor": "white",
            "ticks": ""
           }
          },
          "title": {
           "x": 0.05
          },
          "xaxis": {
           "automargin": true,
           "gridcolor": "white",
           "linecolor": "white",
           "ticks": "",
           "title": {
            "standoff": 15
           },
           "zerolinecolor": "white",
           "zerolinewidth": 2
          },
          "yaxis": {
           "automargin": true,
           "gridcolor": "white",
           "linecolor": "white",
           "ticks": "",
           "title": {
            "standoff": 15
           },
           "zerolinecolor": "white",
           "zerolinewidth": 2
          }
         }
        },
        "title": {
         "text": "Boxplot da Acurácia Balanceada do classificador "
        },
        "xaxis": {
         "anchor": "y",
         "domain": [
          0,
          1
         ],
         "title": {
          "text": "Nome"
         }
        },
        "yaxis": {
         "anchor": "x",
         "domain": [
          0,
          1
         ],
         "range": [
          0,
          1
         ],
         "title": {
          "text": "Acurácia Balanceada"
         }
        }
       }
      }
     },
     "metadata": {},
     "output_type": "display_data"
    }
   ],
   "source": [
    "# Criar boxplot da acurácia por modelo\n",
    "fig = px.box(df1, x='Nome', y='Acurácia Balanceada', points='all', title='Boxplot da Acurácia Balanceada do classificador Real_real')\n",
    "\n",
    "fig.update_yaxes(range=[0, 1])\n",
    "fig.show()"
   ]
  },
  {
   "cell_type": "code",
   "execution_count": 14,
   "metadata": {},
   "outputs": [
    {
     "data": {
      "application/vnd.plotly.v1+json": {
       "config": {
        "plotlyServerURL": "https://plot.ly"
       },
       "data": [
        {
         "alignmentgroup": "True",
         "boxpoints": "all",
         "hovertemplate": "Nome=%{x}<br>F1-score Balanceada=%{y}<extra></extra>",
         "legendgroup": "",
         "marker": {
          "color": "#636efa"
         },
         "name": "",
         "notched": false,
         "offsetgroup": "",
         "orientation": "v",
         "showlegend": false,
         "type": "box",
         "x": [
          "logreg",
          "KNN",
          "GaussianNB",
          "Perceptron",
          "LinearSVC",
          "SGD",
          "Dtree",
          "RForest",
          "ADA",
          "GBC",
          "ETC",
          "logreg",
          "KNN",
          "GaussianNB",
          "Perceptron",
          "LinearSVC",
          "SGD",
          "Dtree",
          "RForest",
          "ADA",
          "GBC",
          "ETC",
          "logreg",
          "KNN",
          "GaussianNB",
          "Perceptron",
          "LinearSVC",
          "SGD",
          "Dtree",
          "RForest",
          "ADA",
          "GBC",
          "ETC",
          "logreg",
          "KNN",
          "GaussianNB",
          "Perceptron",
          "LinearSVC",
          "SGD",
          "Dtree",
          "RForest",
          "ADA",
          "GBC",
          "ETC",
          "logreg",
          "KNN",
          "GaussianNB",
          "Perceptron",
          "LinearSVC",
          "SGD",
          "Dtree",
          "RForest",
          "ADA",
          "GBC",
          "ETC",
          "logreg",
          "KNN",
          "GaussianNB",
          "Perceptron",
          "LinearSVC",
          "SGD",
          "Dtree",
          "RForest",
          "ADA",
          "GBC",
          "ETC",
          "logreg",
          "KNN",
          "GaussianNB",
          "Perceptron",
          "LinearSVC",
          "SGD",
          "Dtree",
          "RForest",
          "ADA",
          "GBC",
          "ETC",
          "logreg",
          "KNN",
          "GaussianNB",
          "Perceptron",
          "LinearSVC",
          "SGD",
          "Dtree",
          "RForest",
          "ADA",
          "GBC",
          "ETC",
          "logreg",
          "KNN",
          "GaussianNB",
          "Perceptron",
          "LinearSVC",
          "SGD",
          "Dtree",
          "RForest",
          "ADA",
          "GBC",
          "ETC",
          "logreg",
          "KNN",
          "GaussianNB",
          "Perceptron",
          "LinearSVC",
          "SGD",
          "Dtree",
          "RForest",
          "ADA",
          "GBC",
          "ETC",
          "logreg",
          "KNN",
          "GaussianNB",
          "Perceptron",
          "LinearSVC",
          "SGD",
          "Dtree",
          "RForest",
          "ADA",
          "GBC",
          "ETC",
          "logreg",
          "KNN",
          "GaussianNB",
          "Perceptron",
          "LinearSVC",
          "SGD",
          "Dtree",
          "RForest",
          "ADA",
          "GBC",
          "ETC",
          "logreg",
          "KNN",
          "GaussianNB",
          "Perceptron",
          "LinearSVC",
          "SGD",
          "Dtree",
          "RForest",
          "ADA",
          "GBC",
          "ETC",
          "logreg",
          "KNN",
          "GaussianNB",
          "Perceptron",
          "LinearSVC",
          "SGD",
          "Dtree",
          "RForest",
          "ADA",
          "GBC",
          "ETC",
          "logreg",
          "KNN",
          "GaussianNB",
          "Perceptron",
          "LinearSVC",
          "SGD",
          "Dtree",
          "RForest",
          "ADA",
          "GBC",
          "ETC",
          "logreg",
          "KNN",
          "GaussianNB",
          "Perceptron",
          "LinearSVC",
          "SGD",
          "Dtree",
          "RForest",
          "ADA",
          "GBC",
          "ETC",
          "logreg",
          "KNN",
          "GaussianNB",
          "Perceptron",
          "LinearSVC",
          "SGD",
          "Dtree",
          "RForest",
          "ADA",
          "GBC",
          "ETC",
          "logreg",
          "KNN",
          "GaussianNB",
          "Perceptron",
          "LinearSVC",
          "SGD",
          "Dtree",
          "RForest",
          "ADA",
          "GBC",
          "ETC",
          "logreg",
          "KNN",
          "GaussianNB",
          "Perceptron",
          "LinearSVC",
          "SGD",
          "Dtree",
          "RForest",
          "ADA",
          "GBC",
          "ETC",
          "logreg",
          "KNN",
          "GaussianNB",
          "Perceptron",
          "LinearSVC",
          "SGD",
          "Dtree",
          "RForest",
          "ADA",
          "GBC",
          "ETC",
          "logreg",
          "KNN",
          "GaussianNB",
          "Perceptron",
          "LinearSVC",
          "SGD",
          "Dtree",
          "RForest",
          "ADA",
          "GBC",
          "ETC",
          "logreg",
          "KNN",
          "GaussianNB",
          "Perceptron",
          "LinearSVC",
          "SGD",
          "Dtree",
          "RForest",
          "ADA",
          "GBC",
          "ETC",
          "logreg",
          "KNN",
          "GaussianNB",
          "Perceptron",
          "LinearSVC",
          "SGD",
          "Dtree",
          "RForest",
          "ADA",
          "GBC",
          "ETC",
          "logreg",
          "KNN",
          "GaussianNB",
          "Perceptron",
          "LinearSVC",
          "SGD",
          "Dtree",
          "RForest",
          "ADA",
          "GBC",
          "ETC",
          "logreg",
          "KNN",
          "GaussianNB",
          "Perceptron",
          "LinearSVC",
          "SGD",
          "Dtree",
          "RForest",
          "ADA",
          "GBC",
          "ETC"
         ],
         "x0": " ",
         "xaxis": "x",
         "y": [
          0.8410932847635382,
          0.8328705831785891,
          0.8612118633389831,
          0.8665211851643294,
          0.8452137424600052,
          0.8544007943691327,
          0.8384240584401483,
          0.862455151802584,
          0.7871104101387948,
          0.8374049905821702,
          0.8944741367124545,
          0.8807538539049569,
          0.927079434603883,
          0.7796609091353909,
          0.8437480549212076,
          0.8737339696422893,
          0.872112716269832,
          0.9063385761297988,
          0.920084398978306,
          0.9131918418524604,
          0.9090395332331576,
          0.9243618438477108,
          0.8854526948541858,
          0.9305809821237548,
          0.8194306239298508,
          0.8602887537630488,
          0.8797316590177238,
          0.8836261530786599,
          0.9056982194062462,
          0.9215420595582832,
          0.9069254853511112,
          0.9165285474836798,
          0.9218372403771296,
          0.8803617411223371,
          0.9181469160140324,
          0.8410211842301359,
          0.8494640020551242,
          0.8706596846560176,
          0.889005536268212,
          0.915518824477917,
          0.9178977642322504,
          0.9033826890814284,
          0.9163981872876564,
          0.9112901810644606,
          0.8840029852484781,
          0.9281782984418432,
          0.9065357090356132,
          0.9035503241591034,
          0.862867172541535,
          0.8804924991291714,
          0.9183064111047108,
          0.9191365696894293,
          0.9098094939820922,
          0.9161998402963232,
          0.9208402658447348,
          0.8658349911571057,
          0.8449833522958521,
          0.8771207941011339,
          0.8370074196375331,
          0.874891094597253,
          0.8798267356401709,
          0.7513499028144571,
          0.8453132426147791,
          0.7620176027350788,
          0.8068770343009715,
          0.9210715361554792,
          0.9318767839811776,
          0.9507567164236792,
          0.7972253583783794,
          0.8757697703571679,
          0.9172312842608032,
          0.8969541930163052,
          0.8940765814584685,
          0.985177752413701,
          0.971668240109673,
          0.9840583901490566,
          0.974375536857697,
          0.9395843712520466,
          0.9652564122982088,
          0.846614642497122,
          0.9250181702440542,
          0.9205472305857332,
          0.9155200223760336,
          0.9554224144585032,
          0.9927898808270502,
          0.9773853164642824,
          0.9916088696730808,
          0.9796967636242688,
          0.9243494673404232,
          0.9642970702348348,
          0.8579377143802452,
          0.883898857586688,
          0.8999299948551388,
          0.8979875928486244,
          0.9430201178328304,
          0.9946654607417104,
          0.9858949301271528,
          0.9889963389954304,
          0.9768964207225804,
          0.9355058255368526,
          0.9724641614599988,
          0.9329462025860068,
          0.934167492950435,
          0.9033779733708158,
          0.8753087811927119,
          0.9874047620683604,
          0.9950966724770764,
          0.977587463639833,
          0.9954099750084028,
          0.9740209664845788,
          0.8777922487646072,
          0.8435663778841243,
          0.023845436647149,
          0.8500614142544693,
          0.8921167207680403,
          0.9045462610670758,
          0.7931742141105419,
          0.8609441364636087,
          0.7693093600009427,
          0.8024371211717451,
          0.9101237911098846,
          0.9204724816365956,
          0.9432012023434037,
          0.1548307371912897,
          0.9078936817312934,
          0.9252639064696484,
          0.927137895969234,
          0.9059704522439956,
          0.9782325630776896,
          0.968164102585949,
          0.9765943448357728,
          0.9675221947465582,
          0.9194036999933334,
          0.960129473552481,
          0.0233359157092795,
          0.9164255337423972,
          0.9294740549888728,
          0.9171003271172968,
          0.96562427867954,
          0.9846985058848916,
          0.9846195519107648,
          0.9829173129713468,
          0.9739192619652648,
          0.9382709634633,
          0.966441068202558,
          0.1129189779233054,
          0.8155861457743893,
          0.9367543408141018,
          0.942165975833432,
          0.9801695795341108,
          0.987462866431396,
          0.9893937567451202,
          0.9856296627847668,
          0.9774502128134016,
          0.9374807651978284,
          0.9704681579820588,
          0.0148017847762163,
          0.9123125316457744,
          0.9376597619616618,
          0.9356384045639894,
          0.979121503871806,
          0.9877852133670516,
          0.9908674068585556,
          0.9854004674401812,
          0.97268031850805,
          0.9051074943492332,
          0.8546687278372459,
          0.9290442776331154,
          0.8774955690859477,
          0.922302764192414,
          0.9363133438350462,
          0.756343370361813,
          0.8637292081648625,
          0.7829921899682554,
          0.7825844713336105,
          0.9222155533173482,
          0.9416845934426826,
          0.9561650871938092,
          0.7442202344392118,
          0.8597954608650816,
          0.94648654616016,
          0.9454158621057182,
          0.9304533606559816,
          0.974636080256828,
          0.9194181114329104,
          0.9679162691094736,
          0.9649544279712562,
          0.9415821534674544,
          0.9735658915422946,
          0.8860188515835752,
          0.940445900375264,
          0.948105445296294,
          0.9472336150770152,
          0.9780853970324916,
          0.989686655331284,
          0.9677891268257778,
          0.9811957662476924,
          0.9837072440029296,
          0.9508300586621604,
          0.9685048019500498,
          0.8798602180280937,
          0.8722657830594782,
          0.9467465858736366,
          0.9504698727386076,
          0.9659810715464292,
          0.9884963038390304,
          0.980483674655108,
          0.98338215763024,
          0.96807529087484,
          0.9651997585438468,
          0.9810449307411258,
          0.9063707608760172,
          0.971537768047216,
          0.956456879273334,
          0.9661486993395764,
          0.983632966025974,
          0.98926284271023,
          0.9668687870194396,
          0.9857984088990522,
          0.9783272740274735,
          0.8312982001533678,
          0.8722728420524527,
          0.829695063040369,
          0.8406342135783023,
          0.8309411188207321,
          0.841023833917268,
          0.7778775843297491,
          0.8585838251621275,
          0.7949617557601407,
          0.7987051914357725,
          0.882028114008379,
          0.8436557010579204,
          0.8846467487931394,
          0.7451264660756782,
          0.8204970708214321,
          0.8441124650571038,
          0.8425790941573471,
          0.8758265165573759,
          0.8922800558966811,
          0.8809061523332892,
          0.8858771365722867,
          0.8843415993975435,
          0.826198051470922,
          0.8901192131831811,
          0.7826434531890997,
          0.7800827278024163,
          0.8264230003835993,
          0.8217385842031801,
          0.892017095352251,
          0.8790102964983919,
          0.8890530186711054,
          0.8845980608191879,
          0.8826632580479481,
          0.8413235857009678,
          0.8875677442600786,
          0.8162915683366737,
          0.8521035326511263,
          0.8417296812515158,
          0.8442114234105662,
          0.8885493896695482,
          0.8897166699822453,
          0.8919309462973486,
          0.8917600936482895,
          0.8841719588109822,
          0.8512917337777206,
          0.9005521381611025,
          0.8589253358095872,
          0.8455193594511856,
          0.8496819447716142,
          0.848325166687578,
          0.9028759315450782,
          0.8869449728800043,
          0.8958772332082982,
          0.8942775078108527,
          0.8835537549699489
         ],
         "y0": " ",
         "yaxis": "y"
        }
       ],
       "layout": {
        "boxmode": "group",
        "legend": {
         "tracegroupgap": 0
        },
        "template": {
         "data": {
          "bar": [
           {
            "error_x": {
             "color": "#2a3f5f"
            },
            "error_y": {
             "color": "#2a3f5f"
            },
            "marker": {
             "line": {
              "color": "#E5ECF6",
              "width": 0.5
             },
             "pattern": {
              "fillmode": "overlay",
              "size": 10,
              "solidity": 0.2
             }
            },
            "type": "bar"
           }
          ],
          "barpolar": [
           {
            "marker": {
             "line": {
              "color": "#E5ECF6",
              "width": 0.5
             },
             "pattern": {
              "fillmode": "overlay",
              "size": 10,
              "solidity": 0.2
             }
            },
            "type": "barpolar"
           }
          ],
          "carpet": [
           {
            "aaxis": {
             "endlinecolor": "#2a3f5f",
             "gridcolor": "white",
             "linecolor": "white",
             "minorgridcolor": "white",
             "startlinecolor": "#2a3f5f"
            },
            "baxis": {
             "endlinecolor": "#2a3f5f",
             "gridcolor": "white",
             "linecolor": "white",
             "minorgridcolor": "white",
             "startlinecolor": "#2a3f5f"
            },
            "type": "carpet"
           }
          ],
          "choropleth": [
           {
            "colorbar": {
             "outlinewidth": 0,
             "ticks": ""
            },
            "type": "choropleth"
           }
          ],
          "contour": [
           {
            "colorbar": {
             "outlinewidth": 0,
             "ticks": ""
            },
            "colorscale": [
             [
              0,
              "#0d0887"
             ],
             [
              0.1111111111111111,
              "#46039f"
             ],
             [
              0.2222222222222222,
              "#7201a8"
             ],
             [
              0.3333333333333333,
              "#9c179e"
             ],
             [
              0.4444444444444444,
              "#bd3786"
             ],
             [
              0.5555555555555556,
              "#d8576b"
             ],
             [
              0.6666666666666666,
              "#ed7953"
             ],
             [
              0.7777777777777778,
              "#fb9f3a"
             ],
             [
              0.8888888888888888,
              "#fdca26"
             ],
             [
              1,
              "#f0f921"
             ]
            ],
            "type": "contour"
           }
          ],
          "contourcarpet": [
           {
            "colorbar": {
             "outlinewidth": 0,
             "ticks": ""
            },
            "type": "contourcarpet"
           }
          ],
          "heatmap": [
           {
            "colorbar": {
             "outlinewidth": 0,
             "ticks": ""
            },
            "colorscale": [
             [
              0,
              "#0d0887"
             ],
             [
              0.1111111111111111,
              "#46039f"
             ],
             [
              0.2222222222222222,
              "#7201a8"
             ],
             [
              0.3333333333333333,
              "#9c179e"
             ],
             [
              0.4444444444444444,
              "#bd3786"
             ],
             [
              0.5555555555555556,
              "#d8576b"
             ],
             [
              0.6666666666666666,
              "#ed7953"
             ],
             [
              0.7777777777777778,
              "#fb9f3a"
             ],
             [
              0.8888888888888888,
              "#fdca26"
             ],
             [
              1,
              "#f0f921"
             ]
            ],
            "type": "heatmap"
           }
          ],
          "heatmapgl": [
           {
            "colorbar": {
             "outlinewidth": 0,
             "ticks": ""
            },
            "colorscale": [
             [
              0,
              "#0d0887"
             ],
             [
              0.1111111111111111,
              "#46039f"
             ],
             [
              0.2222222222222222,
              "#7201a8"
             ],
             [
              0.3333333333333333,
              "#9c179e"
             ],
             [
              0.4444444444444444,
              "#bd3786"
             ],
             [
              0.5555555555555556,
              "#d8576b"
             ],
             [
              0.6666666666666666,
              "#ed7953"
             ],
             [
              0.7777777777777778,
              "#fb9f3a"
             ],
             [
              0.8888888888888888,
              "#fdca26"
             ],
             [
              1,
              "#f0f921"
             ]
            ],
            "type": "heatmapgl"
           }
          ],
          "histogram": [
           {
            "marker": {
             "pattern": {
              "fillmode": "overlay",
              "size": 10,
              "solidity": 0.2
             }
            },
            "type": "histogram"
           }
          ],
          "histogram2d": [
           {
            "colorbar": {
             "outlinewidth": 0,
             "ticks": ""
            },
            "colorscale": [
             [
              0,
              "#0d0887"
             ],
             [
              0.1111111111111111,
              "#46039f"
             ],
             [
              0.2222222222222222,
              "#7201a8"
             ],
             [
              0.3333333333333333,
              "#9c179e"
             ],
             [
              0.4444444444444444,
              "#bd3786"
             ],
             [
              0.5555555555555556,
              "#d8576b"
             ],
             [
              0.6666666666666666,
              "#ed7953"
             ],
             [
              0.7777777777777778,
              "#fb9f3a"
             ],
             [
              0.8888888888888888,
              "#fdca26"
             ],
             [
              1,
              "#f0f921"
             ]
            ],
            "type": "histogram2d"
           }
          ],
          "histogram2dcontour": [
           {
            "colorbar": {
             "outlinewidth": 0,
             "ticks": ""
            },
            "colorscale": [
             [
              0,
              "#0d0887"
             ],
             [
              0.1111111111111111,
              "#46039f"
             ],
             [
              0.2222222222222222,
              "#7201a8"
             ],
             [
              0.3333333333333333,
              "#9c179e"
             ],
             [
              0.4444444444444444,
              "#bd3786"
             ],
             [
              0.5555555555555556,
              "#d8576b"
             ],
             [
              0.6666666666666666,
              "#ed7953"
             ],
             [
              0.7777777777777778,
              "#fb9f3a"
             ],
             [
              0.8888888888888888,
              "#fdca26"
             ],
             [
              1,
              "#f0f921"
             ]
            ],
            "type": "histogram2dcontour"
           }
          ],
          "mesh3d": [
           {
            "colorbar": {
             "outlinewidth": 0,
             "ticks": ""
            },
            "type": "mesh3d"
           }
          ],
          "parcoords": [
           {
            "line": {
             "colorbar": {
              "outlinewidth": 0,
              "ticks": ""
             }
            },
            "type": "parcoords"
           }
          ],
          "pie": [
           {
            "automargin": true,
            "type": "pie"
           }
          ],
          "scatter": [
           {
            "fillpattern": {
             "fillmode": "overlay",
             "size": 10,
             "solidity": 0.2
            },
            "type": "scatter"
           }
          ],
          "scatter3d": [
           {
            "line": {
             "colorbar": {
              "outlinewidth": 0,
              "ticks": ""
             }
            },
            "marker": {
             "colorbar": {
              "outlinewidth": 0,
              "ticks": ""
             }
            },
            "type": "scatter3d"
           }
          ],
          "scattercarpet": [
           {
            "marker": {
             "colorbar": {
              "outlinewidth": 0,
              "ticks": ""
             }
            },
            "type": "scattercarpet"
           }
          ],
          "scattergeo": [
           {
            "marker": {
             "colorbar": {
              "outlinewidth": 0,
              "ticks": ""
             }
            },
            "type": "scattergeo"
           }
          ],
          "scattergl": [
           {
            "marker": {
             "colorbar": {
              "outlinewidth": 0,
              "ticks": ""
             }
            },
            "type": "scattergl"
           }
          ],
          "scattermapbox": [
           {
            "marker": {
             "colorbar": {
              "outlinewidth": 0,
              "ticks": ""
             }
            },
            "type": "scattermapbox"
           }
          ],
          "scatterpolar": [
           {
            "marker": {
             "colorbar": {
              "outlinewidth": 0,
              "ticks": ""
             }
            },
            "type": "scatterpolar"
           }
          ],
          "scatterpolargl": [
           {
            "marker": {
             "colorbar": {
              "outlinewidth": 0,
              "ticks": ""
             }
            },
            "type": "scatterpolargl"
           }
          ],
          "scatterternary": [
           {
            "marker": {
             "colorbar": {
              "outlinewidth": 0,
              "ticks": ""
             }
            },
            "type": "scatterternary"
           }
          ],
          "surface": [
           {
            "colorbar": {
             "outlinewidth": 0,
             "ticks": ""
            },
            "colorscale": [
             [
              0,
              "#0d0887"
             ],
             [
              0.1111111111111111,
              "#46039f"
             ],
             [
              0.2222222222222222,
              "#7201a8"
             ],
             [
              0.3333333333333333,
              "#9c179e"
             ],
             [
              0.4444444444444444,
              "#bd3786"
             ],
             [
              0.5555555555555556,
              "#d8576b"
             ],
             [
              0.6666666666666666,
              "#ed7953"
             ],
             [
              0.7777777777777778,
              "#fb9f3a"
             ],
             [
              0.8888888888888888,
              "#fdca26"
             ],
             [
              1,
              "#f0f921"
             ]
            ],
            "type": "surface"
           }
          ],
          "table": [
           {
            "cells": {
             "fill": {
              "color": "#EBF0F8"
             },
             "line": {
              "color": "white"
             }
            },
            "header": {
             "fill": {
              "color": "#C8D4E3"
             },
             "line": {
              "color": "white"
             }
            },
            "type": "table"
           }
          ]
         },
         "layout": {
          "annotationdefaults": {
           "arrowcolor": "#2a3f5f",
           "arrowhead": 0,
           "arrowwidth": 1
          },
          "autotypenumbers": "strict",
          "coloraxis": {
           "colorbar": {
            "outlinewidth": 0,
            "ticks": ""
           }
          },
          "colorscale": {
           "diverging": [
            [
             0,
             "#8e0152"
            ],
            [
             0.1,
             "#c51b7d"
            ],
            [
             0.2,
             "#de77ae"
            ],
            [
             0.3,
             "#f1b6da"
            ],
            [
             0.4,
             "#fde0ef"
            ],
            [
             0.5,
             "#f7f7f7"
            ],
            [
             0.6,
             "#e6f5d0"
            ],
            [
             0.7,
             "#b8e186"
            ],
            [
             0.8,
             "#7fbc41"
            ],
            [
             0.9,
             "#4d9221"
            ],
            [
             1,
             "#276419"
            ]
           ],
           "sequential": [
            [
             0,
             "#0d0887"
            ],
            [
             0.1111111111111111,
             "#46039f"
            ],
            [
             0.2222222222222222,
             "#7201a8"
            ],
            [
             0.3333333333333333,
             "#9c179e"
            ],
            [
             0.4444444444444444,
             "#bd3786"
            ],
            [
             0.5555555555555556,
             "#d8576b"
            ],
            [
             0.6666666666666666,
             "#ed7953"
            ],
            [
             0.7777777777777778,
             "#fb9f3a"
            ],
            [
             0.8888888888888888,
             "#fdca26"
            ],
            [
             1,
             "#f0f921"
            ]
           ],
           "sequentialminus": [
            [
             0,
             "#0d0887"
            ],
            [
             0.1111111111111111,
             "#46039f"
            ],
            [
             0.2222222222222222,
             "#7201a8"
            ],
            [
             0.3333333333333333,
             "#9c179e"
            ],
            [
             0.4444444444444444,
             "#bd3786"
            ],
            [
             0.5555555555555556,
             "#d8576b"
            ],
            [
             0.6666666666666666,
             "#ed7953"
            ],
            [
             0.7777777777777778,
             "#fb9f3a"
            ],
            [
             0.8888888888888888,
             "#fdca26"
            ],
            [
             1,
             "#f0f921"
            ]
           ]
          },
          "colorway": [
           "#636efa",
           "#EF553B",
           "#00cc96",
           "#ab63fa",
           "#FFA15A",
           "#19d3f3",
           "#FF6692",
           "#B6E880",
           "#FF97FF",
           "#FECB52"
          ],
          "font": {
           "color": "#2a3f5f"
          },
          "geo": {
           "bgcolor": "white",
           "lakecolor": "white",
           "landcolor": "#E5ECF6",
           "showlakes": true,
           "showland": true,
           "subunitcolor": "white"
          },
          "hoverlabel": {
           "align": "left"
          },
          "hovermode": "closest",
          "mapbox": {
           "style": "light"
          },
          "paper_bgcolor": "white",
          "plot_bgcolor": "#E5ECF6",
          "polar": {
           "angularaxis": {
            "gridcolor": "white",
            "linecolor": "white",
            "ticks": ""
           },
           "bgcolor": "#E5ECF6",
           "radialaxis": {
            "gridcolor": "white",
            "linecolor": "white",
            "ticks": ""
           }
          },
          "scene": {
           "xaxis": {
            "backgroundcolor": "#E5ECF6",
            "gridcolor": "white",
            "gridwidth": 2,
            "linecolor": "white",
            "showbackground": true,
            "ticks": "",
            "zerolinecolor": "white"
           },
           "yaxis": {
            "backgroundcolor": "#E5ECF6",
            "gridcolor": "white",
            "gridwidth": 2,
            "linecolor": "white",
            "showbackground": true,
            "ticks": "",
            "zerolinecolor": "white"
           },
           "zaxis": {
            "backgroundcolor": "#E5ECF6",
            "gridcolor": "white",
            "gridwidth": 2,
            "linecolor": "white",
            "showbackground": true,
            "ticks": "",
            "zerolinecolor": "white"
           }
          },
          "shapedefaults": {
           "line": {
            "color": "#2a3f5f"
           }
          },
          "ternary": {
           "aaxis": {
            "gridcolor": "white",
            "linecolor": "white",
            "ticks": ""
           },
           "baxis": {
            "gridcolor": "white",
            "linecolor": "white",
            "ticks": ""
           },
           "bgcolor": "#E5ECF6",
           "caxis": {
            "gridcolor": "white",
            "linecolor": "white",
            "ticks": ""
           }
          },
          "title": {
           "x": 0.05
          },
          "xaxis": {
           "automargin": true,
           "gridcolor": "white",
           "linecolor": "white",
           "ticks": "",
           "title": {
            "standoff": 15
           },
           "zerolinecolor": "white",
           "zerolinewidth": 2
          },
          "yaxis": {
           "automargin": true,
           "gridcolor": "white",
           "linecolor": "white",
           "ticks": "",
           "title": {
            "standoff": 15
           },
           "zerolinecolor": "white",
           "zerolinewidth": 2
          }
         }
        },
        "title": {
         "text": "Boxplot da F1-Score Balanceada do classificador"
        },
        "xaxis": {
         "anchor": "y",
         "domain": [
          0,
          1
         ],
         "title": {
          "text": "Nome"
         }
        },
        "yaxis": {
         "anchor": "x",
         "domain": [
          0,
          1
         ],
         "range": [
          0,
          1
         ],
         "title": {
          "text": "F1-score Balanceada"
         }
        }
       }
      }
     },
     "metadata": {},
     "output_type": "display_data"
    }
   ],
   "source": [
    "# Criar boxplot da acurácia por modelo\n",
    "fig = px.box(df1, x='Nome', y='F1-score Balanceada', points='all', title='Boxplot da F1-Score Balanceada do classificador')\n",
    "fig.update_yaxes(range=[0, 1])\n",
    "fig.show()"
   ]
  }
 ],
 "metadata": {
  "kernelspec": {
   "display_name": "Python 3",
   "language": "python",
   "name": "python3"
  },
  "language_info": {
   "codemirror_mode": {
    "name": "ipython",
    "version": 3
   },
   "file_extension": ".py",
   "mimetype": "text/x-python",
   "name": "python",
   "nbconvert_exporter": "python",
   "pygments_lexer": "ipython3",
   "version": "3.8.10"
  },
  "orig_nbformat": 4
 },
 "nbformat": 4,
 "nbformat_minor": 2
}
